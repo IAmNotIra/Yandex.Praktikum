{
 "cells": [
  {
   "cell_type": "markdown",
   "metadata": {},
   "source": [
    "# Восстановление золота из руды"
   ]
  },
  {
   "cell_type": "markdown",
   "metadata": {},
   "source": [
    "Подготовьте прототип модели машинного обучения для «Цифры». Компания разрабатывает решения для эффективной работы промышленных предприятий.\n",
    "\n",
    "Модель должна предсказать коэффициент восстановления золота из золотосодержащей руды. Используйте данные с параметрами добычи и очистки. \n",
    "\n",
    "Модель поможет оптимизировать производство, чтобы не запускать предприятие с убыточными характеристиками.\n",
    "\n",
    "Вам нужно:\n",
    "\n",
    "1. Подготовить данные;\n",
    "2. Провести исследовательский анализ данных;\n",
    "3. Построить и обучить модель.\n",
    "\n",
    "Чтобы выполнить проект, обращайтесь к библиотекам *pandas*, *matplotlib* и *sklearn.* Вам поможет их документация."
   ]
  },
  {
   "cell_type": "markdown",
   "metadata": {},
   "source": [
    "**План работы**\n",
    "1. Подготовим данные. \n",
    "* Откроем и изучим их.  \n",
    "* Проверим, что эффективность обогащения на обучающей выборке рассчитана правильно. Вычислим её на обучающей выборке для признака rougher.output.recovery. Найдём MAE между нашими расчётами и значением признака. Сформулируем выводы.  \n",
    "* Проанализируем признаки, недоступные в тестовой выборке. Что это за параметры? К какому типу относятся?\n",
    "* Проведём предобработку данных.\n",
    "2. Проанализируем данные.\n",
    "* Посмотрим, как меняется концентрация металлов (Au, Ag, Pb) на различных этапах очистки. Сформулируем выводы.\n",
    "* Сравним распределения размеров гранул сырья на обучающей и тестовой выборках.\n",
    "* Исследуем суммарную концентрацию всех веществ на разных стадиях: в сырье, в черновом и финальном концентратах. \n",
    "3. Построим модель.\n",
    "* Напишем функцию для вычисления итоговой sMAPE.\n",
    "* Обучим модели и оценим их качество. Выберем лучшую модель и проверим её на тестовой выборке. Сформулируем выводы."
   ]
  },
  {
   "cell_type": "markdown",
   "metadata": {},
   "source": [
    "## Подготовка данных"
   ]
  },
  {
   "cell_type": "code",
   "execution_count": 1,
   "metadata": {},
   "outputs": [],
   "source": [
    "import pandas as pd\n",
    "import math\n",
    "import numpy as np\n",
    "import seaborn as sns\n",
    "import matplotlib.pyplot as plt\n",
    "from numpy.random import RandomState\n",
    "from sklearn.model_selection import train_test_split\n",
    "from sklearn.tree import DecisionTreeRegressor\n",
    "from sklearn.ensemble import RandomForestRegressor\n",
    "from sklearn.linear_model import LinearRegression\n",
    "from sklearn.linear_model import SGDRegressor\n",
    "from sklearn.svm import LinearSVR\n",
    "from sklearn.preprocessing import StandardScaler\n",
    "from sklearn.metrics import mean_squared_error, r2_score, mean_absolute_error\n",
    "from sklearn.model_selection import GridSearchCV\n",
    "from sklearn.metrics import make_scorer\n",
    "import warnings\n",
    "warnings.filterwarnings(\"ignore\")\n",
    "pd.set_option('display.max_columns', None)\n",
    "pd.set_option('display.max_rows', None)\n",
    "from catboost import CatBoostRegressor\n",
    "from sklearn.dummy import DummyRegressor"
   ]
  },
  {
   "cell_type": "markdown",
   "metadata": {},
   "source": [
    "### Откроем и изучим данные"
   ]
  },
  {
   "cell_type": "code",
   "execution_count": 2,
   "metadata": {},
   "outputs": [],
   "source": [
    "df_train = pd.read_csv('/datasets/gold_recovery_train.csv')\n",
    "df_test = pd.read_csv('/datasets/gold_recovery_test.csv')\n",
    "df_full = pd.read_csv('/datasets/gold_recovery_full.csv')\n"
   ]
  },
  {
   "cell_type": "code",
   "execution_count": 3,
   "metadata": {},
   "outputs": [
    {
     "name": "stdout",
     "output_type": "stream",
     "text": [
      "Размер датасета train: (16860, 87)\n",
      "Размер датасета test: (5856, 53)\n",
      "Размер датасета full: (22716, 87)\n"
     ]
    }
   ],
   "source": [
    "print('Размер датасета train:', df_train.shape)\n",
    "print('Размер датасета test:', df_test.shape)\n",
    "print('Размер датасета full:', df_full.shape)"
   ]
  },
  {
   "cell_type": "code",
   "execution_count": 4,
   "metadata": {},
   "outputs": [
    {
     "data": {
      "text/html": [
       "<div>\n",
       "<style scoped>\n",
       "    .dataframe tbody tr th:only-of-type {\n",
       "        vertical-align: middle;\n",
       "    }\n",
       "\n",
       "    .dataframe tbody tr th {\n",
       "        vertical-align: top;\n",
       "    }\n",
       "\n",
       "    .dataframe thead th {\n",
       "        text-align: right;\n",
       "    }\n",
       "</style>\n",
       "<table border=\"1\" class=\"dataframe\">\n",
       "  <thead>\n",
       "    <tr style=\"text-align: right;\">\n",
       "      <th></th>\n",
       "      <th>date</th>\n",
       "      <th>final.output.concentrate_ag</th>\n",
       "      <th>final.output.concentrate_pb</th>\n",
       "      <th>final.output.concentrate_sol</th>\n",
       "      <th>final.output.concentrate_au</th>\n",
       "      <th>final.output.recovery</th>\n",
       "      <th>final.output.tail_ag</th>\n",
       "      <th>final.output.tail_pb</th>\n",
       "      <th>final.output.tail_sol</th>\n",
       "      <th>final.output.tail_au</th>\n",
       "      <th>primary_cleaner.input.sulfate</th>\n",
       "      <th>primary_cleaner.input.depressant</th>\n",
       "      <th>primary_cleaner.input.feed_size</th>\n",
       "      <th>primary_cleaner.input.xanthate</th>\n",
       "      <th>primary_cleaner.output.concentrate_ag</th>\n",
       "      <th>primary_cleaner.output.concentrate_pb</th>\n",
       "      <th>primary_cleaner.output.concentrate_sol</th>\n",
       "      <th>primary_cleaner.output.concentrate_au</th>\n",
       "      <th>primary_cleaner.output.tail_ag</th>\n",
       "      <th>primary_cleaner.output.tail_pb</th>\n",
       "      <th>primary_cleaner.output.tail_sol</th>\n",
       "      <th>primary_cleaner.output.tail_au</th>\n",
       "      <th>primary_cleaner.state.floatbank8_a_air</th>\n",
       "      <th>primary_cleaner.state.floatbank8_a_level</th>\n",
       "      <th>primary_cleaner.state.floatbank8_b_air</th>\n",
       "      <th>primary_cleaner.state.floatbank8_b_level</th>\n",
       "      <th>primary_cleaner.state.floatbank8_c_air</th>\n",
       "      <th>primary_cleaner.state.floatbank8_c_level</th>\n",
       "      <th>primary_cleaner.state.floatbank8_d_air</th>\n",
       "      <th>primary_cleaner.state.floatbank8_d_level</th>\n",
       "      <th>rougher.calculation.sulfate_to_au_concentrate</th>\n",
       "      <th>rougher.calculation.floatbank10_sulfate_to_au_feed</th>\n",
       "      <th>rougher.calculation.floatbank11_sulfate_to_au_feed</th>\n",
       "      <th>rougher.calculation.au_pb_ratio</th>\n",
       "      <th>rougher.input.feed_ag</th>\n",
       "      <th>rougher.input.feed_pb</th>\n",
       "      <th>rougher.input.feed_rate</th>\n",
       "      <th>rougher.input.feed_size</th>\n",
       "      <th>rougher.input.feed_sol</th>\n",
       "      <th>rougher.input.feed_au</th>\n",
       "      <th>rougher.input.floatbank10_sulfate</th>\n",
       "      <th>rougher.input.floatbank10_xanthate</th>\n",
       "      <th>rougher.input.floatbank11_sulfate</th>\n",
       "      <th>rougher.input.floatbank11_xanthate</th>\n",
       "      <th>rougher.output.concentrate_ag</th>\n",
       "      <th>rougher.output.concentrate_pb</th>\n",
       "      <th>rougher.output.concentrate_sol</th>\n",
       "      <th>rougher.output.concentrate_au</th>\n",
       "      <th>rougher.output.recovery</th>\n",
       "      <th>rougher.output.tail_ag</th>\n",
       "      <th>rougher.output.tail_pb</th>\n",
       "      <th>rougher.output.tail_sol</th>\n",
       "      <th>rougher.output.tail_au</th>\n",
       "      <th>rougher.state.floatbank10_a_air</th>\n",
       "      <th>rougher.state.floatbank10_a_level</th>\n",
       "      <th>rougher.state.floatbank10_b_air</th>\n",
       "      <th>rougher.state.floatbank10_b_level</th>\n",
       "      <th>rougher.state.floatbank10_c_air</th>\n",
       "      <th>rougher.state.floatbank10_c_level</th>\n",
       "      <th>rougher.state.floatbank10_d_air</th>\n",
       "      <th>rougher.state.floatbank10_d_level</th>\n",
       "      <th>rougher.state.floatbank10_e_air</th>\n",
       "      <th>rougher.state.floatbank10_e_level</th>\n",
       "      <th>rougher.state.floatbank10_f_air</th>\n",
       "      <th>rougher.state.floatbank10_f_level</th>\n",
       "      <th>secondary_cleaner.output.tail_ag</th>\n",
       "      <th>secondary_cleaner.output.tail_pb</th>\n",
       "      <th>secondary_cleaner.output.tail_sol</th>\n",
       "      <th>secondary_cleaner.output.tail_au</th>\n",
       "      <th>secondary_cleaner.state.floatbank2_a_air</th>\n",
       "      <th>secondary_cleaner.state.floatbank2_a_level</th>\n",
       "      <th>secondary_cleaner.state.floatbank2_b_air</th>\n",
       "      <th>secondary_cleaner.state.floatbank2_b_level</th>\n",
       "      <th>secondary_cleaner.state.floatbank3_a_air</th>\n",
       "      <th>secondary_cleaner.state.floatbank3_a_level</th>\n",
       "      <th>secondary_cleaner.state.floatbank3_b_air</th>\n",
       "      <th>secondary_cleaner.state.floatbank3_b_level</th>\n",
       "      <th>secondary_cleaner.state.floatbank4_a_air</th>\n",
       "      <th>secondary_cleaner.state.floatbank4_a_level</th>\n",
       "      <th>secondary_cleaner.state.floatbank4_b_air</th>\n",
       "      <th>secondary_cleaner.state.floatbank4_b_level</th>\n",
       "      <th>secondary_cleaner.state.floatbank5_a_air</th>\n",
       "      <th>secondary_cleaner.state.floatbank5_a_level</th>\n",
       "      <th>secondary_cleaner.state.floatbank5_b_air</th>\n",
       "      <th>secondary_cleaner.state.floatbank5_b_level</th>\n",
       "      <th>secondary_cleaner.state.floatbank6_a_air</th>\n",
       "      <th>secondary_cleaner.state.floatbank6_a_level</th>\n",
       "    </tr>\n",
       "  </thead>\n",
       "  <tbody>\n",
       "    <tr>\n",
       "      <td>0</td>\n",
       "      <td>2016-01-15 00:00:00</td>\n",
       "      <td>6.055403</td>\n",
       "      <td>9.889648</td>\n",
       "      <td>5.507324</td>\n",
       "      <td>42.192020</td>\n",
       "      <td>70.541216</td>\n",
       "      <td>10.411962</td>\n",
       "      <td>0.895447</td>\n",
       "      <td>16.904297</td>\n",
       "      <td>2.143149</td>\n",
       "      <td>127.092003</td>\n",
       "      <td>10.128295</td>\n",
       "      <td>7.25</td>\n",
       "      <td>0.988759</td>\n",
       "      <td>8.547551</td>\n",
       "      <td>10.389648</td>\n",
       "      <td>19.529297</td>\n",
       "      <td>34.174427</td>\n",
       "      <td>14.936526</td>\n",
       "      <td>2.534912</td>\n",
       "      <td>7.476074</td>\n",
       "      <td>2.106679</td>\n",
       "      <td>1549.775757</td>\n",
       "      <td>-498.912140</td>\n",
       "      <td>1551.434204</td>\n",
       "      <td>-516.403442</td>\n",
       "      <td>1549.873901</td>\n",
       "      <td>-498.666595</td>\n",
       "      <td>1554.367432</td>\n",
       "      <td>-493.428131</td>\n",
       "      <td>41885.707031</td>\n",
       "      <td>3481.779053</td>\n",
       "      <td>3520.337158</td>\n",
       "      <td>2.838687</td>\n",
       "      <td>6.100378</td>\n",
       "      <td>2.284912</td>\n",
       "      <td>523.546326</td>\n",
       "      <td>55.486599</td>\n",
       "      <td>36.808594</td>\n",
       "      <td>6.486150</td>\n",
       "      <td>11.986616</td>\n",
       "      <td>6.007990</td>\n",
       "      <td>11.836743</td>\n",
       "      <td>6.005818</td>\n",
       "      <td>11.500771</td>\n",
       "      <td>7.101074</td>\n",
       "      <td>28.029297</td>\n",
       "      <td>19.793808</td>\n",
       "      <td>87.107763</td>\n",
       "      <td>5.008018</td>\n",
       "      <td>0.508728</td>\n",
       "      <td>19.154297</td>\n",
       "      <td>1.170244</td>\n",
       "      <td>999.706909</td>\n",
       "      <td>-404.066986</td>\n",
       "      <td>1603.011353</td>\n",
       "      <td>-434.715027</td>\n",
       "      <td>1602.375000</td>\n",
       "      <td>-442.204468</td>\n",
       "      <td>1598.937256</td>\n",
       "      <td>-451.294128</td>\n",
       "      <td>1404.472046</td>\n",
       "      <td>-455.462982</td>\n",
       "      <td>1416.354980</td>\n",
       "      <td>-451.939636</td>\n",
       "      <td>14.500184</td>\n",
       "      <td>4.694824</td>\n",
       "      <td>8.764648</td>\n",
       "      <td>2.606185</td>\n",
       "      <td>25.853109</td>\n",
       "      <td>-498.526489</td>\n",
       "      <td>23.893660</td>\n",
       "      <td>-501.406281</td>\n",
       "      <td>23.961798</td>\n",
       "      <td>-495.262817</td>\n",
       "      <td>21.940409</td>\n",
       "      <td>-499.340973</td>\n",
       "      <td>14.016835</td>\n",
       "      <td>-502.488007</td>\n",
       "      <td>12.099931</td>\n",
       "      <td>-504.715942</td>\n",
       "      <td>9.925633</td>\n",
       "      <td>-498.310211</td>\n",
       "      <td>8.079666</td>\n",
       "      <td>-500.470978</td>\n",
       "      <td>14.151341</td>\n",
       "      <td>-605.841980</td>\n",
       "    </tr>\n",
       "    <tr>\n",
       "      <td>1</td>\n",
       "      <td>2016-01-15 01:00:00</td>\n",
       "      <td>6.029369</td>\n",
       "      <td>9.968944</td>\n",
       "      <td>5.257781</td>\n",
       "      <td>42.701629</td>\n",
       "      <td>69.266198</td>\n",
       "      <td>10.462676</td>\n",
       "      <td>0.927452</td>\n",
       "      <td>16.634514</td>\n",
       "      <td>2.224930</td>\n",
       "      <td>125.629232</td>\n",
       "      <td>10.296251</td>\n",
       "      <td>7.25</td>\n",
       "      <td>1.002663</td>\n",
       "      <td>8.558743</td>\n",
       "      <td>10.497069</td>\n",
       "      <td>19.369147</td>\n",
       "      <td>34.118526</td>\n",
       "      <td>16.250511</td>\n",
       "      <td>3.049646</td>\n",
       "      <td>6.733907</td>\n",
       "      <td>2.353017</td>\n",
       "      <td>1576.166671</td>\n",
       "      <td>-500.904965</td>\n",
       "      <td>1575.950626</td>\n",
       "      <td>-499.865889</td>\n",
       "      <td>1575.994189</td>\n",
       "      <td>-499.315107</td>\n",
       "      <td>1574.479259</td>\n",
       "      <td>-498.931665</td>\n",
       "      <td>42050.861809</td>\n",
       "      <td>3498.370979</td>\n",
       "      <td>3489.981857</td>\n",
       "      <td>2.858998</td>\n",
       "      <td>6.161113</td>\n",
       "      <td>2.266033</td>\n",
       "      <td>525.290581</td>\n",
       "      <td>57.278666</td>\n",
       "      <td>35.753385</td>\n",
       "      <td>6.478583</td>\n",
       "      <td>11.971193</td>\n",
       "      <td>6.005766</td>\n",
       "      <td>11.996163</td>\n",
       "      <td>6.012594</td>\n",
       "      <td>11.615865</td>\n",
       "      <td>7.278807</td>\n",
       "      <td>28.067063</td>\n",
       "      <td>20.050975</td>\n",
       "      <td>86.843261</td>\n",
       "      <td>4.955378</td>\n",
       "      <td>0.536689</td>\n",
       "      <td>18.965234</td>\n",
       "      <td>1.184827</td>\n",
       "      <td>1000.286398</td>\n",
       "      <td>-400.065196</td>\n",
       "      <td>1600.754587</td>\n",
       "      <td>-449.953435</td>\n",
       "      <td>1600.479580</td>\n",
       "      <td>-449.830646</td>\n",
       "      <td>1600.527589</td>\n",
       "      <td>-449.953649</td>\n",
       "      <td>1399.227084</td>\n",
       "      <td>-450.869848</td>\n",
       "      <td>1399.719514</td>\n",
       "      <td>-450.119001</td>\n",
       "      <td>14.265474</td>\n",
       "      <td>4.592547</td>\n",
       "      <td>9.001494</td>\n",
       "      <td>2.488248</td>\n",
       "      <td>25.880539</td>\n",
       "      <td>-499.989656</td>\n",
       "      <td>23.889530</td>\n",
       "      <td>-500.372428</td>\n",
       "      <td>23.970550</td>\n",
       "      <td>-500.085473</td>\n",
       "      <td>22.085714</td>\n",
       "      <td>-499.446897</td>\n",
       "      <td>13.992281</td>\n",
       "      <td>-505.503262</td>\n",
       "      <td>11.950531</td>\n",
       "      <td>-501.331529</td>\n",
       "      <td>10.039245</td>\n",
       "      <td>-500.169983</td>\n",
       "      <td>7.984757</td>\n",
       "      <td>-500.582168</td>\n",
       "      <td>13.998353</td>\n",
       "      <td>-599.787184</td>\n",
       "    </tr>\n",
       "    <tr>\n",
       "      <td>2</td>\n",
       "      <td>2016-01-15 02:00:00</td>\n",
       "      <td>6.055926</td>\n",
       "      <td>10.213995</td>\n",
       "      <td>5.383759</td>\n",
       "      <td>42.657501</td>\n",
       "      <td>68.116445</td>\n",
       "      <td>10.507046</td>\n",
       "      <td>0.953716</td>\n",
       "      <td>16.208849</td>\n",
       "      <td>2.257889</td>\n",
       "      <td>123.819808</td>\n",
       "      <td>11.316280</td>\n",
       "      <td>7.25</td>\n",
       "      <td>0.991265</td>\n",
       "      <td>8.603505</td>\n",
       "      <td>10.354494</td>\n",
       "      <td>19.167579</td>\n",
       "      <td>33.969464</td>\n",
       "      <td>16.491823</td>\n",
       "      <td>3.124664</td>\n",
       "      <td>6.471768</td>\n",
       "      <td>2.416800</td>\n",
       "      <td>1601.556163</td>\n",
       "      <td>-499.997791</td>\n",
       "      <td>1600.386685</td>\n",
       "      <td>-500.607762</td>\n",
       "      <td>1602.003542</td>\n",
       "      <td>-500.870069</td>\n",
       "      <td>1599.541515</td>\n",
       "      <td>-499.827444</td>\n",
       "      <td>42018.101184</td>\n",
       "      <td>3495.348910</td>\n",
       "      <td>3502.359819</td>\n",
       "      <td>2.945989</td>\n",
       "      <td>6.116455</td>\n",
       "      <td>2.159622</td>\n",
       "      <td>530.026610</td>\n",
       "      <td>57.510649</td>\n",
       "      <td>35.971630</td>\n",
       "      <td>6.362222</td>\n",
       "      <td>11.920603</td>\n",
       "      <td>6.197377</td>\n",
       "      <td>11.920305</td>\n",
       "      <td>6.204633</td>\n",
       "      <td>11.695753</td>\n",
       "      <td>7.216833</td>\n",
       "      <td>27.454037</td>\n",
       "      <td>19.737170</td>\n",
       "      <td>86.842308</td>\n",
       "      <td>4.843460</td>\n",
       "      <td>0.546416</td>\n",
       "      <td>18.808533</td>\n",
       "      <td>1.162562</td>\n",
       "      <td>999.719565</td>\n",
       "      <td>-400.074028</td>\n",
       "      <td>1599.337330</td>\n",
       "      <td>-450.008530</td>\n",
       "      <td>1599.672797</td>\n",
       "      <td>-449.954491</td>\n",
       "      <td>1599.849325</td>\n",
       "      <td>-449.954185</td>\n",
       "      <td>1399.180945</td>\n",
       "      <td>-449.937588</td>\n",
       "      <td>1400.316682</td>\n",
       "      <td>-450.527147</td>\n",
       "      <td>14.115662</td>\n",
       "      <td>4.624775</td>\n",
       "      <td>8.842896</td>\n",
       "      <td>2.458187</td>\n",
       "      <td>26.005245</td>\n",
       "      <td>-499.929616</td>\n",
       "      <td>23.886657</td>\n",
       "      <td>-499.951928</td>\n",
       "      <td>23.913535</td>\n",
       "      <td>-499.442343</td>\n",
       "      <td>23.957717</td>\n",
       "      <td>-499.901982</td>\n",
       "      <td>14.015015</td>\n",
       "      <td>-502.520901</td>\n",
       "      <td>11.912783</td>\n",
       "      <td>-501.133383</td>\n",
       "      <td>10.070913</td>\n",
       "      <td>-500.129135</td>\n",
       "      <td>8.013877</td>\n",
       "      <td>-500.517572</td>\n",
       "      <td>14.028663</td>\n",
       "      <td>-601.427363</td>\n",
       "    </tr>\n",
       "  </tbody>\n",
       "</table>\n",
       "</div>"
      ],
      "text/plain": [
       "                  date  final.output.concentrate_ag  \\\n",
       "0  2016-01-15 00:00:00                     6.055403   \n",
       "1  2016-01-15 01:00:00                     6.029369   \n",
       "2  2016-01-15 02:00:00                     6.055926   \n",
       "\n",
       "   final.output.concentrate_pb  final.output.concentrate_sol  \\\n",
       "0                     9.889648                      5.507324   \n",
       "1                     9.968944                      5.257781   \n",
       "2                    10.213995                      5.383759   \n",
       "\n",
       "   final.output.concentrate_au  final.output.recovery  final.output.tail_ag  \\\n",
       "0                    42.192020              70.541216             10.411962   \n",
       "1                    42.701629              69.266198             10.462676   \n",
       "2                    42.657501              68.116445             10.507046   \n",
       "\n",
       "   final.output.tail_pb  final.output.tail_sol  final.output.tail_au  \\\n",
       "0              0.895447              16.904297              2.143149   \n",
       "1              0.927452              16.634514              2.224930   \n",
       "2              0.953716              16.208849              2.257889   \n",
       "\n",
       "   primary_cleaner.input.sulfate  primary_cleaner.input.depressant  \\\n",
       "0                     127.092003                         10.128295   \n",
       "1                     125.629232                         10.296251   \n",
       "2                     123.819808                         11.316280   \n",
       "\n",
       "   primary_cleaner.input.feed_size  primary_cleaner.input.xanthate  \\\n",
       "0                             7.25                        0.988759   \n",
       "1                             7.25                        1.002663   \n",
       "2                             7.25                        0.991265   \n",
       "\n",
       "   primary_cleaner.output.concentrate_ag  \\\n",
       "0                               8.547551   \n",
       "1                               8.558743   \n",
       "2                               8.603505   \n",
       "\n",
       "   primary_cleaner.output.concentrate_pb  \\\n",
       "0                              10.389648   \n",
       "1                              10.497069   \n",
       "2                              10.354494   \n",
       "\n",
       "   primary_cleaner.output.concentrate_sol  \\\n",
       "0                               19.529297   \n",
       "1                               19.369147   \n",
       "2                               19.167579   \n",
       "\n",
       "   primary_cleaner.output.concentrate_au  primary_cleaner.output.tail_ag  \\\n",
       "0                              34.174427                       14.936526   \n",
       "1                              34.118526                       16.250511   \n",
       "2                              33.969464                       16.491823   \n",
       "\n",
       "   primary_cleaner.output.tail_pb  primary_cleaner.output.tail_sol  \\\n",
       "0                        2.534912                         7.476074   \n",
       "1                        3.049646                         6.733907   \n",
       "2                        3.124664                         6.471768   \n",
       "\n",
       "   primary_cleaner.output.tail_au  primary_cleaner.state.floatbank8_a_air  \\\n",
       "0                        2.106679                             1549.775757   \n",
       "1                        2.353017                             1576.166671   \n",
       "2                        2.416800                             1601.556163   \n",
       "\n",
       "   primary_cleaner.state.floatbank8_a_level  \\\n",
       "0                               -498.912140   \n",
       "1                               -500.904965   \n",
       "2                               -499.997791   \n",
       "\n",
       "   primary_cleaner.state.floatbank8_b_air  \\\n",
       "0                             1551.434204   \n",
       "1                             1575.950626   \n",
       "2                             1600.386685   \n",
       "\n",
       "   primary_cleaner.state.floatbank8_b_level  \\\n",
       "0                               -516.403442   \n",
       "1                               -499.865889   \n",
       "2                               -500.607762   \n",
       "\n",
       "   primary_cleaner.state.floatbank8_c_air  \\\n",
       "0                             1549.873901   \n",
       "1                             1575.994189   \n",
       "2                             1602.003542   \n",
       "\n",
       "   primary_cleaner.state.floatbank8_c_level  \\\n",
       "0                               -498.666595   \n",
       "1                               -499.315107   \n",
       "2                               -500.870069   \n",
       "\n",
       "   primary_cleaner.state.floatbank8_d_air  \\\n",
       "0                             1554.367432   \n",
       "1                             1574.479259   \n",
       "2                             1599.541515   \n",
       "\n",
       "   primary_cleaner.state.floatbank8_d_level  \\\n",
       "0                               -493.428131   \n",
       "1                               -498.931665   \n",
       "2                               -499.827444   \n",
       "\n",
       "   rougher.calculation.sulfate_to_au_concentrate  \\\n",
       "0                                   41885.707031   \n",
       "1                                   42050.861809   \n",
       "2                                   42018.101184   \n",
       "\n",
       "   rougher.calculation.floatbank10_sulfate_to_au_feed  \\\n",
       "0                                        3481.779053    \n",
       "1                                        3498.370979    \n",
       "2                                        3495.348910    \n",
       "\n",
       "   rougher.calculation.floatbank11_sulfate_to_au_feed  \\\n",
       "0                                        3520.337158    \n",
       "1                                        3489.981857    \n",
       "2                                        3502.359819    \n",
       "\n",
       "   rougher.calculation.au_pb_ratio  rougher.input.feed_ag  \\\n",
       "0                         2.838687               6.100378   \n",
       "1                         2.858998               6.161113   \n",
       "2                         2.945989               6.116455   \n",
       "\n",
       "   rougher.input.feed_pb  rougher.input.feed_rate  rougher.input.feed_size  \\\n",
       "0               2.284912               523.546326                55.486599   \n",
       "1               2.266033               525.290581                57.278666   \n",
       "2               2.159622               530.026610                57.510649   \n",
       "\n",
       "   rougher.input.feed_sol  rougher.input.feed_au  \\\n",
       "0               36.808594               6.486150   \n",
       "1               35.753385               6.478583   \n",
       "2               35.971630               6.362222   \n",
       "\n",
       "   rougher.input.floatbank10_sulfate  rougher.input.floatbank10_xanthate  \\\n",
       "0                          11.986616                            6.007990   \n",
       "1                          11.971193                            6.005766   \n",
       "2                          11.920603                            6.197377   \n",
       "\n",
       "   rougher.input.floatbank11_sulfate  rougher.input.floatbank11_xanthate  \\\n",
       "0                          11.836743                            6.005818   \n",
       "1                          11.996163                            6.012594   \n",
       "2                          11.920305                            6.204633   \n",
       "\n",
       "   rougher.output.concentrate_ag  rougher.output.concentrate_pb  \\\n",
       "0                      11.500771                       7.101074   \n",
       "1                      11.615865                       7.278807   \n",
       "2                      11.695753                       7.216833   \n",
       "\n",
       "   rougher.output.concentrate_sol  rougher.output.concentrate_au  \\\n",
       "0                       28.029297                      19.793808   \n",
       "1                       28.067063                      20.050975   \n",
       "2                       27.454037                      19.737170   \n",
       "\n",
       "   rougher.output.recovery  rougher.output.tail_ag  rougher.output.tail_pb  \\\n",
       "0                87.107763                5.008018                0.508728   \n",
       "1                86.843261                4.955378                0.536689   \n",
       "2                86.842308                4.843460                0.546416   \n",
       "\n",
       "   rougher.output.tail_sol  rougher.output.tail_au  \\\n",
       "0                19.154297                1.170244   \n",
       "1                18.965234                1.184827   \n",
       "2                18.808533                1.162562   \n",
       "\n",
       "   rougher.state.floatbank10_a_air  rougher.state.floatbank10_a_level  \\\n",
       "0                       999.706909                        -404.066986   \n",
       "1                      1000.286398                        -400.065196   \n",
       "2                       999.719565                        -400.074028   \n",
       "\n",
       "   rougher.state.floatbank10_b_air  rougher.state.floatbank10_b_level  \\\n",
       "0                      1603.011353                        -434.715027   \n",
       "1                      1600.754587                        -449.953435   \n",
       "2                      1599.337330                        -450.008530   \n",
       "\n",
       "   rougher.state.floatbank10_c_air  rougher.state.floatbank10_c_level  \\\n",
       "0                      1602.375000                        -442.204468   \n",
       "1                      1600.479580                        -449.830646   \n",
       "2                      1599.672797                        -449.954491   \n",
       "\n",
       "   rougher.state.floatbank10_d_air  rougher.state.floatbank10_d_level  \\\n",
       "0                      1598.937256                        -451.294128   \n",
       "1                      1600.527589                        -449.953649   \n",
       "2                      1599.849325                        -449.954185   \n",
       "\n",
       "   rougher.state.floatbank10_e_air  rougher.state.floatbank10_e_level  \\\n",
       "0                      1404.472046                        -455.462982   \n",
       "1                      1399.227084                        -450.869848   \n",
       "2                      1399.180945                        -449.937588   \n",
       "\n",
       "   rougher.state.floatbank10_f_air  rougher.state.floatbank10_f_level  \\\n",
       "0                      1416.354980                        -451.939636   \n",
       "1                      1399.719514                        -450.119001   \n",
       "2                      1400.316682                        -450.527147   \n",
       "\n",
       "   secondary_cleaner.output.tail_ag  secondary_cleaner.output.tail_pb  \\\n",
       "0                         14.500184                          4.694824   \n",
       "1                         14.265474                          4.592547   \n",
       "2                         14.115662                          4.624775   \n",
       "\n",
       "   secondary_cleaner.output.tail_sol  secondary_cleaner.output.tail_au  \\\n",
       "0                           8.764648                          2.606185   \n",
       "1                           9.001494                          2.488248   \n",
       "2                           8.842896                          2.458187   \n",
       "\n",
       "   secondary_cleaner.state.floatbank2_a_air  \\\n",
       "0                                 25.853109   \n",
       "1                                 25.880539   \n",
       "2                                 26.005245   \n",
       "\n",
       "   secondary_cleaner.state.floatbank2_a_level  \\\n",
       "0                                 -498.526489   \n",
       "1                                 -499.989656   \n",
       "2                                 -499.929616   \n",
       "\n",
       "   secondary_cleaner.state.floatbank2_b_air  \\\n",
       "0                                 23.893660   \n",
       "1                                 23.889530   \n",
       "2                                 23.886657   \n",
       "\n",
       "   secondary_cleaner.state.floatbank2_b_level  \\\n",
       "0                                 -501.406281   \n",
       "1                                 -500.372428   \n",
       "2                                 -499.951928   \n",
       "\n",
       "   secondary_cleaner.state.floatbank3_a_air  \\\n",
       "0                                 23.961798   \n",
       "1                                 23.970550   \n",
       "2                                 23.913535   \n",
       "\n",
       "   secondary_cleaner.state.floatbank3_a_level  \\\n",
       "0                                 -495.262817   \n",
       "1                                 -500.085473   \n",
       "2                                 -499.442343   \n",
       "\n",
       "   secondary_cleaner.state.floatbank3_b_air  \\\n",
       "0                                 21.940409   \n",
       "1                                 22.085714   \n",
       "2                                 23.957717   \n",
       "\n",
       "   secondary_cleaner.state.floatbank3_b_level  \\\n",
       "0                                 -499.340973   \n",
       "1                                 -499.446897   \n",
       "2                                 -499.901982   \n",
       "\n",
       "   secondary_cleaner.state.floatbank4_a_air  \\\n",
       "0                                 14.016835   \n",
       "1                                 13.992281   \n",
       "2                                 14.015015   \n",
       "\n",
       "   secondary_cleaner.state.floatbank4_a_level  \\\n",
       "0                                 -502.488007   \n",
       "1                                 -505.503262   \n",
       "2                                 -502.520901   \n",
       "\n",
       "   secondary_cleaner.state.floatbank4_b_air  \\\n",
       "0                                 12.099931   \n",
       "1                                 11.950531   \n",
       "2                                 11.912783   \n",
       "\n",
       "   secondary_cleaner.state.floatbank4_b_level  \\\n",
       "0                                 -504.715942   \n",
       "1                                 -501.331529   \n",
       "2                                 -501.133383   \n",
       "\n",
       "   secondary_cleaner.state.floatbank5_a_air  \\\n",
       "0                                  9.925633   \n",
       "1                                 10.039245   \n",
       "2                                 10.070913   \n",
       "\n",
       "   secondary_cleaner.state.floatbank5_a_level  \\\n",
       "0                                 -498.310211   \n",
       "1                                 -500.169983   \n",
       "2                                 -500.129135   \n",
       "\n",
       "   secondary_cleaner.state.floatbank5_b_air  \\\n",
       "0                                  8.079666   \n",
       "1                                  7.984757   \n",
       "2                                  8.013877   \n",
       "\n",
       "   secondary_cleaner.state.floatbank5_b_level  \\\n",
       "0                                 -500.470978   \n",
       "1                                 -500.582168   \n",
       "2                                 -500.517572   \n",
       "\n",
       "   secondary_cleaner.state.floatbank6_a_air  \\\n",
       "0                                 14.151341   \n",
       "1                                 13.998353   \n",
       "2                                 14.028663   \n",
       "\n",
       "   secondary_cleaner.state.floatbank6_a_level  \n",
       "0                                 -605.841980  \n",
       "1                                 -599.787184  \n",
       "2                                 -601.427363  "
      ]
     },
     "metadata": {},
     "output_type": "display_data"
    },
    {
     "data": {
      "text/html": [
       "<div>\n",
       "<style scoped>\n",
       "    .dataframe tbody tr th:only-of-type {\n",
       "        vertical-align: middle;\n",
       "    }\n",
       "\n",
       "    .dataframe tbody tr th {\n",
       "        vertical-align: top;\n",
       "    }\n",
       "\n",
       "    .dataframe thead th {\n",
       "        text-align: right;\n",
       "    }\n",
       "</style>\n",
       "<table border=\"1\" class=\"dataframe\">\n",
       "  <thead>\n",
       "    <tr style=\"text-align: right;\">\n",
       "      <th></th>\n",
       "      <th>date</th>\n",
       "      <th>primary_cleaner.input.sulfate</th>\n",
       "      <th>primary_cleaner.input.depressant</th>\n",
       "      <th>primary_cleaner.input.feed_size</th>\n",
       "      <th>primary_cleaner.input.xanthate</th>\n",
       "      <th>primary_cleaner.state.floatbank8_a_air</th>\n",
       "      <th>primary_cleaner.state.floatbank8_a_level</th>\n",
       "      <th>primary_cleaner.state.floatbank8_b_air</th>\n",
       "      <th>primary_cleaner.state.floatbank8_b_level</th>\n",
       "      <th>primary_cleaner.state.floatbank8_c_air</th>\n",
       "      <th>primary_cleaner.state.floatbank8_c_level</th>\n",
       "      <th>primary_cleaner.state.floatbank8_d_air</th>\n",
       "      <th>primary_cleaner.state.floatbank8_d_level</th>\n",
       "      <th>rougher.input.feed_ag</th>\n",
       "      <th>rougher.input.feed_pb</th>\n",
       "      <th>rougher.input.feed_rate</th>\n",
       "      <th>rougher.input.feed_size</th>\n",
       "      <th>rougher.input.feed_sol</th>\n",
       "      <th>rougher.input.feed_au</th>\n",
       "      <th>rougher.input.floatbank10_sulfate</th>\n",
       "      <th>rougher.input.floatbank10_xanthate</th>\n",
       "      <th>rougher.input.floatbank11_sulfate</th>\n",
       "      <th>rougher.input.floatbank11_xanthate</th>\n",
       "      <th>rougher.state.floatbank10_a_air</th>\n",
       "      <th>rougher.state.floatbank10_a_level</th>\n",
       "      <th>rougher.state.floatbank10_b_air</th>\n",
       "      <th>rougher.state.floatbank10_b_level</th>\n",
       "      <th>rougher.state.floatbank10_c_air</th>\n",
       "      <th>rougher.state.floatbank10_c_level</th>\n",
       "      <th>rougher.state.floatbank10_d_air</th>\n",
       "      <th>rougher.state.floatbank10_d_level</th>\n",
       "      <th>rougher.state.floatbank10_e_air</th>\n",
       "      <th>rougher.state.floatbank10_e_level</th>\n",
       "      <th>rougher.state.floatbank10_f_air</th>\n",
       "      <th>rougher.state.floatbank10_f_level</th>\n",
       "      <th>secondary_cleaner.state.floatbank2_a_air</th>\n",
       "      <th>secondary_cleaner.state.floatbank2_a_level</th>\n",
       "      <th>secondary_cleaner.state.floatbank2_b_air</th>\n",
       "      <th>secondary_cleaner.state.floatbank2_b_level</th>\n",
       "      <th>secondary_cleaner.state.floatbank3_a_air</th>\n",
       "      <th>secondary_cleaner.state.floatbank3_a_level</th>\n",
       "      <th>secondary_cleaner.state.floatbank3_b_air</th>\n",
       "      <th>secondary_cleaner.state.floatbank3_b_level</th>\n",
       "      <th>secondary_cleaner.state.floatbank4_a_air</th>\n",
       "      <th>secondary_cleaner.state.floatbank4_a_level</th>\n",
       "      <th>secondary_cleaner.state.floatbank4_b_air</th>\n",
       "      <th>secondary_cleaner.state.floatbank4_b_level</th>\n",
       "      <th>secondary_cleaner.state.floatbank5_a_air</th>\n",
       "      <th>secondary_cleaner.state.floatbank5_a_level</th>\n",
       "      <th>secondary_cleaner.state.floatbank5_b_air</th>\n",
       "      <th>secondary_cleaner.state.floatbank5_b_level</th>\n",
       "      <th>secondary_cleaner.state.floatbank6_a_air</th>\n",
       "      <th>secondary_cleaner.state.floatbank6_a_level</th>\n",
       "    </tr>\n",
       "  </thead>\n",
       "  <tbody>\n",
       "    <tr>\n",
       "      <td>0</td>\n",
       "      <td>2016-09-01 00:59:59</td>\n",
       "      <td>210.800909</td>\n",
       "      <td>14.993118</td>\n",
       "      <td>8.080000</td>\n",
       "      <td>1.005021</td>\n",
       "      <td>1398.981301</td>\n",
       "      <td>-500.225577</td>\n",
       "      <td>1399.144926</td>\n",
       "      <td>-499.919735</td>\n",
       "      <td>1400.102998</td>\n",
       "      <td>-500.704369</td>\n",
       "      <td>1399.001695</td>\n",
       "      <td>-499.485144</td>\n",
       "      <td>13.128569</td>\n",
       "      <td>5.636710</td>\n",
       "      <td>489.793655</td>\n",
       "      <td>62.710452</td>\n",
       "      <td>42.022440</td>\n",
       "      <td>12.084103</td>\n",
       "      <td>16.922877</td>\n",
       "      <td>6.153479</td>\n",
       "      <td>16.867518</td>\n",
       "      <td>6.150709</td>\n",
       "      <td>1001.849317</td>\n",
       "      <td>-350.301265</td>\n",
       "      <td>1249.738612</td>\n",
       "      <td>-399.107531</td>\n",
       "      <td>1249.750520</td>\n",
       "      <td>-399.396730</td>\n",
       "      <td>1198.287855</td>\n",
       "      <td>-399.488594</td>\n",
       "      <td>999.472250</td>\n",
       "      <td>-399.530962</td>\n",
       "      <td>949.566189</td>\n",
       "      <td>-398.180807</td>\n",
       "      <td>24.938200</td>\n",
       "      <td>-500.490963</td>\n",
       "      <td>14.947607</td>\n",
       "      <td>-500.013837</td>\n",
       "      <td>20.018166</td>\n",
       "      <td>-450.395995</td>\n",
       "      <td>13.987058</td>\n",
       "      <td>-449.831513</td>\n",
       "      <td>12.023554</td>\n",
       "      <td>-497.795834</td>\n",
       "      <td>8.016656</td>\n",
       "      <td>-501.289139</td>\n",
       "      <td>7.946562</td>\n",
       "      <td>-432.317850</td>\n",
       "      <td>4.872511</td>\n",
       "      <td>-500.037437</td>\n",
       "      <td>26.705889</td>\n",
       "      <td>-499.709414</td>\n",
       "    </tr>\n",
       "    <tr>\n",
       "      <td>1</td>\n",
       "      <td>2016-09-01 01:59:59</td>\n",
       "      <td>215.392455</td>\n",
       "      <td>14.987471</td>\n",
       "      <td>8.080000</td>\n",
       "      <td>0.990469</td>\n",
       "      <td>1398.777912</td>\n",
       "      <td>-500.057435</td>\n",
       "      <td>1398.055362</td>\n",
       "      <td>-499.778182</td>\n",
       "      <td>1396.151033</td>\n",
       "      <td>-499.240168</td>\n",
       "      <td>1399.508091</td>\n",
       "      <td>-500.416324</td>\n",
       "      <td>13.036280</td>\n",
       "      <td>5.526065</td>\n",
       "      <td>490.104534</td>\n",
       "      <td>61.961163</td>\n",
       "      <td>41.187903</td>\n",
       "      <td>11.918977</td>\n",
       "      <td>17.002532</td>\n",
       "      <td>5.999043</td>\n",
       "      <td>16.996063</td>\n",
       "      <td>6.002315</td>\n",
       "      <td>998.690785</td>\n",
       "      <td>-350.425704</td>\n",
       "      <td>1248.395457</td>\n",
       "      <td>-399.946025</td>\n",
       "      <td>1249.514451</td>\n",
       "      <td>-399.630810</td>\n",
       "      <td>1200.506459</td>\n",
       "      <td>-399.942434</td>\n",
       "      <td>1000.002114</td>\n",
       "      <td>-399.491528</td>\n",
       "      <td>950.200009</td>\n",
       "      <td>-405.787514</td>\n",
       "      <td>24.923466</td>\n",
       "      <td>-499.813963</td>\n",
       "      <td>14.930873</td>\n",
       "      <td>-500.764452</td>\n",
       "      <td>19.988503</td>\n",
       "      <td>-450.114024</td>\n",
       "      <td>14.092981</td>\n",
       "      <td>-450.059163</td>\n",
       "      <td>12.058140</td>\n",
       "      <td>-498.695773</td>\n",
       "      <td>8.130979</td>\n",
       "      <td>-499.634209</td>\n",
       "      <td>7.958270</td>\n",
       "      <td>-525.839648</td>\n",
       "      <td>4.878850</td>\n",
       "      <td>-500.162375</td>\n",
       "      <td>25.019940</td>\n",
       "      <td>-499.819438</td>\n",
       "    </tr>\n",
       "    <tr>\n",
       "      <td>2</td>\n",
       "      <td>2016-09-01 02:59:59</td>\n",
       "      <td>215.259946</td>\n",
       "      <td>12.884934</td>\n",
       "      <td>7.786667</td>\n",
       "      <td>0.996043</td>\n",
       "      <td>1398.493666</td>\n",
       "      <td>-500.868360</td>\n",
       "      <td>1398.860436</td>\n",
       "      <td>-499.764529</td>\n",
       "      <td>1398.075709</td>\n",
       "      <td>-502.151509</td>\n",
       "      <td>1399.497088</td>\n",
       "      <td>-499.715479</td>\n",
       "      <td>13.138412</td>\n",
       "      <td>5.426561</td>\n",
       "      <td>489.617969</td>\n",
       "      <td>66.903807</td>\n",
       "      <td>42.546294</td>\n",
       "      <td>12.091332</td>\n",
       "      <td>16.992520</td>\n",
       "      <td>5.850632</td>\n",
       "      <td>16.982096</td>\n",
       "      <td>5.853594</td>\n",
       "      <td>998.516720</td>\n",
       "      <td>-349.783538</td>\n",
       "      <td>1247.440748</td>\n",
       "      <td>-400.264330</td>\n",
       "      <td>1248.207204</td>\n",
       "      <td>-401.074405</td>\n",
       "      <td>1199.770026</td>\n",
       "      <td>-400.790582</td>\n",
       "      <td>999.925519</td>\n",
       "      <td>-399.236999</td>\n",
       "      <td>950.320481</td>\n",
       "      <td>-400.864340</td>\n",
       "      <td>24.908732</td>\n",
       "      <td>-500.304035</td>\n",
       "      <td>14.996511</td>\n",
       "      <td>-500.993821</td>\n",
       "      <td>20.039689</td>\n",
       "      <td>-450.263164</td>\n",
       "      <td>14.077881</td>\n",
       "      <td>-449.660997</td>\n",
       "      <td>11.962366</td>\n",
       "      <td>-498.767484</td>\n",
       "      <td>8.096893</td>\n",
       "      <td>-500.827423</td>\n",
       "      <td>8.071056</td>\n",
       "      <td>-500.801673</td>\n",
       "      <td>4.905125</td>\n",
       "      <td>-499.828510</td>\n",
       "      <td>24.994862</td>\n",
       "      <td>-500.622559</td>\n",
       "    </tr>\n",
       "  </tbody>\n",
       "</table>\n",
       "</div>"
      ],
      "text/plain": [
       "                  date  primary_cleaner.input.sulfate  \\\n",
       "0  2016-09-01 00:59:59                     210.800909   \n",
       "1  2016-09-01 01:59:59                     215.392455   \n",
       "2  2016-09-01 02:59:59                     215.259946   \n",
       "\n",
       "   primary_cleaner.input.depressant  primary_cleaner.input.feed_size  \\\n",
       "0                         14.993118                         8.080000   \n",
       "1                         14.987471                         8.080000   \n",
       "2                         12.884934                         7.786667   \n",
       "\n",
       "   primary_cleaner.input.xanthate  primary_cleaner.state.floatbank8_a_air  \\\n",
       "0                        1.005021                             1398.981301   \n",
       "1                        0.990469                             1398.777912   \n",
       "2                        0.996043                             1398.493666   \n",
       "\n",
       "   primary_cleaner.state.floatbank8_a_level  \\\n",
       "0                               -500.225577   \n",
       "1                               -500.057435   \n",
       "2                               -500.868360   \n",
       "\n",
       "   primary_cleaner.state.floatbank8_b_air  \\\n",
       "0                             1399.144926   \n",
       "1                             1398.055362   \n",
       "2                             1398.860436   \n",
       "\n",
       "   primary_cleaner.state.floatbank8_b_level  \\\n",
       "0                               -499.919735   \n",
       "1                               -499.778182   \n",
       "2                               -499.764529   \n",
       "\n",
       "   primary_cleaner.state.floatbank8_c_air  \\\n",
       "0                             1400.102998   \n",
       "1                             1396.151033   \n",
       "2                             1398.075709   \n",
       "\n",
       "   primary_cleaner.state.floatbank8_c_level  \\\n",
       "0                               -500.704369   \n",
       "1                               -499.240168   \n",
       "2                               -502.151509   \n",
       "\n",
       "   primary_cleaner.state.floatbank8_d_air  \\\n",
       "0                             1399.001695   \n",
       "1                             1399.508091   \n",
       "2                             1399.497088   \n",
       "\n",
       "   primary_cleaner.state.floatbank8_d_level  rougher.input.feed_ag  \\\n",
       "0                               -499.485144              13.128569   \n",
       "1                               -500.416324              13.036280   \n",
       "2                               -499.715479              13.138412   \n",
       "\n",
       "   rougher.input.feed_pb  rougher.input.feed_rate  rougher.input.feed_size  \\\n",
       "0               5.636710               489.793655                62.710452   \n",
       "1               5.526065               490.104534                61.961163   \n",
       "2               5.426561               489.617969                66.903807   \n",
       "\n",
       "   rougher.input.feed_sol  rougher.input.feed_au  \\\n",
       "0               42.022440              12.084103   \n",
       "1               41.187903              11.918977   \n",
       "2               42.546294              12.091332   \n",
       "\n",
       "   rougher.input.floatbank10_sulfate  rougher.input.floatbank10_xanthate  \\\n",
       "0                          16.922877                            6.153479   \n",
       "1                          17.002532                            5.999043   \n",
       "2                          16.992520                            5.850632   \n",
       "\n",
       "   rougher.input.floatbank11_sulfate  rougher.input.floatbank11_xanthate  \\\n",
       "0                          16.867518                            6.150709   \n",
       "1                          16.996063                            6.002315   \n",
       "2                          16.982096                            5.853594   \n",
       "\n",
       "   rougher.state.floatbank10_a_air  rougher.state.floatbank10_a_level  \\\n",
       "0                      1001.849317                        -350.301265   \n",
       "1                       998.690785                        -350.425704   \n",
       "2                       998.516720                        -349.783538   \n",
       "\n",
       "   rougher.state.floatbank10_b_air  rougher.state.floatbank10_b_level  \\\n",
       "0                      1249.738612                        -399.107531   \n",
       "1                      1248.395457                        -399.946025   \n",
       "2                      1247.440748                        -400.264330   \n",
       "\n",
       "   rougher.state.floatbank10_c_air  rougher.state.floatbank10_c_level  \\\n",
       "0                      1249.750520                        -399.396730   \n",
       "1                      1249.514451                        -399.630810   \n",
       "2                      1248.207204                        -401.074405   \n",
       "\n",
       "   rougher.state.floatbank10_d_air  rougher.state.floatbank10_d_level  \\\n",
       "0                      1198.287855                        -399.488594   \n",
       "1                      1200.506459                        -399.942434   \n",
       "2                      1199.770026                        -400.790582   \n",
       "\n",
       "   rougher.state.floatbank10_e_air  rougher.state.floatbank10_e_level  \\\n",
       "0                       999.472250                        -399.530962   \n",
       "1                      1000.002114                        -399.491528   \n",
       "2                       999.925519                        -399.236999   \n",
       "\n",
       "   rougher.state.floatbank10_f_air  rougher.state.floatbank10_f_level  \\\n",
       "0                       949.566189                        -398.180807   \n",
       "1                       950.200009                        -405.787514   \n",
       "2                       950.320481                        -400.864340   \n",
       "\n",
       "   secondary_cleaner.state.floatbank2_a_air  \\\n",
       "0                                 24.938200   \n",
       "1                                 24.923466   \n",
       "2                                 24.908732   \n",
       "\n",
       "   secondary_cleaner.state.floatbank2_a_level  \\\n",
       "0                                 -500.490963   \n",
       "1                                 -499.813963   \n",
       "2                                 -500.304035   \n",
       "\n",
       "   secondary_cleaner.state.floatbank2_b_air  \\\n",
       "0                                 14.947607   \n",
       "1                                 14.930873   \n",
       "2                                 14.996511   \n",
       "\n",
       "   secondary_cleaner.state.floatbank2_b_level  \\\n",
       "0                                 -500.013837   \n",
       "1                                 -500.764452   \n",
       "2                                 -500.993821   \n",
       "\n",
       "   secondary_cleaner.state.floatbank3_a_air  \\\n",
       "0                                 20.018166   \n",
       "1                                 19.988503   \n",
       "2                                 20.039689   \n",
       "\n",
       "   secondary_cleaner.state.floatbank3_a_level  \\\n",
       "0                                 -450.395995   \n",
       "1                                 -450.114024   \n",
       "2                                 -450.263164   \n",
       "\n",
       "   secondary_cleaner.state.floatbank3_b_air  \\\n",
       "0                                 13.987058   \n",
       "1                                 14.092981   \n",
       "2                                 14.077881   \n",
       "\n",
       "   secondary_cleaner.state.floatbank3_b_level  \\\n",
       "0                                 -449.831513   \n",
       "1                                 -450.059163   \n",
       "2                                 -449.660997   \n",
       "\n",
       "   secondary_cleaner.state.floatbank4_a_air  \\\n",
       "0                                 12.023554   \n",
       "1                                 12.058140   \n",
       "2                                 11.962366   \n",
       "\n",
       "   secondary_cleaner.state.floatbank4_a_level  \\\n",
       "0                                 -497.795834   \n",
       "1                                 -498.695773   \n",
       "2                                 -498.767484   \n",
       "\n",
       "   secondary_cleaner.state.floatbank4_b_air  \\\n",
       "0                                  8.016656   \n",
       "1                                  8.130979   \n",
       "2                                  8.096893   \n",
       "\n",
       "   secondary_cleaner.state.floatbank4_b_level  \\\n",
       "0                                 -501.289139   \n",
       "1                                 -499.634209   \n",
       "2                                 -500.827423   \n",
       "\n",
       "   secondary_cleaner.state.floatbank5_a_air  \\\n",
       "0                                  7.946562   \n",
       "1                                  7.958270   \n",
       "2                                  8.071056   \n",
       "\n",
       "   secondary_cleaner.state.floatbank5_a_level  \\\n",
       "0                                 -432.317850   \n",
       "1                                 -525.839648   \n",
       "2                                 -500.801673   \n",
       "\n",
       "   secondary_cleaner.state.floatbank5_b_air  \\\n",
       "0                                  4.872511   \n",
       "1                                  4.878850   \n",
       "2                                  4.905125   \n",
       "\n",
       "   secondary_cleaner.state.floatbank5_b_level  \\\n",
       "0                                 -500.037437   \n",
       "1                                 -500.162375   \n",
       "2                                 -499.828510   \n",
       "\n",
       "   secondary_cleaner.state.floatbank6_a_air  \\\n",
       "0                                 26.705889   \n",
       "1                                 25.019940   \n",
       "2                                 24.994862   \n",
       "\n",
       "   secondary_cleaner.state.floatbank6_a_level  \n",
       "0                                 -499.709414  \n",
       "1                                 -499.819438  \n",
       "2                                 -500.622559  "
      ]
     },
     "metadata": {},
     "output_type": "display_data"
    },
    {
     "data": {
      "text/html": [
       "<div>\n",
       "<style scoped>\n",
       "    .dataframe tbody tr th:only-of-type {\n",
       "        vertical-align: middle;\n",
       "    }\n",
       "\n",
       "    .dataframe tbody tr th {\n",
       "        vertical-align: top;\n",
       "    }\n",
       "\n",
       "    .dataframe thead th {\n",
       "        text-align: right;\n",
       "    }\n",
       "</style>\n",
       "<table border=\"1\" class=\"dataframe\">\n",
       "  <thead>\n",
       "    <tr style=\"text-align: right;\">\n",
       "      <th></th>\n",
       "      <th>date</th>\n",
       "      <th>final.output.concentrate_ag</th>\n",
       "      <th>final.output.concentrate_pb</th>\n",
       "      <th>final.output.concentrate_sol</th>\n",
       "      <th>final.output.concentrate_au</th>\n",
       "      <th>final.output.recovery</th>\n",
       "      <th>final.output.tail_ag</th>\n",
       "      <th>final.output.tail_pb</th>\n",
       "      <th>final.output.tail_sol</th>\n",
       "      <th>final.output.tail_au</th>\n",
       "      <th>primary_cleaner.input.sulfate</th>\n",
       "      <th>primary_cleaner.input.depressant</th>\n",
       "      <th>primary_cleaner.input.feed_size</th>\n",
       "      <th>primary_cleaner.input.xanthate</th>\n",
       "      <th>primary_cleaner.output.concentrate_ag</th>\n",
       "      <th>primary_cleaner.output.concentrate_pb</th>\n",
       "      <th>primary_cleaner.output.concentrate_sol</th>\n",
       "      <th>primary_cleaner.output.concentrate_au</th>\n",
       "      <th>primary_cleaner.output.tail_ag</th>\n",
       "      <th>primary_cleaner.output.tail_pb</th>\n",
       "      <th>primary_cleaner.output.tail_sol</th>\n",
       "      <th>primary_cleaner.output.tail_au</th>\n",
       "      <th>primary_cleaner.state.floatbank8_a_air</th>\n",
       "      <th>primary_cleaner.state.floatbank8_a_level</th>\n",
       "      <th>primary_cleaner.state.floatbank8_b_air</th>\n",
       "      <th>primary_cleaner.state.floatbank8_b_level</th>\n",
       "      <th>primary_cleaner.state.floatbank8_c_air</th>\n",
       "      <th>primary_cleaner.state.floatbank8_c_level</th>\n",
       "      <th>primary_cleaner.state.floatbank8_d_air</th>\n",
       "      <th>primary_cleaner.state.floatbank8_d_level</th>\n",
       "      <th>rougher.calculation.sulfate_to_au_concentrate</th>\n",
       "      <th>rougher.calculation.floatbank10_sulfate_to_au_feed</th>\n",
       "      <th>rougher.calculation.floatbank11_sulfate_to_au_feed</th>\n",
       "      <th>rougher.calculation.au_pb_ratio</th>\n",
       "      <th>rougher.input.feed_ag</th>\n",
       "      <th>rougher.input.feed_pb</th>\n",
       "      <th>rougher.input.feed_rate</th>\n",
       "      <th>rougher.input.feed_size</th>\n",
       "      <th>rougher.input.feed_sol</th>\n",
       "      <th>rougher.input.feed_au</th>\n",
       "      <th>rougher.input.floatbank10_sulfate</th>\n",
       "      <th>rougher.input.floatbank10_xanthate</th>\n",
       "      <th>rougher.input.floatbank11_sulfate</th>\n",
       "      <th>rougher.input.floatbank11_xanthate</th>\n",
       "      <th>rougher.output.concentrate_ag</th>\n",
       "      <th>rougher.output.concentrate_pb</th>\n",
       "      <th>rougher.output.concentrate_sol</th>\n",
       "      <th>rougher.output.concentrate_au</th>\n",
       "      <th>rougher.output.recovery</th>\n",
       "      <th>rougher.output.tail_ag</th>\n",
       "      <th>rougher.output.tail_pb</th>\n",
       "      <th>rougher.output.tail_sol</th>\n",
       "      <th>rougher.output.tail_au</th>\n",
       "      <th>rougher.state.floatbank10_a_air</th>\n",
       "      <th>rougher.state.floatbank10_a_level</th>\n",
       "      <th>rougher.state.floatbank10_b_air</th>\n",
       "      <th>rougher.state.floatbank10_b_level</th>\n",
       "      <th>rougher.state.floatbank10_c_air</th>\n",
       "      <th>rougher.state.floatbank10_c_level</th>\n",
       "      <th>rougher.state.floatbank10_d_air</th>\n",
       "      <th>rougher.state.floatbank10_d_level</th>\n",
       "      <th>rougher.state.floatbank10_e_air</th>\n",
       "      <th>rougher.state.floatbank10_e_level</th>\n",
       "      <th>rougher.state.floatbank10_f_air</th>\n",
       "      <th>rougher.state.floatbank10_f_level</th>\n",
       "      <th>secondary_cleaner.output.tail_ag</th>\n",
       "      <th>secondary_cleaner.output.tail_pb</th>\n",
       "      <th>secondary_cleaner.output.tail_sol</th>\n",
       "      <th>secondary_cleaner.output.tail_au</th>\n",
       "      <th>secondary_cleaner.state.floatbank2_a_air</th>\n",
       "      <th>secondary_cleaner.state.floatbank2_a_level</th>\n",
       "      <th>secondary_cleaner.state.floatbank2_b_air</th>\n",
       "      <th>secondary_cleaner.state.floatbank2_b_level</th>\n",
       "      <th>secondary_cleaner.state.floatbank3_a_air</th>\n",
       "      <th>secondary_cleaner.state.floatbank3_a_level</th>\n",
       "      <th>secondary_cleaner.state.floatbank3_b_air</th>\n",
       "      <th>secondary_cleaner.state.floatbank3_b_level</th>\n",
       "      <th>secondary_cleaner.state.floatbank4_a_air</th>\n",
       "      <th>secondary_cleaner.state.floatbank4_a_level</th>\n",
       "      <th>secondary_cleaner.state.floatbank4_b_air</th>\n",
       "      <th>secondary_cleaner.state.floatbank4_b_level</th>\n",
       "      <th>secondary_cleaner.state.floatbank5_a_air</th>\n",
       "      <th>secondary_cleaner.state.floatbank5_a_level</th>\n",
       "      <th>secondary_cleaner.state.floatbank5_b_air</th>\n",
       "      <th>secondary_cleaner.state.floatbank5_b_level</th>\n",
       "      <th>secondary_cleaner.state.floatbank6_a_air</th>\n",
       "      <th>secondary_cleaner.state.floatbank6_a_level</th>\n",
       "    </tr>\n",
       "  </thead>\n",
       "  <tbody>\n",
       "    <tr>\n",
       "      <td>0</td>\n",
       "      <td>2016-01-15 00:00:00</td>\n",
       "      <td>6.055403</td>\n",
       "      <td>9.889648</td>\n",
       "      <td>5.507324</td>\n",
       "      <td>42.192020</td>\n",
       "      <td>70.541216</td>\n",
       "      <td>10.411962</td>\n",
       "      <td>0.895447</td>\n",
       "      <td>16.904297</td>\n",
       "      <td>2.143149</td>\n",
       "      <td>127.092003</td>\n",
       "      <td>10.128295</td>\n",
       "      <td>7.25</td>\n",
       "      <td>0.988759</td>\n",
       "      <td>8.547551</td>\n",
       "      <td>10.389648</td>\n",
       "      <td>19.529297</td>\n",
       "      <td>34.174427</td>\n",
       "      <td>14.936526</td>\n",
       "      <td>2.534912</td>\n",
       "      <td>7.476074</td>\n",
       "      <td>2.106679</td>\n",
       "      <td>1549.775757</td>\n",
       "      <td>-498.912140</td>\n",
       "      <td>1551.434204</td>\n",
       "      <td>-516.403442</td>\n",
       "      <td>1549.873901</td>\n",
       "      <td>-498.666595</td>\n",
       "      <td>1554.367432</td>\n",
       "      <td>-493.428131</td>\n",
       "      <td>41885.707031</td>\n",
       "      <td>3481.779053</td>\n",
       "      <td>3520.337158</td>\n",
       "      <td>2.838687</td>\n",
       "      <td>6.100378</td>\n",
       "      <td>2.284912</td>\n",
       "      <td>523.546326</td>\n",
       "      <td>55.486599</td>\n",
       "      <td>36.808594</td>\n",
       "      <td>6.486150</td>\n",
       "      <td>11.986616</td>\n",
       "      <td>6.007990</td>\n",
       "      <td>11.836743</td>\n",
       "      <td>6.005818</td>\n",
       "      <td>11.500771</td>\n",
       "      <td>7.101074</td>\n",
       "      <td>28.029297</td>\n",
       "      <td>19.793808</td>\n",
       "      <td>87.107763</td>\n",
       "      <td>5.008018</td>\n",
       "      <td>0.508728</td>\n",
       "      <td>19.154297</td>\n",
       "      <td>1.170244</td>\n",
       "      <td>999.706909</td>\n",
       "      <td>-404.066986</td>\n",
       "      <td>1603.011353</td>\n",
       "      <td>-434.715027</td>\n",
       "      <td>1602.375000</td>\n",
       "      <td>-442.204468</td>\n",
       "      <td>1598.937256</td>\n",
       "      <td>-451.294128</td>\n",
       "      <td>1404.472046</td>\n",
       "      <td>-455.462982</td>\n",
       "      <td>1416.354980</td>\n",
       "      <td>-451.939636</td>\n",
       "      <td>14.500184</td>\n",
       "      <td>4.694824</td>\n",
       "      <td>8.764648</td>\n",
       "      <td>2.606185</td>\n",
       "      <td>25.853109</td>\n",
       "      <td>-498.526489</td>\n",
       "      <td>23.893660</td>\n",
       "      <td>-501.406281</td>\n",
       "      <td>23.961798</td>\n",
       "      <td>-495.262817</td>\n",
       "      <td>21.940409</td>\n",
       "      <td>-499.340973</td>\n",
       "      <td>14.016835</td>\n",
       "      <td>-502.488007</td>\n",
       "      <td>12.099931</td>\n",
       "      <td>-504.715942</td>\n",
       "      <td>9.925633</td>\n",
       "      <td>-498.310211</td>\n",
       "      <td>8.079666</td>\n",
       "      <td>-500.470978</td>\n",
       "      <td>14.151341</td>\n",
       "      <td>-605.841980</td>\n",
       "    </tr>\n",
       "    <tr>\n",
       "      <td>1</td>\n",
       "      <td>2016-01-15 01:00:00</td>\n",
       "      <td>6.029369</td>\n",
       "      <td>9.968944</td>\n",
       "      <td>5.257781</td>\n",
       "      <td>42.701629</td>\n",
       "      <td>69.266198</td>\n",
       "      <td>10.462676</td>\n",
       "      <td>0.927452</td>\n",
       "      <td>16.634514</td>\n",
       "      <td>2.224930</td>\n",
       "      <td>125.629232</td>\n",
       "      <td>10.296251</td>\n",
       "      <td>7.25</td>\n",
       "      <td>1.002663</td>\n",
       "      <td>8.558743</td>\n",
       "      <td>10.497069</td>\n",
       "      <td>19.369147</td>\n",
       "      <td>34.118526</td>\n",
       "      <td>16.250511</td>\n",
       "      <td>3.049646</td>\n",
       "      <td>6.733907</td>\n",
       "      <td>2.353017</td>\n",
       "      <td>1576.166671</td>\n",
       "      <td>-500.904965</td>\n",
       "      <td>1575.950626</td>\n",
       "      <td>-499.865889</td>\n",
       "      <td>1575.994189</td>\n",
       "      <td>-499.315107</td>\n",
       "      <td>1574.479259</td>\n",
       "      <td>-498.931665</td>\n",
       "      <td>42050.861809</td>\n",
       "      <td>3498.370979</td>\n",
       "      <td>3489.981857</td>\n",
       "      <td>2.858998</td>\n",
       "      <td>6.161113</td>\n",
       "      <td>2.266033</td>\n",
       "      <td>525.290581</td>\n",
       "      <td>57.278666</td>\n",
       "      <td>35.753385</td>\n",
       "      <td>6.478583</td>\n",
       "      <td>11.971193</td>\n",
       "      <td>6.005766</td>\n",
       "      <td>11.996163</td>\n",
       "      <td>6.012594</td>\n",
       "      <td>11.615865</td>\n",
       "      <td>7.278807</td>\n",
       "      <td>28.067063</td>\n",
       "      <td>20.050975</td>\n",
       "      <td>86.843261</td>\n",
       "      <td>4.955378</td>\n",
       "      <td>0.536689</td>\n",
       "      <td>18.965234</td>\n",
       "      <td>1.184827</td>\n",
       "      <td>1000.286398</td>\n",
       "      <td>-400.065196</td>\n",
       "      <td>1600.754587</td>\n",
       "      <td>-449.953435</td>\n",
       "      <td>1600.479580</td>\n",
       "      <td>-449.830646</td>\n",
       "      <td>1600.527589</td>\n",
       "      <td>-449.953649</td>\n",
       "      <td>1399.227084</td>\n",
       "      <td>-450.869848</td>\n",
       "      <td>1399.719514</td>\n",
       "      <td>-450.119001</td>\n",
       "      <td>14.265474</td>\n",
       "      <td>4.592547</td>\n",
       "      <td>9.001494</td>\n",
       "      <td>2.488248</td>\n",
       "      <td>25.880539</td>\n",
       "      <td>-499.989656</td>\n",
       "      <td>23.889530</td>\n",
       "      <td>-500.372428</td>\n",
       "      <td>23.970550</td>\n",
       "      <td>-500.085473</td>\n",
       "      <td>22.085714</td>\n",
       "      <td>-499.446897</td>\n",
       "      <td>13.992281</td>\n",
       "      <td>-505.503262</td>\n",
       "      <td>11.950531</td>\n",
       "      <td>-501.331529</td>\n",
       "      <td>10.039245</td>\n",
       "      <td>-500.169983</td>\n",
       "      <td>7.984757</td>\n",
       "      <td>-500.582168</td>\n",
       "      <td>13.998353</td>\n",
       "      <td>-599.787184</td>\n",
       "    </tr>\n",
       "    <tr>\n",
       "      <td>2</td>\n",
       "      <td>2016-01-15 02:00:00</td>\n",
       "      <td>6.055926</td>\n",
       "      <td>10.213995</td>\n",
       "      <td>5.383759</td>\n",
       "      <td>42.657501</td>\n",
       "      <td>68.116445</td>\n",
       "      <td>10.507046</td>\n",
       "      <td>0.953716</td>\n",
       "      <td>16.208849</td>\n",
       "      <td>2.257889</td>\n",
       "      <td>123.819808</td>\n",
       "      <td>11.316280</td>\n",
       "      <td>7.25</td>\n",
       "      <td>0.991265</td>\n",
       "      <td>8.603505</td>\n",
       "      <td>10.354494</td>\n",
       "      <td>19.167579</td>\n",
       "      <td>33.969464</td>\n",
       "      <td>16.491823</td>\n",
       "      <td>3.124664</td>\n",
       "      <td>6.471768</td>\n",
       "      <td>2.416800</td>\n",
       "      <td>1601.556163</td>\n",
       "      <td>-499.997791</td>\n",
       "      <td>1600.386685</td>\n",
       "      <td>-500.607762</td>\n",
       "      <td>1602.003542</td>\n",
       "      <td>-500.870069</td>\n",
       "      <td>1599.541515</td>\n",
       "      <td>-499.827444</td>\n",
       "      <td>42018.101184</td>\n",
       "      <td>3495.348910</td>\n",
       "      <td>3502.359819</td>\n",
       "      <td>2.945989</td>\n",
       "      <td>6.116455</td>\n",
       "      <td>2.159622</td>\n",
       "      <td>530.026610</td>\n",
       "      <td>57.510649</td>\n",
       "      <td>35.971630</td>\n",
       "      <td>6.362222</td>\n",
       "      <td>11.920603</td>\n",
       "      <td>6.197377</td>\n",
       "      <td>11.920305</td>\n",
       "      <td>6.204633</td>\n",
       "      <td>11.695753</td>\n",
       "      <td>7.216833</td>\n",
       "      <td>27.454037</td>\n",
       "      <td>19.737170</td>\n",
       "      <td>86.842308</td>\n",
       "      <td>4.843460</td>\n",
       "      <td>0.546416</td>\n",
       "      <td>18.808533</td>\n",
       "      <td>1.162562</td>\n",
       "      <td>999.719565</td>\n",
       "      <td>-400.074028</td>\n",
       "      <td>1599.337330</td>\n",
       "      <td>-450.008530</td>\n",
       "      <td>1599.672797</td>\n",
       "      <td>-449.954491</td>\n",
       "      <td>1599.849325</td>\n",
       "      <td>-449.954185</td>\n",
       "      <td>1399.180945</td>\n",
       "      <td>-449.937588</td>\n",
       "      <td>1400.316682</td>\n",
       "      <td>-450.527147</td>\n",
       "      <td>14.115662</td>\n",
       "      <td>4.624775</td>\n",
       "      <td>8.842896</td>\n",
       "      <td>2.458187</td>\n",
       "      <td>26.005245</td>\n",
       "      <td>-499.929616</td>\n",
       "      <td>23.886657</td>\n",
       "      <td>-499.951928</td>\n",
       "      <td>23.913535</td>\n",
       "      <td>-499.442343</td>\n",
       "      <td>23.957717</td>\n",
       "      <td>-499.901982</td>\n",
       "      <td>14.015015</td>\n",
       "      <td>-502.520901</td>\n",
       "      <td>11.912783</td>\n",
       "      <td>-501.133383</td>\n",
       "      <td>10.070913</td>\n",
       "      <td>-500.129135</td>\n",
       "      <td>8.013877</td>\n",
       "      <td>-500.517572</td>\n",
       "      <td>14.028663</td>\n",
       "      <td>-601.427363</td>\n",
       "    </tr>\n",
       "  </tbody>\n",
       "</table>\n",
       "</div>"
      ],
      "text/plain": [
       "                  date  final.output.concentrate_ag  \\\n",
       "0  2016-01-15 00:00:00                     6.055403   \n",
       "1  2016-01-15 01:00:00                     6.029369   \n",
       "2  2016-01-15 02:00:00                     6.055926   \n",
       "\n",
       "   final.output.concentrate_pb  final.output.concentrate_sol  \\\n",
       "0                     9.889648                      5.507324   \n",
       "1                     9.968944                      5.257781   \n",
       "2                    10.213995                      5.383759   \n",
       "\n",
       "   final.output.concentrate_au  final.output.recovery  final.output.tail_ag  \\\n",
       "0                    42.192020              70.541216             10.411962   \n",
       "1                    42.701629              69.266198             10.462676   \n",
       "2                    42.657501              68.116445             10.507046   \n",
       "\n",
       "   final.output.tail_pb  final.output.tail_sol  final.output.tail_au  \\\n",
       "0              0.895447              16.904297              2.143149   \n",
       "1              0.927452              16.634514              2.224930   \n",
       "2              0.953716              16.208849              2.257889   \n",
       "\n",
       "   primary_cleaner.input.sulfate  primary_cleaner.input.depressant  \\\n",
       "0                     127.092003                         10.128295   \n",
       "1                     125.629232                         10.296251   \n",
       "2                     123.819808                         11.316280   \n",
       "\n",
       "   primary_cleaner.input.feed_size  primary_cleaner.input.xanthate  \\\n",
       "0                             7.25                        0.988759   \n",
       "1                             7.25                        1.002663   \n",
       "2                             7.25                        0.991265   \n",
       "\n",
       "   primary_cleaner.output.concentrate_ag  \\\n",
       "0                               8.547551   \n",
       "1                               8.558743   \n",
       "2                               8.603505   \n",
       "\n",
       "   primary_cleaner.output.concentrate_pb  \\\n",
       "0                              10.389648   \n",
       "1                              10.497069   \n",
       "2                              10.354494   \n",
       "\n",
       "   primary_cleaner.output.concentrate_sol  \\\n",
       "0                               19.529297   \n",
       "1                               19.369147   \n",
       "2                               19.167579   \n",
       "\n",
       "   primary_cleaner.output.concentrate_au  primary_cleaner.output.tail_ag  \\\n",
       "0                              34.174427                       14.936526   \n",
       "1                              34.118526                       16.250511   \n",
       "2                              33.969464                       16.491823   \n",
       "\n",
       "   primary_cleaner.output.tail_pb  primary_cleaner.output.tail_sol  \\\n",
       "0                        2.534912                         7.476074   \n",
       "1                        3.049646                         6.733907   \n",
       "2                        3.124664                         6.471768   \n",
       "\n",
       "   primary_cleaner.output.tail_au  primary_cleaner.state.floatbank8_a_air  \\\n",
       "0                        2.106679                             1549.775757   \n",
       "1                        2.353017                             1576.166671   \n",
       "2                        2.416800                             1601.556163   \n",
       "\n",
       "   primary_cleaner.state.floatbank8_a_level  \\\n",
       "0                               -498.912140   \n",
       "1                               -500.904965   \n",
       "2                               -499.997791   \n",
       "\n",
       "   primary_cleaner.state.floatbank8_b_air  \\\n",
       "0                             1551.434204   \n",
       "1                             1575.950626   \n",
       "2                             1600.386685   \n",
       "\n",
       "   primary_cleaner.state.floatbank8_b_level  \\\n",
       "0                               -516.403442   \n",
       "1                               -499.865889   \n",
       "2                               -500.607762   \n",
       "\n",
       "   primary_cleaner.state.floatbank8_c_air  \\\n",
       "0                             1549.873901   \n",
       "1                             1575.994189   \n",
       "2                             1602.003542   \n",
       "\n",
       "   primary_cleaner.state.floatbank8_c_level  \\\n",
       "0                               -498.666595   \n",
       "1                               -499.315107   \n",
       "2                               -500.870069   \n",
       "\n",
       "   primary_cleaner.state.floatbank8_d_air  \\\n",
       "0                             1554.367432   \n",
       "1                             1574.479259   \n",
       "2                             1599.541515   \n",
       "\n",
       "   primary_cleaner.state.floatbank8_d_level  \\\n",
       "0                               -493.428131   \n",
       "1                               -498.931665   \n",
       "2                               -499.827444   \n",
       "\n",
       "   rougher.calculation.sulfate_to_au_concentrate  \\\n",
       "0                                   41885.707031   \n",
       "1                                   42050.861809   \n",
       "2                                   42018.101184   \n",
       "\n",
       "   rougher.calculation.floatbank10_sulfate_to_au_feed  \\\n",
       "0                                        3481.779053    \n",
       "1                                        3498.370979    \n",
       "2                                        3495.348910    \n",
       "\n",
       "   rougher.calculation.floatbank11_sulfate_to_au_feed  \\\n",
       "0                                        3520.337158    \n",
       "1                                        3489.981857    \n",
       "2                                        3502.359819    \n",
       "\n",
       "   rougher.calculation.au_pb_ratio  rougher.input.feed_ag  \\\n",
       "0                         2.838687               6.100378   \n",
       "1                         2.858998               6.161113   \n",
       "2                         2.945989               6.116455   \n",
       "\n",
       "   rougher.input.feed_pb  rougher.input.feed_rate  rougher.input.feed_size  \\\n",
       "0               2.284912               523.546326                55.486599   \n",
       "1               2.266033               525.290581                57.278666   \n",
       "2               2.159622               530.026610                57.510649   \n",
       "\n",
       "   rougher.input.feed_sol  rougher.input.feed_au  \\\n",
       "0               36.808594               6.486150   \n",
       "1               35.753385               6.478583   \n",
       "2               35.971630               6.362222   \n",
       "\n",
       "   rougher.input.floatbank10_sulfate  rougher.input.floatbank10_xanthate  \\\n",
       "0                          11.986616                            6.007990   \n",
       "1                          11.971193                            6.005766   \n",
       "2                          11.920603                            6.197377   \n",
       "\n",
       "   rougher.input.floatbank11_sulfate  rougher.input.floatbank11_xanthate  \\\n",
       "0                          11.836743                            6.005818   \n",
       "1                          11.996163                            6.012594   \n",
       "2                          11.920305                            6.204633   \n",
       "\n",
       "   rougher.output.concentrate_ag  rougher.output.concentrate_pb  \\\n",
       "0                      11.500771                       7.101074   \n",
       "1                      11.615865                       7.278807   \n",
       "2                      11.695753                       7.216833   \n",
       "\n",
       "   rougher.output.concentrate_sol  rougher.output.concentrate_au  \\\n",
       "0                       28.029297                      19.793808   \n",
       "1                       28.067063                      20.050975   \n",
       "2                       27.454037                      19.737170   \n",
       "\n",
       "   rougher.output.recovery  rougher.output.tail_ag  rougher.output.tail_pb  \\\n",
       "0                87.107763                5.008018                0.508728   \n",
       "1                86.843261                4.955378                0.536689   \n",
       "2                86.842308                4.843460                0.546416   \n",
       "\n",
       "   rougher.output.tail_sol  rougher.output.tail_au  \\\n",
       "0                19.154297                1.170244   \n",
       "1                18.965234                1.184827   \n",
       "2                18.808533                1.162562   \n",
       "\n",
       "   rougher.state.floatbank10_a_air  rougher.state.floatbank10_a_level  \\\n",
       "0                       999.706909                        -404.066986   \n",
       "1                      1000.286398                        -400.065196   \n",
       "2                       999.719565                        -400.074028   \n",
       "\n",
       "   rougher.state.floatbank10_b_air  rougher.state.floatbank10_b_level  \\\n",
       "0                      1603.011353                        -434.715027   \n",
       "1                      1600.754587                        -449.953435   \n",
       "2                      1599.337330                        -450.008530   \n",
       "\n",
       "   rougher.state.floatbank10_c_air  rougher.state.floatbank10_c_level  \\\n",
       "0                      1602.375000                        -442.204468   \n",
       "1                      1600.479580                        -449.830646   \n",
       "2                      1599.672797                        -449.954491   \n",
       "\n",
       "   rougher.state.floatbank10_d_air  rougher.state.floatbank10_d_level  \\\n",
       "0                      1598.937256                        -451.294128   \n",
       "1                      1600.527589                        -449.953649   \n",
       "2                      1599.849325                        -449.954185   \n",
       "\n",
       "   rougher.state.floatbank10_e_air  rougher.state.floatbank10_e_level  \\\n",
       "0                      1404.472046                        -455.462982   \n",
       "1                      1399.227084                        -450.869848   \n",
       "2                      1399.180945                        -449.937588   \n",
       "\n",
       "   rougher.state.floatbank10_f_air  rougher.state.floatbank10_f_level  \\\n",
       "0                      1416.354980                        -451.939636   \n",
       "1                      1399.719514                        -450.119001   \n",
       "2                      1400.316682                        -450.527147   \n",
       "\n",
       "   secondary_cleaner.output.tail_ag  secondary_cleaner.output.tail_pb  \\\n",
       "0                         14.500184                          4.694824   \n",
       "1                         14.265474                          4.592547   \n",
       "2                         14.115662                          4.624775   \n",
       "\n",
       "   secondary_cleaner.output.tail_sol  secondary_cleaner.output.tail_au  \\\n",
       "0                           8.764648                          2.606185   \n",
       "1                           9.001494                          2.488248   \n",
       "2                           8.842896                          2.458187   \n",
       "\n",
       "   secondary_cleaner.state.floatbank2_a_air  \\\n",
       "0                                 25.853109   \n",
       "1                                 25.880539   \n",
       "2                                 26.005245   \n",
       "\n",
       "   secondary_cleaner.state.floatbank2_a_level  \\\n",
       "0                                 -498.526489   \n",
       "1                                 -499.989656   \n",
       "2                                 -499.929616   \n",
       "\n",
       "   secondary_cleaner.state.floatbank2_b_air  \\\n",
       "0                                 23.893660   \n",
       "1                                 23.889530   \n",
       "2                                 23.886657   \n",
       "\n",
       "   secondary_cleaner.state.floatbank2_b_level  \\\n",
       "0                                 -501.406281   \n",
       "1                                 -500.372428   \n",
       "2                                 -499.951928   \n",
       "\n",
       "   secondary_cleaner.state.floatbank3_a_air  \\\n",
       "0                                 23.961798   \n",
       "1                                 23.970550   \n",
       "2                                 23.913535   \n",
       "\n",
       "   secondary_cleaner.state.floatbank3_a_level  \\\n",
       "0                                 -495.262817   \n",
       "1                                 -500.085473   \n",
       "2                                 -499.442343   \n",
       "\n",
       "   secondary_cleaner.state.floatbank3_b_air  \\\n",
       "0                                 21.940409   \n",
       "1                                 22.085714   \n",
       "2                                 23.957717   \n",
       "\n",
       "   secondary_cleaner.state.floatbank3_b_level  \\\n",
       "0                                 -499.340973   \n",
       "1                                 -499.446897   \n",
       "2                                 -499.901982   \n",
       "\n",
       "   secondary_cleaner.state.floatbank4_a_air  \\\n",
       "0                                 14.016835   \n",
       "1                                 13.992281   \n",
       "2                                 14.015015   \n",
       "\n",
       "   secondary_cleaner.state.floatbank4_a_level  \\\n",
       "0                                 -502.488007   \n",
       "1                                 -505.503262   \n",
       "2                                 -502.520901   \n",
       "\n",
       "   secondary_cleaner.state.floatbank4_b_air  \\\n",
       "0                                 12.099931   \n",
       "1                                 11.950531   \n",
       "2                                 11.912783   \n",
       "\n",
       "   secondary_cleaner.state.floatbank4_b_level  \\\n",
       "0                                 -504.715942   \n",
       "1                                 -501.331529   \n",
       "2                                 -501.133383   \n",
       "\n",
       "   secondary_cleaner.state.floatbank5_a_air  \\\n",
       "0                                  9.925633   \n",
       "1                                 10.039245   \n",
       "2                                 10.070913   \n",
       "\n",
       "   secondary_cleaner.state.floatbank5_a_level  \\\n",
       "0                                 -498.310211   \n",
       "1                                 -500.169983   \n",
       "2                                 -500.129135   \n",
       "\n",
       "   secondary_cleaner.state.floatbank5_b_air  \\\n",
       "0                                  8.079666   \n",
       "1                                  7.984757   \n",
       "2                                  8.013877   \n",
       "\n",
       "   secondary_cleaner.state.floatbank5_b_level  \\\n",
       "0                                 -500.470978   \n",
       "1                                 -500.582168   \n",
       "2                                 -500.517572   \n",
       "\n",
       "   secondary_cleaner.state.floatbank6_a_air  \\\n",
       "0                                 14.151341   \n",
       "1                                 13.998353   \n",
       "2                                 14.028663   \n",
       "\n",
       "   secondary_cleaner.state.floatbank6_a_level  \n",
       "0                                 -605.841980  \n",
       "1                                 -599.787184  \n",
       "2                                 -601.427363  "
      ]
     },
     "metadata": {},
     "output_type": "display_data"
    }
   ],
   "source": [
    "display(df_train.head(3))\n",
    "display(df_test.head(3))\n",
    "display(df_full.head(3))"
   ]
  },
  {
   "cell_type": "markdown",
   "metadata": {},
   "source": [
    "Данные индексируются датой и временем получения информации (признак date).\n",
    "Соседние по времени параметры часто похожи.\n",
    "\n",
    "Некоторые параметры недоступны, потому что замеряются и/или рассчитываются значительно позже. Из-за этого в тестовой выборке отсутствуют некоторые признаки, которые могут быть в обучающей. Также в тестовом наборе нет целевых признаков.\n",
    "Исходный датасет содержит обучающую и тестовую выборки со всеми признаками."
   ]
  },
  {
   "cell_type": "code",
   "execution_count": 5,
   "metadata": {},
   "outputs": [
    {
     "name": "stdout",
     "output_type": "stream",
     "text": [
      "<class 'pandas.core.frame.DataFrame'>\n",
      "RangeIndex: 16860 entries, 0 to 16859\n",
      "Data columns (total 87 columns):\n",
      "date                                                  16860 non-null object\n",
      "final.output.concentrate_ag                           16788 non-null float64\n",
      "final.output.concentrate_pb                           16788 non-null float64\n",
      "final.output.concentrate_sol                          16490 non-null float64\n",
      "final.output.concentrate_au                           16789 non-null float64\n",
      "final.output.recovery                                 15339 non-null float64\n",
      "final.output.tail_ag                                  16794 non-null float64\n",
      "final.output.tail_pb                                  16677 non-null float64\n",
      "final.output.tail_sol                                 16715 non-null float64\n",
      "final.output.tail_au                                  16794 non-null float64\n",
      "primary_cleaner.input.sulfate                         15553 non-null float64\n",
      "primary_cleaner.input.depressant                      15598 non-null float64\n",
      "primary_cleaner.input.feed_size                       16860 non-null float64\n",
      "primary_cleaner.input.xanthate                        15875 non-null float64\n",
      "primary_cleaner.output.concentrate_ag                 16778 non-null float64\n",
      "primary_cleaner.output.concentrate_pb                 16502 non-null float64\n",
      "primary_cleaner.output.concentrate_sol                16224 non-null float64\n",
      "primary_cleaner.output.concentrate_au                 16778 non-null float64\n",
      "primary_cleaner.output.tail_ag                        16777 non-null float64\n",
      "primary_cleaner.output.tail_pb                        16761 non-null float64\n",
      "primary_cleaner.output.tail_sol                       16579 non-null float64\n",
      "primary_cleaner.output.tail_au                        16777 non-null float64\n",
      "primary_cleaner.state.floatbank8_a_air                16820 non-null float64\n",
      "primary_cleaner.state.floatbank8_a_level              16827 non-null float64\n",
      "primary_cleaner.state.floatbank8_b_air                16820 non-null float64\n",
      "primary_cleaner.state.floatbank8_b_level              16833 non-null float64\n",
      "primary_cleaner.state.floatbank8_c_air                16822 non-null float64\n",
      "primary_cleaner.state.floatbank8_c_level              16833 non-null float64\n",
      "primary_cleaner.state.floatbank8_d_air                16821 non-null float64\n",
      "primary_cleaner.state.floatbank8_d_level              16833 non-null float64\n",
      "rougher.calculation.sulfate_to_au_concentrate         16833 non-null float64\n",
      "rougher.calculation.floatbank10_sulfate_to_au_feed    16833 non-null float64\n",
      "rougher.calculation.floatbank11_sulfate_to_au_feed    16833 non-null float64\n",
      "rougher.calculation.au_pb_ratio                       15618 non-null float64\n",
      "rougher.input.feed_ag                                 16778 non-null float64\n",
      "rougher.input.feed_pb                                 16632 non-null float64\n",
      "rougher.input.feed_rate                               16347 non-null float64\n",
      "rougher.input.feed_size                               16443 non-null float64\n",
      "rougher.input.feed_sol                                16568 non-null float64\n",
      "rougher.input.feed_au                                 16777 non-null float64\n",
      "rougher.input.floatbank10_sulfate                     15816 non-null float64\n",
      "rougher.input.floatbank10_xanthate                    16514 non-null float64\n",
      "rougher.input.floatbank11_sulfate                     16237 non-null float64\n",
      "rougher.input.floatbank11_xanthate                    14956 non-null float64\n",
      "rougher.output.concentrate_ag                         16778 non-null float64\n",
      "rougher.output.concentrate_pb                         16778 non-null float64\n",
      "rougher.output.concentrate_sol                        16698 non-null float64\n",
      "rougher.output.concentrate_au                         16778 non-null float64\n",
      "rougher.output.recovery                               14287 non-null float64\n",
      "rougher.output.tail_ag                                14610 non-null float64\n",
      "rougher.output.tail_pb                                16778 non-null float64\n",
      "rougher.output.tail_sol                               14611 non-null float64\n",
      "rougher.output.tail_au                                14611 non-null float64\n",
      "rougher.state.floatbank10_a_air                       16807 non-null float64\n",
      "rougher.state.floatbank10_a_level                     16807 non-null float64\n",
      "rougher.state.floatbank10_b_air                       16807 non-null float64\n",
      "rougher.state.floatbank10_b_level                     16807 non-null float64\n",
      "rougher.state.floatbank10_c_air                       16807 non-null float64\n",
      "rougher.state.floatbank10_c_level                     16814 non-null float64\n",
      "rougher.state.floatbank10_d_air                       16802 non-null float64\n",
      "rougher.state.floatbank10_d_level                     16809 non-null float64\n",
      "rougher.state.floatbank10_e_air                       16257 non-null float64\n",
      "rougher.state.floatbank10_e_level                     16809 non-null float64\n",
      "rougher.state.floatbank10_f_air                       16802 non-null float64\n",
      "rougher.state.floatbank10_f_level                     16802 non-null float64\n",
      "secondary_cleaner.output.tail_ag                      16776 non-null float64\n",
      "secondary_cleaner.output.tail_pb                      16764 non-null float64\n",
      "secondary_cleaner.output.tail_sol                     14874 non-null float64\n",
      "secondary_cleaner.output.tail_au                      16778 non-null float64\n",
      "secondary_cleaner.state.floatbank2_a_air              16497 non-null float64\n",
      "secondary_cleaner.state.floatbank2_a_level            16751 non-null float64\n",
      "secondary_cleaner.state.floatbank2_b_air              16705 non-null float64\n",
      "secondary_cleaner.state.floatbank2_b_level            16748 non-null float64\n",
      "secondary_cleaner.state.floatbank3_a_air              16763 non-null float64\n",
      "secondary_cleaner.state.floatbank3_a_level            16747 non-null float64\n",
      "secondary_cleaner.state.floatbank3_b_air              16752 non-null float64\n",
      "secondary_cleaner.state.floatbank3_b_level            16750 non-null float64\n",
      "secondary_cleaner.state.floatbank4_a_air              16731 non-null float64\n",
      "secondary_cleaner.state.floatbank4_a_level            16747 non-null float64\n",
      "secondary_cleaner.state.floatbank4_b_air              16768 non-null float64\n",
      "secondary_cleaner.state.floatbank4_b_level            16767 non-null float64\n",
      "secondary_cleaner.state.floatbank5_a_air              16775 non-null float64\n",
      "secondary_cleaner.state.floatbank5_a_level            16775 non-null float64\n",
      "secondary_cleaner.state.floatbank5_b_air              16775 non-null float64\n",
      "secondary_cleaner.state.floatbank5_b_level            16776 non-null float64\n",
      "secondary_cleaner.state.floatbank6_a_air              16757 non-null float64\n",
      "secondary_cleaner.state.floatbank6_a_level            16775 non-null float64\n",
      "dtypes: float64(86), object(1)\n",
      "memory usage: 11.2+ MB\n",
      "None\n",
      "<class 'pandas.core.frame.DataFrame'>\n",
      "RangeIndex: 5856 entries, 0 to 5855\n",
      "Data columns (total 53 columns):\n",
      "date                                          5856 non-null object\n",
      "primary_cleaner.input.sulfate                 5554 non-null float64\n",
      "primary_cleaner.input.depressant              5572 non-null float64\n",
      "primary_cleaner.input.feed_size               5856 non-null float64\n",
      "primary_cleaner.input.xanthate                5690 non-null float64\n",
      "primary_cleaner.state.floatbank8_a_air        5840 non-null float64\n",
      "primary_cleaner.state.floatbank8_a_level      5840 non-null float64\n",
      "primary_cleaner.state.floatbank8_b_air        5840 non-null float64\n",
      "primary_cleaner.state.floatbank8_b_level      5840 non-null float64\n",
      "primary_cleaner.state.floatbank8_c_air        5840 non-null float64\n",
      "primary_cleaner.state.floatbank8_c_level      5840 non-null float64\n",
      "primary_cleaner.state.floatbank8_d_air        5840 non-null float64\n",
      "primary_cleaner.state.floatbank8_d_level      5840 non-null float64\n",
      "rougher.input.feed_ag                         5840 non-null float64\n",
      "rougher.input.feed_pb                         5840 non-null float64\n",
      "rougher.input.feed_rate                       5816 non-null float64\n",
      "rougher.input.feed_size                       5834 non-null float64\n",
      "rougher.input.feed_sol                        5789 non-null float64\n",
      "rougher.input.feed_au                         5840 non-null float64\n",
      "rougher.input.floatbank10_sulfate             5599 non-null float64\n",
      "rougher.input.floatbank10_xanthate            5733 non-null float64\n",
      "rougher.input.floatbank11_sulfate             5801 non-null float64\n",
      "rougher.input.floatbank11_xanthate            5503 non-null float64\n",
      "rougher.state.floatbank10_a_air               5839 non-null float64\n",
      "rougher.state.floatbank10_a_level             5840 non-null float64\n",
      "rougher.state.floatbank10_b_air               5839 non-null float64\n",
      "rougher.state.floatbank10_b_level             5840 non-null float64\n",
      "rougher.state.floatbank10_c_air               5839 non-null float64\n",
      "rougher.state.floatbank10_c_level             5840 non-null float64\n",
      "rougher.state.floatbank10_d_air               5839 non-null float64\n",
      "rougher.state.floatbank10_d_level             5840 non-null float64\n",
      "rougher.state.floatbank10_e_air               5839 non-null float64\n",
      "rougher.state.floatbank10_e_level             5840 non-null float64\n",
      "rougher.state.floatbank10_f_air               5839 non-null float64\n",
      "rougher.state.floatbank10_f_level             5840 non-null float64\n",
      "secondary_cleaner.state.floatbank2_a_air      5836 non-null float64\n",
      "secondary_cleaner.state.floatbank2_a_level    5840 non-null float64\n",
      "secondary_cleaner.state.floatbank2_b_air      5833 non-null float64\n",
      "secondary_cleaner.state.floatbank2_b_level    5840 non-null float64\n",
      "secondary_cleaner.state.floatbank3_a_air      5822 non-null float64\n",
      "secondary_cleaner.state.floatbank3_a_level    5840 non-null float64\n",
      "secondary_cleaner.state.floatbank3_b_air      5840 non-null float64\n",
      "secondary_cleaner.state.floatbank3_b_level    5840 non-null float64\n",
      "secondary_cleaner.state.floatbank4_a_air      5840 non-null float64\n",
      "secondary_cleaner.state.floatbank4_a_level    5840 non-null float64\n",
      "secondary_cleaner.state.floatbank4_b_air      5840 non-null float64\n",
      "secondary_cleaner.state.floatbank4_b_level    5840 non-null float64\n",
      "secondary_cleaner.state.floatbank5_a_air      5840 non-null float64\n",
      "secondary_cleaner.state.floatbank5_a_level    5840 non-null float64\n",
      "secondary_cleaner.state.floatbank5_b_air      5840 non-null float64\n",
      "secondary_cleaner.state.floatbank5_b_level    5840 non-null float64\n",
      "secondary_cleaner.state.floatbank6_a_air      5840 non-null float64\n",
      "secondary_cleaner.state.floatbank6_a_level    5840 non-null float64\n",
      "dtypes: float64(52), object(1)\n",
      "memory usage: 2.4+ MB\n",
      "None\n",
      "<class 'pandas.core.frame.DataFrame'>\n",
      "RangeIndex: 22716 entries, 0 to 22715\n",
      "Data columns (total 87 columns):\n",
      "date                                                  22716 non-null object\n",
      "final.output.concentrate_ag                           22627 non-null float64\n",
      "final.output.concentrate_pb                           22629 non-null float64\n",
      "final.output.concentrate_sol                          22331 non-null float64\n",
      "final.output.concentrate_au                           22630 non-null float64\n",
      "final.output.recovery                                 20753 non-null float64\n",
      "final.output.tail_ag                                  22633 non-null float64\n",
      "final.output.tail_pb                                  22516 non-null float64\n",
      "final.output.tail_sol                                 22445 non-null float64\n",
      "final.output.tail_au                                  22635 non-null float64\n",
      "primary_cleaner.input.sulfate                         21107 non-null float64\n",
      "primary_cleaner.input.depressant                      21170 non-null float64\n",
      "primary_cleaner.input.feed_size                       22716 non-null float64\n",
      "primary_cleaner.input.xanthate                        21565 non-null float64\n",
      "primary_cleaner.output.concentrate_ag                 22618 non-null float64\n",
      "primary_cleaner.output.concentrate_pb                 22268 non-null float64\n",
      "primary_cleaner.output.concentrate_sol                21918 non-null float64\n",
      "primary_cleaner.output.concentrate_au                 22618 non-null float64\n",
      "primary_cleaner.output.tail_ag                        22614 non-null float64\n",
      "primary_cleaner.output.tail_pb                        22594 non-null float64\n",
      "primary_cleaner.output.tail_sol                       22365 non-null float64\n",
      "primary_cleaner.output.tail_au                        22617 non-null float64\n",
      "primary_cleaner.state.floatbank8_a_air                22660 non-null float64\n",
      "primary_cleaner.state.floatbank8_a_level              22667 non-null float64\n",
      "primary_cleaner.state.floatbank8_b_air                22660 non-null float64\n",
      "primary_cleaner.state.floatbank8_b_level              22673 non-null float64\n",
      "primary_cleaner.state.floatbank8_c_air                22662 non-null float64\n",
      "primary_cleaner.state.floatbank8_c_level              22673 non-null float64\n",
      "primary_cleaner.state.floatbank8_d_air                22661 non-null float64\n",
      "primary_cleaner.state.floatbank8_d_level              22673 non-null float64\n",
      "rougher.calculation.sulfate_to_au_concentrate         22672 non-null float64\n",
      "rougher.calculation.floatbank10_sulfate_to_au_feed    22672 non-null float64\n",
      "rougher.calculation.floatbank11_sulfate_to_au_feed    22672 non-null float64\n",
      "rougher.calculation.au_pb_ratio                       21089 non-null float64\n",
      "rougher.input.feed_ag                                 22618 non-null float64\n",
      "rougher.input.feed_pb                                 22472 non-null float64\n",
      "rougher.input.feed_rate                               22163 non-null float64\n",
      "rougher.input.feed_size                               22277 non-null float64\n",
      "rougher.input.feed_sol                                22357 non-null float64\n",
      "rougher.input.feed_au                                 22617 non-null float64\n",
      "rougher.input.floatbank10_sulfate                     21415 non-null float64\n",
      "rougher.input.floatbank10_xanthate                    22247 non-null float64\n",
      "rougher.input.floatbank11_sulfate                     22038 non-null float64\n",
      "rougher.input.floatbank11_xanthate                    20459 non-null float64\n",
      "rougher.output.concentrate_ag                         22618 non-null float64\n",
      "rougher.output.concentrate_pb                         22618 non-null float64\n",
      "rougher.output.concentrate_sol                        22526 non-null float64\n",
      "rougher.output.concentrate_au                         22618 non-null float64\n",
      "rougher.output.recovery                               19597 non-null float64\n",
      "rougher.output.tail_ag                                19979 non-null float64\n",
      "rougher.output.tail_pb                                22618 non-null float64\n",
      "rougher.output.tail_sol                               19980 non-null float64\n",
      "rougher.output.tail_au                                19980 non-null float64\n",
      "rougher.state.floatbank10_a_air                       22646 non-null float64\n",
      "rougher.state.floatbank10_a_level                     22647 non-null float64\n",
      "rougher.state.floatbank10_b_air                       22646 non-null float64\n",
      "rougher.state.floatbank10_b_level                     22647 non-null float64\n",
      "rougher.state.floatbank10_c_air                       22646 non-null float64\n",
      "rougher.state.floatbank10_c_level                     22654 non-null float64\n",
      "rougher.state.floatbank10_d_air                       22641 non-null float64\n",
      "rougher.state.floatbank10_d_level                     22649 non-null float64\n",
      "rougher.state.floatbank10_e_air                       22096 non-null float64\n",
      "rougher.state.floatbank10_e_level                     22649 non-null float64\n",
      "rougher.state.floatbank10_f_air                       22641 non-null float64\n",
      "rougher.state.floatbank10_f_level                     22642 non-null float64\n",
      "secondary_cleaner.output.tail_ag                      22616 non-null float64\n",
      "secondary_cleaner.output.tail_pb                      22600 non-null float64\n",
      "secondary_cleaner.output.tail_sol                     20501 non-null float64\n",
      "secondary_cleaner.output.tail_au                      22618 non-null float64\n",
      "secondary_cleaner.state.floatbank2_a_air              22333 non-null float64\n",
      "secondary_cleaner.state.floatbank2_a_level            22591 non-null float64\n",
      "secondary_cleaner.state.floatbank2_b_air              22538 non-null float64\n",
      "secondary_cleaner.state.floatbank2_b_level            22588 non-null float64\n",
      "secondary_cleaner.state.floatbank3_a_air              22585 non-null float64\n",
      "secondary_cleaner.state.floatbank3_a_level            22587 non-null float64\n",
      "secondary_cleaner.state.floatbank3_b_air              22592 non-null float64\n",
      "secondary_cleaner.state.floatbank3_b_level            22590 non-null float64\n",
      "secondary_cleaner.state.floatbank4_a_air              22571 non-null float64\n",
      "secondary_cleaner.state.floatbank4_a_level            22587 non-null float64\n",
      "secondary_cleaner.state.floatbank4_b_air              22608 non-null float64\n",
      "secondary_cleaner.state.floatbank4_b_level            22607 non-null float64\n",
      "secondary_cleaner.state.floatbank5_a_air              22615 non-null float64\n",
      "secondary_cleaner.state.floatbank5_a_level            22615 non-null float64\n",
      "secondary_cleaner.state.floatbank5_b_air              22615 non-null float64\n",
      "secondary_cleaner.state.floatbank5_b_level            22616 non-null float64\n",
      "secondary_cleaner.state.floatbank6_a_air              22597 non-null float64\n",
      "secondary_cleaner.state.floatbank6_a_level            22615 non-null float64\n",
      "dtypes: float64(86), object(1)\n",
      "memory usage: 15.1+ MB\n",
      "None\n"
     ]
    }
   ],
   "source": [
    "print(df_train.info())\n",
    "print(df_test.info())\n",
    "print(df_full.info())"
   ]
  },
  {
   "cell_type": "markdown",
   "metadata": {},
   "source": [
    "В тестовой выборке 53 признака, на 34 меньше чем в обучающей (87).  \n",
    "У тестовых данных отсутствуют целевые столбцы. А df_full это исходный датасет, который содержит (по условию задачи) все признаки из обеих выборок. Из него можем извлечь данные для теста."
   ]
  },
  {
   "cell_type": "code",
   "execution_count": 6,
   "metadata": {},
   "outputs": [
    {
     "data": {
      "text/plain": [
       "1.0    16860\n",
       "0.0     5856\n",
       "Name: train, dtype: int64"
      ]
     },
     "execution_count": 6,
     "metadata": {},
     "output_type": "execute_result"
    }
   ],
   "source": [
    "# дадим тренировочным данным лейбл чтобы потом их легко найти в полной (full) выборке\n",
    "df_train['train'] = 1\n",
    "# объединим\n",
    "df = df_full.merge(df_train[['train','date']],how='left',on='date')\n",
    "# остальные заполним нулям, выделим таким образом тестовую выборку, сохраним размеры обеих выборок и получим все признак\n",
    "df['train'].fillna(0,inplace=True)\n",
    "df['train'].value_counts()"
   ]
  },
  {
   "cell_type": "code",
   "execution_count": 7,
   "metadata": {},
   "outputs": [],
   "source": [
    "def missing_data(data):\n",
    "    total = data.isnull().sum().sort_values(ascending = False)\n",
    "    percent = (data.isnull().sum()/data.isnull().count()*100).sort_values(ascending = False)\n",
    "    return pd.concat([total, percent], axis=1, keys=['Total', 'Percent'])"
   ]
  },
  {
   "cell_type": "code",
   "execution_count": 8,
   "metadata": {},
   "outputs": [
    {
     "data": {
      "text/html": [
       "<div>\n",
       "<style scoped>\n",
       "    .dataframe tbody tr th:only-of-type {\n",
       "        vertical-align: middle;\n",
       "    }\n",
       "\n",
       "    .dataframe tbody tr th {\n",
       "        vertical-align: top;\n",
       "    }\n",
       "\n",
       "    .dataframe thead th {\n",
       "        text-align: right;\n",
       "    }\n",
       "</style>\n",
       "<table border=\"1\" class=\"dataframe\">\n",
       "  <thead>\n",
       "    <tr style=\"text-align: right;\">\n",
       "      <th></th>\n",
       "      <th>Total</th>\n",
       "      <th>Percent</th>\n",
       "    </tr>\n",
       "  </thead>\n",
       "  <tbody>\n",
       "    <tr>\n",
       "      <td>rougher.output.recovery</td>\n",
       "      <td>3119</td>\n",
       "      <td>13.730410</td>\n",
       "    </tr>\n",
       "    <tr>\n",
       "      <td>rougher.output.tail_ag</td>\n",
       "      <td>2737</td>\n",
       "      <td>12.048776</td>\n",
       "    </tr>\n",
       "    <tr>\n",
       "      <td>rougher.output.tail_au</td>\n",
       "      <td>2736</td>\n",
       "      <td>12.044374</td>\n",
       "    </tr>\n",
       "    <tr>\n",
       "      <td>rougher.output.tail_sol</td>\n",
       "      <td>2736</td>\n",
       "      <td>12.044374</td>\n",
       "    </tr>\n",
       "    <tr>\n",
       "      <td>rougher.input.floatbank11_xanthate</td>\n",
       "      <td>2257</td>\n",
       "      <td>9.935728</td>\n",
       "    </tr>\n",
       "    <tr>\n",
       "      <td>secondary_cleaner.output.tail_sol</td>\n",
       "      <td>2215</td>\n",
       "      <td>9.750836</td>\n",
       "    </tr>\n",
       "    <tr>\n",
       "      <td>final.output.recovery</td>\n",
       "      <td>1963</td>\n",
       "      <td>8.641486</td>\n",
       "    </tr>\n",
       "    <tr>\n",
       "      <td>rougher.calculation.au_pb_ratio</td>\n",
       "      <td>1627</td>\n",
       "      <td>7.162353</td>\n",
       "    </tr>\n",
       "    <tr>\n",
       "      <td>primary_cleaner.input.sulfate</td>\n",
       "      <td>1609</td>\n",
       "      <td>7.083113</td>\n",
       "    </tr>\n",
       "    <tr>\n",
       "      <td>primary_cleaner.input.depressant</td>\n",
       "      <td>1546</td>\n",
       "      <td>6.805776</td>\n",
       "    </tr>\n",
       "    <tr>\n",
       "      <td>rougher.input.floatbank10_sulfate</td>\n",
       "      <td>1301</td>\n",
       "      <td>5.727241</td>\n",
       "    </tr>\n",
       "    <tr>\n",
       "      <td>primary_cleaner.input.xanthate</td>\n",
       "      <td>1151</td>\n",
       "      <td>5.066913</td>\n",
       "    </tr>\n",
       "    <tr>\n",
       "      <td>primary_cleaner.output.concentrate_sol</td>\n",
       "      <td>798</td>\n",
       "      <td>3.512942</td>\n",
       "    </tr>\n",
       "    <tr>\n",
       "      <td>rougher.input.floatbank11_sulfate</td>\n",
       "      <td>678</td>\n",
       "      <td>2.984680</td>\n",
       "    </tr>\n",
       "    <tr>\n",
       "      <td>rougher.state.floatbank10_e_air</td>\n",
       "      <td>620</td>\n",
       "      <td>2.729354</td>\n",
       "    </tr>\n",
       "    <tr>\n",
       "      <td>rougher.input.feed_rate</td>\n",
       "      <td>553</td>\n",
       "      <td>2.434407</td>\n",
       "    </tr>\n",
       "    <tr>\n",
       "      <td>rougher.input.floatbank10_xanthate</td>\n",
       "      <td>469</td>\n",
       "      <td>2.064624</td>\n",
       "    </tr>\n",
       "    <tr>\n",
       "      <td>primary_cleaner.output.concentrate_pb</td>\n",
       "      <td>448</td>\n",
       "      <td>1.972178</td>\n",
       "    </tr>\n",
       "    <tr>\n",
       "      <td>rougher.input.feed_size</td>\n",
       "      <td>439</td>\n",
       "      <td>1.932559</td>\n",
       "    </tr>\n",
       "    <tr>\n",
       "      <td>final.output.concentrate_sol</td>\n",
       "      <td>385</td>\n",
       "      <td>1.694841</td>\n",
       "    </tr>\n",
       "    <tr>\n",
       "      <td>secondary_cleaner.state.floatbank2_a_air</td>\n",
       "      <td>383</td>\n",
       "      <td>1.686036</td>\n",
       "    </tr>\n",
       "    <tr>\n",
       "      <td>rougher.input.feed_sol</td>\n",
       "      <td>359</td>\n",
       "      <td>1.580384</td>\n",
       "    </tr>\n",
       "    <tr>\n",
       "      <td>primary_cleaner.output.tail_sol</td>\n",
       "      <td>351</td>\n",
       "      <td>1.545166</td>\n",
       "    </tr>\n",
       "    <tr>\n",
       "      <td>final.output.tail_sol</td>\n",
       "      <td>271</td>\n",
       "      <td>1.192992</td>\n",
       "    </tr>\n",
       "    <tr>\n",
       "      <td>rougher.input.feed_pb</td>\n",
       "      <td>244</td>\n",
       "      <td>1.074133</td>\n",
       "    </tr>\n",
       "    <tr>\n",
       "      <td>final.output.tail_pb</td>\n",
       "      <td>200</td>\n",
       "      <td>0.880437</td>\n",
       "    </tr>\n",
       "    <tr>\n",
       "      <td>rougher.output.concentrate_sol</td>\n",
       "      <td>190</td>\n",
       "      <td>0.836415</td>\n",
       "    </tr>\n",
       "    <tr>\n",
       "      <td>secondary_cleaner.state.floatbank2_b_air</td>\n",
       "      <td>178</td>\n",
       "      <td>0.783589</td>\n",
       "    </tr>\n",
       "    <tr>\n",
       "      <td>secondary_cleaner.state.floatbank4_a_air</td>\n",
       "      <td>145</td>\n",
       "      <td>0.638317</td>\n",
       "    </tr>\n",
       "    <tr>\n",
       "      <td>secondary_cleaner.state.floatbank3_a_air</td>\n",
       "      <td>131</td>\n",
       "      <td>0.576686</td>\n",
       "    </tr>\n",
       "    <tr>\n",
       "      <td>secondary_cleaner.state.floatbank4_a_level</td>\n",
       "      <td>129</td>\n",
       "      <td>0.567882</td>\n",
       "    </tr>\n",
       "    <tr>\n",
       "      <td>secondary_cleaner.state.floatbank3_a_level</td>\n",
       "      <td>129</td>\n",
       "      <td>0.567882</td>\n",
       "    </tr>\n",
       "    <tr>\n",
       "      <td>secondary_cleaner.state.floatbank2_b_level</td>\n",
       "      <td>128</td>\n",
       "      <td>0.563479</td>\n",
       "    </tr>\n",
       "    <tr>\n",
       "      <td>secondary_cleaner.state.floatbank3_b_level</td>\n",
       "      <td>126</td>\n",
       "      <td>0.554675</td>\n",
       "    </tr>\n",
       "    <tr>\n",
       "      <td>secondary_cleaner.state.floatbank2_a_level</td>\n",
       "      <td>125</td>\n",
       "      <td>0.550273</td>\n",
       "    </tr>\n",
       "    <tr>\n",
       "      <td>secondary_cleaner.state.floatbank3_b_air</td>\n",
       "      <td>124</td>\n",
       "      <td>0.545871</td>\n",
       "    </tr>\n",
       "    <tr>\n",
       "      <td>primary_cleaner.output.tail_pb</td>\n",
       "      <td>122</td>\n",
       "      <td>0.537066</td>\n",
       "    </tr>\n",
       "    <tr>\n",
       "      <td>secondary_cleaner.state.floatbank6_a_air</td>\n",
       "      <td>119</td>\n",
       "      <td>0.523860</td>\n",
       "    </tr>\n",
       "    <tr>\n",
       "      <td>secondary_cleaner.output.tail_pb</td>\n",
       "      <td>116</td>\n",
       "      <td>0.510653</td>\n",
       "    </tr>\n",
       "    <tr>\n",
       "      <td>secondary_cleaner.state.floatbank4_b_level</td>\n",
       "      <td>109</td>\n",
       "      <td>0.479838</td>\n",
       "    </tr>\n",
       "    <tr>\n",
       "      <td>secondary_cleaner.state.floatbank4_b_air</td>\n",
       "      <td>108</td>\n",
       "      <td>0.475436</td>\n",
       "    </tr>\n",
       "    <tr>\n",
       "      <td>primary_cleaner.output.tail_ag</td>\n",
       "      <td>102</td>\n",
       "      <td>0.449023</td>\n",
       "    </tr>\n",
       "    <tr>\n",
       "      <td>secondary_cleaner.state.floatbank6_a_level</td>\n",
       "      <td>101</td>\n",
       "      <td>0.444621</td>\n",
       "    </tr>\n",
       "    <tr>\n",
       "      <td>secondary_cleaner.state.floatbank5_b_air</td>\n",
       "      <td>101</td>\n",
       "      <td>0.444621</td>\n",
       "    </tr>\n",
       "    <tr>\n",
       "      <td>secondary_cleaner.state.floatbank5_a_level</td>\n",
       "      <td>101</td>\n",
       "      <td>0.444621</td>\n",
       "    </tr>\n",
       "    <tr>\n",
       "      <td>secondary_cleaner.state.floatbank5_a_air</td>\n",
       "      <td>101</td>\n",
       "      <td>0.444621</td>\n",
       "    </tr>\n",
       "    <tr>\n",
       "      <td>secondary_cleaner.output.tail_ag</td>\n",
       "      <td>100</td>\n",
       "      <td>0.440218</td>\n",
       "    </tr>\n",
       "    <tr>\n",
       "      <td>secondary_cleaner.state.floatbank5_b_level</td>\n",
       "      <td>100</td>\n",
       "      <td>0.440218</td>\n",
       "    </tr>\n",
       "    <tr>\n",
       "      <td>primary_cleaner.output.tail_au</td>\n",
       "      <td>99</td>\n",
       "      <td>0.435816</td>\n",
       "    </tr>\n",
       "    <tr>\n",
       "      <td>rougher.input.feed_au</td>\n",
       "      <td>99</td>\n",
       "      <td>0.435816</td>\n",
       "    </tr>\n",
       "    <tr>\n",
       "      <td>rougher.input.feed_ag</td>\n",
       "      <td>98</td>\n",
       "      <td>0.431414</td>\n",
       "    </tr>\n",
       "    <tr>\n",
       "      <td>primary_cleaner.output.concentrate_au</td>\n",
       "      <td>98</td>\n",
       "      <td>0.431414</td>\n",
       "    </tr>\n",
       "    <tr>\n",
       "      <td>primary_cleaner.output.concentrate_ag</td>\n",
       "      <td>98</td>\n",
       "      <td>0.431414</td>\n",
       "    </tr>\n",
       "    <tr>\n",
       "      <td>secondary_cleaner.output.tail_au</td>\n",
       "      <td>98</td>\n",
       "      <td>0.431414</td>\n",
       "    </tr>\n",
       "    <tr>\n",
       "      <td>rougher.output.concentrate_ag</td>\n",
       "      <td>98</td>\n",
       "      <td>0.431414</td>\n",
       "    </tr>\n",
       "    <tr>\n",
       "      <td>rougher.output.concentrate_au</td>\n",
       "      <td>98</td>\n",
       "      <td>0.431414</td>\n",
       "    </tr>\n",
       "    <tr>\n",
       "      <td>rougher.output.tail_pb</td>\n",
       "      <td>98</td>\n",
       "      <td>0.431414</td>\n",
       "    </tr>\n",
       "    <tr>\n",
       "      <td>rougher.output.concentrate_pb</td>\n",
       "      <td>98</td>\n",
       "      <td>0.431414</td>\n",
       "    </tr>\n",
       "    <tr>\n",
       "      <td>final.output.concentrate_ag</td>\n",
       "      <td>89</td>\n",
       "      <td>0.391794</td>\n",
       "    </tr>\n",
       "    <tr>\n",
       "      <td>final.output.concentrate_pb</td>\n",
       "      <td>87</td>\n",
       "      <td>0.382990</td>\n",
       "    </tr>\n",
       "    <tr>\n",
       "      <td>final.output.concentrate_au</td>\n",
       "      <td>86</td>\n",
       "      <td>0.378588</td>\n",
       "    </tr>\n",
       "    <tr>\n",
       "      <td>final.output.tail_ag</td>\n",
       "      <td>83</td>\n",
       "      <td>0.365381</td>\n",
       "    </tr>\n",
       "    <tr>\n",
       "      <td>final.output.tail_au</td>\n",
       "      <td>81</td>\n",
       "      <td>0.356577</td>\n",
       "    </tr>\n",
       "    <tr>\n",
       "      <td>rougher.state.floatbank10_f_air</td>\n",
       "      <td>75</td>\n",
       "      <td>0.330164</td>\n",
       "    </tr>\n",
       "    <tr>\n",
       "      <td>rougher.state.floatbank10_d_air</td>\n",
       "      <td>75</td>\n",
       "      <td>0.330164</td>\n",
       "    </tr>\n",
       "    <tr>\n",
       "      <td>rougher.state.floatbank10_f_level</td>\n",
       "      <td>74</td>\n",
       "      <td>0.325762</td>\n",
       "    </tr>\n",
       "    <tr>\n",
       "      <td>rougher.state.floatbank10_b_air</td>\n",
       "      <td>70</td>\n",
       "      <td>0.308153</td>\n",
       "    </tr>\n",
       "    <tr>\n",
       "      <td>rougher.state.floatbank10_c_air</td>\n",
       "      <td>70</td>\n",
       "      <td>0.308153</td>\n",
       "    </tr>\n",
       "    <tr>\n",
       "      <td>rougher.state.floatbank10_a_air</td>\n",
       "      <td>70</td>\n",
       "      <td>0.308153</td>\n",
       "    </tr>\n",
       "    <tr>\n",
       "      <td>rougher.state.floatbank10_a_level</td>\n",
       "      <td>69</td>\n",
       "      <td>0.303751</td>\n",
       "    </tr>\n",
       "    <tr>\n",
       "      <td>rougher.state.floatbank10_b_level</td>\n",
       "      <td>69</td>\n",
       "      <td>0.303751</td>\n",
       "    </tr>\n",
       "    <tr>\n",
       "      <td>rougher.state.floatbank10_d_level</td>\n",
       "      <td>67</td>\n",
       "      <td>0.294946</td>\n",
       "    </tr>\n",
       "    <tr>\n",
       "      <td>rougher.state.floatbank10_e_level</td>\n",
       "      <td>67</td>\n",
       "      <td>0.294946</td>\n",
       "    </tr>\n",
       "    <tr>\n",
       "      <td>rougher.state.floatbank10_c_level</td>\n",
       "      <td>62</td>\n",
       "      <td>0.272935</td>\n",
       "    </tr>\n",
       "    <tr>\n",
       "      <td>primary_cleaner.state.floatbank8_a_air</td>\n",
       "      <td>56</td>\n",
       "      <td>0.246522</td>\n",
       "    </tr>\n",
       "    <tr>\n",
       "      <td>primary_cleaner.state.floatbank8_b_air</td>\n",
       "      <td>56</td>\n",
       "      <td>0.246522</td>\n",
       "    </tr>\n",
       "    <tr>\n",
       "      <td>primary_cleaner.state.floatbank8_d_air</td>\n",
       "      <td>55</td>\n",
       "      <td>0.242120</td>\n",
       "    </tr>\n",
       "    <tr>\n",
       "      <td>primary_cleaner.state.floatbank8_c_air</td>\n",
       "      <td>54</td>\n",
       "      <td>0.237718</td>\n",
       "    </tr>\n",
       "    <tr>\n",
       "      <td>primary_cleaner.state.floatbank8_a_level</td>\n",
       "      <td>49</td>\n",
       "      <td>0.215707</td>\n",
       "    </tr>\n",
       "    <tr>\n",
       "      <td>rougher.calculation.floatbank11_sulfate_to_au_feed</td>\n",
       "      <td>44</td>\n",
       "      <td>0.193696</td>\n",
       "    </tr>\n",
       "    <tr>\n",
       "      <td>rougher.calculation.floatbank10_sulfate_to_au_feed</td>\n",
       "      <td>44</td>\n",
       "      <td>0.193696</td>\n",
       "    </tr>\n",
       "    <tr>\n",
       "      <td>rougher.calculation.sulfate_to_au_concentrate</td>\n",
       "      <td>44</td>\n",
       "      <td>0.193696</td>\n",
       "    </tr>\n",
       "    <tr>\n",
       "      <td>primary_cleaner.state.floatbank8_b_level</td>\n",
       "      <td>43</td>\n",
       "      <td>0.189294</td>\n",
       "    </tr>\n",
       "    <tr>\n",
       "      <td>primary_cleaner.state.floatbank8_c_level</td>\n",
       "      <td>43</td>\n",
       "      <td>0.189294</td>\n",
       "    </tr>\n",
       "    <tr>\n",
       "      <td>primary_cleaner.state.floatbank8_d_level</td>\n",
       "      <td>43</td>\n",
       "      <td>0.189294</td>\n",
       "    </tr>\n",
       "    <tr>\n",
       "      <td>train</td>\n",
       "      <td>0</td>\n",
       "      <td>0.000000</td>\n",
       "    </tr>\n",
       "    <tr>\n",
       "      <td>primary_cleaner.input.feed_size</td>\n",
       "      <td>0</td>\n",
       "      <td>0.000000</td>\n",
       "    </tr>\n",
       "    <tr>\n",
       "      <td>date</td>\n",
       "      <td>0</td>\n",
       "      <td>0.000000</td>\n",
       "    </tr>\n",
       "  </tbody>\n",
       "</table>\n",
       "</div>"
      ],
      "text/plain": [
       "                                                    Total    Percent\n",
       "rougher.output.recovery                              3119  13.730410\n",
       "rougher.output.tail_ag                               2737  12.048776\n",
       "rougher.output.tail_au                               2736  12.044374\n",
       "rougher.output.tail_sol                              2736  12.044374\n",
       "rougher.input.floatbank11_xanthate                   2257   9.935728\n",
       "secondary_cleaner.output.tail_sol                    2215   9.750836\n",
       "final.output.recovery                                1963   8.641486\n",
       "rougher.calculation.au_pb_ratio                      1627   7.162353\n",
       "primary_cleaner.input.sulfate                        1609   7.083113\n",
       "primary_cleaner.input.depressant                     1546   6.805776\n",
       "rougher.input.floatbank10_sulfate                    1301   5.727241\n",
       "primary_cleaner.input.xanthate                       1151   5.066913\n",
       "primary_cleaner.output.concentrate_sol                798   3.512942\n",
       "rougher.input.floatbank11_sulfate                     678   2.984680\n",
       "rougher.state.floatbank10_e_air                       620   2.729354\n",
       "rougher.input.feed_rate                               553   2.434407\n",
       "rougher.input.floatbank10_xanthate                    469   2.064624\n",
       "primary_cleaner.output.concentrate_pb                 448   1.972178\n",
       "rougher.input.feed_size                               439   1.932559\n",
       "final.output.concentrate_sol                          385   1.694841\n",
       "secondary_cleaner.state.floatbank2_a_air              383   1.686036\n",
       "rougher.input.feed_sol                                359   1.580384\n",
       "primary_cleaner.output.tail_sol                       351   1.545166\n",
       "final.output.tail_sol                                 271   1.192992\n",
       "rougher.input.feed_pb                                 244   1.074133\n",
       "final.output.tail_pb                                  200   0.880437\n",
       "rougher.output.concentrate_sol                        190   0.836415\n",
       "secondary_cleaner.state.floatbank2_b_air              178   0.783589\n",
       "secondary_cleaner.state.floatbank4_a_air              145   0.638317\n",
       "secondary_cleaner.state.floatbank3_a_air              131   0.576686\n",
       "secondary_cleaner.state.floatbank4_a_level            129   0.567882\n",
       "secondary_cleaner.state.floatbank3_a_level            129   0.567882\n",
       "secondary_cleaner.state.floatbank2_b_level            128   0.563479\n",
       "secondary_cleaner.state.floatbank3_b_level            126   0.554675\n",
       "secondary_cleaner.state.floatbank2_a_level            125   0.550273\n",
       "secondary_cleaner.state.floatbank3_b_air              124   0.545871\n",
       "primary_cleaner.output.tail_pb                        122   0.537066\n",
       "secondary_cleaner.state.floatbank6_a_air              119   0.523860\n",
       "secondary_cleaner.output.tail_pb                      116   0.510653\n",
       "secondary_cleaner.state.floatbank4_b_level            109   0.479838\n",
       "secondary_cleaner.state.floatbank4_b_air              108   0.475436\n",
       "primary_cleaner.output.tail_ag                        102   0.449023\n",
       "secondary_cleaner.state.floatbank6_a_level            101   0.444621\n",
       "secondary_cleaner.state.floatbank5_b_air              101   0.444621\n",
       "secondary_cleaner.state.floatbank5_a_level            101   0.444621\n",
       "secondary_cleaner.state.floatbank5_a_air              101   0.444621\n",
       "secondary_cleaner.output.tail_ag                      100   0.440218\n",
       "secondary_cleaner.state.floatbank5_b_level            100   0.440218\n",
       "primary_cleaner.output.tail_au                         99   0.435816\n",
       "rougher.input.feed_au                                  99   0.435816\n",
       "rougher.input.feed_ag                                  98   0.431414\n",
       "primary_cleaner.output.concentrate_au                  98   0.431414\n",
       "primary_cleaner.output.concentrate_ag                  98   0.431414\n",
       "secondary_cleaner.output.tail_au                       98   0.431414\n",
       "rougher.output.concentrate_ag                          98   0.431414\n",
       "rougher.output.concentrate_au                          98   0.431414\n",
       "rougher.output.tail_pb                                 98   0.431414\n",
       "rougher.output.concentrate_pb                          98   0.431414\n",
       "final.output.concentrate_ag                            89   0.391794\n",
       "final.output.concentrate_pb                            87   0.382990\n",
       "final.output.concentrate_au                            86   0.378588\n",
       "final.output.tail_ag                                   83   0.365381\n",
       "final.output.tail_au                                   81   0.356577\n",
       "rougher.state.floatbank10_f_air                        75   0.330164\n",
       "rougher.state.floatbank10_d_air                        75   0.330164\n",
       "rougher.state.floatbank10_f_level                      74   0.325762\n",
       "rougher.state.floatbank10_b_air                        70   0.308153\n",
       "rougher.state.floatbank10_c_air                        70   0.308153\n",
       "rougher.state.floatbank10_a_air                        70   0.308153\n",
       "rougher.state.floatbank10_a_level                      69   0.303751\n",
       "rougher.state.floatbank10_b_level                      69   0.303751\n",
       "rougher.state.floatbank10_d_level                      67   0.294946\n",
       "rougher.state.floatbank10_e_level                      67   0.294946\n",
       "rougher.state.floatbank10_c_level                      62   0.272935\n",
       "primary_cleaner.state.floatbank8_a_air                 56   0.246522\n",
       "primary_cleaner.state.floatbank8_b_air                 56   0.246522\n",
       "primary_cleaner.state.floatbank8_d_air                 55   0.242120\n",
       "primary_cleaner.state.floatbank8_c_air                 54   0.237718\n",
       "primary_cleaner.state.floatbank8_a_level               49   0.215707\n",
       "rougher.calculation.floatbank11_sulfate_to_au_feed     44   0.193696\n",
       "rougher.calculation.floatbank10_sulfate_to_au_feed     44   0.193696\n",
       "rougher.calculation.sulfate_to_au_concentrate          44   0.193696\n",
       "primary_cleaner.state.floatbank8_b_level               43   0.189294\n",
       "primary_cleaner.state.floatbank8_c_level               43   0.189294\n",
       "primary_cleaner.state.floatbank8_d_level               43   0.189294\n",
       "train                                                   0   0.000000\n",
       "primary_cleaner.input.feed_size                         0   0.000000\n",
       "date                                                    0   0.000000"
      ]
     },
     "execution_count": 8,
     "metadata": {},
     "output_type": "execute_result"
    }
   ],
   "source": [
    "missing_data(df)"
   ]
  },
  {
   "cell_type": "markdown",
   "metadata": {},
   "source": [
    "Больше всего пропусков в rougher.output.recovery (13.73%) это эффективность обогащения чернового концентрата."
   ]
  },
  {
   "cell_type": "markdown",
   "metadata": {},
   "source": [
    "### Проверим, что эффективность обогащения на обучающей выборке рассчитана правильно"
   ]
  },
  {
   "attachments": {
    "image.png": {
     "image/png": "[encoded data removed]"
    }
   },
   "cell_type": "markdown",
   "metadata": {},
   "source": [
    "Формула для для расчета эффективности обогащения:  \n",
    "![image.png](attachment:image.png)  \n",
    "\n",
    "где:\n",
    "* C — доля золота в концентрате после флотации/очистки;\n",
    "* F — доля золота в сырье/концентрате до флотации/очистки;\n",
    "* T — доля золота в отвальных хвостах после флотации/очистки.\n"
   ]
  },
  {
   "cell_type": "code",
   "execution_count": 9,
   "metadata": {},
   "outputs": [
    {
     "name": "stdout",
     "output_type": "stream",
     "text": [
      "0    87.107763\n",
      "1    86.843261\n",
      "2    86.842308\n",
      "3    87.226430\n",
      "4    86.688794\n",
      "Name: rougher.output.recovery, dtype: float64\n",
      "AxesSubplot(0.125,0.125;0.775x0.755)\n"
     ]
    },
    {
     "data": {
      "image/png": "[encoded data removed]",
      "text/plain": [
       "<Figure size 432x288 with 1 Axes>"
      ]
     },
     "metadata": {
      "needs_background": "light"
     },
     "output_type": "display_data"
    }
   ],
   "source": [
    "print(df['rougher.output.recovery'].head())\n",
    "print(df['rougher.output.recovery'].hist());"
   ]
  },
  {
   "cell_type": "markdown",
   "metadata": {},
   "source": [
    "Нет значений > 100, есть 0."
   ]
  },
  {
   "cell_type": "code",
   "execution_count": 10,
   "metadata": {},
   "outputs": [
    {
     "name": "stdout",
     "output_type": "stream",
     "text": [
      "419\n"
     ]
    }
   ],
   "source": [
    "print(df[df['rougher.output.recovery'] <= 0]['rougher.output.recovery'].count())\n",
    "# 419 нулевых значений, можно удалить\n",
    "df = df[df['rougher.output.recovery'] > 0]"
   ]
  },
  {
   "cell_type": "code",
   "execution_count": 11,
   "metadata": {},
   "outputs": [
    {
     "data": {
      "text/html": [
       "<div>\n",
       "<style scoped>\n",
       "    .dataframe tbody tr th:only-of-type {\n",
       "        vertical-align: middle;\n",
       "    }\n",
       "\n",
       "    .dataframe tbody tr th {\n",
       "        vertical-align: top;\n",
       "    }\n",
       "\n",
       "    .dataframe thead th {\n",
       "        text-align: right;\n",
       "    }\n",
       "</style>\n",
       "<table border=\"1\" class=\"dataframe\">\n",
       "  <thead>\n",
       "    <tr style=\"text-align: right;\">\n",
       "      <th></th>\n",
       "      <th>Total</th>\n",
       "      <th>Percent</th>\n",
       "    </tr>\n",
       "  </thead>\n",
       "  <tbody>\n",
       "    <tr>\n",
       "      <td>secondary_cleaner.output.tail_sol</td>\n",
       "      <td>1787</td>\n",
       "      <td>9.317969</td>\n",
       "    </tr>\n",
       "    <tr>\n",
       "      <td>rougher.input.floatbank11_xanthate</td>\n",
       "      <td>435</td>\n",
       "      <td>2.268224</td>\n",
       "    </tr>\n",
       "    <tr>\n",
       "      <td>primary_cleaner.output.concentrate_sol</td>\n",
       "      <td>419</td>\n",
       "      <td>2.184795</td>\n",
       "    </tr>\n",
       "    <tr>\n",
       "      <td>rougher.state.floatbank10_e_air</td>\n",
       "      <td>376</td>\n",
       "      <td>1.960580</td>\n",
       "    </tr>\n",
       "    <tr>\n",
       "      <td>final.output.concentrate_sol</td>\n",
       "      <td>229</td>\n",
       "      <td>1.194077</td>\n",
       "    </tr>\n",
       "    <tr>\n",
       "      <td>secondary_cleaner.state.floatbank2_a_air</td>\n",
       "      <td>219</td>\n",
       "      <td>1.141933</td>\n",
       "    </tr>\n",
       "    <tr>\n",
       "      <td>primary_cleaner.output.concentrate_pb</td>\n",
       "      <td>155</td>\n",
       "      <td>0.808218</td>\n",
       "    </tr>\n",
       "    <tr>\n",
       "      <td>rougher.input.feed_size</td>\n",
       "      <td>149</td>\n",
       "      <td>0.776932</td>\n",
       "    </tr>\n",
       "    <tr>\n",
       "      <td>final.output.recovery</td>\n",
       "      <td>133</td>\n",
       "      <td>0.693503</td>\n",
       "    </tr>\n",
       "    <tr>\n",
       "      <td>rougher.input.feed_pb</td>\n",
       "      <td>123</td>\n",
       "      <td>0.641360</td>\n",
       "    </tr>\n",
       "    <tr>\n",
       "      <td>final.output.tail_pb</td>\n",
       "      <td>115</td>\n",
       "      <td>0.599645</td>\n",
       "    </tr>\n",
       "    <tr>\n",
       "      <td>rougher.input.feed_sol</td>\n",
       "      <td>113</td>\n",
       "      <td>0.589217</td>\n",
       "    </tr>\n",
       "    <tr>\n",
       "      <td>primary_cleaner.input.xanthate</td>\n",
       "      <td>104</td>\n",
       "      <td>0.542288</td>\n",
       "    </tr>\n",
       "    <tr>\n",
       "      <td>primary_cleaner.output.tail_sol</td>\n",
       "      <td>94</td>\n",
       "      <td>0.490145</td>\n",
       "    </tr>\n",
       "    <tr>\n",
       "      <td>rougher.input.floatbank11_sulfate</td>\n",
       "      <td>39</td>\n",
       "      <td>0.203358</td>\n",
       "    </tr>\n",
       "    <tr>\n",
       "      <td>primary_cleaner.input.depressant</td>\n",
       "      <td>39</td>\n",
       "      <td>0.203358</td>\n",
       "    </tr>\n",
       "    <tr>\n",
       "      <td>rougher.input.floatbank10_sulfate</td>\n",
       "      <td>37</td>\n",
       "      <td>0.192929</td>\n",
       "    </tr>\n",
       "    <tr>\n",
       "      <td>rougher.output.concentrate_sol</td>\n",
       "      <td>27</td>\n",
       "      <td>0.140786</td>\n",
       "    </tr>\n",
       "    <tr>\n",
       "      <td>primary_cleaner.input.sulfate</td>\n",
       "      <td>24</td>\n",
       "      <td>0.125143</td>\n",
       "    </tr>\n",
       "    <tr>\n",
       "      <td>secondary_cleaner.state.floatbank2_b_air</td>\n",
       "      <td>24</td>\n",
       "      <td>0.125143</td>\n",
       "    </tr>\n",
       "    <tr>\n",
       "      <td>primary_cleaner.output.tail_pb</td>\n",
       "      <td>22</td>\n",
       "      <td>0.114715</td>\n",
       "    </tr>\n",
       "    <tr>\n",
       "      <td>rougher.input.feed_rate</td>\n",
       "      <td>15</td>\n",
       "      <td>0.078215</td>\n",
       "    </tr>\n",
       "    <tr>\n",
       "      <td>secondary_cleaner.state.floatbank3_a_air</td>\n",
       "      <td>14</td>\n",
       "      <td>0.073000</td>\n",
       "    </tr>\n",
       "    <tr>\n",
       "      <td>secondary_cleaner.output.tail_pb</td>\n",
       "      <td>12</td>\n",
       "      <td>0.062572</td>\n",
       "    </tr>\n",
       "    <tr>\n",
       "      <td>final.output.tail_sol</td>\n",
       "      <td>9</td>\n",
       "      <td>0.046929</td>\n",
       "    </tr>\n",
       "    <tr>\n",
       "      <td>rougher.input.floatbank10_xanthate</td>\n",
       "      <td>9</td>\n",
       "      <td>0.046929</td>\n",
       "    </tr>\n",
       "    <tr>\n",
       "      <td>secondary_cleaner.state.floatbank4_a_air</td>\n",
       "      <td>6</td>\n",
       "      <td>0.031286</td>\n",
       "    </tr>\n",
       "    <tr>\n",
       "      <td>final.output.concentrate_ag</td>\n",
       "      <td>6</td>\n",
       "      <td>0.031286</td>\n",
       "    </tr>\n",
       "    <tr>\n",
       "      <td>final.output.concentrate_pb</td>\n",
       "      <td>5</td>\n",
       "      <td>0.026072</td>\n",
       "    </tr>\n",
       "    <tr>\n",
       "      <td>primary_cleaner.output.tail_ag</td>\n",
       "      <td>4</td>\n",
       "      <td>0.020857</td>\n",
       "    </tr>\n",
       "    <tr>\n",
       "      <td>final.output.concentrate_au</td>\n",
       "      <td>4</td>\n",
       "      <td>0.020857</td>\n",
       "    </tr>\n",
       "    <tr>\n",
       "      <td>primary_cleaner.state.floatbank8_b_air</td>\n",
       "      <td>4</td>\n",
       "      <td>0.020857</td>\n",
       "    </tr>\n",
       "    <tr>\n",
       "      <td>primary_cleaner.state.floatbank8_a_air</td>\n",
       "      <td>4</td>\n",
       "      <td>0.020857</td>\n",
       "    </tr>\n",
       "    <tr>\n",
       "      <td>primary_cleaner.state.floatbank8_d_air</td>\n",
       "      <td>3</td>\n",
       "      <td>0.015643</td>\n",
       "    </tr>\n",
       "    <tr>\n",
       "      <td>rougher.calculation.sulfate_to_au_concentrate</td>\n",
       "      <td>2</td>\n",
       "      <td>0.010429</td>\n",
       "    </tr>\n",
       "    <tr>\n",
       "      <td>primary_cleaner.state.floatbank8_c_air</td>\n",
       "      <td>2</td>\n",
       "      <td>0.010429</td>\n",
       "    </tr>\n",
       "    <tr>\n",
       "      <td>secondary_cleaner.state.floatbank6_a_air</td>\n",
       "      <td>2</td>\n",
       "      <td>0.010429</td>\n",
       "    </tr>\n",
       "    <tr>\n",
       "      <td>secondary_cleaner.output.tail_ag</td>\n",
       "      <td>2</td>\n",
       "      <td>0.010429</td>\n",
       "    </tr>\n",
       "    <tr>\n",
       "      <td>rougher.calculation.floatbank10_sulfate_to_au_feed</td>\n",
       "      <td>2</td>\n",
       "      <td>0.010429</td>\n",
       "    </tr>\n",
       "    <tr>\n",
       "      <td>rougher.calculation.floatbank11_sulfate_to_au_feed</td>\n",
       "      <td>2</td>\n",
       "      <td>0.010429</td>\n",
       "    </tr>\n",
       "    <tr>\n",
       "      <td>secondary_cleaner.state.floatbank5_b_air</td>\n",
       "      <td>1</td>\n",
       "      <td>0.005214</td>\n",
       "    </tr>\n",
       "    <tr>\n",
       "      <td>secondary_cleaner.state.floatbank5_a_level</td>\n",
       "      <td>1</td>\n",
       "      <td>0.005214</td>\n",
       "    </tr>\n",
       "    <tr>\n",
       "      <td>primary_cleaner.state.floatbank8_a_level</td>\n",
       "      <td>1</td>\n",
       "      <td>0.005214</td>\n",
       "    </tr>\n",
       "    <tr>\n",
       "      <td>secondary_cleaner.state.floatbank5_b_level</td>\n",
       "      <td>1</td>\n",
       "      <td>0.005214</td>\n",
       "    </tr>\n",
       "    <tr>\n",
       "      <td>primary_cleaner.state.floatbank8_d_level</td>\n",
       "      <td>1</td>\n",
       "      <td>0.005214</td>\n",
       "    </tr>\n",
       "    <tr>\n",
       "      <td>secondary_cleaner.state.floatbank4_b_level</td>\n",
       "      <td>1</td>\n",
       "      <td>0.005214</td>\n",
       "    </tr>\n",
       "    <tr>\n",
       "      <td>primary_cleaner.state.floatbank8_c_level</td>\n",
       "      <td>1</td>\n",
       "      <td>0.005214</td>\n",
       "    </tr>\n",
       "    <tr>\n",
       "      <td>primary_cleaner.state.floatbank8_b_level</td>\n",
       "      <td>1</td>\n",
       "      <td>0.005214</td>\n",
       "    </tr>\n",
       "    <tr>\n",
       "      <td>secondary_cleaner.state.floatbank5_a_air</td>\n",
       "      <td>1</td>\n",
       "      <td>0.005214</td>\n",
       "    </tr>\n",
       "    <tr>\n",
       "      <td>secondary_cleaner.state.floatbank4_a_level</td>\n",
       "      <td>1</td>\n",
       "      <td>0.005214</td>\n",
       "    </tr>\n",
       "    <tr>\n",
       "      <td>rougher.state.floatbank10_a_level</td>\n",
       "      <td>1</td>\n",
       "      <td>0.005214</td>\n",
       "    </tr>\n",
       "    <tr>\n",
       "      <td>secondary_cleaner.state.floatbank4_b_air</td>\n",
       "      <td>1</td>\n",
       "      <td>0.005214</td>\n",
       "    </tr>\n",
       "    <tr>\n",
       "      <td>secondary_cleaner.state.floatbank2_a_level</td>\n",
       "      <td>1</td>\n",
       "      <td>0.005214</td>\n",
       "    </tr>\n",
       "    <tr>\n",
       "      <td>secondary_cleaner.state.floatbank2_b_level</td>\n",
       "      <td>1</td>\n",
       "      <td>0.005214</td>\n",
       "    </tr>\n",
       "    <tr>\n",
       "      <td>final.output.tail_ag</td>\n",
       "      <td>1</td>\n",
       "      <td>0.005214</td>\n",
       "    </tr>\n",
       "    <tr>\n",
       "      <td>rougher.state.floatbank10_c_level</td>\n",
       "      <td>1</td>\n",
       "      <td>0.005214</td>\n",
       "    </tr>\n",
       "    <tr>\n",
       "      <td>rougher.state.floatbank10_c_air</td>\n",
       "      <td>1</td>\n",
       "      <td>0.005214</td>\n",
       "    </tr>\n",
       "    <tr>\n",
       "      <td>rougher.state.floatbank10_b_level</td>\n",
       "      <td>1</td>\n",
       "      <td>0.005214</td>\n",
       "    </tr>\n",
       "    <tr>\n",
       "      <td>rougher.state.floatbank10_b_air</td>\n",
       "      <td>1</td>\n",
       "      <td>0.005214</td>\n",
       "    </tr>\n",
       "    <tr>\n",
       "      <td>rougher.state.floatbank10_a_air</td>\n",
       "      <td>1</td>\n",
       "      <td>0.005214</td>\n",
       "    </tr>\n",
       "    <tr>\n",
       "      <td>rougher.output.tail_ag</td>\n",
       "      <td>1</td>\n",
       "      <td>0.005214</td>\n",
       "    </tr>\n",
       "    <tr>\n",
       "      <td>secondary_cleaner.state.floatbank3_a_level</td>\n",
       "      <td>1</td>\n",
       "      <td>0.005214</td>\n",
       "    </tr>\n",
       "    <tr>\n",
       "      <td>secondary_cleaner.state.floatbank3_b_air</td>\n",
       "      <td>1</td>\n",
       "      <td>0.005214</td>\n",
       "    </tr>\n",
       "    <tr>\n",
       "      <td>secondary_cleaner.state.floatbank3_b_level</td>\n",
       "      <td>1</td>\n",
       "      <td>0.005214</td>\n",
       "    </tr>\n",
       "    <tr>\n",
       "      <td>secondary_cleaner.state.floatbank6_a_level</td>\n",
       "      <td>1</td>\n",
       "      <td>0.005214</td>\n",
       "    </tr>\n",
       "    <tr>\n",
       "      <td>final.output.tail_au</td>\n",
       "      <td>0</td>\n",
       "      <td>0.000000</td>\n",
       "    </tr>\n",
       "    <tr>\n",
       "      <td>primary_cleaner.input.feed_size</td>\n",
       "      <td>0</td>\n",
       "      <td>0.000000</td>\n",
       "    </tr>\n",
       "    <tr>\n",
       "      <td>primary_cleaner.output.concentrate_au</td>\n",
       "      <td>0</td>\n",
       "      <td>0.000000</td>\n",
       "    </tr>\n",
       "    <tr>\n",
       "      <td>primary_cleaner.output.concentrate_ag</td>\n",
       "      <td>0</td>\n",
       "      <td>0.000000</td>\n",
       "    </tr>\n",
       "    <tr>\n",
       "      <td>train</td>\n",
       "      <td>0</td>\n",
       "      <td>0.000000</td>\n",
       "    </tr>\n",
       "    <tr>\n",
       "      <td>primary_cleaner.output.tail_au</td>\n",
       "      <td>0</td>\n",
       "      <td>0.000000</td>\n",
       "    </tr>\n",
       "    <tr>\n",
       "      <td>rougher.calculation.au_pb_ratio</td>\n",
       "      <td>0</td>\n",
       "      <td>0.000000</td>\n",
       "    </tr>\n",
       "    <tr>\n",
       "      <td>secondary_cleaner.output.tail_au</td>\n",
       "      <td>0</td>\n",
       "      <td>0.000000</td>\n",
       "    </tr>\n",
       "    <tr>\n",
       "      <td>rougher.state.floatbank10_f_level</td>\n",
       "      <td>0</td>\n",
       "      <td>0.000000</td>\n",
       "    </tr>\n",
       "    <tr>\n",
       "      <td>rougher.state.floatbank10_f_air</td>\n",
       "      <td>0</td>\n",
       "      <td>0.000000</td>\n",
       "    </tr>\n",
       "    <tr>\n",
       "      <td>rougher.state.floatbank10_e_level</td>\n",
       "      <td>0</td>\n",
       "      <td>0.000000</td>\n",
       "    </tr>\n",
       "    <tr>\n",
       "      <td>rougher.state.floatbank10_d_level</td>\n",
       "      <td>0</td>\n",
       "      <td>0.000000</td>\n",
       "    </tr>\n",
       "    <tr>\n",
       "      <td>rougher.state.floatbank10_d_air</td>\n",
       "      <td>0</td>\n",
       "      <td>0.000000</td>\n",
       "    </tr>\n",
       "    <tr>\n",
       "      <td>rougher.output.tail_au</td>\n",
       "      <td>0</td>\n",
       "      <td>0.000000</td>\n",
       "    </tr>\n",
       "    <tr>\n",
       "      <td>rougher.output.tail_sol</td>\n",
       "      <td>0</td>\n",
       "      <td>0.000000</td>\n",
       "    </tr>\n",
       "    <tr>\n",
       "      <td>rougher.output.tail_pb</td>\n",
       "      <td>0</td>\n",
       "      <td>0.000000</td>\n",
       "    </tr>\n",
       "    <tr>\n",
       "      <td>rougher.output.recovery</td>\n",
       "      <td>0</td>\n",
       "      <td>0.000000</td>\n",
       "    </tr>\n",
       "    <tr>\n",
       "      <td>rougher.output.concentrate_au</td>\n",
       "      <td>0</td>\n",
       "      <td>0.000000</td>\n",
       "    </tr>\n",
       "    <tr>\n",
       "      <td>rougher.output.concentrate_pb</td>\n",
       "      <td>0</td>\n",
       "      <td>0.000000</td>\n",
       "    </tr>\n",
       "    <tr>\n",
       "      <td>rougher.output.concentrate_ag</td>\n",
       "      <td>0</td>\n",
       "      <td>0.000000</td>\n",
       "    </tr>\n",
       "    <tr>\n",
       "      <td>rougher.input.feed_au</td>\n",
       "      <td>0</td>\n",
       "      <td>0.000000</td>\n",
       "    </tr>\n",
       "    <tr>\n",
       "      <td>rougher.input.feed_ag</td>\n",
       "      <td>0</td>\n",
       "      <td>0.000000</td>\n",
       "    </tr>\n",
       "    <tr>\n",
       "      <td>date</td>\n",
       "      <td>0</td>\n",
       "      <td>0.000000</td>\n",
       "    </tr>\n",
       "  </tbody>\n",
       "</table>\n",
       "</div>"
      ],
      "text/plain": [
       "                                                    Total   Percent\n",
       "secondary_cleaner.output.tail_sol                    1787  9.317969\n",
       "rougher.input.floatbank11_xanthate                    435  2.268224\n",
       "primary_cleaner.output.concentrate_sol                419  2.184795\n",
       "rougher.state.floatbank10_e_air                       376  1.960580\n",
       "final.output.concentrate_sol                          229  1.194077\n",
       "secondary_cleaner.state.floatbank2_a_air              219  1.141933\n",
       "primary_cleaner.output.concentrate_pb                 155  0.808218\n",
       "rougher.input.feed_size                               149  0.776932\n",
       "final.output.recovery                                 133  0.693503\n",
       "rougher.input.feed_pb                                 123  0.641360\n",
       "final.output.tail_pb                                  115  0.599645\n",
       "rougher.input.feed_sol                                113  0.589217\n",
       "primary_cleaner.input.xanthate                        104  0.542288\n",
       "primary_cleaner.output.tail_sol                        94  0.490145\n",
       "rougher.input.floatbank11_sulfate                      39  0.203358\n",
       "primary_cleaner.input.depressant                       39  0.203358\n",
       "rougher.input.floatbank10_sulfate                      37  0.192929\n",
       "rougher.output.concentrate_sol                         27  0.140786\n",
       "primary_cleaner.input.sulfate                          24  0.125143\n",
       "secondary_cleaner.state.floatbank2_b_air               24  0.125143\n",
       "primary_cleaner.output.tail_pb                         22  0.114715\n",
       "rougher.input.feed_rate                                15  0.078215\n",
       "secondary_cleaner.state.floatbank3_a_air               14  0.073000\n",
       "secondary_cleaner.output.tail_pb                       12  0.062572\n",
       "final.output.tail_sol                                   9  0.046929\n",
       "rougher.input.floatbank10_xanthate                      9  0.046929\n",
       "secondary_cleaner.state.floatbank4_a_air                6  0.031286\n",
       "final.output.concentrate_ag                             6  0.031286\n",
       "final.output.concentrate_pb                             5  0.026072\n",
       "primary_cleaner.output.tail_ag                          4  0.020857\n",
       "final.output.concentrate_au                             4  0.020857\n",
       "primary_cleaner.state.floatbank8_b_air                  4  0.020857\n",
       "primary_cleaner.state.floatbank8_a_air                  4  0.020857\n",
       "primary_cleaner.state.floatbank8_d_air                  3  0.015643\n",
       "rougher.calculation.sulfate_to_au_concentrate           2  0.010429\n",
       "primary_cleaner.state.floatbank8_c_air                  2  0.010429\n",
       "secondary_cleaner.state.floatbank6_a_air                2  0.010429\n",
       "secondary_cleaner.output.tail_ag                        2  0.010429\n",
       "rougher.calculation.floatbank10_sulfate_to_au_feed      2  0.010429\n",
       "rougher.calculation.floatbank11_sulfate_to_au_feed      2  0.010429\n",
       "secondary_cleaner.state.floatbank5_b_air                1  0.005214\n",
       "secondary_cleaner.state.floatbank5_a_level              1  0.005214\n",
       "primary_cleaner.state.floatbank8_a_level                1  0.005214\n",
       "secondary_cleaner.state.floatbank5_b_level              1  0.005214\n",
       "primary_cleaner.state.floatbank8_d_level                1  0.005214\n",
       "secondary_cleaner.state.floatbank4_b_level              1  0.005214\n",
       "primary_cleaner.state.floatbank8_c_level                1  0.005214\n",
       "primary_cleaner.state.floatbank8_b_level                1  0.005214\n",
       "secondary_cleaner.state.floatbank5_a_air                1  0.005214\n",
       "secondary_cleaner.state.floatbank4_a_level              1  0.005214\n",
       "rougher.state.floatbank10_a_level                       1  0.005214\n",
       "secondary_cleaner.state.floatbank4_b_air                1  0.005214\n",
       "secondary_cleaner.state.floatbank2_a_level              1  0.005214\n",
       "secondary_cleaner.state.floatbank2_b_level              1  0.005214\n",
       "final.output.tail_ag                                    1  0.005214\n",
       "rougher.state.floatbank10_c_level                       1  0.005214\n",
       "rougher.state.floatbank10_c_air                         1  0.005214\n",
       "rougher.state.floatbank10_b_level                       1  0.005214\n",
       "rougher.state.floatbank10_b_air                         1  0.005214\n",
       "rougher.state.floatbank10_a_air                         1  0.005214\n",
       "rougher.output.tail_ag                                  1  0.005214\n",
       "secondary_cleaner.state.floatbank3_a_level              1  0.005214\n",
       "secondary_cleaner.state.floatbank3_b_air                1  0.005214\n",
       "secondary_cleaner.state.floatbank3_b_level              1  0.005214\n",
       "secondary_cleaner.state.floatbank6_a_level              1  0.005214\n",
       "final.output.tail_au                                    0  0.000000\n",
       "primary_cleaner.input.feed_size                         0  0.000000\n",
       "primary_cleaner.output.concentrate_au                   0  0.000000\n",
       "primary_cleaner.output.concentrate_ag                   0  0.000000\n",
       "train                                                   0  0.000000\n",
       "primary_cleaner.output.tail_au                          0  0.000000\n",
       "rougher.calculation.au_pb_ratio                         0  0.000000\n",
       "secondary_cleaner.output.tail_au                        0  0.000000\n",
       "rougher.state.floatbank10_f_level                       0  0.000000\n",
       "rougher.state.floatbank10_f_air                         0  0.000000\n",
       "rougher.state.floatbank10_e_level                       0  0.000000\n",
       "rougher.state.floatbank10_d_level                       0  0.000000\n",
       "rougher.state.floatbank10_d_air                         0  0.000000\n",
       "rougher.output.tail_au                                  0  0.000000\n",
       "rougher.output.tail_sol                                 0  0.000000\n",
       "rougher.output.tail_pb                                  0  0.000000\n",
       "rougher.output.recovery                                 0  0.000000\n",
       "rougher.output.concentrate_au                           0  0.000000\n",
       "rougher.output.concentrate_pb                           0  0.000000\n",
       "rougher.output.concentrate_ag                           0  0.000000\n",
       "rougher.input.feed_au                                   0  0.000000\n",
       "rougher.input.feed_ag                                   0  0.000000\n",
       "date                                                    0  0.000000"
      ]
     },
     "execution_count": 11,
     "metadata": {},
     "output_type": "execute_result"
    }
   ],
   "source": [
    "missing_data(df)"
   ]
  },
  {
   "cell_type": "markdown",
   "metadata": {},
   "source": [
    "Для прогноза коэффициента нужно найти долю золота в концентратах и хвостах. Причём важен не только финальный продукт, но и черновой концентрат."
   ]
  },
  {
   "cell_type": "code",
   "execution_count": 12,
   "metadata": {},
   "outputs": [],
   "source": [
    "def get_recovery(row):\n",
    "    try:\n",
    "        c = row['rougher.output.concentrate_au']\n",
    "        f = row['rougher.input.feed_au']\n",
    "        t = row['rougher.output.tail_au']\n",
    "        row['rougher.output.recovery_calc'] = ((c * (f - t)) / (f * (c - t))) * 100\n",
    "    except ZeroDivisionError:\n",
    "        return row\n",
    "    return row"
   ]
  },
  {
   "cell_type": "code",
   "execution_count": 13,
   "metadata": {},
   "outputs": [],
   "source": [
    "df = df.apply(get_recovery,axis=1)"
   ]
  },
  {
   "cell_type": "code",
   "execution_count": 14,
   "metadata": {},
   "outputs": [
    {
     "name": "stdout",
     "output_type": "stream",
     "text": [
      "0    87.107763\n",
      "1    86.843261\n",
      "2    86.842308\n",
      "3    87.226430\n",
      "4    86.688794\n",
      "Name: rougher.output.recovery, dtype: float64\n",
      "0    87.107763\n",
      "1    86.843261\n",
      "2    86.842308\n",
      "3    87.226430\n",
      "4    86.688794\n",
      "Name: rougher.output.recovery_calc, dtype: float64\n",
      "count    19178.000000\n",
      "mean        84.893209\n",
      "std          8.097597\n",
      "min          0.988506\n",
      "25%         81.358877\n",
      "50%         86.323607\n",
      "75%         90.079906\n",
      "max        100.000000\n",
      "Name: rougher.output.recovery_calc, dtype: float64\n"
     ]
    }
   ],
   "source": [
    "print(df['rougher.output.recovery'].head())\n",
    "print(df['rougher.output.recovery_calc'].head())\n",
    "print(df['rougher.output.recovery_calc'].describe())"
   ]
  },
  {
   "cell_type": "markdown",
   "metadata": {},
   "source": [
    "Нет значений больше 100, расчеты выглядят корректно."
   ]
  },
  {
   "cell_type": "markdown",
   "metadata": {},
   "source": [
    "### Найдём MAE между нашими расчётами и значением признака"
   ]
  },
  {
   "cell_type": "code",
   "execution_count": 15,
   "metadata": {},
   "outputs": [
    {
     "data": {
      "text/plain": [
       "'0.00000000000001003066'"
      ]
     },
     "execution_count": 15,
     "metadata": {},
     "output_type": "execute_result"
    }
   ],
   "source": [
    "mae = mean_absolute_error(df['rougher.output.recovery'], df['rougher.output.recovery_calc'])\n",
    "'{0:.20f}'.format(mae)"
   ]
  },
  {
   "cell_type": "markdown",
   "metadata": {},
   "source": [
    "Ошибка стремится к нулю. Значит расчеты в предоставленном датасете и наши совпадают. Удалим ненужную колонку."
   ]
  },
  {
   "cell_type": "code",
   "execution_count": 16,
   "metadata": {},
   "outputs": [],
   "source": [
    "df = df.drop('rougher.output.recovery_calc', axis=1)"
   ]
  },
  {
   "cell_type": "markdown",
   "metadata": {},
   "source": [
    "### Проанализируем признаки, недоступные в тестовой выборке"
   ]
  },
  {
   "cell_type": "code",
   "execution_count": 17,
   "metadata": {},
   "outputs": [
    {
     "name": "stdout",
     "output_type": "stream",
     "text": [
      "35\n"
     ]
    },
    {
     "data": {
      "text/plain": [
       "['final.output.concentrate_ag',\n",
       " 'final.output.concentrate_pb',\n",
       " 'final.output.concentrate_sol',\n",
       " 'final.output.concentrate_au',\n",
       " 'final.output.recovery',\n",
       " 'final.output.tail_ag',\n",
       " 'final.output.tail_pb',\n",
       " 'final.output.tail_sol',\n",
       " 'final.output.tail_au',\n",
       " 'primary_cleaner.output.concentrate_ag',\n",
       " 'primary_cleaner.output.concentrate_pb',\n",
       " 'primary_cleaner.output.concentrate_sol',\n",
       " 'primary_cleaner.output.concentrate_au',\n",
       " 'primary_cleaner.output.tail_ag',\n",
       " 'primary_cleaner.output.tail_pb',\n",
       " 'primary_cleaner.output.tail_sol',\n",
       " 'primary_cleaner.output.tail_au',\n",
       " 'rougher.calculation.sulfate_to_au_concentrate',\n",
       " 'rougher.calculation.floatbank10_sulfate_to_au_feed',\n",
       " 'rougher.calculation.floatbank11_sulfate_to_au_feed',\n",
       " 'rougher.calculation.au_pb_ratio',\n",
       " 'rougher.output.concentrate_ag',\n",
       " 'rougher.output.concentrate_pb',\n",
       " 'rougher.output.concentrate_sol',\n",
       " 'rougher.output.concentrate_au',\n",
       " 'rougher.output.recovery',\n",
       " 'rougher.output.tail_ag',\n",
       " 'rougher.output.tail_pb',\n",
       " 'rougher.output.tail_sol',\n",
       " 'rougher.output.tail_au',\n",
       " 'secondary_cleaner.output.tail_ag',\n",
       " 'secondary_cleaner.output.tail_pb',\n",
       " 'secondary_cleaner.output.tail_sol',\n",
       " 'secondary_cleaner.output.tail_au',\n",
       " 'train']"
      ]
     },
     "execution_count": 17,
     "metadata": {},
     "output_type": "execute_result"
    }
   ],
   "source": [
    "cols = [col for col in df.columns if col not in df_test.columns]\n",
    "print(len(cols))\n",
    "cols"
   ]
  },
  {
   "cell_type": "markdown",
   "metadata": {},
   "source": [
    "В основном отсутствующие признаки это \"отвальные хвосты\" (tail) и концентраты (concentrate) на всех этапах. В тестовой выборке недоступны некоторые расчетные (calculation) и выходные (output) характеристики процесса, т.к. их невозможно получить/измерить во время выполнения технологического процесса. Это так же оба целевых признака которые необходимо будет найти rougher.output.recovery', final.output.recovery. "
   ]
  },
  {
   "cell_type": "markdown",
   "metadata": {},
   "source": [
    "### Предобработка данных"
   ]
  },
  {
   "cell_type": "code",
   "execution_count": 18,
   "metadata": {},
   "outputs": [],
   "source": [
    "# изменим тип данных \n",
    "df['date'] = pd.to_datetime(df['date'],format='%Y-%m-%d %H:%M:%S')"
   ]
  },
  {
   "cell_type": "code",
   "execution_count": 19,
   "metadata": {},
   "outputs": [],
   "source": [
    "df.dropna(inplace = True)"
   ]
  },
  {
   "cell_type": "code",
   "execution_count": 20,
   "metadata": {},
   "outputs": [
    {
     "data": {
      "text/html": [
       "<div>\n",
       "<style scoped>\n",
       "    .dataframe tbody tr th:only-of-type {\n",
       "        vertical-align: middle;\n",
       "    }\n",
       "\n",
       "    .dataframe tbody tr th {\n",
       "        vertical-align: top;\n",
       "    }\n",
       "\n",
       "    .dataframe thead th {\n",
       "        text-align: right;\n",
       "    }\n",
       "</style>\n",
       "<table border=\"1\" class=\"dataframe\">\n",
       "  <thead>\n",
       "    <tr style=\"text-align: right;\">\n",
       "      <th></th>\n",
       "      <th>Total</th>\n",
       "      <th>Percent</th>\n",
       "    </tr>\n",
       "  </thead>\n",
       "  <tbody>\n",
       "    <tr>\n",
       "      <td>train</td>\n",
       "      <td>0</td>\n",
       "      <td>0.0</td>\n",
       "    </tr>\n",
       "    <tr>\n",
       "      <td>secondary_cleaner.state.floatbank6_a_level</td>\n",
       "      <td>0</td>\n",
       "      <td>0.0</td>\n",
       "    </tr>\n",
       "    <tr>\n",
       "      <td>primary_cleaner.state.floatbank8_a_level</td>\n",
       "      <td>0</td>\n",
       "      <td>0.0</td>\n",
       "    </tr>\n",
       "    <tr>\n",
       "      <td>primary_cleaner.state.floatbank8_b_air</td>\n",
       "      <td>0</td>\n",
       "      <td>0.0</td>\n",
       "    </tr>\n",
       "    <tr>\n",
       "      <td>primary_cleaner.state.floatbank8_b_level</td>\n",
       "      <td>0</td>\n",
       "      <td>0.0</td>\n",
       "    </tr>\n",
       "    <tr>\n",
       "      <td>primary_cleaner.state.floatbank8_c_air</td>\n",
       "      <td>0</td>\n",
       "      <td>0.0</td>\n",
       "    </tr>\n",
       "    <tr>\n",
       "      <td>primary_cleaner.state.floatbank8_c_level</td>\n",
       "      <td>0</td>\n",
       "      <td>0.0</td>\n",
       "    </tr>\n",
       "    <tr>\n",
       "      <td>primary_cleaner.state.floatbank8_d_air</td>\n",
       "      <td>0</td>\n",
       "      <td>0.0</td>\n",
       "    </tr>\n",
       "    <tr>\n",
       "      <td>primary_cleaner.state.floatbank8_d_level</td>\n",
       "      <td>0</td>\n",
       "      <td>0.0</td>\n",
       "    </tr>\n",
       "    <tr>\n",
       "      <td>rougher.calculation.sulfate_to_au_concentrate</td>\n",
       "      <td>0</td>\n",
       "      <td>0.0</td>\n",
       "    </tr>\n",
       "    <tr>\n",
       "      <td>rougher.calculation.floatbank10_sulfate_to_au_feed</td>\n",
       "      <td>0</td>\n",
       "      <td>0.0</td>\n",
       "    </tr>\n",
       "    <tr>\n",
       "      <td>rougher.calculation.floatbank11_sulfate_to_au_feed</td>\n",
       "      <td>0</td>\n",
       "      <td>0.0</td>\n",
       "    </tr>\n",
       "    <tr>\n",
       "      <td>rougher.calculation.au_pb_ratio</td>\n",
       "      <td>0</td>\n",
       "      <td>0.0</td>\n",
       "    </tr>\n",
       "    <tr>\n",
       "      <td>rougher.input.feed_ag</td>\n",
       "      <td>0</td>\n",
       "      <td>0.0</td>\n",
       "    </tr>\n",
       "    <tr>\n",
       "      <td>rougher.input.feed_pb</td>\n",
       "      <td>0</td>\n",
       "      <td>0.0</td>\n",
       "    </tr>\n",
       "    <tr>\n",
       "      <td>rougher.input.feed_rate</td>\n",
       "      <td>0</td>\n",
       "      <td>0.0</td>\n",
       "    </tr>\n",
       "    <tr>\n",
       "      <td>rougher.input.feed_size</td>\n",
       "      <td>0</td>\n",
       "      <td>0.0</td>\n",
       "    </tr>\n",
       "    <tr>\n",
       "      <td>rougher.input.feed_sol</td>\n",
       "      <td>0</td>\n",
       "      <td>0.0</td>\n",
       "    </tr>\n",
       "    <tr>\n",
       "      <td>rougher.input.feed_au</td>\n",
       "      <td>0</td>\n",
       "      <td>0.0</td>\n",
       "    </tr>\n",
       "    <tr>\n",
       "      <td>rougher.input.floatbank10_sulfate</td>\n",
       "      <td>0</td>\n",
       "      <td>0.0</td>\n",
       "    </tr>\n",
       "    <tr>\n",
       "      <td>rougher.input.floatbank10_xanthate</td>\n",
       "      <td>0</td>\n",
       "      <td>0.0</td>\n",
       "    </tr>\n",
       "    <tr>\n",
       "      <td>primary_cleaner.state.floatbank8_a_air</td>\n",
       "      <td>0</td>\n",
       "      <td>0.0</td>\n",
       "    </tr>\n",
       "    <tr>\n",
       "      <td>primary_cleaner.output.tail_au</td>\n",
       "      <td>0</td>\n",
       "      <td>0.0</td>\n",
       "    </tr>\n",
       "    <tr>\n",
       "      <td>primary_cleaner.output.tail_sol</td>\n",
       "      <td>0</td>\n",
       "      <td>0.0</td>\n",
       "    </tr>\n",
       "    <tr>\n",
       "      <td>final.output.tail_au</td>\n",
       "      <td>0</td>\n",
       "      <td>0.0</td>\n",
       "    </tr>\n",
       "    <tr>\n",
       "      <td>final.output.concentrate_ag</td>\n",
       "      <td>0</td>\n",
       "      <td>0.0</td>\n",
       "    </tr>\n",
       "    <tr>\n",
       "      <td>final.output.concentrate_pb</td>\n",
       "      <td>0</td>\n",
       "      <td>0.0</td>\n",
       "    </tr>\n",
       "    <tr>\n",
       "      <td>final.output.concentrate_sol</td>\n",
       "      <td>0</td>\n",
       "      <td>0.0</td>\n",
       "    </tr>\n",
       "    <tr>\n",
       "      <td>final.output.concentrate_au</td>\n",
       "      <td>0</td>\n",
       "      <td>0.0</td>\n",
       "    </tr>\n",
       "    <tr>\n",
       "      <td>final.output.recovery</td>\n",
       "      <td>0</td>\n",
       "      <td>0.0</td>\n",
       "    </tr>\n",
       "    <tr>\n",
       "      <td>final.output.tail_ag</td>\n",
       "      <td>0</td>\n",
       "      <td>0.0</td>\n",
       "    </tr>\n",
       "    <tr>\n",
       "      <td>final.output.tail_pb</td>\n",
       "      <td>0</td>\n",
       "      <td>0.0</td>\n",
       "    </tr>\n",
       "    <tr>\n",
       "      <td>final.output.tail_sol</td>\n",
       "      <td>0</td>\n",
       "      <td>0.0</td>\n",
       "    </tr>\n",
       "    <tr>\n",
       "      <td>primary_cleaner.input.sulfate</td>\n",
       "      <td>0</td>\n",
       "      <td>0.0</td>\n",
       "    </tr>\n",
       "    <tr>\n",
       "      <td>primary_cleaner.output.tail_pb</td>\n",
       "      <td>0</td>\n",
       "      <td>0.0</td>\n",
       "    </tr>\n",
       "    <tr>\n",
       "      <td>primary_cleaner.input.depressant</td>\n",
       "      <td>0</td>\n",
       "      <td>0.0</td>\n",
       "    </tr>\n",
       "    <tr>\n",
       "      <td>primary_cleaner.input.feed_size</td>\n",
       "      <td>0</td>\n",
       "      <td>0.0</td>\n",
       "    </tr>\n",
       "    <tr>\n",
       "      <td>primary_cleaner.input.xanthate</td>\n",
       "      <td>0</td>\n",
       "      <td>0.0</td>\n",
       "    </tr>\n",
       "    <tr>\n",
       "      <td>primary_cleaner.output.concentrate_ag</td>\n",
       "      <td>0</td>\n",
       "      <td>0.0</td>\n",
       "    </tr>\n",
       "    <tr>\n",
       "      <td>primary_cleaner.output.concentrate_pb</td>\n",
       "      <td>0</td>\n",
       "      <td>0.0</td>\n",
       "    </tr>\n",
       "    <tr>\n",
       "      <td>primary_cleaner.output.concentrate_sol</td>\n",
       "      <td>0</td>\n",
       "      <td>0.0</td>\n",
       "    </tr>\n",
       "    <tr>\n",
       "      <td>primary_cleaner.output.concentrate_au</td>\n",
       "      <td>0</td>\n",
       "      <td>0.0</td>\n",
       "    </tr>\n",
       "    <tr>\n",
       "      <td>primary_cleaner.output.tail_ag</td>\n",
       "      <td>0</td>\n",
       "      <td>0.0</td>\n",
       "    </tr>\n",
       "    <tr>\n",
       "      <td>rougher.input.floatbank11_sulfate</td>\n",
       "      <td>0</td>\n",
       "      <td>0.0</td>\n",
       "    </tr>\n",
       "    <tr>\n",
       "      <td>rougher.input.floatbank11_xanthate</td>\n",
       "      <td>0</td>\n",
       "      <td>0.0</td>\n",
       "    </tr>\n",
       "    <tr>\n",
       "      <td>rougher.output.concentrate_ag</td>\n",
       "      <td>0</td>\n",
       "      <td>0.0</td>\n",
       "    </tr>\n",
       "    <tr>\n",
       "      <td>secondary_cleaner.state.floatbank3_b_level</td>\n",
       "      <td>0</td>\n",
       "      <td>0.0</td>\n",
       "    </tr>\n",
       "    <tr>\n",
       "      <td>secondary_cleaner.output.tail_au</td>\n",
       "      <td>0</td>\n",
       "      <td>0.0</td>\n",
       "    </tr>\n",
       "    <tr>\n",
       "      <td>secondary_cleaner.state.floatbank2_a_air</td>\n",
       "      <td>0</td>\n",
       "      <td>0.0</td>\n",
       "    </tr>\n",
       "    <tr>\n",
       "      <td>secondary_cleaner.state.floatbank2_a_level</td>\n",
       "      <td>0</td>\n",
       "      <td>0.0</td>\n",
       "    </tr>\n",
       "    <tr>\n",
       "      <td>secondary_cleaner.state.floatbank2_b_air</td>\n",
       "      <td>0</td>\n",
       "      <td>0.0</td>\n",
       "    </tr>\n",
       "    <tr>\n",
       "      <td>secondary_cleaner.state.floatbank2_b_level</td>\n",
       "      <td>0</td>\n",
       "      <td>0.0</td>\n",
       "    </tr>\n",
       "    <tr>\n",
       "      <td>secondary_cleaner.state.floatbank3_a_air</td>\n",
       "      <td>0</td>\n",
       "      <td>0.0</td>\n",
       "    </tr>\n",
       "    <tr>\n",
       "      <td>secondary_cleaner.state.floatbank3_a_level</td>\n",
       "      <td>0</td>\n",
       "      <td>0.0</td>\n",
       "    </tr>\n",
       "    <tr>\n",
       "      <td>secondary_cleaner.state.floatbank3_b_air</td>\n",
       "      <td>0</td>\n",
       "      <td>0.0</td>\n",
       "    </tr>\n",
       "    <tr>\n",
       "      <td>secondary_cleaner.state.floatbank4_a_air</td>\n",
       "      <td>0</td>\n",
       "      <td>0.0</td>\n",
       "    </tr>\n",
       "    <tr>\n",
       "      <td>secondary_cleaner.output.tail_pb</td>\n",
       "      <td>0</td>\n",
       "      <td>0.0</td>\n",
       "    </tr>\n",
       "    <tr>\n",
       "      <td>secondary_cleaner.state.floatbank4_a_level</td>\n",
       "      <td>0</td>\n",
       "      <td>0.0</td>\n",
       "    </tr>\n",
       "    <tr>\n",
       "      <td>secondary_cleaner.state.floatbank4_b_air</td>\n",
       "      <td>0</td>\n",
       "      <td>0.0</td>\n",
       "    </tr>\n",
       "    <tr>\n",
       "      <td>secondary_cleaner.state.floatbank4_b_level</td>\n",
       "      <td>0</td>\n",
       "      <td>0.0</td>\n",
       "    </tr>\n",
       "    <tr>\n",
       "      <td>secondary_cleaner.state.floatbank5_a_air</td>\n",
       "      <td>0</td>\n",
       "      <td>0.0</td>\n",
       "    </tr>\n",
       "    <tr>\n",
       "      <td>secondary_cleaner.state.floatbank5_a_level</td>\n",
       "      <td>0</td>\n",
       "      <td>0.0</td>\n",
       "    </tr>\n",
       "    <tr>\n",
       "      <td>secondary_cleaner.state.floatbank5_b_air</td>\n",
       "      <td>0</td>\n",
       "      <td>0.0</td>\n",
       "    </tr>\n",
       "    <tr>\n",
       "      <td>secondary_cleaner.state.floatbank5_b_level</td>\n",
       "      <td>0</td>\n",
       "      <td>0.0</td>\n",
       "    </tr>\n",
       "    <tr>\n",
       "      <td>secondary_cleaner.state.floatbank6_a_air</td>\n",
       "      <td>0</td>\n",
       "      <td>0.0</td>\n",
       "    </tr>\n",
       "    <tr>\n",
       "      <td>secondary_cleaner.output.tail_sol</td>\n",
       "      <td>0</td>\n",
       "      <td>0.0</td>\n",
       "    </tr>\n",
       "    <tr>\n",
       "      <td>secondary_cleaner.output.tail_ag</td>\n",
       "      <td>0</td>\n",
       "      <td>0.0</td>\n",
       "    </tr>\n",
       "    <tr>\n",
       "      <td>rougher.output.concentrate_pb</td>\n",
       "      <td>0</td>\n",
       "      <td>0.0</td>\n",
       "    </tr>\n",
       "    <tr>\n",
       "      <td>rougher.state.floatbank10_a_level</td>\n",
       "      <td>0</td>\n",
       "      <td>0.0</td>\n",
       "    </tr>\n",
       "    <tr>\n",
       "      <td>rougher.output.concentrate_sol</td>\n",
       "      <td>0</td>\n",
       "      <td>0.0</td>\n",
       "    </tr>\n",
       "    <tr>\n",
       "      <td>rougher.output.concentrate_au</td>\n",
       "      <td>0</td>\n",
       "      <td>0.0</td>\n",
       "    </tr>\n",
       "    <tr>\n",
       "      <td>rougher.output.recovery</td>\n",
       "      <td>0</td>\n",
       "      <td>0.0</td>\n",
       "    </tr>\n",
       "    <tr>\n",
       "      <td>rougher.output.tail_ag</td>\n",
       "      <td>0</td>\n",
       "      <td>0.0</td>\n",
       "    </tr>\n",
       "    <tr>\n",
       "      <td>rougher.output.tail_pb</td>\n",
       "      <td>0</td>\n",
       "      <td>0.0</td>\n",
       "    </tr>\n",
       "    <tr>\n",
       "      <td>rougher.output.tail_sol</td>\n",
       "      <td>0</td>\n",
       "      <td>0.0</td>\n",
       "    </tr>\n",
       "    <tr>\n",
       "      <td>rougher.output.tail_au</td>\n",
       "      <td>0</td>\n",
       "      <td>0.0</td>\n",
       "    </tr>\n",
       "    <tr>\n",
       "      <td>rougher.state.floatbank10_a_air</td>\n",
       "      <td>0</td>\n",
       "      <td>0.0</td>\n",
       "    </tr>\n",
       "    <tr>\n",
       "      <td>rougher.state.floatbank10_b_air</td>\n",
       "      <td>0</td>\n",
       "      <td>0.0</td>\n",
       "    </tr>\n",
       "    <tr>\n",
       "      <td>rougher.state.floatbank10_f_level</td>\n",
       "      <td>0</td>\n",
       "      <td>0.0</td>\n",
       "    </tr>\n",
       "    <tr>\n",
       "      <td>rougher.state.floatbank10_b_level</td>\n",
       "      <td>0</td>\n",
       "      <td>0.0</td>\n",
       "    </tr>\n",
       "    <tr>\n",
       "      <td>rougher.state.floatbank10_c_air</td>\n",
       "      <td>0</td>\n",
       "      <td>0.0</td>\n",
       "    </tr>\n",
       "    <tr>\n",
       "      <td>rougher.state.floatbank10_c_level</td>\n",
       "      <td>0</td>\n",
       "      <td>0.0</td>\n",
       "    </tr>\n",
       "    <tr>\n",
       "      <td>rougher.state.floatbank10_d_air</td>\n",
       "      <td>0</td>\n",
       "      <td>0.0</td>\n",
       "    </tr>\n",
       "    <tr>\n",
       "      <td>rougher.state.floatbank10_d_level</td>\n",
       "      <td>0</td>\n",
       "      <td>0.0</td>\n",
       "    </tr>\n",
       "    <tr>\n",
       "      <td>rougher.state.floatbank10_e_air</td>\n",
       "      <td>0</td>\n",
       "      <td>0.0</td>\n",
       "    </tr>\n",
       "    <tr>\n",
       "      <td>rougher.state.floatbank10_e_level</td>\n",
       "      <td>0</td>\n",
       "      <td>0.0</td>\n",
       "    </tr>\n",
       "    <tr>\n",
       "      <td>rougher.state.floatbank10_f_air</td>\n",
       "      <td>0</td>\n",
       "      <td>0.0</td>\n",
       "    </tr>\n",
       "    <tr>\n",
       "      <td>date</td>\n",
       "      <td>0</td>\n",
       "      <td>0.0</td>\n",
       "    </tr>\n",
       "  </tbody>\n",
       "</table>\n",
       "</div>"
      ],
      "text/plain": [
       "                                                    Total  Percent\n",
       "train                                                   0      0.0\n",
       "secondary_cleaner.state.floatbank6_a_level              0      0.0\n",
       "primary_cleaner.state.floatbank8_a_level                0      0.0\n",
       "primary_cleaner.state.floatbank8_b_air                  0      0.0\n",
       "primary_cleaner.state.floatbank8_b_level                0      0.0\n",
       "primary_cleaner.state.floatbank8_c_air                  0      0.0\n",
       "primary_cleaner.state.floatbank8_c_level                0      0.0\n",
       "primary_cleaner.state.floatbank8_d_air                  0      0.0\n",
       "primary_cleaner.state.floatbank8_d_level                0      0.0\n",
       "rougher.calculation.sulfate_to_au_concentrate           0      0.0\n",
       "rougher.calculation.floatbank10_sulfate_to_au_feed      0      0.0\n",
       "rougher.calculation.floatbank11_sulfate_to_au_feed      0      0.0\n",
       "rougher.calculation.au_pb_ratio                         0      0.0\n",
       "rougher.input.feed_ag                                   0      0.0\n",
       "rougher.input.feed_pb                                   0      0.0\n",
       "rougher.input.feed_rate                                 0      0.0\n",
       "rougher.input.feed_size                                 0      0.0\n",
       "rougher.input.feed_sol                                  0      0.0\n",
       "rougher.input.feed_au                                   0      0.0\n",
       "rougher.input.floatbank10_sulfate                       0      0.0\n",
       "rougher.input.floatbank10_xanthate                      0      0.0\n",
       "primary_cleaner.state.floatbank8_a_air                  0      0.0\n",
       "primary_cleaner.output.tail_au                          0      0.0\n",
       "primary_cleaner.output.tail_sol                         0      0.0\n",
       "final.output.tail_au                                    0      0.0\n",
       "final.output.concentrate_ag                             0      0.0\n",
       "final.output.concentrate_pb                             0      0.0\n",
       "final.output.concentrate_sol                            0      0.0\n",
       "final.output.concentrate_au                             0      0.0\n",
       "final.output.recovery                                   0      0.0\n",
       "final.output.tail_ag                                    0      0.0\n",
       "final.output.tail_pb                                    0      0.0\n",
       "final.output.tail_sol                                   0      0.0\n",
       "primary_cleaner.input.sulfate                           0      0.0\n",
       "primary_cleaner.output.tail_pb                          0      0.0\n",
       "primary_cleaner.input.depressant                        0      0.0\n",
       "primary_cleaner.input.feed_size                         0      0.0\n",
       "primary_cleaner.input.xanthate                          0      0.0\n",
       "primary_cleaner.output.concentrate_ag                   0      0.0\n",
       "primary_cleaner.output.concentrate_pb                   0      0.0\n",
       "primary_cleaner.output.concentrate_sol                  0      0.0\n",
       "primary_cleaner.output.concentrate_au                   0      0.0\n",
       "primary_cleaner.output.tail_ag                          0      0.0\n",
       "rougher.input.floatbank11_sulfate                       0      0.0\n",
       "rougher.input.floatbank11_xanthate                      0      0.0\n",
       "rougher.output.concentrate_ag                           0      0.0\n",
       "secondary_cleaner.state.floatbank3_b_level              0      0.0\n",
       "secondary_cleaner.output.tail_au                        0      0.0\n",
       "secondary_cleaner.state.floatbank2_a_air                0      0.0\n",
       "secondary_cleaner.state.floatbank2_a_level              0      0.0\n",
       "secondary_cleaner.state.floatbank2_b_air                0      0.0\n",
       "secondary_cleaner.state.floatbank2_b_level              0      0.0\n",
       "secondary_cleaner.state.floatbank3_a_air                0      0.0\n",
       "secondary_cleaner.state.floatbank3_a_level              0      0.0\n",
       "secondary_cleaner.state.floatbank3_b_air                0      0.0\n",
       "secondary_cleaner.state.floatbank4_a_air                0      0.0\n",
       "secondary_cleaner.output.tail_pb                        0      0.0\n",
       "secondary_cleaner.state.floatbank4_a_level              0      0.0\n",
       "secondary_cleaner.state.floatbank4_b_air                0      0.0\n",
       "secondary_cleaner.state.floatbank4_b_level              0      0.0\n",
       "secondary_cleaner.state.floatbank5_a_air                0      0.0\n",
       "secondary_cleaner.state.floatbank5_a_level              0      0.0\n",
       "secondary_cleaner.state.floatbank5_b_air                0      0.0\n",
       "secondary_cleaner.state.floatbank5_b_level              0      0.0\n",
       "secondary_cleaner.state.floatbank6_a_air                0      0.0\n",
       "secondary_cleaner.output.tail_sol                       0      0.0\n",
       "secondary_cleaner.output.tail_ag                        0      0.0\n",
       "rougher.output.concentrate_pb                           0      0.0\n",
       "rougher.state.floatbank10_a_level                       0      0.0\n",
       "rougher.output.concentrate_sol                          0      0.0\n",
       "rougher.output.concentrate_au                           0      0.0\n",
       "rougher.output.recovery                                 0      0.0\n",
       "rougher.output.tail_ag                                  0      0.0\n",
       "rougher.output.tail_pb                                  0      0.0\n",
       "rougher.output.tail_sol                                 0      0.0\n",
       "rougher.output.tail_au                                  0      0.0\n",
       "rougher.state.floatbank10_a_air                         0      0.0\n",
       "rougher.state.floatbank10_b_air                         0      0.0\n",
       "rougher.state.floatbank10_f_level                       0      0.0\n",
       "rougher.state.floatbank10_b_level                       0      0.0\n",
       "rougher.state.floatbank10_c_air                         0      0.0\n",
       "rougher.state.floatbank10_c_level                       0      0.0\n",
       "rougher.state.floatbank10_d_air                         0      0.0\n",
       "rougher.state.floatbank10_d_level                       0      0.0\n",
       "rougher.state.floatbank10_e_air                         0      0.0\n",
       "rougher.state.floatbank10_e_level                       0      0.0\n",
       "rougher.state.floatbank10_f_air                         0      0.0\n",
       "date                                                    0      0.0"
      ]
     },
     "execution_count": 20,
     "metadata": {},
     "output_type": "execute_result"
    }
   ],
   "source": [
    "missing_data(df)"
   ]
  },
  {
   "cell_type": "markdown",
   "metadata": {},
   "source": [
    "Посмотрим на параметры эффективности обогащения финального концентрата."
   ]
  },
  {
   "cell_type": "code",
   "execution_count": 21,
   "metadata": {
    "scrolled": false
   },
   "outputs": [
    {
     "name": "stdout",
     "output_type": "stream",
     "text": [
      "AxesSubplot(0.125,0.125;0.775x0.755)\n"
     ]
    },
    {
     "data": {
      "image/png": "[encoded data removed]",
      "text/plain": [
       "<Figure size 432x288 with 1 Axes>"
      ]
     },
     "metadata": {
      "needs_background": "light"
     },
     "output_type": "display_data"
    }
   ],
   "source": [
    "print(df['final.output.recovery'].hist());"
   ]
  },
  {
   "cell_type": "markdown",
   "metadata": {},
   "source": [
    "Пропусков нет, но имеются 0 значения."
   ]
  },
  {
   "cell_type": "code",
   "execution_count": 22,
   "metadata": {},
   "outputs": [],
   "source": [
    "df = df[df['final.output.recovery'] > 0]"
   ]
  },
  {
   "cell_type": "markdown",
   "metadata": {},
   "source": [
    "## Анализ данных"
   ]
  },
  {
   "cell_type": "markdown",
   "metadata": {},
   "source": [
    "### Посмотрим, как меняется концентрация металлов (Au, Ag, Pb) на различных этапах очистки"
   ]
  },
  {
   "cell_type": "code",
   "execution_count": 23,
   "metadata": {
    "scrolled": false
   },
   "outputs": [
    {
     "data": {
      "image/png": "[encoded data removed]",
      "text/plain": [
       "<Figure size 1440x432 with 4 Axes>"
      ]
     },
     "metadata": {
      "needs_background": "light"
     },
     "output_type": "display_data"
    },
    {
     "data": {
      "image/png": "[encoded data removed]",
      "text/plain": [
       "<Figure size 1440x432 with 4 Axes>"
      ]
     },
     "metadata": {
      "needs_background": "light"
     },
     "output_type": "display_data"
    }
   ],
   "source": [
    "process = ['rougher.input.feed',\n",
    "           'rougher.output.concentrate',\n",
    "           'primary_cleaner.output.concentrate',\n",
    "           'final.output.concentrate']\n",
    "\n",
    "process_tail = ['rougher.input.feed',\n",
    "                'rougher.output.tail',\n",
    "                'primary_cleaner.output.tail',\n",
    "                'final.output.tail']\n",
    "\n",
    "metals = ['au', 'ag', 'pb']\n",
    "\n",
    "fig, axs = plt.subplots(1, len(process), figsize=(20, 6), constrained_layout=True)\n",
    "fig.suptitle('Концентрация металлов на выходе по этапам', fontsize=24)\n",
    "\n",
    "for stage, ax in zip(process, axs):\n",
    "    ax.set_title(stage)\n",
    "    for metal in metals:        \n",
    "        cols = df.columns.str.contains(stage+'_'+metal)\n",
    "        sns_ax = sns.distplot(df.loc[:, cols].dropna(), label=metal, ax=ax)    \n",
    "plt.legend()\n",
    "\n",
    "fig, axs = plt.subplots(1, 4, figsize=(20, 6), constrained_layout=True)\n",
    "fig.suptitle('Концентрация металлов в хвостах по этапам', fontsize=24)\n",
    "\n",
    "for stage, ax in zip(process_tail, axs):\n",
    "    ax.set_title(stage)\n",
    "    for metal in metals:        \n",
    "        cols = df.columns.str.contains(stage+'_'+metal)\n",
    "        sns_ax = sns.distplot(df.loc[:, cols].dropna(), label=metal, ax=ax)   \n",
    "plt.legend()\n",
    "\n",
    "plt.show()\n"
   ]
  },
  {
   "cell_type": "code",
   "execution_count": 24,
   "metadata": {},
   "outputs": [],
   "source": [
    "concetrates_primary=[]\n",
    "concetrates_primary=pd.DataFrame(concetrates_primary)\n",
    "concetrates_primary['primary_cleaner.output.concentrate_ag']=df_full['primary_cleaner.output.concentrate_ag']\n",
    "concetrates_primary['primary_cleaner.output.concentrate_pb']=df_full['primary_cleaner.output.concentrate_pb']\n",
    "concetrates_primary['primary_cleaner.output.concentrate_au']=df_full['primary_cleaner.output.concentrate_au']\n",
    "\n",
    "concetrates_final=[]\n",
    "concetrates_final=pd.DataFrame(concetrates_final)\n",
    "concetrates_final['final.output.concentrate_ag']=df_full['final.output.concentrate_ag']\n",
    "concetrates_final['final.output.concentrate_pb']=df_full['final.output.concentrate_pb']\n",
    "concetrates_final['final.output.concentrate_au']=df_full['final.output.concentrate_au']"
   ]
  },
  {
   "cell_type": "code",
   "execution_count": 25,
   "metadata": {},
   "outputs": [
    {
     "data": {
      "image/png": "[encoded data removed]",
      "text/plain": [
       "<Figure size 1224x720 with 1 Axes>"
      ]
     },
     "metadata": {
      "needs_background": "light"
     },
     "output_type": "display_data"
    },
    {
     "data": {
      "image/png": "[encoded data removed]",
      "text/plain": [
       "<Figure size 1224x792 with 1 Axes>"
      ]
     },
     "metadata": {},
     "output_type": "display_data"
    }
   ],
   "source": [
    "plt.figure(figsize=(17,10))\n",
    "a=sns.set(style=\"whitegrid\")\n",
    "a=sns.boxplot(data=concetrates_primary)\n",
    "\n",
    "plt.figure(figsize=(17,11))\n",
    "b=sns.set(style=\"whitegrid\")\n",
    "b=sns.boxplot(data=concetrates_final)"
   ]
  },
  {
   "cell_type": "markdown",
   "metadata": {},
   "source": [
    "Золото:\n",
    "* концентрация золота в породе с каждым этап возрастает, часть уходит в хвосты. Концентрация от флотации до готового продукта увеличивается более чем в 2,5 раза; в отвальных хвостах концентрации почти не меняется.  \n",
    "\n",
    "Серебро:  \n",
    "* концентрация серебра в породе с каждым этапом падает, а в хвостах наоборот возрастает.  \n",
    "\n",
    "Свинец:\n",
    "* концентрация свинца увеличивается с каждым этапом, аналогично в отвальных хвостах.\n",
    "\n",
    "\n",
    "По \"ящику с усами\" видно, что имеются выбросы. Особенно их много в концентрации золота (AU) на стадии первичной и финальной очистки. Так же можно наблюдать, что среднее значение концентрации золота на финальной очистке выросло по сравнению с первичной очисткой."
   ]
  },
  {
   "cell_type": "markdown",
   "metadata": {},
   "source": [
    "### Сравним распределения размеров гранул сырья на обучающей и тестовой выборках"
   ]
  },
  {
   "cell_type": "code",
   "execution_count": 26,
   "metadata": {},
   "outputs": [
    {
     "data": {
      "image/png": "[encoded data removed]",
      "text/plain": [
       "<Figure size 720x720 with 1 Axes>"
      ]
     },
     "metadata": {},
     "output_type": "display_data"
    }
   ],
   "source": [
    "df_train['rougher.input.feed_size'].hist(bins=50,figsize=(10,10))\n",
    "df_test['rougher.input.feed_size'].hist(bins=50)\n",
    "\n",
    "plt.legend(['Train','Test'])\n",
    "plt.xlabel('Распределение размеров гранул сырья на этапе флотации')\n",
    "plt.ylabel('значения параметра')\n",
    "plt.show()\n"
   ]
  },
  {
   "cell_type": "code",
   "execution_count": 27,
   "metadata": {},
   "outputs": [
    {
     "data": {
      "image/png": "[encoded data removed]",
      "text/plain": [
       "<Figure size 720x720 with 1 Axes>"
      ]
     },
     "metadata": {},
     "output_type": "display_data"
    }
   ],
   "source": [
    "# видим хвост на выборках > 200\n",
    "df_train[df_train['rougher.input.feed_size']>200]['rougher.input.feed_size'].hist(bins=50,figsize=(10,10))\n",
    "df_test[df_test['rougher.input.feed_size']>200]['rougher.input.feed_size'].hist(bins=50)\n",
    "\n",
    "plt.legend(['Train','Test'])\n",
    "plt.xlabel('Распределение размеров гранул сырья на этапе флотации')\n",
    "plt.ylabel('значения параметра')\n",
    "plt.show()"
   ]
  },
  {
   "cell_type": "code",
   "execution_count": 28,
   "metadata": {},
   "outputs": [
    {
     "data": {
      "image/png": "[encoded data removed]",
      "text/plain": [
       "<Figure size 720x720 with 1 Axes>"
      ]
     },
     "metadata": {},
     "output_type": "display_data"
    }
   ],
   "source": [
    "df_train['primary_cleaner.input.feed_size'].hist(bins=50,figsize=(10,10))\n",
    "df_test['primary_cleaner.input.feed_size'].hist(bins=50)\n",
    "\n",
    "plt.legend(['Train','Test'])\n",
    "plt.xlabel('Распределение размеров гранул сырья на этапе первичной обработки')\n",
    "plt.ylabel('значения параметра')\n",
    "plt.show()"
   ]
  },
  {
   "cell_type": "markdown",
   "metadata": {},
   "source": [
    "Распределения для тестовой и тренировочной похожи!  \n",
    "На первичной обработке диапазон размеров гранул сильно сужается по сравнению с флотацией, мода была в районе 50, упала в район 7 единиц.  \n",
    "На этапе флотации на обоих выборках видны хвосты (выбросы?) > 200, но, так как это есть в обоих выборках, пока оставляем."
   ]
  },
  {
   "cell_type": "markdown",
   "metadata": {},
   "source": [
    "### Исследуем суммарную концентрацию всех веществ на разных стадиях: в сырье, в черновом и финальном концентратах"
   ]
  },
  {
   "cell_type": "markdown",
   "metadata": {},
   "source": [
    "Посчитаем сумму концентраций металлов после флотации, первичной и финальной очистки."
   ]
  },
  {
   "cell_type": "code",
   "execution_count": 29,
   "metadata": {},
   "outputs": [],
   "source": [
    "df_full['sum_concentrate_rougher'] = df_full['rougher.output.concentrate_ag'] + df_full['rougher.output.concentrate_pb'] + df_full['rougher.output.concentrate_sol'] + df_full['rougher.output.concentrate_au']\n",
    "df_full['sum_primary_cleaner_output_concentrate'] = df_full['primary_cleaner.output.concentrate_ag'] + df_full['primary_cleaner.output.concentrate_pb'] + df_full['primary_cleaner.output.concentrate_sol'] + df_full['primary_cleaner.output.concentrate_au']\n",
    "df_full['sum_final_output_concentrate'] = df_full['final.output.concentrate_ag'] + df_full['final.output.concentrate_pb'] + df_full['final.output.concentrate_sol'] + df_full['final.output.concentrate_au']\n",
    "sum_concentrate = ['sum_concentrate_rougher', 'sum_primary_cleaner_output_concentrate', 'sum_final_output_concentrate']\n"
   ]
  },
  {
   "cell_type": "code",
   "execution_count": 30,
   "metadata": {},
   "outputs": [
    {
     "data": {
      "image/png": "[encoded data removed]",
      "text/plain": [
       "<Figure size 1008x576 with 1 Axes>"
      ]
     },
     "metadata": {},
     "output_type": "display_data"
    }
   ],
   "source": [
    "plt.figure(figsize=(14,8))\n",
    "sns.distplot(df_full[df_full['sum_concentrate_rougher']>0.04]['sum_concentrate_rougher'],bins=80,label='sum_concentrate_rougher')\n",
    "sns.distplot(df_full[df_full['sum_primary_cleaner_output_concentrate']>0.04]['sum_primary_cleaner_output_concentrate'],bins=80,label='sum_primary_cleaner_output_concentrate')\n",
    "sns.distplot(df_full[df_full['sum_final_output_concentrate']>0.04]['sum_final_output_concentrate'],bins=80,label='sum_final_output_concentrate')\n",
    "plt.vlines(df_full[df_full['sum_concentrate_rougher']>0.3]['sum_concentrate_rougher'].mean(),0,0.07,color = 'r')\n",
    "plt.vlines(df_full[df_full['sum_primary_cleaner_output_concentrate']>0.3]['sum_primary_cleaner_output_concentrate'].mean(),0,0.10,color = 'r')\n",
    "plt.vlines(df_full[df_full['sum_final_output_concentrate']>0.3]['sum_final_output_concentrate'].mean(),0,0.17,color = 'r')\n",
    "plt.legend()\n",
    "plt.title('Суммарная концентрация всех веществ');"
   ]
  },
  {
   "cell_type": "markdown",
   "metadata": {},
   "source": [
    "Четко различается увеличение концентрации на каждом этапе."
   ]
  },
  {
   "cell_type": "markdown",
   "metadata": {},
   "source": [
    "## Модель"
   ]
  },
  {
   "cell_type": "markdown",
   "metadata": {},
   "source": [
    "### Напишем функцию для вычисления итоговой sMAPE"
   ]
  },
  {
   "attachments": {
    "image.png": {
     "image/png": "[encoded data removed]"
    }
   },
   "cell_type": "markdown",
   "metadata": {},
   "source": [
    "![image.png](attachment:image.png)"
   ]
  },
  {
   "cell_type": "code",
   "execution_count": 31,
   "metadata": {},
   "outputs": [],
   "source": [
    "def get_final_smape(smape_rougher, smape_final):\n",
    "    return 0.25 * smape_rougher + 0.75 * smape_final"
   ]
  },
  {
   "cell_type": "markdown",
   "metadata": {},
   "source": [
    "### Обучим модель и оценим качество"
   ]
  },
  {
   "cell_type": "markdown",
   "metadata": {},
   "source": [
    "Будем обучать одну модель, которая будет предсказывать два целевых признака для этапа \"Флотации\", там целевой признак будет rougher.output.recovery и на финальном этапе final.output.recovery.  \n",
    "\n",
    "Уменьшим количество необходимых признаков тренировочной выборки до такого же как на тестовой. В тестовую добавим целевых признаков (чтобы их можно было выделить для проверки)."
   ]
  },
  {
   "cell_type": "code",
   "execution_count": 32,
   "metadata": {},
   "outputs": [],
   "source": [
    "final_columns = [col for col in df.columns if col in df_test.columns]\n",
    "final_columns.append(\"rougher.output.recovery\")\n",
    "final_columns.append(\"final.output.recovery\")"
   ]
  },
  {
   "cell_type": "code",
   "execution_count": 33,
   "metadata": {},
   "outputs": [],
   "source": [
    "target_column_rougher = \"rougher.output.recovery\"\n",
    "target_column_final = \"final.output.recovery\"\n",
    "\n",
    "train_df = df[df['train']==1]\n",
    "test_df = df[df['train']==0]\n",
    "\n",
    "train_df = train_df.drop('train', axis=1)\n",
    "test_df = test_df.drop('train', axis=1)\n",
    "\n",
    "# оставим только необходимы столбцы\n",
    "train_df = train_df[final_columns]\n",
    "test_df = test_df[final_columns]\n",
    "\n",
    "train = train_df.copy()\n",
    "target_rougher = train[target_column_rougher]\n",
    "target_final = train[target_column_final]\n",
    "features = train.drop([target_column_rougher, target_column_final], axis=1)\n",
    "\n",
    "features_train_rougher, features_valid_rougher, target_train_rougher, target_valid_rougher = train_test_split(\n",
    "    features, target_rougher, test_size=0.25, random_state=12345)\n",
    "\n",
    "features_train_final, features_valid_final, target_train_final, target_valid_final = train_test_split(\n",
    "    features, target_final, test_size=0.25, random_state=12345)\n",
    "\n",
    "# Тестовая\n",
    "test_data = test_df.copy()\n",
    "target_test_rougher = test_data[target_column_rougher]\n",
    "target_test_final = test_data[target_column_final]\n",
    "features_test = test_data.drop([target_column_rougher, target_column_final], axis=1)"
   ]
  },
  {
   "cell_type": "code",
   "execution_count": 34,
   "metadata": {},
   "outputs": [
    {
     "data": {
      "text/plain": [
       "((4969,), (4969, 55))"
      ]
     },
     "execution_count": 34,
     "metadata": {},
     "output_type": "execute_result"
    }
   ],
   "source": [
    "target_test_rougher.shape, test_data.shape"
   ]
  },
  {
   "cell_type": "markdown",
   "metadata": {},
   "source": [
    "Проверим размеры выборок."
   ]
  },
  {
   "cell_type": "code",
   "execution_count": 35,
   "metadata": {},
   "outputs": [
    {
     "name": "stdout",
     "output_type": "stream",
     "text": [
      "(8088, 53) (8088,) (2696, 53) (2696,)\n",
      "(8088, 53) (8088,) (2696, 53) (2696,)\n",
      "(4969,) (4969,) (4969, 53)\n"
     ]
    }
   ],
   "source": [
    "print(features_train_rougher.shape, target_train_rougher.shape, features_valid_rougher.shape, target_valid_rougher.shape)\n",
    "print(features_train_final.shape, target_train_final.shape, features_valid_final.shape, target_valid_final.shape)\n",
    "print(target_test_rougher.shape, target_test_final.shape, features_test.shape)"
   ]
  },
  {
   "cell_type": "code",
   "execution_count": 36,
   "metadata": {},
   "outputs": [
    {
     "name": "stdout",
     "output_type": "stream",
     "text": [
      "Defaulting to user installation because normal site-packages is not writeable\n",
      "Requirement already satisfied: catboost in /opt/conda/lib/python3.7/site-packages (0.20.2)\n",
      "Requirement already satisfied: six in /opt/conda/lib/python3.7/site-packages (from catboost) (1.15.0)\n",
      "Requirement already satisfied: plotly in /opt/conda/lib/python3.7/site-packages (from catboost) (4.1.0)\n",
      "Requirement already satisfied: pandas>=0.24.0 in /opt/conda/lib/python3.7/site-packages (from catboost) (0.25.1)\n",
      "Requirement already satisfied: scipy in /opt/conda/lib/python3.7/site-packages (from catboost) (1.4.1)\n",
      "Requirement already satisfied: graphviz in /opt/conda/lib/python3.7/site-packages (from catboost) (0.16)\n",
      "Requirement already satisfied: numpy>=1.16.0 in /opt/conda/lib/python3.7/site-packages (from catboost) (1.19.5)\n",
      "Requirement already satisfied: matplotlib in /opt/conda/lib/python3.7/site-packages (from catboost) (3.1.0)\n",
      "Requirement already satisfied: retrying>=1.3.3 in /opt/conda/lib/python3.7/site-packages (from plotly->catboost) (1.3.3)\n",
      "Requirement already satisfied: pytz>=2017.2 in /opt/conda/lib/python3.7/site-packages (from pandas>=0.24.0->catboost) (2021.1)\n",
      "Requirement already satisfied: python-dateutil>=2.6.1 in /opt/conda/lib/python3.7/site-packages (from pandas>=0.24.0->catboost) (2.8.1)\n",
      "Requirement already satisfied: kiwisolver>=1.0.1 in /opt/conda/lib/python3.7/site-packages (from matplotlib->catboost) (1.3.1)\n",
      "Requirement already satisfied: pyparsing!=2.0.4,!=2.1.2,!=2.1.6,>=2.0.1 in /opt/conda/lib/python3.7/site-packages (from matplotlib->catboost) (2.4.7)\n",
      "Requirement already satisfied: cycler>=0.10 in /opt/conda/lib/python3.7/site-packages (from matplotlib->catboost) (0.10.0)\n"
     ]
    }
   ],
   "source": [
    "!pip install catboost"
   ]
  },
  {
   "cell_type": "code",
   "execution_count": 37,
   "metadata": {},
   "outputs": [],
   "source": [
    "model_rougher = CatBoostRegressor(verbose=100)\n",
    "model_final = CatBoostRegressor(verbose=100)"
   ]
  },
  {
   "cell_type": "code",
   "execution_count": 38,
   "metadata": {},
   "outputs": [
    {
     "name": "stdout",
     "output_type": "stream",
     "text": [
      "0:\tlearn: 7.3532569\ttest: 7.3682995\tbest: 7.3682995 (0)\ttotal: 54.7ms\tremaining: 54.6s\n",
      "100:\tlearn: 3.9784116\ttest: 4.4432491\tbest: 4.4432491 (100)\ttotal: 7.54s\tremaining: 1m 7s\n",
      "200:\tlearn: 3.4486937\ttest: 4.1199529\tbest: 4.1199529 (200)\ttotal: 14.6s\tremaining: 57.9s\n",
      "300:\tlearn: 3.1548308\ttest: 3.9590032\tbest: 3.9590032 (300)\ttotal: 21.5s\tremaining: 49.9s\n",
      "400:\tlearn: 2.9123580\ttest: 3.8554489\tbest: 3.8554489 (400)\ttotal: 28.8s\tremaining: 43s\n",
      "500:\tlearn: 2.7244353\ttest: 3.7693160\tbest: 3.7693160 (500)\ttotal: 36.1s\tremaining: 35.9s\n",
      "600:\tlearn: 2.5780100\ttest: 3.7143714\tbest: 3.7141204 (597)\ttotal: 43.4s\tremaining: 28.8s\n",
      "700:\tlearn: 2.4440265\ttest: 3.6649686\tbest: 3.6649686 (700)\ttotal: 50.7s\tremaining: 21.6s\n",
      "800:\tlearn: 2.3366775\ttest: 3.6324055\tbest: 3.6324055 (800)\ttotal: 57.9s\tremaining: 14.4s\n",
      "900:\tlearn: 2.2400062\ttest: 3.6018508\tbest: 3.6018508 (900)\ttotal: 1m 5s\tremaining: 7.19s\n",
      "999:\tlearn: 2.1491272\ttest: 3.5750768\tbest: 3.5749836 (998)\ttotal: 1m 12s\tremaining: 0us\n",
      "\n",
      "bestTest = 3.574983649\n",
      "bestIteration = 998\n",
      "\n",
      "Shrink model to first 999 iterations.\n"
     ]
    },
    {
     "data": {
      "text/plain": [
       "<catboost.core.CatBoostRegressor at 0x7f0edc892e50>"
      ]
     },
     "execution_count": 38,
     "metadata": {},
     "output_type": "execute_result"
    }
   ],
   "source": [
    "model_rougher.fit(features_train_rougher, target_train_rougher, eval_set=(features_valid_rougher, target_valid_rougher))\n"
   ]
  },
  {
   "cell_type": "markdown",
   "metadata": {},
   "source": [
    "Качество RMSE лучшей модели = 3.574983649"
   ]
  },
  {
   "cell_type": "code",
   "execution_count": 39,
   "metadata": {},
   "outputs": [
    {
     "name": "stdout",
     "output_type": "stream",
     "text": [
      "0:\tlearn: 8.0914816\ttest: 7.9456615\tbest: 7.9456615 (0)\ttotal: 13.6ms\tremaining: 13.6s\n",
      "100:\tlearn: 5.7634398\ttest: 5.7961044\tbest: 5.7961044 (100)\ttotal: 7.44s\tremaining: 1m 6s\n",
      "200:\tlearn: 5.3123099\ttest: 5.5302168\tbest: 5.5302168 (200)\ttotal: 15s\tremaining: 59.4s\n",
      "300:\tlearn: 5.0007105\ttest: 5.3868284\tbest: 5.3868284 (300)\ttotal: 22.2s\tremaining: 51.5s\n",
      "400:\tlearn: 4.7244096\ttest: 5.2717867\tbest: 5.2712882 (399)\ttotal: 29.5s\tremaining: 44s\n",
      "500:\tlearn: 4.4897302\ttest: 5.1769427\tbest: 5.1769427 (500)\ttotal: 37.2s\tremaining: 37s\n",
      "600:\tlearn: 4.2932284\ttest: 5.1142469\tbest: 5.1138565 (598)\ttotal: 44.9s\tremaining: 29.8s\n",
      "700:\tlearn: 4.1175792\ttest: 5.0695468\tbest: 5.0695468 (700)\ttotal: 52.9s\tremaining: 22.6s\n",
      "800:\tlearn: 3.9549692\ttest: 5.0198333\tbest: 5.0198333 (800)\ttotal: 1m\tremaining: 15.1s\n",
      "900:\tlearn: 3.8044346\ttest: 4.9747169\tbest: 4.9747169 (900)\ttotal: 1m 7s\tremaining: 7.46s\n",
      "999:\tlearn: 3.6714887\ttest: 4.9393971\tbest: 4.9393971 (999)\ttotal: 1m 15s\tremaining: 0us\n",
      "\n",
      "bestTest = 4.939397096\n",
      "bestIteration = 999\n",
      "\n"
     ]
    },
    {
     "data": {
      "text/plain": [
       "<catboost.core.CatBoostRegressor at 0x7f0edc892d90>"
      ]
     },
     "execution_count": 39,
     "metadata": {},
     "output_type": "execute_result"
    }
   ],
   "source": [
    "model_final.fit(features_train_final, target_train_final, eval_set=(features_valid_final, target_valid_final))"
   ]
  },
  {
   "cell_type": "markdown",
   "metadata": {},
   "source": [
    "Качество RMSE лучшей модели = 4.939397096"
   ]
  },
  {
   "cell_type": "code",
   "execution_count": 40,
   "metadata": {},
   "outputs": [
    {
     "data": {
      "text/plain": [
       "array([89.46594893, 89.11180841, 88.29211051, ..., 92.93455083,\n",
       "       93.14445376, 92.70251504])"
      ]
     },
     "execution_count": 40,
     "metadata": {},
     "output_type": "execute_result"
    }
   ],
   "source": [
    "predicts_rougher = model_rougher.predict(features_test)\n",
    "predicts_rougher"
   ]
  },
  {
   "cell_type": "code",
   "execution_count": 41,
   "metadata": {},
   "outputs": [
    {
     "data": {
      "text/plain": [
       "array([67.92425458, 67.55245006, 66.03449121, ..., 70.42799952,\n",
       "       72.51836458, 71.66410075])"
      ]
     },
     "execution_count": 41,
     "metadata": {},
     "output_type": "execute_result"
    }
   ],
   "source": [
    "predicts_final = model_final.predict(features_test)\n",
    "predicts_final"
   ]
  },
  {
   "cell_type": "code",
   "execution_count": 42,
   "metadata": {},
   "outputs": [],
   "source": [
    "def get_metrics(target_valid, predicted_valid, target_train):\n",
    "    metrics = {}\n",
    "    metrics['mse'] =  round(mean_squared_error(target_valid, predicted_valid),4)\n",
    "    metrics['rmse'] =  round(metrics['mse'] ** 0.5,4)\n",
    "    metrics['r2'] =  round(r2_score(target_valid, predicted_valid),4)\n",
    "    metrics['mae'] =  round(mean_absolute_error(target_valid, predicted_valid),4)\n",
    "    predicted_valid_for_median = pd.Series(target_train.median(), index=target_valid.index)\n",
    "    metrics['mae_median'] =  round(mean_absolute_error(target_valid, predicted_valid_for_median),4)\n",
    "    metrics['sMAPE'] =  round(1/len(target_valid) * np.sum(2 * np.abs(predicted_valid-target_valid) / (np.abs(target_valid) + np.abs(predicted_valid))*100),4)\n",
    "    return metrics"
   ]
  },
  {
   "cell_type": "code",
   "execution_count": 43,
   "metadata": {},
   "outputs": [
    {
     "data": {
      "text/plain": [
       "{'mse': 14.8128,\n",
       " 'rmse': 3.8487,\n",
       " 'r2': 0.4513,\n",
       " 'mae': 2.7826,\n",
       " 'mae_median': 4.076,\n",
       " 'sMAPE': 3.2989}"
      ]
     },
     "execution_count": 43,
     "metadata": {},
     "output_type": "execute_result"
    }
   ],
   "source": [
    "metrics_rougher = get_metrics(target_test_rougher, predicts_rougher, target_train_rougher)\n",
    "metrics_rougher"
   ]
  },
  {
   "cell_type": "markdown",
   "metadata": {},
   "source": [
    "Оценка mae 2.7826 обученной модели лучше чем медианная mae_median 4.076.   \n",
    "sMAPE: 3.2989"
   ]
  },
  {
   "cell_type": "code",
   "execution_count": 44,
   "metadata": {},
   "outputs": [
    {
     "data": {
      "text/plain": [
       "{'mse': 49.0087,\n",
       " 'rmse': 7.0006,\n",
       " 'r2': -0.0435,\n",
       " 'mae': 5.2007,\n",
       " 'mae_median': 5.3515,\n",
       " 'sMAPE': 7.7357}"
      ]
     },
     "execution_count": 44,
     "metadata": {},
     "output_type": "execute_result"
    }
   ],
   "source": [
    "metrics_final = get_metrics(target_test_final, predicts_final, target_train_final)\n",
    "metrics_final"
   ]
  },
  {
   "cell_type": "markdown",
   "metadata": {},
   "source": [
    "Оценка mae 5.2007 обученной модели лучше чем медианная mae_median 5.3515.  \n",
    "sMAPE: 7.7357."
   ]
  },
  {
   "cell_type": "code",
   "execution_count": 45,
   "metadata": {
    "scrolled": true
   },
   "outputs": [
    {
     "name": "stdout",
     "output_type": "stream",
     "text": [
      "Итоговое имметричное среднее абсолютное процентное отклонение 6.6265\n"
     ]
    }
   ],
   "source": [
    "final_smape = get_final_smape(metrics_rougher['sMAPE'], metrics_final['sMAPE'])\n",
    "print('Итоговое имметричное среднее абсолютное процентное отклонение', round(final_smape,4))"
   ]
  },
  {
   "cell_type": "markdown",
   "metadata": {},
   "source": [
    "Инициализируем и обучим константную модель."
   ]
  },
  {
   "cell_type": "code",
   "execution_count": 46,
   "metadata": {},
   "outputs": [],
   "source": [
    "base = DummyRegressor(strategy=\"median\")\n",
    "base_final = DummyRegressor(strategy=\"median\")"
   ]
  },
  {
   "cell_type": "code",
   "execution_count": 47,
   "metadata": {},
   "outputs": [
    {
     "data": {
      "text/plain": [
       "DummyRegressor(constant=None, quantile=None, strategy='median')"
      ]
     },
     "execution_count": 47,
     "metadata": {},
     "output_type": "execute_result"
    }
   ],
   "source": [
    "base.fit(features_train_rougher, target_train_rougher)\n",
    "base_final.fit(features_train_final, target_train_final)"
   ]
  },
  {
   "cell_type": "code",
   "execution_count": 48,
   "metadata": {},
   "outputs": [],
   "source": [
    "base_rougher = base.predict(features_test)\n",
    "base_final_pred = base_final.predict(features_test)"
   ]
  },
  {
   "cell_type": "code",
   "execution_count": 49,
   "metadata": {},
   "outputs": [],
   "source": [
    "def smape(target_1, predictions):    \n",
    "    a = abs(target_1 - predictions)\n",
    "    b = (abs(target_1) + abs(predictions)) / 2\n",
    "    errors = a / b\n",
    "    return errors.sum()/ errors.shape[0] * 100\n",
    "\n",
    "def ismape(smape_rougher, smape_final):\n",
    "    result = 0.25*smape_rougher + 0.75*smape_final\n",
    "    return result"
   ]
  },
  {
   "cell_type": "code",
   "execution_count": 50,
   "metadata": {},
   "outputs": [
    {
     "data": {
      "text/plain": [
       "4.793144555771031"
      ]
     },
     "execution_count": 50,
     "metadata": {},
     "output_type": "execute_result"
    }
   ],
   "source": [
    "smape(target_test_rougher,base_rougher)"
   ]
  },
  {
   "cell_type": "code",
   "execution_count": 51,
   "metadata": {},
   "outputs": [
    {
     "data": {
      "text/plain": [
       "7.905284929483777"
      ]
     },
     "execution_count": 51,
     "metadata": {},
     "output_type": "execute_result"
    }
   ],
   "source": [
    "smape(target_test_final,base_final_pred)"
   ]
  },
  {
   "cell_type": "code",
   "execution_count": 52,
   "metadata": {},
   "outputs": [
    {
     "data": {
      "text/plain": [
       "7.12724983605559"
      ]
     },
     "execution_count": 52,
     "metadata": {},
     "output_type": "execute_result"
    }
   ],
   "source": [
    "ismape(smape(target_test_rougher,base_rougher), smape(target_test_final,base_final_pred))"
   ]
  },
  {
   "cell_type": "code",
   "execution_count": 53,
   "metadata": {},
   "outputs": [
    {
     "data": {
      "text/plain": [
       "((4969,), (4969,))"
      ]
     },
     "execution_count": 53,
     "metadata": {},
     "output_type": "execute_result"
    }
   ],
   "source": [
    "target_test_rougher.shape, base_rougher.shape"
   ]
  },
  {
   "cell_type": "code",
   "execution_count": 54,
   "metadata": {},
   "outputs": [
    {
     "data": {
      "text/plain": [
       "((4969,), (4969,))"
      ]
     },
     "execution_count": 54,
     "metadata": {},
     "output_type": "execute_result"
    }
   ],
   "source": [
    "target_test_final.shape, base_final_pred.shape"
   ]
  },
  {
   "cell_type": "code",
   "execution_count": 55,
   "metadata": {},
   "outputs": [
    {
     "data": {
      "text/plain": [
       "((4969,), (4969, 55))"
      ]
     },
     "execution_count": 55,
     "metadata": {},
     "output_type": "execute_result"
    }
   ],
   "source": [
    "target_test_rougher.shape, test_data.shape"
   ]
  },
  {
   "cell_type": "markdown",
   "metadata": {},
   "source": [
    "## Вывод  \n",
    "\n",
    "Заказчиком был дан большой датасет. С пропусками и отсутствующими признаками. В начале работы датасеты были приведены в надлежащий вид и очищены от пропусков. Проверина на корректность предоставленая в датасете метрика Recovery после этапа Флотации. Она оказалась посчитана корректно. Что показала MAE между нашим расчетным и в датасете.\n",
    "\n",
    "По заданию нужно обучить две модели предсказывать две целевые метрики rougher.output.recovery после этапа Флотации. И final.output.recovery после финального этапа. Данные были разделены на тестовую и валидационные выборки. Все признаки используемые для обучения моделей были взяты такие же как в тестовой выборке, чтобы избавиться от эффекта \"заглядывания в будущее\" когда модель учится на данных которых она не должна знать.\n",
    "\n",
    "Судя по анализу данных, на каждом этапе концентрация золота растет, а в хвостах количество золота падает. Распределения размеров гранул сырья в двух выборках (обучающей и тестовой) близки. Четко различается увеличение концентрации золота на каждом этапе. У остальных металлов нет такого четкого разделения. Концентрация золота больше в хвостах после флотации, как и у остальных металлов.\n",
    "\n",
    "Были построены две модели на основании CatBoostRegressor. Модель для этапа rougher показала'sMAPE': 3.2989. А модель для финального этапа показала 'sMAPE' 7.7357, чем этот параметр меньше тем меньше ошибка.\n",
    "\n",
    "Итоговое sMAPE (англ. Symmetric Mean Absolute Percentage Error, «симметричное среднее абсолютное процентное отклонение») 6.6265, похоже на правду и приближено к реальному диапазону 7-10%, тогда как sMAPE константной модели 7.1272, следовательно, наша модель работает лучше."
   ]
  }
 ],
 "metadata": {
  "ExecuteTimeLog": [
   {
    "duration": 592,
    "start_time": "2022-02-24T12:24:24.437Z"
   },
   {
    "duration": 269,
    "start_time": "2022-02-24T12:24:25.762Z"
   },
   {
    "duration": 22,
    "start_time": "2022-02-24T12:24:37.662Z"
   },
   {
    "duration": 639,
    "start_time": "2022-02-24T12:27:20.301Z"
   },
   {
    "duration": 682,
    "start_time": "2022-02-24T12:27:31.234Z"
   },
   {
    "duration": 373,
    "start_time": "2022-02-24T12:28:05.251Z"
   },
   {
    "duration": 45,
    "start_time": "2022-02-24T12:28:14.575Z"
   },
   {
    "duration": 15,
    "start_time": "2022-02-24T12:32:20.892Z"
   },
   {
    "duration": 557,
    "start_time": "2022-03-01T13:46:12.836Z"
   },
   {
    "duration": 652,
    "start_time": "2022-03-01T13:46:13.394Z"
   },
   {
    "duration": 254,
    "start_time": "2022-03-01T13:46:14.048Z"
   },
   {
    "duration": -117,
    "start_time": "2022-03-01T13:46:14.421Z"
   },
   {
    "duration": 3,
    "start_time": "2022-03-01T15:52:49.107Z"
   },
   {
    "duration": 785,
    "start_time": "2022-03-01T15:52:49.786Z"
   },
   {
    "duration": 235,
    "start_time": "2022-03-01T15:52:50.946Z"
   },
   {
    "duration": 3,
    "start_time": "2022-03-01T15:52:55.046Z"
   },
   {
    "duration": 711,
    "start_time": "2022-03-01T15:52:55.631Z"
   },
   {
    "duration": 215,
    "start_time": "2022-03-01T15:52:56.369Z"
   },
   {
    "duration": 50,
    "start_time": "2022-03-01T15:53:02.766Z"
   },
   {
    "duration": 1191,
    "start_time": "2022-03-02T10:43:08.538Z"
   },
   {
    "duration": 685,
    "start_time": "2022-03-02T10:43:11.248Z"
   },
   {
    "duration": 142,
    "start_time": "2022-03-02T10:43:12.909Z"
   },
   {
    "duration": 5,
    "start_time": "2022-03-02T10:43:26.816Z"
   },
   {
    "duration": 35,
    "start_time": "2022-03-02T10:44:21.735Z"
   },
   {
    "duration": 27,
    "start_time": "2022-03-02T10:48:50.632Z"
   },
   {
    "duration": 26,
    "start_time": "2022-03-02T10:49:54.565Z"
   },
   {
    "duration": 36,
    "start_time": "2022-03-02T10:50:02.199Z"
   },
   {
    "duration": 27,
    "start_time": "2022-03-02T10:50:55.073Z"
   },
   {
    "duration": 4,
    "start_time": "2022-03-02T10:51:11.786Z"
   },
   {
    "duration": 42,
    "start_time": "2022-03-02T10:51:32.639Z"
   },
   {
    "duration": 6,
    "start_time": "2022-03-02T11:01:48.716Z"
   },
   {
    "duration": 190,
    "start_time": "2022-03-02T11:02:19.495Z"
   },
   {
    "duration": 6,
    "start_time": "2022-03-02T11:07:06.102Z"
   },
   {
    "duration": 8,
    "start_time": "2022-03-02T11:07:37.097Z"
   },
   {
    "duration": 9,
    "start_time": "2022-03-02T11:07:41.804Z"
   },
   {
    "duration": 28,
    "start_time": "2022-03-02T11:08:09.298Z"
   },
   {
    "duration": 1139,
    "start_time": "2022-03-02T11:08:40.288Z"
   },
   {
    "duration": 672,
    "start_time": "2022-03-02T11:08:41.429Z"
   },
   {
    "duration": 156,
    "start_time": "2022-03-02T11:08:42.104Z"
   },
   {
    "duration": 5,
    "start_time": "2022-03-02T11:08:42.262Z"
   },
   {
    "duration": 38,
    "start_time": "2022-03-02T11:08:42.268Z"
   },
   {
    "duration": 27,
    "start_time": "2022-03-02T11:08:42.308Z"
   },
   {
    "duration": 25,
    "start_time": "2022-03-02T11:08:42.336Z"
   },
   {
    "duration": 52,
    "start_time": "2022-03-02T11:08:42.363Z"
   },
   {
    "duration": 214,
    "start_time": "2022-03-02T11:08:42.417Z"
   },
   {
    "duration": 6,
    "start_time": "2022-03-02T11:08:42.633Z"
   },
   {
    "duration": 23,
    "start_time": "2022-03-02T11:08:42.640Z"
   },
   {
    "duration": 27,
    "start_time": "2022-03-02T11:08:42.665Z"
   },
   {
    "duration": 4,
    "start_time": "2022-03-02T11:17:21.386Z"
   },
   {
    "duration": 16121,
    "start_time": "2022-03-02T11:17:31.706Z"
   },
   {
    "duration": 7,
    "start_time": "2022-03-02T11:17:50.376Z"
   },
   {
    "duration": 5,
    "start_time": "2022-03-02T11:18:33.713Z"
   },
   {
    "duration": 8,
    "start_time": "2022-03-02T11:19:07.338Z"
   },
   {
    "duration": 5,
    "start_time": "2022-03-02T11:20:30.239Z"
   },
   {
    "duration": 28,
    "start_time": "2022-03-02T11:21:14.017Z"
   },
   {
    "duration": 6,
    "start_time": "2022-03-02T11:21:47.908Z"
   },
   {
    "duration": 806,
    "start_time": "2022-03-02T11:32:09.968Z"
   },
   {
    "duration": 7,
    "start_time": "2022-03-02T11:32:19.859Z"
   },
   {
    "duration": 82,
    "start_time": "2022-03-02T11:32:51.915Z"
   },
   {
    "duration": 171,
    "start_time": "2022-03-02T11:33:15.735Z"
   },
   {
    "duration": 148,
    "start_time": "2022-03-02T11:33:42.789Z"
   },
   {
    "duration": 37,
    "start_time": "2022-03-02T11:34:29.713Z"
   },
   {
    "duration": 27,
    "start_time": "2022-03-02T11:35:12.530Z"
   },
   {
    "duration": 28,
    "start_time": "2022-03-02T11:35:46.253Z"
   },
   {
    "duration": 4,
    "start_time": "2022-03-02T11:36:01.586Z"
   },
   {
    "duration": 40,
    "start_time": "2022-03-02T11:36:11.223Z"
   },
   {
    "duration": 216,
    "start_time": "2022-03-02T11:40:51.742Z"
   },
   {
    "duration": 6,
    "start_time": "2022-03-02T11:41:40.734Z"
   },
   {
    "duration": 12,
    "start_time": "2022-03-02T11:42:38.777Z"
   },
   {
    "duration": 5,
    "start_time": "2022-03-02T11:43:04.579Z"
   },
   {
    "duration": 29,
    "start_time": "2022-03-02T11:44:17.096Z"
   },
   {
    "duration": 4,
    "start_time": "2022-03-02T11:45:23.151Z"
   },
   {
    "duration": 16320,
    "start_time": "2022-03-02T11:45:34.482Z"
   },
   {
    "duration": 6,
    "start_time": "2022-03-02T11:46:21.410Z"
   },
   {
    "duration": 11,
    "start_time": "2022-03-02T11:46:38.478Z"
   },
   {
    "duration": 5,
    "start_time": "2022-03-02T11:47:37.469Z"
   },
   {
    "duration": 62,
    "start_time": "2022-03-02T11:47:51.479Z"
   },
   {
    "duration": 31,
    "start_time": "2022-03-02T11:48:07.634Z"
   },
   {
    "duration": 6,
    "start_time": "2022-03-02T11:48:33.585Z"
   },
   {
    "duration": 8,
    "start_time": "2022-03-02T11:50:52.837Z"
   },
   {
    "duration": 12,
    "start_time": "2022-03-02T11:51:33.873Z"
   },
   {
    "duration": 24,
    "start_time": "2022-03-02T11:51:42.124Z"
   },
   {
    "duration": 205,
    "start_time": "2022-03-02T11:52:08.941Z"
   },
   {
    "duration": 213,
    "start_time": "2022-03-02T11:55:27.973Z"
   },
   {
    "duration": 299,
    "start_time": "2022-03-02T11:56:57.410Z"
   },
   {
    "duration": 206,
    "start_time": "2022-03-02T11:57:21.080Z"
   },
   {
    "duration": 7,
    "start_time": "2022-03-02T11:58:00.510Z"
   },
   {
    "duration": 7833,
    "start_time": "2022-03-02T11:59:46.465Z"
   },
   {
    "duration": 5,
    "start_time": "2022-03-02T12:02:38.425Z"
   },
   {
    "duration": 211,
    "start_time": "2022-03-02T12:03:13.567Z"
   },
   {
    "duration": 4,
    "start_time": "2022-03-02T12:03:34.599Z"
   },
   {
    "duration": 5,
    "start_time": "2022-03-02T12:03:54.573Z"
   },
   {
    "duration": 214,
    "start_time": "2022-03-02T12:03:59.171Z"
   },
   {
    "duration": 572,
    "start_time": "2022-03-02T12:04:11.906Z"
   },
   {
    "duration": 6538,
    "start_time": "2022-03-02T12:05:24.400Z"
   },
   {
    "duration": 7956,
    "start_time": "2022-03-02T12:05:31.268Z"
   },
   {
    "duration": 8242,
    "start_time": "2022-03-02T12:05:45.625Z"
   },
   {
    "duration": 8032,
    "start_time": "2022-03-02T12:06:45.204Z"
   },
   {
    "duration": 494,
    "start_time": "2022-03-02T12:16:12.718Z"
   },
   {
    "duration": 627,
    "start_time": "2022-03-02T12:17:27.838Z"
   },
   {
    "duration": 496,
    "start_time": "2022-03-02T12:18:37.095Z"
   },
   {
    "duration": 509,
    "start_time": "2022-03-02T12:18:49.952Z"
   },
   {
    "duration": 504,
    "start_time": "2022-03-02T12:20:59.827Z"
   },
   {
    "duration": 6708,
    "start_time": "2022-03-02T12:25:48.690Z"
   },
   {
    "duration": 204,
    "start_time": "2022-03-02T12:35:37.078Z"
   },
   {
    "duration": 3,
    "start_time": "2022-03-02T12:39:23.327Z"
   },
   {
    "duration": 214,
    "start_time": "2022-03-02T12:42:58.140Z"
   },
   {
    "duration": 204,
    "start_time": "2022-03-02T12:48:24.338Z"
   },
   {
    "duration": 229,
    "start_time": "2022-03-02T12:52:09.390Z"
   },
   {
    "duration": 25,
    "start_time": "2022-03-02T14:12:33.030Z"
   },
   {
    "duration": 3,
    "start_time": "2022-03-02T14:12:38.978Z"
   },
   {
    "duration": 209,
    "start_time": "2022-03-02T14:12:40.101Z"
   },
   {
    "duration": 8,
    "start_time": "2022-03-02T14:19:32.332Z"
   },
   {
    "duration": 400,
    "start_time": "2022-03-02T14:19:45.722Z"
   },
   {
    "duration": 13,
    "start_time": "2022-03-02T14:20:51.456Z"
   },
   {
    "duration": 826,
    "start_time": "2022-03-02T14:21:05.609Z"
   },
   {
    "duration": 11,
    "start_time": "2022-03-02T14:29:08.169Z"
   },
   {
    "duration": 734,
    "start_time": "2022-03-02T14:29:09.126Z"
   },
   {
    "duration": 6,
    "start_time": "2022-03-02T14:37:37.555Z"
   },
   {
    "duration": 10,
    "start_time": "2022-03-02T14:41:18.188Z"
   },
   {
    "duration": 9,
    "start_time": "2022-03-02T14:41:21.627Z"
   },
   {
    "duration": 5389,
    "start_time": "2022-03-02T14:42:19.327Z"
   },
   {
    "duration": 4666,
    "start_time": "2022-03-02T14:44:21.622Z"
   },
   {
    "duration": -155,
    "start_time": "2022-03-02T14:44:26.445Z"
   },
   {
    "duration": 8,
    "start_time": "2022-03-02T14:44:40.090Z"
   },
   {
    "duration": 7,
    "start_time": "2022-03-02T14:44:50.058Z"
   },
   {
    "duration": 5316,
    "start_time": "2022-03-02T14:44:51.911Z"
   },
   {
    "duration": 7,
    "start_time": "2022-03-02T14:45:57.007Z"
   },
   {
    "duration": 5763,
    "start_time": "2022-03-02T14:45:58.074Z"
   },
   {
    "duration": 75,
    "start_time": "2022-03-02T15:05:33.521Z"
   },
   {
    "duration": 349,
    "start_time": "2022-03-02T15:06:13.939Z"
   },
   {
    "duration": 354,
    "start_time": "2022-03-02T15:06:48.297Z"
   },
   {
    "duration": 1029,
    "start_time": "2022-03-02T15:07:11.679Z"
   },
   {
    "duration": 1126,
    "start_time": "2022-03-02T15:13:21.122Z"
   },
   {
    "duration": 1003,
    "start_time": "2022-03-02T15:13:36.496Z"
   },
   {
    "duration": 4,
    "start_time": "2022-03-02T15:15:10.167Z"
   },
   {
    "duration": 4,
    "start_time": "2022-03-02T15:17:27.904Z"
   },
   {
    "duration": 3,
    "start_time": "2022-03-02T15:18:45.648Z"
   },
   {
    "duration": 9,
    "start_time": "2022-03-02T15:19:37.418Z"
   },
   {
    "duration": 3,
    "start_time": "2022-03-02T15:20:06.611Z"
   },
   {
    "duration": 3,
    "start_time": "2022-03-02T15:20:10.994Z"
   },
   {
    "duration": 3,
    "start_time": "2022-03-02T15:20:23.653Z"
   },
   {
    "duration": 215,
    "start_time": "2022-03-02T15:20:51.136Z"
   },
   {
    "duration": 221,
    "start_time": "2022-03-02T15:21:19.245Z"
   },
   {
    "duration": 65,
    "start_time": "2022-03-02T15:22:24.564Z"
   },
   {
    "duration": 223,
    "start_time": "2022-03-02T15:22:30.884Z"
   },
   {
    "duration": 3,
    "start_time": "2022-03-02T15:23:12.194Z"
   },
   {
    "duration": 3,
    "start_time": "2022-03-02T15:23:12.780Z"
   },
   {
    "duration": 203,
    "start_time": "2022-03-02T15:23:13.384Z"
   },
   {
    "duration": 208,
    "start_time": "2022-03-02T15:23:24.930Z"
   },
   {
    "duration": 11,
    "start_time": "2022-03-02T15:24:10.215Z"
   },
   {
    "duration": 4,
    "start_time": "2022-03-02T15:42:22.084Z"
   },
   {
    "duration": 3,
    "start_time": "2022-03-02T15:42:23.591Z"
   },
   {
    "duration": 12,
    "start_time": "2022-03-02T15:42:24.441Z"
   },
   {
    "duration": 2,
    "start_time": "2022-03-02T15:42:26.451Z"
   },
   {
    "duration": 2,
    "start_time": "2022-03-02T15:42:26.982Z"
   },
   {
    "duration": 207,
    "start_time": "2022-03-02T15:42:28.387Z"
   },
   {
    "duration": 204,
    "start_time": "2022-03-02T15:42:45.272Z"
   },
   {
    "duration": 3,
    "start_time": "2022-03-02T15:42:51.678Z"
   },
   {
    "duration": 3,
    "start_time": "2022-03-02T15:42:53.411Z"
   },
   {
    "duration": 282,
    "start_time": "2022-03-02T15:42:54.051Z"
   },
   {
    "duration": 3,
    "start_time": "2022-03-02T15:43:43.257Z"
   },
   {
    "duration": 208,
    "start_time": "2022-03-02T15:44:03.602Z"
   },
   {
    "duration": 25,
    "start_time": "2022-03-02T15:46:50.332Z"
   },
   {
    "duration": 210,
    "start_time": "2022-03-02T15:46:52.126Z"
   },
   {
    "duration": 217,
    "start_time": "2022-03-02T15:48:31.057Z"
   },
   {
    "duration": 1213,
    "start_time": "2022-03-02T15:50:34.843Z"
   },
   {
    "duration": 789,
    "start_time": "2022-03-02T15:50:36.058Z"
   },
   {
    "duration": 4,
    "start_time": "2022-03-02T15:50:36.849Z"
   },
   {
    "duration": 163,
    "start_time": "2022-03-02T15:50:36.855Z"
   },
   {
    "duration": 45,
    "start_time": "2022-03-02T15:50:37.020Z"
   },
   {
    "duration": 29,
    "start_time": "2022-03-02T15:50:37.067Z"
   },
   {
    "duration": 12,
    "start_time": "2022-03-02T15:50:37.098Z"
   },
   {
    "duration": 63,
    "start_time": "2022-03-02T15:50:37.112Z"
   },
   {
    "duration": 203,
    "start_time": "2022-03-02T15:50:37.177Z"
   },
   {
    "duration": 13,
    "start_time": "2022-03-02T15:50:37.382Z"
   },
   {
    "duration": 49,
    "start_time": "2022-03-02T15:50:37.397Z"
   },
   {
    "duration": 4,
    "start_time": "2022-03-02T15:50:37.448Z"
   },
   {
    "duration": 14327,
    "start_time": "2022-03-02T15:50:37.454Z"
   },
   {
    "duration": 10,
    "start_time": "2022-03-02T15:50:51.782Z"
   },
   {
    "duration": 5,
    "start_time": "2022-03-02T15:50:51.793Z"
   },
   {
    "duration": 28,
    "start_time": "2022-03-02T15:50:51.799Z"
   },
   {
    "duration": 6,
    "start_time": "2022-03-02T15:50:51.829Z"
   },
   {
    "duration": 27,
    "start_time": "2022-03-02T15:50:51.837Z"
   },
   {
    "duration": 16,
    "start_time": "2022-03-02T15:50:51.866Z"
   },
   {
    "duration": 24,
    "start_time": "2022-03-02T15:50:51.883Z"
   },
   {
    "duration": 224,
    "start_time": "2022-03-02T15:50:51.909Z"
   },
   {
    "duration": 6,
    "start_time": "2022-03-02T15:50:52.135Z"
   },
   {
    "duration": 7099,
    "start_time": "2022-03-02T15:50:52.144Z"
   },
   {
    "duration": 19,
    "start_time": "2022-03-02T15:50:59.245Z"
   },
   {
    "duration": 757,
    "start_time": "2022-03-02T15:50:59.266Z"
   },
   {
    "duration": 598,
    "start_time": "2022-03-02T15:51:00.025Z"
   },
   {
    "duration": 598,
    "start_time": "2022-03-02T15:51:00.625Z"
   },
   {
    "duration": 770,
    "start_time": "2022-03-02T15:51:01.225Z"
   },
   {
    "duration": 9,
    "start_time": "2022-03-02T15:51:01.997Z"
   },
   {
    "duration": 1012,
    "start_time": "2022-03-02T15:51:02.008Z"
   },
   {
    "duration": 4,
    "start_time": "2022-03-02T15:51:03.022Z"
   },
   {
    "duration": 7,
    "start_time": "2022-03-02T15:51:03.028Z"
   },
   {
    "duration": 23,
    "start_time": "2022-03-02T15:51:03.036Z"
   },
   {
    "duration": 4,
    "start_time": "2022-03-02T15:51:03.061Z"
   },
   {
    "duration": 4,
    "start_time": "2022-03-02T15:51:03.067Z"
   },
   {
    "duration": 28,
    "start_time": "2022-03-02T15:51:03.072Z"
   },
   {
    "duration": 323,
    "start_time": "2022-03-02T15:51:03.102Z"
   },
   {
    "duration": 17,
    "start_time": "2022-03-02T15:51:03.410Z"
   },
   {
    "duration": 210,
    "start_time": "2022-03-02T15:58:47.208Z"
   },
   {
    "duration": 201,
    "start_time": "2022-03-02T16:00:13.342Z"
   },
   {
    "duration": 4,
    "start_time": "2022-03-02T16:00:35.354Z"
   },
   {
    "duration": 4,
    "start_time": "2022-03-02T16:00:38.643Z"
   },
   {
    "duration": 196,
    "start_time": "2022-03-02T16:01:15.639Z"
   },
   {
    "duration": 3,
    "start_time": "2022-03-02T16:01:41.309Z"
   },
   {
    "duration": 4,
    "start_time": "2022-03-02T16:01:42.270Z"
   },
   {
    "duration": 212,
    "start_time": "2022-03-02T16:02:21.931Z"
   },
   {
    "duration": 15,
    "start_time": "2022-03-02T16:06:22.589Z"
   },
   {
    "duration": 203,
    "start_time": "2022-03-02T16:15:14.544Z"
   },
   {
    "duration": 188,
    "start_time": "2022-03-02T16:15:19.692Z"
   },
   {
    "duration": 5043,
    "start_time": "2022-03-02T16:25:30.936Z"
   },
   {
    "duration": 4862,
    "start_time": "2022-03-02T16:28:24.673Z"
   },
   {
    "duration": 4,
    "start_time": "2022-03-02T16:37:57.327Z"
   },
   {
    "duration": 22,
    "start_time": "2022-03-02T16:37:59.282Z"
   },
   {
    "duration": 13,
    "start_time": "2022-03-02T16:38:00.865Z"
   },
   {
    "duration": 19,
    "start_time": "2022-03-02T16:38:39.106Z"
   },
   {
    "duration": 15,
    "start_time": "2022-03-02T16:38:39.930Z"
   },
   {
    "duration": 3,
    "start_time": "2022-03-02T16:38:43.377Z"
   },
   {
    "duration": 5,
    "start_time": "2022-03-02T16:38:45.571Z"
   },
   {
    "duration": 26,
    "start_time": "2022-03-02T17:32:22.575Z"
   },
   {
    "duration": 7224,
    "start_time": "2022-03-02T17:32:40.577Z"
   },
   {
    "duration": 3,
    "start_time": "2022-03-02T17:32:47.803Z"
   },
   {
    "duration": 234,
    "start_time": "2022-03-02T17:32:57.881Z"
   },
   {
    "duration": 3,
    "start_time": "2022-03-02T17:34:12.296Z"
   },
   {
    "duration": 34,
    "start_time": "2022-03-02T17:34:53.528Z"
   },
   {
    "duration": 6,
    "start_time": "2022-03-02T17:36:38.947Z"
   },
   {
    "duration": 5,
    "start_time": "2022-03-02T17:36:48.351Z"
   },
   {
    "duration": 7229,
    "start_time": "2022-03-02T17:38:57.526Z"
   },
   {
    "duration": 3,
    "start_time": "2022-03-02T17:39:04.758Z"
   },
   {
    "duration": 78098,
    "start_time": "2022-03-02T17:39:06.182Z"
   },
   {
    "duration": 78781,
    "start_time": "2022-03-02T17:41:17.410Z"
   },
   {
    "duration": 14,
    "start_time": "2022-03-02T17:43:03.140Z"
   },
   {
    "duration": 12,
    "start_time": "2022-03-02T17:43:15.052Z"
   },
   {
    "duration": 319,
    "start_time": "2022-03-02T17:51:07.036Z"
   },
   {
    "duration": 4,
    "start_time": "2022-03-02T17:51:14.191Z"
   },
   {
    "duration": 10,
    "start_time": "2022-03-02T17:51:27.363Z"
   },
   {
    "duration": 5,
    "start_time": "2022-03-02T17:51:52.105Z"
   },
   {
    "duration": 9,
    "start_time": "2022-03-02T17:51:53.863Z"
   },
   {
    "duration": 2,
    "start_time": "2022-03-02T18:00:03.443Z"
   },
   {
    "duration": 8,
    "start_time": "2022-03-02T18:01:10.995Z"
   },
   {
    "duration": 4,
    "start_time": "2022-03-02T18:02:46.607Z"
   },
   {
    "duration": 220,
    "start_time": "2022-03-02T18:03:32.273Z"
   },
   {
    "duration": 207,
    "start_time": "2022-03-02T18:03:48.667Z"
   },
   {
    "duration": 87,
    "start_time": "2022-03-02T18:04:55.366Z"
   },
   {
    "duration": 3,
    "start_time": "2022-03-02T18:05:01.201Z"
   },
   {
    "duration": 1569,
    "start_time": "2022-03-03T06:06:21.319Z"
   },
   {
    "duration": 1038,
    "start_time": "2022-03-03T06:06:22.890Z"
   },
   {
    "duration": 7,
    "start_time": "2022-03-03T06:06:23.931Z"
   },
   {
    "duration": 237,
    "start_time": "2022-03-03T06:06:23.952Z"
   },
   {
    "duration": 58,
    "start_time": "2022-03-03T06:06:25.165Z"
   },
   {
    "duration": 39,
    "start_time": "2022-03-03T06:06:26.202Z"
   },
   {
    "duration": 5,
    "start_time": "2022-03-03T06:06:26.786Z"
   },
   {
    "duration": 59,
    "start_time": "2022-03-03T06:06:27.611Z"
   },
   {
    "duration": 270,
    "start_time": "2022-03-03T06:07:28.836Z"
   },
   {
    "duration": 19,
    "start_time": "2022-03-03T06:07:31.808Z"
   },
   {
    "duration": 39,
    "start_time": "2022-03-03T06:07:35.898Z"
   },
   {
    "duration": 5,
    "start_time": "2022-03-03T06:07:37.657Z"
   },
   {
    "duration": 23516,
    "start_time": "2022-03-03T06:07:38.115Z"
   },
   {
    "duration": 21,
    "start_time": "2022-03-03T06:08:01.634Z"
   },
   {
    "duration": 7,
    "start_time": "2022-03-03T06:08:01.658Z"
   },
   {
    "duration": 35,
    "start_time": "2022-03-03T06:08:04.868Z"
   },
   {
    "duration": 8,
    "start_time": "2022-03-03T06:08:06.135Z"
   },
   {
    "duration": 9,
    "start_time": "2022-03-03T06:08:45.900Z"
   },
   {
    "duration": 19,
    "start_time": "2022-03-03T06:08:46.471Z"
   },
   {
    "duration": 36,
    "start_time": "2022-03-03T06:08:47.041Z"
   },
   {
    "duration": 280,
    "start_time": "2022-03-03T06:08:56.135Z"
   },
   {
    "duration": 10,
    "start_time": "2022-03-03T06:08:58.000Z"
   },
   {
    "duration": 10463,
    "start_time": "2022-03-03T06:10:26.642Z"
   },
   {
    "duration": 42,
    "start_time": "2022-03-03T06:10:37.109Z"
   },
   {
    "duration": 1106,
    "start_time": "2022-03-03T06:10:37.155Z"
   },
   {
    "duration": 850,
    "start_time": "2022-03-03T06:10:39.940Z"
   },
   {
    "duration": 863,
    "start_time": "2022-03-03T06:10:40.793Z"
   },
   {
    "duration": 1018,
    "start_time": "2022-03-03T06:10:41.659Z"
   },
   {
    "duration": 12,
    "start_time": "2022-03-03T06:10:49.391Z"
   },
   {
    "duration": 1466,
    "start_time": "2022-03-03T06:10:50.063Z"
   },
   {
    "duration": 4,
    "start_time": "2022-03-03T06:11:06.836Z"
   },
   {
    "duration": 4,
    "start_time": "2022-03-03T06:11:21.141Z"
   },
   {
    "duration": 39,
    "start_time": "2022-03-03T06:11:21.971Z"
   },
   {
    "duration": 6,
    "start_time": "2022-03-03T06:11:26.115Z"
   },
   {
    "duration": 152,
    "start_time": "2022-03-03T06:12:32.405Z"
   },
   {
    "duration": 70,
    "start_time": "2022-03-03T06:13:25.964Z"
   },
   {
    "duration": 4,
    "start_time": "2022-03-03T06:15:16.613Z"
   },
   {
    "duration": 57241,
    "start_time": "2022-03-03T06:15:18.066Z"
   },
   {
    "duration": 58446,
    "start_time": "2022-03-03T06:16:15.311Z"
   },
   {
    "duration": 20,
    "start_time": "2022-03-03T06:17:13.759Z"
   },
   {
    "duration": 73,
    "start_time": "2022-03-03T06:17:13.782Z"
   },
   {
    "duration": 9,
    "start_time": "2022-03-03T06:17:13.858Z"
   },
   {
    "duration": 13,
    "start_time": "2022-03-03T06:17:13.870Z"
   },
   {
    "duration": 13,
    "start_time": "2022-03-03T06:17:13.885Z"
   },
   {
    "duration": 4,
    "start_time": "2022-03-03T06:17:13.952Z"
   },
   {
    "duration": 248,
    "start_time": "2022-03-03T08:10:24.195Z"
   },
   {
    "duration": 1446,
    "start_time": "2022-03-03T08:10:57.721Z"
   },
   {
    "duration": 40,
    "start_time": "2022-03-03T08:13:04.403Z"
   },
   {
    "duration": 205,
    "start_time": "2022-03-03T08:13:20.377Z"
   },
   {
    "duration": 4,
    "start_time": "2022-03-03T08:15:18.949Z"
   },
   {
    "duration": 295,
    "start_time": "2022-03-03T08:15:26.661Z"
   },
   {
    "duration": 207,
    "start_time": "2022-03-03T08:16:06.015Z"
   },
   {
    "duration": 204,
    "start_time": "2022-03-03T08:16:33.496Z"
   },
   {
    "duration": 267,
    "start_time": "2022-03-03T08:17:03.339Z"
   },
   {
    "duration": 5,
    "start_time": "2022-03-03T08:17:10.631Z"
   },
   {
    "duration": 4,
    "start_time": "2022-03-03T08:21:22.723Z"
   },
   {
    "duration": 2,
    "start_time": "2022-03-03T08:22:32.463Z"
   },
   {
    "duration": 202,
    "start_time": "2022-03-03T08:25:44.723Z"
   },
   {
    "duration": 1216,
    "start_time": "2022-03-03T08:27:11.438Z"
   },
   {
    "duration": 1377,
    "start_time": "2022-03-03T08:27:12.656Z"
   },
   {
    "duration": 4,
    "start_time": "2022-03-03T08:27:14.035Z"
   },
   {
    "duration": 168,
    "start_time": "2022-03-03T08:27:14.040Z"
   },
   {
    "duration": 52,
    "start_time": "2022-03-03T08:27:14.211Z"
   },
   {
    "duration": 30,
    "start_time": "2022-03-03T08:27:14.264Z"
   },
   {
    "duration": 3,
    "start_time": "2022-03-03T08:27:14.296Z"
   },
   {
    "duration": 63,
    "start_time": "2022-03-03T08:27:14.302Z"
   },
   {
    "duration": 300,
    "start_time": "2022-03-03T08:27:14.368Z"
   },
   {
    "duration": 18,
    "start_time": "2022-03-03T08:27:14.670Z"
   },
   {
    "duration": 42,
    "start_time": "2022-03-03T08:27:14.690Z"
   },
   {
    "duration": 29,
    "start_time": "2022-03-03T08:27:14.734Z"
   },
   {
    "duration": 18956,
    "start_time": "2022-03-03T08:27:14.765Z"
   },
   {
    "duration": 11,
    "start_time": "2022-03-03T08:27:33.723Z"
   },
   {
    "duration": 5,
    "start_time": "2022-03-03T08:27:33.737Z"
   },
   {
    "duration": 27,
    "start_time": "2022-03-03T08:27:33.763Z"
   },
   {
    "duration": 8,
    "start_time": "2022-03-03T08:27:33.792Z"
   },
   {
    "duration": 8,
    "start_time": "2022-03-03T08:27:33.802Z"
   },
   {
    "duration": 16,
    "start_time": "2022-03-03T08:27:33.812Z"
   },
   {
    "duration": 45,
    "start_time": "2022-03-03T08:27:33.830Z"
   },
   {
    "duration": 192,
    "start_time": "2022-03-03T08:27:33.877Z"
   },
   {
    "duration": 6,
    "start_time": "2022-03-03T08:27:34.071Z"
   },
   {
    "duration": 6983,
    "start_time": "2022-03-03T08:27:34.081Z"
   },
   {
    "duration": 13,
    "start_time": "2022-03-03T08:27:41.066Z"
   },
   {
    "duration": 819,
    "start_time": "2022-03-03T08:27:41.080Z"
   },
   {
    "duration": 525,
    "start_time": "2022-03-03T08:27:41.900Z"
   },
   {
    "duration": 521,
    "start_time": "2022-03-03T08:27:42.428Z"
   },
   {
    "duration": 812,
    "start_time": "2022-03-03T08:27:42.951Z"
   },
   {
    "duration": 8,
    "start_time": "2022-03-03T08:27:43.765Z"
   },
   {
    "duration": 929,
    "start_time": "2022-03-03T08:27:43.775Z"
   },
   {
    "duration": 3,
    "start_time": "2022-03-03T08:27:44.706Z"
   },
   {
    "duration": 14,
    "start_time": "2022-03-03T08:27:44.710Z"
   },
   {
    "duration": 40,
    "start_time": "2022-03-03T08:27:44.725Z"
   },
   {
    "duration": 4,
    "start_time": "2022-03-03T08:27:44.767Z"
   },
   {
    "duration": 2451,
    "start_time": "2022-03-03T08:27:44.773Z"
   },
   {
    "duration": 3,
    "start_time": "2022-03-03T08:27:47.226Z"
   },
   {
    "duration": 46149,
    "start_time": "2022-03-03T08:27:47.231Z"
   },
   {
    "duration": 45914,
    "start_time": "2022-03-03T08:28:33.382Z"
   },
   {
    "duration": 13,
    "start_time": "2022-03-03T08:29:19.298Z"
   },
   {
    "duration": 10,
    "start_time": "2022-03-03T08:29:19.313Z"
   },
   {
    "duration": 5,
    "start_time": "2022-03-03T08:29:19.324Z"
   },
   {
    "duration": 38,
    "start_time": "2022-03-03T08:29:19.330Z"
   },
   {
    "duration": 7,
    "start_time": "2022-03-03T08:29:19.370Z"
   },
   {
    "duration": 5,
    "start_time": "2022-03-03T08:29:19.378Z"
   },
   {
    "duration": 5,
    "start_time": "2022-03-03T08:29:19.384Z"
   },
   {
    "duration": 10,
    "start_time": "2022-03-03T08:29:19.390Z"
   },
   {
    "duration": 3,
    "start_time": "2022-03-03T08:32:19.424Z"
   },
   {
    "duration": 360,
    "start_time": "2022-03-03T08:34:21.914Z"
   },
   {
    "duration": 238,
    "start_time": "2022-03-03T08:37:29.504Z"
   },
   {
    "duration": 203,
    "start_time": "2022-03-03T08:37:55.313Z"
   },
   {
    "duration": 1158,
    "start_time": "2022-03-03T08:38:27.083Z"
   },
   {
    "duration": 749,
    "start_time": "2022-03-03T08:38:28.243Z"
   },
   {
    "duration": 3,
    "start_time": "2022-03-03T08:38:28.994Z"
   },
   {
    "duration": 131,
    "start_time": "2022-03-03T08:38:28.999Z"
   },
   {
    "duration": 47,
    "start_time": "2022-03-03T08:38:29.131Z"
   },
   {
    "duration": 28,
    "start_time": "2022-03-03T08:38:29.180Z"
   },
   {
    "duration": 3,
    "start_time": "2022-03-03T08:38:29.210Z"
   },
   {
    "duration": 66,
    "start_time": "2022-03-03T08:38:29.216Z"
   },
   {
    "duration": 170,
    "start_time": "2022-03-03T08:38:29.284Z"
   },
   {
    "duration": 17,
    "start_time": "2022-03-03T08:38:29.456Z"
   },
   {
    "duration": 27,
    "start_time": "2022-03-03T08:38:29.475Z"
   },
   {
    "duration": 3,
    "start_time": "2022-03-03T08:38:29.503Z"
   },
   {
    "duration": 13793,
    "start_time": "2022-03-03T08:38:29.508Z"
   },
   {
    "duration": 9,
    "start_time": "2022-03-03T08:38:43.303Z"
   },
   {
    "duration": 4,
    "start_time": "2022-03-03T08:38:43.313Z"
   },
   {
    "duration": 26,
    "start_time": "2022-03-03T08:38:43.319Z"
   },
   {
    "duration": 5,
    "start_time": "2022-03-03T08:38:43.364Z"
   },
   {
    "duration": 8,
    "start_time": "2022-03-03T08:38:43.370Z"
   },
   {
    "duration": 14,
    "start_time": "2022-03-03T08:38:43.380Z"
   },
   {
    "duration": 25,
    "start_time": "2022-03-03T08:38:43.395Z"
   },
   {
    "duration": 199,
    "start_time": "2022-03-03T08:38:43.421Z"
   },
   {
    "duration": 7,
    "start_time": "2022-03-03T08:38:43.622Z"
   },
   {
    "duration": 6143,
    "start_time": "2022-03-03T08:38:43.632Z"
   },
   {
    "duration": 11,
    "start_time": "2022-03-03T08:38:49.777Z"
   },
   {
    "duration": 706,
    "start_time": "2022-03-03T08:38:49.789Z"
   },
   {
    "duration": 508,
    "start_time": "2022-03-03T08:38:50.497Z"
   },
   {
    "duration": 522,
    "start_time": "2022-03-03T08:38:51.006Z"
   },
   {
    "duration": 663,
    "start_time": "2022-03-03T08:38:51.530Z"
   },
   {
    "duration": 7,
    "start_time": "2022-03-03T08:38:52.195Z"
   },
   {
    "duration": 927,
    "start_time": "2022-03-03T08:38:52.204Z"
   },
   {
    "duration": 2,
    "start_time": "2022-03-03T08:38:53.133Z"
   },
   {
    "duration": 41,
    "start_time": "2022-03-03T08:38:53.137Z"
   },
   {
    "duration": 50,
    "start_time": "2022-03-03T08:38:53.180Z"
   },
   {
    "duration": 33,
    "start_time": "2022-03-03T08:38:53.232Z"
   },
   {
    "duration": 2088,
    "start_time": "2022-03-03T08:38:53.266Z"
   },
   {
    "duration": 3,
    "start_time": "2022-03-03T08:38:55.356Z"
   },
   {
    "duration": 45471,
    "start_time": "2022-03-03T08:38:55.360Z"
   },
   {
    "duration": 45718,
    "start_time": "2022-03-03T08:39:40.833Z"
   },
   {
    "duration": 12,
    "start_time": "2022-03-03T08:40:26.553Z"
   },
   {
    "duration": 13,
    "start_time": "2022-03-03T08:40:26.567Z"
   },
   {
    "duration": 4,
    "start_time": "2022-03-03T08:40:26.582Z"
   },
   {
    "duration": 15,
    "start_time": "2022-03-03T08:40:26.588Z"
   },
   {
    "duration": 8,
    "start_time": "2022-03-03T08:40:26.604Z"
   },
   {
    "duration": 4,
    "start_time": "2022-03-03T08:40:26.613Z"
   },
   {
    "duration": 6,
    "start_time": "2022-03-03T08:40:26.618Z"
   },
   {
    "duration": 10,
    "start_time": "2022-03-03T08:40:26.626Z"
   },
   {
    "duration": 3,
    "start_time": "2022-03-03T08:40:26.663Z"
   },
   {
    "duration": 318,
    "start_time": "2022-03-03T08:40:26.668Z"
   },
   {
    "duration": 200,
    "start_time": "2022-03-03T08:47:18.862Z"
   },
   {
    "duration": 67,
    "start_time": "2022-03-03T08:48:04.182Z"
   },
   {
    "duration": 3,
    "start_time": "2022-03-03T08:55:40.455Z"
   },
   {
    "duration": 429,
    "start_time": "2022-03-03T08:55:48.849Z"
   },
   {
    "duration": 416,
    "start_time": "2022-03-03T08:56:25.038Z"
   },
   {
    "duration": 198,
    "start_time": "2022-03-03T08:58:34.971Z"
   },
   {
    "duration": 406,
    "start_time": "2022-03-03T08:58:54.060Z"
   },
   {
    "duration": 232,
    "start_time": "2022-03-03T08:58:59.964Z"
   },
   {
    "duration": 428,
    "start_time": "2022-03-03T09:00:37.902Z"
   },
   {
    "duration": 3,
    "start_time": "2022-03-03T09:12:40.352Z"
   },
   {
    "duration": 470,
    "start_time": "2022-03-03T09:12:41.321Z"
   },
   {
    "duration": 65927,
    "start_time": "2022-03-03T20:45:47.424Z"
   },
   {
    "duration": 1199,
    "start_time": "2022-03-03T20:46:53.354Z"
   },
   {
    "duration": 7,
    "start_time": "2022-03-03T20:46:54.556Z"
   },
   {
    "duration": 241,
    "start_time": "2022-03-03T20:48:42.488Z"
   },
   {
    "duration": 72,
    "start_time": "2022-03-03T20:48:48.619Z"
   },
   {
    "duration": 41,
    "start_time": "2022-03-03T20:48:49.470Z"
   },
   {
    "duration": 5,
    "start_time": "2022-03-03T20:48:49.672Z"
   },
   {
    "duration": 92,
    "start_time": "2022-03-03T20:48:50.180Z"
   },
   {
    "duration": 297,
    "start_time": "2022-03-03T20:48:53.253Z"
   },
   {
    "duration": 18,
    "start_time": "2022-03-03T20:48:53.571Z"
   },
   {
    "duration": 42,
    "start_time": "2022-03-03T20:48:53.730Z"
   },
   {
    "duration": 6,
    "start_time": "2022-03-03T20:48:54.250Z"
   },
   {
    "duration": 27670,
    "start_time": "2022-03-03T20:48:54.425Z"
   },
   {
    "duration": 13,
    "start_time": "2022-03-03T20:49:22.098Z"
   },
   {
    "duration": 6,
    "start_time": "2022-03-03T20:49:22.114Z"
   },
   {
    "duration": 67,
    "start_time": "2022-03-03T20:49:22.123Z"
   },
   {
    "duration": 15,
    "start_time": "2022-03-03T20:49:22.192Z"
   },
   {
    "duration": 13,
    "start_time": "2022-03-03T20:49:22.209Z"
   },
   {
    "duration": 21,
    "start_time": "2022-03-03T20:49:22.225Z"
   },
   {
    "duration": 64,
    "start_time": "2022-03-03T20:49:22.249Z"
   },
   {
    "duration": 342,
    "start_time": "2022-03-03T20:49:22.316Z"
   },
   {
    "duration": 30,
    "start_time": "2022-03-03T20:49:22.660Z"
   },
   {
    "duration": 359,
    "start_time": "2022-03-03T20:52:27.932Z"
   },
   {
    "duration": 4,
    "start_time": "2022-03-03T20:52:43.213Z"
   },
   {
    "duration": 112,
    "start_time": "2022-03-03T20:52:44.013Z"
   },
   {
    "duration": 240,
    "start_time": "2022-03-03T20:53:09.239Z"
   },
   {
    "duration": 3,
    "start_time": "2022-03-03T20:53:24.158Z"
   },
   {
    "duration": 9,
    "start_time": "2022-03-03T20:53:25.297Z"
   },
   {
    "duration": 4,
    "start_time": "2022-03-03T20:53:29.087Z"
   },
   {
    "duration": 6,
    "start_time": "2022-03-03T20:53:32.860Z"
   },
   {
    "duration": 6,
    "start_time": "2022-03-03T20:55:47.676Z"
   },
   {
    "duration": 5,
    "start_time": "2022-03-03T20:57:44.601Z"
   },
   {
    "duration": 5,
    "start_time": "2022-03-03T21:00:19.995Z"
   },
   {
    "duration": 9128,
    "start_time": "2022-03-03T21:01:37.629Z"
   },
   {
    "duration": 5,
    "start_time": "2022-03-03T21:06:10.075Z"
   },
   {
    "duration": 5,
    "start_time": "2022-03-03T21:06:23.546Z"
   },
   {
    "duration": 1300,
    "start_time": "2022-03-04T08:57:49.873Z"
   },
   {
    "duration": 781,
    "start_time": "2022-03-04T08:57:51.175Z"
   },
   {
    "duration": 5,
    "start_time": "2022-03-04T08:57:51.958Z"
   },
   {
    "duration": 141,
    "start_time": "2022-03-04T08:57:51.965Z"
   },
   {
    "duration": 55,
    "start_time": "2022-03-04T08:57:52.107Z"
   },
   {
    "duration": 31,
    "start_time": "2022-03-04T08:57:52.164Z"
   },
   {
    "duration": 5,
    "start_time": "2022-03-04T08:57:52.197Z"
   },
   {
    "duration": 73,
    "start_time": "2022-03-04T08:57:52.205Z"
   },
   {
    "duration": 202,
    "start_time": "2022-03-04T08:57:52.281Z"
   },
   {
    "duration": 17,
    "start_time": "2022-03-04T08:57:52.485Z"
   },
   {
    "duration": 50,
    "start_time": "2022-03-04T08:57:52.503Z"
   },
   {
    "duration": 4,
    "start_time": "2022-03-04T08:57:52.555Z"
   },
   {
    "duration": 14069,
    "start_time": "2022-03-04T08:57:52.562Z"
   },
   {
    "duration": 10,
    "start_time": "2022-03-04T08:58:06.633Z"
   },
   {
    "duration": 6,
    "start_time": "2022-03-04T08:58:06.645Z"
   },
   {
    "duration": 27,
    "start_time": "2022-03-04T08:58:06.653Z"
   },
   {
    "duration": 9,
    "start_time": "2022-03-04T08:58:06.682Z"
   },
   {
    "duration": 8,
    "start_time": "2022-03-04T08:58:06.693Z"
   },
   {
    "duration": 47,
    "start_time": "2022-03-04T08:58:06.702Z"
   },
   {
    "duration": 25,
    "start_time": "2022-03-04T08:58:06.751Z"
   },
   {
    "duration": 218,
    "start_time": "2022-03-04T08:58:06.777Z"
   },
   {
    "duration": 3,
    "start_time": "2022-03-04T08:58:06.997Z"
   },
   {
    "duration": 6981,
    "start_time": "2022-03-04T08:58:07.004Z"
   },
   {
    "duration": 13,
    "start_time": "2022-03-04T08:58:13.987Z"
   },
   {
    "duration": 742,
    "start_time": "2022-03-04T08:58:14.001Z"
   },
   {
    "duration": 615,
    "start_time": "2022-03-04T08:58:14.744Z"
   },
   {
    "duration": 593,
    "start_time": "2022-03-04T08:58:15.360Z"
   },
   {
    "duration": 740,
    "start_time": "2022-03-04T08:58:15.955Z"
   },
   {
    "duration": 7,
    "start_time": "2022-03-04T08:58:16.697Z"
   },
   {
    "duration": 972,
    "start_time": "2022-03-04T08:58:16.706Z"
   },
   {
    "duration": 3,
    "start_time": "2022-03-04T08:58:17.680Z"
   },
   {
    "duration": 8,
    "start_time": "2022-03-04T08:58:17.684Z"
   },
   {
    "duration": 44,
    "start_time": "2022-03-04T08:58:17.694Z"
   },
   {
    "duration": 4,
    "start_time": "2022-03-04T08:58:17.739Z"
   },
   {
    "duration": 8,
    "start_time": "2022-03-04T08:58:17.744Z"
   },
   {
    "duration": 2315,
    "start_time": "2022-03-04T08:58:17.754Z"
   },
   {
    "duration": 3,
    "start_time": "2022-03-04T08:58:20.071Z"
   },
   {
    "duration": 54532,
    "start_time": "2022-03-04T08:58:20.076Z"
   },
   {
    "duration": 50049,
    "start_time": "2022-03-04T08:59:14.610Z"
   },
   {
    "duration": 14,
    "start_time": "2022-03-04T09:00:04.661Z"
   },
   {
    "duration": 25,
    "start_time": "2022-03-04T09:00:04.677Z"
   },
   {
    "duration": 19,
    "start_time": "2022-03-04T09:00:04.704Z"
   },
   {
    "duration": 23,
    "start_time": "2022-03-04T09:00:04.725Z"
   },
   {
    "duration": 15,
    "start_time": "2022-03-04T09:00:04.749Z"
   },
   {
    "duration": 3,
    "start_time": "2022-03-04T09:00:04.766Z"
   },
   {
    "duration": 6,
    "start_time": "2022-03-04T09:00:04.770Z"
   },
   {
    "duration": 12,
    "start_time": "2022-03-04T09:00:04.777Z"
   },
   {
    "duration": 283,
    "start_time": "2022-03-04T09:00:04.790Z"
   },
   {
    "duration": 414,
    "start_time": "2022-03-04T09:00:04.661Z"
   },
   {
    "duration": 409,
    "start_time": "2022-03-04T09:00:04.667Z"
   },
   {
    "duration": 402,
    "start_time": "2022-03-04T09:00:04.675Z"
   },
   {
    "duration": 395,
    "start_time": "2022-03-04T09:00:04.683Z"
   },
   {
    "duration": 3,
    "start_time": "2022-03-04T09:03:08.066Z"
   },
   {
    "duration": 172,
    "start_time": "2022-03-04T09:03:09.608Z"
   },
   {
    "duration": 4,
    "start_time": "2022-03-04T09:03:21.890Z"
   },
   {
    "duration": 412,
    "start_time": "2022-03-04T09:03:24.271Z"
   },
   {
    "duration": 181,
    "start_time": "2022-03-04T09:04:08.859Z"
   },
   {
    "duration": 5,
    "start_time": "2022-03-04T09:04:33.460Z"
   },
   {
    "duration": 12,
    "start_time": "2022-03-04T09:09:27.562Z"
   },
   {
    "duration": 4,
    "start_time": "2022-03-04T09:16:03.642Z"
   },
   {
    "duration": 5,
    "start_time": "2022-03-04T09:16:19.988Z"
   },
   {
    "duration": 3,
    "start_time": "2022-03-04T09:31:51.568Z"
   },
   {
    "duration": 5,
    "start_time": "2022-03-04T09:31:53.484Z"
   },
   {
    "duration": 4,
    "start_time": "2022-03-04T09:31:55.223Z"
   },
   {
    "duration": 4,
    "start_time": "2022-03-04T09:31:55.821Z"
   },
   {
    "duration": 197,
    "start_time": "2022-03-04T09:32:00.444Z"
   },
   {
    "duration": 1252,
    "start_time": "2022-03-04T09:34:40.470Z"
   },
   {
    "duration": 774,
    "start_time": "2022-03-04T09:34:41.724Z"
   },
   {
    "duration": 4,
    "start_time": "2022-03-04T09:34:42.500Z"
   },
   {
    "duration": 151,
    "start_time": "2022-03-04T09:34:42.506Z"
   },
   {
    "duration": 38,
    "start_time": "2022-03-04T09:34:42.659Z"
   },
   {
    "duration": 52,
    "start_time": "2022-03-04T09:34:42.698Z"
   },
   {
    "duration": 3,
    "start_time": "2022-03-04T09:34:42.752Z"
   },
   {
    "duration": 52,
    "start_time": "2022-03-04T09:34:42.758Z"
   },
   {
    "duration": 206,
    "start_time": "2022-03-04T09:34:42.812Z"
   },
   {
    "duration": 25,
    "start_time": "2022-03-04T09:34:43.020Z"
   },
   {
    "duration": 29,
    "start_time": "2022-03-04T09:34:43.047Z"
   },
   {
    "duration": 4,
    "start_time": "2022-03-04T09:34:43.079Z"
   },
   {
    "duration": 13981,
    "start_time": "2022-03-04T09:34:43.085Z"
   },
   {
    "duration": 9,
    "start_time": "2022-03-04T09:34:57.068Z"
   },
   {
    "duration": 4,
    "start_time": "2022-03-04T09:34:57.078Z"
   },
   {
    "duration": 28,
    "start_time": "2022-03-04T09:34:57.084Z"
   },
   {
    "duration": 26,
    "start_time": "2022-03-04T09:34:57.114Z"
   },
   {
    "duration": 13,
    "start_time": "2022-03-04T09:34:57.142Z"
   },
   {
    "duration": 17,
    "start_time": "2022-03-04T09:34:57.157Z"
   },
   {
    "duration": 26,
    "start_time": "2022-03-04T09:34:57.176Z"
   },
   {
    "duration": 217,
    "start_time": "2022-03-04T09:34:57.203Z"
   },
   {
    "duration": 16,
    "start_time": "2022-03-04T09:34:57.422Z"
   },
   {
    "duration": 6935,
    "start_time": "2022-03-04T09:34:57.442Z"
   },
   {
    "duration": 13,
    "start_time": "2022-03-04T09:35:04.379Z"
   },
   {
    "duration": 752,
    "start_time": "2022-03-04T09:35:04.394Z"
   },
   {
    "duration": 589,
    "start_time": "2022-03-04T09:35:05.148Z"
   },
   {
    "duration": 616,
    "start_time": "2022-03-04T09:35:05.739Z"
   },
   {
    "duration": 787,
    "start_time": "2022-03-04T09:35:06.356Z"
   },
   {
    "duration": 8,
    "start_time": "2022-03-04T09:35:07.144Z"
   },
   {
    "duration": 1016,
    "start_time": "2022-03-04T09:35:07.153Z"
   },
   {
    "duration": 3,
    "start_time": "2022-03-04T09:35:08.170Z"
   },
   {
    "duration": 30,
    "start_time": "2022-03-04T09:35:08.175Z"
   },
   {
    "duration": 56,
    "start_time": "2022-03-04T09:35:08.207Z"
   },
   {
    "duration": 15,
    "start_time": "2022-03-04T09:35:08.265Z"
   },
   {
    "duration": 26,
    "start_time": "2022-03-04T09:35:08.281Z"
   },
   {
    "duration": 1995,
    "start_time": "2022-03-04T09:35:08.309Z"
   },
   {
    "duration": 3,
    "start_time": "2022-03-04T09:35:10.306Z"
   },
   {
    "duration": 50481,
    "start_time": "2022-03-04T09:35:10.311Z"
   },
   {
    "duration": 50739,
    "start_time": "2022-03-04T09:36:00.793Z"
   },
   {
    "duration": 15,
    "start_time": "2022-03-04T09:36:51.534Z"
   },
   {
    "duration": 12,
    "start_time": "2022-03-04T09:36:51.551Z"
   },
   {
    "duration": 11,
    "start_time": "2022-03-04T09:36:51.565Z"
   },
   {
    "duration": 15,
    "start_time": "2022-03-04T09:36:51.578Z"
   },
   {
    "duration": 49,
    "start_time": "2022-03-04T09:36:51.595Z"
   },
   {
    "duration": 4,
    "start_time": "2022-03-04T09:36:51.646Z"
   },
   {
    "duration": 9,
    "start_time": "2022-03-04T09:36:51.651Z"
   },
   {
    "duration": 13,
    "start_time": "2022-03-04T09:36:51.661Z"
   },
   {
    "duration": 5,
    "start_time": "2022-03-04T09:36:51.676Z"
   },
   {
    "duration": 5,
    "start_time": "2022-03-04T09:36:51.683Z"
   },
   {
    "duration": 7,
    "start_time": "2022-03-04T09:36:51.690Z"
   },
   {
    "duration": 6,
    "start_time": "2022-03-04T09:36:51.699Z"
   },
   {
    "duration": 390,
    "start_time": "2022-03-04T09:36:51.707Z"
   },
   {
    "duration": 560,
    "start_time": "2022-03-04T09:38:11.010Z"
   },
   {
    "duration": 56,
    "start_time": "2022-03-04T09:38:24.818Z"
   },
   {
    "duration": 46,
    "start_time": "2022-03-04T09:38:29.645Z"
   },
   {
    "duration": 60,
    "start_time": "2022-03-04T09:38:45.339Z"
   },
   {
    "duration": 170,
    "start_time": "2022-03-04T09:38:52.090Z"
   },
   {
    "duration": 185,
    "start_time": "2022-03-04T09:39:07.675Z"
   },
   {
    "duration": 237,
    "start_time": "2022-03-04T09:40:30.468Z"
   },
   {
    "duration": 3,
    "start_time": "2022-03-04T09:42:25.831Z"
   },
   {
    "duration": 4,
    "start_time": "2022-03-04T09:42:27.374Z"
   },
   {
    "duration": 4,
    "start_time": "2022-03-04T09:42:28.239Z"
   },
   {
    "duration": 5,
    "start_time": "2022-03-04T09:42:28.935Z"
   },
   {
    "duration": 2041,
    "start_time": "2022-03-04T09:42:31.586Z"
   },
   {
    "duration": 3,
    "start_time": "2022-03-04T09:43:01.776Z"
   },
   {
    "duration": 3,
    "start_time": "2022-03-04T09:43:46.353Z"
   },
   {
    "duration": 5,
    "start_time": "2022-03-04T09:43:48.086Z"
   },
   {
    "duration": 5,
    "start_time": "2022-03-04T09:43:48.942Z"
   },
   {
    "duration": 5,
    "start_time": "2022-03-04T09:43:49.670Z"
   },
   {
    "duration": 174,
    "start_time": "2022-03-04T09:43:52.633Z"
   },
   {
    "duration": 4,
    "start_time": "2022-03-04T09:47:38.635Z"
   },
   {
    "duration": 4,
    "start_time": "2022-03-04T09:47:43.427Z"
   },
   {
    "duration": 5,
    "start_time": "2022-03-04T09:47:44.409Z"
   },
   {
    "duration": 4,
    "start_time": "2022-03-04T09:47:45.527Z"
   },
   {
    "duration": 262,
    "start_time": "2022-03-04T10:02:36.500Z"
   },
   {
    "duration": 1175,
    "start_time": "2022-03-04T16:42:29.507Z"
   },
   {
    "duration": 10102,
    "start_time": "2022-03-04T16:42:30.684Z"
   },
   {
    "duration": 4,
    "start_time": "2022-03-04T16:42:40.788Z"
   },
   {
    "duration": 127,
    "start_time": "2022-03-04T16:42:40.794Z"
   },
   {
    "duration": 41,
    "start_time": "2022-03-04T16:42:40.922Z"
   },
   {
    "duration": 38,
    "start_time": "2022-03-04T16:42:40.964Z"
   },
   {
    "duration": 3,
    "start_time": "2022-03-04T16:42:41.004Z"
   },
   {
    "duration": 51,
    "start_time": "2022-03-04T16:42:41.009Z"
   },
   {
    "duration": 182,
    "start_time": "2022-03-04T16:42:41.061Z"
   },
   {
    "duration": 13,
    "start_time": "2022-03-04T16:42:41.244Z"
   },
   {
    "duration": 25,
    "start_time": "2022-03-04T16:42:41.258Z"
   },
   {
    "duration": 16,
    "start_time": "2022-03-04T16:42:41.285Z"
   },
   {
    "duration": 13426,
    "start_time": "2022-03-04T16:42:41.302Z"
   },
   {
    "duration": 8,
    "start_time": "2022-03-04T16:42:54.730Z"
   },
   {
    "duration": 4,
    "start_time": "2022-03-04T16:42:54.739Z"
   },
   {
    "duration": 25,
    "start_time": "2022-03-04T16:42:54.744Z"
   },
   {
    "duration": 4,
    "start_time": "2022-03-04T16:44:59.172Z"
   },
   {
    "duration": 8,
    "start_time": "2022-03-04T16:44:59.178Z"
   },
   {
    "duration": 14,
    "start_time": "2022-03-04T16:44:59.188Z"
   },
   {
    "duration": 21,
    "start_time": "2022-03-04T16:44:59.204Z"
   },
   {
    "duration": 157,
    "start_time": "2022-03-04T16:44:59.698Z"
   },
   {
    "duration": 7,
    "start_time": "2022-03-04T16:45:00.318Z"
   },
   {
    "duration": 6321,
    "start_time": "2022-03-04T16:45:00.967Z"
   },
   {
    "duration": 11,
    "start_time": "2022-03-04T16:45:07.290Z"
   },
   {
    "duration": 689,
    "start_time": "2022-03-04T16:45:07.303Z"
   },
   {
    "duration": 490,
    "start_time": "2022-03-04T16:45:07.994Z"
   },
   {
    "duration": 522,
    "start_time": "2022-03-04T16:45:08.485Z"
   },
   {
    "duration": 629,
    "start_time": "2022-03-04T16:45:09.008Z"
   },
   {
    "duration": 7,
    "start_time": "2022-03-04T16:45:09.639Z"
   },
   {
    "duration": 847,
    "start_time": "2022-03-04T16:45:09.648Z"
   },
   {
    "duration": 3,
    "start_time": "2022-03-04T16:45:13.544Z"
   },
   {
    "duration": 4,
    "start_time": "2022-03-04T16:45:13.551Z"
   },
   {
    "duration": 65,
    "start_time": "2022-03-04T16:45:13.557Z"
   },
   {
    "duration": 4,
    "start_time": "2022-03-04T16:45:13.623Z"
   },
   {
    "duration": 75,
    "start_time": "2022-03-04T16:45:13.628Z"
   },
   {
    "duration": 3,
    "start_time": "2022-03-04T16:45:54.438Z"
   },
   {
    "duration": 6,
    "start_time": "2022-03-04T16:45:55.286Z"
   },
   {
    "duration": 2,
    "start_time": "2022-03-04T16:48:29.759Z"
   },
   {
    "duration": 4,
    "start_time": "2022-03-04T16:48:31.487Z"
   },
   {
    "duration": 3,
    "start_time": "2022-03-04T16:48:52.750Z"
   },
   {
    "duration": 3,
    "start_time": "2022-03-04T16:48:53.466Z"
   },
   {
    "duration": 3,
    "start_time": "2022-03-04T16:51:53.838Z"
   },
   {
    "duration": 4,
    "start_time": "2022-03-04T16:51:55.270Z"
   },
   {
    "duration": 4,
    "start_time": "2022-03-04T16:51:58.890Z"
   },
   {
    "duration": 3,
    "start_time": "2022-03-04T16:51:59.375Z"
   },
   {
    "duration": 439,
    "start_time": "2022-03-04T16:52:00.590Z"
   },
   {
    "duration": 3,
    "start_time": "2022-03-04T16:52:13.359Z"
   },
   {
    "duration": 281,
    "start_time": "2022-03-04T16:52:32.282Z"
   },
   {
    "duration": 332,
    "start_time": "2022-03-04T16:57:05.983Z"
   },
   {
    "duration": 3,
    "start_time": "2022-03-04T16:57:09.919Z"
   },
   {
    "duration": 5,
    "start_time": "2022-03-04T16:57:10.835Z"
   },
   {
    "duration": 5,
    "start_time": "2022-03-04T16:57:43.499Z"
   },
   {
    "duration": 315,
    "start_time": "2022-03-04T17:14:39.053Z"
   },
   {
    "duration": 1637,
    "start_time": "2022-03-04T17:14:48.650Z"
   },
   {
    "duration": 980,
    "start_time": "2022-03-04T17:14:50.293Z"
   },
   {
    "duration": 5,
    "start_time": "2022-03-04T17:14:51.276Z"
   },
   {
    "duration": 254,
    "start_time": "2022-03-04T17:14:51.288Z"
   },
   {
    "duration": 75,
    "start_time": "2022-03-04T17:14:51.545Z"
   },
   {
    "duration": 40,
    "start_time": "2022-03-04T17:14:51.622Z"
   },
   {
    "duration": 24,
    "start_time": "2022-03-04T17:14:51.664Z"
   },
   {
    "duration": 72,
    "start_time": "2022-03-04T17:14:51.693Z"
   },
   {
    "duration": 327,
    "start_time": "2022-03-04T17:14:51.770Z"
   },
   {
    "duration": 17,
    "start_time": "2022-03-04T17:14:52.101Z"
   },
   {
    "duration": 38,
    "start_time": "2022-03-04T17:14:52.120Z"
   },
   {
    "duration": 5,
    "start_time": "2022-03-04T17:14:52.187Z"
   },
   {
    "duration": 26296,
    "start_time": "2022-03-04T17:14:52.195Z"
   },
   {
    "duration": 14,
    "start_time": "2022-03-04T17:15:18.495Z"
   },
   {
    "duration": 8,
    "start_time": "2022-03-04T17:15:18.513Z"
   },
   {
    "duration": 74,
    "start_time": "2022-03-04T17:15:18.523Z"
   },
   {
    "duration": 11,
    "start_time": "2022-03-04T17:15:18.600Z"
   },
   {
    "duration": 12,
    "start_time": "2022-03-04T17:15:18.613Z"
   },
   {
    "duration": 27,
    "start_time": "2022-03-04T17:15:18.628Z"
   },
   {
    "duration": 64,
    "start_time": "2022-03-04T17:15:18.658Z"
   },
   {
    "duration": 337,
    "start_time": "2022-03-04T17:15:18.724Z"
   },
   {
    "duration": 26,
    "start_time": "2022-03-04T17:15:19.063Z"
   },
   {
    "duration": 11140,
    "start_time": "2022-03-04T17:15:19.097Z"
   },
   {
    "duration": 17,
    "start_time": "2022-03-04T17:15:30.240Z"
   },
   {
    "duration": 1253,
    "start_time": "2022-03-04T17:15:30.260Z"
   },
   {
    "duration": 972,
    "start_time": "2022-03-04T17:15:31.516Z"
   },
   {
    "duration": 966,
    "start_time": "2022-03-04T17:15:32.492Z"
   },
   {
    "duration": 1255,
    "start_time": "2022-03-04T17:15:33.461Z"
   },
   {
    "duration": 11,
    "start_time": "2022-03-04T17:15:34.719Z"
   },
   {
    "duration": 1696,
    "start_time": "2022-03-04T17:15:34.732Z"
   },
   {
    "duration": 3,
    "start_time": "2022-03-04T17:15:36.430Z"
   },
   {
    "duration": 8,
    "start_time": "2022-03-04T17:15:36.436Z"
   },
   {
    "duration": 67,
    "start_time": "2022-03-04T17:15:36.446Z"
   },
   {
    "duration": 5,
    "start_time": "2022-03-04T17:15:36.516Z"
   },
   {
    "duration": 8,
    "start_time": "2022-03-04T17:15:36.523Z"
   },
   {
    "duration": 3554,
    "start_time": "2022-03-04T17:15:36.533Z"
   },
   {
    "duration": 10,
    "start_time": "2022-03-04T17:15:40.091Z"
   },
   {
    "duration": 75400,
    "start_time": "2022-03-04T17:15:40.103Z"
   },
   {
    "duration": 77807,
    "start_time": "2022-03-04T17:16:55.506Z"
   },
   {
    "duration": 20,
    "start_time": "2022-03-04T17:18:13.315Z"
   },
   {
    "duration": 55,
    "start_time": "2022-03-04T17:18:13.338Z"
   },
   {
    "duration": 10,
    "start_time": "2022-03-04T17:18:13.396Z"
   },
   {
    "duration": 14,
    "start_time": "2022-03-04T17:18:13.409Z"
   },
   {
    "duration": 12,
    "start_time": "2022-03-04T17:18:13.425Z"
   },
   {
    "duration": 4,
    "start_time": "2022-03-04T17:18:13.439Z"
   },
   {
    "duration": 5,
    "start_time": "2022-03-04T17:18:13.489Z"
   },
   {
    "duration": 17,
    "start_time": "2022-03-04T17:18:13.497Z"
   },
   {
    "duration": 3,
    "start_time": "2022-03-04T17:18:13.517Z"
   },
   {
    "duration": 5,
    "start_time": "2022-03-04T17:18:13.523Z"
   },
   {
    "duration": 8,
    "start_time": "2022-03-04T17:18:13.531Z"
   },
   {
    "duration": 51,
    "start_time": "2022-03-04T17:18:13.541Z"
   },
   {
    "duration": 11,
    "start_time": "2022-03-04T17:18:13.595Z"
   },
   {
    "duration": 9,
    "start_time": "2022-03-04T17:18:13.609Z"
   },
   {
    "duration": 6,
    "start_time": "2022-03-04T17:18:13.621Z"
   },
   {
    "duration": 6,
    "start_time": "2022-03-04T17:18:13.629Z"
   },
   {
    "duration": 383,
    "start_time": "2022-03-04T17:18:13.638Z"
   }
  ],
  "kernelspec": {
   "display_name": "Python 3 (ipykernel)",
   "language": "python",
   "name": "python3"
  },
  "language_info": {
   "codemirror_mode": {
    "name": "ipython",
    "version": 3
   },
   "file_extension": ".py",
   "mimetype": "text/x-python",
   "name": "python",
   "nbconvert_exporter": "python",
   "pygments_lexer": "ipython3",
   "version": "3.9.5"
  },
  "toc": {
   "base_numbering": 1,
   "nav_menu": {},
   "number_sections": true,
   "sideBar": true,
   "skip_h1_title": true,
   "title_cell": "Содержание",
   "title_sidebar": "Contents",
   "toc_cell": true,
   "toc_position": {},
   "toc_section_display": true,
   "toc_window_display": true
  }
 },
 "nbformat": 4,
 "nbformat_minor": 2
}
