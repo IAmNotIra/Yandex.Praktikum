{
 "cells": [
  {
   "cell_type": "markdown",
   "metadata": {},
   "source": [
    "# Определение стоимости автомобилей  \n",
    "\n",
    "***Описание проекта***\n",
    "Сервис по продаже автомобилей с пробегом «Не бит, не крашен» разрабатывает приложение для привлечения новых клиентов. В нём можно быстро узнать рыночную стоимость своего автомобиля. В вашем распоряжении исторические данные: технические характеристики, комплектации и цены автомобилей. Вам нужно построить модель для определения стоимости.  \n",
    "\n",
    "***Заказчику важны:***\n",
    "* качество предсказания;\n",
    "* скорость предсказания;\n",
    "* время обучения.  \n",
    "\n",
    "***Инструкция по выполнению проекта***\n",
    "\n",
    "Для оценки качества моделей применяйте метрику RMSE.  \n",
    "Значение метрики RMSE должно быть меньше 2500.\n",
    "\n",
    "***Описание данных***\n",
    "\n",
    "Признаки:\n",
    "* DateCrawled — дата скачивания анкеты из базы\n",
    "* VehicleType — тип автомобильного кузова\n",
    "* RegistrationYear — год регистрации автомобиля\n",
    "* Gearbox — тип коробки передач\n",
    "* Power — мощность (л. с.)\n",
    "* Model — модель автомобиля\n",
    "* Kilometer — пробег (км)\n",
    "* RegistrationMonth — месяц регистрации автомобиля\n",
    "* FuelType — тип топлива\n",
    "* Brand — марка автомобиля\n",
    "* NotRepaired — была машина в ремонте или нет\n",
    "* DateCreated — дата создания анкеты\n",
    "* NumberOfPictures — количество фотографий автомобиля\n",
    "* PostalCode — почтовый индекс владельца анкеты (пользователя)\n",
    "* LastSeen — дата последней активности пользователя  \n",
    "\n",
    "Целевой признак:\n",
    "* Price — цена (евро)"
   ]
  },
  {
   "cell_type": "markdown",
   "metadata": {},
   "source": [
    "## Подготовка данных"
   ]
  },
  {
   "cell_type": "code",
   "execution_count": 1,
   "metadata": {},
   "outputs": [],
   "source": [
    "import math\n",
    "import numpy as np\n",
    "import pandas as pd\n",
    "import seaborn as sns\n",
    "import matplotlib.pyplot as plt\n",
    "\n",
    "from sklearn.ensemble import RandomForestRegressor \n",
    "from sklearn.linear_model import LinearRegression \n",
    "import lightgbm as lgb\n",
    "from catboost import CatBoostRegressor, CatBoostClassifier, Pool\n",
    "\n",
    "from sklearn.model_selection import train_test_split, cross_val_score, GridSearchCV\n",
    "from sklearn.preprocessing import StandardScaler\n",
    "from sklearn.metrics import mean_squared_error, make_scorer\n",
    "from sklearn.preprocessing import OneHotEncoder\n",
    "\n",
    "import warnings\n",
    "warnings.filterwarnings(\"ignore\")"
   ]
  },
  {
   "cell_type": "code",
   "execution_count": 2,
   "metadata": {},
   "outputs": [
    {
     "data": {
      "text/plain": [
       "'Размер датасета:'"
      ]
     },
     "metadata": {},
     "output_type": "display_data"
    },
    {
     "data": {
      "text/plain": [
       "(354369, 16)"
      ]
     },
     "metadata": {},
     "output_type": "display_data"
    },
    {
     "data": {
      "text/html": [
       "<div>\n",
       "<style scoped>\n",
       "    .dataframe tbody tr th:only-of-type {\n",
       "        vertical-align: middle;\n",
       "    }\n",
       "\n",
       "    .dataframe tbody tr th {\n",
       "        vertical-align: top;\n",
       "    }\n",
       "\n",
       "    .dataframe thead th {\n",
       "        text-align: right;\n",
       "    }\n",
       "</style>\n",
       "<table border=\"1\" class=\"dataframe\">\n",
       "  <thead>\n",
       "    <tr style=\"text-align: right;\">\n",
       "      <th></th>\n",
       "      <th>DateCrawled</th>\n",
       "      <th>Price</th>\n",
       "      <th>VehicleType</th>\n",
       "      <th>RegistrationYear</th>\n",
       "      <th>Gearbox</th>\n",
       "      <th>Power</th>\n",
       "      <th>Model</th>\n",
       "      <th>Kilometer</th>\n",
       "      <th>RegistrationMonth</th>\n",
       "      <th>FuelType</th>\n",
       "      <th>Brand</th>\n",
       "      <th>NotRepaired</th>\n",
       "      <th>DateCreated</th>\n",
       "      <th>NumberOfPictures</th>\n",
       "      <th>PostalCode</th>\n",
       "      <th>LastSeen</th>\n",
       "    </tr>\n",
       "  </thead>\n",
       "  <tbody>\n",
       "    <tr>\n",
       "      <th>0</th>\n",
       "      <td>2016-03-24 11:52:17</td>\n",
       "      <td>480</td>\n",
       "      <td>NaN</td>\n",
       "      <td>1993</td>\n",
       "      <td>manual</td>\n",
       "      <td>0</td>\n",
       "      <td>golf</td>\n",
       "      <td>150000</td>\n",
       "      <td>0</td>\n",
       "      <td>petrol</td>\n",
       "      <td>volkswagen</td>\n",
       "      <td>NaN</td>\n",
       "      <td>2016-03-24 00:00:00</td>\n",
       "      <td>0</td>\n",
       "      <td>70435</td>\n",
       "      <td>2016-04-07 03:16:57</td>\n",
       "    </tr>\n",
       "    <tr>\n",
       "      <th>1</th>\n",
       "      <td>2016-03-24 10:58:45</td>\n",
       "      <td>18300</td>\n",
       "      <td>coupe</td>\n",
       "      <td>2011</td>\n",
       "      <td>manual</td>\n",
       "      <td>190</td>\n",
       "      <td>NaN</td>\n",
       "      <td>125000</td>\n",
       "      <td>5</td>\n",
       "      <td>gasoline</td>\n",
       "      <td>audi</td>\n",
       "      <td>yes</td>\n",
       "      <td>2016-03-24 00:00:00</td>\n",
       "      <td>0</td>\n",
       "      <td>66954</td>\n",
       "      <td>2016-04-07 01:46:50</td>\n",
       "    </tr>\n",
       "    <tr>\n",
       "      <th>2</th>\n",
       "      <td>2016-03-14 12:52:21</td>\n",
       "      <td>9800</td>\n",
       "      <td>suv</td>\n",
       "      <td>2004</td>\n",
       "      <td>auto</td>\n",
       "      <td>163</td>\n",
       "      <td>grand</td>\n",
       "      <td>125000</td>\n",
       "      <td>8</td>\n",
       "      <td>gasoline</td>\n",
       "      <td>jeep</td>\n",
       "      <td>NaN</td>\n",
       "      <td>2016-03-14 00:00:00</td>\n",
       "      <td>0</td>\n",
       "      <td>90480</td>\n",
       "      <td>2016-04-05 12:47:46</td>\n",
       "    </tr>\n",
       "    <tr>\n",
       "      <th>3</th>\n",
       "      <td>2016-03-17 16:54:04</td>\n",
       "      <td>1500</td>\n",
       "      <td>small</td>\n",
       "      <td>2001</td>\n",
       "      <td>manual</td>\n",
       "      <td>75</td>\n",
       "      <td>golf</td>\n",
       "      <td>150000</td>\n",
       "      <td>6</td>\n",
       "      <td>petrol</td>\n",
       "      <td>volkswagen</td>\n",
       "      <td>no</td>\n",
       "      <td>2016-03-17 00:00:00</td>\n",
       "      <td>0</td>\n",
       "      <td>91074</td>\n",
       "      <td>2016-03-17 17:40:17</td>\n",
       "    </tr>\n",
       "    <tr>\n",
       "      <th>4</th>\n",
       "      <td>2016-03-31 17:25:20</td>\n",
       "      <td>3600</td>\n",
       "      <td>small</td>\n",
       "      <td>2008</td>\n",
       "      <td>manual</td>\n",
       "      <td>69</td>\n",
       "      <td>fabia</td>\n",
       "      <td>90000</td>\n",
       "      <td>7</td>\n",
       "      <td>gasoline</td>\n",
       "      <td>skoda</td>\n",
       "      <td>no</td>\n",
       "      <td>2016-03-31 00:00:00</td>\n",
       "      <td>0</td>\n",
       "      <td>60437</td>\n",
       "      <td>2016-04-06 10:17:21</td>\n",
       "    </tr>\n",
       "  </tbody>\n",
       "</table>\n",
       "</div>"
      ],
      "text/plain": [
       "           DateCrawled  Price VehicleType  RegistrationYear Gearbox  Power  \\\n",
       "0  2016-03-24 11:52:17    480         NaN              1993  manual      0   \n",
       "1  2016-03-24 10:58:45  18300       coupe              2011  manual    190   \n",
       "2  2016-03-14 12:52:21   9800         suv              2004    auto    163   \n",
       "3  2016-03-17 16:54:04   1500       small              2001  manual     75   \n",
       "4  2016-03-31 17:25:20   3600       small              2008  manual     69   \n",
       "\n",
       "   Model  Kilometer  RegistrationMonth  FuelType       Brand NotRepaired  \\\n",
       "0   golf     150000                  0    petrol  volkswagen         NaN   \n",
       "1    NaN     125000                  5  gasoline        audi         yes   \n",
       "2  grand     125000                  8  gasoline        jeep         NaN   \n",
       "3   golf     150000                  6    petrol  volkswagen          no   \n",
       "4  fabia      90000                  7  gasoline       skoda          no   \n",
       "\n",
       "           DateCreated  NumberOfPictures  PostalCode             LastSeen  \n",
       "0  2016-03-24 00:00:00                 0       70435  2016-04-07 03:16:57  \n",
       "1  2016-03-24 00:00:00                 0       66954  2016-04-07 01:46:50  \n",
       "2  2016-03-14 00:00:00                 0       90480  2016-04-05 12:47:46  \n",
       "3  2016-03-17 00:00:00                 0       91074  2016-03-17 17:40:17  \n",
       "4  2016-03-31 00:00:00                 0       60437  2016-04-06 10:17:21  "
      ]
     },
     "metadata": {},
     "output_type": "display_data"
    }
   ],
   "source": [
    "df = pd.read_csv('/datasets/autos.csv')\n",
    "display('Размер датасета:', df.shape)\n",
    "display(df.head())"
   ]
  },
  {
   "cell_type": "code",
   "execution_count": 3,
   "metadata": {
    "scrolled": true
   },
   "outputs": [
    {
     "name": "stdout",
     "output_type": "stream",
     "text": [
      "<class 'pandas.core.frame.DataFrame'>\n",
      "RangeIndex: 354369 entries, 0 to 354368\n",
      "Data columns (total 16 columns):\n",
      " #   Column             Non-Null Count   Dtype \n",
      "---  ------             --------------   ----- \n",
      " 0   DateCrawled        354369 non-null  object\n",
      " 1   Price              354369 non-null  int64 \n",
      " 2   VehicleType        316879 non-null  object\n",
      " 3   RegistrationYear   354369 non-null  int64 \n",
      " 4   Gearbox            334536 non-null  object\n",
      " 5   Power              354369 non-null  int64 \n",
      " 6   Model              334664 non-null  object\n",
      " 7   Kilometer          354369 non-null  int64 \n",
      " 8   RegistrationMonth  354369 non-null  int64 \n",
      " 9   FuelType           321474 non-null  object\n",
      " 10  Brand              354369 non-null  object\n",
      " 11  NotRepaired        283215 non-null  object\n",
      " 12  DateCreated        354369 non-null  object\n",
      " 13  NumberOfPictures   354369 non-null  int64 \n",
      " 14  PostalCode         354369 non-null  int64 \n",
      " 15  LastSeen           354369 non-null  object\n",
      "dtypes: int64(7), object(9)\n",
      "memory usage: 43.3+ MB\n"
     ]
    }
   ],
   "source": [
    "df.info()"
   ]
  },
  {
   "cell_type": "code",
   "execution_count": 4,
   "metadata": {},
   "outputs": [
    {
     "data": {
      "text/html": [
       "<div>\n",
       "<style scoped>\n",
       "    .dataframe tbody tr th:only-of-type {\n",
       "        vertical-align: middle;\n",
       "    }\n",
       "\n",
       "    .dataframe tbody tr th {\n",
       "        vertical-align: top;\n",
       "    }\n",
       "\n",
       "    .dataframe thead th {\n",
       "        text-align: right;\n",
       "    }\n",
       "</style>\n",
       "<table border=\"1\" class=\"dataframe\">\n",
       "  <thead>\n",
       "    <tr style=\"text-align: right;\">\n",
       "      <th></th>\n",
       "      <th>Price</th>\n",
       "      <th>RegistrationYear</th>\n",
       "      <th>Power</th>\n",
       "      <th>Kilometer</th>\n",
       "      <th>RegistrationMonth</th>\n",
       "      <th>NumberOfPictures</th>\n",
       "      <th>PostalCode</th>\n",
       "    </tr>\n",
       "  </thead>\n",
       "  <tbody>\n",
       "    <tr>\n",
       "      <th>count</th>\n",
       "      <td>354369.000000</td>\n",
       "      <td>354369.000000</td>\n",
       "      <td>354369.000000</td>\n",
       "      <td>354369.000000</td>\n",
       "      <td>354369.000000</td>\n",
       "      <td>354369.0</td>\n",
       "      <td>354369.000000</td>\n",
       "    </tr>\n",
       "    <tr>\n",
       "      <th>mean</th>\n",
       "      <td>4416.656776</td>\n",
       "      <td>2004.234448</td>\n",
       "      <td>110.094337</td>\n",
       "      <td>128211.172535</td>\n",
       "      <td>5.714645</td>\n",
       "      <td>0.0</td>\n",
       "      <td>50508.689087</td>\n",
       "    </tr>\n",
       "    <tr>\n",
       "      <th>std</th>\n",
       "      <td>4514.158514</td>\n",
       "      <td>90.227958</td>\n",
       "      <td>189.850405</td>\n",
       "      <td>37905.341530</td>\n",
       "      <td>3.726421</td>\n",
       "      <td>0.0</td>\n",
       "      <td>25783.096248</td>\n",
       "    </tr>\n",
       "    <tr>\n",
       "      <th>min</th>\n",
       "      <td>0.000000</td>\n",
       "      <td>1000.000000</td>\n",
       "      <td>0.000000</td>\n",
       "      <td>5000.000000</td>\n",
       "      <td>0.000000</td>\n",
       "      <td>0.0</td>\n",
       "      <td>1067.000000</td>\n",
       "    </tr>\n",
       "    <tr>\n",
       "      <th>25%</th>\n",
       "      <td>1050.000000</td>\n",
       "      <td>1999.000000</td>\n",
       "      <td>69.000000</td>\n",
       "      <td>125000.000000</td>\n",
       "      <td>3.000000</td>\n",
       "      <td>0.0</td>\n",
       "      <td>30165.000000</td>\n",
       "    </tr>\n",
       "    <tr>\n",
       "      <th>50%</th>\n",
       "      <td>2700.000000</td>\n",
       "      <td>2003.000000</td>\n",
       "      <td>105.000000</td>\n",
       "      <td>150000.000000</td>\n",
       "      <td>6.000000</td>\n",
       "      <td>0.0</td>\n",
       "      <td>49413.000000</td>\n",
       "    </tr>\n",
       "    <tr>\n",
       "      <th>75%</th>\n",
       "      <td>6400.000000</td>\n",
       "      <td>2008.000000</td>\n",
       "      <td>143.000000</td>\n",
       "      <td>150000.000000</td>\n",
       "      <td>9.000000</td>\n",
       "      <td>0.0</td>\n",
       "      <td>71083.000000</td>\n",
       "    </tr>\n",
       "    <tr>\n",
       "      <th>max</th>\n",
       "      <td>20000.000000</td>\n",
       "      <td>9999.000000</td>\n",
       "      <td>20000.000000</td>\n",
       "      <td>150000.000000</td>\n",
       "      <td>12.000000</td>\n",
       "      <td>0.0</td>\n",
       "      <td>99998.000000</td>\n",
       "    </tr>\n",
       "  </tbody>\n",
       "</table>\n",
       "</div>"
      ],
      "text/plain": [
       "               Price  RegistrationYear          Power      Kilometer  \\\n",
       "count  354369.000000     354369.000000  354369.000000  354369.000000   \n",
       "mean     4416.656776       2004.234448     110.094337  128211.172535   \n",
       "std      4514.158514         90.227958     189.850405   37905.341530   \n",
       "min         0.000000       1000.000000       0.000000    5000.000000   \n",
       "25%      1050.000000       1999.000000      69.000000  125000.000000   \n",
       "50%      2700.000000       2003.000000     105.000000  150000.000000   \n",
       "75%      6400.000000       2008.000000     143.000000  150000.000000   \n",
       "max     20000.000000       9999.000000   20000.000000  150000.000000   \n",
       "\n",
       "       RegistrationMonth  NumberOfPictures     PostalCode  \n",
       "count      354369.000000          354369.0  354369.000000  \n",
       "mean            5.714645               0.0   50508.689087  \n",
       "std             3.726421               0.0   25783.096248  \n",
       "min             0.000000               0.0    1067.000000  \n",
       "25%             3.000000               0.0   30165.000000  \n",
       "50%             6.000000               0.0   49413.000000  \n",
       "75%             9.000000               0.0   71083.000000  \n",
       "max            12.000000               0.0   99998.000000  "
      ]
     },
     "execution_count": 4,
     "metadata": {},
     "output_type": "execute_result"
    }
   ],
   "source": [
    "df.describe()"
   ]
  },
  {
   "cell_type": "code",
   "execution_count": 5,
   "metadata": {
    "scrolled": true
   },
   "outputs": [
    {
     "data": {
      "text/html": [
       "<div>\n",
       "<style scoped>\n",
       "    .dataframe tbody tr th:only-of-type {\n",
       "        vertical-align: middle;\n",
       "    }\n",
       "\n",
       "    .dataframe tbody tr th {\n",
       "        vertical-align: top;\n",
       "    }\n",
       "\n",
       "    .dataframe thead th {\n",
       "        text-align: right;\n",
       "    }\n",
       "</style>\n",
       "<table border=\"1\" class=\"dataframe\">\n",
       "  <thead>\n",
       "    <tr style=\"text-align: right;\">\n",
       "      <th></th>\n",
       "      <th>Total</th>\n",
       "      <th>Percent</th>\n",
       "    </tr>\n",
       "  </thead>\n",
       "  <tbody>\n",
       "    <tr>\n",
       "      <th>NotRepaired</th>\n",
       "      <td>71154</td>\n",
       "      <td>20.079070</td>\n",
       "    </tr>\n",
       "    <tr>\n",
       "      <th>VehicleType</th>\n",
       "      <td>37490</td>\n",
       "      <td>10.579368</td>\n",
       "    </tr>\n",
       "    <tr>\n",
       "      <th>FuelType</th>\n",
       "      <td>32895</td>\n",
       "      <td>9.282697</td>\n",
       "    </tr>\n",
       "    <tr>\n",
       "      <th>Gearbox</th>\n",
       "      <td>19833</td>\n",
       "      <td>5.596709</td>\n",
       "    </tr>\n",
       "    <tr>\n",
       "      <th>Model</th>\n",
       "      <td>19705</td>\n",
       "      <td>5.560588</td>\n",
       "    </tr>\n",
       "    <tr>\n",
       "      <th>DateCrawled</th>\n",
       "      <td>0</td>\n",
       "      <td>0.000000</td>\n",
       "    </tr>\n",
       "    <tr>\n",
       "      <th>Price</th>\n",
       "      <td>0</td>\n",
       "      <td>0.000000</td>\n",
       "    </tr>\n",
       "    <tr>\n",
       "      <th>RegistrationYear</th>\n",
       "      <td>0</td>\n",
       "      <td>0.000000</td>\n",
       "    </tr>\n",
       "    <tr>\n",
       "      <th>Power</th>\n",
       "      <td>0</td>\n",
       "      <td>0.000000</td>\n",
       "    </tr>\n",
       "    <tr>\n",
       "      <th>Kilometer</th>\n",
       "      <td>0</td>\n",
       "      <td>0.000000</td>\n",
       "    </tr>\n",
       "    <tr>\n",
       "      <th>RegistrationMonth</th>\n",
       "      <td>0</td>\n",
       "      <td>0.000000</td>\n",
       "    </tr>\n",
       "    <tr>\n",
       "      <th>Brand</th>\n",
       "      <td>0</td>\n",
       "      <td>0.000000</td>\n",
       "    </tr>\n",
       "    <tr>\n",
       "      <th>DateCreated</th>\n",
       "      <td>0</td>\n",
       "      <td>0.000000</td>\n",
       "    </tr>\n",
       "    <tr>\n",
       "      <th>NumberOfPictures</th>\n",
       "      <td>0</td>\n",
       "      <td>0.000000</td>\n",
       "    </tr>\n",
       "    <tr>\n",
       "      <th>PostalCode</th>\n",
       "      <td>0</td>\n",
       "      <td>0.000000</td>\n",
       "    </tr>\n",
       "    <tr>\n",
       "      <th>LastSeen</th>\n",
       "      <td>0</td>\n",
       "      <td>0.000000</td>\n",
       "    </tr>\n",
       "  </tbody>\n",
       "</table>\n",
       "</div>"
      ],
      "text/plain": [
       "                   Total    Percent\n",
       "NotRepaired        71154  20.079070\n",
       "VehicleType        37490  10.579368\n",
       "FuelType           32895   9.282697\n",
       "Gearbox            19833   5.596709\n",
       "Model              19705   5.560588\n",
       "DateCrawled            0   0.000000\n",
       "Price                  0   0.000000\n",
       "RegistrationYear       0   0.000000\n",
       "Power                  0   0.000000\n",
       "Kilometer              0   0.000000\n",
       "RegistrationMonth      0   0.000000\n",
       "Brand                  0   0.000000\n",
       "DateCreated            0   0.000000\n",
       "NumberOfPictures       0   0.000000\n",
       "PostalCode             0   0.000000\n",
       "LastSeen               0   0.000000"
      ]
     },
     "execution_count": 5,
     "metadata": {},
     "output_type": "execute_result"
    }
   ],
   "source": [
    "def isna(data):\n",
    "    total = data.isnull().sum().sort_values(ascending = False)\n",
    "    percent = (data.isnull().sum()/data.isnull().count()*100).sort_values(ascending = False)\n",
    "    return pd.concat([total, percent], axis=1, keys=['Total', 'Percent'])\n",
    "isna(df)"
   ]
  },
  {
   "cell_type": "code",
   "execution_count": 6,
   "metadata": {},
   "outputs": [
    {
     "data": {
      "text/plain": [
       "4"
      ]
     },
     "execution_count": 6,
     "metadata": {},
     "output_type": "execute_result"
    }
   ],
   "source": [
    "df.duplicated().sum()"
   ]
  },
  {
   "cell_type": "code",
   "execution_count": 7,
   "metadata": {},
   "outputs": [],
   "source": [
    "df = df.drop_duplicates()"
   ]
  },
  {
   "cell_type": "markdown",
   "metadata": {},
   "source": [
    "Видим большое количество пропусков в колонках NotRepaired (была машина в ремонте или нет), VehicleType (тип кузова), FuelType (тип топлива), Gearbox (тип коробки передач) и Model (модель авто). Если удалить эти данные, то от исходного датасета останется менее 70%, поэтому далее попробуем заменить пропуски на \"unknown\", а разработчикам подкинем идею о настройке обязательных для заполнения полей. Так же имеется 4 полных дубликата, удаляем."
   ]
  },
  {
   "cell_type": "markdown",
   "metadata": {},
   "source": [
    "Избавимся от колонок, не учавствующих в предсказании цены: дата скачивания анкеты из базы, месяц регистрации автомобиля, дата создания анкеты, количество фотографий автомобиля (так как везде 0), почтовый индекс владельца анкеты и дата последней активности пользователя."
   ]
  },
  {
   "cell_type": "code",
   "execution_count": 8,
   "metadata": {
    "scrolled": true
   },
   "outputs": [],
   "source": [
    "df = df.drop(['DateCrawled', 'RegistrationMonth', 'DateCreated', 'NumberOfPictures', 'PostalCode', 'LastSeen'], axis=1)"
   ]
  },
  {
   "cell_type": "code",
   "execution_count": 9,
   "metadata": {
    "scrolled": false
   },
   "outputs": [
    {
     "name": "stdout",
     "output_type": "stream",
     "text": [
      "Price\n",
      "[    0     1     2 ... 19998 19999 20000]\n",
      "\n",
      "VehicleType\n",
      "['bus' 'convertible' 'coupe' 'other' 'sedan' 'small' 'suv' 'wagon' nan]\n",
      "\n",
      "RegistrationYear\n",
      "[1000 1001 1039 1111 1200 1234 1253 1255 1300 1400 1500 1600 1602 1688\n",
      " 1800 1910 1915 1919 1920 1923 1925 1927 1928 1929 1930 1931 1932 1933\n",
      " 1934 1935 1936 1937 1938 1940 1941 1942 1943 1944 1945 1946 1947 1948\n",
      " 1949 1950 1951 1952 1953 1954 1955 1956 1957 1958 1959 1960 1961 1962\n",
      " 1963 1964 1965 1966 1967 1968 1969 1970 1971 1972 1973 1974 1975 1976\n",
      " 1977 1978 1979 1980 1981 1982 1983 1984 1985 1986 1987 1988 1989 1990\n",
      " 1991 1992 1993 1994 1995 1996 1997 1998 1999 2000 2001 2002 2003 2004\n",
      " 2005 2006 2007 2008 2009 2010 2011 2012 2013 2014 2015 2016 2017 2018\n",
      " 2019 2066 2200 2222 2290 2500 2800 2900 3000 3200 3500 3700 3800 4000\n",
      " 4100 4500 4800 5000 5300 5555 5600 5900 5911 6000 6500 7000 7100 7500\n",
      " 7800 8000 8200 8455 8500 8888 9000 9229 9450 9996 9999]\n",
      "\n",
      "Gearbox\n",
      "['auto' 'manual' nan]\n",
      "\n",
      "Power\n",
      "[    0     1     2     3     4     5     6     7     8     9    10    11\n",
      "    12    13    14    15    16    17    18    19    20    21    22    23\n",
      "    24    25    26    27    28    29    30    31    32    33    34    35\n",
      "    36    37    38    39    40    41    42    43    44    45    46    47\n",
      "    48    49    50    51    52    53    54    55    56    57    58    59\n",
      "    60    61    62    63    64    65    66    67    68    69    70    71\n",
      "    72    73    74    75    76    77    78    79    80    81    82    83\n",
      "    84    85    86    87    88    89    90    91    92    93    94    95\n",
      "    96    97    98    99   100   101   102   103   104   105   106   107\n",
      "   108   109   110   111   112   113   114   115   116   117   118   119\n",
      "   120   121   122   123   124   125   126   127   128   129   130   131\n",
      "   132   133   134   135   136   137   138   139   140   141   142   143\n",
      "   144   145   146   147   148   149   150   151   152   153   154   155\n",
      "   156   157   158   159   160   161   162   163   164   165   166   167\n",
      "   168   169   170   171   172   173   174   175   176   177   178   179\n",
      "   180   181   182   183   184   185   186   187   188   189   190   191\n",
      "   192   193   194   195   196   197   198   199   200   201   202   203\n",
      "   204   205   206   207   208   209   210   211   212   213   214   215\n",
      "   216   217   218   219   220   221   222   223   224   225   226   227\n",
      "   228   229   230   231   232   233   234   235   236   237   238   239\n",
      "   240   241   242   243   244   245   246   247   248   249   250   251\n",
      "   252   253   254   255   256   257   258   259   260   261   262   264\n",
      "   265   266   267   268   269   270   271   272   273   274   275   276\n",
      "   277   278   279   280   281   282   283   284   285   286   287   288\n",
      "   289   290   292   293   294   295   296   297   298   299   300   301\n",
      "   303   304   305   306   307   308   309   310   311   313   314   315\n",
      "   316   317   318   320   321   322   323   324   325   326   327   328\n",
      "   329   330   331   332   333   334   335   336   337   338   339   340\n",
      "   341   343   344   345   346   347   348   349   350   351   352   353\n",
      "   354   355   356   357   358   360   361   362   363   364   365   367\n",
      "   368   370   371   374   375   376   377   379   380   381   382   385\n",
      "   386   387   388   390   392   394   396   398   399   400   401   402\n",
      "   405   408   409   411   416   420   421   425   426   428   430   431\n",
      "   435   440   442   445   449   450   454   457   459   460   475   476\n",
      "   485   487   489   490   500   504   505   507   508   510   514   515\n",
      "   517   519   520   521   525   530   540   541   544   550   551   553\n",
      "   560   572   574   579   580   584   585   599   600   601   602   603\n",
      "   604   606   607   610   612   620   640   645   650   651   671   678\n",
      "   682   685   696   700   702   703   732   743   750   751   754   771\n",
      "   776   800   805   808   850   851   871   900   901   902   903   907\n",
      "   909   923   950   952   953   960   998   999  1000  1001  1002  1003\n",
      "  1004  1005  1011  1012  1016  1017  1021  1024  1054  1055  1056  1062\n",
      "  1079  1082  1090  1100  1102  1103  1105  1111  1115  1120  1149  1151\n",
      "  1158  1160  1162  1164  1199  1200  1202  1221  1223  1230  1239  1240\n",
      "  1241  1250  1252  1256  1275  1288  1299  1300  1312  1317  1324  1339\n",
      "  1351  1360  1362  1363  1367  1390  1394  1398  1399  1400  1401  1403\n",
      "  1405  1416  1432  1433  1436  1500  1501  1502  1503  1506  1521  1548\n",
      "  1595  1596  1597  1598  1600  1625  1631  1653  1659  1689  1700  1701\n",
      "  1703  1704  1707  1753  1771  1779  1780  1781  1783  1793  1796  1799\n",
      "  1800  1801  1870  1895  1896  1900  1910  1920  1922  1933  1937  1968\n",
      "  1986  1988  1992  1993  1995  1998  1999  2000  2004  2005  2007  2009\n",
      "  2016  2017  2018  2172  2200  2201  2331  2340  2389  2402  2461  2598\n",
      "  2729  2789  2792  2799  3000  3199  3454  3500  3750  4400  4507  4700\n",
      "  5000  5411  5420  5575  5809  5815  5867  6006  6010  6011  6012  6018\n",
      "  6045  6062  6226  6512  6920  7508  7511  7512  7515  7518  7529  7544\n",
      "  8011  8259  8404  8500  9000  9007  9010  9011  9012  9013  9710 10000\n",
      " 10110 10218 10311 10317 10520 10522 10710 10910 10912 11011 11025 11111\n",
      " 11509 11530 11635 12012 12510 12512 12684 13616 13636 14009 15001 15016\n",
      " 15017 15020 15033 16011 16051 16311 16312 17011 17019 17410 17700 17932\n",
      " 19208 19211 19312 20000]\n",
      "\n",
      "Model\n",
      "['100' '145' '147' '156' '159' '1_reihe' '1er' '200' '2_reihe' '300c'\n",
      " '3_reihe' '3er' '4_reihe' '500' '5_reihe' '5er' '601' '6_reihe' '6er'\n",
      " '7er' '80' '850' '90' '900' '9000' '911' 'a1' 'a2' 'a3' 'a4' 'a5' 'a6'\n",
      " 'a8' 'a_klasse' 'accord' 'agila' 'alhambra' 'almera' 'altea' 'amarok'\n",
      " 'antara' 'arosa' 'astra' 'auris' 'avensis' 'aveo' 'aygo' 'b_klasse'\n",
      " 'b_max' 'beetle' 'berlingo' 'bora' 'boxster' 'bravo' 'c1' 'c2' 'c3' 'c4'\n",
      " 'c5' 'c_klasse' 'c_max' 'c_reihe' 'caddy' 'calibra' 'captiva' 'carisma'\n",
      " 'carnival' 'cayenne' 'cc' 'ceed' 'charade' 'cherokee' 'citigo' 'civic'\n",
      " 'cl' 'clio' 'clk' 'clubman' 'colt' 'combo' 'cooper' 'cordoba' 'corolla'\n",
      " 'corsa' 'cr_reihe' 'croma' 'crossfire' 'cuore' 'cx_reihe' 'defender'\n",
      " 'delta' 'discovery' 'doblo' 'ducato' 'duster' 'e_klasse' 'elefantino'\n",
      " 'eos' 'escort' 'espace' 'exeo' 'fabia' 'fiesta' 'focus' 'forester'\n",
      " 'forfour' 'fortwo' 'fox' 'freelander' 'fusion' 'g_klasse' 'galant'\n",
      " 'galaxy' 'getz' 'gl' 'glk' 'golf' 'grand' 'i3' 'i_reihe' 'ibiza'\n",
      " 'impreza' 'insignia' 'jazz' 'jetta' 'jimny' 'juke' 'justy' 'ka' 'kadett'\n",
      " 'kaefer' 'kalina' 'kalos' 'kangoo' 'kappa' 'kuga' 'laguna' 'lancer'\n",
      " 'lanos' 'legacy' 'leon' 'lodgy' 'logan' 'lupo' 'lybra' 'm_klasse'\n",
      " 'm_reihe' 'materia' 'matiz' 'megane' 'meriva' 'micra' 'mii' 'modus'\n",
      " 'mondeo' 'move' 'musa' 'mustang' 'mx_reihe' 'navara' 'niva' 'note'\n",
      " 'nubira' 'octavia' 'omega' 'one' 'other' 'outlander' 'pajero' 'panda'\n",
      " 'passat' 'phaeton' 'picanto' 'polo' 'primera' 'ptcruiser' 'punto' 'q3'\n",
      " 'q5' 'q7' 'qashqai' 'r19' 'range_rover' 'range_rover_evoque'\n",
      " 'range_rover_sport' 'rangerover' 'rav' 'rio' 'roadster' 'roomster'\n",
      " 'rx_reihe' 's60' 's_klasse' 's_max' 's_type' 'samara' 'sandero' 'santa'\n",
      " 'scenic' 'scirocco' 'seicento' 'serie_1' 'serie_2' 'serie_3' 'sharan'\n",
      " 'signum' 'sirion' 'sl' 'slk' 'sorento' 'spark' 'spider' 'sportage'\n",
      " 'sprinter' 'stilo' 'superb' 'swift' 'terios' 'tigra' 'tiguan' 'toledo'\n",
      " 'touareg' 'touran' 'transit' 'transporter' 'tt' 'tucson' 'twingo' 'up'\n",
      " 'v40' 'v50' 'v60' 'v70' 'v_klasse' 'vectra' 'verso' 'viano' 'vito'\n",
      " 'vivaro' 'voyager' 'wrangler' 'x_reihe' 'x_trail' 'x_type' 'xc_reihe'\n",
      " 'yaris' 'yeti' 'ypsilon' 'z_reihe' 'zafira' nan]\n",
      "\n",
      "Kilometer\n",
      "[  5000  10000  20000  30000  40000  50000  60000  70000  80000  90000\n",
      " 100000 125000 150000]\n",
      "\n",
      "FuelType\n",
      "['cng' 'electric' 'gasoline' 'hybrid' 'lpg' 'other' 'petrol' nan]\n",
      "\n",
      "Brand\n",
      "['alfa_romeo' 'audi' 'bmw' 'chevrolet' 'chrysler' 'citroen' 'dacia'\n",
      " 'daewoo' 'daihatsu' 'fiat' 'ford' 'honda' 'hyundai' 'jaguar' 'jeep' 'kia'\n",
      " 'lada' 'lancia' 'land_rover' 'mazda' 'mercedes_benz' 'mini' 'mitsubishi'\n",
      " 'nissan' 'opel' 'peugeot' 'porsche' 'renault' 'rover' 'saab' 'seat'\n",
      " 'skoda' 'smart' 'sonstige_autos' 'subaru' 'suzuki' 'toyota' 'trabant'\n",
      " 'volkswagen' 'volvo']\n",
      "\n",
      "NotRepaired\n",
      "['no' 'yes' nan]\n",
      "\n"
     ]
    }
   ],
   "source": [
    "for column in df.columns: # чтобы не перебирать по одному, применили цикл\n",
    "    print(column)\n",
    "    print(df[column].sort_values().unique()) # уникальные значения с сортировкой по возрастанию\n",
    "    print()"
   ]
  },
  {
   "cell_type": "markdown",
   "metadata": {},
   "source": [
    "Исследуем выбросы в годе регистрации и мощности автомобилей (цену не трогаем, т.к. автовладельцы впролне могут устанавливать любую стоимость)."
   ]
  },
  {
   "cell_type": "code",
   "execution_count": 10,
   "metadata": {},
   "outputs": [
    {
     "data": {
      "image/png": "[encoded data removed]",
      "text/plain": [
       "<Figure size 432x288 with 1 Axes>"
      ]
     },
     "metadata": {
      "needs_background": "light"
     },
     "output_type": "display_data"
    }
   ],
   "source": [
    "df.boxplot('RegistrationYear')\n",
    "plt.ylim(1975, 2021);"
   ]
  },
  {
   "cell_type": "code",
   "execution_count": 11,
   "metadata": {},
   "outputs": [
    {
     "data": {
      "text/plain": [
       "count    354365.000000\n",
       "mean       2004.234481\n",
       "std          90.228466\n",
       "min        1000.000000\n",
       "25%        1999.000000\n",
       "50%        2003.000000\n",
       "75%        2008.000000\n",
       "max        9999.000000\n",
       "Name: RegistrationYear, dtype: float64"
      ]
     },
     "execution_count": 11,
     "metadata": {},
     "output_type": "execute_result"
    }
   ],
   "source": [
    "df['RegistrationYear'].describe()"
   ]
  },
  {
   "cell_type": "markdown",
   "metadata": {},
   "source": [
    "Видим разброс дат регистрации. Можно было бы взять за основу 1886 год - год изобретения первого в мире прототипа современного автомобиля Карлом Бенцем, но ограничимся 1986 и 2019 годом."
   ]
  },
  {
   "cell_type": "code",
   "execution_count": 12,
   "metadata": {
    "scrolled": false
   },
   "outputs": [
    {
     "data": {
      "text/plain": [
       "1.7803676999703695"
      ]
     },
     "execution_count": 12,
     "metadata": {},
     "output_type": "execute_result"
    }
   ],
   "source": [
    "(len(df) - len(df.query('2019 >= RegistrationYear >= 1986'))) / len(df) * 100"
   ]
  },
  {
   "cell_type": "markdown",
   "metadata": {},
   "source": [
    "Выбросы менее 2%, можно смело избавляться."
   ]
  },
  {
   "cell_type": "code",
   "execution_count": 13,
   "metadata": {},
   "outputs": [],
   "source": [
    "df = df.query('2019 >= RegistrationYear >= 1986')"
   ]
  },
  {
   "cell_type": "code",
   "execution_count": 14,
   "metadata": {},
   "outputs": [
    {
     "data": {
      "image/png": "[encoded data removed]",
      "text/plain": [
       "<Figure size 432x288 with 1 Axes>"
      ]
     },
     "metadata": {
      "needs_background": "light"
     },
     "output_type": "display_data"
    }
   ],
   "source": [
    "df.boxplot('Power')\n",
    "plt.ylim(0, 600);"
   ]
  },
  {
   "cell_type": "code",
   "execution_count": 15,
   "metadata": {},
   "outputs": [
    {
     "data": {
      "text/plain": [
       "count    348056.000000\n",
       "mean        110.694518\n",
       "std         188.893320\n",
       "min           0.000000\n",
       "25%          69.000000\n",
       "50%         105.000000\n",
       "75%         143.000000\n",
       "max       20000.000000\n",
       "Name: Power, dtype: float64"
      ]
     },
     "execution_count": 15,
     "metadata": {},
     "output_type": "execute_result"
    }
   ],
   "source": [
    "df['Power'].describe()"
   ]
  },
  {
   "cell_type": "markdown",
   "metadata": {},
   "source": [
    "Максимальную мощность в 1600+л.с. имеет Hennessey Venom F5 стоимостью в $1.6 миллиона, а наш ценовой максимум упирается в €20000, просто взглянем на мощность самых дорогих машин."
   ]
  },
  {
   "cell_type": "code",
   "execution_count": 16,
   "metadata": {},
   "outputs": [
    {
     "data": {
      "text/html": [
       "<div>\n",
       "<style scoped>\n",
       "    .dataframe tbody tr th:only-of-type {\n",
       "        vertical-align: middle;\n",
       "    }\n",
       "\n",
       "    .dataframe tbody tr th {\n",
       "        vertical-align: top;\n",
       "    }\n",
       "\n",
       "    .dataframe thead th {\n",
       "        text-align: right;\n",
       "    }\n",
       "</style>\n",
       "<table border=\"1\" class=\"dataframe\">\n",
       "  <thead>\n",
       "    <tr style=\"text-align: right;\">\n",
       "      <th></th>\n",
       "      <th>Price</th>\n",
       "      <th>VehicleType</th>\n",
       "      <th>RegistrationYear</th>\n",
       "      <th>Gearbox</th>\n",
       "      <th>Power</th>\n",
       "      <th>Model</th>\n",
       "      <th>Kilometer</th>\n",
       "      <th>FuelType</th>\n",
       "      <th>Brand</th>\n",
       "      <th>NotRepaired</th>\n",
       "    </tr>\n",
       "  </thead>\n",
       "  <tbody>\n",
       "    <tr>\n",
       "      <th>25684</th>\n",
       "      <td>20000</td>\n",
       "      <td>sedan</td>\n",
       "      <td>2006</td>\n",
       "      <td>auto</td>\n",
       "      <td>507</td>\n",
       "      <td>m_reihe</td>\n",
       "      <td>150000</td>\n",
       "      <td>petrol</td>\n",
       "      <td>bmw</td>\n",
       "      <td>no</td>\n",
       "    </tr>\n",
       "    <tr>\n",
       "      <th>346165</th>\n",
       "      <td>20000</td>\n",
       "      <td>NaN</td>\n",
       "      <td>2016</td>\n",
       "      <td>auto</td>\n",
       "      <td>507</td>\n",
       "      <td>m_reihe</td>\n",
       "      <td>150000</td>\n",
       "      <td>NaN</td>\n",
       "      <td>bmw</td>\n",
       "      <td>NaN</td>\n",
       "    </tr>\n",
       "    <tr>\n",
       "      <th>92566</th>\n",
       "      <td>20000</td>\n",
       "      <td>sedan</td>\n",
       "      <td>2006</td>\n",
       "      <td>auto</td>\n",
       "      <td>507</td>\n",
       "      <td>m_reihe</td>\n",
       "      <td>150000</td>\n",
       "      <td>petrol</td>\n",
       "      <td>bmw</td>\n",
       "      <td>no</td>\n",
       "    </tr>\n",
       "    <tr>\n",
       "      <th>32658</th>\n",
       "      <td>20000</td>\n",
       "      <td>sedan</td>\n",
       "      <td>2003</td>\n",
       "      <td>auto</td>\n",
       "      <td>500</td>\n",
       "      <td>s_klasse</td>\n",
       "      <td>80000</td>\n",
       "      <td>petrol</td>\n",
       "      <td>mercedes_benz</td>\n",
       "      <td>no</td>\n",
       "    </tr>\n",
       "    <tr>\n",
       "      <th>354045</th>\n",
       "      <td>20000</td>\n",
       "      <td>coupe</td>\n",
       "      <td>2006</td>\n",
       "      <td>auto</td>\n",
       "      <td>476</td>\n",
       "      <td>other</td>\n",
       "      <td>125000</td>\n",
       "      <td>petrol</td>\n",
       "      <td>mercedes_benz</td>\n",
       "      <td>no</td>\n",
       "    </tr>\n",
       "  </tbody>\n",
       "</table>\n",
       "</div>"
      ],
      "text/plain": [
       "        Price VehicleType  RegistrationYear Gearbox  Power     Model  \\\n",
       "25684   20000       sedan              2006    auto    507   m_reihe   \n",
       "346165  20000         NaN              2016    auto    507   m_reihe   \n",
       "92566   20000       sedan              2006    auto    507   m_reihe   \n",
       "32658   20000       sedan              2003    auto    500  s_klasse   \n",
       "354045  20000       coupe              2006    auto    476     other   \n",
       "\n",
       "        Kilometer FuelType          Brand NotRepaired  \n",
       "25684      150000   petrol            bmw          no  \n",
       "346165     150000      NaN            bmw         NaN  \n",
       "92566      150000   petrol            bmw          no  \n",
       "32658       80000   petrol  mercedes_benz          no  \n",
       "354045     125000   petrol  mercedes_benz          no  "
      ]
     },
     "execution_count": 16,
     "metadata": {},
     "output_type": "execute_result"
    }
   ],
   "source": [
    "df[df['Price'] == 20000].sort_values('Power', ascending=False).head()"
   ]
  },
  {
   "attachments": {
    "image.png": {
     "image/png": "[encoded data removed]"
    }
   },
   "cell_type": "markdown",
   "metadata": {},
   "source": [
    "Кто-то привирает, ведь BMW M-reihe 2006г. имеет мощность 420 л.с., ну да ладно. Избавимся от выбросов > 550 л.с. (опять же несоответствие с ценами), а с минимальным и не знаю что делать, ведь есть автомобиль с мощностью 4.2 л.с. На это чудо стоит взглянуть. ![image.png](attachment:image.png)"
   ]
  },
  {
   "cell_type": "code",
   "execution_count": 17,
   "metadata": {},
   "outputs": [
    {
     "data": {
      "text/plain": [
       "0.1126255545084699"
      ]
     },
     "execution_count": 17,
     "metadata": {},
     "output_type": "execute_result"
    }
   ],
   "source": [
    "(len(df) - len(df.query('Power < 550'))) / len(df) * 100"
   ]
  },
  {
   "cell_type": "code",
   "execution_count": 18,
   "metadata": {},
   "outputs": [],
   "source": [
    "df = df.query('Power < 550')"
   ]
  },
  {
   "cell_type": "markdown",
   "metadata": {},
   "source": [
    "Заменим пропуски."
   ]
  },
  {
   "cell_type": "code",
   "execution_count": 19,
   "metadata": {
    "scrolled": false
   },
   "outputs": [
    {
     "data": {
      "text/plain": [
       "Price                   0\n",
       "VehicleType         36274\n",
       "RegistrationYear        0\n",
       "Gearbox             18418\n",
       "Power                   0\n",
       "Model               18286\n",
       "Kilometer               0\n",
       "FuelType            31373\n",
       "Brand                   0\n",
       "NotRepaired         68726\n",
       "dtype: int64"
      ]
     },
     "execution_count": 19,
     "metadata": {},
     "output_type": "execute_result"
    }
   ],
   "source": [
    "df.isna().sum()"
   ]
  },
  {
   "cell_type": "code",
   "execution_count": 20,
   "metadata": {},
   "outputs": [],
   "source": [
    "df = df.fillna('unknown')"
   ]
  },
  {
   "cell_type": "code",
   "execution_count": 21,
   "metadata": {
    "scrolled": true
   },
   "outputs": [
    {
     "data": {
      "text/html": [
       "<div>\n",
       "<style scoped>\n",
       "    .dataframe tbody tr th:only-of-type {\n",
       "        vertical-align: middle;\n",
       "    }\n",
       "\n",
       "    .dataframe tbody tr th {\n",
       "        vertical-align: top;\n",
       "    }\n",
       "\n",
       "    .dataframe thead th {\n",
       "        text-align: right;\n",
       "    }\n",
       "</style>\n",
       "<table border=\"1\" class=\"dataframe\">\n",
       "  <thead>\n",
       "    <tr style=\"text-align: right;\">\n",
       "      <th></th>\n",
       "      <th>Price</th>\n",
       "      <th>VehicleType</th>\n",
       "      <th>RegistrationYear</th>\n",
       "      <th>Gearbox</th>\n",
       "      <th>Power</th>\n",
       "      <th>Model</th>\n",
       "      <th>Kilometer</th>\n",
       "      <th>FuelType</th>\n",
       "      <th>Brand</th>\n",
       "      <th>NotRepaired</th>\n",
       "    </tr>\n",
       "  </thead>\n",
       "  <tbody>\n",
       "    <tr>\n",
       "      <th>0</th>\n",
       "      <td>480</td>\n",
       "      <td>unknown</td>\n",
       "      <td>1993</td>\n",
       "      <td>manual</td>\n",
       "      <td>0</td>\n",
       "      <td>golf</td>\n",
       "      <td>150000</td>\n",
       "      <td>petrol</td>\n",
       "      <td>volkswagen</td>\n",
       "      <td>unknown</td>\n",
       "    </tr>\n",
       "    <tr>\n",
       "      <th>1</th>\n",
       "      <td>18300</td>\n",
       "      <td>coupe</td>\n",
       "      <td>2011</td>\n",
       "      <td>manual</td>\n",
       "      <td>190</td>\n",
       "      <td>unknown</td>\n",
       "      <td>125000</td>\n",
       "      <td>gasoline</td>\n",
       "      <td>audi</td>\n",
       "      <td>yes</td>\n",
       "    </tr>\n",
       "    <tr>\n",
       "      <th>2</th>\n",
       "      <td>9800</td>\n",
       "      <td>suv</td>\n",
       "      <td>2004</td>\n",
       "      <td>auto</td>\n",
       "      <td>163</td>\n",
       "      <td>grand</td>\n",
       "      <td>125000</td>\n",
       "      <td>gasoline</td>\n",
       "      <td>jeep</td>\n",
       "      <td>unknown</td>\n",
       "    </tr>\n",
       "    <tr>\n",
       "      <th>3</th>\n",
       "      <td>1500</td>\n",
       "      <td>small</td>\n",
       "      <td>2001</td>\n",
       "      <td>manual</td>\n",
       "      <td>75</td>\n",
       "      <td>golf</td>\n",
       "      <td>150000</td>\n",
       "      <td>petrol</td>\n",
       "      <td>volkswagen</td>\n",
       "      <td>no</td>\n",
       "    </tr>\n",
       "    <tr>\n",
       "      <th>4</th>\n",
       "      <td>3600</td>\n",
       "      <td>small</td>\n",
       "      <td>2008</td>\n",
       "      <td>manual</td>\n",
       "      <td>69</td>\n",
       "      <td>fabia</td>\n",
       "      <td>90000</td>\n",
       "      <td>gasoline</td>\n",
       "      <td>skoda</td>\n",
       "      <td>no</td>\n",
       "    </tr>\n",
       "  </tbody>\n",
       "</table>\n",
       "</div>"
      ],
      "text/plain": [
       "   Price VehicleType  RegistrationYear Gearbox  Power    Model  Kilometer  \\\n",
       "0    480     unknown              1993  manual      0     golf     150000   \n",
       "1  18300       coupe              2011  manual    190  unknown     125000   \n",
       "2   9800         suv              2004    auto    163    grand     125000   \n",
       "3   1500       small              2001  manual     75     golf     150000   \n",
       "4   3600       small              2008  manual     69    fabia      90000   \n",
       "\n",
       "   FuelType       Brand NotRepaired  \n",
       "0    petrol  volkswagen     unknown  \n",
       "1  gasoline        audi         yes  \n",
       "2  gasoline        jeep     unknown  \n",
       "3    petrol  volkswagen          no  \n",
       "4  gasoline       skoda          no  "
      ]
     },
     "execution_count": 21,
     "metadata": {},
     "output_type": "execute_result"
    }
   ],
   "source": [
    "df.head()"
   ]
  },
  {
   "cell_type": "markdown",
   "metadata": {},
   "source": [
    "Изменим тип данных в колонке о ремонте, чтобы скормить эту информацию модели."
   ]
  },
  {
   "cell_type": "code",
   "execution_count": 22,
   "metadata": {},
   "outputs": [],
   "source": [
    "df['NotRepaired'] = df['NotRepaired'].map({'no': 0, 'yes': 1, 'unknown':2})"
   ]
  },
  {
   "cell_type": "markdown",
   "metadata": {},
   "source": [
    "Исправим названия колонок."
   ]
  },
  {
   "cell_type": "code",
   "execution_count": 23,
   "metadata": {},
   "outputs": [],
   "source": [
    "df.columns = df.columns.str.lower()"
   ]
  },
  {
   "cell_type": "code",
   "execution_count": 24,
   "metadata": {},
   "outputs": [],
   "source": [
    "df = df.rename(columns = {'vehicletype':'vehicle_type', 'registrationyear':'registration_year', 'fueltype':'fuel_type', 'notrepaired':'not_repaired'})"
   ]
  },
  {
   "cell_type": "code",
   "execution_count": 25,
   "metadata": {},
   "outputs": [
    {
     "data": {
      "text/plain": [
       "price                0\n",
       "vehicle_type         0\n",
       "registration_year    0\n",
       "gearbox              0\n",
       "power                0\n",
       "model                0\n",
       "kilometer            0\n",
       "fuel_type            0\n",
       "brand                0\n",
       "not_repaired         0\n",
       "dtype: int64"
      ]
     },
     "execution_count": 25,
     "metadata": {},
     "output_type": "execute_result"
    }
   ],
   "source": [
    "df.isna().sum()"
   ]
  },
  {
   "cell_type": "code",
   "execution_count": 26,
   "metadata": {
    "scrolled": true
   },
   "outputs": [
    {
     "name": "stdout",
     "output_type": "stream",
     "text": [
      "<class 'pandas.core.frame.DataFrame'>\n",
      "Int64Index: 347664 entries, 0 to 354368\n",
      "Data columns (total 10 columns):\n",
      " #   Column             Non-Null Count   Dtype \n",
      "---  ------             --------------   ----- \n",
      " 0   price              347664 non-null  int64 \n",
      " 1   vehicle_type       347664 non-null  object\n",
      " 2   registration_year  347664 non-null  int64 \n",
      " 3   gearbox            347664 non-null  object\n",
      " 4   power              347664 non-null  int64 \n",
      " 5   model              347664 non-null  object\n",
      " 6   kilometer          347664 non-null  int64 \n",
      " 7   fuel_type          347664 non-null  object\n",
      " 8   brand              347664 non-null  object\n",
      " 9   not_repaired       347664 non-null  int64 \n",
      "dtypes: int64(5), object(5)\n",
      "memory usage: 29.2+ MB\n"
     ]
    }
   ],
   "source": [
    "df.info()"
   ]
  },
  {
   "cell_type": "code",
   "execution_count": 27,
   "metadata": {
    "scrolled": true
   },
   "outputs": [
    {
     "data": {
      "text/plain": [
       "int64     5\n",
       "object    5\n",
       "dtype: int64"
      ]
     },
     "execution_count": 27,
     "metadata": {},
     "output_type": "execute_result"
    }
   ],
   "source": [
    "df.dtypes.value_counts()"
   ]
  },
  {
   "cell_type": "code",
   "execution_count": 28,
   "metadata": {},
   "outputs": [
    {
     "data": {
      "text/html": [
       "<div>\n",
       "<style scoped>\n",
       "    .dataframe tbody tr th:only-of-type {\n",
       "        vertical-align: middle;\n",
       "    }\n",
       "\n",
       "    .dataframe tbody tr th {\n",
       "        vertical-align: top;\n",
       "    }\n",
       "\n",
       "    .dataframe thead th {\n",
       "        text-align: right;\n",
       "    }\n",
       "</style>\n",
       "<table border=\"1\" class=\"dataframe\">\n",
       "  <thead>\n",
       "    <tr style=\"text-align: right;\">\n",
       "      <th></th>\n",
       "      <th>price</th>\n",
       "      <th>vehicle_type</th>\n",
       "      <th>registration_year</th>\n",
       "      <th>gearbox</th>\n",
       "      <th>power</th>\n",
       "      <th>model</th>\n",
       "      <th>kilometer</th>\n",
       "      <th>fuel_type</th>\n",
       "      <th>brand</th>\n",
       "      <th>not_repaired</th>\n",
       "    </tr>\n",
       "  </thead>\n",
       "  <tbody>\n",
       "    <tr>\n",
       "      <th>347659</th>\n",
       "      <td>0</td>\n",
       "      <td>unknown</td>\n",
       "      <td>2005</td>\n",
       "      <td>manual</td>\n",
       "      <td>0</td>\n",
       "      <td>colt</td>\n",
       "      <td>150000</td>\n",
       "      <td>petrol</td>\n",
       "      <td>mitsubishi</td>\n",
       "      <td>1</td>\n",
       "    </tr>\n",
       "    <tr>\n",
       "      <th>347660</th>\n",
       "      <td>2200</td>\n",
       "      <td>unknown</td>\n",
       "      <td>2005</td>\n",
       "      <td>unknown</td>\n",
       "      <td>0</td>\n",
       "      <td>unknown</td>\n",
       "      <td>20000</td>\n",
       "      <td>unknown</td>\n",
       "      <td>sonstige_autos</td>\n",
       "      <td>2</td>\n",
       "    </tr>\n",
       "    <tr>\n",
       "      <th>347661</th>\n",
       "      <td>1199</td>\n",
       "      <td>convertible</td>\n",
       "      <td>2000</td>\n",
       "      <td>auto</td>\n",
       "      <td>101</td>\n",
       "      <td>fortwo</td>\n",
       "      <td>125000</td>\n",
       "      <td>petrol</td>\n",
       "      <td>smart</td>\n",
       "      <td>0</td>\n",
       "    </tr>\n",
       "    <tr>\n",
       "      <th>347662</th>\n",
       "      <td>9200</td>\n",
       "      <td>bus</td>\n",
       "      <td>1996</td>\n",
       "      <td>manual</td>\n",
       "      <td>102</td>\n",
       "      <td>transporter</td>\n",
       "      <td>150000</td>\n",
       "      <td>gasoline</td>\n",
       "      <td>volkswagen</td>\n",
       "      <td>0</td>\n",
       "    </tr>\n",
       "    <tr>\n",
       "      <th>347663</th>\n",
       "      <td>3400</td>\n",
       "      <td>wagon</td>\n",
       "      <td>2002</td>\n",
       "      <td>manual</td>\n",
       "      <td>100</td>\n",
       "      <td>golf</td>\n",
       "      <td>150000</td>\n",
       "      <td>gasoline</td>\n",
       "      <td>volkswagen</td>\n",
       "      <td>2</td>\n",
       "    </tr>\n",
       "  </tbody>\n",
       "</table>\n",
       "</div>"
      ],
      "text/plain": [
       "        price vehicle_type  registration_year  gearbox  power        model  \\\n",
       "347659      0      unknown               2005   manual      0         colt   \n",
       "347660   2200      unknown               2005  unknown      0      unknown   \n",
       "347661   1199  convertible               2000     auto    101       fortwo   \n",
       "347662   9200          bus               1996   manual    102  transporter   \n",
       "347663   3400        wagon               2002   manual    100         golf   \n",
       "\n",
       "        kilometer fuel_type           brand  not_repaired  \n",
       "347659     150000    petrol      mitsubishi             1  \n",
       "347660      20000   unknown  sonstige_autos             2  \n",
       "347661     125000    petrol           smart             0  \n",
       "347662     150000  gasoline      volkswagen             0  \n",
       "347663     150000  gasoline      volkswagen             2  "
      ]
     },
     "execution_count": 28,
     "metadata": {},
     "output_type": "execute_result"
    }
   ],
   "source": [
    "df = df.reset_index(drop=True)\n",
    "df.tail()"
   ]
  },
  {
   "cell_type": "markdown",
   "metadata": {},
   "source": [
    " Сервис по продаже автомобилей предоставил архивные данные с техническими характеристиками, комплектацией и ценами автомобилей. На этапе предобработки датасета размером (354369, 16) мы удалили дубликаты и выбросы, заменили пропуски на \"unknown\", сделали читабельными заголовки и в итоге получили датафрейм размером (348056, 10), потеряв лишь 1.8% данных."
   ]
  },
  {
   "cell_type": "markdown",
   "metadata": {},
   "source": [
    "Теперь данные очищены. Подготовим признаки для обучения. Разделим выборки на обучающую, валидационную и тестовую в соотношении 60%/20%/20% и закодируем категориальные признаки техникой Ordinal Encoder."
   ]
  },
  {
   "cell_type": "raw",
   "metadata": {},
   "source": [
    "df_oe = df.copy()"
   ]
  },
  {
   "cell_type": "raw",
   "metadata": {},
   "source": [
    "target_column = 'price'\n",
    "target = df_oe[target_column]\n",
    "features = df_oe.drop([target_column], axis=1)\n",
    "\n",
    "features_train, features_valid, target_train, target_valid = train_test_split(features, target, test_size = 0.4, random_state = 12345)\n",
    "features_valid, features_test, target_valid, target_test = train_test_split (features_valid, target_valid, test_size = 0.5, random_state = 12345)"
   ]
  },
  {
   "cell_type": "raw",
   "metadata": {
    "scrolled": true
   },
   "source": [
    "enc = OrdinalEncoder()\n",
    "df_oe[['vehicle_type', 'registration_year', 'gearbox', 'power', 'model', 'kilometer', 'fuel_type', 'brand', 'not_repaired']] = pd.DataFrame(enc.fit_transform(df_oe[['vehicle_type', 'registration_year', 'gearbox', 'power', 'model', 'kilometer', 'fuel_type', 'brand', 'not_repaired']]))\n",
    "\n",
    "target_oe = df_oe['price']\n",
    "features_oe = df_oe.drop(['price'], axis = 1)\n",
    "\n",
    "features_train_oe, features_valid, target_train_oe, target_valid = train_test_split(features_oe, target_oe, test_size = 0.4, random_state = 12345)\n",
    "features_valid_oe, features_test_oe, target_valid_oe, target_test_oe = train_test_split (features_valid, target_valid, test_size = 0.5, random_state = 12345)\n",
    "features_train_oe.shape, features_valid_oe.shape, features_test_oe.shape"
   ]
  },
  {
   "cell_type": "code",
   "execution_count": 29,
   "metadata": {},
   "outputs": [],
   "source": [
    "target = df['price']\n",
    "features = df.drop(['price'], axis=1)\n",
    "\n",
    "features_train, features_valid, target_train, target_valid = train_test_split(features, target, test_size = 0.4, random_state = 12345)\n",
    "features_valid, features_test, target_valid, target_test = train_test_split (features_valid, target_valid, test_size = 0.5, random_state = 12345)"
   ]
  },
  {
   "cell_type": "code",
   "execution_count": 30,
   "metadata": {},
   "outputs": [],
   "source": [
    "df_ohe = df.copy()\n",
    "df_ohe = pd.get_dummies(df, drop_first=True)"
   ]
  },
  {
   "cell_type": "code",
   "execution_count": 31,
   "metadata": {
    "scrolled": true
   },
   "outputs": [
    {
     "name": "stdout",
     "output_type": "stream",
     "text": [
      "(208598, 9)\n",
      "(69533, 9)\n",
      "(69533, 9)\n",
      "(208598,)\n",
      "(69533,)\n",
      "(69533,)\n"
     ]
    }
   ],
   "source": [
    "print(features_train.shape)\n",
    "print(features_test.shape)\n",
    "print(features_valid.shape)\n",
    "print(target_train.shape)\n",
    "print(target_test.shape)\n",
    "print(target_valid.shape)\n"
   ]
  },
  {
   "cell_type": "code",
   "execution_count": 32,
   "metadata": {},
   "outputs": [
    {
     "data": {
      "text/plain": [
       "((208598, 308), (69533, 308), (69533, 308))"
      ]
     },
     "execution_count": 32,
     "metadata": {},
     "output_type": "execute_result"
    }
   ],
   "source": [
    "target_ohe = df_ohe['price']\n",
    "features_ohe = df_ohe.drop(['price'], axis = 1)\n",
    "\n",
    "features_train_ohe, features_valid, target_train_ohe, target_valid = train_test_split(features_ohe, target_ohe, test_size = 0.4, random_state = 12345)\n",
    "features_valid_ohe, features_test_ohe, target_valid_ohe, target_test_ohe = train_test_split (features_valid, target_valid, test_size = 0.5, random_state = 12345)\n",
    "features_train_ohe.shape, features_valid_ohe.shape, features_test_ohe.shape"
   ]
  },
  {
   "cell_type": "markdown",
   "metadata": {},
   "source": [
    "Отмасштабируем числовые признаки."
   ]
  },
  {
   "cell_type": "code",
   "execution_count": 33,
   "metadata": {},
   "outputs": [],
   "source": [
    "numeric = ['registration_year', 'power', 'kilometer']\n",
    "\n",
    "scaler = StandardScaler()\n",
    "scaler.fit(features_train[numeric])\n",
    "features_train[numeric] = scaler.transform(features_train[numeric])\n",
    "features_valid[numeric] = scaler.transform(features_valid[numeric])"
   ]
  },
  {
   "cell_type": "code",
   "execution_count": 34,
   "metadata": {},
   "outputs": [],
   "source": [
    "numeric = ['registration_year', 'power', 'kilometer']\n",
    "\n",
    "scaler = StandardScaler()\n",
    "scaler.fit(features_train_ohe[numeric])\n",
    "features_train_ohe[numeric] = scaler.transform(features_train_ohe[numeric])\n",
    "features_valid_ohe[numeric] = scaler.transform(features_valid_ohe[numeric])\n",
    "features_test_ohe[numeric] = scaler.transform(features_test_ohe[numeric])\n"
   ]
  },
  {
   "cell_type": "markdown",
   "metadata": {},
   "source": [
    "## Обучение моделей"
   ]
  },
  {
   "cell_type": "markdown",
   "metadata": {},
   "source": [
    "Напишем функцию для расчета метрики RMSE с помощию функции make_scorer:"
   ]
  },
  {
   "cell_type": "code",
   "execution_count": 35,
   "metadata": {},
   "outputs": [],
   "source": [
    "def RMSE(target, predict):\n",
    "    return (mean_squared_error(target, predict))**0.5\n",
    "   \n",
    "RMSE_score = make_scorer(RMSE, greater_is_better=False)"
   ]
  },
  {
   "cell_type": "markdown",
   "metadata": {},
   "source": [
    "### Линейная регрессия"
   ]
  },
  {
   "cell_type": "code",
   "execution_count": 36,
   "metadata": {
    "scrolled": false
   },
   "outputs": [
    {
     "name": "stdout",
     "output_type": "stream",
     "text": [
      "Среднее качество модели линейной регрессии на кросс-валидации: 2574.4901729591397\n",
      "CPU times: user 50.4 s, sys: 28.3 s, total: 1min 18s\n",
      "Wall time: 1min 18s\n"
     ]
    }
   ],
   "source": [
    "%%time\n",
    "\n",
    "regression = LinearRegression()\n",
    "\n",
    "regression.fit(features_train_ohe, target_train_ohe)\n",
    "\n",
    "regression_cv_score = pd.Series(cross_val_score(regression,features_train_ohe,target_train_ohe,scoring=RMSE_score,cv=3)).mean()*(-1)\n",
    "print('Среднее качество модели линейной регрессии на кросс-валидации:', regression_cv_score)"
   ]
  },
  {
   "cell_type": "markdown",
   "metadata": {},
   "source": [
    "Модель линейной регрессии заняла 1min 15s с точностью RMSE = 2574.49. Данную модель не будем рассматривать при анализе."
   ]
  },
  {
   "cell_type": "markdown",
   "metadata": {},
   "source": [
    "### Случайный лес"
   ]
  },
  {
   "cell_type": "code",
   "execution_count": 37,
   "metadata": {
    "scrolled": true
   },
   "outputs": [
    {
     "name": "stdout",
     "output_type": "stream",
     "text": [
      "CPU times: user 7min 31s, sys: 25.3 s, total: 7min 57s\n",
      "Wall time: 7min 59s\n"
     ]
    },
    {
     "data": {
      "text/plain": [
       "GridSearchCV(cv=3, estimator=RandomForestRegressor(),\n",
       "             param_grid={'max_depth': range(1, 6, 2),\n",
       "                         'min_samples_leaf': range(1, 4),\n",
       "                         'min_samples_split': range(2, 6, 2),\n",
       "                         'n_estimators': range(5, 15, 5)},\n",
       "             scoring=make_scorer(RMSE, greater_is_better=False))"
      ]
     },
     "execution_count": 37,
     "metadata": {},
     "output_type": "execute_result"
    }
   ],
   "source": [
    "%%time\n",
    "\n",
    "forest = RandomForestRegressor()\n",
    "\n",
    "forest_parametrs = { 'n_estimators': range(5, 15, 5),\n",
    "                     'max_depth': range(1, 6, 2),\n",
    "                     'min_samples_leaf': range(1,4),\n",
    "                     'min_samples_split': range(2,6,2) }\n",
    "\n",
    "\n",
    "forest_grid = GridSearchCV(forest, forest_parametrs, scoring=RMSE_score, cv=3)\n",
    "forest_grid.fit(features_train_ohe, target_train_ohe)"
   ]
  },
  {
   "cell_type": "code",
   "execution_count": 38,
   "metadata": {
    "scrolled": true
   },
   "outputs": [
    {
     "name": "stdout",
     "output_type": "stream",
     "text": [
      "{'max_depth': 5, 'min_samples_leaf': 1, 'min_samples_split': 4, 'n_estimators': 10}\n",
      "2405.319101471456\n",
      "\n",
      "CPU times: user 199 ms, sys: 221 ms, total: 420 ms\n",
      "Wall time: 426 ms\n"
     ]
    }
   ],
   "source": [
    "%%time\n",
    "\n",
    "forest_params = forest_grid.best_params_\n",
    "forest_score = forest_grid.score(features_train_ohe, target_train_ohe) * (-1)\n",
    "print(forest_params)\n",
    "print(forest_score)\n",
    "print('')"
   ]
  },
  {
   "cell_type": "markdown",
   "metadata": {},
   "source": [
    "На обучение модели случайного леса ушло 7min 59s с точностью RMSE = 2405.31. \n",
    "Данную модель не будем рассматривать при анализе."
   ]
  },
  {
   "cell_type": "markdown",
   "metadata": {},
   "source": [
    "### LightGBM"
   ]
  },
  {
   "cell_type": "code",
   "execution_count": 39,
   "metadata": {},
   "outputs": [],
   "source": [
    "lgb_train = lgb.Dataset(features_train_ohe, target_train_ohe)\n",
    "lgb_eval = lgb.Dataset(features_valid_ohe, target_valid_ohe, reference=lgb_train)"
   ]
  },
  {
   "cell_type": "markdown",
   "metadata": {},
   "source": [
    "####  "
   ]
  },
  {
   "cell_type": "code",
   "execution_count": 40,
   "metadata": {},
   "outputs": [],
   "source": [
    "params = {\n",
    "    'boosting_type': 'gbdt',\n",
    "    'objective': 'regression',\n",
    "    'metric': {'rmse'},\n",
    "    'num_leaves': 31,\n",
    "    'learning_rate': 0.05,\n",
    "    'feature_fraction': 0.9,\n",
    "    'bagging_fraction': 0.8,\n",
    "    'bagging_freq': 5,\n",
    "    'verbose': 0\n",
    "}"
   ]
  },
  {
   "cell_type": "code",
   "execution_count": 41,
   "metadata": {
    "scrolled": false
   },
   "outputs": [
    {
     "name": "stdout",
     "output_type": "stream",
     "text": [
      "[LightGBM] [Warning] Auto-choosing row-wise multi-threading, the overhead of testing was 0.500160 seconds.\n",
      "You can set `force_row_wise=true` to remove the overhead.\n",
      "And if memory is not enough, you can set `force_col_wise=true`.\n",
      "[1]\tvalid_0's rmse: 4331.13\n",
      "Training until validation scores don't improve for 5 rounds\n",
      "[2]\tvalid_0's rmse: 4181.52\n",
      "[3]\tvalid_0's rmse: 4041.21\n",
      "[4]\tvalid_0's rmse: 3909.36\n",
      "[5]\tvalid_0's rmse: 3787.12\n",
      "[6]\tvalid_0's rmse: 3672.07\n",
      "[7]\tvalid_0's rmse: 3563.89\n",
      "[8]\tvalid_0's rmse: 3463.86\n",
      "[9]\tvalid_0's rmse: 3369.57\n",
      "[10]\tvalid_0's rmse: 3282.52\n",
      "[11]\tvalid_0's rmse: 3204.94\n",
      "[12]\tvalid_0's rmse: 3128.63\n",
      "[13]\tvalid_0's rmse: 3056.47\n",
      "[14]\tvalid_0's rmse: 2994.72\n",
      "[15]\tvalid_0's rmse: 2931.22\n",
      "[16]\tvalid_0's rmse: 2871.3\n",
      "[17]\tvalid_0's rmse: 2816.15\n",
      "[18]\tvalid_0's rmse: 2763.91\n",
      "[19]\tvalid_0's rmse: 2715.73\n",
      "[20]\tvalid_0's rmse: 2671.2\n",
      "[21]\tvalid_0's rmse: 2627.03\n",
      "[22]\tvalid_0's rmse: 2587.8\n",
      "[23]\tvalid_0's rmse: 2549.02\n",
      "[24]\tvalid_0's rmse: 2512.97\n",
      "[25]\tvalid_0's rmse: 2480.14\n",
      "[26]\tvalid_0's rmse: 2448.25\n",
      "[27]\tvalid_0's rmse: 2419.71\n",
      "[28]\tvalid_0's rmse: 2392.15\n",
      "[29]\tvalid_0's rmse: 2366.06\n",
      "[30]\tvalid_0's rmse: 2342.66\n",
      "[31]\tvalid_0's rmse: 2318.82\n",
      "[32]\tvalid_0's rmse: 2300.71\n",
      "[33]\tvalid_0's rmse: 2279.48\n",
      "[34]\tvalid_0's rmse: 2258.29\n",
      "[35]\tvalid_0's rmse: 2238.58\n",
      "[36]\tvalid_0's rmse: 2221.21\n",
      "[37]\tvalid_0's rmse: 2205.49\n",
      "[38]\tvalid_0's rmse: 2188.45\n",
      "[39]\tvalid_0's rmse: 2172.59\n",
      "[40]\tvalid_0's rmse: 2157.05\n",
      "Did not meet early stopping. Best iteration is:\n",
      "[40]\tvalid_0's rmse: 2157.05\n",
      "CPU times: user 1min 45s, sys: 1.16 s, total: 1min 46s\n",
      "Wall time: 1min 47s\n"
     ]
    }
   ],
   "source": [
    "%%time\n",
    "one = lgb.train(params,\n",
    "                lgb_train,\n",
    "                num_boost_round=40,\n",
    "                valid_sets=lgb_eval,\n",
    "                early_stopping_rounds=5)"
   ]
  },
  {
   "cell_type": "code",
   "execution_count": 42,
   "metadata": {
    "scrolled": true
   },
   "outputs": [
    {
     "name": "stdout",
     "output_type": "stream",
     "text": [
      "RMSE: 2157.052360619978\n"
     ]
    }
   ],
   "source": [
    "target_pred = one.predict(features_valid_ohe, num_iteration=one.best_iteration)\n",
    "print('RMSE:', mean_squared_error(target_valid_ohe, target_pred) ** 0.5)"
   ]
  },
  {
   "cell_type": "markdown",
   "metadata": {},
   "source": [
    "Точность на обучении RMSE: 2157.05 Время обучения: 1min 47s  \n",
    "Точность предсказания RMSE: 2157.05 Время предсказания: 157 ms"
   ]
  },
  {
   "cell_type": "markdown",
   "metadata": {},
   "source": [
    "####  "
   ]
  },
  {
   "cell_type": "code",
   "execution_count": 43,
   "metadata": {},
   "outputs": [],
   "source": [
    "params = {\n",
    "    'boosting_type': 'gbdt',\n",
    "    'objective': 'regression',\n",
    "    'metric': {'rmse'},\n",
    "    'num_leaves': 100,\n",
    "    'learning_rate': 0.05,\n",
    "    'feature_fraction': 0.9,\n",
    "    'bagging_fraction': 0.8,\n",
    "    'bagging_freq': 5,\n",
    "    'verbose': 0,\n",
    "    'max_depth':20,\n",
    "    'min_data_in_leaf':100\n",
    "}"
   ]
  },
  {
   "cell_type": "code",
   "execution_count": 44,
   "metadata": {},
   "outputs": [
    {
     "name": "stdout",
     "output_type": "stream",
     "text": [
      "[LightGBM] [Warning] Auto-choosing col-wise multi-threading, the overhead of testing was 0.296913 seconds.\n",
      "You can set `force_col_wise=true` to remove the overhead.\n",
      "[1]\tvalid_0's rmse: 4322.5\n",
      "Training until validation scores don't improve for 5 rounds\n",
      "[2]\tvalid_0's rmse: 4164.21\n",
      "[3]\tvalid_0's rmse: 4015.74\n",
      "[4]\tvalid_0's rmse: 3876.39\n",
      "[5]\tvalid_0's rmse: 3745.43\n",
      "[6]\tvalid_0's rmse: 3623.16\n",
      "[7]\tvalid_0's rmse: 3508.28\n",
      "[8]\tvalid_0's rmse: 3400.39\n",
      "[9]\tvalid_0's rmse: 3299.6\n",
      "[10]\tvalid_0's rmse: 3205.67\n",
      "[11]\tvalid_0's rmse: 3121.32\n",
      "[12]\tvalid_0's rmse: 3038.53\n",
      "[13]\tvalid_0's rmse: 2960.44\n",
      "[14]\tvalid_0's rmse: 2894.2\n",
      "[15]\tvalid_0's rmse: 2825.27\n",
      "[16]\tvalid_0's rmse: 2761.37\n",
      "[17]\tvalid_0's rmse: 2702\n",
      "[18]\tvalid_0's rmse: 2645.21\n",
      "[19]\tvalid_0's rmse: 2593.71\n",
      "[20]\tvalid_0's rmse: 2544.43\n",
      "[21]\tvalid_0's rmse: 2499.18\n",
      "[22]\tvalid_0's rmse: 2456.68\n",
      "[23]\tvalid_0's rmse: 2415.99\n",
      "[24]\tvalid_0's rmse: 2379.64\n",
      "[25]\tvalid_0's rmse: 2344.28\n",
      "[26]\tvalid_0's rmse: 2311.48\n",
      "[27]\tvalid_0's rmse: 2281.49\n",
      "[28]\tvalid_0's rmse: 2252.99\n",
      "[29]\tvalid_0's rmse: 2225.51\n",
      "[30]\tvalid_0's rmse: 2201.12\n",
      "[31]\tvalid_0's rmse: 2177.84\n",
      "[32]\tvalid_0's rmse: 2159.85\n",
      "[33]\tvalid_0's rmse: 2137.93\n",
      "[34]\tvalid_0's rmse: 2118.13\n",
      "[35]\tvalid_0's rmse: 2098.89\n",
      "[36]\tvalid_0's rmse: 2082.43\n",
      "[37]\tvalid_0's rmse: 2067.57\n",
      "[38]\tvalid_0's rmse: 2051.61\n",
      "[39]\tvalid_0's rmse: 2037.12\n",
      "[40]\tvalid_0's rmse: 2022.97\n",
      "[41]\tvalid_0's rmse: 2011.08\n",
      "[42]\tvalid_0's rmse: 1998.78\n",
      "[43]\tvalid_0's rmse: 1986.69\n",
      "[44]\tvalid_0's rmse: 1976.57\n",
      "[45]\tvalid_0's rmse: 1967.06\n",
      "[46]\tvalid_0's rmse: 1957.75\n",
      "[47]\tvalid_0's rmse: 1949.06\n",
      "[48]\tvalid_0's rmse: 1940.45\n",
      "[49]\tvalid_0's rmse: 1932.82\n",
      "[50]\tvalid_0's rmse: 1925.27\n",
      "Did not meet early stopping. Best iteration is:\n",
      "[50]\tvalid_0's rmse: 1925.27\n",
      "CPU times: user 3min 27s, sys: 1.25 s, total: 3min 28s\n",
      "Wall time: 3min 30s\n"
     ]
    }
   ],
   "source": [
    "%%time\n",
    "two = lgb.train(params,\n",
    "                lgb_train,\n",
    "                num_boost_round=50,\n",
    "                valid_sets=lgb_eval,\n",
    "                early_stopping_rounds=5)"
   ]
  },
  {
   "cell_type": "code",
   "execution_count": 45,
   "metadata": {
    "scrolled": false
   },
   "outputs": [
    {
     "name": "stdout",
     "output_type": "stream",
     "text": [
      "RMSE: 1925.2712421205529\n",
      "CPU times: user 539 ms, sys: 103 ms, total: 643 ms\n",
      "Wall time: 611 ms\n"
     ]
    }
   ],
   "source": [
    "%%time\n",
    "target_pred = two.predict(features_valid_ohe, num_iteration=two.best_iteration)\n",
    "print('RMSE:', mean_squared_error(target_valid_ohe, target_pred) ** 0.5)"
   ]
  },
  {
   "cell_type": "markdown",
   "metadata": {},
   "source": [
    "При изменении параметров изменилась точность на обучении RMSE: 1930.86 (была 2165.85), время обучения: 59.3 s (было 764 ms)\n",
    "\n",
    "Так же изменилась точность предсказания RMSE: 1930.86 (была 2165.85) и время предсказания: 297 ms (было 157 ms)"
   ]
  },
  {
   "cell_type": "markdown",
   "metadata": {},
   "source": [
    "#### "
   ]
  },
  {
   "cell_type": "code",
   "execution_count": 46,
   "metadata": {},
   "outputs": [],
   "source": [
    "params = {\n",
    "    'boosting_type': 'gbdt',\n",
    "    'objective': 'regression',\n",
    "    'metric': {'rmse'},\n",
    "    'num_leaves': 100,\n",
    "    'learning_rate': 0.05,\n",
    "    'feature_fraction': 0.9,\n",
    "    'bagging_fraction': 0.8,\n",
    "    'bagging_freq': 5,\n",
    "    'verbose': 0,\n",
    "    'max_depth':100,\n",
    "    'min_data_in_leaf':100,\n",
    "    'num_iterations': 100\n",
    "    }"
   ]
  },
  {
   "cell_type": "code",
   "execution_count": 47,
   "metadata": {},
   "outputs": [
    {
     "name": "stdout",
     "output_type": "stream",
     "text": [
      "[LightGBM] [Warning] Auto-choosing row-wise multi-threading, the overhead of testing was 0.569531 seconds.\n",
      "You can set `force_row_wise=true` to remove the overhead.\n",
      "And if memory is not enough, you can set `force_col_wise=true`.\n",
      "[1]\tvalid_0's rmse: 4322.5\n",
      "Training until validation scores don't improve for 5 rounds\n",
      "[22]\tvalid_0's rmse: 2456.68\n",
      "[23]\tvalid_0's rmse: 2415.99\n",
      "[24]\tvalid_0's rmse: 2379.64\n",
      "[25]\tvalid_0's rmse: 2344.28\n",
      "[26]\tvalid_0's rmse: 2311.48\n",
      "[27]\tvalid_0's rmse: 2281.49\n",
      "[28]\tvalid_0's rmse: 2252.99\n",
      "[29]\tvalid_0's rmse: 2225.51\n",
      "[30]\tvalid_0's rmse: 2201.12\n",
      "[31]\tvalid_0's rmse: 2177.84\n",
      "[32]\tvalid_0's rmse: 2159.85\n",
      "[33]\tvalid_0's rmse: 2137.93\n",
      "[34]\tvalid_0's rmse: 2118.13\n",
      "[35]\tvalid_0's rmse: 2098.89\n",
      "[36]\tvalid_0's rmse: 2082.43\n",
      "[37]\tvalid_0's rmse: 2067.57\n",
      "[38]\tvalid_0's rmse: 2051.61\n",
      "[39]\tvalid_0's rmse: 2037.12\n",
      "[40]\tvalid_0's rmse: 2022.97\n",
      "[41]\tvalid_0's rmse: 2011.08\n",
      "[42]\tvalid_0's rmse: 1998.78\n",
      "[43]\tvalid_0's rmse: 1986.69\n",
      "[44]\tvalid_0's rmse: 1976.57\n",
      "[45]\tvalid_0's rmse: 1967.06\n",
      "[46]\tvalid_0's rmse: 1957.75\n",
      "[47]\tvalid_0's rmse: 1949.06\n",
      "[48]\tvalid_0's rmse: 1940.45\n",
      "[49]\tvalid_0's rmse: 1932.82\n",
      "[50]\tvalid_0's rmse: 1925.27\n",
      "[51]\tvalid_0's rmse: 1917.84\n",
      "[52]\tvalid_0's rmse: 1911.13\n",
      "[53]\tvalid_0's rmse: 1904.97\n",
      "[54]\tvalid_0's rmse: 1898.78\n",
      "[55]\tvalid_0's rmse: 1892.92\n",
      "[56]\tvalid_0's rmse: 1887.35\n",
      "[57]\tvalid_0's rmse: 1881.99\n",
      "[58]\tvalid_0's rmse: 1877.28\n",
      "[59]\tvalid_0's rmse: 1872.8\n",
      "[60]\tvalid_0's rmse: 1868.03\n",
      "[61]\tvalid_0's rmse: 1863.12\n",
      "[62]\tvalid_0's rmse: 1858.63\n",
      "[63]\tvalid_0's rmse: 1853.46\n",
      "[64]\tvalid_0's rmse: 1848.99\n",
      "[65]\tvalid_0's rmse: 1845.13\n",
      "[66]\tvalid_0's rmse: 1840.99\n",
      "[67]\tvalid_0's rmse: 1837.7\n",
      "[68]\tvalid_0's rmse: 1834.03\n",
      "[69]\tvalid_0's rmse: 1830.88\n",
      "[70]\tvalid_0's rmse: 1827.69\n",
      "[71]\tvalid_0's rmse: 1824.64\n",
      "[72]\tvalid_0's rmse: 1821.59\n",
      "[73]\tvalid_0's rmse: 1818.95\n",
      "[74]\tvalid_0's rmse: 1815.85\n",
      "[75]\tvalid_0's rmse: 1813.41\n",
      "[76]\tvalid_0's rmse: 1810.88\n",
      "[77]\tvalid_0's rmse: 1808.43\n",
      "[78]\tvalid_0's rmse: 1805.76\n",
      "[79]\tvalid_0's rmse: 1803.47\n",
      "[80]\tvalid_0's rmse: 1801.38\n",
      "[81]\tvalid_0's rmse: 1799.67\n",
      "[82]\tvalid_0's rmse: 1797.75\n",
      "[83]\tvalid_0's rmse: 1795.81\n",
      "[84]\tvalid_0's rmse: 1794.08\n",
      "[85]\tvalid_0's rmse: 1792.55\n",
      "[86]\tvalid_0's rmse: 1790.53\n",
      "[87]\tvalid_0's rmse: 1788.84\n",
      "[88]\tvalid_0's rmse: 1786.94\n",
      "[89]\tvalid_0's rmse: 1785.26\n",
      "[90]\tvalid_0's rmse: 1783.55\n",
      "[91]\tvalid_0's rmse: 1781.88\n",
      "[92]\tvalid_0's rmse: 1779.82\n",
      "[93]\tvalid_0's rmse: 1778.42\n",
      "[94]\tvalid_0's rmse: 1776.77\n",
      "[95]\tvalid_0's rmse: 1774.83\n",
      "[96]\tvalid_0's rmse: 1773.6\n",
      "[97]\tvalid_0's rmse: 1772.25\n",
      "[98]\tvalid_0's rmse: 1770.93\n",
      "[99]\tvalid_0's rmse: 1769.78\n",
      "[100]\tvalid_0's rmse: 1768.61\n",
      "Did not meet early stopping. Best iteration is:\n",
      "[100]\tvalid_0's rmse: 1768.61\n",
      "CPU times: user 6min 1s, sys: 2.1 s, total: 6min 3s\n",
      "Wall time: 6min 6s\n"
     ]
    }
   ],
   "source": [
    "%%time\n",
    "three = lgb.train(params,\n",
    "                lgb_train,\n",
    "                num_boost_round=40,\n",
    "                valid_sets=lgb_eval,\n",
    "                early_stopping_rounds=5)"
   ]
  },
  {
   "cell_type": "code",
   "execution_count": 48,
   "metadata": {
    "scrolled": true
   },
   "outputs": [
    {
     "name": "stdout",
     "output_type": "stream",
     "text": [
      "RMSE: 1925.2712421205529\n",
      "CPU times: user 580 ms, sys: 91.1 ms, total: 671 ms\n",
      "Wall time: 699 ms\n"
     ]
    }
   ],
   "source": [
    "%%time\n",
    "target_pred = three.predict(features_valid_ohe, num_iteration=two.best_iteration)\n",
    "print('RMSE:', mean_squared_error(target_valid_ohe, target_pred) ** 0.5)"
   ]
  },
  {
   "cell_type": "markdown",
   "metadata": {},
   "source": [
    "Точность на обучении RMSE: 1774.71 Время обучения: 1min 17s   \n",
    "Точность предсказания RMSE: 1774.71 Время предсказания: 301 ms  "
   ]
  },
  {
   "cell_type": "markdown",
   "metadata": {},
   "source": [
    "### CatBoost"
   ]
  },
  {
   "cell_type": "markdown",
   "metadata": {},
   "source": [
    "####   "
   ]
  },
  {
   "cell_type": "code",
   "execution_count": 49,
   "metadata": {},
   "outputs": [],
   "source": [
    "params = {'iterations':500, \n",
    "          'eval_metric':'RMSE', \n",
    "          'verbose': 10,\n",
    "          'random_seed': 72\n",
    "         }"
   ]
  },
  {
   "cell_type": "code",
   "execution_count": 50,
   "metadata": {},
   "outputs": [],
   "source": [
    "cat_one = CatBoostRegressor(**params)"
   ]
  },
  {
   "cell_type": "code",
   "execution_count": 51,
   "metadata": {
    "scrolled": true
   },
   "outputs": [
    {
     "name": "stdout",
     "output_type": "stream",
     "text": [
      "Learning rate set to 0.179745\n",
      "0:\tlearn: 3980.4689836\ttest: 3979.7926029\tbest: 3979.7926029 (0)\ttotal: 84.2ms\tremaining: 42s\n",
      "10:\tlearn: 2271.2834055\ttest: 2285.9807992\tbest: 2285.9807992 (10)\ttotal: 386ms\tremaining: 17.1s\n",
      "20:\tlearn: 2047.9337897\ttest: 2066.0169836\tbest: 2066.0169836 (20)\ttotal: 650ms\tremaining: 14.8s\n",
      "30:\tlearn: 1969.2085532\ttest: 1985.7905224\tbest: 1985.7905224 (30)\ttotal: 912ms\tremaining: 13.8s\n",
      "40:\tlearn: 1930.1705925\ttest: 1948.4725156\tbest: 1948.4725156 (40)\ttotal: 1.18s\tremaining: 13.2s\n",
      "50:\tlearn: 1889.9546639\ttest: 1909.7817244\tbest: 1909.7817244 (50)\ttotal: 1.45s\tremaining: 12.7s\n",
      "60:\tlearn: 1865.4899842\ttest: 1885.9592968\tbest: 1885.9592968 (60)\ttotal: 1.7s\tremaining: 12.2s\n",
      "70:\tlearn: 1846.1823183\ttest: 1868.7060518\tbest: 1868.7060518 (70)\ttotal: 1.96s\tremaining: 11.8s\n",
      "80:\tlearn: 1829.2369247\ttest: 1853.7868658\tbest: 1853.7868658 (80)\ttotal: 2.22s\tremaining: 11.5s\n",
      "90:\tlearn: 1815.4029642\ttest: 1840.7295463\tbest: 1840.7295463 (90)\ttotal: 2.47s\tremaining: 11.1s\n",
      "100:\tlearn: 1803.1064517\ttest: 1829.8256215\tbest: 1829.8256215 (100)\ttotal: 2.73s\tremaining: 10.8s\n",
      "110:\tlearn: 1791.8368721\ttest: 1819.7034302\tbest: 1819.7034302 (110)\ttotal: 3.01s\tremaining: 10.6s\n",
      "120:\tlearn: 1781.9395593\ttest: 1811.5747444\tbest: 1811.5747444 (120)\ttotal: 3.29s\tremaining: 10.3s\n",
      "130:\tlearn: 1774.0322892\ttest: 1804.9645384\tbest: 1804.9645384 (130)\ttotal: 3.56s\tremaining: 10s\n",
      "140:\tlearn: 1764.5279489\ttest: 1796.2011085\tbest: 1796.2011085 (140)\ttotal: 3.82s\tremaining: 9.74s\n",
      "150:\tlearn: 1757.3344803\ttest: 1789.5112958\tbest: 1789.5112958 (150)\ttotal: 4.08s\tremaining: 9.43s\n",
      "160:\tlearn: 1750.7031540\ttest: 1783.5480450\tbest: 1783.5480450 (160)\ttotal: 4.35s\tremaining: 9.16s\n",
      "170:\tlearn: 1744.7621128\ttest: 1779.1332244\tbest: 1779.1332244 (170)\ttotal: 4.61s\tremaining: 8.87s\n",
      "180:\tlearn: 1738.6193940\ttest: 1774.3966289\tbest: 1774.3966289 (180)\ttotal: 4.87s\tremaining: 8.59s\n",
      "190:\tlearn: 1732.7898232\ttest: 1769.9278874\tbest: 1769.9278874 (190)\ttotal: 5.14s\tremaining: 8.31s\n",
      "200:\tlearn: 1725.5458695\ttest: 1764.2462178\tbest: 1764.2462178 (200)\ttotal: 5.4s\tremaining: 8.03s\n",
      "210:\tlearn: 1720.1933841\ttest: 1759.8919843\tbest: 1759.8919843 (210)\ttotal: 5.67s\tremaining: 7.77s\n",
      "220:\tlearn: 1714.8988623\ttest: 1756.1627028\tbest: 1756.1627028 (220)\ttotal: 5.94s\tremaining: 7.5s\n",
      "230:\tlearn: 1710.8621235\ttest: 1753.3176072\tbest: 1753.3176072 (230)\ttotal: 6.2s\tremaining: 7.22s\n",
      "240:\tlearn: 1706.7597935\ttest: 1749.9943447\tbest: 1749.9943447 (240)\ttotal: 6.46s\tremaining: 6.94s\n",
      "250:\tlearn: 1702.9340025\ttest: 1747.4951847\tbest: 1747.4951847 (250)\ttotal: 6.73s\tremaining: 6.67s\n",
      "260:\tlearn: 1699.0937372\ttest: 1744.7848615\tbest: 1744.7848615 (260)\ttotal: 6.98s\tremaining: 6.39s\n",
      "270:\tlearn: 1695.1047331\ttest: 1741.7028441\tbest: 1741.7028441 (270)\ttotal: 7.27s\tremaining: 6.14s\n",
      "280:\tlearn: 1691.3150225\ttest: 1739.3755203\tbest: 1739.3755203 (280)\ttotal: 7.54s\tremaining: 5.87s\n",
      "290:\tlearn: 1687.1185805\ttest: 1736.2017496\tbest: 1736.2017496 (290)\ttotal: 7.79s\tremaining: 5.59s\n",
      "300:\tlearn: 1683.7564585\ttest: 1734.0075898\tbest: 1734.0075898 (300)\ttotal: 8.05s\tremaining: 5.32s\n",
      "310:\tlearn: 1679.2234525\ttest: 1730.4844289\tbest: 1730.4844289 (310)\ttotal: 8.33s\tremaining: 5.06s\n",
      "320:\tlearn: 1675.7503621\ttest: 1728.0544931\tbest: 1728.0544931 (320)\ttotal: 8.59s\tremaining: 4.79s\n",
      "330:\tlearn: 1673.0482776\ttest: 1726.3269750\tbest: 1726.3269750 (330)\ttotal: 8.83s\tremaining: 4.51s\n",
      "340:\tlearn: 1670.2236458\ttest: 1724.0768448\tbest: 1724.0768448 (340)\ttotal: 9.1s\tremaining: 4.24s\n",
      "350:\tlearn: 1666.8211442\ttest: 1722.3337109\tbest: 1722.3337109 (350)\ttotal: 9.37s\tremaining: 3.98s\n",
      "360:\tlearn: 1663.6135929\ttest: 1720.1589734\tbest: 1720.1589734 (360)\ttotal: 9.64s\tremaining: 3.71s\n",
      "370:\tlearn: 1660.8712815\ttest: 1718.7859937\tbest: 1718.7859937 (370)\ttotal: 9.91s\tremaining: 3.44s\n",
      "380:\tlearn: 1657.8794910\ttest: 1716.9209078\tbest: 1716.9209078 (380)\ttotal: 10.2s\tremaining: 3.18s\n",
      "390:\tlearn: 1655.2053263\ttest: 1715.8580141\tbest: 1715.8580141 (390)\ttotal: 10.4s\tremaining: 2.91s\n",
      "400:\tlearn: 1651.8583845\ttest: 1713.7410849\tbest: 1713.7410849 (400)\ttotal: 10.7s\tremaining: 2.65s\n",
      "410:\tlearn: 1649.3928335\ttest: 1712.2755287\tbest: 1712.2755287 (410)\ttotal: 11s\tremaining: 2.38s\n",
      "420:\tlearn: 1646.5007516\ttest: 1710.4980759\tbest: 1710.4980759 (420)\ttotal: 11.3s\tremaining: 2.11s\n",
      "430:\tlearn: 1644.1754588\ttest: 1708.9387293\tbest: 1708.9387293 (430)\ttotal: 11.5s\tremaining: 1.84s\n",
      "440:\tlearn: 1641.9416935\ttest: 1707.7750551\tbest: 1707.7750551 (440)\ttotal: 11.8s\tremaining: 1.57s\n",
      "450:\tlearn: 1639.2278650\ttest: 1705.7516815\tbest: 1705.7516815 (450)\ttotal: 12s\tremaining: 1.31s\n",
      "460:\tlearn: 1636.7487087\ttest: 1704.6355120\tbest: 1704.6355120 (460)\ttotal: 12.3s\tremaining: 1.04s\n",
      "470:\tlearn: 1634.7926682\ttest: 1703.2282676\tbest: 1703.2282676 (470)\ttotal: 12.6s\tremaining: 774ms\n",
      "480:\tlearn: 1631.9583088\ttest: 1701.9212813\tbest: 1701.9212813 (480)\ttotal: 12.8s\tremaining: 507ms\n",
      "490:\tlearn: 1629.4308094\ttest: 1700.6716945\tbest: 1700.6716945 (490)\ttotal: 13.1s\tremaining: 241ms\n",
      "499:\tlearn: 1627.4378662\ttest: 1699.5592670\tbest: 1699.5592670 (499)\ttotal: 13.4s\tremaining: 0us\n",
      "\n",
      "bestTest = 1699.559267\n",
      "bestIteration = 499\n",
      "\n",
      "CPU times: user 15 s, sys: 104 ms, total: 15.1 s\n",
      "Wall time: 16.1 s\n"
     ]
    },
    {
     "data": {
      "text/plain": [
       "<catboost.core.CatBoostRegressor at 0x7fe69ecf2af0>"
      ]
     },
     "execution_count": 51,
     "metadata": {},
     "output_type": "execute_result"
    }
   ],
   "source": [
    "%%time\n",
    "cat_one.fit(features_train_ohe, target_train_ohe, eval_set=(features_valid_ohe, target_valid_ohe))"
   ]
  },
  {
   "cell_type": "code",
   "execution_count": 52,
   "metadata": {},
   "outputs": [
    {
     "name": "stdout",
     "output_type": "stream",
     "text": [
      "RMSE: 1699.5592670128256\n",
      "CPU times: user 89.7 ms, sys: 8.29 ms, total: 98 ms\n",
      "Wall time: 95.5 ms\n"
     ]
    }
   ],
   "source": [
    "%%time\n",
    "target_pred = cat_one.predict(features_valid_ohe)\n",
    "print('RMSE:', mean_squared_error(target_valid_ohe, target_pred) ** 0.5)"
   ]
  },
  {
   "cell_type": "markdown",
   "metadata": {},
   "source": [
    "Точность на обучении RMSE: 1699.55 Время обучения: 16.3 s  \n",
    "\n",
    "Точность предсказания RMSE: 1699.55 Время предсказания: 36.4 ms"
   ]
  },
  {
   "cell_type": "markdown",
   "metadata": {},
   "source": [
    "####   "
   ]
  },
  {
   "cell_type": "code",
   "execution_count": 53,
   "metadata": {},
   "outputs": [],
   "source": [
    "params = {'iterations':300, \n",
    "          'learning_rate': 0.05,\n",
    "          'eval_metric':'RMSE', \n",
    "          'use_best_model': True,\n",
    "          'verbose': 10,\n",
    "          'random_seed': 45\n",
    "         }"
   ]
  },
  {
   "cell_type": "code",
   "execution_count": 54,
   "metadata": {},
   "outputs": [],
   "source": [
    "cat_two = CatBoostRegressor(**params)"
   ]
  },
  {
   "cell_type": "code",
   "execution_count": 55,
   "metadata": {
    "scrolled": true
   },
   "outputs": [
    {
     "name": "stdout",
     "output_type": "stream",
     "text": [
      "0:\tlearn: 4348.9259497\ttest: 4344.2630681\tbest: 4344.2630681 (0)\ttotal: 33.2ms\tremaining: 9.92s\n",
      "10:\tlearn: 3288.6250192\ttest: 3292.2397689\tbest: 3292.2397689 (10)\ttotal: 322ms\tremaining: 8.46s\n",
      "20:\tlearn: 2736.0553268\ttest: 2745.3058078\tbest: 2745.3058078 (20)\ttotal: 614ms\tremaining: 8.16s\n",
      "30:\tlearn: 2440.0109672\ttest: 2453.0431469\tbest: 2453.0431469 (30)\ttotal: 906ms\tremaining: 7.86s\n",
      "40:\tlearn: 2283.3666739\ttest: 2299.3734435\tbest: 2299.3734435 (40)\ttotal: 1.19s\tremaining: 7.52s\n",
      "50:\tlearn: 2180.2950049\ttest: 2197.6477008\tbest: 2197.6477008 (50)\ttotal: 1.49s\tremaining: 7.27s\n",
      "60:\tlearn: 2112.3747561\ttest: 2131.3939352\tbest: 2131.3939352 (60)\ttotal: 1.77s\tremaining: 6.95s\n",
      "70:\tlearn: 2065.4141745\ttest: 2084.4741815\tbest: 2084.4741815 (70)\ttotal: 2.04s\tremaining: 6.59s\n",
      "80:\tlearn: 2032.8033590\ttest: 2052.2556080\tbest: 2052.2556080 (80)\ttotal: 2.32s\tremaining: 6.28s\n",
      "90:\tlearn: 2005.7824908\ttest: 2025.1241978\tbest: 2025.1241978 (90)\ttotal: 2.6s\tremaining: 5.96s\n",
      "100:\tlearn: 1986.4725805\ttest: 2005.7323020\tbest: 2005.7323020 (100)\ttotal: 2.87s\tremaining: 5.65s\n",
      "110:\tlearn: 1968.7695604\ttest: 1987.9546470\tbest: 1987.9546470 (110)\ttotal: 3.13s\tremaining: 5.33s\n",
      "120:\tlearn: 1953.4581406\ttest: 1973.2537235\tbest: 1973.2537235 (120)\ttotal: 3.41s\tremaining: 5.04s\n",
      "130:\tlearn: 1939.3514182\ttest: 1959.6486357\tbest: 1959.6486357 (130)\ttotal: 3.68s\tremaining: 4.75s\n",
      "140:\tlearn: 1928.8442902\ttest: 1949.0920892\tbest: 1949.0920892 (140)\ttotal: 3.94s\tremaining: 4.45s\n",
      "150:\tlearn: 1918.2525764\ttest: 1938.7668499\tbest: 1938.7668499 (150)\ttotal: 4.21s\tremaining: 4.16s\n",
      "160:\tlearn: 1908.3994631\ttest: 1929.8655954\tbest: 1929.8655954 (160)\ttotal: 4.49s\tremaining: 3.88s\n",
      "170:\tlearn: 1901.3534017\ttest: 1922.8930933\tbest: 1922.8930933 (170)\ttotal: 4.74s\tremaining: 3.58s\n",
      "180:\tlearn: 1892.6405027\ttest: 1914.6251841\tbest: 1914.6251841 (180)\ttotal: 5s\tremaining: 3.29s\n",
      "190:\tlearn: 1885.1404823\ttest: 1907.2443213\tbest: 1907.2443213 (190)\ttotal: 5.27s\tremaining: 3.01s\n",
      "200:\tlearn: 1878.2352080\ttest: 1900.7185612\tbest: 1900.7185612 (200)\ttotal: 5.54s\tremaining: 2.73s\n",
      "210:\tlearn: 1871.3356885\ttest: 1894.4128439\tbest: 1894.4128439 (210)\ttotal: 5.8s\tremaining: 2.45s\n",
      "220:\tlearn: 1866.2017331\ttest: 1889.5060241\tbest: 1889.5060241 (220)\ttotal: 6.06s\tremaining: 2.17s\n",
      "230:\tlearn: 1859.2357368\ttest: 1882.8773907\tbest: 1882.8773907 (230)\ttotal: 6.32s\tremaining: 1.89s\n",
      "240:\tlearn: 1854.2439826\ttest: 1878.3226655\tbest: 1878.3226655 (240)\ttotal: 6.59s\tremaining: 1.61s\n",
      "250:\tlearn: 1848.6243697\ttest: 1873.0003002\tbest: 1873.0003002 (250)\ttotal: 6.87s\tremaining: 1.34s\n",
      "260:\tlearn: 1843.8923238\ttest: 1868.7690319\tbest: 1868.7690319 (260)\ttotal: 7.15s\tremaining: 1.07s\n",
      "270:\tlearn: 1838.9560411\ttest: 1864.2837012\tbest: 1864.2837012 (270)\ttotal: 7.42s\tremaining: 794ms\n",
      "280:\tlearn: 1834.1205128\ttest: 1859.9810635\tbest: 1859.9810635 (280)\ttotal: 7.69s\tremaining: 520ms\n",
      "290:\tlearn: 1830.1172799\ttest: 1856.3566556\tbest: 1856.3566556 (290)\ttotal: 7.95s\tremaining: 246ms\n",
      "299:\tlearn: 1826.3268688\ttest: 1853.0638710\tbest: 1853.0638710 (299)\ttotal: 8.21s\tremaining: 0us\n",
      "\n",
      "bestTest = 1853.063871\n",
      "bestIteration = 299\n",
      "\n",
      "CPU times: user 9.79 s, sys: 56 ms, total: 9.84 s\n",
      "Wall time: 10.6 s\n"
     ]
    },
    {
     "data": {
      "text/plain": [
       "<catboost.core.CatBoostRegressor at 0x7fe69ecf2850>"
      ]
     },
     "execution_count": 55,
     "metadata": {},
     "output_type": "execute_result"
    }
   ],
   "source": [
    "%%time\n",
    "cat_two.fit(features_train_ohe, target_train_ohe, eval_set=(features_valid_ohe, target_valid_ohe))"
   ]
  },
  {
   "cell_type": "code",
   "execution_count": 56,
   "metadata": {
    "scrolled": true
   },
   "outputs": [
    {
     "name": "stdout",
     "output_type": "stream",
     "text": [
      "RMSE: 1853.063870999742\n",
      "CPU times: user 44.7 ms, sys: 0 ns, total: 44.7 ms\n",
      "Wall time: 42.7 ms\n"
     ]
    }
   ],
   "source": [
    "%%time\n",
    "target_pred = cat_two.predict(features_valid_ohe)\n",
    "print('RMSE:', mean_squared_error(target_valid_ohe, target_pred) ** 0.5)"
   ]
  },
  {
   "cell_type": "markdown",
   "metadata": {},
   "source": [
    "Точность на обучении RMSE: 1852.86 Время обучения: 9.25 s  \n",
    "\n",
    "Точность предсказания RMSE: 1852.86 Время предсказания: 24.3 ms"
   ]
  },
  {
   "cell_type": "markdown",
   "metadata": {},
   "source": [
    "####  "
   ]
  },
  {
   "cell_type": "code",
   "execution_count": 57,
   "metadata": {},
   "outputs": [],
   "source": [
    "params = {'iterations':700, \n",
    "          'learning_rate': 0.02,\n",
    "          'eval_metric':'RMSE', \n",
    "          'use_best_model': True,\n",
    "          'verbose': 50,\n",
    "          'bagging_temperature': 0.2,\n",
    "          'depth':12,\n",
    "          'od_type':'Iter',\n",
    "          'od_wait':100,\n",
    "          'random_seed': 45\n",
    "         }"
   ]
  },
  {
   "cell_type": "code",
   "execution_count": 58,
   "metadata": {},
   "outputs": [],
   "source": [
    "cat_three = CatBoostRegressor(**params)"
   ]
  },
  {
   "cell_type": "code",
   "execution_count": 59,
   "metadata": {
    "scrolled": true
   },
   "outputs": [
    {
     "name": "stdout",
     "output_type": "stream",
     "text": [
      "0:\tlearn: 4429.6507072\ttest: 4424.5770376\tbest: 4424.5770376 (0)\ttotal: 118ms\tremaining: 1m 22s\n",
      "50:\tlearn: 2572.8994237\ttest: 2590.8176860\tbest: 2590.8176860 (50)\ttotal: 5.12s\tremaining: 1m 5s\n",
      "100:\tlearn: 2050.1737279\ttest: 2082.1900903\tbest: 2082.1900903 (100)\ttotal: 10.2s\tremaining: 1m\n",
      "150:\tlearn: 1890.2621076\ttest: 1930.2909931\tbest: 1930.2909931 (150)\ttotal: 15.3s\tremaining: 55.6s\n",
      "200:\tlearn: 1825.5221868\ttest: 1869.9343189\tbest: 1869.9343189 (200)\ttotal: 20.4s\tremaining: 50.6s\n",
      "250:\tlearn: 1791.5126422\ttest: 1838.9526822\tbest: 1838.9526822 (250)\ttotal: 25.4s\tremaining: 45.5s\n",
      "300:\tlearn: 1766.5516862\ttest: 1816.7079612\tbest: 1816.7079612 (300)\ttotal: 30.5s\tremaining: 40.4s\n",
      "350:\tlearn: 1745.8021729\ttest: 1799.1164934\tbest: 1799.1164934 (350)\ttotal: 35.5s\tremaining: 35.3s\n",
      "400:\tlearn: 1728.8800408\ttest: 1785.1655319\tbest: 1785.1655319 (400)\ttotal: 40.5s\tremaining: 30.2s\n",
      "450:\tlearn: 1714.1431305\ttest: 1773.5942622\tbest: 1773.5942622 (450)\ttotal: 45.5s\tremaining: 25.1s\n",
      "500:\tlearn: 1700.6512447\ttest: 1763.5680371\tbest: 1763.5680371 (500)\ttotal: 50.6s\tremaining: 20.1s\n",
      "550:\tlearn: 1688.4473179\ttest: 1754.5879419\tbest: 1754.5879419 (550)\ttotal: 55.6s\tremaining: 15s\n",
      "600:\tlearn: 1677.3258047\ttest: 1746.6947214\tbest: 1746.6947214 (600)\ttotal: 1m\tremaining: 10s\n",
      "650:\tlearn: 1667.2380390\ttest: 1739.3052964\tbest: 1739.3052964 (650)\ttotal: 1m 5s\tremaining: 4.96s\n",
      "699:\tlearn: 1657.8213624\ttest: 1732.6927961\tbest: 1732.6927961 (699)\ttotal: 1m 11s\tremaining: 0us\n",
      "\n",
      "bestTest = 1732.692796\n",
      "bestIteration = 699\n",
      "\n",
      "CPU times: user 1min 12s, sys: 279 ms, total: 1min 13s\n",
      "Wall time: 1min 14s\n"
     ]
    },
    {
     "data": {
      "text/plain": [
       "<catboost.core.CatBoostRegressor at 0x7fe69b975ee0>"
      ]
     },
     "execution_count": 59,
     "metadata": {},
     "output_type": "execute_result"
    }
   ],
   "source": [
    "%%time\n",
    "cat_three.fit(features_train_ohe, target_train_ohe, eval_set=(features_valid_ohe, target_valid_ohe))"
   ]
  },
  {
   "cell_type": "code",
   "execution_count": 60,
   "metadata": {},
   "outputs": [
    {
     "name": "stdout",
     "output_type": "stream",
     "text": [
      "RMSE: 1732.6927961011008\n",
      "CPU times: user 306 ms, sys: 3.83 ms, total: 309 ms\n",
      "Wall time: 314 ms\n"
     ]
    }
   ],
   "source": [
    "%%time\n",
    "target_pred = cat_three.predict(features_valid_ohe)\n",
    "print('RMSE:', mean_squared_error(target_valid_ohe, target_pred) ** 0.5)"
   ]
  },
  {
   "cell_type": "markdown",
   "metadata": {},
   "source": [
    "Точность на обучении RMSE: 1720.98 Время обучения: 1min 1s \n",
    "\n",
    "Точность предсказания RMSE: 1720.98 Время предсказания: 296 ms"
   ]
  },
  {
   "cell_type": "code",
   "execution_count": 61,
   "metadata": {},
   "outputs": [],
   "source": [
    "cat_features=[\"vehicle_type\", \"gearbox\", \"model\", \"fuel_type\", \"brand\", \"not_repaired\"]"
   ]
  },
  {
   "cell_type": "code",
   "execution_count": 62,
   "metadata": {
    "scrolled": true
   },
   "outputs": [],
   "source": [
    "cb = CatBoostRegressor()\n",
    "\n",
    "cb_parametrs = {\"iterations\": [100],\n",
    "                \"depth\": range(8, 16, 2),\n",
    "                \"learning_rate\" : [0.15]\n",
    "             }\n"
   ]
  },
  {
   "cell_type": "code",
   "execution_count": 63,
   "metadata": {},
   "outputs": [
    {
     "name": "stdout",
     "output_type": "stream",
     "text": [
      "0:\tlearn: 4039.3838136\ttotal: 91.2ms\tremaining: 9.03s\n",
      "10:\tlearn: 2252.7166434\ttotal: 757ms\tremaining: 6.13s\n",
      "20:\tlearn: 1953.2974439\ttotal: 1.38s\tremaining: 5.17s\n",
      "30:\tlearn: 1875.9203677\ttotal: 2.01s\tremaining: 4.48s\n",
      "40:\tlearn: 1834.4653976\ttotal: 2.64s\tremaining: 3.8s\n",
      "50:\tlearn: 1803.5640456\ttotal: 3.26s\tremaining: 3.14s\n",
      "60:\tlearn: 1779.2215237\ttotal: 3.9s\tremaining: 2.5s\n",
      "70:\tlearn: 1761.0743712\ttotal: 4.55s\tremaining: 1.86s\n",
      "80:\tlearn: 1743.4538961\ttotal: 5.18s\tremaining: 1.22s\n",
      "90:\tlearn: 1730.1143039\ttotal: 5.83s\tremaining: 577ms\n",
      "99:\tlearn: 1718.6941408\ttotal: 6.42s\tremaining: 0us\n",
      "0:\tlearn: 4031.4726438\ttotal: 87.2ms\tremaining: 8.63s\n",
      "10:\tlearn: 2239.8013137\ttotal: 760ms\tremaining: 6.15s\n",
      "20:\tlearn: 1943.9097075\ttotal: 1.42s\tremaining: 5.33s\n",
      "30:\tlearn: 1872.0713208\ttotal: 2.05s\tremaining: 4.56s\n",
      "40:\tlearn: 1829.4184969\ttotal: 2.69s\tremaining: 3.87s\n",
      "50:\tlearn: 1801.3110018\ttotal: 3.32s\tremaining: 3.19s\n",
      "60:\tlearn: 1778.4415499\ttotal: 3.94s\tremaining: 2.52s\n",
      "70:\tlearn: 1760.4378771\ttotal: 4.58s\tremaining: 1.87s\n",
      "80:\tlearn: 1743.0494310\ttotal: 5.19s\tremaining: 1.22s\n",
      "90:\tlearn: 1729.7356116\ttotal: 5.86s\tremaining: 579ms\n",
      "99:\tlearn: 1719.4310673\ttotal: 6.44s\tremaining: 0us\n",
      "0:\tlearn: 4052.4240784\ttotal: 101ms\tremaining: 9.97s\n",
      "10:\tlearn: 2240.4611383\ttotal: 790ms\tremaining: 6.39s\n",
      "20:\tlearn: 1945.1050316\ttotal: 1.41s\tremaining: 5.3s\n",
      "30:\tlearn: 1869.1666220\ttotal: 2.06s\tremaining: 4.59s\n",
      "40:\tlearn: 1829.0105669\ttotal: 2.73s\tremaining: 3.94s\n",
      "50:\tlearn: 1801.5282859\ttotal: 3.39s\tremaining: 3.25s\n",
      "60:\tlearn: 1779.9284652\ttotal: 3.97s\tremaining: 2.54s\n",
      "70:\tlearn: 1762.0294302\ttotal: 4.62s\tremaining: 1.89s\n",
      "80:\tlearn: 1745.8136431\ttotal: 5.27s\tremaining: 1.24s\n",
      "90:\tlearn: 1738.1208488\ttotal: 5.78s\tremaining: 571ms\n",
      "99:\tlearn: 1728.4403390\ttotal: 6.3s\tremaining: 0us\n",
      "0:\tlearn: 4025.6402420\ttotal: 90.7ms\tremaining: 8.98s\n",
      "10:\tlearn: 2197.6695894\ttotal: 907ms\tremaining: 7.34s\n",
      "20:\tlearn: 1882.9528664\ttotal: 1.75s\tremaining: 6.57s\n",
      "30:\tlearn: 1805.5878135\ttotal: 2.59s\tremaining: 5.76s\n",
      "40:\tlearn: 1759.9544766\ttotal: 3.41s\tremaining: 4.91s\n",
      "50:\tlearn: 1727.9044250\ttotal: 4.23s\tremaining: 4.06s\n",
      "60:\tlearn: 1700.2098273\ttotal: 5.04s\tremaining: 3.22s\n",
      "70:\tlearn: 1675.5534938\ttotal: 5.87s\tremaining: 2.4s\n",
      "80:\tlearn: 1656.6801974\ttotal: 6.7s\tremaining: 1.57s\n",
      "90:\tlearn: 1640.0610304\ttotal: 7.52s\tremaining: 744ms\n",
      "99:\tlearn: 1625.9957040\ttotal: 8.26s\tremaining: 0us\n",
      "0:\tlearn: 4017.5441942\ttotal: 96.9ms\tremaining: 9.59s\n",
      "10:\tlearn: 2187.9961165\ttotal: 937ms\tremaining: 7.58s\n",
      "20:\tlearn: 1880.1462214\ttotal: 1.74s\tremaining: 6.56s\n",
      "30:\tlearn: 1806.3818305\ttotal: 2.57s\tremaining: 5.72s\n",
      "40:\tlearn: 1763.3749244\ttotal: 3.42s\tremaining: 4.92s\n",
      "50:\tlearn: 1735.2888077\ttotal: 4.25s\tremaining: 4.09s\n",
      "60:\tlearn: 1704.7847673\ttotal: 5.09s\tremaining: 3.25s\n",
      "70:\tlearn: 1678.9266607\ttotal: 5.92s\tremaining: 2.42s\n",
      "80:\tlearn: 1658.6896376\ttotal: 6.78s\tremaining: 1.59s\n",
      "90:\tlearn: 1637.2170772\ttotal: 7.62s\tremaining: 754ms\n",
      "99:\tlearn: 1622.3907000\ttotal: 8.36s\tremaining: 0us\n",
      "0:\tlearn: 4037.3144796\ttotal: 83ms\tremaining: 8.22s\n",
      "10:\tlearn: 2194.2642245\ttotal: 918ms\tremaining: 7.43s\n",
      "20:\tlearn: 1879.6666697\ttotal: 1.72s\tremaining: 6.48s\n",
      "30:\tlearn: 1802.0457380\ttotal: 2.56s\tremaining: 5.69s\n",
      "40:\tlearn: 1757.9987765\ttotal: 3.4s\tremaining: 4.89s\n",
      "50:\tlearn: 1731.1665276\ttotal: 4.17s\tremaining: 4s\n",
      "60:\tlearn: 1709.4035288\ttotal: 4.97s\tremaining: 3.18s\n",
      "70:\tlearn: 1690.7061528\ttotal: 5.8s\tremaining: 2.37s\n",
      "80:\tlearn: 1673.4361383\ttotal: 6.53s\tremaining: 1.53s\n",
      "90:\tlearn: 1657.4299920\ttotal: 7.32s\tremaining: 724ms\n",
      "99:\tlearn: 1647.4431401\ttotal: 7.94s\tremaining: 0us\n",
      "0:\tlearn: 4018.2578672\ttotal: 146ms\tremaining: 14.4s\n",
      "10:\tlearn: 2140.1733244\ttotal: 1.46s\tremaining: 11.8s\n",
      "20:\tlearn: 1820.0479718\ttotal: 2.72s\tremaining: 10.2s\n",
      "30:\tlearn: 1737.4831989\ttotal: 4.03s\tremaining: 8.97s\n",
      "40:\tlearn: 1681.6806564\ttotal: 5.4s\tremaining: 7.78s\n",
      "50:\tlearn: 1639.2810478\ttotal: 6.73s\tremaining: 6.47s\n",
      "60:\tlearn: 1608.9314434\ttotal: 8.09s\tremaining: 5.17s\n",
      "70:\tlearn: 1583.9927114\ttotal: 9.33s\tremaining: 3.81s\n",
      "80:\tlearn: 1557.2387957\ttotal: 10.7s\tremaining: 2.5s\n",
      "90:\tlearn: 1536.9817751\ttotal: 12s\tremaining: 1.19s\n",
      "99:\tlearn: 1521.4534621\ttotal: 13.2s\tremaining: 0us\n",
      "0:\tlearn: 4015.7209918\ttotal: 142ms\tremaining: 14.1s\n",
      "10:\tlearn: 2135.6329810\ttotal: 1.49s\tremaining: 12s\n",
      "20:\tlearn: 1818.1034917\ttotal: 2.8s\tremaining: 10.5s\n",
      "30:\tlearn: 1736.6055560\ttotal: 4.11s\tremaining: 9.14s\n",
      "40:\tlearn: 1693.3771611\ttotal: 5.43s\tremaining: 7.81s\n",
      "50:\tlearn: 1656.9652405\ttotal: 6.77s\tremaining: 6.5s\n",
      "60:\tlearn: 1629.4069066\ttotal: 8.05s\tremaining: 5.14s\n",
      "70:\tlearn: 1598.2792144\ttotal: 9.32s\tremaining: 3.81s\n",
      "80:\tlearn: 1568.7443686\ttotal: 10.7s\tremaining: 2.5s\n",
      "90:\tlearn: 1545.7614427\ttotal: 11.9s\tremaining: 1.18s\n",
      "99:\tlearn: 1528.9706895\ttotal: 13.1s\tremaining: 0us\n",
      "0:\tlearn: 4025.8404270\ttotal: 145ms\tremaining: 14.4s\n",
      "10:\tlearn: 2143.2795553\ttotal: 1.42s\tremaining: 11.5s\n",
      "20:\tlearn: 1817.1838901\ttotal: 2.71s\tremaining: 10.2s\n",
      "30:\tlearn: 1729.7320895\ttotal: 3.96s\tremaining: 8.82s\n",
      "40:\tlearn: 1686.4166685\ttotal: 5.27s\tremaining: 7.58s\n",
      "50:\tlearn: 1652.2564326\ttotal: 6.5s\tremaining: 6.25s\n",
      "60:\tlearn: 1628.9971249\ttotal: 7.61s\tremaining: 4.87s\n",
      "70:\tlearn: 1597.9079527\ttotal: 8.88s\tremaining: 3.63s\n",
      "80:\tlearn: 1579.8124506\ttotal: 9.89s\tremaining: 2.32s\n",
      "90:\tlearn: 1562.4168088\ttotal: 11s\tremaining: 1.09s\n",
      "99:\tlearn: 1542.7885598\ttotal: 12.1s\tremaining: 0us\n",
      "0:\tlearn: 4014.1008161\ttotal: 352ms\tremaining: 34.9s\n",
      "10:\tlearn: 2122.5184702\ttotal: 3.56s\tremaining: 28.8s\n",
      "20:\tlearn: 1759.1519585\ttotal: 6.87s\tremaining: 25.9s\n",
      "30:\tlearn: 1656.4732379\ttotal: 10.1s\tremaining: 22.4s\n",
      "40:\tlearn: 1600.6259038\ttotal: 13.3s\tremaining: 19.2s\n",
      "50:\tlearn: 1551.8256738\ttotal: 16.7s\tremaining: 16s\n",
      "60:\tlearn: 1519.7755981\ttotal: 19.9s\tremaining: 12.8s\n",
      "70:\tlearn: 1490.4437117\ttotal: 22.6s\tremaining: 9.22s\n",
      "80:\tlearn: 1462.7856736\ttotal: 25.9s\tremaining: 6.08s\n",
      "90:\tlearn: 1435.3580608\ttotal: 29.3s\tremaining: 2.89s\n",
      "99:\tlearn: 1416.8711721\ttotal: 32.1s\tremaining: 0us\n",
      "0:\tlearn: 4008.6055138\ttotal: 322ms\tremaining: 31.9s\n",
      "10:\tlearn: 2100.1876537\ttotal: 3.56s\tremaining: 28.8s\n",
      "20:\tlearn: 1763.4298661\ttotal: 6.68s\tremaining: 25.1s\n",
      "30:\tlearn: 1664.8088696\ttotal: 9.85s\tremaining: 21.9s\n",
      "40:\tlearn: 1609.6093730\ttotal: 13.2s\tremaining: 19s\n",
      "50:\tlearn: 1569.6797799\ttotal: 16.4s\tremaining: 15.8s\n",
      "60:\tlearn: 1535.3271461\ttotal: 19.6s\tremaining: 12.6s\n",
      "70:\tlearn: 1509.7816164\ttotal: 22.6s\tremaining: 9.22s\n",
      "80:\tlearn: 1483.3846460\ttotal: 25.8s\tremaining: 6.05s\n",
      "90:\tlearn: 1460.4000439\ttotal: 29s\tremaining: 2.87s\n",
      "99:\tlearn: 1439.6974315\ttotal: 31.9s\tremaining: 0us\n",
      "0:\tlearn: 4024.0402482\ttotal: 344ms\tremaining: 34.1s\n",
      "10:\tlearn: 2100.9556080\ttotal: 3.47s\tremaining: 28.1s\n",
      "20:\tlearn: 1752.4603264\ttotal: 6.58s\tremaining: 24.8s\n",
      "30:\tlearn: 1659.0916296\ttotal: 9.79s\tremaining: 21.8s\n",
      "40:\tlearn: 1606.7484636\ttotal: 13s\tremaining: 18.7s\n",
      "50:\tlearn: 1574.9964771\ttotal: 15.5s\tremaining: 14.9s\n",
      "60:\tlearn: 1542.4230314\ttotal: 18.9s\tremaining: 12.1s\n",
      "70:\tlearn: 1519.8179735\ttotal: 21.4s\tremaining: 8.73s\n",
      "80:\tlearn: 1488.0936353\ttotal: 24.4s\tremaining: 5.72s\n",
      "90:\tlearn: 1465.9227503\ttotal: 27s\tremaining: 2.67s\n",
      "99:\tlearn: 1443.2642188\ttotal: 29.4s\tremaining: 0us\n",
      "0:\tlearn: 4009.1099813\ttotal: 389ms\tremaining: 38.5s\n",
      "10:\tlearn: 2106.5246334\ttotal: 3.9s\tremaining: 31.6s\n",
      "20:\tlearn: 1765.5619087\ttotal: 7.49s\tremaining: 28.2s\n",
      "30:\tlearn: 1674.6557575\ttotal: 11.2s\tremaining: 24.9s\n",
      "40:\tlearn: 1621.4174814\ttotal: 14.9s\tremaining: 21.5s\n",
      "50:\tlearn: 1585.9633075\ttotal: 18.7s\tremaining: 18s\n",
      "60:\tlearn: 1546.8366188\ttotal: 22.5s\tremaining: 14.4s\n",
      "70:\tlearn: 1518.9518133\ttotal: 26.2s\tremaining: 10.7s\n",
      "80:\tlearn: 1496.3939611\ttotal: 30s\tremaining: 7.03s\n",
      "90:\tlearn: 1476.5292638\ttotal: 33.6s\tremaining: 3.33s\n",
      "99:\tlearn: 1458.6463332\ttotal: 37s\tremaining: 0us\n",
      "CPU times: user 3min 22s, sys: 15.6 s, total: 3min 37s\n",
      "Wall time: 3min 45s\n"
     ]
    },
    {
     "data": {
      "text/plain": [
       "GridSearchCV(cv=3,\n",
       "             estimator=<catboost.core.CatBoostRegressor object at 0x7fe69b95f910>,\n",
       "             param_grid={'depth': range(8, 16, 2), 'iterations': [100],\n",
       "                         'learning_rate': [0.15]},\n",
       "             scoring=make_scorer(RMSE, greater_is_better=False))"
      ]
     },
     "execution_count": 63,
     "metadata": {},
     "output_type": "execute_result"
    }
   ],
   "source": [
    "%%time\n",
    "\n",
    "cb_grid = GridSearchCV(cb, cb_parametrs, scoring=RMSE_score, cv=3)\n",
    "cb_grid.fit(features_train, target_train, cat_features=cat_features, verbose=10)"
   ]
  },
  {
   "cell_type": "code",
   "execution_count": 64,
   "metadata": {},
   "outputs": [
    {
     "name": "stdout",
     "output_type": "stream",
     "text": [
      "{'depth': 14, 'iterations': 100, 'learning_rate': 0.15}\n",
      "1479.604194151706\n",
      "\n",
      "CPU times: user 381 ms, sys: 0 ns, total: 381 ms\n",
      "Wall time: 387 ms\n"
     ]
    }
   ],
   "source": [
    "%%time\n",
    "\n",
    "cb_params = cb_grid.best_params_\n",
    "cb_score = cb_grid.score(features_train, target_train) * (-1)\n",
    "print(cb_params)\n",
    "print(cb_score)\n",
    "print()"
   ]
  },
  {
   "cell_type": "code",
   "execution_count": 65,
   "metadata": {},
   "outputs": [],
   "source": [
    "params = {'iterations':100, \n",
    "          'eval_metric':'RMSE', \n",
    "          'verbose': 10,\n",
    "          'random_seed': 72,\n",
    "          'depth': 14,\n",
    "          'learning_rate': 0.15\n",
    "         }"
   ]
  },
  {
   "cell_type": "code",
   "execution_count": 66,
   "metadata": {},
   "outputs": [],
   "source": [
    "cat_four = CatBoostRegressor(**params)"
   ]
  },
  {
   "cell_type": "markdown",
   "metadata": {},
   "source": [
    "## Анализ моделей"
   ]
  },
  {
   "cell_type": "markdown",
   "metadata": {},
   "source": [
    "|Модель| RMSE на обучении |RMSE на предсказании| Время обучения |Время предсказания\n",
    "|---------|:-------:|:-----------:|:----------:|:---------:|\n",
    "|**LightGBM** :|\n",
    "|one|2165.85|2165.85|25.5s|157ms|\n",
    "|two|1930.86|1930.86|59.3s|297ms|\n",
    "|three|1774.71|1774.71|1min 17s|301ms|\n",
    "|**CatBoost**:|\n",
    "|cat_one|1710.56|1710.56|16.3s|36.4ms|\n",
    "|cat_two|1852.86|1852.86|9.25s|24.3ms|\n",
    "|cat_three|1720.98|1720.98|1min 1s|296ms|\n"
   ]
  },
  {
   "cell_type": "markdown",
   "metadata": {},
   "source": [
    "Нами произведено обучение на двух моделях градиентного бустинга Lightgbm и CatBoost с тремя разными наборами гиперпараметров.\n",
    "Как видим из табицы, точнее всего отработала модель CatBoost (cat_one) c RMSE на обучении и предсказании 1710.56 и относительно небольшим временем обучения. Проверим модель на тестовой выборке"
   ]
  },
  {
   "cell_type": "code",
   "execution_count": 67,
   "metadata": {},
   "outputs": [],
   "source": [
    "params = {'iterations':500, \n",
    "          'eval_metric':'RMSE', \n",
    "          'verbose': 10,\n",
    "          'random_seed': 72\n",
    "         }"
   ]
  },
  {
   "cell_type": "code",
   "execution_count": 68,
   "metadata": {},
   "outputs": [],
   "source": [
    "cat_one = CatBoostRegressor(**params)"
   ]
  },
  {
   "cell_type": "code",
   "execution_count": 69,
   "metadata": {},
   "outputs": [
    {
     "name": "stdout",
     "output_type": "stream",
     "text": [
      "Learning rate set to 0.179745\n",
      "0:\tlearn: 3980.4689836\ttest: 3979.7926029\tbest: 3979.7926029 (0)\ttotal: 27.5ms\tremaining: 13.7s\n",
      "10:\tlearn: 2271.2834055\ttest: 2285.9807992\tbest: 2285.9807992 (10)\ttotal: 318ms\tremaining: 14.2s\n",
      "20:\tlearn: 2047.9337897\ttest: 2066.0169836\tbest: 2066.0169836 (20)\ttotal: 598ms\tremaining: 13.6s\n",
      "30:\tlearn: 1969.2085532\ttest: 1985.7905224\tbest: 1985.7905224 (30)\ttotal: 872ms\tremaining: 13.2s\n",
      "40:\tlearn: 1930.1705925\ttest: 1948.4725156\tbest: 1948.4725156 (40)\ttotal: 1.13s\tremaining: 12.6s\n",
      "50:\tlearn: 1889.9546639\ttest: 1909.7817244\tbest: 1909.7817244 (50)\ttotal: 1.39s\tremaining: 12.2s\n",
      "60:\tlearn: 1865.4899842\ttest: 1885.9592968\tbest: 1885.9592968 (60)\ttotal: 1.66s\tremaining: 11.9s\n",
      "70:\tlearn: 1846.1823183\ttest: 1868.7060518\tbest: 1868.7060518 (70)\ttotal: 1.91s\tremaining: 11.5s\n",
      "80:\tlearn: 1829.2369247\ttest: 1853.7868658\tbest: 1853.7868658 (80)\ttotal: 2.16s\tremaining: 11.2s\n",
      "90:\tlearn: 1815.4029642\ttest: 1840.7295463\tbest: 1840.7295463 (90)\ttotal: 2.43s\tremaining: 10.9s\n",
      "100:\tlearn: 1803.1064517\ttest: 1829.8256215\tbest: 1829.8256215 (100)\ttotal: 2.7s\tremaining: 10.7s\n",
      "110:\tlearn: 1791.8368721\ttest: 1819.7034302\tbest: 1819.7034302 (110)\ttotal: 2.95s\tremaining: 10.4s\n",
      "120:\tlearn: 1781.9395593\ttest: 1811.5747444\tbest: 1811.5747444 (120)\ttotal: 3.22s\tremaining: 10.1s\n",
      "130:\tlearn: 1774.0322892\ttest: 1804.9645384\tbest: 1804.9645384 (130)\ttotal: 3.5s\tremaining: 9.87s\n",
      "140:\tlearn: 1764.5279489\ttest: 1796.2011085\tbest: 1796.2011085 (140)\ttotal: 3.81s\tremaining: 9.71s\n",
      "150:\tlearn: 1757.3344803\ttest: 1789.5112958\tbest: 1789.5112958 (150)\ttotal: 4.07s\tremaining: 9.41s\n",
      "160:\tlearn: 1750.7031540\ttest: 1783.5480450\tbest: 1783.5480450 (160)\ttotal: 4.33s\tremaining: 9.13s\n",
      "170:\tlearn: 1744.7621128\ttest: 1779.1332244\tbest: 1779.1332244 (170)\ttotal: 4.6s\tremaining: 8.85s\n",
      "180:\tlearn: 1738.6193940\ttest: 1774.3966289\tbest: 1774.3966289 (180)\ttotal: 4.85s\tremaining: 8.55s\n",
      "190:\tlearn: 1732.7898232\ttest: 1769.9278874\tbest: 1769.9278874 (190)\ttotal: 5.12s\tremaining: 8.28s\n",
      "200:\tlearn: 1725.5458695\ttest: 1764.2462178\tbest: 1764.2462178 (200)\ttotal: 5.41s\tremaining: 8.04s\n",
      "210:\tlearn: 1720.1933841\ttest: 1759.8919843\tbest: 1759.8919843 (210)\ttotal: 5.69s\tremaining: 7.79s\n",
      "220:\tlearn: 1714.8988623\ttest: 1756.1627028\tbest: 1756.1627028 (220)\ttotal: 5.99s\tremaining: 7.56s\n",
      "230:\tlearn: 1710.8621235\ttest: 1753.3176072\tbest: 1753.3176072 (230)\ttotal: 6.27s\tremaining: 7.3s\n",
      "240:\tlearn: 1706.7597935\ttest: 1749.9943447\tbest: 1749.9943447 (240)\ttotal: 6.53s\tremaining: 7.01s\n",
      "250:\tlearn: 1702.9340025\ttest: 1747.4951847\tbest: 1747.4951847 (250)\ttotal: 6.82s\tremaining: 6.76s\n",
      "260:\tlearn: 1699.0937372\ttest: 1744.7848615\tbest: 1744.7848615 (260)\ttotal: 7.09s\tremaining: 6.49s\n",
      "270:\tlearn: 1695.1047331\ttest: 1741.7028441\tbest: 1741.7028441 (270)\ttotal: 7.34s\tremaining: 6.2s\n",
      "280:\tlearn: 1691.3150225\ttest: 1739.3755203\tbest: 1739.3755203 (280)\ttotal: 7.59s\tremaining: 5.92s\n",
      "290:\tlearn: 1687.1185805\ttest: 1736.2017496\tbest: 1736.2017496 (290)\ttotal: 7.87s\tremaining: 5.65s\n",
      "300:\tlearn: 1683.7564585\ttest: 1734.0075898\tbest: 1734.0075898 (300)\ttotal: 8.12s\tremaining: 5.37s\n",
      "310:\tlearn: 1679.2234525\ttest: 1730.4844289\tbest: 1730.4844289 (310)\ttotal: 8.39s\tremaining: 5.1s\n",
      "320:\tlearn: 1675.7503621\ttest: 1728.0544931\tbest: 1728.0544931 (320)\ttotal: 8.66s\tremaining: 4.83s\n",
      "330:\tlearn: 1673.0482776\ttest: 1726.3269750\tbest: 1726.3269750 (330)\ttotal: 8.93s\tremaining: 4.56s\n",
      "340:\tlearn: 1670.2236458\ttest: 1724.0768448\tbest: 1724.0768448 (340)\ttotal: 9.18s\tremaining: 4.28s\n",
      "350:\tlearn: 1666.8211442\ttest: 1722.3337109\tbest: 1722.3337109 (350)\ttotal: 9.44s\tremaining: 4.01s\n",
      "360:\tlearn: 1663.6135929\ttest: 1720.1589734\tbest: 1720.1589734 (360)\ttotal: 9.73s\tremaining: 3.75s\n",
      "370:\tlearn: 1660.8712815\ttest: 1718.7859937\tbest: 1718.7859937 (370)\ttotal: 9.99s\tremaining: 3.47s\n",
      "380:\tlearn: 1657.8794910\ttest: 1716.9209078\tbest: 1716.9209078 (380)\ttotal: 10.2s\tremaining: 3.2s\n",
      "390:\tlearn: 1655.2053263\ttest: 1715.8580141\tbest: 1715.8580141 (390)\ttotal: 10.5s\tremaining: 2.93s\n",
      "400:\tlearn: 1651.8583845\ttest: 1713.7410849\tbest: 1713.7410849 (400)\ttotal: 10.8s\tremaining: 2.66s\n",
      "410:\tlearn: 1649.3928335\ttest: 1712.2755287\tbest: 1712.2755287 (410)\ttotal: 11.1s\tremaining: 2.39s\n",
      "420:\tlearn: 1646.5007516\ttest: 1710.4980759\tbest: 1710.4980759 (420)\ttotal: 11.3s\tremaining: 2.12s\n",
      "430:\tlearn: 1644.1754588\ttest: 1708.9387293\tbest: 1708.9387293 (430)\ttotal: 11.6s\tremaining: 1.85s\n",
      "440:\tlearn: 1641.9416935\ttest: 1707.7750551\tbest: 1707.7750551 (440)\ttotal: 11.9s\tremaining: 1.58s\n",
      "450:\tlearn: 1639.2278650\ttest: 1705.7516815\tbest: 1705.7516815 (450)\ttotal: 12.1s\tremaining: 1.32s\n",
      "460:\tlearn: 1636.7487087\ttest: 1704.6355120\tbest: 1704.6355120 (460)\ttotal: 12.4s\tremaining: 1.05s\n",
      "470:\tlearn: 1634.7926682\ttest: 1703.2282676\tbest: 1703.2282676 (470)\ttotal: 12.6s\tremaining: 778ms\n",
      "480:\tlearn: 1631.9583088\ttest: 1701.9212813\tbest: 1701.9212813 (480)\ttotal: 12.9s\tremaining: 509ms\n",
      "490:\tlearn: 1629.4308094\ttest: 1700.6716945\tbest: 1700.6716945 (490)\ttotal: 13.2s\tremaining: 241ms\n",
      "499:\tlearn: 1627.4378662\ttest: 1699.5592670\tbest: 1699.5592670 (499)\ttotal: 13.4s\tremaining: 0us\n",
      "\n",
      "bestTest = 1699.559267\n",
      "bestIteration = 499\n",
      "\n",
      "CPU times: user 15 s, sys: 115 ms, total: 15.1 s\n",
      "Wall time: 16.1 s\n"
     ]
    },
    {
     "data": {
      "text/plain": [
       "<catboost.core.CatBoostRegressor at 0x7fe69b95f580>"
      ]
     },
     "execution_count": 69,
     "metadata": {},
     "output_type": "execute_result"
    }
   ],
   "source": [
    "%%time\n",
    "cat_one.fit(features_train_ohe, target_train_ohe, eval_set=(features_valid_ohe, target_valid_ohe))"
   ]
  },
  {
   "cell_type": "code",
   "execution_count": 70,
   "metadata": {},
   "outputs": [
    {
     "name": "stdout",
     "output_type": "stream",
     "text": [
      "RMSE: 1687.4424722789115\n",
      "CPU times: user 105 ms, sys: 8.05 ms, total: 113 ms\n",
      "Wall time: 112 ms\n"
     ]
    }
   ],
   "source": [
    "%%time\n",
    "target_pred = cat_one.predict(features_test_ohe)\n",
    "print('RMSE:', mean_squared_error(target_test_ohe, target_pred) ** 0.5)"
   ]
  },
  {
   "cell_type": "markdown",
   "metadata": {},
   "source": [
    "   ***На валидационной выборке RMSE была равна 1699.55, на тестовой - 1687.44***\n"
   ]
  }
 ],
 "metadata": {
  "ExecuteTimeLog": [
   {
    "duration": 1556,
    "start_time": "2022-03-30T14:33:04.828Z"
   },
   {
    "duration": 726,
    "start_time": "2022-03-30T14:33:31.378Z"
   },
   {
    "duration": 741,
    "start_time": "2022-03-30T14:33:41.861Z"
   },
   {
    "duration": 732,
    "start_time": "2022-03-30T14:34:18.571Z"
   },
   {
    "duration": 695,
    "start_time": "2022-03-30T14:34:27.086Z"
   },
   {
    "duration": 685,
    "start_time": "2022-03-30T14:34:39.900Z"
   },
   {
    "duration": 5,
    "start_time": "2022-03-30T14:38:46.616Z"
   },
   {
    "duration": 119,
    "start_time": "2022-03-30T14:39:31.009Z"
   },
   {
    "duration": 112,
    "start_time": "2022-03-30T14:39:52.005Z"
   },
   {
    "duration": 344,
    "start_time": "2022-03-30T14:46:29.964Z"
   },
   {
    "duration": 432,
    "start_time": "2022-03-30T14:50:02.792Z"
   },
   {
    "duration": 348,
    "start_time": "2022-03-30T14:50:12.495Z"
   },
   {
    "duration": 2985,
    "start_time": "2022-03-30T15:00:31.618Z"
   },
   {
    "duration": 6,
    "start_time": "2022-03-30T15:09:48.443Z"
   },
   {
    "duration": 4,
    "start_time": "2022-03-30T15:10:02.587Z"
   },
   {
    "duration": 4,
    "start_time": "2022-03-30T15:10:23.333Z"
   },
   {
    "duration": 10,
    "start_time": "2022-03-30T15:12:15.662Z"
   },
   {
    "duration": 1196,
    "start_time": "2022-03-30T15:12:21.331Z"
   },
   {
    "duration": 7,
    "start_time": "2022-03-30T15:12:30.251Z"
   },
   {
    "duration": 22,
    "start_time": "2022-03-30T15:17:47.592Z"
   },
   {
    "duration": 22,
    "start_time": "2022-03-30T15:26:20.674Z"
   },
   {
    "duration": 4,
    "start_time": "2022-03-30T15:26:28.894Z"
   },
   {
    "duration": 346,
    "start_time": "2022-03-30T15:27:33.433Z"
   },
   {
    "duration": 414,
    "start_time": "2022-03-30T15:27:49.167Z"
   },
   {
    "duration": 419,
    "start_time": "2022-03-30T15:28:07.004Z"
   },
   {
    "duration": 1514,
    "start_time": "2022-03-30T15:29:20.529Z"
   },
   {
    "duration": 747,
    "start_time": "2022-03-30T15:29:22.045Z"
   },
   {
    "duration": 124,
    "start_time": "2022-03-30T15:29:22.794Z"
   },
   {
    "duration": 5,
    "start_time": "2022-03-30T15:29:22.920Z"
   },
   {
    "duration": 365,
    "start_time": "2022-03-30T15:29:22.926Z"
   },
   {
    "duration": 406,
    "start_time": "2022-03-30T15:29:23.293Z"
   },
   {
    "duration": 437,
    "start_time": "2022-03-30T15:29:23.701Z"
   },
   {
    "duration": 2934,
    "start_time": "2022-03-30T15:29:24.140Z"
   },
   {
    "duration": 7,
    "start_time": "2022-03-30T15:29:27.076Z"
   },
   {
    "duration": 20,
    "start_time": "2022-03-30T15:29:27.085Z"
   },
   {
    "duration": 42,
    "start_time": "2022-03-30T15:29:27.107Z"
   },
   {
    "duration": 17,
    "start_time": "2022-03-30T15:29:27.150Z"
   },
   {
    "duration": 5,
    "start_time": "2022-03-30T15:30:13.685Z"
   },
   {
    "duration": 3019,
    "start_time": "2022-03-30T15:30:37.489Z"
   },
   {
    "duration": 1385,
    "start_time": "2022-03-30T15:30:48.497Z"
   },
   {
    "duration": 733,
    "start_time": "2022-03-30T15:30:49.884Z"
   },
   {
    "duration": 135,
    "start_time": "2022-03-30T15:30:50.619Z"
   },
   {
    "duration": 390,
    "start_time": "2022-03-30T15:30:50.755Z"
   },
   {
    "duration": 394,
    "start_time": "2022-03-30T15:30:51.148Z"
   },
   {
    "duration": 451,
    "start_time": "2022-03-30T15:30:51.544Z"
   },
   {
    "duration": 31,
    "start_time": "2022-03-30T15:30:51.997Z"
   },
   {
    "duration": 3051,
    "start_time": "2022-03-30T15:30:52.030Z"
   },
   {
    "duration": 4,
    "start_time": "2022-03-30T15:30:55.082Z"
   },
   {
    "duration": 9,
    "start_time": "2022-03-30T15:30:55.087Z"
   },
   {
    "duration": 25,
    "start_time": "2022-03-30T15:34:34.557Z"
   },
   {
    "duration": 7,
    "start_time": "2022-03-30T15:34:52.176Z"
   },
   {
    "duration": 101,
    "start_time": "2022-03-30T15:35:06.497Z"
   },
   {
    "duration": 10,
    "start_time": "2022-03-30T15:35:08.952Z"
   },
   {
    "duration": 8,
    "start_time": "2022-03-30T15:35:19.154Z"
   },
   {
    "duration": 15,
    "start_time": "2022-03-30T15:36:02.990Z"
   },
   {
    "duration": 3,
    "start_time": "2022-03-30T15:36:49.335Z"
   },
   {
    "duration": 9,
    "start_time": "2022-03-30T15:37:05.941Z"
   },
   {
    "duration": 10,
    "start_time": "2022-03-30T15:37:16.469Z"
   },
   {
    "duration": 13,
    "start_time": "2022-03-30T15:39:02.433Z"
   },
   {
    "duration": 112,
    "start_time": "2022-03-30T15:40:53.685Z"
   },
   {
    "duration": 113,
    "start_time": "2022-03-30T15:41:23.955Z"
   },
   {
    "duration": 12390,
    "start_time": "2022-03-30T15:43:41.873Z"
   },
   {
    "duration": 10,
    "start_time": "2022-03-30T15:43:55.237Z"
   },
   {
    "duration": 245,
    "start_time": "2022-03-30T15:44:04.448Z"
   },
   {
    "duration": 11,
    "start_time": "2022-03-30T15:45:59.599Z"
   },
   {
    "duration": 1410,
    "start_time": "2022-03-30T15:46:28.623Z"
   },
   {
    "duration": 752,
    "start_time": "2022-03-30T15:46:30.035Z"
   },
   {
    "duration": 131,
    "start_time": "2022-03-30T15:46:30.789Z"
   },
   {
    "duration": 364,
    "start_time": "2022-03-30T15:46:30.922Z"
   },
   {
    "duration": 397,
    "start_time": "2022-03-30T15:46:31.288Z"
   },
   {
    "duration": 464,
    "start_time": "2022-03-30T15:46:31.686Z"
   },
   {
    "duration": 34,
    "start_time": "2022-03-30T15:46:32.151Z"
   },
   {
    "duration": 2926,
    "start_time": "2022-03-30T15:46:32.187Z"
   },
   {
    "duration": 5,
    "start_time": "2022-03-30T15:46:35.115Z"
   },
   {
    "duration": 12,
    "start_time": "2022-03-30T15:46:35.122Z"
   },
   {
    "duration": 34,
    "start_time": "2022-03-30T15:47:15.470Z"
   },
   {
    "duration": 9,
    "start_time": "2022-03-30T15:47:16.701Z"
   },
   {
    "duration": 6,
    "start_time": "2022-03-30T15:47:29.652Z"
   },
   {
    "duration": 8,
    "start_time": "2022-03-30T15:47:31.623Z"
   },
   {
    "duration": 4,
    "start_time": "2022-03-30T15:47:50.830Z"
   },
   {
    "duration": 99,
    "start_time": "2022-03-30T15:48:15.614Z"
   },
   {
    "duration": 12,
    "start_time": "2022-03-30T15:48:35.204Z"
   },
   {
    "duration": 12,
    "start_time": "2022-03-30T15:49:35.932Z"
   },
   {
    "duration": 1458,
    "start_time": "2022-03-30T15:49:48.731Z"
   },
   {
    "duration": 770,
    "start_time": "2022-03-30T15:49:50.191Z"
   },
   {
    "duration": 139,
    "start_time": "2022-03-30T15:49:50.963Z"
   },
   {
    "duration": 350,
    "start_time": "2022-03-30T15:49:51.104Z"
   },
   {
    "duration": 428,
    "start_time": "2022-03-30T15:49:51.456Z"
   },
   {
    "duration": 465,
    "start_time": "2022-03-30T15:49:51.886Z"
   },
   {
    "duration": 36,
    "start_time": "2022-03-30T15:49:52.353Z"
   },
   {
    "duration": 3103,
    "start_time": "2022-03-30T15:49:52.390Z"
   },
   {
    "duration": 5,
    "start_time": "2022-03-30T15:49:55.495Z"
   },
   {
    "duration": 10,
    "start_time": "2022-03-30T15:49:55.503Z"
   },
   {
    "duration": 4,
    "start_time": "2022-03-30T15:49:55.514Z"
   },
   {
    "duration": 44,
    "start_time": "2022-03-30T15:50:23.093Z"
   },
   {
    "duration": 1456,
    "start_time": "2022-03-30T15:50:26.236Z"
   },
   {
    "duration": 1392,
    "start_time": "2022-03-30T15:50:39.417Z"
   },
   {
    "duration": 758,
    "start_time": "2022-03-30T15:50:40.810Z"
   },
   {
    "duration": 125,
    "start_time": "2022-03-30T15:50:41.570Z"
   },
   {
    "duration": 360,
    "start_time": "2022-03-30T15:50:41.697Z"
   },
   {
    "duration": 433,
    "start_time": "2022-03-30T15:50:42.059Z"
   },
   {
    "duration": 453,
    "start_time": "2022-03-30T15:50:42.494Z"
   },
   {
    "duration": 41,
    "start_time": "2022-03-30T15:50:42.948Z"
   },
   {
    "duration": 1476,
    "start_time": "2022-03-30T15:50:42.991Z"
   },
   {
    "duration": 6,
    "start_time": "2022-03-30T15:50:44.468Z"
   },
   {
    "duration": 8,
    "start_time": "2022-03-30T15:50:44.482Z"
   },
   {
    "duration": 4,
    "start_time": "2022-03-30T15:50:44.492Z"
   },
   {
    "duration": 8,
    "start_time": "2022-03-30T15:51:24.717Z"
   },
   {
    "duration": 8,
    "start_time": "2022-03-30T15:51:51.522Z"
   },
   {
    "duration": 27,
    "start_time": "2022-03-30T15:52:20.633Z"
   },
   {
    "duration": 229,
    "start_time": "2022-03-30T15:52:51.046Z"
   },
   {
    "duration": 8,
    "start_time": "2022-03-30T15:52:54.317Z"
   },
   {
    "duration": 9,
    "start_time": "2022-03-30T15:53:27.676Z"
   },
   {
    "duration": 9,
    "start_time": "2022-03-30T15:53:36.134Z"
   },
   {
    "duration": 6,
    "start_time": "2022-03-30T15:55:36.733Z"
   },
   {
    "duration": 93,
    "start_time": "2022-03-30T16:00:49.215Z"
   },
   {
    "duration": 5,
    "start_time": "2022-03-30T16:01:17.490Z"
   },
   {
    "duration": 5,
    "start_time": "2022-03-30T16:01:21.615Z"
   },
   {
    "duration": 8,
    "start_time": "2022-03-30T16:01:37.722Z"
   },
   {
    "duration": 1409,
    "start_time": "2022-03-30T16:01:49.512Z"
   },
   {
    "duration": 785,
    "start_time": "2022-03-30T16:01:50.923Z"
   },
   {
    "duration": 137,
    "start_time": "2022-03-30T16:01:51.710Z"
   },
   {
    "duration": 370,
    "start_time": "2022-03-30T16:01:51.849Z"
   },
   {
    "duration": 421,
    "start_time": "2022-03-30T16:01:52.220Z"
   },
   {
    "duration": 462,
    "start_time": "2022-03-30T16:01:52.643Z"
   },
   {
    "duration": 41,
    "start_time": "2022-03-30T16:01:53.107Z"
   },
   {
    "duration": 1462,
    "start_time": "2022-03-30T16:01:53.150Z"
   },
   {
    "duration": 5,
    "start_time": "2022-03-30T16:01:54.614Z"
   },
   {
    "duration": 9,
    "start_time": "2022-03-30T16:01:54.621Z"
   },
   {
    "duration": 5,
    "start_time": "2022-03-30T16:01:54.631Z"
   },
   {
    "duration": 5,
    "start_time": "2022-03-30T16:02:04.243Z"
   },
   {
    "duration": 5,
    "start_time": "2022-03-30T16:02:11.898Z"
   },
   {
    "duration": 7,
    "start_time": "2022-03-30T16:02:23.421Z"
   },
   {
    "duration": 5,
    "start_time": "2022-03-30T16:02:27.523Z"
   },
   {
    "duration": 7,
    "start_time": "2022-03-30T16:02:44.054Z"
   },
   {
    "duration": 183,
    "start_time": "2022-03-30T16:07:33.047Z"
   },
   {
    "duration": 94,
    "start_time": "2022-03-30T16:07:39.531Z"
   },
   {
    "duration": 345,
    "start_time": "2022-03-30T16:08:09.198Z"
   },
   {
    "duration": 3,
    "start_time": "2022-03-30T16:10:44.145Z"
   },
   {
    "duration": 21,
    "start_time": "2022-03-30T16:10:48.405Z"
   },
   {
    "duration": 10,
    "start_time": "2022-03-30T16:11:05.937Z"
   },
   {
    "duration": 9,
    "start_time": "2022-03-30T16:11:46.854Z"
   },
   {
    "duration": 1515,
    "start_time": "2022-03-30T16:12:04.691Z"
   },
   {
    "duration": 740,
    "start_time": "2022-03-30T16:12:06.207Z"
   },
   {
    "duration": 136,
    "start_time": "2022-03-30T16:12:06.949Z"
   },
   {
    "duration": 460,
    "start_time": "2022-03-30T16:12:07.087Z"
   },
   {
    "duration": 427,
    "start_time": "2022-03-30T16:12:07.548Z"
   },
   {
    "duration": 490,
    "start_time": "2022-03-30T16:12:07.976Z"
   },
   {
    "duration": 46,
    "start_time": "2022-03-30T16:12:08.467Z"
   },
   {
    "duration": 1596,
    "start_time": "2022-03-30T16:12:08.514Z"
   },
   {
    "duration": 5,
    "start_time": "2022-03-30T16:12:10.112Z"
   },
   {
    "duration": 9,
    "start_time": "2022-03-30T16:12:10.119Z"
   },
   {
    "duration": 9,
    "start_time": "2022-03-30T16:12:10.130Z"
   },
   {
    "duration": 3,
    "start_time": "2022-03-30T16:12:10.141Z"
   },
   {
    "duration": 12,
    "start_time": "2022-03-30T16:12:25.692Z"
   },
   {
    "duration": 8,
    "start_time": "2022-03-30T16:12:34.935Z"
   },
   {
    "duration": 9,
    "start_time": "2022-03-30T16:13:04.749Z"
   },
   {
    "duration": 1451,
    "start_time": "2022-03-30T16:14:33.966Z"
   },
   {
    "duration": 730,
    "start_time": "2022-03-30T16:14:35.419Z"
   },
   {
    "duration": 133,
    "start_time": "2022-03-30T16:14:36.151Z"
   },
   {
    "duration": 343,
    "start_time": "2022-03-30T16:14:36.287Z"
   },
   {
    "duration": 383,
    "start_time": "2022-03-30T16:14:36.631Z"
   },
   {
    "duration": 447,
    "start_time": "2022-03-30T16:14:37.016Z"
   },
   {
    "duration": 43,
    "start_time": "2022-03-30T16:14:37.464Z"
   },
   {
    "duration": 1455,
    "start_time": "2022-03-30T16:14:37.508Z"
   },
   {
    "duration": 5,
    "start_time": "2022-03-30T16:14:38.964Z"
   },
   {
    "duration": 15,
    "start_time": "2022-03-30T16:14:38.971Z"
   },
   {
    "duration": 11,
    "start_time": "2022-03-30T16:14:38.987Z"
   },
   {
    "duration": 8,
    "start_time": "2022-03-30T16:14:39.000Z"
   },
   {
    "duration": 5,
    "start_time": "2022-03-30T16:14:39.009Z"
   },
   {
    "duration": 1453,
    "start_time": "2022-03-30T16:14:54.838Z"
   },
   {
    "duration": 726,
    "start_time": "2022-03-30T16:14:56.293Z"
   },
   {
    "duration": 134,
    "start_time": "2022-03-30T16:14:57.021Z"
   },
   {
    "duration": 355,
    "start_time": "2022-03-30T16:14:57.157Z"
   },
   {
    "duration": 381,
    "start_time": "2022-03-30T16:14:57.514Z"
   },
   {
    "duration": 450,
    "start_time": "2022-03-30T16:14:57.896Z"
   },
   {
    "duration": 40,
    "start_time": "2022-03-30T16:14:58.348Z"
   },
   {
    "duration": 1436,
    "start_time": "2022-03-30T16:14:58.389Z"
   },
   {
    "duration": 6,
    "start_time": "2022-03-30T16:14:59.826Z"
   },
   {
    "duration": 4,
    "start_time": "2022-03-30T16:14:59.834Z"
   },
   {
    "duration": 13,
    "start_time": "2022-03-30T16:14:59.839Z"
   },
   {
    "duration": 6,
    "start_time": "2022-03-30T16:14:59.853Z"
   },
   {
    "duration": 23,
    "start_time": "2022-03-30T16:14:59.860Z"
   },
   {
    "duration": 98,
    "start_time": "2022-03-30T16:16:14.023Z"
   },
   {
    "duration": 1541,
    "start_time": "2022-03-30T16:16:44.550Z"
   },
   {
    "duration": 729,
    "start_time": "2022-03-30T16:16:46.093Z"
   },
   {
    "duration": 132,
    "start_time": "2022-03-30T16:16:46.824Z"
   },
   {
    "duration": 344,
    "start_time": "2022-03-30T16:16:46.958Z"
   },
   {
    "duration": 396,
    "start_time": "2022-03-30T16:16:47.304Z"
   },
   {
    "duration": 431,
    "start_time": "2022-03-30T16:16:47.702Z"
   },
   {
    "duration": 46,
    "start_time": "2022-03-30T16:16:48.135Z"
   },
   {
    "duration": 1557,
    "start_time": "2022-03-30T16:16:48.182Z"
   },
   {
    "duration": 5,
    "start_time": "2022-03-30T16:16:49.741Z"
   },
   {
    "duration": 5,
    "start_time": "2022-03-30T16:16:49.748Z"
   },
   {
    "duration": 10,
    "start_time": "2022-03-30T16:16:49.755Z"
   },
   {
    "duration": 23,
    "start_time": "2022-03-30T16:16:49.766Z"
   },
   {
    "duration": 5,
    "start_time": "2022-03-30T16:16:49.790Z"
   },
   {
    "duration": 7,
    "start_time": "2022-03-30T16:17:05.997Z"
   },
   {
    "duration": 6,
    "start_time": "2022-03-30T16:17:07.646Z"
   },
   {
    "duration": 7,
    "start_time": "2022-03-30T16:17:17.469Z"
   },
   {
    "duration": 7,
    "start_time": "2022-03-30T16:17:18.586Z"
   },
   {
    "duration": 5,
    "start_time": "2022-03-30T16:17:21.857Z"
   },
   {
    "duration": 8,
    "start_time": "2022-03-30T16:17:22.916Z"
   },
   {
    "duration": 102,
    "start_time": "2022-03-30T16:18:11.665Z"
   },
   {
    "duration": 89,
    "start_time": "2022-03-30T16:18:21.477Z"
   },
   {
    "duration": 95,
    "start_time": "2022-03-30T16:18:34.160Z"
   },
   {
    "duration": 89,
    "start_time": "2022-03-30T16:18:38.507Z"
   },
   {
    "duration": 1556,
    "start_time": "2022-03-30T16:18:54.828Z"
   },
   {
    "duration": 719,
    "start_time": "2022-03-30T16:18:56.386Z"
   },
   {
    "duration": 127,
    "start_time": "2022-03-30T16:18:57.107Z"
   },
   {
    "duration": 361,
    "start_time": "2022-03-30T16:18:57.236Z"
   },
   {
    "duration": 393,
    "start_time": "2022-03-30T16:18:57.598Z"
   },
   {
    "duration": 452,
    "start_time": "2022-03-30T16:18:57.993Z"
   },
   {
    "duration": 43,
    "start_time": "2022-03-30T16:18:58.446Z"
   },
   {
    "duration": 1525,
    "start_time": "2022-03-30T16:18:58.491Z"
   },
   {
    "duration": 6,
    "start_time": "2022-03-30T16:19:00.018Z"
   },
   {
    "duration": 3,
    "start_time": "2022-03-30T16:19:00.028Z"
   },
   {
    "duration": 6,
    "start_time": "2022-03-30T16:19:00.033Z"
   },
   {
    "duration": 18,
    "start_time": "2022-03-30T16:19:00.040Z"
   },
   {
    "duration": 385,
    "start_time": "2022-03-30T16:19:00.059Z"
   },
   {
    "duration": 3,
    "start_time": "2022-03-30T16:19:00.446Z"
   },
   {
    "duration": 375,
    "start_time": "2022-03-30T16:19:12.805Z"
   },
   {
    "duration": 338,
    "start_time": "2022-03-30T16:19:22.044Z"
   },
   {
    "duration": 335,
    "start_time": "2022-03-30T16:19:33.228Z"
   },
   {
    "duration": 336,
    "start_time": "2022-03-30T16:19:43.899Z"
   },
   {
    "duration": 368,
    "start_time": "2022-03-30T16:19:58.115Z"
   },
   {
    "duration": 439,
    "start_time": "2022-03-30T16:20:06.689Z"
   },
   {
    "duration": 15,
    "start_time": "2022-03-30T16:21:10.640Z"
   },
   {
    "duration": 345,
    "start_time": "2022-03-30T16:21:45.411Z"
   },
   {
    "duration": 364,
    "start_time": "2022-03-30T16:22:35.802Z"
   },
   {
    "duration": 354,
    "start_time": "2022-03-30T16:22:47.231Z"
   },
   {
    "duration": 7,
    "start_time": "2022-03-30T16:24:24.998Z"
   },
   {
    "duration": 9,
    "start_time": "2022-03-30T16:24:36.034Z"
   },
   {
    "duration": 5,
    "start_time": "2022-03-30T16:25:31.466Z"
   },
   {
    "duration": 8,
    "start_time": "2022-03-30T16:25:32.071Z"
   },
   {
    "duration": 5,
    "start_time": "2022-03-30T16:27:15.598Z"
   },
   {
    "duration": 10,
    "start_time": "2022-03-30T16:27:16.461Z"
   },
   {
    "duration": 5,
    "start_time": "2022-03-30T16:27:21.479Z"
   },
   {
    "duration": 8,
    "start_time": "2022-03-30T16:27:24.678Z"
   },
   {
    "duration": 1726,
    "start_time": "2022-03-30T16:27:39.466Z"
   },
   {
    "duration": 726,
    "start_time": "2022-03-30T16:27:41.194Z"
   },
   {
    "duration": 130,
    "start_time": "2022-03-30T16:27:41.922Z"
   },
   {
    "duration": 406,
    "start_time": "2022-03-30T16:27:42.054Z"
   },
   {
    "duration": 397,
    "start_time": "2022-03-30T16:27:42.462Z"
   },
   {
    "duration": 455,
    "start_time": "2022-03-30T16:27:42.861Z"
   },
   {
    "duration": 37,
    "start_time": "2022-03-30T16:27:43.318Z"
   },
   {
    "duration": 1502,
    "start_time": "2022-03-30T16:27:43.357Z"
   },
   {
    "duration": 6,
    "start_time": "2022-03-30T16:27:44.861Z"
   },
   {
    "duration": 3,
    "start_time": "2022-03-30T16:27:44.880Z"
   },
   {
    "duration": 5,
    "start_time": "2022-03-30T16:27:44.884Z"
   },
   {
    "duration": 396,
    "start_time": "2022-03-30T16:27:44.890Z"
   },
   {
    "duration": 15,
    "start_time": "2022-03-30T16:27:45.287Z"
   },
   {
    "duration": 9,
    "start_time": "2022-03-30T16:27:45.303Z"
   },
   {
    "duration": 9,
    "start_time": "2022-03-30T16:27:45.313Z"
   },
   {
    "duration": 5,
    "start_time": "2022-03-30T16:27:45.324Z"
   },
   {
    "duration": 10,
    "start_time": "2022-03-30T16:28:02.707Z"
   },
   {
    "duration": 5,
    "start_time": "2022-03-30T16:28:11.649Z"
   },
   {
    "duration": 7,
    "start_time": "2022-03-30T16:28:12.574Z"
   },
   {
    "duration": 7,
    "start_time": "2022-03-30T16:28:19.833Z"
   },
   {
    "duration": 3,
    "start_time": "2022-03-30T16:28:23.366Z"
   },
   {
    "duration": 1501,
    "start_time": "2022-03-30T16:28:41.206Z"
   },
   {
    "duration": 743,
    "start_time": "2022-03-30T16:28:42.710Z"
   },
   {
    "duration": 137,
    "start_time": "2022-03-30T16:28:43.454Z"
   },
   {
    "duration": 369,
    "start_time": "2022-03-30T16:28:43.593Z"
   },
   {
    "duration": 418,
    "start_time": "2022-03-30T16:28:43.964Z"
   },
   {
    "duration": 474,
    "start_time": "2022-03-30T16:28:44.384Z"
   },
   {
    "duration": 48,
    "start_time": "2022-03-30T16:28:44.860Z"
   },
   {
    "duration": 1590,
    "start_time": "2022-03-30T16:28:44.910Z"
   },
   {
    "duration": 5,
    "start_time": "2022-03-30T16:28:46.502Z"
   },
   {
    "duration": 14,
    "start_time": "2022-03-30T16:28:46.509Z"
   },
   {
    "duration": 8,
    "start_time": "2022-03-30T16:28:46.524Z"
   },
   {
    "duration": 407,
    "start_time": "2022-03-30T16:28:46.533Z"
   },
   {
    "duration": 15,
    "start_time": "2022-03-30T16:28:46.942Z"
   },
   {
    "duration": 24,
    "start_time": "2022-03-30T16:28:46.959Z"
   },
   {
    "duration": 10,
    "start_time": "2022-03-30T16:28:46.985Z"
   },
   {
    "duration": 8,
    "start_time": "2022-03-30T16:28:46.997Z"
   },
   {
    "duration": 12,
    "start_time": "2022-03-30T16:30:54.488Z"
   },
   {
    "duration": 96,
    "start_time": "2022-03-30T16:32:03.755Z"
   },
   {
    "duration": 106,
    "start_time": "2022-03-30T16:32:09.779Z"
   },
   {
    "duration": 18,
    "start_time": "2022-03-30T16:33:16.690Z"
   },
   {
    "duration": 19,
    "start_time": "2022-03-30T16:33:29.887Z"
   },
   {
    "duration": 17,
    "start_time": "2022-03-30T16:33:56.779Z"
   },
   {
    "duration": 8,
    "start_time": "2022-03-30T16:34:22.991Z"
   },
   {
    "duration": 18,
    "start_time": "2022-03-30T16:35:04.003Z"
   },
   {
    "duration": 18,
    "start_time": "2022-03-30T16:35:33.926Z"
   },
   {
    "duration": 8,
    "start_time": "2022-03-30T16:36:52.462Z"
   },
   {
    "duration": 1478,
    "start_time": "2022-03-30T16:37:01.338Z"
   },
   {
    "duration": 746,
    "start_time": "2022-03-30T16:37:02.818Z"
   },
   {
    "duration": 137,
    "start_time": "2022-03-30T16:37:03.565Z"
   },
   {
    "duration": 363,
    "start_time": "2022-03-30T16:37:03.704Z"
   },
   {
    "duration": 404,
    "start_time": "2022-03-30T16:37:04.068Z"
   },
   {
    "duration": 447,
    "start_time": "2022-03-30T16:37:04.473Z"
   },
   {
    "duration": 38,
    "start_time": "2022-03-30T16:37:04.921Z"
   },
   {
    "duration": 1526,
    "start_time": "2022-03-30T16:37:04.961Z"
   },
   {
    "duration": 5,
    "start_time": "2022-03-30T16:37:06.489Z"
   },
   {
    "duration": 4,
    "start_time": "2022-03-30T16:37:06.496Z"
   },
   {
    "duration": 4,
    "start_time": "2022-03-30T16:37:06.502Z"
   },
   {
    "duration": 380,
    "start_time": "2022-03-30T16:37:06.508Z"
   },
   {
    "duration": 15,
    "start_time": "2022-03-30T16:37:06.889Z"
   },
   {
    "duration": 37,
    "start_time": "2022-03-30T16:37:06.906Z"
   },
   {
    "duration": 60,
    "start_time": "2022-03-30T16:37:06.944Z"
   },
   {
    "duration": 87,
    "start_time": "2022-03-30T16:37:07.005Z"
   },
   {
    "duration": 3,
    "start_time": "2022-03-30T16:37:07.094Z"
   },
   {
    "duration": 19,
    "start_time": "2022-03-30T16:37:38.802Z"
   },
   {
    "duration": 1499,
    "start_time": "2022-03-30T16:38:07.908Z"
   },
   {
    "duration": 842,
    "start_time": "2022-03-30T16:38:09.409Z"
   },
   {
    "duration": 136,
    "start_time": "2022-03-30T16:38:10.252Z"
   },
   {
    "duration": 370,
    "start_time": "2022-03-30T16:38:10.391Z"
   },
   {
    "duration": 424,
    "start_time": "2022-03-30T16:38:10.763Z"
   },
   {
    "duration": 450,
    "start_time": "2022-03-30T16:38:11.189Z"
   },
   {
    "duration": 45,
    "start_time": "2022-03-30T16:38:11.641Z"
   },
   {
    "duration": 1498,
    "start_time": "2022-03-30T16:38:11.688Z"
   },
   {
    "duration": 5,
    "start_time": "2022-03-30T16:38:13.188Z"
   },
   {
    "duration": 3,
    "start_time": "2022-03-30T16:38:13.196Z"
   },
   {
    "duration": 4,
    "start_time": "2022-03-30T16:38:13.201Z"
   },
   {
    "duration": 393,
    "start_time": "2022-03-30T16:38:13.207Z"
   },
   {
    "duration": 16,
    "start_time": "2022-03-30T16:38:13.601Z"
   },
   {
    "duration": 19,
    "start_time": "2022-03-30T16:38:13.619Z"
   },
   {
    "duration": 3,
    "start_time": "2022-03-30T16:38:13.639Z"
   },
   {
    "duration": 106,
    "start_time": "2022-03-30T16:38:13.644Z"
   },
   {
    "duration": 4,
    "start_time": "2022-03-30T16:38:13.752Z"
   },
   {
    "duration": 38,
    "start_time": "2022-03-30T16:38:35.895Z"
   },
   {
    "duration": 33,
    "start_time": "2022-03-30T16:39:25.772Z"
   },
   {
    "duration": 24,
    "start_time": "2022-03-30T16:40:09.993Z"
   },
   {
    "duration": 1495,
    "start_time": "2022-03-30T16:41:10.166Z"
   },
   {
    "duration": 748,
    "start_time": "2022-03-30T16:41:11.663Z"
   },
   {
    "duration": 133,
    "start_time": "2022-03-30T16:41:12.412Z"
   },
   {
    "duration": 360,
    "start_time": "2022-03-30T16:41:12.547Z"
   },
   {
    "duration": 397,
    "start_time": "2022-03-30T16:41:12.908Z"
   },
   {
    "duration": 440,
    "start_time": "2022-03-30T16:41:13.306Z"
   },
   {
    "duration": 42,
    "start_time": "2022-03-30T16:41:13.748Z"
   },
   {
    "duration": 1463,
    "start_time": "2022-03-30T16:41:13.793Z"
   },
   {
    "duration": 6,
    "start_time": "2022-03-30T16:41:15.258Z"
   },
   {
    "duration": 365,
    "start_time": "2022-03-30T16:41:15.267Z"
   },
   {
    "duration": 15,
    "start_time": "2022-03-30T16:41:15.634Z"
   },
   {
    "duration": 45,
    "start_time": "2022-03-30T16:41:15.650Z"
   },
   {
    "duration": 29,
    "start_time": "2022-03-30T16:41:15.697Z"
   },
   {
    "duration": 87,
    "start_time": "2022-03-30T16:41:15.727Z"
   },
   {
    "duration": 17,
    "start_time": "2022-03-30T16:41:15.816Z"
   },
   {
    "duration": 27,
    "start_time": "2022-03-30T16:41:51.128Z"
   },
   {
    "duration": 24,
    "start_time": "2022-03-30T16:41:54.785Z"
   },
   {
    "duration": 17,
    "start_time": "2022-03-30T16:42:02.611Z"
   },
   {
    "duration": 82,
    "start_time": "2022-03-30T16:42:11.485Z"
   },
   {
    "duration": 72,
    "start_time": "2022-03-30T16:42:29.552Z"
   },
   {
    "duration": 3311,
    "start_time": "2022-03-30T16:51:18.359Z"
   },
   {
    "duration": 81,
    "start_time": "2022-03-30T16:52:03.519Z"
   },
   {
    "duration": 17,
    "start_time": "2022-03-30T16:52:14.393Z"
   },
   {
    "duration": 1487,
    "start_time": "2022-03-30T16:55:22.934Z"
   },
   {
    "duration": 744,
    "start_time": "2022-03-30T16:55:24.423Z"
   },
   {
    "duration": 141,
    "start_time": "2022-03-30T16:55:25.169Z"
   },
   {
    "duration": 370,
    "start_time": "2022-03-30T16:55:25.312Z"
   },
   {
    "duration": 427,
    "start_time": "2022-03-30T16:55:25.683Z"
   },
   {
    "duration": 471,
    "start_time": "2022-03-30T16:55:26.112Z"
   },
   {
    "duration": 42,
    "start_time": "2022-03-30T16:55:26.585Z"
   },
   {
    "duration": 1469,
    "start_time": "2022-03-30T16:55:26.629Z"
   },
   {
    "duration": 6,
    "start_time": "2022-03-30T16:55:28.100Z"
   },
   {
    "duration": 393,
    "start_time": "2022-03-30T16:55:28.108Z"
   },
   {
    "duration": 14,
    "start_time": "2022-03-30T16:55:28.502Z"
   },
   {
    "duration": 29,
    "start_time": "2022-03-30T16:55:28.518Z"
   },
   {
    "duration": 40,
    "start_time": "2022-03-30T16:55:28.549Z"
   },
   {
    "duration": 76,
    "start_time": "2022-03-30T16:55:28.590Z"
   },
   {
    "duration": 93,
    "start_time": "2022-03-30T16:55:28.667Z"
   },
   {
    "duration": 25,
    "start_time": "2022-03-30T16:55:28.762Z"
   },
   {
    "duration": 78,
    "start_time": "2022-03-30T16:55:28.788Z"
   },
   {
    "duration": 3,
    "start_time": "2022-03-30T16:55:28.880Z"
   },
   {
    "duration": 74,
    "start_time": "2022-03-30T16:55:57.505Z"
   },
   {
    "duration": 1692,
    "start_time": "2022-03-31T15:35:24.159Z"
   },
   {
    "duration": 791,
    "start_time": "2022-03-31T15:35:25.853Z"
   },
   {
    "duration": 133,
    "start_time": "2022-03-31T15:35:26.645Z"
   },
   {
    "duration": 378,
    "start_time": "2022-03-31T15:35:26.780Z"
   },
   {
    "duration": 486,
    "start_time": "2022-03-31T15:35:27.159Z"
   },
   {
    "duration": 507,
    "start_time": "2022-03-31T15:35:27.647Z"
   },
   {
    "duration": 41,
    "start_time": "2022-03-31T15:35:28.156Z"
   },
   {
    "duration": 1546,
    "start_time": "2022-03-31T15:35:28.199Z"
   },
   {
    "duration": 6,
    "start_time": "2022-03-31T15:35:29.747Z"
   },
   {
    "duration": 450,
    "start_time": "2022-03-31T15:35:29.764Z"
   },
   {
    "duration": 16,
    "start_time": "2022-03-31T15:35:30.215Z"
   },
   {
    "duration": 51,
    "start_time": "2022-03-31T15:35:30.233Z"
   },
   {
    "duration": 28,
    "start_time": "2022-03-31T15:35:30.285Z"
   },
   {
    "duration": 92,
    "start_time": "2022-03-31T15:35:30.315Z"
   },
   {
    "duration": 104,
    "start_time": "2022-03-31T15:35:30.408Z"
   },
   {
    "duration": 18,
    "start_time": "2022-03-31T15:35:30.513Z"
   },
   {
    "duration": 153,
    "start_time": "2022-03-31T15:35:30.533Z"
   },
   {
    "duration": 4,
    "start_time": "2022-03-31T15:35:30.687Z"
   },
   {
    "duration": 654,
    "start_time": "2022-03-31T15:35:54.058Z"
   },
   {
    "duration": 406,
    "start_time": "2022-03-31T15:36:01.387Z"
   },
   {
    "duration": 384,
    "start_time": "2022-03-31T15:36:08.864Z"
   },
   {
    "duration": 323,
    "start_time": "2022-03-31T15:36:27.722Z"
   },
   {
    "duration": 339,
    "start_time": "2022-03-31T15:36:35.114Z"
   },
   {
    "duration": 495,
    "start_time": "2022-03-31T15:37:30.836Z"
   },
   {
    "duration": 1433,
    "start_time": "2022-03-31T15:37:42.398Z"
   },
   {
    "duration": 767,
    "start_time": "2022-03-31T15:37:43.834Z"
   },
   {
    "duration": 144,
    "start_time": "2022-03-31T15:37:44.603Z"
   },
   {
    "duration": 414,
    "start_time": "2022-03-31T15:37:44.749Z"
   },
   {
    "duration": 474,
    "start_time": "2022-03-31T15:37:45.165Z"
   },
   {
    "duration": 518,
    "start_time": "2022-03-31T15:37:45.640Z"
   },
   {
    "duration": 44,
    "start_time": "2022-03-31T15:37:46.163Z"
   },
   {
    "duration": 1630,
    "start_time": "2022-03-31T15:37:46.209Z"
   },
   {
    "duration": 6,
    "start_time": "2022-03-31T15:37:47.841Z"
   },
   {
    "duration": 390,
    "start_time": "2022-03-31T15:37:47.849Z"
   },
   {
    "duration": 25,
    "start_time": "2022-03-31T15:37:48.240Z"
   },
   {
    "duration": 34,
    "start_time": "2022-03-31T15:37:48.267Z"
   },
   {
    "duration": 26,
    "start_time": "2022-03-31T15:37:48.303Z"
   },
   {
    "duration": 158,
    "start_time": "2022-03-31T15:37:48.331Z"
   },
   {
    "duration": 166,
    "start_time": "2022-03-31T15:37:48.491Z"
   },
   {
    "duration": 24,
    "start_time": "2022-03-31T15:37:48.659Z"
   },
   {
    "duration": 92,
    "start_time": "2022-03-31T15:37:48.685Z"
   },
   {
    "duration": 4,
    "start_time": "2022-03-31T15:37:48.779Z"
   },
   {
    "duration": 402,
    "start_time": "2022-03-31T15:38:13.091Z"
   },
   {
    "duration": 1559,
    "start_time": "2022-03-31T15:38:20.679Z"
   },
   {
    "duration": 796,
    "start_time": "2022-03-31T15:38:22.240Z"
   },
   {
    "duration": 147,
    "start_time": "2022-03-31T15:38:23.037Z"
   },
   {
    "duration": 395,
    "start_time": "2022-03-31T15:38:23.188Z"
   },
   {
    "duration": 460,
    "start_time": "2022-03-31T15:38:23.584Z"
   },
   {
    "duration": 538,
    "start_time": "2022-03-31T15:38:24.045Z"
   },
   {
    "duration": 45,
    "start_time": "2022-03-31T15:38:24.585Z"
   },
   {
    "duration": 1648,
    "start_time": "2022-03-31T15:38:24.632Z"
   },
   {
    "duration": 6,
    "start_time": "2022-03-31T15:38:26.282Z"
   },
   {
    "duration": 455,
    "start_time": "2022-03-31T15:38:26.291Z"
   },
   {
    "duration": 30,
    "start_time": "2022-03-31T15:38:26.748Z"
   },
   {
    "duration": 34,
    "start_time": "2022-03-31T15:38:26.780Z"
   },
   {
    "duration": 25,
    "start_time": "2022-03-31T15:38:26.816Z"
   },
   {
    "duration": 100,
    "start_time": "2022-03-31T15:38:26.843Z"
   },
   {
    "duration": 111,
    "start_time": "2022-03-31T15:38:26.945Z"
   },
   {
    "duration": 23,
    "start_time": "2022-03-31T15:38:27.058Z"
   },
   {
    "duration": 103,
    "start_time": "2022-03-31T15:38:27.083Z"
   },
   {
    "duration": 4,
    "start_time": "2022-03-31T15:38:27.187Z"
   },
   {
    "duration": 378,
    "start_time": "2022-03-31T15:38:43.666Z"
   },
   {
    "duration": 366,
    "start_time": "2022-03-31T15:38:52.576Z"
   },
   {
    "duration": 89,
    "start_time": "2022-03-31T15:44:46.688Z"
   },
   {
    "duration": 6,
    "start_time": "2022-03-31T15:52:44.150Z"
   },
   {
    "duration": 3,
    "start_time": "2022-03-31T16:09:10.480Z"
   },
   {
    "duration": 16,
    "start_time": "2022-03-31T16:09:22.982Z"
   },
   {
    "duration": 109,
    "start_time": "2022-03-31T16:12:14.780Z"
   },
   {
    "duration": 24,
    "start_time": "2022-03-31T16:13:08.257Z"
   },
   {
    "duration": 18,
    "start_time": "2022-03-31T16:13:15.222Z"
   },
   {
    "duration": 1426,
    "start_time": "2022-03-31T16:13:40.300Z"
   },
   {
    "duration": 885,
    "start_time": "2022-03-31T16:13:41.728Z"
   },
   {
    "duration": 144,
    "start_time": "2022-03-31T16:13:42.614Z"
   },
   {
    "duration": 499,
    "start_time": "2022-03-31T16:13:42.763Z"
   },
   {
    "duration": 466,
    "start_time": "2022-03-31T16:13:43.264Z"
   },
   {
    "duration": 523,
    "start_time": "2022-03-31T16:13:43.732Z"
   },
   {
    "duration": 47,
    "start_time": "2022-03-31T16:13:44.257Z"
   },
   {
    "duration": 1701,
    "start_time": "2022-03-31T16:13:44.306Z"
   },
   {
    "duration": 392,
    "start_time": "2022-03-31T16:13:46.009Z"
   },
   {
    "duration": 15,
    "start_time": "2022-03-31T16:13:46.405Z"
   },
   {
    "duration": 54,
    "start_time": "2022-03-31T16:13:46.422Z"
   },
   {
    "duration": 25,
    "start_time": "2022-03-31T16:13:46.478Z"
   },
   {
    "duration": 94,
    "start_time": "2022-03-31T16:13:46.505Z"
   },
   {
    "duration": 109,
    "start_time": "2022-03-31T16:13:46.601Z"
   },
   {
    "duration": 17,
    "start_time": "2022-03-31T16:13:46.712Z"
   },
   {
    "duration": 10,
    "start_time": "2022-03-31T16:13:46.730Z"
   },
   {
    "duration": 24,
    "start_time": "2022-03-31T16:13:46.741Z"
   },
   {
    "duration": 83,
    "start_time": "2022-03-31T16:13:46.767Z"
   },
   {
    "duration": 88,
    "start_time": "2022-03-31T16:13:46.862Z"
   },
   {
    "duration": 15,
    "start_time": "2022-03-31T16:13:46.952Z"
   },
   {
    "duration": 3,
    "start_time": "2022-03-31T16:15:23.613Z"
   },
   {
    "duration": 1506,
    "start_time": "2022-03-31T16:17:00.603Z"
   },
   {
    "duration": 799,
    "start_time": "2022-03-31T16:17:02.111Z"
   },
   {
    "duration": 128,
    "start_time": "2022-03-31T16:17:02.912Z"
   },
   {
    "duration": 367,
    "start_time": "2022-03-31T16:17:03.042Z"
   },
   {
    "duration": 453,
    "start_time": "2022-03-31T16:17:03.411Z"
   },
   {
    "duration": 7,
    "start_time": "2022-03-31T16:17:03.866Z"
   },
   {
    "duration": 6,
    "start_time": "2022-03-31T16:17:03.875Z"
   },
   {
    "duration": 522,
    "start_time": "2022-03-31T16:17:03.883Z"
   },
   {
    "duration": 43,
    "start_time": "2022-03-31T16:17:04.406Z"
   },
   {
    "duration": 1513,
    "start_time": "2022-03-31T16:17:04.462Z"
   },
   {
    "duration": 502,
    "start_time": "2022-03-31T16:17:05.977Z"
   },
   {
    "duration": 17,
    "start_time": "2022-03-31T16:17:06.481Z"
   },
   {
    "duration": 34,
    "start_time": "2022-03-31T16:17:06.500Z"
   },
   {
    "duration": 51,
    "start_time": "2022-03-31T16:17:06.536Z"
   },
   {
    "duration": 80,
    "start_time": "2022-03-31T16:17:06.588Z"
   },
   {
    "duration": 159,
    "start_time": "2022-03-31T16:17:06.671Z"
   },
   {
    "duration": 18,
    "start_time": "2022-03-31T16:17:06.832Z"
   },
   {
    "duration": 3,
    "start_time": "2022-03-31T16:17:06.863Z"
   },
   {
    "duration": 15,
    "start_time": "2022-03-31T16:17:06.868Z"
   },
   {
    "duration": 88,
    "start_time": "2022-03-31T16:17:06.885Z"
   },
   {
    "duration": 88,
    "start_time": "2022-03-31T16:17:06.975Z"
   },
   {
    "duration": 6,
    "start_time": "2022-03-31T16:17:07.064Z"
   },
   {
    "duration": 2260,
    "start_time": "2022-03-31T16:23:32.087Z"
   },
   {
    "duration": 1395,
    "start_time": "2022-03-31T16:23:40.461Z"
   },
   {
    "duration": 723,
    "start_time": "2022-03-31T16:23:41.858Z"
   },
   {
    "duration": 136,
    "start_time": "2022-03-31T16:23:42.582Z"
   },
   {
    "duration": 367,
    "start_time": "2022-03-31T16:23:42.720Z"
   },
   {
    "duration": 423,
    "start_time": "2022-03-31T16:23:43.088Z"
   },
   {
    "duration": 479,
    "start_time": "2022-03-31T16:23:43.513Z"
   },
   {
    "duration": 42,
    "start_time": "2022-03-31T16:23:43.993Z"
   },
   {
    "duration": 1482,
    "start_time": "2022-03-31T16:23:44.037Z"
   },
   {
    "duration": 362,
    "start_time": "2022-03-31T16:23:45.521Z"
   },
   {
    "duration": 16,
    "start_time": "2022-03-31T16:23:45.886Z"
   },
   {
    "duration": 32,
    "start_time": "2022-03-31T16:23:45.904Z"
   },
   {
    "duration": 46,
    "start_time": "2022-03-31T16:23:45.938Z"
   },
   {
    "duration": 84,
    "start_time": "2022-03-31T16:23:45.986Z"
   },
   {
    "duration": 99,
    "start_time": "2022-03-31T16:23:46.072Z"
   },
   {
    "duration": 17,
    "start_time": "2022-03-31T16:23:46.172Z"
   },
   {
    "duration": 27,
    "start_time": "2022-03-31T16:23:46.191Z"
   },
   {
    "duration": 3,
    "start_time": "2022-03-31T16:23:46.219Z"
   },
   {
    "duration": 14,
    "start_time": "2022-03-31T16:23:46.224Z"
   },
   {
    "duration": 84,
    "start_time": "2022-03-31T16:23:46.240Z"
   },
   {
    "duration": 81,
    "start_time": "2022-03-31T16:23:46.325Z"
   },
   {
    "duration": 5,
    "start_time": "2022-03-31T16:23:46.407Z"
   },
   {
    "duration": 2227,
    "start_time": "2022-03-31T16:27:14.853Z"
   },
   {
    "duration": 1547,
    "start_time": "2022-03-31T16:27:24.112Z"
   },
   {
    "duration": 752,
    "start_time": "2022-03-31T16:27:25.661Z"
   },
   {
    "duration": 137,
    "start_time": "2022-03-31T16:27:26.414Z"
   },
   {
    "duration": 367,
    "start_time": "2022-03-31T16:27:26.553Z"
   },
   {
    "duration": 457,
    "start_time": "2022-03-31T16:27:26.922Z"
   },
   {
    "duration": 493,
    "start_time": "2022-03-31T16:27:27.381Z"
   },
   {
    "duration": 42,
    "start_time": "2022-03-31T16:27:27.876Z"
   },
   {
    "duration": 1525,
    "start_time": "2022-03-31T16:27:27.919Z"
   },
   {
    "duration": 400,
    "start_time": "2022-03-31T16:27:29.446Z"
   },
   {
    "duration": 19,
    "start_time": "2022-03-31T16:27:29.848Z"
   },
   {
    "duration": 31,
    "start_time": "2022-03-31T16:27:29.869Z"
   },
   {
    "duration": 28,
    "start_time": "2022-03-31T16:27:29.901Z"
   },
   {
    "duration": 99,
    "start_time": "2022-03-31T16:27:29.931Z"
   },
   {
    "duration": 111,
    "start_time": "2022-03-31T16:27:30.033Z"
   },
   {
    "duration": 27,
    "start_time": "2022-03-31T16:27:30.146Z"
   },
   {
    "duration": 29,
    "start_time": "2022-03-31T16:27:30.175Z"
   },
   {
    "duration": 13,
    "start_time": "2022-03-31T16:27:30.206Z"
   },
   {
    "duration": 23,
    "start_time": "2022-03-31T16:27:30.221Z"
   },
   {
    "duration": 72,
    "start_time": "2022-03-31T16:27:30.246Z"
   },
   {
    "duration": 78,
    "start_time": "2022-03-31T16:27:30.319Z"
   },
   {
    "duration": 5,
    "start_time": "2022-03-31T16:27:30.399Z"
   },
   {
    "duration": 1460,
    "start_time": "2022-03-31T16:28:03.824Z"
   },
   {
    "duration": 852,
    "start_time": "2022-03-31T16:28:05.286Z"
   },
   {
    "duration": 137,
    "start_time": "2022-03-31T16:28:06.139Z"
   },
   {
    "duration": 377,
    "start_time": "2022-03-31T16:28:06.278Z"
   },
   {
    "duration": 433,
    "start_time": "2022-03-31T16:28:06.657Z"
   },
   {
    "duration": 491,
    "start_time": "2022-03-31T16:28:07.091Z"
   },
   {
    "duration": 42,
    "start_time": "2022-03-31T16:28:07.584Z"
   },
   {
    "duration": 1476,
    "start_time": "2022-03-31T16:28:07.627Z"
   },
   {
    "duration": 370,
    "start_time": "2022-03-31T16:28:09.105Z"
   },
   {
    "duration": 14,
    "start_time": "2022-03-31T16:28:09.478Z"
   },
   {
    "duration": 30,
    "start_time": "2022-03-31T16:28:09.493Z"
   },
   {
    "duration": 41,
    "start_time": "2022-03-31T16:28:09.524Z"
   },
   {
    "duration": 73,
    "start_time": "2022-03-31T16:28:09.566Z"
   },
   {
    "duration": 96,
    "start_time": "2022-03-31T16:28:09.641Z"
   },
   {
    "duration": 25,
    "start_time": "2022-03-31T16:28:09.739Z"
   },
   {
    "duration": 23,
    "start_time": "2022-03-31T16:28:09.765Z"
   },
   {
    "duration": 3,
    "start_time": "2022-03-31T16:28:09.790Z"
   },
   {
    "duration": 15,
    "start_time": "2022-03-31T16:28:09.794Z"
   },
   {
    "duration": 81,
    "start_time": "2022-03-31T16:28:09.810Z"
   },
   {
    "duration": 76,
    "start_time": "2022-03-31T16:28:09.893Z"
   },
   {
    "duration": 5,
    "start_time": "2022-03-31T16:28:09.971Z"
   },
   {
    "duration": 148,
    "start_time": "2022-03-31T16:31:35.247Z"
   },
   {
    "duration": 1516,
    "start_time": "2022-03-31T16:34:17.099Z"
   },
   {
    "duration": 788,
    "start_time": "2022-03-31T16:34:18.617Z"
   },
   {
    "duration": 137,
    "start_time": "2022-03-31T16:34:19.407Z"
   },
   {
    "duration": 404,
    "start_time": "2022-03-31T16:34:19.546Z"
   },
   {
    "duration": 484,
    "start_time": "2022-03-31T16:34:19.951Z"
   },
   {
    "duration": 523,
    "start_time": "2022-03-31T16:34:20.437Z"
   },
   {
    "duration": 44,
    "start_time": "2022-03-31T16:34:20.962Z"
   },
   {
    "duration": 1622,
    "start_time": "2022-03-31T16:34:21.008Z"
   },
   {
    "duration": 389,
    "start_time": "2022-03-31T16:34:22.632Z"
   },
   {
    "duration": 15,
    "start_time": "2022-03-31T16:34:23.024Z"
   },
   {
    "duration": 51,
    "start_time": "2022-03-31T16:34:23.041Z"
   },
   {
    "duration": 27,
    "start_time": "2022-03-31T16:34:23.093Z"
   },
   {
    "duration": 337,
    "start_time": "2022-03-31T16:34:23.121Z"
   },
   {
    "duration": 23,
    "start_time": "2022-03-31T16:34:23.459Z"
   },
   {
    "duration": 94,
    "start_time": "2022-03-31T16:34:23.484Z"
   },
   {
    "duration": 99,
    "start_time": "2022-03-31T16:34:23.580Z"
   },
   {
    "duration": 16,
    "start_time": "2022-03-31T16:34:23.681Z"
   },
   {
    "duration": 32,
    "start_time": "2022-03-31T16:34:23.698Z"
   },
   {
    "duration": 15,
    "start_time": "2022-03-31T16:34:23.731Z"
   },
   {
    "duration": 25,
    "start_time": "2022-03-31T16:34:23.748Z"
   },
   {
    "duration": 75,
    "start_time": "2022-03-31T16:34:23.775Z"
   },
   {
    "duration": 80,
    "start_time": "2022-03-31T16:34:23.852Z"
   },
   {
    "duration": 5,
    "start_time": "2022-03-31T16:34:23.934Z"
   },
   {
    "duration": 184,
    "start_time": "2022-03-31T16:34:57.481Z"
   },
   {
    "duration": 1433,
    "start_time": "2022-03-31T16:35:19.535Z"
   },
   {
    "duration": 750,
    "start_time": "2022-03-31T16:35:20.970Z"
   },
   {
    "duration": 129,
    "start_time": "2022-03-31T16:35:21.721Z"
   },
   {
    "duration": 364,
    "start_time": "2022-03-31T16:35:21.852Z"
   },
   {
    "duration": 439,
    "start_time": "2022-03-31T16:35:22.217Z"
   },
   {
    "duration": 463,
    "start_time": "2022-03-31T16:35:22.657Z"
   },
   {
    "duration": 45,
    "start_time": "2022-03-31T16:35:23.121Z"
   },
   {
    "duration": 1492,
    "start_time": "2022-03-31T16:35:23.168Z"
   },
   {
    "duration": 350,
    "start_time": "2022-03-31T16:35:24.662Z"
   },
   {
    "duration": 16,
    "start_time": "2022-03-31T16:35:25.015Z"
   },
   {
    "duration": 46,
    "start_time": "2022-03-31T16:35:25.033Z"
   },
   {
    "duration": 25,
    "start_time": "2022-03-31T16:35:25.081Z"
   },
   {
    "duration": 316,
    "start_time": "2022-03-31T16:35:25.108Z"
   },
   {
    "duration": 16,
    "start_time": "2022-03-31T16:35:25.426Z"
   },
   {
    "duration": 87,
    "start_time": "2022-03-31T16:35:25.444Z"
   },
   {
    "duration": 95,
    "start_time": "2022-03-31T16:35:25.533Z"
   },
   {
    "duration": 18,
    "start_time": "2022-03-31T16:35:25.630Z"
   },
   {
    "duration": 25,
    "start_time": "2022-03-31T16:35:25.662Z"
   },
   {
    "duration": 9,
    "start_time": "2022-03-31T16:35:25.688Z"
   },
   {
    "duration": 13,
    "start_time": "2022-03-31T16:35:25.699Z"
   },
   {
    "duration": 77,
    "start_time": "2022-03-31T16:35:25.713Z"
   },
   {
    "duration": 74,
    "start_time": "2022-03-31T16:35:25.791Z"
   },
   {
    "duration": 5,
    "start_time": "2022-03-31T16:35:25.867Z"
   },
   {
    "duration": 5,
    "start_time": "2022-03-31T16:40:23.813Z"
   },
   {
    "duration": 57,
    "start_time": "2022-03-31T16:42:01.820Z"
   },
   {
    "duration": 19,
    "start_time": "2022-03-31T16:42:36.997Z"
   },
   {
    "duration": 20,
    "start_time": "2022-03-31T16:43:43.460Z"
   },
   {
    "duration": 16,
    "start_time": "2022-03-31T16:43:50.148Z"
   },
   {
    "duration": 13,
    "start_time": "2022-03-31T16:43:57.248Z"
   },
   {
    "duration": 190,
    "start_time": "2022-03-31T16:45:56.690Z"
   },
   {
    "duration": 1415,
    "start_time": "2022-03-31T16:46:02.833Z"
   },
   {
    "duration": 724,
    "start_time": "2022-03-31T16:46:04.250Z"
   },
   {
    "duration": 132,
    "start_time": "2022-03-31T16:46:04.976Z"
   },
   {
    "duration": 359,
    "start_time": "2022-03-31T16:46:05.110Z"
   },
   {
    "duration": 413,
    "start_time": "2022-03-31T16:46:05.471Z"
   },
   {
    "duration": 465,
    "start_time": "2022-03-31T16:46:05.886Z"
   },
   {
    "duration": 44,
    "start_time": "2022-03-31T16:46:06.353Z"
   },
   {
    "duration": 1480,
    "start_time": "2022-03-31T16:46:06.398Z"
   },
   {
    "duration": 367,
    "start_time": "2022-03-31T16:46:07.879Z"
   },
   {
    "duration": 19,
    "start_time": "2022-03-31T16:46:08.249Z"
   },
   {
    "duration": 30,
    "start_time": "2022-03-31T16:46:08.270Z"
   },
   {
    "duration": 26,
    "start_time": "2022-03-31T16:46:08.301Z"
   },
   {
    "duration": 306,
    "start_time": "2022-03-31T16:46:08.328Z"
   },
   {
    "duration": 27,
    "start_time": "2022-03-31T16:46:08.636Z"
   },
   {
    "duration": 12,
    "start_time": "2022-03-31T16:46:08.664Z"
   },
   {
    "duration": 91,
    "start_time": "2022-03-31T16:46:08.678Z"
   },
   {
    "duration": 85,
    "start_time": "2022-03-31T16:46:08.770Z"
   },
   {
    "duration": 17,
    "start_time": "2022-03-31T16:46:08.863Z"
   },
   {
    "duration": 27,
    "start_time": "2022-03-31T16:46:08.881Z"
   },
   {
    "duration": 5,
    "start_time": "2022-03-31T16:46:08.909Z"
   },
   {
    "duration": 14,
    "start_time": "2022-03-31T16:46:08.915Z"
   },
   {
    "duration": 82,
    "start_time": "2022-03-31T16:46:08.930Z"
   },
   {
    "duration": 79,
    "start_time": "2022-03-31T16:46:09.014Z"
   },
   {
    "duration": 5,
    "start_time": "2022-03-31T16:46:09.095Z"
   },
   {
    "duration": 119,
    "start_time": "2022-03-31T16:56:55.895Z"
   },
   {
    "duration": 1380,
    "start_time": "2022-03-31T16:57:02.193Z"
   },
   {
    "duration": 731,
    "start_time": "2022-03-31T16:57:03.575Z"
   },
   {
    "duration": 135,
    "start_time": "2022-03-31T16:57:04.308Z"
   },
   {
    "duration": 366,
    "start_time": "2022-03-31T16:57:04.446Z"
   },
   {
    "duration": 427,
    "start_time": "2022-03-31T16:57:04.814Z"
   },
   {
    "duration": 468,
    "start_time": "2022-03-31T16:57:05.243Z"
   },
   {
    "duration": 41,
    "start_time": "2022-03-31T16:57:05.713Z"
   },
   {
    "duration": 1476,
    "start_time": "2022-03-31T16:57:05.756Z"
   },
   {
    "duration": 358,
    "start_time": "2022-03-31T16:57:07.234Z"
   },
   {
    "duration": 15,
    "start_time": "2022-03-31T16:57:07.594Z"
   },
   {
    "duration": 30,
    "start_time": "2022-03-31T16:57:07.610Z"
   },
   {
    "duration": 41,
    "start_time": "2022-03-31T16:57:07.642Z"
   },
   {
    "duration": 297,
    "start_time": "2022-03-31T16:57:07.684Z"
   },
   {
    "duration": 16,
    "start_time": "2022-03-31T16:57:07.983Z"
   },
   {
    "duration": 13,
    "start_time": "2022-03-31T16:57:08.000Z"
   },
   {
    "duration": 11,
    "start_time": "2022-03-31T16:57:08.015Z"
   },
   {
    "duration": 100,
    "start_time": "2022-03-31T16:57:08.028Z"
   },
   {
    "duration": 99,
    "start_time": "2022-03-31T16:57:08.129Z"
   },
   {
    "duration": 19,
    "start_time": "2022-03-31T16:57:08.230Z"
   },
   {
    "duration": 34,
    "start_time": "2022-03-31T16:57:08.251Z"
   },
   {
    "duration": 5,
    "start_time": "2022-03-31T16:57:08.287Z"
   },
   {
    "duration": 14,
    "start_time": "2022-03-31T16:57:08.293Z"
   },
   {
    "duration": 75,
    "start_time": "2022-03-31T16:57:08.308Z"
   },
   {
    "duration": 78,
    "start_time": "2022-03-31T16:57:08.385Z"
   },
   {
    "duration": 6,
    "start_time": "2022-03-31T16:57:08.464Z"
   },
   {
    "duration": 1445,
    "start_time": "2022-03-31T16:58:01.532Z"
   },
   {
    "duration": 743,
    "start_time": "2022-03-31T16:58:02.979Z"
   },
   {
    "duration": 146,
    "start_time": "2022-03-31T16:58:03.723Z"
   },
   {
    "duration": 363,
    "start_time": "2022-03-31T16:58:03.871Z"
   },
   {
    "duration": 412,
    "start_time": "2022-03-31T16:58:04.236Z"
   },
   {
    "duration": 467,
    "start_time": "2022-03-31T16:58:04.650Z"
   },
   {
    "duration": 47,
    "start_time": "2022-03-31T16:58:05.119Z"
   },
   {
    "duration": 1458,
    "start_time": "2022-03-31T16:58:05.168Z"
   },
   {
    "duration": 372,
    "start_time": "2022-03-31T16:58:06.628Z"
   },
   {
    "duration": 15,
    "start_time": "2022-03-31T16:58:07.003Z"
   },
   {
    "duration": 50,
    "start_time": "2022-03-31T16:58:07.020Z"
   },
   {
    "duration": 27,
    "start_time": "2022-03-31T16:58:07.072Z"
   },
   {
    "duration": 400,
    "start_time": "2022-03-31T16:58:07.101Z"
   },
   {
    "duration": 16,
    "start_time": "2022-03-31T16:58:07.502Z"
   },
   {
    "duration": 11,
    "start_time": "2022-03-31T16:58:07.519Z"
   },
   {
    "duration": 44,
    "start_time": "2022-03-31T16:58:07.532Z"
   },
   {
    "duration": 86,
    "start_time": "2022-03-31T16:58:07.577Z"
   },
   {
    "duration": 18,
    "start_time": "2022-03-31T16:58:07.664Z"
   },
   {
    "duration": 93,
    "start_time": "2022-03-31T16:58:07.684Z"
   },
   {
    "duration": 4,
    "start_time": "2022-03-31T16:58:07.779Z"
   },
   {
    "duration": 28,
    "start_time": "2022-03-31T16:59:00.439Z"
   },
   {
    "duration": 25,
    "start_time": "2022-03-31T16:59:10.596Z"
   },
   {
    "duration": 27,
    "start_time": "2022-03-31T16:59:38.875Z"
   },
   {
    "duration": 27,
    "start_time": "2022-03-31T16:59:45.634Z"
   },
   {
    "duration": 26,
    "start_time": "2022-03-31T16:59:49.011Z"
   },
   {
    "duration": 27,
    "start_time": "2022-03-31T17:04:27.179Z"
   },
   {
    "duration": 23,
    "start_time": "2022-03-31T17:04:57.353Z"
   },
   {
    "duration": 1957,
    "start_time": "2022-03-31T17:07:07.222Z"
   },
   {
    "duration": 975,
    "start_time": "2022-03-31T17:07:09.182Z"
   },
   {
    "duration": 196,
    "start_time": "2022-03-31T17:07:10.163Z"
   },
   {
    "duration": 538,
    "start_time": "2022-03-31T17:07:10.361Z"
   },
   {
    "duration": 539,
    "start_time": "2022-03-31T17:07:10.901Z"
   },
   {
    "duration": 584,
    "start_time": "2022-03-31T17:07:11.442Z"
   },
   {
    "duration": 42,
    "start_time": "2022-03-31T17:07:12.027Z"
   },
   {
    "duration": 1516,
    "start_time": "2022-03-31T17:07:12.071Z"
   },
   {
    "duration": 393,
    "start_time": "2022-03-31T17:07:13.588Z"
   },
   {
    "duration": 17,
    "start_time": "2022-03-31T17:07:13.983Z"
   },
   {
    "duration": 32,
    "start_time": "2022-03-31T17:07:14.003Z"
   },
   {
    "duration": 53,
    "start_time": "2022-03-31T17:07:14.037Z"
   },
   {
    "duration": 310,
    "start_time": "2022-03-31T17:07:14.091Z"
   },
   {
    "duration": 16,
    "start_time": "2022-03-31T17:07:14.403Z"
   },
   {
    "duration": 14,
    "start_time": "2022-03-31T17:07:14.421Z"
   },
   {
    "duration": 59,
    "start_time": "2022-03-31T17:07:14.436Z"
   },
   {
    "duration": 25,
    "start_time": "2022-03-31T17:07:14.496Z"
   },
   {
    "duration": 91,
    "start_time": "2022-03-31T17:07:14.522Z"
   },
   {
    "duration": 23,
    "start_time": "2022-03-31T17:07:14.616Z"
   },
   {
    "duration": 102,
    "start_time": "2022-03-31T17:07:14.641Z"
   },
   {
    "duration": 19,
    "start_time": "2022-03-31T17:07:14.745Z"
   },
   {
    "duration": 86,
    "start_time": "2022-03-31T17:12:20.593Z"
   },
   {
    "duration": 17,
    "start_time": "2022-03-31T17:12:22.250Z"
   },
   {
    "duration": 28,
    "start_time": "2022-03-31T17:12:32.000Z"
   },
   {
    "duration": 4,
    "start_time": "2022-03-31T17:13:13.575Z"
   },
   {
    "duration": 25,
    "start_time": "2022-03-31T17:13:16.745Z"
   },
   {
    "duration": 68,
    "start_time": "2022-03-31T17:13:19.416Z"
   },
   {
    "duration": 71,
    "start_time": "2022-03-31T17:13:23.115Z"
   },
   {
    "duration": 5,
    "start_time": "2022-03-31T17:13:27.256Z"
   },
   {
    "duration": 17,
    "start_time": "2022-03-31T17:25:13.787Z"
   },
   {
    "duration": 39,
    "start_time": "2022-03-31T17:25:41.741Z"
   },
   {
    "duration": 126,
    "start_time": "2022-03-31T17:25:52.961Z"
   },
   {
    "duration": 34,
    "start_time": "2022-03-31T17:26:14.502Z"
   },
   {
    "duration": 10,
    "start_time": "2022-03-31T17:29:46.995Z"
   },
   {
    "duration": 10,
    "start_time": "2022-03-31T17:32:20.895Z"
   },
   {
    "duration": 4,
    "start_time": "2022-03-31T17:32:29.150Z"
   },
   {
    "duration": 14,
    "start_time": "2022-03-31T17:34:14.103Z"
   },
   {
    "duration": 3,
    "start_time": "2022-03-31T17:34:51.436Z"
   },
   {
    "duration": 716,
    "start_time": "2022-03-31T17:34:56.967Z"
   },
   {
    "duration": 4,
    "start_time": "2022-03-31T17:35:10.204Z"
   },
   {
    "duration": 3,
    "start_time": "2022-03-31T17:35:25.425Z"
   },
   {
    "duration": 16,
    "start_time": "2022-03-31T17:39:33.071Z"
   },
   {
    "duration": 2,
    "start_time": "2022-03-31T17:39:47.620Z"
   },
   {
    "duration": 17,
    "start_time": "2022-03-31T17:39:48.213Z"
   },
   {
    "duration": 1573,
    "start_time": "2022-03-31T17:39:54.557Z"
   },
   {
    "duration": 768,
    "start_time": "2022-03-31T17:39:56.132Z"
   },
   {
    "duration": 239,
    "start_time": "2022-03-31T17:39:56.902Z"
   },
   {
    "duration": 769,
    "start_time": "2022-03-31T17:39:57.144Z"
   },
   {
    "duration": 466,
    "start_time": "2022-03-31T17:39:57.916Z"
   },
   {
    "duration": 594,
    "start_time": "2022-03-31T17:39:58.384Z"
   },
   {
    "duration": 44,
    "start_time": "2022-03-31T17:39:58.980Z"
   },
   {
    "duration": 1538,
    "start_time": "2022-03-31T17:39:59.025Z"
   },
   {
    "duration": 394,
    "start_time": "2022-03-31T17:40:00.565Z"
   },
   {
    "duration": 17,
    "start_time": "2022-03-31T17:40:00.961Z"
   },
   {
    "duration": 35,
    "start_time": "2022-03-31T17:40:00.979Z"
   },
   {
    "duration": 49,
    "start_time": "2022-03-31T17:40:01.015Z"
   },
   {
    "duration": 309,
    "start_time": "2022-03-31T17:40:01.066Z"
   },
   {
    "duration": 15,
    "start_time": "2022-03-31T17:40:01.377Z"
   },
   {
    "duration": 20,
    "start_time": "2022-03-31T17:40:01.394Z"
   },
   {
    "duration": 48,
    "start_time": "2022-03-31T17:40:01.415Z"
   },
   {
    "duration": 25,
    "start_time": "2022-03-31T17:40:01.465Z"
   },
   {
    "duration": 83,
    "start_time": "2022-03-31T17:40:01.492Z"
   },
   {
    "duration": 100,
    "start_time": "2022-03-31T17:40:01.577Z"
   },
   {
    "duration": 17,
    "start_time": "2022-03-31T17:40:01.678Z"
   },
   {
    "duration": 32,
    "start_time": "2022-03-31T17:40:01.697Z"
   },
   {
    "duration": 6,
    "start_time": "2022-03-31T17:40:01.731Z"
   },
   {
    "duration": 25,
    "start_time": "2022-03-31T17:40:01.738Z"
   },
   {
    "duration": 65,
    "start_time": "2022-03-31T17:40:01.764Z"
   },
   {
    "duration": 88,
    "start_time": "2022-03-31T17:40:01.831Z"
   },
   {
    "duration": 6,
    "start_time": "2022-03-31T17:40:01.920Z"
   },
   {
    "duration": 71,
    "start_time": "2022-03-31T17:40:01.929Z"
   },
   {
    "duration": 1148,
    "start_time": "2022-03-31T17:40:02.005Z"
   },
   {
    "duration": 7,
    "start_time": "2022-03-31T17:40:03.156Z"
   },
   {
    "duration": 29,
    "start_time": "2022-03-31T17:40:03.165Z"
   },
   {
    "duration": 22,
    "start_time": "2022-03-31T17:40:03.196Z"
   },
   {
    "duration": 1523,
    "start_time": "2022-03-31T17:40:19.316Z"
   },
   {
    "duration": 789,
    "start_time": "2022-03-31T17:40:20.841Z"
   },
   {
    "duration": 139,
    "start_time": "2022-03-31T17:40:21.631Z"
   },
   {
    "duration": 367,
    "start_time": "2022-03-31T17:40:21.773Z"
   },
   {
    "duration": 454,
    "start_time": "2022-03-31T17:40:22.142Z"
   },
   {
    "duration": 614,
    "start_time": "2022-03-31T17:40:22.597Z"
   },
   {
    "duration": 50,
    "start_time": "2022-03-31T17:40:23.213Z"
   },
   {
    "duration": 1525,
    "start_time": "2022-03-31T17:40:23.265Z"
   },
   {
    "duration": 395,
    "start_time": "2022-03-31T17:40:24.792Z"
   },
   {
    "duration": 17,
    "start_time": "2022-03-31T17:40:25.189Z"
   },
   {
    "duration": 34,
    "start_time": "2022-03-31T17:40:25.207Z"
   },
   {
    "duration": 43,
    "start_time": "2022-03-31T17:40:25.243Z"
   },
   {
    "duration": 304,
    "start_time": "2022-03-31T17:40:25.288Z"
   },
   {
    "duration": 16,
    "start_time": "2022-03-31T17:40:25.593Z"
   },
   {
    "duration": 12,
    "start_time": "2022-03-31T17:40:25.610Z"
   },
   {
    "duration": 58,
    "start_time": "2022-03-31T17:40:25.624Z"
   },
   {
    "duration": 25,
    "start_time": "2022-03-31T17:40:25.683Z"
   },
   {
    "duration": 87,
    "start_time": "2022-03-31T17:40:25.710Z"
   },
   {
    "duration": 100,
    "start_time": "2022-03-31T17:40:25.798Z"
   },
   {
    "duration": 18,
    "start_time": "2022-03-31T17:40:25.900Z"
   },
   {
    "duration": 45,
    "start_time": "2022-03-31T17:40:25.919Z"
   },
   {
    "duration": 3,
    "start_time": "2022-03-31T17:40:25.966Z"
   },
   {
    "duration": 13,
    "start_time": "2022-03-31T17:40:25.971Z"
   },
   {
    "duration": 86,
    "start_time": "2022-03-31T17:40:25.985Z"
   },
   {
    "duration": 70,
    "start_time": "2022-03-31T17:40:26.073Z"
   },
   {
    "duration": 18,
    "start_time": "2022-03-31T17:40:26.145Z"
   },
   {
    "duration": 26,
    "start_time": "2022-03-31T17:40:26.165Z"
   },
   {
    "duration": 702,
    "start_time": "2022-03-31T17:40:26.194Z"
   },
   {
    "duration": 2,
    "start_time": "2022-03-31T17:40:26.897Z"
   },
   {
    "duration": 19,
    "start_time": "2022-03-31T17:40:26.901Z"
   },
   {
    "duration": 6,
    "start_time": "2022-03-31T17:40:26.921Z"
   },
   {
    "duration": 1621,
    "start_time": "2022-03-31T17:45:01.551Z"
   },
   {
    "duration": 808,
    "start_time": "2022-03-31T17:45:03.174Z"
   },
   {
    "duration": 163,
    "start_time": "2022-03-31T17:45:03.983Z"
   },
   {
    "duration": 450,
    "start_time": "2022-03-31T17:45:04.149Z"
   },
   {
    "duration": 580,
    "start_time": "2022-03-31T17:45:04.601Z"
   },
   {
    "duration": 500,
    "start_time": "2022-03-31T17:45:05.183Z"
   },
   {
    "duration": 42,
    "start_time": "2022-03-31T17:45:05.685Z"
   },
   {
    "duration": 1473,
    "start_time": "2022-03-31T17:45:05.729Z"
   },
   {
    "duration": 365,
    "start_time": "2022-03-31T17:45:07.204Z"
   },
   {
    "duration": 15,
    "start_time": "2022-03-31T17:45:07.572Z"
   },
   {
    "duration": 30,
    "start_time": "2022-03-31T17:45:07.588Z"
   },
   {
    "duration": 46,
    "start_time": "2022-03-31T17:45:07.619Z"
   },
   {
    "duration": 291,
    "start_time": "2022-03-31T17:45:07.666Z"
   },
   {
    "duration": 16,
    "start_time": "2022-03-31T17:45:07.962Z"
   },
   {
    "duration": 11,
    "start_time": "2022-03-31T17:45:07.980Z"
   },
   {
    "duration": 26,
    "start_time": "2022-03-31T17:45:07.993Z"
   },
   {
    "duration": 49,
    "start_time": "2022-03-31T17:45:08.021Z"
   },
   {
    "duration": 74,
    "start_time": "2022-03-31T17:45:08.072Z"
   },
   {
    "duration": 97,
    "start_time": "2022-03-31T17:45:08.148Z"
   },
   {
    "duration": 23,
    "start_time": "2022-03-31T17:45:08.247Z"
   },
   {
    "duration": 25,
    "start_time": "2022-03-31T17:45:08.271Z"
   },
   {
    "duration": 9,
    "start_time": "2022-03-31T17:45:08.298Z"
   },
   {
    "duration": 17,
    "start_time": "2022-03-31T17:45:08.309Z"
   },
   {
    "duration": 74,
    "start_time": "2022-03-31T17:45:08.328Z"
   },
   {
    "duration": 79,
    "start_time": "2022-03-31T17:45:08.404Z"
   },
   {
    "duration": 5,
    "start_time": "2022-03-31T17:45:08.485Z"
   },
   {
    "duration": 34,
    "start_time": "2022-03-31T17:45:08.491Z"
   },
   {
    "duration": 679,
    "start_time": "2022-03-31T17:45:08.528Z"
   },
   {
    "duration": 2,
    "start_time": "2022-03-31T17:45:09.209Z"
   },
   {
    "duration": 18,
    "start_time": "2022-03-31T17:45:09.212Z"
   },
   {
    "duration": 5,
    "start_time": "2022-03-31T17:45:09.232Z"
   },
   {
    "duration": 101,
    "start_time": "2022-03-31T17:46:52.911Z"
   },
   {
    "duration": 74,
    "start_time": "2022-03-31T17:47:15.100Z"
   },
   {
    "duration": 1376,
    "start_time": "2022-03-31T17:49:02.775Z"
   },
   {
    "duration": 729,
    "start_time": "2022-03-31T17:49:04.153Z"
   },
   {
    "duration": 131,
    "start_time": "2022-03-31T17:49:04.884Z"
   },
   {
    "duration": 367,
    "start_time": "2022-03-31T17:49:05.017Z"
   },
   {
    "duration": 421,
    "start_time": "2022-03-31T17:49:05.385Z"
   },
   {
    "duration": 466,
    "start_time": "2022-03-31T17:49:05.807Z"
   },
   {
    "duration": 45,
    "start_time": "2022-03-31T17:49:06.275Z"
   },
   {
    "duration": 1563,
    "start_time": "2022-03-31T17:49:06.322Z"
   },
   {
    "duration": 360,
    "start_time": "2022-03-31T17:49:07.887Z"
   },
   {
    "duration": 24,
    "start_time": "2022-03-31T17:49:08.249Z"
   },
   {
    "duration": 31,
    "start_time": "2022-03-31T17:49:08.275Z"
   },
   {
    "duration": 26,
    "start_time": "2022-03-31T17:49:08.308Z"
   },
   {
    "duration": 308,
    "start_time": "2022-03-31T17:49:08.335Z"
   },
   {
    "duration": 29,
    "start_time": "2022-03-31T17:49:08.645Z"
   },
   {
    "duration": 12,
    "start_time": "2022-03-31T17:49:08.675Z"
   },
   {
    "duration": 24,
    "start_time": "2022-03-31T17:49:08.688Z"
   },
   {
    "duration": 23,
    "start_time": "2022-03-31T17:49:08.714Z"
   },
   {
    "duration": 93,
    "start_time": "2022-03-31T17:49:08.739Z"
   },
   {
    "duration": 98,
    "start_time": "2022-03-31T17:49:08.833Z"
   },
   {
    "duration": 16,
    "start_time": "2022-03-31T17:49:08.933Z"
   },
   {
    "duration": 33,
    "start_time": "2022-03-31T17:49:08.951Z"
   },
   {
    "duration": 4,
    "start_time": "2022-03-31T17:49:08.986Z"
   },
   {
    "duration": 14,
    "start_time": "2022-03-31T17:49:08.991Z"
   },
   {
    "duration": 76,
    "start_time": "2022-03-31T17:49:09.007Z"
   },
   {
    "duration": 67,
    "start_time": "2022-03-31T17:49:09.085Z"
   },
   {
    "duration": 14,
    "start_time": "2022-03-31T17:49:09.153Z"
   },
   {
    "duration": 43,
    "start_time": "2022-03-31T17:49:09.169Z"
   },
   {
    "duration": 791,
    "start_time": "2022-03-31T17:49:09.215Z"
   },
   {
    "duration": 3,
    "start_time": "2022-03-31T17:49:10.007Z"
   },
   {
    "duration": 34,
    "start_time": "2022-03-31T17:49:10.012Z"
   },
   {
    "duration": 75,
    "start_time": "2022-03-31T17:49:10.048Z"
   },
   {
    "duration": 16,
    "start_time": "2022-03-31T17:49:10.125Z"
   },
   {
    "duration": 1369,
    "start_time": "2022-03-31T17:51:03.782Z"
   },
   {
    "duration": 721,
    "start_time": "2022-03-31T17:51:05.153Z"
   },
   {
    "duration": 129,
    "start_time": "2022-03-31T17:51:05.875Z"
   },
   {
    "duration": 369,
    "start_time": "2022-03-31T17:51:06.006Z"
   },
   {
    "duration": 416,
    "start_time": "2022-03-31T17:51:06.376Z"
   },
   {
    "duration": 454,
    "start_time": "2022-03-31T17:51:06.794Z"
   },
   {
    "duration": 45,
    "start_time": "2022-03-31T17:51:07.250Z"
   },
   {
    "duration": 1469,
    "start_time": "2022-03-31T17:51:07.297Z"
   },
   {
    "duration": 366,
    "start_time": "2022-03-31T17:51:08.768Z"
   },
   {
    "duration": 15,
    "start_time": "2022-03-31T17:51:09.137Z"
   },
   {
    "duration": 43,
    "start_time": "2022-03-31T17:51:09.153Z"
   },
   {
    "duration": 25,
    "start_time": "2022-03-31T17:51:09.197Z"
   },
   {
    "duration": 302,
    "start_time": "2022-03-31T17:51:09.223Z"
   },
   {
    "duration": 15,
    "start_time": "2022-03-31T17:51:09.527Z"
   },
   {
    "duration": 27,
    "start_time": "2022-03-31T17:51:09.543Z"
   },
   {
    "duration": 24,
    "start_time": "2022-03-31T17:51:09.572Z"
   },
   {
    "duration": 24,
    "start_time": "2022-03-31T17:51:09.597Z"
   },
   {
    "duration": 90,
    "start_time": "2022-03-31T17:51:09.622Z"
   },
   {
    "duration": 93,
    "start_time": "2022-03-31T17:51:09.713Z"
   },
   {
    "duration": 18,
    "start_time": "2022-03-31T17:51:09.808Z"
   },
   {
    "duration": 38,
    "start_time": "2022-03-31T17:51:09.827Z"
   },
   {
    "duration": 3,
    "start_time": "2022-03-31T17:51:09.866Z"
   },
   {
    "duration": 14,
    "start_time": "2022-03-31T17:51:09.870Z"
   },
   {
    "duration": 78,
    "start_time": "2022-03-31T17:51:09.886Z"
   },
   {
    "duration": 71,
    "start_time": "2022-03-31T17:51:09.965Z"
   },
   {
    "duration": 5,
    "start_time": "2022-03-31T17:51:10.038Z"
   },
   {
    "duration": 43,
    "start_time": "2022-03-31T17:51:10.045Z"
   },
   {
    "duration": 692,
    "start_time": "2022-03-31T17:51:10.091Z"
   },
   {
    "duration": 3,
    "start_time": "2022-03-31T17:51:10.784Z"
   },
   {
    "duration": 26,
    "start_time": "2022-03-31T17:51:10.788Z"
   },
   {
    "duration": 83,
    "start_time": "2022-03-31T17:51:10.816Z"
   },
   {
    "duration": 18,
    "start_time": "2022-03-31T17:51:10.901Z"
   },
   {
    "duration": 11,
    "start_time": "2022-03-31T17:58:31.119Z"
   },
   {
    "duration": 708,
    "start_time": "2022-03-31T17:59:31.542Z"
   },
   {
    "duration": 3,
    "start_time": "2022-03-31T18:00:11.828Z"
   },
   {
    "duration": 27,
    "start_time": "2022-03-31T18:00:22.262Z"
   },
   {
    "duration": 109,
    "start_time": "2022-03-31T18:00:41.596Z"
   },
   {
    "duration": 74,
    "start_time": "2022-03-31T18:01:00.103Z"
   },
   {
    "duration": 4,
    "start_time": "2022-03-31T18:01:44.676Z"
   },
   {
    "duration": 61,
    "start_time": "2022-03-31T18:01:51.525Z"
   },
   {
    "duration": 63,
    "start_time": "2022-03-31T18:01:55.325Z"
   },
   {
    "duration": 84,
    "start_time": "2022-03-31T18:02:52.399Z"
   },
   {
    "duration": 1455,
    "start_time": "2022-03-31T18:03:00.676Z"
   },
   {
    "duration": 787,
    "start_time": "2022-03-31T18:03:02.133Z"
   },
   {
    "duration": 154,
    "start_time": "2022-03-31T18:03:02.921Z"
   },
   {
    "duration": 399,
    "start_time": "2022-03-31T18:03:03.076Z"
   },
   {
    "duration": 455,
    "start_time": "2022-03-31T18:03:03.477Z"
   },
   {
    "duration": 500,
    "start_time": "2022-03-31T18:03:03.933Z"
   },
   {
    "duration": 60,
    "start_time": "2022-03-31T18:03:04.435Z"
   },
   {
    "duration": 1583,
    "start_time": "2022-03-31T18:03:04.497Z"
   },
   {
    "duration": 395,
    "start_time": "2022-03-31T18:03:06.083Z"
   },
   {
    "duration": 15,
    "start_time": "2022-03-31T18:03:06.480Z"
   },
   {
    "duration": 32,
    "start_time": "2022-03-31T18:03:06.496Z"
   },
   {
    "duration": 46,
    "start_time": "2022-03-31T18:03:06.529Z"
   },
   {
    "duration": 309,
    "start_time": "2022-03-31T18:03:06.576Z"
   },
   {
    "duration": 15,
    "start_time": "2022-03-31T18:03:06.888Z"
   },
   {
    "duration": 12,
    "start_time": "2022-03-31T18:03:06.905Z"
   },
   {
    "duration": 53,
    "start_time": "2022-03-31T18:03:06.919Z"
   },
   {
    "duration": 24,
    "start_time": "2022-03-31T18:03:06.974Z"
   },
   {
    "duration": 88,
    "start_time": "2022-03-31T18:03:07.000Z"
   },
   {
    "duration": 110,
    "start_time": "2022-03-31T18:03:07.090Z"
   },
   {
    "duration": 17,
    "start_time": "2022-03-31T18:03:07.202Z"
   },
   {
    "duration": 54,
    "start_time": "2022-03-31T18:03:07.221Z"
   },
   {
    "duration": 13,
    "start_time": "2022-03-31T18:03:07.277Z"
   },
   {
    "duration": 17,
    "start_time": "2022-03-31T18:03:07.291Z"
   },
   {
    "duration": 70,
    "start_time": "2022-03-31T18:03:07.310Z"
   },
   {
    "duration": 69,
    "start_time": "2022-03-31T18:03:07.381Z"
   },
   {
    "duration": 8,
    "start_time": "2022-03-31T18:03:07.470Z"
   },
   {
    "duration": 41,
    "start_time": "2022-03-31T18:03:07.480Z"
   },
   {
    "duration": 10,
    "start_time": "2022-03-31T18:03:07.522Z"
   },
   {
    "duration": 744,
    "start_time": "2022-03-31T18:03:07.534Z"
   },
   {
    "duration": 3,
    "start_time": "2022-03-31T18:03:08.280Z"
   },
   {
    "duration": 109,
    "start_time": "2022-03-31T18:03:08.284Z"
   },
   {
    "duration": 0,
    "start_time": "2022-03-31T18:03:08.394Z"
   },
   {
    "duration": 0,
    "start_time": "2022-03-31T18:03:08.396Z"
   },
   {
    "duration": 2492,
    "start_time": "2022-03-31T18:04:06.043Z"
   },
   {
    "duration": 3,
    "start_time": "2022-03-31T18:04:14.376Z"
   },
   {
    "duration": 85,
    "start_time": "2022-03-31T18:04:33.849Z"
   },
   {
    "duration": 1440,
    "start_time": "2022-03-31T18:04:39.411Z"
   },
   {
    "duration": 801,
    "start_time": "2022-03-31T18:04:40.853Z"
   },
   {
    "duration": 137,
    "start_time": "2022-03-31T18:04:41.656Z"
   },
   {
    "duration": 379,
    "start_time": "2022-03-31T18:04:41.795Z"
   },
   {
    "duration": 432,
    "start_time": "2022-03-31T18:04:42.175Z"
   },
   {
    "duration": 476,
    "start_time": "2022-03-31T18:04:42.608Z"
   },
   {
    "duration": 40,
    "start_time": "2022-03-31T18:04:43.086Z"
   },
   {
    "duration": 1579,
    "start_time": "2022-03-31T18:04:43.128Z"
   },
   {
    "duration": 391,
    "start_time": "2022-03-31T18:04:44.709Z"
   },
   {
    "duration": 16,
    "start_time": "2022-03-31T18:04:45.102Z"
   },
   {
    "duration": 58,
    "start_time": "2022-03-31T18:04:45.119Z"
   },
   {
    "duration": 27,
    "start_time": "2022-03-31T18:04:45.178Z"
   },
   {
    "duration": 313,
    "start_time": "2022-03-31T18:04:45.206Z"
   },
   {
    "duration": 16,
    "start_time": "2022-03-31T18:04:45.521Z"
   },
   {
    "duration": 35,
    "start_time": "2022-03-31T18:04:45.539Z"
   },
   {
    "duration": 28,
    "start_time": "2022-03-31T18:04:45.576Z"
   },
   {
    "duration": 26,
    "start_time": "2022-03-31T18:04:45.606Z"
   },
   {
    "duration": 99,
    "start_time": "2022-03-31T18:04:45.634Z"
   },
   {
    "duration": 96,
    "start_time": "2022-03-31T18:04:45.735Z"
   },
   {
    "duration": 34,
    "start_time": "2022-03-31T18:04:45.833Z"
   },
   {
    "duration": 27,
    "start_time": "2022-03-31T18:04:45.869Z"
   },
   {
    "duration": 3,
    "start_time": "2022-03-31T18:04:45.898Z"
   },
   {
    "duration": 13,
    "start_time": "2022-03-31T18:04:45.903Z"
   },
   {
    "duration": 83,
    "start_time": "2022-03-31T18:04:45.917Z"
   },
   {
    "duration": 82,
    "start_time": "2022-03-31T18:04:46.001Z"
   },
   {
    "duration": 6,
    "start_time": "2022-03-31T18:04:46.084Z"
   },
   {
    "duration": 46,
    "start_time": "2022-03-31T18:04:46.091Z"
   },
   {
    "duration": 10,
    "start_time": "2022-03-31T18:04:46.140Z"
   },
   {
    "duration": 733,
    "start_time": "2022-03-31T18:04:46.152Z"
   },
   {
    "duration": 94,
    "start_time": "2022-03-31T18:04:46.886Z"
   },
   {
    "duration": 3,
    "start_time": "2022-03-31T18:04:46.981Z"
   },
   {
    "duration": 26,
    "start_time": "2022-03-31T18:04:46.985Z"
   },
   {
    "duration": 95,
    "start_time": "2022-03-31T18:04:47.013Z"
   },
   {
    "duration": 16,
    "start_time": "2022-03-31T18:04:47.109Z"
   },
   {
    "duration": 76,
    "start_time": "2022-03-31T18:06:23.038Z"
   },
   {
    "duration": 1519,
    "start_time": "2022-03-31T18:26:58.534Z"
   },
   {
    "duration": 813,
    "start_time": "2022-03-31T18:27:00.055Z"
   },
   {
    "duration": 150,
    "start_time": "2022-03-31T18:27:00.869Z"
   },
   {
    "duration": 376,
    "start_time": "2022-03-31T18:27:01.021Z"
   },
   {
    "duration": 483,
    "start_time": "2022-03-31T18:27:01.399Z"
   },
   {
    "duration": 529,
    "start_time": "2022-03-31T18:27:01.884Z"
   },
   {
    "duration": 49,
    "start_time": "2022-03-31T18:27:02.414Z"
   },
   {
    "duration": 1624,
    "start_time": "2022-03-31T18:27:02.465Z"
   },
   {
    "duration": 408,
    "start_time": "2022-03-31T18:27:04.091Z"
   },
   {
    "duration": 16,
    "start_time": "2022-03-31T18:27:04.502Z"
   },
   {
    "duration": 47,
    "start_time": "2022-03-31T18:27:04.520Z"
   },
   {
    "duration": 26,
    "start_time": "2022-03-31T18:27:04.569Z"
   },
   {
    "duration": 410,
    "start_time": "2022-03-31T18:27:04.597Z"
   },
   {
    "duration": 18,
    "start_time": "2022-03-31T18:27:05.009Z"
   },
   {
    "duration": 35,
    "start_time": "2022-03-31T18:27:05.029Z"
   },
   {
    "duration": 27,
    "start_time": "2022-03-31T18:27:05.066Z"
   },
   {
    "duration": 25,
    "start_time": "2022-03-31T18:27:05.095Z"
   },
   {
    "duration": 95,
    "start_time": "2022-03-31T18:27:05.122Z"
   },
   {
    "duration": 104,
    "start_time": "2022-03-31T18:27:05.219Z"
   },
   {
    "duration": 19,
    "start_time": "2022-03-31T18:27:05.325Z"
   },
   {
    "duration": 36,
    "start_time": "2022-03-31T18:27:05.345Z"
   },
   {
    "duration": 6,
    "start_time": "2022-03-31T18:27:05.383Z"
   },
   {
    "duration": 23,
    "start_time": "2022-03-31T18:27:05.390Z"
   },
   {
    "duration": 72,
    "start_time": "2022-03-31T18:27:05.415Z"
   },
   {
    "duration": 81,
    "start_time": "2022-03-31T18:27:05.488Z"
   },
   {
    "duration": 7,
    "start_time": "2022-03-31T18:27:05.570Z"
   },
   {
    "duration": 45,
    "start_time": "2022-03-31T18:27:05.579Z"
   },
   {
    "duration": 12,
    "start_time": "2022-03-31T18:27:05.628Z"
   },
   {
    "duration": 230,
    "start_time": "2022-03-31T18:27:05.663Z"
   },
   {
    "duration": 1016,
    "start_time": "2022-03-31T18:27:05.896Z"
   },
   {
    "duration": 172,
    "start_time": "2022-03-31T18:27:06.914Z"
   },
   {
    "duration": 100,
    "start_time": "2022-03-31T18:27:07.088Z"
   },
   {
    "duration": 26,
    "start_time": "2022-03-31T18:28:21.189Z"
   },
   {
    "duration": 17,
    "start_time": "2022-03-31T18:28:33.375Z"
   },
   {
    "duration": 14,
    "start_time": "2022-03-31T18:29:24.041Z"
   },
   {
    "duration": 4,
    "start_time": "2022-03-31T18:29:45.573Z"
   },
   {
    "duration": 3,
    "start_time": "2022-03-31T18:29:50.101Z"
   },
   {
    "duration": 3,
    "start_time": "2022-03-31T18:29:57.304Z"
   },
   {
    "duration": 3,
    "start_time": "2022-03-31T18:30:10.532Z"
   },
   {
    "duration": 83679,
    "start_time": "2022-03-31T18:30:20.290Z"
   },
   {
    "duration": 199,
    "start_time": "2022-03-31T18:32:41.805Z"
   },
   {
    "duration": 364635,
    "start_time": "2022-03-31T18:34:30.848Z"
   },
   {
    "duration": 31816,
    "start_time": "2022-03-31T18:41:03.008Z"
   },
   {
    "duration": 4,
    "start_time": "2022-03-31T18:42:11.367Z"
   },
   {
    "duration": 496954,
    "start_time": "2022-03-31T18:42:12.533Z"
   },
   {
    "duration": 4,
    "start_time": "2022-03-31T18:51:23.677Z"
   },
   {
    "duration": 12465,
    "start_time": "2022-03-31T18:51:28.380Z"
   },
   {
    "duration": 4,
    "start_time": "2022-03-31T18:52:34.479Z"
   },
   {
    "duration": 137108,
    "start_time": "2022-03-31T18:52:38.263Z"
   },
   {
    "duration": 124,
    "start_time": "2022-03-31T18:56:05.249Z"
   },
   {
    "duration": 167,
    "start_time": "2022-03-31T18:57:14.926Z"
   },
   {
    "duration": 161,
    "start_time": "2022-03-31T18:57:18.523Z"
   },
   {
    "duration": 3,
    "start_time": "2022-03-31T18:58:47.696Z"
   },
   {
    "duration": 24929,
    "start_time": "2022-03-31T18:59:14.839Z"
   },
   {
    "duration": 3,
    "start_time": "2022-03-31T19:00:26.386Z"
   },
   {
    "duration": 5216,
    "start_time": "2022-03-31T19:00:27.247Z"
   },
   {
    "duration": 3,
    "start_time": "2022-03-31T19:00:43.797Z"
   },
   {
    "duration": 27481,
    "start_time": "2022-03-31T19:00:44.692Z"
   },
   {
    "duration": 4,
    "start_time": "2022-03-31T19:01:27.872Z"
   },
   {
    "duration": 4447,
    "start_time": "2022-03-31T19:01:31.218Z"
   },
   {
    "duration": 3,
    "start_time": "2022-03-31T19:01:49.324Z"
   },
   {
    "duration": 2189,
    "start_time": "2022-03-31T19:01:49.977Z"
   },
   {
    "duration": 3,
    "start_time": "2022-03-31T19:01:58.710Z"
   },
   {
    "duration": 5834,
    "start_time": "2022-03-31T19:02:01.336Z"
   },
   {
    "duration": 4,
    "start_time": "2022-03-31T19:02:27.036Z"
   },
   {
    "duration": 4983,
    "start_time": "2022-03-31T19:02:27.680Z"
   },
   {
    "duration": 3,
    "start_time": "2022-03-31T19:02:53.272Z"
   },
   {
    "duration": 5861,
    "start_time": "2022-03-31T19:02:53.906Z"
   },
   {
    "duration": 130,
    "start_time": "2022-03-31T19:03:04.063Z"
   },
   {
    "duration": 301,
    "start_time": "2022-03-31T19:03:14.971Z"
   },
   {
    "duration": 23,
    "start_time": "2022-03-31T19:08:36.887Z"
   },
   {
    "duration": 2,
    "start_time": "2022-03-31T19:08:51.581Z"
   },
   {
    "duration": 3,
    "start_time": "2022-03-31T19:09:12.489Z"
   },
   {
    "duration": 5021,
    "start_time": "2022-03-31T19:09:31.551Z"
   },
   {
    "duration": 3,
    "start_time": "2022-03-31T19:10:25.104Z"
   },
   {
    "duration": 4960,
    "start_time": "2022-03-31T19:10:29.997Z"
   },
   {
    "duration": 2984,
    "start_time": "2022-03-31T19:16:44.530Z"
   },
   {
    "duration": 2366,
    "start_time": "2022-03-31T19:17:22.767Z"
   },
   {
    "duration": 2,
    "start_time": "2022-03-31T19:17:51.161Z"
   },
   {
    "duration": 3,
    "start_time": "2022-03-31T19:17:53.963Z"
   },
   {
    "duration": 3246,
    "start_time": "2022-03-31T19:17:54.789Z"
   },
   {
    "duration": 3,
    "start_time": "2022-03-31T19:18:46.623Z"
   },
   {
    "duration": 3,
    "start_time": "2022-03-31T19:18:47.303Z"
   },
   {
    "duration": 4236,
    "start_time": "2022-03-31T19:18:48.002Z"
   },
   {
    "duration": 2,
    "start_time": "2022-03-31T19:19:06.551Z"
   },
   {
    "duration": 3,
    "start_time": "2022-03-31T19:19:07.127Z"
   },
   {
    "duration": 6745,
    "start_time": "2022-03-31T19:19:07.708Z"
   },
   {
    "duration": 3,
    "start_time": "2022-03-31T19:19:44.577Z"
   },
   {
    "duration": 2,
    "start_time": "2022-03-31T19:19:46.327Z"
   },
   {
    "duration": 6577,
    "start_time": "2022-03-31T19:19:46.920Z"
   },
   {
    "duration": 2,
    "start_time": "2022-03-31T19:20:21.889Z"
   },
   {
    "duration": 3,
    "start_time": "2022-03-31T19:20:23.228Z"
   },
   {
    "duration": 6919,
    "start_time": "2022-03-31T19:20:23.866Z"
   },
   {
    "duration": 3,
    "start_time": "2022-03-31T19:20:42.408Z"
   },
   {
    "duration": 2,
    "start_time": "2022-03-31T19:20:42.933Z"
   },
   {
    "duration": 6685,
    "start_time": "2022-03-31T19:20:43.449Z"
   },
   {
    "duration": 3,
    "start_time": "2022-03-31T19:21:01.765Z"
   },
   {
    "duration": 3,
    "start_time": "2022-03-31T19:21:02.360Z"
   },
   {
    "duration": 9590,
    "start_time": "2022-03-31T19:21:02.940Z"
   },
   {
    "duration": 53,
    "start_time": "2022-03-31T19:22:24.507Z"
   },
   {
    "duration": 29,
    "start_time": "2022-03-31T19:23:15.906Z"
   },
   {
    "duration": 3,
    "start_time": "2022-03-31T19:23:58.780Z"
   },
   {
    "duration": 2,
    "start_time": "2022-03-31T19:25:32.724Z"
   },
   {
    "duration": 3,
    "start_time": "2022-03-31T19:25:34.424Z"
   },
   {
    "duration": 5316,
    "start_time": "2022-03-31T19:25:35.431Z"
   },
   {
    "duration": 4323,
    "start_time": "2022-03-31T19:25:50.858Z"
   },
   {
    "duration": 3,
    "start_time": "2022-03-31T19:27:01.937Z"
   },
   {
    "duration": 2,
    "start_time": "2022-03-31T19:27:02.495Z"
   },
   {
    "duration": 3896,
    "start_time": "2022-03-31T19:27:03.073Z"
   },
   {
    "duration": 3,
    "start_time": "2022-03-31T19:27:13.804Z"
   },
   {
    "duration": 3,
    "start_time": "2022-03-31T19:27:15.033Z"
   },
   {
    "duration": 3849,
    "start_time": "2022-03-31T19:27:15.614Z"
   },
   {
    "duration": 3,
    "start_time": "2022-03-31T19:27:38.094Z"
   },
   {
    "duration": 3,
    "start_time": "2022-03-31T19:27:38.591Z"
   },
   {
    "duration": 9438,
    "start_time": "2022-03-31T19:27:39.664Z"
   },
   {
    "duration": 3,
    "start_time": "2022-03-31T19:28:01.354Z"
   },
   {
    "duration": 3,
    "start_time": "2022-03-31T19:28:02.617Z"
   },
   {
    "duration": 9206,
    "start_time": "2022-03-31T19:28:03.224Z"
   },
   {
    "duration": 3,
    "start_time": "2022-03-31T19:29:57.674Z"
   },
   {
    "duration": 3,
    "start_time": "2022-03-31T19:29:58.400Z"
   },
   {
    "duration": 1215,
    "start_time": "2022-03-31T19:29:59.071Z"
   },
   {
    "duration": 3,
    "start_time": "2022-03-31T19:30:28.405Z"
   },
   {
    "duration": 3,
    "start_time": "2022-03-31T19:30:29.248Z"
   },
   {
    "duration": 42953,
    "start_time": "2022-03-31T19:30:29.921Z"
   },
   {
    "duration": 3,
    "start_time": "2022-03-31T19:38:05.083Z"
   },
   {
    "duration": 3,
    "start_time": "2022-03-31T19:38:06.060Z"
   },
   {
    "duration": 9252,
    "start_time": "2022-03-31T19:38:06.972Z"
   },
   {
    "duration": 28,
    "start_time": "2022-03-31T19:38:24.927Z"
   },
   {
    "duration": 3,
    "start_time": "2022-03-31T19:40:14.658Z"
   },
   {
    "duration": 3,
    "start_time": "2022-03-31T19:42:03.122Z"
   },
   {
    "duration": 2,
    "start_time": "2022-03-31T19:42:03.855Z"
   },
   {
    "duration": 43274,
    "start_time": "2022-03-31T19:42:05.453Z"
   },
   {
    "duration": 3,
    "start_time": "2022-03-31T19:43:26.844Z"
   },
   {
    "duration": 3,
    "start_time": "2022-03-31T19:43:27.938Z"
   },
   {
    "duration": 43735,
    "start_time": "2022-03-31T19:43:28.582Z"
   },
   {
    "duration": 3,
    "start_time": "2022-03-31T19:45:02.996Z"
   },
   {
    "duration": 2,
    "start_time": "2022-03-31T19:45:04.357Z"
   },
   {
    "duration": 43851,
    "start_time": "2022-03-31T19:45:04.876Z"
   },
   {
    "duration": 3,
    "start_time": "2022-03-31T19:45:57.149Z"
   },
   {
    "duration": 3,
    "start_time": "2022-03-31T19:45:59.915Z"
   },
   {
    "duration": 43216,
    "start_time": "2022-03-31T19:46:01.213Z"
   },
   {
    "duration": 3,
    "start_time": "2022-03-31T19:47:03.161Z"
   },
   {
    "duration": 3,
    "start_time": "2022-03-31T19:47:05.186Z"
   },
   {
    "duration": 61865,
    "start_time": "2022-03-31T19:47:08.088Z"
   },
   {
    "duration": 3,
    "start_time": "2022-03-31T19:48:54.817Z"
   },
   {
    "duration": 3,
    "start_time": "2022-03-31T19:48:55.795Z"
   },
   {
    "duration": 16282,
    "start_time": "2022-03-31T19:48:56.405Z"
   },
   {
    "duration": 40,
    "start_time": "2022-03-31T19:49:46.353Z"
   },
   {
    "duration": 476,
    "start_time": "2022-03-31T19:50:46.878Z"
   },
   {
    "duration": 308,
    "start_time": "2022-03-31T19:50:53.093Z"
   },
   {
    "duration": 3,
    "start_time": "2022-03-31T19:59:10.433Z"
   },
   {
    "duration": 18527,
    "start_time": "2022-03-31T19:59:11.340Z"
   },
   {
    "duration": 266,
    "start_time": "2022-03-31T20:00:09.205Z"
   },
   {
    "duration": 12175,
    "start_time": "2022-03-31T20:00:40.899Z"
   },
   {
    "duration": 312,
    "start_time": "2022-03-31T20:01:02.450Z"
   },
   {
    "duration": 1480,
    "start_time": "2022-03-31T20:01:20.260Z"
   },
   {
    "duration": 1138,
    "start_time": "2022-03-31T20:01:21.742Z"
   },
   {
    "duration": 131,
    "start_time": "2022-03-31T20:01:22.882Z"
   },
   {
    "duration": 369,
    "start_time": "2022-03-31T20:01:23.015Z"
   },
   {
    "duration": 448,
    "start_time": "2022-03-31T20:01:23.386Z"
   },
   {
    "duration": 502,
    "start_time": "2022-03-31T20:01:23.836Z"
   },
   {
    "duration": 53,
    "start_time": "2022-03-31T20:01:24.340Z"
   },
   {
    "duration": 1476,
    "start_time": "2022-03-31T20:01:24.394Z"
   },
   {
    "duration": 381,
    "start_time": "2022-03-31T20:01:25.872Z"
   },
   {
    "duration": 20,
    "start_time": "2022-03-31T20:01:26.256Z"
   },
   {
    "duration": 36,
    "start_time": "2022-03-31T20:01:26.277Z"
   },
   {
    "duration": 26,
    "start_time": "2022-03-31T20:01:26.315Z"
   },
   {
    "duration": 307,
    "start_time": "2022-03-31T20:01:26.343Z"
   },
   {
    "duration": 20,
    "start_time": "2022-03-31T20:01:26.652Z"
   },
   {
    "duration": 12,
    "start_time": "2022-03-31T20:01:26.673Z"
   },
   {
    "duration": 28,
    "start_time": "2022-03-31T20:01:26.687Z"
   },
   {
    "duration": 51,
    "start_time": "2022-03-31T20:01:26.717Z"
   },
   {
    "duration": 74,
    "start_time": "2022-03-31T20:01:26.770Z"
   },
   {
    "duration": 99,
    "start_time": "2022-03-31T20:01:26.846Z"
   },
   {
    "duration": 22,
    "start_time": "2022-03-31T20:01:26.947Z"
   },
   {
    "duration": 24,
    "start_time": "2022-03-31T20:01:26.971Z"
   },
   {
    "duration": 4,
    "start_time": "2022-03-31T20:01:26.996Z"
   },
   {
    "duration": 15,
    "start_time": "2022-03-31T20:01:27.001Z"
   },
   {
    "duration": 83,
    "start_time": "2022-03-31T20:01:27.018Z"
   },
   {
    "duration": 81,
    "start_time": "2022-03-31T20:01:27.103Z"
   },
   {
    "duration": 5,
    "start_time": "2022-03-31T20:01:27.185Z"
   },
   {
    "duration": 35,
    "start_time": "2022-03-31T20:01:27.192Z"
   },
   {
    "duration": 12,
    "start_time": "2022-03-31T20:01:27.230Z"
   },
   {
    "duration": 173,
    "start_time": "2022-03-31T20:01:27.244Z"
   },
   {
    "duration": 674,
    "start_time": "2022-03-31T20:01:27.418Z"
   },
   {
    "duration": 112,
    "start_time": "2022-03-31T20:01:28.094Z"
   },
   {
    "duration": 75,
    "start_time": "2022-03-31T20:01:28.208Z"
   },
   {
    "duration": 14,
    "start_time": "2022-03-31T20:01:28.285Z"
   },
   {
    "duration": 17,
    "start_time": "2022-03-31T20:01:28.301Z"
   },
   {
    "duration": 16,
    "start_time": "2022-03-31T20:01:28.320Z"
   },
   {
    "duration": 3540,
    "start_time": "2022-03-31T20:01:28.338Z"
   },
   {
    "duration": 242,
    "start_time": "2022-03-31T20:01:31.879Z"
   },
   {
    "duration": 4,
    "start_time": "2022-03-31T20:01:32.123Z"
   },
   {
    "duration": 13640,
    "start_time": "2022-03-31T20:01:32.128Z"
   },
   {
    "duration": 396,
    "start_time": "2022-03-31T20:01:45.771Z"
   },
   {
    "duration": 5,
    "start_time": "2022-03-31T20:01:46.169Z"
   },
   {
    "duration": 11507,
    "start_time": "2022-03-31T20:01:46.175Z"
   },
   {
    "duration": 305,
    "start_time": "2022-03-31T20:01:57.764Z"
   },
   {
    "duration": 2,
    "start_time": "2022-03-31T20:01:58.071Z"
   },
   {
    "duration": 5,
    "start_time": "2022-03-31T20:01:58.075Z"
   },
   {
    "duration": 15028,
    "start_time": "2022-03-31T20:01:58.082Z"
   },
   {
    "duration": 39,
    "start_time": "2022-03-31T20:02:13.112Z"
   },
   {
    "duration": 3,
    "start_time": "2022-03-31T20:02:13.152Z"
   },
   {
    "duration": 6,
    "start_time": "2022-03-31T20:02:13.156Z"
   },
   {
    "duration": 9847,
    "start_time": "2022-03-31T20:02:13.163Z"
   },
   {
    "duration": 29,
    "start_time": "2022-03-31T20:02:23.011Z"
   },
   {
    "duration": 3,
    "start_time": "2022-03-31T20:02:23.042Z"
   },
   {
    "duration": 7,
    "start_time": "2022-03-31T20:02:23.046Z"
   },
   {
    "duration": 60333,
    "start_time": "2022-03-31T20:02:23.054Z"
   },
   {
    "duration": 272,
    "start_time": "2022-03-31T20:03:23.389Z"
   },
   {
    "duration": 201,
    "start_time": "2022-03-31T20:03:23.664Z"
   },
   {
    "duration": 1458,
    "start_time": "2022-03-31T20:04:06.134Z"
   },
   {
    "duration": 779,
    "start_time": "2022-03-31T20:04:07.594Z"
   },
   {
    "duration": 130,
    "start_time": "2022-03-31T20:04:08.375Z"
   },
   {
    "duration": 409,
    "start_time": "2022-03-31T20:04:08.507Z"
   },
   {
    "duration": 476,
    "start_time": "2022-03-31T20:04:08.917Z"
   },
   {
    "duration": 498,
    "start_time": "2022-03-31T20:04:09.394Z"
   },
   {
    "duration": 47,
    "start_time": "2022-03-31T20:04:09.893Z"
   },
   {
    "duration": 1572,
    "start_time": "2022-03-31T20:04:09.942Z"
   },
   {
    "duration": 397,
    "start_time": "2022-03-31T20:04:11.515Z"
   },
   {
    "duration": 17,
    "start_time": "2022-03-31T20:04:11.915Z"
   },
   {
    "duration": 55,
    "start_time": "2022-03-31T20:04:11.934Z"
   },
   {
    "duration": 29,
    "start_time": "2022-03-31T20:04:11.991Z"
   },
   {
    "duration": 332,
    "start_time": "2022-03-31T20:04:12.022Z"
   },
   {
    "duration": 16,
    "start_time": "2022-03-31T20:04:12.355Z"
   },
   {
    "duration": 11,
    "start_time": "2022-03-31T20:04:12.373Z"
   },
   {
    "duration": 28,
    "start_time": "2022-03-31T20:04:12.386Z"
   },
   {
    "duration": 55,
    "start_time": "2022-03-31T20:04:12.416Z"
   },
   {
    "duration": 76,
    "start_time": "2022-03-31T20:04:12.473Z"
   },
   {
    "duration": 98,
    "start_time": "2022-03-31T20:04:12.551Z"
   },
   {
    "duration": 29,
    "start_time": "2022-03-31T20:04:12.651Z"
   },
   {
    "duration": 25,
    "start_time": "2022-03-31T20:04:12.682Z"
   },
   {
    "duration": 4,
    "start_time": "2022-03-31T20:04:12.709Z"
   },
   {
    "duration": 15,
    "start_time": "2022-03-31T20:04:12.715Z"
   },
   {
    "duration": 82,
    "start_time": "2022-03-31T20:04:12.732Z"
   },
   {
    "duration": 82,
    "start_time": "2022-03-31T20:04:12.817Z"
   },
   {
    "duration": 5,
    "start_time": "2022-03-31T20:04:12.900Z"
   },
   {
    "duration": 38,
    "start_time": "2022-03-31T20:04:12.906Z"
   },
   {
    "duration": 28,
    "start_time": "2022-03-31T20:04:12.948Z"
   },
   {
    "duration": 185,
    "start_time": "2022-03-31T20:04:12.978Z"
   },
   {
    "duration": 674,
    "start_time": "2022-03-31T20:04:13.164Z"
   },
   {
    "duration": 110,
    "start_time": "2022-03-31T20:04:13.840Z"
   },
   {
    "duration": 71,
    "start_time": "2022-03-31T20:04:13.952Z"
   },
   {
    "duration": 13,
    "start_time": "2022-03-31T20:04:14.025Z"
   },
   {
    "duration": 5,
    "start_time": "2022-03-31T20:04:14.039Z"
   },
   {
    "duration": 19,
    "start_time": "2022-03-31T20:04:14.045Z"
   },
   {
    "duration": 4503,
    "start_time": "2022-03-31T20:04:14.066Z"
   },
   {
    "duration": 203,
    "start_time": "2022-03-31T20:04:18.571Z"
   },
   {
    "duration": 3,
    "start_time": "2022-03-31T20:04:18.776Z"
   },
   {
    "duration": 16190,
    "start_time": "2022-03-31T20:04:18.780Z"
   },
   {
    "duration": 393,
    "start_time": "2022-03-31T20:04:34.972Z"
   },
   {
    "duration": 4,
    "start_time": "2022-03-31T20:04:35.367Z"
   },
   {
    "duration": 11391,
    "start_time": "2022-03-31T20:04:35.372Z"
   },
   {
    "duration": 305,
    "start_time": "2022-03-31T20:04:46.765Z"
   },
   {
    "duration": 3,
    "start_time": "2022-03-31T20:04:47.071Z"
   },
   {
    "duration": 7,
    "start_time": "2022-03-31T20:04:47.076Z"
   },
   {
    "duration": 15229,
    "start_time": "2022-03-31T20:04:47.084Z"
   },
   {
    "duration": 39,
    "start_time": "2022-03-31T20:05:02.315Z"
   },
   {
    "duration": 3,
    "start_time": "2022-03-31T20:05:02.356Z"
   },
   {
    "duration": 7,
    "start_time": "2022-03-31T20:05:02.360Z"
   },
   {
    "duration": 9273,
    "start_time": "2022-03-31T20:05:02.368Z"
   },
   {
    "duration": 27,
    "start_time": "2022-03-31T20:05:11.642Z"
   },
   {
    "duration": 3,
    "start_time": "2022-03-31T20:05:11.670Z"
   },
   {
    "duration": 4,
    "start_time": "2022-03-31T20:05:11.675Z"
   },
   {
    "duration": 62723,
    "start_time": "2022-03-31T20:05:11.680Z"
   },
   {
    "duration": 287,
    "start_time": "2022-03-31T20:06:14.405Z"
   },
   {
    "duration": 190,
    "start_time": "2022-03-31T20:12:25.774Z"
   },
   {
    "duration": 2,
    "start_time": "2022-03-31T20:29:12.890Z"
   },
   {
    "duration": 274,
    "start_time": "2022-03-31T20:32:16.208Z"
   },
   {
    "duration": 3,
    "start_time": "2022-03-31T20:33:27.336Z"
   },
   {
    "duration": 3,
    "start_time": "2022-03-31T20:33:28.086Z"
   },
   {
    "duration": 7177,
    "start_time": "2022-03-31T20:33:28.820Z"
   },
   {
    "duration": 40,
    "start_time": "2022-03-31T20:33:39.628Z"
   },
   {
    "duration": 1568,
    "start_time": "2022-03-31T20:33:53.666Z"
   },
   {
    "duration": 783,
    "start_time": "2022-03-31T20:33:55.236Z"
   },
   {
    "duration": 142,
    "start_time": "2022-03-31T20:33:56.021Z"
   },
   {
    "duration": 385,
    "start_time": "2022-03-31T20:33:56.165Z"
   },
   {
    "duration": 485,
    "start_time": "2022-03-31T20:33:56.552Z"
   },
   {
    "duration": 533,
    "start_time": "2022-03-31T20:33:57.039Z"
   },
   {
    "duration": 45,
    "start_time": "2022-03-31T20:33:57.574Z"
   },
   {
    "duration": 1564,
    "start_time": "2022-03-31T20:33:57.621Z"
   },
   {
    "duration": 402,
    "start_time": "2022-03-31T20:33:59.187Z"
   },
   {
    "duration": 17,
    "start_time": "2022-03-31T20:33:59.593Z"
   },
   {
    "duration": 52,
    "start_time": "2022-03-31T20:33:59.612Z"
   },
   {
    "duration": 27,
    "start_time": "2022-03-31T20:33:59.666Z"
   },
   {
    "duration": 412,
    "start_time": "2022-03-31T20:33:59.695Z"
   },
   {
    "duration": 18,
    "start_time": "2022-03-31T20:34:00.109Z"
   },
   {
    "duration": 13,
    "start_time": "2022-03-31T20:34:00.128Z"
   },
   {
    "duration": 29,
    "start_time": "2022-03-31T20:34:00.162Z"
   },
   {
    "duration": 28,
    "start_time": "2022-03-31T20:34:00.192Z"
   },
   {
    "duration": 93,
    "start_time": "2022-03-31T20:34:00.221Z"
   },
   {
    "duration": 107,
    "start_time": "2022-03-31T20:34:00.316Z"
   },
   {
    "duration": 19,
    "start_time": "2022-03-31T20:34:00.425Z"
   },
   {
    "duration": 40,
    "start_time": "2022-03-31T20:34:00.446Z"
   },
   {
    "duration": 4,
    "start_time": "2022-03-31T20:34:00.487Z"
   },
   {
    "duration": 26,
    "start_time": "2022-03-31T20:34:00.492Z"
   },
   {
    "duration": 75,
    "start_time": "2022-03-31T20:34:00.520Z"
   },
   {
    "duration": 78,
    "start_time": "2022-03-31T20:34:00.596Z"
   },
   {
    "duration": 5,
    "start_time": "2022-03-31T20:34:00.675Z"
   },
   {
    "duration": 44,
    "start_time": "2022-03-31T20:34:00.682Z"
   },
   {
    "duration": 11,
    "start_time": "2022-03-31T20:34:00.730Z"
   },
   {
    "duration": 175,
    "start_time": "2022-03-31T20:34:00.763Z"
   },
   {
    "duration": 696,
    "start_time": "2022-03-31T20:34:00.940Z"
   },
   {
    "duration": 118,
    "start_time": "2022-03-31T20:34:01.638Z"
   },
   {
    "duration": 79,
    "start_time": "2022-03-31T20:34:01.758Z"
   },
   {
    "duration": 25,
    "start_time": "2022-03-31T20:34:01.839Z"
   },
   {
    "duration": 6,
    "start_time": "2022-03-31T20:34:01.865Z"
   },
   {
    "duration": 8,
    "start_time": "2022-03-31T20:34:01.873Z"
   },
   {
    "duration": 25486,
    "start_time": "2022-03-31T20:34:01.883Z"
   },
   {
    "duration": 203,
    "start_time": "2022-03-31T20:34:27.380Z"
   },
   {
    "duration": 4,
    "start_time": "2022-03-31T20:34:27.586Z"
   },
   {
    "duration": 59282,
    "start_time": "2022-03-31T20:34:27.592Z"
   },
   {
    "duration": 389,
    "start_time": "2022-03-31T20:35:26.877Z"
   },
   {
    "duration": 6,
    "start_time": "2022-03-31T20:35:27.268Z"
   },
   {
    "duration": 77285,
    "start_time": "2022-03-31T20:35:27.278Z"
   },
   {
    "duration": 399,
    "start_time": "2022-03-31T20:36:44.565Z"
   },
   {
    "duration": 3,
    "start_time": "2022-03-31T20:36:44.966Z"
   },
   {
    "duration": 15,
    "start_time": "2022-03-31T20:36:44.970Z"
   },
   {
    "duration": 16223,
    "start_time": "2022-03-31T20:36:44.988Z"
   },
   {
    "duration": 66,
    "start_time": "2022-03-31T20:37:01.213Z"
   },
   {
    "duration": 4,
    "start_time": "2022-03-31T20:37:01.281Z"
   },
   {
    "duration": 21,
    "start_time": "2022-03-31T20:37:01.287Z"
   },
   {
    "duration": 10727,
    "start_time": "2022-03-31T20:37:01.310Z"
   },
   {
    "duration": 46,
    "start_time": "2022-03-31T20:37:12.039Z"
   },
   {
    "duration": 3,
    "start_time": "2022-03-31T20:37:12.087Z"
   },
   {
    "duration": 10,
    "start_time": "2022-03-31T20:37:12.091Z"
   },
   {
    "duration": 62065,
    "start_time": "2022-03-31T20:37:12.103Z"
   },
   {
    "duration": 288,
    "start_time": "2022-03-31T20:38:14.170Z"
   },
   {
    "duration": 3,
    "start_time": "2022-03-31T20:38:14.462Z"
   },
   {
    "duration": 5,
    "start_time": "2022-03-31T20:38:14.467Z"
   },
   {
    "duration": 7255,
    "start_time": "2022-03-31T20:38:14.473Z"
   },
   {
    "duration": 40,
    "start_time": "2022-03-31T20:38:21.729Z"
   },
   {
    "duration": 42,
    "start_time": "2022-03-31T20:40:49.762Z"
   },
   {
    "duration": 69,
    "start_time": "2022-03-31T20:41:19.701Z"
   },
   {
    "duration": 16412,
    "start_time": "2022-03-31T20:42:16.139Z"
   },
   {
    "duration": 41,
    "start_time": "2022-03-31T20:42:44.619Z"
   },
   {
    "duration": 6256,
    "start_time": "2022-03-31T20:59:36.112Z"
   },
   {
    "duration": 15501,
    "start_time": "2022-03-31T21:00:56.570Z"
   },
   {
    "duration": 2423,
    "start_time": "2022-04-01T21:09:36.097Z"
   },
   {
    "duration": 1038,
    "start_time": "2022-04-01T21:09:38.522Z"
   },
   {
    "duration": 179,
    "start_time": "2022-04-01T21:09:39.562Z"
   },
   {
    "duration": 492,
    "start_time": "2022-04-01T21:09:39.744Z"
   },
   {
    "duration": 628,
    "start_time": "2022-04-01T21:09:40.239Z"
   },
   {
    "duration": 690,
    "start_time": "2022-04-01T21:09:40.869Z"
   },
   {
    "duration": 70,
    "start_time": "2022-04-01T21:09:41.562Z"
   },
   {
    "duration": 1997,
    "start_time": "2022-04-01T21:09:41.634Z"
   },
   {
    "duration": 519,
    "start_time": "2022-04-01T21:09:43.634Z"
   },
   {
    "duration": 33,
    "start_time": "2022-04-01T21:09:44.157Z"
   },
   {
    "duration": 54,
    "start_time": "2022-04-01T21:09:44.193Z"
   },
   {
    "duration": 62,
    "start_time": "2022-04-01T21:09:44.249Z"
   },
   {
    "duration": 456,
    "start_time": "2022-04-01T21:09:44.313Z"
   },
   {
    "duration": 35,
    "start_time": "2022-04-01T21:09:44.772Z"
   },
   {
    "duration": 18,
    "start_time": "2022-04-01T21:09:44.810Z"
   },
   {
    "duration": 69,
    "start_time": "2022-04-01T21:09:44.830Z"
   },
   {
    "duration": 46,
    "start_time": "2022-04-01T21:09:44.902Z"
   },
   {
    "duration": 122,
    "start_time": "2022-04-01T21:09:44.950Z"
   },
   {
    "duration": 130,
    "start_time": "2022-04-01T21:09:45.075Z"
   },
   {
    "duration": 29,
    "start_time": "2022-04-01T21:09:45.207Z"
   },
   {
    "duration": 66,
    "start_time": "2022-04-01T21:09:45.239Z"
   },
   {
    "duration": 5,
    "start_time": "2022-04-01T21:09:45.308Z"
   },
   {
    "duration": 19,
    "start_time": "2022-04-01T21:09:45.316Z"
   },
   {
    "duration": 112,
    "start_time": "2022-04-01T21:09:45.338Z"
   },
   {
    "duration": 104,
    "start_time": "2022-04-01T21:09:45.452Z"
   },
   {
    "duration": 8,
    "start_time": "2022-04-01T21:09:45.559Z"
   },
   {
    "duration": 51,
    "start_time": "2022-04-01T21:09:45.586Z"
   },
   {
    "duration": 45,
    "start_time": "2022-04-01T21:09:45.645Z"
   },
   {
    "duration": 263,
    "start_time": "2022-04-01T21:09:45.692Z"
   },
   {
    "duration": 956,
    "start_time": "2022-04-01T21:09:45.957Z"
   },
   {
    "duration": 153,
    "start_time": "2022-04-01T21:09:46.915Z"
   },
   {
    "duration": 84,
    "start_time": "2022-04-01T21:09:47.070Z"
   },
   {
    "duration": 35,
    "start_time": "2022-04-01T21:09:47.156Z"
   },
   {
    "duration": 12,
    "start_time": "2022-04-01T21:09:47.193Z"
   },
   {
    "duration": 9,
    "start_time": "2022-04-01T21:09:47.207Z"
   },
   {
    "duration": 15876,
    "start_time": "2022-04-01T21:09:47.218Z"
   },
   {
    "duration": 299,
    "start_time": "2022-04-01T21:10:03.099Z"
   },
   {
    "duration": 4,
    "start_time": "2022-04-01T21:10:03.403Z"
   },
   {
    "duration": 124174,
    "start_time": "2022-04-01T21:10:03.410Z"
   },
   {
    "duration": 503,
    "start_time": "2022-04-01T21:12:07.586Z"
   },
   {
    "duration": 4,
    "start_time": "2022-04-01T21:12:08.092Z"
   },
   {
    "duration": 70809,
    "start_time": "2022-04-01T21:12:08.099Z"
   },
   {
    "duration": 582,
    "start_time": "2022-04-01T21:13:18.910Z"
   },
   {
    "duration": 5,
    "start_time": "2022-04-01T21:13:19.495Z"
   },
   {
    "duration": 7,
    "start_time": "2022-04-01T21:13:19.503Z"
   },
   {
    "duration": 27312,
    "start_time": "2022-04-01T21:13:19.513Z"
   },
   {
    "duration": 59,
    "start_time": "2022-04-01T21:13:46.827Z"
   },
   {
    "duration": 4,
    "start_time": "2022-04-01T21:13:46.889Z"
   },
   {
    "duration": 11,
    "start_time": "2022-04-01T21:13:46.895Z"
   },
   {
    "duration": 16772,
    "start_time": "2022-04-01T21:13:46.908Z"
   },
   {
    "duration": 44,
    "start_time": "2022-04-01T21:14:03.683Z"
   },
   {
    "duration": 5,
    "start_time": "2022-04-01T21:14:03.729Z"
   },
   {
    "duration": 6,
    "start_time": "2022-04-01T21:14:03.736Z"
   },
   {
    "duration": 125340,
    "start_time": "2022-04-01T21:14:03.744Z"
   },
   {
    "duration": 359,
    "start_time": "2022-04-01T21:16:09.087Z"
   },
   {
    "duration": 4,
    "start_time": "2022-04-01T21:16:09.448Z"
   },
   {
    "duration": 6,
    "start_time": "2022-04-01T21:16:09.455Z"
   },
   {
    "duration": 27072,
    "start_time": "2022-04-01T21:16:09.463Z"
   },
   {
    "duration": 64,
    "start_time": "2022-04-01T21:16:36.538Z"
   },
   {
    "duration": 176,
    "start_time": "2022-04-01T21:20:29.554Z"
   },
   {
    "duration": 49,
    "start_time": "2022-04-02T15:44:49.429Z"
   },
   {
    "duration": 1927,
    "start_time": "2022-04-02T15:45:01.529Z"
   },
   {
    "duration": 874,
    "start_time": "2022-04-02T15:45:03.458Z"
   },
   {
    "duration": 139,
    "start_time": "2022-04-02T15:45:04.333Z"
   },
   {
    "duration": 109,
    "start_time": "2022-04-02T15:45:04.475Z"
   },
   {
    "duration": 397,
    "start_time": "2022-04-02T15:45:04.586Z"
   },
   {
    "duration": 499,
    "start_time": "2022-04-02T15:45:04.984Z"
   },
   {
    "duration": 534,
    "start_time": "2022-04-02T15:45:05.485Z"
   },
   {
    "duration": 42,
    "start_time": "2022-04-02T15:45:06.021Z"
   },
   {
    "duration": 2524,
    "start_time": "2022-04-02T15:45:06.064Z"
   },
   {
    "duration": 438,
    "start_time": "2022-04-02T15:45:08.591Z"
   },
   {
    "duration": 17,
    "start_time": "2022-04-02T15:45:09.031Z"
   },
   {
    "duration": 38,
    "start_time": "2022-04-02T15:45:09.050Z"
   },
   {
    "duration": 49,
    "start_time": "2022-04-02T15:45:09.089Z"
   },
   {
    "duration": 349,
    "start_time": "2022-04-02T15:45:09.140Z"
   },
   {
    "duration": 19,
    "start_time": "2022-04-02T15:45:09.491Z"
   },
   {
    "duration": 32,
    "start_time": "2022-04-02T15:45:09.512Z"
   },
   {
    "duration": 28,
    "start_time": "2022-04-02T15:45:09.546Z"
   },
   {
    "duration": 26,
    "start_time": "2022-04-02T15:45:09.576Z"
   },
   {
    "duration": 109,
    "start_time": "2022-04-02T15:45:09.604Z"
   },
   {
    "duration": 117,
    "start_time": "2022-04-02T15:45:09.715Z"
   },
   {
    "duration": 12,
    "start_time": "2022-04-02T15:45:09.834Z"
   },
   {
    "duration": 31,
    "start_time": "2022-04-02T15:45:09.848Z"
   },
   {
    "duration": 5,
    "start_time": "2022-04-02T15:45:09.880Z"
   },
   {
    "duration": 15,
    "start_time": "2022-04-02T15:45:09.886Z"
   },
   {
    "duration": 96,
    "start_time": "2022-04-02T15:45:09.903Z"
   },
   {
    "duration": 98,
    "start_time": "2022-04-02T15:45:10.001Z"
   },
   {
    "duration": 7,
    "start_time": "2022-04-02T15:45:10.101Z"
   },
   {
    "duration": 55,
    "start_time": "2022-04-02T15:45:10.112Z"
   },
   {
    "duration": 11,
    "start_time": "2022-04-02T15:45:10.169Z"
   },
   {
    "duration": 185,
    "start_time": "2022-04-02T15:45:10.182Z"
   },
   {
    "duration": 708,
    "start_time": "2022-04-02T15:45:10.369Z"
   },
   {
    "duration": 127,
    "start_time": "2022-04-02T15:45:11.079Z"
   },
   {
    "duration": 83,
    "start_time": "2022-04-02T15:45:11.208Z"
   },
   {
    "duration": 15,
    "start_time": "2022-04-02T15:45:11.293Z"
   },
   {
    "duration": 22,
    "start_time": "2022-04-02T15:45:11.310Z"
   },
   {
    "duration": 7,
    "start_time": "2022-04-02T15:45:11.334Z"
   },
   {
    "duration": 3995,
    "start_time": "2022-04-02T15:45:11.343Z"
   },
   {
    "duration": 210,
    "start_time": "2022-04-02T15:45:15.340Z"
   },
   {
    "duration": 4,
    "start_time": "2022-04-02T15:45:15.632Z"
   },
   {
    "duration": 7294,
    "start_time": "2022-04-02T15:45:15.638Z"
   },
   {
    "duration": 398,
    "start_time": "2022-04-02T15:45:22.934Z"
   },
   {
    "duration": 4,
    "start_time": "2022-04-02T15:45:23.335Z"
   },
   {
    "duration": 13402,
    "start_time": "2022-04-02T15:45:23.341Z"
   },
   {
    "duration": 488,
    "start_time": "2022-04-02T15:45:36.745Z"
   },
   {
    "duration": 3,
    "start_time": "2022-04-02T15:45:37.235Z"
   },
   {
    "duration": 6,
    "start_time": "2022-04-02T15:45:37.240Z"
   },
   {
    "duration": 38110,
    "start_time": "2022-04-02T15:45:37.247Z"
   },
   {
    "duration": 49,
    "start_time": "2022-04-02T15:46:15.358Z"
   },
   {
    "duration": 3,
    "start_time": "2022-04-02T15:46:15.409Z"
   },
   {
    "duration": 14,
    "start_time": "2022-04-02T15:46:15.414Z"
   },
   {
    "duration": 14218,
    "start_time": "2022-04-02T15:46:15.430Z"
   },
   {
    "duration": 40,
    "start_time": "2022-04-02T15:46:29.650Z"
   },
   {
    "duration": 3,
    "start_time": "2022-04-02T15:46:29.692Z"
   },
   {
    "duration": 6,
    "start_time": "2022-04-02T15:46:29.697Z"
   },
   {
    "duration": 94027,
    "start_time": "2022-04-02T15:46:29.705Z"
   },
   {
    "duration": 307,
    "start_time": "2022-04-02T15:48:03.734Z"
   },
   {
    "duration": 3,
    "start_time": "2022-04-02T15:48:04.042Z"
   },
   {
    "duration": 13,
    "start_time": "2022-04-02T15:48:04.047Z"
   },
   {
    "duration": 22878,
    "start_time": "2022-04-02T15:48:04.062Z"
   },
   {
    "duration": 51,
    "start_time": "2022-04-02T15:48:26.941Z"
   },
   {
    "duration": 13,
    "start_time": "2022-04-02T16:00:06.185Z"
   },
   {
    "duration": 2766,
    "start_time": "2022-04-02T16:06:02.613Z"
   },
   {
    "duration": 1612,
    "start_time": "2022-04-02T16:06:11.800Z"
   },
   {
    "duration": 878,
    "start_time": "2022-04-02T16:06:13.414Z"
   },
   {
    "duration": 147,
    "start_time": "2022-04-02T16:06:14.293Z"
   },
   {
    "duration": 107,
    "start_time": "2022-04-02T16:06:14.442Z"
   },
   {
    "duration": 389,
    "start_time": "2022-04-02T16:06:14.552Z"
   },
   {
    "duration": 473,
    "start_time": "2022-04-02T16:06:14.943Z"
   },
   {
    "duration": 507,
    "start_time": "2022-04-02T16:06:15.417Z"
   },
   {
    "duration": 43,
    "start_time": "2022-04-02T16:06:15.926Z"
   },
   {
    "duration": 2462,
    "start_time": "2022-04-02T16:06:15.971Z"
   },
   {
    "duration": 430,
    "start_time": "2022-04-02T16:06:18.435Z"
   },
   {
    "duration": 17,
    "start_time": "2022-04-02T16:06:18.867Z"
   },
   {
    "duration": 47,
    "start_time": "2022-04-02T16:06:18.886Z"
   },
   {
    "duration": 27,
    "start_time": "2022-04-02T16:06:18.935Z"
   },
   {
    "duration": 343,
    "start_time": "2022-04-02T16:06:18.965Z"
   },
   {
    "duration": 27,
    "start_time": "2022-04-02T16:06:19.310Z"
   },
   {
    "duration": 13,
    "start_time": "2022-04-02T16:06:19.338Z"
   },
   {
    "duration": 26,
    "start_time": "2022-04-02T16:06:19.353Z"
   },
   {
    "duration": 25,
    "start_time": "2022-04-02T16:06:19.381Z"
   },
   {
    "duration": 103,
    "start_time": "2022-04-02T16:06:19.408Z"
   },
   {
    "duration": 129,
    "start_time": "2022-04-02T16:06:19.513Z"
   },
   {
    "duration": 0,
    "start_time": "2022-04-02T16:06:19.644Z"
   },
   {
    "duration": 0,
    "start_time": "2022-04-02T16:06:19.645Z"
   },
   {
    "duration": 0,
    "start_time": "2022-04-02T16:06:19.646Z"
   },
   {
    "duration": 0,
    "start_time": "2022-04-02T16:06:19.647Z"
   },
   {
    "duration": 0,
    "start_time": "2022-04-02T16:06:19.648Z"
   },
   {
    "duration": 0,
    "start_time": "2022-04-02T16:06:19.649Z"
   },
   {
    "duration": 0,
    "start_time": "2022-04-02T16:06:19.649Z"
   },
   {
    "duration": 0,
    "start_time": "2022-04-02T16:06:19.650Z"
   },
   {
    "duration": 0,
    "start_time": "2022-04-02T16:06:19.651Z"
   },
   {
    "duration": 0,
    "start_time": "2022-04-02T16:06:19.652Z"
   },
   {
    "duration": 0,
    "start_time": "2022-04-02T16:06:19.653Z"
   },
   {
    "duration": 0,
    "start_time": "2022-04-02T16:06:19.654Z"
   },
   {
    "duration": 0,
    "start_time": "2022-04-02T16:06:19.654Z"
   },
   {
    "duration": 0,
    "start_time": "2022-04-02T16:06:19.656Z"
   },
   {
    "duration": 0,
    "start_time": "2022-04-02T16:06:19.657Z"
   },
   {
    "duration": 0,
    "start_time": "2022-04-02T16:06:19.658Z"
   },
   {
    "duration": 0,
    "start_time": "2022-04-02T16:06:19.659Z"
   },
   {
    "duration": 1,
    "start_time": "2022-04-02T16:06:19.660Z"
   },
   {
    "duration": 0,
    "start_time": "2022-04-02T16:06:19.661Z"
   },
   {
    "duration": 0,
    "start_time": "2022-04-02T16:06:19.663Z"
   },
   {
    "duration": 0,
    "start_time": "2022-04-02T16:06:19.664Z"
   },
   {
    "duration": 0,
    "start_time": "2022-04-02T16:06:19.665Z"
   },
   {
    "duration": 0,
    "start_time": "2022-04-02T16:06:19.666Z"
   },
   {
    "duration": 0,
    "start_time": "2022-04-02T16:06:19.667Z"
   },
   {
    "duration": 0,
    "start_time": "2022-04-02T16:06:19.668Z"
   },
   {
    "duration": 0,
    "start_time": "2022-04-02T16:06:19.669Z"
   },
   {
    "duration": 0,
    "start_time": "2022-04-02T16:06:19.670Z"
   },
   {
    "duration": 0,
    "start_time": "2022-04-02T16:06:19.672Z"
   },
   {
    "duration": 0,
    "start_time": "2022-04-02T16:06:19.673Z"
   },
   {
    "duration": 0,
    "start_time": "2022-04-02T16:06:19.674Z"
   },
   {
    "duration": 0,
    "start_time": "2022-04-02T16:06:19.674Z"
   },
   {
    "duration": 0,
    "start_time": "2022-04-02T16:06:19.675Z"
   },
   {
    "duration": 0,
    "start_time": "2022-04-02T16:06:19.677Z"
   },
   {
    "duration": 0,
    "start_time": "2022-04-02T16:06:19.678Z"
   },
   {
    "duration": 0,
    "start_time": "2022-04-02T16:06:19.679Z"
   },
   {
    "duration": 0,
    "start_time": "2022-04-02T16:06:19.732Z"
   },
   {
    "duration": 0,
    "start_time": "2022-04-02T16:06:19.733Z"
   },
   {
    "duration": 0,
    "start_time": "2022-04-02T16:06:19.734Z"
   },
   {
    "duration": 0,
    "start_time": "2022-04-02T16:06:19.736Z"
   },
   {
    "duration": 0,
    "start_time": "2022-04-02T16:06:19.737Z"
   },
   {
    "duration": 0,
    "start_time": "2022-04-02T16:06:19.738Z"
   },
   {
    "duration": 11,
    "start_time": "2022-04-02T16:09:16.211Z"
   },
   {
    "duration": 93,
    "start_time": "2022-04-02T16:17:12.289Z"
   },
   {
    "duration": 13,
    "start_time": "2022-04-02T16:17:16.670Z"
   },
   {
    "duration": 2649,
    "start_time": "2022-04-02T16:19:41.955Z"
   },
   {
    "duration": 3076,
    "start_time": "2022-04-02T16:20:27.259Z"
   },
   {
    "duration": 4,
    "start_time": "2022-04-02T16:20:53.300Z"
   },
   {
    "duration": 2641,
    "start_time": "2022-04-02T16:21:21.795Z"
   },
   {
    "duration": 169,
    "start_time": "2022-04-02T16:22:52.380Z"
   },
   {
    "duration": 10,
    "start_time": "2022-04-02T16:22:56.888Z"
   },
   {
    "duration": 10,
    "start_time": "2022-04-02T16:23:08.588Z"
   },
   {
    "duration": 11,
    "start_time": "2022-04-02T16:23:15.468Z"
   },
   {
    "duration": 4,
    "start_time": "2022-04-02T16:23:37.105Z"
   },
   {
    "duration": 14,
    "start_time": "2022-04-02T16:23:47.640Z"
   },
   {
    "duration": 10,
    "start_time": "2022-04-02T16:24:01.588Z"
   },
   {
    "duration": 144,
    "start_time": "2022-04-02T17:01:14.586Z"
   },
   {
    "duration": 11,
    "start_time": "2022-04-02T17:01:15.379Z"
   },
   {
    "duration": 31,
    "start_time": "2022-04-02T17:01:23.206Z"
   },
   {
    "duration": 1568,
    "start_time": "2022-04-02T17:01:29.977Z"
   },
   {
    "duration": 889,
    "start_time": "2022-04-02T17:01:31.547Z"
   },
   {
    "duration": 136,
    "start_time": "2022-04-02T17:01:32.438Z"
   },
   {
    "duration": 115,
    "start_time": "2022-04-02T17:01:32.576Z"
   },
   {
    "duration": 386,
    "start_time": "2022-04-02T17:01:32.693Z"
   },
   {
    "duration": 493,
    "start_time": "2022-04-02T17:01:33.080Z"
   },
   {
    "duration": 519,
    "start_time": "2022-04-02T17:01:33.575Z"
   },
   {
    "duration": 43,
    "start_time": "2022-04-02T17:01:34.096Z"
   },
   {
    "duration": 1691,
    "start_time": "2022-04-02T17:01:34.141Z"
   },
   {
    "duration": 437,
    "start_time": "2022-04-02T17:01:35.835Z"
   },
   {
    "duration": 18,
    "start_time": "2022-04-02T17:01:36.273Z"
   },
   {
    "duration": 52,
    "start_time": "2022-04-02T17:01:36.293Z"
   },
   {
    "duration": 27,
    "start_time": "2022-04-02T17:01:36.347Z"
   },
   {
    "duration": 352,
    "start_time": "2022-04-02T17:01:36.376Z"
   },
   {
    "duration": 19,
    "start_time": "2022-04-02T17:01:36.729Z"
   },
   {
    "duration": 13,
    "start_time": "2022-04-02T17:01:36.749Z"
   },
   {
    "duration": 28,
    "start_time": "2022-04-02T17:01:36.763Z"
   },
   {
    "duration": 54,
    "start_time": "2022-04-02T17:01:36.792Z"
   },
   {
    "duration": 93,
    "start_time": "2022-04-02T17:01:36.848Z"
   },
   {
    "duration": 104,
    "start_time": "2022-04-02T17:01:36.943Z"
   },
   {
    "duration": 11,
    "start_time": "2022-04-02T17:01:37.049Z"
   },
   {
    "duration": 34,
    "start_time": "2022-04-02T17:01:37.062Z"
   },
   {
    "duration": 8,
    "start_time": "2022-04-02T17:01:37.097Z"
   },
   {
    "duration": 30,
    "start_time": "2022-04-02T17:01:37.106Z"
   },
   {
    "duration": 73,
    "start_time": "2022-04-02T17:01:37.138Z"
   },
   {
    "duration": 87,
    "start_time": "2022-04-02T17:01:37.213Z"
   },
   {
    "duration": 6,
    "start_time": "2022-04-02T17:01:37.302Z"
   },
   {
    "duration": 51,
    "start_time": "2022-04-02T17:01:37.312Z"
   },
   {
    "duration": 11,
    "start_time": "2022-04-02T17:01:37.365Z"
   },
   {
    "duration": 182,
    "start_time": "2022-04-02T17:01:37.378Z"
   },
   {
    "duration": 729,
    "start_time": "2022-04-02T17:01:37.562Z"
   },
   {
    "duration": 120,
    "start_time": "2022-04-02T17:01:38.293Z"
   },
   {
    "duration": 83,
    "start_time": "2022-04-02T17:01:38.416Z"
   },
   {
    "duration": 15,
    "start_time": "2022-04-02T17:01:38.500Z"
   },
   {
    "duration": 16,
    "start_time": "2022-04-02T17:01:38.517Z"
   },
   {
    "duration": 11,
    "start_time": "2022-04-02T17:01:38.535Z"
   },
   {
    "duration": 4388,
    "start_time": "2022-04-02T17:01:38.548Z"
   },
   {
    "duration": 295,
    "start_time": "2022-04-02T17:01:42.938Z"
   },
   {
    "duration": 4,
    "start_time": "2022-04-02T17:01:43.234Z"
   },
   {
    "duration": 15497,
    "start_time": "2022-04-02T17:01:43.240Z"
   },
   {
    "duration": 404,
    "start_time": "2022-04-02T17:01:58.739Z"
   },
   {
    "duration": 3,
    "start_time": "2022-04-02T17:01:59.145Z"
   },
   {
    "duration": 18790,
    "start_time": "2022-04-02T17:01:59.150Z"
   },
   {
    "duration": 407,
    "start_time": "2022-04-02T17:02:17.942Z"
   },
   {
    "duration": 3,
    "start_time": "2022-04-02T17:02:18.351Z"
   },
   {
    "duration": 3,
    "start_time": "2022-04-02T17:02:18.431Z"
   },
   {
    "duration": 16231,
    "start_time": "2022-04-02T17:02:18.436Z"
   },
   {
    "duration": 46,
    "start_time": "2022-04-02T17:02:34.669Z"
   },
   {
    "duration": 3,
    "start_time": "2022-04-02T17:02:34.716Z"
   },
   {
    "duration": 5,
    "start_time": "2022-04-02T17:02:34.721Z"
   },
   {
    "duration": 10547,
    "start_time": "2022-04-02T17:02:34.728Z"
   },
   {
    "duration": 32,
    "start_time": "2022-04-02T17:02:45.276Z"
   },
   {
    "duration": 3,
    "start_time": "2022-04-02T17:02:45.310Z"
   },
   {
    "duration": 20,
    "start_time": "2022-04-02T17:02:45.315Z"
   },
   {
    "duration": 63401,
    "start_time": "2022-04-02T17:02:45.337Z"
   },
   {
    "duration": 297,
    "start_time": "2022-04-02T17:03:48.740Z"
   },
   {
    "duration": 3,
    "start_time": "2022-04-02T17:03:49.039Z"
   },
   {
    "duration": 6,
    "start_time": "2022-04-02T17:03:49.043Z"
   },
   {
    "duration": 16325,
    "start_time": "2022-04-02T17:03:49.051Z"
   },
   {
    "duration": 47,
    "start_time": "2022-04-02T17:04:05.378Z"
   },
   {
    "duration": 3343,
    "start_time": "2022-04-03T14:55:22.994Z"
   },
   {
    "duration": 6443,
    "start_time": "2022-04-03T14:55:26.340Z"
   },
   {
    "duration": 174,
    "start_time": "2022-04-03T14:55:32.786Z"
   },
   {
    "duration": 163,
    "start_time": "2022-04-03T14:55:32.963Z"
   },
   {
    "duration": 484,
    "start_time": "2022-04-03T14:55:33.128Z"
   },
   {
    "duration": 736,
    "start_time": "2022-04-03T14:55:33.614Z"
   },
   {
    "duration": 894,
    "start_time": "2022-04-03T14:55:34.352Z"
   },
   {
    "duration": 71,
    "start_time": "2022-04-03T14:55:35.248Z"
   },
   {
    "duration": 2243,
    "start_time": "2022-04-03T14:55:35.321Z"
   },
   {
    "duration": 565,
    "start_time": "2022-04-03T14:55:37.568Z"
   },
   {
    "duration": 21,
    "start_time": "2022-04-03T14:55:38.135Z"
   },
   {
    "duration": 72,
    "start_time": "2022-04-03T14:55:38.158Z"
   },
   {
    "duration": 64,
    "start_time": "2022-04-03T14:55:38.232Z"
   },
   {
    "duration": 460,
    "start_time": "2022-04-03T14:55:38.298Z"
   },
   {
    "duration": 30,
    "start_time": "2022-04-03T14:55:38.760Z"
   },
   {
    "duration": 21,
    "start_time": "2022-04-03T14:55:38.792Z"
   },
   {
    "duration": 78,
    "start_time": "2022-04-03T14:55:38.815Z"
   },
   {
    "duration": 48,
    "start_time": "2022-04-03T14:55:38.895Z"
   },
   {
    "duration": 117,
    "start_time": "2022-04-03T14:55:38.946Z"
   },
   {
    "duration": 138,
    "start_time": "2022-04-03T14:55:39.066Z"
   },
   {
    "duration": 17,
    "start_time": "2022-04-03T14:55:39.206Z"
   },
   {
    "duration": 58,
    "start_time": "2022-04-03T14:55:39.225Z"
   },
   {
    "duration": 4,
    "start_time": "2022-04-03T14:55:39.286Z"
   },
   {
    "duration": 21,
    "start_time": "2022-04-03T14:55:39.292Z"
   },
   {
    "duration": 109,
    "start_time": "2022-04-03T14:55:39.315Z"
   },
   {
    "duration": 103,
    "start_time": "2022-04-03T14:55:39.426Z"
   },
   {
    "duration": 7,
    "start_time": "2022-04-03T14:55:39.531Z"
   },
   {
    "duration": 65,
    "start_time": "2022-04-03T14:55:39.543Z"
   },
   {
    "duration": 101,
    "start_time": "2022-04-03T14:55:39.610Z"
   },
   {
    "duration": 0,
    "start_time": "2022-04-03T14:55:39.713Z"
   },
   {
    "duration": 0,
    "start_time": "2022-04-03T14:55:39.715Z"
   },
   {
    "duration": 0,
    "start_time": "2022-04-03T14:55:39.716Z"
   },
   {
    "duration": 0,
    "start_time": "2022-04-03T14:55:39.717Z"
   },
   {
    "duration": 0,
    "start_time": "2022-04-03T14:55:39.719Z"
   },
   {
    "duration": 0,
    "start_time": "2022-04-03T14:55:39.720Z"
   },
   {
    "duration": 0,
    "start_time": "2022-04-03T14:55:39.722Z"
   },
   {
    "duration": 0,
    "start_time": "2022-04-03T14:55:39.723Z"
   },
   {
    "duration": 0,
    "start_time": "2022-04-03T14:55:39.725Z"
   },
   {
    "duration": 0,
    "start_time": "2022-04-03T14:55:39.726Z"
   },
   {
    "duration": 0,
    "start_time": "2022-04-03T14:55:39.728Z"
   },
   {
    "duration": 0,
    "start_time": "2022-04-03T14:55:39.729Z"
   },
   {
    "duration": 0,
    "start_time": "2022-04-03T14:55:39.730Z"
   },
   {
    "duration": 0,
    "start_time": "2022-04-03T14:55:39.732Z"
   },
   {
    "duration": 0,
    "start_time": "2022-04-03T14:55:39.733Z"
   },
   {
    "duration": 0,
    "start_time": "2022-04-03T14:55:39.735Z"
   },
   {
    "duration": 0,
    "start_time": "2022-04-03T14:55:39.737Z"
   },
   {
    "duration": 0,
    "start_time": "2022-04-03T14:55:39.738Z"
   },
   {
    "duration": 0,
    "start_time": "2022-04-03T14:55:39.740Z"
   },
   {
    "duration": 0,
    "start_time": "2022-04-03T14:55:39.741Z"
   },
   {
    "duration": 0,
    "start_time": "2022-04-03T14:55:39.743Z"
   },
   {
    "duration": 0,
    "start_time": "2022-04-03T14:55:39.744Z"
   },
   {
    "duration": 0,
    "start_time": "2022-04-03T14:55:39.746Z"
   },
   {
    "duration": 0,
    "start_time": "2022-04-03T14:55:39.747Z"
   },
   {
    "duration": 0,
    "start_time": "2022-04-03T14:55:39.784Z"
   },
   {
    "duration": 0,
    "start_time": "2022-04-03T14:55:39.786Z"
   },
   {
    "duration": 0,
    "start_time": "2022-04-03T14:55:39.787Z"
   },
   {
    "duration": 0,
    "start_time": "2022-04-03T14:55:39.789Z"
   },
   {
    "duration": 0,
    "start_time": "2022-04-03T14:55:39.790Z"
   },
   {
    "duration": 0,
    "start_time": "2022-04-03T14:55:39.792Z"
   },
   {
    "duration": 0,
    "start_time": "2022-04-03T14:55:39.794Z"
   },
   {
    "duration": 1659,
    "start_time": "2022-04-03T15:06:34.356Z"
   },
   {
    "duration": 159,
    "start_time": "2022-04-03T15:06:39.132Z"
   },
   {
    "duration": 1457,
    "start_time": "2022-04-03T15:06:51.306Z"
   },
   {
    "duration": 816,
    "start_time": "2022-04-03T15:06:53.759Z"
   },
   {
    "duration": 6,
    "start_time": "2022-04-03T15:07:11.302Z"
   },
   {
    "duration": 6,
    "start_time": "2022-04-03T15:07:46.010Z"
   },
   {
    "duration": 18,
    "start_time": "2022-04-03T15:08:06.815Z"
   },
   {
    "duration": 6,
    "start_time": "2022-04-03T15:08:19.384Z"
   },
   {
    "duration": 5,
    "start_time": "2022-04-03T15:09:19.599Z"
   },
   {
    "duration": 1500,
    "start_time": "2022-04-03T15:11:10.494Z"
   },
   {
    "duration": 892,
    "start_time": "2022-04-03T15:11:13.031Z"
   },
   {
    "duration": 5,
    "start_time": "2022-04-03T15:11:14.806Z"
   },
   {
    "duration": 170,
    "start_time": "2022-04-03T15:13:16.603Z"
   },
   {
    "duration": 13,
    "start_time": "2022-04-03T15:13:19.851Z"
   },
   {
    "duration": 14,
    "start_time": "2022-04-03T15:13:51.697Z"
   },
   {
    "duration": 15,
    "start_time": "2022-04-03T15:20:34.359Z"
   },
   {
    "duration": 15,
    "start_time": "2022-04-03T15:24:15.718Z"
   },
   {
    "duration": 6,
    "start_time": "2022-04-03T15:38:55.273Z"
   },
   {
    "duration": 23,
    "start_time": "2022-04-03T15:39:12.056Z"
   },
   {
    "duration": 1478,
    "start_time": "2022-04-03T15:39:34.590Z"
   },
   {
    "duration": 806,
    "start_time": "2022-04-03T15:39:39.889Z"
   },
   {
    "duration": 7,
    "start_time": "2022-04-03T15:39:41.505Z"
   },
   {
    "duration": 21,
    "start_time": "2022-04-03T15:39:43.396Z"
   },
   {
    "duration": 670,
    "start_time": "2022-04-03T15:43:13.719Z"
   },
   {
    "duration": 141,
    "start_time": "2022-04-03T15:44:41.284Z"
   },
   {
    "duration": 722,
    "start_time": "2022-04-03T15:44:58.056Z"
   },
   {
    "duration": 22,
    "start_time": "2022-04-03T15:45:26.113Z"
   },
   {
    "duration": 4,
    "start_time": "2022-04-03T15:47:31.864Z"
   },
   {
    "duration": 4,
    "start_time": "2022-04-03T15:47:34.700Z"
   },
   {
    "duration": 8621,
    "start_time": "2022-04-03T15:47:35.780Z"
   },
   {
    "duration": 5,
    "start_time": "2022-04-03T15:56:20.035Z"
   },
   {
    "duration": 8,
    "start_time": "2022-04-03T15:57:08.519Z"
   },
   {
    "duration": 5,
    "start_time": "2022-04-03T15:58:08.957Z"
   },
   {
    "duration": 46554,
    "start_time": "2022-04-03T15:59:18.497Z"
   },
   {
    "duration": 302123,
    "start_time": "2022-04-03T16:00:18.468Z"
   },
   {
    "duration": 1181,
    "start_time": "2022-04-03T16:06:12.121Z"
   },
   {
    "duration": 255169,
    "start_time": "2022-04-03T16:07:17.924Z"
   },
   {
    "duration": 1291,
    "start_time": "2022-04-03T16:11:33.096Z"
   },
   {
    "duration": 4,
    "start_time": "2022-04-03T16:11:34.391Z"
   },
   {
    "duration": 118,
    "start_time": "2022-04-03T16:13:52.232Z"
   },
   {
    "duration": 68,
    "start_time": "2022-04-03T16:14:22.880Z"
   },
   {
    "duration": 181,
    "start_time": "2022-04-03T16:14:27.895Z"
   },
   {
    "duration": 621994,
    "start_time": "2022-04-03T16:14:48.269Z"
   },
   {
    "duration": 6,
    "start_time": "2022-04-03T16:25:10.820Z"
   },
   {
    "duration": 537,
    "start_time": "2022-04-03T16:25:10.829Z"
   },
   {
    "duration": 76028,
    "start_time": "2022-04-03T16:30:34.658Z"
   },
   {
    "duration": 110,
    "start_time": "2022-04-03T16:34:16.217Z"
   },
   {
    "duration": 74290,
    "start_time": "2022-04-03T16:34:29.002Z"
   },
   {
    "duration": 15,
    "start_time": "2022-04-03T16:39:07.142Z"
   },
   {
    "duration": 26932,
    "start_time": "2022-04-03T16:39:16.554Z"
   },
   {
    "duration": 533269,
    "start_time": "2022-04-03T16:39:46.615Z"
   },
   {
    "duration": 511,
    "start_time": "2022-04-03T16:48:40.415Z"
   },
   {
    "duration": 1174,
    "start_time": "2022-04-03T16:48:47.521Z"
   },
   {
    "duration": 1185,
    "start_time": "2022-04-03T16:49:44.415Z"
   },
   {
    "duration": 103,
    "start_time": "2022-04-03T17:08:52.832Z"
   },
   {
    "duration": 131,
    "start_time": "2022-04-03T17:09:01.435Z"
   },
   {
    "duration": 16,
    "start_time": "2022-04-03T17:09:08.913Z"
   },
   {
    "duration": 15,
    "start_time": "2022-04-03T17:09:44.194Z"
   },
   {
    "duration": 15,
    "start_time": "2022-04-03T17:10:04.514Z"
   },
   {
    "duration": 19,
    "start_time": "2022-04-03T17:10:36.792Z"
   },
   {
    "duration": 19,
    "start_time": "2022-04-03T17:11:18.433Z"
   },
   {
    "duration": 19,
    "start_time": "2022-04-03T17:12:21.077Z"
   },
   {
    "duration": 155520,
    "start_time": "2022-04-03T17:14:19.302Z"
   },
   {
    "duration": 2503827,
    "start_time": "2022-04-03T17:17:08.608Z"
   },
   {
    "duration": 290,
    "start_time": "2022-04-03T17:58:52.437Z"
   },
   {
    "duration": 555210,
    "start_time": "2022-04-03T17:59:05.319Z"
   },
   {
    "duration": 123,
    "start_time": "2022-04-03T18:08:20.532Z"
   },
   {
    "duration": 75077,
    "start_time": "2022-04-03T18:09:09.653Z"
   },
   {
    "duration": 112,
    "start_time": "2022-04-03T18:10:24.733Z"
   },
   {
    "duration": 238,
    "start_time": "2022-04-04T15:33:32.509Z"
   },
   {
    "duration": 7,
    "start_time": "2022-04-04T15:33:57.394Z"
   },
   {
    "duration": 201,
    "start_time": "2022-04-04T15:34:04.025Z"
   },
   {
    "duration": 1838,
    "start_time": "2022-04-04T15:37:41.307Z"
   },
   {
    "duration": 882,
    "start_time": "2022-04-04T15:37:43.148Z"
   },
   {
    "duration": 128,
    "start_time": "2022-04-04T15:37:44.032Z"
   },
   {
    "duration": 111,
    "start_time": "2022-04-04T15:37:44.162Z"
   },
   {
    "duration": 350,
    "start_time": "2022-04-04T15:37:44.274Z"
   },
   {
    "duration": 487,
    "start_time": "2022-04-04T15:37:44.626Z"
   },
   {
    "duration": 448,
    "start_time": "2022-04-04T15:37:45.114Z"
   },
   {
    "duration": 42,
    "start_time": "2022-04-04T15:37:45.564Z"
   },
   {
    "duration": 1509,
    "start_time": "2022-04-04T15:37:45.607Z"
   },
   {
    "duration": 359,
    "start_time": "2022-04-04T15:37:47.119Z"
   },
   {
    "duration": 15,
    "start_time": "2022-04-04T15:37:47.479Z"
   },
   {
    "duration": 28,
    "start_time": "2022-04-04T15:37:47.501Z"
   },
   {
    "duration": 22,
    "start_time": "2022-04-04T15:37:47.531Z"
   },
   {
    "duration": 317,
    "start_time": "2022-04-04T15:37:47.555Z"
   },
   {
    "duration": 27,
    "start_time": "2022-04-04T15:37:47.874Z"
   },
   {
    "duration": 12,
    "start_time": "2022-04-04T15:37:47.903Z"
   },
   {
    "duration": 29,
    "start_time": "2022-04-04T15:37:47.917Z"
   },
   {
    "duration": 23,
    "start_time": "2022-04-04T15:37:47.948Z"
   },
   {
    "duration": 104,
    "start_time": "2022-04-04T15:37:47.973Z"
   },
   {
    "duration": 100,
    "start_time": "2022-04-04T15:37:48.078Z"
   },
   {
    "duration": 11,
    "start_time": "2022-04-04T15:37:48.180Z"
   },
   {
    "duration": 33,
    "start_time": "2022-04-04T15:37:48.192Z"
   },
   {
    "duration": 3,
    "start_time": "2022-04-04T15:37:48.227Z"
   },
   {
    "duration": 13,
    "start_time": "2022-04-04T15:37:48.232Z"
   },
   {
    "duration": 85,
    "start_time": "2022-04-04T15:37:48.246Z"
   },
   {
    "duration": 75,
    "start_time": "2022-04-04T15:37:48.333Z"
   },
   {
    "duration": 4,
    "start_time": "2022-04-04T15:37:48.409Z"
   },
   {
    "duration": 23,
    "start_time": "2022-04-04T15:37:48.417Z"
   },
   {
    "duration": 125,
    "start_time": "2022-04-04T15:37:48.441Z"
   },
   {
    "duration": 0,
    "start_time": "2022-04-04T15:37:48.568Z"
   },
   {
    "duration": 0,
    "start_time": "2022-04-04T15:37:48.569Z"
   },
   {
    "duration": 0,
    "start_time": "2022-04-04T15:37:48.570Z"
   },
   {
    "duration": 0,
    "start_time": "2022-04-04T15:37:48.571Z"
   },
   {
    "duration": 0,
    "start_time": "2022-04-04T15:37:48.572Z"
   },
   {
    "duration": 0,
    "start_time": "2022-04-04T15:37:48.574Z"
   },
   {
    "duration": 0,
    "start_time": "2022-04-04T15:37:48.575Z"
   },
   {
    "duration": 0,
    "start_time": "2022-04-04T15:37:48.576Z"
   },
   {
    "duration": 0,
    "start_time": "2022-04-04T15:37:48.577Z"
   },
   {
    "duration": 0,
    "start_time": "2022-04-04T15:37:48.578Z"
   },
   {
    "duration": 0,
    "start_time": "2022-04-04T15:37:48.601Z"
   },
   {
    "duration": 0,
    "start_time": "2022-04-04T15:37:48.603Z"
   },
   {
    "duration": 0,
    "start_time": "2022-04-04T15:37:48.604Z"
   },
   {
    "duration": 0,
    "start_time": "2022-04-04T15:37:48.606Z"
   },
   {
    "duration": 0,
    "start_time": "2022-04-04T15:37:48.607Z"
   },
   {
    "duration": 0,
    "start_time": "2022-04-04T15:37:48.609Z"
   },
   {
    "duration": 1,
    "start_time": "2022-04-04T15:37:48.610Z"
   },
   {
    "duration": 0,
    "start_time": "2022-04-04T15:37:48.612Z"
   },
   {
    "duration": 0,
    "start_time": "2022-04-04T15:37:48.613Z"
   },
   {
    "duration": 0,
    "start_time": "2022-04-04T15:37:48.615Z"
   },
   {
    "duration": 0,
    "start_time": "2022-04-04T15:37:48.616Z"
   },
   {
    "duration": 0,
    "start_time": "2022-04-04T15:37:48.618Z"
   },
   {
    "duration": 0,
    "start_time": "2022-04-04T15:37:48.619Z"
   },
   {
    "duration": 0,
    "start_time": "2022-04-04T15:37:48.621Z"
   },
   {
    "duration": 0,
    "start_time": "2022-04-04T15:37:48.622Z"
   },
   {
    "duration": 0,
    "start_time": "2022-04-04T15:37:48.623Z"
   },
   {
    "duration": 0,
    "start_time": "2022-04-04T15:37:48.624Z"
   },
   {
    "duration": 0,
    "start_time": "2022-04-04T15:37:48.625Z"
   },
   {
    "duration": 0,
    "start_time": "2022-04-04T15:37:48.626Z"
   },
   {
    "duration": 0,
    "start_time": "2022-04-04T15:37:48.627Z"
   },
   {
    "duration": 0,
    "start_time": "2022-04-04T15:37:48.629Z"
   },
   {
    "duration": 0,
    "start_time": "2022-04-04T15:37:48.630Z"
   },
   {
    "duration": 0,
    "start_time": "2022-04-04T15:37:48.631Z"
   },
   {
    "duration": 0,
    "start_time": "2022-04-04T15:37:48.632Z"
   },
   {
    "duration": 0,
    "start_time": "2022-04-04T15:37:48.633Z"
   },
   {
    "duration": 147,
    "start_time": "2022-04-04T15:39:09.632Z"
   },
   {
    "duration": 917,
    "start_time": "2022-04-04T15:39:11.155Z"
   },
   {
    "duration": 4,
    "start_time": "2022-04-04T15:39:13.252Z"
   },
   {
    "duration": 5,
    "start_time": "2022-04-04T15:39:20.379Z"
   },
   {
    "duration": 593,
    "start_time": "2022-04-04T15:39:21.242Z"
   },
   {
    "duration": 3,
    "start_time": "2022-04-04T15:39:30.646Z"
   },
   {
    "duration": 20308,
    "start_time": "2022-04-04T15:39:32.759Z"
   },
   {
    "duration": 52014,
    "start_time": "2022-04-04T15:39:53.069Z"
   },
   {
    "duration": 61932,
    "start_time": "2022-04-04T15:40:46.679Z"
   },
   {
    "duration": 428874,
    "start_time": "2022-04-04T15:42:01.556Z"
   },
   {
    "duration": 371,
    "start_time": "2022-04-04T15:49:32.090Z"
   },
   {
    "duration": 3,
    "start_time": "2022-04-04T15:49:54.159Z"
   },
   {
    "duration": 3,
    "start_time": "2022-04-04T15:50:11.754Z"
   },
   {
    "duration": 7255,
    "start_time": "2022-04-04T15:50:13.747Z"
   },
   {
    "duration": 10,
    "start_time": "2022-04-04T15:50:28.977Z"
   },
   {
    "duration": 386,
    "start_time": "2022-04-04T15:50:42.424Z"
   },
   {
    "duration": 105,
    "start_time": "2022-04-04T15:52:35.411Z"
   },
   {
    "duration": 13297,
    "start_time": "2022-04-04T15:52:52.771Z"
   },
   {
    "duration": 702742,
    "start_time": "2022-04-04T15:53:10.475Z"
   },
   {
    "duration": 214,
    "start_time": "2022-04-04T16:04:53.219Z"
   },
   {
    "duration": 1965,
    "start_time": "2022-04-04T16:14:37.922Z"
   },
   {
    "duration": 9844,
    "start_time": "2022-04-04T16:14:39.889Z"
   },
   {
    "duration": 139,
    "start_time": "2022-04-04T16:14:49.735Z"
   },
   {
    "duration": 144,
    "start_time": "2022-04-04T16:14:49.876Z"
   },
   {
    "duration": 364,
    "start_time": "2022-04-04T16:14:50.022Z"
   },
   {
    "duration": 451,
    "start_time": "2022-04-04T16:14:50.388Z"
   },
   {
    "duration": 486,
    "start_time": "2022-04-04T16:14:50.841Z"
   },
   {
    "duration": 39,
    "start_time": "2022-04-04T16:14:51.329Z"
   },
   {
    "duration": 1587,
    "start_time": "2022-04-04T16:14:51.370Z"
   },
   {
    "duration": 385,
    "start_time": "2022-04-04T16:14:52.959Z"
   },
   {
    "duration": 15,
    "start_time": "2022-04-04T16:14:53.345Z"
   },
   {
    "duration": 56,
    "start_time": "2022-04-04T16:14:53.362Z"
   },
   {
    "duration": 25,
    "start_time": "2022-04-04T16:14:53.420Z"
   },
   {
    "duration": 327,
    "start_time": "2022-04-04T16:14:53.446Z"
   },
   {
    "duration": 27,
    "start_time": "2022-04-04T16:14:53.774Z"
   },
   {
    "duration": 13,
    "start_time": "2022-04-04T16:14:53.802Z"
   },
   {
    "duration": 32,
    "start_time": "2022-04-04T16:14:53.816Z"
   },
   {
    "duration": 29,
    "start_time": "2022-04-04T16:14:53.850Z"
   },
   {
    "duration": 151,
    "start_time": "2022-04-04T16:14:53.902Z"
   },
   {
    "duration": 108,
    "start_time": "2022-04-04T16:14:54.055Z"
   },
   {
    "duration": 11,
    "start_time": "2022-04-04T16:14:54.165Z"
   },
   {
    "duration": 40,
    "start_time": "2022-04-04T16:14:54.178Z"
   },
   {
    "duration": 3,
    "start_time": "2022-04-04T16:14:54.220Z"
   },
   {
    "duration": 13,
    "start_time": "2022-04-04T16:14:54.225Z"
   },
   {
    "duration": 78,
    "start_time": "2022-04-04T16:14:54.240Z"
   },
   {
    "duration": 82,
    "start_time": "2022-04-04T16:14:54.319Z"
   },
   {
    "duration": 6,
    "start_time": "2022-04-04T16:14:54.403Z"
   },
   {
    "duration": 26,
    "start_time": "2022-04-04T16:14:54.414Z"
   },
   {
    "duration": 215,
    "start_time": "2022-04-04T16:14:54.443Z"
   },
   {
    "duration": 801,
    "start_time": "2022-04-04T16:14:54.660Z"
   },
   {
    "duration": 5,
    "start_time": "2022-04-04T16:14:55.463Z"
   },
   {
    "duration": 601,
    "start_time": "2022-04-04T16:14:55.469Z"
   },
   {
    "duration": 4,
    "start_time": "2022-04-04T16:14:56.071Z"
   },
   {
    "duration": 87225,
    "start_time": "2022-04-04T16:14:56.077Z"
   },
   {
    "duration": 135628,
    "start_time": "2022-04-04T16:16:23.304Z"
   },
   {
    "duration": 206,
    "start_time": "2022-04-04T16:18:38.934Z"
   },
   {
    "duration": 3,
    "start_time": "2022-04-04T16:18:39.142Z"
   },
   {
    "duration": 6,
    "start_time": "2022-04-04T16:18:39.146Z"
   },
   {
    "duration": 12669,
    "start_time": "2022-04-04T16:18:39.153Z"
   },
   {
    "duration": 11,
    "start_time": "2022-04-04T16:18:51.824Z"
   },
   {
    "duration": 0,
    "start_time": "2022-04-04T16:18:51.837Z"
   },
   {
    "duration": 0,
    "start_time": "2022-04-04T16:18:51.837Z"
   },
   {
    "duration": 0,
    "start_time": "2022-04-04T16:18:51.838Z"
   },
   {
    "duration": 0,
    "start_time": "2022-04-04T16:18:51.839Z"
   },
   {
    "duration": 0,
    "start_time": "2022-04-04T16:18:51.840Z"
   },
   {
    "duration": 0,
    "start_time": "2022-04-04T16:18:51.841Z"
   },
   {
    "duration": 0,
    "start_time": "2022-04-04T16:18:51.842Z"
   },
   {
    "duration": 0,
    "start_time": "2022-04-04T16:18:51.842Z"
   },
   {
    "duration": 0,
    "start_time": "2022-04-04T16:18:51.843Z"
   },
   {
    "duration": 0,
    "start_time": "2022-04-04T16:18:51.844Z"
   },
   {
    "duration": 0,
    "start_time": "2022-04-04T16:18:51.845Z"
   },
   {
    "duration": 0,
    "start_time": "2022-04-04T16:18:51.846Z"
   },
   {
    "duration": 0,
    "start_time": "2022-04-04T16:18:51.847Z"
   },
   {
    "duration": 0,
    "start_time": "2022-04-04T16:18:51.848Z"
   },
   {
    "duration": 0,
    "start_time": "2022-04-04T16:18:51.849Z"
   },
   {
    "duration": 0,
    "start_time": "2022-04-04T16:18:51.850Z"
   },
   {
    "duration": 0,
    "start_time": "2022-04-04T16:18:51.851Z"
   },
   {
    "duration": 0,
    "start_time": "2022-04-04T16:18:51.851Z"
   },
   {
    "duration": 0,
    "start_time": "2022-04-04T16:18:51.852Z"
   },
   {
    "duration": 0,
    "start_time": "2022-04-04T16:18:51.853Z"
   },
   {
    "duration": 0,
    "start_time": "2022-04-04T16:18:51.854Z"
   },
   {
    "duration": 0,
    "start_time": "2022-04-04T16:18:51.854Z"
   },
   {
    "duration": 4,
    "start_time": "2022-04-04T16:19:42.519Z"
   },
   {
    "duration": 716,
    "start_time": "2022-04-04T16:19:43.790Z"
   },
   {
    "duration": 129,
    "start_time": "2022-04-04T16:19:48.250Z"
   },
   {
    "duration": 81,
    "start_time": "2022-04-04T16:19:49.204Z"
   },
   {
    "duration": 353,
    "start_time": "2022-04-04T16:19:51.503Z"
   },
   {
    "duration": 562,
    "start_time": "2022-04-04T16:19:52.660Z"
   },
   {
    "duration": 597,
    "start_time": "2022-04-04T16:19:54.066Z"
   },
   {
    "duration": 50,
    "start_time": "2022-04-04T16:19:57.382Z"
   },
   {
    "duration": 2787,
    "start_time": "2022-04-04T16:19:58.035Z"
   },
   {
    "duration": 759,
    "start_time": "2022-04-04T16:20:00.825Z"
   },
   {
    "duration": 28,
    "start_time": "2022-04-04T16:20:01.587Z"
   },
   {
    "duration": 32,
    "start_time": "2022-04-04T16:20:02.645Z"
   },
   {
    "duration": 29,
    "start_time": "2022-04-04T16:20:03.008Z"
   },
   {
    "duration": 592,
    "start_time": "2022-04-04T16:20:03.143Z"
   },
   {
    "duration": 16,
    "start_time": "2022-04-04T16:20:03.738Z"
   },
   {
    "duration": 12,
    "start_time": "2022-04-04T16:20:03.756Z"
   },
   {
    "duration": 28,
    "start_time": "2022-04-04T16:20:04.817Z"
   },
   {
    "duration": 25,
    "start_time": "2022-04-04T16:20:04.996Z"
   },
   {
    "duration": 79,
    "start_time": "2022-04-04T16:20:05.826Z"
   },
   {
    "duration": 94,
    "start_time": "2022-04-04T16:20:06.013Z"
   },
   {
    "duration": 11,
    "start_time": "2022-04-04T16:20:06.415Z"
   },
   {
    "duration": 25,
    "start_time": "2022-04-04T16:20:09.301Z"
   },
   {
    "duration": 4,
    "start_time": "2022-04-04T16:20:09.978Z"
   },
   {
    "duration": 11,
    "start_time": "2022-04-04T16:20:10.347Z"
   },
   {
    "duration": 71,
    "start_time": "2022-04-04T16:20:10.666Z"
   },
   {
    "duration": 73,
    "start_time": "2022-04-04T16:20:11.235Z"
   },
   {
    "duration": 5,
    "start_time": "2022-04-04T16:20:11.683Z"
   },
   {
    "duration": 20,
    "start_time": "2022-04-04T16:20:12.323Z"
   },
   {
    "duration": 133,
    "start_time": "2022-04-04T16:20:18.345Z"
   },
   {
    "duration": 698,
    "start_time": "2022-04-04T16:20:20.086Z"
   },
   {
    "duration": 5,
    "start_time": "2022-04-04T16:20:21.678Z"
   },
   {
    "duration": 570,
    "start_time": "2022-04-04T16:20:23.825Z"
   },
   {
    "duration": 141,
    "start_time": "2022-04-04T16:20:31.562Z"
   },
   {
    "duration": 14,
    "start_time": "2022-04-04T16:20:33.621Z"
   },
   {
    "duration": 161,
    "start_time": "2022-04-04T16:22:11.646Z"
   },
   {
    "duration": 3,
    "start_time": "2022-04-04T16:22:41.830Z"
   },
   {
    "duration": 77880,
    "start_time": "2022-04-04T16:22:44.326Z"
   },
   {
    "duration": 441251,
    "start_time": "2022-04-04T16:24:02.210Z"
   },
   {
    "duration": 381,
    "start_time": "2022-04-04T16:31:23.463Z"
   },
   {
    "duration": 3,
    "start_time": "2022-04-04T16:33:32.226Z"
   },
   {
    "duration": 3,
    "start_time": "2022-04-04T16:33:34.570Z"
   },
   {
    "duration": 51468,
    "start_time": "2022-04-04T16:33:37.436Z"
   },
   {
    "duration": 496,
    "start_time": "2022-04-04T16:34:28.906Z"
   },
   {
    "duration": 3,
    "start_time": "2022-04-04T16:35:09.665Z"
   },
   {
    "duration": 7752,
    "start_time": "2022-04-04T16:35:11.250Z"
   },
   {
    "duration": 416,
    "start_time": "2022-04-04T16:35:19.004Z"
   },
   {
    "duration": 558,
    "start_time": "2022-04-04T16:35:29.753Z"
   },
   {
    "duration": 4,
    "start_time": "2022-04-04T16:35:38.303Z"
   },
   {
    "duration": 27826,
    "start_time": "2022-04-04T16:35:40.376Z"
   },
   {
    "duration": 608,
    "start_time": "2022-04-04T16:36:08.204Z"
   },
   {
    "duration": 516,
    "start_time": "2022-04-04T16:36:31.297Z"
   },
   {
    "duration": 3,
    "start_time": "2022-04-04T16:36:47.335Z"
   },
   {
    "duration": 19544,
    "start_time": "2022-04-04T16:36:47.972Z"
   },
   {
    "duration": 606,
    "start_time": "2022-04-04T16:37:18.803Z"
   },
   {
    "duration": 2,
    "start_time": "2022-04-04T16:37:29.125Z"
   },
   {
    "duration": 3,
    "start_time": "2022-04-04T16:37:29.853Z"
   },
   {
    "duration": 206,
    "start_time": "2022-04-04T16:37:30.991Z"
   },
   {
    "duration": 16461,
    "start_time": "2022-04-04T16:37:42.001Z"
   },
   {
    "duration": 92,
    "start_time": "2022-04-04T16:37:58.464Z"
   },
   {
    "duration": 3,
    "start_time": "2022-04-04T16:38:10.535Z"
   },
   {
    "duration": 3,
    "start_time": "2022-04-04T16:38:11.383Z"
   },
   {
    "duration": 11206,
    "start_time": "2022-04-04T16:38:23.155Z"
   },
   {
    "duration": 43,
    "start_time": "2022-04-04T16:38:42.384Z"
   },
   {
    "duration": 3,
    "start_time": "2022-04-04T16:38:49.284Z"
   },
   {
    "duration": 2,
    "start_time": "2022-04-04T16:38:50.025Z"
   },
   {
    "duration": 1224,
    "start_time": "2022-04-04T16:38:53.156Z"
   },
   {
    "duration": 71413,
    "start_time": "2022-04-04T16:39:05.450Z"
   },
   {
    "duration": 299,
    "start_time": "2022-04-04T16:40:16.865Z"
   },
   {
    "duration": 4,
    "start_time": "2022-04-04T16:41:02.808Z"
   },
   {
    "duration": 9,
    "start_time": "2022-04-04T16:42:26.644Z"
   },
   {
    "duration": 3,
    "start_time": "2022-04-04T16:44:30.337Z"
   },
   {
    "duration": 4,
    "start_time": "2022-04-04T16:45:01.684Z"
   },
   {
    "duration": 197642,
    "start_time": "2022-04-04T16:45:15.266Z"
   },
   {
    "duration": 0,
    "start_time": "2022-04-04T16:48:32.911Z"
   },
   {
    "duration": 10,
    "start_time": "2022-04-04T16:48:38.120Z"
   },
   {
    "duration": 215,
    "start_time": "2022-04-04T16:48:59.945Z"
   },
   {
    "duration": 207,
    "start_time": "2022-04-04T16:49:55.920Z"
   },
   {
    "duration": 4,
    "start_time": "2022-04-04T16:50:26.238Z"
   },
   {
    "duration": 2,
    "start_time": "2022-04-04T16:54:26.270Z"
   },
   {
    "duration": 2462,
    "start_time": "2022-04-04T17:04:46.497Z"
   },
   {
    "duration": 3,
    "start_time": "2022-04-04T17:05:37.105Z"
   },
   {
    "duration": 408,
    "start_time": "2022-04-04T17:11:41.112Z"
   },
   {
    "duration": 0,
    "start_time": "2022-04-04T17:11:41.533Z"
   },
   {
    "duration": 0,
    "start_time": "2022-04-04T17:11:41.535Z"
   },
   {
    "duration": 3,
    "start_time": "2022-04-04T17:11:52.286Z"
   },
   {
    "duration": 3,
    "start_time": "2022-04-04T17:11:54.765Z"
   },
   {
    "duration": 3,
    "start_time": "2022-04-04T17:11:55.382Z"
   },
   {
    "duration": 3,
    "start_time": "2022-04-04T17:12:06.371Z"
   },
   {
    "duration": 0,
    "start_time": "2022-04-04T17:21:59.171Z"
   },
   {
    "duration": 0,
    "start_time": "2022-04-04T17:21:59.174Z"
   },
   {
    "duration": 0,
    "start_time": "2022-04-04T17:21:59.175Z"
   },
   {
    "duration": 4,
    "start_time": "2022-04-04T17:22:08.738Z"
   },
   {
    "duration": 3,
    "start_time": "2022-04-04T17:22:16.194Z"
   },
   {
    "duration": 6988,
    "start_time": "2022-04-04T17:27:09.316Z"
   },
   {
    "duration": 210,
    "start_time": "2022-04-04T17:30:36.778Z"
   },
   {
    "duration": 2806,
    "start_time": "2022-04-04T17:35:53.037Z"
   },
   {
    "duration": 3,
    "start_time": "2022-04-04T17:38:00.857Z"
   },
   {
    "duration": 4,
    "start_time": "2022-04-04T17:38:17.210Z"
   },
   {
    "duration": 14,
    "start_time": "2022-04-04T17:38:28.669Z"
   },
   {
    "duration": 3,
    "start_time": "2022-04-04T17:38:44.418Z"
   },
   {
    "duration": 0,
    "start_time": "2022-04-04T17:42:59.239Z"
   },
   {
    "duration": 183,
    "start_time": "2022-04-04T17:42:59.506Z"
   },
   {
    "duration": 9,
    "start_time": "2022-04-04T17:43:02.970Z"
   },
   {
    "duration": 3,
    "start_time": "2022-04-04T17:43:09.366Z"
   },
   {
    "duration": 3,
    "start_time": "2022-04-04T17:43:10.640Z"
   },
   {
    "duration": 3,
    "start_time": "2022-04-04T17:43:11.616Z"
   },
   {
    "duration": 0,
    "start_time": "2022-04-04T17:44:39.721Z"
   },
   {
    "duration": 249,
    "start_time": "2022-04-04T17:44:42.432Z"
   },
   {
    "duration": 4,
    "start_time": "2022-04-04T17:46:27.370Z"
   },
   {
    "duration": 16,
    "start_time": "2022-04-04T17:46:31.932Z"
   },
   {
    "duration": 16,
    "start_time": "2022-04-04T17:46:44.726Z"
   },
   {
    "duration": 4,
    "start_time": "2022-04-04T17:46:56.988Z"
   },
   {
    "duration": 17,
    "start_time": "2022-04-04T17:46:57.990Z"
   },
   {
    "duration": 4,
    "start_time": "2022-04-04T17:47:23.086Z"
   },
   {
    "duration": 18,
    "start_time": "2022-04-04T17:47:23.863Z"
   },
   {
    "duration": 2,
    "start_time": "2022-04-04T17:47:43.200Z"
   },
   {
    "duration": 0,
    "start_time": "2022-04-04T17:50:21.297Z"
   },
   {
    "duration": 0,
    "start_time": "2022-04-04T17:50:21.299Z"
   },
   {
    "duration": 3,
    "start_time": "2022-04-04T17:50:24.122Z"
   },
   {
    "duration": 37488,
    "start_time": "2022-04-04T17:50:26.104Z"
   },
   {
    "duration": 3,
    "start_time": "2022-04-04T17:51:12.599Z"
   },
   {
    "duration": 12,
    "start_time": "2022-04-04T17:51:13.662Z"
   },
   {
    "duration": 3,
    "start_time": "2022-04-04T17:51:46.871Z"
   },
   {
    "duration": 563867,
    "start_time": "2022-04-04T17:51:48.022Z"
   },
   {
    "duration": 3,
    "start_time": "2022-04-04T18:01:14.163Z"
   },
   {
    "duration": 77411,
    "start_time": "2022-04-04T18:01:15.185Z"
   },
   {
    "duration": 2,
    "start_time": "2022-04-04T18:03:14.708Z"
   },
   {
    "duration": 3,
    "start_time": "2022-04-04T18:03:16.119Z"
   },
   {
    "duration": 263,
    "start_time": "2022-04-04T18:03:27.466Z"
   },
   {
    "duration": 210,
    "start_time": "2022-04-04T18:03:51.798Z"
   },
   {
    "duration": 433704,
    "start_time": "2022-04-04T18:04:04.075Z"
   },
   {
    "duration": 4,
    "start_time": "2022-04-04T18:11:17.781Z"
   },
   {
    "duration": 502076,
    "start_time": "2022-04-04T18:14:23.900Z"
   },
   {
    "duration": 3,
    "start_time": "2022-04-04T18:23:46.332Z"
   },
   {
    "duration": 482303,
    "start_time": "2022-04-04T18:24:30.662Z"
   },
   {
    "duration": 0,
    "start_time": "2022-04-04T18:32:32.966Z"
   },
   {
    "duration": 96,
    "start_time": "2022-04-04T18:33:13.446Z"
   },
   {
    "duration": 210,
    "start_time": "2022-04-04T18:33:24.911Z"
   },
   {
    "duration": 209,
    "start_time": "2022-04-04T18:33:38.741Z"
   },
   {
    "duration": 2,
    "start_time": "2022-04-04T18:33:45.884Z"
   },
   {
    "duration": 11,
    "start_time": "2022-04-04T18:34:05.260Z"
   },
   {
    "duration": 9,
    "start_time": "2022-04-04T18:34:29.952Z"
   },
   {
    "duration": 3,
    "start_time": "2022-04-04T18:35:19.586Z"
   },
   {
    "duration": 292,
    "start_time": "2022-04-04T18:35:21.779Z"
   },
   {
    "duration": 228822,
    "start_time": "2022-04-04T18:35:56.306Z"
   },
   {
    "duration": 378,
    "start_time": "2022-04-04T18:40:54.261Z"
   },
   {
    "duration": 2,
    "start_time": "2022-04-04T18:42:16.953Z"
   },
   {
    "duration": 3,
    "start_time": "2022-04-04T18:43:22.810Z"
   },
   {
    "duration": 2,
    "start_time": "2022-04-04T18:44:49.934Z"
   },
   {
    "duration": 3,
    "start_time": "2022-04-04T18:44:51.227Z"
   },
   {
    "duration": 7357,
    "start_time": "2022-04-04T18:44:52.438Z"
   },
   {
    "duration": 6096,
    "start_time": "2022-04-04T18:49:44.903Z"
   },
   {
    "duration": 106,
    "start_time": "2022-04-04T18:50:48.472Z"
   },
   {
    "duration": 7033,
    "start_time": "2022-04-04T18:53:35.066Z"
   },
   {
    "duration": 3,
    "start_time": "2022-04-04T18:56:01.799Z"
   },
   {
    "duration": 4,
    "start_time": "2022-04-04T18:56:02.718Z"
   },
   {
    "duration": 17273,
    "start_time": "2022-04-04T18:56:03.878Z"
   },
   {
    "duration": 94,
    "start_time": "2022-04-04T18:57:35.391Z"
   },
   {
    "duration": 139,
    "start_time": "2022-04-04T19:12:36.574Z"
   },
   {
    "duration": 146,
    "start_time": "2022-04-04T19:18:39.175Z"
   },
   {
    "duration": 1540,
    "start_time": "2022-06-24T16:47:04.215Z"
   },
   {
    "duration": 915,
    "start_time": "2022-06-24T16:47:05.757Z"
   },
   {
    "duration": 130,
    "start_time": "2022-06-24T16:47:06.674Z"
   },
   {
    "duration": 117,
    "start_time": "2022-06-24T16:47:06.806Z"
   },
   {
    "duration": 391,
    "start_time": "2022-06-24T16:47:06.925Z"
   },
   {
    "duration": 489,
    "start_time": "2022-06-24T16:47:07.318Z"
   },
   {
    "duration": 562,
    "start_time": "2022-06-24T16:47:07.808Z"
   },
   {
    "duration": 49,
    "start_time": "2022-06-24T16:47:08.373Z"
   },
   {
    "duration": 1673,
    "start_time": "2022-06-24T16:47:08.424Z"
   },
   {
    "duration": 1086,
    "start_time": "2022-06-24T16:47:10.100Z"
   },
   {
    "duration": 72,
    "start_time": "2022-06-24T16:47:11.187Z"
   },
   {
    "duration": 34,
    "start_time": "2022-06-24T16:47:11.261Z"
   },
   {
    "duration": 81,
    "start_time": "2022-06-24T16:47:11.297Z"
   },
   {
    "duration": 686,
    "start_time": "2022-06-24T16:47:11.380Z"
   },
   {
    "duration": 19,
    "start_time": "2022-06-24T16:47:12.068Z"
   },
   {
    "duration": 15,
    "start_time": "2022-06-24T16:47:12.088Z"
   },
   {
    "duration": 54,
    "start_time": "2022-06-24T16:47:12.104Z"
   },
   {
    "duration": 27,
    "start_time": "2022-06-24T16:47:12.160Z"
   },
   {
    "duration": 96,
    "start_time": "2022-06-24T16:47:12.188Z"
   },
   {
    "duration": 112,
    "start_time": "2022-06-24T16:47:12.286Z"
   },
   {
    "duration": 12,
    "start_time": "2022-06-24T16:47:12.400Z"
   },
   {
    "duration": 46,
    "start_time": "2022-06-24T16:47:12.414Z"
   },
   {
    "duration": 7,
    "start_time": "2022-06-24T16:47:12.462Z"
   },
   {
    "duration": 17,
    "start_time": "2022-06-24T16:47:12.470Z"
   },
   {
    "duration": 98,
    "start_time": "2022-06-24T16:47:12.489Z"
   },
   {
    "duration": 87,
    "start_time": "2022-06-24T16:47:12.589Z"
   },
   {
    "duration": 6,
    "start_time": "2022-06-24T16:47:12.678Z"
   },
   {
    "duration": 33,
    "start_time": "2022-06-24T16:47:12.687Z"
   },
   {
    "duration": 215,
    "start_time": "2022-06-24T16:47:12.722Z"
   },
   {
    "duration": 1123,
    "start_time": "2022-06-24T16:47:12.939Z"
   },
   {
    "duration": 4,
    "start_time": "2022-06-24T16:47:14.063Z"
   },
   {
    "duration": 663,
    "start_time": "2022-06-24T16:47:14.069Z"
   },
   {
    "duration": 180,
    "start_time": "2022-06-24T16:47:14.733Z"
   },
   {
    "duration": 161,
    "start_time": "2022-06-24T16:47:14.915Z"
   },
   {
    "duration": 3,
    "start_time": "2022-06-24T16:47:15.077Z"
   },
   {
    "duration": 78973,
    "start_time": "2022-06-24T16:47:15.082Z"
   },
   {
    "duration": 479193,
    "start_time": "2022-06-24T16:48:34.057Z"
   },
   {
    "duration": 430,
    "start_time": "2022-06-24T16:56:33.253Z"
   },
   {
    "duration": 3,
    "start_time": "2022-06-24T16:56:33.685Z"
   },
   {
    "duration": 6,
    "start_time": "2022-06-24T16:56:33.689Z"
   },
   {
    "duration": 107876,
    "start_time": "2022-06-24T16:56:33.696Z"
   },
   {
    "duration": 513,
    "start_time": "2022-06-24T16:58:21.653Z"
   },
   {
    "duration": 5,
    "start_time": "2022-06-24T16:58:22.171Z"
   },
   {
    "duration": 210980,
    "start_time": "2022-06-24T16:58:22.178Z"
   },
   {
    "duration": 617,
    "start_time": "2022-06-24T17:01:53.160Z"
   },
   {
    "duration": 76,
    "start_time": "2022-06-24T17:01:53.780Z"
   },
   {
    "duration": 367003,
    "start_time": "2022-06-24T17:01:53.859Z"
   },
   {
    "duration": 703,
    "start_time": "2022-06-24T17:08:00.863Z"
   },
   {
    "duration": 3,
    "start_time": "2022-06-24T17:08:01.567Z"
   },
   {
    "duration": 13,
    "start_time": "2022-06-24T17:08:01.571Z"
   },
   {
    "duration": 16138,
    "start_time": "2022-06-24T17:08:01.586Z"
   },
   {
    "duration": 99,
    "start_time": "2022-06-24T17:08:17.726Z"
   },
   {
    "duration": 3,
    "start_time": "2022-06-24T17:08:17.826Z"
   },
   {
    "duration": 7,
    "start_time": "2022-06-24T17:08:17.830Z"
   },
   {
    "duration": 10657,
    "start_time": "2022-06-24T17:08:17.838Z"
   },
   {
    "duration": 47,
    "start_time": "2022-06-24T17:08:28.496Z"
   },
   {
    "duration": 3,
    "start_time": "2022-06-24T17:08:28.545Z"
   },
   {
    "duration": 10,
    "start_time": "2022-06-24T17:08:28.549Z"
   },
   {
    "duration": 74229,
    "start_time": "2022-06-24T17:08:28.560Z"
   },
   {
    "duration": 317,
    "start_time": "2022-06-24T17:09:42.791Z"
   },
   {
    "duration": 3,
    "start_time": "2022-06-24T17:09:43.110Z"
   },
   {
    "duration": 7,
    "start_time": "2022-06-24T17:09:43.114Z"
   },
   {
    "duration": 225640,
    "start_time": "2022-06-24T17:09:43.122Z"
   },
   {
    "duration": 390,
    "start_time": "2022-06-24T17:13:28.764Z"
   },
   {
    "duration": 3,
    "start_time": "2022-06-24T17:13:29.156Z"
   },
   {
    "duration": 5,
    "start_time": "2022-06-24T17:13:29.161Z"
   },
   {
    "duration": 4,
    "start_time": "2022-06-24T17:13:29.168Z"
   },
   {
    "duration": 6,
    "start_time": "2022-06-24T17:13:29.174Z"
   },
   {
    "duration": 16062,
    "start_time": "2022-06-24T17:13:29.182Z"
   },
   {
    "duration": 116,
    "start_time": "2022-06-24T17:13:45.246Z"
   }
  ],
  "kernelspec": {
   "display_name": "Python 3 (ipykernel)",
   "language": "python",
   "name": "python3"
  },
  "language_info": {
   "codemirror_mode": {
    "name": "ipython",
    "version": 3
   },
   "file_extension": ".py",
   "mimetype": "text/x-python",
   "name": "python",
   "nbconvert_exporter": "python",
   "pygments_lexer": "ipython3",
   "version": "3.9.5"
  },
  "toc": {
   "base_numbering": 1,
   "nav_menu": {},
   "number_sections": true,
   "sideBar": true,
   "skip_h1_title": true,
   "title_cell": "Table of Contents",
   "title_sidebar": "Contents",
   "toc_cell": false,
   "toc_position": {
    "height": "calc(100% - 180px)",
    "left": "10px",
    "top": "150px",
    "width": "165px"
   },
   "toc_section_display": true,
   "toc_window_display": true
  }
 },
 "nbformat": 4,
 "nbformat_minor": 2
}
