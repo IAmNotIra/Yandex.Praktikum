{
 "cells": [
  {
   "cell_type": "markdown",
   "metadata": {},
   "source": [
    "# Отток клиентов"
   ]
  },
  {
   "cell_type": "markdown",
   "metadata": {},
   "source": [
    "Из «Бета-Банка» стали уходить клиенты. Каждый месяц. Немного, но заметно. Банковские маркетологи посчитали: сохранять текущих клиентов дешевле, чем привлекать новых.\n",
    "\n",
    "Нужно спрогнозировать, уйдёт клиент из банка в ближайшее время или нет. Вам предоставлены исторические данные о поведении клиентов и расторжении договоров с банком. \n",
    "\n",
    "Постройте модель с предельно большим значением *F1*-меры. Чтобы сдать проект успешно, нужно довести метрику до 0.59. Проверьте *F1*-меру на тестовой выборке самостоятельно.\n",
    "\n",
    "Дополнительно измеряйте *AUC-ROC*, сравнивайте её значение с *F1*-мерой.\n",
    "\n",
    "Источник данных: [https://www.kaggle.com/barelydedicated/bank-customer-churn-modeling](https://www.kaggle.com/barelydedicated/bank-customer-churn-modeling)\n",
    "\n",
    "***Описание данных***\n",
    "\n",
    "Признаки:\n",
    "* RowNumber — индекс строки в данных\n",
    "* CustomerId — уникальный идентификатор клиента\n",
    "* Surname — фамилия\n",
    "* CreditScore — кредитный рейтинг\n",
    "* Geography — страна проживания\n",
    "* Gender — пол\n",
    "* Age — возраст\n",
    "* Tenure — сколько лет человек является клиентом банка\n",
    "* Balance — баланс на счёте\n",
    "* NumOfProducts — количество продуктов банка, используемых клиентом\n",
    "* HasCrCard — наличие кредитной карты\n",
    "* IsActiveMember — активность клиента\n",
    "* EstimatedSalary — предполагаемая зарплата  \n",
    "\n",
    "Целевой признак:\n",
    "* Exited — факт ухода клиента"
   ]
  },
  {
   "cell_type": "markdown",
   "metadata": {},
   "source": [
    "## Подготовка данных"
   ]
  },
  {
   "cell_type": "code",
   "execution_count": 1,
   "metadata": {},
   "outputs": [],
   "source": [
    "import pandas as pd\n",
    "import matplotlib.pyplot as plt\n",
    "import numpy as np\n",
    "import warnings\n",
    "from sklearn.tree import DecisionTreeClassifier\n",
    "from sklearn.ensemble import RandomForestClassifier\n",
    "from sklearn.linear_model import LogisticRegression\n",
    "from sklearn.model_selection import train_test_split\n",
    "from sklearn.preprocessing import OrdinalEncoder\n",
    "from sklearn.preprocessing import StandardScaler\n",
    "from sklearn.utils import shuffle\n",
    "from sklearn.metrics import roc_curve, roc_auc_score, accuracy_score, f1_score"
   ]
  },
  {
   "cell_type": "code",
   "execution_count": 2,
   "metadata": {},
   "outputs": [
    {
     "data": {
      "text/html": [
       "<div>\n",
       "<style scoped>\n",
       "    .dataframe tbody tr th:only-of-type {\n",
       "        vertical-align: middle;\n",
       "    }\n",
       "\n",
       "    .dataframe tbody tr th {\n",
       "        vertical-align: top;\n",
       "    }\n",
       "\n",
       "    .dataframe thead th {\n",
       "        text-align: right;\n",
       "    }\n",
       "</style>\n",
       "<table border=\"1\" class=\"dataframe\">\n",
       "  <thead>\n",
       "    <tr style=\"text-align: right;\">\n",
       "      <th></th>\n",
       "      <th>RowNumber</th>\n",
       "      <th>CustomerId</th>\n",
       "      <th>Surname</th>\n",
       "      <th>CreditScore</th>\n",
       "      <th>Geography</th>\n",
       "      <th>Gender</th>\n",
       "      <th>Age</th>\n",
       "      <th>Tenure</th>\n",
       "      <th>Balance</th>\n",
       "      <th>NumOfProducts</th>\n",
       "      <th>HasCrCard</th>\n",
       "      <th>IsActiveMember</th>\n",
       "      <th>EstimatedSalary</th>\n",
       "      <th>Exited</th>\n",
       "    </tr>\n",
       "  </thead>\n",
       "  <tbody>\n",
       "    <tr>\n",
       "      <th>0</th>\n",
       "      <td>1</td>\n",
       "      <td>15634602</td>\n",
       "      <td>Hargrave</td>\n",
       "      <td>619</td>\n",
       "      <td>France</td>\n",
       "      <td>Female</td>\n",
       "      <td>42</td>\n",
       "      <td>2.0</td>\n",
       "      <td>0.00</td>\n",
       "      <td>1</td>\n",
       "      <td>1</td>\n",
       "      <td>1</td>\n",
       "      <td>101348.88</td>\n",
       "      <td>1</td>\n",
       "    </tr>\n",
       "    <tr>\n",
       "      <th>1</th>\n",
       "      <td>2</td>\n",
       "      <td>15647311</td>\n",
       "      <td>Hill</td>\n",
       "      <td>608</td>\n",
       "      <td>Spain</td>\n",
       "      <td>Female</td>\n",
       "      <td>41</td>\n",
       "      <td>1.0</td>\n",
       "      <td>83807.86</td>\n",
       "      <td>1</td>\n",
       "      <td>0</td>\n",
       "      <td>1</td>\n",
       "      <td>112542.58</td>\n",
       "      <td>0</td>\n",
       "    </tr>\n",
       "    <tr>\n",
       "      <th>2</th>\n",
       "      <td>3</td>\n",
       "      <td>15619304</td>\n",
       "      <td>Onio</td>\n",
       "      <td>502</td>\n",
       "      <td>France</td>\n",
       "      <td>Female</td>\n",
       "      <td>42</td>\n",
       "      <td>8.0</td>\n",
       "      <td>159660.80</td>\n",
       "      <td>3</td>\n",
       "      <td>1</td>\n",
       "      <td>0</td>\n",
       "      <td>113931.57</td>\n",
       "      <td>1</td>\n",
       "    </tr>\n",
       "    <tr>\n",
       "      <th>3</th>\n",
       "      <td>4</td>\n",
       "      <td>15701354</td>\n",
       "      <td>Boni</td>\n",
       "      <td>699</td>\n",
       "      <td>France</td>\n",
       "      <td>Female</td>\n",
       "      <td>39</td>\n",
       "      <td>1.0</td>\n",
       "      <td>0.00</td>\n",
       "      <td>2</td>\n",
       "      <td>0</td>\n",
       "      <td>0</td>\n",
       "      <td>93826.63</td>\n",
       "      <td>0</td>\n",
       "    </tr>\n",
       "    <tr>\n",
       "      <th>4</th>\n",
       "      <td>5</td>\n",
       "      <td>15737888</td>\n",
       "      <td>Mitchell</td>\n",
       "      <td>850</td>\n",
       "      <td>Spain</td>\n",
       "      <td>Female</td>\n",
       "      <td>43</td>\n",
       "      <td>2.0</td>\n",
       "      <td>125510.82</td>\n",
       "      <td>1</td>\n",
       "      <td>1</td>\n",
       "      <td>1</td>\n",
       "      <td>79084.10</td>\n",
       "      <td>0</td>\n",
       "    </tr>\n",
       "  </tbody>\n",
       "</table>\n",
       "</div>"
      ],
      "text/plain": [
       "   RowNumber  CustomerId   Surname  CreditScore Geography  Gender  Age  \\\n",
       "0          1    15634602  Hargrave          619    France  Female   42   \n",
       "1          2    15647311      Hill          608     Spain  Female   41   \n",
       "2          3    15619304      Onio          502    France  Female   42   \n",
       "3          4    15701354      Boni          699    France  Female   39   \n",
       "4          5    15737888  Mitchell          850     Spain  Female   43   \n",
       "\n",
       "   Tenure    Balance  NumOfProducts  HasCrCard  IsActiveMember  \\\n",
       "0     2.0       0.00              1          1               1   \n",
       "1     1.0   83807.86              1          0               1   \n",
       "2     8.0  159660.80              3          1               0   \n",
       "3     1.0       0.00              2          0               0   \n",
       "4     2.0  125510.82              1          1               1   \n",
       "\n",
       "   EstimatedSalary  Exited  \n",
       "0        101348.88       1  \n",
       "1        112542.58       0  \n",
       "2        113931.57       1  \n",
       "3         93826.63       0  \n",
       "4         79084.10       0  "
      ]
     },
     "execution_count": 2,
     "metadata": {},
     "output_type": "execute_result"
    }
   ],
   "source": [
    "data = pd.read_csv('/datasets/Churn.csv')\n",
    "data.head()"
   ]
  },
  {
   "cell_type": "code",
   "execution_count": 3,
   "metadata": {
    "scrolled": false
   },
   "outputs": [
    {
     "name": "stdout",
     "output_type": "stream",
     "text": [
      "<class 'pandas.core.frame.DataFrame'>\n",
      "RangeIndex: 10000 entries, 0 to 9999\n",
      "Data columns (total 14 columns):\n",
      " #   Column           Non-Null Count  Dtype  \n",
      "---  ------           --------------  -----  \n",
      " 0   RowNumber        10000 non-null  int64  \n",
      " 1   CustomerId       10000 non-null  int64  \n",
      " 2   Surname          10000 non-null  object \n",
      " 3   CreditScore      10000 non-null  int64  \n",
      " 4   Geography        10000 non-null  object \n",
      " 5   Gender           10000 non-null  object \n",
      " 6   Age              10000 non-null  int64  \n",
      " 7   Tenure           9091 non-null   float64\n",
      " 8   Balance          10000 non-null  float64\n",
      " 9   NumOfProducts    10000 non-null  int64  \n",
      " 10  HasCrCard        10000 non-null  int64  \n",
      " 11  IsActiveMember   10000 non-null  int64  \n",
      " 12  EstimatedSalary  10000 non-null  float64\n",
      " 13  Exited           10000 non-null  int64  \n",
      "dtypes: float64(3), int64(8), object(3)\n",
      "memory usage: 1.1+ MB\n"
     ]
    }
   ],
   "source": [
    "data.info()"
   ]
  },
  {
   "cell_type": "markdown",
   "metadata": {},
   "source": [
    "Удалим колонки, которые не понадобятся для исследования."
   ]
  },
  {
   "cell_type": "code",
   "execution_count": 4,
   "metadata": {},
   "outputs": [
    {
     "data": {
      "text/html": [
       "<div>\n",
       "<style scoped>\n",
       "    .dataframe tbody tr th:only-of-type {\n",
       "        vertical-align: middle;\n",
       "    }\n",
       "\n",
       "    .dataframe tbody tr th {\n",
       "        vertical-align: top;\n",
       "    }\n",
       "\n",
       "    .dataframe thead th {\n",
       "        text-align: right;\n",
       "    }\n",
       "</style>\n",
       "<table border=\"1\" class=\"dataframe\">\n",
       "  <thead>\n",
       "    <tr style=\"text-align: right;\">\n",
       "      <th></th>\n",
       "      <th>CreditScore</th>\n",
       "      <th>Geography</th>\n",
       "      <th>Gender</th>\n",
       "      <th>Age</th>\n",
       "      <th>Tenure</th>\n",
       "      <th>Balance</th>\n",
       "      <th>NumOfProducts</th>\n",
       "      <th>HasCrCard</th>\n",
       "      <th>IsActiveMember</th>\n",
       "      <th>EstimatedSalary</th>\n",
       "      <th>Exited</th>\n",
       "    </tr>\n",
       "  </thead>\n",
       "  <tbody>\n",
       "    <tr>\n",
       "      <th>0</th>\n",
       "      <td>619</td>\n",
       "      <td>France</td>\n",
       "      <td>Female</td>\n",
       "      <td>42</td>\n",
       "      <td>2.0</td>\n",
       "      <td>0.00</td>\n",
       "      <td>1</td>\n",
       "      <td>1</td>\n",
       "      <td>1</td>\n",
       "      <td>101348.88</td>\n",
       "      <td>1</td>\n",
       "    </tr>\n",
       "    <tr>\n",
       "      <th>1</th>\n",
       "      <td>608</td>\n",
       "      <td>Spain</td>\n",
       "      <td>Female</td>\n",
       "      <td>41</td>\n",
       "      <td>1.0</td>\n",
       "      <td>83807.86</td>\n",
       "      <td>1</td>\n",
       "      <td>0</td>\n",
       "      <td>1</td>\n",
       "      <td>112542.58</td>\n",
       "      <td>0</td>\n",
       "    </tr>\n",
       "    <tr>\n",
       "      <th>2</th>\n",
       "      <td>502</td>\n",
       "      <td>France</td>\n",
       "      <td>Female</td>\n",
       "      <td>42</td>\n",
       "      <td>8.0</td>\n",
       "      <td>159660.80</td>\n",
       "      <td>3</td>\n",
       "      <td>1</td>\n",
       "      <td>0</td>\n",
       "      <td>113931.57</td>\n",
       "      <td>1</td>\n",
       "    </tr>\n",
       "    <tr>\n",
       "      <th>3</th>\n",
       "      <td>699</td>\n",
       "      <td>France</td>\n",
       "      <td>Female</td>\n",
       "      <td>39</td>\n",
       "      <td>1.0</td>\n",
       "      <td>0.00</td>\n",
       "      <td>2</td>\n",
       "      <td>0</td>\n",
       "      <td>0</td>\n",
       "      <td>93826.63</td>\n",
       "      <td>0</td>\n",
       "    </tr>\n",
       "    <tr>\n",
       "      <th>4</th>\n",
       "      <td>850</td>\n",
       "      <td>Spain</td>\n",
       "      <td>Female</td>\n",
       "      <td>43</td>\n",
       "      <td>2.0</td>\n",
       "      <td>125510.82</td>\n",
       "      <td>1</td>\n",
       "      <td>1</td>\n",
       "      <td>1</td>\n",
       "      <td>79084.10</td>\n",
       "      <td>0</td>\n",
       "    </tr>\n",
       "  </tbody>\n",
       "</table>\n",
       "</div>"
      ],
      "text/plain": [
       "   CreditScore Geography  Gender  Age  Tenure    Balance  NumOfProducts  \\\n",
       "0          619    France  Female   42     2.0       0.00              1   \n",
       "1          608     Spain  Female   41     1.0   83807.86              1   \n",
       "2          502    France  Female   42     8.0  159660.80              3   \n",
       "3          699    France  Female   39     1.0       0.00              2   \n",
       "4          850     Spain  Female   43     2.0  125510.82              1   \n",
       "\n",
       "   HasCrCard  IsActiveMember  EstimatedSalary  Exited  \n",
       "0          1               1        101348.88       1  \n",
       "1          0               1        112542.58       0  \n",
       "2          1               0        113931.57       1  \n",
       "3          0               0         93826.63       0  \n",
       "4          1               1         79084.10       0  "
      ]
     },
     "execution_count": 4,
     "metadata": {},
     "output_type": "execute_result"
    }
   ],
   "source": [
    "data = data.drop(columns = ['CustomerId', 'RowNumber', 'Surname'], axis=1)\n",
    "data.head()"
   ]
  },
  {
   "cell_type": "markdown",
   "metadata": {},
   "source": [
    "Исправим названия колонок и приведём к нижнему регистру."
   ]
  },
  {
   "cell_type": "code",
   "execution_count": 5,
   "metadata": {
    "scrolled": true
   },
   "outputs": [
    {
     "data": {
      "text/html": [
       "<div>\n",
       "<style scoped>\n",
       "    .dataframe tbody tr th:only-of-type {\n",
       "        vertical-align: middle;\n",
       "    }\n",
       "\n",
       "    .dataframe tbody tr th {\n",
       "        vertical-align: top;\n",
       "    }\n",
       "\n",
       "    .dataframe thead th {\n",
       "        text-align: right;\n",
       "    }\n",
       "</style>\n",
       "<table border=\"1\" class=\"dataframe\">\n",
       "  <thead>\n",
       "    <tr style=\"text-align: right;\">\n",
       "      <th></th>\n",
       "      <th>credit_score</th>\n",
       "      <th>geography</th>\n",
       "      <th>gender</th>\n",
       "      <th>age</th>\n",
       "      <th>tenure</th>\n",
       "      <th>balance</th>\n",
       "      <th>num_of_products</th>\n",
       "      <th>has_cr_card</th>\n",
       "      <th>is_active_member</th>\n",
       "      <th>estimated_salary</th>\n",
       "      <th>exited</th>\n",
       "    </tr>\n",
       "  </thead>\n",
       "  <tbody>\n",
       "    <tr>\n",
       "      <th>0</th>\n",
       "      <td>619</td>\n",
       "      <td>France</td>\n",
       "      <td>Female</td>\n",
       "      <td>42</td>\n",
       "      <td>2.0</td>\n",
       "      <td>0.00</td>\n",
       "      <td>1</td>\n",
       "      <td>1</td>\n",
       "      <td>1</td>\n",
       "      <td>101348.88</td>\n",
       "      <td>1</td>\n",
       "    </tr>\n",
       "    <tr>\n",
       "      <th>1</th>\n",
       "      <td>608</td>\n",
       "      <td>Spain</td>\n",
       "      <td>Female</td>\n",
       "      <td>41</td>\n",
       "      <td>1.0</td>\n",
       "      <td>83807.86</td>\n",
       "      <td>1</td>\n",
       "      <td>0</td>\n",
       "      <td>1</td>\n",
       "      <td>112542.58</td>\n",
       "      <td>0</td>\n",
       "    </tr>\n",
       "    <tr>\n",
       "      <th>2</th>\n",
       "      <td>502</td>\n",
       "      <td>France</td>\n",
       "      <td>Female</td>\n",
       "      <td>42</td>\n",
       "      <td>8.0</td>\n",
       "      <td>159660.80</td>\n",
       "      <td>3</td>\n",
       "      <td>1</td>\n",
       "      <td>0</td>\n",
       "      <td>113931.57</td>\n",
       "      <td>1</td>\n",
       "    </tr>\n",
       "    <tr>\n",
       "      <th>3</th>\n",
       "      <td>699</td>\n",
       "      <td>France</td>\n",
       "      <td>Female</td>\n",
       "      <td>39</td>\n",
       "      <td>1.0</td>\n",
       "      <td>0.00</td>\n",
       "      <td>2</td>\n",
       "      <td>0</td>\n",
       "      <td>0</td>\n",
       "      <td>93826.63</td>\n",
       "      <td>0</td>\n",
       "    </tr>\n",
       "    <tr>\n",
       "      <th>4</th>\n",
       "      <td>850</td>\n",
       "      <td>Spain</td>\n",
       "      <td>Female</td>\n",
       "      <td>43</td>\n",
       "      <td>2.0</td>\n",
       "      <td>125510.82</td>\n",
       "      <td>1</td>\n",
       "      <td>1</td>\n",
       "      <td>1</td>\n",
       "      <td>79084.10</td>\n",
       "      <td>0</td>\n",
       "    </tr>\n",
       "  </tbody>\n",
       "</table>\n",
       "</div>"
      ],
      "text/plain": [
       "   credit_score geography  gender  age  tenure    balance  num_of_products  \\\n",
       "0           619    France  Female   42     2.0       0.00                1   \n",
       "1           608     Spain  Female   41     1.0   83807.86                1   \n",
       "2           502    France  Female   42     8.0  159660.80                3   \n",
       "3           699    France  Female   39     1.0       0.00                2   \n",
       "4           850     Spain  Female   43     2.0  125510.82                1   \n",
       "\n",
       "   has_cr_card  is_active_member  estimated_salary  exited  \n",
       "0            1                 1         101348.88       1  \n",
       "1            0                 1         112542.58       0  \n",
       "2            1                 0         113931.57       1  \n",
       "3            0                 0          93826.63       0  \n",
       "4            1                 1          79084.10       0  "
      ]
     },
     "execution_count": 5,
     "metadata": {},
     "output_type": "execute_result"
    }
   ],
   "source": [
    "data.columns = map(str.lower, data.columns)\n",
    "data = data.rename(columns = \n",
    "                   {'creditscore':'credit_score', 'numofproducts':'num_of_products', 'hascrcard':'has_cr_card', 'isactivemember':'is_active_member', 'estimatedsalary':'estimated_salary'})\n",
    "data.head()"
   ]
  },
  {
   "cell_type": "code",
   "execution_count": 6,
   "metadata": {
    "scrolled": true
   },
   "outputs": [
    {
     "name": "stdout",
     "output_type": "stream",
     "text": [
      "credit_score\n",
      "850    233\n",
      "678     63\n",
      "655     54\n",
      "667     53\n",
      "705     53\n",
      "      ... \n",
      "412      1\n",
      "351      1\n",
      "365      1\n",
      "373      1\n",
      "423      1\n",
      "Name: credit_score, Length: 460, dtype: int64\n",
      "\n",
      "geography\n",
      "France     5014\n",
      "Germany    2509\n",
      "Spain      2477\n",
      "Name: geography, dtype: int64\n",
      "\n",
      "gender\n",
      "Male      5457\n",
      "Female    4543\n",
      "Name: gender, dtype: int64\n",
      "\n",
      "age\n",
      "37    478\n",
      "38    477\n",
      "35    474\n",
      "36    456\n",
      "34    447\n",
      "     ... \n",
      "92      2\n",
      "88      1\n",
      "82      1\n",
      "85      1\n",
      "83      1\n",
      "Name: age, Length: 70, dtype: int64\n",
      "\n",
      "tenure\n",
      "1.0     952\n",
      "2.0     950\n",
      "8.0     933\n",
      "3.0     928\n",
      "5.0     927\n",
      "7.0     925\n",
      "4.0     885\n",
      "9.0     882\n",
      "6.0     881\n",
      "10.0    446\n",
      "0.0     382\n",
      "Name: tenure, dtype: int64\n",
      "\n",
      "balance\n",
      "0.00         3617\n",
      "105473.74       2\n",
      "130170.82       2\n",
      "72594.00        1\n",
      "139723.90       1\n",
      "             ... \n",
      "130306.49       1\n",
      "92895.56        1\n",
      "132005.77       1\n",
      "166287.85       1\n",
      "104001.38       1\n",
      "Name: balance, Length: 6382, dtype: int64\n",
      "\n",
      "num_of_products\n",
      "1    5084\n",
      "2    4590\n",
      "3     266\n",
      "4      60\n",
      "Name: num_of_products, dtype: int64\n",
      "\n",
      "has_cr_card\n",
      "1    7055\n",
      "0    2945\n",
      "Name: has_cr_card, dtype: int64\n",
      "\n",
      "is_active_member\n",
      "1    5151\n",
      "0    4849\n",
      "Name: is_active_member, dtype: int64\n",
      "\n",
      "estimated_salary\n",
      "24924.92     2\n",
      "109145.20    1\n",
      "59755.14     1\n",
      "1557.82      1\n",
      "117202.19    1\n",
      "            ..\n",
      "37674.47     1\n",
      "158043.11    1\n",
      "103792.53    1\n",
      "182266.01    1\n",
      "155061.97    1\n",
      "Name: estimated_salary, Length: 9999, dtype: int64\n",
      "\n",
      "exited\n",
      "0    7963\n",
      "1    2037\n",
      "Name: exited, dtype: int64\n",
      "\n"
     ]
    }
   ],
   "source": [
    "for column in data.columns: # цикл для определения значений всего датасета\n",
    "    print(column)\n",
    "    print(data[column].value_counts()) \n",
    "    print()"
   ]
  },
  {
   "cell_type": "code",
   "execution_count": 7,
   "metadata": {},
   "outputs": [
    {
     "data": {
      "text/plain": [
       "Text(0, 0.5, 'Количество человек')"
      ]
     },
     "execution_count": 7,
     "metadata": {},
     "output_type": "execute_result"
    },
    {
     "data": {
      "image/png": "[encoded data removed]",
      "text/plain": [
       "<Figure size 432x288 with 1 Axes>"
      ]
     },
     "metadata": {
      "needs_background": "light"
     },
     "output_type": "display_data"
    }
   ],
   "source": [
    "data['tenure'].hist(bins=11)\n",
    "plt.title('Сколько лет человек является клиентом банка')\n",
    "plt.xlabel('Количество лет')\n",
    "plt.ylabel('Количество человек')"
   ]
  },
  {
   "cell_type": "markdown",
   "metadata": {},
   "source": [
    "Заменим пропуски в столбце \"tenure\" с информацией о количестве лет, на протяжение которых человек является клиентом банка средним значением по категориям: кредитный рейтинг, количество продуктов банка, пол и страна. Оставшиеся пропуски заменим средним. И заменим тип данных на цельночисленный."
   ]
  },
  {
   "cell_type": "code",
   "execution_count": 8,
   "metadata": {
    "scrolled": false
   },
   "outputs": [
    {
     "name": "stdout",
     "output_type": "stream",
     "text": [
      "<class 'pandas.core.frame.DataFrame'>\n",
      "RangeIndex: 10000 entries, 0 to 9999\n",
      "Data columns (total 11 columns):\n",
      " #   Column            Non-Null Count  Dtype  \n",
      "---  ------            --------------  -----  \n",
      " 0   credit_score      10000 non-null  int64  \n",
      " 1   geography         10000 non-null  object \n",
      " 2   gender            10000 non-null  object \n",
      " 3   age               10000 non-null  int64  \n",
      " 4   tenure            10000 non-null  int64  \n",
      " 5   balance           10000 non-null  float64\n",
      " 6   num_of_products   10000 non-null  int64  \n",
      " 7   has_cr_card       10000 non-null  int64  \n",
      " 8   is_active_member  10000 non-null  int64  \n",
      " 9   estimated_salary  10000 non-null  float64\n",
      " 10  exited            10000 non-null  int64  \n",
      "dtypes: float64(2), int64(7), object(2)\n",
      "memory usage: 859.5+ KB\n"
     ]
    }
   ],
   "source": [
    "data['tenure'] = data['tenure'].fillna(data.groupby(['credit_score', 'num_of_products', 'geography', 'gender'])['tenure'].transform('mean'))\n",
    "data['tenure'] = data['tenure'].fillna(data['tenure'].mean())\n",
    "data = data.astype({'tenure':'int'})\n",
    "data.info()"
   ]
  },
  {
   "cell_type": "markdown",
   "metadata": {},
   "source": [
    "Преобразовать категориальные признаки Geography, Gender в численные поможет техника прямого кодирования, или отображения (OHE)."
   ]
  },
  {
   "cell_type": "code",
   "execution_count": 9,
   "metadata": {},
   "outputs": [
    {
     "data": {
      "text/html": [
       "<div>\n",
       "<style scoped>\n",
       "    .dataframe tbody tr th:only-of-type {\n",
       "        vertical-align: middle;\n",
       "    }\n",
       "\n",
       "    .dataframe tbody tr th {\n",
       "        vertical-align: top;\n",
       "    }\n",
       "\n",
       "    .dataframe thead th {\n",
       "        text-align: right;\n",
       "    }\n",
       "</style>\n",
       "<table border=\"1\" class=\"dataframe\">\n",
       "  <thead>\n",
       "    <tr style=\"text-align: right;\">\n",
       "      <th></th>\n",
       "      <th>credit_score</th>\n",
       "      <th>age</th>\n",
       "      <th>tenure</th>\n",
       "      <th>balance</th>\n",
       "      <th>num_of_products</th>\n",
       "      <th>has_cr_card</th>\n",
       "      <th>is_active_member</th>\n",
       "      <th>estimated_salary</th>\n",
       "      <th>exited</th>\n",
       "      <th>geography_Germany</th>\n",
       "      <th>geography_Spain</th>\n",
       "      <th>gender_Male</th>\n",
       "    </tr>\n",
       "  </thead>\n",
       "  <tbody>\n",
       "    <tr>\n",
       "      <th>0</th>\n",
       "      <td>619</td>\n",
       "      <td>42</td>\n",
       "      <td>2</td>\n",
       "      <td>0.00</td>\n",
       "      <td>1</td>\n",
       "      <td>1</td>\n",
       "      <td>1</td>\n",
       "      <td>101348.88</td>\n",
       "      <td>1</td>\n",
       "      <td>0</td>\n",
       "      <td>0</td>\n",
       "      <td>0</td>\n",
       "    </tr>\n",
       "    <tr>\n",
       "      <th>1</th>\n",
       "      <td>608</td>\n",
       "      <td>41</td>\n",
       "      <td>1</td>\n",
       "      <td>83807.86</td>\n",
       "      <td>1</td>\n",
       "      <td>0</td>\n",
       "      <td>1</td>\n",
       "      <td>112542.58</td>\n",
       "      <td>0</td>\n",
       "      <td>0</td>\n",
       "      <td>1</td>\n",
       "      <td>0</td>\n",
       "    </tr>\n",
       "    <tr>\n",
       "      <th>2</th>\n",
       "      <td>502</td>\n",
       "      <td>42</td>\n",
       "      <td>8</td>\n",
       "      <td>159660.80</td>\n",
       "      <td>3</td>\n",
       "      <td>1</td>\n",
       "      <td>0</td>\n",
       "      <td>113931.57</td>\n",
       "      <td>1</td>\n",
       "      <td>0</td>\n",
       "      <td>0</td>\n",
       "      <td>0</td>\n",
       "    </tr>\n",
       "    <tr>\n",
       "      <th>3</th>\n",
       "      <td>699</td>\n",
       "      <td>39</td>\n",
       "      <td>1</td>\n",
       "      <td>0.00</td>\n",
       "      <td>2</td>\n",
       "      <td>0</td>\n",
       "      <td>0</td>\n",
       "      <td>93826.63</td>\n",
       "      <td>0</td>\n",
       "      <td>0</td>\n",
       "      <td>0</td>\n",
       "      <td>0</td>\n",
       "    </tr>\n",
       "    <tr>\n",
       "      <th>4</th>\n",
       "      <td>850</td>\n",
       "      <td>43</td>\n",
       "      <td>2</td>\n",
       "      <td>125510.82</td>\n",
       "      <td>1</td>\n",
       "      <td>1</td>\n",
       "      <td>1</td>\n",
       "      <td>79084.10</td>\n",
       "      <td>0</td>\n",
       "      <td>0</td>\n",
       "      <td>1</td>\n",
       "      <td>0</td>\n",
       "    </tr>\n",
       "  </tbody>\n",
       "</table>\n",
       "</div>"
      ],
      "text/plain": [
       "   credit_score  age  tenure    balance  num_of_products  has_cr_card  \\\n",
       "0           619   42       2       0.00                1            1   \n",
       "1           608   41       1   83807.86                1            0   \n",
       "2           502   42       8  159660.80                3            1   \n",
       "3           699   39       1       0.00                2            0   \n",
       "4           850   43       2  125510.82                1            1   \n",
       "\n",
       "   is_active_member  estimated_salary  exited  geography_Germany  \\\n",
       "0                 1         101348.88       1                  0   \n",
       "1                 1         112542.58       0                  0   \n",
       "2                 0         113931.57       1                  0   \n",
       "3                 0          93826.63       0                  0   \n",
       "4                 1          79084.10       0                  0   \n",
       "\n",
       "   geography_Spain  gender_Male  \n",
       "0                0            0  \n",
       "1                1            0  \n",
       "2                0            0  \n",
       "3                0            0  \n",
       "4                1            0  "
      ]
     },
     "execution_count": 9,
     "metadata": {},
     "output_type": "execute_result"
    }
   ],
   "source": [
    "data_ohe = pd.get_dummies(data, drop_first=True)\n",
    "data_ohe.head()"
   ]
  },
  {
   "cell_type": "markdown",
   "metadata": {},
   "source": [
    "### Вывод"
   ]
  },
  {
   "cell_type": "markdown",
   "metadata": {},
   "source": [
    "Нами изучен датасет, состоящий из 10 000 строк и 14 колонок с информацией о клиентах банка. Мы изменили названия колонок в дтафрейме, заполнили пропуски в периоде, в течение которогоо клиент является клиентом банка, избавились от ненужной информации(столбцы с фамилией клиентов и индексом строки). Заменили тип данных и преобразовали категориальные признаки в численные. Так же отметили, что большая часть клиентов - мужчины, >50% клиентов банка из Франции, 3617 клиентов имеют на болансе 0.\n"
   ]
  },
  {
   "cell_type": "markdown",
   "metadata": {},
   "source": [
    "## Исследование задачи"
   ]
  },
  {
   "cell_type": "markdown",
   "metadata": {},
   "source": [
    "Разделим датасет на целевой и остальные признаки, а выборки - на обучающую и валидационную."
   ]
  },
  {
   "cell_type": "code",
   "execution_count": 10,
   "metadata": {},
   "outputs": [
    {
     "name": "stdout",
     "output_type": "stream",
     "text": [
      "(7500, 11)\n",
      "(2500, 11)\n"
     ]
    }
   ],
   "source": [
    "features = data_ohe.drop('exited', axis=1)\n",
    "target = data_ohe['exited']\n",
    "\n",
    "features_train, features_valid, target_train, target_valid = train_test_split(\n",
    "    features, target , test_size=0.25, random_state=12345)\n",
    "\n",
    "#стандартизируем числовые данные, используя StandardScaler\n",
    "scaler = StandardScaler()\n",
    "features_train = scaler.fit_transform(features_train)\n",
    "features_valid = scaler.transform(features_valid)\n",
    "\n",
    "print(features_train.shape)\n",
    "print(features_valid.shape)\n"
   ]
  },
  {
   "cell_type": "code",
   "execution_count": 11,
   "metadata": {},
   "outputs": [
    {
     "data": {
      "text/plain": [
       "((7963, 11), (2037, 11))"
      ]
     },
     "execution_count": 11,
     "metadata": {},
     "output_type": "execute_result"
    }
   ],
   "source": [
    "features[target == 0].shape, features[target == 1].shape "
   ]
  },
  {
   "cell_type": "markdown",
   "metadata": {},
   "source": [
    "Соотношение отрицательного и положительного класса примерно 4:1. Так как на данном этапе мы работаем без учёта дисбаланса классов, то и хороших результатов не ожидаем."
   ]
  },
  {
   "cell_type": "markdown",
   "metadata": {},
   "source": [
    "### Дерево решений"
   ]
  },
  {
   "cell_type": "code",
   "execution_count": 12,
   "metadata": {
    "scrolled": false
   },
   "outputs": [
    {
     "name": "stdout",
     "output_type": "stream",
     "text": [
      "max_depth: 1 F1: 0.0\n",
      "max_depth: 2 F1: 0.5287846481876333\n",
      "max_depth: 3 F1: 0.45152722443559096\n",
      "max_depth: 4 F1: 0.4850843060959793\n",
      "max_depth: 5 F1: 0.5697940503432494\n",
      "max_depth: 6 F1: 0.546134663341646\n",
      "max_depth: 7 F1: 0.5472154963680387\n",
      "max_depth: 8 F1: 0.5301204819277108\n",
      "max_depth: 9 F1: 0.5487944890929967\n",
      "max_depth: 10 F1: 0.5505376344086022\n",
      "max_depth: 11 F1: 0.5523012552301254\n",
      "max_depth: 12 F1: 0.5222797927461139\n",
      "max_depth: 13 F1: 0.5287588294651867\n",
      "max_depth: 14 F1: 0.5074925074925075\n",
      "max_depth: 15 F1: 0.5212240868706811\n",
      "max_depth: 16 F1: 0.5019157088122606\n",
      "max_depth: 17 F1: 0.49763481551561023\n",
      "max_depth: 18 F1: 0.4919886899151744\n",
      "max_depth: 19 F1: 0.4940092165898617\n",
      "max_depth: 20 F1: 0.4958061509785648\n",
      "CPU times: user 498 ms, sys: 4.85 ms, total: 503 ms\n",
      "Wall time: 530 ms\n"
     ]
    }
   ],
   "source": [
    "%%time\n",
    "for depth in range(1,21):\n",
    "    model_tree = DecisionTreeClassifier(max_depth=depth, random_state=12345)\n",
    "    model_tree.fit(features_train, target_train)\n",
    "    predictions = model_tree.predict(features_valid)\n",
    "    print('max_depth:', depth,'F1:', f1_score(target_valid, predictions))"
   ]
  },
  {
   "cell_type": "markdown",
   "metadata": {},
   "source": [
    "Лучшее значение max_depth=5, при котором F1=0,569."
   ]
  },
  {
   "cell_type": "markdown",
   "metadata": {},
   "source": [
    "### Случайный лес"
   ]
  },
  {
   "cell_type": "code",
   "execution_count": 13,
   "metadata": {},
   "outputs": [
    {
     "name": "stdout",
     "output_type": "stream",
     "text": [
      "max_depth: 1 F1: 0.0\n",
      "max_depth: 2 F1: 0.17035775127768313\n",
      "max_depth: 3 F1: 0.22512234910277323\n",
      "max_depth: 4 F1: 0.32683658170914537\n",
      "max_depth: 5 F1: 0.39544807965860596\n",
      "max_depth: 6 F1: 0.5026315789473684\n",
      "max_depth: 7 F1: 0.528735632183908\n",
      "max_depth: 8 F1: 0.5459119496855345\n",
      "max_depth: 9 F1: 0.5576208178438662\n",
      "max_depth: 10 F1: 0.5717761557177615\n",
      "max_depth: 11 F1: 0.5731559854897219\n",
      "max_depth: 12 F1: 0.5693606755126659\n",
      "max_depth: 13 F1: 0.5700598802395209\n",
      "max_depth: 14 F1: 0.5748218527315914\n",
      "max_depth: 15 F1: 0.5737898465171193\n",
      "max_depth: 16 F1: 0.5734597156398105\n",
      "max_depth: 17 F1: 0.5700824499411071\n",
      "max_depth: 18 F1: 0.5747663551401868\n",
      "max_depth: 19 F1: 0.5602836879432623\n",
      "CPU times: user 5.52 s, sys: 26.4 ms, total: 5.55 s\n",
      "Wall time: 6.39 s\n"
     ]
    }
   ],
   "source": [
    "%%time\n",
    "for max_depth in range(1,20):\n",
    "    model_forest = RandomForestClassifier(max_depth=max_depth, n_estimators=50, random_state=1234)\n",
    "    model_forest.fit(features_train, target_train)\n",
    "    predictions = model_forest.predict(features_valid)\n",
    "    print('max_depth:', max_depth,'F1:', f1_score(target_valid, predictions))"
   ]
  },
  {
   "cell_type": "markdown",
   "metadata": {},
   "source": [
    "Лучшее значение max_depth=14, при котором F1=0,574.  \n",
    "\n",
    "Теперь подберём гиперпараметр с количеством деревьев при глубине 14."
   ]
  },
  {
   "cell_type": "code",
   "execution_count": 14,
   "metadata": {
    "scrolled": true
   },
   "outputs": [
    {
     "name": "stdout",
     "output_type": "stream",
     "text": [
      "estim 1 F1: 0.49543147208121824\n",
      "estim 6 F1: 0.5367561260210035\n",
      "estim 11 F1: 0.5697674418604651\n",
      "estim 16 F1: 0.5547785547785546\n",
      "estim 21 F1: 0.5774647887323944\n",
      "estim 26 F1: 0.5775147928994082\n",
      "estim 31 F1: 0.5778301886792453\n",
      "estim 36 F1: 0.5751173708920188\n",
      "estim 41 F1: 0.5775147928994082\n",
      "estim 46 F1: 0.5758293838862559\n",
      "estim 51 F1: 0.5738095238095238\n",
      "estim 56 F1: 0.5795724465558194\n",
      "estim 61 F1: 0.5697258641239571\n",
      "estim 66 F1: 0.562874251497006\n",
      "estim 71 F1: 0.559423769507803\n",
      "estim 76 F1: 0.5615292712066906\n",
      "estim 81 F1: 0.5622775800711743\n",
      "estim 86 F1: 0.5619047619047619\n",
      "estim 91 F1: 0.5608591885441528\n",
      "estim 96 F1: 0.563614744351962\n",
      "CPU times: user 7.39 s, sys: 31.1 ms, total: 7.42 s\n",
      "Wall time: 7.46 s\n"
     ]
    }
   ],
   "source": [
    "%%time\n",
    "for estim in range(1,100,5):\n",
    "    model_forest = RandomForestClassifier(max_depth=14, n_estimators=estim, random_state=1234)\n",
    "    model_forest.fit(features_train, target_train)\n",
    "    predictions = model_forest.predict(features_valid)\n",
    "    print('estim',estim,'F1:',f1_score(target_valid, predictions))"
   ]
  },
  {
   "cell_type": "markdown",
   "metadata": {},
   "source": [
    "Лучшее значение max_depth = 14 и n_estimators = 56, при котором F1=0,579."
   ]
  },
  {
   "cell_type": "markdown",
   "metadata": {},
   "source": [
    "### Логистическая регрессия"
   ]
  },
  {
   "cell_type": "code",
   "execution_count": 15,
   "metadata": {
    "scrolled": true
   },
   "outputs": [
    {
     "name": "stdout",
     "output_type": "stream",
     "text": [
      "F1: 0.2944444444444444\n"
     ]
    }
   ],
   "source": [
    "model_logistic = LogisticRegression().fit(features_train, target_train)\n",
    "predictions = model_logistic.predict(features_valid)\n",
    "print('F1:', f1_score(target_valid, predictions))"
   ]
  },
  {
   "cell_type": "markdown",
   "metadata": {},
   "source": [
    "### Вывод"
   ]
  },
  {
   "cell_type": "markdown",
   "metadata": {},
   "source": [
    "Из трёх расмотренных моделей лучшее значение у случайного леса с параметрами max_depth = 14 и n_estimators = 56, при котором F1=0,579."
   ]
  },
  {
   "cell_type": "markdown",
   "metadata": {},
   "source": [
    "## Борьба с дисбалансом"
   ]
  },
  {
   "cell_type": "markdown",
   "metadata": {},
   "source": [
    "Воспользуемся функцией Upsampling и увеличим количество клиентов оттока(target==1), чтобы сделать объекты редкого класса не такими редкими."
   ]
  },
  {
   "cell_type": "code",
   "execution_count": 16,
   "metadata": {},
   "outputs": [
    {
     "name": "stdout",
     "output_type": "stream",
     "text": [
      "F1: 0.42938347179711406\n"
     ]
    },
    {
     "name": "stderr",
     "output_type": "stream",
     "text": [
      "/opt/conda/lib/python3.9/site-packages/sklearn/utils/validation.py:63: DataConversionWarning: A column-vector y was passed when a 1d array was expected. Please change the shape of y to (n_samples, ), for example using ravel().\n",
      "  return f(*args, **kwargs)\n"
     ]
    }
   ],
   "source": [
    "def upsample(features, target, repeat):\n",
    "    features_zeros = pd.DataFrame(features[target == 0])\n",
    "    features_ones = pd.DataFrame(features[target == 1])\n",
    "    target_zeros = pd.DataFrame(target[target == 0])\n",
    "    target_ones = pd.DataFrame(target[target == 1])\n",
    "\n",
    "    features_upsampled = pd.concat([features_zeros] + [features_ones] * repeat)\n",
    "    target_upsampled = pd.concat([target_zeros] + [target_ones] * repeat)\n",
    "    \n",
    "    features_upsampled, target_upsampled = shuffle(\n",
    "        features_upsampled, target_upsampled, random_state=12345)\n",
    "    \n",
    "    return features_upsampled, target_upsampled\n",
    "\n",
    "features_upsampled, target_upsampled = upsample(features_train, target_train, 10)\n",
    "\n",
    "model = LogisticRegression(solver='liblinear', random_state=12345)\n",
    "model.fit(features_upsampled, target_upsampled)\n",
    "predicted_valid = model.predict(features_valid)\n",
    "\n",
    "print(\"F1:\", f1_score(target_valid, predicted_valid))"
   ]
  },
  {
   "cell_type": "markdown",
   "metadata": {},
   "source": [
    "И функцией Downsample, чтобы объекты частого класса сделать не такими частыми."
   ]
  },
  {
   "cell_type": "code",
   "execution_count": 17,
   "metadata": {
    "scrolled": true
   },
   "outputs": [
    {
     "name": "stderr",
     "output_type": "stream",
     "text": [
      "/opt/conda/lib/python3.9/site-packages/sklearn/utils/validation.py:63: DataConversionWarning: A column-vector y was passed when a 1d array was expected. Please change the shape of y to (n_samples, ), for example using ravel().\n",
      "  return f(*args, **kwargs)\n"
     ]
    },
    {
     "name": "stdout",
     "output_type": "stream",
     "text": [
      "F1: 0.4308510638297872\n"
     ]
    }
   ],
   "source": [
    "def downsample(features, target, fraction):\n",
    "    features_zeros = pd.DataFrame(features[target == 0])\n",
    "    features_ones = pd.DataFrame(features[target == 1])\n",
    "    target_zeros = pd.DataFrame(target[target == 0])\n",
    "    target_ones = pd.DataFrame(target[target == 1])\n",
    "\n",
    "    features_downsampled = pd.concat(\n",
    "        [features_zeros.sample(frac=fraction, random_state=12345)] + [features_ones])\n",
    "    target_downsampled = pd.concat(\n",
    "        [target_zeros.sample(frac=fraction, random_state=12345)] + [target_ones])\n",
    "    \n",
    "    features_downsampled, target_downsampled = shuffle(\n",
    "        features_downsampled, target_downsampled, random_state=12345)\n",
    "    \n",
    "    return features_downsampled, target_downsampled\n",
    "\n",
    "features_downsampled, target_downsampled = downsample(features_train, target_train, 0.1)\n",
    "\n",
    "model = LogisticRegression(random_state=12345, solver='liblinear')\n",
    "model.fit(features_downsampled, target_downsampled)\n",
    "predicted_valid = model.predict(features_valid)\n",
    "\n",
    "print(\"F1:\", f1_score(target_valid, predicted_valid))"
   ]
  },
  {
   "cell_type": "markdown",
   "metadata": {},
   "source": [
    "При борьбе с дисбалансом функция Upsampling дала результат F1 = 0.429, Downsample - F1 = 0.430"
   ]
  },
  {
   "cell_type": "markdown",
   "metadata": {},
   "source": [
    "## Тестирование модели"
   ]
  },
  {
   "cell_type": "markdown",
   "metadata": {},
   "source": [
    "### Дерево решений после балансироки данных"
   ]
  },
  {
   "cell_type": "code",
   "execution_count": 18,
   "metadata": {
    "scrolled": true
   },
   "outputs": [
    {
     "name": "stdout",
     "output_type": "stream",
     "text": [
      "max_depth: 1 F1: 0.5070202808112324\n",
      "max_depth: 2 F1: 0.5391566265060241\n",
      "max_depth: 3 F1: 0.5391566265060241\n",
      "max_depth: 4 F1: 0.5440414507772021\n",
      "max_depth: 5 F1: 0.6016129032258064\n",
      "max_depth: 6 F1: 0.5883201153568853\n",
      "max_depth: 7 F1: 0.5782122905027933\n",
      "max_depth: 8 F1: 0.5762962962962963\n",
      "max_depth: 9 F1: 0.5753424657534246\n",
      "max_depth: 10 F1: 0.549079754601227\n",
      "max_depth: 11 F1: 0.5434782608695652\n",
      "max_depth: 12 F1: 0.5352564102564102\n",
      "max_depth: 13 F1: 0.5132450331125827\n",
      "max_depth: 14 F1: 0.49786871270247224\n",
      "max_depth: 15 F1: 0.5048715677590788\n",
      "max_depth: 16 F1: 0.5081374321880651\n",
      "max_depth: 17 F1: 0.5060018467220684\n",
      "max_depth: 18 F1: 0.5116713352007469\n",
      "max_depth: 19 F1: 0.5028462998102466\n",
      "CPU times: user 973 ms, sys: 69.5 ms, total: 1.04 s\n",
      "Wall time: 1.11 s\n"
     ]
    }
   ],
   "source": [
    "%%time\n",
    "for depth in range(1,20,1):\n",
    "    model_tree = DecisionTreeClassifier(class_weight='balanced', max_depth=depth, random_state=1234).fit(features_upsampled, target_upsampled)\n",
    "  \n",
    "    predictions = model_tree.predict(features_valid)\n",
    "    print('max_depth:', depth, 'F1:', f1_score(target_valid, predictions))"
   ]
  },
  {
   "cell_type": "markdown",
   "metadata": {},
   "source": [
    "Лучшее значение max_depth=5, при котором F1=0,601. До борьбы с дисбалансом F1=0,569."
   ]
  },
  {
   "cell_type": "markdown",
   "metadata": {},
   "source": [
    "###  Случайный лес после балансироки данных"
   ]
  },
  {
   "cell_type": "code",
   "execution_count": 19,
   "metadata": {
    "scrolled": true
   },
   "outputs": [
    {
     "name": "stdout",
     "output_type": "stream",
     "text": [
      "max_depth: 1 F1: 0.5466847090663058\n",
      "max_depth: 2 F1: 0.5718290119131044\n"
     ]
    },
    {
     "name": "stderr",
     "output_type": "stream",
     "text": [
      "<timed exec>:2: DataConversionWarning: A column-vector y was passed when a 1d array was expected. Please change the shape of y to (n_samples,), for example using ravel().\n",
      "<timed exec>:2: DataConversionWarning: A column-vector y was passed when a 1d array was expected. Please change the shape of y to (n_samples,), for example using ravel().\n",
      "<timed exec>:2: DataConversionWarning: A column-vector y was passed when a 1d array was expected. Please change the shape of y to (n_samples,), for example using ravel().\n"
     ]
    },
    {
     "name": "stdout",
     "output_type": "stream",
     "text": [
      "max_depth: 3 F1: 0.5886475122634899\n",
      "max_depth: 4 F1: 0.594785059901339\n"
     ]
    },
    {
     "name": "stderr",
     "output_type": "stream",
     "text": [
      "<timed exec>:2: DataConversionWarning: A column-vector y was passed when a 1d array was expected. Please change the shape of y to (n_samples,), for example using ravel().\n",
      "<timed exec>:2: DataConversionWarning: A column-vector y was passed when a 1d array was expected. Please change the shape of y to (n_samples,), for example using ravel().\n"
     ]
    },
    {
     "name": "stdout",
     "output_type": "stream",
     "text": [
      "max_depth: 5 F1: 0.5995777621393386\n",
      "max_depth: 6 F1: 0.5981956974323387\n"
     ]
    },
    {
     "name": "stderr",
     "output_type": "stream",
     "text": [
      "<timed exec>:2: DataConversionWarning: A column-vector y was passed when a 1d array was expected. Please change the shape of y to (n_samples,), for example using ravel().\n",
      "<timed exec>:2: DataConversionWarning: A column-vector y was passed when a 1d array was expected. Please change the shape of y to (n_samples,), for example using ravel().\n"
     ]
    },
    {
     "name": "stdout",
     "output_type": "stream",
     "text": [
      "max_depth: 7 F1: 0.5902964959568733\n",
      "max_depth: 8 F1: 0.5725388601036269\n"
     ]
    },
    {
     "name": "stderr",
     "output_type": "stream",
     "text": [
      "<timed exec>:2: DataConversionWarning: A column-vector y was passed when a 1d array was expected. Please change the shape of y to (n_samples,), for example using ravel().\n",
      "<timed exec>:2: DataConversionWarning: A column-vector y was passed when a 1d array was expected. Please change the shape of y to (n_samples,), for example using ravel().\n"
     ]
    },
    {
     "name": "stdout",
     "output_type": "stream",
     "text": [
      "max_depth: 9 F1: 0.5608856088560885\n",
      "max_depth: 10 F1: 0.5536992840095466\n"
     ]
    },
    {
     "name": "stderr",
     "output_type": "stream",
     "text": [
      "<timed exec>:2: DataConversionWarning: A column-vector y was passed when a 1d array was expected. Please change the shape of y to (n_samples,), for example using ravel().\n",
      "<timed exec>:2: DataConversionWarning: A column-vector y was passed when a 1d array was expected. Please change the shape of y to (n_samples,), for example using ravel().\n"
     ]
    },
    {
     "name": "stdout",
     "output_type": "stream",
     "text": [
      "max_depth: 11 F1: 0.5280269058295964\n",
      "max_depth: 12 F1: 0.5153970826580228\n"
     ]
    },
    {
     "name": "stderr",
     "output_type": "stream",
     "text": [
      "<timed exec>:2: DataConversionWarning: A column-vector y was passed when a 1d array was expected. Please change the shape of y to (n_samples,), for example using ravel().\n",
      "<timed exec>:2: DataConversionWarning: A column-vector y was passed when a 1d array was expected. Please change the shape of y to (n_samples,), for example using ravel().\n"
     ]
    },
    {
     "name": "stdout",
     "output_type": "stream",
     "text": [
      "max_depth: 13 F1: 0.5072916666666667\n",
      "max_depth: 14 F1: 0.5036420395421436\n"
     ]
    },
    {
     "name": "stderr",
     "output_type": "stream",
     "text": [
      "<timed exec>:2: DataConversionWarning: A column-vector y was passed when a 1d array was expected. Please change the shape of y to (n_samples,), for example using ravel().\n",
      "<timed exec>:2: DataConversionWarning: A column-vector y was passed when a 1d array was expected. Please change the shape of y to (n_samples,), for example using ravel().\n"
     ]
    },
    {
     "name": "stdout",
     "output_type": "stream",
     "text": [
      "max_depth: 15 F1: 0.4876822523881348\n",
      "max_depth: 16 F1: 0.4969387755102041\n"
     ]
    },
    {
     "name": "stderr",
     "output_type": "stream",
     "text": [
      "<timed exec>:2: DataConversionWarning: A column-vector y was passed when a 1d array was expected. Please change the shape of y to (n_samples,), for example using ravel().\n",
      "<timed exec>:2: DataConversionWarning: A column-vector y was passed when a 1d array was expected. Please change the shape of y to (n_samples,), for example using ravel().\n"
     ]
    },
    {
     "name": "stdout",
     "output_type": "stream",
     "text": [
      "max_depth: 17 F1: 0.494212380473075\n",
      "max_depth: 18 F1: 0.4982278481012658\n"
     ]
    },
    {
     "name": "stderr",
     "output_type": "stream",
     "text": [
      "<timed exec>:2: DataConversionWarning: A column-vector y was passed when a 1d array was expected. Please change the shape of y to (n_samples,), for example using ravel().\n",
      "<timed exec>:2: DataConversionWarning: A column-vector y was passed when a 1d array was expected. Please change the shape of y to (n_samples,), for example using ravel().\n"
     ]
    },
    {
     "name": "stdout",
     "output_type": "stream",
     "text": [
      "max_depth: 19 F1: 0.495959595959596\n",
      "CPU times: user 2.51 s, sys: 11.8 ms, total: 2.53 s\n",
      "Wall time: 2.57 s\n"
     ]
    }
   ],
   "source": [
    "%%time\n",
    "for max_depth in range(1,20):\n",
    "    model_forest = RandomForestClassifier(class_weight='balanced',max_depth=max_depth,n_estimators=50,random_state=1234).fit(features_downsampled,target_downsampled)\n",
    "    predictions = model_forest.predict(features_valid)\n",
    "    print('max_depth:', max_depth, 'F1:', f1_score(target_valid, predictions))"
   ]
  },
  {
   "cell_type": "code",
   "execution_count": 20,
   "metadata": {},
   "outputs": [
    {
     "name": "stdout",
     "output_type": "stream",
     "text": [
      "estim: 1 F1: 0.5166204986149585\n",
      "estim: 6 F1: 0.6038001407459536\n",
      "estim: 11 F1: 0.5900068446269677\n",
      "estim: 16 F1: 0.5991792065663475\n",
      "estim: 21 F1: 0.597544338335607\n"
     ]
    },
    {
     "name": "stderr",
     "output_type": "stream",
     "text": [
      "<timed exec>:2: DataConversionWarning: A column-vector y was passed when a 1d array was expected. Please change the shape of y to (n_samples,), for example using ravel().\n",
      "<timed exec>:2: DataConversionWarning: A column-vector y was passed when a 1d array was expected. Please change the shape of y to (n_samples,), for example using ravel().\n",
      "<timed exec>:2: DataConversionWarning: A column-vector y was passed when a 1d array was expected. Please change the shape of y to (n_samples,), for example using ravel().\n",
      "<timed exec>:2: DataConversionWarning: A column-vector y was passed when a 1d array was expected. Please change the shape of y to (n_samples,), for example using ravel().\n",
      "<timed exec>:2: DataConversionWarning: A column-vector y was passed when a 1d array was expected. Please change the shape of y to (n_samples,), for example using ravel().\n",
      "<timed exec>:2: DataConversionWarning: A column-vector y was passed when a 1d array was expected. Please change the shape of y to (n_samples,), for example using ravel().\n"
     ]
    },
    {
     "name": "stdout",
     "output_type": "stream",
     "text": [
      "estim: 26 F1: 0.5971755211835912\n",
      "estim: 31 F1: 0.592741935483871\n",
      "estim: 36 F1: 0.5962059620596206\n"
     ]
    },
    {
     "name": "stderr",
     "output_type": "stream",
     "text": [
      "<timed exec>:2: DataConversionWarning: A column-vector y was passed when a 1d array was expected. Please change the shape of y to (n_samples,), for example using ravel().\n",
      "<timed exec>:2: DataConversionWarning: A column-vector y was passed when a 1d array was expected. Please change the shape of y to (n_samples,), for example using ravel().\n",
      "<timed exec>:2: DataConversionWarning: A column-vector y was passed when a 1d array was expected. Please change the shape of y to (n_samples,), for example using ravel().\n"
     ]
    },
    {
     "name": "stdout",
     "output_type": "stream",
     "text": [
      "estim: 41 F1: 0.5928426738690075\n",
      "estim: 46 F1: 0.5955132562882393\n"
     ]
    },
    {
     "name": "stderr",
     "output_type": "stream",
     "text": [
      "<timed exec>:2: DataConversionWarning: A column-vector y was passed when a 1d array was expected. Please change the shape of y to (n_samples,), for example using ravel().\n",
      "<timed exec>:2: DataConversionWarning: A column-vector y was passed when a 1d array was expected. Please change the shape of y to (n_samples,), for example using ravel().\n"
     ]
    },
    {
     "name": "stdout",
     "output_type": "stream",
     "text": [
      "estim: 51 F1: 0.589430894308943\n",
      "estim: 56 F1: 0.5899864682002707\n"
     ]
    },
    {
     "name": "stderr",
     "output_type": "stream",
     "text": [
      "<timed exec>:2: DataConversionWarning: A column-vector y was passed when a 1d array was expected. Please change the shape of y to (n_samples,), for example using ravel().\n",
      "<timed exec>:2: DataConversionWarning: A column-vector y was passed when a 1d array was expected. Please change the shape of y to (n_samples,), for example using ravel().\n"
     ]
    },
    {
     "name": "stdout",
     "output_type": "stream",
     "text": [
      "estim: 61 F1: 0.5964673913043478\n",
      "estim: 66 F1: 0.5953678474114441\n"
     ]
    },
    {
     "name": "stderr",
     "output_type": "stream",
     "text": [
      "<timed exec>:2: DataConversionWarning: A column-vector y was passed when a 1d array was expected. Please change the shape of y to (n_samples,), for example using ravel().\n",
      "<timed exec>:2: DataConversionWarning: A column-vector y was passed when a 1d array was expected. Please change the shape of y to (n_samples,), for example using ravel().\n"
     ]
    },
    {
     "name": "stdout",
     "output_type": "stream",
     "text": [
      "estim: 71 F1: 0.5945578231292518\n",
      "estim: 76 F1: 0.59375\n"
     ]
    },
    {
     "name": "stderr",
     "output_type": "stream",
     "text": [
      "<timed exec>:2: DataConversionWarning: A column-vector y was passed when a 1d array was expected. Please change the shape of y to (n_samples,), for example using ravel().\n",
      "<timed exec>:2: DataConversionWarning: A column-vector y was passed when a 1d array was expected. Please change the shape of y to (n_samples,), for example using ravel().\n"
     ]
    },
    {
     "name": "stdout",
     "output_type": "stream",
     "text": [
      "estim: 81 F1: 0.5905405405405405\n"
     ]
    },
    {
     "name": "stderr",
     "output_type": "stream",
     "text": [
      "<timed exec>:2: DataConversionWarning: A column-vector y was passed when a 1d array was expected. Please change the shape of y to (n_samples,), for example using ravel().\n"
     ]
    },
    {
     "name": "stdout",
     "output_type": "stream",
     "text": [
      "estim: 86 F1: 0.591644204851752\n"
     ]
    },
    {
     "name": "stderr",
     "output_type": "stream",
     "text": [
      "<timed exec>:2: DataConversionWarning: A column-vector y was passed when a 1d array was expected. Please change the shape of y to (n_samples,), for example using ravel().\n"
     ]
    },
    {
     "name": "stdout",
     "output_type": "stream",
     "text": [
      "estim: 91 F1: 0.5952542372881356\n"
     ]
    },
    {
     "name": "stderr",
     "output_type": "stream",
     "text": [
      "<timed exec>:2: DataConversionWarning: A column-vector y was passed when a 1d array was expected. Please change the shape of y to (n_samples,), for example using ravel().\n"
     ]
    },
    {
     "name": "stdout",
     "output_type": "stream",
     "text": [
      "estim: 96 F1: 0.5944482058226134\n",
      "CPU times: user 2.5 s, sys: 4.27 ms, total: 2.5 s\n",
      "Wall time: 2.54 s\n"
     ]
    }
   ],
   "source": [
    "%%time\n",
    "for estim in range(1,100, 5):\n",
    "    model_forest = RandomForestClassifier(class_weight='balanced', max_depth=7, n_estimators=estim, random_state=1234).fit(features_downsampled, target_downsampled)\n",
    "    predictions = model_forest.predict(features_valid)\n",
    "    print('estim:', estim, 'F1:', f1_score(target_valid, predictions))"
   ]
  },
  {
   "cell_type": "markdown",
   "metadata": {},
   "source": [
    "Было: лучшее значение max_depth = 17 и n_estimators = 86, при котором F1=0,578.\n",
    "После балансировки данных: лучшее значение max_depth = 7 и n_estimators = 46, при котором F1=0,605."
   ]
  },
  {
   "cell_type": "markdown",
   "metadata": {},
   "source": [
    "###  Логистическая регрессия после балансироки данных"
   ]
  },
  {
   "cell_type": "code",
   "execution_count": 21,
   "metadata": {},
   "outputs": [
    {
     "name": "stdout",
     "output_type": "stream",
     "text": [
      "F1: 0.5093085106382979\n"
     ]
    },
    {
     "name": "stderr",
     "output_type": "stream",
     "text": [
      "/opt/conda/lib/python3.9/site-packages/sklearn/utils/validation.py:63: DataConversionWarning: A column-vector y was passed when a 1d array was expected. Please change the shape of y to (n_samples, ), for example using ravel().\n",
      "  return f(*args, **kwargs)\n"
     ]
    }
   ],
   "source": [
    "model_logistic = LogisticRegression(class_weight='balanced', solver='liblinear').fit(features_downsampled,target_downsampled)\n",
    "predictions = model_logistic.predict(features_valid)\n",
    "print('F1:', f1_score(target_valid, predictions))"
   ]
  },
  {
   "cell_type": "markdown",
   "metadata": {},
   "source": [
    "Среднее значение полноты и точности до 0.296 и после балансировки 0.509"
   ]
  },
  {
   "cell_type": "markdown",
   "metadata": {},
   "source": [
    "### Вывод\n",
    "Лучшие результаты показала модель случайного леса с параметрами max_depth = 7 и n_estimators = 46, при котором F1 = 0,605."
   ]
  },
  {
   "cell_type": "markdown",
   "metadata": {},
   "source": [
    "## Исследование метрики AUC-ROC"
   ]
  },
  {
   "cell_type": "markdown",
   "metadata": {},
   "source": [
    "Посмотрим, как сильно наши модель отличаются от случайной."
   ]
  },
  {
   "cell_type": "code",
   "execution_count": 22,
   "metadata": {},
   "outputs": [
    {
     "data": {
      "text/plain": [
       "0.6837435494994174"
      ]
     },
     "execution_count": 22,
     "metadata": {},
     "output_type": "execute_result"
    }
   ],
   "source": [
    "probabilities_tree = model_tree.predict_proba(features_valid)\n",
    "probabilities_one_valid_tree = probabilities_tree[:,1]\n",
    "fpr_tree, tpr_tree, thresholds = roc_curve(target_valid, probabilities_one_valid_tree)\n",
    "\n",
    "auc_roc_tree = roc_auc_score(target_valid, probabilities_one_valid_tree)\n",
    "auc_roc_tree"
   ]
  },
  {
   "cell_type": "code",
   "execution_count": 23,
   "metadata": {},
   "outputs": [
    {
     "data": {
      "text/plain": [
       "0.8598901334094314"
      ]
     },
     "execution_count": 23,
     "metadata": {},
     "output_type": "execute_result"
    }
   ],
   "source": [
    "probabilities_forest = model_forest.predict_proba(features_valid)\n",
    "probabilities_one_valid_forest = probabilities_forest[:,1]\n",
    "fpr_forest, tpr_forest, thresholds = roc_curve(target_valid, probabilities_one_valid_forest)\n",
    "auc_roc_forest = roc_auc_score(target_valid, probabilities_one_valid_forest)\n",
    "auc_roc_forest"
   ]
  },
  {
   "cell_type": "code",
   "execution_count": 24,
   "metadata": {},
   "outputs": [
    {
     "data": {
      "text/plain": [
       "0.7648350812109106"
      ]
     },
     "execution_count": 24,
     "metadata": {},
     "output_type": "execute_result"
    }
   ],
   "source": [
    "probabilities_reg = model_logistic.predict_proba(features_valid)\n",
    "probabilities_one_valid_reg = probabilities_reg[:,1]\n",
    "fpr_log, tpr_log, thresholds = roc_curve(target_valid, probabilities_one_valid_reg)\n",
    "auc_roc_reg = roc_auc_score(target_valid, probabilities_one_valid_reg)\n",
    "auc_roc_reg"
   ]
  },
  {
   "cell_type": "code",
   "execution_count": 25,
   "metadata": {
    "scrolled": true
   },
   "outputs": [
    {
     "data": {
      "text/plain": [
       "<Figure size 432x288 with 0 Axes>"
      ]
     },
     "metadata": {},
     "output_type": "display_data"
    },
    {
     "data": {
      "image/png": "[encoded data removed]",
      "text/plain": [
       "<Figure size 720x504 with 1 Axes>"
      ]
     },
     "metadata": {
      "needs_background": "light"
     },
     "output_type": "display_data"
    }
   ],
   "source": [
    "plt.figure()\n",
    "\n",
    "plt.figure(figsize=(10,7))\n",
    "plt.plot([0, 1], [0, 1], linestyle='--')\n",
    "plt.xlim([0.0, 1.0])\n",
    "plt.ylim([0.0, 1.0])\n",
    "plt.plot(fpr_log,tpr_log)\n",
    "plt.plot(fpr_tree,tpr_tree)\n",
    "plt.plot(fpr_forest,tpr_forest)\n",
    "plt.xlabel('False Positive Rate')\n",
    "plt.ylabel('True Positive Rate')\n",
    "plt.title('ROC-кривая')\n",
    "plt.legend(('Случайная модель', 'Логистическая регрессия', 'Дерево решения', 'Случайный лес'),\n",
    "           loc= 'upper left');"
   ]
  },
  {
   "cell_type": "markdown",
   "metadata": {},
   "source": [
    "## Вывод\n",
    "Рассматривая данные без и с учетом дисбаланса тремя моделями можно сделать вывод, что самая лучшая модель оказалась случайный лес. При лучшем значении max_depth=7, n_estimators=46, мы имеем F1 меру = 0,605 на валидационной выборке. Именно эта модель с большей точнойсть сможет спрогнозировать, уйдёт клиент из банка в ближайшее время или нет. Хуже всего себя показала модель Логистическая регрессия."
   ]
  }
 ],
 "metadata": {
  "ExecuteTimeLog": [
   {
    "duration": 335,
    "start_time": "2022-02-08T12:34:46.931Z"
   },
   {
    "duration": 612,
    "start_time": "2022-02-08T12:34:49.164Z"
   },
   {
    "duration": 48,
    "start_time": "2022-02-08T12:34:52.703Z"
   },
   {
    "duration": 86,
    "start_time": "2022-02-08T12:43:01.587Z"
   },
   {
    "duration": 57,
    "start_time": "2022-02-08T12:43:12.930Z"
   },
   {
    "duration": 301,
    "start_time": "2022-02-08T12:43:55.018Z"
   },
   {
    "duration": 10,
    "start_time": "2022-02-08T12:44:01.236Z"
   },
   {
    "duration": 38,
    "start_time": "2022-02-08T12:44:24.947Z"
   },
   {
    "duration": 13,
    "start_time": "2022-02-08T12:44:27.241Z"
   },
   {
    "duration": 745,
    "start_time": "2022-02-08T12:53:14.243Z"
   },
   {
    "duration": 14,
    "start_time": "2022-02-08T12:53:37.271Z"
   },
   {
    "duration": 3,
    "start_time": "2022-02-08T12:57:37.530Z"
   },
   {
    "duration": 19,
    "start_time": "2022-02-08T12:57:56.532Z"
   },
   {
    "duration": 13,
    "start_time": "2022-02-08T12:58:37.252Z"
   },
   {
    "duration": 97,
    "start_time": "2022-02-08T13:01:47.818Z"
   },
   {
    "duration": 128,
    "start_time": "2022-02-08T13:02:01.661Z"
   },
   {
    "duration": 13,
    "start_time": "2022-02-08T13:02:42.822Z"
   },
   {
    "duration": 15,
    "start_time": "2022-02-08T13:03:01.242Z"
   },
   {
    "duration": 27,
    "start_time": "2022-02-08T13:15:29.329Z"
   },
   {
    "duration": 89,
    "start_time": "2022-02-08T13:15:41.500Z"
   },
   {
    "duration": 28,
    "start_time": "2022-02-08T13:15:51.804Z"
   },
   {
    "duration": 98,
    "start_time": "2022-02-08T14:12:35.788Z"
   },
   {
    "duration": 10,
    "start_time": "2022-02-08T15:19:24.348Z"
   },
   {
    "duration": 14,
    "start_time": "2022-02-08T15:19:34.539Z"
   },
   {
    "duration": 739,
    "start_time": "2022-02-08T15:19:47.602Z"
   },
   {
    "duration": 44,
    "start_time": "2022-02-08T15:19:48.344Z"
   },
   {
    "duration": 16,
    "start_time": "2022-02-08T15:19:48.391Z"
   },
   {
    "duration": 25,
    "start_time": "2022-02-08T15:19:48.409Z"
   },
   {
    "duration": 26,
    "start_time": "2022-02-08T15:19:48.436Z"
   },
   {
    "duration": 94,
    "start_time": "2022-02-08T15:19:48.463Z"
   },
   {
    "duration": -2,
    "start_time": "2022-02-08T15:19:48.560Z"
   },
   {
    "duration": 17,
    "start_time": "2022-02-08T15:20:18.253Z"
   },
   {
    "duration": 703,
    "start_time": "2022-02-08T15:20:36.517Z"
   },
   {
    "duration": 43,
    "start_time": "2022-02-08T15:20:37.222Z"
   },
   {
    "duration": 9,
    "start_time": "2022-02-08T15:20:37.267Z"
   },
   {
    "duration": 20,
    "start_time": "2022-02-08T15:20:37.278Z"
   },
   {
    "duration": 16,
    "start_time": "2022-02-08T15:20:37.300Z"
   },
   {
    "duration": 31,
    "start_time": "2022-02-08T15:20:37.317Z"
   },
   {
    "duration": 14,
    "start_time": "2022-02-08T15:20:37.350Z"
   },
   {
    "duration": 15,
    "start_time": "2022-02-08T15:21:19.204Z"
   },
   {
    "duration": 9,
    "start_time": "2022-02-08T15:22:21.848Z"
   },
   {
    "duration": 259,
    "start_time": "2022-02-08T15:23:49.705Z"
   },
   {
    "duration": 668,
    "start_time": "2022-02-08T15:24:47.251Z"
   },
   {
    "duration": 45,
    "start_time": "2022-02-08T15:24:47.922Z"
   },
   {
    "duration": 26,
    "start_time": "2022-02-08T15:24:47.973Z"
   },
   {
    "duration": 14,
    "start_time": "2022-02-08T15:24:48.002Z"
   },
   {
    "duration": 16,
    "start_time": "2022-02-08T15:24:48.018Z"
   },
   {
    "duration": 28,
    "start_time": "2022-02-08T15:24:48.037Z"
   },
   {
    "duration": 265,
    "start_time": "2022-02-08T15:24:48.068Z"
   },
   {
    "duration": 10,
    "start_time": "2022-02-08T15:24:48.334Z"
   },
   {
    "duration": 270,
    "start_time": "2022-02-08T15:24:48.346Z"
   },
   {
    "duration": 15,
    "start_time": "2022-02-08T15:33:28.193Z"
   },
   {
    "duration": 235,
    "start_time": "2022-02-08T15:33:32.317Z"
   },
   {
    "duration": 684,
    "start_time": "2022-02-08T15:33:40.425Z"
   },
   {
    "duration": 44,
    "start_time": "2022-02-08T15:33:41.110Z"
   },
   {
    "duration": 9,
    "start_time": "2022-02-08T15:33:41.156Z"
   },
   {
    "duration": 39,
    "start_time": "2022-02-08T15:33:41.167Z"
   },
   {
    "duration": 24,
    "start_time": "2022-02-08T15:33:41.208Z"
   },
   {
    "duration": 30,
    "start_time": "2022-02-08T15:33:41.234Z"
   },
   {
    "duration": 239,
    "start_time": "2022-02-08T15:33:41.266Z"
   },
   {
    "duration": 14,
    "start_time": "2022-02-08T15:33:41.507Z"
   },
   {
    "duration": 245,
    "start_time": "2022-02-08T15:33:41.523Z"
   },
   {
    "duration": 20,
    "start_time": "2022-02-08T15:34:32.489Z"
   },
   {
    "duration": 15,
    "start_time": "2022-02-08T15:34:39.734Z"
   },
   {
    "duration": 710,
    "start_time": "2022-02-08T15:34:47.407Z"
   },
   {
    "duration": 44,
    "start_time": "2022-02-08T15:34:48.119Z"
   },
   {
    "duration": 10,
    "start_time": "2022-02-08T15:34:48.167Z"
   },
   {
    "duration": 23,
    "start_time": "2022-02-08T15:34:48.179Z"
   },
   {
    "duration": 17,
    "start_time": "2022-02-08T15:34:48.204Z"
   },
   {
    "duration": 28,
    "start_time": "2022-02-08T15:34:48.222Z"
   },
   {
    "duration": 263,
    "start_time": "2022-02-08T15:34:48.252Z"
   },
   {
    "duration": 15,
    "start_time": "2022-02-08T15:34:48.517Z"
   },
   {
    "duration": 245,
    "start_time": "2022-02-08T15:34:48.534Z"
   },
   {
    "duration": 5,
    "start_time": "2022-02-08T15:39:00.129Z"
   },
   {
    "duration": 5,
    "start_time": "2022-02-08T15:39:25.283Z"
   },
   {
    "duration": 694,
    "start_time": "2022-02-08T15:39:32.166Z"
   },
   {
    "duration": 45,
    "start_time": "2022-02-08T15:39:32.861Z"
   },
   {
    "duration": 8,
    "start_time": "2022-02-08T15:39:32.908Z"
   },
   {
    "duration": 14,
    "start_time": "2022-02-08T15:39:32.918Z"
   },
   {
    "duration": 19,
    "start_time": "2022-02-08T15:39:32.934Z"
   },
   {
    "duration": 57,
    "start_time": "2022-02-08T15:39:32.955Z"
   },
   {
    "duration": 236,
    "start_time": "2022-02-08T15:39:33.014Z"
   },
   {
    "duration": 5,
    "start_time": "2022-02-08T15:39:33.252Z"
   },
   {
    "duration": 24,
    "start_time": "2022-02-08T15:39:33.258Z"
   },
   {
    "duration": 16,
    "start_time": "2022-02-08T15:39:33.283Z"
   },
   {
    "duration": 234,
    "start_time": "2022-02-08T15:39:33.301Z"
   },
   {
    "duration": 350,
    "start_time": "2022-02-08T15:46:12.909Z"
   },
   {
    "duration": 16,
    "start_time": "2022-02-08T15:46:29.181Z"
   },
   {
    "duration": 275,
    "start_time": "2022-02-08T15:46:51.901Z"
   },
   {
    "duration": 285,
    "start_time": "2022-02-08T15:46:56.302Z"
   },
   {
    "duration": 14,
    "start_time": "2022-02-08T15:47:09.301Z"
   },
   {
    "duration": 664,
    "start_time": "2022-02-08T15:47:16.262Z"
   },
   {
    "duration": 45,
    "start_time": "2022-02-08T15:47:16.927Z"
   },
   {
    "duration": 10,
    "start_time": "2022-02-08T15:47:16.974Z"
   },
   {
    "duration": 46,
    "start_time": "2022-02-08T15:47:16.986Z"
   },
   {
    "duration": 17,
    "start_time": "2022-02-08T15:47:17.033Z"
   },
   {
    "duration": 40,
    "start_time": "2022-02-08T15:47:17.051Z"
   },
   {
    "duration": 240,
    "start_time": "2022-02-08T15:47:17.093Z"
   },
   {
    "duration": 14,
    "start_time": "2022-02-08T15:47:17.336Z"
   },
   {
    "duration": 246,
    "start_time": "2022-02-08T15:47:17.352Z"
   },
   {
    "duration": 15,
    "start_time": "2022-02-08T16:00:49.837Z"
   },
   {
    "duration": 15,
    "start_time": "2022-02-08T16:01:02.855Z"
   },
   {
    "duration": 15,
    "start_time": "2022-02-08T16:01:24.575Z"
   },
   {
    "duration": 680,
    "start_time": "2022-02-08T16:01:31.313Z"
   },
   {
    "duration": 46,
    "start_time": "2022-02-08T16:01:31.996Z"
   },
   {
    "duration": 9,
    "start_time": "2022-02-08T16:01:32.044Z"
   },
   {
    "duration": 15,
    "start_time": "2022-02-08T16:01:32.055Z"
   },
   {
    "duration": 32,
    "start_time": "2022-02-08T16:01:32.072Z"
   },
   {
    "duration": 30,
    "start_time": "2022-02-08T16:01:32.105Z"
   },
   {
    "duration": 247,
    "start_time": "2022-02-08T16:01:32.137Z"
   },
   {
    "duration": 25,
    "start_time": "2022-02-08T16:01:32.387Z"
   },
   {
    "duration": 229,
    "start_time": "2022-02-08T16:01:32.414Z"
   },
   {
    "duration": 16,
    "start_time": "2022-02-08T16:03:55.995Z"
   },
   {
    "duration": 227,
    "start_time": "2022-02-08T16:03:58.738Z"
   },
   {
    "duration": 725,
    "start_time": "2022-02-08T16:04:55.995Z"
   },
   {
    "duration": 45,
    "start_time": "2022-02-08T16:04:56.722Z"
   },
   {
    "duration": 11,
    "start_time": "2022-02-08T16:04:56.770Z"
   },
   {
    "duration": 28,
    "start_time": "2022-02-08T16:04:56.783Z"
   },
   {
    "duration": 23,
    "start_time": "2022-02-08T16:04:56.813Z"
   },
   {
    "duration": 30,
    "start_time": "2022-02-08T16:04:56.838Z"
   },
   {
    "duration": 260,
    "start_time": "2022-02-08T16:04:56.870Z"
   },
   {
    "duration": 17,
    "start_time": "2022-02-08T16:04:57.133Z"
   },
   {
    "duration": 256,
    "start_time": "2022-02-08T16:04:57.152Z"
   },
   {
    "duration": 18,
    "start_time": "2022-02-08T16:05:17.968Z"
   },
   {
    "duration": 727,
    "start_time": "2022-02-08T16:05:24.779Z"
   },
   {
    "duration": 45,
    "start_time": "2022-02-08T16:05:25.508Z"
   },
   {
    "duration": 8,
    "start_time": "2022-02-08T16:05:25.556Z"
   },
   {
    "duration": 24,
    "start_time": "2022-02-08T16:05:25.566Z"
   },
   {
    "duration": 22,
    "start_time": "2022-02-08T16:05:25.592Z"
   },
   {
    "duration": 31,
    "start_time": "2022-02-08T16:05:25.616Z"
   },
   {
    "duration": 260,
    "start_time": "2022-02-08T16:05:25.649Z"
   },
   {
    "duration": 17,
    "start_time": "2022-02-08T16:05:25.911Z"
   },
   {
    "duration": 244,
    "start_time": "2022-02-08T16:05:25.930Z"
   },
   {
    "duration": 18,
    "start_time": "2022-02-08T16:05:35.170Z"
   },
   {
    "duration": 224,
    "start_time": "2022-02-08T16:05:37.430Z"
   },
   {
    "duration": 697,
    "start_time": "2022-02-08T16:05:47.728Z"
   },
   {
    "duration": 43,
    "start_time": "2022-02-08T16:05:48.427Z"
   },
   {
    "duration": 9,
    "start_time": "2022-02-08T16:05:48.471Z"
   },
   {
    "duration": 20,
    "start_time": "2022-02-08T16:05:48.482Z"
   },
   {
    "duration": 17,
    "start_time": "2022-02-08T16:05:48.504Z"
   },
   {
    "duration": 29,
    "start_time": "2022-02-08T16:05:48.523Z"
   },
   {
    "duration": 261,
    "start_time": "2022-02-08T16:05:48.554Z"
   },
   {
    "duration": 19,
    "start_time": "2022-02-08T16:05:48.817Z"
   },
   {
    "duration": 255,
    "start_time": "2022-02-08T16:05:48.838Z"
   },
   {
    "duration": 15,
    "start_time": "2022-02-08T16:05:59.184Z"
   },
   {
    "duration": 234,
    "start_time": "2022-02-08T16:06:00.124Z"
   },
   {
    "duration": 666,
    "start_time": "2022-02-08T16:06:06.451Z"
   },
   {
    "duration": 44,
    "start_time": "2022-02-08T16:06:07.119Z"
   },
   {
    "duration": 9,
    "start_time": "2022-02-08T16:06:07.165Z"
   },
   {
    "duration": 25,
    "start_time": "2022-02-08T16:06:07.176Z"
   },
   {
    "duration": 20,
    "start_time": "2022-02-08T16:06:07.202Z"
   },
   {
    "duration": 31,
    "start_time": "2022-02-08T16:06:07.224Z"
   },
   {
    "duration": 249,
    "start_time": "2022-02-08T16:06:07.257Z"
   },
   {
    "duration": 15,
    "start_time": "2022-02-08T16:06:07.509Z"
   },
   {
    "duration": 255,
    "start_time": "2022-02-08T16:06:07.526Z"
   },
   {
    "duration": 232,
    "start_time": "2022-02-09T09:58:37.490Z"
   },
   {
    "duration": 635,
    "start_time": "2022-02-09T09:58:46.329Z"
   },
   {
    "duration": 35,
    "start_time": "2022-02-09T09:58:46.965Z"
   },
   {
    "duration": 7,
    "start_time": "2022-02-09T09:58:47.002Z"
   },
   {
    "duration": 22,
    "start_time": "2022-02-09T09:58:47.011Z"
   },
   {
    "duration": 26,
    "start_time": "2022-02-09T09:58:47.034Z"
   },
   {
    "duration": 26,
    "start_time": "2022-02-09T09:58:47.062Z"
   },
   {
    "duration": 200,
    "start_time": "2022-02-09T09:58:47.090Z"
   },
   {
    "duration": 16,
    "start_time": "2022-02-09T09:58:47.292Z"
   },
   {
    "duration": 21,
    "start_time": "2022-02-09T09:58:47.310Z"
   },
   {
    "duration": 23,
    "start_time": "2022-02-09T09:59:04.451Z"
   },
   {
    "duration": 9,
    "start_time": "2022-02-09T10:00:03.596Z"
   },
   {
    "duration": 18,
    "start_time": "2022-02-09T10:04:51.765Z"
   },
   {
    "duration": 602,
    "start_time": "2022-02-09T10:10:54.199Z"
   },
   {
    "duration": 35,
    "start_time": "2022-02-09T10:10:54.803Z"
   },
   {
    "duration": 18,
    "start_time": "2022-02-09T10:10:54.841Z"
   },
   {
    "duration": 14,
    "start_time": "2022-02-09T10:10:54.861Z"
   },
   {
    "duration": 19,
    "start_time": "2022-02-09T10:10:54.876Z"
   },
   {
    "duration": 39,
    "start_time": "2022-02-09T10:10:54.897Z"
   },
   {
    "duration": 204,
    "start_time": "2022-02-09T10:10:54.938Z"
   },
   {
    "duration": 26,
    "start_time": "2022-02-09T10:10:55.144Z"
   },
   {
    "duration": 20,
    "start_time": "2022-02-09T10:10:55.172Z"
   },
   {
    "duration": 12,
    "start_time": "2022-02-09T10:10:55.193Z"
   },
   {
    "duration": 19,
    "start_time": "2022-02-09T10:13:53.223Z"
   },
   {
    "duration": 479,
    "start_time": "2022-02-09T10:15:51.720Z"
   },
   {
    "duration": 21,
    "start_time": "2022-02-09T10:15:57.344Z"
   },
   {
    "duration": 22,
    "start_time": "2022-02-09T10:16:08.301Z"
   },
   {
    "duration": 21,
    "start_time": "2022-02-09T10:16:09.376Z"
   },
   {
    "duration": 7,
    "start_time": "2022-02-09T10:16:23.783Z"
   },
   {
    "duration": 1054,
    "start_time": "2022-02-09T10:16:32.631Z"
   },
   {
    "duration": 34,
    "start_time": "2022-02-09T10:16:33.686Z"
   },
   {
    "duration": 8,
    "start_time": "2022-02-09T10:16:33.721Z"
   },
   {
    "duration": 15,
    "start_time": "2022-02-09T10:16:33.731Z"
   },
   {
    "duration": 23,
    "start_time": "2022-02-09T10:16:33.747Z"
   },
   {
    "duration": 24,
    "start_time": "2022-02-09T10:16:33.771Z"
   },
   {
    "duration": 201,
    "start_time": "2022-02-09T10:16:33.797Z"
   },
   {
    "duration": 17,
    "start_time": "2022-02-09T10:16:34.000Z"
   },
   {
    "duration": 20,
    "start_time": "2022-02-09T10:16:34.019Z"
   },
   {
    "duration": 23,
    "start_time": "2022-02-09T10:16:34.040Z"
   },
   {
    "duration": 7,
    "start_time": "2022-02-09T10:17:27.132Z"
   },
   {
    "duration": 7,
    "start_time": "2022-02-09T10:17:36.057Z"
   },
   {
    "duration": 7,
    "start_time": "2022-02-09T10:23:29.580Z"
   },
   {
    "duration": 29,
    "start_time": "2022-02-09T10:31:44.140Z"
   },
   {
    "duration": 7,
    "start_time": "2022-02-09T10:31:46.445Z"
   },
   {
    "duration": 35,
    "start_time": "2022-02-09T10:32:15.132Z"
   },
   {
    "duration": 1112,
    "start_time": "2022-02-09T10:32:23.725Z"
   },
   {
    "duration": 35,
    "start_time": "2022-02-09T10:32:24.839Z"
   },
   {
    "duration": 8,
    "start_time": "2022-02-09T10:32:24.877Z"
   },
   {
    "duration": 14,
    "start_time": "2022-02-09T10:32:24.887Z"
   },
   {
    "duration": 15,
    "start_time": "2022-02-09T10:32:24.902Z"
   },
   {
    "duration": 50,
    "start_time": "2022-02-09T10:32:24.919Z"
   },
   {
    "duration": 199,
    "start_time": "2022-02-09T10:32:24.971Z"
   },
   {
    "duration": 18,
    "start_time": "2022-02-09T10:32:25.172Z"
   },
   {
    "duration": 35,
    "start_time": "2022-02-09T10:32:25.192Z"
   },
   {
    "duration": 30,
    "start_time": "2022-02-09T10:32:25.228Z"
   },
   {
    "duration": 20,
    "start_time": "2022-02-09T10:32:53.821Z"
   },
   {
    "duration": 9,
    "start_time": "2022-02-09T10:37:13.063Z"
   },
   {
    "duration": 344,
    "start_time": "2022-02-09T10:44:08.010Z"
   },
   {
    "duration": 13,
    "start_time": "2022-02-09T10:44:38.979Z"
   },
   {
    "duration": 197,
    "start_time": "2022-02-09T10:44:44.755Z"
   },
   {
    "duration": 1086,
    "start_time": "2022-02-09T10:44:51.014Z"
   },
   {
    "duration": 37,
    "start_time": "2022-02-09T10:44:52.102Z"
   },
   {
    "duration": 17,
    "start_time": "2022-02-09T10:44:52.142Z"
   },
   {
    "duration": 13,
    "start_time": "2022-02-09T10:44:52.161Z"
   },
   {
    "duration": 22,
    "start_time": "2022-02-09T10:44:52.177Z"
   },
   {
    "duration": 33,
    "start_time": "2022-02-09T10:44:52.201Z"
   },
   {
    "duration": 219,
    "start_time": "2022-02-09T10:44:52.236Z"
   },
   {
    "duration": 18,
    "start_time": "2022-02-09T10:44:52.459Z"
   },
   {
    "duration": 21,
    "start_time": "2022-02-09T10:44:52.479Z"
   },
   {
    "duration": 33,
    "start_time": "2022-02-09T10:44:52.502Z"
   },
   {
    "duration": 31,
    "start_time": "2022-02-09T10:48:16.130Z"
   },
   {
    "duration": 8,
    "start_time": "2022-02-09T11:01:30.938Z"
   },
   {
    "duration": 20,
    "start_time": "2022-02-09T11:14:52.267Z"
   },
   {
    "duration": 305,
    "start_time": "2022-02-09T11:17:12.451Z"
   },
   {
    "duration": 196,
    "start_time": "2022-02-09T11:17:24.141Z"
   },
   {
    "duration": 186,
    "start_time": "2022-02-09T11:17:54.725Z"
   },
   {
    "duration": 435,
    "start_time": "2022-02-09T11:18:01.250Z"
   },
   {
    "duration": 189,
    "start_time": "2022-02-09T11:18:11.268Z"
   },
   {
    "duration": 4,
    "start_time": "2022-02-09T11:19:52.443Z"
   },
   {
    "duration": 1145,
    "start_time": "2022-02-09T11:19:58.248Z"
   },
   {
    "duration": 33,
    "start_time": "2022-02-09T11:19:59.395Z"
   },
   {
    "duration": 8,
    "start_time": "2022-02-09T11:19:59.430Z"
   },
   {
    "duration": 22,
    "start_time": "2022-02-09T11:19:59.439Z"
   },
   {
    "duration": 17,
    "start_time": "2022-02-09T11:19:59.463Z"
   },
   {
    "duration": 27,
    "start_time": "2022-02-09T11:19:59.482Z"
   },
   {
    "duration": 217,
    "start_time": "2022-02-09T11:19:59.511Z"
   },
   {
    "duration": 27,
    "start_time": "2022-02-09T11:19:59.732Z"
   },
   {
    "duration": 22,
    "start_time": "2022-02-09T11:19:59.761Z"
   },
   {
    "duration": 32,
    "start_time": "2022-02-09T11:19:59.785Z"
   },
   {
    "duration": 8,
    "start_time": "2022-02-09T11:19:59.818Z"
   },
   {
    "duration": 240,
    "start_time": "2022-02-09T11:19:59.827Z"
   },
   {
    "duration": 93,
    "start_time": "2022-02-09T11:20:00.069Z"
   },
   {
    "duration": 188,
    "start_time": "2022-02-09T11:22:21.729Z"
   },
   {
    "duration": 33,
    "start_time": "2022-02-09T11:22:32.225Z"
   },
   {
    "duration": 189,
    "start_time": "2022-02-09T12:00:53.367Z"
   },
   {
    "duration": 284,
    "start_time": "2022-02-09T12:01:09.366Z"
   },
   {
    "duration": 3,
    "start_time": "2022-02-09T12:01:38.223Z"
   },
   {
    "duration": 215,
    "start_time": "2022-02-09T12:01:42.469Z"
   },
   {
    "duration": 29,
    "start_time": "2022-02-09T12:06:33.406Z"
   },
   {
    "duration": 8,
    "start_time": "2022-02-09T12:06:37.272Z"
   },
   {
    "duration": 189,
    "start_time": "2022-02-09T12:06:39.954Z"
   },
   {
    "duration": 1258,
    "start_time": "2022-02-09T12:12:08.639Z"
   },
   {
    "duration": 34,
    "start_time": "2022-02-09T12:12:09.899Z"
   },
   {
    "duration": 8,
    "start_time": "2022-02-09T12:12:09.937Z"
   },
   {
    "duration": 30,
    "start_time": "2022-02-09T12:12:09.946Z"
   },
   {
    "duration": 34,
    "start_time": "2022-02-09T12:12:09.977Z"
   },
   {
    "duration": 40,
    "start_time": "2022-02-09T12:12:10.012Z"
   },
   {
    "duration": 183,
    "start_time": "2022-02-09T12:12:10.054Z"
   },
   {
    "duration": 26,
    "start_time": "2022-02-09T12:12:10.239Z"
   },
   {
    "duration": 20,
    "start_time": "2022-02-09T12:12:10.267Z"
   },
   {
    "duration": 40,
    "start_time": "2022-02-09T12:12:10.288Z"
   },
   {
    "duration": 6,
    "start_time": "2022-02-09T12:12:10.330Z"
   },
   {
    "duration": 225,
    "start_time": "2022-02-09T12:12:10.337Z"
   },
   {
    "duration": 224,
    "start_time": "2022-02-09T12:12:10.564Z"
   },
   {
    "duration": 17,
    "start_time": "2022-02-09T12:12:10.789Z"
   },
   {
    "duration": 190,
    "start_time": "2022-02-09T12:12:38.128Z"
   },
   {
    "duration": 21,
    "start_time": "2022-02-09T12:13:26.187Z"
   },
   {
    "duration": 32,
    "start_time": "2022-02-09T12:13:34.330Z"
   },
   {
    "duration": 226,
    "start_time": "2022-02-09T12:15:09.009Z"
   },
   {
    "duration": 226,
    "start_time": "2022-02-09T12:17:42.202Z"
   },
   {
    "duration": 304,
    "start_time": "2022-02-09T12:18:39.954Z"
   },
   {
    "duration": 194,
    "start_time": "2022-02-09T12:19:04.157Z"
   },
   {
    "duration": 203,
    "start_time": "2022-02-09T12:24:29.382Z"
   },
   {
    "duration": 21,
    "start_time": "2022-02-09T14:17:38.591Z"
   },
   {
    "duration": 225,
    "start_time": "2022-02-09T14:17:56.784Z"
   },
   {
    "duration": 221,
    "start_time": "2022-02-09T14:21:07.366Z"
   },
   {
    "duration": 993,
    "start_time": "2022-02-09T14:21:10.973Z"
   },
   {
    "duration": 86,
    "start_time": "2022-02-09T14:28:39.949Z"
   },
   {
    "duration": 57,
    "start_time": "2022-02-09T14:29:11.071Z"
   },
   {
    "duration": 218,
    "start_time": "2022-02-09T14:29:48.516Z"
   },
   {
    "duration": 225,
    "start_time": "2022-02-09T14:30:43.078Z"
   },
   {
    "duration": 18,
    "start_time": "2022-02-09T14:32:30.605Z"
   },
   {
    "duration": 920,
    "start_time": "2022-02-09T14:33:16.047Z"
   },
   {
    "duration": 986,
    "start_time": "2022-02-09T14:35:47.972Z"
   },
   {
    "duration": 844,
    "start_time": "2022-02-09T14:36:47.721Z"
   },
   {
    "duration": 875,
    "start_time": "2022-02-09T14:37:44.890Z"
   },
   {
    "duration": 233,
    "start_time": "2022-02-09T14:39:40.997Z"
   },
   {
    "duration": 189,
    "start_time": "2022-02-09T14:41:47.531Z"
   },
   {
    "duration": 6093,
    "start_time": "2022-02-09T14:42:09.667Z"
   },
   {
    "duration": 68,
    "start_time": "2022-02-09T14:47:34.361Z"
   },
   {
    "duration": 5924,
    "start_time": "2022-02-09T14:47:39.764Z"
   },
   {
    "duration": 224,
    "start_time": "2022-02-09T14:48:00.604Z"
   },
   {
    "duration": 5486,
    "start_time": "2022-02-09T14:48:11.916Z"
   },
   {
    "duration": 21781,
    "start_time": "2022-02-09T14:48:56.903Z"
   },
   {
    "duration": 8531,
    "start_time": "2022-02-09T14:49:20.872Z"
   },
   {
    "duration": 17,
    "start_time": "2022-02-09T14:55:26.986Z"
   },
   {
    "duration": 19,
    "start_time": "2022-02-09T14:56:30.356Z"
   },
   {
    "duration": 1130,
    "start_time": "2022-02-09T14:56:36.383Z"
   },
   {
    "duration": 35,
    "start_time": "2022-02-09T14:56:37.515Z"
   },
   {
    "duration": 7,
    "start_time": "2022-02-09T14:56:37.552Z"
   },
   {
    "duration": 23,
    "start_time": "2022-02-09T14:56:37.561Z"
   },
   {
    "duration": 19,
    "start_time": "2022-02-09T14:56:37.586Z"
   },
   {
    "duration": 26,
    "start_time": "2022-02-09T14:56:37.606Z"
   },
   {
    "duration": 185,
    "start_time": "2022-02-09T14:56:37.634Z"
   },
   {
    "duration": 17,
    "start_time": "2022-02-09T14:56:37.821Z"
   },
   {
    "duration": 28,
    "start_time": "2022-02-09T14:56:37.840Z"
   },
   {
    "duration": 43,
    "start_time": "2022-02-09T14:56:37.870Z"
   },
   {
    "duration": 5,
    "start_time": "2022-02-09T14:56:37.915Z"
   },
   {
    "duration": 470,
    "start_time": "2022-02-09T14:56:37.922Z"
   },
   {
    "duration": -711,
    "start_time": "2022-02-09T14:56:39.105Z"
   },
   {
    "duration": -713,
    "start_time": "2022-02-09T14:56:39.108Z"
   },
   {
    "duration": -724,
    "start_time": "2022-02-09T14:56:39.120Z"
   },
   {
    "duration": 19,
    "start_time": "2022-02-09T14:56:48.535Z"
   },
   {
    "duration": 1072,
    "start_time": "2022-02-09T14:56:56.708Z"
   },
   {
    "duration": 35,
    "start_time": "2022-02-09T14:56:57.782Z"
   },
   {
    "duration": 7,
    "start_time": "2022-02-09T14:56:57.819Z"
   },
   {
    "duration": 26,
    "start_time": "2022-02-09T14:56:57.828Z"
   },
   {
    "duration": 20,
    "start_time": "2022-02-09T14:56:57.855Z"
   },
   {
    "duration": 44,
    "start_time": "2022-02-09T14:56:57.877Z"
   },
   {
    "duration": 178,
    "start_time": "2022-02-09T14:56:57.922Z"
   },
   {
    "duration": 16,
    "start_time": "2022-02-09T14:56:58.102Z"
   },
   {
    "duration": 31,
    "start_time": "2022-02-09T14:56:58.120Z"
   },
   {
    "duration": 34,
    "start_time": "2022-02-09T14:56:58.153Z"
   },
   {
    "duration": 7,
    "start_time": "2022-02-09T14:56:58.189Z"
   },
   {
    "duration": 66,
    "start_time": "2022-02-09T14:56:58.198Z"
   },
   {
    "duration": 385,
    "start_time": "2022-02-09T14:56:58.266Z"
   },
   {
    "duration": 6053,
    "start_time": "2022-02-09T14:56:58.653Z"
   },
   {
    "duration": 8383,
    "start_time": "2022-02-09T14:57:04.708Z"
   },
   {
    "duration": 22,
    "start_time": "2022-02-09T14:57:28.454Z"
   },
   {
    "duration": 206,
    "start_time": "2022-02-09T14:59:43.356Z"
   },
   {
    "duration": 17,
    "start_time": "2022-02-09T15:00:55.177Z"
   },
   {
    "duration": 1110,
    "start_time": "2022-02-09T15:01:01.294Z"
   },
   {
    "duration": 39,
    "start_time": "2022-02-09T15:01:02.406Z"
   },
   {
    "duration": 12,
    "start_time": "2022-02-09T15:01:02.447Z"
   },
   {
    "duration": 12,
    "start_time": "2022-02-09T15:01:02.460Z"
   },
   {
    "duration": 19,
    "start_time": "2022-02-09T15:01:02.474Z"
   },
   {
    "duration": 26,
    "start_time": "2022-02-09T15:01:02.494Z"
   },
   {
    "duration": 214,
    "start_time": "2022-02-09T15:01:02.522Z"
   },
   {
    "duration": 27,
    "start_time": "2022-02-09T15:01:02.737Z"
   },
   {
    "duration": 21,
    "start_time": "2022-02-09T15:01:02.766Z"
   },
   {
    "duration": 32,
    "start_time": "2022-02-09T15:01:02.789Z"
   },
   {
    "duration": 6,
    "start_time": "2022-02-09T15:01:02.823Z"
   },
   {
    "duration": 269,
    "start_time": "2022-02-09T15:01:02.831Z"
   },
   {
    "duration": 6088,
    "start_time": "2022-02-09T15:01:03.102Z"
   },
   {
    "duration": 8413,
    "start_time": "2022-02-09T15:01:09.192Z"
   },
   {
    "duration": 57,
    "start_time": "2022-02-09T15:01:17.607Z"
   },
   {
    "duration": 18,
    "start_time": "2022-02-09T16:11:19.867Z"
   },
   {
    "duration": 16,
    "start_time": "2022-02-09T16:19:22.889Z"
   },
   {
    "duration": 435,
    "start_time": "2022-02-09T16:25:40.132Z"
   },
   {
    "duration": 17,
    "start_time": "2022-02-09T16:25:46.041Z"
   },
   {
    "duration": 254,
    "start_time": "2022-02-09T16:27:54.869Z"
   },
   {
    "duration": 17,
    "start_time": "2022-02-09T16:28:19.966Z"
   },
   {
    "duration": 19,
    "start_time": "2022-02-09T16:29:19.385Z"
   },
   {
    "duration": 653,
    "start_time": "2022-02-09T16:35:41.372Z"
   },
   {
    "duration": 22,
    "start_time": "2022-02-09T16:42:11.664Z"
   },
   {
    "duration": 275,
    "start_time": "2022-02-09T17:07:32.004Z"
   },
   {
    "duration": 20,
    "start_time": "2022-02-09T17:07:45.829Z"
   },
   {
    "duration": 20,
    "start_time": "2022-02-09T17:11:11.103Z"
   },
   {
    "duration": 21,
    "start_time": "2022-02-09T17:26:10.648Z"
   },
   {
    "duration": 45,
    "start_time": "2022-02-09T17:32:08.204Z"
   },
   {
    "duration": 325,
    "start_time": "2022-02-09T17:33:01.907Z"
   },
   {
    "duration": 82,
    "start_time": "2022-02-09T17:33:07.283Z"
   },
   {
    "duration": 26,
    "start_time": "2022-02-09T17:35:11.614Z"
   },
   {
    "duration": 1074,
    "start_time": "2022-02-09T17:37:31.857Z"
   },
   {
    "duration": 37,
    "start_time": "2022-02-09T17:37:32.933Z"
   },
   {
    "duration": 7,
    "start_time": "2022-02-09T17:37:32.972Z"
   },
   {
    "duration": 13,
    "start_time": "2022-02-09T17:37:32.981Z"
   },
   {
    "duration": 16,
    "start_time": "2022-02-09T17:37:32.996Z"
   },
   {
    "duration": 48,
    "start_time": "2022-02-09T17:37:33.013Z"
   },
   {
    "duration": 199,
    "start_time": "2022-02-09T17:37:33.063Z"
   },
   {
    "duration": 17,
    "start_time": "2022-02-09T17:37:33.264Z"
   },
   {
    "duration": 20,
    "start_time": "2022-02-09T17:37:33.283Z"
   },
   {
    "duration": 60,
    "start_time": "2022-02-09T17:37:33.305Z"
   },
   {
    "duration": 8,
    "start_time": "2022-02-09T17:37:33.367Z"
   },
   {
    "duration": 678,
    "start_time": "2022-02-09T17:37:33.376Z"
   },
   {
    "duration": 5964,
    "start_time": "2022-02-09T17:37:34.059Z"
   },
   {
    "duration": 8414,
    "start_time": "2022-02-09T17:37:40.025Z"
   },
   {
    "duration": 31,
    "start_time": "2022-02-09T17:37:48.441Z"
   },
   {
    "duration": 581,
    "start_time": "2022-02-09T17:37:48.561Z"
   },
   {
    "duration": -28,
    "start_time": "2022-02-09T17:37:49.172Z"
   },
   {
    "duration": -33,
    "start_time": "2022-02-09T17:37:49.178Z"
   },
   {
    "duration": 20,
    "start_time": "2022-02-09T17:44:01.643Z"
   },
   {
    "duration": 54,
    "start_time": "2022-02-09T17:47:30.418Z"
   },
   {
    "duration": 21,
    "start_time": "2022-02-09T17:47:34.939Z"
   },
   {
    "duration": 1147,
    "start_time": "2022-02-09T17:47:41.554Z"
   },
   {
    "duration": 37,
    "start_time": "2022-02-09T17:47:42.703Z"
   },
   {
    "duration": 20,
    "start_time": "2022-02-09T17:47:42.742Z"
   },
   {
    "duration": 16,
    "start_time": "2022-02-09T17:47:42.764Z"
   },
   {
    "duration": 27,
    "start_time": "2022-02-09T17:47:42.781Z"
   },
   {
    "duration": 25,
    "start_time": "2022-02-09T17:47:42.809Z"
   },
   {
    "duration": 199,
    "start_time": "2022-02-09T17:47:42.835Z"
   },
   {
    "duration": 25,
    "start_time": "2022-02-09T17:47:43.036Z"
   },
   {
    "duration": 27,
    "start_time": "2022-02-09T17:47:43.063Z"
   },
   {
    "duration": 40,
    "start_time": "2022-02-09T17:47:43.092Z"
   },
   {
    "duration": 6,
    "start_time": "2022-02-09T17:47:43.134Z"
   },
   {
    "duration": 666,
    "start_time": "2022-02-09T17:47:43.141Z"
   },
   {
    "duration": 6004,
    "start_time": "2022-02-09T17:47:43.809Z"
   },
   {
    "duration": 8490,
    "start_time": "2022-02-09T17:47:49.815Z"
   },
   {
    "duration": 57,
    "start_time": "2022-02-09T17:47:58.307Z"
   },
   {
    "duration": 502,
    "start_time": "2022-02-09T17:47:58.365Z"
   },
   {
    "duration": -29,
    "start_time": "2022-02-09T17:47:58.898Z"
   },
   {
    "duration": -31,
    "start_time": "2022-02-09T17:47:58.901Z"
   },
   {
    "duration": 55,
    "start_time": "2022-02-09T18:11:43.708Z"
   },
   {
    "duration": 58,
    "start_time": "2022-02-09T18:11:58.738Z"
   },
   {
    "duration": 3,
    "start_time": "2022-02-09T18:12:04.847Z"
   },
   {
    "duration": 59,
    "start_time": "2022-02-09T18:12:14.073Z"
   },
   {
    "duration": 61,
    "start_time": "2022-02-09T18:13:49.668Z"
   },
   {
    "duration": 56,
    "start_time": "2022-02-09T18:14:39.702Z"
   },
   {
    "duration": 8137,
    "start_time": "2022-02-09T18:17:42.373Z"
   },
   {
    "duration": 35,
    "start_time": "2022-02-09T18:17:50.512Z"
   },
   {
    "duration": 15,
    "start_time": "2022-02-09T18:17:50.550Z"
   },
   {
    "duration": 13,
    "start_time": "2022-02-09T18:17:50.567Z"
   },
   {
    "duration": 16,
    "start_time": "2022-02-09T18:17:50.582Z"
   },
   {
    "duration": 27,
    "start_time": "2022-02-09T18:17:50.600Z"
   },
   {
    "duration": 232,
    "start_time": "2022-02-09T18:17:50.629Z"
   },
   {
    "duration": 17,
    "start_time": "2022-02-09T18:17:50.864Z"
   },
   {
    "duration": 19,
    "start_time": "2022-02-09T18:17:50.883Z"
   },
   {
    "duration": 37,
    "start_time": "2022-02-09T18:17:50.903Z"
   },
   {
    "duration": 7,
    "start_time": "2022-02-09T18:17:50.958Z"
   },
   {
    "duration": 671,
    "start_time": "2022-02-09T18:17:50.967Z"
   },
   {
    "duration": 6046,
    "start_time": "2022-02-09T18:17:51.640Z"
   },
   {
    "duration": 8392,
    "start_time": "2022-02-09T18:17:57.687Z"
   },
   {
    "duration": 80,
    "start_time": "2022-02-09T18:18:06.080Z"
   },
   {
    "duration": 504,
    "start_time": "2022-02-09T18:18:06.163Z"
   },
   {
    "duration": 43,
    "start_time": "2022-02-09T18:18:06.626Z"
   },
   {
    "duration": 39,
    "start_time": "2022-02-09T18:18:06.631Z"
   },
   {
    "duration": 6988,
    "start_time": "2022-02-09T18:18:07.988Z"
   },
   {
    "duration": 72,
    "start_time": "2022-02-09T18:19:21.654Z"
   },
   {
    "duration": 2159,
    "start_time": "2022-02-09T18:19:25.215Z"
   },
   {
    "duration": 2999,
    "start_time": "2022-02-09T18:19:39.910Z"
   },
   {
    "duration": 36,
    "start_time": "2022-02-09T18:19:42.910Z"
   },
   {
    "duration": 11,
    "start_time": "2022-02-09T18:19:42.948Z"
   },
   {
    "duration": 13,
    "start_time": "2022-02-09T18:19:42.961Z"
   },
   {
    "duration": 18,
    "start_time": "2022-02-09T18:19:42.975Z"
   },
   {
    "duration": 27,
    "start_time": "2022-02-09T18:19:42.994Z"
   },
   {
    "duration": 226,
    "start_time": "2022-02-09T18:19:43.022Z"
   },
   {
    "duration": 24,
    "start_time": "2022-02-09T18:19:43.250Z"
   },
   {
    "duration": 21,
    "start_time": "2022-02-09T18:19:43.276Z"
   },
   {
    "duration": 32,
    "start_time": "2022-02-09T18:19:43.299Z"
   },
   {
    "duration": 30,
    "start_time": "2022-02-09T18:19:43.333Z"
   },
   {
    "duration": 673,
    "start_time": "2022-02-09T18:19:43.365Z"
   },
   {
    "duration": 6098,
    "start_time": "2022-02-09T18:19:44.040Z"
   },
   {
    "duration": 8605,
    "start_time": "2022-02-09T18:19:50.139Z"
   },
   {
    "duration": 27,
    "start_time": "2022-02-09T18:19:58.745Z"
   },
   {
    "duration": 491,
    "start_time": "2022-02-09T18:19:58.775Z"
   },
   {
    "duration": 52,
    "start_time": "2022-02-09T18:19:59.215Z"
   },
   {
    "duration": 51,
    "start_time": "2022-02-09T18:19:59.218Z"
   },
   {
    "duration": 2943,
    "start_time": "2022-02-09T18:25:02.965Z"
   },
   {
    "duration": 3269,
    "start_time": "2022-02-09T18:25:10.840Z"
   },
   {
    "duration": 35,
    "start_time": "2022-02-09T18:25:14.111Z"
   },
   {
    "duration": 14,
    "start_time": "2022-02-09T18:25:14.149Z"
   },
   {
    "duration": 12,
    "start_time": "2022-02-09T18:25:14.165Z"
   },
   {
    "duration": 14,
    "start_time": "2022-02-09T18:25:14.179Z"
   },
   {
    "duration": 25,
    "start_time": "2022-02-09T18:25:14.195Z"
   },
   {
    "duration": 218,
    "start_time": "2022-02-09T18:25:14.222Z"
   },
   {
    "duration": 24,
    "start_time": "2022-02-09T18:25:14.442Z"
   },
   {
    "duration": 20,
    "start_time": "2022-02-09T18:25:14.468Z"
   },
   {
    "duration": 31,
    "start_time": "2022-02-09T18:25:14.489Z"
   },
   {
    "duration": 7,
    "start_time": "2022-02-09T18:25:14.522Z"
   },
   {
    "duration": 706,
    "start_time": "2022-02-09T18:25:14.530Z"
   },
   {
    "duration": 6054,
    "start_time": "2022-02-09T18:25:15.238Z"
   },
   {
    "duration": 8331,
    "start_time": "2022-02-09T18:25:21.293Z"
   },
   {
    "duration": 39,
    "start_time": "2022-02-09T18:25:29.626Z"
   },
   {
    "duration": 490,
    "start_time": "2022-02-09T18:25:29.667Z"
   },
   {
    "duration": 60,
    "start_time": "2022-02-09T18:25:30.099Z"
   },
   {
    "duration": 58,
    "start_time": "2022-02-09T18:25:30.102Z"
   },
   {
    "duration": 1868,
    "start_time": "2022-02-09T18:28:29.653Z"
   },
   {
    "duration": 68,
    "start_time": "2022-02-09T18:29:40.269Z"
   },
   {
    "duration": 2022,
    "start_time": "2022-02-09T18:29:54.194Z"
   },
   {
    "duration": 172,
    "start_time": "2022-02-09T18:31:06.730Z"
   },
   {
    "duration": 1904,
    "start_time": "2022-02-09T18:33:36.059Z"
   },
   {
    "duration": 1859,
    "start_time": "2022-02-09T18:33:41.200Z"
   },
   {
    "duration": 3074,
    "start_time": "2022-02-09T18:37:53.461Z"
   },
   {
    "duration": 34,
    "start_time": "2022-02-09T18:37:56.537Z"
   },
   {
    "duration": 7,
    "start_time": "2022-02-09T18:37:56.573Z"
   },
   {
    "duration": 16,
    "start_time": "2022-02-09T18:37:56.582Z"
   },
   {
    "duration": 27,
    "start_time": "2022-02-09T18:37:56.599Z"
   },
   {
    "duration": 43,
    "start_time": "2022-02-09T18:37:56.628Z"
   },
   {
    "duration": 192,
    "start_time": "2022-02-09T18:37:56.673Z"
   },
   {
    "duration": 19,
    "start_time": "2022-02-09T18:37:56.868Z"
   },
   {
    "duration": 27,
    "start_time": "2022-02-09T18:37:56.889Z"
   },
   {
    "duration": 48,
    "start_time": "2022-02-09T18:37:56.917Z"
   },
   {
    "duration": 7,
    "start_time": "2022-02-09T18:37:56.967Z"
   },
   {
    "duration": 680,
    "start_time": "2022-02-09T18:37:56.975Z"
   },
   {
    "duration": 6256,
    "start_time": "2022-02-09T18:37:57.659Z"
   },
   {
    "duration": 8405,
    "start_time": "2022-02-09T18:38:03.916Z"
   },
   {
    "duration": 38,
    "start_time": "2022-02-09T18:38:12.323Z"
   },
   {
    "duration": 489,
    "start_time": "2022-02-09T18:38:12.363Z"
   },
   {
    "duration": -160,
    "start_time": "2022-02-09T18:38:13.014Z"
   },
   {
    "duration": -164,
    "start_time": "2022-02-09T18:38:13.019Z"
   },
   {
    "duration": 19,
    "start_time": "2022-02-09T18:41:14.804Z"
   },
   {
    "duration": 43,
    "start_time": "2022-02-09T18:41:17.940Z"
   },
   {
    "duration": 21,
    "start_time": "2022-02-09T18:41:22.328Z"
   },
   {
    "duration": 4,
    "start_time": "2022-02-09T18:42:20.460Z"
   },
   {
    "duration": 182,
    "start_time": "2022-02-09T18:42:41.720Z"
   },
   {
    "duration": 11,
    "start_time": "2022-02-09T18:43:01.364Z"
   },
   {
    "duration": 41,
    "start_time": "2022-02-09T18:49:25.141Z"
   },
   {
    "duration": 21,
    "start_time": "2022-02-09T18:52:04.846Z"
   },
   {
    "duration": 105,
    "start_time": "2022-02-09T19:06:51.255Z"
   },
   {
    "duration": 184,
    "start_time": "2022-02-09T19:09:17.998Z"
   },
   {
    "duration": 23,
    "start_time": "2022-02-09T19:11:41.997Z"
   },
   {
    "duration": 1111,
    "start_time": "2022-02-09T19:18:54.571Z"
   },
   {
    "duration": 405,
    "start_time": "2022-02-09T19:23:53.943Z"
   },
   {
    "duration": 12136,
    "start_time": "2022-02-09T19:24:06.478Z"
   },
   {
    "duration": 22257,
    "start_time": "2022-02-09T19:41:02.828Z"
   },
   {
    "duration": 11941,
    "start_time": "2022-02-09T19:41:40.989Z"
   },
   {
    "duration": 16059,
    "start_time": "2022-02-09T19:43:39.672Z"
   },
   {
    "duration": 8118,
    "start_time": "2022-02-09T19:45:42.362Z"
   },
   {
    "duration": 16317,
    "start_time": "2022-02-09T19:46:48.660Z"
   },
   {
    "duration": 1331,
    "start_time": "2022-02-09T19:47:58.434Z"
   },
   {
    "duration": 11696,
    "start_time": "2022-02-09T19:48:40.972Z"
   },
   {
    "duration": 232,
    "start_time": "2022-02-09T19:56:42.288Z"
   },
   {
    "duration": 27,
    "start_time": "2022-02-09T19:57:17.063Z"
   },
   {
    "duration": 3019,
    "start_time": "2022-02-09T20:05:03.575Z"
   },
   {
    "duration": 36,
    "start_time": "2022-02-09T20:05:06.596Z"
   },
   {
    "duration": 9,
    "start_time": "2022-02-09T20:05:06.635Z"
   },
   {
    "duration": 12,
    "start_time": "2022-02-09T20:05:06.659Z"
   },
   {
    "duration": 13,
    "start_time": "2022-02-09T20:05:06.673Z"
   },
   {
    "duration": 28,
    "start_time": "2022-02-09T20:05:06.688Z"
   },
   {
    "duration": 239,
    "start_time": "2022-02-09T20:05:06.719Z"
   },
   {
    "duration": 20,
    "start_time": "2022-02-09T20:05:06.960Z"
   },
   {
    "duration": 26,
    "start_time": "2022-02-09T20:05:06.982Z"
   },
   {
    "duration": 57,
    "start_time": "2022-02-09T20:05:07.009Z"
   },
   {
    "duration": 7,
    "start_time": "2022-02-09T20:05:07.067Z"
   },
   {
    "duration": 701,
    "start_time": "2022-02-09T20:05:07.075Z"
   },
   {
    "duration": 6011,
    "start_time": "2022-02-09T20:05:07.778Z"
   },
   {
    "duration": 8357,
    "start_time": "2022-02-09T20:05:13.791Z"
   },
   {
    "duration": 27,
    "start_time": "2022-02-09T20:05:22.149Z"
   },
   {
    "duration": 201,
    "start_time": "2022-02-09T20:05:22.258Z"
   },
   {
    "duration": 113,
    "start_time": "2022-02-09T20:05:22.462Z"
   },
   {
    "duration": 1296,
    "start_time": "2022-02-09T20:05:22.578Z"
   },
   {
    "duration": 11919,
    "start_time": "2022-02-09T20:05:23.875Z"
   },
   {
    "duration": 11681,
    "start_time": "2022-02-09T20:05:35.795Z"
   },
   {
    "duration": 26,
    "start_time": "2022-02-09T20:05:47.478Z"
   },
   {
    "duration": 6,
    "start_time": "2022-02-09T20:16:57.513Z"
   },
   {
    "duration": 5,
    "start_time": "2022-02-09T20:17:30.235Z"
   },
   {
    "duration": 7,
    "start_time": "2022-02-09T20:17:39.562Z"
   },
   {
    "duration": 35,
    "start_time": "2022-02-09T20:19:21.068Z"
   },
   {
    "duration": 8,
    "start_time": "2022-02-09T20:20:05.487Z"
   },
   {
    "duration": 13,
    "start_time": "2022-02-09T20:21:15.110Z"
   },
   {
    "duration": 236,
    "start_time": "2022-02-09T20:38:24.608Z"
   },
   {
    "duration": 11763,
    "start_time": "2022-02-09T20:42:20.841Z"
   },
   {
    "duration": 242,
    "start_time": "2022-02-09T20:49:33.302Z"
   },
   {
    "duration": 305,
    "start_time": "2022-02-09T20:50:14.080Z"
   },
   {
    "duration": 253,
    "start_time": "2022-02-09T20:57:58.538Z"
   },
   {
    "duration": 2984,
    "start_time": "2022-02-09T20:59:02.509Z"
   },
   {
    "duration": 35,
    "start_time": "2022-02-09T20:59:05.495Z"
   },
   {
    "duration": 8,
    "start_time": "2022-02-09T20:59:05.532Z"
   },
   {
    "duration": 24,
    "start_time": "2022-02-09T20:59:05.541Z"
   },
   {
    "duration": 13,
    "start_time": "2022-02-09T20:59:05.567Z"
   },
   {
    "duration": 26,
    "start_time": "2022-02-09T20:59:05.582Z"
   },
   {
    "duration": 222,
    "start_time": "2022-02-09T20:59:05.609Z"
   },
   {
    "duration": 25,
    "start_time": "2022-02-09T20:59:05.834Z"
   },
   {
    "duration": 20,
    "start_time": "2022-02-09T20:59:05.861Z"
   },
   {
    "duration": 32,
    "start_time": "2022-02-09T20:59:05.883Z"
   },
   {
    "duration": 7,
    "start_time": "2022-02-09T20:59:05.916Z"
   },
   {
    "duration": 704,
    "start_time": "2022-02-09T20:59:05.924Z"
   },
   {
    "duration": 6211,
    "start_time": "2022-02-09T20:59:06.629Z"
   },
   {
    "duration": 8342,
    "start_time": "2022-02-09T20:59:12.842Z"
   },
   {
    "duration": 75,
    "start_time": "2022-02-09T20:59:21.186Z"
   },
   {
    "duration": 196,
    "start_time": "2022-02-09T20:59:21.263Z"
   },
   {
    "duration": 108,
    "start_time": "2022-02-09T20:59:21.461Z"
   },
   {
    "duration": 1320,
    "start_time": "2022-02-09T20:59:21.571Z"
   },
   {
    "duration": 11863,
    "start_time": "2022-02-09T20:59:22.893Z"
   },
   {
    "duration": 11878,
    "start_time": "2022-02-09T20:59:34.758Z"
   },
   {
    "duration": 34,
    "start_time": "2022-02-09T20:59:46.638Z"
   },
   {
    "duration": 183,
    "start_time": "2022-02-09T20:59:46.676Z"
   },
   {
    "duration": 39,
    "start_time": "2022-02-09T20:59:46.863Z"
   },
   {
    "duration": 63,
    "start_time": "2022-02-09T20:59:46.904Z"
   },
   {
    "duration": 299,
    "start_time": "2022-02-09T20:59:47.060Z"
   },
   {
    "duration": 14050,
    "start_time": "2022-02-09T21:45:00.251Z"
   },
   {
    "duration": 35,
    "start_time": "2022-02-09T21:45:14.303Z"
   },
   {
    "duration": 8,
    "start_time": "2022-02-09T21:45:14.340Z"
   },
   {
    "duration": 13,
    "start_time": "2022-02-09T21:45:14.359Z"
   },
   {
    "duration": 17,
    "start_time": "2022-02-09T21:45:14.374Z"
   },
   {
    "duration": 28,
    "start_time": "2022-02-09T21:45:14.393Z"
   },
   {
    "duration": 227,
    "start_time": "2022-02-09T21:45:14.422Z"
   },
   {
    "duration": 22,
    "start_time": "2022-02-09T21:45:14.651Z"
   },
   {
    "duration": 22,
    "start_time": "2022-02-09T21:45:14.675Z"
   },
   {
    "duration": 32,
    "start_time": "2022-02-09T21:45:14.699Z"
   },
   {
    "duration": 30,
    "start_time": "2022-02-09T21:45:14.732Z"
   },
   {
    "duration": 714,
    "start_time": "2022-02-09T21:45:14.764Z"
   },
   {
    "duration": 6110,
    "start_time": "2022-02-09T21:45:15.480Z"
   },
   {
    "duration": 8317,
    "start_time": "2022-02-09T21:45:21.592Z"
   },
   {
    "duration": 53,
    "start_time": "2022-02-09T21:45:29.911Z"
   },
   {
    "duration": 193,
    "start_time": "2022-02-09T21:45:29.966Z"
   },
   {
    "duration": 103,
    "start_time": "2022-02-09T21:45:30.260Z"
   },
   {
    "duration": 198,
    "start_time": "2022-02-09T21:45:30.365Z"
   },
   {
    "duration": 1251,
    "start_time": "2022-02-09T21:45:30.566Z"
   },
   {
    "duration": 12057,
    "start_time": "2022-02-09T21:45:31.819Z"
   },
   {
    "duration": 12464,
    "start_time": "2022-02-09T21:45:43.877Z"
   },
   {
    "duration": 39,
    "start_time": "2022-02-09T21:45:56.343Z"
   },
   {
    "duration": 102,
    "start_time": "2022-02-09T21:45:56.462Z"
   },
   {
    "duration": 40,
    "start_time": "2022-02-09T21:45:56.566Z"
   },
   {
    "duration": 59,
    "start_time": "2022-02-09T21:45:56.608Z"
   },
   {
    "duration": 374,
    "start_time": "2022-02-09T21:45:56.669Z"
   },
   {
    "duration": 18,
    "start_time": "2022-02-09T21:47:11.976Z"
   },
   {
    "duration": 21,
    "start_time": "2022-02-09T21:51:19.596Z"
   },
   {
    "duration": 17,
    "start_time": "2022-02-09T21:51:33.736Z"
   },
   {
    "duration": 18,
    "start_time": "2022-02-09T21:52:09.390Z"
   },
   {
    "duration": 57,
    "start_time": "2022-02-09T21:53:36.769Z"
   },
   {
    "duration": 413,
    "start_time": "2022-02-09T21:53:42.235Z"
   },
   {
    "duration": 294,
    "start_time": "2022-02-09T21:54:13.491Z"
   },
   {
    "duration": 180,
    "start_time": "2022-02-09T21:54:26.079Z"
   },
   {
    "duration": 32,
    "start_time": "2022-02-09T21:55:49.191Z"
   },
   {
    "duration": 25,
    "start_time": "2022-02-09T21:55:58.325Z"
   },
   {
    "duration": 7,
    "start_time": "2022-02-09T21:58:09.667Z"
   },
   {
    "duration": 26,
    "start_time": "2022-02-09T21:58:15.023Z"
   },
   {
    "duration": 12,
    "start_time": "2022-02-09T22:05:17.668Z"
   },
   {
    "duration": 18,
    "start_time": "2022-02-09T22:05:19.116Z"
   },
   {
    "duration": 26,
    "start_time": "2022-02-09T22:16:41.181Z"
   },
   {
    "duration": 1942,
    "start_time": "2022-02-11T11:32:42.383Z"
   },
   {
    "duration": 6520,
    "start_time": "2022-02-11T11:33:41.708Z"
   },
   {
    "duration": 3327,
    "start_time": "2022-02-11T11:34:00.591Z"
   },
   {
    "duration": 5,
    "start_time": "2022-02-11T11:34:09.286Z"
   },
   {
    "duration": 435,
    "start_time": "2022-02-11T11:34:41.749Z"
   },
   {
    "duration": 2259,
    "start_time": "2022-02-11T11:34:50.841Z"
   },
   {
    "duration": 64,
    "start_time": "2022-02-11T11:34:53.104Z"
   },
   {
    "duration": 12,
    "start_time": "2022-02-11T11:34:53.171Z"
   },
   {
    "duration": 43,
    "start_time": "2022-02-11T11:34:53.186Z"
   },
   {
    "duration": 30,
    "start_time": "2022-02-11T11:34:53.232Z"
   },
   {
    "duration": 85,
    "start_time": "2022-02-11T11:34:53.266Z"
   },
   {
    "duration": 481,
    "start_time": "2022-02-11T11:34:53.353Z"
   },
   {
    "duration": 26,
    "start_time": "2022-02-11T11:34:53.838Z"
   },
   {
    "duration": 61,
    "start_time": "2022-02-11T11:34:53.867Z"
   },
   {
    "duration": 52,
    "start_time": "2022-02-11T11:34:53.932Z"
   },
   {
    "duration": 40,
    "start_time": "2022-02-11T11:34:53.988Z"
   },
   {
    "duration": 1105,
    "start_time": "2022-02-11T11:34:54.031Z"
   },
   {
    "duration": 9166,
    "start_time": "2022-02-11T11:34:55.139Z"
   },
   {
    "duration": 11685,
    "start_time": "2022-02-11T11:35:04.307Z"
   },
   {
    "duration": 60,
    "start_time": "2022-02-11T11:35:15.994Z"
   },
   {
    "duration": 199,
    "start_time": "2022-02-11T11:35:16.127Z"
   },
   {
    "duration": 208,
    "start_time": "2022-02-11T11:35:16.330Z"
   },
   {
    "duration": 1781,
    "start_time": "2022-02-11T11:35:16.541Z"
   },
   {
    "duration": 20065,
    "start_time": "2022-02-11T11:35:18.325Z"
   },
   {
    "duration": 21235,
    "start_time": "2022-02-11T11:35:38.393Z"
   },
   {
    "duration": 193,
    "start_time": "2022-02-11T11:35:59.631Z"
   },
   {
    "duration": 111,
    "start_time": "2022-02-11T11:35:59.827Z"
   },
   {
    "duration": 98,
    "start_time": "2022-02-11T11:35:59.946Z"
   },
   {
    "duration": 177,
    "start_time": "2022-02-11T11:36:00.048Z"
   },
   {
    "duration": 528,
    "start_time": "2022-02-11T11:36:00.229Z"
   },
   {
    "duration": 19,
    "start_time": "2022-02-11T11:36:10.339Z"
   },
   {
    "duration": 35,
    "start_time": "2022-02-11T11:36:11.423Z"
   },
   {
    "duration": 19,
    "start_time": "2022-02-11T11:39:25.863Z"
   },
   {
    "duration": 9,
    "start_time": "2022-02-11T11:40:22.400Z"
   },
   {
    "duration": 11,
    "start_time": "2022-02-11T11:41:53.598Z"
   },
   {
    "duration": 857,
    "start_time": "2022-02-11T11:41:55.213Z"
   },
   {
    "duration": 8638,
    "start_time": "2022-02-11T11:42:20.445Z"
   },
   {
    "duration": 11576,
    "start_time": "2022-02-11T11:42:34.644Z"
   },
   {
    "duration": 61,
    "start_time": "2022-02-11T11:42:59.073Z"
   },
   {
    "duration": 29,
    "start_time": "2022-02-11T11:44:04.788Z"
   },
   {
    "duration": 9,
    "start_time": "2022-02-11T11:44:06.691Z"
   },
   {
    "duration": 980,
    "start_time": "2022-02-11T11:44:08.395Z"
   },
   {
    "duration": 10194,
    "start_time": "2022-02-11T11:44:16.766Z"
   },
   {
    "duration": 11731,
    "start_time": "2022-02-11T11:44:30.592Z"
   },
   {
    "duration": 31,
    "start_time": "2022-02-11T11:44:45.098Z"
   },
   {
    "duration": 3230,
    "start_time": "2022-02-11T11:46:44.679Z"
   },
   {
    "duration": 4802,
    "start_time": "2022-02-11T11:46:54.149Z"
   },
   {
    "duration": 50,
    "start_time": "2022-02-11T11:46:58.954Z"
   },
   {
    "duration": 25,
    "start_time": "2022-02-11T11:46:59.007Z"
   },
   {
    "duration": 21,
    "start_time": "2022-02-11T11:46:59.036Z"
   },
   {
    "duration": 23,
    "start_time": "2022-02-11T11:46:59.059Z"
   },
   {
    "duration": 73,
    "start_time": "2022-02-11T11:46:59.084Z"
   },
   {
    "duration": 317,
    "start_time": "2022-02-11T11:46:59.160Z"
   },
   {
    "duration": 25,
    "start_time": "2022-02-11T11:46:59.480Z"
   },
   {
    "duration": 42,
    "start_time": "2022-02-11T11:46:59.508Z"
   },
   {
    "duration": 23,
    "start_time": "2022-02-11T11:46:59.552Z"
   },
   {
    "duration": 10,
    "start_time": "2022-02-11T11:46:59.577Z"
   },
   {
    "duration": 794,
    "start_time": "2022-02-11T11:46:59.589Z"
   },
   {
    "duration": 10042,
    "start_time": "2022-02-11T11:47:00.386Z"
   },
   {
    "duration": 11698,
    "start_time": "2022-02-11T11:47:10.431Z"
   },
   {
    "duration": 93,
    "start_time": "2022-02-11T11:47:22.132Z"
   },
   {
    "duration": 681,
    "start_time": "2022-02-11T11:47:22.229Z"
   },
   {
    "duration": 2143,
    "start_time": "2022-02-11T11:47:20.770Z"
   },
   {
    "duration": 2138,
    "start_time": "2022-02-11T11:47:20.776Z"
   },
   {
    "duration": 2135,
    "start_time": "2022-02-11T11:47:20.780Z"
   },
   {
    "duration": 2134,
    "start_time": "2022-02-11T11:47:20.783Z"
   },
   {
    "duration": 2132,
    "start_time": "2022-02-11T11:47:20.787Z"
   },
   {
    "duration": 2125,
    "start_time": "2022-02-11T11:47:20.795Z"
   },
   {
    "duration": 2123,
    "start_time": "2022-02-11T11:47:20.798Z"
   },
   {
    "duration": 2120,
    "start_time": "2022-02-11T11:47:20.802Z"
   },
   {
    "duration": 2117,
    "start_time": "2022-02-11T11:47:20.806Z"
   },
   {
    "duration": 3126,
    "start_time": "2022-02-11T11:57:55.196Z"
   },
   {
    "duration": 5167,
    "start_time": "2022-02-11T11:58:04.756Z"
   },
   {
    "duration": 51,
    "start_time": "2022-02-11T11:58:09.927Z"
   },
   {
    "duration": 14,
    "start_time": "2022-02-11T11:58:09.981Z"
   },
   {
    "duration": 41,
    "start_time": "2022-02-11T11:58:09.998Z"
   },
   {
    "duration": 31,
    "start_time": "2022-02-11T11:58:10.043Z"
   },
   {
    "duration": 80,
    "start_time": "2022-02-11T11:58:10.077Z"
   },
   {
    "duration": 381,
    "start_time": "2022-02-11T11:58:10.160Z"
   },
   {
    "duration": 29,
    "start_time": "2022-02-11T11:58:10.547Z"
   },
   {
    "duration": 61,
    "start_time": "2022-02-11T11:58:10.579Z"
   },
   {
    "duration": 28,
    "start_time": "2022-02-11T11:58:10.643Z"
   },
   {
    "duration": 11,
    "start_time": "2022-02-11T11:58:10.674Z"
   },
   {
    "duration": 825,
    "start_time": "2022-02-11T11:58:10.688Z"
   },
   {
    "duration": 9060,
    "start_time": "2022-02-11T11:58:11.516Z"
   },
   {
    "duration": 12809,
    "start_time": "2022-02-11T11:58:20.579Z"
   },
   {
    "duration": 50,
    "start_time": "2022-02-11T11:58:33.390Z"
   },
   {
    "duration": 815,
    "start_time": "2022-02-11T11:58:33.523Z"
   },
   {
    "duration": 2116,
    "start_time": "2022-02-11T11:58:32.224Z"
   },
   {
    "duration": 2110,
    "start_time": "2022-02-11T11:58:32.232Z"
   },
   {
    "duration": 2106,
    "start_time": "2022-02-11T11:58:32.238Z"
   },
   {
    "duration": 2103,
    "start_time": "2022-02-11T11:58:32.242Z"
   },
   {
    "duration": 2097,
    "start_time": "2022-02-11T11:58:32.250Z"
   },
   {
    "duration": 2093,
    "start_time": "2022-02-11T11:58:32.255Z"
   },
   {
    "duration": 2090,
    "start_time": "2022-02-11T11:58:32.260Z"
   },
   {
    "duration": 2085,
    "start_time": "2022-02-11T11:58:32.266Z"
   },
   {
    "duration": 2081,
    "start_time": "2022-02-11T11:58:32.272Z"
   },
   {
    "duration": 24,
    "start_time": "2022-02-11T11:59:12.231Z"
   },
   {
    "duration": 9,
    "start_time": "2022-02-11T11:59:15.824Z"
   },
   {
    "duration": 761,
    "start_time": "2022-02-11T11:59:19.192Z"
   },
   {
    "duration": 9192,
    "start_time": "2022-02-11T11:59:31.400Z"
   },
   {
    "duration": 11353,
    "start_time": "2022-02-11T12:00:32.337Z"
   },
   {
    "duration": 151,
    "start_time": "2022-02-11T12:01:33.373Z"
   },
   {
    "duration": 19,
    "start_time": "2022-02-11T12:19:56.099Z"
   },
   {
    "duration": 19,
    "start_time": "2022-02-11T12:20:03.130Z"
   },
   {
    "duration": 9,
    "start_time": "2022-02-11T12:20:30.309Z"
   },
   {
    "duration": 723,
    "start_time": "2022-02-11T12:20:34.426Z"
   },
   {
    "duration": 8890,
    "start_time": "2022-02-11T12:20:47.807Z"
   },
   {
    "duration": 11526,
    "start_time": "2022-02-11T12:20:56.700Z"
   },
   {
    "duration": 173,
    "start_time": "2022-02-11T12:21:13.850Z"
   },
   {
    "duration": 504,
    "start_time": "2022-02-11T12:22:07.854Z"
   },
   {
    "duration": 490,
    "start_time": "2022-02-11T12:31:37.986Z"
   },
   {
    "duration": 195,
    "start_time": "2022-02-11T12:31:44.510Z"
   },
   {
    "duration": 196,
    "start_time": "2022-02-11T12:31:51.981Z"
   },
   {
    "duration": 4510,
    "start_time": "2022-02-11T12:45:50.657Z"
   },
   {
    "duration": 48,
    "start_time": "2022-02-11T12:45:55.170Z"
   },
   {
    "duration": 12,
    "start_time": "2022-02-11T12:45:55.221Z"
   },
   {
    "duration": 19,
    "start_time": "2022-02-11T12:45:55.235Z"
   },
   {
    "duration": 20,
    "start_time": "2022-02-11T12:45:55.256Z"
   },
   {
    "duration": 79,
    "start_time": "2022-02-11T12:45:55.279Z"
   },
   {
    "duration": 316,
    "start_time": "2022-02-11T12:45:55.360Z"
   },
   {
    "duration": 29,
    "start_time": "2022-02-11T12:45:55.680Z"
   },
   {
    "duration": 32,
    "start_time": "2022-02-11T12:45:55.725Z"
   },
   {
    "duration": 21,
    "start_time": "2022-02-11T12:45:55.759Z"
   },
   {
    "duration": 8,
    "start_time": "2022-02-11T12:45:55.783Z"
   },
   {
    "duration": 822,
    "start_time": "2022-02-11T12:45:55.824Z"
   },
   {
    "duration": 8612,
    "start_time": "2022-02-11T12:45:56.648Z"
   },
   {
    "duration": 12451,
    "start_time": "2022-02-11T12:46:05.263Z"
   },
   {
    "duration": 34,
    "start_time": "2022-02-11T12:46:17.717Z"
   },
   {
    "duration": 749,
    "start_time": "2022-02-11T12:46:17.825Z"
   },
   {
    "duration": -74,
    "start_time": "2022-02-11T12:46:18.651Z"
   },
   {
    "duration": -78,
    "start_time": "2022-02-11T12:46:18.657Z"
   },
   {
    "duration": -82,
    "start_time": "2022-02-11T12:46:18.662Z"
   },
   {
    "duration": -85,
    "start_time": "2022-02-11T12:46:18.667Z"
   },
   {
    "duration": -89,
    "start_time": "2022-02-11T12:46:18.673Z"
   },
   {
    "duration": -92,
    "start_time": "2022-02-11T12:46:18.677Z"
   },
   {
    "duration": -94,
    "start_time": "2022-02-11T12:46:18.681Z"
   },
   {
    "duration": -97,
    "start_time": "2022-02-11T12:46:18.685Z"
   },
   {
    "duration": -99,
    "start_time": "2022-02-11T12:46:18.689Z"
   },
   {
    "duration": 503,
    "start_time": "2022-02-11T12:47:44.533Z"
   },
   {
    "duration": 48,
    "start_time": "2022-02-11T13:27:02.958Z"
   },
   {
    "duration": 497,
    "start_time": "2022-02-11T13:27:26.532Z"
   },
   {
    "duration": 21,
    "start_time": "2022-02-11T13:27:36.599Z"
   },
   {
    "duration": 596,
    "start_time": "2022-02-11T13:27:46.260Z"
   },
   {
    "duration": 19,
    "start_time": "2022-02-11T13:28:18.538Z"
   },
   {
    "duration": 75,
    "start_time": "2022-02-11T14:06:59.592Z"
   },
   {
    "duration": 549,
    "start_time": "2022-02-11T14:07:09.401Z"
   },
   {
    "duration": 502,
    "start_time": "2022-02-11T14:10:58.558Z"
   },
   {
    "duration": 131,
    "start_time": "2022-02-11T14:11:28.599Z"
   },
   {
    "duration": 105,
    "start_time": "2022-02-11T14:11:47.122Z"
   },
   {
    "duration": 4330,
    "start_time": "2022-02-11T14:16:40.448Z"
   },
   {
    "duration": 3816,
    "start_time": "2022-02-11T14:17:57.090Z"
   },
   {
    "duration": 46,
    "start_time": "2022-02-11T14:19:01.580Z"
   },
   {
    "duration": 15,
    "start_time": "2022-02-11T14:23:38.321Z"
   },
   {
    "duration": 49,
    "start_time": "2022-02-11T14:23:43.195Z"
   },
   {
    "duration": 164,
    "start_time": "2022-02-11T14:23:44.961Z"
   },
   {
    "duration": 579,
    "start_time": "2022-02-11T14:23:45.285Z"
   },
   {
    "duration": 4531,
    "start_time": "2022-02-11T14:25:32.020Z"
   },
   {
    "duration": 50,
    "start_time": "2022-02-11T14:25:36.555Z"
   },
   {
    "duration": 26,
    "start_time": "2022-02-11T14:25:36.609Z"
   },
   {
    "duration": 20,
    "start_time": "2022-02-11T14:25:36.638Z"
   },
   {
    "duration": 27,
    "start_time": "2022-02-11T14:25:36.660Z"
   },
   {
    "duration": 68,
    "start_time": "2022-02-11T14:25:36.689Z"
   },
   {
    "duration": 324,
    "start_time": "2022-02-11T14:25:36.759Z"
   },
   {
    "duration": 40,
    "start_time": "2022-02-11T14:25:37.087Z"
   },
   {
    "duration": 33,
    "start_time": "2022-02-11T14:25:37.130Z"
   },
   {
    "duration": 21,
    "start_time": "2022-02-11T14:25:37.165Z"
   },
   {
    "duration": 38,
    "start_time": "2022-02-11T14:25:37.188Z"
   },
   {
    "duration": 758,
    "start_time": "2022-02-11T14:25:37.228Z"
   },
   {
    "duration": 8864,
    "start_time": "2022-02-11T14:25:37.988Z"
   },
   {
    "duration": 11686,
    "start_time": "2022-02-11T14:25:46.856Z"
   },
   {
    "duration": 86,
    "start_time": "2022-02-11T14:25:58.545Z"
   },
   {
    "duration": 290,
    "start_time": "2022-02-11T14:25:58.635Z"
   },
   {
    "duration": 196,
    "start_time": "2022-02-11T14:25:58.928Z"
   },
   {
    "duration": 2199,
    "start_time": "2022-02-11T14:25:59.127Z"
   },
   {
    "duration": 3919,
    "start_time": "2022-02-11T14:26:01.328Z"
   },
   {
    "duration": 3720,
    "start_time": "2022-02-11T14:26:05.250Z"
   },
   {
    "duration": 55,
    "start_time": "2022-02-11T14:26:08.973Z"
   },
   {
    "duration": 98,
    "start_time": "2022-02-11T14:26:09.034Z"
   },
   {
    "duration": 52,
    "start_time": "2022-02-11T14:26:09.138Z"
   },
   {
    "duration": 232,
    "start_time": "2022-02-11T14:26:09.193Z"
   },
   {
    "duration": 538,
    "start_time": "2022-02-11T14:26:09.429Z"
   },
   {
    "duration": 6993,
    "start_time": "2022-02-12T10:51:34.295Z"
   },
   {
    "duration": 45,
    "start_time": "2022-02-12T10:51:41.291Z"
   },
   {
    "duration": 19,
    "start_time": "2022-02-12T10:51:41.339Z"
   },
   {
    "duration": 23,
    "start_time": "2022-02-12T10:51:41.362Z"
   },
   {
    "duration": 24,
    "start_time": "2022-02-12T10:51:41.388Z"
   },
   {
    "duration": 82,
    "start_time": "2022-02-12T10:51:41.414Z"
   },
   {
    "duration": 342,
    "start_time": "2022-02-12T10:51:41.498Z"
   },
   {
    "duration": 29,
    "start_time": "2022-02-12T10:51:41.842Z"
   },
   {
    "duration": 34,
    "start_time": "2022-02-12T10:51:41.875Z"
   },
   {
    "duration": 63,
    "start_time": "2022-02-12T10:51:41.912Z"
   },
   {
    "duration": 99,
    "start_time": "2022-02-12T10:51:41.979Z"
   },
   {
    "duration": -43,
    "start_time": "2022-02-12T10:51:42.123Z"
   },
   {
    "duration": -48,
    "start_time": "2022-02-12T10:51:42.130Z"
   },
   {
    "duration": -49,
    "start_time": "2022-02-12T10:51:42.133Z"
   },
   {
    "duration": -47,
    "start_time": "2022-02-12T10:51:42.135Z"
   },
   {
    "duration": -48,
    "start_time": "2022-02-12T10:51:42.138Z"
   },
   {
    "duration": -48,
    "start_time": "2022-02-12T10:51:42.141Z"
   },
   {
    "duration": -53,
    "start_time": "2022-02-12T10:51:42.147Z"
   },
   {
    "duration": -54,
    "start_time": "2022-02-12T10:51:42.149Z"
   },
   {
    "duration": -55,
    "start_time": "2022-02-12T10:51:42.152Z"
   },
   {
    "duration": -56,
    "start_time": "2022-02-12T10:51:42.154Z"
   },
   {
    "duration": -57,
    "start_time": "2022-02-12T10:51:42.157Z"
   },
   {
    "duration": -66,
    "start_time": "2022-02-12T10:51:42.167Z"
   },
   {
    "duration": -67,
    "start_time": "2022-02-12T10:51:42.170Z"
   },
   {
    "duration": -68,
    "start_time": "2022-02-12T10:51:42.172Z"
   },
   {
    "duration": -71,
    "start_time": "2022-02-12T10:51:42.176Z"
   },
   {
    "duration": 22,
    "start_time": "2022-02-12T10:52:33.623Z"
   },
   {
    "duration": 21,
    "start_time": "2022-02-12T10:56:24.217Z"
   },
   {
    "duration": 1504,
    "start_time": "2022-06-24T15:52:35.756Z"
   },
   {
    "duration": 399,
    "start_time": "2022-06-24T15:52:37.262Z"
   },
   {
    "duration": 14,
    "start_time": "2022-06-24T15:52:37.663Z"
   },
   {
    "duration": 12,
    "start_time": "2022-06-24T15:52:37.680Z"
   },
   {
    "duration": 15,
    "start_time": "2022-06-24T15:52:37.694Z"
   },
   {
    "duration": 49,
    "start_time": "2022-06-24T15:52:37.710Z"
   },
   {
    "duration": 149,
    "start_time": "2022-06-24T15:52:37.761Z"
   },
   {
    "duration": 19,
    "start_time": "2022-06-24T15:52:37.912Z"
   },
   {
    "duration": 29,
    "start_time": "2022-06-24T15:52:37.933Z"
   },
   {
    "duration": 16,
    "start_time": "2022-06-24T15:52:37.965Z"
   },
   {
    "duration": 6,
    "start_time": "2022-06-24T15:52:37.983Z"
   },
   {
    "duration": 534,
    "start_time": "2022-06-24T15:52:37.990Z"
   },
   {
    "duration": 6389,
    "start_time": "2022-06-24T15:52:38.526Z"
   },
   {
    "duration": 7462,
    "start_time": "2022-06-24T15:52:44.917Z"
   },
   {
    "duration": 76,
    "start_time": "2022-06-24T15:52:52.380Z"
   },
   {
    "duration": 196,
    "start_time": "2022-06-24T15:52:52.458Z"
   },
   {
    "duration": 110,
    "start_time": "2022-06-24T15:52:52.657Z"
   },
   {
    "duration": 1119,
    "start_time": "2022-06-24T15:52:52.769Z"
   },
   {
    "duration": 2569,
    "start_time": "2022-06-24T15:52:53.890Z"
   },
   {
    "duration": 2546,
    "start_time": "2022-06-24T15:52:56.460Z"
   },
   {
    "duration": 54,
    "start_time": "2022-06-24T15:52:59.007Z"
   },
   {
    "duration": 9,
    "start_time": "2022-06-24T15:52:59.154Z"
   },
   {
    "duration": 43,
    "start_time": "2022-06-24T15:52:59.165Z"
   },
   {
    "duration": 143,
    "start_time": "2022-06-24T15:52:59.210Z"
   },
   {
    "duration": 261,
    "start_time": "2022-06-24T15:52:59.356Z"
   }
  ],
  "kernelspec": {
   "display_name": "Python 3 (ipykernel)",
   "language": "python",
   "name": "python3"
  },
  "language_info": {
   "codemirror_mode": {
    "name": "ipython",
    "version": 3
   },
   "file_extension": ".py",
   "mimetype": "text/x-python",
   "name": "python",
   "nbconvert_exporter": "python",
   "pygments_lexer": "ipython3",
   "version": "3.9.5"
  },
  "toc": {
   "base_numbering": 1,
   "nav_menu": {},
   "number_sections": true,
   "sideBar": true,
   "skip_h1_title": true,
   "title_cell": "Содержание",
   "title_sidebar": "Contents",
   "toc_cell": true,
   "toc_position": {},
   "toc_section_display": true,
   "toc_window_display": true
  }
 },
 "nbformat": 4,
 "nbformat_minor": 2
}
