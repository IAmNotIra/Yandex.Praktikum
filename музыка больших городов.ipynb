{
 "cells": [
  {
   "cell_type": "markdown",
   "metadata": {
    "id": "E0vqbgi9ay0H"
   },
   "source": [
    "# Яндекс.Музыка"
   ]
  },
  {
   "cell_type": "markdown",
   "metadata": {
    "id": "VUC88oWjTJw2"
   },
   "source": [
    "Сравнение Москвы и Петербурга окружено мифами. Например:\n",
    " * Москва — мегаполис, подчинённый жёсткому ритму рабочей недели;\n",
    " * Петербург — культурная столица, со своими вкусами.\n",
    "\n",
    "На данных Яндекс.Музыки вы сравните поведение пользователей двух столиц.\n",
    "\n",
    "**Цель исследования** — проверьте три гипотезы:\n",
    "1. Активность пользователей зависит от дня недели. Причём в Москве и Петербурге это проявляется по-разному.\n",
    "2. В понедельник утром в Москве преобладают одни жанры, а в Петербурге — другие. Так же и вечером пятницы преобладают разные жанры — в зависимости от города. \n",
    "3. Москва и Петербург предпочитают разные жанры музыки. В Москве чаще слушают поп-музыку, в Петербурге — русский рэп.\n",
    "\n",
    "**Ход исследования**\n",
    "\n",
    "Данные о поведении пользователей вы получите из файла `yandex_music_project.csv`. О качестве данных ничего не известно. Поэтому перед проверкой гипотез понадобится обзор данных. \n",
    "\n",
    "Вы проверите данные на ошибки и оцените их влияние на исследование. Затем, на этапе предобработки вы поищете возможность исправить самые критичные ошибки данных.\n",
    " \n",
    "Таким образом, исследование пройдёт в три этапа:\n",
    " 1. Обзор данных.\n",
    " 2. Предобработка данных.\n",
    " 3. Проверка гипотез.\n",
    "\n"
   ]
  },
  {
   "cell_type": "markdown",
   "metadata": {
    "id": "Ml1hmfXC_Zcs"
   },
   "source": [
    "## Обзор данных\n",
    "\n",
    "Составьте первое представление о данных Яндекс.Музыки.\n",
    "\n",
    "\n"
   ]
  },
  {
   "cell_type": "markdown",
   "metadata": {
    "id": "57eAOGIz_Zcs"
   },
   "source": [
    "Основной инструмент аналитика — `pandas`. Импортируйте эту библиотеку."
   ]
  },
  {
   "cell_type": "code",
   "execution_count": 1,
   "metadata": {
    "id": "AXN7PHPN_Zcs"
   },
   "outputs": [],
   "source": [
    "import pandas as pd # импорт библиотеки pandas"
   ]
  },
  {
   "cell_type": "markdown",
   "metadata": {
    "id": "SG23P8tt_Zcs"
   },
   "source": [
    "Прочитайте файл `yandex_music_project.csv` из папки `/datasets` и сохраните его в переменной `df`:"
   ]
  },
  {
   "cell_type": "code",
   "execution_count": 2,
   "metadata": {
    "id": "fFVu7vqh_Zct"
   },
   "outputs": [],
   "source": [
    "df = pd.read_csv('/datasets/yandex_music_project.csv') # чтение файла с данными и сохранение в df"
   ]
  },
  {
   "cell_type": "markdown",
   "metadata": {
    "id": "rDoOMd3uTqnZ"
   },
   "source": [
    "Выведите на экран первые десять строк таблицы:"
   ]
  },
  {
   "cell_type": "code",
   "execution_count": 3,
   "metadata": {
    "id": "oWTVX3gW_Zct"
   },
   "outputs": [
    {
     "data": {
      "text/html": [
       "<div>\n",
       "<style scoped>\n",
       "    .dataframe tbody tr th:only-of-type {\n",
       "        vertical-align: middle;\n",
       "    }\n",
       "\n",
       "    .dataframe tbody tr th {\n",
       "        vertical-align: top;\n",
       "    }\n",
       "\n",
       "    .dataframe thead th {\n",
       "        text-align: right;\n",
       "    }\n",
       "</style>\n",
       "<table border=\"1\" class=\"dataframe\">\n",
       "  <thead>\n",
       "    <tr style=\"text-align: right;\">\n",
       "      <th></th>\n",
       "      <th>userID</th>\n",
       "      <th>Track</th>\n",
       "      <th>artist</th>\n",
       "      <th>genre</th>\n",
       "      <th>City</th>\n",
       "      <th>time</th>\n",
       "      <th>Day</th>\n",
       "    </tr>\n",
       "  </thead>\n",
       "  <tbody>\n",
       "    <tr>\n",
       "      <th>0</th>\n",
       "      <td>FFB692EC</td>\n",
       "      <td>Kamigata To Boots</td>\n",
       "      <td>The Mass Missile</td>\n",
       "      <td>rock</td>\n",
       "      <td>Saint-Petersburg</td>\n",
       "      <td>20:28:33</td>\n",
       "      <td>Wednesday</td>\n",
       "    </tr>\n",
       "    <tr>\n",
       "      <th>1</th>\n",
       "      <td>55204538</td>\n",
       "      <td>Delayed Because of Accident</td>\n",
       "      <td>Andreas Rönnberg</td>\n",
       "      <td>rock</td>\n",
       "      <td>Moscow</td>\n",
       "      <td>14:07:09</td>\n",
       "      <td>Friday</td>\n",
       "    </tr>\n",
       "    <tr>\n",
       "      <th>2</th>\n",
       "      <td>20EC38</td>\n",
       "      <td>Funiculì funiculà</td>\n",
       "      <td>Mario Lanza</td>\n",
       "      <td>pop</td>\n",
       "      <td>Saint-Petersburg</td>\n",
       "      <td>20:58:07</td>\n",
       "      <td>Wednesday</td>\n",
       "    </tr>\n",
       "    <tr>\n",
       "      <th>3</th>\n",
       "      <td>A3DD03C9</td>\n",
       "      <td>Dragons in the Sunset</td>\n",
       "      <td>Fire + Ice</td>\n",
       "      <td>folk</td>\n",
       "      <td>Saint-Petersburg</td>\n",
       "      <td>08:37:09</td>\n",
       "      <td>Monday</td>\n",
       "    </tr>\n",
       "    <tr>\n",
       "      <th>4</th>\n",
       "      <td>E2DC1FAE</td>\n",
       "      <td>Soul People</td>\n",
       "      <td>Space Echo</td>\n",
       "      <td>dance</td>\n",
       "      <td>Moscow</td>\n",
       "      <td>08:34:34</td>\n",
       "      <td>Monday</td>\n",
       "    </tr>\n",
       "    <tr>\n",
       "      <th>5</th>\n",
       "      <td>842029A1</td>\n",
       "      <td>Преданная</td>\n",
       "      <td>IMPERVTOR</td>\n",
       "      <td>rusrap</td>\n",
       "      <td>Saint-Petersburg</td>\n",
       "      <td>13:09:41</td>\n",
       "      <td>Friday</td>\n",
       "    </tr>\n",
       "    <tr>\n",
       "      <th>6</th>\n",
       "      <td>4CB90AA5</td>\n",
       "      <td>True</td>\n",
       "      <td>Roman Messer</td>\n",
       "      <td>dance</td>\n",
       "      <td>Moscow</td>\n",
       "      <td>13:00:07</td>\n",
       "      <td>Wednesday</td>\n",
       "    </tr>\n",
       "    <tr>\n",
       "      <th>7</th>\n",
       "      <td>F03E1C1F</td>\n",
       "      <td>Feeling This Way</td>\n",
       "      <td>Polina Griffith</td>\n",
       "      <td>dance</td>\n",
       "      <td>Moscow</td>\n",
       "      <td>20:47:49</td>\n",
       "      <td>Wednesday</td>\n",
       "    </tr>\n",
       "    <tr>\n",
       "      <th>8</th>\n",
       "      <td>8FA1D3BE</td>\n",
       "      <td>И вновь продолжается бой</td>\n",
       "      <td>NaN</td>\n",
       "      <td>ruspop</td>\n",
       "      <td>Moscow</td>\n",
       "      <td>09:17:40</td>\n",
       "      <td>Friday</td>\n",
       "    </tr>\n",
       "    <tr>\n",
       "      <th>9</th>\n",
       "      <td>E772D5C0</td>\n",
       "      <td>Pessimist</td>\n",
       "      <td>NaN</td>\n",
       "      <td>dance</td>\n",
       "      <td>Saint-Petersburg</td>\n",
       "      <td>21:20:49</td>\n",
       "      <td>Wednesday</td>\n",
       "    </tr>\n",
       "  </tbody>\n",
       "</table>\n",
       "</div>"
      ],
      "text/plain": [
       "     userID                        Track            artist   genre  \\\n",
       "0  FFB692EC            Kamigata To Boots  The Mass Missile    rock   \n",
       "1  55204538  Delayed Because of Accident  Andreas Rönnberg    rock   \n",
       "2    20EC38            Funiculì funiculà       Mario Lanza     pop   \n",
       "3  A3DD03C9        Dragons in the Sunset        Fire + Ice    folk   \n",
       "4  E2DC1FAE                  Soul People        Space Echo   dance   \n",
       "5  842029A1                    Преданная         IMPERVTOR  rusrap   \n",
       "6  4CB90AA5                         True      Roman Messer   dance   \n",
       "7  F03E1C1F             Feeling This Way   Polina Griffith   dance   \n",
       "8  8FA1D3BE     И вновь продолжается бой               NaN  ruspop   \n",
       "9  E772D5C0                    Pessimist               NaN   dance   \n",
       "\n",
       "             City        time        Day  \n",
       "0  Saint-Petersburg  20:28:33  Wednesday  \n",
       "1            Moscow  14:07:09     Friday  \n",
       "2  Saint-Petersburg  20:58:07  Wednesday  \n",
       "3  Saint-Petersburg  08:37:09     Monday  \n",
       "4            Moscow  08:34:34     Monday  \n",
       "5  Saint-Petersburg  13:09:41     Friday  \n",
       "6            Moscow  13:00:07  Wednesday  \n",
       "7            Moscow  20:47:49  Wednesday  \n",
       "8            Moscow  09:17:40     Friday  \n",
       "9  Saint-Petersburg  21:20:49  Wednesday  "
      ]
     },
     "execution_count": 3,
     "metadata": {},
     "output_type": "execute_result"
    }
   ],
   "source": [
    "df.head(10) # получение первых 10 строк таблицы df"
   ]
  },
  {
   "cell_type": "markdown",
   "metadata": {
    "id": "EO73Kwic_Zct"
   },
   "source": [
    "Одной командой получить общую информацию о таблице:"
   ]
  },
  {
   "cell_type": "code",
   "execution_count": 4,
   "metadata": {
    "id": "DSf2kIb-_Zct"
   },
   "outputs": [
    {
     "name": "stdout",
     "output_type": "stream",
     "text": [
      "<class 'pandas.core.frame.DataFrame'>\n",
      "RangeIndex: 65079 entries, 0 to 65078\n",
      "Data columns (total 7 columns):\n",
      " #   Column    Non-Null Count  Dtype \n",
      "---  ------    --------------  ----- \n",
      " 0     userID  65079 non-null  object\n",
      " 1   Track     63848 non-null  object\n",
      " 2   artist    57876 non-null  object\n",
      " 3   genre     63881 non-null  object\n",
      " 4     City    65079 non-null  object\n",
      " 5   time      65079 non-null  object\n",
      " 6   Day       65079 non-null  object\n",
      "dtypes: object(7)\n",
      "memory usage: 3.5+ MB\n"
     ]
    }
   ],
   "source": [
    "df.info() # получение общей информации о данных в таблице df"
   ]
  },
  {
   "cell_type": "markdown",
   "metadata": {
    "id": "TaQ2Iwbr_Zct"
   },
   "source": [
    "Итак, в таблице семь столбцов. Тип данных во всех столбцах — `object`.\n",
    "\n",
    "Согласно документации к данным:\n",
    "* `userID` — идентификатор пользователя;\n",
    "* `Track` — название трека;  \n",
    "* `artist` — имя исполнителя;\n",
    "* `genre` — название жанра;\n",
    "* `City` — город пользователя;\n",
    "* `time` — время начала прослушивания;\n",
    "* `Day` — день недели.\n",
    "\n",
    "В названиях колонок видны три нарушения стиля:\n",
    "1. Строчные буквы сочетаются с прописными.\n",
    "2. Встречаются пробелы.\n",
    "3. Отсутствие змеиного регистра.\n",
    "\n",
    "\n",
    "Количество значений в столбцах различается. Значит, в данных есть пропущенные значения.\n"
   ]
  },
  {
   "cell_type": "markdown",
   "metadata": {
    "id": "MCB6-dXG_Zct"
   },
   "source": [
    "**Выводы**\n",
    "\n",
    "В каждой строке таблицы — данные о прослушанном треке. Часть колонок описывает саму композицию: название, исполнителя и жанр. Остальные данные рассказывают о пользователе: из какого он города, когда он слушал музыку. \n",
    "\n",
    "Предварительно можно утверждать, что, данных достаточно для проверки гипотез. Но встречаются пропуски в данных, а в названиях колонок — расхождения с хорошим стилем.\n",
    "\n",
    "Чтобы двигаться дальше, нужно устранить проблемы в данных."
   ]
  },
  {
   "cell_type": "markdown",
   "metadata": {
    "id": "SjYF6Ub9_Zct"
   },
   "source": [
    "## Предобработка данных\n",
    "Исправьте стиль в заголовках столбцов, исключите пропуски. Затем проверьте данные на дубликаты."
   ]
  },
  {
   "cell_type": "markdown",
   "metadata": {
    "id": "dIaKXr29_Zct"
   },
   "source": [
    "### Стиль заголовков\n",
    "Выведите на экран названия столбцов:"
   ]
  },
  {
   "cell_type": "code",
   "execution_count": 5,
   "metadata": {
    "id": "oKOTdF_Q_Zct"
   },
   "outputs": [
    {
     "data": {
      "text/plain": [
       "Index(['  userID', 'Track', 'artist', 'genre', '  City  ', 'time', 'Day'], dtype='object')"
      ]
     },
     "execution_count": 5,
     "metadata": {},
     "output_type": "execute_result"
    }
   ],
   "source": [
    "df.columns # перечень названий столбцов таблицы df"
   ]
  },
  {
   "cell_type": "markdown",
   "metadata": {
    "id": "FPZA3ki8xe7T"
   },
   "source": []
  },
  {
   "cell_type": "markdown",
   "metadata": {
    "id": "zj5534cv_Zct"
   },
   "source": [
    "Приведите названия в соответствие с хорошим стилем:\n",
    "* несколько слов в названии запишите в «змеином_регистре»,\n",
    "* все символы сделайте строчными,\n",
    "* устраните пробелы.\n",
    "\n",
    "Для этого переименуйте колонки так:\n",
    "* `'  userID'` → `'user_id'`;\n",
    "* `'Track'` → `'track'`;\n",
    "* `'  City  '` → `'city'`;\n",
    "* `'Day'` → `'day'`."
   ]
  },
  {
   "cell_type": "code",
   "execution_count": 6,
   "metadata": {
    "id": "ISlFqs5y_Zct"
   },
   "outputs": [],
   "source": [
    "df = df.rename(columns={'  userID':'user_id','Track':'track', '  City  ':'city', 'Day':'day'}) # переименование столбцов"
   ]
  },
  {
   "cell_type": "markdown",
   "metadata": {
    "id": "1dqbh00J_Zct"
   },
   "source": [
    "Проверьте результат. Для этого ещё раз выведите на экран названия столбцов:"
   ]
  },
  {
   "cell_type": "code",
   "execution_count": 7,
   "metadata": {
    "id": "d4NOAmTW_Zct"
   },
   "outputs": [
    {
     "data": {
      "text/plain": [
       "Index(['user_id', 'track', 'artist', 'genre', 'city', 'time', 'day'], dtype='object')"
      ]
     },
     "execution_count": 7,
     "metadata": {},
     "output_type": "execute_result"
    }
   ],
   "source": [
    "df.columns # проверка результатов - перечень названий столбцов"
   ]
  },
  {
   "cell_type": "markdown",
   "metadata": {
    "id": "5ISfbcfY_Zct"
   },
   "source": [
    "### Пропуски значений\n",
    "Сначала посчитайте, сколько в таблице пропущенных значений. Для этого достаточно двух методов `pandas`:"
   ]
  },
  {
   "cell_type": "code",
   "execution_count": 8,
   "metadata": {
    "id": "RskX29qr_Zct"
   },
   "outputs": [
    {
     "data": {
      "text/plain": [
       "user_id       0\n",
       "track      1231\n",
       "artist     7203\n",
       "genre      1198\n",
       "city          0\n",
       "time          0\n",
       "day           0\n",
       "dtype: int64"
      ]
     },
     "execution_count": 8,
     "metadata": {},
     "output_type": "execute_result"
    }
   ],
   "source": [
    "df.isna().sum() # подсчёт пропусков"
   ]
  },
  {
   "cell_type": "markdown",
   "metadata": {
    "id": "qubhgnlO_Zct"
   },
   "source": [
    "Не все пропущенные значения влияют на исследование. Так в `track` и `artist` пропуски не важны для вашей работы. Достаточно заменить их явными обозначениями.\n",
    "\n",
    "Но пропуски в `genre` могут помешать сравнению музыкальных вкусов в Москве и Санкт-Петербурге. На практике было бы правильно установить причину пропусков и восстановить данные. Такой возможности нет в учебном проекте. Придётся:\n",
    "* заполнить и эти пропуски явными обозначениями,\n",
    "* оценить, насколько они повредят расчётам. "
   ]
  },
  {
   "cell_type": "markdown",
   "metadata": {
    "id": "fSv2laPA_Zct"
   },
   "source": [
    "Замените пропущенные значения в столбцах `track`, `artist` и `genre` на строку `'unknown'`. Для этого создайте список `columns_to_replace`, переберите его элементы циклом `for` и для каждого столбца выполните замену пропущенных значений:"
   ]
  },
  {
   "cell_type": "code",
   "execution_count": 9,
   "metadata": {
    "id": "KplB5qWs_Zct"
   },
   "outputs": [],
   "source": [
    "columns_to_replace = ['track', 'artist','genre']\n",
    "for column in columns_to_replace:\n",
    "    df[column] = df[column].fillna('unknown') # перебор названий столбцов в цикле и замена пропущенных значений на 'unknown'"
   ]
  },
  {
   "cell_type": "markdown",
   "metadata": {
    "id": "Ilsm-MZo_Zct"
   },
   "source": [
    "Убедитесь, что в таблице не осталось пропусков. Для этого ещё раз посчитайте пропущенные значения."
   ]
  },
  {
   "cell_type": "code",
   "execution_count": 10,
   "metadata": {
    "id": "Tq4nYRX4_Zct"
   },
   "outputs": [
    {
     "data": {
      "text/plain": [
       "user_id    0\n",
       "track      0\n",
       "artist     0\n",
       "genre      0\n",
       "city       0\n",
       "time       0\n",
       "day        0\n",
       "dtype: int64"
      ]
     },
     "execution_count": 10,
     "metadata": {},
     "output_type": "execute_result"
    }
   ],
   "source": [
    "df.isna().sum() # подсчёт пропусков"
   ]
  },
  {
   "cell_type": "markdown",
   "metadata": {
    "id": "BWKRtBJ3_Zct"
   },
   "source": [
    "### Дубликаты\n",
    "Посчитайте явные дубликаты в таблице одной командой:"
   ]
  },
  {
   "cell_type": "code",
   "execution_count": 11,
   "metadata": {
    "id": "36eES_S0_Zct"
   },
   "outputs": [
    {
     "data": {
      "text/plain": [
       "3826"
      ]
     },
     "execution_count": 11,
     "metadata": {},
     "output_type": "execute_result"
    }
   ],
   "source": [
    "df.duplicated().sum() # подсчёт явных дубликатов"
   ]
  },
  {
   "cell_type": "markdown",
   "metadata": {
    "id": "Ot25h6XR_Zct"
   },
   "source": [
    "Вызовите специальный метод `pandas`, чтобы удалить явные дубликаты:"
   ]
  },
  {
   "cell_type": "code",
   "execution_count": 12,
   "metadata": {
    "id": "exFHq6tt_Zct"
   },
   "outputs": [],
   "source": [
    "df = df.drop_duplicates().reset_index(drop=True) # удаление явных дубликатов (с удалением старых индексов и формированием новых)"
   ]
  },
  {
   "cell_type": "markdown",
   "metadata": {
    "id": "Im2YwBEG_Zct"
   },
   "source": [
    "Ещё раз посчитайте явные дубликаты в таблице — убедитесь, что полностью от них избавились:"
   ]
  },
  {
   "cell_type": "code",
   "execution_count": 13,
   "metadata": {
    "id": "-8PuNWQ0_Zct"
   },
   "outputs": [
    {
     "data": {
      "text/plain": [
       "0"
      ]
     },
     "execution_count": 13,
     "metadata": {},
     "output_type": "execute_result"
    }
   ],
   "source": [
    "df.duplicated().sum() # проверка на отсутствие дубликатов"
   ]
  },
  {
   "cell_type": "markdown",
   "metadata": {
    "id": "QlFBsxAr_Zct"
   },
   "source": [
    "Теперь избавьтесь от неявных дубликатов в колонке `genre`. Например, название одного и того же жанра может быть записано немного по-разному. Такие ошибки тоже повлияют на результат исследования."
   ]
  },
  {
   "cell_type": "markdown",
   "metadata": {
    "id": "eSjWwsOh_Zct"
   },
   "source": [
    "Выведите на экран список уникальных названий жанров, отсортированный в алфавитном порядке. Для этого:\n",
    "* извлеките нужный столбец датафрейма, \n",
    "* примените к нему метод сортировки,\n",
    "* для отсортированного столбца вызовите метод, который вернёт уникальные значения из столбца."
   ]
  },
  {
   "cell_type": "code",
   "execution_count": 14,
   "metadata": {
    "id": "JIUcqzZN_Zct"
   },
   "outputs": [
    {
     "data": {
      "text/plain": [
       "array(['acid', 'acoustic', 'action', 'adult', 'africa', 'afrikaans',\n",
       "       'alternative', 'alternativepunk', 'ambient', 'americana',\n",
       "       'animated', 'anime', 'arabesk', 'arabic', 'arena',\n",
       "       'argentinetango', 'art', 'audiobook', 'author', 'avantgarde',\n",
       "       'axé', 'baile', 'balkan', 'beats', 'bigroom', 'black', 'bluegrass',\n",
       "       'blues', 'bollywood', 'bossa', 'brazilian', 'breakbeat', 'breaks',\n",
       "       'broadway', 'cantautori', 'cantopop', 'canzone', 'caribbean',\n",
       "       'caucasian', 'celtic', 'chamber', 'chanson', 'children', 'chill',\n",
       "       'chinese', 'choral', 'christian', 'christmas', 'classical',\n",
       "       'classicmetal', 'club', 'colombian', 'comedy', 'conjazz',\n",
       "       'contemporary', 'country', 'cuban', 'dance', 'dancehall',\n",
       "       'dancepop', 'dark', 'death', 'deep', 'deutschrock', 'deutschspr',\n",
       "       'dirty', 'disco', 'dnb', 'documentary', 'downbeat', 'downtempo',\n",
       "       'drum', 'dub', 'dubstep', 'eastern', 'easy', 'electronic',\n",
       "       'electropop', 'emo', 'entehno', 'epicmetal', 'estrada', 'ethnic',\n",
       "       'eurofolk', 'european', 'experimental', 'extrememetal', 'fado',\n",
       "       'fairytail', 'film', 'fitness', 'flamenco', 'folk', 'folklore',\n",
       "       'folkmetal', 'folkrock', 'folktronica', 'forró', 'frankreich',\n",
       "       'französisch', 'french', 'funk', 'future', 'gangsta', 'garage',\n",
       "       'german', 'ghazal', 'gitarre', 'glitch', 'gospel', 'gothic',\n",
       "       'grime', 'grunge', 'gypsy', 'handsup', \"hard'n'heavy\", 'hardcore',\n",
       "       'hardstyle', 'hardtechno', 'hip', 'hip-hop', 'hiphop',\n",
       "       'historisch', 'holiday', 'hop', 'horror', 'house', 'hymn', 'idm',\n",
       "       'independent', 'indian', 'indie', 'indipop', 'industrial',\n",
       "       'inspirational', 'instrumental', 'international', 'irish', 'jam',\n",
       "       'japanese', 'jazz', 'jewish', 'jpop', 'jungle', 'k-pop',\n",
       "       'karadeniz', 'karaoke', 'kayokyoku', 'korean', 'laiko', 'latin',\n",
       "       'latino', 'leftfield', 'local', 'lounge', 'loungeelectronic',\n",
       "       'lovers', 'malaysian', 'mandopop', 'marschmusik', 'meditative',\n",
       "       'mediterranean', 'melodic', 'metal', 'metalcore', 'mexican',\n",
       "       'middle', 'minimal', 'miscellaneous', 'modern', 'mood', 'mpb',\n",
       "       'muslim', 'native', 'neoklassik', 'neue', 'new', 'newage',\n",
       "       'newwave', 'nu', 'nujazz', 'numetal', 'oceania', 'old', 'opera',\n",
       "       'orchestral', 'other', 'piano', 'podcasts', 'pop', 'popdance',\n",
       "       'popelectronic', 'popeurodance', 'poprussian', 'post',\n",
       "       'posthardcore', 'postrock', 'power', 'progmetal', 'progressive',\n",
       "       'psychedelic', 'punjabi', 'punk', 'quebecois', 'ragga', 'ram',\n",
       "       'rancheras', 'rap', 'rave', 'reggae', 'reggaeton', 'regional',\n",
       "       'relax', 'religious', 'retro', 'rhythm', 'rnb', 'rnr', 'rock',\n",
       "       'rockabilly', 'rockalternative', 'rockindie', 'rockother',\n",
       "       'romance', 'roots', 'ruspop', 'rusrap', 'rusrock', 'russian',\n",
       "       'salsa', 'samba', 'scenic', 'schlager', 'self', 'sertanejo',\n",
       "       'shanson', 'shoegazing', 'showtunes', 'singer', 'ska', 'skarock',\n",
       "       'slow', 'smooth', 'soft', 'soul', 'soulful', 'sound', 'soundtrack',\n",
       "       'southern', 'specialty', 'speech', 'spiritual', 'sport',\n",
       "       'stonerrock', 'surf', 'swing', 'synthpop', 'synthrock',\n",
       "       'sängerportrait', 'tango', 'tanzorchester', 'taraftar', 'tatar',\n",
       "       'tech', 'techno', 'teen', 'thrash', 'top', 'traditional',\n",
       "       'tradjazz', 'trance', 'tribal', 'trip', 'triphop', 'tropical',\n",
       "       'türk', 'türkçe', 'ukrrock', 'unknown', 'urban', 'uzbek',\n",
       "       'variété', 'vi', 'videogame', 'vocal', 'western', 'world',\n",
       "       'worldbeat', 'ïîï', 'электроника'], dtype=object)"
      ]
     },
     "execution_count": 14,
     "metadata": {},
     "output_type": "execute_result"
    }
   ],
   "source": [
    "df.sort_values('genre')['genre'].unique()\n",
    " # Просмотр уникальных названий жанров"
   ]
  },
  {
   "cell_type": "markdown",
   "metadata": {
    "id": "qej-Qmuo_Zct"
   },
   "source": [
    "Просмотрите список и найдите неявные дубликаты названия `hiphop`. Это могут быть названия с ошибками или альтернативные названия того же жанра.\n",
    "\n",
    "Вы увидите следующие неявные дубликаты:\n",
    "* *hip*,\n",
    "* *hop*,\n",
    "* *hip-hop*.\n",
    "\n",
    "Чтобы очистить от них таблицу, напишите функцию `replace_wrong_genres()` с двумя параметрами: \n",
    "* `wrong_genres` — список дубликатов,\n",
    "* `correct_genre` — строка с правильным значением.\n",
    "\n",
    "Функция должна исправить колонку `genre` в таблице `df`: заменить каждое значение из списка `wrong_genres` на значение из `correct_genre`."
   ]
  },
  {
   "cell_type": "code",
   "execution_count": 15,
   "metadata": {
    "id": "ErNDkmns_Zct"
   },
   "outputs": [],
   "source": [
    "def replace_wrong_genres(wrong_genres, correct_genre):\n",
    "    df['genre'] = df['genre'].replace(wrong_genres, correct_genre) # Функция для замены неявных дубликатов"
   ]
  },
  {
   "cell_type": "markdown",
   "metadata": {
    "id": "aDoBJxbA_Zct"
   },
   "source": [
    "Вызовите `replace_wrong_genres()` и передайте ей такие аргументы, чтобы она устранила неявные дубликаты: вместо `hip`, `hop` и `hip-hop` в таблице должно быть значение `hiphop`:"
   ]
  },
  {
   "cell_type": "code",
   "execution_count": 16,
   "metadata": {
    "id": "YN5i2hpmSo09"
   },
   "outputs": [],
   "source": [
    "duplicates = ['hip', 'hop', 'hip-hop']\n",
    "name = 'hiphop'\n",
    "replace_wrong_genres(duplicates, name) # Устранение неявных дубликатов"
   ]
  },
  {
   "cell_type": "markdown",
   "metadata": {
    "id": "zQKF16_RG15m"
   },
   "source": [
    "Проверьте, что заменили неправильные названия:\n",
    "\n",
    "*   hip\n",
    "*   hop\n",
    "*   hip-hop\n",
    "\n",
    "Выведите отсортированный список уникальных значений столбца `genre`:"
   ]
  },
  {
   "cell_type": "code",
   "execution_count": 17,
   "metadata": {
    "id": "wvixALnFG15m"
   },
   "outputs": [
    {
     "data": {
      "text/plain": [
       "array(['acid', 'acoustic', 'action', 'adult', 'africa', 'afrikaans',\n",
       "       'alternative', 'alternativepunk', 'ambient', 'americana',\n",
       "       'animated', 'anime', 'arabesk', 'arabic', 'arena',\n",
       "       'argentinetango', 'art', 'audiobook', 'author', 'avantgarde',\n",
       "       'axé', 'baile', 'balkan', 'beats', 'bigroom', 'black', 'bluegrass',\n",
       "       'blues', 'bollywood', 'bossa', 'brazilian', 'breakbeat', 'breaks',\n",
       "       'broadway', 'cantautori', 'cantopop', 'canzone', 'caribbean',\n",
       "       'caucasian', 'celtic', 'chamber', 'chanson', 'children', 'chill',\n",
       "       'chinese', 'choral', 'christian', 'christmas', 'classical',\n",
       "       'classicmetal', 'club', 'colombian', 'comedy', 'conjazz',\n",
       "       'contemporary', 'country', 'cuban', 'dance', 'dancehall',\n",
       "       'dancepop', 'dark', 'death', 'deep', 'deutschrock', 'deutschspr',\n",
       "       'dirty', 'disco', 'dnb', 'documentary', 'downbeat', 'downtempo',\n",
       "       'drum', 'dub', 'dubstep', 'eastern', 'easy', 'electronic',\n",
       "       'electropop', 'emo', 'entehno', 'epicmetal', 'estrada', 'ethnic',\n",
       "       'eurofolk', 'european', 'experimental', 'extrememetal', 'fado',\n",
       "       'fairytail', 'film', 'fitness', 'flamenco', 'folk', 'folklore',\n",
       "       'folkmetal', 'folkrock', 'folktronica', 'forró', 'frankreich',\n",
       "       'französisch', 'french', 'funk', 'future', 'gangsta', 'garage',\n",
       "       'german', 'ghazal', 'gitarre', 'glitch', 'gospel', 'gothic',\n",
       "       'grime', 'grunge', 'gypsy', 'handsup', \"hard'n'heavy\", 'hardcore',\n",
       "       'hardstyle', 'hardtechno', 'hiphop', 'historisch', 'holiday',\n",
       "       'horror', 'house', 'hymn', 'idm', 'independent', 'indian', 'indie',\n",
       "       'indipop', 'industrial', 'inspirational', 'instrumental',\n",
       "       'international', 'irish', 'jam', 'japanese', 'jazz', 'jewish',\n",
       "       'jpop', 'jungle', 'k-pop', 'karadeniz', 'karaoke', 'kayokyoku',\n",
       "       'korean', 'laiko', 'latin', 'latino', 'leftfield', 'local',\n",
       "       'lounge', 'loungeelectronic', 'lovers', 'malaysian', 'mandopop',\n",
       "       'marschmusik', 'meditative', 'mediterranean', 'melodic', 'metal',\n",
       "       'metalcore', 'mexican', 'middle', 'minimal', 'miscellaneous',\n",
       "       'modern', 'mood', 'mpb', 'muslim', 'native', 'neoklassik', 'neue',\n",
       "       'new', 'newage', 'newwave', 'nu', 'nujazz', 'numetal', 'oceania',\n",
       "       'old', 'opera', 'orchestral', 'other', 'piano', 'podcasts', 'pop',\n",
       "       'popdance', 'popelectronic', 'popeurodance', 'poprussian', 'post',\n",
       "       'posthardcore', 'postrock', 'power', 'progmetal', 'progressive',\n",
       "       'psychedelic', 'punjabi', 'punk', 'quebecois', 'ragga', 'ram',\n",
       "       'rancheras', 'rap', 'rave', 'reggae', 'reggaeton', 'regional',\n",
       "       'relax', 'religious', 'retro', 'rhythm', 'rnb', 'rnr', 'rock',\n",
       "       'rockabilly', 'rockalternative', 'rockindie', 'rockother',\n",
       "       'romance', 'roots', 'ruspop', 'rusrap', 'rusrock', 'russian',\n",
       "       'salsa', 'samba', 'scenic', 'schlager', 'self', 'sertanejo',\n",
       "       'shanson', 'shoegazing', 'showtunes', 'singer', 'ska', 'skarock',\n",
       "       'slow', 'smooth', 'soft', 'soul', 'soulful', 'sound', 'soundtrack',\n",
       "       'southern', 'specialty', 'speech', 'spiritual', 'sport',\n",
       "       'stonerrock', 'surf', 'swing', 'synthpop', 'synthrock',\n",
       "       'sängerportrait', 'tango', 'tanzorchester', 'taraftar', 'tatar',\n",
       "       'tech', 'techno', 'teen', 'thrash', 'top', 'traditional',\n",
       "       'tradjazz', 'trance', 'tribal', 'trip', 'triphop', 'tropical',\n",
       "       'türk', 'türkçe', 'ukrrock', 'unknown', 'urban', 'uzbek',\n",
       "       'variété', 'vi', 'videogame', 'vocal', 'western', 'world',\n",
       "       'worldbeat', 'ïîï', 'электроника'], dtype=object)"
      ]
     },
     "execution_count": 17,
     "metadata": {},
     "output_type": "execute_result"
    }
   ],
   "source": [
    "df.sort_values('genre')['genre'].unique() # Проверка на неявные дубликаты"
   ]
  },
  {
   "cell_type": "markdown",
   "metadata": {
    "id": "jz6a9-7HQUDd"
   },
   "source": [
    "**Выводы**\n",
    "\n",
    "Предобработка обнаружила три проблемы в данных:\n",
    "\n",
    "- нарушения в стиле заголовков,\n",
    "- пропущенные значения,\n",
    "- дубликаты — явные и неявные.\n",
    "\n",
    "Вы исправили заголовки, чтобы упростить работу с таблицей. Без дубликатов исследование станет более точным.\n",
    "\n",
    "Пропущенные значения вы заменили на `'unknown'`. Ещё предстоит увидеть, не повредят ли исследованию пропуски в колонке `genre`.\n",
    "\n",
    "Теперь можно перейти к проверке гипотез. "
   ]
  },
  {
   "cell_type": "markdown",
   "metadata": {
    "id": "WttZHXH0SqKk"
   },
   "source": [
    "## Проверка гипотез"
   ]
  },
  {
   "cell_type": "markdown",
   "metadata": {
    "id": "Im936VVi_Zcu"
   },
   "source": [
    "### Сравнение поведения пользователей двух столиц"
   ]
  },
  {
   "cell_type": "markdown",
   "metadata": {
    "id": "nwt_MuaL_Zcu"
   },
   "source": [
    "Первая гипотеза утверждает, что пользователи по-разному слушают музыку в Москве и Санкт-Петербурге. Проверьте это предположение по данным о трёх днях недели — понедельнике, среде и пятнице. Для этого:\n",
    "\n",
    "* Разделите пользователей Москвы и Санкт-Петербурга\n",
    "* Сравните, сколько треков послушала каждая группа пользователей в понедельник, среду и пятницу.\n"
   ]
  },
  {
   "cell_type": "markdown",
   "metadata": {
    "id": "8Dw_YMmT_Zcu"
   },
   "source": [
    "Для тренировки сначала выполните каждый из расчётов по отдельности. \n",
    "\n",
    "Оцените активность пользователей в каждом городе. Сгруппируйте данные по городу и посчитайте прослушивания в каждой группе.\n",
    "\n"
   ]
  },
  {
   "cell_type": "code",
   "execution_count": 18,
   "metadata": {
    "id": "0_Qs96oh_Zcu"
   },
   "outputs": [
    {
     "data": {
      "text/plain": [
       "city\n",
       "Moscow              42741\n",
       "Saint-Petersburg    18512\n",
       "Name: user_id, dtype: int64"
      ]
     },
     "metadata": {},
     "output_type": "display_data"
    }
   ],
   "source": [
    "display(df.groupby('city')['user_id'].count())\n",
    "#display(city_active)\n",
    "# Подсчёт прослушиваний в каждом городе"
   ]
  },
  {
   "cell_type": "markdown",
   "metadata": {
    "id": "dzli3w8o_Zcu"
   },
   "source": [
    "В Москве прослушиваний больше, чем в Петербурге. Из этого не следует, что московские пользователи чаще слушают музыку. Просто самих пользователей в Москве больше.\n",
    "\n",
    "Теперь сгруппируйте данные по дню недели и подсчитайте прослушивания в понедельник, среду и пятницу. Учтите, что в данных есть информация только о прослушиваниях только за эти дни.\n"
   ]
  },
  {
   "cell_type": "code",
   "execution_count": 19,
   "metadata": {
    "id": "uZMKjiJz_Zcu"
   },
   "outputs": [
    {
     "data": {
      "text/plain": [
       "day\n",
       "Friday       21840\n",
       "Monday       21354\n",
       "Wednesday    18059\n",
       "Name: user_id, dtype: int64"
      ]
     },
     "metadata": {},
     "output_type": "display_data"
    }
   ],
   "source": [
    "display(df.groupby('day')['user_id'].count()) # Подсчёт прослушиваний в каждый из трёх дней"
   ]
  },
  {
   "cell_type": "markdown",
   "metadata": {
    "id": "cC2tNrlL_Zcu"
   },
   "source": [
    "В среднем пользователи из двух городов менее активны по средам. Но картина может измениться, если рассмотреть каждый город в отдельности."
   ]
  },
  {
   "cell_type": "markdown",
   "metadata": {
    "id": "POzs8bGa_Zcu"
   },
   "source": [
    "Вы видели, как работает группировка по городу и по дням недели. Теперь напишите функцию, которая объединит два эти расчёта.\n",
    "\n",
    "Создайте функцию `number_tracks()`, которая посчитает прослушивания для заданного дня и города. Ей понадобятся два параметра:\n",
    "* день недели,\n",
    "* название города.\n",
    "\n",
    "В функции сохраните в переменную строки исходной таблицы, у которых значение:\n",
    "  * в колонке `day` равно параметру `day`,\n",
    "  * в колонке `city` равно параметру `city`.\n",
    "\n",
    "Для этого примените последовательную фильтрацию с логической индексацией.\n",
    "\n",
    "Затем посчитайте значения в столбце `user_id` получившейся таблицы. Результат сохраните в новую переменную. Верните эту переменную из функции."
   ]
  },
  {
   "cell_type": "code",
   "execution_count": 20,
   "metadata": {
    "id": "Nz3GdQB1_Zcu"
   },
   "outputs": [],
   "source": [
    "def number_tracks(day, city):\n",
    "    track_list = df[(df['day'] == day)&(df['city'] == city)]\n",
    "    track_list_count = track_list['user_id'].count()\n",
    "    return track_list_count\n",
    "        \n",
    "# <создание функции number_tracks()>\n",
    "# Объявляется функция с двумя параметрами: day, city.\n",
    "# В переменной track_list сохраняются те строки таблицы df, для которых \n",
    "# значение в столбце 'day' равно параметру day и одновременно значение\n",
    "# в столбце 'city' равно параметру city (используйте последовательную фильтрацию\n",
    "# с помощью логической индексации).\n",
    "# В переменной track_list_count сохраняется число значений столбца 'user_id',\n",
    "# рассчитанное методом count() для таблицы track_list.\n",
    "# Функция возвращает число - значение track_list_count.\n",
    "\n",
    "# Функция для подсчёта прослушиваний для конкретного города и дня.\n",
    "# С помощью последовательной фильтрации с логической индексацией она \n",
    "# сначала получит из исходной таблицы строки с нужным днём,\n",
    "# затем из результата отфильтрует строки с нужным городом,\n",
    "# методом count() посчитает количество значений в колонке user_id. \n",
    "# Это количество функция вернёт в качестве результата"
   ]
  },
  {
   "cell_type": "markdown",
   "metadata": {
    "id": "ytf7xFrFJQ2r"
   },
   "source": [
    "Вызовите `number_tracks()` шесть раз, меняя значение параметров — так, чтобы получить данные для каждого города в каждый из трёх дней."
   ]
  },
  {
   "cell_type": "code",
   "execution_count": 21,
   "metadata": {
    "id": "rJcRATNQ_Zcu"
   },
   "outputs": [
    {
     "data": {
      "text/plain": [
       "15740"
      ]
     },
     "execution_count": 21,
     "metadata": {},
     "output_type": "execute_result"
    }
   ],
   "source": [
    "number_tracks('Monday', 'Moscow') # количество прослушиваний в Москве по понедельникам"
   ]
  },
  {
   "cell_type": "code",
   "execution_count": 22,
   "metadata": {
    "id": "hq_ncZ5T_Zcu"
   },
   "outputs": [
    {
     "data": {
      "text/plain": [
       "5614"
      ]
     },
     "execution_count": 22,
     "metadata": {},
     "output_type": "execute_result"
    }
   ],
   "source": [
    "number_tracks('Monday', 'Saint-Petersburg') # количество прослушиваний в Санкт-Петербурге по понедельникам"
   ]
  },
  {
   "cell_type": "code",
   "execution_count": 23,
   "metadata": {
    "id": "_NTy2VPU_Zcu"
   },
   "outputs": [
    {
     "data": {
      "text/plain": [
       "11056"
      ]
     },
     "execution_count": 23,
     "metadata": {},
     "output_type": "execute_result"
    }
   ],
   "source": [
    "number_tracks('Wednesday', 'Moscow') # количество прослушиваний в Москве по средам"
   ]
  },
  {
   "cell_type": "code",
   "execution_count": 24,
   "metadata": {
    "id": "j2y3TAwo_Zcu"
   },
   "outputs": [
    {
     "data": {
      "text/plain": [
       "7003"
      ]
     },
     "execution_count": 24,
     "metadata": {},
     "output_type": "execute_result"
    }
   ],
   "source": [
    "number_tracks('Wednesday', 'Saint-Petersburg') # количество прослушиваний в Санкт-Петербурге по средам"
   ]
  },
  {
   "cell_type": "code",
   "execution_count": 25,
   "metadata": {
    "id": "vYDw5u_K_Zcu"
   },
   "outputs": [
    {
     "data": {
      "text/plain": [
       "15945"
      ]
     },
     "execution_count": 25,
     "metadata": {},
     "output_type": "execute_result"
    }
   ],
   "source": [
    "number_tracks('Friday', 'Moscow') # количество прослушиваний в Москве по пятницам"
   ]
  },
  {
   "cell_type": "code",
   "execution_count": 26,
   "metadata": {
    "id": "8_yzFtW3_Zcu"
   },
   "outputs": [
    {
     "data": {
      "text/plain": [
       "5895"
      ]
     },
     "execution_count": 26,
     "metadata": {},
     "output_type": "execute_result"
    }
   ],
   "source": [
    "number_tracks('Friday', 'Saint-Petersburg') # количество прослушиваний в Санкт-Петербурге по пятницам"
   ]
  },
  {
   "cell_type": "markdown",
   "metadata": {
    "id": "7QXffbO-_Zcu"
   },
   "source": [
    "Создайте c помощью конструктора `pd.DataFrame` таблицу, где\n",
    "* названия колонок — `['city', 'monday', 'wednesday', 'friday']`;\n",
    "* данные — результаты, которые вы получили с помощью `number_tracks`."
   ]
  },
  {
   "cell_type": "code",
   "execution_count": 27,
   "metadata": {
    "id": "APAcLpOr_Zcu"
   },
   "outputs": [
    {
     "data": {
      "text/html": [
       "<div>\n",
       "<style scoped>\n",
       "    .dataframe tbody tr th:only-of-type {\n",
       "        vertical-align: middle;\n",
       "    }\n",
       "\n",
       "    .dataframe tbody tr th {\n",
       "        vertical-align: top;\n",
       "    }\n",
       "\n",
       "    .dataframe thead th {\n",
       "        text-align: right;\n",
       "    }\n",
       "</style>\n",
       "<table border=\"1\" class=\"dataframe\">\n",
       "  <thead>\n",
       "    <tr style=\"text-align: right;\">\n",
       "      <th></th>\n",
       "      <th>city</th>\n",
       "      <th>monday</th>\n",
       "      <th>wednesday</th>\n",
       "      <th>friday</th>\n",
       "    </tr>\n",
       "  </thead>\n",
       "  <tbody>\n",
       "    <tr>\n",
       "      <th>0</th>\n",
       "      <td>Moscow</td>\n",
       "      <td>15740</td>\n",
       "      <td>11056</td>\n",
       "      <td>15945</td>\n",
       "    </tr>\n",
       "    <tr>\n",
       "      <th>1</th>\n",
       "      <td>Saint-Petersburg</td>\n",
       "      <td>5614</td>\n",
       "      <td>7003</td>\n",
       "      <td>5895</td>\n",
       "    </tr>\n",
       "  </tbody>\n",
       "</table>\n",
       "</div>"
      ],
      "text/plain": [
       "               city  monday  wednesday  friday\n",
       "0            Moscow   15740      11056   15945\n",
       "1  Saint-Petersburg    5614       7003    5895"
      ]
     },
     "metadata": {},
     "output_type": "display_data"
    }
   ],
   "source": [
    "data = [['Moscow', 15740, 11056, 15945],\n",
    "       ['Saint-Petersburg', 5614, 7003, 5895]] \n",
    "columns = ['city', 'monday', 'wednesday', 'friday']\n",
    "display(pd.DataFrame(data = data, columns = columns)) # Таблица с результатами"
   ]
  },
  {
   "cell_type": "markdown",
   "metadata": {
    "id": "-EgPIHYu_Zcu"
   },
   "source": [
    "**Выводы**\n",
    "\n",
    "Данные показывают разницу поведения пользователей:\n",
    "\n",
    "- В Москве пик прослушиваний приходится на понедельник и пятницу, а в среду заметен спад.\n",
    "- В Петербурге, наоборот, больше слушают музыку по средам. Активность в понедельник и пятницу здесь почти в равной мере уступает среде.\n",
    "\n",
    "Значит, данные говорят в пользу первой гипотезы."
   ]
  },
  {
   "cell_type": "markdown",
   "metadata": {
    "id": "atZAxtq4_Zcu"
   },
   "source": [
    "### Музыка в начале и в конце недели"
   ]
  },
  {
   "cell_type": "markdown",
   "metadata": {
    "id": "eXrQqXFH_Zcu"
   },
   "source": [
    "Согласно второй гипотезе, утром в понедельник в Москве преобладают одни жанры, а в Петербурге — другие. Так же и вечером пятницы преобладают разные жанры — в зависимости от города."
   ]
  },
  {
   "cell_type": "markdown",
   "metadata": {
    "id": "S8UcW6Hw_Zcu"
   },
   "source": [
    "Сохраните таблицы с данными в две переменные:\n",
    "* по Москве — в `moscow_general`;\n",
    "* по Санкт-Петербургу — в `spb_general`."
   ]
  },
  {
   "cell_type": "code",
   "execution_count": 28,
   "metadata": {
    "id": "qeaFfM_P_Zcu"
   },
   "outputs": [
    {
     "data": {
      "text/html": [
       "<div>\n",
       "<style scoped>\n",
       "    .dataframe tbody tr th:only-of-type {\n",
       "        vertical-align: middle;\n",
       "    }\n",
       "\n",
       "    .dataframe tbody tr th {\n",
       "        vertical-align: top;\n",
       "    }\n",
       "\n",
       "    .dataframe thead th {\n",
       "        text-align: right;\n",
       "    }\n",
       "</style>\n",
       "<table border=\"1\" class=\"dataframe\">\n",
       "  <thead>\n",
       "    <tr style=\"text-align: right;\">\n",
       "      <th></th>\n",
       "      <th>user_id</th>\n",
       "      <th>track</th>\n",
       "      <th>artist</th>\n",
       "      <th>genre</th>\n",
       "      <th>city</th>\n",
       "      <th>time</th>\n",
       "      <th>day</th>\n",
       "    </tr>\n",
       "  </thead>\n",
       "  <tbody>\n",
       "    <tr>\n",
       "      <th>1</th>\n",
       "      <td>55204538</td>\n",
       "      <td>Delayed Because of Accident</td>\n",
       "      <td>Andreas Rönnberg</td>\n",
       "      <td>rock</td>\n",
       "      <td>Moscow</td>\n",
       "      <td>14:07:09</td>\n",
       "      <td>Friday</td>\n",
       "    </tr>\n",
       "    <tr>\n",
       "      <th>4</th>\n",
       "      <td>E2DC1FAE</td>\n",
       "      <td>Soul People</td>\n",
       "      <td>Space Echo</td>\n",
       "      <td>dance</td>\n",
       "      <td>Moscow</td>\n",
       "      <td>08:34:34</td>\n",
       "      <td>Monday</td>\n",
       "    </tr>\n",
       "    <tr>\n",
       "      <th>6</th>\n",
       "      <td>4CB90AA5</td>\n",
       "      <td>True</td>\n",
       "      <td>Roman Messer</td>\n",
       "      <td>dance</td>\n",
       "      <td>Moscow</td>\n",
       "      <td>13:00:07</td>\n",
       "      <td>Wednesday</td>\n",
       "    </tr>\n",
       "    <tr>\n",
       "      <th>7</th>\n",
       "      <td>F03E1C1F</td>\n",
       "      <td>Feeling This Way</td>\n",
       "      <td>Polina Griffith</td>\n",
       "      <td>dance</td>\n",
       "      <td>Moscow</td>\n",
       "      <td>20:47:49</td>\n",
       "      <td>Wednesday</td>\n",
       "    </tr>\n",
       "    <tr>\n",
       "      <th>8</th>\n",
       "      <td>8FA1D3BE</td>\n",
       "      <td>И вновь продолжается бой</td>\n",
       "      <td>unknown</td>\n",
       "      <td>ruspop</td>\n",
       "      <td>Moscow</td>\n",
       "      <td>09:17:40</td>\n",
       "      <td>Friday</td>\n",
       "    </tr>\n",
       "    <tr>\n",
       "      <th>10</th>\n",
       "      <td>BC5A3A29</td>\n",
       "      <td>Gool la Mita</td>\n",
       "      <td>Shireen Abdul Wahab</td>\n",
       "      <td>world</td>\n",
       "      <td>Moscow</td>\n",
       "      <td>14:08:42</td>\n",
       "      <td>Monday</td>\n",
       "    </tr>\n",
       "    <tr>\n",
       "      <th>11</th>\n",
       "      <td>8B5192C0</td>\n",
       "      <td>Is There Anybody Out There? (Panoramic Paralys...</td>\n",
       "      <td>Pink Floyd Floydhead</td>\n",
       "      <td>electronic</td>\n",
       "      <td>Moscow</td>\n",
       "      <td>13:47:49</td>\n",
       "      <td>Monday</td>\n",
       "    </tr>\n",
       "    <tr>\n",
       "      <th>12</th>\n",
       "      <td>FF3FD2BD</td>\n",
       "      <td>Мина син генэ кирэк</td>\n",
       "      <td>Ильдар Хакимов</td>\n",
       "      <td>pop</td>\n",
       "      <td>Moscow</td>\n",
       "      <td>09:19:49</td>\n",
       "      <td>Monday</td>\n",
       "    </tr>\n",
       "    <tr>\n",
       "      <th>13</th>\n",
       "      <td>CC782B0F</td>\n",
       "      <td>After School Special</td>\n",
       "      <td>Detroit Grand Pubahs</td>\n",
       "      <td>dance</td>\n",
       "      <td>Moscow</td>\n",
       "      <td>20:04:12</td>\n",
       "      <td>Friday</td>\n",
       "    </tr>\n",
       "    <tr>\n",
       "      <th>15</th>\n",
       "      <td>E3C5756F</td>\n",
       "      <td>unknown</td>\n",
       "      <td>unknown</td>\n",
       "      <td>unknown</td>\n",
       "      <td>Moscow</td>\n",
       "      <td>09:24:51</td>\n",
       "      <td>Monday</td>\n",
       "    </tr>\n",
       "    <tr>\n",
       "      <th>19</th>\n",
       "      <td>772F5B59</td>\n",
       "      <td>Sweetback</td>\n",
       "      <td>The Fabulous Three</td>\n",
       "      <td>rnb</td>\n",
       "      <td>Moscow</td>\n",
       "      <td>13:56:42</td>\n",
       "      <td>Wednesday</td>\n",
       "    </tr>\n",
       "    <tr>\n",
       "      <th>20</th>\n",
       "      <td>201CF2A8</td>\n",
       "      <td>Ya'll In Trouble</td>\n",
       "      <td>Lil Tee Chill Tank Young Buck Brother Mohammed...</td>\n",
       "      <td>hiphop</td>\n",
       "      <td>Moscow</td>\n",
       "      <td>08:46:03</td>\n",
       "      <td>Monday</td>\n",
       "    </tr>\n",
       "    <tr>\n",
       "      <th>21</th>\n",
       "      <td>44B8E869</td>\n",
       "      <td>Nanovirus</td>\n",
       "      <td>Exotype</td>\n",
       "      <td>rock</td>\n",
       "      <td>Moscow</td>\n",
       "      <td>21:36:40</td>\n",
       "      <td>Monday</td>\n",
       "    </tr>\n",
       "    <tr>\n",
       "      <th>23</th>\n",
       "      <td>A729591B</td>\n",
       "      <td>Gavotte</td>\n",
       "      <td>Hachidai Nakamura</td>\n",
       "      <td>jazz</td>\n",
       "      <td>Moscow</td>\n",
       "      <td>13:56:00</td>\n",
       "      <td>Monday</td>\n",
       "    </tr>\n",
       "    <tr>\n",
       "      <th>27</th>\n",
       "      <td>9CC6AA46</td>\n",
       "      <td>Mucho Corazón</td>\n",
       "      <td>Buena Vista Social Club</td>\n",
       "      <td>latin</td>\n",
       "      <td>Moscow</td>\n",
       "      <td>14:06:22</td>\n",
       "      <td>Monday</td>\n",
       "    </tr>\n",
       "    <tr>\n",
       "      <th>28</th>\n",
       "      <td>D8D698A9</td>\n",
       "      <td>Romantici</td>\n",
       "      <td>Viola Valentino</td>\n",
       "      <td>pop</td>\n",
       "      <td>Moscow</td>\n",
       "      <td>08:23:21</td>\n",
       "      <td>Wednesday</td>\n",
       "    </tr>\n",
       "    <tr>\n",
       "      <th>33</th>\n",
       "      <td>809CAFB1</td>\n",
       "      <td>Break Me Down</td>\n",
       "      <td>Steve Angello</td>\n",
       "      <td>dance</td>\n",
       "      <td>Moscow</td>\n",
       "      <td>14:42:31</td>\n",
       "      <td>Monday</td>\n",
       "    </tr>\n",
       "    <tr>\n",
       "      <th>34</th>\n",
       "      <td>B416A40F</td>\n",
       "      <td>Лучшая подруга</td>\n",
       "      <td>Супердетки</td>\n",
       "      <td>ruspop</td>\n",
       "      <td>Moscow</td>\n",
       "      <td>14:49:21</td>\n",
       "      <td>Friday</td>\n",
       "    </tr>\n",
       "    <tr>\n",
       "      <th>35</th>\n",
       "      <td>A8AE9169</td>\n",
       "      <td>unknown</td>\n",
       "      <td>unknown</td>\n",
       "      <td>unknown</td>\n",
       "      <td>Moscow</td>\n",
       "      <td>08:56:10</td>\n",
       "      <td>Monday</td>\n",
       "    </tr>\n",
       "    <tr>\n",
       "      <th>36</th>\n",
       "      <td>FCDF1C8E</td>\n",
       "      <td>Nasebanaru</td>\n",
       "      <td>Zen</td>\n",
       "      <td>reggae</td>\n",
       "      <td>Moscow</td>\n",
       "      <td>20:19:36</td>\n",
       "      <td>Wednesday</td>\n",
       "    </tr>\n",
       "  </tbody>\n",
       "</table>\n",
       "</div>"
      ],
      "text/plain": [
       "     user_id                                              track  \\\n",
       "1   55204538                        Delayed Because of Accident   \n",
       "4   E2DC1FAE                                        Soul People   \n",
       "6   4CB90AA5                                               True   \n",
       "7   F03E1C1F                                   Feeling This Way   \n",
       "8   8FA1D3BE                           И вновь продолжается бой   \n",
       "10  BC5A3A29                                       Gool la Mita   \n",
       "11  8B5192C0  Is There Anybody Out There? (Panoramic Paralys...   \n",
       "12  FF3FD2BD                                Мина син генэ кирэк   \n",
       "13  CC782B0F                               After School Special   \n",
       "15  E3C5756F                                            unknown   \n",
       "19  772F5B59                                          Sweetback   \n",
       "20  201CF2A8                                   Ya'll In Trouble   \n",
       "21  44B8E869                                          Nanovirus   \n",
       "23  A729591B                                            Gavotte   \n",
       "27  9CC6AA46                                      Mucho Corazón   \n",
       "28  D8D698A9                                          Romantici   \n",
       "33  809CAFB1                                      Break Me Down   \n",
       "34  B416A40F                                     Лучшая подруга   \n",
       "35  A8AE9169                                            unknown   \n",
       "36  FCDF1C8E                                         Nasebanaru   \n",
       "\n",
       "                                               artist       genre    city  \\\n",
       "1                                    Andreas Rönnberg        rock  Moscow   \n",
       "4                                          Space Echo       dance  Moscow   \n",
       "6                                        Roman Messer       dance  Moscow   \n",
       "7                                     Polina Griffith       dance  Moscow   \n",
       "8                                             unknown      ruspop  Moscow   \n",
       "10                                Shireen Abdul Wahab       world  Moscow   \n",
       "11                               Pink Floyd Floydhead  electronic  Moscow   \n",
       "12                                     Ильдар Хакимов         pop  Moscow   \n",
       "13                               Detroit Grand Pubahs       dance  Moscow   \n",
       "15                                            unknown     unknown  Moscow   \n",
       "19                                 The Fabulous Three         rnb  Moscow   \n",
       "20  Lil Tee Chill Tank Young Buck Brother Mohammed...      hiphop  Moscow   \n",
       "21                                            Exotype        rock  Moscow   \n",
       "23                                  Hachidai Nakamura        jazz  Moscow   \n",
       "27                            Buena Vista Social Club       latin  Moscow   \n",
       "28                                    Viola Valentino         pop  Moscow   \n",
       "33                                      Steve Angello       dance  Moscow   \n",
       "34                                         Супердетки      ruspop  Moscow   \n",
       "35                                            unknown     unknown  Moscow   \n",
       "36                                                Zen      reggae  Moscow   \n",
       "\n",
       "        time        day  \n",
       "1   14:07:09     Friday  \n",
       "4   08:34:34     Monday  \n",
       "6   13:00:07  Wednesday  \n",
       "7   20:47:49  Wednesday  \n",
       "8   09:17:40     Friday  \n",
       "10  14:08:42     Monday  \n",
       "11  13:47:49     Monday  \n",
       "12  09:19:49     Monday  \n",
       "13  20:04:12     Friday  \n",
       "15  09:24:51     Monday  \n",
       "19  13:56:42  Wednesday  \n",
       "20  08:46:03     Monday  \n",
       "21  21:36:40     Monday  \n",
       "23  13:56:00     Monday  \n",
       "27  14:06:22     Monday  \n",
       "28  08:23:21  Wednesday  \n",
       "33  14:42:31     Monday  \n",
       "34  14:49:21     Friday  \n",
       "35  08:56:10     Monday  \n",
       "36  20:19:36  Wednesday  "
      ]
     },
     "metadata": {},
     "output_type": "display_data"
    }
   ],
   "source": [
    "moscow_general = df[df['city'] == 'Moscow'] # получение таблицы moscow_general из тех строк таблицы df, \n",
    "display(moscow_general.head(20)) # для которых значение в столбце 'city' равно 'Moscow'"
   ]
  },
  {
   "cell_type": "code",
   "execution_count": 29,
   "metadata": {
    "id": "ORaVRKto_Zcu"
   },
   "outputs": [
    {
     "data": {
      "text/html": [
       "<div>\n",
       "<style scoped>\n",
       "    .dataframe tbody tr th:only-of-type {\n",
       "        vertical-align: middle;\n",
       "    }\n",
       "\n",
       "    .dataframe tbody tr th {\n",
       "        vertical-align: top;\n",
       "    }\n",
       "\n",
       "    .dataframe thead th {\n",
       "        text-align: right;\n",
       "    }\n",
       "</style>\n",
       "<table border=\"1\" class=\"dataframe\">\n",
       "  <thead>\n",
       "    <tr style=\"text-align: right;\">\n",
       "      <th></th>\n",
       "      <th>user_id</th>\n",
       "      <th>track</th>\n",
       "      <th>artist</th>\n",
       "      <th>genre</th>\n",
       "      <th>city</th>\n",
       "      <th>time</th>\n",
       "      <th>day</th>\n",
       "    </tr>\n",
       "  </thead>\n",
       "  <tbody>\n",
       "    <tr>\n",
       "      <th>0</th>\n",
       "      <td>FFB692EC</td>\n",
       "      <td>Kamigata To Boots</td>\n",
       "      <td>The Mass Missile</td>\n",
       "      <td>rock</td>\n",
       "      <td>Saint-Petersburg</td>\n",
       "      <td>20:28:33</td>\n",
       "      <td>Wednesday</td>\n",
       "    </tr>\n",
       "    <tr>\n",
       "      <th>2</th>\n",
       "      <td>20EC38</td>\n",
       "      <td>Funiculì funiculà</td>\n",
       "      <td>Mario Lanza</td>\n",
       "      <td>pop</td>\n",
       "      <td>Saint-Petersburg</td>\n",
       "      <td>20:58:07</td>\n",
       "      <td>Wednesday</td>\n",
       "    </tr>\n",
       "    <tr>\n",
       "      <th>3</th>\n",
       "      <td>A3DD03C9</td>\n",
       "      <td>Dragons in the Sunset</td>\n",
       "      <td>Fire + Ice</td>\n",
       "      <td>folk</td>\n",
       "      <td>Saint-Petersburg</td>\n",
       "      <td>08:37:09</td>\n",
       "      <td>Monday</td>\n",
       "    </tr>\n",
       "    <tr>\n",
       "      <th>5</th>\n",
       "      <td>842029A1</td>\n",
       "      <td>Преданная</td>\n",
       "      <td>IMPERVTOR</td>\n",
       "      <td>rusrap</td>\n",
       "      <td>Saint-Petersburg</td>\n",
       "      <td>13:09:41</td>\n",
       "      <td>Friday</td>\n",
       "    </tr>\n",
       "    <tr>\n",
       "      <th>9</th>\n",
       "      <td>E772D5C0</td>\n",
       "      <td>Pessimist</td>\n",
       "      <td>unknown</td>\n",
       "      <td>dance</td>\n",
       "      <td>Saint-Petersburg</td>\n",
       "      <td>21:20:49</td>\n",
       "      <td>Wednesday</td>\n",
       "    </tr>\n",
       "  </tbody>\n",
       "</table>\n",
       "</div>"
      ],
      "text/plain": [
       "    user_id                  track            artist   genre  \\\n",
       "0  FFB692EC      Kamigata To Boots  The Mass Missile    rock   \n",
       "2    20EC38      Funiculì funiculà       Mario Lanza     pop   \n",
       "3  A3DD03C9  Dragons in the Sunset        Fire + Ice    folk   \n",
       "5  842029A1              Преданная         IMPERVTOR  rusrap   \n",
       "9  E772D5C0              Pessimist           unknown   dance   \n",
       "\n",
       "               city      time        day  \n",
       "0  Saint-Petersburg  20:28:33  Wednesday  \n",
       "2  Saint-Petersburg  20:58:07  Wednesday  \n",
       "3  Saint-Petersburg  08:37:09     Monday  \n",
       "5  Saint-Petersburg  13:09:41     Friday  \n",
       "9  Saint-Petersburg  21:20:49  Wednesday  "
      ]
     },
     "metadata": {},
     "output_type": "display_data"
    }
   ],
   "source": [
    "spb_general = df[df['city'] == 'Saint-Petersburg'] # получение таблицы spb_general из тех строк таблицы df,\n",
    "display(spb_general.head()) # для которых значение в столбце 'city' равно 'Saint-Petersburg'"
   ]
  },
  {
   "cell_type": "markdown",
   "metadata": {
    "id": "MEJV-CX2_Zcu"
   },
   "source": [
    "Создайте функцию `genre_weekday()` с четырьмя параметрами:\n",
    "* таблица (датафрейм) с данными,\n",
    "* день недели,\n",
    "* начальная временная метка в формате 'hh:mm', \n",
    "* последняя временная метка в формате 'hh:mm'.\n",
    "\n",
    "Функция должна вернуть информацию о топ-10 жанров тех треков, которые прослушивали в указанный день, в промежутке между двумя отметками времени."
   ]
  },
  {
   "cell_type": "code",
   "execution_count": 30,
   "metadata": {
    "id": "laJT9BYl_Zcu"
   },
   "outputs": [],
   "source": [
    "def genre_weekday(table, day, time1, time2):\n",
    "    genre_df = table[(table['day'] == day) & (table['time']>time1) & (table['time']<time2)]\n",
    "    genre_df_count = genre_df.groupby('genre')['genre'].count()\n",
    "    genre_df_sorted = genre_df_count.sort_values(ascending = False)\n",
    "    return genre_df_sorted.head(10)                                    \n",
    "\n",
    "\n",
    "# Объявление функции genre_weekday() с параметрами table, day, time1, time2,\n",
    "# которая возвращает информацию о самых популярных жанрах в указанный день в\n",
    "# заданное время:\n",
    "# 1) в переменную genre_df сохраняются те строки переданного датафрейма table, для\n",
    "#    которых одновременно:\n",
    "#    - значение в столбце day равно значению аргумента day\n",
    "#    - значение в столбце time больше значения аргумента time1\n",
    "#    - значение в столбце time меньше значения аргумента time2\n",
    "#    Используйте последовательную фильтрацию с помощью логической индексации.\n",
    "# 2) сгруппировать датафрейм genre_df по столбцу genre, взять один из его\n",
    "#    столбцов и посчитать методом count() количество записей для каждого из\n",
    "#    присутствующих жанров, получившийся Series записать в переменную\n",
    "#    genre_df_count\n",
    "# 3) отсортировать genre_df_count по убыванию встречаемости и сохранить\n",
    "#    в переменную genre_df_sorted\n",
    "# 4) вернуть Series из 10 первых значений genre_df_sorted, это будут топ-10\n",
    "#    популярных жанров (в указанный день, в заданное время)"
   ]
  },
  {
   "cell_type": "markdown",
   "metadata": {
    "id": "la2s2_PF_Zcu"
   },
   "source": [
    "Cравните результаты функции `genre_weekday()` для Москвы и Санкт-Петербурга в понедельник утром (с 7:00 до 11:00) и в пятницу вечером (с 17:00 до 23:00):"
   ]
  },
  {
   "cell_type": "code",
   "execution_count": 31,
   "metadata": {
    "id": "yz7itPUQ_Zcu"
   },
   "outputs": [
    {
     "data": {
      "text/plain": [
       "genre\n",
       "pop            781\n",
       "dance          549\n",
       "electronic     480\n",
       "rock           474\n",
       "hiphop         286\n",
       "ruspop         186\n",
       "world          181\n",
       "rusrap         175\n",
       "alternative    164\n",
       "unknown        161\n",
       "Name: genre, dtype: int64"
      ]
     },
     "execution_count": 31,
     "metadata": {},
     "output_type": "execute_result"
    }
   ],
   "source": [
    "genre_weekday(moscow_general, 'Monday', '07:00', '11:00')# вызов функции для утра понедельника в Москве (вместо df — таблица moscow_general)\n",
    "# объекты, хранящие время, являются строками и сравниваются как строки\n",
    "# пример вызова: genre_weekday(moscow_general, 'Monday', '07:00', '11:00')"
   ]
  },
  {
   "cell_type": "code",
   "execution_count": 32,
   "metadata": {
    "id": "kwUcHPdy_Zcu"
   },
   "outputs": [
    {
     "data": {
      "text/plain": [
       "genre\n",
       "pop            218\n",
       "dance          182\n",
       "rock           162\n",
       "electronic     147\n",
       "hiphop          80\n",
       "ruspop          64\n",
       "alternative     58\n",
       "rusrap          55\n",
       "jazz            44\n",
       "classical       40\n",
       "Name: genre, dtype: int64"
      ]
     },
     "execution_count": 32,
     "metadata": {},
     "output_type": "execute_result"
    }
   ],
   "source": [
    "genre_weekday(spb_general, 'Monday', '07:00', '11:00') # вызов функции для утра понедельника в Петербурге (вместо df — таблица spb_general)"
   ]
  },
  {
   "cell_type": "code",
   "execution_count": 33,
   "metadata": {
    "id": "EzXVRE1o_Zcu"
   },
   "outputs": [
    {
     "data": {
      "text/plain": [
       "genre\n",
       "pop            713\n",
       "rock           517\n",
       "dance          495\n",
       "electronic     482\n",
       "hiphop         273\n",
       "world          208\n",
       "ruspop         170\n",
       "alternative    163\n",
       "classical      163\n",
       "rusrap         142\n",
       "Name: genre, dtype: int64"
      ]
     },
     "execution_count": 33,
     "metadata": {},
     "output_type": "execute_result"
    }
   ],
   "source": [
    "genre_weekday(moscow_general, 'Friday', '17:00', '23:00') # вызов функции для вечера пятницы в Москве"
   ]
  },
  {
   "cell_type": "code",
   "execution_count": 34,
   "metadata": {
    "id": "JZaEKu5v_Zcu"
   },
   "outputs": [
    {
     "data": {
      "text/plain": [
       "genre\n",
       "pop            256\n",
       "electronic     216\n",
       "rock           216\n",
       "dance          210\n",
       "hiphop          97\n",
       "alternative     63\n",
       "jazz            61\n",
       "classical       60\n",
       "rusrap          59\n",
       "world           54\n",
       "Name: genre, dtype: int64"
      ]
     },
     "execution_count": 34,
     "metadata": {},
     "output_type": "execute_result"
    }
   ],
   "source": [
    "genre_weekday(spb_general, 'Friday', '17:00', '23:00') # вызов функции для вечера пятницы в Петербурге"
   ]
  },
  {
   "cell_type": "markdown",
   "metadata": {
    "id": "wrCe4MNX_Zcu"
   },
   "source": [
    "**Выводы**\n",
    "\n",
    "Если сравнить топ-10 жанров в понедельник утром, можно сделать такие выводы:\n",
    "\n",
    "1. В Москве и Петербурге слушают похожую музыку. Единственное отличие — в московский рейтинг вошёл жанр “world”, а в петербургский — джаз и классика.\n",
    "\n",
    "2. В Москве пропущенных значений оказалось так много, что значение `'unknown'` заняло десятое место среди самых популярных жанров. Значит, пропущенные значения занимают существенную долю в данных и угрожают достоверности исследования.\n",
    "\n",
    "Вечер пятницы не меняет эту картину. Некоторые жанры поднимаются немного выше, другие спускаются, но в целом топ-10 остаётся тем же самым.\n",
    "\n",
    "Таким образом, вторая гипотеза подтвердилась лишь частично:\n",
    "* Пользователи слушают похожую музыку в начале недели и в конце.\n",
    "* Разница между Москвой и Петербургом не слишком выражена. В Москве чаще слушают русскую популярную музыку, в Петербурге — джаз.\n",
    "\n",
    "Однако пропуски в данных ставят под сомнение этот результат. В Москве их так много, что рейтинг топ-10 мог бы выглядеть иначе, если бы не утерянные  данные о жанрах."
   ]
  },
  {
   "cell_type": "markdown",
   "metadata": {
    "id": "JolODAqr_Zcu"
   },
   "source": [
    "### Жанровые предпочтения в Москве и Петербурге\n",
    "\n",
    "Гипотеза: Петербург — столица рэпа, музыку этого жанра там слушают чаще, чем в Москве.  А Москва — город контрастов, в котором, тем не менее, преобладает поп-музыка."
   ]
  },
  {
   "cell_type": "markdown",
   "metadata": {
    "id": "DlegSvaT_Zcu"
   },
   "source": [
    "Сгруппируйте таблицу `moscow_general` по жанру и посчитайте прослушивания треков каждого жанра методом `count()`. Затем отсортируйте результат в порядке убывания и сохраните его в таблице `moscow_genres`."
   ]
  },
  {
   "cell_type": "code",
   "execution_count": 35,
   "metadata": {
    "id": "r19lIPke_Zcu"
   },
   "outputs": [],
   "source": [
    "moscow_genres = moscow_general.groupby('genre')['genre'].count().sort_values(ascending = False) # одной строкой: группировка таблицы moscow_general по столбцу 'genre', \n",
    "# подсчёт числа значений 'genre' в этой группировке методом count(), \n",
    "# сортировка получившегося Series в порядке убывания и сохранение в moscow_genres"
   ]
  },
  {
   "cell_type": "markdown",
   "metadata": {
    "id": "6kMuomxTiIr8"
   },
   "source": [
    "Выведите на экран первые десять строк `moscow_genres`:"
   ]
  },
  {
   "cell_type": "code",
   "execution_count": 36,
   "metadata": {
    "id": "WhCSooF8_Zcv"
   },
   "outputs": [
    {
     "data": {
      "text/plain": [
       "genre\n",
       "pop            5892\n",
       "dance          4435\n",
       "rock           3965\n",
       "electronic     3786\n",
       "hiphop         2096\n",
       "classical      1616\n",
       "world          1432\n",
       "alternative    1379\n",
       "ruspop         1372\n",
       "rusrap         1161\n",
       "Name: genre, dtype: int64"
      ]
     },
     "execution_count": 36,
     "metadata": {},
     "output_type": "execute_result"
    }
   ],
   "source": [
    "moscow_genres.head(10) # просмотр первых 10 строк moscow_genres"
   ]
  },
  {
   "cell_type": "markdown",
   "metadata": {
    "id": "cnPG2vnN_Zcv"
   },
   "source": [
    "Теперь повторите то же и для Петербурга.\n",
    "\n",
    "Сгруппируйте таблицу `spb_general` по жанру. Посчитайте прослушивания треков каждого жанра. Результат отсортируйте в порядке убывания и сохраните в таблице `spb_genres`:\n"
   ]
  },
  {
   "cell_type": "code",
   "execution_count": 37,
   "metadata": {
    "id": "gluLIpE7_Zcv"
   },
   "outputs": [],
   "source": [
    "spb_genres = spb_general.groupby('genre')['genre'].count().sort_values(ascending = False) # одной строкой: группировка таблицы spb_general по столбцу 'genre', \n",
    "# подсчёт числа значений 'genre' в этой группировке методом count(), \n",
    "# сортировка получившегося Series в порядке убывания и сохранение в spb_genres"
   ]
  },
  {
   "cell_type": "markdown",
   "metadata": {
    "id": "5Doha_ODgyQ8"
   },
   "source": [
    "Выведите на экран первые десять строк `spb_genres`:"
   ]
  },
  {
   "cell_type": "code",
   "execution_count": 38,
   "metadata": {
    "id": "uaGJHjVU_Zcv"
   },
   "outputs": [
    {
     "data": {
      "text/plain": [
       "genre\n",
       "pop            2431\n",
       "dance          1932\n",
       "rock           1879\n",
       "electronic     1736\n",
       "hiphop          960\n",
       "alternative     649\n",
       "classical       646\n",
       "rusrap          564\n",
       "ruspop          538\n",
       "world           515\n",
       "Name: genre, dtype: int64"
      ]
     },
     "execution_count": 38,
     "metadata": {},
     "output_type": "execute_result"
    }
   ],
   "source": [
    "spb_genres.head(10) # просмотр первых 10 строк spb_genres"
   ]
  },
  {
   "cell_type": "markdown",
   "metadata": {
    "id": "RY51YJYu_Zcv"
   },
   "source": [
    "**Выводы**"
   ]
  },
  {
   "cell_type": "markdown",
   "metadata": {
    "id": "nVhnJEm__Zcv"
   },
   "source": [
    "Гипотеза частично подтвердилась:\n",
    "* Поп-музыка — самый популярный жанр в Москве, как и предполагала гипотеза. Более того, в топ-10 жанров встречается близкий жанр — русская популярная музыка.\n",
    "* Вопреки ожиданиям, рэп одинаково популярен в Москве и Петербурге. \n"
   ]
  },
  {
   "cell_type": "markdown",
   "metadata": {
    "id": "ykKQ0N65_Zcv"
   },
   "source": [
    "## Итоги исследования"
   ]
  },
  {
   "cell_type": "markdown",
   "metadata": {
    "id": "tjUwbHb3_Zcv"
   },
   "source": [
    "Вы проверили три гипотезы и установили:\n",
    "\n",
    "1. День недели по-разному влияет на активность пользователей в Москве и Петербурге. \n",
    "\n",
    "Первая гипотеза полностью подтвердилась.\n",
    "\n",
    "2. Музыкальные предпочтения не сильно меняются в течение недели — будь то Москва или Петербург. Небольшие различия заметны в начале недели, по понедельникам:\n",
    "* в Москве слушают музыку жанра “world”,\n",
    "* в Петербурге — джаз и классику.\n",
    "\n",
    "Таким образом, вторая гипотеза подтвердилась лишь отчасти. Этот результат мог оказаться иным, если бы не пропуски в данных.\n",
    "\n",
    "3. Во вкусах пользователей Москвы и Петербурга больше общего чем различий. Вопреки ожиданиям, предпочтения жанров в Петербурге напоминают московские.\n",
    "\n",
    "Третья гипотеза не подтвердилась. Если различия в предпочтениях и существуют, на основной массе пользователей они незаметны.\n",
    "\n",
    "**На практике исследования содержат проверки статистических гипотез.**\n",
    "Из данных одного сервиса не всегда можно сделать вывод о всех жителях города.\n",
    "Проверки статистических гипотез покажут, насколько они достоверны, исходя из имеющихся данных. \n",
    "С методами проверок гипотез вы ещё познакомитесь в следующих темах."
   ]
  }
 ],
 "metadata": {
  "ExecuteTimeLog": [
   {
    "duration": 344,
    "start_time": "2021-11-01T11:32:48.978Z"
   },
   {
    "duration": 777,
    "start_time": "2021-11-01T11:33:16.291Z"
   },
   {
    "duration": 2576,
    "start_time": "2021-11-01T11:33:18.735Z"
   },
   {
    "duration": 104,
    "start_time": "2021-11-01T11:35:03.377Z"
   },
   {
    "duration": 102,
    "start_time": "2021-11-01T11:35:18.773Z"
   },
   {
    "duration": 109,
    "start_time": "2021-11-01T11:36:38.244Z"
   },
   {
    "duration": 98,
    "start_time": "2021-11-01T11:37:06.879Z"
   },
   {
    "duration": 198,
    "start_time": "2021-11-01T11:37:56.013Z"
   },
   {
    "duration": 28,
    "start_time": "2021-11-01T11:38:14.943Z"
   },
   {
    "duration": 37,
    "start_time": "2021-11-01T11:39:49.598Z"
   },
   {
    "duration": 295,
    "start_time": "2021-11-01T11:46:31.670Z"
   },
   {
    "duration": 5,
    "start_time": "2021-11-01T11:46:53.067Z"
   },
   {
    "duration": 28,
    "start_time": "2021-11-01T11:49:34.035Z"
   },
   {
    "duration": 6,
    "start_time": "2021-11-01T11:49:49.226Z"
   },
   {
    "duration": 37,
    "start_time": "2021-11-01T11:51:03.793Z"
   },
   {
    "duration": 297,
    "start_time": "2021-11-01T11:59:39.558Z"
   },
   {
    "duration": 22,
    "start_time": "2021-11-01T12:00:29.901Z"
   },
   {
    "duration": 32,
    "start_time": "2021-11-01T12:00:51.514Z"
   },
   {
    "duration": 86,
    "start_time": "2021-11-01T12:02:52.136Z"
   },
   {
    "duration": 103,
    "start_time": "2021-11-01T12:05:02.552Z"
   },
   {
    "duration": 82,
    "start_time": "2021-11-01T12:05:12.307Z"
   },
   {
    "duration": 10,
    "start_time": "2021-11-01T12:06:43.335Z"
   },
   {
    "duration": 500,
    "start_time": "2021-11-01T12:19:25.196Z"
   },
   {
    "duration": 506,
    "start_time": "2021-11-01T12:19:57.786Z"
   },
   {
    "duration": 16,
    "start_time": "2021-11-01T12:20:36.623Z"
   },
   {
    "duration": 14,
    "start_time": "2021-11-01T12:21:11.447Z"
   },
   {
    "duration": 9,
    "start_time": "2021-11-01T12:21:45.005Z"
   },
   {
    "duration": 293,
    "start_time": "2021-11-01T12:55:30.386Z"
   },
   {
    "duration": 13,
    "start_time": "2021-11-01T12:55:40.445Z"
   },
   {
    "duration": 15,
    "start_time": "2021-11-01T12:56:36.594Z"
   },
   {
    "duration": 19,
    "start_time": "2021-11-01T12:59:13.009Z"
   },
   {
    "duration": 14,
    "start_time": "2021-11-01T13:11:15.428Z"
   },
   {
    "duration": 16,
    "start_time": "2021-11-01T13:18:41.118Z"
   },
   {
    "duration": 15,
    "start_time": "2021-11-01T13:19:50.631Z"
   },
   {
    "duration": 5,
    "start_time": "2021-11-01T15:15:27.522Z"
   },
   {
    "duration": 5,
    "start_time": "2021-11-01T15:16:15.607Z"
   },
   {
    "duration": 5,
    "start_time": "2021-11-01T15:16:19.284Z"
   },
   {
    "duration": 5,
    "start_time": "2021-11-01T15:16:21.977Z"
   },
   {
    "duration": 8160,
    "start_time": "2021-11-01T15:17:34.839Z"
   },
   {
    "duration": 7732,
    "start_time": "2021-11-01T15:18:28.773Z"
   },
   {
    "duration": 108,
    "start_time": "2021-11-01T15:19:54.071Z"
   },
   {
    "duration": 6,
    "start_time": "2021-11-01T15:20:37.941Z"
   },
   {
    "duration": 648,
    "start_time": "2021-11-01T15:20:43.658Z"
   },
   {
    "duration": 5,
    "start_time": "2021-11-01T15:22:19.073Z"
   },
   {
    "duration": 659,
    "start_time": "2021-11-01T15:22:22.881Z"
   },
   {
    "duration": 5,
    "start_time": "2021-11-01T15:23:38.020Z"
   },
   {
    "duration": 612,
    "start_time": "2021-11-01T15:23:41.415Z"
   },
   {
    "duration": 5,
    "start_time": "2021-11-01T15:28:26.342Z"
   },
   {
    "duration": 5,
    "start_time": "2021-11-01T15:35:34.257Z"
   },
   {
    "duration": 641,
    "start_time": "2021-11-01T15:35:38.264Z"
   },
   {
    "duration": 4,
    "start_time": "2021-11-01T15:59:31.305Z"
   },
   {
    "duration": 7912,
    "start_time": "2021-11-01T15:59:35.286Z"
   },
   {
    "duration": 5,
    "start_time": "2021-11-01T16:00:06.988Z"
   },
   {
    "duration": 9053,
    "start_time": "2021-11-01T16:00:11.757Z"
   },
   {
    "duration": 5,
    "start_time": "2021-11-01T16:08:10.193Z"
   },
   {
    "duration": 14,
    "start_time": "2021-11-01T16:08:13.778Z"
   },
   {
    "duration": 5,
    "start_time": "2021-11-01T16:12:05.545Z"
   },
   {
    "duration": 13,
    "start_time": "2021-11-01T16:12:08.600Z"
   },
   {
    "duration": 16,
    "start_time": "2021-11-01T16:12:14.304Z"
   },
   {
    "duration": 5,
    "start_time": "2021-11-01T16:14:13.304Z"
   },
   {
    "duration": 9159,
    "start_time": "2021-11-01T16:14:16.948Z"
   },
   {
    "duration": 159,
    "start_time": "2021-11-01T16:17:32.985Z"
   },
   {
    "duration": 101,
    "start_time": "2021-11-01T16:17:52.382Z"
   },
   {
    "duration": 1164,
    "start_time": "2021-11-01T16:17:58.894Z"
   },
   {
    "duration": 5,
    "start_time": "2021-11-01T16:29:25.901Z"
   },
   {
    "duration": 7635,
    "start_time": "2021-11-01T16:29:29.947Z"
   },
   {
    "duration": 160,
    "start_time": "2021-11-01T16:42:38.636Z"
   },
   {
    "duration": 4,
    "start_time": "2021-11-01T16:42:44.859Z"
   },
   {
    "duration": 2953,
    "start_time": "2021-11-01T16:42:48.500Z"
   },
   {
    "duration": 109,
    "start_time": "2021-11-01T16:49:22.948Z"
   },
   {
    "duration": 2312,
    "start_time": "2021-11-01T16:49:27.606Z"
   },
   {
    "duration": 6,
    "start_time": "2021-11-01T16:50:27.534Z"
   },
   {
    "duration": 2473,
    "start_time": "2021-11-01T16:50:30.583Z"
   },
   {
    "duration": 5,
    "start_time": "2021-11-01T17:08:24.952Z"
   },
   {
    "duration": 595,
    "start_time": "2021-11-01T17:08:30.815Z"
   },
   {
    "duration": 5,
    "start_time": "2021-11-01T17:09:39.558Z"
   },
   {
    "duration": 4192,
    "start_time": "2021-11-01T17:09:44.793Z"
   },
   {
    "duration": 7,
    "start_time": "2021-11-01T17:11:12.569Z"
   },
   {
    "duration": 33,
    "start_time": "2021-11-01T17:11:15.648Z"
   },
   {
    "duration": 22,
    "start_time": "2021-11-01T17:13:28.948Z"
   },
   {
    "duration": 22,
    "start_time": "2021-11-01T17:15:56.490Z"
   },
   {
    "duration": 33,
    "start_time": "2021-11-01T17:15:59.466Z"
   },
   {
    "duration": 46,
    "start_time": "2021-11-01T17:16:02.621Z"
   },
   {
    "duration": 24,
    "start_time": "2021-11-01T17:16:06.713Z"
   },
   {
    "duration": 332,
    "start_time": "2021-11-01T17:24:32.117Z"
   },
   {
    "duration": 308,
    "start_time": "2021-11-01T17:27:09.817Z"
   },
   {
    "duration": 286,
    "start_time": "2021-11-01T17:28:20.874Z"
   },
   {
    "duration": 6,
    "start_time": "2021-11-01T17:35:11.255Z"
   },
   {
    "duration": 29,
    "start_time": "2021-11-01T17:35:14.908Z"
   },
   {
    "duration": 22,
    "start_time": "2021-11-01T17:35:15.934Z"
   },
   {
    "duration": 26,
    "start_time": "2021-11-01T17:35:16.677Z"
   },
   {
    "duration": 21,
    "start_time": "2021-11-01T17:35:17.103Z"
   },
   {
    "duration": 25,
    "start_time": "2021-11-01T17:35:17.561Z"
   },
   {
    "duration": 21,
    "start_time": "2021-11-01T17:35:18.301Z"
   },
   {
    "duration": 293,
    "start_time": "2021-11-01T17:37:33.738Z"
   },
   {
    "duration": 301,
    "start_time": "2021-11-01T17:41:17.495Z"
   },
   {
    "duration": 371,
    "start_time": "2021-11-01T17:44:57.526Z"
   },
   {
    "duration": 326,
    "start_time": "2021-11-01T17:46:25.151Z"
   },
   {
    "duration": 299,
    "start_time": "2021-11-01T17:46:39.669Z"
   },
   {
    "duration": 309,
    "start_time": "2021-11-01T17:47:24.370Z"
   },
   {
    "duration": 318,
    "start_time": "2021-11-01T17:49:55.761Z"
   },
   {
    "duration": 305,
    "start_time": "2021-11-01T18:03:01.445Z"
   },
   {
    "duration": 368,
    "start_time": "2021-11-01T18:04:01.462Z"
   },
   {
    "duration": 293,
    "start_time": "2021-11-01T18:04:10.377Z"
   },
   {
    "duration": 474,
    "start_time": "2021-11-01T18:15:46.593Z"
   },
   {
    "duration": 95,
    "start_time": "2021-11-02T10:13:14.932Z"
   },
   {
    "duration": 352,
    "start_time": "2021-11-02T10:14:44.879Z"
   },
   {
    "duration": 339,
    "start_time": "2021-11-02T10:16:06.023Z"
   },
   {
    "duration": 431,
    "start_time": "2021-11-02T10:17:42.095Z"
   },
   {
    "duration": 306,
    "start_time": "2021-11-02T10:20:08.164Z"
   },
   {
    "duration": 238,
    "start_time": "2021-11-02T10:21:06.802Z"
   },
   {
    "duration": 358,
    "start_time": "2021-11-02T10:21:55.311Z"
   },
   {
    "duration": 260,
    "start_time": "2021-11-02T10:22:15.772Z"
   },
   {
    "duration": 251,
    "start_time": "2021-11-02T10:24:21.004Z"
   },
   {
    "duration": 361,
    "start_time": "2021-11-02T10:27:30.086Z"
   },
   {
    "duration": 78,
    "start_time": "2021-11-02T10:39:59.796Z"
   },
   {
    "duration": 232,
    "start_time": "2021-11-02T10:40:05.212Z"
   },
   {
    "duration": 291,
    "start_time": "2021-11-02T10:42:34.790Z"
   },
   {
    "duration": 705,
    "start_time": "2021-11-02T10:43:12.691Z"
   },
   {
    "duration": 204,
    "start_time": "2021-11-02T10:43:13.399Z"
   },
   {
    "duration": 40,
    "start_time": "2021-11-02T10:43:13.606Z"
   },
   {
    "duration": 33,
    "start_time": "2021-11-02T10:43:13.648Z"
   },
   {
    "duration": 5,
    "start_time": "2021-11-02T10:43:13.684Z"
   },
   {
    "duration": 62,
    "start_time": "2021-11-02T10:43:13.691Z"
   },
   {
    "duration": 6,
    "start_time": "2021-11-02T10:43:13.756Z"
   },
   {
    "duration": 30,
    "start_time": "2021-11-02T10:43:13.766Z"
   },
   {
    "duration": 54,
    "start_time": "2021-11-02T10:43:13.799Z"
   },
   {
    "duration": 29,
    "start_time": "2021-11-02T10:43:13.856Z"
   },
   {
    "duration": 101,
    "start_time": "2021-11-02T10:43:13.887Z"
   },
   {
    "duration": 121,
    "start_time": "2021-11-02T10:43:13.990Z"
   },
   {
    "duration": 87,
    "start_time": "2021-11-02T10:43:14.114Z"
   },
   {
    "duration": 36,
    "start_time": "2021-11-02T10:43:14.204Z"
   },
   {
    "duration": 4,
    "start_time": "2021-11-02T10:43:14.243Z"
   },
   {
    "duration": 20,
    "start_time": "2021-11-02T10:43:14.249Z"
   },
   {
    "duration": 14,
    "start_time": "2021-11-02T10:43:14.272Z"
   },
   {
    "duration": 15,
    "start_time": "2021-11-02T10:43:14.289Z"
   },
   {
    "duration": 44,
    "start_time": "2021-11-02T10:43:14.306Z"
   },
   {
    "duration": 5,
    "start_time": "2021-11-02T10:43:14.354Z"
   },
   {
    "duration": 32,
    "start_time": "2021-11-02T10:43:14.362Z"
   },
   {
    "duration": 42,
    "start_time": "2021-11-02T10:43:14.396Z"
   },
   {
    "duration": 24,
    "start_time": "2021-11-02T10:43:14.443Z"
   },
   {
    "duration": 23,
    "start_time": "2021-11-02T10:43:14.470Z"
   },
   {
    "duration": 66,
    "start_time": "2021-11-02T10:43:14.495Z"
   },
   {
    "duration": 20,
    "start_time": "2021-11-02T10:43:14.563Z"
   },
   {
    "duration": 12,
    "start_time": "2021-11-02T10:43:14.585Z"
   },
   {
    "duration": 34,
    "start_time": "2021-11-02T10:43:14.599Z"
   },
   {
    "duration": 7,
    "start_time": "2021-11-02T10:43:14.635Z"
   },
   {
    "duration": 10,
    "start_time": "2021-11-02T10:43:14.644Z"
   },
   {
    "duration": 8,
    "start_time": "2021-11-02T10:43:14.657Z"
   },
   {
    "duration": 5,
    "start_time": "2021-11-02T10:43:14.667Z"
   },
   {
    "duration": 8,
    "start_time": "2021-11-02T10:43:14.675Z"
   },
   {
    "duration": 5,
    "start_time": "2021-11-02T10:43:14.685Z"
   },
   {
    "duration": 5,
    "start_time": "2021-11-02T10:43:14.692Z"
   },
   {
    "duration": 5,
    "start_time": "2021-11-02T10:43:14.732Z"
   },
   {
    "duration": 6,
    "start_time": "2021-11-02T10:43:14.743Z"
   },
   {
    "duration": 5,
    "start_time": "2021-11-02T10:43:14.751Z"
   },
   {
    "duration": 15,
    "start_time": "2021-11-02T10:44:45.795Z"
   },
   {
    "duration": 376,
    "start_time": "2021-11-02T10:44:56.827Z"
   },
   {
    "duration": 13,
    "start_time": "2021-11-02T10:45:04.014Z"
   },
   {
    "duration": 15,
    "start_time": "2021-11-02T10:49:27.095Z"
   },
   {
    "duration": 25,
    "start_time": "2021-11-02T10:50:20.275Z"
   },
   {
    "duration": 44,
    "start_time": "2021-11-02T10:51:20.626Z"
   },
   {
    "duration": 25,
    "start_time": "2021-11-02T10:55:12.575Z"
   },
   {
    "duration": 102,
    "start_time": "2021-11-02T11:17:20.665Z"
   },
   {
    "duration": 5,
    "start_time": "2021-11-02T11:18:23.539Z"
   },
   {
    "duration": 517,
    "start_time": "2021-11-02T11:19:23.711Z"
   },
   {
    "duration": 6,
    "start_time": "2021-11-02T11:20:53.948Z"
   },
   {
    "duration": 493,
    "start_time": "2021-11-02T11:20:56.740Z"
   },
   {
    "duration": 5,
    "start_time": "2021-11-02T11:41:55.202Z"
   },
   {
    "duration": 502,
    "start_time": "2021-11-02T11:41:57.504Z"
   },
   {
    "duration": 8,
    "start_time": "2021-11-02T11:43:39.427Z"
   },
   {
    "duration": 555,
    "start_time": "2021-11-02T11:43:40.658Z"
   },
   {
    "duration": 8,
    "start_time": "2021-11-02T11:47:48.793Z"
   },
   {
    "duration": 527,
    "start_time": "2021-11-02T11:47:50.750Z"
   },
   {
    "duration": 5,
    "start_time": "2021-11-02T11:48:18.880Z"
   },
   {
    "duration": 1810,
    "start_time": "2021-11-02T11:48:20.925Z"
   },
   {
    "duration": 8,
    "start_time": "2021-11-02T11:49:40.591Z"
   },
   {
    "duration": 32,
    "start_time": "2021-11-02T11:49:42.278Z"
   },
   {
    "duration": 30,
    "start_time": "2021-11-02T11:54:19.252Z"
   },
   {
    "duration": 31,
    "start_time": "2021-11-02T11:54:24.060Z"
   },
   {
    "duration": 42,
    "start_time": "2021-11-02T11:54:28.457Z"
   },
   {
    "duration": 6,
    "start_time": "2021-11-02T12:01:33.798Z"
   },
   {
    "duration": 34,
    "start_time": "2021-11-02T12:01:35.871Z"
   },
   {
    "duration": 31,
    "start_time": "2021-11-02T12:01:40.195Z"
   },
   {
    "duration": 30,
    "start_time": "2021-11-02T12:01:43.894Z"
   },
   {
    "duration": 31,
    "start_time": "2021-11-02T12:01:48.357Z"
   },
   {
    "duration": 6,
    "start_time": "2021-11-02T12:02:11.822Z"
   },
   {
    "duration": 7823,
    "start_time": "2021-11-02T12:02:15.207Z"
   },
   {
    "duration": 14294,
    "start_time": "2021-11-02T12:02:23.033Z"
   },
   {
    "duration": 7,
    "start_time": "2021-11-02T12:03:09.196Z"
   },
   {
    "duration": 110,
    "start_time": "2021-11-02T12:03:09.205Z"
   },
   {
    "duration": 41,
    "start_time": "2021-11-02T12:03:19.106Z"
   },
   {
    "duration": 8,
    "start_time": "2021-11-02T12:03:35.258Z"
   },
   {
    "duration": 34,
    "start_time": "2021-11-02T12:03:37.606Z"
   },
   {
    "duration": 30,
    "start_time": "2021-11-02T12:03:41.274Z"
   },
   {
    "duration": 30,
    "start_time": "2021-11-02T12:03:44.351Z"
   },
   {
    "duration": 29,
    "start_time": "2021-11-02T12:03:46.126Z"
   },
   {
    "duration": 7,
    "start_time": "2021-11-02T12:04:05.370Z"
   },
   {
    "duration": 35,
    "start_time": "2021-11-02T12:04:08.486Z"
   },
   {
    "duration": 6,
    "start_time": "2021-11-02T12:04:28.451Z"
   },
   {
    "duration": 4750,
    "start_time": "2021-11-02T12:04:32.284Z"
   },
   {
    "duration": 5,
    "start_time": "2021-11-02T12:05:40.288Z"
   },
   {
    "duration": 479,
    "start_time": "2021-11-02T12:05:42.098Z"
   },
   {
    "duration": 6,
    "start_time": "2021-11-02T12:08:10.253Z"
   },
   {
    "duration": 30,
    "start_time": "2021-11-02T12:08:13.026Z"
   },
   {
    "duration": 32,
    "start_time": "2021-11-02T12:08:16.794Z"
   },
   {
    "duration": 34,
    "start_time": "2021-11-02T12:08:19.608Z"
   },
   {
    "duration": 6,
    "start_time": "2021-11-02T12:08:30.573Z"
   },
   {
    "duration": 7,
    "start_time": "2021-11-02T12:10:39.679Z"
   },
   {
    "duration": 564,
    "start_time": "2021-11-02T12:10:41.431Z"
   },
   {
    "duration": 6,
    "start_time": "2021-11-02T12:11:21.857Z"
   },
   {
    "duration": 38,
    "start_time": "2021-11-02T12:11:23.864Z"
   },
   {
    "duration": 61,
    "start_time": "2021-11-02T12:11:28.586Z"
   },
   {
    "duration": 61,
    "start_time": "2021-11-02T12:11:39.231Z"
   },
   {
    "duration": 50,
    "start_time": "2021-11-02T12:11:45.799Z"
   },
   {
    "duration": 5,
    "start_time": "2021-11-02T12:13:51.689Z"
   },
   {
    "duration": 50,
    "start_time": "2021-11-02T12:13:53.836Z"
   },
   {
    "duration": 5,
    "start_time": "2021-11-02T12:20:47.770Z"
   },
   {
    "duration": 30,
    "start_time": "2021-11-02T12:20:49.130Z"
   },
   {
    "duration": 30,
    "start_time": "2021-11-02T12:20:50.051Z"
   },
   {
    "duration": 30,
    "start_time": "2021-11-02T12:20:51.237Z"
   },
   {
    "duration": 30,
    "start_time": "2021-11-02T12:20:54.823Z"
   },
   {
    "duration": 6,
    "start_time": "2021-11-02T12:23:15.292Z"
   },
   {
    "duration": 30,
    "start_time": "2021-11-02T12:23:17.526Z"
   },
   {
    "duration": 720,
    "start_time": "2021-11-02T12:24:43.355Z"
   },
   {
    "duration": 194,
    "start_time": "2021-11-02T12:24:44.077Z"
   },
   {
    "duration": 26,
    "start_time": "2021-11-02T12:24:44.274Z"
   },
   {
    "duration": 52,
    "start_time": "2021-11-02T12:24:44.304Z"
   },
   {
    "duration": 14,
    "start_time": "2021-11-02T12:24:44.358Z"
   },
   {
    "duration": 75,
    "start_time": "2021-11-02T12:24:44.375Z"
   },
   {
    "duration": 6,
    "start_time": "2021-11-02T12:24:44.453Z"
   },
   {
    "duration": 68,
    "start_time": "2021-11-02T12:24:44.463Z"
   },
   {
    "duration": 28,
    "start_time": "2021-11-02T12:24:44.538Z"
   },
   {
    "duration": 73,
    "start_time": "2021-11-02T12:24:44.570Z"
   },
   {
    "duration": 121,
    "start_time": "2021-11-02T12:24:44.646Z"
   },
   {
    "duration": 133,
    "start_time": "2021-11-02T12:24:44.770Z"
   },
   {
    "duration": 94,
    "start_time": "2021-11-02T12:24:44.906Z"
   },
   {
    "duration": 29,
    "start_time": "2021-11-02T12:24:45.003Z"
   },
   {
    "duration": 6,
    "start_time": "2021-11-02T12:24:45.035Z"
   },
   {
    "duration": 28,
    "start_time": "2021-11-02T12:24:45.044Z"
   },
   {
    "duration": 55,
    "start_time": "2021-11-02T12:24:45.074Z"
   },
   {
    "duration": 18,
    "start_time": "2021-11-02T12:24:45.132Z"
   },
   {
    "duration": 19,
    "start_time": "2021-11-02T12:24:45.152Z"
   },
   {
    "duration": 55,
    "start_time": "2021-11-02T12:24:45.174Z"
   },
   {
    "duration": 35,
    "start_time": "2021-11-02T12:24:45.233Z"
   },
   {
    "duration": 65,
    "start_time": "2021-11-02T12:24:45.271Z"
   },
   {
    "duration": 23,
    "start_time": "2021-11-02T12:24:45.339Z"
   },
   {
    "duration": 21,
    "start_time": "2021-11-02T12:24:45.364Z"
   },
   {
    "duration": 58,
    "start_time": "2021-11-02T12:24:45.387Z"
   },
   {
    "duration": 20,
    "start_time": "2021-11-02T12:24:45.448Z"
   },
   {
    "duration": 57,
    "start_time": "2021-11-02T12:24:45.472Z"
   },
   {
    "duration": 29,
    "start_time": "2021-11-02T12:24:45.532Z"
   },
   {
    "duration": 66,
    "start_time": "2021-11-02T12:24:45.564Z"
   },
   {
    "duration": 5,
    "start_time": "2021-11-02T12:24:45.633Z"
   },
   {
    "duration": 36,
    "start_time": "2021-11-02T12:24:45.641Z"
   },
   {
    "duration": 67,
    "start_time": "2021-11-02T12:24:45.680Z"
   },
   {
    "duration": 31,
    "start_time": "2021-11-02T12:24:45.750Z"
   },
   {
    "duration": 66,
    "start_time": "2021-11-02T12:24:45.783Z"
   },
   {
    "duration": 3,
    "start_time": "2021-11-02T12:24:45.852Z"
   },
   {
    "duration": 7,
    "start_time": "2021-11-02T12:24:45.858Z"
   },
   {
    "duration": 12,
    "start_time": "2021-11-02T12:24:45.867Z"
   },
   {
    "duration": 6,
    "start_time": "2021-11-02T12:24:45.882Z"
   },
   {
    "duration": 6,
    "start_time": "2021-11-02T12:26:33.422Z"
   },
   {
    "duration": 575,
    "start_time": "2021-11-02T12:26:35.236Z"
   },
   {
    "duration": 6,
    "start_time": "2021-11-02T12:28:42.411Z"
   },
   {
    "duration": 30,
    "start_time": "2021-11-02T12:28:44.034Z"
   },
   {
    "duration": 5,
    "start_time": "2021-11-02T12:32:37.345Z"
   },
   {
    "duration": 526,
    "start_time": "2021-11-02T12:32:39.119Z"
   },
   {
    "duration": 6,
    "start_time": "2021-11-02T12:32:58.654Z"
   },
   {
    "duration": 34,
    "start_time": "2021-11-02T12:33:00.309Z"
   },
   {
    "duration": 29,
    "start_time": "2021-11-02T12:33:26.308Z"
   },
   {
    "duration": 31,
    "start_time": "2021-11-02T12:33:29.187Z"
   },
   {
    "duration": 30,
    "start_time": "2021-11-02T12:33:30.467Z"
   },
   {
    "duration": 6,
    "start_time": "2021-11-02T12:38:41.355Z"
   },
   {
    "duration": 495,
    "start_time": "2021-11-02T12:38:43.108Z"
   },
   {
    "duration": 6,
    "start_time": "2021-11-02T12:38:55.827Z"
   },
   {
    "duration": 33,
    "start_time": "2021-11-02T12:38:57.329Z"
   },
   {
    "duration": 796,
    "start_time": "2021-11-02T13:04:22.700Z"
   },
   {
    "duration": 196,
    "start_time": "2021-11-02T13:04:23.498Z"
   },
   {
    "duration": 39,
    "start_time": "2021-11-02T13:04:23.696Z"
   },
   {
    "duration": 40,
    "start_time": "2021-11-02T13:04:23.738Z"
   },
   {
    "duration": 6,
    "start_time": "2021-11-02T13:04:23.780Z"
   },
   {
    "duration": 61,
    "start_time": "2021-11-02T13:04:23.788Z"
   },
   {
    "duration": 6,
    "start_time": "2021-11-02T13:04:23.851Z"
   },
   {
    "duration": 73,
    "start_time": "2021-11-02T13:04:23.859Z"
   },
   {
    "duration": 44,
    "start_time": "2021-11-02T13:04:23.936Z"
   },
   {
    "duration": 42,
    "start_time": "2021-11-02T13:04:23.983Z"
   },
   {
    "duration": 107,
    "start_time": "2021-11-02T13:04:24.029Z"
   },
   {
    "duration": 128,
    "start_time": "2021-11-02T13:04:24.138Z"
   },
   {
    "duration": 98,
    "start_time": "2021-11-02T13:04:24.269Z"
   },
   {
    "duration": 11,
    "start_time": "2021-11-02T13:04:24.369Z"
   },
   {
    "duration": 18,
    "start_time": "2021-11-02T13:04:24.382Z"
   },
   {
    "duration": 39,
    "start_time": "2021-11-02T13:04:24.402Z"
   },
   {
    "duration": 9,
    "start_time": "2021-11-02T13:04:24.444Z"
   },
   {
    "duration": 13,
    "start_time": "2021-11-02T13:04:24.456Z"
   },
   {
    "duration": 64,
    "start_time": "2021-11-02T13:04:24.471Z"
   },
   {
    "duration": 5,
    "start_time": "2021-11-02T13:04:24.537Z"
   },
   {
    "duration": 35,
    "start_time": "2021-11-02T13:04:24.545Z"
   },
   {
    "duration": 66,
    "start_time": "2021-11-02T13:04:24.583Z"
   },
   {
    "duration": 22,
    "start_time": "2021-11-02T13:04:24.653Z"
   },
   {
    "duration": 62,
    "start_time": "2021-11-02T13:04:24.677Z"
   },
   {
    "duration": 26,
    "start_time": "2021-11-02T13:04:24.742Z"
   },
   {
    "duration": 65,
    "start_time": "2021-11-02T13:04:24.771Z"
   },
   {
    "duration": 12,
    "start_time": "2021-11-02T13:04:24.841Z"
   },
   {
    "duration": 31,
    "start_time": "2021-11-02T13:04:24.857Z"
   },
   {
    "duration": 29,
    "start_time": "2021-11-02T13:04:24.930Z"
   },
   {
    "duration": 5,
    "start_time": "2021-11-02T13:04:24.961Z"
   },
   {
    "duration": 76,
    "start_time": "2021-11-02T13:04:24.968Z"
   },
   {
    "duration": 31,
    "start_time": "2021-11-02T13:04:25.046Z"
   },
   {
    "duration": 70,
    "start_time": "2021-11-02T13:04:25.079Z"
   },
   {
    "duration": 29,
    "start_time": "2021-11-02T13:04:25.152Z"
   },
   {
    "duration": 3,
    "start_time": "2021-11-02T13:04:25.183Z"
   },
   {
    "duration": 5,
    "start_time": "2021-11-02T13:04:25.229Z"
   },
   {
    "duration": 8,
    "start_time": "2021-11-02T13:04:25.237Z"
   },
   {
    "duration": 8,
    "start_time": "2021-11-02T13:04:25.248Z"
   },
   {
    "duration": 32,
    "start_time": "2021-11-02T13:14:40.397Z"
   },
   {
    "duration": 345,
    "start_time": "2021-11-02T13:16:09.279Z"
   },
   {
    "duration": 32,
    "start_time": "2021-11-02T13:16:33.481Z"
   },
   {
    "duration": 13,
    "start_time": "2021-11-02T13:16:36.766Z"
   },
   {
    "duration": 249,
    "start_time": "2021-11-02T13:18:35.232Z"
   },
   {
    "duration": 8,
    "start_time": "2021-11-02T14:35:26.700Z"
   },
   {
    "duration": 442,
    "start_time": "2021-11-02T14:35:28.564Z"
   },
   {
    "duration": 6,
    "start_time": "2021-11-02T14:35:57.862Z"
   },
   {
    "duration": 48,
    "start_time": "2021-11-02T14:35:59.307Z"
   },
   {
    "duration": 84,
    "start_time": "2021-11-02T14:36:18.134Z"
   },
   {
    "duration": 5,
    "start_time": "2021-11-02T14:36:22.449Z"
   },
   {
    "duration": 486,
    "start_time": "2021-11-02T14:36:24.059Z"
   },
   {
    "duration": 6,
    "start_time": "2021-11-02T14:36:49.771Z"
   },
   {
    "duration": 49,
    "start_time": "2021-11-02T14:36:51.664Z"
   },
   {
    "duration": 5,
    "start_time": "2021-11-02T14:38:48.810Z"
   },
   {
    "duration": 45,
    "start_time": "2021-11-02T14:38:50.674Z"
   },
   {
    "duration": 5,
    "start_time": "2021-11-02T14:40:45.142Z"
   },
   {
    "duration": 39,
    "start_time": "2021-11-02T14:40:47.356Z"
   },
   {
    "duration": 715,
    "start_time": "2021-11-02T14:40:56.140Z"
   },
   {
    "duration": 195,
    "start_time": "2021-11-02T14:40:56.857Z"
   },
   {
    "duration": 26,
    "start_time": "2021-11-02T14:40:57.055Z"
   },
   {
    "duration": 62,
    "start_time": "2021-11-02T14:40:57.084Z"
   },
   {
    "duration": 7,
    "start_time": "2021-11-02T14:40:57.148Z"
   },
   {
    "duration": 39,
    "start_time": "2021-11-02T14:40:57.157Z"
   },
   {
    "duration": 31,
    "start_time": "2021-11-02T14:40:57.199Z"
   },
   {
    "duration": 37,
    "start_time": "2021-11-02T14:40:57.234Z"
   },
   {
    "duration": 54,
    "start_time": "2021-11-02T14:40:57.275Z"
   },
   {
    "duration": 30,
    "start_time": "2021-11-02T14:40:57.332Z"
   },
   {
    "duration": 118,
    "start_time": "2021-11-02T14:40:57.370Z"
   },
   {
    "duration": 115,
    "start_time": "2021-11-02T14:40:57.490Z"
   },
   {
    "duration": 88,
    "start_time": "2021-11-02T14:40:57.607Z"
   },
   {
    "duration": 10,
    "start_time": "2021-11-02T14:40:57.698Z"
   },
   {
    "duration": 4,
    "start_time": "2021-11-02T14:40:57.730Z"
   },
   {
    "duration": 34,
    "start_time": "2021-11-02T14:40:57.736Z"
   },
   {
    "duration": 10,
    "start_time": "2021-11-02T14:40:57.773Z"
   },
   {
    "duration": 43,
    "start_time": "2021-11-02T14:40:57.786Z"
   },
   {
    "duration": 16,
    "start_time": "2021-11-02T14:40:57.832Z"
   },
   {
    "duration": 5,
    "start_time": "2021-11-02T14:40:57.850Z"
   },
   {
    "duration": 77,
    "start_time": "2021-11-02T14:40:57.858Z"
   },
   {
    "duration": 20,
    "start_time": "2021-11-02T14:40:57.938Z"
   },
   {
    "duration": 33,
    "start_time": "2021-11-02T14:40:57.963Z"
   },
   {
    "duration": 21,
    "start_time": "2021-11-02T14:40:58.030Z"
   },
   {
    "duration": 25,
    "start_time": "2021-11-02T14:40:58.053Z"
   },
   {
    "duration": 63,
    "start_time": "2021-11-02T14:40:58.080Z"
   },
   {
    "duration": 14,
    "start_time": "2021-11-02T14:40:58.145Z"
   },
   {
    "duration": 68,
    "start_time": "2021-11-02T14:40:58.162Z"
   },
   {
    "duration": 27,
    "start_time": "2021-11-02T14:40:58.233Z"
   },
   {
    "duration": 5,
    "start_time": "2021-11-02T14:40:58.262Z"
   },
   {
    "duration": 89,
    "start_time": "2021-11-02T14:40:58.270Z"
   },
   {
    "duration": 34,
    "start_time": "2021-11-02T14:40:58.362Z"
   },
   {
    "duration": 64,
    "start_time": "2021-11-02T14:40:58.399Z"
   },
   {
    "duration": 79,
    "start_time": "2021-11-02T14:40:58.466Z"
   },
   {
    "duration": 31,
    "start_time": "2021-11-02T14:40:58.548Z"
   },
   {
    "duration": 12,
    "start_time": "2021-11-02T14:40:58.582Z"
   },
   {
    "duration": 3,
    "start_time": "2021-11-02T14:40:58.630Z"
   },
   {
    "duration": 7,
    "start_time": "2021-11-02T14:40:58.636Z"
   },
   {
    "duration": 337,
    "start_time": "2021-11-02T14:41:45.191Z"
   },
   {
    "duration": 29,
    "start_time": "2021-11-02T14:41:57.030Z"
   },
   {
    "duration": 13,
    "start_time": "2021-11-02T14:42:04.335Z"
   },
   {
    "duration": 224,
    "start_time": "2021-11-02T14:43:10.959Z"
   },
   {
    "duration": 12,
    "start_time": "2021-11-02T14:43:22.424Z"
   },
   {
    "duration": 6,
    "start_time": "2021-11-02T14:43:25.110Z"
   },
   {
    "duration": 11,
    "start_time": "2021-11-02T14:45:03.386Z"
   },
   {
    "duration": 6,
    "start_time": "2021-11-02T14:45:33.941Z"
   },
   {
    "duration": 818,
    "start_time": "2021-11-02T14:50:00.026Z"
   },
   {
    "duration": 214,
    "start_time": "2021-11-02T14:50:00.847Z"
   },
   {
    "duration": 26,
    "start_time": "2021-11-02T14:50:01.064Z"
   },
   {
    "duration": 63,
    "start_time": "2021-11-02T14:50:01.093Z"
   },
   {
    "duration": 76,
    "start_time": "2021-11-02T14:50:01.158Z"
   },
   {
    "duration": 54,
    "start_time": "2021-11-02T14:50:01.236Z"
   },
   {
    "duration": 26,
    "start_time": "2021-11-02T14:50:01.293Z"
   },
   {
    "duration": 53,
    "start_time": "2021-11-02T14:50:01.322Z"
   },
   {
    "duration": 67,
    "start_time": "2021-11-02T14:50:01.378Z"
   },
   {
    "duration": 33,
    "start_time": "2021-11-02T14:50:01.448Z"
   },
   {
    "duration": 121,
    "start_time": "2021-11-02T14:50:01.484Z"
   },
   {
    "duration": 136,
    "start_time": "2021-11-02T14:50:01.607Z"
   },
   {
    "duration": 102,
    "start_time": "2021-11-02T14:50:01.746Z"
   },
   {
    "duration": 10,
    "start_time": "2021-11-02T14:50:01.851Z"
   },
   {
    "duration": 32,
    "start_time": "2021-11-02T14:50:01.863Z"
   },
   {
    "duration": 38,
    "start_time": "2021-11-02T14:50:01.898Z"
   },
   {
    "duration": 28,
    "start_time": "2021-11-02T14:50:01.938Z"
   },
   {
    "duration": 24,
    "start_time": "2021-11-02T14:50:01.968Z"
   },
   {
    "duration": 35,
    "start_time": "2021-11-02T14:50:01.995Z"
   },
   {
    "duration": 5,
    "start_time": "2021-11-02T14:50:02.032Z"
   },
   {
    "duration": 64,
    "start_time": "2021-11-02T14:50:02.040Z"
   },
   {
    "duration": 30,
    "start_time": "2021-11-02T14:50:02.106Z"
   },
   {
    "duration": 50,
    "start_time": "2021-11-02T14:50:02.141Z"
   },
   {
    "duration": 32,
    "start_time": "2021-11-02T14:50:02.194Z"
   },
   {
    "duration": 32,
    "start_time": "2021-11-02T14:50:02.228Z"
   },
   {
    "duration": 31,
    "start_time": "2021-11-02T14:50:02.263Z"
   },
   {
    "duration": 41,
    "start_time": "2021-11-02T14:50:02.296Z"
   },
   {
    "duration": 60,
    "start_time": "2021-11-02T14:50:02.339Z"
   },
   {
    "duration": 88,
    "start_time": "2021-11-02T14:50:02.402Z"
   },
   {
    "duration": 22,
    "start_time": "2021-11-02T14:50:02.493Z"
   },
   {
    "duration": 67,
    "start_time": "2021-11-02T14:50:02.518Z"
   },
   {
    "duration": 32,
    "start_time": "2021-11-02T14:50:02.588Z"
   },
   {
    "duration": 41,
    "start_time": "2021-11-02T14:50:02.622Z"
   },
   {
    "duration": 48,
    "start_time": "2021-11-02T14:50:02.665Z"
   },
   {
    "duration": 23,
    "start_time": "2021-11-02T14:50:02.729Z"
   },
   {
    "duration": 27,
    "start_time": "2021-11-02T14:50:02.755Z"
   },
   {
    "duration": 33,
    "start_time": "2021-11-02T14:50:02.784Z"
   },
   {
    "duration": 27,
    "start_time": "2021-11-02T14:50:02.819Z"
   },
   {
    "duration": 716,
    "start_time": "2021-11-02T14:51:25.457Z"
   },
   {
    "duration": 194,
    "start_time": "2021-11-02T14:51:26.176Z"
   },
   {
    "duration": 30,
    "start_time": "2021-11-02T14:51:26.373Z"
   },
   {
    "duration": 7,
    "start_time": "2021-11-02T14:51:26.430Z"
   },
   {
    "duration": 31,
    "start_time": "2021-11-02T14:51:26.440Z"
   },
   {
    "duration": 57,
    "start_time": "2021-11-02T14:51:26.474Z"
   },
   {
    "duration": 36,
    "start_time": "2021-11-02T14:51:26.534Z"
   },
   {
    "duration": 66,
    "start_time": "2021-11-02T14:51:26.573Z"
   },
   {
    "duration": 31,
    "start_time": "2021-11-02T14:51:26.643Z"
   },
   {
    "duration": 115,
    "start_time": "2021-11-02T14:51:26.677Z"
   },
   {
    "duration": 124,
    "start_time": "2021-11-02T14:51:26.795Z"
   },
   {
    "duration": 77,
    "start_time": "2021-11-02T14:51:26.922Z"
   },
   {
    "duration": 30,
    "start_time": "2021-11-02T14:51:27.001Z"
   },
   {
    "duration": 9,
    "start_time": "2021-11-02T14:51:27.033Z"
   },
   {
    "duration": 19,
    "start_time": "2021-11-02T14:51:27.045Z"
   },
   {
    "duration": 13,
    "start_time": "2021-11-02T14:51:27.067Z"
   },
   {
    "duration": 49,
    "start_time": "2021-11-02T14:51:27.083Z"
   },
   {
    "duration": 22,
    "start_time": "2021-11-02T14:51:27.135Z"
   },
   {
    "duration": 4,
    "start_time": "2021-11-02T14:51:27.159Z"
   },
   {
    "duration": 73,
    "start_time": "2021-11-02T14:51:27.166Z"
   },
   {
    "duration": 21,
    "start_time": "2021-11-02T14:51:27.241Z"
   },
   {
    "duration": 25,
    "start_time": "2021-11-02T14:51:27.265Z"
   },
   {
    "duration": 53,
    "start_time": "2021-11-02T14:51:27.293Z"
   },
   {
    "duration": 25,
    "start_time": "2021-11-02T14:51:27.349Z"
   },
   {
    "duration": 66,
    "start_time": "2021-11-02T14:51:27.376Z"
   },
   {
    "duration": 11,
    "start_time": "2021-11-02T14:51:27.444Z"
   },
   {
    "duration": 70,
    "start_time": "2021-11-02T14:51:27.460Z"
   },
   {
    "duration": 26,
    "start_time": "2021-11-02T14:51:27.533Z"
   },
   {
    "duration": 5,
    "start_time": "2021-11-02T14:51:27.561Z"
   },
   {
    "duration": 71,
    "start_time": "2021-11-02T14:51:27.568Z"
   },
   {
    "duration": 30,
    "start_time": "2021-11-02T14:51:27.641Z"
   },
   {
    "duration": 72,
    "start_time": "2021-11-02T14:51:27.673Z"
   },
   {
    "duration": 30,
    "start_time": "2021-11-02T14:51:27.748Z"
   },
   {
    "duration": 49,
    "start_time": "2021-11-02T14:51:27.780Z"
   },
   {
    "duration": 7,
    "start_time": "2021-11-02T14:51:27.832Z"
   },
   {
    "duration": 14,
    "start_time": "2021-11-02T14:51:27.841Z"
   },
   {
    "duration": 14,
    "start_time": "2021-11-02T14:51:27.858Z"
   },
   {
    "duration": 6,
    "start_time": "2021-11-02T15:00:40.342Z"
   },
   {
    "duration": 31,
    "start_time": "2021-11-02T15:00:42.118Z"
   },
   {
    "duration": 28,
    "start_time": "2021-11-02T15:00:46.907Z"
   },
   {
    "duration": 5,
    "start_time": "2021-11-02T15:00:58.101Z"
   },
   {
    "duration": 31,
    "start_time": "2021-11-02T15:01:00.045Z"
   },
   {
    "duration": 28,
    "start_time": "2021-11-02T15:01:03.307Z"
   },
   {
    "duration": 5,
    "start_time": "2021-11-02T15:02:05.545Z"
   },
   {
    "duration": 633,
    "start_time": "2021-11-02T15:02:06.996Z"
   },
   {
    "duration": 76,
    "start_time": "2021-11-02T15:03:13.150Z"
   },
   {
    "duration": 100,
    "start_time": "2021-11-02T15:03:24.460Z"
   },
   {
    "duration": 6,
    "start_time": "2021-11-02T15:06:02.544Z"
   },
   {
    "duration": 32,
    "start_time": "2021-11-02T15:06:04.170Z"
   },
   {
    "duration": 5,
    "start_time": "2021-11-02T15:07:47.504Z"
   },
   {
    "duration": 456,
    "start_time": "2021-11-02T15:07:49.043Z"
   },
   {
    "duration": 6,
    "start_time": "2021-11-02T15:13:53.303Z"
   },
   {
    "duration": 31,
    "start_time": "2021-11-02T15:13:54.865Z"
   },
   {
    "duration": 7,
    "start_time": "2021-11-02T15:22:06.246Z"
   },
   {
    "duration": 27,
    "start_time": "2021-11-02T15:22:08.289Z"
   },
   {
    "duration": 21,
    "start_time": "2021-11-02T15:22:21.408Z"
   },
   {
    "duration": 28,
    "start_time": "2021-11-02T15:22:22.583Z"
   },
   {
    "duration": 20,
    "start_time": "2021-11-02T15:22:23.377Z"
   },
   {
    "duration": 10,
    "start_time": "2021-11-02T15:22:28.388Z"
   },
   {
    "duration": 7,
    "start_time": "2021-11-02T15:22:30.131Z"
   },
   {
    "duration": 10,
    "start_time": "2021-11-02T15:22:35.357Z"
   },
   {
    "duration": 7,
    "start_time": "2021-11-02T15:22:36.832Z"
   },
   {
    "duration": 737,
    "start_time": "2021-11-02T15:25:59.661Z"
   },
   {
    "duration": 197,
    "start_time": "2021-11-02T15:26:00.401Z"
   },
   {
    "duration": 41,
    "start_time": "2021-11-02T15:26:00.602Z"
   },
   {
    "duration": 24,
    "start_time": "2021-11-02T15:26:00.646Z"
   },
   {
    "duration": 49,
    "start_time": "2021-11-02T15:26:00.672Z"
   },
   {
    "duration": 21,
    "start_time": "2021-11-02T15:26:00.728Z"
   },
   {
    "duration": 47,
    "start_time": "2021-11-02T15:26:00.752Z"
   },
   {
    "duration": 46,
    "start_time": "2021-11-02T15:26:00.803Z"
   },
   {
    "duration": 38,
    "start_time": "2021-11-02T15:26:00.852Z"
   },
   {
    "duration": 118,
    "start_time": "2021-11-02T15:26:00.893Z"
   },
   {
    "duration": 135,
    "start_time": "2021-11-02T15:26:01.015Z"
   },
   {
    "duration": 106,
    "start_time": "2021-11-02T15:26:01.153Z"
   },
   {
    "duration": 15,
    "start_time": "2021-11-02T15:26:01.262Z"
   },
   {
    "duration": 14,
    "start_time": "2021-11-02T15:26:01.280Z"
   },
   {
    "duration": 23,
    "start_time": "2021-11-02T15:26:01.330Z"
   },
   {
    "duration": 15,
    "start_time": "2021-11-02T15:26:01.355Z"
   },
   {
    "duration": 56,
    "start_time": "2021-11-02T15:26:01.374Z"
   },
   {
    "duration": 20,
    "start_time": "2021-11-02T15:26:01.432Z"
   },
   {
    "duration": 7,
    "start_time": "2021-11-02T15:26:01.455Z"
   },
   {
    "duration": 80,
    "start_time": "2021-11-02T15:26:01.465Z"
   },
   {
    "duration": 27,
    "start_time": "2021-11-02T15:26:01.549Z"
   },
   {
    "duration": 68,
    "start_time": "2021-11-02T15:26:01.579Z"
   },
   {
    "duration": 25,
    "start_time": "2021-11-02T15:26:01.652Z"
   },
   {
    "duration": 68,
    "start_time": "2021-11-02T15:26:01.681Z"
   },
   {
    "duration": 22,
    "start_time": "2021-11-02T15:26:01.752Z"
   },
   {
    "duration": 53,
    "start_time": "2021-11-02T15:26:01.776Z"
   },
   {
    "duration": 31,
    "start_time": "2021-11-02T15:26:01.831Z"
   },
   {
    "duration": 68,
    "start_time": "2021-11-02T15:26:01.865Z"
   },
   {
    "duration": 6,
    "start_time": "2021-11-02T15:26:01.935Z"
   },
   {
    "duration": 35,
    "start_time": "2021-11-02T15:26:01.943Z"
   },
   {
    "duration": 56,
    "start_time": "2021-11-02T15:26:01.980Z"
   },
   {
    "duration": 41,
    "start_time": "2021-11-02T15:26:02.039Z"
   },
   {
    "duration": 19,
    "start_time": "2021-11-02T15:26:02.083Z"
   },
   {
    "duration": 34,
    "start_time": "2021-11-02T15:26:02.105Z"
   },
   {
    "duration": 8,
    "start_time": "2021-11-02T15:26:02.141Z"
   },
   {
    "duration": 15,
    "start_time": "2021-11-02T15:26:02.152Z"
   },
   {
    "duration": 7,
    "start_time": "2021-11-02T15:26:02.170Z"
   },
   {
    "duration": 635,
    "start_time": "2021-11-03T06:25:56.391Z"
   },
   {
    "duration": 142,
    "start_time": "2021-11-03T06:25:57.027Z"
   },
   {
    "duration": 23,
    "start_time": "2021-11-03T06:25:57.171Z"
   },
   {
    "duration": 4,
    "start_time": "2021-11-03T06:25:57.196Z"
   },
   {
    "duration": 25,
    "start_time": "2021-11-03T06:25:57.202Z"
   },
   {
    "duration": 5,
    "start_time": "2021-11-03T06:25:57.229Z"
   },
   {
    "duration": 54,
    "start_time": "2021-11-03T06:25:57.236Z"
   },
   {
    "duration": 19,
    "start_time": "2021-11-03T06:25:57.294Z"
   },
   {
    "duration": 27,
    "start_time": "2021-11-03T06:25:57.316Z"
   },
   {
    "duration": 121,
    "start_time": "2021-11-03T06:25:57.345Z"
   },
   {
    "duration": 119,
    "start_time": "2021-11-03T06:25:57.477Z"
   },
   {
    "duration": 51,
    "start_time": "2021-11-03T06:25:57.598Z"
   },
   {
    "duration": 7,
    "start_time": "2021-11-03T06:25:57.651Z"
   },
   {
    "duration": 3,
    "start_time": "2021-11-03T06:25:57.676Z"
   },
   {
    "duration": 13,
    "start_time": "2021-11-03T06:25:57.681Z"
   },
   {
    "duration": 8,
    "start_time": "2021-11-03T06:25:57.696Z"
   },
   {
    "duration": 10,
    "start_time": "2021-11-03T06:25:57.707Z"
   },
   {
    "duration": 13,
    "start_time": "2021-11-03T06:25:57.719Z"
   },
   {
    "duration": 4,
    "start_time": "2021-11-03T06:25:57.733Z"
   },
   {
    "duration": 55,
    "start_time": "2021-11-03T06:25:57.739Z"
   },
   {
    "duration": 15,
    "start_time": "2021-11-03T06:25:57.796Z"
   },
   {
    "duration": 17,
    "start_time": "2021-11-03T06:25:57.813Z"
   },
   {
    "duration": 16,
    "start_time": "2021-11-03T06:25:57.834Z"
   },
   {
    "duration": 21,
    "start_time": "2021-11-03T06:25:57.878Z"
   },
   {
    "duration": 17,
    "start_time": "2021-11-03T06:25:57.900Z"
   },
   {
    "duration": 8,
    "start_time": "2021-11-03T06:25:57.919Z"
   },
   {
    "duration": 50,
    "start_time": "2021-11-03T06:25:57.929Z"
   },
   {
    "duration": 20,
    "start_time": "2021-11-03T06:25:57.981Z"
   },
   {
    "duration": 4,
    "start_time": "2021-11-03T06:25:58.002Z"
   },
   {
    "duration": 22,
    "start_time": "2021-11-03T06:25:58.008Z"
   },
   {
    "duration": 12,
    "start_time": "2021-11-03T06:25:58.032Z"
   },
   {
    "duration": 44,
    "start_time": "2021-11-03T06:25:58.046Z"
   },
   {
    "duration": 14,
    "start_time": "2021-11-03T06:25:58.092Z"
   },
   {
    "duration": 8,
    "start_time": "2021-11-03T06:25:58.108Z"
   },
   {
    "duration": 5,
    "start_time": "2021-11-03T06:25:58.118Z"
   },
   {
    "duration": 8,
    "start_time": "2021-11-03T06:25:58.125Z"
   },
   {
    "duration": 43,
    "start_time": "2021-11-03T06:25:58.135Z"
   },
   {
    "duration": 416,
    "start_time": "2021-11-03T06:26:26.184Z"
   },
   {
    "duration": 5,
    "start_time": "2021-11-03T06:26:46.424Z"
   },
   {
    "duration": 1818,
    "start_time": "2021-11-03T11:52:18.847Z"
   },
   {
    "duration": 117,
    "start_time": "2021-11-03T11:53:02.211Z"
   },
   {
    "duration": 137,
    "start_time": "2021-11-03T12:19:20.037Z"
   },
   {
    "duration": 142,
    "start_time": "2021-11-03T12:19:57.828Z"
   },
   {
    "duration": 460,
    "start_time": "2021-11-03T12:24:59.598Z"
   },
   {
    "duration": 1024,
    "start_time": "2021-11-03T12:25:20.833Z"
   },
   {
    "duration": 268,
    "start_time": "2021-11-03T12:25:21.861Z"
   },
   {
    "duration": 32,
    "start_time": "2021-11-03T12:25:22.133Z"
   },
   {
    "duration": 55,
    "start_time": "2021-11-03T12:25:22.168Z"
   },
   {
    "duration": 9,
    "start_time": "2021-11-03T12:25:22.225Z"
   },
   {
    "duration": 30,
    "start_time": "2021-11-03T12:25:22.236Z"
   },
   {
    "duration": 33,
    "start_time": "2021-11-03T12:25:22.269Z"
   },
   {
    "duration": 30,
    "start_time": "2021-11-03T12:25:22.305Z"
   },
   {
    "duration": 21,
    "start_time": "2021-11-03T12:25:22.338Z"
   },
   {
    "duration": 59,
    "start_time": "2021-11-03T12:25:22.362Z"
   },
   {
    "duration": 107,
    "start_time": "2021-11-03T12:25:22.424Z"
   },
   {
    "duration": 115,
    "start_time": "2021-11-03T12:25:22.533Z"
   },
   {
    "duration": 92,
    "start_time": "2021-11-03T12:25:22.650Z"
   },
   {
    "duration": 10,
    "start_time": "2021-11-03T12:25:22.745Z"
   },
   {
    "duration": 5,
    "start_time": "2021-11-03T12:25:22.758Z"
   },
   {
    "duration": 44,
    "start_time": "2021-11-03T12:25:22.766Z"
   },
   {
    "duration": 13,
    "start_time": "2021-11-03T12:25:22.813Z"
   },
   {
    "duration": 13,
    "start_time": "2021-11-03T12:25:22.828Z"
   },
   {
    "duration": 19,
    "start_time": "2021-11-03T12:25:22.844Z"
   },
   {
    "duration": 39,
    "start_time": "2021-11-03T12:25:22.866Z"
   },
   {
    "duration": 43,
    "start_time": "2021-11-03T12:25:22.908Z"
   },
   {
    "duration": 21,
    "start_time": "2021-11-03T12:25:22.953Z"
   },
   {
    "duration": 45,
    "start_time": "2021-11-03T12:25:22.979Z"
   },
   {
    "duration": 22,
    "start_time": "2021-11-03T12:25:23.028Z"
   },
   {
    "duration": 57,
    "start_time": "2021-11-03T12:25:23.053Z"
   },
   {
    "duration": 20,
    "start_time": "2021-11-03T12:25:23.112Z"
   },
   {
    "duration": 12,
    "start_time": "2021-11-03T12:25:23.134Z"
   },
   {
    "duration": 66,
    "start_time": "2021-11-03T12:25:23.148Z"
   },
   {
    "duration": 26,
    "start_time": "2021-11-03T12:25:23.217Z"
   },
   {
    "duration": 5,
    "start_time": "2021-11-03T12:25:23.246Z"
   },
   {
    "duration": 53,
    "start_time": "2021-11-03T12:25:23.253Z"
   },
   {
    "duration": 18,
    "start_time": "2021-11-03T12:25:23.309Z"
   },
   {
    "duration": 38,
    "start_time": "2021-11-03T12:25:23.330Z"
   },
   {
    "duration": 54,
    "start_time": "2021-11-03T12:25:23.371Z"
   },
   {
    "duration": 13,
    "start_time": "2021-11-03T12:25:23.428Z"
   },
   {
    "duration": 6,
    "start_time": "2021-11-03T12:25:23.443Z"
   },
   {
    "duration": 12,
    "start_time": "2021-11-03T12:25:23.451Z"
   },
   {
    "duration": 6,
    "start_time": "2021-11-03T12:25:23.501Z"
   },
   {
    "duration": 128,
    "start_time": "2021-11-03T12:26:55.227Z"
   },
   {
    "duration": 150,
    "start_time": "2021-11-03T12:30:01.259Z"
   },
   {
    "duration": 192,
    "start_time": "2021-11-03T12:30:38.151Z"
   },
   {
    "duration": 131,
    "start_time": "2021-11-03T12:30:46.715Z"
   },
   {
    "duration": 126,
    "start_time": "2021-11-03T12:31:50.918Z"
   },
   {
    "duration": 147,
    "start_time": "2021-11-03T12:32:57.600Z"
   },
   {
    "duration": 127,
    "start_time": "2021-11-03T12:33:06.997Z"
   },
   {
    "duration": 142,
    "start_time": "2021-11-03T12:34:40.440Z"
   },
   {
    "duration": 129,
    "start_time": "2021-11-03T12:34:48.256Z"
   },
   {
    "duration": 112,
    "start_time": "2021-11-03T12:34:52.051Z"
   },
   {
    "duration": 152,
    "start_time": "2021-11-03T12:36:30.374Z"
   },
   {
    "duration": 464,
    "start_time": "2021-11-03T12:54:10.458Z"
   },
   {
    "duration": 12,
    "start_time": "2021-11-03T12:55:02.859Z"
   },
   {
    "duration": 77,
    "start_time": "2021-11-03T12:56:21.057Z"
   },
   {
    "duration": 11,
    "start_time": "2021-11-03T12:56:38.102Z"
   },
   {
    "duration": 585,
    "start_time": "2021-11-03T12:58:06.390Z"
   },
   {
    "duration": 598,
    "start_time": "2021-11-03T12:58:12.939Z"
   },
   {
    "duration": 79,
    "start_time": "2021-11-03T12:58:48.062Z"
   },
   {
    "duration": 1580,
    "start_time": "2021-11-03T12:59:21.506Z"
   },
   {
    "duration": 78,
    "start_time": "2021-11-03T12:59:31.700Z"
   },
   {
    "duration": 162,
    "start_time": "2021-11-03T13:00:43.888Z"
   },
   {
    "duration": 4,
    "start_time": "2021-11-03T13:01:33.671Z"
   },
   {
    "duration": 31,
    "start_time": "2021-11-03T13:01:49.386Z"
   },
   {
    "duration": 75,
    "start_time": "2021-11-03T13:02:28.872Z"
   },
   {
    "duration": 200,
    "start_time": "2021-11-03T13:04:58.904Z"
   },
   {
    "duration": 132,
    "start_time": "2021-11-03T13:05:36.838Z"
   },
   {
    "duration": 15,
    "start_time": "2021-11-03T13:07:44.128Z"
   },
   {
    "duration": 15,
    "start_time": "2021-11-03T13:08:20.651Z"
   },
   {
    "duration": 5,
    "start_time": "2021-11-03T13:08:38.238Z"
   },
   {
    "duration": 139,
    "start_time": "2021-11-03T13:08:59.396Z"
   },
   {
    "duration": 5,
    "start_time": "2021-11-03T13:09:19.759Z"
   },
   {
    "duration": 21,
    "start_time": "2021-11-03T13:09:23.908Z"
   },
   {
    "duration": 19,
    "start_time": "2021-11-03T13:09:26.906Z"
   },
   {
    "duration": 29,
    "start_time": "2021-11-03T13:10:04.749Z"
   },
   {
    "duration": 32,
    "start_time": "2021-11-03T13:10:36.498Z"
   },
   {
    "duration": 28,
    "start_time": "2021-11-03T13:12:47.365Z"
   },
   {
    "duration": 24,
    "start_time": "2021-11-03T13:12:49.665Z"
   },
   {
    "duration": 1034,
    "start_time": "2021-11-03T13:15:05.287Z"
   },
   {
    "duration": 240,
    "start_time": "2021-11-03T13:15:06.324Z"
   },
   {
    "duration": 34,
    "start_time": "2021-11-03T13:15:06.568Z"
   },
   {
    "duration": 33,
    "start_time": "2021-11-03T13:15:06.605Z"
   },
   {
    "duration": 6,
    "start_time": "2021-11-03T13:15:06.640Z"
   },
   {
    "duration": 64,
    "start_time": "2021-11-03T13:15:06.648Z"
   },
   {
    "duration": 10,
    "start_time": "2021-11-03T13:15:06.714Z"
   },
   {
    "duration": 34,
    "start_time": "2021-11-03T13:15:06.729Z"
   },
   {
    "duration": 55,
    "start_time": "2021-11-03T13:15:06.767Z"
   },
   {
    "duration": 32,
    "start_time": "2021-11-03T13:15:06.825Z"
   },
   {
    "duration": 118,
    "start_time": "2021-11-03T13:15:06.860Z"
   },
   {
    "duration": 109,
    "start_time": "2021-11-03T13:15:06.981Z"
   },
   {
    "duration": 82,
    "start_time": "2021-11-03T13:15:07.092Z"
   },
   {
    "duration": 90,
    "start_time": "2021-11-03T13:15:07.176Z"
   },
   {
    "duration": 4,
    "start_time": "2021-11-03T13:15:07.269Z"
   },
   {
    "duration": 46,
    "start_time": "2021-11-03T13:15:07.275Z"
   },
   {
    "duration": 89,
    "start_time": "2021-11-03T13:15:07.324Z"
   },
   {
    "duration": 15,
    "start_time": "2021-11-03T13:15:07.416Z"
   },
   {
    "duration": 132,
    "start_time": "2021-11-03T13:15:07.433Z"
   },
   {
    "duration": 56,
    "start_time": "2021-11-03T13:15:07.513Z"
   },
   {
    "duration": 50,
    "start_time": "2021-11-03T13:15:07.521Z"
   },
   {
    "duration": 38,
    "start_time": "2021-11-03T13:15:07.534Z"
   },
   {
    "duration": 21,
    "start_time": "2021-11-03T13:15:07.553Z"
   },
   {
    "duration": 6,
    "start_time": "2021-11-03T13:15:07.569Z"
   },
   {
    "duration": -5,
    "start_time": "2021-11-03T13:15:07.581Z"
   },
   {
    "duration": -18,
    "start_time": "2021-11-03T13:15:07.596Z"
   },
   {
    "duration": -24,
    "start_time": "2021-11-03T13:15:07.603Z"
   },
   {
    "duration": -35,
    "start_time": "2021-11-03T13:15:07.615Z"
   },
   {
    "duration": -66,
    "start_time": "2021-11-03T13:15:07.648Z"
   },
   {
    "duration": -70,
    "start_time": "2021-11-03T13:15:07.653Z"
   },
   {
    "duration": -75,
    "start_time": "2021-11-03T13:15:07.660Z"
   },
   {
    "duration": -79,
    "start_time": "2021-11-03T13:15:07.665Z"
   },
   {
    "duration": -81,
    "start_time": "2021-11-03T13:15:07.669Z"
   },
   {
    "duration": -86,
    "start_time": "2021-11-03T13:15:07.675Z"
   },
   {
    "duration": -91,
    "start_time": "2021-11-03T13:15:07.681Z"
   },
   {
    "duration": -93,
    "start_time": "2021-11-03T13:15:07.685Z"
   },
   {
    "duration": -98,
    "start_time": "2021-11-03T13:15:07.691Z"
   },
   {
    "duration": -102,
    "start_time": "2021-11-03T13:15:07.696Z"
   },
   {
    "duration": -103,
    "start_time": "2021-11-03T13:15:07.700Z"
   },
   {
    "duration": 467,
    "start_time": "2021-11-03T13:25:11.656Z"
   },
   {
    "duration": 871,
    "start_time": "2021-11-03T13:25:20.167Z"
   },
   {
    "duration": 193,
    "start_time": "2021-11-03T13:25:21.041Z"
   },
   {
    "duration": 27,
    "start_time": "2021-11-03T13:25:21.237Z"
   },
   {
    "duration": 59,
    "start_time": "2021-11-03T13:25:21.267Z"
   },
   {
    "duration": 12,
    "start_time": "2021-11-03T13:25:21.328Z"
   },
   {
    "duration": 26,
    "start_time": "2021-11-03T13:25:21.343Z"
   },
   {
    "duration": 30,
    "start_time": "2021-11-03T13:25:21.371Z"
   },
   {
    "duration": 31,
    "start_time": "2021-11-03T13:25:21.404Z"
   },
   {
    "duration": 23,
    "start_time": "2021-11-03T13:25:21.439Z"
   },
   {
    "duration": 60,
    "start_time": "2021-11-03T13:25:21.465Z"
   },
   {
    "duration": 104,
    "start_time": "2021-11-03T13:25:21.528Z"
   },
   {
    "duration": 114,
    "start_time": "2021-11-03T13:25:21.634Z"
   },
   {
    "duration": 85,
    "start_time": "2021-11-03T13:25:21.751Z"
   },
   {
    "duration": 87,
    "start_time": "2021-11-03T13:25:21.838Z"
   },
   {
    "duration": 4,
    "start_time": "2021-11-03T13:25:21.927Z"
   },
   {
    "duration": 25,
    "start_time": "2021-11-03T13:25:21.933Z"
   },
   {
    "duration": 98,
    "start_time": "2021-11-03T13:25:21.961Z"
   },
   {
    "duration": 14,
    "start_time": "2021-11-03T13:25:22.062Z"
   },
   {
    "duration": 32,
    "start_time": "2021-11-03T13:25:22.078Z"
   },
   {
    "duration": 13,
    "start_time": "2021-11-03T13:25:22.112Z"
   },
   {
    "duration": 27,
    "start_time": "2021-11-03T13:25:22.127Z"
   },
   {
    "duration": 18,
    "start_time": "2021-11-03T13:25:22.156Z"
   },
   {
    "duration": 41,
    "start_time": "2021-11-03T13:25:22.177Z"
   },
   {
    "duration": 18,
    "start_time": "2021-11-03T13:25:22.220Z"
   },
   {
    "duration": 21,
    "start_time": "2021-11-03T13:25:22.240Z"
   },
   {
    "duration": 51,
    "start_time": "2021-11-03T13:25:22.263Z"
   },
   {
    "duration": 12,
    "start_time": "2021-11-03T13:25:22.319Z"
   },
   {
    "duration": 66,
    "start_time": "2021-11-03T13:25:22.334Z"
   },
   {
    "duration": 27,
    "start_time": "2021-11-03T13:25:22.403Z"
   },
   {
    "duration": 6,
    "start_time": "2021-11-03T13:25:22.432Z"
   },
   {
    "duration": 60,
    "start_time": "2021-11-03T13:25:22.440Z"
   },
   {
    "duration": 18,
    "start_time": "2021-11-03T13:25:22.502Z"
   },
   {
    "duration": 23,
    "start_time": "2021-11-03T13:25:22.523Z"
   },
   {
    "duration": 52,
    "start_time": "2021-11-03T13:25:22.549Z"
   },
   {
    "duration": 16,
    "start_time": "2021-11-03T13:25:22.603Z"
   },
   {
    "duration": 7,
    "start_time": "2021-11-03T13:25:22.621Z"
   },
   {
    "duration": 9,
    "start_time": "2021-11-03T13:25:22.630Z"
   },
   {
    "duration": 7,
    "start_time": "2021-11-03T13:25:22.641Z"
   },
   {
    "duration": 781,
    "start_time": "2021-11-04T08:41:50.090Z"
   },
   {
    "duration": 198,
    "start_time": "2021-11-04T08:41:50.874Z"
   },
   {
    "duration": 29,
    "start_time": "2021-11-04T08:41:51.075Z"
   },
   {
    "duration": 53,
    "start_time": "2021-11-04T08:41:51.107Z"
   },
   {
    "duration": 6,
    "start_time": "2021-11-04T08:41:51.163Z"
   },
   {
    "duration": 62,
    "start_time": "2021-11-04T08:41:51.172Z"
   },
   {
    "duration": 14,
    "start_time": "2021-11-04T08:41:51.236Z"
   },
   {
    "duration": 33,
    "start_time": "2021-11-04T08:41:51.253Z"
   },
   {
    "duration": 49,
    "start_time": "2021-11-04T08:41:51.292Z"
   },
   {
    "duration": 32,
    "start_time": "2021-11-04T08:41:51.345Z"
   },
   {
    "duration": 114,
    "start_time": "2021-11-04T08:41:51.380Z"
   },
   {
    "duration": 118,
    "start_time": "2021-11-04T08:41:51.497Z"
   },
   {
    "duration": 80,
    "start_time": "2021-11-04T08:41:51.617Z"
   },
   {
    "duration": 98,
    "start_time": "2021-11-04T08:41:51.700Z"
   },
   {
    "duration": 4,
    "start_time": "2021-11-04T08:41:51.800Z"
   },
   {
    "duration": 38,
    "start_time": "2021-11-04T08:41:51.806Z"
   },
   {
    "duration": 90,
    "start_time": "2021-11-04T08:41:51.846Z"
   },
   {
    "duration": 15,
    "start_time": "2021-11-04T08:41:51.938Z"
   },
   {
    "duration": 13,
    "start_time": "2021-11-04T08:41:51.956Z"
   },
   {
    "duration": 5,
    "start_time": "2021-11-04T08:41:51.971Z"
   },
   {
    "duration": 59,
    "start_time": "2021-11-04T08:41:51.978Z"
   },
   {
    "duration": 23,
    "start_time": "2021-11-04T08:41:52.039Z"
   },
   {
    "duration": 19,
    "start_time": "2021-11-04T08:41:52.064Z"
   },
   {
    "duration": 44,
    "start_time": "2021-11-04T08:41:52.085Z"
   },
   {
    "duration": 21,
    "start_time": "2021-11-04T08:41:52.131Z"
   },
   {
    "duration": 16,
    "start_time": "2021-11-04T08:41:52.155Z"
   },
   {
    "duration": 11,
    "start_time": "2021-11-04T08:41:52.176Z"
   },
   {
    "duration": 69,
    "start_time": "2021-11-04T08:41:52.189Z"
   },
   {
    "duration": 27,
    "start_time": "2021-11-04T08:41:52.260Z"
   },
   {
    "duration": 5,
    "start_time": "2021-11-04T08:41:52.289Z"
   },
   {
    "duration": 54,
    "start_time": "2021-11-04T08:41:52.296Z"
   },
   {
    "duration": 16,
    "start_time": "2021-11-04T08:41:52.353Z"
   },
   {
    "duration": 25,
    "start_time": "2021-11-04T08:41:52.372Z"
   },
   {
    "duration": 19,
    "start_time": "2021-11-04T08:41:52.430Z"
   },
   {
    "duration": 10,
    "start_time": "2021-11-04T08:41:52.451Z"
   },
   {
    "duration": 6,
    "start_time": "2021-11-04T08:41:52.464Z"
   },
   {
    "duration": 8,
    "start_time": "2021-11-04T08:41:52.472Z"
   },
   {
    "duration": 49,
    "start_time": "2021-11-04T08:41:52.482Z"
   },
   {
    "duration": 4,
    "start_time": "2021-11-04T08:42:58.464Z"
   },
   {
    "duration": 10,
    "start_time": "2021-11-04T08:43:04.356Z"
   },
   {
    "duration": 78,
    "start_time": "2021-11-04T08:44:25.318Z"
   },
   {
    "duration": 696,
    "start_time": "2021-11-04T08:45:45.376Z"
   },
   {
    "duration": 185,
    "start_time": "2021-11-04T08:45:46.075Z"
   },
   {
    "duration": 26,
    "start_time": "2021-11-04T08:45:46.263Z"
   },
   {
    "duration": 60,
    "start_time": "2021-11-04T08:45:46.293Z"
   },
   {
    "duration": 8,
    "start_time": "2021-11-04T08:45:46.356Z"
   },
   {
    "duration": 33,
    "start_time": "2021-11-04T08:45:46.367Z"
   },
   {
    "duration": 30,
    "start_time": "2021-11-04T08:45:46.403Z"
   },
   {
    "duration": 32,
    "start_time": "2021-11-04T08:45:46.438Z"
   },
   {
    "duration": 21,
    "start_time": "2021-11-04T08:45:46.474Z"
   },
   {
    "duration": 58,
    "start_time": "2021-11-04T08:45:46.498Z"
   },
   {
    "duration": 99,
    "start_time": "2021-11-04T08:45:46.558Z"
   },
   {
    "duration": 108,
    "start_time": "2021-11-04T08:45:46.659Z"
   },
   {
    "duration": 85,
    "start_time": "2021-11-04T08:45:46.769Z"
   },
   {
    "duration": 82,
    "start_time": "2021-11-04T08:45:46.856Z"
   },
   {
    "duration": 3,
    "start_time": "2021-11-04T08:45:46.941Z"
   },
   {
    "duration": 20,
    "start_time": "2021-11-04T08:45:46.946Z"
   },
   {
    "duration": 89,
    "start_time": "2021-11-04T08:45:46.969Z"
   },
   {
    "duration": 14,
    "start_time": "2021-11-04T08:45:47.060Z"
   },
   {
    "duration": 25,
    "start_time": "2021-11-04T08:45:47.077Z"
   },
   {
    "duration": 5,
    "start_time": "2021-11-04T08:45:47.105Z"
   },
   {
    "duration": 23,
    "start_time": "2021-11-04T08:45:47.129Z"
   },
   {
    "duration": 17,
    "start_time": "2021-11-04T08:45:47.155Z"
   },
   {
    "duration": 28,
    "start_time": "2021-11-04T08:45:47.177Z"
   },
   {
    "duration": 18,
    "start_time": "2021-11-04T08:45:47.229Z"
   },
   {
    "duration": 21,
    "start_time": "2021-11-04T08:45:47.250Z"
   },
   {
    "duration": 18,
    "start_time": "2021-11-04T08:45:47.273Z"
   },
   {
    "duration": 43,
    "start_time": "2021-11-04T08:45:47.293Z"
   },
   {
    "duration": 30,
    "start_time": "2021-11-04T08:45:47.338Z"
   },
   {
    "duration": 59,
    "start_time": "2021-11-04T08:45:47.370Z"
   },
   {
    "duration": 5,
    "start_time": "2021-11-04T08:45:47.432Z"
   },
   {
    "duration": 33,
    "start_time": "2021-11-04T08:45:47.439Z"
   },
   {
    "duration": 23,
    "start_time": "2021-11-04T08:45:47.474Z"
   },
   {
    "duration": 44,
    "start_time": "2021-11-04T08:45:47.500Z"
   },
   {
    "duration": 35,
    "start_time": "2021-11-04T08:45:47.546Z"
   },
   {
    "duration": 23,
    "start_time": "2021-11-04T08:45:47.584Z"
   },
   {
    "duration": 9,
    "start_time": "2021-11-04T08:45:47.609Z"
   },
   {
    "duration": 28,
    "start_time": "2021-11-04T08:45:47.620Z"
   },
   {
    "duration": 10,
    "start_time": "2021-11-04T08:45:47.650Z"
   },
   {
    "duration": 717,
    "start_time": "2021-12-15T14:50:14.643Z"
   },
   {
    "duration": 179,
    "start_time": "2021-12-15T14:50:15.365Z"
   },
   {
    "duration": 29,
    "start_time": "2021-12-15T14:50:15.547Z"
   },
   {
    "duration": 48,
    "start_time": "2021-12-15T14:50:15.578Z"
   },
   {
    "duration": 7,
    "start_time": "2021-12-15T14:50:15.629Z"
   },
   {
    "duration": 24,
    "start_time": "2021-12-15T14:50:15.639Z"
   },
   {
    "duration": 7,
    "start_time": "2021-12-15T14:50:15.668Z"
   },
   {
    "duration": 72,
    "start_time": "2021-12-15T14:50:15.679Z"
   },
   {
    "duration": 23,
    "start_time": "2021-12-15T14:50:15.754Z"
   },
   {
    "duration": 58,
    "start_time": "2021-12-15T14:50:15.779Z"
   },
   {
    "duration": 87,
    "start_time": "2021-12-15T14:50:15.840Z"
   },
   {
    "duration": 114,
    "start_time": "2021-12-15T14:50:15.930Z"
   },
   {
    "duration": 91,
    "start_time": "2021-12-15T14:50:16.046Z"
   },
   {
    "duration": 70,
    "start_time": "2021-12-15T14:50:16.140Z"
   },
   {
    "duration": 4,
    "start_time": "2021-12-15T14:50:16.224Z"
   },
   {
    "duration": 15,
    "start_time": "2021-12-15T14:50:16.230Z"
   },
   {
    "duration": 89,
    "start_time": "2021-12-15T14:50:16.248Z"
   },
   {
    "duration": 16,
    "start_time": "2021-12-15T14:50:16.339Z"
   },
   {
    "duration": 14,
    "start_time": "2021-12-15T14:50:16.357Z"
   },
   {
    "duration": 4,
    "start_time": "2021-12-15T14:50:16.374Z"
   },
   {
    "duration": 57,
    "start_time": "2021-12-15T14:50:16.381Z"
   },
   {
    "duration": 18,
    "start_time": "2021-12-15T14:50:16.443Z"
   },
   {
    "duration": 19,
    "start_time": "2021-12-15T14:50:16.463Z"
   },
   {
    "duration": 40,
    "start_time": "2021-12-15T14:50:16.484Z"
   },
   {
    "duration": 24,
    "start_time": "2021-12-15T14:50:16.527Z"
   },
   {
    "duration": 18,
    "start_time": "2021-12-15T14:50:16.553Z"
   },
   {
    "duration": 11,
    "start_time": "2021-12-15T14:50:16.574Z"
   },
   {
    "duration": 75,
    "start_time": "2021-12-15T14:50:16.587Z"
   },
   {
    "duration": 58,
    "start_time": "2021-12-15T14:50:16.665Z"
   },
   {
    "duration": 6,
    "start_time": "2021-12-15T14:50:16.725Z"
   },
   {
    "duration": 31,
    "start_time": "2021-12-15T14:50:16.733Z"
   },
   {
    "duration": 24,
    "start_time": "2021-12-15T14:50:16.767Z"
   },
   {
    "duration": 58,
    "start_time": "2021-12-15T14:50:16.794Z"
   },
   {
    "duration": 20,
    "start_time": "2021-12-15T14:50:16.855Z"
   },
   {
    "duration": 11,
    "start_time": "2021-12-15T14:50:16.877Z"
   },
   {
    "duration": 7,
    "start_time": "2021-12-15T14:50:16.922Z"
   },
   {
    "duration": 11,
    "start_time": "2021-12-15T14:50:16.933Z"
   },
   {
    "duration": 7,
    "start_time": "2021-12-15T14:50:16.947Z"
   },
   {
    "duration": 33,
    "start_time": "2021-12-15T14:50:25.943Z"
   },
   {
    "duration": 434,
    "start_time": "2022-06-24T09:09:27.528Z"
   },
   {
    "duration": 240,
    "start_time": "2022-06-24T09:09:27.964Z"
   },
   {
    "duration": 19,
    "start_time": "2022-06-24T09:09:28.205Z"
   },
   {
    "duration": 49,
    "start_time": "2022-06-24T09:09:28.227Z"
   },
   {
    "duration": 19,
    "start_time": "2022-06-24T09:09:28.278Z"
   },
   {
    "duration": 25,
    "start_time": "2022-06-24T09:09:28.299Z"
   },
   {
    "duration": 18,
    "start_time": "2022-06-24T09:09:28.326Z"
   },
   {
    "duration": 39,
    "start_time": "2022-06-24T09:09:28.345Z"
   },
   {
    "duration": 39,
    "start_time": "2022-06-24T09:09:28.386Z"
   },
   {
    "duration": 35,
    "start_time": "2022-06-24T09:09:28.429Z"
   },
   {
    "duration": 105,
    "start_time": "2022-06-24T09:09:28.466Z"
   },
   {
    "duration": 85,
    "start_time": "2022-06-24T09:09:28.572Z"
   },
   {
    "duration": 74,
    "start_time": "2022-06-24T09:09:28.658Z"
   },
   {
    "duration": 54,
    "start_time": "2022-06-24T09:09:28.734Z"
   },
   {
    "duration": 3,
    "start_time": "2022-06-24T09:09:28.790Z"
   },
   {
    "duration": 32,
    "start_time": "2022-06-24T09:09:28.794Z"
   },
   {
    "duration": 54,
    "start_time": "2022-06-24T09:09:28.827Z"
   },
   {
    "duration": 13,
    "start_time": "2022-06-24T09:09:28.882Z"
   },
   {
    "duration": 34,
    "start_time": "2022-06-24T09:09:28.896Z"
   },
   {
    "duration": 4,
    "start_time": "2022-06-24T09:09:28.932Z"
   },
   {
    "duration": 27,
    "start_time": "2022-06-24T09:09:28.937Z"
   },
   {
    "duration": 17,
    "start_time": "2022-06-24T09:09:28.966Z"
   },
   {
    "duration": 19,
    "start_time": "2022-06-24T09:09:28.985Z"
   },
   {
    "duration": 33,
    "start_time": "2022-06-24T09:09:29.006Z"
   },
   {
    "duration": 19,
    "start_time": "2022-06-24T09:09:29.040Z"
   },
   {
    "duration": 15,
    "start_time": "2022-06-24T09:09:29.060Z"
   },
   {
    "duration": 13,
    "start_time": "2022-06-24T09:09:29.076Z"
   },
   {
    "duration": 46,
    "start_time": "2022-06-24T09:09:29.092Z"
   },
   {
    "duration": 17,
    "start_time": "2022-06-24T09:09:29.140Z"
   },
   {
    "duration": 4,
    "start_time": "2022-06-24T09:09:29.159Z"
   },
   {
    "duration": 29,
    "start_time": "2022-06-24T09:09:29.164Z"
   },
   {
    "duration": 11,
    "start_time": "2022-06-24T09:09:29.195Z"
   },
   {
    "duration": 17,
    "start_time": "2022-06-24T09:09:29.226Z"
   },
   {
    "duration": 12,
    "start_time": "2022-06-24T09:09:29.245Z"
   },
   {
    "duration": 8,
    "start_time": "2022-06-24T09:09:29.259Z"
   },
   {
    "duration": 5,
    "start_time": "2022-06-24T09:09:29.269Z"
   },
   {
    "duration": 8,
    "start_time": "2022-06-24T09:09:29.276Z"
   },
   {
    "duration": 41,
    "start_time": "2022-06-24T09:09:29.286Z"
   }
  ],
  "colab": {
   "collapsed_sections": [
    "E0vqbgi9ay0H",
    "VUC88oWjTJw2"
   ],
   "name": "yandex_music_project_2021.2.ipynb",
   "provenance": []
  },
  "kernelspec": {
   "display_name": "Python 3 (ipykernel)",
   "language": "python",
   "name": "python3"
  },
  "language_info": {
   "codemirror_mode": {
    "name": "ipython",
    "version": 3
   },
   "file_extension": ".py",
   "mimetype": "text/x-python",
   "name": "python",
   "nbconvert_exporter": "python",
   "pygments_lexer": "ipython3",
   "version": "3.9.5"
  },
  "toc": {
   "base_numbering": 1,
   "nav_menu": {},
   "number_sections": true,
   "sideBar": true,
   "skip_h1_title": true,
   "title_cell": "Table of Contents",
   "title_sidebar": "Contents",
   "toc_cell": false,
   "toc_position": {
    "height": "calc(100% - 180px)",
    "left": "10px",
    "top": "150px",
    "width": "205.391px"
   },
   "toc_section_display": true,
   "toc_window_display": true
  }
 },
 "nbformat": 4,
 "nbformat_minor": 1
}
