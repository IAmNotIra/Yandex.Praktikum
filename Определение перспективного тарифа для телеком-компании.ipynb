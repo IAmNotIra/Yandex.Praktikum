{
 "cells": [
  {
   "cell_type": "markdown",
   "metadata": {},
   "source": [
    "# Исследование данных"
   ]
  },
  {
   "cell_type": "markdown",
   "metadata": {},
   "source": [
    "Перед нами данные 500 пользователей «Мегалайна» - федерального оператора сотовой связи: кто они, откуда, каким тарифом пользуются, сколько звонков и сообщений каждый отправил за 2018 год. Клиентам предлагают два тарифных плана: «Смарт» и «Ультра». \n",
    "Нужно проанализировать поведение клиентов и сделать вывод — какой тариф лучше."
   ]
  },
  {
   "cell_type": "markdown",
   "metadata": {},
   "source": [
    "# Описание проекта\n",
    "Вы аналитик компании «Мегалайн» — федерального оператора сотовой связи. Клиентам предлагают два тарифных плана: «Смарт» и «Ультра». Чтобы скорректировать рекламный бюджет, коммерческий департамент хочет понять, какой тариф приносит больше денег.\n",
    "Вам предстоит сделать предварительный анализ тарифов на небольшой выборке клиентов. В вашем распоряжении данные 500 пользователей «Мегалайна»: кто они, откуда, каким тарифом пользуются, сколько звонков и сообщений каждый отправил за 2018 год. Нужно проанализировать поведение клиентов и сделать вывод — какой тариф лучше.\n",
    "### Описание тарифов\n",
    "***Тариф «Смарт»***\n",
    "* Ежемесячная плата: 550 рублей\n",
    "* Включено 500 минут разговора, 50 сообщений и 15 Гб интернет-трафика\n",
    "* Стоимость услуг сверх тарифного пакета:\n",
    "    - минута разговора: 3 рубля\n",
    "    - сообщение: 3 рубля\n",
    "    - 1 Гб интернет-трафика: 200 рублей  \n",
    "    \n",
    "***Тариф «Ультра»***\n",
    "* Ежемесячная плата: 1950 рублей\n",
    "* Включено 3000 минут разговора, 1000 сообщений и 30 Гб интернет-трафика\n",
    "* Стоимость услуг сверх тарифного пакета:\n",
    "    - минута разговора: 1 рубль\n",
    "    - сообщение: 1 рубль\n",
    "    - 1 Гб интернет-трафика: 150 рублей    \n",
    "   \n",
    "Описание данных\n",
    "* Таблица users (информация о пользователях):\n",
    "    - user_id — уникальный идентификатор пользователя\n",
    "    - first_name — имя пользователя\n",
    "    - last_name — фамилия пользователя\n",
    "    - age — возраст пользователя (годы)\n",
    "    - reg_date — дата подключения тарифа (день, месяц, год)\n",
    "    - churn_date — дата прекращения пользования тарифом (если значение пропущено, то тариф ещё действовал на момент выгрузки данных)\n",
    "    - city — город проживания пользователя\n",
    "    - tariff — название тарифного плана\n",
    "* Таблица calls (информация о звонках):\n",
    "    - id — уникальный номер звонка\n",
    "    - call_date — дата звонка\n",
    "    - duration — длительность звонка в минутах\n",
    "    - user_id — идентификатор пользователя, сделавшего звонок\n",
    "* Таблица messages (информация о сообщениях):\n",
    "    - id — уникальный номер сообщения\n",
    "    - message_date — дата сообщения\n",
    "    - user_id — идентификатор пользователя, отправившего сообщение\n",
    "* Таблица internet (информация об интернет-сессиях):\n",
    "    - id — уникальный номер сессии\n",
    "    - mb_used — объём потраченного за сессию интернет-трафика (в мегабайтах)\n",
    "    - session_date — дата интернет-сессии\n",
    "    - user_id — идентификатор пользователя\n",
    "* Таблица tariffs (информация о тарифах):\n",
    "    - tariff_name — название тарифа\n",
    "    - rub_monthly_fee — ежемесячная абонентская плата в рублях\n",
    "    - minutes_included — количество минут разговора в месяц, включённых в абонентскую плату\n",
    "    - messages_included — количество сообщений в месяц, включённых в абонентскую плату\n",
    "    - mb_per_month_included — объём интернет-трафика, включённого в абонентскую плату (в мегабайтах)\n",
    "    - rub_per_minute — стоимость минуты разговора сверх тарифного пакета (например, если в тарифе 100 минут разговора в месяц, то со 101 минуты будет взиматься плата)\n",
    "    - rub_per_message — стоимость отправки сообщения сверх тарифного пакета\n",
    "    - rub_per_gb — стоимость дополнительного гигабайта интернет-трафика сверх тарифного пакета (1 гигабайт = 1024 мегабайта)\n",
    "\n",
    "***Примечание***\n",
    "«Мегалайн» всегда округляет секунды до минут, а мегабайты — до гигабайт. Каждый звонок округляется отдельно: даже если он длился всего 1 секунду, будет засчитан как 1 минута.\n",
    "Для веб-трафика отдельные сессии не считаются. Вместо этого общая сумма за месяц округляется в бо́льшую сторону. Если абонент использует 1025 мегабайт в этом месяце, с него возьмут плату за 2 гигабайта. Примите, что неиспользованные за предыдущий месяц звонки, смс, интернет на следующий месяц не переносятся.\n",
    "\n",
    "### Подготовьте данные\n",
    "* Приведите данные к нужным типам;\n",
    "* Найдите и исправьте ошибки в данных, если они есть.  \n",
    "\n",
    "Поясните, какие ошибки вы нашли и как их исправили. В данных вы найдёте звонки с нулевой продолжительностью. Это не ошибка: нулями обозначены пропущенные звонки, поэтому их не нужно удалять.\n",
    "* Посчитайте для каждого пользователя:\n",
    "    - количество сделанных звонков и израсходованных минут разговора по месяцам;\n",
    "    - количество отправленных сообщений по месяцам;\n",
    "    - объем израсходованного интернет-трафика по месяцам;\n",
    "    - помесячную выручку с каждого пользователя (вычтите бесплатный лимит из суммарного количества звонков, сообщений и интернет-трафика; остаток умножьте на значение из тарифного плана; прибавьте абонентскую плату, соответствующую тарифному плану).  \n",
    "    \n",
    "### Проанализируйте данные\n",
    "Опишите поведение клиентов оператора, исходя из выборки. Сколько минут разговора, сколько сообщений и какой объём интернет-трафика требуется пользователям каждого тарифа в месяц? Посчитайте среднее количество, дисперсию и стандартное отклонение. Постройте гистограммы. Опишите распределения.\n",
    "### Проверьте гипотезы\n",
    "1. средняя выручка пользователей тарифов «Ультра» и «Смарт» различаются;\n",
    "2. средняя выручка пользователей из Москвы отличается от выручки пользователей из других регионов.  \n",
    "\n",
    "Пороговое значение alpha задайте самостоятельно.  \n",
    "Поясните:\n",
    "* как вы формулировали нулевую и альтернативную гипотезы;\n",
    "* какой критерий использовали для проверки гипотез и почему."
   ]
  },
  {
   "cell_type": "markdown",
   "metadata": {},
   "source": [
    "## Изучение данных из файла"
   ]
  },
  {
   "cell_type": "code",
   "execution_count": 1,
   "metadata": {},
   "outputs": [],
   "source": [
    "import pandas as pd\n",
    "import numpy as np\n",
    "import math\n",
    "import matplotlib.pyplot as plt\n",
    "import seaborn as sns\n",
    "from scipy import stats as st"
   ]
  },
  {
   "cell_type": "code",
   "execution_count": 2,
   "metadata": {},
   "outputs": [],
   "source": [
    "calls = pd.read_csv('/datasets/calls.csv')\n",
    "internet = pd.read_csv('/datasets/internet.csv')\n",
    "messages = pd.read_csv('/datasets/messages.csv')\n",
    "tariffs = pd.read_csv('/datasets/tariffs.csv')\n",
    "users = pd.read_csv('/datasets/users.csv')"
   ]
  },
  {
   "cell_type": "code",
   "execution_count": 3,
   "metadata": {
    "scrolled": true
   },
   "outputs": [
    {
     "data": {
      "text/html": [
       "<div>\n",
       "<style scoped>\n",
       "    .dataframe tbody tr th:only-of-type {\n",
       "        vertical-align: middle;\n",
       "    }\n",
       "\n",
       "    .dataframe tbody tr th {\n",
       "        vertical-align: top;\n",
       "    }\n",
       "\n",
       "    .dataframe thead th {\n",
       "        text-align: right;\n",
       "    }\n",
       "</style>\n",
       "<table border=\"1\" class=\"dataframe\">\n",
       "  <thead>\n",
       "    <tr style=\"text-align: right;\">\n",
       "      <th></th>\n",
       "      <th>user_id</th>\n",
       "      <th>age</th>\n",
       "      <th>churn_date</th>\n",
       "      <th>city</th>\n",
       "      <th>first_name</th>\n",
       "      <th>last_name</th>\n",
       "      <th>reg_date</th>\n",
       "      <th>tariff</th>\n",
       "    </tr>\n",
       "  </thead>\n",
       "  <tbody>\n",
       "    <tr>\n",
       "      <td>0</td>\n",
       "      <td>1000</td>\n",
       "      <td>52</td>\n",
       "      <td>NaN</td>\n",
       "      <td>Краснодар</td>\n",
       "      <td>Рафаил</td>\n",
       "      <td>Верещагин</td>\n",
       "      <td>2018-05-25</td>\n",
       "      <td>ultra</td>\n",
       "    </tr>\n",
       "    <tr>\n",
       "      <td>1</td>\n",
       "      <td>1001</td>\n",
       "      <td>41</td>\n",
       "      <td>NaN</td>\n",
       "      <td>Москва</td>\n",
       "      <td>Иван</td>\n",
       "      <td>Ежов</td>\n",
       "      <td>2018-11-01</td>\n",
       "      <td>smart</td>\n",
       "    </tr>\n",
       "    <tr>\n",
       "      <td>2</td>\n",
       "      <td>1002</td>\n",
       "      <td>59</td>\n",
       "      <td>NaN</td>\n",
       "      <td>Стерлитамак</td>\n",
       "      <td>Евгений</td>\n",
       "      <td>Абрамович</td>\n",
       "      <td>2018-06-17</td>\n",
       "      <td>smart</td>\n",
       "    </tr>\n",
       "    <tr>\n",
       "      <td>3</td>\n",
       "      <td>1003</td>\n",
       "      <td>23</td>\n",
       "      <td>NaN</td>\n",
       "      <td>Москва</td>\n",
       "      <td>Белла</td>\n",
       "      <td>Белякова</td>\n",
       "      <td>2018-08-17</td>\n",
       "      <td>ultra</td>\n",
       "    </tr>\n",
       "    <tr>\n",
       "      <td>4</td>\n",
       "      <td>1004</td>\n",
       "      <td>68</td>\n",
       "      <td>NaN</td>\n",
       "      <td>Новокузнецк</td>\n",
       "      <td>Татьяна</td>\n",
       "      <td>Авдеенко</td>\n",
       "      <td>2018-05-14</td>\n",
       "      <td>ultra</td>\n",
       "    </tr>\n",
       "  </tbody>\n",
       "</table>\n",
       "</div>"
      ],
      "text/plain": [
       "   user_id  age churn_date         city first_name  last_name    reg_date  \\\n",
       "0     1000   52        NaN    Краснодар     Рафаил  Верещагин  2018-05-25   \n",
       "1     1001   41        NaN       Москва       Иван       Ежов  2018-11-01   \n",
       "2     1002   59        NaN  Стерлитамак    Евгений  Абрамович  2018-06-17   \n",
       "3     1003   23        NaN       Москва      Белла   Белякова  2018-08-17   \n",
       "4     1004   68        NaN  Новокузнецк    Татьяна   Авдеенко  2018-05-14   \n",
       "\n",
       "  tariff  \n",
       "0  ultra  \n",
       "1  smart  \n",
       "2  smart  \n",
       "3  ultra  \n",
       "4  ultra  "
      ]
     },
     "execution_count": 3,
     "metadata": {},
     "output_type": "execute_result"
    }
   ],
   "source": [
    "users.head()"
   ]
  },
  {
   "cell_type": "code",
   "execution_count": 4,
   "metadata": {
    "scrolled": false
   },
   "outputs": [
    {
     "name": "stdout",
     "output_type": "stream",
     "text": [
      "<class 'pandas.core.frame.DataFrame'>\n",
      "RangeIndex: 500 entries, 0 to 499\n",
      "Data columns (total 8 columns):\n",
      "user_id       500 non-null int64\n",
      "age           500 non-null int64\n",
      "churn_date    38 non-null object\n",
      "city          500 non-null object\n",
      "first_name    500 non-null object\n",
      "last_name     500 non-null object\n",
      "reg_date      500 non-null object\n",
      "tariff        500 non-null object\n",
      "dtypes: int64(2), object(6)\n",
      "memory usage: 31.4+ KB\n"
     ]
    }
   ],
   "source": [
    "users.info()"
   ]
  },
  {
   "cell_type": "code",
   "execution_count": 5,
   "metadata": {},
   "outputs": [
    {
     "data": {
      "text/plain": [
       "462"
      ]
     },
     "execution_count": 5,
     "metadata": {},
     "output_type": "execute_result"
    }
   ],
   "source": [
    "users['churn_date'].isna().sum()"
   ]
  },
  {
   "cell_type": "code",
   "execution_count": 6,
   "metadata": {},
   "outputs": [
    {
     "name": "stdout",
     "output_type": "stream",
     "text": [
      "Процент пользователей, завершивших обслуживание в \"Мегалайн\": 7.60%\n"
     ]
    }
   ],
   "source": [
    "print('Процент пользователей, завершивших обслуживание в \"Мегалайн\": {:.2%}'.format((len(users['churn_date']) - users['churn_date'].isna().sum()) / len(users['churn_date'])))"
   ]
  },
  {
   "cell_type": "code",
   "execution_count": 7,
   "metadata": {},
   "outputs": [
    {
     "data": {
      "text/html": [
       "<div>\n",
       "<style scoped>\n",
       "    .dataframe tbody tr th:only-of-type {\n",
       "        vertical-align: middle;\n",
       "    }\n",
       "\n",
       "    .dataframe tbody tr th {\n",
       "        vertical-align: top;\n",
       "    }\n",
       "\n",
       "    .dataframe thead th {\n",
       "        text-align: right;\n",
       "    }\n",
       "</style>\n",
       "<table border=\"1\" class=\"dataframe\">\n",
       "  <thead>\n",
       "    <tr style=\"text-align: right;\">\n",
       "      <th></th>\n",
       "      <th>id</th>\n",
       "      <th>call_date</th>\n",
       "      <th>duration</th>\n",
       "      <th>user_id</th>\n",
       "    </tr>\n",
       "  </thead>\n",
       "  <tbody>\n",
       "    <tr>\n",
       "      <td>0</td>\n",
       "      <td>1000_0</td>\n",
       "      <td>2018-07-25</td>\n",
       "      <td>0.00</td>\n",
       "      <td>1000</td>\n",
       "    </tr>\n",
       "    <tr>\n",
       "      <td>1</td>\n",
       "      <td>1000_1</td>\n",
       "      <td>2018-08-17</td>\n",
       "      <td>0.00</td>\n",
       "      <td>1000</td>\n",
       "    </tr>\n",
       "    <tr>\n",
       "      <td>2</td>\n",
       "      <td>1000_2</td>\n",
       "      <td>2018-06-11</td>\n",
       "      <td>2.85</td>\n",
       "      <td>1000</td>\n",
       "    </tr>\n",
       "    <tr>\n",
       "      <td>3</td>\n",
       "      <td>1000_3</td>\n",
       "      <td>2018-09-21</td>\n",
       "      <td>13.80</td>\n",
       "      <td>1000</td>\n",
       "    </tr>\n",
       "    <tr>\n",
       "      <td>4</td>\n",
       "      <td>1000_4</td>\n",
       "      <td>2018-12-15</td>\n",
       "      <td>5.18</td>\n",
       "      <td>1000</td>\n",
       "    </tr>\n",
       "  </tbody>\n",
       "</table>\n",
       "</div>"
      ],
      "text/plain": [
       "       id   call_date  duration  user_id\n",
       "0  1000_0  2018-07-25      0.00     1000\n",
       "1  1000_1  2018-08-17      0.00     1000\n",
       "2  1000_2  2018-06-11      2.85     1000\n",
       "3  1000_3  2018-09-21     13.80     1000\n",
       "4  1000_4  2018-12-15      5.18     1000"
      ]
     },
     "execution_count": 7,
     "metadata": {},
     "output_type": "execute_result"
    }
   ],
   "source": [
    "calls.head()"
   ]
  },
  {
   "cell_type": "code",
   "execution_count": 8,
   "metadata": {
    "scrolled": false
   },
   "outputs": [
    {
     "name": "stdout",
     "output_type": "stream",
     "text": [
      "<class 'pandas.core.frame.DataFrame'>\n",
      "RangeIndex: 202607 entries, 0 to 202606\n",
      "Data columns (total 4 columns):\n",
      "id           202607 non-null object\n",
      "call_date    202607 non-null object\n",
      "duration     202607 non-null float64\n",
      "user_id      202607 non-null int64\n",
      "dtypes: float64(1), int64(1), object(2)\n",
      "memory usage: 6.2+ MB\n"
     ]
    }
   ],
   "source": [
    "calls.info()"
   ]
  },
  {
   "cell_type": "code",
   "execution_count": 9,
   "metadata": {},
   "outputs": [
    {
     "name": "stdout",
     "output_type": "stream",
     "text": [
      "Процент пользователей, не совевершающих звонки: 19.55%\n"
     ]
    }
   ],
   "source": [
    "print('Процент пользователей, не совевершающих звонки: {:.2%}'.format(calls[calls['duration'] == 0].count()[0]/calls.shape[0]))"
   ]
  },
  {
   "cell_type": "code",
   "execution_count": 10,
   "metadata": {},
   "outputs": [
    {
     "data": {
      "text/html": [
       "<div>\n",
       "<style scoped>\n",
       "    .dataframe tbody tr th:only-of-type {\n",
       "        vertical-align: middle;\n",
       "    }\n",
       "\n",
       "    .dataframe tbody tr th {\n",
       "        vertical-align: top;\n",
       "    }\n",
       "\n",
       "    .dataframe thead th {\n",
       "        text-align: right;\n",
       "    }\n",
       "</style>\n",
       "<table border=\"1\" class=\"dataframe\">\n",
       "  <thead>\n",
       "    <tr style=\"text-align: right;\">\n",
       "      <th></th>\n",
       "      <th>id</th>\n",
       "      <th>message_date</th>\n",
       "      <th>user_id</th>\n",
       "    </tr>\n",
       "  </thead>\n",
       "  <tbody>\n",
       "    <tr>\n",
       "      <td>0</td>\n",
       "      <td>1000_0</td>\n",
       "      <td>2018-06-27</td>\n",
       "      <td>1000</td>\n",
       "    </tr>\n",
       "    <tr>\n",
       "      <td>1</td>\n",
       "      <td>1000_1</td>\n",
       "      <td>2018-10-08</td>\n",
       "      <td>1000</td>\n",
       "    </tr>\n",
       "    <tr>\n",
       "      <td>2</td>\n",
       "      <td>1000_2</td>\n",
       "      <td>2018-08-04</td>\n",
       "      <td>1000</td>\n",
       "    </tr>\n",
       "    <tr>\n",
       "      <td>3</td>\n",
       "      <td>1000_3</td>\n",
       "      <td>2018-06-16</td>\n",
       "      <td>1000</td>\n",
       "    </tr>\n",
       "    <tr>\n",
       "      <td>4</td>\n",
       "      <td>1000_4</td>\n",
       "      <td>2018-12-05</td>\n",
       "      <td>1000</td>\n",
       "    </tr>\n",
       "  </tbody>\n",
       "</table>\n",
       "</div>"
      ],
      "text/plain": [
       "       id message_date  user_id\n",
       "0  1000_0   2018-06-27     1000\n",
       "1  1000_1   2018-10-08     1000\n",
       "2  1000_2   2018-08-04     1000\n",
       "3  1000_3   2018-06-16     1000\n",
       "4  1000_4   2018-12-05     1000"
      ]
     },
     "execution_count": 10,
     "metadata": {},
     "output_type": "execute_result"
    }
   ],
   "source": [
    "messages.head()"
   ]
  },
  {
   "cell_type": "code",
   "execution_count": 11,
   "metadata": {},
   "outputs": [
    {
     "name": "stdout",
     "output_type": "stream",
     "text": [
      "<class 'pandas.core.frame.DataFrame'>\n",
      "RangeIndex: 123036 entries, 0 to 123035\n",
      "Data columns (total 3 columns):\n",
      "id              123036 non-null object\n",
      "message_date    123036 non-null object\n",
      "user_id         123036 non-null int64\n",
      "dtypes: int64(1), object(2)\n",
      "memory usage: 2.8+ MB\n"
     ]
    }
   ],
   "source": [
    "messages.info()"
   ]
  },
  {
   "cell_type": "code",
   "execution_count": 12,
   "metadata": {
    "scrolled": false
   },
   "outputs": [
    {
     "data": {
      "text/html": [
       "<div>\n",
       "<style scoped>\n",
       "    .dataframe tbody tr th:only-of-type {\n",
       "        vertical-align: middle;\n",
       "    }\n",
       "\n",
       "    .dataframe tbody tr th {\n",
       "        vertical-align: top;\n",
       "    }\n",
       "\n",
       "    .dataframe thead th {\n",
       "        text-align: right;\n",
       "    }\n",
       "</style>\n",
       "<table border=\"1\" class=\"dataframe\">\n",
       "  <thead>\n",
       "    <tr style=\"text-align: right;\">\n",
       "      <th></th>\n",
       "      <th>Unnamed: 0</th>\n",
       "      <th>id</th>\n",
       "      <th>mb_used</th>\n",
       "      <th>session_date</th>\n",
       "      <th>user_id</th>\n",
       "    </tr>\n",
       "  </thead>\n",
       "  <tbody>\n",
       "    <tr>\n",
       "      <td>0</td>\n",
       "      <td>0</td>\n",
       "      <td>1000_0</td>\n",
       "      <td>112.95</td>\n",
       "      <td>2018-11-25</td>\n",
       "      <td>1000</td>\n",
       "    </tr>\n",
       "    <tr>\n",
       "      <td>1</td>\n",
       "      <td>1</td>\n",
       "      <td>1000_1</td>\n",
       "      <td>1052.81</td>\n",
       "      <td>2018-09-07</td>\n",
       "      <td>1000</td>\n",
       "    </tr>\n",
       "    <tr>\n",
       "      <td>2</td>\n",
       "      <td>2</td>\n",
       "      <td>1000_2</td>\n",
       "      <td>1197.26</td>\n",
       "      <td>2018-06-25</td>\n",
       "      <td>1000</td>\n",
       "    </tr>\n",
       "    <tr>\n",
       "      <td>3</td>\n",
       "      <td>3</td>\n",
       "      <td>1000_3</td>\n",
       "      <td>550.27</td>\n",
       "      <td>2018-08-22</td>\n",
       "      <td>1000</td>\n",
       "    </tr>\n",
       "    <tr>\n",
       "      <td>4</td>\n",
       "      <td>4</td>\n",
       "      <td>1000_4</td>\n",
       "      <td>302.56</td>\n",
       "      <td>2018-09-24</td>\n",
       "      <td>1000</td>\n",
       "    </tr>\n",
       "  </tbody>\n",
       "</table>\n",
       "</div>"
      ],
      "text/plain": [
       "   Unnamed: 0      id  mb_used session_date  user_id\n",
       "0           0  1000_0   112.95   2018-11-25     1000\n",
       "1           1  1000_1  1052.81   2018-09-07     1000\n",
       "2           2  1000_2  1197.26   2018-06-25     1000\n",
       "3           3  1000_3   550.27   2018-08-22     1000\n",
       "4           4  1000_4   302.56   2018-09-24     1000"
      ]
     },
     "execution_count": 12,
     "metadata": {},
     "output_type": "execute_result"
    }
   ],
   "source": [
    "internet.head()"
   ]
  },
  {
   "cell_type": "code",
   "execution_count": 13,
   "metadata": {},
   "outputs": [
    {
     "name": "stdout",
     "output_type": "stream",
     "text": [
      "<class 'pandas.core.frame.DataFrame'>\n",
      "RangeIndex: 149396 entries, 0 to 149395\n",
      "Data columns (total 5 columns):\n",
      "Unnamed: 0      149396 non-null int64\n",
      "id              149396 non-null object\n",
      "mb_used         149396 non-null float64\n",
      "session_date    149396 non-null object\n",
      "user_id         149396 non-null int64\n",
      "dtypes: float64(1), int64(2), object(2)\n",
      "memory usage: 5.7+ MB\n"
     ]
    }
   ],
   "source": [
    "internet.info()"
   ]
  },
  {
   "cell_type": "code",
   "execution_count": 14,
   "metadata": {},
   "outputs": [
    {
     "name": "stdout",
     "output_type": "stream",
     "text": [
      "Процент пользователей, не расходующих интернет-трафик: 13.12%\n"
     ]
    }
   ],
   "source": [
    "print('Процент пользователей, не расходующих интернет-трафик: {:.2%}'.format(internet[internet['mb_used'] == 0].count()[0] / internet.shape[0]))"
   ]
  },
  {
   "cell_type": "markdown",
   "metadata": {},
   "source": [
    "### Описание тарифов"
   ]
  },
  {
   "cell_type": "code",
   "execution_count": 15,
   "metadata": {},
   "outputs": [
    {
     "data": {
      "text/html": [
       "<div>\n",
       "<style scoped>\n",
       "    .dataframe tbody tr th:only-of-type {\n",
       "        vertical-align: middle;\n",
       "    }\n",
       "\n",
       "    .dataframe tbody tr th {\n",
       "        vertical-align: top;\n",
       "    }\n",
       "\n",
       "    .dataframe thead th {\n",
       "        text-align: right;\n",
       "    }\n",
       "</style>\n",
       "<table border=\"1\" class=\"dataframe\">\n",
       "  <thead>\n",
       "    <tr style=\"text-align: right;\">\n",
       "      <th></th>\n",
       "      <th>messages_included</th>\n",
       "      <th>mb_per_month_included</th>\n",
       "      <th>minutes_included</th>\n",
       "      <th>rub_monthly_fee</th>\n",
       "      <th>rub_per_gb</th>\n",
       "      <th>rub_per_message</th>\n",
       "      <th>rub_per_minute</th>\n",
       "      <th>tariff_name</th>\n",
       "    </tr>\n",
       "  </thead>\n",
       "  <tbody>\n",
       "    <tr>\n",
       "      <td>0</td>\n",
       "      <td>50</td>\n",
       "      <td>15360</td>\n",
       "      <td>500</td>\n",
       "      <td>550</td>\n",
       "      <td>200</td>\n",
       "      <td>3</td>\n",
       "      <td>3</td>\n",
       "      <td>smart</td>\n",
       "    </tr>\n",
       "    <tr>\n",
       "      <td>1</td>\n",
       "      <td>1000</td>\n",
       "      <td>30720</td>\n",
       "      <td>3000</td>\n",
       "      <td>1950</td>\n",
       "      <td>150</td>\n",
       "      <td>1</td>\n",
       "      <td>1</td>\n",
       "      <td>ultra</td>\n",
       "    </tr>\n",
       "  </tbody>\n",
       "</table>\n",
       "</div>"
      ],
      "text/plain": [
       "   messages_included  mb_per_month_included  minutes_included  \\\n",
       "0                 50                  15360               500   \n",
       "1               1000                  30720              3000   \n",
       "\n",
       "   rub_monthly_fee  rub_per_gb  rub_per_message  rub_per_minute tariff_name  \n",
       "0              550         200                3               3       smart  \n",
       "1             1950         150                1               1       ultra  "
      ]
     },
     "execution_count": 15,
     "metadata": {},
     "output_type": "execute_result"
    }
   ],
   "source": [
    "tariffs"
   ]
  },
  {
   "cell_type": "code",
   "execution_count": 16,
   "metadata": {
    "scrolled": true
   },
   "outputs": [
    {
     "name": "stdout",
     "output_type": "stream",
     "text": [
      "<class 'pandas.core.frame.DataFrame'>\n",
      "RangeIndex: 2 entries, 0 to 1\n",
      "Data columns (total 8 columns):\n",
      "messages_included        2 non-null int64\n",
      "mb_per_month_included    2 non-null int64\n",
      "minutes_included         2 non-null int64\n",
      "rub_monthly_fee          2 non-null int64\n",
      "rub_per_gb               2 non-null int64\n",
      "rub_per_message          2 non-null int64\n",
      "rub_per_minute           2 non-null int64\n",
      "tariff_name              2 non-null object\n",
      "dtypes: int64(7), object(1)\n",
      "memory usage: 256.0+ bytes\n"
     ]
    }
   ],
   "source": [
    "tariffs.info()"
   ]
  },
  {
   "cell_type": "markdown",
   "metadata": {},
   "source": [
    "#### Тариф «Смарт»\n",
    "Ежемесячная плата: 550 рублей  \n",
    "Включено: 500 минут разговора, 50 сообщений, 15 Гб интернет-трафика  \n",
    "Стоимость услуг сверх тарифного пакета: \n",
    "1. минута разговора: 3 рубля \n",
    "2. сообщение: 3 рубля;  \n",
    "3. 1 Гб интернет-трафика: 200 рублей."
   ]
  },
  {
   "cell_type": "markdown",
   "metadata": {},
   "source": [
    "#### Тариф «Ультра»\n",
    "Ежемесячная плата: 1950 рублей  \n",
    "Включено 3000 минут разговора, 1000 сообщений и 30 Гб интернет-трафика  \n",
    "Стоимость услуг сверх тарифного пакета: \n",
    "1. минута разговора: 1 рубль; \n",
    "2. сообщение: 1 рубль; \n",
    "3. 1 Гб интернет-трафика: 150 рублей."
   ]
  },
  {
   "cell_type": "markdown",
   "metadata": {},
   "source": [
    "### Примечание\n",
    "«Мегалайн» всегда округляет секунды до минут, а мегабайты — до гигабайт.  \n",
    "Каждый звонок округляется отдельно: даже если он длился всего 1 секунду, будет засчитан как 1 минута.  \n",
    "Для веб-трафика отдельные сессии не считаются. Вместо этого общая сумма за месяц округляется в бо́льшую сторону. Если абонент использует 1025 мегабайт в этом месяце, с него возьмут плату за 2 гигабайта.  \n",
    "Звонки с нулевой продолжительностью - пропущенные звонки."
   ]
  },
  {
   "cell_type": "markdown",
   "metadata": {},
   "source": [
    "### Вывод"
   ]
  },
  {
   "cell_type": "markdown",
   "metadata": {},
   "source": [
    "Нам предоставлена выборка данных о звонках, сообщениях и мобильном трафике 500 клиентов оператора \"Мегалайн\", а так же их личные данные.  \n",
    "Изучив датафреймы мы увидели, что за 2018 год 38 клиентов (7.6%) перестали пользоваться услугами данного мобильного оператора (указана дата прекращения пользования тарифом). Колонка user_id отображает количество зарегестрированных пользователей и повторяется во всех датафреймах, кроме  таблицы с информацией о тарифах.  \n",
    "Так же мы выяснили долю абонентов, не расходующих минуты на разговоры и интернет-пакет - 19.6% и 13.1% соответственно."
   ]
  },
  {
   "cell_type": "markdown",
   "metadata": {},
   "source": [
    "## Подготовка данных"
   ]
  },
  {
   "cell_type": "markdown",
   "metadata": {},
   "source": [
    "В таблице users нужно изменить тип даты в колонках reg_date и churn_date, в calls - тип даты и продолжительность звонков, в internet - тип даты и количество мегабайт на целый, в messages только тип даты в message_date. В датафрейме с информацией о тарифах изменения не требуются."
   ]
  },
  {
   "cell_type": "markdown",
   "metadata": {},
   "source": [
    "Для начала изменим формат даты в таблицах."
   ]
  },
  {
   "cell_type": "code",
   "execution_count": 17,
   "metadata": {},
   "outputs": [],
   "source": [
    "users['reg_date'] = pd.to_datetime(users['reg_date'], format='%Y-%m-%d')\n",
    "users['churn_date'] = pd.to_datetime(users['churn_date'], format='%Y-%m-%d')\n",
    "calls['call_date'] = pd.to_datetime(calls['call_date'], format='%Y-%m-%d')\n",
    "messages['message_date'] = pd.to_datetime(messages['message_date'], format='%Y-%m-%d')\n",
    "internet['session_date'] = pd.to_datetime(internet['session_date'], format='%Y-%m-%d')"
   ]
  },
  {
   "cell_type": "markdown",
   "metadata": {},
   "source": [
    "Далее округлим количество минут в большую сторону."
   ]
  },
  {
   "cell_type": "code",
   "execution_count": 18,
   "metadata": {},
   "outputs": [],
   "source": [
    "calls['duration'] = calls['duration'].apply(math.ceil)"
   ]
  },
  {
   "cell_type": "markdown",
   "metadata": {},
   "source": [
    "Изменим в tariffs название колонки для дальнейшего слияния таблиц."
   ]
  },
  {
   "cell_type": "code",
   "execution_count": 19,
   "metadata": {},
   "outputs": [],
   "source": [
    "tariffs = tariffs.rename(columns={'tariff_name': 'tariff'})"
   ]
  },
  {
   "cell_type": "markdown",
   "metadata": {},
   "source": [
    "Добавим колонки с месяцами для дальнейшего подсчета расходования трафика."
   ]
  },
  {
   "cell_type": "code",
   "execution_count": 20,
   "metadata": {},
   "outputs": [],
   "source": [
    "calls['month'] = calls['call_date'].dt.month"
   ]
  },
  {
   "cell_type": "code",
   "execution_count": 21,
   "metadata": {},
   "outputs": [],
   "source": [
    "messages['month'] = messages['message_date'].dt.month"
   ]
  },
  {
   "cell_type": "code",
   "execution_count": 22,
   "metadata": {},
   "outputs": [],
   "source": [
    "internet['month'] = internet['session_date'].dt.month"
   ]
  },
  {
   "cell_type": "markdown",
   "metadata": {},
   "source": [
    "Из таблицы users для дальнейшей работы нам понадобятся только идентификатор пользователя, тариф и город для сравнения средней выручки. "
   ]
  },
  {
   "cell_type": "code",
   "execution_count": 23,
   "metadata": {
    "scrolled": true
   },
   "outputs": [
    {
     "data": {
      "text/html": [
       "<div>\n",
       "<style scoped>\n",
       "    .dataframe tbody tr th:only-of-type {\n",
       "        vertical-align: middle;\n",
       "    }\n",
       "\n",
       "    .dataframe tbody tr th {\n",
       "        vertical-align: top;\n",
       "    }\n",
       "\n",
       "    .dataframe thead th {\n",
       "        text-align: right;\n",
       "    }\n",
       "</style>\n",
       "<table border=\"1\" class=\"dataframe\">\n",
       "  <thead>\n",
       "    <tr style=\"text-align: right;\">\n",
       "      <th></th>\n",
       "      <th>city</th>\n",
       "      <th>tariff</th>\n",
       "    </tr>\n",
       "    <tr>\n",
       "      <th>user_id</th>\n",
       "      <th></th>\n",
       "      <th></th>\n",
       "    </tr>\n",
       "  </thead>\n",
       "  <tbody>\n",
       "    <tr>\n",
       "      <td>1000</td>\n",
       "      <td>Краснодар</td>\n",
       "      <td>ultra</td>\n",
       "    </tr>\n",
       "    <tr>\n",
       "      <td>1001</td>\n",
       "      <td>Москва</td>\n",
       "      <td>smart</td>\n",
       "    </tr>\n",
       "    <tr>\n",
       "      <td>1002</td>\n",
       "      <td>Стерлитамак</td>\n",
       "      <td>smart</td>\n",
       "    </tr>\n",
       "    <tr>\n",
       "      <td>1003</td>\n",
       "      <td>Москва</td>\n",
       "      <td>ultra</td>\n",
       "    </tr>\n",
       "    <tr>\n",
       "      <td>1004</td>\n",
       "      <td>Новокузнецк</td>\n",
       "      <td>ultra</td>\n",
       "    </tr>\n",
       "  </tbody>\n",
       "</table>\n",
       "</div>"
      ],
      "text/plain": [
       "                city tariff\n",
       "user_id                    \n",
       "1000       Краснодар  ultra\n",
       "1001          Москва  smart\n",
       "1002     Стерлитамак  smart\n",
       "1003          Москва  ultra\n",
       "1004     Новокузнецк  ultra"
      ]
     },
     "execution_count": 23,
     "metadata": {},
     "output_type": "execute_result"
    }
   ],
   "source": [
    "users_pivot = users.pivot_table(index='user_id', values =['city', 'tariff'], aggfunc='first')\n",
    "users_pivot.head()"
   ]
  },
  {
   "cell_type": "markdown",
   "metadata": {},
   "source": [
    "В internet нас интересует только израсходованный трафик клиентов по месяцам без количества интернет-сессий."
   ]
  },
  {
   "cell_type": "markdown",
   "metadata": {},
   "source": [
    "Из данных calls потребуются как данные о количестве звонков, та и продолжительность разговоров за каждый месяц."
   ]
  },
  {
   "cell_type": "code",
   "execution_count": 24,
   "metadata": {
    "scrolled": false
   },
   "outputs": [
    {
     "data": {
      "text/html": [
       "<div>\n",
       "<style scoped>\n",
       "    .dataframe tbody tr th:only-of-type {\n",
       "        vertical-align: middle;\n",
       "    }\n",
       "\n",
       "    .dataframe tbody tr th {\n",
       "        vertical-align: top;\n",
       "    }\n",
       "\n",
       "    .dataframe thead th {\n",
       "        text-align: right;\n",
       "    }\n",
       "</style>\n",
       "<table border=\"1\" class=\"dataframe\">\n",
       "  <thead>\n",
       "    <tr style=\"text-align: right;\">\n",
       "      <th></th>\n",
       "      <th>month</th>\n",
       "      <th>calls_count</th>\n",
       "      <th>sum_duration</th>\n",
       "    </tr>\n",
       "    <tr>\n",
       "      <th>user_id</th>\n",
       "      <th></th>\n",
       "      <th></th>\n",
       "      <th></th>\n",
       "    </tr>\n",
       "  </thead>\n",
       "  <tbody>\n",
       "    <tr>\n",
       "      <td>1000</td>\n",
       "      <td>5</td>\n",
       "      <td>22</td>\n",
       "      <td>159</td>\n",
       "    </tr>\n",
       "    <tr>\n",
       "      <td>1000</td>\n",
       "      <td>6</td>\n",
       "      <td>43</td>\n",
       "      <td>172</td>\n",
       "    </tr>\n",
       "    <tr>\n",
       "      <td>1000</td>\n",
       "      <td>7</td>\n",
       "      <td>47</td>\n",
       "      <td>340</td>\n",
       "    </tr>\n",
       "    <tr>\n",
       "      <td>1000</td>\n",
       "      <td>8</td>\n",
       "      <td>52</td>\n",
       "      <td>408</td>\n",
       "    </tr>\n",
       "    <tr>\n",
       "      <td>1000</td>\n",
       "      <td>9</td>\n",
       "      <td>58</td>\n",
       "      <td>466</td>\n",
       "    </tr>\n",
       "  </tbody>\n",
       "</table>\n",
       "</div>"
      ],
      "text/plain": [
       "         month  calls_count  sum_duration\n",
       "user_id                                  \n",
       "1000         5           22           159\n",
       "1000         6           43           172\n",
       "1000         7           47           340\n",
       "1000         8           52           408\n",
       "1000         9           58           466"
      ]
     },
     "execution_count": 24,
     "metadata": {},
     "output_type": "execute_result"
    }
   ],
   "source": [
    "calls_pivot = calls.pivot_table(index=['user_id', 'month'], values='duration', aggfunc=['count', 'sum'])\n",
    "calls_pivot.columns = ['calls_count', 'sum_duration']\n",
    "calls_pivot.reset_index(level='month', inplace=True)\n",
    "calls_pivot.head()"
   ]
  },
  {
   "cell_type": "code",
   "execution_count": 55,
   "metadata": {},
   "outputs": [
    {
     "data": {
      "image/png": "[encoded data removed]",
      "text/plain": [
       "<Figure size 432x288 with 1 Axes>"
      ]
     },
     "metadata": {
      "needs_background": "light"
     },
     "output_type": "display_data"
    }
   ],
   "source": [
    "calls['duration'].hist(bins=30);"
   ]
  },
  {
   "cell_type": "markdown",
   "metadata": {},
   "source": [
    "Большиство звонков - пропущенные. Большее число абонентов тратят на разговор 5 и 9 минут."
   ]
  },
  {
   "cell_type": "markdown",
   "metadata": {},
   "source": [
    "Сгруппировав по дате отправки сообщений, сможем подсчитать количество отправленных sms за месяц."
   ]
  },
  {
   "cell_type": "code",
   "execution_count": 26,
   "metadata": {
    "scrolled": false
   },
   "outputs": [
    {
     "data": {
      "text/html": [
       "<div>\n",
       "<style scoped>\n",
       "    .dataframe tbody tr th:only-of-type {\n",
       "        vertical-align: middle;\n",
       "    }\n",
       "\n",
       "    .dataframe tbody tr th {\n",
       "        vertical-align: top;\n",
       "    }\n",
       "\n",
       "    .dataframe thead th {\n",
       "        text-align: right;\n",
       "    }\n",
       "</style>\n",
       "<table border=\"1\" class=\"dataframe\">\n",
       "  <thead>\n",
       "    <tr style=\"text-align: right;\">\n",
       "      <th></th>\n",
       "      <th>month</th>\n",
       "      <th>message_count</th>\n",
       "    </tr>\n",
       "    <tr>\n",
       "      <th>user_id</th>\n",
       "      <th></th>\n",
       "      <th></th>\n",
       "    </tr>\n",
       "  </thead>\n",
       "  <tbody>\n",
       "    <tr>\n",
       "      <td>1000</td>\n",
       "      <td>5</td>\n",
       "      <td>22</td>\n",
       "    </tr>\n",
       "    <tr>\n",
       "      <td>1000</td>\n",
       "      <td>6</td>\n",
       "      <td>60</td>\n",
       "    </tr>\n",
       "    <tr>\n",
       "      <td>1000</td>\n",
       "      <td>7</td>\n",
       "      <td>75</td>\n",
       "    </tr>\n",
       "    <tr>\n",
       "      <td>1000</td>\n",
       "      <td>8</td>\n",
       "      <td>81</td>\n",
       "    </tr>\n",
       "    <tr>\n",
       "      <td>1000</td>\n",
       "      <td>9</td>\n",
       "      <td>57</td>\n",
       "    </tr>\n",
       "  </tbody>\n",
       "</table>\n",
       "</div>"
      ],
      "text/plain": [
       "         month  message_count\n",
       "user_id                      \n",
       "1000         5             22\n",
       "1000         6             60\n",
       "1000         7             75\n",
       "1000         8             81\n",
       "1000         9             57"
      ]
     },
     "execution_count": 26,
     "metadata": {},
     "output_type": "execute_result"
    }
   ],
   "source": [
    "messages_pivot = messages.pivot_table(index=['user_id', 'month'], values='message_date', aggfunc=['count'])\n",
    "messages_pivot.columns = ['message_count']\n",
    "messages_pivot.reset_index(level='month', inplace=True)\n",
    "messages_pivot.head()"
   ]
  },
  {
   "cell_type": "code",
   "execution_count": 27,
   "metadata": {
    "scrolled": false
   },
   "outputs": [
    {
     "data": {
      "text/html": [
       "<div>\n",
       "<style scoped>\n",
       "    .dataframe tbody tr th:only-of-type {\n",
       "        vertical-align: middle;\n",
       "    }\n",
       "\n",
       "    .dataframe tbody tr th {\n",
       "        vertical-align: top;\n",
       "    }\n",
       "\n",
       "    .dataframe thead th {\n",
       "        text-align: right;\n",
       "    }\n",
       "</style>\n",
       "<table border=\"1\" class=\"dataframe\">\n",
       "  <thead>\n",
       "    <tr style=\"text-align: right;\">\n",
       "      <th></th>\n",
       "      <th>month</th>\n",
       "      <th>mb_used_sum</th>\n",
       "    </tr>\n",
       "    <tr>\n",
       "      <th>user_id</th>\n",
       "      <th></th>\n",
       "      <th></th>\n",
       "    </tr>\n",
       "  </thead>\n",
       "  <tbody>\n",
       "    <tr>\n",
       "      <td>1000</td>\n",
       "      <td>5</td>\n",
       "      <td>2253.49</td>\n",
       "    </tr>\n",
       "    <tr>\n",
       "      <td>1000</td>\n",
       "      <td>6</td>\n",
       "      <td>23233.77</td>\n",
       "    </tr>\n",
       "    <tr>\n",
       "      <td>1000</td>\n",
       "      <td>7</td>\n",
       "      <td>14003.64</td>\n",
       "    </tr>\n",
       "    <tr>\n",
       "      <td>1000</td>\n",
       "      <td>8</td>\n",
       "      <td>14055.93</td>\n",
       "    </tr>\n",
       "    <tr>\n",
       "      <td>1000</td>\n",
       "      <td>9</td>\n",
       "      <td>14568.91</td>\n",
       "    </tr>\n",
       "  </tbody>\n",
       "</table>\n",
       "</div>"
      ],
      "text/plain": [
       "         month  mb_used_sum\n",
       "user_id                    \n",
       "1000         5      2253.49\n",
       "1000         6     23233.77\n",
       "1000         7     14003.64\n",
       "1000         8     14055.93\n",
       "1000         9     14568.91"
      ]
     },
     "execution_count": 27,
     "metadata": {},
     "output_type": "execute_result"
    }
   ],
   "source": [
    "internet_pivot = internet.pivot_table(index=['user_id','month'], values=['mb_used'], aggfunc='sum')\n",
    "internet_pivot.columns = ['mb_used_sum']\n",
    "internet_pivot.reset_index(level='month', inplace=True)\n",
    "internet_pivot.head()"
   ]
  },
  {
   "cell_type": "markdown",
   "metadata": {},
   "source": [
    "Теперь объединим значимые для анализа данные в одну таблицу."
   ]
  },
  {
   "cell_type": "code",
   "execution_count": 28,
   "metadata": {},
   "outputs": [
    {
     "data": {
      "text/html": [
       "<div>\n",
       "<style scoped>\n",
       "    .dataframe tbody tr th:only-of-type {\n",
       "        vertical-align: middle;\n",
       "    }\n",
       "\n",
       "    .dataframe tbody tr th {\n",
       "        vertical-align: top;\n",
       "    }\n",
       "\n",
       "    .dataframe thead th {\n",
       "        text-align: right;\n",
       "    }\n",
       "</style>\n",
       "<table border=\"1\" class=\"dataframe\">\n",
       "  <thead>\n",
       "    <tr style=\"text-align: right;\">\n",
       "      <th></th>\n",
       "      <th>user_id</th>\n",
       "      <th>month</th>\n",
       "      <th>calls_count</th>\n",
       "      <th>sum_duration</th>\n",
       "      <th>message_count</th>\n",
       "      <th>mb_used_sum</th>\n",
       "      <th>city</th>\n",
       "      <th>tariff</th>\n",
       "      <th>messages_included</th>\n",
       "      <th>mb_per_month_included</th>\n",
       "      <th>minutes_included</th>\n",
       "      <th>rub_monthly_fee</th>\n",
       "      <th>rub_per_gb</th>\n",
       "      <th>rub_per_message</th>\n",
       "      <th>rub_per_minute</th>\n",
       "    </tr>\n",
       "  </thead>\n",
       "  <tbody>\n",
       "    <tr>\n",
       "      <td>0</td>\n",
       "      <td>1000</td>\n",
       "      <td>5</td>\n",
       "      <td>22</td>\n",
       "      <td>159</td>\n",
       "      <td>22</td>\n",
       "      <td>2253.49</td>\n",
       "      <td>Краснодар</td>\n",
       "      <td>ultra</td>\n",
       "      <td>1000</td>\n",
       "      <td>30720</td>\n",
       "      <td>3000</td>\n",
       "      <td>1950</td>\n",
       "      <td>150</td>\n",
       "      <td>1</td>\n",
       "      <td>1</td>\n",
       "    </tr>\n",
       "    <tr>\n",
       "      <td>1</td>\n",
       "      <td>1000</td>\n",
       "      <td>6</td>\n",
       "      <td>43</td>\n",
       "      <td>172</td>\n",
       "      <td>60</td>\n",
       "      <td>23233.8</td>\n",
       "      <td>Краснодар</td>\n",
       "      <td>ultra</td>\n",
       "      <td>1000</td>\n",
       "      <td>30720</td>\n",
       "      <td>3000</td>\n",
       "      <td>1950</td>\n",
       "      <td>150</td>\n",
       "      <td>1</td>\n",
       "      <td>1</td>\n",
       "    </tr>\n",
       "    <tr>\n",
       "      <td>2</td>\n",
       "      <td>1000</td>\n",
       "      <td>7</td>\n",
       "      <td>47</td>\n",
       "      <td>340</td>\n",
       "      <td>75</td>\n",
       "      <td>14003.6</td>\n",
       "      <td>Краснодар</td>\n",
       "      <td>ultra</td>\n",
       "      <td>1000</td>\n",
       "      <td>30720</td>\n",
       "      <td>3000</td>\n",
       "      <td>1950</td>\n",
       "      <td>150</td>\n",
       "      <td>1</td>\n",
       "      <td>1</td>\n",
       "    </tr>\n",
       "    <tr>\n",
       "      <td>3</td>\n",
       "      <td>1000</td>\n",
       "      <td>8</td>\n",
       "      <td>52</td>\n",
       "      <td>408</td>\n",
       "      <td>81</td>\n",
       "      <td>14055.9</td>\n",
       "      <td>Краснодар</td>\n",
       "      <td>ultra</td>\n",
       "      <td>1000</td>\n",
       "      <td>30720</td>\n",
       "      <td>3000</td>\n",
       "      <td>1950</td>\n",
       "      <td>150</td>\n",
       "      <td>1</td>\n",
       "      <td>1</td>\n",
       "    </tr>\n",
       "    <tr>\n",
       "      <td>4</td>\n",
       "      <td>1000</td>\n",
       "      <td>9</td>\n",
       "      <td>58</td>\n",
       "      <td>466</td>\n",
       "      <td>57</td>\n",
       "      <td>14568.9</td>\n",
       "      <td>Краснодар</td>\n",
       "      <td>ultra</td>\n",
       "      <td>1000</td>\n",
       "      <td>30720</td>\n",
       "      <td>3000</td>\n",
       "      <td>1950</td>\n",
       "      <td>150</td>\n",
       "      <td>1</td>\n",
       "      <td>1</td>\n",
       "    </tr>\n",
       "    <tr>\n",
       "      <td>...</td>\n",
       "      <td>...</td>\n",
       "      <td>...</td>\n",
       "      <td>...</td>\n",
       "      <td>...</td>\n",
       "      <td>...</td>\n",
       "      <td>...</td>\n",
       "      <td>...</td>\n",
       "      <td>...</td>\n",
       "      <td>...</td>\n",
       "      <td>...</td>\n",
       "      <td>...</td>\n",
       "      <td>...</td>\n",
       "      <td>...</td>\n",
       "      <td>...</td>\n",
       "      <td>...</td>\n",
       "    </tr>\n",
       "    <tr>\n",
       "      <td>3209</td>\n",
       "      <td>1489</td>\n",
       "      <td>8</td>\n",
       "      <td>0</td>\n",
       "      <td>0</td>\n",
       "      <td>17</td>\n",
       "      <td>11050.6</td>\n",
       "      <td>Санкт-Петербург</td>\n",
       "      <td>smart</td>\n",
       "      <td>50</td>\n",
       "      <td>15360</td>\n",
       "      <td>500</td>\n",
       "      <td>550</td>\n",
       "      <td>200</td>\n",
       "      <td>3</td>\n",
       "      <td>3</td>\n",
       "    </tr>\n",
       "    <tr>\n",
       "      <td>3210</td>\n",
       "      <td>1489</td>\n",
       "      <td>9</td>\n",
       "      <td>0</td>\n",
       "      <td>0</td>\n",
       "      <td>32</td>\n",
       "      <td>17206.3</td>\n",
       "      <td>Санкт-Петербург</td>\n",
       "      <td>smart</td>\n",
       "      <td>50</td>\n",
       "      <td>15360</td>\n",
       "      <td>500</td>\n",
       "      <td>550</td>\n",
       "      <td>200</td>\n",
       "      <td>3</td>\n",
       "      <td>3</td>\n",
       "    </tr>\n",
       "    <tr>\n",
       "      <td>3211</td>\n",
       "      <td>1489</td>\n",
       "      <td>10</td>\n",
       "      <td>0</td>\n",
       "      <td>0</td>\n",
       "      <td>21</td>\n",
       "      <td>19559.4</td>\n",
       "      <td>Санкт-Петербург</td>\n",
       "      <td>smart</td>\n",
       "      <td>50</td>\n",
       "      <td>15360</td>\n",
       "      <td>500</td>\n",
       "      <td>550</td>\n",
       "      <td>200</td>\n",
       "      <td>3</td>\n",
       "      <td>3</td>\n",
       "    </tr>\n",
       "    <tr>\n",
       "      <td>3212</td>\n",
       "      <td>1489</td>\n",
       "      <td>11</td>\n",
       "      <td>0</td>\n",
       "      <td>0</td>\n",
       "      <td>20</td>\n",
       "      <td>17491.6</td>\n",
       "      <td>Санкт-Петербург</td>\n",
       "      <td>smart</td>\n",
       "      <td>50</td>\n",
       "      <td>15360</td>\n",
       "      <td>500</td>\n",
       "      <td>550</td>\n",
       "      <td>200</td>\n",
       "      <td>3</td>\n",
       "      <td>3</td>\n",
       "    </tr>\n",
       "    <tr>\n",
       "      <td>3213</td>\n",
       "      <td>1489</td>\n",
       "      <td>12</td>\n",
       "      <td>0</td>\n",
       "      <td>0</td>\n",
       "      <td>35</td>\n",
       "      <td>17322.5</td>\n",
       "      <td>Санкт-Петербург</td>\n",
       "      <td>smart</td>\n",
       "      <td>50</td>\n",
       "      <td>15360</td>\n",
       "      <td>500</td>\n",
       "      <td>550</td>\n",
       "      <td>200</td>\n",
       "      <td>3</td>\n",
       "      <td>3</td>\n",
       "    </tr>\n",
       "  </tbody>\n",
       "</table>\n",
       "<p>3214 rows × 15 columns</p>\n",
       "</div>"
      ],
      "text/plain": [
       "      user_id  month calls_count sum_duration message_count mb_used_sum  \\\n",
       "0        1000      5          22          159            22     2253.49   \n",
       "1        1000      6          43          172            60     23233.8   \n",
       "2        1000      7          47          340            75     14003.6   \n",
       "3        1000      8          52          408            81     14055.9   \n",
       "4        1000      9          58          466            57     14568.9   \n",
       "...       ...    ...         ...          ...           ...         ...   \n",
       "3209     1489      8           0            0            17     11050.6   \n",
       "3210     1489      9           0            0            32     17206.3   \n",
       "3211     1489     10           0            0            21     19559.4   \n",
       "3212     1489     11           0            0            20     17491.6   \n",
       "3213     1489     12           0            0            35     17322.5   \n",
       "\n",
       "                 city tariff  messages_included  mb_per_month_included  \\\n",
       "0           Краснодар  ultra               1000                  30720   \n",
       "1           Краснодар  ultra               1000                  30720   \n",
       "2           Краснодар  ultra               1000                  30720   \n",
       "3           Краснодар  ultra               1000                  30720   \n",
       "4           Краснодар  ultra               1000                  30720   \n",
       "...               ...    ...                ...                    ...   \n",
       "3209  Санкт-Петербург  smart                 50                  15360   \n",
       "3210  Санкт-Петербург  smart                 50                  15360   \n",
       "3211  Санкт-Петербург  smart                 50                  15360   \n",
       "3212  Санкт-Петербург  smart                 50                  15360   \n",
       "3213  Санкт-Петербург  smart                 50                  15360   \n",
       "\n",
       "      minutes_included  rub_monthly_fee  rub_per_gb  rub_per_message  \\\n",
       "0                 3000             1950         150                1   \n",
       "1                 3000             1950         150                1   \n",
       "2                 3000             1950         150                1   \n",
       "3                 3000             1950         150                1   \n",
       "4                 3000             1950         150                1   \n",
       "...                ...              ...         ...              ...   \n",
       "3209               500              550         200                3   \n",
       "3210               500              550         200                3   \n",
       "3211               500              550         200                3   \n",
       "3212               500              550         200                3   \n",
       "3213               500              550         200                3   \n",
       "\n",
       "      rub_per_minute  \n",
       "0                  1  \n",
       "1                  1  \n",
       "2                  1  \n",
       "3                  1  \n",
       "4                  1  \n",
       "...              ...  \n",
       "3209               3  \n",
       "3210               3  \n",
       "3211               3  \n",
       "3212               3  \n",
       "3213               3  \n",
       "\n",
       "[3214 rows x 15 columns]"
      ]
     },
     "execution_count": 28,
     "metadata": {},
     "output_type": "execute_result"
    }
   ],
   "source": [
    "from functools import reduce\n",
    "\n",
    "df_columns = [calls_pivot, messages_pivot, internet_pivot]\n",
    "\n",
    "de = reduce(lambda  left,right: pd.merge(left,right,on=['user_id', 'month'],\n",
    "                                            how='outer'), df_columns).fillna('0')\n",
    "\n",
    "de.reset_index(level=['user_id'], inplace=True) \n",
    "\n",
    "qw = [users_pivot]\n",
    "ds = reduce(lambda  left,right: pd.merge(left,right,on=['user_id'],\n",
    "                                            how='outer'), qw).fillna('0')\n",
    "\n",
    "df = de.merge(ds, on=['user_id'])\n",
    "df = df.merge(tariffs, on='tariff', how='outer')\n",
    "\n",
    "df"
   ]
  },
  {
   "cell_type": "code",
   "execution_count": 29,
   "metadata": {},
   "outputs": [
    {
     "name": "stdout",
     "output_type": "stream",
     "text": [
      "<class 'pandas.core.frame.DataFrame'>\n",
      "Int64Index: 3214 entries, 0 to 3213\n",
      "Data columns (total 15 columns):\n",
      "user_id                  3214 non-null int64\n",
      "month                    3214 non-null int64\n",
      "calls_count              3214 non-null object\n",
      "sum_duration             3214 non-null object\n",
      "message_count            3214 non-null object\n",
      "mb_used_sum              3214 non-null object\n",
      "city                     3214 non-null object\n",
      "tariff                   3214 non-null object\n",
      "messages_included        3214 non-null int64\n",
      "mb_per_month_included    3214 non-null int64\n",
      "minutes_included         3214 non-null int64\n",
      "rub_monthly_fee          3214 non-null int64\n",
      "rub_per_gb               3214 non-null int64\n",
      "rub_per_message          3214 non-null int64\n",
      "rub_per_minute           3214 non-null int64\n",
      "dtypes: int64(9), object(6)\n",
      "memory usage: 401.8+ KB\n"
     ]
    }
   ],
   "source": [
    "df.info()"
   ]
  },
  {
   "cell_type": "markdown",
   "metadata": {},
   "source": [
    "После объединения таблиц изменился тип данных в колонках."
   ]
  },
  {
   "cell_type": "code",
   "execution_count": 30,
   "metadata": {},
   "outputs": [],
   "source": [
    "df = df.astype({'calls_count':'int', 'sum_duration':'int', 'message_count':'int', 'mb_used_sum':'float'})"
   ]
  },
  {
   "cell_type": "markdown",
   "metadata": {},
   "source": [
    "Теперь расчитаем помесячную выручку с каждого пользователя. Для это вычтем бесплатный лимит из суммарного количества звонков, сообщений и интернет-трафика."
   ]
  },
  {
   "cell_type": "code",
   "execution_count": 31,
   "metadata": {},
   "outputs": [],
   "source": [
    "df['extra_minutes'] = df['sum_duration'] - df['minutes_included']\n",
    "df['extra_messages'] = df['message_count'] - df['messages_included']\n",
    "df['extra_mb'] = df['mb_used_sum'] - df['mb_per_month_included']"
   ]
  },
  {
   "cell_type": "markdown",
   "metadata": {},
   "source": [
    "Отрицательные значения говорят о неиспользованных минутах/сообщениях/интернет-трафике, положительные - о перерасходе. этот остаток нужно умножить на значения соответствующего тарифного плана."
   ]
  },
  {
   "cell_type": "markdown",
   "metadata": {},
   "source": [
    "Функция рассчитает затраты за перерасход трафика(когда расход больше лимита)."
   ]
  },
  {
   "cell_type": "code",
   "execution_count": 32,
   "metadata": {},
   "outputs": [],
   "source": [
    "df['extra_mb'] = np.ceil(df['extra_mb'] / 1024) # округлим использованный интернет-трафик до Гб в большую сторону."
   ]
  },
  {
   "cell_type": "code",
   "execution_count": 33,
   "metadata": {},
   "outputs": [],
   "source": [
    "def x(row): \n",
    "    min_price = 0 \n",
    "    sms_price = 0\n",
    "    mb_price = 0\n",
    "    if row['extra_minutes'] > 0:\n",
    "        min_price = row['extra_minutes'] * row['rub_per_minute']\n",
    "    if row['extra_messages'] > 0:\n",
    "        sms_price = row['extra_messages'] * row['rub_per_message']\n",
    "    if row['extra_mb'] > 0:\n",
    "        mb_price = row['extra_mb'] * row['rub_per_gb']\n",
    "    return min_price + sms_price + mb_price\n",
    "\n",
    "df['overpayment'] = df.apply(x, axis=1) # добавили колонку с переплатой по тарифу\n",
    "df['total_price'] = df['overpayment'] + df['rub_monthly_fee'] # и колонку с общей суммой оплаты"
   ]
  },
  {
   "cell_type": "markdown",
   "metadata": {},
   "source": [
    "Удалим ненужные колонки."
   ]
  },
  {
   "cell_type": "code",
   "execution_count": 34,
   "metadata": {
    "scrolled": false
   },
   "outputs": [
    {
     "data": {
      "text/html": [
       "<div>\n",
       "<style scoped>\n",
       "    .dataframe tbody tr th:only-of-type {\n",
       "        vertical-align: middle;\n",
       "    }\n",
       "\n",
       "    .dataframe tbody tr th {\n",
       "        vertical-align: top;\n",
       "    }\n",
       "\n",
       "    .dataframe thead th {\n",
       "        text-align: right;\n",
       "    }\n",
       "</style>\n",
       "<table border=\"1\" class=\"dataframe\">\n",
       "  <thead>\n",
       "    <tr style=\"text-align: right;\">\n",
       "      <th></th>\n",
       "      <th>user_id</th>\n",
       "      <th>month</th>\n",
       "      <th>calls_count</th>\n",
       "      <th>sum_duration</th>\n",
       "      <th>message_count</th>\n",
       "      <th>mb_used_sum</th>\n",
       "      <th>city</th>\n",
       "      <th>tariff</th>\n",
       "      <th>overpayment</th>\n",
       "      <th>total_price</th>\n",
       "    </tr>\n",
       "  </thead>\n",
       "  <tbody>\n",
       "    <tr>\n",
       "      <td>0</td>\n",
       "      <td>1000</td>\n",
       "      <td>5</td>\n",
       "      <td>22</td>\n",
       "      <td>159</td>\n",
       "      <td>22</td>\n",
       "      <td>2253.49</td>\n",
       "      <td>Краснодар</td>\n",
       "      <td>ultra</td>\n",
       "      <td>0</td>\n",
       "      <td>1950</td>\n",
       "    </tr>\n",
       "    <tr>\n",
       "      <td>1</td>\n",
       "      <td>1000</td>\n",
       "      <td>6</td>\n",
       "      <td>43</td>\n",
       "      <td>172</td>\n",
       "      <td>60</td>\n",
       "      <td>23233.77</td>\n",
       "      <td>Краснодар</td>\n",
       "      <td>ultra</td>\n",
       "      <td>0</td>\n",
       "      <td>1950</td>\n",
       "    </tr>\n",
       "    <tr>\n",
       "      <td>2</td>\n",
       "      <td>1000</td>\n",
       "      <td>7</td>\n",
       "      <td>47</td>\n",
       "      <td>340</td>\n",
       "      <td>75</td>\n",
       "      <td>14003.64</td>\n",
       "      <td>Краснодар</td>\n",
       "      <td>ultra</td>\n",
       "      <td>0</td>\n",
       "      <td>1950</td>\n",
       "    </tr>\n",
       "    <tr>\n",
       "      <td>3</td>\n",
       "      <td>1000</td>\n",
       "      <td>8</td>\n",
       "      <td>52</td>\n",
       "      <td>408</td>\n",
       "      <td>81</td>\n",
       "      <td>14055.93</td>\n",
       "      <td>Краснодар</td>\n",
       "      <td>ultra</td>\n",
       "      <td>0</td>\n",
       "      <td>1950</td>\n",
       "    </tr>\n",
       "    <tr>\n",
       "      <td>4</td>\n",
       "      <td>1000</td>\n",
       "      <td>9</td>\n",
       "      <td>58</td>\n",
       "      <td>466</td>\n",
       "      <td>57</td>\n",
       "      <td>14568.91</td>\n",
       "      <td>Краснодар</td>\n",
       "      <td>ultra</td>\n",
       "      <td>0</td>\n",
       "      <td>1950</td>\n",
       "    </tr>\n",
       "  </tbody>\n",
       "</table>\n",
       "</div>"
      ],
      "text/plain": [
       "   user_id  month  calls_count  sum_duration  message_count  mb_used_sum  \\\n",
       "0     1000      5           22           159             22      2253.49   \n",
       "1     1000      6           43           172             60     23233.77   \n",
       "2     1000      7           47           340             75     14003.64   \n",
       "3     1000      8           52           408             81     14055.93   \n",
       "4     1000      9           58           466             57     14568.91   \n",
       "\n",
       "        city tariff  overpayment  total_price  \n",
       "0  Краснодар  ultra            0         1950  \n",
       "1  Краснодар  ultra            0         1950  \n",
       "2  Краснодар  ultra            0         1950  \n",
       "3  Краснодар  ultra            0         1950  \n",
       "4  Краснодар  ultra            0         1950  "
      ]
     },
     "execution_count": 34,
     "metadata": {},
     "output_type": "execute_result"
    }
   ],
   "source": [
    "df = df.drop(['messages_included', 'mb_per_month_included', 'minutes_included', 'rub_monthly_fee', 'rub_per_gb', 'rub_per_message', 'rub_per_minute', 'extra_minutes', 'extra_messages', 'extra_mb'], axis=1)\n",
    "df = df.astype({'total_price':'int', 'overpayment':'int'}) # преобразовали в int\n",
    "df.head()"
   ]
  },
  {
   "cell_type": "code",
   "execution_count": 35,
   "metadata": {},
   "outputs": [
    {
     "data": {
      "text/plain": [
       "0"
      ]
     },
     "execution_count": 35,
     "metadata": {},
     "output_type": "execute_result"
    }
   ],
   "source": [
    "df.duplicated().sum()"
   ]
  },
  {
   "cell_type": "markdown",
   "metadata": {},
   "source": [
    "### Вывод"
   ]
  },
  {
   "cell_type": "markdown",
   "metadata": {},
   "source": [
    "В ходе предобработки и подготовки данных мы изменили в датафреймах типы данных, округлили интернет-трафик и длительность разговоров до целых в большую сторону. Дубликаты не обнаружены. Добавили колонки с месяцами, таким образом смогли посчитать количество отправленных сообщений, количество и общую длительность звонков и расходуемый трафик за каждый месяц для всех абонентов из выборки. Рассчитали помесячную выручку с каждого клиента и создали новый датафрейм, который объединяет в себе всю необходимую для дальнейшего анализа информацию."
   ]
  },
  {
   "cell_type": "markdown",
   "metadata": {},
   "source": [
    "## Анализ данных"
   ]
  },
  {
   "cell_type": "markdown",
   "metadata": {},
   "source": [
    "Для начала разделим фрейм на тарифы, чтобы визуализировать данные по месяцам."
   ]
  },
  {
   "cell_type": "code",
   "execution_count": 36,
   "metadata": {},
   "outputs": [],
   "source": [
    "smart = df.query('tariff == \"smart\"')\n",
    "ultra = df.query('tariff == \"ultra\"')"
   ]
  },
  {
   "cell_type": "markdown",
   "metadata": {},
   "source": [
    "Рассчитаем среднее количество, дисперсию и стандартное отклонение по месяцам."
   ]
  },
  {
   "cell_type": "code",
   "execution_count": 37,
   "metadata": {},
   "outputs": [
    {
     "data": {
      "text/html": [
       "<div>\n",
       "<style scoped>\n",
       "    .dataframe tbody tr th:only-of-type {\n",
       "        vertical-align: middle;\n",
       "    }\n",
       "\n",
       "    .dataframe tbody tr th {\n",
       "        vertical-align: top;\n",
       "    }\n",
       "\n",
       "    .dataframe thead tr th {\n",
       "        text-align: left;\n",
       "    }\n",
       "\n",
       "    .dataframe thead tr:last-of-type th {\n",
       "        text-align: right;\n",
       "    }\n",
       "</style>\n",
       "<table border=\"1\" class=\"dataframe\">\n",
       "  <thead>\n",
       "    <tr>\n",
       "      <th></th>\n",
       "      <th colspan=\"4\" halign=\"left\">mean</th>\n",
       "      <th colspan=\"4\" halign=\"left\">var</th>\n",
       "      <th colspan=\"4\" halign=\"left\">std</th>\n",
       "    </tr>\n",
       "    <tr>\n",
       "      <th></th>\n",
       "      <th>mb_used_sum</th>\n",
       "      <th>message_count</th>\n",
       "      <th>sum_duration</th>\n",
       "      <th>total_price</th>\n",
       "      <th>mb_used_sum</th>\n",
       "      <th>message_count</th>\n",
       "      <th>sum_duration</th>\n",
       "      <th>total_price</th>\n",
       "      <th>mb_used_sum</th>\n",
       "      <th>message_count</th>\n",
       "      <th>sum_duration</th>\n",
       "      <th>total_price</th>\n",
       "    </tr>\n",
       "    <tr>\n",
       "      <th>tariff</th>\n",
       "      <th></th>\n",
       "      <th></th>\n",
       "      <th></th>\n",
       "      <th></th>\n",
       "      <th></th>\n",
       "      <th></th>\n",
       "      <th></th>\n",
       "      <th></th>\n",
       "      <th></th>\n",
       "      <th></th>\n",
       "      <th></th>\n",
       "      <th></th>\n",
       "    </tr>\n",
       "  </thead>\n",
       "  <tbody>\n",
       "    <tr>\n",
       "      <td>smart</td>\n",
       "      <td>16208.386990</td>\n",
       "      <td>33.384029</td>\n",
       "      <td>417.934948</td>\n",
       "      <td>1289.973531</td>\n",
       "      <td>3.446250e+07</td>\n",
       "      <td>796.812958</td>\n",
       "      <td>36219.315784</td>\n",
       "      <td>669785.708006</td>\n",
       "      <td>5870.476681</td>\n",
       "      <td>28.227876</td>\n",
       "      <td>190.313730</td>\n",
       "      <td>818.404367</td>\n",
       "    </tr>\n",
       "    <tr>\n",
       "      <td>ultra</td>\n",
       "      <td>19468.805208</td>\n",
       "      <td>49.363452</td>\n",
       "      <td>526.623350</td>\n",
       "      <td>2070.152284</td>\n",
       "      <td>1.017510e+08</td>\n",
       "      <td>2285.266143</td>\n",
       "      <td>100873.633397</td>\n",
       "      <td>141516.745079</td>\n",
       "      <td>10087.170752</td>\n",
       "      <td>47.804457</td>\n",
       "      <td>317.606098</td>\n",
       "      <td>376.187114</td>\n",
       "    </tr>\n",
       "  </tbody>\n",
       "</table>\n",
       "</div>"
      ],
      "text/plain": [
       "                mean                                                   var  \\\n",
       "         mb_used_sum message_count sum_duration  total_price   mb_used_sum   \n",
       "tariff                                                                       \n",
       "smart   16208.386990     33.384029   417.934948  1289.973531  3.446250e+07   \n",
       "ultra   19468.805208     49.363452   526.623350  2070.152284  1.017510e+08   \n",
       "\n",
       "                                                             std  \\\n",
       "       message_count   sum_duration    total_price   mb_used_sum   \n",
       "tariff                                                             \n",
       "smart     796.812958   36219.315784  669785.708006   5870.476681   \n",
       "ultra    2285.266143  100873.633397  141516.745079  10087.170752   \n",
       "\n",
       "                                               \n",
       "       message_count sum_duration total_price  \n",
       "tariff                                         \n",
       "smart      28.227876   190.313730  818.404367  \n",
       "ultra      47.804457   317.606098  376.187114  "
      ]
     },
     "execution_count": 37,
     "metadata": {},
     "output_type": "execute_result"
    }
   ],
   "source": [
    "param = df.pivot_table(index='tariff', values=['sum_duration', 'message_count', 'mb_used_sum', 'total_price'], aggfunc=['mean', 'var','std'])\n",
    "param"
   ]
  },
  {
   "cell_type": "code",
   "execution_count": 38,
   "metadata": {
    "scrolled": true
   },
   "outputs": [
    {
     "data": {
      "text/html": [
       "<div>\n",
       "<style scoped>\n",
       "    .dataframe tbody tr th:only-of-type {\n",
       "        vertical-align: middle;\n",
       "    }\n",
       "\n",
       "    .dataframe tbody tr th {\n",
       "        vertical-align: top;\n",
       "    }\n",
       "\n",
       "    .dataframe thead tr th {\n",
       "        text-align: left;\n",
       "    }\n",
       "\n",
       "    .dataframe thead tr:last-of-type th {\n",
       "        text-align: right;\n",
       "    }\n",
       "</style>\n",
       "<table border=\"1\" class=\"dataframe\">\n",
       "  <thead>\n",
       "    <tr>\n",
       "      <th></th>\n",
       "      <th colspan=\"3\" halign=\"left\">mean</th>\n",
       "      <th colspan=\"3\" halign=\"left\">var</th>\n",
       "      <th colspan=\"3\" halign=\"left\">std</th>\n",
       "    </tr>\n",
       "    <tr>\n",
       "      <th></th>\n",
       "      <th>mb_used_sum</th>\n",
       "      <th>message_count</th>\n",
       "      <th>sum_duration</th>\n",
       "      <th>mb_used_sum</th>\n",
       "      <th>message_count</th>\n",
       "      <th>sum_duration</th>\n",
       "      <th>mb_used_sum</th>\n",
       "      <th>message_count</th>\n",
       "      <th>sum_duration</th>\n",
       "    </tr>\n",
       "    <tr>\n",
       "      <th>month</th>\n",
       "      <th></th>\n",
       "      <th></th>\n",
       "      <th></th>\n",
       "      <th></th>\n",
       "      <th></th>\n",
       "      <th></th>\n",
       "      <th></th>\n",
       "      <th></th>\n",
       "      <th></th>\n",
       "    </tr>\n",
       "  </thead>\n",
       "  <tbody>\n",
       "    <tr>\n",
       "      <td>1</td>\n",
       "      <td>8513.717647</td>\n",
       "      <td>18.235294</td>\n",
       "      <td>203.852941</td>\n",
       "      <td>4.153391e+07</td>\n",
       "      <td>262.367201</td>\n",
       "      <td>23787.341355</td>\n",
       "      <td>6444.681014</td>\n",
       "      <td>16.197753</td>\n",
       "      <td>154.231454</td>\n",
       "    </tr>\n",
       "    <tr>\n",
       "      <td>2</td>\n",
       "      <td>11597.054310</td>\n",
       "      <td>24.086207</td>\n",
       "      <td>298.689655</td>\n",
       "      <td>3.902943e+07</td>\n",
       "      <td>473.097701</td>\n",
       "      <td>36412.287961</td>\n",
       "      <td>6247.353833</td>\n",
       "      <td>21.750809</td>\n",
       "      <td>190.820041</td>\n",
       "    </tr>\n",
       "    <tr>\n",
       "      <td>3</td>\n",
       "      <td>15104.159091</td>\n",
       "      <td>31.857143</td>\n",
       "      <td>390.051948</td>\n",
       "      <td>3.396835e+07</td>\n",
       "      <td>718.492481</td>\n",
       "      <td>36823.155161</td>\n",
       "      <td>5828.237537</td>\n",
       "      <td>26.804710</td>\n",
       "      <td>191.893604</td>\n",
       "    </tr>\n",
       "    <tr>\n",
       "      <td>4</td>\n",
       "      <td>13462.180625</td>\n",
       "      <td>30.741071</td>\n",
       "      <td>367.133929</td>\n",
       "      <td>3.247004e+07</td>\n",
       "      <td>602.139559</td>\n",
       "      <td>34778.207127</td>\n",
       "      <td>5698.249092</td>\n",
       "      <td>24.538532</td>\n",
       "      <td>186.489161</td>\n",
       "    </tr>\n",
       "    <tr>\n",
       "      <td>5</td>\n",
       "      <td>15805.184326</td>\n",
       "      <td>33.773050</td>\n",
       "      <td>387.361702</td>\n",
       "      <td>3.573925e+07</td>\n",
       "      <td>730.990983</td>\n",
       "      <td>34820.061094</td>\n",
       "      <td>5978.231725</td>\n",
       "      <td>27.036845</td>\n",
       "      <td>186.601343</td>\n",
       "    </tr>\n",
       "    <tr>\n",
       "      <td>6</td>\n",
       "      <td>15794.647988</td>\n",
       "      <td>33.402439</td>\n",
       "      <td>395.640244</td>\n",
       "      <td>3.353748e+07</td>\n",
       "      <td>806.806374</td>\n",
       "      <td>30742.918861</td>\n",
       "      <td>5791.155586</td>\n",
       "      <td>28.404337</td>\n",
       "      <td>175.336587</td>\n",
       "    </tr>\n",
       "    <tr>\n",
       "      <td>7</td>\n",
       "      <td>15743.150348</td>\n",
       "      <td>33.751244</td>\n",
       "      <td>408.353234</td>\n",
       "      <td>3.477643e+07</td>\n",
       "      <td>799.887811</td>\n",
       "      <td>32250.269602</td>\n",
       "      <td>5897.154446</td>\n",
       "      <td>28.282288</td>\n",
       "      <td>179.583601</td>\n",
       "    </tr>\n",
       "    <tr>\n",
       "      <td>8</td>\n",
       "      <td>16610.720085</td>\n",
       "      <td>33.638298</td>\n",
       "      <td>421.468085</td>\n",
       "      <td>3.128723e+07</td>\n",
       "      <td>838.257501</td>\n",
       "      <td>34793.583379</td>\n",
       "      <td>5593.499133</td>\n",
       "      <td>28.952677</td>\n",
       "      <td>186.530382</td>\n",
       "    </tr>\n",
       "    <tr>\n",
       "      <td>9</td>\n",
       "      <td>16303.578808</td>\n",
       "      <td>33.638462</td>\n",
       "      <td>428.611538</td>\n",
       "      <td>2.699962e+07</td>\n",
       "      <td>790.617820</td>\n",
       "      <td>33535.342723</td>\n",
       "      <td>5196.115749</td>\n",
       "      <td>28.117927</td>\n",
       "      <td>183.126576</td>\n",
       "    </tr>\n",
       "    <tr>\n",
       "      <td>10</td>\n",
       "      <td>16757.122891</td>\n",
       "      <td>33.765306</td>\n",
       "      <td>426.136054</td>\n",
       "      <td>3.433239e+07</td>\n",
       "      <td>816.111966</td>\n",
       "      <td>35392.336375</td>\n",
       "      <td>5859.384492</td>\n",
       "      <td>28.567673</td>\n",
       "      <td>188.128510</td>\n",
       "    </tr>\n",
       "    <tr>\n",
       "      <td>11</td>\n",
       "      <td>16895.696646</td>\n",
       "      <td>34.075949</td>\n",
       "      <td>435.265823</td>\n",
       "      <td>2.851852e+07</td>\n",
       "      <td>805.937071</td>\n",
       "      <td>31605.237050</td>\n",
       "      <td>5340.273416</td>\n",
       "      <td>28.389031</td>\n",
       "      <td>177.778618</td>\n",
       "    </tr>\n",
       "    <tr>\n",
       "      <td>12</td>\n",
       "      <td>18113.662047</td>\n",
       "      <td>35.994065</td>\n",
       "      <td>478.560831</td>\n",
       "      <td>3.106594e+07</td>\n",
       "      <td>934.952346</td>\n",
       "      <td>39698.622033</td>\n",
       "      <td>5573.682673</td>\n",
       "      <td>30.576990</td>\n",
       "      <td>199.245131</td>\n",
       "    </tr>\n",
       "  </tbody>\n",
       "</table>\n",
       "</div>"
      ],
      "text/plain": [
       "               mean                                      var                \\\n",
       "        mb_used_sum message_count sum_duration   mb_used_sum message_count   \n",
       "month                                                                        \n",
       "1       8513.717647     18.235294   203.852941  4.153391e+07    262.367201   \n",
       "2      11597.054310     24.086207   298.689655  3.902943e+07    473.097701   \n",
       "3      15104.159091     31.857143   390.051948  3.396835e+07    718.492481   \n",
       "4      13462.180625     30.741071   367.133929  3.247004e+07    602.139559   \n",
       "5      15805.184326     33.773050   387.361702  3.573925e+07    730.990983   \n",
       "6      15794.647988     33.402439   395.640244  3.353748e+07    806.806374   \n",
       "7      15743.150348     33.751244   408.353234  3.477643e+07    799.887811   \n",
       "8      16610.720085     33.638298   421.468085  3.128723e+07    838.257501   \n",
       "9      16303.578808     33.638462   428.611538  2.699962e+07    790.617820   \n",
       "10     16757.122891     33.765306   426.136054  3.433239e+07    816.111966   \n",
       "11     16895.696646     34.075949   435.265823  2.851852e+07    805.937071   \n",
       "12     18113.662047     35.994065   478.560831  3.106594e+07    934.952346   \n",
       "\n",
       "                             std                             \n",
       "       sum_duration  mb_used_sum message_count sum_duration  \n",
       "month                                                        \n",
       "1      23787.341355  6444.681014     16.197753   154.231454  \n",
       "2      36412.287961  6247.353833     21.750809   190.820041  \n",
       "3      36823.155161  5828.237537     26.804710   191.893604  \n",
       "4      34778.207127  5698.249092     24.538532   186.489161  \n",
       "5      34820.061094  5978.231725     27.036845   186.601343  \n",
       "6      30742.918861  5791.155586     28.404337   175.336587  \n",
       "7      32250.269602  5897.154446     28.282288   179.583601  \n",
       "8      34793.583379  5593.499133     28.952677   186.530382  \n",
       "9      33535.342723  5196.115749     28.117927   183.126576  \n",
       "10     35392.336375  5859.384492     28.567673   188.128510  \n",
       "11     31605.237050  5340.273416     28.389031   177.778618  \n",
       "12     39698.622033  5573.682673     30.576990   199.245131  "
      ]
     },
     "execution_count": 38,
     "metadata": {},
     "output_type": "execute_result"
    }
   ],
   "source": [
    "smart_param = smart.pivot_table(index='month', values=['sum_duration', 'message_count', 'mb_used_sum'], aggfunc=['mean', 'var','std'])\n",
    "smart_param"
   ]
  },
  {
   "cell_type": "code",
   "execution_count": 39,
   "metadata": {
    "scrolled": true
   },
   "outputs": [
    {
     "data": {
      "text/html": [
       "<div>\n",
       "<style scoped>\n",
       "    .dataframe tbody tr th:only-of-type {\n",
       "        vertical-align: middle;\n",
       "    }\n",
       "\n",
       "    .dataframe tbody tr th {\n",
       "        vertical-align: top;\n",
       "    }\n",
       "\n",
       "    .dataframe thead tr th {\n",
       "        text-align: left;\n",
       "    }\n",
       "\n",
       "    .dataframe thead tr:last-of-type th {\n",
       "        text-align: right;\n",
       "    }\n",
       "</style>\n",
       "<table border=\"1\" class=\"dataframe\">\n",
       "  <thead>\n",
       "    <tr>\n",
       "      <th></th>\n",
       "      <th colspan=\"3\" halign=\"left\">mean</th>\n",
       "      <th colspan=\"3\" halign=\"left\">var</th>\n",
       "      <th colspan=\"3\" halign=\"left\">std</th>\n",
       "    </tr>\n",
       "    <tr>\n",
       "      <th></th>\n",
       "      <th>mb_used_sum</th>\n",
       "      <th>message_count</th>\n",
       "      <th>sum_duration</th>\n",
       "      <th>mb_used_sum</th>\n",
       "      <th>message_count</th>\n",
       "      <th>sum_duration</th>\n",
       "      <th>mb_used_sum</th>\n",
       "      <th>message_count</th>\n",
       "      <th>sum_duration</th>\n",
       "    </tr>\n",
       "    <tr>\n",
       "      <th>month</th>\n",
       "      <th></th>\n",
       "      <th></th>\n",
       "      <th></th>\n",
       "      <th></th>\n",
       "      <th></th>\n",
       "      <th></th>\n",
       "      <th></th>\n",
       "      <th></th>\n",
       "      <th></th>\n",
       "    </tr>\n",
       "  </thead>\n",
       "  <tbody>\n",
       "    <tr>\n",
       "      <td>1</td>\n",
       "      <td>13140.681111</td>\n",
       "      <td>33.777778</td>\n",
       "      <td>428.111111</td>\n",
       "      <td>4.713299e+07</td>\n",
       "      <td>940.694444</td>\n",
       "      <td>72769.361111</td>\n",
       "      <td>6865.346875</td>\n",
       "      <td>30.670742</td>\n",
       "      <td>269.757968</td>\n",
       "    </tr>\n",
       "    <tr>\n",
       "      <td>2</td>\n",
       "      <td>11775.937500</td>\n",
       "      <td>21.958333</td>\n",
       "      <td>297.125000</td>\n",
       "      <td>1.133084e+08</td>\n",
       "      <td>716.824275</td>\n",
       "      <td>87919.679348</td>\n",
       "      <td>10644.643911</td>\n",
       "      <td>26.773574</td>\n",
       "      <td>296.512528</td>\n",
       "    </tr>\n",
       "    <tr>\n",
       "      <td>3</td>\n",
       "      <td>17535.550270</td>\n",
       "      <td>32.297297</td>\n",
       "      <td>489.648649</td>\n",
       "      <td>1.199416e+08</td>\n",
       "      <td>1732.381381</td>\n",
       "      <td>111384.900901</td>\n",
       "      <td>10951.785885</td>\n",
       "      <td>41.621886</td>\n",
       "      <td>333.743765</td>\n",
       "    </tr>\n",
       "    <tr>\n",
       "      <td>4</td>\n",
       "      <td>16828.134364</td>\n",
       "      <td>31.563636</td>\n",
       "      <td>458.018182</td>\n",
       "      <td>9.445215e+07</td>\n",
       "      <td>1407.287542</td>\n",
       "      <td>71653.870034</td>\n",
       "      <td>9718.649845</td>\n",
       "      <td>37.513831</td>\n",
       "      <td>267.682405</td>\n",
       "    </tr>\n",
       "    <tr>\n",
       "      <td>5</td>\n",
       "      <td>19363.152985</td>\n",
       "      <td>37.850746</td>\n",
       "      <td>510.328358</td>\n",
       "      <td>1.009243e+08</td>\n",
       "      <td>1624.644052</td>\n",
       "      <td>83870.193578</td>\n",
       "      <td>10046.110214</td>\n",
       "      <td>40.306874</td>\n",
       "      <td>289.603511</td>\n",
       "    </tr>\n",
       "    <tr>\n",
       "      <td>6</td>\n",
       "      <td>18924.939286</td>\n",
       "      <td>41.726190</td>\n",
       "      <td>479.702381</td>\n",
       "      <td>8.635757e+07</td>\n",
       "      <td>1986.297619</td>\n",
       "      <td>91535.946500</td>\n",
       "      <td>9292.877495</td>\n",
       "      <td>44.567899</td>\n",
       "      <td>302.549081</td>\n",
       "    </tr>\n",
       "    <tr>\n",
       "      <td>7</td>\n",
       "      <td>20495.665165</td>\n",
       "      <td>49.846154</td>\n",
       "      <td>545.791209</td>\n",
       "      <td>1.013082e+08</td>\n",
       "      <td>2372.042735</td>\n",
       "      <td>94322.278144</td>\n",
       "      <td>10065.197069</td>\n",
       "      <td>48.703621</td>\n",
       "      <td>307.119322</td>\n",
       "    </tr>\n",
       "    <tr>\n",
       "      <td>8</td>\n",
       "      <td>19576.054673</td>\n",
       "      <td>48.439252</td>\n",
       "      <td>510.775701</td>\n",
       "      <td>1.097582e+08</td>\n",
       "      <td>2171.739199</td>\n",
       "      <td>97956.496385</td>\n",
       "      <td>10476.556411</td>\n",
       "      <td>46.601923</td>\n",
       "      <td>312.980026</td>\n",
       "    </tr>\n",
       "    <tr>\n",
       "      <td>9</td>\n",
       "      <td>19204.277130</td>\n",
       "      <td>52.286957</td>\n",
       "      <td>539.443478</td>\n",
       "      <td>8.998587e+07</td>\n",
       "      <td>2152.855530</td>\n",
       "      <td>105716.775286</td>\n",
       "      <td>9486.088282</td>\n",
       "      <td>46.398874</td>\n",
       "      <td>325.141162</td>\n",
       "    </tr>\n",
       "    <tr>\n",
       "      <td>10</td>\n",
       "      <td>20045.337317</td>\n",
       "      <td>58.430894</td>\n",
       "      <td>558.081301</td>\n",
       "      <td>9.610100e+07</td>\n",
       "      <td>2697.181661</td>\n",
       "      <td>106464.583500</td>\n",
       "      <td>9803.111743</td>\n",
       "      <td>51.934398</td>\n",
       "      <td>326.289110</td>\n",
       "    </tr>\n",
       "    <tr>\n",
       "      <td>11</td>\n",
       "      <td>19786.812463</td>\n",
       "      <td>55.791045</td>\n",
       "      <td>541.380597</td>\n",
       "      <td>9.815894e+07</td>\n",
       "      <td>2476.948491</td>\n",
       "      <td>96570.057064</td>\n",
       "      <td>9907.519251</td>\n",
       "      <td>49.768951</td>\n",
       "      <td>310.757232</td>\n",
       "    </tr>\n",
       "    <tr>\n",
       "      <td>12</td>\n",
       "      <td>21793.172590</td>\n",
       "      <td>60.611511</td>\n",
       "      <td>592.805755</td>\n",
       "      <td>1.077109e+08</td>\n",
       "      <td>2681.978417</td>\n",
       "      <td>117276.331561</td>\n",
       "      <td>10378.386547</td>\n",
       "      <td>51.787821</td>\n",
       "      <td>342.456321</td>\n",
       "    </tr>\n",
       "  </tbody>\n",
       "</table>\n",
       "</div>"
      ],
      "text/plain": [
       "               mean                                      var                \\\n",
       "        mb_used_sum message_count sum_duration   mb_used_sum message_count   \n",
       "month                                                                        \n",
       "1      13140.681111     33.777778   428.111111  4.713299e+07    940.694444   \n",
       "2      11775.937500     21.958333   297.125000  1.133084e+08    716.824275   \n",
       "3      17535.550270     32.297297   489.648649  1.199416e+08   1732.381381   \n",
       "4      16828.134364     31.563636   458.018182  9.445215e+07   1407.287542   \n",
       "5      19363.152985     37.850746   510.328358  1.009243e+08   1624.644052   \n",
       "6      18924.939286     41.726190   479.702381  8.635757e+07   1986.297619   \n",
       "7      20495.665165     49.846154   545.791209  1.013082e+08   2372.042735   \n",
       "8      19576.054673     48.439252   510.775701  1.097582e+08   2171.739199   \n",
       "9      19204.277130     52.286957   539.443478  8.998587e+07   2152.855530   \n",
       "10     20045.337317     58.430894   558.081301  9.610100e+07   2697.181661   \n",
       "11     19786.812463     55.791045   541.380597  9.815894e+07   2476.948491   \n",
       "12     21793.172590     60.611511   592.805755  1.077109e+08   2681.978417   \n",
       "\n",
       "                               std                             \n",
       "        sum_duration   mb_used_sum message_count sum_duration  \n",
       "month                                                          \n",
       "1       72769.361111   6865.346875     30.670742   269.757968  \n",
       "2       87919.679348  10644.643911     26.773574   296.512528  \n",
       "3      111384.900901  10951.785885     41.621886   333.743765  \n",
       "4       71653.870034   9718.649845     37.513831   267.682405  \n",
       "5       83870.193578  10046.110214     40.306874   289.603511  \n",
       "6       91535.946500   9292.877495     44.567899   302.549081  \n",
       "7       94322.278144  10065.197069     48.703621   307.119322  \n",
       "8       97956.496385  10476.556411     46.601923   312.980026  \n",
       "9      105716.775286   9486.088282     46.398874   325.141162  \n",
       "10     106464.583500   9803.111743     51.934398   326.289110  \n",
       "11      96570.057064   9907.519251     49.768951   310.757232  \n",
       "12     117276.331561  10378.386547     51.787821   342.456321  "
      ]
     },
     "execution_count": 39,
     "metadata": {},
     "output_type": "execute_result"
    }
   ],
   "source": [
    "ultra_param = ultra.pivot_table(index='month', values=['sum_duration', 'message_count', 'mb_used_sum'], aggfunc=['mean', 'var','std'])\n",
    "ultra_param"
   ]
  },
  {
   "cell_type": "markdown",
   "metadata": {},
   "source": [
    "Из средних значений мы видим, что абоненты тарифа ultra активней расходуют тарифный пакет, но с тем же и меньше переплачивают за расход сверх лимита. Несмотря на переплаты, пользователи тарифа smart платят существенно меньше. Минуты разговора, число сообщений и объем потраченного интернет-трафика по тарифу ultra имеет большую дисперсию и стандартное отклонение по сравнению с тарифом smart."
   ]
  },
  {
   "cell_type": "markdown",
   "metadata": {},
   "source": [
    "Для визуализации возьмём данные о расходе услуг мобильной связи и средний расход по месяцам пользователей двух тарифов, а так же прибыль для компании и итоговую стоимость за обслуживание."
   ]
  },
  {
   "cell_type": "code",
   "execution_count": 40,
   "metadata": {
    "scrolled": true
   },
   "outputs": [
    {
     "data": {
      "image/png": "[encoded data removed]",
      "text/plain": [
       "<Figure size 432x288 with 1 Axes>"
      ]
     },
     "metadata": {
      "needs_background": "light"
     },
     "output_type": "display_data"
    }
   ],
   "source": [
    "plt.title('Сравнение расхода минут в разных тарифах')\n",
    "plt.hist(smart['sum_duration'], bins=40, label='Смарт', density=True)\n",
    "plt.hist(ultra['sum_duration'], bins=40, label='Ультра', alpha=0.4, density=True)\n",
    "plt.legend(loc='upper right')\n",
    "plt.axvline(x=500, color='r'); # лимит в 500 минут для пользователей тарифа смарт"
   ]
  },
  {
   "cell_type": "code",
   "execution_count": 41,
   "metadata": {
    "scrolled": false
   },
   "outputs": [
    {
     "data": {
      "image/png": "[encoded data removed]",
      "text/plain": [
       "<Figure size 720x288 with 1 Axes>"
      ]
     },
     "metadata": {
      "needs_background": "light"
     },
     "output_type": "display_data"
    }
   ],
   "source": [
    "w = smart.groupby('month')['sum_duration'].mean().reset_index()\n",
    "q = ultra.groupby('month')['sum_duration'].mean().reset_index()\n",
    "plt.figure(figsize=(10,4))\n",
    "plt.bar(w.index, w['sum_duration'], color='b', label='smart')\n",
    "plt.bar(q.index, q['sum_duration'], alpha=0.4, color='r', label='ultra')\n",
    "plt.title('Сравнение среднего расхода минут в разных тарифах по месяцам')\n",
    "plt.legend(loc='upper right')\n",
    "plt.xlabel('месяц')\n",
    "plt.ylabel('расход')\n",
    "plt.axhline(y=500); # лимит в 500 минут для пользователей тарифа смарт"
   ]
  },
  {
   "cell_type": "code",
   "execution_count": 42,
   "metadata": {
    "scrolled": true
   },
   "outputs": [
    {
     "data": {
      "image/png": "[encoded data removed]",
      "text/plain": [
       "<Figure size 432x288 with 1 Axes>"
      ]
     },
     "metadata": {
      "needs_background": "light"
     },
     "output_type": "display_data"
    }
   ],
   "source": [
    "plt.title('Сравнение количества отправленных сообщений в разных тарифах')\n",
    "plt.hist(smart['message_count'], bins=40, label='smart', density=True)\n",
    "plt.hist(ultra['message_count'], bins=40, label='ultra', alpha=0.4, density=True)\n",
    "plt.legend(loc='upper right')\n",
    "plt.axvline(x=50, color='r');"
   ]
  },
  {
   "cell_type": "code",
   "execution_count": 43,
   "metadata": {},
   "outputs": [
    {
     "data": {
      "image/png": "[encoded data removed]",
      "text/plain": [
       "<Figure size 720x288 with 1 Axes>"
      ]
     },
     "metadata": {
      "needs_background": "light"
     },
     "output_type": "display_data"
    }
   ],
   "source": [
    "w = smart.groupby('month')['message_count'].mean().reset_index()\n",
    "q = ultra.groupby('month')['message_count'].mean().reset_index()\n",
    "plt.figure(figsize=(10,4))\n",
    "plt.bar(w.index, w['message_count'], color='b', label='smart')\n",
    "plt.bar(q.index, q['message_count'], alpha=0.4, color='r', label='ultra')\n",
    "plt.title('Сравнение среднего расхода смс в разных тарифах по месяцам')\n",
    "plt.legend(loc='upper right')\n",
    "plt.xlabel('месяц')\n",
    "plt.ylabel('расход')\n",
    "plt.axhline(y=50); # лимит в 50 сообщений для пользователей тарифа смарт"
   ]
  },
  {
   "cell_type": "code",
   "execution_count": 44,
   "metadata": {},
   "outputs": [
    {
     "data": {
      "image/png": "[encoded data removed]",
      "text/plain": [
       "<Figure size 432x288 with 1 Axes>"
      ]
     },
     "metadata": {
      "needs_background": "light"
     },
     "output_type": "display_data"
    }
   ],
   "source": [
    "plt.title('Сравнение расхода Mb в разных тарифах')\n",
    "plt.hist(smart['mb_used_sum'], bins=40, label='Смарт', density=True)\n",
    "plt.hist(ultra['mb_used_sum'], bins=40, label='Ультра', alpha=0.4, density=True)\n",
    "plt.legend(loc='upper right')\n",
    "plt.axvline(x=15360, color='r') # лимит в 15 Гб для пользователей тарифа смарт\n",
    "plt.axvline(x=30720, color='g'); # лимит в 30 Гб для пользователей тарифа ультра"
   ]
  },
  {
   "cell_type": "code",
   "execution_count": 45,
   "metadata": {
    "scrolled": false
   },
   "outputs": [
    {
     "data": {
      "image/png": "[encoded data removed]",
      "text/plain": [
       "<Figure size 720x288 with 1 Axes>"
      ]
     },
     "metadata": {
      "needs_background": "light"
     },
     "output_type": "display_data"
    }
   ],
   "source": [
    "w = smart.groupby('month')['mb_used_sum'].mean().reset_index()\n",
    "q = ultra.groupby('month')['mb_used_sum'].mean().reset_index()\n",
    "plt.figure(figsize=(10,4))\n",
    "plt.bar(w.index, w['mb_used_sum'], color='b', label='smart')\n",
    "plt.bar(q.index, q['mb_used_sum'], alpha=0.4, color='r', label='ultra')\n",
    "plt.title('Сравнение среднего расхода Mb в разных тарифах по месяцам')\n",
    "plt.legend(loc='upper right')\n",
    "plt.xlabel('месяц')\n",
    "plt.ylabel('расход')\n",
    "plt.axhline(y=15360); # лимит в 15 Гб для пользователей тарифа смарт"
   ]
  },
  {
   "cell_type": "code",
   "execution_count": 46,
   "metadata": {
    "scrolled": true
   },
   "outputs": [
    {
     "data": {
      "image/png": "[encoded data removed]",
      "text/plain": [
       "<Figure size 432x288 with 1 Axes>"
      ]
     },
     "metadata": {
      "needs_background": "light"
     },
     "output_type": "display_data"
    }
   ],
   "source": [
    "plt.title('Сравнение переплаты в разных тарифах')\n",
    "plt.hist(smart['overpayment'], bins=40, label='Смарт', density=True)\n",
    "plt.hist(ultra['overpayment'], bins=40, label='Ультра', alpha=0.4, density=True)\n",
    "plt.legend(loc='upper right')\n",
    "plt.show()"
   ]
  },
  {
   "cell_type": "code",
   "execution_count": 47,
   "metadata": {
    "scrolled": true
   },
   "outputs": [
    {
     "data": {
      "text/plain": [
       "6220"
      ]
     },
     "execution_count": 47,
     "metadata": {},
     "output_type": "execute_result"
    }
   ],
   "source": [
    "smart['overpayment'].max()"
   ]
  },
  {
   "cell_type": "code",
   "execution_count": 48,
   "metadata": {},
   "outputs": [
    {
     "data": {
      "image/png": "[encoded data removed]",
      "text/plain": [
       "<Figure size 720x288 with 1 Axes>"
      ]
     },
     "metadata": {
      "needs_background": "light"
     },
     "output_type": "display_data"
    }
   ],
   "source": [
    "w = smart.groupby('month')['overpayment'].mean().reset_index()\n",
    "q = ultra.groupby('month')['overpayment'].mean().reset_index()\n",
    "plt.figure(figsize=(10,4))\n",
    "plt.bar(w.index, w['overpayment'], color='b', label='smart')\n",
    "plt.bar(q.index, q['overpayment'], alpha=0.4, color='r', label='ultra')\n",
    "plt.title('Сравнение средней переплаты в разных тарифах по месяцам')\n",
    "plt.legend(loc='upper right')\n",
    "plt.xlabel('месяц')\n",
    "plt.ylabel('переплата');"
   ]
  },
  {
   "cell_type": "code",
   "execution_count": 49,
   "metadata": {},
   "outputs": [
    {
     "data": {
      "image/png": "[encoded data removed]",
      "text/plain": [
       "<Figure size 432x288 with 1 Axes>"
      ]
     },
     "metadata": {
      "needs_background": "light"
     },
     "output_type": "display_data"
    }
   ],
   "source": [
    "plt.title('Сравнение итоговой суммы в разных тарифах')\n",
    "plt.hist(smart['total_price'], bins=40, label='Смарт', density=True)\n",
    "plt.hist(ultra['total_price'], bins=40, label='Ультра', alpha=0.4, density=True)\n",
    "plt.legend(loc='upper right')\n",
    "plt.show()"
   ]
  },
  {
   "cell_type": "code",
   "execution_count": 50,
   "metadata": {
    "scrolled": true
   },
   "outputs": [
    {
     "data": {
      "image/png": "[encoded data removed]",
      "text/plain": [
       "<Figure size 720x288 with 1 Axes>"
      ]
     },
     "metadata": {
      "needs_background": "light"
     },
     "output_type": "display_data"
    }
   ],
   "source": [
    "w = smart.groupby('month')['total_price'].mean().reset_index()\n",
    "q = ultra.groupby('month')['total_price'].mean().reset_index()\n",
    "plt.figure(figsize=(10,4))\n",
    "plt.bar(w.index, w['total_price'], color='b', label='smart')\n",
    "plt.bar(q.index, q['total_price'], alpha=0.4, color='r', label='ultra')\n",
    "plt.title('Сравнение итоговой суммы в разных тарифах по месяцам')\n",
    "plt.legend(loc='upper right')\n",
    "plt.xlabel('месяц')\n",
    "plt.ylabel('расход')\n",
    "plt.axhline(y=550)\n",
    "plt.axhline(y=1950);"
   ]
  },
  {
   "cell_type": "code",
   "execution_count": 51,
   "metadata": {},
   "outputs": [
    {
     "name": "stdout",
     "output_type": "stream",
     "text": [
      "1289.9735307312696 2070.1522842639592\n"
     ]
    }
   ],
   "source": [
    "print(smart['total_price'].mean(), ultra['total_price'].mean())"
   ]
  },
  {
   "cell_type": "markdown",
   "metadata": {},
   "source": [
    "### Вывод\n",
    "Как мы видим из гистограмм по расходам и среднему по месяцам поведение пользователей тарифа ultra более активно используют объёмы тарифного плана, не расходуя при этом весь базовый пакет (кроме интернет-трафика), о чём говорит большая дисперсия и стандартное отклонение, тогда как пользователям тарифа smart часто приходится доплачивать за перерасход."
   ]
  },
  {
   "cell_type": "markdown",
   "metadata": {},
   "source": [
    "## Проверка гипотез"
   ]
  },
  {
   "cell_type": "markdown",
   "metadata": {},
   "source": [
    "### Cредняя выручка пользователей тарифов «Ультра» и «Смарт» различаются"
   ]
  },
  {
   "cell_type": "markdown",
   "metadata": {},
   "source": [
    "Так как нулевая гипотеза всегда формулируется так, чтобы использовать знак равенства, а альтернативная гипотеза  является отрицанием нулевой, мы получим:  \n",
    "\n",
    "\n",
    "***H$_0$***  — средняя выручка пользователей тарифа «Ультра» равна средней выручке пользователей тарифа «Смарт».  \n",
    "***H$_1$*** — средняя выручка пользователей тарифов «Ультра» и «Смарт» различаются.  \n",
    "\n",
    "Считать равными дисперсии не будем, укажем это в параметре equal_var.  \n",
    "\n",
    "Среднюю выручку мы уже отобразили на графиках, результат предсказуем, укажем критический уровень статистической значимости 5%.  \n",
    "$\\alpha$ = 0.05\n"
   ]
  },
  {
   "cell_type": "code",
   "execution_count": 52,
   "metadata": {},
   "outputs": [
    {
     "name": "stdout",
     "output_type": "stream",
     "text": [
      "p-значение: 4.2606313931076085e-250\n",
      "Отвергаем нулевую гипотезу\n"
     ]
    }
   ],
   "source": [
    "alpha = 0.05\n",
    "results = st.ttest_ind(\n",
    "    ultra['total_price'], \n",
    "    smart['total_price'], \n",
    "    equal_var=False)\n",
    "\n",
    "print('p-значение:', results.pvalue)\n",
    "\n",
    "if (results.pvalue < alpha):\n",
    "    print(\"Отвергаем нулевую гипотезу\")\n",
    "else:\n",
    "    print(\"Не получилось отвергнуть нулевую гипотезу\")"
   ]
  },
  {
   "cell_type": "markdown",
   "metadata": {},
   "source": [
    "У нас есть полное основание отвергнуть нулевую гипотезу, т.к. средняя выручка пользователей тарифов «Ультра» и «Смарт» различаются."
   ]
  },
  {
   "cell_type": "markdown",
   "metadata": {},
   "source": [
    "### Средняя выручка пользователи из Москвы отличается от выручки пользователей из других регионов"
   ]
  },
  {
   "cell_type": "markdown",
   "metadata": {},
   "source": [
    "***H$_0$***  — средняя выручка пользователей из Москвы равна средней выручке пользователей из других регионов.  \n",
    "***H$_1$*** — средняя выручка пользователей из Москвы и средняя выручка пользователей из других регионов различаются.  \n",
    "\n",
    "Укажем параментр equal_var, который задаст, что мы можем считать равными дисперсии генеральных совокупностей, т.к. выборки взяты из схожих по параметрам совокупностей.  \n",
    "\n",
    "Укажем критический уровень статистической значимости 5%.  \n",
    "$\\alpha$ = 0.05"
   ]
  },
  {
   "cell_type": "code",
   "execution_count": 53,
   "metadata": {},
   "outputs": [
    {
     "name": "stdout",
     "output_type": "stream",
     "text": [
      "p-значение: 0.5440152911670224\n",
      "Не получилось отвергнуть нулевую гипотезу\n"
     ]
    }
   ],
   "source": [
    "moscow = df.query('city == \"Москва\"')['total_price']\n",
    "other_regions = df.query('city != \"Москва\"')['total_price']\n",
    "\n",
    "alpha = 0.05\n",
    "\n",
    "results = st.ttest_ind(\n",
    "    moscow, \n",
    "    other_regions, \n",
    "    equal_var=True)\n",
    "\n",
    "print('p-значение:', results.pvalue)\n",
    "\n",
    "if (results.pvalue < alpha):\n",
    "    print(\"Отвергаем нулевую гипотезу\")\n",
    "else:\n",
    "    print(\"Не получилось отвергнуть нулевую гипотезу\")"
   ]
  },
  {
   "cell_type": "code",
   "execution_count": 54,
   "metadata": {},
   "outputs": [
    {
     "name": "stdout",
     "output_type": "stream",
     "text": [
      "1546.7135842880523 1524.9362274298885\n"
     ]
    }
   ],
   "source": [
    "print(moscow.mean(), other_regions.mean())"
   ]
  },
  {
   "cell_type": "markdown",
   "metadata": {},
   "source": [
    "Данный статистический тест не дал возможности опровергунть исходную гипотезу о том, что доходы от пользователей из Москвы и из других регионов равны. Действительно, средняя выручка в Москове мало отличается от других регионов."
   ]
  },
  {
   "cell_type": "markdown",
   "metadata": {},
   "source": [
    "## Общий вывод"
   ]
  },
  {
   "cell_type": "markdown",
   "metadata": {},
   "source": [
    "Нам предоставлена выборка с данными о 500 пользователях оператора \"Мегалайн\".\n",
    "Изучив датафреймы мы не обнаружили глобальных проблем, дубликатов и ошибок в данных, поэтому на этапе предобработки были изменены только типы в столбцах с датами на datetime64, округлены минуты и Мб в большую сторону.  \n",
    "\n",
    "Был создана новая таблица, объединяющая в себе все данные (кроме имени и фамилии - эти данные успешно заменяет столбец с идентификаторами пользователей), так же добавлены колонки с месяцами и рассчётами для анализа: calls_count\t- количество звонков, sum_duration - продолжительность звонков,\tmessage_count - количество сообщений,\tmb_used_sum\t- израсходованный интернет-трафик, overpayment - переплата сверх ежемесячной платы и total_price - помесячная выручка с каждого пользователя с учётом переплаты.  \n",
    "\n",
    "В ходе анализа было выявлено:\n",
    "1. Большая часть пользователей тарифа Smart тратит на звонки 200 - 600 минут при лимите в 500, тогда как подавляющее большинство абонентов Ultra - 300-900 без явного желания израсходовать пологающиеся им 3000 минут. В среднем по месяцам видим пик звонков в декабре, что неудивительно. Мало звонят в январе (Smart) и в феврале (Ultra).\n",
    "2. Пользователи Ultra более спокойно относятся к лимиту сообщений но количество не превышает 224 сообщений в месяц, некоторым абонентм Smart явно мало 50 сообщений, количество доходит до 150. Пик снова приходится на декабрь для обоих тарифов, мало сообщений отправляют в январе (Smart) и в феврале (Ultra).\n",
    "3. С интернет-трафиком ситуация интересней. Подавляющее большинство абонентов Smart расходуют в месяц трафика от 10 до 23 ГБ, нехватка лимита в 15 Гб сказывается на существенных переплатах. Пользователям Ultra лимита хватает, за исключением малой доли клиентов, которые расходуют интернет сверх трафика. По месячному графику видим постепенный рост среднего потребления трафика с пиком в декабре и наименьшим расходом в январе для обоих тарифов.\n",
    "4. Чаще переплачивают абоненты Smart (доходит до 6220 и это без учёта ежемесячной оплаты), но даже с учётом переплат этот тариф для клиентов выгодней (в среднем оплата 1295руб. в сравнении с 2050руб. для тарифа Ultra)  \n",
    "\n",
    "Так же исследовав и проанализировав предоставленные данные мы смогли проверить гипотезы:\n",
    "* средняя выручка пользователей тарифов «Ультра» и «Смарт» различается: гипотеза подтвердилась.\n",
    "* средняя выручка пользователей из Москвы отличается от выручки пользователей из других регионов: гипотеза не подтвердилась.  \n",
    "\n",
    "Мы, как аналитики компании «Мегалайн» — федерального оператора сотовой связи, на основе проделанной нами работы можем утверждать, что тариф \"Ультра\" приносит больше денег, следовательно, он лучше."
   ]
  }
 ],
 "metadata": {
  "ExecuteTimeLog": [
   {
    "duration": 618,
    "start_time": "2021-12-09T14:54:53.701Z"
   },
   {
    "duration": 438,
    "start_time": "2021-12-09T14:54:55.587Z"
   },
   {
    "duration": 19,
    "start_time": "2021-12-09T14:55:06.033Z"
   },
   {
    "duration": 13,
    "start_time": "2021-12-09T14:55:30.743Z"
   },
   {
    "duration": 351,
    "start_time": "2021-12-09T15:05:08.989Z"
   },
   {
    "duration": 265,
    "start_time": "2021-12-09T15:06:33.400Z"
   },
   {
    "duration": 6,
    "start_time": "2021-12-09T15:07:12.558Z"
   },
   {
    "duration": 5,
    "start_time": "2021-12-09T15:07:17.131Z"
   },
   {
    "duration": 7,
    "start_time": "2021-12-09T15:07:35.588Z"
   },
   {
    "duration": 670,
    "start_time": "2021-12-09T15:08:00.842Z"
   },
   {
    "duration": 461,
    "start_time": "2021-12-09T15:08:01.515Z"
   },
   {
    "duration": 17,
    "start_time": "2021-12-09T15:08:01.979Z"
   },
   {
    "duration": 29,
    "start_time": "2021-12-09T15:08:01.999Z"
   },
   {
    "duration": 39,
    "start_time": "2021-12-09T15:08:14.215Z"
   },
   {
    "duration": 322,
    "start_time": "2021-12-09T15:08:50.850Z"
   },
   {
    "duration": 265,
    "start_time": "2021-12-09T15:10:40.137Z"
   },
   {
    "duration": 253,
    "start_time": "2021-12-09T15:13:32.081Z"
   },
   {
    "duration": 234,
    "start_time": "2021-12-09T15:14:46.029Z"
   },
   {
    "duration": 331,
    "start_time": "2021-12-09T15:14:50.984Z"
   },
   {
    "duration": 420,
    "start_time": "2021-12-09T15:15:55.460Z"
   },
   {
    "duration": 291,
    "start_time": "2021-12-09T15:16:23.801Z"
   },
   {
    "duration": 270,
    "start_time": "2021-12-09T15:17:08.362Z"
   },
   {
    "duration": 736,
    "start_time": "2021-12-09T15:17:21.229Z"
   },
   {
    "duration": 242,
    "start_time": "2021-12-09T15:29:26.928Z"
   },
   {
    "duration": 249,
    "start_time": "2021-12-09T15:29:33.199Z"
   },
   {
    "duration": 648,
    "start_time": "2021-12-09T15:30:41.778Z"
   },
   {
    "duration": 582,
    "start_time": "2021-12-09T15:30:42.428Z"
   },
   {
    "duration": 18,
    "start_time": "2021-12-09T15:30:43.012Z"
   },
   {
    "duration": 74,
    "start_time": "2021-12-09T15:30:43.032Z"
   },
   {
    "duration": 688,
    "start_time": "2021-12-09T15:36:07.475Z"
   },
   {
    "duration": 516,
    "start_time": "2021-12-09T15:36:08.166Z"
   },
   {
    "duration": 21,
    "start_time": "2021-12-09T15:36:08.684Z"
   },
   {
    "duration": 290,
    "start_time": "2021-12-09T15:37:32.528Z"
   },
   {
    "duration": 664,
    "start_time": "2021-12-09T15:37:58.343Z"
   },
   {
    "duration": 480,
    "start_time": "2021-12-09T15:37:59.009Z"
   },
   {
    "duration": 21,
    "start_time": "2021-12-09T15:37:59.492Z"
   },
   {
    "duration": 405,
    "start_time": "2021-12-09T15:38:34.152Z"
   },
   {
    "duration": 678,
    "start_time": "2021-12-09T15:38:39.429Z"
   },
   {
    "duration": 454,
    "start_time": "2021-12-09T15:38:40.109Z"
   },
   {
    "duration": 80,
    "start_time": "2021-12-09T15:38:40.565Z"
   },
   {
    "duration": 65,
    "start_time": "2021-12-09T15:38:48.444Z"
   },
   {
    "duration": 294,
    "start_time": "2021-12-09T15:41:14.630Z"
   },
   {
    "duration": 257,
    "start_time": "2021-12-09T15:41:56.643Z"
   },
   {
    "duration": 603,
    "start_time": "2021-12-09T15:42:00.008Z"
   },
   {
    "duration": 453,
    "start_time": "2021-12-09T15:42:00.613Z"
   },
   {
    "duration": 317,
    "start_time": "2021-12-09T15:42:01.415Z"
   },
   {
    "duration": 405,
    "start_time": "2021-12-09T15:42:27.569Z"
   },
   {
    "duration": 3,
    "start_time": "2021-12-09T15:43:56.885Z"
   },
   {
    "duration": 466,
    "start_time": "2021-12-09T15:43:57.392Z"
   },
   {
    "duration": 432,
    "start_time": "2021-12-09T15:43:57.941Z"
   },
   {
    "duration": 295,
    "start_time": "2021-12-09T15:44:47.842Z"
   },
   {
    "duration": 629,
    "start_time": "2021-12-09T15:45:29.009Z"
   },
   {
    "duration": 461,
    "start_time": "2021-12-09T15:45:29.640Z"
   },
   {
    "duration": 472,
    "start_time": "2021-12-09T15:45:30.104Z"
   },
   {
    "duration": 308,
    "start_time": "2021-12-09T15:49:13.380Z"
   },
   {
    "duration": 3,
    "start_time": "2021-12-09T15:49:22.353Z"
   },
   {
    "duration": 458,
    "start_time": "2021-12-09T15:49:23.144Z"
   },
   {
    "duration": 269,
    "start_time": "2021-12-09T15:49:23.614Z"
   },
   {
    "duration": 460,
    "start_time": "2021-12-09T15:49:29.995Z"
   },
   {
    "duration": 430,
    "start_time": "2021-12-09T15:50:19.156Z"
   },
   {
    "duration": 422,
    "start_time": "2021-12-09T15:52:50.137Z"
   },
   {
    "duration": 553,
    "start_time": "2021-12-09T15:55:29.380Z"
   },
   {
    "duration": 1010,
    "start_time": "2021-12-09T15:56:03.492Z"
   },
   {
    "duration": 568,
    "start_time": "2021-12-09T15:56:04.504Z"
   },
   {
    "duration": 705,
    "start_time": "2021-12-09T15:56:05.075Z"
   },
   {
    "duration": 333,
    "start_time": "2021-12-10T11:22:44.004Z"
   },
   {
    "duration": 718,
    "start_time": "2021-12-10T11:22:47.741Z"
   },
   {
    "duration": 466,
    "start_time": "2021-12-10T11:22:48.492Z"
   },
   {
    "duration": 429,
    "start_time": "2021-12-10T11:22:49.247Z"
   },
   {
    "duration": 900,
    "start_time": "2021-12-10T11:23:20.201Z"
   },
   {
    "duration": 562,
    "start_time": "2021-12-10T11:23:21.103Z"
   },
   {
    "duration": 485,
    "start_time": "2021-12-10T11:23:21.668Z"
   },
   {
    "duration": 727,
    "start_time": "2021-12-10T11:25:06.102Z"
   },
   {
    "duration": 481,
    "start_time": "2021-12-10T11:25:06.832Z"
   },
   {
    "duration": 447,
    "start_time": "2021-12-10T11:25:07.316Z"
   },
   {
    "duration": 472,
    "start_time": "2021-12-10T11:31:34.601Z"
   },
   {
    "duration": 440,
    "start_time": "2021-12-10T11:32:49.051Z"
   },
   {
    "duration": 34,
    "start_time": "2021-12-10T11:37:07.884Z"
   },
   {
    "duration": 686,
    "start_time": "2021-12-10T11:37:28.443Z"
   },
   {
    "duration": 490,
    "start_time": "2021-12-10T11:37:29.132Z"
   },
   {
    "duration": 364,
    "start_time": "2021-12-10T11:37:29.625Z"
   },
   {
    "duration": 3,
    "start_time": "2021-12-10T11:37:37.280Z"
   },
   {
    "duration": 739,
    "start_time": "2021-12-10T11:39:22.640Z"
   },
   {
    "duration": 498,
    "start_time": "2021-12-10T11:39:23.382Z"
   },
   {
    "duration": 420,
    "start_time": "2021-12-10T11:39:26.001Z"
   },
   {
    "duration": 359,
    "start_time": "2021-12-10T11:39:36.734Z"
   },
   {
    "duration": 492,
    "start_time": "2021-12-10T11:39:55.689Z"
   },
   {
    "duration": 480,
    "start_time": "2021-12-10T11:40:04.843Z"
   },
   {
    "duration": 43,
    "start_time": "2021-12-10T11:40:05.989Z"
   },
   {
    "duration": 417,
    "start_time": "2021-12-10T11:40:16.948Z"
   },
   {
    "duration": 33,
    "start_time": "2021-12-10T11:40:18.357Z"
   },
   {
    "duration": 746,
    "start_time": "2021-12-10T11:43:50.805Z"
   },
   {
    "duration": 7567,
    "start_time": "2021-12-10T11:44:14.513Z"
   },
   {
    "duration": 26,
    "start_time": "2021-12-10T11:44:37.501Z"
   },
   {
    "duration": 30,
    "start_time": "2021-12-10T11:45:48.123Z"
   },
   {
    "duration": 31,
    "start_time": "2021-12-10T11:46:38.178Z"
   },
   {
    "duration": 39,
    "start_time": "2021-12-10T11:46:45.542Z"
   },
   {
    "duration": 37,
    "start_time": "2021-12-10T11:47:09.558Z"
   },
   {
    "duration": 80,
    "start_time": "2021-12-10T11:49:06.547Z"
   },
   {
    "duration": 808,
    "start_time": "2021-12-10T11:49:30.389Z"
   },
   {
    "duration": 549,
    "start_time": "2021-12-10T11:49:31.199Z"
   },
   {
    "duration": 462,
    "start_time": "2021-12-10T11:49:31.751Z"
   },
   {
    "duration": 96,
    "start_time": "2021-12-10T11:49:32.216Z"
   },
   {
    "duration": 41,
    "start_time": "2021-12-10T11:49:32.323Z"
   },
   {
    "duration": 24,
    "start_time": "2021-12-10T11:49:32.366Z"
   },
   {
    "duration": 45,
    "start_time": "2021-12-10T11:49:32.392Z"
   },
   {
    "duration": 22,
    "start_time": "2021-12-10T11:49:32.440Z"
   },
   {
    "duration": 68,
    "start_time": "2021-12-10T11:49:32.465Z"
   },
   {
    "duration": 41,
    "start_time": "2021-12-10T11:50:05.029Z"
   },
   {
    "duration": 12,
    "start_time": "2021-12-10T12:19:00.185Z"
   },
   {
    "duration": 19,
    "start_time": "2021-12-10T12:19:09.417Z"
   },
   {
    "duration": 15,
    "start_time": "2021-12-10T12:19:22.693Z"
   },
   {
    "duration": 17,
    "start_time": "2021-12-10T12:19:34.310Z"
   },
   {
    "duration": 13,
    "start_time": "2021-12-10T12:19:42.598Z"
   },
   {
    "duration": 11,
    "start_time": "2021-12-10T12:19:50.297Z"
   },
   {
    "duration": 21,
    "start_time": "2021-12-10T13:14:31.895Z"
   },
   {
    "duration": 7,
    "start_time": "2021-12-10T13:14:33.222Z"
   },
   {
    "duration": 7,
    "start_time": "2021-12-10T13:14:33.638Z"
   },
   {
    "duration": 40,
    "start_time": "2021-12-10T13:14:34.341Z"
   },
   {
    "duration": 27,
    "start_time": "2021-12-10T13:14:46.692Z"
   },
   {
    "duration": 28,
    "start_time": "2021-12-10T13:15:00.886Z"
   },
   {
    "duration": 40,
    "start_time": "2021-12-10T13:15:07.336Z"
   },
   {
    "duration": 9,
    "start_time": "2021-12-10T13:15:18.021Z"
   },
   {
    "duration": 8,
    "start_time": "2021-12-10T13:15:18.475Z"
   },
   {
    "duration": 7,
    "start_time": "2021-12-10T13:15:18.852Z"
   },
   {
    "duration": 38,
    "start_time": "2021-12-10T13:15:19.404Z"
   },
   {
    "duration": 788,
    "start_time": "2021-12-10T13:15:31.384Z"
   },
   {
    "duration": 546,
    "start_time": "2021-12-10T13:15:32.176Z"
   },
   {
    "duration": 33,
    "start_time": "2021-12-10T13:15:32.725Z"
   },
   {
    "duration": 15,
    "start_time": "2021-12-10T13:15:32.761Z"
   },
   {
    "duration": 50,
    "start_time": "2021-12-10T13:15:32.779Z"
   },
   {
    "duration": 32,
    "start_time": "2021-12-10T13:15:32.832Z"
   },
   {
    "duration": 27,
    "start_time": "2021-12-10T13:15:32.867Z"
   },
   {
    "duration": 498,
    "start_time": "2021-12-10T13:15:32.897Z"
   },
   {
    "duration": 103,
    "start_time": "2021-12-10T13:15:33.398Z"
   },
   {
    "duration": 47,
    "start_time": "2021-12-10T13:15:33.503Z"
   },
   {
    "duration": 45,
    "start_time": "2021-12-10T13:15:33.552Z"
   },
   {
    "duration": 39,
    "start_time": "2021-12-10T13:15:33.600Z"
   },
   {
    "duration": 34,
    "start_time": "2021-12-10T13:15:33.642Z"
   },
   {
    "duration": 64,
    "start_time": "2021-12-10T13:15:33.679Z"
   },
   {
    "duration": 49,
    "start_time": "2021-12-10T13:15:33.745Z"
   },
   {
    "duration": 18,
    "start_time": "2021-12-10T13:16:36.525Z"
   },
   {
    "duration": 7,
    "start_time": "2021-12-10T13:16:36.980Z"
   },
   {
    "duration": 8,
    "start_time": "2021-12-10T13:16:37.312Z"
   },
   {
    "duration": 39,
    "start_time": "2021-12-10T13:16:37.704Z"
   },
   {
    "duration": 692,
    "start_time": "2021-12-10T13:16:53.056Z"
   },
   {
    "duration": 510,
    "start_time": "2021-12-10T13:16:53.750Z"
   },
   {
    "duration": 27,
    "start_time": "2021-12-10T13:16:54.263Z"
   },
   {
    "duration": 14,
    "start_time": "2021-12-10T13:16:54.292Z"
   },
   {
    "duration": 20,
    "start_time": "2021-12-10T13:16:54.309Z"
   },
   {
    "duration": 12,
    "start_time": "2021-12-10T13:16:54.332Z"
   },
   {
    "duration": 13,
    "start_time": "2021-12-10T13:16:54.346Z"
   },
   {
    "duration": 469,
    "start_time": "2021-12-10T13:16:54.363Z"
   },
   {
    "duration": 93,
    "start_time": "2021-12-10T13:16:54.834Z"
   },
   {
    "duration": 41,
    "start_time": "2021-12-10T13:16:54.930Z"
   },
   {
    "duration": 50,
    "start_time": "2021-12-10T13:16:54.974Z"
   },
   {
    "duration": 31,
    "start_time": "2021-12-10T13:16:55.026Z"
   },
   {
    "duration": 20,
    "start_time": "2021-12-10T13:16:55.060Z"
   },
   {
    "duration": 57,
    "start_time": "2021-12-10T13:16:55.082Z"
   },
   {
    "duration": 35,
    "start_time": "2021-12-10T13:16:55.142Z"
   },
   {
    "duration": 785,
    "start_time": "2021-12-10T13:17:30.708Z"
   },
   {
    "duration": 540,
    "start_time": "2021-12-10T13:17:31.495Z"
   },
   {
    "duration": 29,
    "start_time": "2021-12-10T13:17:32.038Z"
   },
   {
    "duration": 15,
    "start_time": "2021-12-10T13:17:32.070Z"
   },
   {
    "duration": 43,
    "start_time": "2021-12-10T13:17:32.088Z"
   },
   {
    "duration": 18,
    "start_time": "2021-12-10T13:17:32.134Z"
   },
   {
    "duration": 15,
    "start_time": "2021-12-10T13:17:32.154Z"
   },
   {
    "duration": 515,
    "start_time": "2021-12-10T13:17:32.174Z"
   },
   {
    "duration": 97,
    "start_time": "2021-12-10T13:17:32.692Z"
   },
   {
    "duration": 51,
    "start_time": "2021-12-10T13:17:32.792Z"
   },
   {
    "duration": 23,
    "start_time": "2021-12-10T13:17:32.845Z"
   },
   {
    "duration": 52,
    "start_time": "2021-12-10T13:17:32.871Z"
   },
   {
    "duration": 25,
    "start_time": "2021-12-10T13:17:32.926Z"
   },
   {
    "duration": 40,
    "start_time": "2021-12-10T13:17:32.953Z"
   },
   {
    "duration": 62,
    "start_time": "2021-12-10T13:17:32.995Z"
   },
   {
    "duration": 11,
    "start_time": "2021-12-10T13:19:09.859Z"
   },
   {
    "duration": 39,
    "start_time": "2021-12-10T13:19:17.100Z"
   },
   {
    "duration": 727,
    "start_time": "2021-12-10T13:34:10.781Z"
   },
   {
    "duration": 494,
    "start_time": "2021-12-10T13:34:11.510Z"
   },
   {
    "duration": 28,
    "start_time": "2021-12-10T13:34:12.006Z"
   },
   {
    "duration": 14,
    "start_time": "2021-12-10T13:34:12.037Z"
   },
   {
    "duration": 22,
    "start_time": "2021-12-10T13:34:12.054Z"
   },
   {
    "duration": 45,
    "start_time": "2021-12-10T13:34:12.078Z"
   },
   {
    "duration": 10,
    "start_time": "2021-12-10T13:34:12.125Z"
   },
   {
    "duration": 488,
    "start_time": "2021-12-10T13:34:12.139Z"
   },
   {
    "duration": 96,
    "start_time": "2021-12-10T13:34:12.630Z"
   },
   {
    "duration": 44,
    "start_time": "2021-12-10T13:34:12.728Z"
   },
   {
    "duration": 50,
    "start_time": "2021-12-10T13:34:12.774Z"
   },
   {
    "duration": 32,
    "start_time": "2021-12-10T13:34:12.826Z"
   },
   {
    "duration": 24,
    "start_time": "2021-12-10T13:34:12.861Z"
   },
   {
    "duration": 39,
    "start_time": "2021-12-10T13:34:12.888Z"
   },
   {
    "duration": 41,
    "start_time": "2021-12-10T13:34:12.930Z"
   },
   {
    "duration": 66,
    "start_time": "2021-12-10T13:34:12.974Z"
   },
   {
    "duration": 448,
    "start_time": "2021-12-10T13:46:52.057Z"
   },
   {
    "duration": 701,
    "start_time": "2021-12-10T13:47:15.212Z"
   },
   {
    "duration": 503,
    "start_time": "2021-12-10T13:47:15.916Z"
   },
   {
    "duration": 29,
    "start_time": "2021-12-10T13:47:16.422Z"
   },
   {
    "duration": 16,
    "start_time": "2021-12-10T13:47:16.453Z"
   },
   {
    "duration": 18,
    "start_time": "2021-12-10T13:47:16.471Z"
   },
   {
    "duration": 13,
    "start_time": "2021-12-10T13:47:16.523Z"
   },
   {
    "duration": 14,
    "start_time": "2021-12-10T13:47:16.539Z"
   },
   {
    "duration": 370,
    "start_time": "2021-12-10T13:47:16.557Z"
   },
   {
    "duration": -39,
    "start_time": "2021-12-10T13:47:16.968Z"
   },
   {
    "duration": -39,
    "start_time": "2021-12-10T13:47:16.970Z"
   },
   {
    "duration": -40,
    "start_time": "2021-12-10T13:47:16.973Z"
   },
   {
    "duration": -43,
    "start_time": "2021-12-10T13:47:16.977Z"
   },
   {
    "duration": -45,
    "start_time": "2021-12-10T13:47:16.980Z"
   },
   {
    "duration": -45,
    "start_time": "2021-12-10T13:47:16.982Z"
   },
   {
    "duration": -46,
    "start_time": "2021-12-10T13:47:16.984Z"
   },
   {
    "duration": -47,
    "start_time": "2021-12-10T13:47:16.986Z"
   },
   {
    "duration": -49,
    "start_time": "2021-12-10T13:47:16.989Z"
   },
   {
    "duration": 661,
    "start_time": "2021-12-10T13:50:44.672Z"
   },
   {
    "duration": 495,
    "start_time": "2021-12-10T13:50:45.336Z"
   },
   {
    "duration": 25,
    "start_time": "2021-12-10T13:50:45.834Z"
   },
   {
    "duration": 14,
    "start_time": "2021-12-10T13:50:45.862Z"
   },
   {
    "duration": 18,
    "start_time": "2021-12-10T13:50:45.878Z"
   },
   {
    "duration": 14,
    "start_time": "2021-12-10T13:50:45.923Z"
   },
   {
    "duration": 11,
    "start_time": "2021-12-10T13:50:45.940Z"
   },
   {
    "duration": 454,
    "start_time": "2021-12-10T13:50:45.955Z"
   },
   {
    "duration": 88,
    "start_time": "2021-12-10T13:50:46.412Z"
   },
   {
    "duration": 54,
    "start_time": "2021-12-10T13:50:46.503Z"
   },
   {
    "duration": 23,
    "start_time": "2021-12-10T13:50:46.559Z"
   },
   {
    "duration": 46,
    "start_time": "2021-12-10T13:50:46.584Z"
   },
   {
    "duration": 22,
    "start_time": "2021-12-10T13:50:46.633Z"
   },
   {
    "duration": 12,
    "start_time": "2021-12-10T13:50:46.658Z"
   },
   {
    "duration": 66,
    "start_time": "2021-12-10T13:50:46.673Z"
   },
   {
    "duration": 37,
    "start_time": "2021-12-10T13:50:46.742Z"
   },
   {
    "duration": 492,
    "start_time": "2021-12-10T13:51:03.697Z"
   },
   {
    "duration": 13,
    "start_time": "2021-12-10T13:51:10.597Z"
   },
   {
    "duration": 42,
    "start_time": "2021-12-10T13:51:14.337Z"
   },
   {
    "duration": 8,
    "start_time": "2021-12-10T14:17:04.519Z"
   },
   {
    "duration": 20,
    "start_time": "2021-12-10T14:17:28.113Z"
   },
   {
    "duration": 9,
    "start_time": "2021-12-10T14:17:41.034Z"
   },
   {
    "duration": 5,
    "start_time": "2021-12-10T14:19:18.445Z"
   },
   {
    "duration": 22,
    "start_time": "2021-12-10T14:19:37.428Z"
   },
   {
    "duration": 30,
    "start_time": "2021-12-10T14:20:57.004Z"
   },
   {
    "duration": 27,
    "start_time": "2021-12-10T14:21:30.080Z"
   },
   {
    "duration": 19,
    "start_time": "2021-12-10T14:21:46.424Z"
   },
   {
    "duration": 10,
    "start_time": "2021-12-10T14:22:07.593Z"
   },
   {
    "duration": 12,
    "start_time": "2021-12-10T14:24:40.823Z"
   },
   {
    "duration": 8,
    "start_time": "2021-12-10T14:24:41.518Z"
   },
   {
    "duration": 14,
    "start_time": "2021-12-10T14:26:14.618Z"
   },
   {
    "duration": 12,
    "start_time": "2021-12-10T14:26:19.199Z"
   },
   {
    "duration": 13,
    "start_time": "2021-12-10T14:26:23.582Z"
   },
   {
    "duration": 12,
    "start_time": "2021-12-10T14:26:27.843Z"
   },
   {
    "duration": 306,
    "start_time": "2021-12-10T14:33:01.153Z"
   },
   {
    "duration": 24,
    "start_time": "2021-12-10T14:33:05.068Z"
   },
   {
    "duration": 3,
    "start_time": "2021-12-10T14:35:59.346Z"
   },
   {
    "duration": 15,
    "start_time": "2021-12-10T14:43:41.583Z"
   },
   {
    "duration": 3,
    "start_time": "2021-12-10T14:44:16.286Z"
   },
   {
    "duration": 286,
    "start_time": "2021-12-10T14:44:58.786Z"
   },
   {
    "duration": 705,
    "start_time": "2021-12-10T14:45:37.961Z"
   },
   {
    "duration": 505,
    "start_time": "2021-12-10T14:45:38.669Z"
   },
   {
    "duration": 25,
    "start_time": "2021-12-10T14:45:39.177Z"
   },
   {
    "duration": 9,
    "start_time": "2021-12-10T14:45:39.205Z"
   },
   {
    "duration": 13,
    "start_time": "2021-12-10T14:45:39.217Z"
   },
   {
    "duration": 29,
    "start_time": "2021-12-10T14:45:39.233Z"
   },
   {
    "duration": 11,
    "start_time": "2021-12-10T14:45:39.265Z"
   },
   {
    "duration": 51,
    "start_time": "2021-12-10T14:45:39.280Z"
   },
   {
    "duration": 10,
    "start_time": "2021-12-10T14:45:39.335Z"
   },
   {
    "duration": 23,
    "start_time": "2021-12-10T14:45:39.348Z"
   },
   {
    "duration": 11,
    "start_time": "2021-12-10T14:45:39.374Z"
   },
   {
    "duration": 37,
    "start_time": "2021-12-10T14:45:39.387Z"
   },
   {
    "duration": 375,
    "start_time": "2021-12-10T14:45:39.427Z"
   },
   {
    "duration": -55,
    "start_time": "2021-12-10T14:45:39.860Z"
   },
   {
    "duration": -86,
    "start_time": "2021-12-10T14:45:39.892Z"
   },
   {
    "duration": -108,
    "start_time": "2021-12-10T14:45:39.916Z"
   },
   {
    "duration": -111,
    "start_time": "2021-12-10T14:45:39.920Z"
   },
   {
    "duration": -126,
    "start_time": "2021-12-10T14:45:39.936Z"
   },
   {
    "duration": -139,
    "start_time": "2021-12-10T14:45:39.951Z"
   },
   {
    "duration": -170,
    "start_time": "2021-12-10T14:45:39.983Z"
   },
   {
    "duration": -219,
    "start_time": "2021-12-10T14:45:40.033Z"
   },
   {
    "duration": -234,
    "start_time": "2021-12-10T14:45:40.050Z"
   },
   {
    "duration": -252,
    "start_time": "2021-12-10T14:45:40.070Z"
   },
   {
    "duration": 95,
    "start_time": "2021-12-10T14:48:29.499Z"
   },
   {
    "duration": 16,
    "start_time": "2021-12-10T14:48:34.904Z"
   },
   {
    "duration": 32,
    "start_time": "2021-12-10T14:49:46.135Z"
   },
   {
    "duration": 352,
    "start_time": "2021-12-10T14:51:24.271Z"
   },
   {
    "duration": 73,
    "start_time": "2021-12-10T14:51:30.159Z"
   },
   {
    "duration": 62,
    "start_time": "2021-12-10T14:51:50.684Z"
   },
   {
    "duration": 21,
    "start_time": "2021-12-10T14:52:07.510Z"
   },
   {
    "duration": 6,
    "start_time": "2021-12-10T15:00:25.890Z"
   },
   {
    "duration": 6,
    "start_time": "2021-12-10T15:02:20.180Z"
   },
   {
    "duration": 5,
    "start_time": "2021-12-10T15:02:26.213Z"
   },
   {
    "duration": 380,
    "start_time": "2021-12-10T15:17:24.856Z"
   },
   {
    "duration": 30,
    "start_time": "2021-12-10T15:17:42.064Z"
   },
   {
    "duration": 25,
    "start_time": "2021-12-10T15:17:44.298Z"
   },
   {
    "duration": 22,
    "start_time": "2021-12-10T15:17:50.767Z"
   },
   {
    "duration": 31,
    "start_time": "2021-12-10T15:18:18.460Z"
   },
   {
    "duration": 21,
    "start_time": "2021-12-10T15:18:19.194Z"
   },
   {
    "duration": 735,
    "start_time": "2021-12-10T15:18:54.911Z"
   },
   {
    "duration": 482,
    "start_time": "2021-12-10T15:18:55.649Z"
   },
   {
    "duration": 24,
    "start_time": "2021-12-10T15:18:56.134Z"
   },
   {
    "duration": 12,
    "start_time": "2021-12-10T15:18:56.161Z"
   },
   {
    "duration": 12,
    "start_time": "2021-12-10T15:18:56.176Z"
   },
   {
    "duration": 45,
    "start_time": "2021-12-10T15:18:56.191Z"
   },
   {
    "duration": 12,
    "start_time": "2021-12-10T15:18:56.239Z"
   },
   {
    "duration": 21,
    "start_time": "2021-12-10T15:18:56.255Z"
   },
   {
    "duration": 45,
    "start_time": "2021-12-10T15:18:56.279Z"
   },
   {
    "duration": 19,
    "start_time": "2021-12-10T15:18:56.326Z"
   },
   {
    "duration": 11,
    "start_time": "2021-12-10T15:18:56.348Z"
   },
   {
    "duration": 10,
    "start_time": "2021-12-10T15:18:56.361Z"
   },
   {
    "duration": 129,
    "start_time": "2021-12-10T15:18:56.374Z"
   },
   {
    "duration": 37,
    "start_time": "2021-12-10T15:18:56.506Z"
   },
   {
    "duration": 85,
    "start_time": "2021-12-10T15:18:56.546Z"
   },
   {
    "duration": -149,
    "start_time": "2021-12-10T15:18:56.783Z"
   },
   {
    "duration": -154,
    "start_time": "2021-12-10T15:18:56.790Z"
   },
   {
    "duration": -170,
    "start_time": "2021-12-10T15:18:56.807Z"
   },
   {
    "duration": -174,
    "start_time": "2021-12-10T15:18:56.813Z"
   },
   {
    "duration": -176,
    "start_time": "2021-12-10T15:18:56.816Z"
   },
   {
    "duration": -177,
    "start_time": "2021-12-10T15:18:56.818Z"
   },
   {
    "duration": -179,
    "start_time": "2021-12-10T15:18:56.822Z"
   },
   {
    "duration": -200,
    "start_time": "2021-12-10T15:18:56.844Z"
   },
   {
    "duration": -203,
    "start_time": "2021-12-10T15:18:56.848Z"
   },
   {
    "duration": -208,
    "start_time": "2021-12-10T15:18:56.855Z"
   },
   {
    "duration": -211,
    "start_time": "2021-12-10T15:18:56.859Z"
   },
   {
    "duration": -223,
    "start_time": "2021-12-10T15:18:56.873Z"
   },
   {
    "duration": 768,
    "start_time": "2021-12-10T15:19:09.084Z"
   },
   {
    "duration": 510,
    "start_time": "2021-12-10T15:19:09.855Z"
   },
   {
    "duration": 25,
    "start_time": "2021-12-10T15:19:10.368Z"
   },
   {
    "duration": 10,
    "start_time": "2021-12-10T15:19:10.395Z"
   },
   {
    "duration": 14,
    "start_time": "2021-12-10T15:19:10.407Z"
   },
   {
    "duration": 28,
    "start_time": "2021-12-10T15:19:10.423Z"
   },
   {
    "duration": 11,
    "start_time": "2021-12-10T15:19:10.453Z"
   },
   {
    "duration": 22,
    "start_time": "2021-12-10T15:19:10.468Z"
   },
   {
    "duration": 38,
    "start_time": "2021-12-10T15:19:10.493Z"
   },
   {
    "duration": 23,
    "start_time": "2021-12-10T15:19:10.534Z"
   },
   {
    "duration": 14,
    "start_time": "2021-12-10T15:19:10.560Z"
   },
   {
    "duration": 18,
    "start_time": "2021-12-10T15:19:10.576Z"
   },
   {
    "duration": 208,
    "start_time": "2021-12-10T15:19:10.598Z"
   },
   {
    "duration": 58,
    "start_time": "2021-12-10T15:19:10.809Z"
   },
   {
    "duration": 97,
    "start_time": "2021-12-10T15:19:10.871Z"
   },
   {
    "duration": 28,
    "start_time": "2021-12-10T15:19:10.971Z"
   },
   {
    "duration": 26,
    "start_time": "2021-12-10T15:19:11.001Z"
   },
   {
    "duration": 28,
    "start_time": "2021-12-10T15:19:11.030Z"
   },
   {
    "duration": 9117,
    "start_time": "2021-12-10T15:19:11.061Z"
   },
   {
    "duration": -139,
    "start_time": "2021-12-10T15:19:20.320Z"
   },
   {
    "duration": -142,
    "start_time": "2021-12-10T15:19:20.325Z"
   },
   {
    "duration": -145,
    "start_time": "2021-12-10T15:19:20.329Z"
   },
   {
    "duration": -146,
    "start_time": "2021-12-10T15:19:20.332Z"
   },
   {
    "duration": -147,
    "start_time": "2021-12-10T15:19:20.335Z"
   },
   {
    "duration": -149,
    "start_time": "2021-12-10T15:19:20.339Z"
   },
   {
    "duration": -150,
    "start_time": "2021-12-10T15:19:20.342Z"
   },
   {
    "duration": -150,
    "start_time": "2021-12-10T15:19:20.344Z"
   },
   {
    "duration": 71,
    "start_time": "2021-12-10T15:19:24.569Z"
   },
   {
    "duration": 20,
    "start_time": "2021-12-10T15:19:25.228Z"
   },
   {
    "duration": 27,
    "start_time": "2021-12-10T15:20:36.030Z"
   },
   {
    "duration": 710,
    "start_time": "2021-12-10T15:21:03.128Z"
   },
   {
    "duration": 497,
    "start_time": "2021-12-10T15:21:03.841Z"
   },
   {
    "duration": 24,
    "start_time": "2021-12-10T15:21:04.341Z"
   },
   {
    "duration": 13,
    "start_time": "2021-12-10T15:21:04.367Z"
   },
   {
    "duration": 14,
    "start_time": "2021-12-10T15:21:04.382Z"
   },
   {
    "duration": 45,
    "start_time": "2021-12-10T15:21:04.398Z"
   },
   {
    "duration": 12,
    "start_time": "2021-12-10T15:21:04.445Z"
   },
   {
    "duration": 22,
    "start_time": "2021-12-10T15:21:04.461Z"
   },
   {
    "duration": 38,
    "start_time": "2021-12-10T15:21:04.487Z"
   },
   {
    "duration": 21,
    "start_time": "2021-12-10T15:21:04.528Z"
   },
   {
    "duration": 11,
    "start_time": "2021-12-10T15:21:04.551Z"
   },
   {
    "duration": 9,
    "start_time": "2021-12-10T15:21:04.564Z"
   },
   {
    "duration": 131,
    "start_time": "2021-12-10T15:21:04.576Z"
   },
   {
    "duration": 36,
    "start_time": "2021-12-10T15:21:04.710Z"
   },
   {
    "duration": 80,
    "start_time": "2021-12-10T15:21:04.749Z"
   },
   {
    "duration": 20,
    "start_time": "2021-12-10T15:21:04.831Z"
   },
   {
    "duration": 6,
    "start_time": "2021-12-10T15:21:04.854Z"
   },
   {
    "duration": 63,
    "start_time": "2021-12-10T15:21:04.863Z"
   },
   {
    "duration": 7646,
    "start_time": "2021-12-10T15:21:04.928Z"
   },
   {
    "duration": -82,
    "start_time": "2021-12-10T15:21:12.659Z"
   },
   {
    "duration": -86,
    "start_time": "2021-12-10T15:21:12.664Z"
   },
   {
    "duration": -89,
    "start_time": "2021-12-10T15:21:12.669Z"
   },
   {
    "duration": -92,
    "start_time": "2021-12-10T15:21:12.673Z"
   },
   {
    "duration": -95,
    "start_time": "2021-12-10T15:21:12.678Z"
   },
   {
    "duration": -97,
    "start_time": "2021-12-10T15:21:12.681Z"
   },
   {
    "duration": -98,
    "start_time": "2021-12-10T15:21:12.684Z"
   },
   {
    "duration": -98,
    "start_time": "2021-12-10T15:21:12.686Z"
   },
   {
    "duration": 23,
    "start_time": "2021-12-10T15:21:29.613Z"
   },
   {
    "duration": 22,
    "start_time": "2021-12-10T15:21:31.000Z"
   },
   {
    "duration": 1085,
    "start_time": "2021-12-10T15:25:35.130Z"
   },
   {
    "duration": 64,
    "start_time": "2021-12-10T15:26:15.150Z"
   },
   {
    "duration": 15,
    "start_time": "2021-12-10T15:26:29.886Z"
   },
   {
    "duration": 722,
    "start_time": "2021-12-10T15:26:52.106Z"
   },
   {
    "duration": 487,
    "start_time": "2021-12-10T15:26:52.831Z"
   },
   {
    "duration": 24,
    "start_time": "2021-12-10T15:26:53.321Z"
   },
   {
    "duration": 9,
    "start_time": "2021-12-10T15:26:53.348Z"
   },
   {
    "duration": 21,
    "start_time": "2021-12-10T15:26:53.360Z"
   },
   {
    "duration": 49,
    "start_time": "2021-12-10T15:26:53.384Z"
   },
   {
    "duration": 13,
    "start_time": "2021-12-10T15:26:53.437Z"
   },
   {
    "duration": 23,
    "start_time": "2021-12-10T15:26:53.456Z"
   },
   {
    "duration": 46,
    "start_time": "2021-12-10T15:26:53.482Z"
   },
   {
    "duration": 22,
    "start_time": "2021-12-10T15:26:53.532Z"
   },
   {
    "duration": 11,
    "start_time": "2021-12-10T15:26:53.557Z"
   },
   {
    "duration": 10,
    "start_time": "2021-12-10T15:26:53.571Z"
   },
   {
    "duration": 108,
    "start_time": "2021-12-10T15:26:53.625Z"
   },
   {
    "duration": 18,
    "start_time": "2021-12-10T15:26:53.736Z"
   },
   {
    "duration": 88,
    "start_time": "2021-12-10T15:26:53.758Z"
   },
   {
    "duration": 22,
    "start_time": "2021-12-10T15:26:53.848Z"
   },
   {
    "duration": 9,
    "start_time": "2021-12-10T15:26:53.872Z"
   },
   {
    "duration": 55,
    "start_time": "2021-12-10T15:26:53.883Z"
   },
   {
    "duration": 23,
    "start_time": "2021-12-10T15:26:53.941Z"
   },
   {
    "duration": 20,
    "start_time": "2021-12-10T15:26:53.966Z"
   },
   {
    "duration": 3,
    "start_time": "2021-12-10T15:26:53.988Z"
   },
   {
    "duration": 4,
    "start_time": "2021-12-10T15:26:54.024Z"
   },
   {
    "duration": 11,
    "start_time": "2021-12-10T15:26:54.032Z"
   },
   {
    "duration": 6,
    "start_time": "2021-12-10T15:26:54.045Z"
   },
   {
    "duration": 6,
    "start_time": "2021-12-10T15:26:54.054Z"
   },
   {
    "duration": 9,
    "start_time": "2021-12-10T15:26:54.063Z"
   },
   {
    "duration": 6,
    "start_time": "2021-12-10T15:26:54.075Z"
   },
   {
    "duration": 26,
    "start_time": "2021-12-10T15:29:06.252Z"
   },
   {
    "duration": 78,
    "start_time": "2021-12-10T15:29:21.007Z"
   },
   {
    "duration": 13,
    "start_time": "2021-12-10T15:29:26.295Z"
   },
   {
    "duration": 74,
    "start_time": "2021-12-10T15:32:02.514Z"
   },
   {
    "duration": 362,
    "start_time": "2021-12-10T15:32:03.359Z"
   },
   {
    "duration": 16,
    "start_time": "2021-12-10T15:32:12.158Z"
   },
   {
    "duration": 18,
    "start_time": "2021-12-10T15:32:19.052Z"
   },
   {
    "duration": 689,
    "start_time": "2021-12-10T15:32:52.159Z"
   },
   {
    "duration": 490,
    "start_time": "2021-12-10T15:32:52.850Z"
   },
   {
    "duration": 23,
    "start_time": "2021-12-10T15:32:53.344Z"
   },
   {
    "duration": 8,
    "start_time": "2021-12-10T15:32:53.370Z"
   },
   {
    "duration": 14,
    "start_time": "2021-12-10T15:32:53.381Z"
   },
   {
    "duration": 42,
    "start_time": "2021-12-10T15:32:53.397Z"
   },
   {
    "duration": 11,
    "start_time": "2021-12-10T15:32:53.442Z"
   },
   {
    "duration": 20,
    "start_time": "2021-12-10T15:32:53.457Z"
   },
   {
    "duration": 10,
    "start_time": "2021-12-10T15:32:53.480Z"
   },
   {
    "duration": 19,
    "start_time": "2021-12-10T15:32:53.524Z"
   },
   {
    "duration": 11,
    "start_time": "2021-12-10T15:32:53.546Z"
   },
   {
    "duration": 8,
    "start_time": "2021-12-10T15:32:53.559Z"
   },
   {
    "duration": 135,
    "start_time": "2021-12-10T15:32:53.570Z"
   },
   {
    "duration": 20,
    "start_time": "2021-12-10T15:32:53.708Z"
   },
   {
    "duration": 69,
    "start_time": "2021-12-10T15:32:53.731Z"
   },
   {
    "duration": 38,
    "start_time": "2021-12-10T15:32:53.802Z"
   },
   {
    "duration": 11,
    "start_time": "2021-12-10T15:32:53.842Z"
   },
   {
    "duration": 32,
    "start_time": "2021-12-10T15:32:53.855Z"
   },
   {
    "duration": 52,
    "start_time": "2021-12-10T15:32:53.889Z"
   },
   {
    "duration": 20,
    "start_time": "2021-12-10T15:32:53.943Z"
   },
   {
    "duration": 3,
    "start_time": "2021-12-10T15:32:53.965Z"
   },
   {
    "duration": 5,
    "start_time": "2021-12-10T15:32:53.970Z"
   },
   {
    "duration": 5,
    "start_time": "2021-12-10T15:32:53.979Z"
   },
   {
    "duration": 5,
    "start_time": "2021-12-10T15:32:53.986Z"
   },
   {
    "duration": 3,
    "start_time": "2021-12-10T15:32:54.024Z"
   },
   {
    "duration": 9,
    "start_time": "2021-12-10T15:32:54.029Z"
   },
   {
    "duration": 5,
    "start_time": "2021-12-10T15:32:54.040Z"
   },
   {
    "duration": 11,
    "start_time": "2021-12-10T15:37:38.170Z"
   },
   {
    "duration": 62,
    "start_time": "2021-12-10T15:37:46.036Z"
   },
   {
    "duration": 12,
    "start_time": "2021-12-10T15:37:50.952Z"
   },
   {
    "duration": 6,
    "start_time": "2021-12-10T15:37:57.507Z"
   },
   {
    "duration": 707,
    "start_time": "2021-12-10T15:38:04.064Z"
   },
   {
    "duration": 531,
    "start_time": "2021-12-10T15:38:04.774Z"
   },
   {
    "duration": 27,
    "start_time": "2021-12-10T15:38:05.309Z"
   },
   {
    "duration": 10,
    "start_time": "2021-12-10T15:38:05.340Z"
   },
   {
    "duration": 16,
    "start_time": "2021-12-10T15:38:05.353Z"
   },
   {
    "duration": 53,
    "start_time": "2021-12-10T15:38:05.372Z"
   },
   {
    "duration": 15,
    "start_time": "2021-12-10T15:38:05.428Z"
   },
   {
    "duration": 23,
    "start_time": "2021-12-10T15:38:05.446Z"
   },
   {
    "duration": 9,
    "start_time": "2021-12-10T15:38:05.472Z"
   },
   {
    "duration": 54,
    "start_time": "2021-12-10T15:38:05.484Z"
   },
   {
    "duration": 12,
    "start_time": "2021-12-10T15:38:05.540Z"
   },
   {
    "duration": 13,
    "start_time": "2021-12-10T15:38:05.555Z"
   },
   {
    "duration": 131,
    "start_time": "2021-12-10T15:38:05.570Z"
   },
   {
    "duration": 20,
    "start_time": "2021-12-10T15:38:05.703Z"
   },
   {
    "duration": 76,
    "start_time": "2021-12-10T15:38:05.725Z"
   },
   {
    "duration": 21,
    "start_time": "2021-12-10T15:38:05.804Z"
   },
   {
    "duration": 5,
    "start_time": "2021-12-10T15:38:05.827Z"
   },
   {
    "duration": 53,
    "start_time": "2021-12-10T15:38:05.834Z"
   },
   {
    "duration": 34,
    "start_time": "2021-12-10T15:38:05.889Z"
   },
   {
    "duration": 23,
    "start_time": "2021-12-10T15:38:05.925Z"
   },
   {
    "duration": 3,
    "start_time": "2021-12-10T15:38:05.950Z"
   },
   {
    "duration": 12,
    "start_time": "2021-12-10T15:38:05.956Z"
   },
   {
    "duration": 5,
    "start_time": "2021-12-10T15:38:05.972Z"
   },
   {
    "duration": 6,
    "start_time": "2021-12-10T15:38:05.979Z"
   },
   {
    "duration": 35,
    "start_time": "2021-12-10T15:38:05.988Z"
   },
   {
    "duration": 3,
    "start_time": "2021-12-10T15:38:06.026Z"
   },
   {
    "duration": 10,
    "start_time": "2021-12-10T15:38:06.031Z"
   },
   {
    "duration": 443,
    "start_time": "2021-12-10T15:41:22.763Z"
   },
   {
    "duration": 275,
    "start_time": "2021-12-10T15:41:55.507Z"
   },
   {
    "duration": 538,
    "start_time": "2021-12-10T15:42:30.153Z"
   },
   {
    "duration": 495,
    "start_time": "2021-12-10T15:42:36.518Z"
   },
   {
    "duration": 14,
    "start_time": "2021-12-10T15:42:37.435Z"
   },
   {
    "duration": 9,
    "start_time": "2021-12-10T15:42:38.250Z"
   },
   {
    "duration": 11,
    "start_time": "2021-12-10T15:42:39.021Z"
   },
   {
    "duration": 17,
    "start_time": "2021-12-10T15:42:39.839Z"
   },
   {
    "duration": 14,
    "start_time": "2021-12-10T15:42:41.929Z"
   },
   {
    "duration": 699,
    "start_time": "2021-12-10T15:43:56.857Z"
   },
   {
    "duration": 507,
    "start_time": "2021-12-10T15:43:57.558Z"
   },
   {
    "duration": 24,
    "start_time": "2021-12-10T15:43:58.068Z"
   },
   {
    "duration": 9,
    "start_time": "2021-12-10T15:43:58.095Z"
   },
   {
    "duration": 16,
    "start_time": "2021-12-10T15:43:58.107Z"
   },
   {
    "duration": 29,
    "start_time": "2021-12-10T15:43:58.125Z"
   },
   {
    "duration": 16,
    "start_time": "2021-12-10T15:43:58.158Z"
   },
   {
    "duration": 62,
    "start_time": "2021-12-10T15:43:58.180Z"
   },
   {
    "duration": 15,
    "start_time": "2021-12-10T15:43:58.246Z"
   },
   {
    "duration": 28,
    "start_time": "2021-12-10T15:43:58.264Z"
   },
   {
    "duration": 33,
    "start_time": "2021-12-10T15:43:58.296Z"
   },
   {
    "duration": 14,
    "start_time": "2021-12-10T15:43:58.332Z"
   },
   {
    "duration": 123,
    "start_time": "2021-12-10T15:43:58.349Z"
   },
   {
    "duration": 11,
    "start_time": "2021-12-10T15:43:58.475Z"
   },
   {
    "duration": 94,
    "start_time": "2021-12-10T15:43:58.488Z"
   },
   {
    "duration": 12,
    "start_time": "2021-12-10T15:43:58.584Z"
   },
   {
    "duration": 26,
    "start_time": "2021-12-10T15:43:58.600Z"
   },
   {
    "duration": 32,
    "start_time": "2021-12-10T15:43:58.629Z"
   },
   {
    "duration": 24,
    "start_time": "2021-12-10T15:43:58.663Z"
   },
   {
    "duration": 44,
    "start_time": "2021-12-10T15:43:58.689Z"
   },
   {
    "duration": 2,
    "start_time": "2021-12-10T15:43:58.736Z"
   },
   {
    "duration": 5,
    "start_time": "2021-12-10T15:43:58.741Z"
   },
   {
    "duration": 3,
    "start_time": "2021-12-10T15:43:58.751Z"
   },
   {
    "duration": 9,
    "start_time": "2021-12-10T15:43:58.756Z"
   },
   {
    "duration": 5,
    "start_time": "2021-12-10T15:43:58.767Z"
   },
   {
    "duration": 7,
    "start_time": "2021-12-10T15:43:58.775Z"
   },
   {
    "duration": 39,
    "start_time": "2021-12-10T15:43:58.785Z"
   },
   {
    "duration": 726,
    "start_time": "2021-12-10T15:44:38.750Z"
   },
   {
    "duration": 595,
    "start_time": "2021-12-10T15:44:39.479Z"
   },
   {
    "duration": 23,
    "start_time": "2021-12-10T15:44:40.077Z"
   },
   {
    "duration": 11,
    "start_time": "2021-12-10T15:44:40.103Z"
   },
   {
    "duration": 11,
    "start_time": "2021-12-10T15:44:40.116Z"
   },
   {
    "duration": 16,
    "start_time": "2021-12-10T15:44:40.130Z"
   },
   {
    "duration": 11,
    "start_time": "2021-12-10T15:44:40.149Z"
   },
   {
    "duration": 21,
    "start_time": "2021-12-10T15:44:40.164Z"
   },
   {
    "duration": 10,
    "start_time": "2021-12-10T15:44:40.224Z"
   },
   {
    "duration": 14,
    "start_time": "2021-12-10T15:44:40.236Z"
   },
   {
    "duration": 11,
    "start_time": "2021-12-10T15:44:40.252Z"
   },
   {
    "duration": 9,
    "start_time": "2021-12-10T15:44:40.265Z"
   },
   {
    "duration": 120,
    "start_time": "2021-12-10T15:44:40.276Z"
   },
   {
    "duration": 9,
    "start_time": "2021-12-10T15:44:40.399Z"
   },
   {
    "duration": 75,
    "start_time": "2021-12-10T15:44:40.410Z"
   },
   {
    "duration": 10,
    "start_time": "2021-12-10T15:44:40.488Z"
   },
   {
    "duration": 28,
    "start_time": "2021-12-10T15:44:40.500Z"
   },
   {
    "duration": 26,
    "start_time": "2021-12-10T15:44:40.531Z"
   },
   {
    "duration": 23,
    "start_time": "2021-12-10T15:44:40.560Z"
   },
   {
    "duration": 47,
    "start_time": "2021-12-10T15:44:40.585Z"
   },
   {
    "duration": 3,
    "start_time": "2021-12-10T15:44:40.634Z"
   },
   {
    "duration": 6,
    "start_time": "2021-12-10T15:44:40.639Z"
   },
   {
    "duration": 12,
    "start_time": "2021-12-10T15:44:40.649Z"
   },
   {
    "duration": 9,
    "start_time": "2021-12-10T15:44:40.664Z"
   },
   {
    "duration": 11,
    "start_time": "2021-12-10T15:44:40.675Z"
   },
   {
    "duration": 14,
    "start_time": "2021-12-10T15:44:40.689Z"
   },
   {
    "duration": 3,
    "start_time": "2021-12-10T15:44:40.723Z"
   },
   {
    "duration": 12,
    "start_time": "2021-12-10T15:45:17.461Z"
   },
   {
    "duration": 907,
    "start_time": "2021-12-10T15:51:50.772Z"
   },
   {
    "duration": 22,
    "start_time": "2021-12-10T15:52:05.951Z"
   },
   {
    "duration": 13,
    "start_time": "2021-12-10T15:52:10.721Z"
   },
   {
    "duration": 391,
    "start_time": "2021-12-10T15:52:27.951Z"
   },
   {
    "duration": 20,
    "start_time": "2021-12-10T15:52:34.914Z"
   },
   {
    "duration": 26,
    "start_time": "2021-12-10T15:55:14.551Z"
   },
   {
    "duration": 728,
    "start_time": "2021-12-10T15:55:30.881Z"
   },
   {
    "duration": 568,
    "start_time": "2021-12-10T15:55:31.613Z"
   },
   {
    "duration": 23,
    "start_time": "2021-12-10T15:55:32.184Z"
   },
   {
    "duration": 22,
    "start_time": "2021-12-10T15:55:32.209Z"
   },
   {
    "duration": 18,
    "start_time": "2021-12-10T15:55:32.233Z"
   },
   {
    "duration": 21,
    "start_time": "2021-12-10T15:55:32.253Z"
   },
   {
    "duration": 17,
    "start_time": "2021-12-10T15:55:32.276Z"
   },
   {
    "duration": 37,
    "start_time": "2021-12-10T15:55:32.297Z"
   },
   {
    "duration": 9,
    "start_time": "2021-12-10T15:55:32.337Z"
   },
   {
    "duration": 26,
    "start_time": "2021-12-10T15:55:32.348Z"
   },
   {
    "duration": 33,
    "start_time": "2021-12-10T15:55:32.376Z"
   },
   {
    "duration": 28,
    "start_time": "2021-12-10T15:55:32.412Z"
   },
   {
    "duration": 92,
    "start_time": "2021-12-10T15:55:32.443Z"
   },
   {
    "duration": 11,
    "start_time": "2021-12-10T15:55:32.538Z"
   },
   {
    "duration": 84,
    "start_time": "2021-12-10T15:55:32.552Z"
   },
   {
    "duration": 11,
    "start_time": "2021-12-10T15:55:32.639Z"
   },
   {
    "duration": 6,
    "start_time": "2021-12-10T15:55:32.653Z"
   },
   {
    "duration": 28,
    "start_time": "2021-12-10T15:55:32.661Z"
   },
   {
    "duration": 52,
    "start_time": "2021-12-10T15:55:32.692Z"
   },
   {
    "duration": 20,
    "start_time": "2021-12-10T15:55:32.746Z"
   },
   {
    "duration": 56,
    "start_time": "2021-12-10T15:55:32.769Z"
   },
   {
    "duration": 18,
    "start_time": "2021-12-10T15:55:32.827Z"
   },
   {
    "duration": 3,
    "start_time": "2021-12-10T15:55:32.850Z"
   },
   {
    "duration": 8,
    "start_time": "2021-12-10T15:55:32.856Z"
   },
   {
    "duration": 11,
    "start_time": "2021-12-10T15:55:32.867Z"
   },
   {
    "duration": 8,
    "start_time": "2021-12-10T15:55:32.880Z"
   },
   {
    "duration": 7,
    "start_time": "2021-12-10T15:55:32.890Z"
   },
   {
    "duration": 5,
    "start_time": "2021-12-10T15:55:32.924Z"
   },
   {
    "duration": 7,
    "start_time": "2021-12-10T15:55:32.931Z"
   },
   {
    "duration": 432,
    "start_time": "2021-12-10T15:58:22.669Z"
   },
   {
    "duration": 337,
    "start_time": "2021-12-10T15:59:29.672Z"
   },
   {
    "duration": 343,
    "start_time": "2021-12-10T16:00:15.514Z"
   },
   {
    "duration": 135,
    "start_time": "2021-12-10T16:05:41.819Z"
   },
   {
    "duration": 19,
    "start_time": "2021-12-10T16:05:50.994Z"
   },
   {
    "duration": 348,
    "start_time": "2021-12-10T16:08:24.010Z"
   },
   {
    "duration": 281,
    "start_time": "2021-12-10T16:09:03.574Z"
   },
   {
    "duration": 101,
    "start_time": "2021-12-10T16:09:26.783Z"
   },
   {
    "duration": 13,
    "start_time": "2021-12-10T16:09:29.953Z"
   },
   {
    "duration": 91,
    "start_time": "2021-12-10T16:10:51.923Z"
   },
   {
    "duration": 219,
    "start_time": "2021-12-10T16:10:57.742Z"
   },
   {
    "duration": 11,
    "start_time": "2021-12-10T16:11:44.034Z"
   },
   {
    "duration": 14,
    "start_time": "2021-12-10T16:13:27.643Z"
   },
   {
    "duration": 10,
    "start_time": "2021-12-10T16:18:09.855Z"
   },
   {
    "duration": 87,
    "start_time": "2021-12-10T16:18:31.481Z"
   },
   {
    "duration": 97,
    "start_time": "2021-12-10T16:18:35.292Z"
   },
   {
    "duration": 94,
    "start_time": "2021-12-10T16:20:25.233Z"
   },
   {
    "duration": 90,
    "start_time": "2021-12-10T16:21:06.751Z"
   },
   {
    "duration": 7118,
    "start_time": "2021-12-10T16:23:01.905Z"
   },
   {
    "duration": 7185,
    "start_time": "2021-12-10T16:23:36.226Z"
   },
   {
    "duration": 126,
    "start_time": "2021-12-10T16:23:53.823Z"
   },
   {
    "duration": 93,
    "start_time": "2021-12-10T16:24:24.661Z"
   },
   {
    "duration": 91,
    "start_time": "2021-12-10T16:24:46.701Z"
   },
   {
    "duration": 114,
    "start_time": "2021-12-10T16:24:59.883Z"
   },
   {
    "duration": 93,
    "start_time": "2021-12-10T16:25:25.843Z"
   },
   {
    "duration": 140,
    "start_time": "2021-12-10T16:25:43.185Z"
   },
   {
    "duration": 93,
    "start_time": "2021-12-10T16:26:28.664Z"
   },
   {
    "duration": 105,
    "start_time": "2021-12-10T16:26:42.755Z"
   },
   {
    "duration": 132,
    "start_time": "2021-12-10T16:28:54.905Z"
   },
   {
    "duration": 6,
    "start_time": "2021-12-10T16:29:00.627Z"
   },
   {
    "duration": 6,
    "start_time": "2021-12-10T16:29:31.032Z"
   },
   {
    "duration": 190,
    "start_time": "2021-12-10T16:30:33.484Z"
   },
   {
    "duration": 6,
    "start_time": "2021-12-10T16:30:39.581Z"
   },
   {
    "duration": 287,
    "start_time": "2021-12-10T16:30:59.284Z"
   },
   {
    "duration": 6,
    "start_time": "2021-12-10T16:31:15.445Z"
   },
   {
    "duration": 7,
    "start_time": "2021-12-10T16:32:44.248Z"
   },
   {
    "duration": 1463,
    "start_time": "2021-12-10T16:34:00.376Z"
   },
   {
    "duration": 5,
    "start_time": "2021-12-10T16:34:28.491Z"
   },
   {
    "duration": 83,
    "start_time": "2021-12-10T16:34:45.630Z"
   },
   {
    "duration": 7,
    "start_time": "2021-12-10T16:34:50.940Z"
   },
   {
    "duration": 137,
    "start_time": "2021-12-10T16:35:11.884Z"
   },
   {
    "duration": 89,
    "start_time": "2021-12-10T16:35:23.429Z"
   },
   {
    "duration": 6,
    "start_time": "2021-12-10T16:35:48.059Z"
   },
   {
    "duration": 186,
    "start_time": "2021-12-10T16:36:24.697Z"
   },
   {
    "duration": 7,
    "start_time": "2021-12-10T16:36:33.692Z"
   },
   {
    "duration": 101,
    "start_time": "2021-12-10T16:38:18.477Z"
   },
   {
    "duration": 6,
    "start_time": "2021-12-10T16:38:24.438Z"
   },
   {
    "duration": 6,
    "start_time": "2021-12-10T16:51:16.073Z"
   },
   {
    "duration": 15,
    "start_time": "2021-12-10T16:51:27.960Z"
   },
   {
    "duration": 12,
    "start_time": "2021-12-10T16:51:56.189Z"
   },
   {
    "duration": 88,
    "start_time": "2021-12-10T17:04:32.972Z"
   },
   {
    "duration": 20,
    "start_time": "2021-12-10T17:06:11.961Z"
   },
   {
    "duration": 293,
    "start_time": "2021-12-10T17:07:30.385Z"
   },
   {
    "duration": 13,
    "start_time": "2021-12-10T17:07:39.404Z"
   },
   {
    "duration": 7567,
    "start_time": "2021-12-10T17:08:29.437Z"
   },
   {
    "duration": 87,
    "start_time": "2021-12-10T17:24:55.980Z"
   },
   {
    "duration": 6,
    "start_time": "2021-12-10T17:27:49.206Z"
   },
   {
    "duration": 36,
    "start_time": "2021-12-10T17:27:49.816Z"
   },
   {
    "duration": 9,
    "start_time": "2021-12-10T17:27:50.356Z"
   },
   {
    "duration": 16,
    "start_time": "2021-12-10T17:37:09.680Z"
   },
   {
    "duration": 23,
    "start_time": "2021-12-10T17:42:31.375Z"
   },
   {
    "duration": 25,
    "start_time": "2021-12-10T17:42:48.154Z"
   },
   {
    "duration": 266,
    "start_time": "2021-12-10T17:46:39.229Z"
   },
   {
    "duration": 30,
    "start_time": "2021-12-10T17:46:51.594Z"
   },
   {
    "duration": 325,
    "start_time": "2021-12-10T17:46:53.002Z"
   },
   {
    "duration": 24,
    "start_time": "2021-12-10T17:47:02.870Z"
   },
   {
    "duration": 744,
    "start_time": "2021-12-10T17:47:40.504Z"
   },
   {
    "duration": 566,
    "start_time": "2021-12-10T17:47:41.250Z"
   },
   {
    "duration": 22,
    "start_time": "2021-12-10T17:47:41.819Z"
   },
   {
    "duration": 10,
    "start_time": "2021-12-10T17:47:41.844Z"
   },
   {
    "duration": 7,
    "start_time": "2021-12-10T17:47:41.856Z"
   },
   {
    "duration": 11,
    "start_time": "2021-12-10T17:47:41.865Z"
   },
   {
    "duration": 49,
    "start_time": "2021-12-10T17:47:41.879Z"
   },
   {
    "duration": 11,
    "start_time": "2021-12-10T17:47:41.930Z"
   },
   {
    "duration": 19,
    "start_time": "2021-12-10T17:47:41.945Z"
   },
   {
    "duration": 10,
    "start_time": "2021-12-10T17:47:41.967Z"
   },
   {
    "duration": 49,
    "start_time": "2021-12-10T17:47:41.979Z"
   },
   {
    "duration": 11,
    "start_time": "2021-12-10T17:47:42.031Z"
   },
   {
    "duration": 9,
    "start_time": "2021-12-10T17:47:42.044Z"
   },
   {
    "duration": 99,
    "start_time": "2021-12-10T17:47:42.055Z"
   },
   {
    "duration": 90,
    "start_time": "2021-12-10T17:47:42.157Z"
   },
   {
    "duration": 64,
    "start_time": "2021-12-10T17:47:42.250Z"
   },
   {
    "duration": 34,
    "start_time": "2021-12-10T17:47:42.317Z"
   },
   {
    "duration": 368,
    "start_time": "2021-12-10T17:47:42.353Z"
   },
   {
    "duration": -12,
    "start_time": "2021-12-10T17:47:42.735Z"
   },
   {
    "duration": -18,
    "start_time": "2021-12-10T17:47:42.742Z"
   },
   {
    "duration": -21,
    "start_time": "2021-12-10T17:47:42.747Z"
   },
   {
    "duration": -23,
    "start_time": "2021-12-10T17:47:42.750Z"
   },
   {
    "duration": -25,
    "start_time": "2021-12-10T17:47:42.753Z"
   },
   {
    "duration": -26,
    "start_time": "2021-12-10T17:47:42.756Z"
   },
   {
    "duration": -29,
    "start_time": "2021-12-10T17:47:42.760Z"
   },
   {
    "duration": -29,
    "start_time": "2021-12-10T17:47:42.762Z"
   },
   {
    "duration": 39,
    "start_time": "2021-12-10T17:49:15.062Z"
   },
   {
    "duration": 695,
    "start_time": "2021-12-10T17:49:23.063Z"
   },
   {
    "duration": 587,
    "start_time": "2021-12-10T17:49:23.761Z"
   },
   {
    "duration": 24,
    "start_time": "2021-12-10T17:49:24.351Z"
   },
   {
    "duration": 9,
    "start_time": "2021-12-10T17:49:24.378Z"
   },
   {
    "duration": 8,
    "start_time": "2021-12-10T17:49:24.389Z"
   },
   {
    "duration": 24,
    "start_time": "2021-12-10T17:49:24.400Z"
   },
   {
    "duration": 17,
    "start_time": "2021-12-10T17:49:24.427Z"
   },
   {
    "duration": 10,
    "start_time": "2021-12-10T17:49:24.448Z"
   },
   {
    "duration": 21,
    "start_time": "2021-12-10T17:49:24.461Z"
   },
   {
    "duration": 41,
    "start_time": "2021-12-10T17:49:24.484Z"
   },
   {
    "duration": 14,
    "start_time": "2021-12-10T17:49:24.528Z"
   },
   {
    "duration": 10,
    "start_time": "2021-12-10T17:49:24.545Z"
   },
   {
    "duration": 16,
    "start_time": "2021-12-10T17:49:24.558Z"
   },
   {
    "duration": 117,
    "start_time": "2021-12-10T17:49:24.576Z"
   },
   {
    "duration": 99,
    "start_time": "2021-12-10T17:49:24.696Z"
   },
   {
    "duration": 73,
    "start_time": "2021-12-10T17:49:24.797Z"
   },
   {
    "duration": 31,
    "start_time": "2021-12-10T17:49:24.872Z"
   },
   {
    "duration": 32,
    "start_time": "2021-12-10T17:49:24.906Z"
   },
   {
    "duration": 23,
    "start_time": "2021-12-10T17:49:24.940Z"
   },
   {
    "duration": 18,
    "start_time": "2021-12-10T17:49:24.965Z"
   },
   {
    "duration": 64,
    "start_time": "2021-12-10T17:49:24.985Z"
   },
   {
    "duration": 17,
    "start_time": "2021-12-10T17:49:25.052Z"
   },
   {
    "duration": 5,
    "start_time": "2021-12-10T17:49:25.074Z"
   },
   {
    "duration": 7,
    "start_time": "2021-12-10T17:49:25.081Z"
   },
   {
    "duration": 6,
    "start_time": "2021-12-10T17:49:25.090Z"
   },
   {
    "duration": 3,
    "start_time": "2021-12-10T17:49:25.123Z"
   },
   {
    "duration": 425,
    "start_time": "2021-12-10T17:54:23.251Z"
   },
   {
    "duration": 296,
    "start_time": "2021-12-10T17:54:36.720Z"
   },
   {
    "duration": 297,
    "start_time": "2021-12-10T17:57:09.918Z"
   },
   {
    "duration": 7,
    "start_time": "2021-12-10T17:57:27.655Z"
   },
   {
    "duration": 362,
    "start_time": "2021-12-10T18:00:11.270Z"
   },
   {
    "duration": 3,
    "start_time": "2021-12-10T18:00:25.812Z"
   },
   {
    "duration": 6,
    "start_time": "2021-12-10T18:00:32.327Z"
   },
   {
    "duration": 6,
    "start_time": "2021-12-10T18:00:33.225Z"
   },
   {
    "duration": 22,
    "start_time": "2021-12-10T18:01:49.822Z"
   },
   {
    "duration": 718,
    "start_time": "2021-12-10T18:02:50.612Z"
   },
   {
    "duration": 567,
    "start_time": "2021-12-10T18:02:51.333Z"
   },
   {
    "duration": 23,
    "start_time": "2021-12-10T18:02:51.903Z"
   },
   {
    "duration": 17,
    "start_time": "2021-12-10T18:02:51.929Z"
   },
   {
    "duration": 13,
    "start_time": "2021-12-10T18:02:51.949Z"
   },
   {
    "duration": 22,
    "start_time": "2021-12-10T18:02:51.964Z"
   },
   {
    "duration": 26,
    "start_time": "2021-12-10T18:02:51.989Z"
   },
   {
    "duration": 32,
    "start_time": "2021-12-10T18:02:52.017Z"
   },
   {
    "duration": 19,
    "start_time": "2021-12-10T18:02:52.055Z"
   },
   {
    "duration": 27,
    "start_time": "2021-12-10T18:02:52.078Z"
   },
   {
    "duration": 14,
    "start_time": "2021-12-10T18:02:52.108Z"
   },
   {
    "duration": 23,
    "start_time": "2021-12-10T18:02:52.124Z"
   },
   {
    "duration": 36,
    "start_time": "2021-12-10T18:02:52.150Z"
   },
   {
    "duration": 14,
    "start_time": "2021-12-10T18:02:52.188Z"
   },
   {
    "duration": 90,
    "start_time": "2021-12-10T18:02:52.204Z"
   },
   {
    "duration": 5,
    "start_time": "2021-12-10T18:02:52.296Z"
   },
   {
    "duration": 17,
    "start_time": "2021-12-10T18:02:52.303Z"
   },
   {
    "duration": 58,
    "start_time": "2021-12-10T18:02:52.323Z"
   },
   {
    "duration": 19,
    "start_time": "2021-12-10T18:02:52.383Z"
   },
   {
    "duration": 23,
    "start_time": "2021-12-10T18:02:52.404Z"
   },
   {
    "duration": 17,
    "start_time": "2021-12-10T18:02:52.429Z"
   },
   {
    "duration": 29,
    "start_time": "2021-12-10T18:02:52.448Z"
   },
   {
    "duration": 19,
    "start_time": "2021-12-10T18:02:52.480Z"
   },
   {
    "duration": 2,
    "start_time": "2021-12-10T18:02:52.524Z"
   },
   {
    "duration": 29,
    "start_time": "2021-12-10T18:02:52.529Z"
   },
   {
    "duration": 23,
    "start_time": "2021-12-10T18:02:52.560Z"
   },
   {
    "duration": 26,
    "start_time": "2021-12-10T18:02:52.587Z"
   },
   {
    "duration": 13,
    "start_time": "2021-12-10T18:03:06.344Z"
   },
   {
    "duration": 3,
    "start_time": "2021-12-10T18:03:49.598Z"
   },
   {
    "duration": 85,
    "start_time": "2021-12-10T18:04:01.349Z"
   },
   {
    "duration": 5,
    "start_time": "2021-12-10T18:04:02.767Z"
   },
   {
    "duration": 29,
    "start_time": "2021-12-10T18:04:03.904Z"
   },
   {
    "duration": 20,
    "start_time": "2021-12-10T18:04:04.339Z"
   },
   {
    "duration": 24,
    "start_time": "2021-12-10T18:04:04.790Z"
   },
   {
    "duration": 16,
    "start_time": "2021-12-10T18:04:05.420Z"
   },
   {
    "duration": 68,
    "start_time": "2021-12-10T18:04:14.039Z"
   },
   {
    "duration": 14,
    "start_time": "2021-12-10T18:04:28.422Z"
   },
   {
    "duration": 20,
    "start_time": "2021-12-10T18:04:50.853Z"
   },
   {
    "duration": 19,
    "start_time": "2021-12-10T18:05:01.405Z"
   },
   {
    "duration": 10,
    "start_time": "2021-12-10T18:05:16.382Z"
   },
   {
    "duration": 10,
    "start_time": "2021-12-10T18:10:25.440Z"
   },
   {
    "duration": 10,
    "start_time": "2021-12-10T18:10:37.329Z"
   },
   {
    "duration": 24,
    "start_time": "2021-12-10T18:11:07.864Z"
   },
   {
    "duration": 28,
    "start_time": "2021-12-10T18:11:26.463Z"
   },
   {
    "duration": 29,
    "start_time": "2021-12-10T18:11:34.771Z"
   },
   {
    "duration": 15,
    "start_time": "2021-12-10T18:12:14.854Z"
   },
   {
    "duration": 17,
    "start_time": "2021-12-10T18:13:54.319Z"
   },
   {
    "duration": 24,
    "start_time": "2021-12-10T18:14:21.397Z"
   },
   {
    "duration": 6973,
    "start_time": "2021-12-10T18:14:50.541Z"
   },
   {
    "duration": 6979,
    "start_time": "2021-12-10T18:14:59.760Z"
   },
   {
    "duration": 7580,
    "start_time": "2021-12-10T18:15:10.906Z"
   },
   {
    "duration": 7293,
    "start_time": "2021-12-10T18:16:27.924Z"
   },
   {
    "duration": 7925,
    "start_time": "2021-12-10T18:17:17.583Z"
   },
   {
    "duration": 7923,
    "start_time": "2021-12-10T18:18:15.502Z"
   },
   {
    "duration": 7495,
    "start_time": "2021-12-10T18:18:30.668Z"
   },
   {
    "duration": 6842,
    "start_time": "2021-12-10T18:18:47.247Z"
   },
   {
    "duration": 22,
    "start_time": "2021-12-10T18:19:10.608Z"
   },
   {
    "duration": 722,
    "start_time": "2021-12-10T18:19:33.433Z"
   },
   {
    "duration": 581,
    "start_time": "2021-12-10T18:19:34.158Z"
   },
   {
    "duration": 23,
    "start_time": "2021-12-10T18:19:34.742Z"
   },
   {
    "duration": 9,
    "start_time": "2021-12-10T18:19:34.768Z"
   },
   {
    "duration": 15,
    "start_time": "2021-12-10T18:19:34.779Z"
   },
   {
    "duration": 27,
    "start_time": "2021-12-10T18:19:34.796Z"
   },
   {
    "duration": 11,
    "start_time": "2021-12-10T18:19:34.825Z"
   },
   {
    "duration": 17,
    "start_time": "2021-12-10T18:19:34.840Z"
   },
   {
    "duration": 11,
    "start_time": "2021-12-10T18:19:34.860Z"
   },
   {
    "duration": 60,
    "start_time": "2021-12-10T18:19:34.873Z"
   },
   {
    "duration": 9,
    "start_time": "2021-12-10T18:19:34.935Z"
   },
   {
    "duration": 16,
    "start_time": "2021-12-10T18:19:34.947Z"
   },
   {
    "duration": 10,
    "start_time": "2021-12-10T18:19:34.966Z"
   },
   {
    "duration": 12,
    "start_time": "2021-12-10T18:19:34.978Z"
   },
   {
    "duration": 132,
    "start_time": "2021-12-10T18:19:35.025Z"
   },
   {
    "duration": 110,
    "start_time": "2021-12-10T18:19:35.160Z"
   },
   {
    "duration": 78,
    "start_time": "2021-12-10T18:19:35.272Z"
   },
   {
    "duration": 39,
    "start_time": "2021-12-10T18:19:35.353Z"
   },
   {
    "duration": 36,
    "start_time": "2021-12-10T18:19:35.395Z"
   },
   {
    "duration": 22,
    "start_time": "2021-12-10T18:19:35.434Z"
   },
   {
    "duration": 14,
    "start_time": "2021-12-10T18:19:35.459Z"
   },
   {
    "duration": 56,
    "start_time": "2021-12-10T18:19:35.476Z"
   },
   {
    "duration": 7400,
    "start_time": "2021-12-10T18:19:35.538Z"
   },
   {
    "duration": 54,
    "start_time": "2021-12-10T18:19:42.887Z"
   },
   {
    "duration": 48,
    "start_time": "2021-12-10T18:19:42.895Z"
   },
   {
    "duration": 18,
    "start_time": "2021-12-10T18:19:42.926Z"
   },
   {
    "duration": 14,
    "start_time": "2021-12-10T18:19:42.932Z"
   },
   {
    "duration": 8,
    "start_time": "2021-12-10T18:19:42.939Z"
   },
   {
    "duration": -27,
    "start_time": "2021-12-10T18:19:42.976Z"
   },
   {
    "duration": 756,
    "start_time": "2021-12-10T18:20:19.274Z"
   },
   {
    "duration": 490,
    "start_time": "2021-12-10T18:20:20.033Z"
   },
   {
    "duration": 24,
    "start_time": "2021-12-10T18:20:20.529Z"
   },
   {
    "duration": 8,
    "start_time": "2021-12-10T18:20:20.555Z"
   },
   {
    "duration": 9,
    "start_time": "2021-12-10T18:20:20.566Z"
   },
   {
    "duration": 5,
    "start_time": "2021-12-10T18:20:20.578Z"
   },
   {
    "duration": 10,
    "start_time": "2021-12-10T18:20:20.625Z"
   },
   {
    "duration": 25,
    "start_time": "2021-12-10T18:20:20.638Z"
   },
   {
    "duration": 11,
    "start_time": "2021-12-10T18:20:20.666Z"
   },
   {
    "duration": 59,
    "start_time": "2021-12-10T18:20:20.679Z"
   },
   {
    "duration": 11,
    "start_time": "2021-12-10T18:20:20.740Z"
   },
   {
    "duration": 20,
    "start_time": "2021-12-10T18:20:20.753Z"
   },
   {
    "duration": 10,
    "start_time": "2021-12-10T18:20:20.776Z"
   },
   {
    "duration": 41,
    "start_time": "2021-12-10T18:20:20.788Z"
   },
   {
    "duration": 104,
    "start_time": "2021-12-10T18:20:20.831Z"
   },
   {
    "duration": 104,
    "start_time": "2021-12-10T18:20:20.937Z"
   },
   {
    "duration": 79,
    "start_time": "2021-12-10T18:20:21.044Z"
   },
   {
    "duration": 32,
    "start_time": "2021-12-10T18:20:21.125Z"
   },
   {
    "duration": 19,
    "start_time": "2021-12-10T18:20:21.160Z"
   },
   {
    "duration": 50,
    "start_time": "2021-12-10T18:20:21.182Z"
   },
   {
    "duration": 25,
    "start_time": "2021-12-10T18:20:21.234Z"
   },
   {
    "duration": 25,
    "start_time": "2021-12-10T18:20:21.263Z"
   },
   {
    "duration": 42,
    "start_time": "2021-12-10T18:20:21.291Z"
   },
   {
    "duration": 33,
    "start_time": "2021-12-10T18:20:21.335Z"
   },
   {
    "duration": 16,
    "start_time": "2021-12-10T18:20:21.370Z"
   },
   {
    "duration": 6,
    "start_time": "2021-12-10T18:20:21.388Z"
   },
   {
    "duration": 3,
    "start_time": "2021-12-10T18:20:21.424Z"
   },
   {
    "duration": 7,
    "start_time": "2021-12-10T18:20:21.429Z"
   },
   {
    "duration": 7,
    "start_time": "2021-12-10T18:20:21.438Z"
   },
   {
    "duration": 19,
    "start_time": "2021-12-10T18:20:59.504Z"
   },
   {
    "duration": 98,
    "start_time": "2021-12-10T18:21:54.170Z"
   },
   {
    "duration": 16,
    "start_time": "2021-12-10T18:21:57.278Z"
   },
   {
    "duration": 19,
    "start_time": "2021-12-10T18:22:07.155Z"
   },
   {
    "duration": 18,
    "start_time": "2021-12-10T18:22:26.324Z"
   },
   {
    "duration": 1678,
    "start_time": "2021-12-10T18:23:12.207Z"
   },
   {
    "duration": 493,
    "start_time": "2021-12-10T18:23:21.099Z"
   },
   {
    "duration": 314,
    "start_time": "2021-12-10T18:23:29.128Z"
   },
   {
    "duration": 92,
    "start_time": "2021-12-10T18:24:42.508Z"
   },
   {
    "duration": 335,
    "start_time": "2021-12-10T18:24:57.000Z"
   },
   {
    "duration": 273,
    "start_time": "2021-12-10T18:26:15.150Z"
   },
   {
    "duration": 350,
    "start_time": "2021-12-10T18:26:37.579Z"
   },
   {
    "duration": 773,
    "start_time": "2021-12-10T18:26:45.997Z"
   },
   {
    "duration": 481,
    "start_time": "2021-12-10T18:26:46.773Z"
   },
   {
    "duration": 24,
    "start_time": "2021-12-10T18:26:47.257Z"
   },
   {
    "duration": 7,
    "start_time": "2021-12-10T18:26:47.284Z"
   },
   {
    "duration": 10,
    "start_time": "2021-12-10T18:26:47.293Z"
   },
   {
    "duration": 10,
    "start_time": "2021-12-10T18:26:47.305Z"
   },
   {
    "duration": 11,
    "start_time": "2021-12-10T18:26:47.323Z"
   },
   {
    "duration": 25,
    "start_time": "2021-12-10T18:26:47.338Z"
   },
   {
    "duration": 11,
    "start_time": "2021-12-10T18:26:47.366Z"
   },
   {
    "duration": 55,
    "start_time": "2021-12-10T18:26:47.379Z"
   },
   {
    "duration": 8,
    "start_time": "2021-12-10T18:26:47.437Z"
   },
   {
    "duration": 19,
    "start_time": "2021-12-10T18:26:47.448Z"
   },
   {
    "duration": 11,
    "start_time": "2021-12-10T18:26:47.469Z"
   },
   {
    "duration": 45,
    "start_time": "2021-12-10T18:26:47.482Z"
   },
   {
    "duration": 97,
    "start_time": "2021-12-10T18:26:47.529Z"
   },
   {
    "duration": 104,
    "start_time": "2021-12-10T18:26:47.628Z"
   },
   {
    "duration": 67,
    "start_time": "2021-12-10T18:26:47.734Z"
   },
   {
    "duration": 47,
    "start_time": "2021-12-10T18:26:47.803Z"
   },
   {
    "duration": 21,
    "start_time": "2021-12-10T18:26:47.852Z"
   },
   {
    "duration": 48,
    "start_time": "2021-12-10T18:26:47.875Z"
   },
   {
    "duration": 23,
    "start_time": "2021-12-10T18:26:47.925Z"
   },
   {
    "duration": 29,
    "start_time": "2021-12-10T18:26:47.951Z"
   },
   {
    "duration": 44,
    "start_time": "2021-12-10T18:26:47.986Z"
   },
   {
    "duration": 421,
    "start_time": "2021-12-10T18:26:48.033Z"
   },
   {
    "duration": -283,
    "start_time": "2021-12-10T18:26:48.740Z"
   },
   {
    "duration": -286,
    "start_time": "2021-12-10T18:26:48.746Z"
   },
   {
    "duration": -288,
    "start_time": "2021-12-10T18:26:48.751Z"
   },
   {
    "duration": -289,
    "start_time": "2021-12-10T18:26:48.754Z"
   },
   {
    "duration": -290,
    "start_time": "2021-12-10T18:26:48.757Z"
   },
   {
    "duration": -290,
    "start_time": "2021-12-10T18:26:48.760Z"
   },
   {
    "duration": 1081,
    "start_time": "2021-12-10T18:27:37.789Z"
   },
   {
    "duration": 285,
    "start_time": "2021-12-10T18:27:47.889Z"
   },
   {
    "duration": 394,
    "start_time": "2021-12-10T18:27:56.150Z"
   },
   {
    "duration": 18,
    "start_time": "2021-12-10T18:28:30.596Z"
   },
   {
    "duration": 15,
    "start_time": "2021-12-10T18:28:47.868Z"
   },
   {
    "duration": 9,
    "start_time": "2021-12-11T14:37:28.811Z"
   },
   {
    "duration": 210,
    "start_time": "2021-12-11T14:37:32.479Z"
   },
   {
    "duration": 522,
    "start_time": "2021-12-11T14:37:53.530Z"
   },
   {
    "duration": 433,
    "start_time": "2021-12-11T14:37:54.054Z"
   },
   {
    "duration": 16,
    "start_time": "2021-12-11T14:37:54.489Z"
   },
   {
    "duration": 4,
    "start_time": "2021-12-11T14:37:54.507Z"
   },
   {
    "duration": 8,
    "start_time": "2021-12-11T14:37:54.513Z"
   },
   {
    "duration": 5,
    "start_time": "2021-12-11T14:37:54.522Z"
   },
   {
    "duration": 9,
    "start_time": "2021-12-11T14:37:54.529Z"
   },
   {
    "duration": 21,
    "start_time": "2021-12-11T14:37:54.540Z"
   },
   {
    "duration": 9,
    "start_time": "2021-12-11T14:37:54.591Z"
   },
   {
    "duration": 20,
    "start_time": "2021-12-11T14:37:54.602Z"
   },
   {
    "duration": 7,
    "start_time": "2021-12-11T14:37:54.623Z"
   },
   {
    "duration": 15,
    "start_time": "2021-12-11T14:37:54.631Z"
   },
   {
    "duration": 7,
    "start_time": "2021-12-11T14:37:54.648Z"
   },
   {
    "duration": 38,
    "start_time": "2021-12-11T14:37:54.657Z"
   },
   {
    "duration": 67,
    "start_time": "2021-12-11T14:37:54.697Z"
   },
   {
    "duration": 86,
    "start_time": "2021-12-11T14:37:54.766Z"
   },
   {
    "duration": 61,
    "start_time": "2021-12-11T14:37:54.854Z"
   },
   {
    "duration": 24,
    "start_time": "2021-12-11T14:37:54.916Z"
   },
   {
    "duration": 15,
    "start_time": "2021-12-11T14:37:54.942Z"
   },
   {
    "duration": 39,
    "start_time": "2021-12-11T14:37:54.959Z"
   },
   {
    "duration": 20,
    "start_time": "2021-12-11T14:37:54.999Z"
   },
   {
    "duration": 15,
    "start_time": "2021-12-11T14:37:55.021Z"
   },
   {
    "duration": 23,
    "start_time": "2021-12-11T14:37:55.040Z"
   },
   {
    "duration": 36,
    "start_time": "2021-12-11T14:37:55.065Z"
   },
   {
    "duration": 2,
    "start_time": "2021-12-11T14:37:55.103Z"
   },
   {
    "duration": 5,
    "start_time": "2021-12-11T14:37:55.107Z"
   },
   {
    "duration": 4,
    "start_time": "2021-12-11T14:37:55.114Z"
   },
   {
    "duration": 4,
    "start_time": "2021-12-11T14:37:55.119Z"
   },
   {
    "duration": 15,
    "start_time": "2021-12-11T14:40:33.094Z"
   },
   {
    "duration": 15,
    "start_time": "2021-12-11T14:40:43.456Z"
   },
   {
    "duration": 932,
    "start_time": "2021-12-11T14:41:36.079Z"
   },
   {
    "duration": 24,
    "start_time": "2021-12-11T14:44:15.219Z"
   },
   {
    "duration": 4454,
    "start_time": "2021-12-11T14:46:09.304Z"
   },
   {
    "duration": 5169,
    "start_time": "2021-12-11T14:46:19.759Z"
   },
   {
    "duration": 4849,
    "start_time": "2021-12-11T14:46:30.607Z"
   },
   {
    "duration": 6632,
    "start_time": "2021-12-11T14:48:06.645Z"
   },
   {
    "duration": 540,
    "start_time": "2021-12-11T14:48:23.710Z"
   },
   {
    "duration": 437,
    "start_time": "2021-12-11T14:48:24.252Z"
   },
   {
    "duration": 18,
    "start_time": "2021-12-11T14:48:24.691Z"
   },
   {
    "duration": 6,
    "start_time": "2021-12-11T14:48:24.712Z"
   },
   {
    "duration": 19,
    "start_time": "2021-12-11T14:48:24.720Z"
   },
   {
    "duration": 6,
    "start_time": "2021-12-11T14:48:24.741Z"
   },
   {
    "duration": 9,
    "start_time": "2021-12-11T14:48:24.749Z"
   },
   {
    "duration": 46,
    "start_time": "2021-12-11T14:48:24.761Z"
   },
   {
    "duration": 9,
    "start_time": "2021-12-11T14:48:24.809Z"
   },
   {
    "duration": 19,
    "start_time": "2021-12-11T14:48:24.820Z"
   },
   {
    "duration": 7,
    "start_time": "2021-12-11T14:48:24.841Z"
   },
   {
    "duration": 49,
    "start_time": "2021-12-11T14:48:24.850Z"
   },
   {
    "duration": 9,
    "start_time": "2021-12-11T14:48:24.901Z"
   },
   {
    "duration": 7,
    "start_time": "2021-12-11T14:48:24.913Z"
   },
   {
    "duration": 96,
    "start_time": "2021-12-11T14:48:24.922Z"
   },
   {
    "duration": 80,
    "start_time": "2021-12-11T14:48:25.020Z"
   },
   {
    "duration": 55,
    "start_time": "2021-12-11T14:48:25.102Z"
   },
   {
    "duration": 42,
    "start_time": "2021-12-11T14:48:25.159Z"
   },
   {
    "duration": 17,
    "start_time": "2021-12-11T14:48:25.202Z"
   },
   {
    "duration": 20,
    "start_time": "2021-12-11T14:48:25.220Z"
   },
   {
    "duration": 21,
    "start_time": "2021-12-11T14:48:25.242Z"
   },
   {
    "duration": 18,
    "start_time": "2021-12-11T14:48:25.292Z"
   },
   {
    "duration": 39,
    "start_time": "2021-12-11T14:48:25.313Z"
   },
   {
    "duration": 4227,
    "start_time": "2021-12-11T14:48:25.354Z"
   },
   {
    "duration": 39,
    "start_time": "2021-12-11T14:48:29.544Z"
   },
   {
    "duration": 35,
    "start_time": "2021-12-11T14:48:29.549Z"
   },
   {
    "duration": 26,
    "start_time": "2021-12-11T14:48:29.559Z"
   },
   {
    "duration": 21,
    "start_time": "2021-12-11T14:48:29.565Z"
   },
   {
    "duration": 12,
    "start_time": "2021-12-11T14:48:29.575Z"
   },
   {
    "duration": 17,
    "start_time": "2021-12-11T14:48:39.683Z"
   },
   {
    "duration": 4780,
    "start_time": "2021-12-11T14:48:42.444Z"
   },
   {
    "duration": 4326,
    "start_time": "2021-12-11T14:49:37.203Z"
   },
   {
    "duration": 4570,
    "start_time": "2021-12-11T14:49:50.328Z"
   },
   {
    "duration": 14,
    "start_time": "2021-12-11T14:50:03.145Z"
   },
   {
    "duration": 18,
    "start_time": "2021-12-11T14:55:28.196Z"
   },
   {
    "duration": 26,
    "start_time": "2021-12-11T14:55:36.737Z"
   },
   {
    "duration": 36,
    "start_time": "2021-12-11T14:57:51.659Z"
   },
   {
    "duration": 44,
    "start_time": "2021-12-11T14:58:01.228Z"
   },
   {
    "duration": 33,
    "start_time": "2021-12-11T15:02:33.840Z"
   },
   {
    "duration": 42,
    "start_time": "2021-12-11T15:02:42.539Z"
   },
   {
    "duration": 26,
    "start_time": "2021-12-11T15:02:57.264Z"
   },
   {
    "duration": 40,
    "start_time": "2021-12-11T15:03:18.786Z"
   },
   {
    "duration": 253,
    "start_time": "2021-12-11T15:05:56.343Z"
   },
   {
    "duration": 19,
    "start_time": "2021-12-11T15:09:48.004Z"
   },
   {
    "duration": 28,
    "start_time": "2021-12-11T15:10:00.981Z"
   },
   {
    "duration": 7,
    "start_time": "2021-12-11T15:11:36.531Z"
   },
   {
    "duration": 22,
    "start_time": "2021-12-11T15:11:40.033Z"
   },
   {
    "duration": 168,
    "start_time": "2021-12-11T15:13:35.213Z"
   },
   {
    "duration": 175,
    "start_time": "2021-12-11T15:13:46.875Z"
   },
   {
    "duration": 21,
    "start_time": "2021-12-11T15:13:51.073Z"
   },
   {
    "duration": 197,
    "start_time": "2021-12-11T15:14:14.503Z"
   },
   {
    "duration": 189,
    "start_time": "2021-12-11T15:14:37.175Z"
   },
   {
    "duration": 3,
    "start_time": "2021-12-11T15:14:54.208Z"
   },
   {
    "duration": 179,
    "start_time": "2021-12-11T15:15:16.570Z"
   },
   {
    "duration": 581,
    "start_time": "2021-12-11T15:24:29.077Z"
   },
   {
    "duration": 448,
    "start_time": "2021-12-11T15:24:29.660Z"
   },
   {
    "duration": 16,
    "start_time": "2021-12-11T15:24:30.110Z"
   },
   {
    "duration": 5,
    "start_time": "2021-12-11T15:24:30.128Z"
   },
   {
    "duration": 8,
    "start_time": "2021-12-11T15:24:30.135Z"
   },
   {
    "duration": 6,
    "start_time": "2021-12-11T15:24:30.145Z"
   },
   {
    "duration": 11,
    "start_time": "2021-12-11T15:24:30.152Z"
   },
   {
    "duration": 32,
    "start_time": "2021-12-11T15:24:30.164Z"
   },
   {
    "duration": 8,
    "start_time": "2021-12-11T15:24:30.199Z"
   },
   {
    "duration": 21,
    "start_time": "2021-12-11T15:24:30.209Z"
   },
   {
    "duration": 7,
    "start_time": "2021-12-11T15:24:30.231Z"
   },
   {
    "duration": 18,
    "start_time": "2021-12-11T15:24:30.240Z"
   },
   {
    "duration": 7,
    "start_time": "2021-12-11T15:24:30.260Z"
   },
   {
    "duration": 8,
    "start_time": "2021-12-11T15:24:30.291Z"
   },
   {
    "duration": 73,
    "start_time": "2021-12-11T15:24:30.301Z"
   },
   {
    "duration": 82,
    "start_time": "2021-12-11T15:24:30.376Z"
   },
   {
    "duration": 69,
    "start_time": "2021-12-11T15:24:30.460Z"
   },
   {
    "duration": 24,
    "start_time": "2021-12-11T15:24:30.531Z"
   },
   {
    "duration": 15,
    "start_time": "2021-12-11T15:24:30.556Z"
   },
   {
    "duration": 30,
    "start_time": "2021-12-11T15:24:30.573Z"
   },
   {
    "duration": 21,
    "start_time": "2021-12-11T15:24:30.604Z"
   },
   {
    "duration": 16,
    "start_time": "2021-12-11T15:24:30.627Z"
   },
   {
    "duration": 253,
    "start_time": "2021-12-11T15:24:30.644Z"
   },
   {
    "duration": 19,
    "start_time": "2021-12-11T15:24:30.880Z"
   },
   {
    "duration": 1,
    "start_time": "2021-12-11T15:24:30.899Z"
   },
   {
    "duration": -15,
    "start_time": "2021-12-11T15:24:30.915Z"
   },
   {
    "duration": -49,
    "start_time": "2021-12-11T15:24:30.950Z"
   },
   {
    "duration": -96,
    "start_time": "2021-12-11T15:24:30.998Z"
   },
   {
    "duration": -135,
    "start_time": "2021-12-11T15:24:31.038Z"
   },
   {
    "duration": -151,
    "start_time": "2021-12-11T15:24:31.055Z"
   },
   {
    "duration": -162,
    "start_time": "2021-12-11T15:24:31.067Z"
   },
   {
    "duration": 15,
    "start_time": "2021-12-11T15:25:10.914Z"
   },
   {
    "duration": 15,
    "start_time": "2021-12-11T15:27:21.010Z"
   },
   {
    "duration": 33,
    "start_time": "2021-12-11T15:27:34.455Z"
   },
   {
    "duration": 45,
    "start_time": "2021-12-11T15:27:42.750Z"
   },
   {
    "duration": 24,
    "start_time": "2021-12-11T15:27:49.053Z"
   },
   {
    "duration": 16,
    "start_time": "2021-12-11T15:30:02.913Z"
   },
   {
    "duration": 172,
    "start_time": "2021-12-11T15:48:39.008Z"
   },
   {
    "duration": 196,
    "start_time": "2021-12-11T15:48:44.932Z"
   },
   {
    "duration": 179,
    "start_time": "2021-12-11T15:52:34.284Z"
   },
   {
    "duration": 15,
    "start_time": "2021-12-11T15:52:53.799Z"
   },
   {
    "duration": 9,
    "start_time": "2021-12-11T16:00:27.654Z"
   },
   {
    "duration": 13,
    "start_time": "2021-12-11T16:00:31.275Z"
   },
   {
    "duration": 180,
    "start_time": "2021-12-11T16:01:09.062Z"
   },
   {
    "duration": 18,
    "start_time": "2021-12-11T17:23:17.504Z"
   },
   {
    "duration": 19,
    "start_time": "2021-12-11T17:25:55.312Z"
   },
   {
    "duration": 38,
    "start_time": "2021-12-11T17:27:09.171Z"
   },
   {
    "duration": 27,
    "start_time": "2021-12-11T17:27:35.021Z"
   },
   {
    "duration": 34,
    "start_time": "2021-12-11T17:27:37.924Z"
   },
   {
    "duration": 436,
    "start_time": "2021-12-11T17:28:28.455Z"
   },
   {
    "duration": 181,
    "start_time": "2021-12-11T17:28:40.504Z"
   },
   {
    "duration": 180,
    "start_time": "2021-12-11T17:28:45.834Z"
   },
   {
    "duration": 36,
    "start_time": "2021-12-11T17:28:53.765Z"
   },
   {
    "duration": 212,
    "start_time": "2021-12-11T17:29:05.579Z"
   },
   {
    "duration": 37,
    "start_time": "2021-12-11T17:29:09.539Z"
   },
   {
    "duration": 254,
    "start_time": "2021-12-11T17:30:59.189Z"
   },
   {
    "duration": 7,
    "start_time": "2021-12-11T17:31:14.285Z"
   },
   {
    "duration": 25,
    "start_time": "2021-12-11T17:31:20.263Z"
   },
   {
    "duration": 14,
    "start_time": "2021-12-11T17:31:36.716Z"
   },
   {
    "duration": 14,
    "start_time": "2021-12-11T17:31:50.951Z"
   },
   {
    "duration": 13,
    "start_time": "2021-12-11T17:31:59.067Z"
   },
   {
    "duration": 181,
    "start_time": "2021-12-11T17:32:53.592Z"
   },
   {
    "duration": 252,
    "start_time": "2021-12-11T17:33:24.133Z"
   },
   {
    "duration": 272,
    "start_time": "2021-12-11T17:35:41.694Z"
   },
   {
    "duration": 20,
    "start_time": "2021-12-11T17:35:48.717Z"
   },
   {
    "duration": 34,
    "start_time": "2021-12-11T17:36:33.141Z"
   },
   {
    "duration": 29,
    "start_time": "2021-12-11T17:37:08.366Z"
   },
   {
    "duration": 29,
    "start_time": "2021-12-11T17:38:09.109Z"
   },
   {
    "duration": 38,
    "start_time": "2021-12-11T17:38:35.120Z"
   },
   {
    "duration": 681,
    "start_time": "2021-12-11T17:39:10.864Z"
   },
   {
    "duration": 29,
    "start_time": "2021-12-11T17:39:31.811Z"
   },
   {
    "duration": 9,
    "start_time": "2021-12-11T17:40:41.980Z"
   },
   {
    "duration": 15,
    "start_time": "2021-12-11T17:40:48.776Z"
   },
   {
    "duration": 188,
    "start_time": "2021-12-11T17:41:12.818Z"
   },
   {
    "duration": 186,
    "start_time": "2021-12-11T17:41:36.777Z"
   },
   {
    "duration": 21,
    "start_time": "2021-12-11T17:41:59.243Z"
   },
   {
    "duration": 25,
    "start_time": "2021-12-11T17:43:32.539Z"
   },
   {
    "duration": 25,
    "start_time": "2021-12-11T17:43:48.691Z"
   },
   {
    "duration": 27,
    "start_time": "2021-12-11T17:44:01.937Z"
   },
   {
    "duration": 24,
    "start_time": "2021-12-11T17:44:52.132Z"
   },
   {
    "duration": 25,
    "start_time": "2021-12-11T17:45:11.889Z"
   },
   {
    "duration": 15,
    "start_time": "2021-12-11T17:53:14.779Z"
   },
   {
    "duration": 22,
    "start_time": "2021-12-11T17:53:50.248Z"
   },
   {
    "duration": 24,
    "start_time": "2021-12-11T17:54:10.493Z"
   },
   {
    "duration": 207,
    "start_time": "2021-12-11T17:54:39.260Z"
   },
   {
    "duration": 182,
    "start_time": "2021-12-11T17:54:50.996Z"
   },
   {
    "duration": 177,
    "start_time": "2021-12-11T17:54:55.066Z"
   },
   {
    "duration": 17,
    "start_time": "2021-12-11T17:55:00.512Z"
   },
   {
    "duration": 17,
    "start_time": "2021-12-11T17:55:04.394Z"
   },
   {
    "duration": 562,
    "start_time": "2021-12-11T17:55:13.091Z"
   },
   {
    "duration": 404,
    "start_time": "2021-12-11T17:55:13.655Z"
   },
   {
    "duration": 17,
    "start_time": "2021-12-11T17:55:14.061Z"
   },
   {
    "duration": 8,
    "start_time": "2021-12-11T17:55:14.080Z"
   },
   {
    "duration": 8,
    "start_time": "2021-12-11T17:55:14.089Z"
   },
   {
    "duration": 6,
    "start_time": "2021-12-11T17:55:14.098Z"
   },
   {
    "duration": 9,
    "start_time": "2021-12-11T17:55:14.105Z"
   },
   {
    "duration": 21,
    "start_time": "2021-12-11T17:55:14.116Z"
   },
   {
    "duration": 7,
    "start_time": "2021-12-11T17:55:14.139Z"
   },
   {
    "duration": 15,
    "start_time": "2021-12-11T17:55:14.147Z"
   },
   {
    "duration": 35,
    "start_time": "2021-12-11T17:55:14.164Z"
   },
   {
    "duration": 18,
    "start_time": "2021-12-11T17:55:14.200Z"
   },
   {
    "duration": 7,
    "start_time": "2021-12-11T17:55:14.220Z"
   },
   {
    "duration": 7,
    "start_time": "2021-12-11T17:55:14.228Z"
   },
   {
    "duration": 93,
    "start_time": "2021-12-11T17:55:14.237Z"
   },
   {
    "duration": 79,
    "start_time": "2021-12-11T17:55:14.332Z"
   },
   {
    "duration": 55,
    "start_time": "2021-12-11T17:55:14.413Z"
   },
   {
    "duration": 31,
    "start_time": "2021-12-11T17:55:14.469Z"
   },
   {
    "duration": 15,
    "start_time": "2021-12-11T17:55:14.502Z"
   },
   {
    "duration": 18,
    "start_time": "2021-12-11T17:55:14.518Z"
   },
   {
    "duration": 20,
    "start_time": "2021-12-11T17:55:14.537Z"
   },
   {
    "duration": 40,
    "start_time": "2021-12-11T17:55:14.558Z"
   },
   {
    "duration": 16,
    "start_time": "2021-12-11T17:55:14.601Z"
   },
   {
    "duration": 73,
    "start_time": "2021-12-11T17:55:14.619Z"
   },
   {
    "duration": 28,
    "start_time": "2021-12-11T17:55:14.694Z"
   },
   {
    "duration": 30,
    "start_time": "2021-12-11T17:55:14.723Z"
   },
   {
    "duration": 37,
    "start_time": "2021-12-11T17:55:14.755Z"
   },
   {
    "duration": 21,
    "start_time": "2021-12-11T17:55:14.794Z"
   },
   {
    "duration": 19,
    "start_time": "2021-12-11T17:55:14.816Z"
   },
   {
    "duration": 2,
    "start_time": "2021-12-11T17:55:14.836Z"
   },
   {
    "duration": 5,
    "start_time": "2021-12-11T17:55:14.840Z"
   },
   {
    "duration": 5,
    "start_time": "2021-12-11T17:55:14.846Z"
   },
   {
    "duration": 5,
    "start_time": "2021-12-11T17:55:14.852Z"
   },
   {
    "duration": 17,
    "start_time": "2021-12-11T17:55:52.958Z"
   },
   {
    "duration": 17,
    "start_time": "2021-12-11T17:56:16.914Z"
   },
   {
    "duration": 20,
    "start_time": "2021-12-11T17:57:45.380Z"
   },
   {
    "duration": 20,
    "start_time": "2021-12-11T18:03:45.845Z"
   },
   {
    "duration": 6,
    "start_time": "2021-12-11T18:08:55.026Z"
   },
   {
    "duration": 10,
    "start_time": "2021-12-11T18:08:59.529Z"
   },
   {
    "duration": 20,
    "start_time": "2021-12-11T18:21:20.021Z"
   },
   {
    "duration": 22,
    "start_time": "2021-12-11T18:21:25.239Z"
   },
   {
    "duration": 241,
    "start_time": "2021-12-11T18:22:01.080Z"
   },
   {
    "duration": 176,
    "start_time": "2021-12-11T18:22:19.832Z"
   },
   {
    "duration": 21,
    "start_time": "2021-12-11T18:22:30.402Z"
   },
   {
    "duration": 22,
    "start_time": "2021-12-11T18:22:48.219Z"
   },
   {
    "duration": 26,
    "start_time": "2021-12-11T18:23:53.106Z"
   },
   {
    "duration": 20,
    "start_time": "2021-12-11T18:24:12.445Z"
   },
   {
    "duration": 23,
    "start_time": "2021-12-11T18:24:34.342Z"
   },
   {
    "duration": 17,
    "start_time": "2021-12-11T18:25:21.392Z"
   },
   {
    "duration": 21,
    "start_time": "2021-12-11T18:25:32.777Z"
   },
   {
    "duration": 184,
    "start_time": "2021-12-11T18:28:29.743Z"
   },
   {
    "duration": 707,
    "start_time": "2021-12-11T18:28:36.365Z"
   },
   {
    "duration": 27,
    "start_time": "2021-12-11T18:28:46.947Z"
   },
   {
    "duration": 207,
    "start_time": "2021-12-11T18:29:07.210Z"
   },
   {
    "duration": 697,
    "start_time": "2021-12-11T18:29:11.787Z"
   },
   {
    "duration": 34,
    "start_time": "2021-12-11T18:29:25.827Z"
   },
   {
    "duration": 26,
    "start_time": "2021-12-11T18:29:49.371Z"
   },
   {
    "duration": 189,
    "start_time": "2021-12-11T18:30:03.274Z"
   },
   {
    "duration": 561,
    "start_time": "2021-12-11T18:30:09.591Z"
   },
   {
    "duration": 403,
    "start_time": "2021-12-11T18:30:10.154Z"
   },
   {
    "duration": 15,
    "start_time": "2021-12-11T18:30:10.559Z"
   },
   {
    "duration": 8,
    "start_time": "2021-12-11T18:30:10.576Z"
   },
   {
    "duration": 8,
    "start_time": "2021-12-11T18:30:10.586Z"
   },
   {
    "duration": 5,
    "start_time": "2021-12-11T18:30:10.596Z"
   },
   {
    "duration": 10,
    "start_time": "2021-12-11T18:30:10.603Z"
   },
   {
    "duration": 25,
    "start_time": "2021-12-11T18:30:10.616Z"
   },
   {
    "duration": 7,
    "start_time": "2021-12-11T18:30:10.643Z"
   },
   {
    "duration": 15,
    "start_time": "2021-12-11T18:30:10.652Z"
   },
   {
    "duration": 29,
    "start_time": "2021-12-11T18:30:10.669Z"
   },
   {
    "duration": 20,
    "start_time": "2021-12-11T18:30:10.699Z"
   },
   {
    "duration": 7,
    "start_time": "2021-12-11T18:30:10.721Z"
   },
   {
    "duration": 8,
    "start_time": "2021-12-11T18:30:10.730Z"
   },
   {
    "duration": 95,
    "start_time": "2021-12-11T18:30:10.740Z"
   },
   {
    "duration": 80,
    "start_time": "2021-12-11T18:30:10.837Z"
   },
   {
    "duration": 54,
    "start_time": "2021-12-11T18:30:10.919Z"
   },
   {
    "duration": 33,
    "start_time": "2021-12-11T18:30:10.975Z"
   },
   {
    "duration": 15,
    "start_time": "2021-12-11T18:30:11.009Z"
   },
   {
    "duration": 18,
    "start_time": "2021-12-11T18:30:11.026Z"
   },
   {
    "duration": 45,
    "start_time": "2021-12-11T18:30:11.046Z"
   },
   {
    "duration": 17,
    "start_time": "2021-12-11T18:30:11.093Z"
   },
   {
    "duration": 15,
    "start_time": "2021-12-11T18:30:11.112Z"
   },
   {
    "duration": 70,
    "start_time": "2021-12-11T18:30:11.129Z"
   },
   {
    "duration": 26,
    "start_time": "2021-12-11T18:30:11.201Z"
   },
   {
    "duration": 28,
    "start_time": "2021-12-11T18:30:11.229Z"
   },
   {
    "duration": 48,
    "start_time": "2021-12-11T18:30:11.258Z"
   },
   {
    "duration": 20,
    "start_time": "2021-12-11T18:30:11.308Z"
   },
   {
    "duration": 19,
    "start_time": "2021-12-11T18:30:11.330Z"
   },
   {
    "duration": 18,
    "start_time": "2021-12-11T18:30:11.351Z"
   },
   {
    "duration": 23,
    "start_time": "2021-12-11T18:30:11.370Z"
   },
   {
    "duration": 7,
    "start_time": "2021-12-11T18:30:11.394Z"
   },
   {
    "duration": 5,
    "start_time": "2021-12-11T18:30:11.402Z"
   },
   {
    "duration": 5,
    "start_time": "2021-12-11T18:30:11.408Z"
   },
   {
    "duration": 676,
    "start_time": "2021-12-11T18:31:24.107Z"
   },
   {
    "duration": 243,
    "start_time": "2021-12-11T18:31:34.113Z"
   },
   {
    "duration": 603,
    "start_time": "2021-12-11T18:31:46.366Z"
   },
   {
    "duration": 414,
    "start_time": "2021-12-11T18:31:46.971Z"
   },
   {
    "duration": 19,
    "start_time": "2021-12-11T18:31:47.387Z"
   },
   {
    "duration": 6,
    "start_time": "2021-12-11T18:31:47.409Z"
   },
   {
    "duration": 8,
    "start_time": "2021-12-11T18:31:47.417Z"
   },
   {
    "duration": 5,
    "start_time": "2021-12-11T18:31:47.427Z"
   },
   {
    "duration": 10,
    "start_time": "2021-12-11T18:31:47.433Z"
   },
   {
    "duration": 61,
    "start_time": "2021-12-11T18:31:47.446Z"
   },
   {
    "duration": 8,
    "start_time": "2021-12-11T18:31:47.510Z"
   },
   {
    "duration": 16,
    "start_time": "2021-12-11T18:31:47.520Z"
   },
   {
    "duration": 9,
    "start_time": "2021-12-11T18:31:47.538Z"
   },
   {
    "duration": 48,
    "start_time": "2021-12-11T18:31:47.549Z"
   },
   {
    "duration": 8,
    "start_time": "2021-12-11T18:31:47.600Z"
   },
   {
    "duration": 7,
    "start_time": "2021-12-11T18:31:47.610Z"
   },
   {
    "duration": 91,
    "start_time": "2021-12-11T18:31:47.618Z"
   },
   {
    "duration": 80,
    "start_time": "2021-12-11T18:31:47.711Z"
   },
   {
    "duration": 54,
    "start_time": "2021-12-11T18:31:47.793Z"
   },
   {
    "duration": 25,
    "start_time": "2021-12-11T18:31:47.849Z"
   },
   {
    "duration": 27,
    "start_time": "2021-12-11T18:31:47.876Z"
   },
   {
    "duration": 17,
    "start_time": "2021-12-11T18:31:47.905Z"
   },
   {
    "duration": 20,
    "start_time": "2021-12-11T18:31:47.924Z"
   },
   {
    "duration": 18,
    "start_time": "2021-12-11T18:31:47.947Z"
   },
   {
    "duration": 17,
    "start_time": "2021-12-11T18:31:47.994Z"
   },
   {
    "duration": 56,
    "start_time": "2021-12-11T18:31:48.013Z"
   },
   {
    "duration": 29,
    "start_time": "2021-12-11T18:31:48.092Z"
   },
   {
    "duration": 33,
    "start_time": "2021-12-11T18:31:48.123Z"
   },
   {
    "duration": 51,
    "start_time": "2021-12-11T18:31:48.158Z"
   },
   {
    "duration": 25,
    "start_time": "2021-12-11T18:31:48.211Z"
   },
   {
    "duration": 24,
    "start_time": "2021-12-11T18:31:48.238Z"
   },
   {
    "duration": 256,
    "start_time": "2021-12-11T18:31:48.264Z"
   },
   {
    "duration": 28,
    "start_time": "2021-12-11T18:31:48.494Z"
   },
   {
    "duration": 21,
    "start_time": "2021-12-11T18:31:48.502Z"
   },
   {
    "duration": 18,
    "start_time": "2021-12-11T18:31:48.506Z"
   },
   {
    "duration": 16,
    "start_time": "2021-12-11T18:31:48.509Z"
   },
   {
    "duration": 19,
    "start_time": "2021-12-11T18:31:54.834Z"
   },
   {
    "duration": 188,
    "start_time": "2021-12-11T18:33:24.944Z"
   },
   {
    "duration": 171,
    "start_time": "2021-12-11T18:33:43.205Z"
   },
   {
    "duration": 189,
    "start_time": "2021-12-11T18:33:49.105Z"
   },
   {
    "duration": 576,
    "start_time": "2021-12-11T18:34:03.478Z"
   },
   {
    "duration": 414,
    "start_time": "2021-12-11T18:34:04.056Z"
   },
   {
    "duration": 16,
    "start_time": "2021-12-11T18:34:04.472Z"
   },
   {
    "duration": 6,
    "start_time": "2021-12-11T18:34:04.490Z"
   },
   {
    "duration": 7,
    "start_time": "2021-12-11T18:34:04.497Z"
   },
   {
    "duration": 10,
    "start_time": "2021-12-11T18:34:04.506Z"
   },
   {
    "duration": 9,
    "start_time": "2021-12-11T18:34:04.518Z"
   },
   {
    "duration": 19,
    "start_time": "2021-12-11T18:34:04.528Z"
   },
   {
    "duration": 6,
    "start_time": "2021-12-11T18:34:04.550Z"
   },
   {
    "duration": 42,
    "start_time": "2021-12-11T18:34:04.558Z"
   },
   {
    "duration": 8,
    "start_time": "2021-12-11T18:34:04.602Z"
   },
   {
    "duration": 18,
    "start_time": "2021-12-11T18:34:04.612Z"
   },
   {
    "duration": 8,
    "start_time": "2021-12-11T18:34:04.631Z"
   },
   {
    "duration": 7,
    "start_time": "2021-12-11T18:34:04.641Z"
   },
   {
    "duration": 101,
    "start_time": "2021-12-11T18:34:04.649Z"
   },
   {
    "duration": 78,
    "start_time": "2021-12-11T18:34:04.752Z"
   },
   {
    "duration": 61,
    "start_time": "2021-12-11T18:34:04.832Z"
   },
   {
    "duration": 28,
    "start_time": "2021-12-11T18:34:04.895Z"
   },
   {
    "duration": 16,
    "start_time": "2021-12-11T18:34:04.925Z"
   },
   {
    "duration": 18,
    "start_time": "2021-12-11T18:34:04.942Z"
   },
   {
    "duration": 40,
    "start_time": "2021-12-11T18:34:04.962Z"
   },
   {
    "duration": 14,
    "start_time": "2021-12-11T18:34:05.004Z"
   },
   {
    "duration": 15,
    "start_time": "2021-12-11T18:34:05.020Z"
   },
   {
    "duration": 75,
    "start_time": "2021-12-11T18:34:05.037Z"
   },
   {
    "duration": 36,
    "start_time": "2021-12-11T18:34:05.113Z"
   },
   {
    "duration": 41,
    "start_time": "2021-12-11T18:34:05.151Z"
   },
   {
    "duration": 18,
    "start_time": "2021-12-11T18:34:05.195Z"
   },
   {
    "duration": 19,
    "start_time": "2021-12-11T18:34:05.215Z"
   },
   {
    "duration": 9,
    "start_time": "2021-12-11T18:34:05.236Z"
   },
   {
    "duration": 49,
    "start_time": "2021-12-11T18:34:05.247Z"
   },
   {
    "duration": 2,
    "start_time": "2021-12-11T18:34:05.298Z"
   },
   {
    "duration": 22,
    "start_time": "2021-12-11T18:34:05.301Z"
   },
   {
    "duration": 10,
    "start_time": "2021-12-11T18:34:05.324Z"
   },
   {
    "duration": 23,
    "start_time": "2021-12-11T18:34:05.336Z"
   },
   {
    "duration": 289,
    "start_time": "2021-12-11T18:34:28.031Z"
   },
   {
    "duration": 536,
    "start_time": "2021-12-11T18:34:39.931Z"
   },
   {
    "duration": 400,
    "start_time": "2021-12-11T18:34:40.469Z"
   },
   {
    "duration": 16,
    "start_time": "2021-12-11T18:34:40.870Z"
   },
   {
    "duration": 9,
    "start_time": "2021-12-11T18:34:40.888Z"
   },
   {
    "duration": 7,
    "start_time": "2021-12-11T18:34:40.899Z"
   },
   {
    "duration": 6,
    "start_time": "2021-12-11T18:34:40.908Z"
   },
   {
    "duration": 8,
    "start_time": "2021-12-11T18:34:40.915Z"
   },
   {
    "duration": 23,
    "start_time": "2021-12-11T18:34:40.925Z"
   },
   {
    "duration": 6,
    "start_time": "2021-12-11T18:34:40.950Z"
   },
   {
    "duration": 36,
    "start_time": "2021-12-11T18:34:40.958Z"
   },
   {
    "duration": 11,
    "start_time": "2021-12-11T18:34:40.995Z"
   },
   {
    "duration": 19,
    "start_time": "2021-12-11T18:34:41.008Z"
   },
   {
    "duration": 8,
    "start_time": "2021-12-11T18:34:41.029Z"
   },
   {
    "duration": 8,
    "start_time": "2021-12-11T18:34:41.038Z"
   },
   {
    "duration": 99,
    "start_time": "2021-12-11T18:34:41.047Z"
   },
   {
    "duration": 78,
    "start_time": "2021-12-11T18:34:41.148Z"
   },
   {
    "duration": 63,
    "start_time": "2021-12-11T18:34:41.228Z"
   },
   {
    "duration": 24,
    "start_time": "2021-12-11T18:34:41.293Z"
   },
   {
    "duration": 14,
    "start_time": "2021-12-11T18:34:41.319Z"
   },
   {
    "duration": 19,
    "start_time": "2021-12-11T18:34:41.334Z"
   },
   {
    "duration": 40,
    "start_time": "2021-12-11T18:34:41.354Z"
   },
   {
    "duration": 16,
    "start_time": "2021-12-11T18:34:41.396Z"
   },
   {
    "duration": 14,
    "start_time": "2021-12-11T18:34:41.415Z"
   },
   {
    "duration": 80,
    "start_time": "2021-12-11T18:34:41.430Z"
   },
   {
    "duration": 27,
    "start_time": "2021-12-11T18:34:41.512Z"
   },
   {
    "duration": 30,
    "start_time": "2021-12-11T18:34:41.541Z"
   },
   {
    "duration": 36,
    "start_time": "2021-12-11T18:34:41.572Z"
   },
   {
    "duration": 21,
    "start_time": "2021-12-11T18:34:41.610Z"
   },
   {
    "duration": 37,
    "start_time": "2021-12-11T18:34:41.633Z"
   },
   {
    "duration": 33,
    "start_time": "2021-12-11T18:34:41.672Z"
   },
   {
    "duration": 3,
    "start_time": "2021-12-11T18:34:41.706Z"
   },
   {
    "duration": 23,
    "start_time": "2021-12-11T18:34:41.710Z"
   },
   {
    "duration": 30,
    "start_time": "2021-12-11T18:34:41.735Z"
   },
   {
    "duration": 28,
    "start_time": "2021-12-11T18:34:41.767Z"
   },
   {
    "duration": 616,
    "start_time": "2021-12-11T18:36:57.918Z"
   },
   {
    "duration": 721,
    "start_time": "2021-12-11T18:37:06.708Z"
   },
   {
    "duration": 388,
    "start_time": "2021-12-11T18:37:07.431Z"
   },
   {
    "duration": 16,
    "start_time": "2021-12-11T18:37:07.821Z"
   },
   {
    "duration": 8,
    "start_time": "2021-12-11T18:37:07.838Z"
   },
   {
    "duration": 8,
    "start_time": "2021-12-11T18:37:07.848Z"
   },
   {
    "duration": 5,
    "start_time": "2021-12-11T18:37:07.859Z"
   },
   {
    "duration": 9,
    "start_time": "2021-12-11T18:37:07.865Z"
   },
   {
    "duration": 28,
    "start_time": "2021-12-11T18:37:07.877Z"
   },
   {
    "duration": 7,
    "start_time": "2021-12-11T18:37:07.907Z"
   },
   {
    "duration": 16,
    "start_time": "2021-12-11T18:37:07.916Z"
   },
   {
    "duration": 8,
    "start_time": "2021-12-11T18:37:07.933Z"
   },
   {
    "duration": 18,
    "start_time": "2021-12-11T18:37:07.942Z"
   },
   {
    "duration": 31,
    "start_time": "2021-12-11T18:37:07.962Z"
   },
   {
    "duration": 13,
    "start_time": "2021-12-11T18:37:07.996Z"
   },
   {
    "duration": 80,
    "start_time": "2021-12-11T18:37:08.011Z"
   },
   {
    "duration": 77,
    "start_time": "2021-12-11T18:37:08.094Z"
   },
   {
    "duration": 67,
    "start_time": "2021-12-11T18:37:08.173Z"
   },
   {
    "duration": 24,
    "start_time": "2021-12-11T18:37:08.241Z"
   },
   {
    "duration": 31,
    "start_time": "2021-12-11T18:37:08.267Z"
   },
   {
    "duration": 27,
    "start_time": "2021-12-11T18:37:08.299Z"
   },
   {
    "duration": 20,
    "start_time": "2021-12-11T18:37:08.328Z"
   },
   {
    "duration": 23,
    "start_time": "2021-12-11T18:37:08.350Z"
   },
   {
    "duration": 24,
    "start_time": "2021-12-11T18:37:08.375Z"
   },
   {
    "duration": 59,
    "start_time": "2021-12-11T18:37:08.400Z"
   },
   {
    "duration": 34,
    "start_time": "2021-12-11T18:37:08.460Z"
   },
   {
    "duration": 30,
    "start_time": "2021-12-11T18:37:08.497Z"
   },
   {
    "duration": 19,
    "start_time": "2021-12-11T18:37:08.529Z"
   },
   {
    "duration": 43,
    "start_time": "2021-12-11T18:37:08.549Z"
   },
   {
    "duration": 21,
    "start_time": "2021-12-11T18:37:08.594Z"
   },
   {
    "duration": 18,
    "start_time": "2021-12-11T18:37:08.616Z"
   },
   {
    "duration": 2,
    "start_time": "2021-12-11T18:37:08.635Z"
   },
   {
    "duration": 7,
    "start_time": "2021-12-11T18:37:08.639Z"
   },
   {
    "duration": 6,
    "start_time": "2021-12-11T18:37:08.647Z"
   },
   {
    "duration": 7,
    "start_time": "2021-12-11T18:37:08.654Z"
   },
   {
    "duration": 770,
    "start_time": "2021-12-11T18:37:51.669Z"
   },
   {
    "duration": 527,
    "start_time": "2021-12-11T18:38:08.928Z"
   },
   {
    "duration": 382,
    "start_time": "2021-12-11T18:38:09.457Z"
   },
   {
    "duration": 15,
    "start_time": "2021-12-11T18:38:09.841Z"
   },
   {
    "duration": 5,
    "start_time": "2021-12-11T18:38:09.857Z"
   },
   {
    "duration": 7,
    "start_time": "2021-12-11T18:38:09.864Z"
   },
   {
    "duration": 7,
    "start_time": "2021-12-11T18:38:09.873Z"
   },
   {
    "duration": 9,
    "start_time": "2021-12-11T18:38:09.881Z"
   },
   {
    "duration": 20,
    "start_time": "2021-12-11T18:38:09.892Z"
   },
   {
    "duration": 6,
    "start_time": "2021-12-11T18:38:09.914Z"
   },
   {
    "duration": 15,
    "start_time": "2021-12-11T18:38:09.921Z"
   },
   {
    "duration": 8,
    "start_time": "2021-12-11T18:38:09.937Z"
   },
   {
    "duration": 18,
    "start_time": "2021-12-11T18:38:09.946Z"
   },
   {
    "duration": 28,
    "start_time": "2021-12-11T18:38:09.965Z"
   },
   {
    "duration": 7,
    "start_time": "2021-12-11T18:38:09.994Z"
   },
   {
    "duration": 72,
    "start_time": "2021-12-11T18:38:10.003Z"
   },
   {
    "duration": 66,
    "start_time": "2021-12-11T18:38:10.092Z"
   },
   {
    "duration": 62,
    "start_time": "2021-12-11T18:38:10.160Z"
   },
   {
    "duration": 23,
    "start_time": "2021-12-11T18:38:10.224Z"
   },
   {
    "duration": 14,
    "start_time": "2021-12-11T18:38:10.249Z"
   },
   {
    "duration": 30,
    "start_time": "2021-12-11T18:38:10.265Z"
   },
   {
    "duration": 20,
    "start_time": "2021-12-11T18:38:10.297Z"
   },
   {
    "duration": 16,
    "start_time": "2021-12-11T18:38:10.318Z"
   },
   {
    "duration": 15,
    "start_time": "2021-12-11T18:38:10.337Z"
   },
   {
    "duration": 924,
    "start_time": "2021-12-11T18:38:10.353Z"
   },
   {
    "duration": -54,
    "start_time": "2021-12-11T18:38:11.333Z"
   },
   {
    "duration": -88,
    "start_time": "2021-12-11T18:38:11.369Z"
   },
   {
    "duration": -93,
    "start_time": "2021-12-11T18:38:11.375Z"
   },
   {
    "duration": -111,
    "start_time": "2021-12-11T18:38:11.394Z"
   },
   {
    "duration": -115,
    "start_time": "2021-12-11T18:38:11.399Z"
   },
   {
    "duration": -120,
    "start_time": "2021-12-11T18:38:11.405Z"
   },
   {
    "duration": -137,
    "start_time": "2021-12-11T18:38:11.423Z"
   },
   {
    "duration": -138,
    "start_time": "2021-12-11T18:38:11.425Z"
   },
   {
    "duration": -140,
    "start_time": "2021-12-11T18:38:11.428Z"
   },
   {
    "duration": -144,
    "start_time": "2021-12-11T18:38:11.433Z"
   },
   {
    "duration": 50,
    "start_time": "2021-12-11T18:38:32.181Z"
   },
   {
    "duration": 52,
    "start_time": "2021-12-11T18:42:15.228Z"
   },
   {
    "duration": 27,
    "start_time": "2021-12-11T18:42:21.609Z"
   },
   {
    "duration": 31,
    "start_time": "2021-12-11T18:42:30.967Z"
   },
   {
    "duration": 20,
    "start_time": "2021-12-11T18:42:34.909Z"
   },
   {
    "duration": 177,
    "start_time": "2021-12-11T18:43:58.701Z"
   },
   {
    "duration": 20,
    "start_time": "2021-12-11T18:45:49.477Z"
   },
   {
    "duration": 19,
    "start_time": "2021-12-11T18:46:05.381Z"
   },
   {
    "duration": 23,
    "start_time": "2021-12-11T18:46:12.716Z"
   },
   {
    "duration": 20,
    "start_time": "2021-12-11T18:46:29.386Z"
   },
   {
    "duration": 20,
    "start_time": "2021-12-11T18:46:34.691Z"
   },
   {
    "duration": 25,
    "start_time": "2021-12-11T18:46:37.476Z"
   },
   {
    "duration": 21,
    "start_time": "2021-12-11T18:46:45.111Z"
   },
   {
    "duration": 19,
    "start_time": "2021-12-11T18:46:49.219Z"
   },
   {
    "duration": 21,
    "start_time": "2021-12-11T18:47:10.153Z"
   },
   {
    "duration": 582,
    "start_time": "2021-12-11T18:47:38.186Z"
   },
   {
    "duration": 413,
    "start_time": "2021-12-11T18:47:38.770Z"
   },
   {
    "duration": 15,
    "start_time": "2021-12-11T18:47:39.185Z"
   },
   {
    "duration": 29,
    "start_time": "2021-12-11T18:47:39.202Z"
   },
   {
    "duration": 23,
    "start_time": "2021-12-11T18:47:39.233Z"
   },
   {
    "duration": 31,
    "start_time": "2021-12-11T18:47:39.257Z"
   },
   {
    "duration": 53,
    "start_time": "2021-12-11T18:47:39.290Z"
   },
   {
    "duration": 42,
    "start_time": "2021-12-11T18:47:39.347Z"
   },
   {
    "duration": 20,
    "start_time": "2021-12-11T18:47:39.391Z"
   },
   {
    "duration": 44,
    "start_time": "2021-12-11T18:47:39.412Z"
   },
   {
    "duration": 30,
    "start_time": "2021-12-11T18:47:39.457Z"
   },
   {
    "duration": 49,
    "start_time": "2021-12-11T18:47:39.489Z"
   },
   {
    "duration": 16,
    "start_time": "2021-12-11T18:47:39.540Z"
   },
   {
    "duration": 25,
    "start_time": "2021-12-11T18:47:39.557Z"
   },
   {
    "duration": 85,
    "start_time": "2021-12-11T18:47:39.584Z"
   },
   {
    "duration": 74,
    "start_time": "2021-12-11T18:47:39.670Z"
   },
   {
    "duration": 88,
    "start_time": "2021-12-11T18:47:39.746Z"
   },
   {
    "duration": 30,
    "start_time": "2021-12-11T18:47:39.836Z"
   },
   {
    "duration": 31,
    "start_time": "2021-12-11T18:47:39.868Z"
   },
   {
    "duration": 22,
    "start_time": "2021-12-11T18:47:39.901Z"
   },
   {
    "duration": 22,
    "start_time": "2021-12-11T18:47:39.925Z"
   },
   {
    "duration": 16,
    "start_time": "2021-12-11T18:47:39.949Z"
   },
   {
    "duration": 34,
    "start_time": "2021-12-11T18:47:39.968Z"
   },
   {
    "duration": 84,
    "start_time": "2021-12-11T18:47:40.004Z"
   },
   {
    "duration": 29,
    "start_time": "2021-12-11T18:47:40.090Z"
   },
   {
    "duration": 33,
    "start_time": "2021-12-11T18:47:40.121Z"
   },
   {
    "duration": 44,
    "start_time": "2021-12-11T18:47:40.156Z"
   },
   {
    "duration": 38,
    "start_time": "2021-12-11T18:47:40.202Z"
   },
   {
    "duration": 20,
    "start_time": "2021-12-11T18:47:40.242Z"
   },
   {
    "duration": 17,
    "start_time": "2021-12-11T18:47:40.264Z"
   },
   {
    "duration": 3,
    "start_time": "2021-12-11T18:47:40.290Z"
   },
   {
    "duration": 10,
    "start_time": "2021-12-11T18:47:40.295Z"
   },
   {
    "duration": 5,
    "start_time": "2021-12-11T18:47:40.307Z"
   },
   {
    "duration": 19,
    "start_time": "2021-12-11T18:47:40.314Z"
   },
   {
    "duration": 20,
    "start_time": "2021-12-11T18:48:15.705Z"
   },
   {
    "duration": 241,
    "start_time": "2021-12-11T18:48:21.945Z"
   },
   {
    "duration": 523,
    "start_time": "2021-12-11T18:48:27.953Z"
   },
   {
    "duration": 406,
    "start_time": "2021-12-11T18:48:28.477Z"
   },
   {
    "duration": 15,
    "start_time": "2021-12-11T18:48:28.885Z"
   },
   {
    "duration": 22,
    "start_time": "2021-12-11T18:48:28.902Z"
   },
   {
    "duration": 24,
    "start_time": "2021-12-11T18:48:28.925Z"
   },
   {
    "duration": 17,
    "start_time": "2021-12-11T18:48:28.950Z"
   },
   {
    "duration": 24,
    "start_time": "2021-12-11T18:48:28.968Z"
   },
   {
    "duration": 36,
    "start_time": "2021-12-11T18:48:28.995Z"
   },
   {
    "duration": 18,
    "start_time": "2021-12-11T18:48:29.033Z"
   },
   {
    "duration": 31,
    "start_time": "2021-12-11T18:48:29.052Z"
   },
   {
    "duration": 29,
    "start_time": "2021-12-11T18:48:29.084Z"
   },
   {
    "duration": 31,
    "start_time": "2021-12-11T18:48:29.115Z"
   },
   {
    "duration": 19,
    "start_time": "2021-12-11T18:48:29.148Z"
   },
   {
    "duration": 28,
    "start_time": "2021-12-11T18:48:29.169Z"
   },
   {
    "duration": 83,
    "start_time": "2021-12-11T18:48:29.199Z"
   },
   {
    "duration": 70,
    "start_time": "2021-12-11T18:48:29.284Z"
   },
   {
    "duration": 56,
    "start_time": "2021-12-11T18:48:29.356Z"
   },
   {
    "duration": 24,
    "start_time": "2021-12-11T18:48:29.414Z"
   },
   {
    "duration": 15,
    "start_time": "2021-12-11T18:48:29.439Z"
   },
   {
    "duration": 36,
    "start_time": "2021-12-11T18:48:29.455Z"
   },
   {
    "duration": 21,
    "start_time": "2021-12-11T18:48:29.493Z"
   },
   {
    "duration": 16,
    "start_time": "2021-12-11T18:48:29.515Z"
   },
   {
    "duration": 15,
    "start_time": "2021-12-11T18:48:29.534Z"
   },
   {
    "duration": 81,
    "start_time": "2021-12-11T18:48:29.551Z"
   },
   {
    "duration": 29,
    "start_time": "2021-12-11T18:48:29.633Z"
   },
   {
    "duration": 55,
    "start_time": "2021-12-11T18:48:29.663Z"
   },
   {
    "duration": 19,
    "start_time": "2021-12-11T18:48:29.720Z"
   },
   {
    "duration": 21,
    "start_time": "2021-12-11T18:48:29.741Z"
   },
   {
    "duration": 39,
    "start_time": "2021-12-11T18:48:29.763Z"
   },
   {
    "duration": 16,
    "start_time": "2021-12-11T18:48:29.803Z"
   },
   {
    "duration": 3,
    "start_time": "2021-12-11T18:48:29.821Z"
   },
   {
    "duration": 13,
    "start_time": "2021-12-11T18:48:29.826Z"
   },
   {
    "duration": 14,
    "start_time": "2021-12-11T18:48:29.841Z"
   },
   {
    "duration": 17,
    "start_time": "2021-12-11T18:48:29.856Z"
   },
   {
    "duration": 21,
    "start_time": "2021-12-11T18:48:53.991Z"
   },
   {
    "duration": 20,
    "start_time": "2021-12-11T18:48:56.288Z"
   },
   {
    "duration": 558,
    "start_time": "2021-12-11T18:49:06.860Z"
   },
   {
    "duration": 411,
    "start_time": "2021-12-11T18:49:07.420Z"
   },
   {
    "duration": 17,
    "start_time": "2021-12-11T18:49:07.833Z"
   },
   {
    "duration": 5,
    "start_time": "2021-12-11T18:49:07.852Z"
   },
   {
    "duration": 7,
    "start_time": "2021-12-11T18:49:07.859Z"
   },
   {
    "duration": 5,
    "start_time": "2021-12-11T18:49:07.868Z"
   },
   {
    "duration": 9,
    "start_time": "2021-12-11T18:49:07.875Z"
   },
   {
    "duration": 20,
    "start_time": "2021-12-11T18:49:07.886Z"
   },
   {
    "duration": 6,
    "start_time": "2021-12-11T18:49:07.908Z"
   },
   {
    "duration": 15,
    "start_time": "2021-12-11T18:49:07.916Z"
   },
   {
    "duration": 8,
    "start_time": "2021-12-11T18:49:07.932Z"
   },
   {
    "duration": 18,
    "start_time": "2021-12-11T18:49:07.941Z"
   },
   {
    "duration": 31,
    "start_time": "2021-12-11T18:49:07.961Z"
   },
   {
    "duration": 6,
    "start_time": "2021-12-11T18:49:07.994Z"
   },
   {
    "duration": 70,
    "start_time": "2021-12-11T18:49:08.002Z"
   },
   {
    "duration": 88,
    "start_time": "2021-12-11T18:49:08.074Z"
   },
   {
    "duration": 69,
    "start_time": "2021-12-11T18:49:08.164Z"
   },
   {
    "duration": 25,
    "start_time": "2021-12-11T18:49:08.234Z"
   },
   {
    "duration": 16,
    "start_time": "2021-12-11T18:49:08.261Z"
   },
   {
    "duration": 31,
    "start_time": "2021-12-11T18:49:08.278Z"
   },
   {
    "duration": 21,
    "start_time": "2021-12-11T18:49:08.310Z"
   },
   {
    "duration": 16,
    "start_time": "2021-12-11T18:49:08.333Z"
   },
   {
    "duration": 45,
    "start_time": "2021-12-11T18:49:08.352Z"
   },
   {
    "duration": 58,
    "start_time": "2021-12-11T18:49:08.399Z"
   },
   {
    "duration": 53,
    "start_time": "2021-12-11T18:49:08.459Z"
   },
   {
    "duration": 30,
    "start_time": "2021-12-11T18:49:08.514Z"
   },
   {
    "duration": 18,
    "start_time": "2021-12-11T18:49:08.546Z"
   },
   {
    "duration": 42,
    "start_time": "2021-12-11T18:49:08.565Z"
   },
   {
    "duration": 18,
    "start_time": "2021-12-11T18:49:08.609Z"
   },
   {
    "duration": 17,
    "start_time": "2021-12-11T18:49:08.629Z"
   },
   {
    "duration": 2,
    "start_time": "2021-12-11T18:49:08.648Z"
   },
   {
    "duration": 6,
    "start_time": "2021-12-11T18:49:08.652Z"
   },
   {
    "duration": 33,
    "start_time": "2021-12-11T18:49:08.659Z"
   },
   {
    "duration": 6,
    "start_time": "2021-12-11T18:49:08.694Z"
   },
   {
    "duration": 18,
    "start_time": "2021-12-11T18:49:50.000Z"
   },
   {
    "duration": 20,
    "start_time": "2021-12-11T18:51:14.179Z"
   },
   {
    "duration": 282,
    "start_time": "2021-12-11T18:51:21.804Z"
   },
   {
    "duration": 534,
    "start_time": "2021-12-11T18:51:30.033Z"
   },
   {
    "duration": 419,
    "start_time": "2021-12-11T18:51:30.569Z"
   },
   {
    "duration": 18,
    "start_time": "2021-12-11T18:51:30.990Z"
   },
   {
    "duration": 10,
    "start_time": "2021-12-11T18:51:31.011Z"
   },
   {
    "duration": 12,
    "start_time": "2021-12-11T18:51:31.023Z"
   },
   {
    "duration": 11,
    "start_time": "2021-12-11T18:51:31.037Z"
   },
   {
    "duration": 21,
    "start_time": "2021-12-11T18:51:31.050Z"
   },
   {
    "duration": 22,
    "start_time": "2021-12-11T18:51:31.090Z"
   },
   {
    "duration": 13,
    "start_time": "2021-12-11T18:51:31.115Z"
   },
   {
    "duration": 35,
    "start_time": "2021-12-11T18:51:31.130Z"
   },
   {
    "duration": 30,
    "start_time": "2021-12-11T18:51:31.167Z"
   },
   {
    "duration": 35,
    "start_time": "2021-12-11T18:51:31.199Z"
   },
   {
    "duration": 15,
    "start_time": "2021-12-11T18:51:31.236Z"
   },
   {
    "duration": 22,
    "start_time": "2021-12-11T18:51:31.253Z"
   },
   {
    "duration": 88,
    "start_time": "2021-12-11T18:51:31.277Z"
   },
   {
    "duration": 76,
    "start_time": "2021-12-11T18:51:31.367Z"
   },
   {
    "duration": 61,
    "start_time": "2021-12-11T18:51:31.445Z"
   },
   {
    "duration": 26,
    "start_time": "2021-12-11T18:51:31.507Z"
   },
   {
    "duration": 17,
    "start_time": "2021-12-11T18:51:31.535Z"
   },
   {
    "duration": 40,
    "start_time": "2021-12-11T18:51:31.553Z"
   },
   {
    "duration": 21,
    "start_time": "2021-12-11T18:51:31.595Z"
   },
   {
    "duration": 21,
    "start_time": "2021-12-11T18:51:31.618Z"
   },
   {
    "duration": 30,
    "start_time": "2021-12-11T18:51:31.643Z"
   },
   {
    "duration": 74,
    "start_time": "2021-12-11T18:51:31.675Z"
   },
   {
    "duration": 28,
    "start_time": "2021-12-11T18:51:31.750Z"
   },
   {
    "duration": 35,
    "start_time": "2021-12-11T18:51:31.780Z"
   },
   {
    "duration": 16,
    "start_time": "2021-12-11T18:51:31.817Z"
   },
   {
    "duration": 26,
    "start_time": "2021-12-11T18:51:31.835Z"
   },
   {
    "duration": 37,
    "start_time": "2021-12-11T18:51:31.862Z"
   },
   {
    "duration": 21,
    "start_time": "2021-12-11T18:51:31.901Z"
   },
   {
    "duration": 2,
    "start_time": "2021-12-11T18:51:31.924Z"
   },
   {
    "duration": 13,
    "start_time": "2021-12-11T18:51:31.928Z"
   },
   {
    "duration": 24,
    "start_time": "2021-12-11T18:51:31.942Z"
   },
   {
    "duration": 17,
    "start_time": "2021-12-11T18:51:31.967Z"
   },
   {
    "duration": 238,
    "start_time": "2021-12-11T18:52:11.745Z"
   },
   {
    "duration": 563,
    "start_time": "2021-12-11T18:52:23.002Z"
   },
   {
    "duration": 416,
    "start_time": "2021-12-11T18:52:23.567Z"
   },
   {
    "duration": 17,
    "start_time": "2021-12-11T18:52:23.984Z"
   },
   {
    "duration": 6,
    "start_time": "2021-12-11T18:52:24.003Z"
   },
   {
    "duration": 8,
    "start_time": "2021-12-11T18:52:24.010Z"
   },
   {
    "duration": 7,
    "start_time": "2021-12-11T18:52:24.020Z"
   },
   {
    "duration": 14,
    "start_time": "2021-12-11T18:52:24.028Z"
   },
   {
    "duration": 20,
    "start_time": "2021-12-11T18:52:24.045Z"
   },
   {
    "duration": 7,
    "start_time": "2021-12-11T18:52:24.093Z"
   },
   {
    "duration": 16,
    "start_time": "2021-12-11T18:52:24.101Z"
   },
   {
    "duration": 9,
    "start_time": "2021-12-11T18:52:24.119Z"
   },
   {
    "duration": 18,
    "start_time": "2021-12-11T18:52:24.130Z"
   },
   {
    "duration": 7,
    "start_time": "2021-12-11T18:52:24.150Z"
   },
   {
    "duration": 35,
    "start_time": "2021-12-11T18:52:24.158Z"
   },
   {
    "duration": 70,
    "start_time": "2021-12-11T18:52:24.195Z"
   },
   {
    "duration": 85,
    "start_time": "2021-12-11T18:52:24.266Z"
   },
   {
    "duration": 66,
    "start_time": "2021-12-11T18:52:24.353Z"
   },
   {
    "duration": 26,
    "start_time": "2021-12-11T18:52:24.421Z"
   },
   {
    "duration": 15,
    "start_time": "2021-12-11T18:52:24.448Z"
   },
   {
    "duration": 35,
    "start_time": "2021-12-11T18:52:24.464Z"
   },
   {
    "duration": 21,
    "start_time": "2021-12-11T18:52:24.500Z"
   },
   {
    "duration": 16,
    "start_time": "2021-12-11T18:52:24.523Z"
   },
   {
    "duration": 15,
    "start_time": "2021-12-11T18:52:24.542Z"
   },
   {
    "duration": 85,
    "start_time": "2021-12-11T18:52:24.559Z"
   },
   {
    "duration": 28,
    "start_time": "2021-12-11T18:52:24.646Z"
   },
   {
    "duration": 47,
    "start_time": "2021-12-11T18:52:24.675Z"
   },
   {
    "duration": 19,
    "start_time": "2021-12-11T18:52:24.723Z"
   },
   {
    "duration": 19,
    "start_time": "2021-12-11T18:52:24.743Z"
   },
   {
    "duration": 42,
    "start_time": "2021-12-11T18:52:24.764Z"
   },
   {
    "duration": 13,
    "start_time": "2021-12-11T18:52:24.808Z"
   },
   {
    "duration": 2,
    "start_time": "2021-12-11T18:52:24.823Z"
   },
   {
    "duration": 5,
    "start_time": "2021-12-11T18:52:24.826Z"
   },
   {
    "duration": 4,
    "start_time": "2021-12-11T18:52:24.833Z"
   },
   {
    "duration": 5,
    "start_time": "2021-12-11T18:52:24.838Z"
   },
   {
    "duration": 257,
    "start_time": "2021-12-11T18:52:50.256Z"
   },
   {
    "duration": 584,
    "start_time": "2021-12-11T18:52:56.458Z"
   },
   {
    "duration": 435,
    "start_time": "2021-12-11T18:52:57.044Z"
   },
   {
    "duration": 17,
    "start_time": "2021-12-11T18:52:57.481Z"
   },
   {
    "duration": 6,
    "start_time": "2021-12-11T18:52:57.499Z"
   },
   {
    "duration": 8,
    "start_time": "2021-12-11T18:52:57.506Z"
   },
   {
    "duration": 6,
    "start_time": "2021-12-11T18:52:57.516Z"
   },
   {
    "duration": 9,
    "start_time": "2021-12-11T18:52:57.524Z"
   },
   {
    "duration": 20,
    "start_time": "2021-12-11T18:52:57.535Z"
   },
   {
    "duration": 36,
    "start_time": "2021-12-11T18:52:57.557Z"
   },
   {
    "duration": 16,
    "start_time": "2021-12-11T18:52:57.594Z"
   },
   {
    "duration": 8,
    "start_time": "2021-12-11T18:52:57.612Z"
   },
   {
    "duration": 18,
    "start_time": "2021-12-11T18:52:57.621Z"
   },
   {
    "duration": 7,
    "start_time": "2021-12-11T18:52:57.640Z"
   },
   {
    "duration": 8,
    "start_time": "2021-12-11T18:52:57.648Z"
   },
   {
    "duration": 102,
    "start_time": "2021-12-11T18:52:57.658Z"
   },
   {
    "duration": 85,
    "start_time": "2021-12-11T18:52:57.761Z"
   },
   {
    "duration": 56,
    "start_time": "2021-12-11T18:52:57.847Z"
   },
   {
    "duration": 24,
    "start_time": "2021-12-11T18:52:57.904Z"
   },
   {
    "duration": 14,
    "start_time": "2021-12-11T18:52:57.929Z"
   },
   {
    "duration": 17,
    "start_time": "2021-12-11T18:52:57.945Z"
   },
   {
    "duration": 44,
    "start_time": "2021-12-11T18:52:57.964Z"
   },
   {
    "duration": 17,
    "start_time": "2021-12-11T18:52:58.010Z"
   },
   {
    "duration": 15,
    "start_time": "2021-12-11T18:52:58.030Z"
   },
   {
    "duration": 77,
    "start_time": "2021-12-11T18:52:58.046Z"
   },
   {
    "duration": 26,
    "start_time": "2021-12-11T18:52:58.124Z"
   },
   {
    "duration": 45,
    "start_time": "2021-12-11T18:52:58.152Z"
   },
   {
    "duration": 19,
    "start_time": "2021-12-11T18:52:58.199Z"
   },
   {
    "duration": 20,
    "start_time": "2021-12-11T18:52:58.219Z"
   },
   {
    "duration": 20,
    "start_time": "2021-12-11T18:52:58.240Z"
   },
   {
    "duration": 39,
    "start_time": "2021-12-11T18:52:58.262Z"
   },
   {
    "duration": 2,
    "start_time": "2021-12-11T18:52:58.302Z"
   },
   {
    "duration": 5,
    "start_time": "2021-12-11T18:52:58.306Z"
   },
   {
    "duration": 22,
    "start_time": "2021-12-11T18:52:58.312Z"
   },
   {
    "duration": 20,
    "start_time": "2021-12-11T18:52:58.336Z"
   },
   {
    "duration": 239,
    "start_time": "2021-12-11T18:53:14.046Z"
   },
   {
    "duration": 590,
    "start_time": "2021-12-11T18:53:27.380Z"
   },
   {
    "duration": 415,
    "start_time": "2021-12-11T18:53:27.973Z"
   },
   {
    "duration": 17,
    "start_time": "2021-12-11T18:53:28.390Z"
   },
   {
    "duration": 6,
    "start_time": "2021-12-11T18:53:28.409Z"
   },
   {
    "duration": 7,
    "start_time": "2021-12-11T18:53:28.417Z"
   },
   {
    "duration": 7,
    "start_time": "2021-12-11T18:53:28.425Z"
   },
   {
    "duration": 13,
    "start_time": "2021-12-11T18:53:28.434Z"
   },
   {
    "duration": 43,
    "start_time": "2021-12-11T18:53:28.450Z"
   },
   {
    "duration": 8,
    "start_time": "2021-12-11T18:53:28.495Z"
   },
   {
    "duration": 18,
    "start_time": "2021-12-11T18:53:28.504Z"
   },
   {
    "duration": 8,
    "start_time": "2021-12-11T18:53:28.524Z"
   },
   {
    "duration": 18,
    "start_time": "2021-12-11T18:53:28.534Z"
   },
   {
    "duration": 41,
    "start_time": "2021-12-11T18:53:28.554Z"
   },
   {
    "duration": 7,
    "start_time": "2021-12-11T18:53:28.597Z"
   },
   {
    "duration": 86,
    "start_time": "2021-12-11T18:53:28.606Z"
   },
   {
    "duration": 78,
    "start_time": "2021-12-11T18:53:28.693Z"
   },
   {
    "duration": 62,
    "start_time": "2021-12-11T18:53:28.773Z"
   },
   {
    "duration": 25,
    "start_time": "2021-12-11T18:53:28.838Z"
   },
   {
    "duration": 32,
    "start_time": "2021-12-11T18:53:28.864Z"
   },
   {
    "duration": 19,
    "start_time": "2021-12-11T18:53:28.897Z"
   },
   {
    "duration": 20,
    "start_time": "2021-12-11T18:53:28.918Z"
   },
   {
    "duration": 17,
    "start_time": "2021-12-11T18:53:28.940Z"
   },
   {
    "duration": 45,
    "start_time": "2021-12-11T18:53:28.961Z"
   },
   {
    "duration": 56,
    "start_time": "2021-12-11T18:53:29.008Z"
   },
   {
    "duration": 49,
    "start_time": "2021-12-11T18:53:29.066Z"
   },
   {
    "duration": 30,
    "start_time": "2021-12-11T18:53:29.118Z"
   },
   {
    "duration": 17,
    "start_time": "2021-12-11T18:53:29.150Z"
   },
   {
    "duration": 19,
    "start_time": "2021-12-11T18:53:29.192Z"
   },
   {
    "duration": 17,
    "start_time": "2021-12-11T18:53:29.213Z"
   },
   {
    "duration": 14,
    "start_time": "2021-12-11T18:53:29.232Z"
   },
   {
    "duration": 2,
    "start_time": "2021-12-11T18:53:29.247Z"
   },
   {
    "duration": 4,
    "start_time": "2021-12-11T18:53:29.251Z"
   },
   {
    "duration": 5,
    "start_time": "2021-12-11T18:53:29.257Z"
   },
   {
    "duration": 19,
    "start_time": "2021-12-11T18:53:29.296Z"
   },
   {
    "duration": 42,
    "start_time": "2021-12-11T18:59:13.581Z"
   },
   {
    "duration": 40,
    "start_time": "2021-12-11T18:59:24.154Z"
   },
   {
    "duration": 39,
    "start_time": "2021-12-11T19:00:00.285Z"
   },
   {
    "duration": 22,
    "start_time": "2021-12-11T19:00:18.435Z"
   },
   {
    "duration": 25,
    "start_time": "2021-12-11T19:00:49.414Z"
   },
   {
    "duration": 14,
    "start_time": "2021-12-11T19:00:56.604Z"
   },
   {
    "duration": 18,
    "start_time": "2021-12-11T19:03:33.009Z"
   },
   {
    "duration": 25,
    "start_time": "2021-12-11T19:04:08.556Z"
   },
   {
    "duration": 25,
    "start_time": "2021-12-11T19:04:32.565Z"
   },
   {
    "duration": 554,
    "start_time": "2021-12-11T19:06:45.821Z"
   },
   {
    "duration": 409,
    "start_time": "2021-12-11T19:06:46.377Z"
   },
   {
    "duration": 15,
    "start_time": "2021-12-11T19:06:46.788Z"
   },
   {
    "duration": 6,
    "start_time": "2021-12-11T19:06:46.805Z"
   },
   {
    "duration": 8,
    "start_time": "2021-12-11T19:06:46.813Z"
   },
   {
    "duration": 7,
    "start_time": "2021-12-11T19:06:46.822Z"
   },
   {
    "duration": 10,
    "start_time": "2021-12-11T19:06:46.830Z"
   },
   {
    "duration": 21,
    "start_time": "2021-12-11T19:06:46.842Z"
   },
   {
    "duration": 8,
    "start_time": "2021-12-11T19:06:46.891Z"
   },
   {
    "duration": 17,
    "start_time": "2021-12-11T19:06:46.900Z"
   },
   {
    "duration": 9,
    "start_time": "2021-12-11T19:06:46.920Z"
   },
   {
    "duration": 17,
    "start_time": "2021-12-11T19:06:46.931Z"
   },
   {
    "duration": 7,
    "start_time": "2021-12-11T19:06:46.949Z"
   },
   {
    "duration": 38,
    "start_time": "2021-12-11T19:06:46.958Z"
   },
   {
    "duration": 70,
    "start_time": "2021-12-11T19:06:46.998Z"
   },
   {
    "duration": 85,
    "start_time": "2021-12-11T19:06:47.070Z"
   },
   {
    "duration": 66,
    "start_time": "2021-12-11T19:06:47.157Z"
   },
   {
    "duration": 26,
    "start_time": "2021-12-11T19:06:47.224Z"
   },
   {
    "duration": 15,
    "start_time": "2021-12-11T19:06:47.252Z"
   },
   {
    "duration": 34,
    "start_time": "2021-12-11T19:06:47.269Z"
   },
   {
    "duration": 21,
    "start_time": "2021-12-11T19:06:47.305Z"
   },
   {
    "duration": 16,
    "start_time": "2021-12-11T19:06:47.328Z"
   },
   {
    "duration": 15,
    "start_time": "2021-12-11T19:06:47.347Z"
   },
   {
    "duration": 85,
    "start_time": "2021-12-11T19:06:47.364Z"
   },
   {
    "duration": 27,
    "start_time": "2021-12-11T19:06:47.450Z"
   },
   {
    "duration": 44,
    "start_time": "2021-12-11T19:06:47.478Z"
   },
   {
    "duration": 22,
    "start_time": "2021-12-11T19:06:47.524Z"
   },
   {
    "duration": 2,
    "start_time": "2021-12-11T19:06:47.548Z"
   },
   {
    "duration": 5,
    "start_time": "2021-12-11T19:06:47.551Z"
   },
   {
    "duration": 5,
    "start_time": "2021-12-11T19:06:47.558Z"
   },
   {
    "duration": 6,
    "start_time": "2021-12-11T19:06:47.565Z"
   },
   {
    "duration": 574,
    "start_time": "2021-12-11T19:15:52.964Z"
   },
   {
    "duration": 408,
    "start_time": "2021-12-11T19:15:53.539Z"
   },
   {
    "duration": 16,
    "start_time": "2021-12-11T19:15:53.948Z"
   },
   {
    "duration": 31,
    "start_time": "2021-12-11T19:15:53.966Z"
   },
   {
    "duration": 7,
    "start_time": "2021-12-11T19:15:53.999Z"
   },
   {
    "duration": 19,
    "start_time": "2021-12-11T19:15:54.008Z"
   },
   {
    "duration": 12,
    "start_time": "2021-12-11T19:15:54.029Z"
   },
   {
    "duration": 32,
    "start_time": "2021-12-11T19:15:54.042Z"
   },
   {
    "duration": 7,
    "start_time": "2021-12-11T19:15:54.076Z"
   },
   {
    "duration": 23,
    "start_time": "2021-12-11T19:15:54.085Z"
   },
   {
    "duration": 22,
    "start_time": "2021-12-11T19:15:54.109Z"
   },
   {
    "duration": 23,
    "start_time": "2021-12-11T19:15:54.132Z"
   },
   {
    "duration": 7,
    "start_time": "2021-12-11T19:15:54.156Z"
   },
   {
    "duration": 13,
    "start_time": "2021-12-11T19:15:54.164Z"
   },
   {
    "duration": 93,
    "start_time": "2021-12-11T19:15:54.179Z"
   },
   {
    "duration": 73,
    "start_time": "2021-12-11T19:15:54.273Z"
   },
   {
    "duration": 54,
    "start_time": "2021-12-11T19:15:54.348Z"
   },
   {
    "duration": 24,
    "start_time": "2021-12-11T19:15:54.404Z"
   },
   {
    "duration": 14,
    "start_time": "2021-12-11T19:15:54.430Z"
   },
   {
    "duration": 22,
    "start_time": "2021-12-11T19:15:54.446Z"
   },
   {
    "duration": 42,
    "start_time": "2021-12-11T19:15:54.469Z"
   },
   {
    "duration": 17,
    "start_time": "2021-12-11T19:15:54.513Z"
   },
   {
    "duration": 18,
    "start_time": "2021-12-11T19:15:54.532Z"
   },
   {
    "duration": 85,
    "start_time": "2021-12-11T19:15:54.552Z"
   },
   {
    "duration": 24,
    "start_time": "2021-12-11T19:15:54.639Z"
   },
   {
    "duration": 49,
    "start_time": "2021-12-11T19:15:54.665Z"
   },
   {
    "duration": 22,
    "start_time": "2021-12-11T19:15:54.718Z"
   },
   {
    "duration": 31,
    "start_time": "2021-12-11T19:15:54.741Z"
   },
   {
    "duration": 10,
    "start_time": "2021-12-11T19:15:54.773Z"
   },
   {
    "duration": 18,
    "start_time": "2021-12-11T19:15:54.785Z"
   },
   {
    "duration": 25,
    "start_time": "2021-12-11T19:15:54.805Z"
   },
   {
    "duration": 536,
    "start_time": "2021-12-11T19:17:56.455Z"
   },
   {
    "duration": 435,
    "start_time": "2021-12-11T19:17:56.993Z"
   },
   {
    "duration": 17,
    "start_time": "2021-12-11T19:17:57.431Z"
   },
   {
    "duration": 21,
    "start_time": "2021-12-11T19:17:57.450Z"
   },
   {
    "duration": 14,
    "start_time": "2021-12-11T19:17:57.473Z"
   },
   {
    "duration": 20,
    "start_time": "2021-12-11T19:17:57.488Z"
   },
   {
    "duration": 34,
    "start_time": "2021-12-11T19:17:57.509Z"
   },
   {
    "duration": 38,
    "start_time": "2021-12-11T19:17:57.545Z"
   },
   {
    "duration": 7,
    "start_time": "2021-12-11T19:17:57.585Z"
   },
   {
    "duration": 19,
    "start_time": "2021-12-11T19:17:57.593Z"
   },
   {
    "duration": 13,
    "start_time": "2021-12-11T19:17:57.613Z"
   },
   {
    "duration": 18,
    "start_time": "2021-12-11T19:17:57.628Z"
   },
   {
    "duration": 6,
    "start_time": "2021-12-11T19:17:57.648Z"
   },
   {
    "duration": 12,
    "start_time": "2021-12-11T19:17:57.656Z"
   },
   {
    "duration": 85,
    "start_time": "2021-12-11T19:17:57.669Z"
   },
   {
    "duration": 88,
    "start_time": "2021-12-11T19:17:57.756Z"
   },
   {
    "duration": 64,
    "start_time": "2021-12-11T19:17:57.846Z"
   },
   {
    "duration": 25,
    "start_time": "2021-12-11T19:17:57.912Z"
   },
   {
    "duration": 15,
    "start_time": "2021-12-11T19:17:57.938Z"
   },
   {
    "duration": 36,
    "start_time": "2021-12-11T19:17:57.955Z"
   },
   {
    "duration": 18,
    "start_time": "2021-12-11T19:17:57.994Z"
   },
   {
    "duration": 77,
    "start_time": "2021-12-11T19:17:58.014Z"
   },
   {
    "duration": 28,
    "start_time": "2021-12-11T19:17:58.096Z"
   },
   {
    "duration": 27,
    "start_time": "2021-12-11T19:17:58.126Z"
   },
   {
    "duration": 50,
    "start_time": "2021-12-11T19:17:58.155Z"
   },
   {
    "duration": 2,
    "start_time": "2021-12-11T19:17:58.207Z"
   },
   {
    "duration": 5,
    "start_time": "2021-12-11T19:17:58.211Z"
   },
   {
    "duration": 4,
    "start_time": "2021-12-11T19:17:58.218Z"
   },
   {
    "duration": 7,
    "start_time": "2021-12-11T19:17:58.223Z"
   },
   {
    "duration": 8,
    "start_time": "2021-12-11T19:20:03.987Z"
   },
   {
    "duration": 62,
    "start_time": "2021-12-11T19:29:14.025Z"
   },
   {
    "duration": 23,
    "start_time": "2021-12-11T19:30:14.942Z"
   },
   {
    "duration": 60,
    "start_time": "2021-12-11T19:32:11.552Z"
   },
   {
    "duration": 59,
    "start_time": "2021-12-11T19:32:17.923Z"
   },
   {
    "duration": 66,
    "start_time": "2021-12-11T19:32:21.633Z"
   },
   {
    "duration": 23,
    "start_time": "2021-12-11T19:32:34.636Z"
   },
   {
    "duration": 58,
    "start_time": "2021-12-11T19:34:22.418Z"
   },
   {
    "duration": 60,
    "start_time": "2021-12-11T19:34:55.856Z"
   },
   {
    "duration": 58,
    "start_time": "2021-12-11T19:35:14.687Z"
   },
   {
    "duration": 23,
    "start_time": "2021-12-11T19:35:39.833Z"
   },
   {
    "duration": 5,
    "start_time": "2021-12-11T19:37:03.897Z"
   },
   {
    "duration": 18,
    "start_time": "2021-12-11T19:37:26.692Z"
   },
   {
    "duration": 11,
    "start_time": "2021-12-11T19:37:40.540Z"
   },
   {
    "duration": 12,
    "start_time": "2021-12-11T19:38:42.674Z"
   },
   {
    "duration": 13,
    "start_time": "2021-12-11T19:39:18.067Z"
   },
   {
    "duration": 303,
    "start_time": "2021-12-11T19:43:56.411Z"
   },
   {
    "duration": 339,
    "start_time": "2021-12-11T19:45:10.879Z"
   },
   {
    "duration": 225,
    "start_time": "2021-12-11T19:45:30.473Z"
   },
   {
    "duration": 266,
    "start_time": "2021-12-11T19:46:19.564Z"
   },
   {
    "duration": 215,
    "start_time": "2021-12-11T19:47:13.567Z"
   },
   {
    "duration": 4,
    "start_time": "2021-12-11T19:53:14.100Z"
   },
   {
    "duration": 187,
    "start_time": "2021-12-11T19:53:22.882Z"
   },
   {
    "duration": 182,
    "start_time": "2021-12-11T19:54:45.372Z"
   },
   {
    "duration": 219,
    "start_time": "2021-12-11T19:55:56.872Z"
   },
   {
    "duration": 204,
    "start_time": "2021-12-11T19:56:10.094Z"
   },
   {
    "duration": 207,
    "start_time": "2021-12-11T19:56:18.064Z"
   },
   {
    "duration": 206,
    "start_time": "2021-12-11T19:58:14.829Z"
   },
   {
    "duration": 201,
    "start_time": "2021-12-11T19:58:19.922Z"
   },
   {
    "duration": 217,
    "start_time": "2021-12-11T19:59:24.188Z"
   },
   {
    "duration": 242,
    "start_time": "2021-12-11T20:01:09.978Z"
   },
   {
    "duration": 268,
    "start_time": "2021-12-11T20:05:01.309Z"
   },
   {
    "duration": 204,
    "start_time": "2021-12-11T20:09:02.141Z"
   },
   {
    "duration": 459,
    "start_time": "2021-12-13T11:36:23.951Z"
   },
   {
    "duration": 685,
    "start_time": "2021-12-13T11:36:49.448Z"
   },
   {
    "duration": 414,
    "start_time": "2021-12-13T11:36:50.135Z"
   },
   {
    "duration": 12,
    "start_time": "2021-12-13T11:36:50.551Z"
   },
   {
    "duration": 7,
    "start_time": "2021-12-13T11:36:50.565Z"
   },
   {
    "duration": 6,
    "start_time": "2021-12-13T11:36:50.574Z"
   },
   {
    "duration": 6,
    "start_time": "2021-12-13T11:36:50.582Z"
   },
   {
    "duration": 12,
    "start_time": "2021-12-13T11:36:50.589Z"
   },
   {
    "duration": 22,
    "start_time": "2021-12-13T11:36:50.604Z"
   },
   {
    "duration": 46,
    "start_time": "2021-12-13T11:36:50.629Z"
   },
   {
    "duration": 8,
    "start_time": "2021-12-13T11:36:50.677Z"
   },
   {
    "duration": 16,
    "start_time": "2021-12-13T11:36:50.687Z"
   },
   {
    "duration": 9,
    "start_time": "2021-12-13T11:36:50.705Z"
   },
   {
    "duration": 19,
    "start_time": "2021-12-13T11:36:50.716Z"
   },
   {
    "duration": 15,
    "start_time": "2021-12-13T11:36:50.764Z"
   },
   {
    "duration": 8,
    "start_time": "2021-12-13T11:36:50.781Z"
   },
   {
    "duration": 9,
    "start_time": "2021-12-13T11:36:50.790Z"
   },
   {
    "duration": 98,
    "start_time": "2021-12-13T11:36:50.800Z"
   },
   {
    "duration": 77,
    "start_time": "2021-12-13T11:36:50.900Z"
   },
   {
    "duration": 58,
    "start_time": "2021-12-13T11:36:50.979Z"
   },
   {
    "duration": 32,
    "start_time": "2021-12-13T11:36:51.039Z"
   },
   {
    "duration": 15,
    "start_time": "2021-12-13T11:36:51.073Z"
   },
   {
    "duration": 18,
    "start_time": "2021-12-13T11:36:51.090Z"
   },
   {
    "duration": 14,
    "start_time": "2021-12-13T11:36:51.111Z"
   },
   {
    "duration": 82,
    "start_time": "2021-12-13T11:36:51.126Z"
   },
   {
    "duration": 217,
    "start_time": "2021-12-13T11:36:51.209Z"
   },
   {
    "duration": 35,
    "start_time": "2021-12-13T11:36:51.428Z"
   },
   {
    "duration": 29,
    "start_time": "2021-12-13T11:36:51.465Z"
   },
   {
    "duration": 24,
    "start_time": "2021-12-13T11:36:51.495Z"
   },
   {
    "duration": 6,
    "start_time": "2021-12-13T11:36:51.521Z"
   },
   {
    "duration": 10,
    "start_time": "2021-12-13T11:40:27.369Z"
   },
   {
    "duration": 32,
    "start_time": "2021-12-13T11:40:43.879Z"
   },
   {
    "duration": 8,
    "start_time": "2021-12-13T11:41:06.603Z"
   },
   {
    "duration": 26,
    "start_time": "2021-12-13T11:41:30.282Z"
   },
   {
    "duration": 22,
    "start_time": "2021-12-13T11:44:03.698Z"
   },
   {
    "duration": 8,
    "start_time": "2021-12-13T11:44:18.300Z"
   },
   {
    "duration": 26,
    "start_time": "2021-12-13T11:44:23.428Z"
   },
   {
    "duration": 777,
    "start_time": "2021-12-13T11:45:17.828Z"
   },
   {
    "duration": 306,
    "start_time": "2021-12-13T11:45:33.030Z"
   },
   {
    "duration": 21,
    "start_time": "2021-12-13T11:46:11.728Z"
   },
   {
    "duration": 634,
    "start_time": "2021-12-13T11:46:17.891Z"
   },
   {
    "duration": 411,
    "start_time": "2021-12-13T11:46:18.527Z"
   },
   {
    "duration": 13,
    "start_time": "2021-12-13T11:46:18.940Z"
   },
   {
    "duration": 20,
    "start_time": "2021-12-13T11:46:18.955Z"
   },
   {
    "duration": 17,
    "start_time": "2021-12-13T11:46:18.977Z"
   },
   {
    "duration": 24,
    "start_time": "2021-12-13T11:46:18.996Z"
   },
   {
    "duration": 26,
    "start_time": "2021-12-13T11:46:19.022Z"
   },
   {
    "duration": 36,
    "start_time": "2021-12-13T11:46:19.050Z"
   },
   {
    "duration": 18,
    "start_time": "2021-12-13T11:46:19.088Z"
   },
   {
    "duration": 6,
    "start_time": "2021-12-13T11:46:19.108Z"
   },
   {
    "duration": 27,
    "start_time": "2021-12-13T11:46:19.116Z"
   },
   {
    "duration": 8,
    "start_time": "2021-12-13T11:46:19.145Z"
   },
   {
    "duration": 24,
    "start_time": "2021-12-13T11:46:19.154Z"
   },
   {
    "duration": 11,
    "start_time": "2021-12-13T11:46:19.180Z"
   },
   {
    "duration": 7,
    "start_time": "2021-12-13T11:46:19.193Z"
   },
   {
    "duration": 8,
    "start_time": "2021-12-13T11:46:19.202Z"
   },
   {
    "duration": 96,
    "start_time": "2021-12-13T11:46:19.211Z"
   },
   {
    "duration": 75,
    "start_time": "2021-12-13T11:46:19.309Z"
   },
   {
    "duration": 55,
    "start_time": "2021-12-13T11:46:19.386Z"
   },
   {
    "duration": 4,
    "start_time": "2021-12-13T11:46:19.443Z"
   },
   {
    "duration": 32,
    "start_time": "2021-12-13T11:46:19.448Z"
   },
   {
    "duration": 14,
    "start_time": "2021-12-13T11:46:19.482Z"
   },
   {
    "duration": 18,
    "start_time": "2021-12-13T11:46:19.499Z"
   },
   {
    "duration": 13,
    "start_time": "2021-12-13T11:46:19.519Z"
   },
   {
    "duration": 76,
    "start_time": "2021-12-13T11:46:19.534Z"
   },
   {
    "duration": 212,
    "start_time": "2021-12-13T11:46:19.611Z"
   },
   {
    "duration": 24,
    "start_time": "2021-12-13T11:46:19.824Z"
   },
   {
    "duration": 34,
    "start_time": "2021-12-13T11:46:19.850Z"
   },
   {
    "duration": 22,
    "start_time": "2021-12-13T11:46:19.886Z"
   },
   {
    "duration": 327,
    "start_time": "2021-12-13T11:46:19.909Z"
   },
   {
    "duration": -20,
    "start_time": "2021-12-13T11:46:20.258Z"
   },
   {
    "duration": 20,
    "start_time": "2021-12-13T11:46:41.220Z"
   },
   {
    "duration": 8,
    "start_time": "2021-12-13T11:48:49.573Z"
   },
   {
    "duration": 301,
    "start_time": "2021-12-13T12:31:19.663Z"
   },
   {
    "duration": 689,
    "start_time": "2021-12-13T12:31:42.259Z"
   },
   {
    "duration": 440,
    "start_time": "2021-12-13T12:31:42.950Z"
   },
   {
    "duration": 14,
    "start_time": "2021-12-13T12:31:43.392Z"
   },
   {
    "duration": 7,
    "start_time": "2021-12-13T12:31:43.409Z"
   },
   {
    "duration": 7,
    "start_time": "2021-12-13T12:31:43.418Z"
   },
   {
    "duration": 5,
    "start_time": "2021-12-13T12:31:43.427Z"
   },
   {
    "duration": 11,
    "start_time": "2021-12-13T12:31:43.434Z"
   },
   {
    "duration": 29,
    "start_time": "2021-12-13T12:31:43.448Z"
   },
   {
    "duration": 22,
    "start_time": "2021-12-13T12:31:43.480Z"
   },
   {
    "duration": 10,
    "start_time": "2021-12-13T12:31:43.504Z"
   },
   {
    "duration": 18,
    "start_time": "2021-12-13T12:31:43.516Z"
   },
   {
    "duration": 11,
    "start_time": "2021-12-13T12:31:43.564Z"
   },
   {
    "duration": 20,
    "start_time": "2021-12-13T12:31:43.578Z"
   },
   {
    "duration": 16,
    "start_time": "2021-12-13T12:31:43.600Z"
   },
   {
    "duration": 47,
    "start_time": "2021-12-13T12:31:43.618Z"
   },
   {
    "duration": 10,
    "start_time": "2021-12-13T12:31:43.667Z"
   },
   {
    "duration": 85,
    "start_time": "2021-12-13T12:31:43.679Z"
   },
   {
    "duration": 76,
    "start_time": "2021-12-13T12:31:43.767Z"
   },
   {
    "duration": 68,
    "start_time": "2021-12-13T12:31:43.845Z"
   },
   {
    "duration": 5,
    "start_time": "2021-12-13T12:31:43.915Z"
   },
   {
    "duration": 45,
    "start_time": "2021-12-13T12:31:43.922Z"
   },
   {
    "duration": 21,
    "start_time": "2021-12-13T12:31:43.969Z"
   },
   {
    "duration": 19,
    "start_time": "2021-12-13T12:31:43.994Z"
   },
   {
    "duration": 15,
    "start_time": "2021-12-13T12:31:44.015Z"
   },
   {
    "duration": 91,
    "start_time": "2021-12-13T12:31:44.032Z"
   },
   {
    "duration": 263,
    "start_time": "2021-12-13T12:31:44.125Z"
   },
   {
    "duration": 27,
    "start_time": "2021-12-13T12:31:44.390Z"
   },
   {
    "duration": 50,
    "start_time": "2021-12-13T12:31:44.418Z"
   },
   {
    "duration": 24,
    "start_time": "2021-12-13T12:31:44.470Z"
   },
   {
    "duration": 21,
    "start_time": "2021-12-13T12:31:44.496Z"
   },
   {
    "duration": 308,
    "start_time": "2021-12-13T12:31:44.519Z"
   },
   {
    "duration": 13,
    "start_time": "2021-12-13T12:33:03.392Z"
   },
   {
    "duration": 6,
    "start_time": "2021-12-13T12:33:13.811Z"
   },
   {
    "duration": 18,
    "start_time": "2021-12-13T12:34:15.180Z"
   },
   {
    "duration": 4,
    "start_time": "2021-12-13T12:47:45.723Z"
   },
   {
    "duration": 3,
    "start_time": "2021-12-13T12:48:41.313Z"
   },
   {
    "duration": 398,
    "start_time": "2021-12-13T12:51:29.427Z"
   },
   {
    "duration": 5,
    "start_time": "2021-12-13T12:52:04.195Z"
   },
   {
    "duration": 17,
    "start_time": "2021-12-13T12:52:04.729Z"
   },
   {
    "duration": 412,
    "start_time": "2021-12-13T12:52:06.713Z"
   },
   {
    "duration": 443,
    "start_time": "2021-12-13T12:53:42.565Z"
   },
   {
    "duration": 48,
    "start_time": "2021-12-13T12:56:42.362Z"
   },
   {
    "duration": 474,
    "start_time": "2021-12-13T12:56:45.448Z"
   },
   {
    "duration": 92,
    "start_time": "2021-12-13T12:56:58.964Z"
   },
   {
    "duration": 92,
    "start_time": "2021-12-13T12:58:30.245Z"
   },
   {
    "duration": 19,
    "start_time": "2021-12-13T12:58:34.398Z"
   },
   {
    "duration": 6318,
    "start_time": "2021-12-13T13:00:20.318Z"
   },
   {
    "duration": 7,
    "start_time": "2021-12-13T13:00:30.277Z"
   },
   {
    "duration": 153,
    "start_time": "2021-12-13T13:00:32.103Z"
   },
   {
    "duration": 26,
    "start_time": "2021-12-13T13:00:32.718Z"
   },
   {
    "duration": 87,
    "start_time": "2021-12-13T13:30:06.984Z"
   },
   {
    "duration": 87,
    "start_time": "2021-12-13T13:30:13.231Z"
   },
   {
    "duration": 90,
    "start_time": "2021-12-13T13:30:21.086Z"
   },
   {
    "duration": 261,
    "start_time": "2021-12-13T13:31:45.479Z"
   },
   {
    "duration": 284,
    "start_time": "2021-12-13T13:32:02.538Z"
   },
   {
    "duration": 255,
    "start_time": "2021-12-13T13:33:09.324Z"
   },
   {
    "duration": 238,
    "start_time": "2021-12-13T13:33:22.638Z"
   },
   {
    "duration": 11,
    "start_time": "2021-12-13T13:33:33.531Z"
   },
   {
    "duration": 17,
    "start_time": "2021-12-13T13:33:45.395Z"
   },
   {
    "duration": 17,
    "start_time": "2021-12-13T13:38:04.782Z"
   },
   {
    "duration": 89,
    "start_time": "2021-12-13T13:53:43.961Z"
   },
   {
    "duration": 2,
    "start_time": "2021-12-13T13:54:44.700Z"
   },
   {
    "duration": 39,
    "start_time": "2021-12-13T13:59:38.332Z"
   },
   {
    "duration": 84,
    "start_time": "2021-12-13T14:03:21.736Z"
   },
   {
    "duration": 40,
    "start_time": "2021-12-13T14:03:25.686Z"
   },
   {
    "duration": 5,
    "start_time": "2021-12-13T14:04:55.074Z"
   },
   {
    "duration": 254,
    "start_time": "2021-12-13T14:05:05.354Z"
   },
   {
    "duration": 6942,
    "start_time": "2021-12-13T14:05:14.295Z"
   },
   {
    "duration": 7775,
    "start_time": "2021-12-13T14:05:31.856Z"
   },
   {
    "duration": 6,
    "start_time": "2021-12-13T14:05:42.310Z"
   },
   {
    "duration": 5,
    "start_time": "2021-12-13T14:06:25.366Z"
   },
   {
    "duration": 6,
    "start_time": "2021-12-13T14:07:07.012Z"
   },
   {
    "duration": 6,
    "start_time": "2021-12-13T14:07:49.685Z"
   },
   {
    "duration": 336,
    "start_time": "2021-12-13T14:13:19.794Z"
   },
   {
    "duration": 14,
    "start_time": "2021-12-13T14:13:52.889Z"
   },
   {
    "duration": 18,
    "start_time": "2021-12-13T14:13:57.440Z"
   },
   {
    "duration": 20,
    "start_time": "2021-12-13T14:15:56.808Z"
   },
   {
    "duration": 23,
    "start_time": "2021-12-13T14:16:01.795Z"
   },
   {
    "duration": 6527,
    "start_time": "2021-12-13T14:24:16.945Z"
   },
   {
    "duration": 973,
    "start_time": "2021-12-13T14:24:30.018Z"
   },
   {
    "duration": 79,
    "start_time": "2021-12-13T14:25:52.043Z"
   },
   {
    "duration": 7139,
    "start_time": "2021-12-13T14:26:06.842Z"
   },
   {
    "duration": 6198,
    "start_time": "2021-12-13T14:26:30.748Z"
   },
   {
    "duration": 5943,
    "start_time": "2021-12-13T14:27:45.519Z"
   },
   {
    "duration": 6523,
    "start_time": "2021-12-13T14:28:48.206Z"
   },
   {
    "duration": 38,
    "start_time": "2021-12-13T14:32:25.409Z"
   },
   {
    "duration": 7838,
    "start_time": "2021-12-13T14:32:27.592Z"
   },
   {
    "duration": 6111,
    "start_time": "2021-12-13T14:32:42.688Z"
   },
   {
    "duration": 8,
    "start_time": "2021-12-13T14:36:55.877Z"
   },
   {
    "duration": 11,
    "start_time": "2021-12-13T14:39:47.059Z"
   },
   {
    "duration": 7,
    "start_time": "2021-12-13T14:40:21.162Z"
   },
   {
    "duration": 5,
    "start_time": "2021-12-13T14:40:51.058Z"
   },
   {
    "duration": 6254,
    "start_time": "2021-12-13T15:03:38.953Z"
   },
   {
    "duration": 244,
    "start_time": "2021-12-13T15:03:54.078Z"
   },
   {
    "duration": 12,
    "start_time": "2021-12-13T15:04:38.110Z"
   },
   {
    "duration": 78,
    "start_time": "2021-12-13T15:06:28.699Z"
   },
   {
    "duration": 21,
    "start_time": "2021-12-13T15:06:35.428Z"
   },
   {
    "duration": 8,
    "start_time": "2021-12-13T15:06:52.526Z"
   },
   {
    "duration": 6584,
    "start_time": "2021-12-13T15:08:11.491Z"
   },
   {
    "duration": 308,
    "start_time": "2021-12-13T15:08:24.717Z"
   },
   {
    "duration": 650,
    "start_time": "2021-12-13T15:09:12.468Z"
   },
   {
    "duration": 392,
    "start_time": "2021-12-13T15:09:13.120Z"
   },
   {
    "duration": 17,
    "start_time": "2021-12-13T15:09:13.515Z"
   },
   {
    "duration": 8,
    "start_time": "2021-12-13T15:09:13.534Z"
   },
   {
    "duration": 11,
    "start_time": "2021-12-13T15:09:13.544Z"
   },
   {
    "duration": 9,
    "start_time": "2021-12-13T15:09:13.557Z"
   },
   {
    "duration": 14,
    "start_time": "2021-12-13T15:09:13.567Z"
   },
   {
    "duration": 28,
    "start_time": "2021-12-13T15:09:13.583Z"
   },
   {
    "duration": 16,
    "start_time": "2021-12-13T15:09:13.614Z"
   },
   {
    "duration": 7,
    "start_time": "2021-12-13T15:09:13.632Z"
   },
   {
    "duration": 30,
    "start_time": "2021-12-13T15:09:13.640Z"
   },
   {
    "duration": 8,
    "start_time": "2021-12-13T15:09:13.672Z"
   },
   {
    "duration": 20,
    "start_time": "2021-12-13T15:09:13.682Z"
   },
   {
    "duration": 12,
    "start_time": "2021-12-13T15:09:13.704Z"
   },
   {
    "duration": 7,
    "start_time": "2021-12-13T15:09:13.717Z"
   },
   {
    "duration": 37,
    "start_time": "2021-12-13T15:09:13.726Z"
   },
   {
    "duration": 69,
    "start_time": "2021-12-13T15:09:13.765Z"
   },
   {
    "duration": 86,
    "start_time": "2021-12-13T15:09:13.835Z"
   },
   {
    "duration": 54,
    "start_time": "2021-12-13T15:09:13.923Z"
   },
   {
    "duration": 6,
    "start_time": "2021-12-13T15:09:13.979Z"
   },
   {
    "duration": 28,
    "start_time": "2021-12-13T15:09:13.986Z"
   },
   {
    "duration": 14,
    "start_time": "2021-12-13T15:09:14.016Z"
   },
   {
    "duration": 34,
    "start_time": "2021-12-13T15:09:14.034Z"
   },
   {
    "duration": 14,
    "start_time": "2021-12-13T15:09:14.070Z"
   },
   {
    "duration": 57,
    "start_time": "2021-12-13T15:09:14.086Z"
   },
   {
    "duration": 251,
    "start_time": "2021-12-13T15:09:14.144Z"
   },
   {
    "duration": 24,
    "start_time": "2021-12-13T15:09:14.397Z"
   },
   {
    "duration": 43,
    "start_time": "2021-12-13T15:09:14.423Z"
   },
   {
    "duration": 23,
    "start_time": "2021-12-13T15:09:14.467Z"
   },
   {
    "duration": 18,
    "start_time": "2021-12-13T15:09:14.492Z"
   },
   {
    "duration": 8,
    "start_time": "2021-12-13T15:09:14.512Z"
   },
   {
    "duration": 4,
    "start_time": "2021-12-13T15:09:14.522Z"
   },
   {
    "duration": 119,
    "start_time": "2021-12-13T15:09:14.527Z"
   },
   {
    "duration": 23,
    "start_time": "2021-12-13T15:09:14.648Z"
   },
   {
    "duration": 34,
    "start_time": "2021-12-13T15:09:14.673Z"
   },
   {
    "duration": 19,
    "start_time": "2021-12-13T15:09:14.709Z"
   },
   {
    "duration": 6,
    "start_time": "2021-12-13T15:09:14.730Z"
   },
   {
    "duration": 295,
    "start_time": "2021-12-13T15:09:14.737Z"
   },
   {
    "duration": 6386,
    "start_time": "2021-12-13T15:09:15.034Z"
   },
   {
    "duration": 8,
    "start_time": "2021-12-13T15:14:02.601Z"
   },
   {
    "duration": 19,
    "start_time": "2021-12-13T15:15:23.010Z"
   },
   {
    "duration": 19900,
    "start_time": "2021-12-13T15:15:28.953Z"
   },
   {
    "duration": 683,
    "start_time": "2021-12-13T15:16:13.382Z"
   },
   {
    "duration": 440,
    "start_time": "2021-12-13T15:16:14.067Z"
   },
   {
    "duration": 13,
    "start_time": "2021-12-13T15:16:14.509Z"
   },
   {
    "duration": 8,
    "start_time": "2021-12-13T15:16:14.524Z"
   },
   {
    "duration": 6,
    "start_time": "2021-12-13T15:16:14.534Z"
   },
   {
    "duration": 6,
    "start_time": "2021-12-13T15:16:14.541Z"
   },
   {
    "duration": 12,
    "start_time": "2021-12-13T15:16:14.548Z"
   },
   {
    "duration": 22,
    "start_time": "2021-12-13T15:16:14.563Z"
   },
   {
    "duration": 18,
    "start_time": "2021-12-13T15:16:14.587Z"
   },
   {
    "duration": 8,
    "start_time": "2021-12-13T15:16:14.606Z"
   },
   {
    "duration": 18,
    "start_time": "2021-12-13T15:16:14.615Z"
   },
   {
    "duration": 34,
    "start_time": "2021-12-13T15:16:14.635Z"
   },
   {
    "duration": 21,
    "start_time": "2021-12-13T15:16:14.670Z"
   },
   {
    "duration": 12,
    "start_time": "2021-12-13T15:16:14.693Z"
   },
   {
    "duration": 8,
    "start_time": "2021-12-13T15:16:14.706Z"
   },
   {
    "duration": 18,
    "start_time": "2021-12-13T15:16:14.715Z"
   },
   {
    "duration": 92,
    "start_time": "2021-12-13T15:16:14.735Z"
   },
   {
    "duration": 89,
    "start_time": "2021-12-13T15:16:14.829Z"
   },
   {
    "duration": 60,
    "start_time": "2021-12-13T15:16:14.920Z"
   },
   {
    "duration": 4,
    "start_time": "2021-12-13T15:16:14.981Z"
   },
   {
    "duration": 28,
    "start_time": "2021-12-13T15:16:14.987Z"
   },
   {
    "duration": 16,
    "start_time": "2021-12-13T15:16:15.017Z"
   },
   {
    "duration": 39,
    "start_time": "2021-12-13T15:16:15.038Z"
   },
   {
    "duration": 15,
    "start_time": "2021-12-13T15:16:15.079Z"
   },
   {
    "duration": 75,
    "start_time": "2021-12-13T15:16:15.096Z"
   },
   {
    "duration": 227,
    "start_time": "2021-12-13T15:16:15.172Z"
   },
   {
    "duration": 28,
    "start_time": "2021-12-13T15:16:15.400Z"
   },
   {
    "duration": 47,
    "start_time": "2021-12-13T15:16:15.430Z"
   },
   {
    "duration": 25,
    "start_time": "2021-12-13T15:16:15.479Z"
   },
   {
    "duration": 21,
    "start_time": "2021-12-13T15:16:15.507Z"
   },
   {
    "duration": 36,
    "start_time": "2021-12-13T15:16:15.530Z"
   },
   {
    "duration": 6,
    "start_time": "2021-12-13T15:16:15.568Z"
   },
   {
    "duration": 114,
    "start_time": "2021-12-13T15:16:15.576Z"
   },
   {
    "duration": 18,
    "start_time": "2021-12-13T15:16:15.692Z"
   },
   {
    "duration": 51,
    "start_time": "2021-12-13T15:16:15.712Z"
   },
   {
    "duration": 7,
    "start_time": "2021-12-13T15:16:15.766Z"
   },
   {
    "duration": 20,
    "start_time": "2021-12-13T15:16:15.775Z"
   },
   {
    "duration": 21104,
    "start_time": "2021-12-13T15:16:15.797Z"
   },
   {
    "duration": 16750,
    "start_time": "2021-12-13T15:17:05.044Z"
   },
   {
    "duration": 18475,
    "start_time": "2021-12-13T15:17:29.058Z"
   },
   {
    "duration": -144,
    "start_time": "2021-12-13T15:26:25.396Z"
   },
   {
    "duration": 6682,
    "start_time": "2021-12-13T15:26:50.335Z"
   },
   {
    "duration": 384,
    "start_time": "2021-12-13T15:28:41.620Z"
   },
   {
    "duration": 396,
    "start_time": "2021-12-13T15:30:08.438Z"
   },
   {
    "duration": 5893,
    "start_time": "2021-12-13T15:30:21.132Z"
   },
   {
    "duration": 6866,
    "start_time": "2021-12-13T15:31:09.058Z"
   },
   {
    "duration": 308,
    "start_time": "2021-12-13T15:33:20.440Z"
   },
   {
    "duration": 310,
    "start_time": "2021-12-13T15:34:12.398Z"
   },
   {
    "duration": 284,
    "start_time": "2021-12-13T15:36:06.630Z"
   },
   {
    "duration": 309,
    "start_time": "2021-12-13T15:37:27.720Z"
   },
   {
    "duration": 16811,
    "start_time": "2021-12-13T15:45:57.425Z"
   },
   {
    "duration": 398,
    "start_time": "2021-12-13T15:46:33.299Z"
   },
   {
    "duration": 16691,
    "start_time": "2021-12-13T15:46:37.726Z"
   },
   {
    "duration": 20729,
    "start_time": "2021-12-13T15:49:06.230Z"
   },
   {
    "duration": 78,
    "start_time": "2021-12-13T15:54:59.829Z"
   },
   {
    "duration": 250,
    "start_time": "2021-12-13T15:55:05.329Z"
   },
   {
    "duration": 680,
    "start_time": "2021-12-13T15:56:54.747Z"
   },
   {
    "duration": 504,
    "start_time": "2021-12-13T15:56:55.429Z"
   },
   {
    "duration": 12,
    "start_time": "2021-12-13T15:56:55.935Z"
   },
   {
    "duration": 9,
    "start_time": "2021-12-13T15:56:55.948Z"
   },
   {
    "duration": 5,
    "start_time": "2021-12-13T15:56:55.958Z"
   },
   {
    "duration": 5,
    "start_time": "2021-12-13T15:56:55.964Z"
   },
   {
    "duration": 8,
    "start_time": "2021-12-13T15:56:55.971Z"
   },
   {
    "duration": 20,
    "start_time": "2021-12-13T15:56:55.982Z"
   },
   {
    "duration": 16,
    "start_time": "2021-12-13T15:56:56.004Z"
   },
   {
    "duration": 7,
    "start_time": "2021-12-13T15:56:56.021Z"
   },
   {
    "duration": 42,
    "start_time": "2021-12-13T15:56:56.029Z"
   },
   {
    "duration": 8,
    "start_time": "2021-12-13T15:56:56.073Z"
   },
   {
    "duration": 19,
    "start_time": "2021-12-13T15:56:56.082Z"
   },
   {
    "duration": 12,
    "start_time": "2021-12-13T15:56:56.102Z"
   },
   {
    "duration": 7,
    "start_time": "2021-12-13T15:56:56.115Z"
   },
   {
    "duration": 9,
    "start_time": "2021-12-13T15:56:56.124Z"
   },
   {
    "duration": 68,
    "start_time": "2021-12-13T15:56:56.163Z"
   },
   {
    "duration": 74,
    "start_time": "2021-12-13T15:56:56.233Z"
   },
   {
    "duration": 59,
    "start_time": "2021-12-13T15:56:56.309Z"
   },
   {
    "duration": 4,
    "start_time": "2021-12-13T15:56:56.369Z"
   },
   {
    "duration": 31,
    "start_time": "2021-12-13T15:56:56.374Z"
   },
   {
    "duration": 14,
    "start_time": "2021-12-13T15:56:56.407Z"
   },
   {
    "duration": 18,
    "start_time": "2021-12-13T15:56:56.424Z"
   },
   {
    "duration": 28,
    "start_time": "2021-12-13T15:56:56.444Z"
   },
   {
    "duration": 59,
    "start_time": "2021-12-13T15:56:56.474Z"
   },
   {
    "duration": 218,
    "start_time": "2021-12-13T15:56:56.534Z"
   },
   {
    "duration": 31,
    "start_time": "2021-12-13T15:56:56.754Z"
   },
   {
    "duration": 27,
    "start_time": "2021-12-13T15:56:56.787Z"
   },
   {
    "duration": 22,
    "start_time": "2021-12-13T15:56:56.816Z"
   },
   {
    "duration": 39,
    "start_time": "2021-12-13T15:56:56.840Z"
   },
   {
    "duration": 8,
    "start_time": "2021-12-13T15:56:56.881Z"
   },
   {
    "duration": 4,
    "start_time": "2021-12-13T15:56:56.890Z"
   },
   {
    "duration": 105,
    "start_time": "2021-12-13T15:56:56.895Z"
   },
   {
    "duration": 17,
    "start_time": "2021-12-13T15:56:57.002Z"
   },
   {
    "duration": 47,
    "start_time": "2021-12-13T15:56:57.020Z"
   },
   {
    "duration": 8,
    "start_time": "2021-12-13T15:56:57.068Z"
   },
   {
    "duration": 294,
    "start_time": "2021-12-13T15:56:57.077Z"
   },
   {
    "duration": 319,
    "start_time": "2021-12-13T15:56:57.373Z"
   },
   {
    "duration": -237,
    "start_time": "2021-12-13T15:56:57.931Z"
   },
   {
    "duration": -241,
    "start_time": "2021-12-13T15:56:57.936Z"
   },
   {
    "duration": 229,
    "start_time": "2021-12-13T15:57:33.687Z"
   },
   {
    "duration": 79,
    "start_time": "2021-12-13T15:58:33.820Z"
   },
   {
    "duration": 6261,
    "start_time": "2021-12-13T15:59:06.849Z"
   },
   {
    "duration": 7221,
    "start_time": "2021-12-13T15:59:49.713Z"
   },
   {
    "duration": 633,
    "start_time": "2021-12-13T16:00:10.504Z"
   },
   {
    "duration": 412,
    "start_time": "2021-12-13T16:00:11.139Z"
   },
   {
    "duration": 12,
    "start_time": "2021-12-13T16:00:11.553Z"
   },
   {
    "duration": 11,
    "start_time": "2021-12-13T16:00:11.566Z"
   },
   {
    "duration": 8,
    "start_time": "2021-12-13T16:00:11.579Z"
   },
   {
    "duration": 5,
    "start_time": "2021-12-13T16:00:11.589Z"
   },
   {
    "duration": 14,
    "start_time": "2021-12-13T16:00:11.596Z"
   },
   {
    "duration": 22,
    "start_time": "2021-12-13T16:00:11.613Z"
   },
   {
    "duration": 36,
    "start_time": "2021-12-13T16:00:11.637Z"
   },
   {
    "duration": 6,
    "start_time": "2021-12-13T16:00:11.675Z"
   },
   {
    "duration": 19,
    "start_time": "2021-12-13T16:00:11.683Z"
   },
   {
    "duration": 7,
    "start_time": "2021-12-13T16:00:11.704Z"
   },
   {
    "duration": 18,
    "start_time": "2021-12-13T16:00:11.713Z"
   },
   {
    "duration": 37,
    "start_time": "2021-12-13T16:00:11.733Z"
   },
   {
    "duration": 8,
    "start_time": "2021-12-13T16:00:11.772Z"
   },
   {
    "duration": 10,
    "start_time": "2021-12-13T16:00:11.781Z"
   },
   {
    "duration": 82,
    "start_time": "2021-12-13T16:00:11.792Z"
   },
   {
    "duration": 69,
    "start_time": "2021-12-13T16:00:11.876Z"
   },
   {
    "duration": 63,
    "start_time": "2021-12-13T16:00:11.947Z"
   },
   {
    "duration": 4,
    "start_time": "2021-12-13T16:00:12.012Z"
   },
   {
    "duration": 28,
    "start_time": "2021-12-13T16:00:12.018Z"
   },
   {
    "duration": 27,
    "start_time": "2021-12-13T16:00:12.047Z"
   },
   {
    "duration": 19,
    "start_time": "2021-12-13T16:00:12.078Z"
   },
   {
    "duration": 13,
    "start_time": "2021-12-13T16:00:12.099Z"
   },
   {
    "duration": 85,
    "start_time": "2021-12-13T16:00:12.114Z"
   },
   {
    "duration": 218,
    "start_time": "2021-12-13T16:00:12.201Z"
   },
   {
    "duration": 29,
    "start_time": "2021-12-13T16:00:12.421Z"
   },
   {
    "duration": 31,
    "start_time": "2021-12-13T16:00:12.463Z"
   },
   {
    "duration": 23,
    "start_time": "2021-12-13T16:00:12.495Z"
   },
   {
    "duration": 19,
    "start_time": "2021-12-13T16:00:12.520Z"
   },
   {
    "duration": 30,
    "start_time": "2021-12-13T16:00:12.540Z"
   },
   {
    "duration": 7,
    "start_time": "2021-12-13T16:00:12.572Z"
   },
   {
    "duration": 100,
    "start_time": "2021-12-13T16:00:12.581Z"
   },
   {
    "duration": 17,
    "start_time": "2021-12-13T16:00:12.683Z"
   },
   {
    "duration": 35,
    "start_time": "2021-12-13T16:00:12.702Z"
   },
   {
    "duration": 28,
    "start_time": "2021-12-13T16:00:12.739Z"
   },
   {
    "duration": 294,
    "start_time": "2021-12-13T16:00:12.769Z"
   },
   {
    "duration": 6374,
    "start_time": "2021-12-13T16:00:13.064Z"
   },
   {
    "duration": -116,
    "start_time": "2021-12-13T16:00:19.556Z"
   },
   {
    "duration": -121,
    "start_time": "2021-12-13T16:00:19.562Z"
   },
   {
    "duration": 252,
    "start_time": "2021-12-13T16:00:35.219Z"
   },
   {
    "duration": 179,
    "start_time": "2021-12-13T16:01:19.632Z"
   },
   {
    "duration": 402,
    "start_time": "2021-12-13T16:13:26.877Z"
   },
   {
    "duration": 991,
    "start_time": "2021-12-13T16:17:32.773Z"
   },
   {
    "duration": 260,
    "start_time": "2021-12-13T16:17:41.901Z"
   },
   {
    "duration": 1168,
    "start_time": "2021-12-13T16:18:13.755Z"
   },
   {
    "duration": 406,
    "start_time": "2021-12-13T16:18:14.925Z"
   },
   {
    "duration": 14,
    "start_time": "2021-12-13T16:18:15.333Z"
   },
   {
    "duration": 6,
    "start_time": "2021-12-13T16:18:15.349Z"
   },
   {
    "duration": 6,
    "start_time": "2021-12-13T16:18:15.357Z"
   },
   {
    "duration": 5,
    "start_time": "2021-12-13T16:18:15.365Z"
   },
   {
    "duration": 13,
    "start_time": "2021-12-13T16:18:15.371Z"
   },
   {
    "duration": 22,
    "start_time": "2021-12-13T16:18:15.386Z"
   },
   {
    "duration": 17,
    "start_time": "2021-12-13T16:18:15.410Z"
   },
   {
    "duration": 7,
    "start_time": "2021-12-13T16:18:15.428Z"
   },
   {
    "duration": 37,
    "start_time": "2021-12-13T16:18:15.437Z"
   },
   {
    "duration": 8,
    "start_time": "2021-12-13T16:18:15.476Z"
   },
   {
    "duration": 19,
    "start_time": "2021-12-13T16:18:15.486Z"
   },
   {
    "duration": 11,
    "start_time": "2021-12-13T16:18:15.507Z"
   },
   {
    "duration": 8,
    "start_time": "2021-12-13T16:18:15.520Z"
   },
   {
    "duration": 37,
    "start_time": "2021-12-13T16:18:15.530Z"
   },
   {
    "duration": 69,
    "start_time": "2021-12-13T16:18:15.569Z"
   },
   {
    "duration": 83,
    "start_time": "2021-12-13T16:18:15.640Z"
   },
   {
    "duration": 63,
    "start_time": "2021-12-13T16:18:15.725Z"
   },
   {
    "duration": 3,
    "start_time": "2021-12-13T16:18:15.790Z"
   },
   {
    "duration": 25,
    "start_time": "2021-12-13T16:18:15.795Z"
   },
   {
    "duration": 14,
    "start_time": "2021-12-13T16:18:15.822Z"
   },
   {
    "duration": 36,
    "start_time": "2021-12-13T16:18:15.840Z"
   },
   {
    "duration": 15,
    "start_time": "2021-12-13T16:18:15.878Z"
   },
   {
    "duration": 78,
    "start_time": "2021-12-13T16:18:15.894Z"
   },
   {
    "duration": 222,
    "start_time": "2021-12-13T16:18:15.974Z"
   },
   {
    "duration": 27,
    "start_time": "2021-12-13T16:18:16.198Z"
   },
   {
    "duration": 41,
    "start_time": "2021-12-13T16:18:16.227Z"
   },
   {
    "duration": 22,
    "start_time": "2021-12-13T16:18:16.269Z"
   },
   {
    "duration": 18,
    "start_time": "2021-12-13T16:18:16.292Z"
   },
   {
    "duration": 9,
    "start_time": "2021-12-13T16:18:16.311Z"
   },
   {
    "duration": 4,
    "start_time": "2021-12-13T16:18:16.321Z"
   },
   {
    "duration": 114,
    "start_time": "2021-12-13T16:18:16.327Z"
   },
   {
    "duration": 21,
    "start_time": "2021-12-13T16:18:16.443Z"
   },
   {
    "duration": 34,
    "start_time": "2021-12-13T16:18:16.465Z"
   },
   {
    "duration": 8,
    "start_time": "2021-12-13T16:18:16.501Z"
   },
   {
    "duration": 324,
    "start_time": "2021-12-13T16:18:16.511Z"
   },
   {
    "duration": -217,
    "start_time": "2021-12-13T16:18:17.054Z"
   },
   {
    "duration": -221,
    "start_time": "2021-12-13T16:18:17.059Z"
   },
   {
    "duration": -225,
    "start_time": "2021-12-13T16:18:17.064Z"
   },
   {
    "duration": -228,
    "start_time": "2021-12-13T16:18:17.069Z"
   },
   {
    "duration": -234,
    "start_time": "2021-12-13T16:18:17.076Z"
   },
   {
    "duration": 28265,
    "start_time": "2021-12-13T16:19:13.417Z"
   },
   {
    "duration": 237,
    "start_time": "2021-12-13T16:20:56.297Z"
   },
   {
    "duration": 30175,
    "start_time": "2021-12-13T16:21:17.025Z"
   },
   {
    "duration": 445,
    "start_time": "2021-12-13T16:30:26.195Z"
   },
   {
    "duration": 247,
    "start_time": "2021-12-13T16:31:08.261Z"
   },
   {
    "duration": 29453,
    "start_time": "2021-12-13T16:36:54.588Z"
   },
   {
    "duration": 5981,
    "start_time": "2021-12-13T16:41:58.697Z"
   },
   {
    "duration": 1175,
    "start_time": "2021-12-13T16:42:18.456Z"
   },
   {
    "duration": 417,
    "start_time": "2021-12-13T16:42:19.633Z"
   },
   {
    "duration": 14,
    "start_time": "2021-12-13T16:42:20.052Z"
   },
   {
    "duration": 14,
    "start_time": "2021-12-13T16:42:20.067Z"
   },
   {
    "duration": 8,
    "start_time": "2021-12-13T16:42:20.083Z"
   },
   {
    "duration": 6,
    "start_time": "2021-12-13T16:42:20.093Z"
   },
   {
    "duration": 12,
    "start_time": "2021-12-13T16:42:20.101Z"
   },
   {
    "duration": 23,
    "start_time": "2021-12-13T16:42:20.116Z"
   },
   {
    "duration": 34,
    "start_time": "2021-12-13T16:42:20.141Z"
   },
   {
    "duration": 6,
    "start_time": "2021-12-13T16:42:20.177Z"
   },
   {
    "duration": 24,
    "start_time": "2021-12-13T16:42:20.184Z"
   },
   {
    "duration": 9,
    "start_time": "2021-12-13T16:42:20.210Z"
   },
   {
    "duration": 24,
    "start_time": "2021-12-13T16:42:20.221Z"
   },
   {
    "duration": 23,
    "start_time": "2021-12-13T16:42:20.246Z"
   },
   {
    "duration": 8,
    "start_time": "2021-12-13T16:42:20.271Z"
   },
   {
    "duration": 10,
    "start_time": "2021-12-13T16:42:20.281Z"
   },
   {
    "duration": 85,
    "start_time": "2021-12-13T16:42:20.292Z"
   },
   {
    "duration": 84,
    "start_time": "2021-12-13T16:42:20.379Z"
   },
   {
    "duration": 56,
    "start_time": "2021-12-13T16:42:20.465Z"
   },
   {
    "duration": 5,
    "start_time": "2021-12-13T16:42:20.523Z"
   },
   {
    "duration": 34,
    "start_time": "2021-12-13T16:42:20.530Z"
   },
   {
    "duration": 16,
    "start_time": "2021-12-13T16:42:20.565Z"
   },
   {
    "duration": 19,
    "start_time": "2021-12-13T16:42:20.584Z"
   },
   {
    "duration": 14,
    "start_time": "2021-12-13T16:42:20.604Z"
   },
   {
    "duration": 84,
    "start_time": "2021-12-13T16:42:20.620Z"
   },
   {
    "duration": 225,
    "start_time": "2021-12-13T16:42:20.706Z"
   },
   {
    "duration": 40,
    "start_time": "2021-12-13T16:42:20.933Z"
   },
   {
    "duration": 28,
    "start_time": "2021-12-13T16:42:20.975Z"
   },
   {
    "duration": 23,
    "start_time": "2021-12-13T16:42:21.004Z"
   },
   {
    "duration": 40,
    "start_time": "2021-12-13T16:42:21.028Z"
   },
   {
    "duration": 10,
    "start_time": "2021-12-13T16:42:21.070Z"
   },
   {
    "duration": 7,
    "start_time": "2021-12-13T16:42:21.081Z"
   },
   {
    "duration": 108,
    "start_time": "2021-12-13T16:42:21.089Z"
   },
   {
    "duration": 17,
    "start_time": "2021-12-13T16:42:21.199Z"
   },
   {
    "duration": 47,
    "start_time": "2021-12-13T16:42:21.217Z"
   },
   {
    "duration": 8,
    "start_time": "2021-12-13T16:42:21.267Z"
   },
   {
    "duration": 307,
    "start_time": "2021-12-13T16:42:21.277Z"
   },
   {
    "duration": 196,
    "start_time": "2021-12-13T16:42:21.586Z"
   },
   {
    "duration": 201,
    "start_time": "2021-12-13T16:42:21.784Z"
   },
   {
    "duration": 302,
    "start_time": "2021-12-13T16:42:21.987Z"
   },
   {
    "duration": 386,
    "start_time": "2021-12-13T16:42:22.290Z"
   },
   {
    "duration": 10,
    "start_time": "2021-12-13T16:43:26.504Z"
   },
   {
    "duration": 8,
    "start_time": "2021-12-13T16:43:59.889Z"
   },
   {
    "duration": 80,
    "start_time": "2021-12-13T16:53:47.890Z"
   },
   {
    "duration": 328,
    "start_time": "2021-12-13T16:53:58.272Z"
   },
   {
    "duration": 555,
    "start_time": "2021-12-13T16:54:14.392Z"
   },
   {
    "duration": 20,
    "start_time": "2021-12-13T16:54:56.090Z"
   },
   {
    "duration": 26,
    "start_time": "2021-12-13T16:55:04.594Z"
   },
   {
    "duration": 25,
    "start_time": "2021-12-13T16:55:17.201Z"
   },
   {
    "duration": 23,
    "start_time": "2021-12-13T16:55:59.415Z"
   },
   {
    "duration": 262,
    "start_time": "2021-12-13T16:56:23.285Z"
   },
   {
    "duration": 271,
    "start_time": "2021-12-13T16:58:37.192Z"
   },
   {
    "duration": 292,
    "start_time": "2021-12-13T16:59:02.163Z"
   },
   {
    "duration": 1196,
    "start_time": "2021-12-13T16:59:13.930Z"
   },
   {
    "duration": 409,
    "start_time": "2021-12-13T16:59:15.128Z"
   },
   {
    "duration": 12,
    "start_time": "2021-12-13T16:59:15.539Z"
   },
   {
    "duration": 6,
    "start_time": "2021-12-13T16:59:15.553Z"
   },
   {
    "duration": 5,
    "start_time": "2021-12-13T16:59:15.560Z"
   },
   {
    "duration": 4,
    "start_time": "2021-12-13T16:59:15.567Z"
   },
   {
    "duration": 10,
    "start_time": "2021-12-13T16:59:15.572Z"
   },
   {
    "duration": 23,
    "start_time": "2021-12-13T16:59:15.584Z"
   },
   {
    "duration": 17,
    "start_time": "2021-12-13T16:59:15.609Z"
   },
   {
    "duration": 7,
    "start_time": "2021-12-13T16:59:15.628Z"
   },
   {
    "duration": 15,
    "start_time": "2021-12-13T16:59:15.664Z"
   },
   {
    "duration": 7,
    "start_time": "2021-12-13T16:59:15.681Z"
   },
   {
    "duration": 18,
    "start_time": "2021-12-13T16:59:15.689Z"
   },
   {
    "duration": 11,
    "start_time": "2021-12-13T16:59:15.708Z"
   },
   {
    "duration": 8,
    "start_time": "2021-12-13T16:59:15.720Z"
   },
   {
    "duration": 33,
    "start_time": "2021-12-13T16:59:15.730Z"
   },
   {
    "duration": 71,
    "start_time": "2021-12-13T16:59:15.765Z"
   },
   {
    "duration": 85,
    "start_time": "2021-12-13T16:59:15.838Z"
   },
   {
    "duration": 56,
    "start_time": "2021-12-13T16:59:15.925Z"
   },
   {
    "duration": 5,
    "start_time": "2021-12-13T16:59:15.983Z"
   },
   {
    "duration": 25,
    "start_time": "2021-12-13T16:59:15.990Z"
   },
   {
    "duration": 15,
    "start_time": "2021-12-13T16:59:16.017Z"
   },
   {
    "duration": 38,
    "start_time": "2021-12-13T16:59:16.035Z"
   },
   {
    "duration": 15,
    "start_time": "2021-12-13T16:59:16.075Z"
   },
   {
    "duration": 81,
    "start_time": "2021-12-13T16:59:16.092Z"
   },
   {
    "duration": 206,
    "start_time": "2021-12-13T16:59:16.175Z"
   },
   {
    "duration": 26,
    "start_time": "2021-12-13T16:59:16.382Z"
   },
   {
    "duration": 28,
    "start_time": "2021-12-13T16:59:16.409Z"
   },
   {
    "duration": 38,
    "start_time": "2021-12-13T16:59:16.438Z"
   },
   {
    "duration": 17,
    "start_time": "2021-12-13T16:59:16.478Z"
   },
   {
    "duration": 11,
    "start_time": "2021-12-13T16:59:16.497Z"
   },
   {
    "duration": 6,
    "start_time": "2021-12-13T16:59:16.509Z"
   },
   {
    "duration": 121,
    "start_time": "2021-12-13T16:59:16.516Z"
   },
   {
    "duration": 25,
    "start_time": "2021-12-13T16:59:16.639Z"
   },
   {
    "duration": 37,
    "start_time": "2021-12-13T16:59:16.665Z"
   },
   {
    "duration": 20,
    "start_time": "2021-12-13T16:59:16.703Z"
   },
   {
    "duration": 300,
    "start_time": "2021-12-13T16:59:16.725Z"
   },
   {
    "duration": 297,
    "start_time": "2021-12-13T16:59:17.027Z"
   },
   {
    "duration": 335,
    "start_time": "2021-12-13T16:59:17.326Z"
   },
   {
    "duration": -563,
    "start_time": "2021-12-13T16:59:18.226Z"
   },
   {
    "duration": -566,
    "start_time": "2021-12-13T16:59:18.231Z"
   },
   {
    "duration": -571,
    "start_time": "2021-12-13T16:59:18.237Z"
   },
   {
    "duration": -573,
    "start_time": "2021-12-13T16:59:18.241Z"
   },
   {
    "duration": 1159,
    "start_time": "2021-12-13T17:01:36.078Z"
   },
   {
    "duration": 524,
    "start_time": "2021-12-13T17:01:37.240Z"
   },
   {
    "duration": 15,
    "start_time": "2021-12-13T17:01:37.766Z"
   },
   {
    "duration": 8,
    "start_time": "2021-12-13T17:01:37.783Z"
   },
   {
    "duration": 8,
    "start_time": "2021-12-13T17:01:37.792Z"
   },
   {
    "duration": 6,
    "start_time": "2021-12-13T17:01:37.801Z"
   },
   {
    "duration": 10,
    "start_time": "2021-12-13T17:01:37.809Z"
   },
   {
    "duration": 54,
    "start_time": "2021-12-13T17:01:37.821Z"
   },
   {
    "duration": 19,
    "start_time": "2021-12-13T17:01:37.878Z"
   },
   {
    "duration": 8,
    "start_time": "2021-12-13T17:01:37.900Z"
   },
   {
    "duration": 16,
    "start_time": "2021-12-13T17:01:37.909Z"
   },
   {
    "duration": 10,
    "start_time": "2021-12-13T17:01:37.927Z"
   },
   {
    "duration": 17,
    "start_time": "2021-12-13T17:01:37.964Z"
   },
   {
    "duration": 19,
    "start_time": "2021-12-13T17:01:37.983Z"
   },
   {
    "duration": 9,
    "start_time": "2021-12-13T17:01:38.004Z"
   },
   {
    "duration": 7,
    "start_time": "2021-12-13T17:01:38.015Z"
   },
   {
    "duration": 99,
    "start_time": "2021-12-13T17:01:38.023Z"
   },
   {
    "duration": 83,
    "start_time": "2021-12-13T17:01:38.124Z"
   },
   {
    "duration": 58,
    "start_time": "2021-12-13T17:01:38.209Z"
   },
   {
    "duration": 6,
    "start_time": "2021-12-13T17:01:38.269Z"
   },
   {
    "duration": 27,
    "start_time": "2021-12-13T17:01:38.276Z"
   },
   {
    "duration": 16,
    "start_time": "2021-12-13T17:01:38.305Z"
   },
   {
    "duration": 43,
    "start_time": "2021-12-13T17:01:38.325Z"
   },
   {
    "duration": 16,
    "start_time": "2021-12-13T17:01:38.371Z"
   },
   {
    "duration": 77,
    "start_time": "2021-12-13T17:01:38.388Z"
   },
   {
    "duration": 218,
    "start_time": "2021-12-13T17:01:38.467Z"
   },
   {
    "duration": 27,
    "start_time": "2021-12-13T17:01:38.687Z"
   },
   {
    "duration": 29,
    "start_time": "2021-12-13T17:01:38.715Z"
   },
   {
    "duration": 24,
    "start_time": "2021-12-13T17:01:38.763Z"
   },
   {
    "duration": 22,
    "start_time": "2021-12-13T17:01:38.788Z"
   },
   {
    "duration": 10,
    "start_time": "2021-12-13T17:01:38.811Z"
   },
   {
    "duration": 5,
    "start_time": "2021-12-13T17:01:38.822Z"
   },
   {
    "duration": 119,
    "start_time": "2021-12-13T17:01:38.828Z"
   },
   {
    "duration": 26,
    "start_time": "2021-12-13T17:01:38.949Z"
   },
   {
    "duration": 20,
    "start_time": "2021-12-13T17:01:38.976Z"
   },
   {
    "duration": 302,
    "start_time": "2021-12-13T17:01:38.998Z"
   },
   {
    "duration": 95,
    "start_time": "2021-12-13T17:09:53.586Z"
   },
   {
    "duration": 32,
    "start_time": "2021-12-13T17:09:59.612Z"
   },
   {
    "duration": 329,
    "start_time": "2021-12-13T17:12:08.931Z"
   },
   {
    "duration": 249,
    "start_time": "2021-12-13T17:12:59.341Z"
   },
   {
    "duration": 31,
    "start_time": "2021-12-13T17:13:25.161Z"
   },
   {
    "duration": 246,
    "start_time": "2021-12-13T17:13:26.775Z"
   },
   {
    "duration": 36,
    "start_time": "2021-12-13T17:14:38.967Z"
   },
   {
    "duration": 270,
    "start_time": "2021-12-13T17:15:07.701Z"
   },
   {
    "duration": 54,
    "start_time": "2021-12-13T17:15:10.886Z"
   },
   {
    "duration": 326,
    "start_time": "2021-12-13T17:15:11.878Z"
   },
   {
    "duration": 8,
    "start_time": "2021-12-13T17:22:04.088Z"
   },
   {
    "duration": 23,
    "start_time": "2021-12-13T17:22:29.583Z"
   },
   {
    "duration": 1148,
    "start_time": "2021-12-13T17:24:44.510Z"
   },
   {
    "duration": 445,
    "start_time": "2021-12-13T17:24:45.660Z"
   },
   {
    "duration": 18,
    "start_time": "2021-12-13T17:24:46.107Z"
   },
   {
    "duration": 8,
    "start_time": "2021-12-13T17:24:46.127Z"
   },
   {
    "duration": 5,
    "start_time": "2021-12-13T17:24:46.136Z"
   },
   {
    "duration": 5,
    "start_time": "2021-12-13T17:24:46.143Z"
   },
   {
    "duration": 11,
    "start_time": "2021-12-13T17:24:46.150Z"
   },
   {
    "duration": 20,
    "start_time": "2021-12-13T17:24:46.164Z"
   },
   {
    "duration": 17,
    "start_time": "2021-12-13T17:24:46.187Z"
   },
   {
    "duration": 25,
    "start_time": "2021-12-13T17:24:46.206Z"
   },
   {
    "duration": 15,
    "start_time": "2021-12-13T17:24:46.233Z"
   },
   {
    "duration": 20,
    "start_time": "2021-12-13T17:24:46.251Z"
   },
   {
    "duration": 16,
    "start_time": "2021-12-13T17:24:46.273Z"
   },
   {
    "duration": 12,
    "start_time": "2021-12-13T17:24:46.291Z"
   },
   {
    "duration": 9,
    "start_time": "2021-12-13T17:24:46.304Z"
   },
   {
    "duration": 8,
    "start_time": "2021-12-13T17:24:46.315Z"
   },
   {
    "duration": 105,
    "start_time": "2021-12-13T17:24:46.325Z"
   },
   {
    "duration": 89,
    "start_time": "2021-12-13T17:24:46.432Z"
   },
   {
    "duration": 60,
    "start_time": "2021-12-13T17:24:46.523Z"
   },
   {
    "duration": 7,
    "start_time": "2021-12-13T17:24:46.585Z"
   },
   {
    "duration": 32,
    "start_time": "2021-12-13T17:24:46.593Z"
   },
   {
    "duration": 15,
    "start_time": "2021-12-13T17:24:46.626Z"
   },
   {
    "duration": 28,
    "start_time": "2021-12-13T17:24:46.645Z"
   },
   {
    "duration": 16,
    "start_time": "2021-12-13T17:24:46.675Z"
   },
   {
    "duration": 82,
    "start_time": "2021-12-13T17:24:46.693Z"
   },
   {
    "duration": 225,
    "start_time": "2021-12-13T17:24:46.777Z"
   },
   {
    "duration": 27,
    "start_time": "2021-12-13T17:24:47.004Z"
   },
   {
    "duration": 48,
    "start_time": "2021-12-13T17:24:47.033Z"
   },
   {
    "duration": 23,
    "start_time": "2021-12-13T17:24:47.083Z"
   },
   {
    "duration": 19,
    "start_time": "2021-12-13T17:24:47.108Z"
   },
   {
    "duration": 9,
    "start_time": "2021-12-13T17:24:47.129Z"
   },
   {
    "duration": 26,
    "start_time": "2021-12-13T17:24:47.140Z"
   },
   {
    "duration": 100,
    "start_time": "2021-12-13T17:24:47.167Z"
   },
   {
    "duration": 18,
    "start_time": "2021-12-13T17:24:47.269Z"
   },
   {
    "duration": 37,
    "start_time": "2021-12-13T17:24:47.289Z"
   },
   {
    "duration": 46,
    "start_time": "2021-12-13T17:24:47.327Z"
   },
   {
    "duration": 24688,
    "start_time": "2021-12-13T17:24:47.375Z"
   },
   {
    "duration": 24654,
    "start_time": "2021-12-13T17:26:42.210Z"
   },
   {
    "duration": 31735,
    "start_time": "2021-12-13T17:28:19.439Z"
   },
   {
    "duration": 29797,
    "start_time": "2021-12-13T17:30:12.006Z"
   },
   {
    "duration": 28366,
    "start_time": "2021-12-13T17:32:04.466Z"
   },
   {
    "duration": 26229,
    "start_time": "2021-12-13T17:36:36.371Z"
   },
   {
    "duration": 326,
    "start_time": "2021-12-13T17:37:58.509Z"
   },
   {
    "duration": 25933,
    "start_time": "2021-12-13T17:38:05.252Z"
   },
   {
    "duration": 26867,
    "start_time": "2021-12-13T17:40:32.764Z"
   },
   {
    "duration": 25106,
    "start_time": "2021-12-13T17:41:47.474Z"
   },
   {
    "duration": 18752,
    "start_time": "2021-12-13T17:45:51.726Z"
   },
   {
    "duration": 1164,
    "start_time": "2021-12-13T17:50:08.658Z"
   },
   {
    "duration": 410,
    "start_time": "2021-12-13T17:50:09.824Z"
   },
   {
    "duration": 12,
    "start_time": "2021-12-13T17:50:10.236Z"
   },
   {
    "duration": 10,
    "start_time": "2021-12-13T17:50:10.250Z"
   },
   {
    "duration": 7,
    "start_time": "2021-12-13T17:50:10.262Z"
   },
   {
    "duration": 5,
    "start_time": "2021-12-13T17:50:10.270Z"
   },
   {
    "duration": 9,
    "start_time": "2021-12-13T17:50:10.277Z"
   },
   {
    "duration": 19,
    "start_time": "2021-12-13T17:50:10.289Z"
   },
   {
    "duration": 16,
    "start_time": "2021-12-13T17:50:10.310Z"
   },
   {
    "duration": 6,
    "start_time": "2021-12-13T17:50:10.328Z"
   },
   {
    "duration": 15,
    "start_time": "2021-12-13T17:50:10.363Z"
   },
   {
    "duration": 10,
    "start_time": "2021-12-13T17:50:10.380Z"
   },
   {
    "duration": 19,
    "start_time": "2021-12-13T17:50:10.391Z"
   },
   {
    "duration": 11,
    "start_time": "2021-12-13T17:50:10.412Z"
   },
   {
    "duration": 8,
    "start_time": "2021-12-13T17:50:10.425Z"
   },
   {
    "duration": 34,
    "start_time": "2021-12-13T17:50:10.434Z"
   },
   {
    "duration": 79,
    "start_time": "2021-12-13T17:50:10.470Z"
   },
   {
    "duration": 72,
    "start_time": "2021-12-13T17:50:10.551Z"
   },
   {
    "duration": 61,
    "start_time": "2021-12-13T17:50:10.625Z"
   },
   {
    "duration": 4,
    "start_time": "2021-12-13T17:50:10.688Z"
   },
   {
    "duration": 32,
    "start_time": "2021-12-13T17:50:10.694Z"
   },
   {
    "duration": 15,
    "start_time": "2021-12-13T17:50:10.728Z"
   },
   {
    "duration": 27,
    "start_time": "2021-12-13T17:50:10.746Z"
   },
   {
    "duration": 14,
    "start_time": "2021-12-13T17:50:10.775Z"
   },
   {
    "duration": 84,
    "start_time": "2021-12-13T17:50:10.790Z"
   },
   {
    "duration": 220,
    "start_time": "2021-12-13T17:50:10.876Z"
   },
   {
    "duration": 26,
    "start_time": "2021-12-13T17:50:11.098Z"
   },
   {
    "duration": 45,
    "start_time": "2021-12-13T17:50:11.126Z"
   },
   {
    "duration": 22,
    "start_time": "2021-12-13T17:50:11.173Z"
   },
   {
    "duration": 20,
    "start_time": "2021-12-13T17:50:11.197Z"
   },
   {
    "duration": 25,
    "start_time": "2021-12-13T17:50:11.219Z"
   },
   {
    "duration": 13,
    "start_time": "2021-12-13T17:50:11.246Z"
   },
   {
    "duration": 92,
    "start_time": "2021-12-13T17:50:11.261Z"
   },
   {
    "duration": 22,
    "start_time": "2021-12-13T17:50:11.354Z"
   },
   {
    "duration": 43,
    "start_time": "2021-12-13T17:50:11.377Z"
   },
   {
    "duration": 22,
    "start_time": "2021-12-13T17:50:11.422Z"
   },
   {
    "duration": 24606,
    "start_time": "2021-12-13T17:50:11.464Z"
   },
   {
    "duration": 79,
    "start_time": "2021-12-13T17:57:53.567Z"
   },
   {
    "duration": 589,
    "start_time": "2021-12-13T17:57:58.785Z"
   },
   {
    "duration": 26073,
    "start_time": "2021-12-13T17:58:13.701Z"
   },
   {
    "duration": 334,
    "start_time": "2021-12-13T18:04:12.828Z"
   },
   {
    "duration": 27119,
    "start_time": "2021-12-13T18:04:20.678Z"
   },
   {
    "duration": 77,
    "start_time": "2021-12-13T18:12:40.490Z"
   },
   {
    "duration": 96,
    "start_time": "2021-12-13T18:13:10.861Z"
   },
   {
    "duration": 2124,
    "start_time": "2021-12-13T18:13:25.467Z"
   },
   {
    "duration": 1647,
    "start_time": "2021-12-13T18:13:40.978Z"
   },
   {
    "duration": 27747,
    "start_time": "2021-12-13T18:16:02.135Z"
   },
   {
    "duration": 85,
    "start_time": "2021-12-13T18:17:23.587Z"
   },
   {
    "duration": 7351,
    "start_time": "2021-12-13T18:17:47.883Z"
   },
   {
    "duration": 1230,
    "start_time": "2021-12-13T18:18:13.654Z"
   },
   {
    "duration": 428,
    "start_time": "2021-12-13T18:18:14.886Z"
   },
   {
    "duration": 13,
    "start_time": "2021-12-13T18:18:15.316Z"
   },
   {
    "duration": 20,
    "start_time": "2021-12-13T18:18:15.331Z"
   },
   {
    "duration": 7,
    "start_time": "2021-12-13T18:18:15.352Z"
   },
   {
    "duration": 6,
    "start_time": "2021-12-13T18:18:15.361Z"
   },
   {
    "duration": 10,
    "start_time": "2021-12-13T18:18:15.369Z"
   },
   {
    "duration": 23,
    "start_time": "2021-12-13T18:18:15.382Z"
   },
   {
    "duration": 18,
    "start_time": "2021-12-13T18:18:15.407Z"
   },
   {
    "duration": 7,
    "start_time": "2021-12-13T18:18:15.427Z"
   },
   {
    "duration": 16,
    "start_time": "2021-12-13T18:18:15.464Z"
   },
   {
    "duration": 11,
    "start_time": "2021-12-13T18:18:15.482Z"
   },
   {
    "duration": 19,
    "start_time": "2021-12-13T18:18:15.494Z"
   },
   {
    "duration": 13,
    "start_time": "2021-12-13T18:18:15.515Z"
   },
   {
    "duration": 39,
    "start_time": "2021-12-13T18:18:15.529Z"
   },
   {
    "duration": 8,
    "start_time": "2021-12-13T18:18:15.570Z"
   },
   {
    "duration": 124,
    "start_time": "2021-12-13T18:18:15.580Z"
   },
   {
    "duration": 78,
    "start_time": "2021-12-13T18:18:15.706Z"
   },
   {
    "duration": 55,
    "start_time": "2021-12-13T18:18:15.786Z"
   },
   {
    "duration": 20,
    "start_time": "2021-12-13T18:18:15.843Z"
   },
   {
    "duration": 49,
    "start_time": "2021-12-13T18:18:15.865Z"
   },
   {
    "duration": 15,
    "start_time": "2021-12-13T18:18:15.915Z"
   },
   {
    "duration": 23,
    "start_time": "2021-12-13T18:18:15.934Z"
   },
   {
    "duration": 34,
    "start_time": "2021-12-13T18:18:15.960Z"
   },
   {
    "duration": 89,
    "start_time": "2021-12-13T18:18:15.996Z"
   },
   {
    "duration": 247,
    "start_time": "2021-12-13T18:18:16.087Z"
   },
   {
    "duration": 35,
    "start_time": "2021-12-13T18:18:16.336Z"
   },
   {
    "duration": 37,
    "start_time": "2021-12-13T18:18:16.373Z"
   },
   {
    "duration": 23,
    "start_time": "2021-12-13T18:18:16.412Z"
   },
   {
    "duration": 44,
    "start_time": "2021-12-13T18:18:16.437Z"
   },
   {
    "duration": 14,
    "start_time": "2021-12-13T18:18:16.483Z"
   },
   {
    "duration": 25,
    "start_time": "2021-12-13T18:18:16.498Z"
   },
   {
    "duration": 120,
    "start_time": "2021-12-13T18:18:16.525Z"
   },
   {
    "duration": 25,
    "start_time": "2021-12-13T18:18:16.647Z"
   },
   {
    "duration": 43,
    "start_time": "2021-12-13T18:18:16.675Z"
   },
   {
    "duration": 22,
    "start_time": "2021-12-13T18:18:16.720Z"
   },
   {
    "duration": 6538,
    "start_time": "2021-12-13T18:18:16.744Z"
   },
   {
    "duration": 320,
    "start_time": "2021-12-14T10:51:28.895Z"
   },
   {
    "duration": 1562,
    "start_time": "2021-12-14T10:51:57.912Z"
   },
   {
    "duration": 518,
    "start_time": "2021-12-14T10:51:59.477Z"
   },
   {
    "duration": 26,
    "start_time": "2021-12-14T10:51:59.999Z"
   },
   {
    "duration": 21,
    "start_time": "2021-12-14T10:52:00.028Z"
   },
   {
    "duration": 29,
    "start_time": "2021-12-14T10:52:00.051Z"
   },
   {
    "duration": 50,
    "start_time": "2021-12-14T10:52:00.083Z"
   },
   {
    "duration": 53,
    "start_time": "2021-12-14T10:52:00.135Z"
   },
   {
    "duration": 49,
    "start_time": "2021-12-14T10:52:00.192Z"
   },
   {
    "duration": 20,
    "start_time": "2021-12-14T10:52:00.245Z"
   },
   {
    "duration": 11,
    "start_time": "2021-12-14T10:52:00.268Z"
   },
   {
    "duration": 49,
    "start_time": "2021-12-14T10:52:00.281Z"
   },
   {
    "duration": 21,
    "start_time": "2021-12-14T10:52:00.332Z"
   },
   {
    "duration": 27,
    "start_time": "2021-12-14T10:52:00.356Z"
   },
   {
    "duration": 34,
    "start_time": "2021-12-14T10:52:00.385Z"
   },
   {
    "duration": 13,
    "start_time": "2021-12-14T10:52:00.422Z"
   },
   {
    "duration": 23,
    "start_time": "2021-12-14T10:52:00.438Z"
   },
   {
    "duration": 117,
    "start_time": "2021-12-14T10:52:00.463Z"
   },
   {
    "duration": 110,
    "start_time": "2021-12-14T10:52:00.583Z"
   },
   {
    "duration": 74,
    "start_time": "2021-12-14T10:52:00.695Z"
   },
   {
    "duration": 21,
    "start_time": "2021-12-14T10:52:00.771Z"
   },
   {
    "duration": 43,
    "start_time": "2021-12-14T10:52:00.794Z"
   },
   {
    "duration": 21,
    "start_time": "2021-12-14T10:52:00.839Z"
   },
   {
    "duration": 26,
    "start_time": "2021-12-14T10:52:00.866Z"
   },
   {
    "duration": 39,
    "start_time": "2021-12-14T10:52:00.895Z"
   },
   {
    "duration": 101,
    "start_time": "2021-12-14T10:52:00.937Z"
   },
   {
    "duration": 390,
    "start_time": "2021-12-14T10:52:01.041Z"
   },
   {
    "duration": 41,
    "start_time": "2021-12-14T10:52:01.434Z"
   },
   {
    "duration": 62,
    "start_time": "2021-12-14T10:52:01.477Z"
   },
   {
    "duration": 37,
    "start_time": "2021-12-14T10:52:01.542Z"
   },
   {
    "duration": 61,
    "start_time": "2021-12-14T10:52:01.581Z"
   },
   {
    "duration": 12,
    "start_time": "2021-12-14T10:52:01.644Z"
   },
   {
    "duration": 8,
    "start_time": "2021-12-14T10:52:01.659Z"
   },
   {
    "duration": 185,
    "start_time": "2021-12-14T10:52:01.669Z"
   },
   {
    "duration": 31,
    "start_time": "2021-12-14T10:52:01.856Z"
   },
   {
    "duration": 87,
    "start_time": "2021-12-14T10:52:01.890Z"
   },
   {
    "duration": 49,
    "start_time": "2021-12-14T10:52:01.980Z"
   },
   {
    "duration": 10429,
    "start_time": "2021-12-14T10:52:02.032Z"
   },
   {
    "duration": 12114,
    "start_time": "2021-12-14T10:52:36.395Z"
   },
   {
    "duration": 47250,
    "start_time": "2021-12-14T10:53:11.974Z"
   },
   {
    "duration": 768,
    "start_time": "2021-12-14T10:54:35.760Z"
   },
   {
    "duration": 46875,
    "start_time": "2021-12-14T10:54:47.166Z"
   },
   {
    "duration": 50738,
    "start_time": "2021-12-14T10:56:58.699Z"
   },
   {
    "duration": 837,
    "start_time": "2021-12-14T11:07:03.261Z"
   },
   {
    "duration": 631,
    "start_time": "2021-12-14T11:07:25.310Z"
   },
   {
    "duration": 284,
    "start_time": "2021-12-14T11:07:39.874Z"
   },
   {
    "duration": 260,
    "start_time": "2021-12-14T11:08:17.853Z"
   },
   {
    "duration": 352,
    "start_time": "2021-12-14T11:08:47.823Z"
   },
   {
    "duration": 726,
    "start_time": "2021-12-14T11:09:15.730Z"
   },
   {
    "duration": 300,
    "start_time": "2021-12-14T11:09:23.439Z"
   },
   {
    "duration": 733,
    "start_time": "2021-12-14T11:09:46.746Z"
   },
   {
    "duration": 746,
    "start_time": "2021-12-14T11:10:27.433Z"
   },
   {
    "duration": 54890,
    "start_time": "2021-12-14T11:18:17.067Z"
   },
   {
    "duration": 324,
    "start_time": "2021-12-14T11:20:11.453Z"
   },
   {
    "duration": 498,
    "start_time": "2021-12-14T11:20:37.035Z"
   },
   {
    "duration": 29499,
    "start_time": "2021-12-14T11:21:24.276Z"
   },
   {
    "duration": 291,
    "start_time": "2021-12-14T11:26:32.639Z"
   },
   {
    "duration": 23,
    "start_time": "2021-12-14T11:27:20.271Z"
   },
   {
    "duration": 28,
    "start_time": "2021-12-14T11:27:28.196Z"
   },
   {
    "duration": 46042,
    "start_time": "2021-12-14T11:27:33.301Z"
   },
   {
    "duration": 313,
    "start_time": "2021-12-14T11:28:50.451Z"
   },
   {
    "duration": 303,
    "start_time": "2021-12-14T11:29:14.136Z"
   },
   {
    "duration": 321,
    "start_time": "2021-12-14T11:29:23.639Z"
   },
   {
    "duration": 1118,
    "start_time": "2021-12-14T11:29:30.283Z"
   },
   {
    "duration": 353,
    "start_time": "2021-12-14T11:29:35.015Z"
   },
   {
    "duration": 439,
    "start_time": "2021-12-14T11:29:55.990Z"
   },
   {
    "duration": 459,
    "start_time": "2021-12-14T11:30:21.815Z"
   },
   {
    "duration": 45966,
    "start_time": "2021-12-14T11:42:11.018Z"
   },
   {
    "duration": 48491,
    "start_time": "2021-12-14T11:43:02.292Z"
   },
   {
    "duration": 464,
    "start_time": "2021-12-14T11:45:24.615Z"
   },
   {
    "duration": 438,
    "start_time": "2021-12-14T11:45:47.330Z"
   },
   {
    "duration": 463,
    "start_time": "2021-12-14T11:46:03.930Z"
   },
   {
    "duration": 49008,
    "start_time": "2021-12-14T11:50:01.403Z"
   },
   {
    "duration": 489,
    "start_time": "2021-12-14T11:59:00.512Z"
   },
   {
    "duration": 801,
    "start_time": "2021-12-14T11:59:55.853Z"
   },
   {
    "duration": 460,
    "start_time": "2021-12-14T12:00:34.825Z"
   },
   {
    "duration": 737,
    "start_time": "2021-12-14T12:00:37.066Z"
   },
   {
    "duration": 1509,
    "start_time": "2021-12-14T12:00:48.737Z"
   },
   {
    "duration": 540,
    "start_time": "2021-12-14T12:00:50.249Z"
   },
   {
    "duration": 20,
    "start_time": "2021-12-14T12:00:50.792Z"
   },
   {
    "duration": 17,
    "start_time": "2021-12-14T12:00:50.815Z"
   },
   {
    "duration": 15,
    "start_time": "2021-12-14T12:00:50.836Z"
   },
   {
    "duration": 8,
    "start_time": "2021-12-14T12:00:50.855Z"
   },
   {
    "duration": 23,
    "start_time": "2021-12-14T12:00:50.866Z"
   },
   {
    "duration": 44,
    "start_time": "2021-12-14T12:00:50.893Z"
   },
   {
    "duration": 20,
    "start_time": "2021-12-14T12:00:50.941Z"
   },
   {
    "duration": 11,
    "start_time": "2021-12-14T12:00:50.963Z"
   },
   {
    "duration": 54,
    "start_time": "2021-12-14T12:00:50.976Z"
   },
   {
    "duration": 13,
    "start_time": "2021-12-14T12:00:51.033Z"
   },
   {
    "duration": 28,
    "start_time": "2021-12-14T12:00:51.049Z"
   },
   {
    "duration": 43,
    "start_time": "2021-12-14T12:00:51.080Z"
   },
   {
    "duration": 18,
    "start_time": "2021-12-14T12:00:51.126Z"
   },
   {
    "duration": 13,
    "start_time": "2021-12-14T12:00:51.147Z"
   },
   {
    "duration": 190,
    "start_time": "2021-12-14T12:00:51.163Z"
   },
   {
    "duration": 195,
    "start_time": "2021-12-14T12:00:51.356Z"
   },
   {
    "duration": 106,
    "start_time": "2021-12-14T12:00:51.554Z"
   },
   {
    "duration": 5,
    "start_time": "2021-12-14T12:00:51.662Z"
   },
   {
    "duration": 50,
    "start_time": "2021-12-14T12:00:51.669Z"
   },
   {
    "duration": 25,
    "start_time": "2021-12-14T12:00:51.722Z"
   },
   {
    "duration": 35,
    "start_time": "2021-12-14T12:00:51.754Z"
   },
   {
    "duration": 51,
    "start_time": "2021-12-14T12:00:51.792Z"
   },
   {
    "duration": 139,
    "start_time": "2021-12-14T12:00:51.845Z"
   },
   {
    "duration": 403,
    "start_time": "2021-12-14T12:00:51.986Z"
   },
   {
    "duration": 52,
    "start_time": "2021-12-14T12:00:52.391Z"
   },
   {
    "duration": 43,
    "start_time": "2021-12-14T12:00:52.445Z"
   },
   {
    "duration": 56,
    "start_time": "2021-12-14T12:00:52.490Z"
   },
   {
    "duration": 38,
    "start_time": "2021-12-14T12:00:52.549Z"
   },
   {
    "duration": 38,
    "start_time": "2021-12-14T12:00:52.589Z"
   },
   {
    "duration": 17,
    "start_time": "2021-12-14T12:00:52.630Z"
   },
   {
    "duration": 181,
    "start_time": "2021-12-14T12:00:52.649Z"
   },
   {
    "duration": 31,
    "start_time": "2021-12-14T12:00:52.832Z"
   },
   {
    "duration": 82,
    "start_time": "2021-12-14T12:00:52.866Z"
   },
   {
    "duration": 22,
    "start_time": "2021-12-14T12:00:52.950Z"
   },
   {
    "duration": 48,
    "start_time": "2021-12-14T12:00:52.975Z"
   },
   {
    "duration": 470,
    "start_time": "2021-12-14T12:00:53.025Z"
   },
   {
    "duration": 1060,
    "start_time": "2021-12-14T12:00:53.497Z"
   },
   {
    "duration": 2799,
    "start_time": "2021-12-14T12:01:17.696Z"
   },
   {
    "duration": 444,
    "start_time": "2021-12-14T12:01:42.347Z"
   },
   {
    "duration": 519,
    "start_time": "2021-12-14T12:01:58.172Z"
   },
   {
    "duration": 435,
    "start_time": "2021-12-14T12:02:00.564Z"
   },
   {
    "duration": 440,
    "start_time": "2021-12-14T12:02:48.121Z"
   },
   {
    "duration": 440,
    "start_time": "2021-12-14T12:02:50.840Z"
   },
   {
    "duration": 511,
    "start_time": "2021-12-14T12:07:33.883Z"
   },
   {
    "duration": 16,
    "start_time": "2021-12-14T12:10:20.024Z"
   },
   {
    "duration": 28,
    "start_time": "2021-12-14T12:10:25.221Z"
   },
   {
    "duration": 447,
    "start_time": "2021-12-14T13:09:31.451Z"
   },
   {
    "duration": 497,
    "start_time": "2021-12-14T13:14:16.825Z"
   },
   {
    "duration": 85,
    "start_time": "2021-12-14T13:15:27.448Z"
   },
   {
    "duration": 432,
    "start_time": "2021-12-14T13:15:31.145Z"
   },
   {
    "duration": 686,
    "start_time": "2021-12-14T13:16:10.148Z"
   },
   {
    "duration": 1453,
    "start_time": "2021-12-14T13:30:06.250Z"
   },
   {
    "duration": 559,
    "start_time": "2021-12-14T13:30:07.706Z"
   },
   {
    "duration": 19,
    "start_time": "2021-12-14T13:30:08.268Z"
   },
   {
    "duration": 15,
    "start_time": "2021-12-14T13:30:08.290Z"
   },
   {
    "duration": 10,
    "start_time": "2021-12-14T13:30:08.307Z"
   },
   {
    "duration": 10,
    "start_time": "2021-12-14T13:30:08.320Z"
   },
   {
    "duration": 13,
    "start_time": "2021-12-14T13:30:08.332Z"
   },
   {
    "duration": 29,
    "start_time": "2021-12-14T13:30:08.349Z"
   },
   {
    "duration": 50,
    "start_time": "2021-12-14T13:30:08.382Z"
   },
   {
    "duration": 11,
    "start_time": "2021-12-14T13:30:08.435Z"
   },
   {
    "duration": 22,
    "start_time": "2021-12-14T13:30:08.448Z"
   },
   {
    "duration": 46,
    "start_time": "2021-12-14T13:30:08.473Z"
   },
   {
    "duration": 26,
    "start_time": "2021-12-14T13:30:08.523Z"
   },
   {
    "duration": 16,
    "start_time": "2021-12-14T13:30:08.552Z"
   },
   {
    "duration": 50,
    "start_time": "2021-12-14T13:30:08.571Z"
   },
   {
    "duration": 13,
    "start_time": "2021-12-14T13:30:08.624Z"
   },
   {
    "duration": 165,
    "start_time": "2021-12-14T13:30:08.640Z"
   },
   {
    "duration": 132,
    "start_time": "2021-12-14T13:30:08.807Z"
   },
   {
    "duration": 90,
    "start_time": "2021-12-14T13:30:08.941Z"
   },
   {
    "duration": 13,
    "start_time": "2021-12-14T13:30:09.033Z"
   },
   {
    "duration": 44,
    "start_time": "2021-12-14T13:30:09.049Z"
   },
   {
    "duration": 31,
    "start_time": "2021-12-14T13:30:09.096Z"
   },
   {
    "duration": 27,
    "start_time": "2021-12-14T13:30:09.134Z"
   },
   {
    "duration": 23,
    "start_time": "2021-12-14T13:30:09.163Z"
   },
   {
    "duration": 146,
    "start_time": "2021-12-14T13:30:09.189Z"
   },
   {
    "duration": 375,
    "start_time": "2021-12-14T13:30:09.338Z"
   },
   {
    "duration": 34,
    "start_time": "2021-12-14T13:30:09.717Z"
   },
   {
    "duration": 62,
    "start_time": "2021-12-14T13:30:09.754Z"
   },
   {
    "duration": 36,
    "start_time": "2021-12-14T13:30:09.819Z"
   },
   {
    "duration": 30,
    "start_time": "2021-12-14T13:30:09.857Z"
   },
   {
    "duration": 38,
    "start_time": "2021-12-14T13:30:09.889Z"
   },
   {
    "duration": 6,
    "start_time": "2021-12-14T13:30:09.930Z"
   },
   {
    "duration": 177,
    "start_time": "2021-12-14T13:30:09.938Z"
   },
   {
    "duration": 28,
    "start_time": "2021-12-14T13:30:10.118Z"
   },
   {
    "duration": 87,
    "start_time": "2021-12-14T13:30:10.148Z"
   },
   {
    "duration": 23,
    "start_time": "2021-12-14T13:30:10.237Z"
   },
   {
    "duration": 30,
    "start_time": "2021-12-14T13:30:10.262Z"
   },
   {
    "duration": 825,
    "start_time": "2021-12-14T13:30:10.318Z"
   },
   {
    "duration": 13,
    "start_time": "2021-12-14T13:30:11.133Z"
   },
   {
    "duration": 11,
    "start_time": "2021-12-14T13:30:11.137Z"
   },
   {
    "duration": 282,
    "start_time": "2021-12-14T13:30:33.206Z"
   },
   {
    "duration": 1457,
    "start_time": "2021-12-14T13:30:40.646Z"
   },
   {
    "duration": 537,
    "start_time": "2021-12-14T13:30:42.105Z"
   },
   {
    "duration": 19,
    "start_time": "2021-12-14T13:30:42.645Z"
   },
   {
    "duration": 21,
    "start_time": "2021-12-14T13:30:42.667Z"
   },
   {
    "duration": 22,
    "start_time": "2021-12-14T13:30:42.691Z"
   },
   {
    "duration": 10,
    "start_time": "2021-12-14T13:30:42.715Z"
   },
   {
    "duration": 29,
    "start_time": "2021-12-14T13:30:42.728Z"
   },
   {
    "duration": 35,
    "start_time": "2021-12-14T13:30:42.761Z"
   },
   {
    "duration": 22,
    "start_time": "2021-12-14T13:30:42.799Z"
   },
   {
    "duration": 10,
    "start_time": "2021-12-14T13:30:42.823Z"
   },
   {
    "duration": 28,
    "start_time": "2021-12-14T13:30:42.835Z"
   },
   {
    "duration": 12,
    "start_time": "2021-12-14T13:30:42.866Z"
   },
   {
    "duration": 52,
    "start_time": "2021-12-14T13:30:42.881Z"
   },
   {
    "duration": 13,
    "start_time": "2021-12-14T13:30:42.935Z"
   },
   {
    "duration": 13,
    "start_time": "2021-12-14T13:30:42.951Z"
   },
   {
    "duration": 29,
    "start_time": "2021-12-14T13:30:42.966Z"
   },
   {
    "duration": 123,
    "start_time": "2021-12-14T13:30:42.997Z"
   },
   {
    "duration": 108,
    "start_time": "2021-12-14T13:30:43.123Z"
   },
   {
    "duration": 88,
    "start_time": "2021-12-14T13:30:43.233Z"
   },
   {
    "duration": 5,
    "start_time": "2021-12-14T13:30:43.324Z"
   },
   {
    "duration": 36,
    "start_time": "2021-12-14T13:30:43.331Z"
   },
   {
    "duration": 20,
    "start_time": "2021-12-14T13:30:43.369Z"
   },
   {
    "duration": 46,
    "start_time": "2021-12-14T13:30:43.394Z"
   },
   {
    "duration": 22,
    "start_time": "2021-12-14T13:30:43.443Z"
   },
   {
    "duration": 110,
    "start_time": "2021-12-14T13:30:43.467Z"
   },
   {
    "duration": 381,
    "start_time": "2021-12-14T13:30:43.580Z"
   },
   {
    "duration": 36,
    "start_time": "2021-12-14T13:30:43.963Z"
   },
   {
    "duration": 39,
    "start_time": "2021-12-14T13:30:44.017Z"
   },
   {
    "duration": 36,
    "start_time": "2021-12-14T13:30:44.058Z"
   },
   {
    "duration": 34,
    "start_time": "2021-12-14T13:30:44.116Z"
   },
   {
    "duration": 13,
    "start_time": "2021-12-14T13:30:44.153Z"
   },
   {
    "duration": 9,
    "start_time": "2021-12-14T13:30:44.168Z"
   },
   {
    "duration": 204,
    "start_time": "2021-12-14T13:30:44.180Z"
   },
   {
    "duration": 35,
    "start_time": "2021-12-14T13:30:44.387Z"
   },
   {
    "duration": 23,
    "start_time": "2021-12-14T13:30:44.425Z"
   },
   {
    "duration": 94,
    "start_time": "2021-12-14T13:30:44.450Z"
   },
   {
    "duration": 393,
    "start_time": "2021-12-14T13:30:44.547Z"
   },
   {
    "duration": -65,
    "start_time": "2021-12-14T13:30:45.007Z"
   },
   {
    "duration": -95,
    "start_time": "2021-12-14T13:30:45.039Z"
   },
   {
    "duration": -110,
    "start_time": "2021-12-14T13:30:45.055Z"
   },
   {
    "duration": -114,
    "start_time": "2021-12-14T13:30:45.061Z"
   },
   {
    "duration": 61,
    "start_time": "2021-12-14T13:31:27.145Z"
   },
   {
    "duration": 29,
    "start_time": "2021-12-14T13:34:03.295Z"
   },
   {
    "duration": 438,
    "start_time": "2021-12-14T13:34:25.475Z"
   },
   {
    "duration": 16,
    "start_time": "2021-12-14T13:35:45.951Z"
   },
   {
    "duration": 9,
    "start_time": "2021-12-14T13:35:57.819Z"
   },
   {
    "duration": 10,
    "start_time": "2021-12-14T13:36:27.755Z"
   },
   {
    "duration": 286,
    "start_time": "2021-12-14T13:36:41.524Z"
   },
   {
    "duration": 46163,
    "start_time": "2021-12-14T13:37:54.632Z"
   },
   {
    "duration": 13,
    "start_time": "2021-12-14T13:39:02.574Z"
   },
   {
    "duration": 33253,
    "start_time": "2021-12-14T13:40:17.530Z"
   },
   {
    "duration": 33197,
    "start_time": "2021-12-14T13:41:28.574Z"
   },
   {
    "duration": 32723,
    "start_time": "2021-12-14T13:42:36.553Z"
   },
   {
    "duration": 297,
    "start_time": "2021-12-14T13:45:11.517Z"
   },
   {
    "duration": 32542,
    "start_time": "2021-12-14T13:45:47.736Z"
   },
   {
    "duration": 522,
    "start_time": "2021-12-14T13:49:29.250Z"
   },
   {
    "duration": 536,
    "start_time": "2021-12-14T13:49:51.334Z"
   },
   {
    "duration": 1280,
    "start_time": "2021-12-14T13:49:56.317Z"
   },
   {
    "duration": 6792,
    "start_time": "2021-12-14T13:50:25.282Z"
   },
   {
    "duration": 1491,
    "start_time": "2021-12-14T13:51:39.702Z"
   },
   {
    "duration": 522,
    "start_time": "2021-12-14T13:51:41.196Z"
   },
   {
    "duration": 19,
    "start_time": "2021-12-14T13:51:41.721Z"
   },
   {
    "duration": 38,
    "start_time": "2021-12-14T13:51:41.743Z"
   },
   {
    "duration": 16,
    "start_time": "2021-12-14T13:51:41.783Z"
   },
   {
    "duration": 19,
    "start_time": "2021-12-14T13:51:41.801Z"
   },
   {
    "duration": 12,
    "start_time": "2021-12-14T13:51:41.822Z"
   },
   {
    "duration": 28,
    "start_time": "2021-12-14T13:51:41.838Z"
   },
   {
    "duration": 19,
    "start_time": "2021-12-14T13:51:41.869Z"
   },
   {
    "duration": 10,
    "start_time": "2021-12-14T13:51:41.917Z"
   },
   {
    "duration": 34,
    "start_time": "2021-12-14T13:51:41.930Z"
   },
   {
    "duration": 21,
    "start_time": "2021-12-14T13:51:41.966Z"
   },
   {
    "duration": 36,
    "start_time": "2021-12-14T13:51:41.990Z"
   },
   {
    "duration": 13,
    "start_time": "2021-12-14T13:51:42.029Z"
   },
   {
    "duration": 21,
    "start_time": "2021-12-14T13:51:42.045Z"
   },
   {
    "duration": 19,
    "start_time": "2021-12-14T13:51:42.069Z"
   },
   {
    "duration": 119,
    "start_time": "2021-12-14T13:51:42.091Z"
   },
   {
    "duration": 110,
    "start_time": "2021-12-14T13:51:42.213Z"
   },
   {
    "duration": 73,
    "start_time": "2021-12-14T13:51:42.326Z"
   },
   {
    "duration": 7,
    "start_time": "2021-12-14T13:51:42.417Z"
   },
   {
    "duration": 48,
    "start_time": "2021-12-14T13:51:42.426Z"
   },
   {
    "duration": 20,
    "start_time": "2021-12-14T13:51:42.477Z"
   },
   {
    "duration": 31,
    "start_time": "2021-12-14T13:51:42.501Z"
   },
   {
    "duration": 21,
    "start_time": "2021-12-14T13:51:42.534Z"
   },
   {
    "duration": 111,
    "start_time": "2021-12-14T13:51:42.558Z"
   },
   {
    "duration": 383,
    "start_time": "2021-12-14T13:51:42.672Z"
   },
   {
    "duration": 35,
    "start_time": "2021-12-14T13:51:43.057Z"
   },
   {
    "duration": 57,
    "start_time": "2021-12-14T13:51:43.095Z"
   },
   {
    "duration": 36,
    "start_time": "2021-12-14T13:51:43.154Z"
   },
   {
    "duration": 53,
    "start_time": "2021-12-14T13:51:43.192Z"
   },
   {
    "duration": 11,
    "start_time": "2021-12-14T13:51:43.248Z"
   },
   {
    "duration": 6,
    "start_time": "2021-12-14T13:51:43.261Z"
   },
   {
    "duration": 183,
    "start_time": "2021-12-14T13:51:43.269Z"
   },
   {
    "duration": 22,
    "start_time": "2021-12-14T13:51:43.454Z"
   },
   {
    "duration": 81,
    "start_time": "2021-12-14T13:51:43.478Z"
   },
   {
    "duration": 6734,
    "start_time": "2021-12-14T13:51:43.561Z"
   },
   {
    "duration": -95,
    "start_time": "2021-12-14T13:51:50.392Z"
   },
   {
    "duration": -98,
    "start_time": "2021-12-14T13:51:50.397Z"
   },
   {
    "duration": -103,
    "start_time": "2021-12-14T13:51:50.403Z"
   },
   {
    "duration": -108,
    "start_time": "2021-12-14T13:51:50.409Z"
   },
   {
    "duration": 7558,
    "start_time": "2021-12-14T13:52:50.361Z"
   },
   {
    "duration": 4874,
    "start_time": "2021-12-14T13:53:20.667Z"
   },
   {
    "duration": 264,
    "start_time": "2021-12-14T13:54:45.739Z"
   },
   {
    "duration": 14,
    "start_time": "2021-12-14T13:54:57.909Z"
   },
   {
    "duration": 11,
    "start_time": "2021-12-14T13:55:05.150Z"
   },
   {
    "duration": 309,
    "start_time": "2021-12-14T13:55:12.071Z"
   },
   {
    "duration": 3554,
    "start_time": "2021-12-14T13:57:59.858Z"
   },
   {
    "duration": 306,
    "start_time": "2021-12-14T13:58:29.272Z"
   },
   {
    "duration": 592,
    "start_time": "2021-12-14T13:58:52.409Z"
   },
   {
    "duration": 373,
    "start_time": "2021-12-14T13:59:21.581Z"
   },
   {
    "duration": 324,
    "start_time": "2021-12-14T13:59:27.296Z"
   },
   {
    "duration": 361,
    "start_time": "2021-12-14T14:02:46.508Z"
   },
   {
    "duration": 377,
    "start_time": "2021-12-14T14:03:00.388Z"
   },
   {
    "duration": 361,
    "start_time": "2021-12-14T14:04:28.615Z"
   },
   {
    "duration": 362,
    "start_time": "2021-12-14T14:05:11.862Z"
   },
   {
    "duration": 389,
    "start_time": "2021-12-14T14:05:24.154Z"
   },
   {
    "duration": 361,
    "start_time": "2021-12-14T14:05:36.035Z"
   },
   {
    "duration": 379,
    "start_time": "2021-12-14T14:06:56.622Z"
   },
   {
    "duration": 571,
    "start_time": "2021-12-14T14:07:14.613Z"
   },
   {
    "duration": 631,
    "start_time": "2021-12-14T14:07:35.058Z"
   },
   {
    "duration": 373,
    "start_time": "2021-12-14T14:07:51.287Z"
   },
   {
    "duration": 361,
    "start_time": "2021-12-14T14:10:40.528Z"
   },
   {
    "duration": 363,
    "start_time": "2021-12-14T14:10:55.033Z"
   },
   {
    "duration": 608,
    "start_time": "2021-12-14T14:11:08.599Z"
   },
   {
    "duration": 363,
    "start_time": "2021-12-14T14:11:16.580Z"
   },
   {
    "duration": 240,
    "start_time": "2021-12-14T14:12:02.638Z"
   },
   {
    "duration": 287,
    "start_time": "2021-12-14T14:12:17.663Z"
   },
   {
    "duration": 249,
    "start_time": "2021-12-14T14:12:23.579Z"
   },
   {
    "duration": 371,
    "start_time": "2021-12-14T14:13:29.235Z"
   },
   {
    "duration": 313,
    "start_time": "2021-12-14T14:13:46.432Z"
   },
   {
    "duration": 397,
    "start_time": "2021-12-14T14:13:51.920Z"
   },
   {
    "duration": 372,
    "start_time": "2021-12-14T14:14:41.119Z"
   },
   {
    "duration": 363,
    "start_time": "2021-12-14T14:15:47.378Z"
   },
   {
    "duration": 382,
    "start_time": "2021-12-14T14:16:05.362Z"
   },
   {
    "duration": 399,
    "start_time": "2021-12-14T14:16:16.967Z"
   },
   {
    "duration": 509,
    "start_time": "2021-12-14T14:16:30.181Z"
   },
   {
    "duration": 375,
    "start_time": "2021-12-14T14:16:49.652Z"
   },
   {
    "duration": 380,
    "start_time": "2021-12-14T14:16:55.341Z"
   },
   {
    "duration": 388,
    "start_time": "2021-12-14T14:17:00.376Z"
   },
   {
    "duration": 663,
    "start_time": "2021-12-14T14:17:35.194Z"
   },
   {
    "duration": 397,
    "start_time": "2021-12-14T14:17:49.367Z"
   },
   {
    "duration": 388,
    "start_time": "2021-12-14T14:18:35.972Z"
   },
   {
    "duration": 95,
    "start_time": "2021-12-14T14:20:06.268Z"
   },
   {
    "duration": 385,
    "start_time": "2021-12-14T14:20:14.346Z"
   },
   {
    "duration": 397,
    "start_time": "2021-12-14T14:20:22.668Z"
   },
   {
    "duration": 512,
    "start_time": "2021-12-14T14:22:25.805Z"
   },
   {
    "duration": 646,
    "start_time": "2021-12-14T14:23:33.431Z"
   },
   {
    "duration": 376,
    "start_time": "2021-12-14T14:24:09.332Z"
   },
   {
    "duration": 510,
    "start_time": "2021-12-14T14:26:02.613Z"
   },
   {
    "duration": 389,
    "start_time": "2021-12-14T14:26:50.214Z"
   },
   {
    "duration": 398,
    "start_time": "2021-12-14T14:31:09.213Z"
   },
   {
    "duration": 405,
    "start_time": "2021-12-14T14:31:17.974Z"
   },
   {
    "duration": 403,
    "start_time": "2021-12-14T14:31:29.156Z"
   },
   {
    "duration": 381,
    "start_time": "2021-12-14T14:31:48.670Z"
   },
   {
    "duration": 240,
    "start_time": "2021-12-14T14:34:18.802Z"
   },
   {
    "duration": 250,
    "start_time": "2021-12-14T14:34:26.422Z"
   },
   {
    "duration": 11,
    "start_time": "2021-12-14T14:35:14.103Z"
   },
   {
    "duration": 254,
    "start_time": "2021-12-14T14:36:03.008Z"
   },
   {
    "duration": 502,
    "start_time": "2021-12-14T14:46:19.843Z"
   },
   {
    "duration": 506,
    "start_time": "2021-12-14T14:47:23.971Z"
   },
   {
    "duration": 512,
    "start_time": "2021-12-14T14:50:08.080Z"
   },
   {
    "duration": 560,
    "start_time": "2021-12-14T14:50:24.192Z"
   },
   {
    "duration": 479,
    "start_time": "2021-12-14T15:00:17.642Z"
   },
   {
    "duration": 240,
    "start_time": "2021-12-14T15:00:31.679Z"
   },
   {
    "duration": 6,
    "start_time": "2021-12-14T15:09:33.976Z"
   },
   {
    "duration": 383,
    "start_time": "2021-12-14T15:10:02.737Z"
   },
   {
    "duration": 730,
    "start_time": "2021-12-14T15:19:26.933Z"
   },
   {
    "duration": 415,
    "start_time": "2021-12-14T15:19:47.258Z"
   },
   {
    "duration": 53,
    "start_time": "2021-12-14T15:33:47.259Z"
   },
   {
    "duration": 57,
    "start_time": "2021-12-14T15:34:39.865Z"
   },
   {
    "duration": 71,
    "start_time": "2021-12-14T15:34:54.061Z"
   },
   {
    "duration": 58,
    "start_time": "2021-12-14T15:39:52.090Z"
   },
   {
    "duration": 58,
    "start_time": "2021-12-14T15:39:53.054Z"
   },
   {
    "duration": 4,
    "start_time": "2021-12-14T16:05:05.558Z"
   },
   {
    "duration": 1502,
    "start_time": "2021-12-14T16:05:15.690Z"
   },
   {
    "duration": 515,
    "start_time": "2021-12-14T16:05:17.194Z"
   },
   {
    "duration": 19,
    "start_time": "2021-12-14T16:05:17.712Z"
   },
   {
    "duration": 9,
    "start_time": "2021-12-14T16:05:17.734Z"
   },
   {
    "duration": 7,
    "start_time": "2021-12-14T16:05:17.745Z"
   },
   {
    "duration": 7,
    "start_time": "2021-12-14T16:05:17.754Z"
   },
   {
    "duration": 14,
    "start_time": "2021-12-14T16:05:17.763Z"
   },
   {
    "duration": 65,
    "start_time": "2021-12-14T16:05:17.781Z"
   },
   {
    "duration": 18,
    "start_time": "2021-12-14T16:05:17.849Z"
   },
   {
    "duration": 10,
    "start_time": "2021-12-14T16:05:17.870Z"
   },
   {
    "duration": 49,
    "start_time": "2021-12-14T16:05:17.882Z"
   },
   {
    "duration": 11,
    "start_time": "2021-12-14T16:05:17.934Z"
   },
   {
    "duration": 26,
    "start_time": "2021-12-14T16:05:17.947Z"
   },
   {
    "duration": 46,
    "start_time": "2021-12-14T16:05:17.976Z"
   },
   {
    "duration": 10,
    "start_time": "2021-12-14T16:05:18.025Z"
   },
   {
    "duration": 12,
    "start_time": "2021-12-14T16:05:18.038Z"
   },
   {
    "duration": 127,
    "start_time": "2021-12-14T16:05:18.052Z"
   },
   {
    "duration": 109,
    "start_time": "2021-12-14T16:05:18.182Z"
   },
   {
    "duration": 92,
    "start_time": "2021-12-14T16:05:18.293Z"
   },
   {
    "duration": 5,
    "start_time": "2021-12-14T16:05:18.388Z"
   },
   {
    "duration": 48,
    "start_time": "2021-12-14T16:05:18.395Z"
   },
   {
    "duration": 21,
    "start_time": "2021-12-14T16:05:18.445Z"
   },
   {
    "duration": 46,
    "start_time": "2021-12-14T16:05:18.471Z"
   },
   {
    "duration": 22,
    "start_time": "2021-12-14T16:05:18.520Z"
   },
   {
    "duration": 98,
    "start_time": "2021-12-14T16:05:18.544Z"
   },
   {
    "duration": 379,
    "start_time": "2021-12-14T16:05:18.645Z"
   },
   {
    "duration": 34,
    "start_time": "2021-12-14T16:05:19.026Z"
   },
   {
    "duration": 58,
    "start_time": "2021-12-14T16:05:19.062Z"
   },
   {
    "duration": 34,
    "start_time": "2021-12-14T16:05:19.123Z"
   },
   {
    "duration": 22,
    "start_time": "2021-12-14T16:05:19.159Z"
   },
   {
    "duration": 36,
    "start_time": "2021-12-14T16:05:19.183Z"
   },
   {
    "duration": 6,
    "start_time": "2021-12-14T16:05:19.221Z"
   },
   {
    "duration": 181,
    "start_time": "2021-12-14T16:05:19.229Z"
   },
   {
    "duration": 17,
    "start_time": "2021-12-14T16:05:19.412Z"
   },
   {
    "duration": 9,
    "start_time": "2021-12-14T16:05:19.431Z"
   },
   {
    "duration": 77,
    "start_time": "2021-12-14T16:05:19.442Z"
   },
   {
    "duration": 58,
    "start_time": "2021-12-14T16:05:19.521Z"
   },
   {
    "duration": 514,
    "start_time": "2021-12-14T16:05:19.581Z"
   },
   {
    "duration": 401,
    "start_time": "2021-12-14T16:05:20.097Z"
   },
   {
    "duration": 519,
    "start_time": "2021-12-14T16:05:20.500Z"
   },
   {
    "duration": 405,
    "start_time": "2021-12-14T16:05:21.021Z"
   },
   {
    "duration": 604,
    "start_time": "2021-12-14T16:05:21.429Z"
   },
   {
    "duration": 416,
    "start_time": "2021-12-14T16:05:22.036Z"
   },
   {
    "duration": 499,
    "start_time": "2021-12-14T16:05:22.454Z"
   },
   {
    "duration": 5,
    "start_time": "2021-12-14T16:05:22.956Z"
   },
   {
    "duration": 405,
    "start_time": "2021-12-14T16:05:22.963Z"
   },
   {
    "duration": 506,
    "start_time": "2021-12-14T16:05:23.370Z"
   },
   {
    "duration": 511,
    "start_time": "2021-12-14T16:05:23.878Z"
   },
   {
    "duration": 556,
    "start_time": "2021-12-14T16:34:50.391Z"
   },
   {
    "duration": 1499,
    "start_time": "2021-12-14T16:35:04.606Z"
   },
   {
    "duration": 1135,
    "start_time": "2021-12-14T16:35:06.107Z"
   },
   {
    "duration": 18,
    "start_time": "2021-12-14T16:35:07.245Z"
   },
   {
    "duration": 9,
    "start_time": "2021-12-14T16:35:07.266Z"
   },
   {
    "duration": 9,
    "start_time": "2021-12-14T16:35:07.277Z"
   },
   {
    "duration": 7,
    "start_time": "2021-12-14T16:35:07.289Z"
   },
   {
    "duration": 29,
    "start_time": "2021-12-14T16:35:07.298Z"
   },
   {
    "duration": 30,
    "start_time": "2021-12-14T16:35:07.333Z"
   },
   {
    "duration": 58,
    "start_time": "2021-12-14T16:35:07.367Z"
   },
   {
    "duration": 10,
    "start_time": "2021-12-14T16:35:07.428Z"
   },
   {
    "duration": 26,
    "start_time": "2021-12-14T16:35:07.440Z"
   },
   {
    "duration": 12,
    "start_time": "2021-12-14T16:35:07.469Z"
   },
   {
    "duration": 53,
    "start_time": "2021-12-14T16:35:07.483Z"
   },
   {
    "duration": 14,
    "start_time": "2021-12-14T16:35:07.538Z"
   },
   {
    "duration": 10,
    "start_time": "2021-12-14T16:35:07.554Z"
   },
   {
    "duration": 9,
    "start_time": "2021-12-14T16:35:07.567Z"
   },
   {
    "duration": 146,
    "start_time": "2021-12-14T16:35:07.579Z"
   },
   {
    "duration": 112,
    "start_time": "2021-12-14T16:35:07.727Z"
   },
   {
    "duration": 77,
    "start_time": "2021-12-14T16:35:07.842Z"
   },
   {
    "duration": 7,
    "start_time": "2021-12-14T16:35:07.921Z"
   },
   {
    "duration": 37,
    "start_time": "2021-12-14T16:35:07.930Z"
   },
   {
    "duration": 20,
    "start_time": "2021-12-14T16:35:07.970Z"
   },
   {
    "duration": 47,
    "start_time": "2021-12-14T16:35:07.995Z"
   },
   {
    "duration": 21,
    "start_time": "2021-12-14T16:35:08.045Z"
   },
   {
    "duration": 114,
    "start_time": "2021-12-14T16:35:08.069Z"
   },
   {
    "duration": 377,
    "start_time": "2021-12-14T16:35:08.185Z"
   },
   {
    "duration": 53,
    "start_time": "2021-12-14T16:35:08.565Z"
   },
   {
    "duration": 40,
    "start_time": "2021-12-14T16:35:08.622Z"
   },
   {
    "duration": 69,
    "start_time": "2021-12-14T16:35:08.665Z"
   },
   {
    "duration": 24,
    "start_time": "2021-12-14T16:35:08.736Z"
   },
   {
    "duration": 12,
    "start_time": "2021-12-14T16:35:08.763Z"
   },
   {
    "duration": 8,
    "start_time": "2021-12-14T16:35:08.778Z"
   },
   {
    "duration": 197,
    "start_time": "2021-12-14T16:35:08.788Z"
   },
   {
    "duration": 31,
    "start_time": "2021-12-14T16:35:08.987Z"
   },
   {
    "duration": 10,
    "start_time": "2021-12-14T16:35:09.020Z"
   },
   {
    "duration": 60,
    "start_time": "2021-12-14T16:35:09.033Z"
   },
   {
    "duration": 78,
    "start_time": "2021-12-14T16:35:09.117Z"
   },
   {
    "duration": 527,
    "start_time": "2021-12-14T16:35:09.198Z"
   },
   {
    "duration": 548,
    "start_time": "2021-12-14T16:35:09.728Z"
   },
   {
    "duration": 806,
    "start_time": "2021-12-14T16:35:10.279Z"
   },
   {
    "duration": 431,
    "start_time": "2021-12-14T16:35:11.088Z"
   },
   {
    "duration": 622,
    "start_time": "2021-12-14T16:35:11.522Z"
   },
   {
    "duration": 416,
    "start_time": "2021-12-14T16:35:12.147Z"
   },
   {
    "duration": 536,
    "start_time": "2021-12-14T16:35:12.565Z"
   },
   {
    "duration": 14,
    "start_time": "2021-12-14T16:35:13.104Z"
   },
   {
    "duration": 397,
    "start_time": "2021-12-14T16:35:13.120Z"
   },
   {
    "duration": 506,
    "start_time": "2021-12-14T16:35:13.519Z"
   },
   {
    "duration": 537,
    "start_time": "2021-12-14T16:35:14.027Z"
   },
   {
    "duration": 557,
    "start_time": "2021-12-14T16:35:14.567Z"
   },
   {
    "duration": 41,
    "start_time": "2021-12-14T16:35:15.085Z"
   },
   {
    "duration": 449,
    "start_time": "2021-12-14T16:35:56.439Z"
   },
   {
    "duration": 406,
    "start_time": "2021-12-14T16:36:03.355Z"
   },
   {
    "duration": 520,
    "start_time": "2021-12-14T16:36:47.897Z"
   },
   {
    "duration": 9,
    "start_time": "2021-12-14T16:39:43.158Z"
   },
   {
    "duration": 59,
    "start_time": "2021-12-14T16:42:11.760Z"
   },
   {
    "duration": 14,
    "start_time": "2021-12-14T17:06:35.273Z"
   },
   {
    "duration": 16,
    "start_time": "2021-12-14T17:06:43.620Z"
   },
   {
    "duration": 14,
    "start_time": "2021-12-14T17:07:32.070Z"
   },
   {
    "duration": 13,
    "start_time": "2021-12-14T17:10:29.906Z"
   },
   {
    "duration": 15,
    "start_time": "2021-12-14T17:10:39.521Z"
   },
   {
    "duration": 14,
    "start_time": "2021-12-14T17:12:26.198Z"
   },
   {
    "duration": 3683,
    "start_time": "2021-12-14T17:14:50.076Z"
   },
   {
    "duration": 1596,
    "start_time": "2021-12-14T17:15:10.513Z"
   },
   {
    "duration": 514,
    "start_time": "2021-12-14T17:15:12.116Z"
   },
   {
    "duration": 18,
    "start_time": "2021-12-14T17:15:12.633Z"
   },
   {
    "duration": 10,
    "start_time": "2021-12-14T17:15:12.654Z"
   },
   {
    "duration": 7,
    "start_time": "2021-12-14T17:15:12.666Z"
   },
   {
    "duration": 6,
    "start_time": "2021-12-14T17:15:12.676Z"
   },
   {
    "duration": 44,
    "start_time": "2021-12-14T17:15:12.685Z"
   },
   {
    "duration": 29,
    "start_time": "2021-12-14T17:15:12.734Z"
   },
   {
    "duration": 54,
    "start_time": "2021-12-14T17:15:12.767Z"
   },
   {
    "duration": 10,
    "start_time": "2021-12-14T17:15:12.823Z"
   },
   {
    "duration": 22,
    "start_time": "2021-12-14T17:15:12.835Z"
   },
   {
    "duration": 15,
    "start_time": "2021-12-14T17:15:12.860Z"
   },
   {
    "duration": 57,
    "start_time": "2021-12-14T17:15:12.878Z"
   },
   {
    "duration": 13,
    "start_time": "2021-12-14T17:15:12.938Z"
   },
   {
    "duration": 11,
    "start_time": "2021-12-14T17:15:12.953Z"
   },
   {
    "duration": 10,
    "start_time": "2021-12-14T17:15:12.966Z"
   },
   {
    "duration": 164,
    "start_time": "2021-12-14T17:15:12.978Z"
   },
   {
    "duration": 114,
    "start_time": "2021-12-14T17:15:13.144Z"
   },
   {
    "duration": 79,
    "start_time": "2021-12-14T17:15:13.261Z"
   },
   {
    "duration": 8,
    "start_time": "2021-12-14T17:15:13.343Z"
   },
   {
    "duration": 40,
    "start_time": "2021-12-14T17:15:13.354Z"
   },
   {
    "duration": 26,
    "start_time": "2021-12-14T17:15:13.418Z"
   },
   {
    "duration": 26,
    "start_time": "2021-12-14T17:15:13.452Z"
   },
   {
    "duration": 43,
    "start_time": "2021-12-14T17:15:13.481Z"
   },
   {
    "duration": 97,
    "start_time": "2021-12-14T17:15:13.526Z"
   },
   {
    "duration": 381,
    "start_time": "2021-12-14T17:15:13.626Z"
   },
   {
    "duration": 38,
    "start_time": "2021-12-14T17:15:14.010Z"
   },
   {
    "duration": 37,
    "start_time": "2021-12-14T17:15:14.050Z"
   },
   {
    "duration": 70,
    "start_time": "2021-12-14T17:15:14.090Z"
   },
   {
    "duration": 25,
    "start_time": "2021-12-14T17:15:14.163Z"
   },
   {
    "duration": 74,
    "start_time": "2021-12-14T17:15:14.190Z"
   },
   {
    "duration": 6,
    "start_time": "2021-12-14T17:15:14.266Z"
   },
   {
    "duration": 170,
    "start_time": "2021-12-14T17:15:14.275Z"
   },
   {
    "duration": 17,
    "start_time": "2021-12-14T17:15:14.448Z"
   },
   {
    "duration": 9,
    "start_time": "2021-12-14T17:15:14.467Z"
   },
   {
    "duration": 75,
    "start_time": "2021-12-14T17:15:14.478Z"
   },
   {
    "duration": 67,
    "start_time": "2021-12-14T17:15:14.555Z"
   },
   {
    "duration": 59,
    "start_time": "2021-12-14T17:15:14.624Z"
   },
   {
    "duration": 545,
    "start_time": "2021-12-14T17:15:14.686Z"
   },
   {
    "duration": 416,
    "start_time": "2021-12-14T17:15:15.234Z"
   },
   {
    "duration": 542,
    "start_time": "2021-12-14T17:15:15.653Z"
   },
   {
    "duration": 461,
    "start_time": "2021-12-14T17:15:16.197Z"
   },
   {
    "duration": 645,
    "start_time": "2021-12-14T17:15:16.660Z"
   },
   {
    "duration": 422,
    "start_time": "2021-12-14T17:15:17.307Z"
   },
   {
    "duration": 706,
    "start_time": "2021-12-14T17:15:17.732Z"
   },
   {
    "duration": 6,
    "start_time": "2021-12-14T17:15:18.440Z"
   },
   {
    "duration": 419,
    "start_time": "2021-12-14T17:15:18.448Z"
   },
   {
    "duration": 853,
    "start_time": "2021-12-14T17:15:18.871Z"
   },
   {
    "duration": 482,
    "start_time": "2021-12-14T17:15:19.727Z"
   },
   {
    "duration": 14,
    "start_time": "2021-12-14T17:15:20.211Z"
   },
   {
    "duration": 18,
    "start_time": "2021-12-14T17:15:20.229Z"
   },
   {
    "duration": 5545,
    "start_time": "2021-12-14T17:15:20.250Z"
   },
   {
    "duration": 7,
    "start_time": "2021-12-14T17:15:39.728Z"
   },
   {
    "duration": 6,
    "start_time": "2021-12-14T17:15:57.830Z"
   },
   {
    "duration": 6,
    "start_time": "2021-12-14T17:16:11.748Z"
   },
   {
    "duration": 3,
    "start_time": "2021-12-14T17:22:03.975Z"
   },
   {
    "duration": 404,
    "start_time": "2021-12-14T17:27:31.862Z"
   },
   {
    "duration": 593,
    "start_time": "2021-12-14T17:28:48.029Z"
   },
   {
    "duration": 521,
    "start_time": "2021-12-14T17:28:52.596Z"
   },
   {
    "duration": 526,
    "start_time": "2021-12-14T17:32:36.488Z"
   },
   {
    "duration": 628,
    "start_time": "2021-12-14T17:33:13.515Z"
   },
   {
    "duration": 535,
    "start_time": "2021-12-14T17:33:27.041Z"
   },
   {
    "duration": 547,
    "start_time": "2021-12-14T17:34:37.856Z"
   },
   {
    "duration": 517,
    "start_time": "2021-12-14T17:34:42.985Z"
   },
   {
    "duration": 525,
    "start_time": "2021-12-14T17:35:25.368Z"
   },
   {
    "duration": 515,
    "start_time": "2021-12-14T17:35:29.795Z"
   },
   {
    "duration": 509,
    "start_time": "2021-12-14T17:35:46.789Z"
   },
   {
    "duration": 742,
    "start_time": "2021-12-14T17:38:44.457Z"
   },
   {
    "duration": 973,
    "start_time": "2021-12-14T17:40:15.483Z"
   },
   {
    "duration": 640,
    "start_time": "2021-12-14T17:40:30.758Z"
   },
   {
    "duration": 643,
    "start_time": "2021-12-14T17:40:44.221Z"
   },
   {
    "duration": 643,
    "start_time": "2021-12-14T17:41:00.164Z"
   },
   {
    "duration": 655,
    "start_time": "2021-12-14T17:41:18.690Z"
   },
   {
    "duration": 656,
    "start_time": "2021-12-14T17:41:44.010Z"
   },
   {
    "duration": 829,
    "start_time": "2021-12-14T17:42:11.588Z"
   },
   {
    "duration": 681,
    "start_time": "2021-12-14T17:42:57.139Z"
   },
   {
    "duration": 9,
    "start_time": "2021-12-14T17:49:48.332Z"
   },
   {
    "duration": 6,
    "start_time": "2021-12-14T18:14:11.367Z"
   },
   {
    "duration": 6,
    "start_time": "2021-12-14T18:31:32.061Z"
   },
   {
    "duration": 6,
    "start_time": "2021-12-14T18:31:48.298Z"
   },
   {
    "duration": 6,
    "start_time": "2021-12-14T18:32:17.085Z"
   },
   {
    "duration": 14,
    "start_time": "2021-12-14T18:32:42.715Z"
   },
   {
    "duration": 1504,
    "start_time": "2021-12-14T18:49:20.590Z"
   },
   {
    "duration": 518,
    "start_time": "2021-12-14T18:49:22.097Z"
   },
   {
    "duration": 19,
    "start_time": "2021-12-14T18:49:22.619Z"
   },
   {
    "duration": 14,
    "start_time": "2021-12-14T18:49:22.641Z"
   },
   {
    "duration": 9,
    "start_time": "2021-12-14T18:49:22.657Z"
   },
   {
    "duration": 6,
    "start_time": "2021-12-14T18:49:22.668Z"
   },
   {
    "duration": 45,
    "start_time": "2021-12-14T18:49:22.677Z"
   },
   {
    "duration": 27,
    "start_time": "2021-12-14T18:49:22.725Z"
   },
   {
    "duration": 17,
    "start_time": "2021-12-14T18:49:22.755Z"
   },
   {
    "duration": 9,
    "start_time": "2021-12-14T18:49:22.775Z"
   },
   {
    "duration": 18,
    "start_time": "2021-12-14T18:49:22.818Z"
   },
   {
    "duration": 12,
    "start_time": "2021-12-14T18:49:22.838Z"
   },
   {
    "duration": 23,
    "start_time": "2021-12-14T18:49:22.852Z"
   },
   {
    "duration": 47,
    "start_time": "2021-12-14T18:49:22.877Z"
   },
   {
    "duration": 12,
    "start_time": "2021-12-14T18:49:22.927Z"
   },
   {
    "duration": 11,
    "start_time": "2021-12-14T18:49:22.942Z"
   },
   {
    "duration": 145,
    "start_time": "2021-12-14T18:49:22.955Z"
   },
   {
    "duration": 106,
    "start_time": "2021-12-14T18:49:23.102Z"
   },
   {
    "duration": 74,
    "start_time": "2021-12-14T18:49:23.216Z"
   },
   {
    "duration": 7,
    "start_time": "2021-12-14T18:49:23.293Z"
   },
   {
    "duration": 46,
    "start_time": "2021-12-14T18:49:23.302Z"
   },
   {
    "duration": 21,
    "start_time": "2021-12-14T18:49:23.350Z"
   },
   {
    "duration": 49,
    "start_time": "2021-12-14T18:49:23.377Z"
   },
   {
    "duration": 21,
    "start_time": "2021-12-14T18:49:23.430Z"
   },
   {
    "duration": 107,
    "start_time": "2021-12-14T18:49:23.454Z"
   },
   {
    "duration": 368,
    "start_time": "2021-12-14T18:49:23.563Z"
   },
   {
    "duration": 35,
    "start_time": "2021-12-14T18:49:23.933Z"
   },
   {
    "duration": 60,
    "start_time": "2021-12-14T18:49:23.970Z"
   },
   {
    "duration": 35,
    "start_time": "2021-12-14T18:49:24.032Z"
   },
   {
    "duration": 64,
    "start_time": "2021-12-14T18:49:24.071Z"
   },
   {
    "duration": 15,
    "start_time": "2021-12-14T18:49:24.139Z"
   },
   {
    "duration": 8,
    "start_time": "2021-12-14T18:49:24.157Z"
   },
   {
    "duration": 196,
    "start_time": "2021-12-14T18:49:24.167Z"
   },
   {
    "duration": 17,
    "start_time": "2021-12-14T18:49:24.366Z"
   },
   {
    "duration": 14,
    "start_time": "2021-12-14T18:49:24.386Z"
   },
   {
    "duration": 9,
    "start_time": "2021-12-14T18:49:24.418Z"
   },
   {
    "duration": 56,
    "start_time": "2021-12-14T18:49:24.430Z"
   },
   {
    "duration": 104,
    "start_time": "2021-12-14T18:49:24.489Z"
   },
   {
    "duration": 70,
    "start_time": "2021-12-14T18:49:24.596Z"
   },
   {
    "duration": 651,
    "start_time": "2021-12-14T18:49:24.669Z"
   },
   {
    "duration": 512,
    "start_time": "2021-12-14T18:49:25.322Z"
   },
   {
    "duration": 792,
    "start_time": "2021-12-14T18:49:25.837Z"
   },
   {
    "duration": 589,
    "start_time": "2021-12-14T18:49:26.631Z"
   },
   {
    "duration": 782,
    "start_time": "2021-12-14T18:49:27.223Z"
   },
   {
    "duration": 494,
    "start_time": "2021-12-14T18:49:28.007Z"
   },
   {
    "duration": 515,
    "start_time": "2021-12-14T18:49:28.505Z"
   },
   {
    "duration": 7,
    "start_time": "2021-12-14T18:49:29.023Z"
   },
   {
    "duration": 527,
    "start_time": "2021-12-14T18:49:29.033Z"
   },
   {
    "duration": 628,
    "start_time": "2021-12-14T18:49:29.562Z"
   },
   {
    "duration": 549,
    "start_time": "2021-12-14T18:49:30.192Z"
   },
   {
    "duration": 6,
    "start_time": "2021-12-14T18:49:30.743Z"
   },
   {
    "duration": 10,
    "start_time": "2021-12-14T18:49:30.752Z"
   },
   {
    "duration": 21,
    "start_time": "2021-12-14T18:49:30.764Z"
   },
   {
    "duration": 31,
    "start_time": "2021-12-14T18:49:30.787Z"
   },
   {
    "duration": 3,
    "start_time": "2021-12-14T18:50:56.124Z"
   },
   {
    "duration": 1550,
    "start_time": "2021-12-14T20:44:45.541Z"
   },
   {
    "duration": 528,
    "start_time": "2021-12-14T20:44:47.094Z"
   },
   {
    "duration": 18,
    "start_time": "2021-12-14T20:44:47.625Z"
   },
   {
    "duration": 11,
    "start_time": "2021-12-14T20:44:47.646Z"
   },
   {
    "duration": 14,
    "start_time": "2021-12-14T20:44:47.659Z"
   },
   {
    "duration": 8,
    "start_time": "2021-12-14T20:44:47.675Z"
   },
   {
    "duration": 45,
    "start_time": "2021-12-14T20:44:47.685Z"
   },
   {
    "duration": 30,
    "start_time": "2021-12-14T20:44:47.734Z"
   },
   {
    "duration": 19,
    "start_time": "2021-12-14T20:44:47.767Z"
   },
   {
    "duration": 36,
    "start_time": "2021-12-14T20:44:47.789Z"
   },
   {
    "duration": 21,
    "start_time": "2021-12-14T20:44:47.827Z"
   },
   {
    "duration": 13,
    "start_time": "2021-12-14T20:44:47.850Z"
   },
   {
    "duration": 58,
    "start_time": "2021-12-14T20:44:47.865Z"
   },
   {
    "duration": 13,
    "start_time": "2021-12-14T20:44:47.926Z"
   },
   {
    "duration": 12,
    "start_time": "2021-12-14T20:44:47.942Z"
   },
   {
    "duration": 13,
    "start_time": "2021-12-14T20:44:47.957Z"
   },
   {
    "duration": 153,
    "start_time": "2021-12-14T20:44:47.973Z"
   },
   {
    "duration": 114,
    "start_time": "2021-12-14T20:44:48.128Z"
   },
   {
    "duration": 84,
    "start_time": "2021-12-14T20:44:48.245Z"
   },
   {
    "duration": 4,
    "start_time": "2021-12-14T20:44:48.332Z"
   },
   {
    "duration": 36,
    "start_time": "2021-12-14T20:44:48.338Z"
   },
   {
    "duration": 42,
    "start_time": "2021-12-14T20:44:48.377Z"
   },
   {
    "duration": 26,
    "start_time": "2021-12-14T20:44:48.424Z"
   },
   {
    "duration": 21,
    "start_time": "2021-12-14T20:44:48.453Z"
   },
   {
    "duration": 112,
    "start_time": "2021-12-14T20:44:48.476Z"
   },
   {
    "duration": 371,
    "start_time": "2021-12-14T20:44:48.590Z"
   },
   {
    "duration": 33,
    "start_time": "2021-12-14T20:44:48.964Z"
   },
   {
    "duration": 39,
    "start_time": "2021-12-14T20:44:49.016Z"
   },
   {
    "duration": 36,
    "start_time": "2021-12-14T20:44:49.057Z"
   },
   {
    "duration": 25,
    "start_time": "2021-12-14T20:44:49.116Z"
   },
   {
    "duration": 11,
    "start_time": "2021-12-14T20:44:49.144Z"
   },
   {
    "duration": 6,
    "start_time": "2021-12-14T20:44:49.157Z"
   },
   {
    "duration": 192,
    "start_time": "2021-12-14T20:44:49.166Z"
   },
   {
    "duration": 16,
    "start_time": "2021-12-14T20:44:49.361Z"
   },
   {
    "duration": 10,
    "start_time": "2021-12-14T20:44:49.379Z"
   },
   {
    "duration": 30,
    "start_time": "2021-12-14T20:44:49.392Z"
   },
   {
    "duration": 54,
    "start_time": "2021-12-14T20:44:49.424Z"
   },
   {
    "duration": 78,
    "start_time": "2021-12-14T20:44:49.481Z"
   },
   {
    "duration": 76,
    "start_time": "2021-12-14T20:44:49.561Z"
   },
   {
    "duration": 654,
    "start_time": "2021-12-14T20:44:49.639Z"
   },
   {
    "duration": 538,
    "start_time": "2021-12-14T20:44:50.296Z"
   },
   {
    "duration": 638,
    "start_time": "2021-12-14T20:44:50.837Z"
   },
   {
    "duration": 528,
    "start_time": "2021-12-14T20:44:51.478Z"
   },
   {
    "duration": 708,
    "start_time": "2021-12-14T20:44:52.009Z"
   },
   {
    "duration": 485,
    "start_time": "2021-12-14T20:44:52.719Z"
   },
   {
    "duration": 520,
    "start_time": "2021-12-14T20:44:53.207Z"
   },
   {
    "duration": 5,
    "start_time": "2021-12-14T20:44:53.729Z"
   },
   {
    "duration": 463,
    "start_time": "2021-12-14T20:44:53.736Z"
   },
   {
    "duration": 577,
    "start_time": "2021-12-14T20:44:54.201Z"
   },
   {
    "duration": 542,
    "start_time": "2021-12-14T20:44:54.780Z"
   },
   {
    "duration": 5,
    "start_time": "2021-12-14T20:44:55.325Z"
   },
   {
    "duration": 9,
    "start_time": "2021-12-14T20:44:55.332Z"
   },
   {
    "duration": 14,
    "start_time": "2021-12-14T20:44:55.343Z"
   },
   {
    "duration": 5,
    "start_time": "2021-12-14T20:44:55.359Z"
   },
   {
    "duration": 1498,
    "start_time": "2021-12-15T16:01:28.899Z"
   },
   {
    "duration": 520,
    "start_time": "2021-12-15T16:01:30.399Z"
   },
   {
    "duration": 20,
    "start_time": "2021-12-15T16:01:30.922Z"
   },
   {
    "duration": 9,
    "start_time": "2021-12-15T16:01:30.945Z"
   },
   {
    "duration": 11,
    "start_time": "2021-12-15T16:01:30.957Z"
   },
   {
    "duration": 7,
    "start_time": "2021-12-15T16:01:30.971Z"
   },
   {
    "duration": 43,
    "start_time": "2021-12-15T16:01:30.980Z"
   },
   {
    "duration": 31,
    "start_time": "2021-12-15T16:01:31.027Z"
   },
   {
    "duration": 19,
    "start_time": "2021-12-15T16:01:31.061Z"
   },
   {
    "duration": 40,
    "start_time": "2021-12-15T16:01:31.083Z"
   },
   {
    "duration": 30,
    "start_time": "2021-12-15T16:01:31.126Z"
   },
   {
    "duration": 21,
    "start_time": "2021-12-15T16:01:31.159Z"
   },
   {
    "duration": 38,
    "start_time": "2021-12-15T16:01:31.183Z"
   },
   {
    "duration": 14,
    "start_time": "2021-12-15T16:01:31.224Z"
   },
   {
    "duration": 14,
    "start_time": "2021-12-15T16:01:31.241Z"
   },
   {
    "duration": 24,
    "start_time": "2021-12-15T16:01:31.258Z"
   },
   {
    "duration": 143,
    "start_time": "2021-12-15T16:01:31.285Z"
   },
   {
    "duration": 103,
    "start_time": "2021-12-15T16:01:31.431Z"
   },
   {
    "duration": 86,
    "start_time": "2021-12-15T16:01:31.536Z"
   },
   {
    "duration": 5,
    "start_time": "2021-12-15T16:01:31.624Z"
   },
   {
    "duration": 37,
    "start_time": "2021-12-15T16:01:31.632Z"
   },
   {
    "duration": 44,
    "start_time": "2021-12-15T16:01:31.673Z"
   },
   {
    "duration": 26,
    "start_time": "2021-12-15T16:01:31.723Z"
   },
   {
    "duration": 23,
    "start_time": "2021-12-15T16:01:31.752Z"
   },
   {
    "duration": 109,
    "start_time": "2021-12-15T16:01:31.777Z"
   },
   {
    "duration": 381,
    "start_time": "2021-12-15T16:01:31.888Z"
   },
   {
    "duration": 46,
    "start_time": "2021-12-15T16:01:32.271Z"
   },
   {
    "duration": 39,
    "start_time": "2021-12-15T16:01:32.319Z"
   },
   {
    "duration": 59,
    "start_time": "2021-12-15T16:01:32.360Z"
   },
   {
    "duration": 25,
    "start_time": "2021-12-15T16:01:32.421Z"
   },
   {
    "duration": 12,
    "start_time": "2021-12-15T16:01:32.448Z"
   },
   {
    "duration": 14,
    "start_time": "2021-12-15T16:01:32.462Z"
   },
   {
    "duration": 179,
    "start_time": "2021-12-15T16:01:32.479Z"
   },
   {
    "duration": 17,
    "start_time": "2021-12-15T16:01:32.661Z"
   },
   {
    "duration": 11,
    "start_time": "2021-12-15T16:01:32.681Z"
   },
   {
    "duration": 10,
    "start_time": "2021-12-15T16:01:32.717Z"
   },
   {
    "duration": 58,
    "start_time": "2021-12-15T16:01:32.729Z"
   },
   {
    "duration": 81,
    "start_time": "2021-12-15T16:01:32.789Z"
   },
   {
    "duration": 77,
    "start_time": "2021-12-15T16:01:32.873Z"
   },
   {
    "duration": 634,
    "start_time": "2021-12-15T16:01:32.952Z"
   },
   {
    "duration": 504,
    "start_time": "2021-12-15T16:01:33.588Z"
   },
   {
    "duration": 674,
    "start_time": "2021-12-15T16:01:34.095Z"
   },
   {
    "duration": 532,
    "start_time": "2021-12-15T16:01:34.772Z"
   },
   {
    "duration": 737,
    "start_time": "2021-12-15T16:01:35.306Z"
   },
   {
    "duration": 534,
    "start_time": "2021-12-15T16:01:36.045Z"
   },
   {
    "duration": 516,
    "start_time": "2021-12-15T16:01:36.581Z"
   },
   {
    "duration": 5,
    "start_time": "2021-12-15T16:01:37.100Z"
   },
   {
    "duration": 394,
    "start_time": "2021-12-15T16:01:37.116Z"
   },
   {
    "duration": 508,
    "start_time": "2021-12-15T16:01:37.516Z"
   },
   {
    "duration": 500,
    "start_time": "2021-12-15T16:01:38.026Z"
   },
   {
    "duration": 5,
    "start_time": "2021-12-15T16:01:38.529Z"
   },
   {
    "duration": 8,
    "start_time": "2021-12-15T16:01:38.536Z"
   },
   {
    "duration": 20,
    "start_time": "2021-12-15T16:01:38.547Z"
   },
   {
    "duration": 8,
    "start_time": "2021-12-15T16:01:38.569Z"
   },
   {
    "duration": 22,
    "start_time": "2021-12-15T16:07:09.622Z"
   },
   {
    "duration": 17,
    "start_time": "2021-12-15T16:11:00.484Z"
   },
   {
    "duration": 350,
    "start_time": "2021-12-15T17:22:31.255Z"
   },
   {
    "duration": 1495,
    "start_time": "2021-12-15T17:22:42.477Z"
   },
   {
    "duration": 498,
    "start_time": "2021-12-15T17:22:43.975Z"
   },
   {
    "duration": 20,
    "start_time": "2021-12-15T17:22:44.477Z"
   },
   {
    "duration": 22,
    "start_time": "2021-12-15T17:22:44.501Z"
   },
   {
    "duration": 26,
    "start_time": "2021-12-15T17:22:44.525Z"
   },
   {
    "duration": 19,
    "start_time": "2021-12-15T17:22:44.553Z"
   },
   {
    "duration": 28,
    "start_time": "2021-12-15T17:22:44.574Z"
   },
   {
    "duration": 55,
    "start_time": "2021-12-15T17:22:44.605Z"
   },
   {
    "duration": 16,
    "start_time": "2021-12-15T17:22:44.663Z"
   },
   {
    "duration": 15,
    "start_time": "2021-12-15T17:22:44.682Z"
   },
   {
    "duration": 39,
    "start_time": "2021-12-15T17:22:44.700Z"
   },
   {
    "duration": 24,
    "start_time": "2021-12-15T17:22:44.741Z"
   },
   {
    "duration": 38,
    "start_time": "2021-12-15T17:22:44.767Z"
   },
   {
    "duration": 13,
    "start_time": "2021-12-15T17:22:44.807Z"
   },
   {
    "duration": 21,
    "start_time": "2021-12-15T17:22:44.832Z"
   },
   {
    "duration": 35,
    "start_time": "2021-12-15T17:22:44.855Z"
   },
   {
    "duration": 129,
    "start_time": "2021-12-15T17:22:44.893Z"
   },
   {
    "duration": 129,
    "start_time": "2021-12-15T17:22:45.028Z"
   },
   {
    "duration": 78,
    "start_time": "2021-12-15T17:22:45.159Z"
   },
   {
    "duration": 30,
    "start_time": "2021-12-15T17:22:45.239Z"
   },
   {
    "duration": 66,
    "start_time": "2021-12-15T17:22:45.271Z"
   },
   {
    "duration": 22,
    "start_time": "2021-12-15T17:22:45.340Z"
   },
   {
    "duration": 43,
    "start_time": "2021-12-15T17:22:45.369Z"
   },
   {
    "duration": 27,
    "start_time": "2021-12-15T17:22:45.418Z"
   },
   {
    "duration": 108,
    "start_time": "2021-12-15T17:22:45.447Z"
   },
   {
    "duration": 358,
    "start_time": "2021-12-15T17:22:45.557Z"
   },
   {
    "duration": 36,
    "start_time": "2021-12-15T17:22:45.918Z"
   },
   {
    "duration": 35,
    "start_time": "2021-12-15T17:22:45.957Z"
   },
   {
    "duration": 65,
    "start_time": "2021-12-15T17:22:45.994Z"
   },
   {
    "duration": 29,
    "start_time": "2021-12-15T17:22:46.062Z"
   },
   {
    "duration": 32,
    "start_time": "2021-12-15T17:22:46.093Z"
   },
   {
    "duration": 20,
    "start_time": "2021-12-15T17:22:46.131Z"
   },
   {
    "duration": 167,
    "start_time": "2021-12-15T17:22:46.153Z"
   },
   {
    "duration": 19,
    "start_time": "2021-12-15T17:22:46.322Z"
   },
   {
    "duration": 16,
    "start_time": "2021-12-15T17:22:46.344Z"
   },
   {
    "duration": 19,
    "start_time": "2021-12-15T17:22:46.363Z"
   },
   {
    "duration": 71,
    "start_time": "2021-12-15T17:22:46.385Z"
   },
   {
    "duration": 48,
    "start_time": "2021-12-15T17:22:46.459Z"
   },
   {
    "duration": 57,
    "start_time": "2021-12-15T17:22:46.525Z"
   },
   {
    "duration": 797,
    "start_time": "2021-12-15T17:22:46.585Z"
   },
   {
    "duration": 510,
    "start_time": "2021-12-15T17:22:47.385Z"
   },
   {
    "duration": 672,
    "start_time": "2021-12-15T17:22:47.898Z"
   },
   {
    "duration": 573,
    "start_time": "2021-12-15T17:22:48.572Z"
   },
   {
    "duration": 731,
    "start_time": "2021-12-15T17:22:49.147Z"
   },
   {
    "duration": 516,
    "start_time": "2021-12-15T17:22:49.881Z"
   },
   {
    "duration": 510,
    "start_time": "2021-12-15T17:22:50.400Z"
   },
   {
    "duration": 15,
    "start_time": "2021-12-15T17:22:50.913Z"
   },
   {
    "duration": 411,
    "start_time": "2021-12-15T17:22:50.931Z"
   },
   {
    "duration": 494,
    "start_time": "2021-12-15T17:22:51.344Z"
   },
   {
    "duration": 513,
    "start_time": "2021-12-15T17:22:51.840Z"
   },
   {
    "duration": 6,
    "start_time": "2021-12-15T17:22:52.356Z"
   },
   {
    "duration": 11,
    "start_time": "2021-12-15T17:22:52.364Z"
   },
   {
    "duration": 17,
    "start_time": "2021-12-15T17:22:52.377Z"
   },
   {
    "duration": 12,
    "start_time": "2021-12-15T17:22:52.423Z"
   },
   {
    "duration": 31,
    "start_time": "2021-12-15T17:23:49.738Z"
   },
   {
    "duration": 41,
    "start_time": "2021-12-15T17:29:04.819Z"
   },
   {
    "duration": 38,
    "start_time": "2021-12-15T17:29:13.638Z"
   },
   {
    "duration": 38,
    "start_time": "2021-12-15T17:30:07.979Z"
   },
   {
    "duration": 41,
    "start_time": "2021-12-15T17:30:26.740Z"
   },
   {
    "duration": 433,
    "start_time": "2021-12-15T17:33:47.750Z"
   },
   {
    "duration": 11,
    "start_time": "2021-12-15T17:36:37.058Z"
   },
   {
    "duration": 24,
    "start_time": "2021-12-15T17:36:57.875Z"
   },
   {
    "duration": 1414,
    "start_time": "2021-12-15T17:37:11.982Z"
   },
   {
    "duration": 511,
    "start_time": "2021-12-15T17:37:13.398Z"
   },
   {
    "duration": 20,
    "start_time": "2021-12-15T17:37:13.912Z"
   },
   {
    "duration": 22,
    "start_time": "2021-12-15T17:37:13.935Z"
   },
   {
    "duration": 9,
    "start_time": "2021-12-15T17:37:13.959Z"
   },
   {
    "duration": 10,
    "start_time": "2021-12-15T17:37:13.971Z"
   },
   {
    "duration": 16,
    "start_time": "2021-12-15T17:37:13.984Z"
   },
   {
    "duration": 55,
    "start_time": "2021-12-15T17:37:14.004Z"
   },
   {
    "duration": 18,
    "start_time": "2021-12-15T17:37:14.062Z"
   },
   {
    "duration": 10,
    "start_time": "2021-12-15T17:37:14.082Z"
   },
   {
    "duration": 59,
    "start_time": "2021-12-15T17:37:14.095Z"
   },
   {
    "duration": 11,
    "start_time": "2021-12-15T17:37:14.157Z"
   },
   {
    "duration": 25,
    "start_time": "2021-12-15T17:37:14.171Z"
   },
   {
    "duration": 38,
    "start_time": "2021-12-15T17:37:14.198Z"
   },
   {
    "duration": 14,
    "start_time": "2021-12-15T17:37:14.239Z"
   },
   {
    "duration": 21,
    "start_time": "2021-12-15T17:37:14.255Z"
   },
   {
    "duration": 141,
    "start_time": "2021-12-15T17:37:14.278Z"
   },
   {
    "duration": 12,
    "start_time": "2021-12-15T17:37:14.422Z"
   },
   {
    "duration": 30,
    "start_time": "2021-12-15T17:37:14.437Z"
   },
   {
    "duration": 82,
    "start_time": "2021-12-15T17:37:14.470Z"
   },
   {
    "duration": 5,
    "start_time": "2021-12-15T17:37:14.555Z"
   },
   {
    "duration": 39,
    "start_time": "2021-12-15T17:37:14.562Z"
   },
   {
    "duration": 39,
    "start_time": "2021-12-15T17:37:14.608Z"
   },
   {
    "duration": 26,
    "start_time": "2021-12-15T17:37:14.651Z"
   },
   {
    "duration": 52,
    "start_time": "2021-12-15T17:37:14.680Z"
   },
   {
    "duration": 96,
    "start_time": "2021-12-15T17:37:14.735Z"
   },
   {
    "duration": 381,
    "start_time": "2021-12-15T17:37:14.833Z"
   },
   {
    "duration": 40,
    "start_time": "2021-12-15T17:37:15.217Z"
   },
   {
    "duration": 38,
    "start_time": "2021-12-15T17:37:15.259Z"
   },
   {
    "duration": 67,
    "start_time": "2021-12-15T17:37:15.299Z"
   },
   {
    "duration": 60,
    "start_time": "2021-12-15T17:37:15.368Z"
   },
   {
    "duration": 18,
    "start_time": "2021-12-15T17:37:15.431Z"
   },
   {
    "duration": 1320,
    "start_time": "2021-12-15T17:37:15.453Z"
   },
   {
    "duration": -662,
    "start_time": "2021-12-15T17:37:17.438Z"
   },
   {
    "duration": -667,
    "start_time": "2021-12-15T17:37:17.444Z"
   },
   {
    "duration": -672,
    "start_time": "2021-12-15T17:37:17.450Z"
   },
   {
    "duration": -719,
    "start_time": "2021-12-15T17:37:17.499Z"
   },
   {
    "duration": -726,
    "start_time": "2021-12-15T17:37:17.508Z"
   },
   {
    "duration": -799,
    "start_time": "2021-12-15T17:37:17.583Z"
   },
   {
    "duration": -827,
    "start_time": "2021-12-15T17:37:17.613Z"
   },
   {
    "duration": -857,
    "start_time": "2021-12-15T17:37:17.645Z"
   },
   {
    "duration": -861,
    "start_time": "2021-12-15T17:37:17.651Z"
   },
   {
    "duration": -892,
    "start_time": "2021-12-15T17:37:17.683Z"
   },
   {
    "duration": -920,
    "start_time": "2021-12-15T17:37:17.713Z"
   },
   {
    "duration": -925,
    "start_time": "2021-12-15T17:37:17.719Z"
   },
   {
    "duration": -951,
    "start_time": "2021-12-15T17:37:17.747Z"
   },
   {
    "duration": -979,
    "start_time": "2021-12-15T17:37:17.776Z"
   },
   {
    "duration": -983,
    "start_time": "2021-12-15T17:37:17.781Z"
   },
   {
    "duration": -1014,
    "start_time": "2021-12-15T17:37:17.814Z"
   },
   {
    "duration": -1042,
    "start_time": "2021-12-15T17:37:17.843Z"
   },
   {
    "duration": -1046,
    "start_time": "2021-12-15T17:37:17.849Z"
   },
   {
    "duration": -1072,
    "start_time": "2021-12-15T17:37:17.876Z"
   },
   {
    "duration": -1075,
    "start_time": "2021-12-15T17:37:17.881Z"
   },
   {
    "duration": -1103,
    "start_time": "2021-12-15T17:37:17.910Z"
   },
   {
    "duration": -1106,
    "start_time": "2021-12-15T17:37:17.915Z"
   },
   {
    "duration": 121,
    "start_time": "2021-12-15T17:37:28.815Z"
   },
   {
    "duration": 33,
    "start_time": "2021-12-15T17:37:35.889Z"
   },
   {
    "duration": 1622,
    "start_time": "2021-12-15T17:49:42.454Z"
   },
   {
    "duration": 526,
    "start_time": "2021-12-15T17:49:44.079Z"
   },
   {
    "duration": 27,
    "start_time": "2021-12-15T17:49:44.608Z"
   },
   {
    "duration": 26,
    "start_time": "2021-12-15T17:49:44.638Z"
   },
   {
    "duration": 10,
    "start_time": "2021-12-15T17:49:44.666Z"
   },
   {
    "duration": 8,
    "start_time": "2021-12-15T17:49:44.678Z"
   },
   {
    "duration": 12,
    "start_time": "2021-12-15T17:49:44.688Z"
   },
   {
    "duration": 57,
    "start_time": "2021-12-15T17:49:44.704Z"
   },
   {
    "duration": 17,
    "start_time": "2021-12-15T17:49:44.764Z"
   },
   {
    "duration": 10,
    "start_time": "2021-12-15T17:49:44.784Z"
   },
   {
    "duration": 32,
    "start_time": "2021-12-15T17:49:44.824Z"
   },
   {
    "duration": 12,
    "start_time": "2021-12-15T17:49:44.859Z"
   },
   {
    "duration": 53,
    "start_time": "2021-12-15T17:49:44.874Z"
   },
   {
    "duration": 24,
    "start_time": "2021-12-15T17:49:44.929Z"
   },
   {
    "duration": 15,
    "start_time": "2021-12-15T17:49:44.956Z"
   },
   {
    "duration": 13,
    "start_time": "2021-12-15T17:49:44.974Z"
   },
   {
    "duration": 125,
    "start_time": "2021-12-15T17:49:44.989Z"
   },
   {
    "duration": 131,
    "start_time": "2021-12-15T17:49:45.116Z"
   },
   {
    "duration": 6,
    "start_time": "2021-12-15T17:49:45.249Z"
   },
   {
    "duration": 38,
    "start_time": "2021-12-15T17:49:45.259Z"
   },
   {
    "duration": 42,
    "start_time": "2021-12-15T17:49:45.299Z"
   },
   {
    "duration": 34,
    "start_time": "2021-12-15T17:49:45.344Z"
   },
   {
    "duration": 22,
    "start_time": "2021-12-15T17:49:45.384Z"
   },
   {
    "duration": 104,
    "start_time": "2021-12-15T17:49:45.409Z"
   },
   {
    "duration": 393,
    "start_time": "2021-12-15T17:49:45.516Z"
   },
   {
    "duration": 50,
    "start_time": "2021-12-15T17:49:45.911Z"
   },
   {
    "duration": 37,
    "start_time": "2021-12-15T17:49:45.963Z"
   },
   {
    "duration": 73,
    "start_time": "2021-12-15T17:49:46.002Z"
   },
   {
    "duration": 65,
    "start_time": "2021-12-15T17:49:46.078Z"
   },
   {
    "duration": 16,
    "start_time": "2021-12-15T17:49:46.145Z"
   },
   {
    "duration": 2113,
    "start_time": "2021-12-15T17:49:46.164Z"
   },
   {
    "duration": 14,
    "start_time": "2021-12-15T17:49:48.266Z"
   },
   {
    "duration": -59,
    "start_time": "2021-12-15T17:49:48.341Z"
   },
   {
    "duration": -117,
    "start_time": "2021-12-15T17:49:48.401Z"
   },
   {
    "duration": -148,
    "start_time": "2021-12-15T17:49:48.435Z"
   },
   {
    "duration": -177,
    "start_time": "2021-12-15T17:49:48.467Z"
   },
   {
    "duration": -206,
    "start_time": "2021-12-15T17:49:48.498Z"
   },
   {
    "duration": -255,
    "start_time": "2021-12-15T17:49:48.549Z"
   },
   {
    "duration": -279,
    "start_time": "2021-12-15T17:49:48.576Z"
   },
   {
    "duration": -306,
    "start_time": "2021-12-15T17:49:48.605Z"
   },
   {
    "duration": -311,
    "start_time": "2021-12-15T17:49:48.611Z"
   },
   {
    "duration": -344,
    "start_time": "2021-12-15T17:49:48.646Z"
   },
   {
    "duration": -372,
    "start_time": "2021-12-15T17:49:48.675Z"
   },
   {
    "duration": -411,
    "start_time": "2021-12-15T17:49:48.716Z"
   },
   {
    "duration": -445,
    "start_time": "2021-12-15T17:49:48.751Z"
   },
   {
    "duration": -487,
    "start_time": "2021-12-15T17:49:48.795Z"
   },
   {
    "duration": -531,
    "start_time": "2021-12-15T17:49:48.841Z"
   },
   {
    "duration": -566,
    "start_time": "2021-12-15T17:49:48.878Z"
   },
   {
    "duration": -606,
    "start_time": "2021-12-15T17:49:48.920Z"
   },
   {
    "duration": -649,
    "start_time": "2021-12-15T17:49:48.964Z"
   },
   {
    "duration": -733,
    "start_time": "2021-12-15T17:49:49.050Z"
   },
   {
    "duration": -757,
    "start_time": "2021-12-15T17:49:49.082Z"
   },
   {
    "duration": -785,
    "start_time": "2021-12-15T17:49:49.112Z"
   },
   {
    "duration": 25,
    "start_time": "2021-12-15T17:51:35.137Z"
   },
   {
    "duration": 331,
    "start_time": "2021-12-15T18:23:52.381Z"
   },
   {
    "duration": 650,
    "start_time": "2021-12-15T18:24:51.005Z"
   },
   {
    "duration": 43,
    "start_time": "2021-12-15T18:26:04.455Z"
   },
   {
    "duration": 52,
    "start_time": "2021-12-15T18:26:10.519Z"
   },
   {
    "duration": 49,
    "start_time": "2021-12-15T18:26:24.227Z"
   },
   {
    "duration": 40,
    "start_time": "2021-12-15T18:27:19.545Z"
   },
   {
    "duration": 527,
    "start_time": "2021-12-15T18:28:14.242Z"
   },
   {
    "duration": 1101,
    "start_time": "2021-12-15T18:28:51.088Z"
   },
   {
    "duration": 1443,
    "start_time": "2021-12-15T18:30:38.240Z"
   },
   {
    "duration": 520,
    "start_time": "2021-12-15T18:30:39.685Z"
   },
   {
    "duration": 21,
    "start_time": "2021-12-15T18:30:40.208Z"
   },
   {
    "duration": 19,
    "start_time": "2021-12-15T18:30:40.237Z"
   },
   {
    "duration": 25,
    "start_time": "2021-12-15T18:30:40.259Z"
   },
   {
    "duration": 17,
    "start_time": "2021-12-15T18:30:40.287Z"
   },
   {
    "duration": 18,
    "start_time": "2021-12-15T18:30:40.307Z"
   },
   {
    "duration": 45,
    "start_time": "2021-12-15T18:30:40.329Z"
   },
   {
    "duration": 19,
    "start_time": "2021-12-15T18:30:40.378Z"
   },
   {
    "duration": 10,
    "start_time": "2021-12-15T18:30:40.399Z"
   },
   {
    "duration": 38,
    "start_time": "2021-12-15T18:30:40.411Z"
   },
   {
    "duration": 13,
    "start_time": "2021-12-15T18:30:40.451Z"
   },
   {
    "duration": 26,
    "start_time": "2021-12-15T18:30:40.467Z"
   },
   {
    "duration": 17,
    "start_time": "2021-12-15T18:30:40.523Z"
   },
   {
    "duration": 12,
    "start_time": "2021-12-15T18:30:40.543Z"
   },
   {
    "duration": 13,
    "start_time": "2021-12-15T18:30:40.558Z"
   },
   {
    "duration": 157,
    "start_time": "2021-12-15T18:30:40.573Z"
   },
   {
    "duration": 104,
    "start_time": "2021-12-15T18:30:40.732Z"
   },
   {
    "duration": 4,
    "start_time": "2021-12-15T18:30:40.839Z"
   },
   {
    "duration": 34,
    "start_time": "2021-12-15T18:30:40.845Z"
   },
   {
    "duration": 20,
    "start_time": "2021-12-15T18:30:40.881Z"
   },
   {
    "duration": 47,
    "start_time": "2021-12-15T18:30:40.903Z"
   },
   {
    "duration": 34,
    "start_time": "2021-12-15T18:30:40.960Z"
   },
   {
    "duration": 102,
    "start_time": "2021-12-15T18:30:40.998Z"
   },
   {
    "duration": 369,
    "start_time": "2021-12-15T18:30:41.103Z"
   },
   {
    "duration": 32,
    "start_time": "2021-12-15T18:30:41.474Z"
   },
   {
    "duration": 41,
    "start_time": "2021-12-15T18:30:41.523Z"
   },
   {
    "duration": 920,
    "start_time": "2021-12-15T18:30:41.567Z"
   },
   {
    "duration": 91,
    "start_time": "2021-12-15T18:30:42.490Z"
   },
   {
    "duration": 505,
    "start_time": "2021-12-15T18:30:42.584Z"
   },
   {
    "duration": -132,
    "start_time": "2021-12-15T18:30:43.224Z"
   },
   {
    "duration": -134,
    "start_time": "2021-12-15T18:30:43.228Z"
   },
   {
    "duration": -138,
    "start_time": "2021-12-15T18:30:43.234Z"
   },
   {
    "duration": -141,
    "start_time": "2021-12-15T18:30:43.238Z"
   },
   {
    "duration": -147,
    "start_time": "2021-12-15T18:30:43.246Z"
   },
   {
    "duration": -151,
    "start_time": "2021-12-15T18:30:43.251Z"
   },
   {
    "duration": -155,
    "start_time": "2021-12-15T18:30:43.256Z"
   },
   {
    "duration": -157,
    "start_time": "2021-12-15T18:30:43.260Z"
   },
   {
    "duration": -160,
    "start_time": "2021-12-15T18:30:43.265Z"
   },
   {
    "duration": -164,
    "start_time": "2021-12-15T18:30:43.270Z"
   },
   {
    "duration": -168,
    "start_time": "2021-12-15T18:30:43.275Z"
   },
   {
    "duration": -170,
    "start_time": "2021-12-15T18:30:43.279Z"
   },
   {
    "duration": -173,
    "start_time": "2021-12-15T18:30:43.284Z"
   },
   {
    "duration": -176,
    "start_time": "2021-12-15T18:30:43.288Z"
   },
   {
    "duration": -179,
    "start_time": "2021-12-15T18:30:43.293Z"
   },
   {
    "duration": -181,
    "start_time": "2021-12-15T18:30:43.297Z"
   },
   {
    "duration": -185,
    "start_time": "2021-12-15T18:30:43.302Z"
   },
   {
    "duration": -188,
    "start_time": "2021-12-15T18:30:43.307Z"
   },
   {
    "duration": -192,
    "start_time": "2021-12-15T18:30:43.312Z"
   },
   {
    "duration": -206,
    "start_time": "2021-12-15T18:30:43.328Z"
   },
   {
    "duration": -211,
    "start_time": "2021-12-15T18:30:43.334Z"
   },
   {
    "duration": -214,
    "start_time": "2021-12-15T18:30:43.338Z"
   },
   {
    "duration": -219,
    "start_time": "2021-12-15T18:30:43.345Z"
   },
   {
    "duration": 45,
    "start_time": "2021-12-15T18:33:07.091Z"
   },
   {
    "duration": 46,
    "start_time": "2021-12-15T18:33:57.007Z"
   },
   {
    "duration": 357,
    "start_time": "2021-12-15T18:34:16.165Z"
   },
   {
    "duration": 388,
    "start_time": "2021-12-15T18:36:30.152Z"
   },
   {
    "duration": 283,
    "start_time": "2021-12-15T18:38:10.786Z"
   },
   {
    "duration": 516,
    "start_time": "2021-12-15T18:38:21.796Z"
   },
   {
    "duration": 521,
    "start_time": "2021-12-15T18:38:54.250Z"
   },
   {
    "duration": 845,
    "start_time": "2021-12-15T18:40:03.872Z"
   },
   {
    "duration": 328,
    "start_time": "2021-12-15T18:40:17.849Z"
   },
   {
    "duration": 41,
    "start_time": "2021-12-15T18:40:28.064Z"
   },
   {
    "duration": 46,
    "start_time": "2021-12-15T18:41:21.562Z"
   },
   {
    "duration": 42,
    "start_time": "2021-12-15T18:43:11.202Z"
   },
   {
    "duration": 66,
    "start_time": "2021-12-15T18:43:47.543Z"
   },
   {
    "duration": 43,
    "start_time": "2021-12-15T18:43:52.091Z"
   },
   {
    "duration": 38,
    "start_time": "2021-12-15T18:44:03.378Z"
   },
   {
    "duration": 52,
    "start_time": "2021-12-15T18:45:49.188Z"
   },
   {
    "duration": 49,
    "start_time": "2021-12-15T18:46:47.558Z"
   },
   {
    "duration": 34,
    "start_time": "2021-12-15T18:47:12.932Z"
   },
   {
    "duration": 1562,
    "start_time": "2021-12-15T18:51:15.551Z"
   },
   {
    "duration": 581,
    "start_time": "2021-12-15T18:51:17.116Z"
   },
   {
    "duration": 28,
    "start_time": "2021-12-15T18:51:17.700Z"
   },
   {
    "duration": 42,
    "start_time": "2021-12-15T18:51:17.731Z"
   },
   {
    "duration": 29,
    "start_time": "2021-12-15T18:51:17.776Z"
   },
   {
    "duration": 11,
    "start_time": "2021-12-15T18:51:17.808Z"
   },
   {
    "duration": 44,
    "start_time": "2021-12-15T18:51:17.822Z"
   },
   {
    "duration": 29,
    "start_time": "2021-12-15T18:51:17.871Z"
   },
   {
    "duration": 36,
    "start_time": "2021-12-15T18:51:17.903Z"
   },
   {
    "duration": 22,
    "start_time": "2021-12-15T18:51:17.942Z"
   },
   {
    "duration": 34,
    "start_time": "2021-12-15T18:51:17.966Z"
   },
   {
    "duration": 18,
    "start_time": "2021-12-15T18:51:18.003Z"
   },
   {
    "duration": 32,
    "start_time": "2021-12-15T18:51:18.030Z"
   },
   {
    "duration": 15,
    "start_time": "2021-12-15T18:51:18.066Z"
   },
   {
    "duration": 23,
    "start_time": "2021-12-15T18:51:18.084Z"
   },
   {
    "duration": 19,
    "start_time": "2021-12-15T18:51:18.123Z"
   },
   {
    "duration": 133,
    "start_time": "2021-12-15T18:51:18.145Z"
   },
   {
    "duration": 120,
    "start_time": "2021-12-15T18:51:18.281Z"
   },
   {
    "duration": 16,
    "start_time": "2021-12-15T18:51:18.404Z"
   },
   {
    "duration": 59,
    "start_time": "2021-12-15T18:51:18.422Z"
   },
   {
    "duration": 22,
    "start_time": "2021-12-15T18:51:18.483Z"
   },
   {
    "duration": 27,
    "start_time": "2021-12-15T18:51:18.507Z"
   },
   {
    "duration": 26,
    "start_time": "2021-12-15T18:51:18.540Z"
   },
   {
    "duration": 104,
    "start_time": "2021-12-15T18:51:18.569Z"
   },
   {
    "duration": 520,
    "start_time": "2021-12-15T18:51:18.676Z"
   },
   {
    "duration": 59,
    "start_time": "2021-12-15T18:51:19.199Z"
   },
   {
    "duration": 67,
    "start_time": "2021-12-15T18:51:19.262Z"
   },
   {
    "duration": 72,
    "start_time": "2021-12-15T18:51:19.332Z"
   },
   {
    "duration": 56,
    "start_time": "2021-12-15T18:51:19.407Z"
   },
   {
    "duration": 593,
    "start_time": "2021-12-15T18:51:19.465Z"
   },
   {
    "duration": -83,
    "start_time": "2021-12-15T18:51:20.144Z"
   },
   {
    "duration": -86,
    "start_time": "2021-12-15T18:51:20.149Z"
   },
   {
    "duration": -93,
    "start_time": "2021-12-15T18:51:20.157Z"
   },
   {
    "duration": -96,
    "start_time": "2021-12-15T18:51:20.162Z"
   },
   {
    "duration": -98,
    "start_time": "2021-12-15T18:51:20.166Z"
   },
   {
    "duration": -102,
    "start_time": "2021-12-15T18:51:20.171Z"
   },
   {
    "duration": -107,
    "start_time": "2021-12-15T18:51:20.177Z"
   },
   {
    "duration": -111,
    "start_time": "2021-12-15T18:51:20.182Z"
   },
   {
    "duration": -114,
    "start_time": "2021-12-15T18:51:20.186Z"
   },
   {
    "duration": -118,
    "start_time": "2021-12-15T18:51:20.191Z"
   },
   {
    "duration": -122,
    "start_time": "2021-12-15T18:51:20.196Z"
   },
   {
    "duration": -125,
    "start_time": "2021-12-15T18:51:20.200Z"
   },
   {
    "duration": -129,
    "start_time": "2021-12-15T18:51:20.205Z"
   },
   {
    "duration": -131,
    "start_time": "2021-12-15T18:51:20.209Z"
   },
   {
    "duration": -136,
    "start_time": "2021-12-15T18:51:20.215Z"
   },
   {
    "duration": -138,
    "start_time": "2021-12-15T18:51:20.219Z"
   },
   {
    "duration": -139,
    "start_time": "2021-12-15T18:51:20.225Z"
   },
   {
    "duration": -141,
    "start_time": "2021-12-15T18:51:20.229Z"
   },
   {
    "duration": -144,
    "start_time": "2021-12-15T18:51:20.234Z"
   },
   {
    "duration": -147,
    "start_time": "2021-12-15T18:51:20.239Z"
   },
   {
    "duration": -163,
    "start_time": "2021-12-15T18:51:20.256Z"
   },
   {
    "duration": -166,
    "start_time": "2021-12-15T18:51:20.261Z"
   },
   {
    "duration": -169,
    "start_time": "2021-12-15T18:51:20.266Z"
   },
   {
    "duration": 9336,
    "start_time": "2021-12-15T18:53:50.653Z"
   },
   {
    "duration": 4,
    "start_time": "2021-12-15T18:53:59.987Z"
   },
   {
    "duration": 9282,
    "start_time": "2021-12-15T18:54:42.661Z"
   },
   {
    "duration": 414,
    "start_time": "2021-12-15T18:55:00.121Z"
   },
   {
    "duration": 1446,
    "start_time": "2021-12-15T18:55:31.237Z"
   },
   {
    "duration": 555,
    "start_time": "2021-12-15T18:55:32.686Z"
   },
   {
    "duration": 20,
    "start_time": "2021-12-15T18:55:33.245Z"
   },
   {
    "duration": 32,
    "start_time": "2021-12-15T18:55:33.269Z"
   },
   {
    "duration": 27,
    "start_time": "2021-12-15T18:55:33.304Z"
   },
   {
    "duration": 23,
    "start_time": "2021-12-15T18:55:33.333Z"
   },
   {
    "duration": 37,
    "start_time": "2021-12-15T18:55:33.359Z"
   },
   {
    "duration": 56,
    "start_time": "2021-12-15T18:55:33.398Z"
   },
   {
    "duration": 37,
    "start_time": "2021-12-15T18:55:33.458Z"
   },
   {
    "duration": 19,
    "start_time": "2021-12-15T18:55:33.499Z"
   },
   {
    "duration": 56,
    "start_time": "2021-12-15T18:55:33.521Z"
   },
   {
    "duration": 35,
    "start_time": "2021-12-15T18:55:33.579Z"
   },
   {
    "duration": 48,
    "start_time": "2021-12-15T18:55:33.616Z"
   },
   {
    "duration": 16,
    "start_time": "2021-12-15T18:55:33.667Z"
   },
   {
    "duration": 23,
    "start_time": "2021-12-15T18:55:33.686Z"
   },
   {
    "duration": 32,
    "start_time": "2021-12-15T18:55:33.711Z"
   },
   {
    "duration": 123,
    "start_time": "2021-12-15T18:55:33.746Z"
   },
   {
    "duration": 111,
    "start_time": "2021-12-15T18:55:33.871Z"
   },
   {
    "duration": 8,
    "start_time": "2021-12-15T18:55:33.984Z"
   },
   {
    "duration": 49,
    "start_time": "2021-12-15T18:55:33.994Z"
   },
   {
    "duration": 19,
    "start_time": "2021-12-15T18:55:34.045Z"
   },
   {
    "duration": 24,
    "start_time": "2021-12-15T18:55:34.066Z"
   },
   {
    "duration": 47,
    "start_time": "2021-12-15T18:55:34.092Z"
   },
   {
    "duration": 97,
    "start_time": "2021-12-15T18:55:34.141Z"
   },
   {
    "duration": 350,
    "start_time": "2021-12-15T18:55:34.241Z"
   },
   {
    "duration": 46,
    "start_time": "2021-12-15T18:55:34.593Z"
   },
   {
    "duration": 37,
    "start_time": "2021-12-15T18:55:34.647Z"
   },
   {
    "duration": 74,
    "start_time": "2021-12-15T18:55:34.688Z"
   },
   {
    "duration": 34,
    "start_time": "2021-12-15T18:55:34.765Z"
   },
   {
    "duration": 442,
    "start_time": "2021-12-15T18:55:34.824Z"
   },
   {
    "duration": -52,
    "start_time": "2021-12-15T18:55:35.321Z"
   },
   {
    "duration": -60,
    "start_time": "2021-12-15T18:55:35.330Z"
   },
   {
    "duration": -66,
    "start_time": "2021-12-15T18:55:35.338Z"
   },
   {
    "duration": -71,
    "start_time": "2021-12-15T18:55:35.344Z"
   },
   {
    "duration": -76,
    "start_time": "2021-12-15T18:55:35.351Z"
   },
   {
    "duration": -79,
    "start_time": "2021-12-15T18:55:35.355Z"
   },
   {
    "duration": -85,
    "start_time": "2021-12-15T18:55:35.362Z"
   },
   {
    "duration": -88,
    "start_time": "2021-12-15T18:55:35.367Z"
   },
   {
    "duration": -93,
    "start_time": "2021-12-15T18:55:35.373Z"
   },
   {
    "duration": -97,
    "start_time": "2021-12-15T18:55:35.378Z"
   },
   {
    "duration": -101,
    "start_time": "2021-12-15T18:55:35.384Z"
   },
   {
    "duration": -105,
    "start_time": "2021-12-15T18:55:35.389Z"
   },
   {
    "duration": -109,
    "start_time": "2021-12-15T18:55:35.395Z"
   },
   {
    "duration": -115,
    "start_time": "2021-12-15T18:55:35.402Z"
   },
   {
    "duration": -211,
    "start_time": "2021-12-15T18:55:35.499Z"
   },
   {
    "duration": -226,
    "start_time": "2021-12-15T18:55:35.515Z"
   },
   {
    "duration": -235,
    "start_time": "2021-12-15T18:55:35.526Z"
   },
   {
    "duration": -241,
    "start_time": "2021-12-15T18:55:35.533Z"
   },
   {
    "duration": -247,
    "start_time": "2021-12-15T18:55:35.540Z"
   },
   {
    "duration": -256,
    "start_time": "2021-12-15T18:55:35.550Z"
   },
   {
    "duration": -263,
    "start_time": "2021-12-15T18:55:35.559Z"
   },
   {
    "duration": -268,
    "start_time": "2021-12-15T18:55:35.565Z"
   },
   {
    "duration": -272,
    "start_time": "2021-12-15T18:55:35.570Z"
   },
   {
    "duration": -274,
    "start_time": "2021-12-15T18:55:35.574Z"
   },
   {
    "duration": 7248,
    "start_time": "2021-12-15T18:57:15.401Z"
   },
   {
    "duration": 301,
    "start_time": "2021-12-15T18:57:44.919Z"
   },
   {
    "duration": 12,
    "start_time": "2021-12-15T18:58:01.058Z"
   },
   {
    "duration": 1417,
    "start_time": "2021-12-15T18:58:15.483Z"
   },
   {
    "duration": 591,
    "start_time": "2021-12-15T18:58:16.903Z"
   },
   {
    "duration": 18,
    "start_time": "2021-12-15T18:58:17.497Z"
   },
   {
    "duration": 29,
    "start_time": "2021-12-15T18:58:17.518Z"
   },
   {
    "duration": 9,
    "start_time": "2021-12-15T18:58:17.549Z"
   },
   {
    "duration": 8,
    "start_time": "2021-12-15T18:58:17.561Z"
   },
   {
    "duration": 12,
    "start_time": "2021-12-15T18:58:17.571Z"
   },
   {
    "duration": 43,
    "start_time": "2021-12-15T18:58:17.587Z"
   },
   {
    "duration": 19,
    "start_time": "2021-12-15T18:58:17.633Z"
   },
   {
    "duration": 10,
    "start_time": "2021-12-15T18:58:17.654Z"
   },
   {
    "duration": 19,
    "start_time": "2021-12-15T18:58:17.667Z"
   },
   {
    "duration": 49,
    "start_time": "2021-12-15T18:58:17.688Z"
   },
   {
    "duration": 27,
    "start_time": "2021-12-15T18:58:17.739Z"
   },
   {
    "duration": 13,
    "start_time": "2021-12-15T18:58:17.768Z"
   },
   {
    "duration": 10,
    "start_time": "2021-12-15T18:58:17.784Z"
   },
   {
    "duration": 14,
    "start_time": "2021-12-15T18:58:17.827Z"
   },
   {
    "duration": 113,
    "start_time": "2021-12-15T18:58:17.844Z"
   },
   {
    "duration": 113,
    "start_time": "2021-12-15T18:58:17.960Z"
   },
   {
    "duration": 5,
    "start_time": "2021-12-15T18:58:18.076Z"
   },
   {
    "duration": 52,
    "start_time": "2021-12-15T18:58:18.084Z"
   },
   {
    "duration": 22,
    "start_time": "2021-12-15T18:58:18.138Z"
   },
   {
    "duration": 25,
    "start_time": "2021-12-15T18:58:18.163Z"
   },
   {
    "duration": 57,
    "start_time": "2021-12-15T18:58:18.193Z"
   },
   {
    "duration": 92,
    "start_time": "2021-12-15T18:58:18.253Z"
   },
   {
    "duration": 372,
    "start_time": "2021-12-15T18:58:18.348Z"
   },
   {
    "duration": 40,
    "start_time": "2021-12-15T18:58:18.724Z"
   },
   {
    "duration": 64,
    "start_time": "2021-12-15T18:58:18.767Z"
   },
   {
    "duration": 53,
    "start_time": "2021-12-15T18:58:18.833Z"
   },
   {
    "duration": 55,
    "start_time": "2021-12-15T18:58:18.889Z"
   },
   {
    "duration": 13,
    "start_time": "2021-12-15T18:58:18.947Z"
   },
   {
    "duration": 420,
    "start_time": "2021-12-15T18:58:18.962Z"
   },
   {
    "duration": 83,
    "start_time": "2021-12-15T18:58:19.301Z"
   },
   {
    "duration": 79,
    "start_time": "2021-12-15T18:58:19.307Z"
   },
   {
    "duration": 75,
    "start_time": "2021-12-15T18:58:19.312Z"
   },
   {
    "duration": 72,
    "start_time": "2021-12-15T18:58:19.317Z"
   },
   {
    "duration": 68,
    "start_time": "2021-12-15T18:58:19.322Z"
   },
   {
    "duration": 64,
    "start_time": "2021-12-15T18:58:19.327Z"
   },
   {
    "duration": 61,
    "start_time": "2021-12-15T18:58:19.332Z"
   },
   {
    "duration": 57,
    "start_time": "2021-12-15T18:58:19.337Z"
   },
   {
    "duration": 53,
    "start_time": "2021-12-15T18:58:19.342Z"
   },
   {
    "duration": 50,
    "start_time": "2021-12-15T18:58:19.347Z"
   },
   {
    "duration": 45,
    "start_time": "2021-12-15T18:58:19.353Z"
   },
   {
    "duration": 1,
    "start_time": "2021-12-15T18:58:19.398Z"
   },
   {
    "duration": -7,
    "start_time": "2021-12-15T18:58:19.408Z"
   },
   {
    "duration": -11,
    "start_time": "2021-12-15T18:58:19.413Z"
   },
   {
    "duration": -16,
    "start_time": "2021-12-15T18:58:19.419Z"
   },
   {
    "duration": -18,
    "start_time": "2021-12-15T18:58:19.423Z"
   },
   {
    "duration": -23,
    "start_time": "2021-12-15T18:58:19.429Z"
   },
   {
    "duration": -29,
    "start_time": "2021-12-15T18:58:19.437Z"
   },
   {
    "duration": -38,
    "start_time": "2021-12-15T18:58:19.447Z"
   },
   {
    "duration": -41,
    "start_time": "2021-12-15T18:58:19.452Z"
   },
   {
    "duration": -44,
    "start_time": "2021-12-15T18:58:19.457Z"
   },
   {
    "duration": -48,
    "start_time": "2021-12-15T18:58:19.462Z"
   },
   {
    "duration": -52,
    "start_time": "2021-12-15T18:58:19.467Z"
   },
   {
    "duration": -56,
    "start_time": "2021-12-15T18:58:19.472Z"
   },
   {
    "duration": -59,
    "start_time": "2021-12-15T18:58:19.477Z"
   },
   {
    "duration": 385,
    "start_time": "2021-12-15T19:00:11.278Z"
   },
   {
    "duration": 30,
    "start_time": "2021-12-15T19:01:11.513Z"
   },
   {
    "duration": 10,
    "start_time": "2021-12-15T19:01:50.655Z"
   },
   {
    "duration": 1464,
    "start_time": "2021-12-15T19:01:57.804Z"
   },
   {
    "duration": 474,
    "start_time": "2021-12-15T19:01:59.271Z"
   },
   {
    "duration": 40,
    "start_time": "2021-12-15T19:01:59.747Z"
   },
   {
    "duration": 80,
    "start_time": "2021-12-15T19:01:59.804Z"
   },
   {
    "duration": 52,
    "start_time": "2021-12-15T19:01:59.888Z"
   },
   {
    "duration": 9,
    "start_time": "2021-12-15T19:01:59.943Z"
   },
   {
    "duration": 37,
    "start_time": "2021-12-15T19:01:59.955Z"
   },
   {
    "duration": 29,
    "start_time": "2021-12-15T19:01:59.996Z"
   },
   {
    "duration": 34,
    "start_time": "2021-12-15T19:02:00.028Z"
   },
   {
    "duration": 17,
    "start_time": "2021-12-15T19:02:00.065Z"
   },
   {
    "duration": 24,
    "start_time": "2021-12-15T19:02:00.084Z"
   },
   {
    "duration": 29,
    "start_time": "2021-12-15T19:02:00.111Z"
   },
   {
    "duration": 37,
    "start_time": "2021-12-15T19:02:00.142Z"
   },
   {
    "duration": 12,
    "start_time": "2021-12-15T19:02:00.182Z"
   },
   {
    "duration": 12,
    "start_time": "2021-12-15T19:02:00.197Z"
   },
   {
    "duration": 31,
    "start_time": "2021-12-15T19:02:00.211Z"
   },
   {
    "duration": 118,
    "start_time": "2021-12-15T19:02:00.244Z"
   },
   {
    "duration": 99,
    "start_time": "2021-12-15T19:02:00.364Z"
   },
   {
    "duration": 17,
    "start_time": "2021-12-15T19:02:00.465Z"
   },
   {
    "duration": 64,
    "start_time": "2021-12-15T19:02:00.484Z"
   },
   {
    "duration": 20,
    "start_time": "2021-12-15T19:02:00.551Z"
   },
   {
    "duration": 31,
    "start_time": "2021-12-15T19:02:00.574Z"
   },
   {
    "duration": 28,
    "start_time": "2021-12-15T19:02:00.610Z"
   },
   {
    "duration": 89,
    "start_time": "2021-12-15T19:02:00.641Z"
   },
   {
    "duration": 351,
    "start_time": "2021-12-15T19:02:00.732Z"
   },
   {
    "duration": 46,
    "start_time": "2021-12-15T19:02:01.085Z"
   },
   {
    "duration": 37,
    "start_time": "2021-12-15T19:02:01.134Z"
   },
   {
    "duration": 73,
    "start_time": "2021-12-15T19:02:01.173Z"
   },
   {
    "duration": 33,
    "start_time": "2021-12-15T19:02:01.248Z"
   },
   {
    "duration": 13,
    "start_time": "2021-12-15T19:02:01.283Z"
   },
   {
    "duration": 47,
    "start_time": "2021-12-15T19:02:01.299Z"
   },
   {
    "duration": 462,
    "start_time": "2021-12-15T19:02:01.348Z"
   },
   {
    "duration": 31,
    "start_time": "2021-12-15T19:02:01.782Z"
   },
   {
    "duration": 23,
    "start_time": "2021-12-15T19:02:01.791Z"
   },
   {
    "duration": 19,
    "start_time": "2021-12-15T19:02:01.796Z"
   },
   {
    "duration": 12,
    "start_time": "2021-12-15T19:02:01.805Z"
   },
   {
    "duration": 7,
    "start_time": "2021-12-15T19:02:01.811Z"
   },
   {
    "duration": 4,
    "start_time": "2021-12-15T19:02:01.816Z"
   },
   {
    "duration": 2,
    "start_time": "2021-12-15T19:02:01.820Z"
   },
   {
    "duration": -2,
    "start_time": "2021-12-15T19:02:01.825Z"
   },
   {
    "duration": -4,
    "start_time": "2021-12-15T19:02:01.829Z"
   },
   {
    "duration": -8,
    "start_time": "2021-12-15T19:02:01.834Z"
   },
   {
    "duration": -10,
    "start_time": "2021-12-15T19:02:01.838Z"
   },
   {
    "duration": -14,
    "start_time": "2021-12-15T19:02:01.843Z"
   },
   {
    "duration": -17,
    "start_time": "2021-12-15T19:02:01.847Z"
   },
   {
    "duration": -20,
    "start_time": "2021-12-15T19:02:01.852Z"
   },
   {
    "duration": -23,
    "start_time": "2021-12-15T19:02:01.856Z"
   },
   {
    "duration": -33,
    "start_time": "2021-12-15T19:02:01.867Z"
   },
   {
    "duration": -52,
    "start_time": "2021-12-15T19:02:01.888Z"
   },
   {
    "duration": -58,
    "start_time": "2021-12-15T19:02:01.895Z"
   },
   {
    "duration": -60,
    "start_time": "2021-12-15T19:02:01.899Z"
   },
   {
    "duration": -66,
    "start_time": "2021-12-15T19:02:01.906Z"
   },
   {
    "duration": -70,
    "start_time": "2021-12-15T19:02:01.911Z"
   },
   {
    "duration": -73,
    "start_time": "2021-12-15T19:02:01.916Z"
   },
   {
    "duration": -76,
    "start_time": "2021-12-15T19:02:01.920Z"
   },
   {
    "duration": -80,
    "start_time": "2021-12-15T19:02:01.925Z"
   },
   {
    "duration": 359,
    "start_time": "2021-12-15T19:04:46.051Z"
   },
   {
    "duration": 9,
    "start_time": "2021-12-15T19:06:50.634Z"
   },
   {
    "duration": 12,
    "start_time": "2021-12-15T19:06:53.160Z"
   },
   {
    "duration": 29,
    "start_time": "2021-12-15T19:07:05.534Z"
   },
   {
    "duration": 10,
    "start_time": "2021-12-15T19:09:14.068Z"
   },
   {
    "duration": 31,
    "start_time": "2021-12-15T19:09:23.096Z"
   },
   {
    "duration": 8,
    "start_time": "2021-12-15T19:10:08.266Z"
   },
   {
    "duration": 30,
    "start_time": "2021-12-15T19:10:09.112Z"
   },
   {
    "duration": 1540,
    "start_time": "2021-12-15T19:11:13.852Z"
   },
   {
    "duration": 531,
    "start_time": "2021-12-15T19:11:15.395Z"
   },
   {
    "duration": 17,
    "start_time": "2021-12-15T19:11:15.929Z"
   },
   {
    "duration": 32,
    "start_time": "2021-12-15T19:11:15.949Z"
   },
   {
    "duration": 32,
    "start_time": "2021-12-15T19:11:15.984Z"
   },
   {
    "duration": 22,
    "start_time": "2021-12-15T19:11:16.019Z"
   },
   {
    "duration": 30,
    "start_time": "2021-12-15T19:11:16.044Z"
   },
   {
    "duration": 50,
    "start_time": "2021-12-15T19:11:16.079Z"
   },
   {
    "duration": 19,
    "start_time": "2021-12-15T19:11:16.133Z"
   },
   {
    "duration": 29,
    "start_time": "2021-12-15T19:11:16.155Z"
   },
   {
    "duration": 37,
    "start_time": "2021-12-15T19:11:16.187Z"
   },
   {
    "duration": 28,
    "start_time": "2021-12-15T19:11:16.226Z"
   },
   {
    "duration": 42,
    "start_time": "2021-12-15T19:11:16.256Z"
   },
   {
    "duration": 20,
    "start_time": "2021-12-15T19:11:16.300Z"
   },
   {
    "duration": 26,
    "start_time": "2021-12-15T19:11:16.322Z"
   },
   {
    "duration": 26,
    "start_time": "2021-12-15T19:11:16.350Z"
   },
   {
    "duration": 111,
    "start_time": "2021-12-15T19:11:16.378Z"
   },
   {
    "duration": 110,
    "start_time": "2021-12-15T19:11:16.491Z"
   },
   {
    "duration": 22,
    "start_time": "2021-12-15T19:11:16.604Z"
   },
   {
    "duration": 57,
    "start_time": "2021-12-15T19:11:16.629Z"
   },
   {
    "duration": 21,
    "start_time": "2021-12-15T19:11:16.688Z"
   },
   {
    "duration": 30,
    "start_time": "2021-12-15T19:11:16.711Z"
   },
   {
    "duration": 23,
    "start_time": "2021-12-15T19:11:16.747Z"
   },
   {
    "duration": 110,
    "start_time": "2021-12-15T19:11:16.774Z"
   },
   {
    "duration": 343,
    "start_time": "2021-12-15T19:11:16.886Z"
   },
   {
    "duration": 32,
    "start_time": "2021-12-15T19:11:17.231Z"
   },
   {
    "duration": 58,
    "start_time": "2021-12-15T19:11:17.265Z"
   },
   {
    "duration": 49,
    "start_time": "2021-12-15T19:11:17.325Z"
   },
   {
    "duration": 54,
    "start_time": "2021-12-15T19:11:17.377Z"
   },
   {
    "duration": 432,
    "start_time": "2021-12-15T19:11:17.434Z"
   },
   {
    "duration": -316,
    "start_time": "2021-12-15T19:11:18.185Z"
   },
   {
    "duration": -320,
    "start_time": "2021-12-15T19:11:18.190Z"
   },
   {
    "duration": -327,
    "start_time": "2021-12-15T19:11:18.198Z"
   },
   {
    "duration": -329,
    "start_time": "2021-12-15T19:11:18.202Z"
   },
   {
    "duration": -335,
    "start_time": "2021-12-15T19:11:18.209Z"
   },
   {
    "duration": -337,
    "start_time": "2021-12-15T19:11:18.213Z"
   },
   {
    "duration": -341,
    "start_time": "2021-12-15T19:11:18.218Z"
   },
   {
    "duration": -345,
    "start_time": "2021-12-15T19:11:18.223Z"
   },
   {
    "duration": -347,
    "start_time": "2021-12-15T19:11:18.227Z"
   },
   {
    "duration": -350,
    "start_time": "2021-12-15T19:11:18.231Z"
   },
   {
    "duration": -354,
    "start_time": "2021-12-15T19:11:18.236Z"
   },
   {
    "duration": -357,
    "start_time": "2021-12-15T19:11:18.241Z"
   },
   {
    "duration": -361,
    "start_time": "2021-12-15T19:11:18.246Z"
   },
   {
    "duration": -363,
    "start_time": "2021-12-15T19:11:18.250Z"
   },
   {
    "duration": -367,
    "start_time": "2021-12-15T19:11:18.255Z"
   },
   {
    "duration": -370,
    "start_time": "2021-12-15T19:11:18.259Z"
   },
   {
    "duration": -373,
    "start_time": "2021-12-15T19:11:18.264Z"
   },
   {
    "duration": -345,
    "start_time": "2021-12-15T19:11:18.268Z"
   },
   {
    "duration": -347,
    "start_time": "2021-12-15T19:11:18.272Z"
   },
   {
    "duration": -365,
    "start_time": "2021-12-15T19:11:18.291Z"
   },
   {
    "duration": -368,
    "start_time": "2021-12-15T19:11:18.296Z"
   },
   {
    "duration": -372,
    "start_time": "2021-12-15T19:11:18.301Z"
   },
   {
    "duration": -376,
    "start_time": "2021-12-15T19:11:18.307Z"
   },
   {
    "duration": -380,
    "start_time": "2021-12-15T19:11:18.312Z"
   },
   {
    "duration": -385,
    "start_time": "2021-12-15T19:11:18.318Z"
   },
   {
    "duration": 10,
    "start_time": "2021-12-15T19:11:31.047Z"
   },
   {
    "duration": 7,
    "start_time": "2021-12-15T19:11:33.419Z"
   },
   {
    "duration": 30,
    "start_time": "2021-12-15T19:11:44.845Z"
   },
   {
    "duration": 11,
    "start_time": "2021-12-15T19:12:00.599Z"
   },
   {
    "duration": 9,
    "start_time": "2021-12-15T19:13:26.288Z"
   },
   {
    "duration": 7,
    "start_time": "2021-12-15T19:13:27.287Z"
   },
   {
    "duration": 28,
    "start_time": "2021-12-15T19:13:28.068Z"
   },
   {
    "duration": 11,
    "start_time": "2021-12-15T19:13:29.544Z"
   },
   {
    "duration": 14,
    "start_time": "2021-12-15T19:15:22.240Z"
   },
   {
    "duration": 1422,
    "start_time": "2021-12-15T19:16:39.163Z"
   },
   {
    "duration": 488,
    "start_time": "2021-12-15T19:16:40.587Z"
   },
   {
    "duration": 19,
    "start_time": "2021-12-15T19:16:41.078Z"
   },
   {
    "duration": 16,
    "start_time": "2021-12-15T19:16:41.099Z"
   },
   {
    "duration": 10,
    "start_time": "2021-12-15T19:16:41.117Z"
   },
   {
    "duration": 11,
    "start_time": "2021-12-15T19:16:41.129Z"
   },
   {
    "duration": 17,
    "start_time": "2021-12-15T19:16:41.142Z"
   },
   {
    "duration": 25,
    "start_time": "2021-12-15T19:16:41.163Z"
   },
   {
    "duration": 40,
    "start_time": "2021-12-15T19:16:41.191Z"
   },
   {
    "duration": 10,
    "start_time": "2021-12-15T19:16:41.234Z"
   },
   {
    "duration": 31,
    "start_time": "2021-12-15T19:16:41.246Z"
   },
   {
    "duration": 31,
    "start_time": "2021-12-15T19:16:41.279Z"
   },
   {
    "duration": 33,
    "start_time": "2021-12-15T19:16:41.313Z"
   },
   {
    "duration": 14,
    "start_time": "2021-12-15T19:16:41.350Z"
   },
   {
    "duration": 17,
    "start_time": "2021-12-15T19:16:41.367Z"
   },
   {
    "duration": 24,
    "start_time": "2021-12-15T19:16:41.386Z"
   },
   {
    "duration": 100,
    "start_time": "2021-12-15T19:16:41.423Z"
   },
   {
    "duration": 104,
    "start_time": "2021-12-15T19:16:41.525Z"
   },
   {
    "duration": 5,
    "start_time": "2021-12-15T19:16:41.631Z"
   },
   {
    "duration": 57,
    "start_time": "2021-12-15T19:16:41.638Z"
   },
   {
    "duration": 20,
    "start_time": "2021-12-15T19:16:41.698Z"
   },
   {
    "duration": 27,
    "start_time": "2021-12-15T19:16:41.720Z"
   },
   {
    "duration": 21,
    "start_time": "2021-12-15T19:16:41.752Z"
   },
   {
    "duration": 92,
    "start_time": "2021-12-15T19:16:41.776Z"
   },
   {
    "duration": 340,
    "start_time": "2021-12-15T19:16:41.870Z"
   },
   {
    "duration": 40,
    "start_time": "2021-12-15T19:16:42.213Z"
   },
   {
    "duration": 37,
    "start_time": "2021-12-15T19:16:42.255Z"
   },
   {
    "duration": 72,
    "start_time": "2021-12-15T19:16:42.294Z"
   },
   {
    "duration": 30,
    "start_time": "2021-12-15T19:16:42.368Z"
   },
   {
    "duration": 31,
    "start_time": "2021-12-15T19:16:42.400Z"
   },
   {
    "duration": 8,
    "start_time": "2021-12-15T19:16:42.434Z"
   },
   {
    "duration": 22,
    "start_time": "2021-12-15T19:16:42.445Z"
   },
   {
    "duration": 41,
    "start_time": "2021-12-15T19:16:42.469Z"
   },
   {
    "duration": 23,
    "start_time": "2021-12-15T19:16:42.513Z"
   },
   {
    "duration": 416,
    "start_time": "2021-12-15T19:16:42.538Z"
   },
   {
    "duration": -80,
    "start_time": "2021-12-15T19:16:43.036Z"
   },
   {
    "duration": -85,
    "start_time": "2021-12-15T19:16:43.042Z"
   },
   {
    "duration": -89,
    "start_time": "2021-12-15T19:16:43.047Z"
   },
   {
    "duration": -92,
    "start_time": "2021-12-15T19:16:43.052Z"
   },
   {
    "duration": -97,
    "start_time": "2021-12-15T19:16:43.058Z"
   },
   {
    "duration": -100,
    "start_time": "2021-12-15T19:16:43.062Z"
   },
   {
    "duration": -103,
    "start_time": "2021-12-15T19:16:43.067Z"
   },
   {
    "duration": -107,
    "start_time": "2021-12-15T19:16:43.072Z"
   },
   {
    "duration": -111,
    "start_time": "2021-12-15T19:16:43.077Z"
   },
   {
    "duration": -114,
    "start_time": "2021-12-15T19:16:43.081Z"
   },
   {
    "duration": -117,
    "start_time": "2021-12-15T19:16:43.086Z"
   },
   {
    "duration": -121,
    "start_time": "2021-12-15T19:16:43.091Z"
   },
   {
    "duration": -125,
    "start_time": "2021-12-15T19:16:43.096Z"
   },
   {
    "duration": -127,
    "start_time": "2021-12-15T19:16:43.100Z"
   },
   {
    "duration": -132,
    "start_time": "2021-12-15T19:16:43.106Z"
   },
   {
    "duration": -134,
    "start_time": "2021-12-15T19:16:43.110Z"
   },
   {
    "duration": -137,
    "start_time": "2021-12-15T19:16:43.115Z"
   },
   {
    "duration": -140,
    "start_time": "2021-12-15T19:16:43.119Z"
   },
   {
    "duration": -145,
    "start_time": "2021-12-15T19:16:43.125Z"
   },
   {
    "duration": -147,
    "start_time": "2021-12-15T19:16:43.129Z"
   },
   {
    "duration": -151,
    "start_time": "2021-12-15T19:16:43.134Z"
   },
   {
    "duration": -155,
    "start_time": "2021-12-15T19:16:43.139Z"
   },
   {
    "duration": -158,
    "start_time": "2021-12-15T19:16:43.144Z"
   },
   {
    "duration": 57,
    "start_time": "2021-12-15T19:18:00.450Z"
   },
   {
    "duration": 12,
    "start_time": "2021-12-15T19:18:57.638Z"
   },
   {
    "duration": 10,
    "start_time": "2021-12-15T19:19:27.800Z"
   },
   {
    "duration": 7,
    "start_time": "2021-12-15T19:19:28.376Z"
   },
   {
    "duration": 27,
    "start_time": "2021-12-15T19:19:29.093Z"
   },
   {
    "duration": 11,
    "start_time": "2021-12-15T19:19:30.421Z"
   },
   {
    "duration": 12,
    "start_time": "2021-12-15T19:19:54.649Z"
   },
   {
    "duration": 1391,
    "start_time": "2021-12-15T19:20:37.678Z"
   },
   {
    "duration": 483,
    "start_time": "2021-12-15T19:20:39.072Z"
   },
   {
    "duration": 20,
    "start_time": "2021-12-15T19:20:39.558Z"
   },
   {
    "duration": 25,
    "start_time": "2021-12-15T19:20:39.581Z"
   },
   {
    "duration": 35,
    "start_time": "2021-12-15T19:20:39.609Z"
   },
   {
    "duration": 30,
    "start_time": "2021-12-15T19:20:39.647Z"
   },
   {
    "duration": 39,
    "start_time": "2021-12-15T19:20:39.680Z"
   },
   {
    "duration": 40,
    "start_time": "2021-12-15T19:20:39.724Z"
   },
   {
    "duration": 21,
    "start_time": "2021-12-15T19:20:39.768Z"
   },
   {
    "duration": 31,
    "start_time": "2021-12-15T19:20:39.792Z"
   },
   {
    "duration": 28,
    "start_time": "2021-12-15T19:20:39.826Z"
   },
   {
    "duration": 36,
    "start_time": "2021-12-15T19:20:39.856Z"
   },
   {
    "duration": 45,
    "start_time": "2021-12-15T19:20:39.894Z"
   },
   {
    "duration": 15,
    "start_time": "2021-12-15T19:20:39.942Z"
   },
   {
    "duration": 19,
    "start_time": "2021-12-15T19:20:39.959Z"
   },
   {
    "duration": 25,
    "start_time": "2021-12-15T19:20:39.981Z"
   },
   {
    "duration": 118,
    "start_time": "2021-12-15T19:20:40.008Z"
   },
   {
    "duration": 106,
    "start_time": "2021-12-15T19:20:40.128Z"
   },
   {
    "duration": 5,
    "start_time": "2021-12-15T19:20:40.237Z"
   },
   {
    "duration": 55,
    "start_time": "2021-12-15T19:20:40.244Z"
   },
   {
    "duration": 24,
    "start_time": "2021-12-15T19:20:40.301Z"
   },
   {
    "duration": 36,
    "start_time": "2021-12-15T19:20:40.328Z"
   },
   {
    "duration": 28,
    "start_time": "2021-12-15T19:20:40.369Z"
   },
   {
    "duration": 102,
    "start_time": "2021-12-15T19:20:40.400Z"
   },
   {
    "duration": 337,
    "start_time": "2021-12-15T19:20:40.504Z"
   },
   {
    "duration": 32,
    "start_time": "2021-12-15T19:20:40.844Z"
   },
   {
    "duration": 61,
    "start_time": "2021-12-15T19:20:40.879Z"
   },
   {
    "duration": 61,
    "start_time": "2021-12-15T19:20:40.942Z"
   },
   {
    "duration": 23,
    "start_time": "2021-12-15T19:20:41.005Z"
   },
   {
    "duration": 13,
    "start_time": "2021-12-15T19:20:41.030Z"
   },
   {
    "duration": 13,
    "start_time": "2021-12-15T19:20:41.045Z"
   },
   {
    "duration": 25,
    "start_time": "2021-12-15T19:20:41.060Z"
   },
   {
    "duration": 36,
    "start_time": "2021-12-15T19:20:41.087Z"
   },
   {
    "duration": 8,
    "start_time": "2021-12-15T19:20:41.125Z"
   },
   {
    "duration": 168,
    "start_time": "2021-12-15T19:20:41.136Z"
   },
   {
    "duration": 26,
    "start_time": "2021-12-15T19:20:41.306Z"
   },
   {
    "duration": 24,
    "start_time": "2021-12-15T19:20:41.335Z"
   },
   {
    "duration": 9,
    "start_time": "2021-12-15T19:20:41.362Z"
   },
   {
    "duration": 66,
    "start_time": "2021-12-15T19:20:41.373Z"
   },
   {
    "duration": 53,
    "start_time": "2021-12-15T19:20:41.442Z"
   },
   {
    "duration": 73,
    "start_time": "2021-12-15T19:20:41.498Z"
   },
   {
    "duration": 658,
    "start_time": "2021-12-15T19:20:41.573Z"
   },
   {
    "duration": 495,
    "start_time": "2021-12-15T19:20:42.233Z"
   },
   {
    "duration": 654,
    "start_time": "2021-12-15T19:20:42.730Z"
   },
   {
    "duration": 601,
    "start_time": "2021-12-15T19:20:43.387Z"
   },
   {
    "duration": 671,
    "start_time": "2021-12-15T19:20:43.992Z"
   },
   {
    "duration": 524,
    "start_time": "2021-12-15T19:20:44.666Z"
   },
   {
    "duration": 495,
    "start_time": "2021-12-15T19:20:45.192Z"
   },
   {
    "duration": 6,
    "start_time": "2021-12-15T19:20:45.690Z"
   },
   {
    "duration": 375,
    "start_time": "2021-12-15T19:20:45.698Z"
   },
   {
    "duration": 509,
    "start_time": "2021-12-15T19:20:46.075Z"
   },
   {
    "duration": 537,
    "start_time": "2021-12-15T19:20:46.586Z"
   },
   {
    "duration": 6,
    "start_time": "2021-12-15T19:20:47.125Z"
   },
   {
    "duration": 18,
    "start_time": "2021-12-15T19:20:47.133Z"
   },
   {
    "duration": 28,
    "start_time": "2021-12-15T19:20:47.153Z"
   },
   {
    "duration": 13,
    "start_time": "2021-12-15T19:20:47.184Z"
   },
   {
    "duration": 961,
    "start_time": "2021-12-15T19:32:19.831Z"
   },
   {
    "duration": 2252,
    "start_time": "2021-12-15T19:33:21.495Z"
   },
   {
    "duration": 608,
    "start_time": "2021-12-15T19:33:23.750Z"
   },
   {
    "duration": 19,
    "start_time": "2021-12-15T19:33:24.362Z"
   },
   {
    "duration": 10,
    "start_time": "2021-12-15T19:33:24.384Z"
   },
   {
    "duration": 8,
    "start_time": "2021-12-15T19:33:24.396Z"
   },
   {
    "duration": 6,
    "start_time": "2021-12-15T19:33:24.406Z"
   },
   {
    "duration": 16,
    "start_time": "2021-12-15T19:33:24.415Z"
   },
   {
    "duration": 26,
    "start_time": "2021-12-15T19:33:24.435Z"
   },
   {
    "duration": 18,
    "start_time": "2021-12-15T19:33:24.465Z"
   },
   {
    "duration": 45,
    "start_time": "2021-12-15T19:33:24.486Z"
   },
   {
    "duration": 21,
    "start_time": "2021-12-15T19:33:24.533Z"
   },
   {
    "duration": 11,
    "start_time": "2021-12-15T19:33:24.557Z"
   },
   {
    "duration": 58,
    "start_time": "2021-12-15T19:33:24.570Z"
   },
   {
    "duration": 13,
    "start_time": "2021-12-15T19:33:24.631Z"
   },
   {
    "duration": 10,
    "start_time": "2021-12-15T19:33:24.647Z"
   },
   {
    "duration": 16,
    "start_time": "2021-12-15T19:33:24.659Z"
   },
   {
    "duration": 133,
    "start_time": "2021-12-15T19:33:24.678Z"
   },
   {
    "duration": 118,
    "start_time": "2021-12-15T19:33:24.813Z"
   },
   {
    "duration": 5,
    "start_time": "2021-12-15T19:33:24.933Z"
   },
   {
    "duration": 39,
    "start_time": "2021-12-15T19:33:24.940Z"
   },
   {
    "duration": 42,
    "start_time": "2021-12-15T19:33:24.981Z"
   },
   {
    "duration": 25,
    "start_time": "2021-12-15T19:33:25.026Z"
   },
   {
    "duration": 22,
    "start_time": "2021-12-15T19:33:25.056Z"
   },
   {
    "duration": 111,
    "start_time": "2021-12-15T19:33:25.082Z"
   },
   {
    "duration": 348,
    "start_time": "2021-12-15T19:33:25.196Z"
   },
   {
    "duration": 34,
    "start_time": "2021-12-15T19:33:25.546Z"
   },
   {
    "duration": 55,
    "start_time": "2021-12-15T19:33:25.582Z"
   },
   {
    "duration": 59,
    "start_time": "2021-12-15T19:33:25.640Z"
   },
   {
    "duration": 30,
    "start_time": "2021-12-15T19:33:25.702Z"
   },
   {
    "duration": 10,
    "start_time": "2021-12-15T19:33:25.735Z"
   },
   {
    "duration": 15,
    "start_time": "2021-12-15T19:33:25.747Z"
   },
   {
    "duration": 24,
    "start_time": "2021-12-15T19:33:25.765Z"
   },
   {
    "duration": 40,
    "start_time": "2021-12-15T19:33:25.791Z"
   },
   {
    "duration": 7,
    "start_time": "2021-12-15T19:33:25.834Z"
   },
   {
    "duration": 171,
    "start_time": "2021-12-15T19:33:25.843Z"
   },
   {
    "duration": 21,
    "start_time": "2021-12-15T19:33:26.016Z"
   },
   {
    "duration": 11,
    "start_time": "2021-12-15T19:33:26.039Z"
   },
   {
    "duration": 9,
    "start_time": "2021-12-15T19:33:26.053Z"
   },
   {
    "duration": 86,
    "start_time": "2021-12-15T19:33:26.064Z"
   },
   {
    "duration": 52,
    "start_time": "2021-12-15T19:33:26.153Z"
   },
   {
    "duration": 63,
    "start_time": "2021-12-15T19:33:26.207Z"
   },
   {
    "duration": 622,
    "start_time": "2021-12-15T19:33:26.273Z"
   },
   {
    "duration": 517,
    "start_time": "2021-12-15T19:33:26.898Z"
   },
   {
    "duration": 655,
    "start_time": "2021-12-15T19:33:27.417Z"
   },
   {
    "duration": 546,
    "start_time": "2021-12-15T19:33:28.074Z"
   },
   {
    "duration": 689,
    "start_time": "2021-12-15T19:33:28.624Z"
   },
   {
    "duration": 496,
    "start_time": "2021-12-15T19:33:29.323Z"
   },
   {
    "duration": 513,
    "start_time": "2021-12-15T19:33:29.824Z"
   },
   {
    "duration": 7,
    "start_time": "2021-12-15T19:33:30.340Z"
   },
   {
    "duration": 403,
    "start_time": "2021-12-15T19:33:30.350Z"
   },
   {
    "duration": 521,
    "start_time": "2021-12-15T19:33:30.756Z"
   },
   {
    "duration": 655,
    "start_time": "2021-12-15T19:33:31.281Z"
   },
   {
    "duration": 6,
    "start_time": "2021-12-15T19:33:31.939Z"
   },
   {
    "duration": 12,
    "start_time": "2021-12-15T19:33:31.948Z"
   },
   {
    "duration": 72,
    "start_time": "2021-12-15T19:33:31.963Z"
   },
   {
    "duration": 10,
    "start_time": "2021-12-15T19:33:32.038Z"
   },
   {
    "duration": 492,
    "start_time": "2021-12-15T19:34:23.527Z"
   },
   {
    "duration": 8957,
    "start_time": "2021-12-15T19:36:14.677Z"
   },
   {
    "duration": 6,
    "start_time": "2021-12-15T19:36:52.789Z"
   },
   {
    "duration": 501,
    "start_time": "2021-12-15T19:36:53.149Z"
   },
   {
    "duration": 15,
    "start_time": "2021-12-15T19:36:57.921Z"
   },
   {
    "duration": 14,
    "start_time": "2021-12-15T19:36:58.583Z"
   },
   {
    "duration": 5,
    "start_time": "2021-12-15T19:36:59.196Z"
   },
   {
    "duration": 7,
    "start_time": "2021-12-15T19:36:59.740Z"
   },
   {
    "duration": 118,
    "start_time": "2021-12-15T19:37:00.245Z"
   },
   {
    "duration": 26,
    "start_time": "2021-12-15T19:37:00.743Z"
   },
   {
    "duration": 19,
    "start_time": "2021-12-15T19:37:01.233Z"
   },
   {
    "duration": 11,
    "start_time": "2021-12-15T19:37:01.669Z"
   },
   {
    "duration": 22,
    "start_time": "2021-12-15T19:37:02.071Z"
   },
   {
    "duration": 12,
    "start_time": "2021-12-15T19:37:02.449Z"
   },
   {
    "duration": 23,
    "start_time": "2021-12-15T19:37:02.824Z"
   },
   {
    "duration": 14,
    "start_time": "2021-12-15T19:37:03.201Z"
   },
   {
    "duration": 12,
    "start_time": "2021-12-15T19:37:03.837Z"
   },
   {
    "duration": 9,
    "start_time": "2021-12-15T19:37:04.135Z"
   },
   {
    "duration": 110,
    "start_time": "2021-12-15T19:37:06.839Z"
   },
   {
    "duration": 92,
    "start_time": "2021-12-15T19:37:07.852Z"
   },
   {
    "duration": 5,
    "start_time": "2021-12-15T19:37:10.127Z"
   },
   {
    "duration": 33,
    "start_time": "2021-12-15T19:37:10.968Z"
   },
   {
    "duration": 22,
    "start_time": "2021-12-15T19:37:11.362Z"
   },
   {
    "duration": 26,
    "start_time": "2021-12-15T19:37:11.615Z"
   },
   {
    "duration": 22,
    "start_time": "2021-12-15T19:37:12.168Z"
   },
   {
    "duration": 64,
    "start_time": "2021-12-15T19:37:13.279Z"
   },
   {
    "duration": 335,
    "start_time": "2021-12-15T19:37:13.499Z"
   },
   {
    "duration": 31,
    "start_time": "2021-12-15T19:37:31.788Z"
   },
   {
    "duration": 33,
    "start_time": "2021-12-15T19:37:32.691Z"
   },
   {
    "duration": 60,
    "start_time": "2021-12-15T19:37:34.461Z"
   },
   {
    "duration": 12,
    "start_time": "2021-12-15T19:37:38.500Z"
   },
   {
    "duration": 10,
    "start_time": "2021-12-15T19:37:40.980Z"
   },
   {
    "duration": 7,
    "start_time": "2021-12-15T19:37:41.332Z"
   },
   {
    "duration": 26,
    "start_time": "2021-12-15T19:37:41.632Z"
   },
   {
    "duration": 12,
    "start_time": "2021-12-15T19:37:42.253Z"
   },
   {
    "duration": 9,
    "start_time": "2021-12-15T19:37:45.761Z"
   },
   {
    "duration": 146,
    "start_time": "2021-12-15T19:37:48.012Z"
   },
   {
    "duration": 17,
    "start_time": "2021-12-15T19:37:51.886Z"
   },
   {
    "duration": 11,
    "start_time": "2021-12-15T19:37:54.540Z"
   },
   {
    "duration": 10,
    "start_time": "2021-12-15T19:37:57.819Z"
   },
   {
    "duration": 63,
    "start_time": "2021-12-15T19:37:59.375Z"
   },
   {
    "duration": 53,
    "start_time": "2021-12-15T19:38:00.576Z"
   },
   {
    "duration": 53,
    "start_time": "2021-12-15T19:38:03.625Z"
   },
   {
    "duration": 606,
    "start_time": "2021-12-15T19:38:05.480Z"
   },
   {
    "duration": 510,
    "start_time": "2021-12-15T19:38:07.003Z"
   },
   {
    "duration": 683,
    "start_time": "2021-12-15T19:38:08.391Z"
   },
   {
    "duration": 513,
    "start_time": "2021-12-15T19:38:10.302Z"
   },
   {
    "duration": 651,
    "start_time": "2021-12-15T19:38:16.695Z"
   },
   {
    "duration": 586,
    "start_time": "2021-12-15T19:38:41.274Z"
   },
   {
    "duration": 609,
    "start_time": "2021-12-15T19:38:51.640Z"
   },
   {
    "duration": 499,
    "start_time": "2021-12-15T19:39:05.986Z"
   },
   {
    "duration": 12,
    "start_time": "2021-12-15T19:41:30.546Z"
   },
   {
    "duration": 24,
    "start_time": "2021-12-15T19:41:31.060Z"
   },
   {
    "duration": 10,
    "start_time": "2021-12-15T19:41:32.074Z"
   },
   {
    "duration": 7948,
    "start_time": "2021-12-15T19:41:36.668Z"
   },
   {
    "duration": 89,
    "start_time": "2021-12-15T19:43:09.689Z"
   },
   {
    "duration": 6,
    "start_time": "2021-12-15T19:43:15.878Z"
   },
   {
    "duration": 7,
    "start_time": "2021-12-15T19:46:35.481Z"
   },
   {
    "duration": 6766,
    "start_time": "2021-12-15T19:46:37.215Z"
   },
   {
    "duration": 7146,
    "start_time": "2021-12-15T19:46:48.908Z"
   },
   {
    "duration": 1475,
    "start_time": "2021-12-15T19:47:06.108Z"
   },
   {
    "duration": 494,
    "start_time": "2021-12-15T19:47:07.585Z"
   },
   {
    "duration": 18,
    "start_time": "2021-12-15T19:47:08.082Z"
   },
   {
    "duration": 11,
    "start_time": "2021-12-15T19:47:08.102Z"
   },
   {
    "duration": 14,
    "start_time": "2021-12-15T19:47:08.115Z"
   },
   {
    "duration": 16,
    "start_time": "2021-12-15T19:47:08.131Z"
   },
   {
    "duration": 15,
    "start_time": "2021-12-15T19:47:08.149Z"
   },
   {
    "duration": 28,
    "start_time": "2021-12-15T19:47:08.168Z"
   },
   {
    "duration": 39,
    "start_time": "2021-12-15T19:47:08.200Z"
   },
   {
    "duration": 10,
    "start_time": "2021-12-15T19:47:08.241Z"
   },
   {
    "duration": 18,
    "start_time": "2021-12-15T19:47:08.254Z"
   },
   {
    "duration": 15,
    "start_time": "2021-12-15T19:47:08.275Z"
   },
   {
    "duration": 50,
    "start_time": "2021-12-15T19:47:08.292Z"
   },
   {
    "duration": 13,
    "start_time": "2021-12-15T19:47:08.345Z"
   },
   {
    "duration": 11,
    "start_time": "2021-12-15T19:47:08.360Z"
   },
   {
    "duration": 10,
    "start_time": "2021-12-15T19:47:08.374Z"
   },
   {
    "duration": 99,
    "start_time": "2021-12-15T19:47:08.424Z"
   },
   {
    "duration": 104,
    "start_time": "2021-12-15T19:47:08.526Z"
   },
   {
    "duration": 5,
    "start_time": "2021-12-15T19:47:08.632Z"
   },
   {
    "duration": 35,
    "start_time": "2021-12-15T19:47:08.640Z"
   },
   {
    "duration": 45,
    "start_time": "2021-12-15T19:47:08.678Z"
   },
   {
    "duration": 25,
    "start_time": "2021-12-15T19:47:08.726Z"
   },
   {
    "duration": 21,
    "start_time": "2021-12-15T19:47:08.758Z"
   },
   {
    "duration": 107,
    "start_time": "2021-12-15T19:47:08.782Z"
   },
   {
    "duration": 351,
    "start_time": "2021-12-15T19:47:08.891Z"
   },
   {
    "duration": 34,
    "start_time": "2021-12-15T19:47:09.244Z"
   },
   {
    "duration": 63,
    "start_time": "2021-12-15T19:47:09.281Z"
   },
   {
    "duration": 63,
    "start_time": "2021-12-15T19:47:09.346Z"
   },
   {
    "duration": 11,
    "start_time": "2021-12-15T19:47:09.424Z"
   },
   {
    "duration": 14,
    "start_time": "2021-12-15T19:47:09.438Z"
   },
   {
    "duration": 35,
    "start_time": "2021-12-15T19:47:09.454Z"
   },
   {
    "duration": 32,
    "start_time": "2021-12-15T19:47:09.491Z"
   },
   {
    "duration": 10,
    "start_time": "2021-12-15T19:47:09.525Z"
   },
   {
    "duration": 27,
    "start_time": "2021-12-15T19:47:09.538Z"
   },
   {
    "duration": 191,
    "start_time": "2021-12-15T19:47:09.568Z"
   },
   {
    "duration": 16,
    "start_time": "2021-12-15T19:47:09.762Z"
   },
   {
    "duration": 15,
    "start_time": "2021-12-15T19:47:09.780Z"
   },
   {
    "duration": 26,
    "start_time": "2021-12-15T19:47:09.797Z"
   },
   {
    "duration": 82,
    "start_time": "2021-12-15T19:47:09.826Z"
   },
   {
    "duration": 56,
    "start_time": "2021-12-15T19:47:09.911Z"
   },
   {
    "duration": 67,
    "start_time": "2021-12-15T19:47:09.970Z"
   },
   {
    "duration": 646,
    "start_time": "2021-12-15T19:47:10.040Z"
   },
   {
    "duration": 522,
    "start_time": "2021-12-15T19:47:10.688Z"
   },
   {
    "duration": 675,
    "start_time": "2021-12-15T19:47:11.213Z"
   },
   {
    "duration": 514,
    "start_time": "2021-12-15T19:47:11.891Z"
   },
   {
    "duration": 696,
    "start_time": "2021-12-15T19:47:12.407Z"
   },
   {
    "duration": 740,
    "start_time": "2021-12-15T19:47:13.106Z"
   },
   {
    "duration": 656,
    "start_time": "2021-12-15T19:47:13.848Z"
   },
   {
    "duration": 17,
    "start_time": "2021-12-15T19:47:14.507Z"
   },
   {
    "duration": 403,
    "start_time": "2021-12-15T19:47:14.526Z"
   },
   {
    "duration": 524,
    "start_time": "2021-12-15T19:47:14.932Z"
   },
   {
    "duration": 552,
    "start_time": "2021-12-15T19:47:15.459Z"
   },
   {
    "duration": 6,
    "start_time": "2021-12-15T19:47:16.014Z"
   },
   {
    "duration": 32,
    "start_time": "2021-12-15T19:47:16.022Z"
   },
   {
    "duration": 44,
    "start_time": "2021-12-15T19:47:16.057Z"
   },
   {
    "duration": 17,
    "start_time": "2021-12-15T19:47:16.104Z"
   },
   {
    "duration": 8028,
    "start_time": "2021-12-15T19:49:50.143Z"
   },
   {
    "duration": 7629,
    "start_time": "2021-12-15T19:50:50.992Z"
   },
   {
    "duration": 23,
    "start_time": "2021-12-15T19:51:20.378Z"
   },
   {
    "duration": 265,
    "start_time": "2021-12-15T19:56:34.145Z"
   },
   {
    "duration": 7907,
    "start_time": "2021-12-15T19:56:36.914Z"
   },
   {
    "duration": 1522,
    "start_time": "2021-12-15T19:57:02.878Z"
   },
   {
    "duration": 504,
    "start_time": "2021-12-15T19:57:04.402Z"
   },
   {
    "duration": 20,
    "start_time": "2021-12-15T19:57:04.909Z"
   },
   {
    "duration": 15,
    "start_time": "2021-12-15T19:57:04.931Z"
   },
   {
    "duration": 18,
    "start_time": "2021-12-15T19:57:04.949Z"
   },
   {
    "duration": 5,
    "start_time": "2021-12-15T19:57:04.970Z"
   },
   {
    "duration": 16,
    "start_time": "2021-12-15T19:57:04.978Z"
   },
   {
    "duration": 53,
    "start_time": "2021-12-15T19:57:04.997Z"
   },
   {
    "duration": 17,
    "start_time": "2021-12-15T19:57:05.054Z"
   },
   {
    "duration": 10,
    "start_time": "2021-12-15T19:57:05.074Z"
   },
   {
    "duration": 52,
    "start_time": "2021-12-15T19:57:05.086Z"
   },
   {
    "duration": 11,
    "start_time": "2021-12-15T19:57:05.140Z"
   },
   {
    "duration": 24,
    "start_time": "2021-12-15T19:57:05.153Z"
   },
   {
    "duration": 46,
    "start_time": "2021-12-15T19:57:05.181Z"
   },
   {
    "duration": 11,
    "start_time": "2021-12-15T19:57:05.229Z"
   },
   {
    "duration": 13,
    "start_time": "2021-12-15T19:57:05.243Z"
   },
   {
    "duration": 129,
    "start_time": "2021-12-15T19:57:05.258Z"
   },
   {
    "duration": 110,
    "start_time": "2021-12-15T19:57:05.389Z"
   },
   {
    "duration": 22,
    "start_time": "2021-12-15T19:57:05.501Z"
   },
   {
    "duration": 32,
    "start_time": "2021-12-15T19:57:05.526Z"
   },
   {
    "duration": 20,
    "start_time": "2021-12-15T19:57:05.561Z"
   },
   {
    "duration": 48,
    "start_time": "2021-12-15T19:57:05.584Z"
   },
   {
    "duration": 23,
    "start_time": "2021-12-15T19:57:05.638Z"
   },
   {
    "duration": 103,
    "start_time": "2021-12-15T19:57:05.664Z"
   },
   {
    "duration": 367,
    "start_time": "2021-12-15T19:57:05.770Z"
   },
   {
    "duration": 36,
    "start_time": "2021-12-15T19:57:06.140Z"
   },
   {
    "duration": 61,
    "start_time": "2021-12-15T19:57:06.180Z"
   },
   {
    "duration": 60,
    "start_time": "2021-12-15T19:57:06.243Z"
   },
   {
    "duration": 27,
    "start_time": "2021-12-15T19:57:06.306Z"
   },
   {
    "duration": 9,
    "start_time": "2021-12-15T19:57:06.336Z"
   },
   {
    "duration": 25,
    "start_time": "2021-12-15T19:57:06.347Z"
   },
   {
    "duration": 12,
    "start_time": "2021-12-15T19:57:06.375Z"
   },
   {
    "duration": 33,
    "start_time": "2021-12-15T19:57:06.390Z"
   },
   {
    "duration": 27,
    "start_time": "2021-12-15T19:57:06.426Z"
   },
   {
    "duration": 417,
    "start_time": "2021-12-15T19:57:06.456Z"
   },
   {
    "duration": 44,
    "start_time": "2021-12-15T19:57:06.832Z"
   },
   {
    "duration": 20,
    "start_time": "2021-12-15T19:57:06.857Z"
   },
   {
    "duration": 15,
    "start_time": "2021-12-15T19:57:06.864Z"
   },
   {
    "duration": 8,
    "start_time": "2021-12-15T19:57:06.872Z"
   },
   {
    "duration": 6,
    "start_time": "2021-12-15T19:57:06.876Z"
   },
   {
    "duration": 2,
    "start_time": "2021-12-15T19:57:06.881Z"
   },
   {
    "duration": -3,
    "start_time": "2021-12-15T19:57:06.887Z"
   },
   {
    "duration": -9,
    "start_time": "2021-12-15T19:57:06.895Z"
   },
   {
    "duration": -11,
    "start_time": "2021-12-15T19:57:06.899Z"
   },
   {
    "duration": -15,
    "start_time": "2021-12-15T19:57:06.904Z"
   },
   {
    "duration": -18,
    "start_time": "2021-12-15T19:57:06.908Z"
   },
   {
    "duration": -22,
    "start_time": "2021-12-15T19:57:06.914Z"
   },
   {
    "duration": -25,
    "start_time": "2021-12-15T19:57:06.918Z"
   },
   {
    "duration": -30,
    "start_time": "2021-12-15T19:57:06.924Z"
   },
   {
    "duration": -32,
    "start_time": "2021-12-15T19:57:06.928Z"
   },
   {
    "duration": -36,
    "start_time": "2021-12-15T19:57:06.933Z"
   },
   {
    "duration": -38,
    "start_time": "2021-12-15T19:57:06.937Z"
   },
   {
    "duration": -43,
    "start_time": "2021-12-15T19:57:06.943Z"
   },
   {
    "duration": -45,
    "start_time": "2021-12-15T19:57:06.947Z"
   },
   {
    "duration": -63,
    "start_time": "2021-12-15T19:57:06.966Z"
   },
   {
    "duration": -69,
    "start_time": "2021-12-15T19:57:06.973Z"
   },
   {
    "duration": -72,
    "start_time": "2021-12-15T19:57:06.978Z"
   },
   {
    "duration": 6,
    "start_time": "2021-12-15T19:57:43.389Z"
   },
   {
    "duration": 186,
    "start_time": "2021-12-15T19:57:44.807Z"
   },
   {
    "duration": 1419,
    "start_time": "2021-12-15T19:57:54.352Z"
   },
   {
    "duration": 492,
    "start_time": "2021-12-15T19:57:55.774Z"
   },
   {
    "duration": 22,
    "start_time": "2021-12-15T19:57:56.269Z"
   },
   {
    "duration": 11,
    "start_time": "2021-12-15T19:57:56.295Z"
   },
   {
    "duration": 8,
    "start_time": "2021-12-15T19:57:56.309Z"
   },
   {
    "duration": 6,
    "start_time": "2021-12-15T19:57:56.320Z"
   },
   {
    "duration": 19,
    "start_time": "2021-12-15T19:57:56.329Z"
   },
   {
    "duration": 28,
    "start_time": "2021-12-15T19:57:56.352Z"
   },
   {
    "duration": 41,
    "start_time": "2021-12-15T19:57:56.383Z"
   },
   {
    "duration": 10,
    "start_time": "2021-12-15T19:57:56.427Z"
   },
   {
    "duration": 23,
    "start_time": "2021-12-15T19:57:56.439Z"
   },
   {
    "duration": 12,
    "start_time": "2021-12-15T19:57:56.465Z"
   },
   {
    "duration": 62,
    "start_time": "2021-12-15T19:57:56.480Z"
   },
   {
    "duration": 13,
    "start_time": "2021-12-15T19:57:56.545Z"
   },
   {
    "duration": 12,
    "start_time": "2021-12-15T19:57:56.561Z"
   },
   {
    "duration": 13,
    "start_time": "2021-12-15T19:57:56.575Z"
   },
   {
    "duration": 151,
    "start_time": "2021-12-15T19:57:56.591Z"
   },
   {
    "duration": 110,
    "start_time": "2021-12-15T19:57:56.744Z"
   },
   {
    "duration": 7,
    "start_time": "2021-12-15T19:57:56.857Z"
   },
   {
    "duration": 36,
    "start_time": "2021-12-15T19:57:56.867Z"
   },
   {
    "duration": 38,
    "start_time": "2021-12-15T19:57:56.905Z"
   },
   {
    "duration": 25,
    "start_time": "2021-12-15T19:57:56.946Z"
   },
   {
    "duration": 48,
    "start_time": "2021-12-15T19:57:56.976Z"
   },
   {
    "duration": 95,
    "start_time": "2021-12-15T19:57:57.028Z"
   },
   {
    "duration": 343,
    "start_time": "2021-12-15T19:57:57.125Z"
   },
   {
    "duration": 33,
    "start_time": "2021-12-15T19:57:57.470Z"
   },
   {
    "duration": 54,
    "start_time": "2021-12-15T19:57:57.505Z"
   },
   {
    "duration": 76,
    "start_time": "2021-12-15T19:57:57.561Z"
   },
   {
    "duration": 10,
    "start_time": "2021-12-15T19:57:57.640Z"
   },
   {
    "duration": 13,
    "start_time": "2021-12-15T19:57:57.653Z"
   },
   {
    "duration": 29,
    "start_time": "2021-12-15T19:57:57.668Z"
   },
   {
    "duration": 30,
    "start_time": "2021-12-15T19:57:57.700Z"
   },
   {
    "duration": 6,
    "start_time": "2021-12-15T19:57:57.733Z"
   },
   {
    "duration": 18,
    "start_time": "2021-12-15T19:57:57.741Z"
   },
   {
    "duration": 4,
    "start_time": "2021-12-15T19:57:57.762Z"
   },
   {
    "duration": 206,
    "start_time": "2021-12-15T19:57:57.768Z"
   },
   {
    "duration": 17,
    "start_time": "2021-12-15T19:57:57.976Z"
   },
   {
    "duration": 29,
    "start_time": "2021-12-15T19:57:57.995Z"
   },
   {
    "duration": 15,
    "start_time": "2021-12-15T19:57:58.026Z"
   },
   {
    "duration": 79,
    "start_time": "2021-12-15T19:57:58.043Z"
   },
   {
    "duration": 54,
    "start_time": "2021-12-15T19:57:58.124Z"
   },
   {
    "duration": 82,
    "start_time": "2021-12-15T19:57:58.181Z"
   },
   {
    "duration": 632,
    "start_time": "2021-12-15T19:57:58.266Z"
   },
   {
    "duration": 524,
    "start_time": "2021-12-15T19:57:58.901Z"
   },
   {
    "duration": 667,
    "start_time": "2021-12-15T19:57:59.427Z"
   },
   {
    "duration": 515,
    "start_time": "2021-12-15T19:58:00.096Z"
   },
   {
    "duration": 732,
    "start_time": "2021-12-15T19:58:00.615Z"
   },
   {
    "duration": 584,
    "start_time": "2021-12-15T19:58:01.349Z"
   },
   {
    "duration": 594,
    "start_time": "2021-12-15T19:58:01.936Z"
   },
   {
    "duration": 5,
    "start_time": "2021-12-15T19:58:02.533Z"
   },
   {
    "duration": 421,
    "start_time": "2021-12-15T19:58:02.541Z"
   },
   {
    "duration": 759,
    "start_time": "2021-12-15T19:58:02.964Z"
   },
   {
    "duration": 683,
    "start_time": "2021-12-15T19:58:03.726Z"
   },
   {
    "duration": 10,
    "start_time": "2021-12-15T19:58:04.413Z"
   },
   {
    "duration": 9,
    "start_time": "2021-12-15T19:58:04.427Z"
   },
   {
    "duration": 17,
    "start_time": "2021-12-15T19:58:04.439Z"
   },
   {
    "duration": 9,
    "start_time": "2021-12-15T19:58:04.459Z"
   },
   {
    "duration": 659,
    "start_time": "2021-12-15T19:59:59.912Z"
   },
   {
    "duration": 623,
    "start_time": "2021-12-15T20:00:10.094Z"
   },
   {
    "duration": 6942,
    "start_time": "2021-12-15T20:02:40.099Z"
   },
   {
    "duration": 8175,
    "start_time": "2021-12-15T20:03:03.187Z"
   },
   {
    "duration": 7428,
    "start_time": "2021-12-15T20:03:24.051Z"
   },
   {
    "duration": 1404,
    "start_time": "2021-12-15T20:03:39.468Z"
   },
   {
    "duration": 493,
    "start_time": "2021-12-15T20:03:40.874Z"
   },
   {
    "duration": 24,
    "start_time": "2021-12-15T20:03:41.370Z"
   },
   {
    "duration": 19,
    "start_time": "2021-12-15T20:03:41.397Z"
   },
   {
    "duration": 31,
    "start_time": "2021-12-15T20:03:41.418Z"
   },
   {
    "duration": 12,
    "start_time": "2021-12-15T20:03:41.451Z"
   },
   {
    "duration": 33,
    "start_time": "2021-12-15T20:03:41.466Z"
   },
   {
    "duration": 45,
    "start_time": "2021-12-15T20:03:41.503Z"
   },
   {
    "duration": 20,
    "start_time": "2021-12-15T20:03:41.551Z"
   },
   {
    "duration": 15,
    "start_time": "2021-12-15T20:03:41.574Z"
   },
   {
    "duration": 45,
    "start_time": "2021-12-15T20:03:41.592Z"
   },
   {
    "duration": 15,
    "start_time": "2021-12-15T20:03:41.640Z"
   },
   {
    "duration": 37,
    "start_time": "2021-12-15T20:03:41.657Z"
   },
   {
    "duration": 26,
    "start_time": "2021-12-15T20:03:41.697Z"
   },
   {
    "duration": 11,
    "start_time": "2021-12-15T20:03:41.726Z"
   },
   {
    "duration": 27,
    "start_time": "2021-12-15T20:03:41.740Z"
   },
   {
    "duration": 112,
    "start_time": "2021-12-15T20:03:41.770Z"
   },
   {
    "duration": 116,
    "start_time": "2021-12-15T20:03:41.884Z"
   },
   {
    "duration": 6,
    "start_time": "2021-12-15T20:03:42.002Z"
   },
   {
    "duration": 46,
    "start_time": "2021-12-15T20:03:42.010Z"
   },
   {
    "duration": 23,
    "start_time": "2021-12-15T20:03:42.058Z"
   },
   {
    "duration": 42,
    "start_time": "2021-12-15T20:03:42.083Z"
   },
   {
    "duration": 23,
    "start_time": "2021-12-15T20:03:42.131Z"
   },
   {
    "duration": 100,
    "start_time": "2021-12-15T20:03:42.157Z"
   },
   {
    "duration": 376,
    "start_time": "2021-12-15T20:03:42.259Z"
   },
   {
    "duration": 36,
    "start_time": "2021-12-15T20:03:42.638Z"
   },
   {
    "duration": 59,
    "start_time": "2021-12-15T20:03:42.676Z"
   },
   {
    "duration": 63,
    "start_time": "2021-12-15T20:03:42.738Z"
   },
   {
    "duration": 28,
    "start_time": "2021-12-15T20:03:42.803Z"
   },
   {
    "duration": 16,
    "start_time": "2021-12-15T20:03:42.834Z"
   },
   {
    "duration": 41,
    "start_time": "2021-12-15T20:03:42.852Z"
   },
   {
    "duration": 10,
    "start_time": "2021-12-15T20:03:42.895Z"
   },
   {
    "duration": 8,
    "start_time": "2021-12-15T20:03:42.923Z"
   },
   {
    "duration": 24,
    "start_time": "2021-12-15T20:03:42.933Z"
   },
   {
    "duration": 5,
    "start_time": "2021-12-15T20:03:42.960Z"
   },
   {
    "duration": 236,
    "start_time": "2021-12-15T20:03:42.968Z"
   },
   {
    "duration": 33,
    "start_time": "2021-12-15T20:03:43.208Z"
   },
   {
    "duration": 12,
    "start_time": "2021-12-15T20:03:43.244Z"
   },
   {
    "duration": 27,
    "start_time": "2021-12-15T20:03:43.259Z"
   },
   {
    "duration": 70,
    "start_time": "2021-12-15T20:03:43.289Z"
   },
   {
    "duration": 63,
    "start_time": "2021-12-15T20:03:43.362Z"
   },
   {
    "duration": 57,
    "start_time": "2021-12-15T20:03:43.427Z"
   },
   {
    "duration": 658,
    "start_time": "2021-12-15T20:03:43.486Z"
   },
   {
    "duration": 530,
    "start_time": "2021-12-15T20:03:44.146Z"
   },
   {
    "duration": 942,
    "start_time": "2021-12-15T20:03:44.678Z"
   },
   {
    "duration": 563,
    "start_time": "2021-12-15T20:03:45.624Z"
   },
   {
    "duration": 798,
    "start_time": "2021-12-15T20:03:46.190Z"
   },
   {
    "duration": 517,
    "start_time": "2021-12-15T20:03:46.991Z"
   },
   {
    "duration": 540,
    "start_time": "2021-12-15T20:03:47.511Z"
   },
   {
    "duration": 7,
    "start_time": "2021-12-15T20:03:48.053Z"
   },
   {
    "duration": 434,
    "start_time": "2021-12-15T20:03:48.062Z"
   },
   {
    "duration": 527,
    "start_time": "2021-12-15T20:03:48.500Z"
   },
   {
    "duration": 521,
    "start_time": "2021-12-15T20:03:49.030Z"
   },
   {
    "duration": 5,
    "start_time": "2021-12-15T20:03:49.553Z"
   },
   {
    "duration": 29,
    "start_time": "2021-12-15T20:03:49.561Z"
   },
   {
    "duration": 31,
    "start_time": "2021-12-15T20:03:49.592Z"
   },
   {
    "duration": 9,
    "start_time": "2021-12-15T20:03:49.625Z"
   },
   {
    "duration": 445,
    "start_time": "2021-12-15T20:05:06.639Z"
   },
   {
    "duration": 1611,
    "start_time": "2021-12-15T20:05:16.015Z"
   },
   {
    "duration": 495,
    "start_time": "2021-12-15T20:05:17.629Z"
   },
   {
    "duration": 18,
    "start_time": "2021-12-15T20:05:18.127Z"
   },
   {
    "duration": 12,
    "start_time": "2021-12-15T20:05:18.148Z"
   },
   {
    "duration": 15,
    "start_time": "2021-12-15T20:05:18.162Z"
   },
   {
    "duration": 12,
    "start_time": "2021-12-15T20:05:18.180Z"
   },
   {
    "duration": 40,
    "start_time": "2021-12-15T20:05:18.195Z"
   },
   {
    "duration": 30,
    "start_time": "2021-12-15T20:05:18.239Z"
   },
   {
    "duration": 19,
    "start_time": "2021-12-15T20:05:18.272Z"
   },
   {
    "duration": 38,
    "start_time": "2021-12-15T20:05:18.293Z"
   },
   {
    "duration": 20,
    "start_time": "2021-12-15T20:05:18.334Z"
   },
   {
    "duration": 12,
    "start_time": "2021-12-15T20:05:18.356Z"
   },
   {
    "duration": 58,
    "start_time": "2021-12-15T20:05:18.370Z"
   },
   {
    "duration": 13,
    "start_time": "2021-12-15T20:05:18.430Z"
   },
   {
    "duration": 12,
    "start_time": "2021-12-15T20:05:18.445Z"
   },
   {
    "duration": 12,
    "start_time": "2021-12-15T20:05:18.459Z"
   },
   {
    "duration": 134,
    "start_time": "2021-12-15T20:05:18.473Z"
   },
   {
    "duration": 104,
    "start_time": "2021-12-15T20:05:18.610Z"
   },
   {
    "duration": 10,
    "start_time": "2021-12-15T20:05:18.716Z"
   },
   {
    "duration": 36,
    "start_time": "2021-12-15T20:05:18.729Z"
   },
   {
    "duration": 20,
    "start_time": "2021-12-15T20:05:18.768Z"
   },
   {
    "duration": 52,
    "start_time": "2021-12-15T20:05:18.790Z"
   },
   {
    "duration": 22,
    "start_time": "2021-12-15T20:05:18.848Z"
   },
   {
    "duration": 105,
    "start_time": "2021-12-15T20:05:18.873Z"
   },
   {
    "duration": 361,
    "start_time": "2021-12-15T20:05:18.980Z"
   },
   {
    "duration": 35,
    "start_time": "2021-12-15T20:05:19.344Z"
   },
   {
    "duration": 61,
    "start_time": "2021-12-15T20:05:19.382Z"
   },
   {
    "duration": 59,
    "start_time": "2021-12-15T20:05:19.446Z"
   },
   {
    "duration": 10,
    "start_time": "2021-12-15T20:05:19.523Z"
   },
   {
    "duration": 12,
    "start_time": "2021-12-15T20:05:19.536Z"
   },
   {
    "duration": 30,
    "start_time": "2021-12-15T20:05:19.550Z"
   },
   {
    "duration": 28,
    "start_time": "2021-12-15T20:05:19.582Z"
   },
   {
    "duration": 14,
    "start_time": "2021-12-15T20:05:19.613Z"
   },
   {
    "duration": 29,
    "start_time": "2021-12-15T20:05:19.629Z"
   },
   {
    "duration": 12,
    "start_time": "2021-12-15T20:05:19.660Z"
   },
   {
    "duration": 190,
    "start_time": "2021-12-15T20:05:19.675Z"
   },
   {
    "duration": 21,
    "start_time": "2021-12-15T20:05:19.868Z"
   },
   {
    "duration": 11,
    "start_time": "2021-12-15T20:05:19.892Z"
   },
   {
    "duration": 11,
    "start_time": "2021-12-15T20:05:19.924Z"
   },
   {
    "duration": 56,
    "start_time": "2021-12-15T20:05:19.937Z"
   },
   {
    "duration": 53,
    "start_time": "2021-12-15T20:05:20.024Z"
   },
   {
    "duration": 72,
    "start_time": "2021-12-15T20:05:20.080Z"
   },
   {
    "duration": 658,
    "start_time": "2021-12-15T20:05:20.155Z"
   },
   {
    "duration": 514,
    "start_time": "2021-12-15T20:05:20.824Z"
   },
   {
    "duration": 654,
    "start_time": "2021-12-15T20:05:21.342Z"
   },
   {
    "duration": 524,
    "start_time": "2021-12-15T20:05:21.999Z"
   },
   {
    "duration": 776,
    "start_time": "2021-12-15T20:05:22.525Z"
   },
   {
    "duration": 524,
    "start_time": "2021-12-15T20:05:23.304Z"
   },
   {
    "duration": 525,
    "start_time": "2021-12-15T20:05:23.831Z"
   },
   {
    "duration": 6,
    "start_time": "2021-12-15T20:05:24.359Z"
   },
   {
    "duration": 408,
    "start_time": "2021-12-15T20:05:24.367Z"
   },
   {
    "duration": 545,
    "start_time": "2021-12-15T20:05:24.778Z"
   },
   {
    "duration": 516,
    "start_time": "2021-12-15T20:05:25.326Z"
   },
   {
    "duration": 6,
    "start_time": "2021-12-15T20:05:25.844Z"
   },
   {
    "duration": 9,
    "start_time": "2021-12-15T20:05:25.852Z"
   },
   {
    "duration": 16,
    "start_time": "2021-12-15T20:05:25.863Z"
   },
   {
    "duration": 20,
    "start_time": "2021-12-15T20:05:25.882Z"
   },
   {
    "duration": 435,
    "start_time": "2021-12-15T20:06:16.332Z"
   },
   {
    "duration": 1484,
    "start_time": "2021-12-15T20:06:31.907Z"
   },
   {
    "duration": 481,
    "start_time": "2021-12-15T20:06:33.394Z"
   },
   {
    "duration": 20,
    "start_time": "2021-12-15T20:06:33.878Z"
   },
   {
    "duration": 12,
    "start_time": "2021-12-15T20:06:33.900Z"
   },
   {
    "duration": 6,
    "start_time": "2021-12-15T20:06:33.915Z"
   },
   {
    "duration": 7,
    "start_time": "2021-12-15T20:06:33.924Z"
   },
   {
    "duration": 12,
    "start_time": "2021-12-15T20:06:33.933Z"
   },
   {
    "duration": 28,
    "start_time": "2021-12-15T20:06:33.949Z"
   },
   {
    "duration": 47,
    "start_time": "2021-12-15T20:06:33.980Z"
   },
   {
    "duration": 10,
    "start_time": "2021-12-15T20:06:34.030Z"
   },
   {
    "duration": 20,
    "start_time": "2021-12-15T20:06:34.043Z"
   },
   {
    "duration": 12,
    "start_time": "2021-12-15T20:06:34.066Z"
   },
   {
    "duration": 59,
    "start_time": "2021-12-15T20:06:34.081Z"
   },
   {
    "duration": 12,
    "start_time": "2021-12-15T20:06:34.142Z"
   },
   {
    "duration": 10,
    "start_time": "2021-12-15T20:06:34.157Z"
   },
   {
    "duration": 11,
    "start_time": "2021-12-15T20:06:34.170Z"
   },
   {
    "duration": 130,
    "start_time": "2021-12-15T20:06:34.183Z"
   },
   {
    "duration": 104,
    "start_time": "2021-12-15T20:06:34.322Z"
   },
   {
    "duration": 5,
    "start_time": "2021-12-15T20:06:34.428Z"
   },
   {
    "duration": 33,
    "start_time": "2021-12-15T20:06:34.436Z"
   },
   {
    "duration": 19,
    "start_time": "2021-12-15T20:06:34.471Z"
   },
   {
    "duration": 43,
    "start_time": "2021-12-15T20:06:34.492Z"
   },
   {
    "duration": 22,
    "start_time": "2021-12-15T20:06:34.540Z"
   },
   {
    "duration": 104,
    "start_time": "2021-12-15T20:06:34.565Z"
   },
   {
    "duration": 347,
    "start_time": "2021-12-15T20:06:34.672Z"
   },
   {
    "duration": 37,
    "start_time": "2021-12-15T20:06:35.024Z"
   },
   {
    "duration": 60,
    "start_time": "2021-12-15T20:06:35.063Z"
   },
   {
    "duration": 63,
    "start_time": "2021-12-15T20:06:35.125Z"
   },
   {
    "duration": 11,
    "start_time": "2021-12-15T20:06:35.190Z"
   },
   {
    "duration": 10,
    "start_time": "2021-12-15T20:06:35.224Z"
   },
   {
    "duration": 23,
    "start_time": "2021-12-15T20:06:35.237Z"
   },
   {
    "duration": 22,
    "start_time": "2021-12-15T20:06:35.263Z"
   },
   {
    "duration": 16,
    "start_time": "2021-12-15T20:06:35.287Z"
   },
   {
    "duration": 34,
    "start_time": "2021-12-15T20:06:35.305Z"
   },
   {
    "duration": 11,
    "start_time": "2021-12-15T20:06:35.341Z"
   },
   {
    "duration": 182,
    "start_time": "2021-12-15T20:06:35.354Z"
   },
   {
    "duration": 20,
    "start_time": "2021-12-15T20:06:35.538Z"
   },
   {
    "duration": 19,
    "start_time": "2021-12-15T20:06:35.560Z"
   },
   {
    "duration": 20,
    "start_time": "2021-12-15T20:06:35.581Z"
   },
   {
    "duration": 82,
    "start_time": "2021-12-15T20:06:35.603Z"
   },
   {
    "duration": 50,
    "start_time": "2021-12-15T20:06:35.688Z"
   },
   {
    "duration": 50,
    "start_time": "2021-12-15T20:06:35.740Z"
   },
   {
    "duration": 656,
    "start_time": "2021-12-15T20:06:35.792Z"
   },
   {
    "duration": 523,
    "start_time": "2021-12-15T20:06:36.450Z"
   },
   {
    "duration": 614,
    "start_time": "2021-12-15T20:06:36.975Z"
   },
   {
    "duration": 497,
    "start_time": "2021-12-15T20:06:37.591Z"
   },
   {
    "duration": 702,
    "start_time": "2021-12-15T20:06:38.090Z"
   },
   {
    "duration": 505,
    "start_time": "2021-12-15T20:06:38.795Z"
   },
   {
    "duration": 951,
    "start_time": "2021-12-15T20:06:39.303Z"
   },
   {
    "duration": 7,
    "start_time": "2021-12-15T20:06:40.257Z"
   },
   {
    "duration": 504,
    "start_time": "2021-12-15T20:06:40.322Z"
   },
   {
    "duration": 496,
    "start_time": "2021-12-15T20:06:40.829Z"
   },
   {
    "duration": 604,
    "start_time": "2021-12-15T20:06:41.328Z"
   },
   {
    "duration": 5,
    "start_time": "2021-12-15T20:06:41.934Z"
   },
   {
    "duration": 16,
    "start_time": "2021-12-15T20:06:41.942Z"
   },
   {
    "duration": 18,
    "start_time": "2021-12-15T20:06:41.960Z"
   },
   {
    "duration": 44,
    "start_time": "2021-12-15T20:06:41.980Z"
   },
   {
    "duration": 1491,
    "start_time": "2021-12-15T20:25:12.688Z"
   },
   {
    "duration": 467,
    "start_time": "2021-12-15T20:25:14.182Z"
   },
   {
    "duration": 18,
    "start_time": "2021-12-15T20:25:14.652Z"
   },
   {
    "duration": 13,
    "start_time": "2021-12-15T20:25:14.672Z"
   },
   {
    "duration": 12,
    "start_time": "2021-12-15T20:25:14.687Z"
   },
   {
    "duration": 6,
    "start_time": "2021-12-15T20:25:14.702Z"
   },
   {
    "duration": 16,
    "start_time": "2021-12-15T20:25:14.711Z"
   },
   {
    "duration": 24,
    "start_time": "2021-12-15T20:25:14.731Z"
   },
   {
    "duration": 17,
    "start_time": "2021-12-15T20:25:14.758Z"
   },
   {
    "duration": 48,
    "start_time": "2021-12-15T20:25:14.777Z"
   },
   {
    "duration": 20,
    "start_time": "2021-12-15T20:25:14.828Z"
   },
   {
    "duration": 12,
    "start_time": "2021-12-15T20:25:14.851Z"
   },
   {
    "duration": 59,
    "start_time": "2021-12-15T20:25:14.866Z"
   },
   {
    "duration": 15,
    "start_time": "2021-12-15T20:25:14.928Z"
   },
   {
    "duration": 11,
    "start_time": "2021-12-15T20:25:14.946Z"
   },
   {
    "duration": 12,
    "start_time": "2021-12-15T20:25:14.959Z"
   },
   {
    "duration": 132,
    "start_time": "2021-12-15T20:25:14.974Z"
   },
   {
    "duration": 102,
    "start_time": "2021-12-15T20:25:15.109Z"
   },
   {
    "duration": 5,
    "start_time": "2021-12-15T20:25:15.223Z"
   },
   {
    "duration": 38,
    "start_time": "2021-12-15T20:25:15.230Z"
   },
   {
    "duration": 23,
    "start_time": "2021-12-15T20:25:15.270Z"
   },
   {
    "duration": 45,
    "start_time": "2021-12-15T20:25:15.295Z"
   },
   {
    "duration": 21,
    "start_time": "2021-12-15T20:25:15.345Z"
   },
   {
    "duration": 98,
    "start_time": "2021-12-15T20:25:15.369Z"
   },
   {
    "duration": 463,
    "start_time": "2021-12-15T20:25:15.470Z"
   },
   {
    "duration": 35,
    "start_time": "2021-12-15T20:25:15.936Z"
   },
   {
    "duration": 64,
    "start_time": "2021-12-15T20:25:15.973Z"
   },
   {
    "duration": 64,
    "start_time": "2021-12-15T20:25:16.039Z"
   },
   {
    "duration": 28,
    "start_time": "2021-12-15T20:25:16.105Z"
   },
   {
    "duration": 8,
    "start_time": "2021-12-15T20:25:16.136Z"
   },
   {
    "duration": 28,
    "start_time": "2021-12-15T20:25:16.146Z"
   },
   {
    "duration": 11,
    "start_time": "2021-12-15T20:25:16.176Z"
   },
   {
    "duration": 44,
    "start_time": "2021-12-15T20:25:16.189Z"
   },
   {
    "duration": 6,
    "start_time": "2021-12-15T20:25:16.235Z"
   },
   {
    "duration": 185,
    "start_time": "2021-12-15T20:25:16.244Z"
   },
   {
    "duration": 22,
    "start_time": "2021-12-15T20:25:16.431Z"
   },
   {
    "duration": 10,
    "start_time": "2021-12-15T20:25:16.456Z"
   },
   {
    "duration": 10,
    "start_time": "2021-12-15T20:25:16.469Z"
   },
   {
    "duration": 88,
    "start_time": "2021-12-15T20:25:16.481Z"
   },
   {
    "duration": 72,
    "start_time": "2021-12-15T20:25:16.571Z"
   },
   {
    "duration": 81,
    "start_time": "2021-12-15T20:25:16.646Z"
   },
   {
    "duration": 662,
    "start_time": "2021-12-15T20:25:16.729Z"
   },
   {
    "duration": 506,
    "start_time": "2021-12-15T20:25:17.394Z"
   },
   {
    "duration": 1353,
    "start_time": "2021-12-15T20:25:17.903Z"
   },
   {
    "duration": 530,
    "start_time": "2021-12-15T20:25:19.260Z"
   },
   {
    "duration": 697,
    "start_time": "2021-12-15T20:25:19.793Z"
   },
   {
    "duration": 493,
    "start_time": "2021-12-15T20:25:20.493Z"
   },
   {
    "duration": 512,
    "start_time": "2021-12-15T20:25:20.988Z"
   },
   {
    "duration": 7,
    "start_time": "2021-12-15T20:25:21.502Z"
   },
   {
    "duration": 399,
    "start_time": "2021-12-15T20:25:21.524Z"
   },
   {
    "duration": 512,
    "start_time": "2021-12-15T20:25:21.926Z"
   },
   {
    "duration": 509,
    "start_time": "2021-12-15T20:25:22.441Z"
   },
   {
    "duration": 6,
    "start_time": "2021-12-15T20:25:22.953Z"
   },
   {
    "duration": 8,
    "start_time": "2021-12-15T20:25:22.961Z"
   },
   {
    "duration": 14,
    "start_time": "2021-12-15T20:25:22.972Z"
   },
   {
    "duration": 10,
    "start_time": "2021-12-15T20:25:23.024Z"
   },
   {
    "duration": 1480,
    "start_time": "2021-12-15T20:29:20.508Z"
   },
   {
    "duration": 485,
    "start_time": "2021-12-15T20:29:21.991Z"
   },
   {
    "duration": 21,
    "start_time": "2021-12-15T20:29:22.480Z"
   },
   {
    "duration": 10,
    "start_time": "2021-12-15T20:29:22.504Z"
   },
   {
    "duration": 8,
    "start_time": "2021-12-15T20:29:22.517Z"
   },
   {
    "duration": 6,
    "start_time": "2021-12-15T20:29:22.527Z"
   },
   {
    "duration": 13,
    "start_time": "2021-12-15T20:29:22.535Z"
   },
   {
    "duration": 25,
    "start_time": "2021-12-15T20:29:22.552Z"
   },
   {
    "duration": 54,
    "start_time": "2021-12-15T20:29:22.580Z"
   },
   {
    "duration": 9,
    "start_time": "2021-12-15T20:29:22.637Z"
   },
   {
    "duration": 28,
    "start_time": "2021-12-15T20:29:22.648Z"
   },
   {
    "duration": 20,
    "start_time": "2021-12-15T20:29:22.678Z"
   },
   {
    "duration": 37,
    "start_time": "2021-12-15T20:29:22.700Z"
   },
   {
    "duration": 16,
    "start_time": "2021-12-15T20:29:22.740Z"
   },
   {
    "duration": 23,
    "start_time": "2021-12-15T20:29:22.758Z"
   },
   {
    "duration": 18,
    "start_time": "2021-12-15T20:29:22.783Z"
   },
   {
    "duration": 112,
    "start_time": "2021-12-15T20:29:22.804Z"
   },
   {
    "duration": 110,
    "start_time": "2021-12-15T20:29:22.924Z"
   },
   {
    "duration": 5,
    "start_time": "2021-12-15T20:29:23.037Z"
   },
   {
    "duration": 34,
    "start_time": "2021-12-15T20:29:23.044Z"
   },
   {
    "duration": 45,
    "start_time": "2021-12-15T20:29:23.081Z"
   },
   {
    "duration": 26,
    "start_time": "2021-12-15T20:29:23.128Z"
   },
   {
    "duration": 29,
    "start_time": "2021-12-15T20:29:23.162Z"
   },
   {
    "duration": 77,
    "start_time": "2021-12-15T20:29:23.223Z"
   },
   {
    "duration": 389,
    "start_time": "2021-12-15T20:29:23.302Z"
   },
   {
    "duration": 48,
    "start_time": "2021-12-15T20:29:23.694Z"
   },
   {
    "duration": 44,
    "start_time": "2021-12-15T20:29:23.745Z"
   },
   {
    "duration": 91,
    "start_time": "2021-12-15T20:29:23.792Z"
   },
   {
    "duration": 12,
    "start_time": "2021-12-15T20:29:23.885Z"
   },
   {
    "duration": 29,
    "start_time": "2021-12-15T20:29:23.900Z"
   },
   {
    "duration": 47,
    "start_time": "2021-12-15T20:29:23.932Z"
   },
   {
    "duration": 5,
    "start_time": "2021-12-15T20:29:23.981Z"
   },
   {
    "duration": 201,
    "start_time": "2021-12-15T20:29:23.988Z"
   },
   {
    "duration": 22,
    "start_time": "2021-12-15T20:29:24.191Z"
   },
   {
    "duration": 18,
    "start_time": "2021-12-15T20:29:24.215Z"
   },
   {
    "duration": 27,
    "start_time": "2021-12-15T20:29:24.235Z"
   },
   {
    "duration": 61,
    "start_time": "2021-12-15T20:29:24.264Z"
   },
   {
    "duration": 53,
    "start_time": "2021-12-15T20:29:24.328Z"
   },
   {
    "duration": 74,
    "start_time": "2021-12-15T20:29:24.383Z"
   },
   {
    "duration": 649,
    "start_time": "2021-12-15T20:29:24.459Z"
   },
   {
    "duration": 863,
    "start_time": "2021-12-15T20:29:25.112Z"
   },
   {
    "duration": 697,
    "start_time": "2021-12-15T20:29:25.977Z"
   },
   {
    "duration": 534,
    "start_time": "2021-12-15T20:29:26.676Z"
   },
   {
    "duration": 689,
    "start_time": "2021-12-15T20:29:27.212Z"
   },
   {
    "duration": 548,
    "start_time": "2021-12-15T20:29:27.903Z"
   },
   {
    "duration": 484,
    "start_time": "2021-12-15T20:29:28.453Z"
   },
   {
    "duration": 8,
    "start_time": "2021-12-15T20:29:28.940Z"
   },
   {
    "duration": 392,
    "start_time": "2021-12-15T20:29:28.950Z"
   },
   {
    "duration": 489,
    "start_time": "2021-12-15T20:29:29.344Z"
   },
   {
    "duration": 506,
    "start_time": "2021-12-15T20:29:29.836Z"
   },
   {
    "duration": 5,
    "start_time": "2021-12-15T20:29:30.346Z"
   },
   {
    "duration": 41,
    "start_time": "2021-12-15T20:29:30.353Z"
   },
   {
    "duration": 24,
    "start_time": "2021-12-15T20:29:30.396Z"
   },
   {
    "duration": 44,
    "start_time": "2021-12-15T20:29:30.422Z"
   },
   {
    "duration": 632,
    "start_time": "2021-12-15T20:35:31.707Z"
   },
   {
    "duration": 569,
    "start_time": "2021-12-15T20:35:38.698Z"
   },
   {
    "duration": 599,
    "start_time": "2021-12-15T20:35:43.578Z"
   },
   {
    "duration": 487,
    "start_time": "2021-12-15T20:35:54.723Z"
   },
   {
    "duration": 635,
    "start_time": "2021-12-15T20:36:00.459Z"
   },
   {
    "duration": 487,
    "start_time": "2021-12-15T20:36:06.887Z"
   },
   {
    "duration": 488,
    "start_time": "2021-12-15T20:36:11.709Z"
   },
   {
    "duration": 369,
    "start_time": "2021-12-15T20:36:27.066Z"
   },
   {
    "duration": 612,
    "start_time": "2021-12-15T20:36:32.191Z"
   },
   {
    "duration": 476,
    "start_time": "2021-12-15T20:36:36.927Z"
   },
   {
    "duration": 361,
    "start_time": "2021-12-27T16:43:44.854Z"
   },
   {
    "duration": 1463,
    "start_time": "2021-12-27T16:43:52.117Z"
   },
   {
    "duration": 509,
    "start_time": "2021-12-27T16:43:53.583Z"
   },
   {
    "duration": 18,
    "start_time": "2021-12-27T16:43:54.095Z"
   },
   {
    "duration": 11,
    "start_time": "2021-12-27T16:43:54.116Z"
   },
   {
    "duration": 6,
    "start_time": "2021-12-27T16:43:54.130Z"
   },
   {
    "duration": 6,
    "start_time": "2021-12-27T16:43:54.138Z"
   },
   {
    "duration": 27,
    "start_time": "2021-12-27T16:43:54.147Z"
   },
   {
    "duration": 33,
    "start_time": "2021-12-27T16:43:54.180Z"
   },
   {
    "duration": 61,
    "start_time": "2021-12-27T16:43:54.217Z"
   },
   {
    "duration": 14,
    "start_time": "2021-12-27T16:43:54.281Z"
   },
   {
    "duration": 19,
    "start_time": "2021-12-27T16:43:54.298Z"
   },
   {
    "duration": 45,
    "start_time": "2021-12-27T16:43:54.320Z"
   },
   {
    "duration": 23,
    "start_time": "2021-12-27T16:43:54.368Z"
   },
   {
    "duration": 14,
    "start_time": "2021-12-27T16:43:54.393Z"
   },
   {
    "duration": 12,
    "start_time": "2021-12-27T16:43:54.409Z"
   },
   {
    "duration": 49,
    "start_time": "2021-12-27T16:43:54.423Z"
   },
   {
    "duration": 125,
    "start_time": "2021-12-27T16:43:54.474Z"
   },
   {
    "duration": 116,
    "start_time": "2021-12-27T16:43:54.602Z"
   },
   {
    "duration": 6,
    "start_time": "2021-12-27T16:43:54.720Z"
   },
   {
    "duration": 54,
    "start_time": "2021-12-27T16:43:54.728Z"
   },
   {
    "duration": 21,
    "start_time": "2021-12-27T16:43:54.785Z"
   },
   {
    "duration": 25,
    "start_time": "2021-12-27T16:43:54.808Z"
   },
   {
    "duration": 43,
    "start_time": "2021-12-27T16:43:54.839Z"
   },
   {
    "duration": 99,
    "start_time": "2021-12-27T16:43:54.885Z"
   },
   {
    "duration": 380,
    "start_time": "2021-12-27T16:43:54.986Z"
   },
   {
    "duration": 34,
    "start_time": "2021-12-27T16:43:55.368Z"
   },
   {
    "duration": 63,
    "start_time": "2021-12-27T16:43:55.405Z"
   },
   {
    "duration": 64,
    "start_time": "2021-12-27T16:43:55.471Z"
   },
   {
    "duration": 28,
    "start_time": "2021-12-27T16:43:55.537Z"
   },
   {
    "duration": 10,
    "start_time": "2021-12-27T16:43:55.568Z"
   },
   {
    "duration": 14,
    "start_time": "2021-12-27T16:43:55.580Z"
   },
   {
    "duration": 4,
    "start_time": "2021-12-27T16:43:55.597Z"
   },
   {
    "duration": 217,
    "start_time": "2021-12-27T16:43:55.604Z"
   },
   {
    "duration": 22,
    "start_time": "2021-12-27T16:43:55.824Z"
   },
   {
    "duration": 12,
    "start_time": "2021-12-27T16:43:55.862Z"
   },
   {
    "duration": 10,
    "start_time": "2021-12-27T16:43:55.876Z"
   },
   {
    "duration": 81,
    "start_time": "2021-12-27T16:43:55.889Z"
   },
   {
    "duration": 55,
    "start_time": "2021-12-27T16:43:55.973Z"
   },
   {
    "duration": 79,
    "start_time": "2021-12-27T16:43:56.031Z"
   },
   {
    "duration": 647,
    "start_time": "2021-12-27T16:43:56.113Z"
   },
   {
    "duration": 496,
    "start_time": "2021-12-27T16:43:56.762Z"
   },
   {
    "duration": 641,
    "start_time": "2021-12-27T16:43:57.263Z"
   },
   {
    "duration": 540,
    "start_time": "2021-12-27T16:43:57.907Z"
   },
   {
    "duration": 711,
    "start_time": "2021-12-27T16:43:58.451Z"
   },
   {
    "duration": 669,
    "start_time": "2021-12-27T16:43:59.165Z"
   },
   {
    "duration": 528,
    "start_time": "2021-12-27T16:43:59.837Z"
   },
   {
    "duration": 6,
    "start_time": "2021-12-27T16:44:00.368Z"
   },
   {
    "duration": 413,
    "start_time": "2021-12-27T16:44:00.376Z"
   },
   {
    "duration": 529,
    "start_time": "2021-12-27T16:44:00.791Z"
   },
   {
    "duration": 541,
    "start_time": "2021-12-27T16:44:01.322Z"
   },
   {
    "duration": 6,
    "start_time": "2021-12-27T16:44:01.865Z"
   },
   {
    "duration": 23,
    "start_time": "2021-12-27T16:44:01.874Z"
   },
   {
    "duration": 22,
    "start_time": "2021-12-27T16:44:01.900Z"
   },
   {
    "duration": 16,
    "start_time": "2021-12-27T16:44:01.925Z"
   },
   {
    "duration": 347,
    "start_time": "2021-12-27T16:44:45.493Z"
   }
  ],
  "kernelspec": {
   "display_name": "Python 3 (ipykernel)",
   "language": "python",
   "name": "python3"
  },
  "language_info": {
   "codemirror_mode": {
    "name": "ipython",
    "version": 3
   },
   "file_extension": ".py",
   "mimetype": "text/x-python",
   "name": "python",
   "nbconvert_exporter": "python",
   "pygments_lexer": "ipython3",
   "version": "3.9.5"
  },
  "toc": {
   "base_numbering": 1,
   "nav_menu": {
    "height": "408px",
    "width": "754px"
   },
   "number_sections": true,
   "sideBar": true,
   "skip_h1_title": true,
   "title_cell": "Table of Contents",
   "title_sidebar": "Contents",
   "toc_cell": false,
   "toc_position": {},
   "toc_section_display": true,
   "toc_window_display": false
  }
 },
 "nbformat": 4,
 "nbformat_minor": 2
}
