{
 "cells": [
  {
   "cell_type": "markdown",
   "metadata": {},
   "source": [
    "# Исследование надёжности заёмщиков\n",
    "\n",
    "Заказчик — кредитный отдел банка. Нужно разобраться, влияет ли семейное положение и количество детей клиента на факт погашения кредита в срок. Входные данные от банка — статистика о платёжеспособности клиентов.\n",
    "\n",
    "Результаты исследования будут учтены при построении модели **кредитного скоринга** — специальной системы, которая оценивает способность потенциального заёмщика вернуть кредит банку."
   ]
  },
  {
   "cell_type": "markdown",
   "metadata": {},
   "source": [
    "\n",
    "***Описание данных***  \n",
    "\n",
    "* children — количество детей в семье\n",
    "* days_employed — общий трудовой стаж в днях\n",
    "* dob_years — возраст клиента в годах\n",
    "* education — уровень образования клиента\n",
    "* education_id — идентификатор уровня образования\n",
    "* family_status — семейное положение\n",
    "* family_status_id — идентификатор семейного положения\n",
    "* gender — пол клиента\n",
    "* income_type — тип занятости\n",
    "* debt — имел ли задолженность по возврату кредитов\n",
    "* total_income — ежемесячный доход\n",
    "* purpose — цель получения кредита  \n",
    "\n",
    "***Инструкция по выполнению***\n",
    "\n",
    "1. В двух столбцах есть пропущенные значения. Один из них — days_employed. Пропуски в этом столбце вы обработаете на следующем этапе. Найдите другой столбец и заполните пропущенные значения в нём медианным значением:\n",
    "* опишите, какие пропущенные значения вы обнаружили;\n",
    "* проверьте, какую долю составляют пропущенные значения в каждом из столбцов с пропусками;\n",
    "* приведите возможные причины появления пропусков в данных;\n",
    "* объясните, почему заполнить пропуски медианным значением — лучшее решение для количественных переменных.  \n",
    "\n",
    "2. В данных могут встречаться артефакты (аномалии) — значения, которые не отражают действительность и появились по какой-то ошибке. Например, отрицательное количество дней трудового стажа в столбце days_employed. Для реальных данных это нормально. Обработайте значения в столбцах с аномалиями и опишите возможные причины появления таких данных. После обработки аномалий заполните пропуски в days_employed медианными значениями по этому столбцу.  \n",
    "\n",
    "3. Замените вещественный тип данных в столбце total_income на целочисленный, например, с помощью метода astype().  \n",
    "\n",
    "4. Если в данных присутствуют строки-дубликаты, удалите их. Также обработайте неявные дубликаты. Например, в столбце education есть одни и те же значения, но записанные по-разному: с использованием заглавных и строчных букв. Приведите их к одному регистру. Проверьте остальные столбцы. После удаления дубликатов сделайте следующее:\n",
    "поясните, как выбирали метод для поиска и удаления дубликатов в данных;\n",
    "приведите возможные причины появления дубликатов.  \n",
    "\n",
    "5. Создайте два новых датафрейма, в которых:\n",
    "* каждому уникальному значению из education соответствует уникальное значение education_id — в первом;\n",
    "* каждому уникальному значению из family_status соответствует уникальное значение family_status_id — во втором.  \n",
    "Удалите из исходного датафрейма столбцы education и family_status, оставив только их идентификаторы: education_id и family_status_id. Новые датафреймы — это те самые «словари» (не путайте с одноимённой структурой данных в Python), к которым вы сможете обращаться по идентификатору.\n",
    "6. На основании диапазонов, указанных ниже, создайте столбец total_income_category с категориями:  \n",
    " * 0–30000 — 'E';  \n",
    " * 30001–50000 — 'D';  \n",
    " * 50001–200000 — 'C';  \n",
    " * 200001–1000000 — 'B';  \n",
    " * 1000001 и выше — 'A'.  \n",
    " \n",
    "Например, кредитополучателю с доходом 25000 нужно назначить категорию 'E', а клиенту, получающему 235000, — 'B'.   \n",
    "\n",
    "7. Создайте функцию, которая на основании данных из столбца purpose сформирует новый столбец purpose_category, в который войдут следующие категории:  \n",
    " * 'операции с автомобилем',  \n",
    " * 'операции с недвижимостью',  \n",
    " * 'проведение свадьбы',  \n",
    " * 'получение образования'.  \n",
    " \n",
    "Например, если в столбце purpose находится подстрока 'на покупку автомобиля', то в столбце purpose_category должна появиться строка 'операции с автомобилем'.\n",
    "Вы можете использовать собственную функцию и метод apply(). Изучите данные в столбце purpose и определите, какие подстроки помогут вам правильно определить категорию.   \n",
    "\n",
    "***Ответьте на вопросы***\n",
    "1. Ответы на вопросы можно разместить в ячейках тетрадок Jupyter Notebook **с типом markdown.\n",
    "2. Есть ли зависимость между количеством детей и возвратом кредита в срок?\n",
    "3. Есть ли зависимость между семейным положением и возвратом кредита в срок?\n",
    "4. Есть ли зависимость между уровнем дохода и возвратом кредита в срок?\n",
    "5. Как разные цели кредита влияют на его возврат в срок?   "
   ]
  },
  {
   "cell_type": "markdown",
   "metadata": {},
   "source": [
    "## Шаг 1. Откройте файл с данными и изучите общую информацию"
   ]
  },
  {
   "cell_type": "code",
   "execution_count": 1,
   "metadata": {
    "scrolled": false
   },
   "outputs": [
    {
     "data": {
      "text/html": [
       "<div>\n",
       "<style scoped>\n",
       "    .dataframe tbody tr th:only-of-type {\n",
       "        vertical-align: middle;\n",
       "    }\n",
       "\n",
       "    .dataframe tbody tr th {\n",
       "        vertical-align: top;\n",
       "    }\n",
       "\n",
       "    .dataframe thead th {\n",
       "        text-align: right;\n",
       "    }\n",
       "</style>\n",
       "<table border=\"1\" class=\"dataframe\">\n",
       "  <thead>\n",
       "    <tr style=\"text-align: right;\">\n",
       "      <th></th>\n",
       "      <th>children</th>\n",
       "      <th>days_employed</th>\n",
       "      <th>dob_years</th>\n",
       "      <th>education</th>\n",
       "      <th>education_id</th>\n",
       "      <th>family_status</th>\n",
       "      <th>family_status_id</th>\n",
       "      <th>gender</th>\n",
       "      <th>income_type</th>\n",
       "      <th>debt</th>\n",
       "      <th>total_income</th>\n",
       "      <th>purpose</th>\n",
       "    </tr>\n",
       "  </thead>\n",
       "  <tbody>\n",
       "    <tr>\n",
       "      <td>0</td>\n",
       "      <td>1</td>\n",
       "      <td>-8437.673028</td>\n",
       "      <td>42</td>\n",
       "      <td>высшее</td>\n",
       "      <td>0</td>\n",
       "      <td>женат / замужем</td>\n",
       "      <td>0</td>\n",
       "      <td>F</td>\n",
       "      <td>сотрудник</td>\n",
       "      <td>0</td>\n",
       "      <td>253875.639453</td>\n",
       "      <td>покупка жилья</td>\n",
       "    </tr>\n",
       "    <tr>\n",
       "      <td>1</td>\n",
       "      <td>1</td>\n",
       "      <td>-4024.803754</td>\n",
       "      <td>36</td>\n",
       "      <td>среднее</td>\n",
       "      <td>1</td>\n",
       "      <td>женат / замужем</td>\n",
       "      <td>0</td>\n",
       "      <td>F</td>\n",
       "      <td>сотрудник</td>\n",
       "      <td>0</td>\n",
       "      <td>112080.014102</td>\n",
       "      <td>приобретение автомобиля</td>\n",
       "    </tr>\n",
       "    <tr>\n",
       "      <td>2</td>\n",
       "      <td>0</td>\n",
       "      <td>-5623.422610</td>\n",
       "      <td>33</td>\n",
       "      <td>Среднее</td>\n",
       "      <td>1</td>\n",
       "      <td>женат / замужем</td>\n",
       "      <td>0</td>\n",
       "      <td>M</td>\n",
       "      <td>сотрудник</td>\n",
       "      <td>0</td>\n",
       "      <td>145885.952297</td>\n",
       "      <td>покупка жилья</td>\n",
       "    </tr>\n",
       "    <tr>\n",
       "      <td>3</td>\n",
       "      <td>3</td>\n",
       "      <td>-4124.747207</td>\n",
       "      <td>32</td>\n",
       "      <td>среднее</td>\n",
       "      <td>1</td>\n",
       "      <td>женат / замужем</td>\n",
       "      <td>0</td>\n",
       "      <td>M</td>\n",
       "      <td>сотрудник</td>\n",
       "      <td>0</td>\n",
       "      <td>267628.550329</td>\n",
       "      <td>дополнительное образование</td>\n",
       "    </tr>\n",
       "    <tr>\n",
       "      <td>4</td>\n",
       "      <td>0</td>\n",
       "      <td>340266.072047</td>\n",
       "      <td>53</td>\n",
       "      <td>среднее</td>\n",
       "      <td>1</td>\n",
       "      <td>гражданский брак</td>\n",
       "      <td>1</td>\n",
       "      <td>F</td>\n",
       "      <td>пенсионер</td>\n",
       "      <td>0</td>\n",
       "      <td>158616.077870</td>\n",
       "      <td>сыграть свадьбу</td>\n",
       "    </tr>\n",
       "    <tr>\n",
       "      <td>5</td>\n",
       "      <td>0</td>\n",
       "      <td>-926.185831</td>\n",
       "      <td>27</td>\n",
       "      <td>высшее</td>\n",
       "      <td>0</td>\n",
       "      <td>гражданский брак</td>\n",
       "      <td>1</td>\n",
       "      <td>M</td>\n",
       "      <td>компаньон</td>\n",
       "      <td>0</td>\n",
       "      <td>255763.565419</td>\n",
       "      <td>покупка жилья</td>\n",
       "    </tr>\n",
       "    <tr>\n",
       "      <td>6</td>\n",
       "      <td>0</td>\n",
       "      <td>-2879.202052</td>\n",
       "      <td>43</td>\n",
       "      <td>высшее</td>\n",
       "      <td>0</td>\n",
       "      <td>женат / замужем</td>\n",
       "      <td>0</td>\n",
       "      <td>F</td>\n",
       "      <td>компаньон</td>\n",
       "      <td>0</td>\n",
       "      <td>240525.971920</td>\n",
       "      <td>операции с жильем</td>\n",
       "    </tr>\n",
       "    <tr>\n",
       "      <td>7</td>\n",
       "      <td>0</td>\n",
       "      <td>-152.779569</td>\n",
       "      <td>50</td>\n",
       "      <td>СРЕДНЕЕ</td>\n",
       "      <td>1</td>\n",
       "      <td>женат / замужем</td>\n",
       "      <td>0</td>\n",
       "      <td>M</td>\n",
       "      <td>сотрудник</td>\n",
       "      <td>0</td>\n",
       "      <td>135823.934197</td>\n",
       "      <td>образование</td>\n",
       "    </tr>\n",
       "    <tr>\n",
       "      <td>8</td>\n",
       "      <td>2</td>\n",
       "      <td>-6929.865299</td>\n",
       "      <td>35</td>\n",
       "      <td>ВЫСШЕЕ</td>\n",
       "      <td>0</td>\n",
       "      <td>гражданский брак</td>\n",
       "      <td>1</td>\n",
       "      <td>F</td>\n",
       "      <td>сотрудник</td>\n",
       "      <td>0</td>\n",
       "      <td>95856.832424</td>\n",
       "      <td>на проведение свадьбы</td>\n",
       "    </tr>\n",
       "    <tr>\n",
       "      <td>9</td>\n",
       "      <td>0</td>\n",
       "      <td>-2188.756445</td>\n",
       "      <td>41</td>\n",
       "      <td>среднее</td>\n",
       "      <td>1</td>\n",
       "      <td>женат / замужем</td>\n",
       "      <td>0</td>\n",
       "      <td>M</td>\n",
       "      <td>сотрудник</td>\n",
       "      <td>0</td>\n",
       "      <td>144425.938277</td>\n",
       "      <td>покупка жилья для семьи</td>\n",
       "    </tr>\n",
       "    <tr>\n",
       "      <td>10</td>\n",
       "      <td>2</td>\n",
       "      <td>-4171.483647</td>\n",
       "      <td>36</td>\n",
       "      <td>высшее</td>\n",
       "      <td>0</td>\n",
       "      <td>женат / замужем</td>\n",
       "      <td>0</td>\n",
       "      <td>M</td>\n",
       "      <td>компаньон</td>\n",
       "      <td>0</td>\n",
       "      <td>113943.491460</td>\n",
       "      <td>покупка недвижимости</td>\n",
       "    </tr>\n",
       "    <tr>\n",
       "      <td>11</td>\n",
       "      <td>0</td>\n",
       "      <td>-792.701887</td>\n",
       "      <td>40</td>\n",
       "      <td>среднее</td>\n",
       "      <td>1</td>\n",
       "      <td>женат / замужем</td>\n",
       "      <td>0</td>\n",
       "      <td>F</td>\n",
       "      <td>сотрудник</td>\n",
       "      <td>0</td>\n",
       "      <td>77069.234271</td>\n",
       "      <td>покупка коммерческой недвижимости</td>\n",
       "    </tr>\n",
       "    <tr>\n",
       "      <td>12</td>\n",
       "      <td>0</td>\n",
       "      <td>NaN</td>\n",
       "      <td>65</td>\n",
       "      <td>среднее</td>\n",
       "      <td>1</td>\n",
       "      <td>гражданский брак</td>\n",
       "      <td>1</td>\n",
       "      <td>M</td>\n",
       "      <td>пенсионер</td>\n",
       "      <td>0</td>\n",
       "      <td>NaN</td>\n",
       "      <td>сыграть свадьбу</td>\n",
       "    </tr>\n",
       "    <tr>\n",
       "      <td>13</td>\n",
       "      <td>0</td>\n",
       "      <td>-1846.641941</td>\n",
       "      <td>54</td>\n",
       "      <td>неоконченное высшее</td>\n",
       "      <td>2</td>\n",
       "      <td>женат / замужем</td>\n",
       "      <td>0</td>\n",
       "      <td>F</td>\n",
       "      <td>сотрудник</td>\n",
       "      <td>0</td>\n",
       "      <td>130458.228857</td>\n",
       "      <td>приобретение автомобиля</td>\n",
       "    </tr>\n",
       "    <tr>\n",
       "      <td>14</td>\n",
       "      <td>0</td>\n",
       "      <td>-1844.956182</td>\n",
       "      <td>56</td>\n",
       "      <td>высшее</td>\n",
       "      <td>0</td>\n",
       "      <td>гражданский брак</td>\n",
       "      <td>1</td>\n",
       "      <td>F</td>\n",
       "      <td>компаньон</td>\n",
       "      <td>1</td>\n",
       "      <td>165127.911772</td>\n",
       "      <td>покупка жилой недвижимости</td>\n",
       "    </tr>\n",
       "  </tbody>\n",
       "</table>\n",
       "</div>"
      ],
      "text/plain": [
       "    children  days_employed  dob_years            education  education_id  \\\n",
       "0          1   -8437.673028         42               высшее             0   \n",
       "1          1   -4024.803754         36              среднее             1   \n",
       "2          0   -5623.422610         33              Среднее             1   \n",
       "3          3   -4124.747207         32              среднее             1   \n",
       "4          0  340266.072047         53              среднее             1   \n",
       "5          0    -926.185831         27               высшее             0   \n",
       "6          0   -2879.202052         43               высшее             0   \n",
       "7          0    -152.779569         50              СРЕДНЕЕ             1   \n",
       "8          2   -6929.865299         35               ВЫСШЕЕ             0   \n",
       "9          0   -2188.756445         41              среднее             1   \n",
       "10         2   -4171.483647         36               высшее             0   \n",
       "11         0    -792.701887         40              среднее             1   \n",
       "12         0            NaN         65              среднее             1   \n",
       "13         0   -1846.641941         54  неоконченное высшее             2   \n",
       "14         0   -1844.956182         56               высшее             0   \n",
       "\n",
       "       family_status  family_status_id gender income_type  debt  \\\n",
       "0    женат / замужем                 0      F   сотрудник     0   \n",
       "1    женат / замужем                 0      F   сотрудник     0   \n",
       "2    женат / замужем                 0      M   сотрудник     0   \n",
       "3    женат / замужем                 0      M   сотрудник     0   \n",
       "4   гражданский брак                 1      F   пенсионер     0   \n",
       "5   гражданский брак                 1      M   компаньон     0   \n",
       "6    женат / замужем                 0      F   компаньон     0   \n",
       "7    женат / замужем                 0      M   сотрудник     0   \n",
       "8   гражданский брак                 1      F   сотрудник     0   \n",
       "9    женат / замужем                 0      M   сотрудник     0   \n",
       "10   женат / замужем                 0      M   компаньон     0   \n",
       "11   женат / замужем                 0      F   сотрудник     0   \n",
       "12  гражданский брак                 1      M   пенсионер     0   \n",
       "13   женат / замужем                 0      F   сотрудник     0   \n",
       "14  гражданский брак                 1      F   компаньон     1   \n",
       "\n",
       "     total_income                            purpose  \n",
       "0   253875.639453                      покупка жилья  \n",
       "1   112080.014102            приобретение автомобиля  \n",
       "2   145885.952297                      покупка жилья  \n",
       "3   267628.550329         дополнительное образование  \n",
       "4   158616.077870                    сыграть свадьбу  \n",
       "5   255763.565419                      покупка жилья  \n",
       "6   240525.971920                  операции с жильем  \n",
       "7   135823.934197                        образование  \n",
       "8    95856.832424              на проведение свадьбы  \n",
       "9   144425.938277            покупка жилья для семьи  \n",
       "10  113943.491460               покупка недвижимости  \n",
       "11   77069.234271  покупка коммерческой недвижимости  \n",
       "12            NaN                    сыграть свадьбу  \n",
       "13  130458.228857            приобретение автомобиля  \n",
       "14  165127.911772         покупка жилой недвижимости  "
      ]
     },
     "execution_count": 1,
     "metadata": {},
     "output_type": "execute_result"
    }
   ],
   "source": [
    "import pandas as pd\n",
    "df = pd.read_csv('/datasets/data.csv')\n",
    "df.head(15)#получение первых 15 строк датафрейма"
   ]
  },
  {
   "cell_type": "code",
   "execution_count": 2,
   "metadata": {
    "scrolled": true
   },
   "outputs": [
    {
     "name": "stdout",
     "output_type": "stream",
     "text": [
      "<class 'pandas.core.frame.DataFrame'>\n",
      "RangeIndex: 21525 entries, 0 to 21524\n",
      "Data columns (total 12 columns):\n",
      "children            21525 non-null int64\n",
      "days_employed       19351 non-null float64\n",
      "dob_years           21525 non-null int64\n",
      "education           21525 non-null object\n",
      "education_id        21525 non-null int64\n",
      "family_status       21525 non-null object\n",
      "family_status_id    21525 non-null int64\n",
      "gender              21525 non-null object\n",
      "income_type         21525 non-null object\n",
      "debt                21525 non-null int64\n",
      "total_income        19351 non-null float64\n",
      "purpose             21525 non-null object\n",
      "dtypes: float64(2), int64(5), object(5)\n",
      "memory usage: 2.0+ MB\n"
     ]
    }
   ],
   "source": [
    "df.info() #получение информации "
   ]
  },
  {
   "cell_type": "markdown",
   "metadata": {},
   "source": [
    "**Вывод**"
   ]
  },
  {
   "cell_type": "markdown",
   "metadata": {},
   "source": [
    "По датафрейму и информации о нём видно, что данные трудового стажа указаны некорректно, имеются пропущенные значения о трудовом стаже и доходе, в строках используется верхний и нижний регистр, в некоторых столбцах содержатся данные вещественного типа, одинаковые цели получения кредита написаны в разной форме."
   ]
  },
  {
   "cell_type": "markdown",
   "metadata": {},
   "source": [
    "## Шаг 2. Предобработка данных"
   ]
  },
  {
   "cell_type": "markdown",
   "metadata": {},
   "source": [
    "### Обработка пропусков и некорректных значений"
   ]
  },
  {
   "cell_type": "code",
   "execution_count": 3,
   "metadata": {
    "scrolled": true
   },
   "outputs": [
    {
     "data": {
      "text/plain": [
       "children               0\n",
       "days_employed       2174\n",
       "dob_years              0\n",
       "education              0\n",
       "education_id           0\n",
       "family_status          0\n",
       "family_status_id       0\n",
       "gender                 0\n",
       "income_type            0\n",
       "debt                   0\n",
       "total_income        2174\n",
       "purpose                0\n",
       "dtype: int64"
      ]
     },
     "execution_count": 3,
     "metadata": {},
     "output_type": "execute_result"
    }
   ],
   "source": [
    "df.isna().sum() #подсчёт пропусков в столбцах"
   ]
  },
  {
   "cell_type": "markdown",
   "metadata": {},
   "source": [
    "Для получения кредита и нашего проекта трудовой стаж не столь важен, но, чтобы заполнить пропуски средним значением, нужно избавиться от отрицательного и тысячелетнего стажа. Допустим, что в некоторых строках данные указаны в часах и людям со стажем от 60 лет не так часто предлагают и одобряют кредиты. Стаж 39 лет при возрасте 53 года тоже маловероятен, но более реалистичен."
   ]
  },
  {
   "cell_type": "code",
   "execution_count": 4,
   "metadata": {
    "scrolled": false
   },
   "outputs": [],
   "source": [
    "df['days_employed'] = df['days_employed'].abs()#избавились от отрицательного стажа\n",
    "df.loc[df['days_employed'] > 22000, 'days_employed'] = df.loc[df['days_employed'] > 22000, 'days_employed'] / 24 #перевели часы в дни (по крайней мере какую-то часть)\n",
    "df['days_employed'] = df['days_employed'].fillna(df['days_employed'].mean()) #заполнили пропуски средним значением"
   ]
  },
  {
   "cell_type": "markdown",
   "metadata": {},
   "source": [
    "Пропуски в столбце о доходе мы заполним средним значением по котегориям: пол, образование, тип дохода."
   ]
  },
  {
   "cell_type": "code",
   "execution_count": 5,
   "metadata": {
    "scrolled": true
   },
   "outputs": [],
   "source": [
    "df['total_income'] = df['total_income'].fillna(df.groupby(['income_type', 'education', 'gender'])['total_income'].transform('mean'))"
   ]
  },
  {
   "cell_type": "markdown",
   "metadata": {},
   "source": [
    "Проверим количество пропусков в столбце доходов."
   ]
  },
  {
   "cell_type": "code",
   "execution_count": 6,
   "metadata": {
    "scrolled": true
   },
   "outputs": [
    {
     "data": {
      "text/html": [
       "<div>\n",
       "<style scoped>\n",
       "    .dataframe tbody tr th:only-of-type {\n",
       "        vertical-align: middle;\n",
       "    }\n",
       "\n",
       "    .dataframe tbody tr th {\n",
       "        vertical-align: top;\n",
       "    }\n",
       "\n",
       "    .dataframe thead th {\n",
       "        text-align: right;\n",
       "    }\n",
       "</style>\n",
       "<table border=\"1\" class=\"dataframe\">\n",
       "  <thead>\n",
       "    <tr style=\"text-align: right;\">\n",
       "      <th></th>\n",
       "      <th>children</th>\n",
       "      <th>days_employed</th>\n",
       "      <th>dob_years</th>\n",
       "      <th>education</th>\n",
       "      <th>education_id</th>\n",
       "      <th>family_status</th>\n",
       "      <th>family_status_id</th>\n",
       "      <th>gender</th>\n",
       "      <th>income_type</th>\n",
       "      <th>debt</th>\n",
       "      <th>total_income</th>\n",
       "      <th>purpose</th>\n",
       "    </tr>\n",
       "  </thead>\n",
       "  <tbody>\n",
       "    <tr>\n",
       "      <td>5936</td>\n",
       "      <td>0</td>\n",
       "      <td>4641.641176</td>\n",
       "      <td>58</td>\n",
       "      <td>высшее</td>\n",
       "      <td>0</td>\n",
       "      <td>женат / замужем</td>\n",
       "      <td>0</td>\n",
       "      <td>M</td>\n",
       "      <td>предприниматель</td>\n",
       "      <td>0</td>\n",
       "      <td>NaN</td>\n",
       "      <td>покупка жилой недвижимости</td>\n",
       "    </tr>\n",
       "  </tbody>\n",
       "</table>\n",
       "</div>"
      ],
      "text/plain": [
       "      children  days_employed  dob_years education  education_id  \\\n",
       "5936         0    4641.641176         58    высшее             0   \n",
       "\n",
       "        family_status  family_status_id gender      income_type  debt  \\\n",
       "5936  женат / замужем                 0      M  предприниматель     0   \n",
       "\n",
       "      total_income                     purpose  \n",
       "5936           NaN  покупка жилой недвижимости  "
      ]
     },
     "execution_count": 6,
     "metadata": {},
     "output_type": "execute_result"
    }
   ],
   "source": [
    "df[df['total_income'].isna()]"
   ]
  },
  {
   "cell_type": "code",
   "execution_count": 7,
   "metadata": {},
   "outputs": [
    {
     "data": {
      "text/html": [
       "<div>\n",
       "<style scoped>\n",
       "    .dataframe tbody tr th:only-of-type {\n",
       "        vertical-align: middle;\n",
       "    }\n",
       "\n",
       "    .dataframe tbody tr th {\n",
       "        vertical-align: top;\n",
       "    }\n",
       "\n",
       "    .dataframe thead th {\n",
       "        text-align: right;\n",
       "    }\n",
       "</style>\n",
       "<table border=\"1\" class=\"dataframe\">\n",
       "  <thead>\n",
       "    <tr style=\"text-align: right;\">\n",
       "      <th></th>\n",
       "      <th>children</th>\n",
       "      <th>days_employed</th>\n",
       "      <th>dob_years</th>\n",
       "      <th>education</th>\n",
       "      <th>education_id</th>\n",
       "      <th>family_status</th>\n",
       "      <th>family_status_id</th>\n",
       "      <th>gender</th>\n",
       "      <th>income_type</th>\n",
       "      <th>debt</th>\n",
       "      <th>total_income</th>\n",
       "      <th>purpose</th>\n",
       "    </tr>\n",
       "  </thead>\n",
       "  <tbody>\n",
       "    <tr>\n",
       "      <td>5936</td>\n",
       "      <td>0</td>\n",
       "      <td>4641.641176</td>\n",
       "      <td>58</td>\n",
       "      <td>высшее</td>\n",
       "      <td>0</td>\n",
       "      <td>женат / замужем</td>\n",
       "      <td>0</td>\n",
       "      <td>M</td>\n",
       "      <td>предприниматель</td>\n",
       "      <td>0</td>\n",
       "      <td>NaN</td>\n",
       "      <td>покупка жилой недвижимости</td>\n",
       "    </tr>\n",
       "    <tr>\n",
       "      <td>18697</td>\n",
       "      <td>0</td>\n",
       "      <td>520.848083</td>\n",
       "      <td>27</td>\n",
       "      <td>высшее</td>\n",
       "      <td>0</td>\n",
       "      <td>гражданский брак</td>\n",
       "      <td>1</td>\n",
       "      <td>F</td>\n",
       "      <td>предприниматель</td>\n",
       "      <td>0</td>\n",
       "      <td>499163.144947</td>\n",
       "      <td>на проведение свадьбы</td>\n",
       "    </tr>\n",
       "  </tbody>\n",
       "</table>\n",
       "</div>"
      ],
      "text/plain": [
       "       children  days_employed  dob_years education  education_id  \\\n",
       "5936          0    4641.641176         58    высшее             0   \n",
       "18697         0     520.848083         27    высшее             0   \n",
       "\n",
       "          family_status  family_status_id gender      income_type  debt  \\\n",
       "5936    женат / замужем                 0      M  предприниматель     0   \n",
       "18697  гражданский брак                 1      F  предприниматель     0   \n",
       "\n",
       "        total_income                     purpose  \n",
       "5936             NaN  покупка жилой недвижимости  \n",
       "18697  499163.144947       на проведение свадьбы  "
      ]
     },
     "execution_count": 7,
     "metadata": {},
     "output_type": "execute_result"
    }
   ],
   "source": [
    "df[df['income_type'] == 'предприниматель']"
   ]
  },
  {
   "cell_type": "markdown",
   "metadata": {},
   "source": [
    "Предпринимателей всего двое, поэтому средний доход для одного из них возьмём из данных по категориям: пол, возраст, образование."
   ]
  },
  {
   "cell_type": "code",
   "execution_count": 8,
   "metadata": {},
   "outputs": [],
   "source": [
    "df['total_income'] = df['total_income'].fillna(df.groupby(['dob_years', 'education', 'gender'])['total_income'].transform('mean'))"
   ]
  },
  {
   "cell_type": "code",
   "execution_count": 9,
   "metadata": {},
   "outputs": [
    {
     "data": {
      "text/html": [
       "<div>\n",
       "<style scoped>\n",
       "    .dataframe tbody tr th:only-of-type {\n",
       "        vertical-align: middle;\n",
       "    }\n",
       "\n",
       "    .dataframe tbody tr th {\n",
       "        vertical-align: top;\n",
       "    }\n",
       "\n",
       "    .dataframe thead th {\n",
       "        text-align: right;\n",
       "    }\n",
       "</style>\n",
       "<table border=\"1\" class=\"dataframe\">\n",
       "  <thead>\n",
       "    <tr style=\"text-align: right;\">\n",
       "      <th></th>\n",
       "      <th>children</th>\n",
       "      <th>days_employed</th>\n",
       "      <th>dob_years</th>\n",
       "      <th>education</th>\n",
       "      <th>education_id</th>\n",
       "      <th>family_status</th>\n",
       "      <th>family_status_id</th>\n",
       "      <th>gender</th>\n",
       "      <th>income_type</th>\n",
       "      <th>debt</th>\n",
       "      <th>total_income</th>\n",
       "      <th>purpose</th>\n",
       "    </tr>\n",
       "  </thead>\n",
       "  <tbody>\n",
       "    <tr>\n",
       "      <td>5936</td>\n",
       "      <td>0</td>\n",
       "      <td>4641.641176</td>\n",
       "      <td>58</td>\n",
       "      <td>высшее</td>\n",
       "      <td>0</td>\n",
       "      <td>женат / замужем</td>\n",
       "      <td>0</td>\n",
       "      <td>M</td>\n",
       "      <td>предприниматель</td>\n",
       "      <td>0</td>\n",
       "      <td>202355.910578</td>\n",
       "      <td>покупка жилой недвижимости</td>\n",
       "    </tr>\n",
       "    <tr>\n",
       "      <td>18697</td>\n",
       "      <td>0</td>\n",
       "      <td>520.848083</td>\n",
       "      <td>27</td>\n",
       "      <td>высшее</td>\n",
       "      <td>0</td>\n",
       "      <td>гражданский брак</td>\n",
       "      <td>1</td>\n",
       "      <td>F</td>\n",
       "      <td>предприниматель</td>\n",
       "      <td>0</td>\n",
       "      <td>499163.144947</td>\n",
       "      <td>на проведение свадьбы</td>\n",
       "    </tr>\n",
       "  </tbody>\n",
       "</table>\n",
       "</div>"
      ],
      "text/plain": [
       "       children  days_employed  dob_years education  education_id  \\\n",
       "5936          0    4641.641176         58    высшее             0   \n",
       "18697         0     520.848083         27    высшее             0   \n",
       "\n",
       "          family_status  family_status_id gender      income_type  debt  \\\n",
       "5936    женат / замужем                 0      M  предприниматель     0   \n",
       "18697  гражданский брак                 1      F  предприниматель     0   \n",
       "\n",
       "        total_income                     purpose  \n",
       "5936   202355.910578  покупка жилой недвижимости  \n",
       "18697  499163.144947       на проведение свадьбы  "
      ]
     },
     "metadata": {},
     "output_type": "display_data"
    }
   ],
   "source": [
    "display(df[df['income_type'] == 'предприниматель']) #проверили заполнение пропуска"
   ]
  },
  {
   "cell_type": "code",
   "execution_count": 10,
   "metadata": {},
   "outputs": [
    {
     "data": {
      "text/plain": [
       "children            0\n",
       "days_employed       0\n",
       "dob_years           0\n",
       "education           0\n",
       "education_id        0\n",
       "family_status       0\n",
       "family_status_id    0\n",
       "gender              0\n",
       "income_type         0\n",
       "debt                0\n",
       "total_income        0\n",
       "purpose             0\n",
       "dtype: int64"
      ]
     },
     "execution_count": 10,
     "metadata": {},
     "output_type": "execute_result"
    }
   ],
   "source": [
    "df.isna().sum() #подводя итоги по пропущенным значениям"
   ]
  },
  {
   "cell_type": "markdown",
   "metadata": {},
   "source": [
    "Пропущенных значений не осталось. Далее выведем списки уникальных значений по столбцам для проверки корректности данных."
   ]
  },
  {
   "cell_type": "code",
   "execution_count": 11,
   "metadata": {
    "scrolled": true
   },
   "outputs": [
    {
     "data": {
      "text/plain": [
       "array([ 1,  0,  3,  2, -1,  4, 20,  5])"
      ]
     },
     "execution_count": 11,
     "metadata": {},
     "output_type": "execute_result"
    }
   ],
   "source": [
    "df['children'].unique() #список значений количества детей в семье"
   ]
  },
  {
   "cell_type": "markdown",
   "metadata": {},
   "source": [
    "Допустим, что -1 ребенка быть не может."
   ]
  },
  {
   "cell_type": "code",
   "execution_count": 12,
   "metadata": {},
   "outputs": [],
   "source": [
    "df['children'] = df['children'].abs() #вернули семье ребёнка"
   ]
  },
  {
   "cell_type": "markdown",
   "metadata": {},
   "source": [
    "Как и 20. Хотя..."
   ]
  },
  {
   "cell_type": "code",
   "execution_count": 13,
   "metadata": {
    "scrolled": true
   },
   "outputs": [
    {
     "data": {
      "text/plain": [
       "606      21\n",
       "720      44\n",
       "1074     56\n",
       "2510     59\n",
       "2941      0\n",
       "         ..\n",
       "21008    40\n",
       "21325    37\n",
       "21390    53\n",
       "21404    52\n",
       "21491    27\n",
       "Name: dob_years, Length: 76, dtype: int64"
      ]
     },
     "metadata": {},
     "output_type": "display_data"
    }
   ],
   "source": [
    "display(df[df['children'] == 20]['dob_years']) #выяснили, сколько людей сильно старались побить рекорд и сколько им лет"
   ]
  },
  {
   "cell_type": "markdown",
   "metadata": {},
   "source": [
    "А теперь представим, что это ошибка операциониста, вносившего неверные данные 76 раз, либо чья-то шутка, и исправим."
   ]
  },
  {
   "cell_type": "code",
   "execution_count": 14,
   "metadata": {
    "scrolled": false
   },
   "outputs": [
    {
     "data": {
      "text/plain": [
       "array([0., 1., 2., 3., 4., 5.])"
      ]
     },
     "execution_count": 14,
     "metadata": {},
     "output_type": "execute_result"
    }
   ],
   "source": [
    "df.loc[df['children'] == 20, 'children'] = df.loc[df['children'] == 20, 'children'] / 10\n",
    "df['children'].sort_values().unique() #отсортируем и перепроверим"
   ]
  },
  {
   "cell_type": "code",
   "execution_count": 15,
   "metadata": {},
   "outputs": [
    {
     "data": {
      "text/plain": [
       "0.0    0.657329\n",
       "1.0    0.226016\n",
       "2.0    0.099001\n",
       "3.0    0.015331\n",
       "4.0    0.001905\n",
       "5.0    0.000418\n",
       "Name: children, dtype: float64"
      ]
     },
     "execution_count": 15,
     "metadata": {},
     "output_type": "execute_result"
    }
   ],
   "source": [
    "df['children'].value_counts(normalize=True)"
   ]
  },
  {
   "cell_type": "code",
   "execution_count": 16,
   "metadata": {},
   "outputs": [
    {
     "data": {
      "text/plain": [
       "array([ 0, 19, 20, 21, 22, 23, 24, 25, 26, 27, 28, 29, 30, 31, 32, 33, 34,\n",
       "       35, 36, 37, 38, 39, 40, 41, 42, 43, 44, 45, 46, 47, 48, 49, 50, 51,\n",
       "       52, 53, 54, 55, 56, 57, 58, 59, 60, 61, 62, 63, 64, 65, 66, 67, 68,\n",
       "       69, 70, 71, 72, 73, 74, 75])"
      ]
     },
     "execution_count": 16,
     "metadata": {},
     "output_type": "execute_result"
    }
   ],
   "source": [
    "df['dob_years'].sort_values().unique() #список уникальных значений возраста"
   ]
  },
  {
   "cell_type": "markdown",
   "metadata": {},
   "source": [
    "Вместо \"0\" подставим среднее значение возраста."
   ]
  },
  {
   "cell_type": "code",
   "execution_count": 17,
   "metadata": {},
   "outputs": [
    {
     "data": {
      "text/plain": [
       "array([19.        , 20.        , 21.        , 22.        , 23.        ,\n",
       "       24.        , 25.        , 26.        , 27.        , 28.        ,\n",
       "       29.        , 30.        , 31.        , 32.        , 33.        ,\n",
       "       34.        , 35.        , 36.        , 37.        , 38.        ,\n",
       "       39.        , 40.        , 41.        , 42.        , 43.        ,\n",
       "       43.29337979, 44.        , 45.        , 46.        , 47.        ,\n",
       "       48.        , 49.        , 50.        , 51.        , 52.        ,\n",
       "       53.        , 54.        , 55.        , 56.        , 57.        ,\n",
       "       58.        , 59.        , 60.        , 61.        , 62.        ,\n",
       "       63.        , 64.        , 65.        , 66.        , 67.        ,\n",
       "       68.        , 69.        , 70.        , 71.        , 72.        ,\n",
       "       73.        , 74.        , 75.        ])"
      ]
     },
     "execution_count": 17,
     "metadata": {},
     "output_type": "execute_result"
    }
   ],
   "source": [
    "df.loc[df['dob_years'] == 0, 'dob_years'] = df['dob_years'].mean()\n",
    "df['dob_years'].sort_values().unique()"
   ]
  },
  {
   "cell_type": "code",
   "execution_count": 18,
   "metadata": {
    "scrolled": true
   },
   "outputs": [
    {
     "data": {
      "text/plain": [
       "array(['высшее', 'среднее', 'Среднее', 'СРЕДНЕЕ', 'ВЫСШЕЕ',\n",
       "       'неоконченное высшее', 'начальное', 'Высшее',\n",
       "       'НЕОКОНЧЕННОЕ ВЫСШЕЕ', 'Неоконченное высшее', 'НАЧАЛЬНОЕ',\n",
       "       'Начальное', 'Ученая степень', 'УЧЕНАЯ СТЕПЕНЬ', 'ученая степень'],\n",
       "      dtype=object)"
      ]
     },
     "execution_count": 18,
     "metadata": {},
     "output_type": "execute_result"
    }
   ],
   "source": [
    "df['education'].unique() #проверили уникальные значения в столбце об образовании"
   ]
  },
  {
   "cell_type": "code",
   "execution_count": 19,
   "metadata": {},
   "outputs": [
    {
     "data": {
      "text/plain": [
       "array(['женат / замужем', 'гражданский брак', 'вдовец / вдова',\n",
       "       'в разводе', 'Не женат / не замужем'], dtype=object)"
      ]
     },
     "execution_count": 19,
     "metadata": {},
     "output_type": "execute_result"
    }
   ],
   "source": [
    "df['family_status'].unique() #проверили уникальные значения в столбце о семейном статусе"
   ]
  },
  {
   "cell_type": "markdown",
   "metadata": {},
   "source": [
    "Для дальнейшей работы приведём данные к нижнему регистру."
   ]
  },
  {
   "cell_type": "code",
   "execution_count": 20,
   "metadata": {},
   "outputs": [],
   "source": [
    "df['family_status'] = df['family_status'].str.lower() "
   ]
  },
  {
   "cell_type": "code",
   "execution_count": 21,
   "metadata": {},
   "outputs": [],
   "source": [
    "df['education'] = df['education'].str.lower()"
   ]
  },
  {
   "cell_type": "markdown",
   "metadata": {},
   "source": [
    "**Вывод**"
   ]
  },
  {
   "cell_type": "markdown",
   "metadata": {},
   "source": [
    "Пропущенные значения о стаже и доходе происходят в одних строках, что может являться последствием сбоя системы. Причиной некорректно введенных данных может быть человеческий фактор. Мы обработали пропуски и ошибки. Датафрейм почти готов к последующим этапам предобработки."
   ]
  },
  {
   "cell_type": "markdown",
   "metadata": {},
   "source": [
    "### Замена типа данных"
   ]
  },
  {
   "cell_type": "code",
   "execution_count": 22,
   "metadata": {},
   "outputs": [
    {
     "name": "stdout",
     "output_type": "stream",
     "text": [
      "<class 'pandas.core.frame.DataFrame'>\n",
      "RangeIndex: 21525 entries, 0 to 21524\n",
      "Data columns (total 12 columns):\n",
      "children            21525 non-null float64\n",
      "days_employed       21525 non-null float64\n",
      "dob_years           21525 non-null float64\n",
      "education           21525 non-null object\n",
      "education_id        21525 non-null int64\n",
      "family_status       21525 non-null object\n",
      "family_status_id    21525 non-null int64\n",
      "gender              21525 non-null object\n",
      "income_type         21525 non-null object\n",
      "debt                21525 non-null int64\n",
      "total_income        21525 non-null float64\n",
      "purpose             21525 non-null object\n",
      "dtypes: float64(4), int64(3), object(5)\n",
      "memory usage: 2.0+ MB\n"
     ]
    }
   ],
   "source": [
    "df.info() #повторно посмотрим информацию о датафрейме"
   ]
  },
  {
   "cell_type": "code",
   "execution_count": 23,
   "metadata": {
    "scrolled": true
   },
   "outputs": [
    {
     "name": "stdout",
     "output_type": "stream",
     "text": [
      "<class 'pandas.core.frame.DataFrame'>\n",
      "RangeIndex: 21525 entries, 0 to 21524\n",
      "Data columns (total 12 columns):\n",
      "children            21525 non-null int64\n",
      "days_employed       21525 non-null int64\n",
      "dob_years           21525 non-null int64\n",
      "education           21525 non-null object\n",
      "education_id        21525 non-null int64\n",
      "family_status       21525 non-null object\n",
      "family_status_id    21525 non-null int64\n",
      "gender              21525 non-null object\n",
      "income_type         21525 non-null object\n",
      "debt                21525 non-null int64\n",
      "total_income        21525 non-null int64\n",
      "purpose             21525 non-null object\n",
      "dtypes: int64(7), object(5)\n",
      "memory usage: 2.0+ MB\n"
     ]
    }
   ],
   "source": [
    "df = df.astype({'days_employed':'int', 'total_income':'int', 'dob_years':'int', 'children':'int'}) #изменение типа данных\n",
    "df.info()"
   ]
  },
  {
   "cell_type": "markdown",
   "metadata": {},
   "source": [
    "**Вывод**"
   ]
  },
  {
   "cell_type": "markdown",
   "metadata": {},
   "source": [
    "После корректировки данных в столбце о детях и возрасте поменялся и тип данных. Преобразовали вещественный тип данных в целый."
   ]
  },
  {
   "cell_type": "markdown",
   "metadata": {},
   "source": [
    "### Обработка дубликатов"
   ]
  },
  {
   "cell_type": "code",
   "execution_count": 24,
   "metadata": {},
   "outputs": [
    {
     "data": {
      "text/plain": [
       "54"
      ]
     },
     "execution_count": 24,
     "metadata": {},
     "output_type": "execute_result"
    }
   ],
   "source": [
    "df.duplicated().sum() #определили количество дубликатов"
   ]
  },
  {
   "cell_type": "code",
   "execution_count": 25,
   "metadata": {},
   "outputs": [
    {
     "data": {
      "text/html": [
       "<div>\n",
       "<style scoped>\n",
       "    .dataframe tbody tr th:only-of-type {\n",
       "        vertical-align: middle;\n",
       "    }\n",
       "\n",
       "    .dataframe tbody tr th {\n",
       "        vertical-align: top;\n",
       "    }\n",
       "\n",
       "    .dataframe thead th {\n",
       "        text-align: right;\n",
       "    }\n",
       "</style>\n",
       "<table border=\"1\" class=\"dataframe\">\n",
       "  <thead>\n",
       "    <tr style=\"text-align: right;\">\n",
       "      <th></th>\n",
       "      <th>index</th>\n",
       "      <th>children</th>\n",
       "      <th>days_employed</th>\n",
       "      <th>dob_years</th>\n",
       "      <th>education</th>\n",
       "      <th>education_id</th>\n",
       "      <th>family_status</th>\n",
       "      <th>family_status_id</th>\n",
       "      <th>gender</th>\n",
       "      <th>income_type</th>\n",
       "      <th>debt</th>\n",
       "      <th>total_income</th>\n",
       "      <th>purpose</th>\n",
       "    </tr>\n",
       "  </thead>\n",
       "  <tbody>\n",
       "    <tr>\n",
       "      <td>0</td>\n",
       "      <td>0</td>\n",
       "      <td>1</td>\n",
       "      <td>8437</td>\n",
       "      <td>42</td>\n",
       "      <td>высшее</td>\n",
       "      <td>0</td>\n",
       "      <td>женат / замужем</td>\n",
       "      <td>0</td>\n",
       "      <td>F</td>\n",
       "      <td>сотрудник</td>\n",
       "      <td>0</td>\n",
       "      <td>253875</td>\n",
       "      <td>покупка жилья</td>\n",
       "    </tr>\n",
       "    <tr>\n",
       "      <td>1</td>\n",
       "      <td>1</td>\n",
       "      <td>1</td>\n",
       "      <td>4024</td>\n",
       "      <td>36</td>\n",
       "      <td>среднее</td>\n",
       "      <td>1</td>\n",
       "      <td>женат / замужем</td>\n",
       "      <td>0</td>\n",
       "      <td>F</td>\n",
       "      <td>сотрудник</td>\n",
       "      <td>0</td>\n",
       "      <td>112080</td>\n",
       "      <td>приобретение автомобиля</td>\n",
       "    </tr>\n",
       "    <tr>\n",
       "      <td>2</td>\n",
       "      <td>2</td>\n",
       "      <td>0</td>\n",
       "      <td>5623</td>\n",
       "      <td>33</td>\n",
       "      <td>среднее</td>\n",
       "      <td>1</td>\n",
       "      <td>женат / замужем</td>\n",
       "      <td>0</td>\n",
       "      <td>M</td>\n",
       "      <td>сотрудник</td>\n",
       "      <td>0</td>\n",
       "      <td>145885</td>\n",
       "      <td>покупка жилья</td>\n",
       "    </tr>\n",
       "    <tr>\n",
       "      <td>3</td>\n",
       "      <td>3</td>\n",
       "      <td>3</td>\n",
       "      <td>4124</td>\n",
       "      <td>32</td>\n",
       "      <td>среднее</td>\n",
       "      <td>1</td>\n",
       "      <td>женат / замужем</td>\n",
       "      <td>0</td>\n",
       "      <td>M</td>\n",
       "      <td>сотрудник</td>\n",
       "      <td>0</td>\n",
       "      <td>267628</td>\n",
       "      <td>дополнительное образование</td>\n",
       "    </tr>\n",
       "    <tr>\n",
       "      <td>4</td>\n",
       "      <td>4</td>\n",
       "      <td>0</td>\n",
       "      <td>14177</td>\n",
       "      <td>53</td>\n",
       "      <td>среднее</td>\n",
       "      <td>1</td>\n",
       "      <td>гражданский брак</td>\n",
       "      <td>1</td>\n",
       "      <td>F</td>\n",
       "      <td>пенсионер</td>\n",
       "      <td>0</td>\n",
       "      <td>158616</td>\n",
       "      <td>сыграть свадьбу</td>\n",
       "    </tr>\n",
       "    <tr>\n",
       "      <td>...</td>\n",
       "      <td>...</td>\n",
       "      <td>...</td>\n",
       "      <td>...</td>\n",
       "      <td>...</td>\n",
       "      <td>...</td>\n",
       "      <td>...</td>\n",
       "      <td>...</td>\n",
       "      <td>...</td>\n",
       "      <td>...</td>\n",
       "      <td>...</td>\n",
       "      <td>...</td>\n",
       "      <td>...</td>\n",
       "      <td>...</td>\n",
       "    </tr>\n",
       "    <tr>\n",
       "      <td>21466</td>\n",
       "      <td>21520</td>\n",
       "      <td>1</td>\n",
       "      <td>4529</td>\n",
       "      <td>43</td>\n",
       "      <td>среднее</td>\n",
       "      <td>1</td>\n",
       "      <td>гражданский брак</td>\n",
       "      <td>1</td>\n",
       "      <td>F</td>\n",
       "      <td>компаньон</td>\n",
       "      <td>0</td>\n",
       "      <td>224791</td>\n",
       "      <td>операции с жильем</td>\n",
       "    </tr>\n",
       "    <tr>\n",
       "      <td>21467</td>\n",
       "      <td>21521</td>\n",
       "      <td>0</td>\n",
       "      <td>14330</td>\n",
       "      <td>67</td>\n",
       "      <td>среднее</td>\n",
       "      <td>1</td>\n",
       "      <td>женат / замужем</td>\n",
       "      <td>0</td>\n",
       "      <td>F</td>\n",
       "      <td>пенсионер</td>\n",
       "      <td>0</td>\n",
       "      <td>155999</td>\n",
       "      <td>сделка с автомобилем</td>\n",
       "    </tr>\n",
       "    <tr>\n",
       "      <td>21468</td>\n",
       "      <td>21522</td>\n",
       "      <td>1</td>\n",
       "      <td>2113</td>\n",
       "      <td>38</td>\n",
       "      <td>среднее</td>\n",
       "      <td>1</td>\n",
       "      <td>гражданский брак</td>\n",
       "      <td>1</td>\n",
       "      <td>M</td>\n",
       "      <td>сотрудник</td>\n",
       "      <td>1</td>\n",
       "      <td>89672</td>\n",
       "      <td>недвижимость</td>\n",
       "    </tr>\n",
       "    <tr>\n",
       "      <td>21469</td>\n",
       "      <td>21523</td>\n",
       "      <td>3</td>\n",
       "      <td>3112</td>\n",
       "      <td>38</td>\n",
       "      <td>среднее</td>\n",
       "      <td>1</td>\n",
       "      <td>женат / замужем</td>\n",
       "      <td>0</td>\n",
       "      <td>M</td>\n",
       "      <td>сотрудник</td>\n",
       "      <td>1</td>\n",
       "      <td>244093</td>\n",
       "      <td>на покупку своего автомобиля</td>\n",
       "    </tr>\n",
       "    <tr>\n",
       "      <td>21470</td>\n",
       "      <td>21524</td>\n",
       "      <td>2</td>\n",
       "      <td>1984</td>\n",
       "      <td>40</td>\n",
       "      <td>среднее</td>\n",
       "      <td>1</td>\n",
       "      <td>женат / замужем</td>\n",
       "      <td>0</td>\n",
       "      <td>F</td>\n",
       "      <td>сотрудник</td>\n",
       "      <td>0</td>\n",
       "      <td>82047</td>\n",
       "      <td>на покупку автомобиля</td>\n",
       "    </tr>\n",
       "  </tbody>\n",
       "</table>\n",
       "<p>21471 rows × 13 columns</p>\n",
       "</div>"
      ],
      "text/plain": [
       "       index  children  days_employed  dob_years education  education_id  \\\n",
       "0          0         1           8437         42    высшее             0   \n",
       "1          1         1           4024         36   среднее             1   \n",
       "2          2         0           5623         33   среднее             1   \n",
       "3          3         3           4124         32   среднее             1   \n",
       "4          4         0          14177         53   среднее             1   \n",
       "...      ...       ...            ...        ...       ...           ...   \n",
       "21466  21520         1           4529         43   среднее             1   \n",
       "21467  21521         0          14330         67   среднее             1   \n",
       "21468  21522         1           2113         38   среднее             1   \n",
       "21469  21523         3           3112         38   среднее             1   \n",
       "21470  21524         2           1984         40   среднее             1   \n",
       "\n",
       "          family_status  family_status_id gender income_type  debt  \\\n",
       "0       женат / замужем                 0      F   сотрудник     0   \n",
       "1       женат / замужем                 0      F   сотрудник     0   \n",
       "2       женат / замужем                 0      M   сотрудник     0   \n",
       "3       женат / замужем                 0      M   сотрудник     0   \n",
       "4      гражданский брак                 1      F   пенсионер     0   \n",
       "...                 ...               ...    ...         ...   ...   \n",
       "21466  гражданский брак                 1      F   компаньон     0   \n",
       "21467   женат / замужем                 0      F   пенсионер     0   \n",
       "21468  гражданский брак                 1      M   сотрудник     1   \n",
       "21469   женат / замужем                 0      M   сотрудник     1   \n",
       "21470   женат / замужем                 0      F   сотрудник     0   \n",
       "\n",
       "       total_income                       purpose  \n",
       "0            253875                 покупка жилья  \n",
       "1            112080       приобретение автомобиля  \n",
       "2            145885                 покупка жилья  \n",
       "3            267628    дополнительное образование  \n",
       "4            158616               сыграть свадьбу  \n",
       "...             ...                           ...  \n",
       "21466        224791             операции с жильем  \n",
       "21467        155999          сделка с автомобилем  \n",
       "21468         89672                  недвижимость  \n",
       "21469        244093  на покупку своего автомобиля  \n",
       "21470         82047         на покупку автомобиля  \n",
       "\n",
       "[21471 rows x 13 columns]"
      ]
     },
     "execution_count": 25,
     "metadata": {},
     "output_type": "execute_result"
    }
   ],
   "source": [
    "df.drop_duplicates().reset_index()"
   ]
  },
  {
   "cell_type": "markdown",
   "metadata": {},
   "source": [
    "**Вывод**"
   ]
  },
  {
   "cell_type": "markdown",
   "metadata": {},
   "source": [
    "Найдено 54 дубликата. Так как нет идентификационных данных, обработку дубликатов выполнили по целым строкам, а не категориям с изменением индексов и удалением старых."
   ]
  },
  {
   "cell_type": "markdown",
   "metadata": {},
   "source": [
    "### Лемматизация"
   ]
  },
  {
   "cell_type": "code",
   "execution_count": 26,
   "metadata": {},
   "outputs": [],
   "source": [
    "from pymystem3 import Mystem #импортируем библиотеку для лемматизации\n",
    "m = Mystem()"
   ]
  },
  {
   "cell_type": "code",
   "execution_count": 27,
   "metadata": {
    "scrolled": true
   },
   "outputs": [
    {
     "data": {
      "text/plain": [
       "array(['покупка жилья', 'приобретение автомобиля',\n",
       "       'дополнительное образование', 'сыграть свадьбу',\n",
       "       'операции с жильем', 'образование', 'на проведение свадьбы',\n",
       "       'покупка жилья для семьи', 'покупка недвижимости',\n",
       "       'покупка коммерческой недвижимости', 'покупка жилой недвижимости',\n",
       "       'строительство собственной недвижимости', 'недвижимость',\n",
       "       'строительство недвижимости', 'на покупку подержанного автомобиля',\n",
       "       'на покупку своего автомобиля',\n",
       "       'операции с коммерческой недвижимостью',\n",
       "       'строительство жилой недвижимости', 'жилье',\n",
       "       'операции со своей недвижимостью', 'автомобили',\n",
       "       'заняться образованием', 'сделка с подержанным автомобилем',\n",
       "       'получение образования', 'автомобиль', 'свадьба',\n",
       "       'получение дополнительного образования', 'покупка своего жилья',\n",
       "       'операции с недвижимостью', 'получение высшего образования',\n",
       "       'свой автомобиль', 'сделка с автомобилем',\n",
       "       'профильное образование', 'высшее образование',\n",
       "       'покупка жилья для сдачи', 'на покупку автомобиля', 'ремонт жилью',\n",
       "       'заняться высшим образованием'], dtype=object)"
      ]
     },
     "execution_count": 27,
     "metadata": {},
     "output_type": "execute_result"
    }
   ],
   "source": [
    "df['purpose'] = df['purpose'].astype(str)\n",
    "lemma_purpose = df['purpose'].unique() #создаем список из уникальных значений целей кредита,\n",
    "lemma_purpose"
   ]
  },
  {
   "cell_type": "markdown",
   "metadata": {},
   "source": [
    "Для лемматизации каждой строки проходим по списку циклом:"
   ]
  },
  {
   "cell_type": "code",
   "execution_count": 28,
   "metadata": {
    "scrolled": true
   },
   "outputs": [
    {
     "name": "stdout",
     "output_type": "stream",
     "text": [
      "['покупка   жилье \\n', 'приобретение   автомобиль \\n', 'дополнительный   образование \\n', 'сыграть   свадьба \\n', 'операция   с   жилье \\n', 'образование \\n', 'на   проведение   свадьба \\n', 'покупка   жилье   для   семья \\n', 'покупка   недвижимость \\n', 'покупка   коммерческий   недвижимость \\n', 'покупка   жилой   недвижимость \\n', 'строительство   собственный   недвижимость \\n', 'недвижимость \\n', 'строительство   недвижимость \\n', 'на   покупка   подержать   автомобиль \\n', 'на   покупка   свой   автомобиль \\n', 'операция   с   коммерческий   недвижимость \\n', 'строительство   жилой   недвижимость \\n', 'жилье \\n', 'операция   со   свой   недвижимость \\n', 'автомобиль \\n', 'заниматься   образование \\n', 'сделка   с   подержанный   автомобиль \\n', 'получение   образование \\n', 'автомобиль \\n', 'свадьба \\n', 'получение   дополнительный   образование \\n', 'покупка   свой   жилье \\n', 'операция   с   недвижимость \\n', 'получение   высокий   образование \\n', 'свой   автомобиль \\n', 'сделка   с   автомобиль \\n', 'профильный   образование \\n', 'высокий   образование \\n', 'покупка   жилье   для   сдача \\n', 'на   покупка   автомобиль \\n', 'ремонт   жилье \\n', 'заниматься   высокий   образование \\n']\n"
     ]
    }
   ],
   "source": [
    "lemmas = [] # в пустой список добавляем лемматизированные строки из столбца о целях\n",
    "for i in lemma_purpose:\n",
    "    lemma = ' '.join(m.lemmatize(i))\n",
    "    lemmas.append(lemma)\n",
    "print(lemmas)"
   ]
  },
  {
   "cell_type": "markdown",
   "metadata": {},
   "source": [
    "**Вывод**"
   ]
  },
  {
   "cell_type": "markdown",
   "metadata": {},
   "source": [
    "Видим, что цели получения кредита одинаковы, но записаны в разной форме. С помощью лемматизации данных мы категоризируем цели получения кредита."
   ]
  },
  {
   "cell_type": "markdown",
   "metadata": {},
   "source": [
    "### Категоризация данных"
   ]
  },
  {
   "cell_type": "markdown",
   "metadata": {},
   "source": [
    "Цели получения кредита можно разбить на 4 категории: \"недвижимость\", \"автомобтль\", \"образование\", \"свадьба\"."
   ]
  },
  {
   "cell_type": "code",
   "execution_count": 29,
   "metadata": {},
   "outputs": [
    {
     "data": {
      "text/html": [
       "<div>\n",
       "<style scoped>\n",
       "    .dataframe tbody tr th:only-of-type {\n",
       "        vertical-align: middle;\n",
       "    }\n",
       "\n",
       "    .dataframe tbody tr th {\n",
       "        vertical-align: top;\n",
       "    }\n",
       "\n",
       "    .dataframe thead th {\n",
       "        text-align: right;\n",
       "    }\n",
       "</style>\n",
       "<table border=\"1\" class=\"dataframe\">\n",
       "  <thead>\n",
       "    <tr style=\"text-align: right;\">\n",
       "      <th></th>\n",
       "      <th>children</th>\n",
       "      <th>days_employed</th>\n",
       "      <th>dob_years</th>\n",
       "      <th>education</th>\n",
       "      <th>education_id</th>\n",
       "      <th>family_status</th>\n",
       "      <th>family_status_id</th>\n",
       "      <th>gender</th>\n",
       "      <th>income_type</th>\n",
       "      <th>debt</th>\n",
       "      <th>total_income</th>\n",
       "      <th>purpose</th>\n",
       "      <th>purpose_def</th>\n",
       "    </tr>\n",
       "  </thead>\n",
       "  <tbody>\n",
       "    <tr>\n",
       "      <td>0</td>\n",
       "      <td>1</td>\n",
       "      <td>8437</td>\n",
       "      <td>42</td>\n",
       "      <td>высшее</td>\n",
       "      <td>0</td>\n",
       "      <td>женат / замужем</td>\n",
       "      <td>0</td>\n",
       "      <td>F</td>\n",
       "      <td>сотрудник</td>\n",
       "      <td>0</td>\n",
       "      <td>253875</td>\n",
       "      <td>покупка жилья</td>\n",
       "      <td>недвижимость</td>\n",
       "    </tr>\n",
       "    <tr>\n",
       "      <td>1</td>\n",
       "      <td>1</td>\n",
       "      <td>4024</td>\n",
       "      <td>36</td>\n",
       "      <td>среднее</td>\n",
       "      <td>1</td>\n",
       "      <td>женат / замужем</td>\n",
       "      <td>0</td>\n",
       "      <td>F</td>\n",
       "      <td>сотрудник</td>\n",
       "      <td>0</td>\n",
       "      <td>112080</td>\n",
       "      <td>приобретение автомобиля</td>\n",
       "      <td>автомобиль</td>\n",
       "    </tr>\n",
       "    <tr>\n",
       "      <td>2</td>\n",
       "      <td>0</td>\n",
       "      <td>5623</td>\n",
       "      <td>33</td>\n",
       "      <td>среднее</td>\n",
       "      <td>1</td>\n",
       "      <td>женат / замужем</td>\n",
       "      <td>0</td>\n",
       "      <td>M</td>\n",
       "      <td>сотрудник</td>\n",
       "      <td>0</td>\n",
       "      <td>145885</td>\n",
       "      <td>покупка жилья</td>\n",
       "      <td>недвижимость</td>\n",
       "    </tr>\n",
       "    <tr>\n",
       "      <td>3</td>\n",
       "      <td>3</td>\n",
       "      <td>4124</td>\n",
       "      <td>32</td>\n",
       "      <td>среднее</td>\n",
       "      <td>1</td>\n",
       "      <td>женат / замужем</td>\n",
       "      <td>0</td>\n",
       "      <td>M</td>\n",
       "      <td>сотрудник</td>\n",
       "      <td>0</td>\n",
       "      <td>267628</td>\n",
       "      <td>дополнительное образование</td>\n",
       "      <td>образование</td>\n",
       "    </tr>\n",
       "    <tr>\n",
       "      <td>4</td>\n",
       "      <td>0</td>\n",
       "      <td>14177</td>\n",
       "      <td>53</td>\n",
       "      <td>среднее</td>\n",
       "      <td>1</td>\n",
       "      <td>гражданский брак</td>\n",
       "      <td>1</td>\n",
       "      <td>F</td>\n",
       "      <td>пенсионер</td>\n",
       "      <td>0</td>\n",
       "      <td>158616</td>\n",
       "      <td>сыграть свадьбу</td>\n",
       "      <td>свадьба</td>\n",
       "    </tr>\n",
       "    <tr>\n",
       "      <td>5</td>\n",
       "      <td>0</td>\n",
       "      <td>926</td>\n",
       "      <td>27</td>\n",
       "      <td>высшее</td>\n",
       "      <td>0</td>\n",
       "      <td>гражданский брак</td>\n",
       "      <td>1</td>\n",
       "      <td>M</td>\n",
       "      <td>компаньон</td>\n",
       "      <td>0</td>\n",
       "      <td>255763</td>\n",
       "      <td>покупка жилья</td>\n",
       "      <td>недвижимость</td>\n",
       "    </tr>\n",
       "    <tr>\n",
       "      <td>6</td>\n",
       "      <td>0</td>\n",
       "      <td>2879</td>\n",
       "      <td>43</td>\n",
       "      <td>высшее</td>\n",
       "      <td>0</td>\n",
       "      <td>женат / замужем</td>\n",
       "      <td>0</td>\n",
       "      <td>F</td>\n",
       "      <td>компаньон</td>\n",
       "      <td>0</td>\n",
       "      <td>240525</td>\n",
       "      <td>операции с жильем</td>\n",
       "      <td>недвижимость</td>\n",
       "    </tr>\n",
       "    <tr>\n",
       "      <td>7</td>\n",
       "      <td>0</td>\n",
       "      <td>152</td>\n",
       "      <td>50</td>\n",
       "      <td>среднее</td>\n",
       "      <td>1</td>\n",
       "      <td>женат / замужем</td>\n",
       "      <td>0</td>\n",
       "      <td>M</td>\n",
       "      <td>сотрудник</td>\n",
       "      <td>0</td>\n",
       "      <td>135823</td>\n",
       "      <td>образование</td>\n",
       "      <td>образование</td>\n",
       "    </tr>\n",
       "    <tr>\n",
       "      <td>8</td>\n",
       "      <td>2</td>\n",
       "      <td>6929</td>\n",
       "      <td>35</td>\n",
       "      <td>высшее</td>\n",
       "      <td>0</td>\n",
       "      <td>гражданский брак</td>\n",
       "      <td>1</td>\n",
       "      <td>F</td>\n",
       "      <td>сотрудник</td>\n",
       "      <td>0</td>\n",
       "      <td>95856</td>\n",
       "      <td>на проведение свадьбы</td>\n",
       "      <td>свадьба</td>\n",
       "    </tr>\n",
       "    <tr>\n",
       "      <td>9</td>\n",
       "      <td>0</td>\n",
       "      <td>2188</td>\n",
       "      <td>41</td>\n",
       "      <td>среднее</td>\n",
       "      <td>1</td>\n",
       "      <td>женат / замужем</td>\n",
       "      <td>0</td>\n",
       "      <td>M</td>\n",
       "      <td>сотрудник</td>\n",
       "      <td>0</td>\n",
       "      <td>144425</td>\n",
       "      <td>покупка жилья для семьи</td>\n",
       "      <td>недвижимость</td>\n",
       "    </tr>\n",
       "  </tbody>\n",
       "</table>\n",
       "</div>"
      ],
      "text/plain": [
       "   children  days_employed  dob_years education  education_id  \\\n",
       "0         1           8437         42    высшее             0   \n",
       "1         1           4024         36   среднее             1   \n",
       "2         0           5623         33   среднее             1   \n",
       "3         3           4124         32   среднее             1   \n",
       "4         0          14177         53   среднее             1   \n",
       "5         0            926         27    высшее             0   \n",
       "6         0           2879         43    высшее             0   \n",
       "7         0            152         50   среднее             1   \n",
       "8         2           6929         35    высшее             0   \n",
       "9         0           2188         41   среднее             1   \n",
       "\n",
       "      family_status  family_status_id gender income_type  debt  total_income  \\\n",
       "0   женат / замужем                 0      F   сотрудник     0        253875   \n",
       "1   женат / замужем                 0      F   сотрудник     0        112080   \n",
       "2   женат / замужем                 0      M   сотрудник     0        145885   \n",
       "3   женат / замужем                 0      M   сотрудник     0        267628   \n",
       "4  гражданский брак                 1      F   пенсионер     0        158616   \n",
       "5  гражданский брак                 1      M   компаньон     0        255763   \n",
       "6   женат / замужем                 0      F   компаньон     0        240525   \n",
       "7   женат / замужем                 0      M   сотрудник     0        135823   \n",
       "8  гражданский брак                 1      F   сотрудник     0         95856   \n",
       "9   женат / замужем                 0      M   сотрудник     0        144425   \n",
       "\n",
       "                      purpose   purpose_def  \n",
       "0               покупка жилья  недвижимость  \n",
       "1     приобретение автомобиля    автомобиль  \n",
       "2               покупка жилья  недвижимость  \n",
       "3  дополнительное образование   образование  \n",
       "4             сыграть свадьбу       свадьба  \n",
       "5               покупка жилья  недвижимость  \n",
       "6           операции с жильем  недвижимость  \n",
       "7                 образование   образование  \n",
       "8       на проведение свадьбы       свадьба  \n",
       "9     покупка жилья для семьи  недвижимость  "
      ]
     },
     "metadata": {},
     "output_type": "display_data"
    }
   ],
   "source": [
    "def purpose_change(purpose):\n",
    "    lemmas_row = m.lemmatize(purpose)\n",
    "    for i in lemmas_row:\n",
    "        if 'недвиж' in i or 'жил' in i:\n",
    "            return  'недвижимость'\n",
    "        if 'авто' in i:\n",
    "            return 'автомобиль'\n",
    "        if 'образов' in i:\n",
    "            return 'образование'\n",
    "        if 'свад' in i:\n",
    "            return  'свадьба'\n",
    "\n",
    "df['purpose_def']= df['purpose'].apply(purpose_change)        \n",
    "display(df.head(10))"
   ]
  },
  {
   "cell_type": "markdown",
   "metadata": {},
   "source": [
    "Сгруппируем данные по уровню дохода. Так как этот показатель варьирует от 20000р. до 2270000р., отсутствует информация о регионе и среднем уровне дохода в нём, условно разделим кредитуемых на 5 категорий: низкий, средний, выше среднего, высокий, сверхдоход."
   ]
  },
  {
   "cell_type": "code",
   "execution_count": 30,
   "metadata": {},
   "outputs": [
    {
     "data": {
      "text/html": [
       "<div>\n",
       "<style scoped>\n",
       "    .dataframe tbody tr th:only-of-type {\n",
       "        vertical-align: middle;\n",
       "    }\n",
       "\n",
       "    .dataframe tbody tr th {\n",
       "        vertical-align: top;\n",
       "    }\n",
       "\n",
       "    .dataframe thead th {\n",
       "        text-align: right;\n",
       "    }\n",
       "</style>\n",
       "<table border=\"1\" class=\"dataframe\">\n",
       "  <thead>\n",
       "    <tr style=\"text-align: right;\">\n",
       "      <th></th>\n",
       "      <th>children</th>\n",
       "      <th>days_employed</th>\n",
       "      <th>dob_years</th>\n",
       "      <th>education</th>\n",
       "      <th>education_id</th>\n",
       "      <th>family_status</th>\n",
       "      <th>family_status_id</th>\n",
       "      <th>gender</th>\n",
       "      <th>income_type</th>\n",
       "      <th>debt</th>\n",
       "      <th>total_income</th>\n",
       "      <th>purpose</th>\n",
       "      <th>purpose_def</th>\n",
       "      <th>income_group</th>\n",
       "    </tr>\n",
       "  </thead>\n",
       "  <tbody>\n",
       "    <tr>\n",
       "      <td>21515</td>\n",
       "      <td>1</td>\n",
       "      <td>467</td>\n",
       "      <td>28</td>\n",
       "      <td>среднее</td>\n",
       "      <td>1</td>\n",
       "      <td>женат / замужем</td>\n",
       "      <td>0</td>\n",
       "      <td>F</td>\n",
       "      <td>сотрудник</td>\n",
       "      <td>1</td>\n",
       "      <td>109486</td>\n",
       "      <td>заняться образованием</td>\n",
       "      <td>образование</td>\n",
       "      <td>выше среднего</td>\n",
       "    </tr>\n",
       "    <tr>\n",
       "      <td>21516</td>\n",
       "      <td>0</td>\n",
       "      <td>914</td>\n",
       "      <td>42</td>\n",
       "      <td>высшее</td>\n",
       "      <td>0</td>\n",
       "      <td>женат / замужем</td>\n",
       "      <td>0</td>\n",
       "      <td>F</td>\n",
       "      <td>компаньон</td>\n",
       "      <td>0</td>\n",
       "      <td>322807</td>\n",
       "      <td>покупка своего жилья</td>\n",
       "      <td>недвижимость</td>\n",
       "      <td>высокий</td>\n",
       "    </tr>\n",
       "    <tr>\n",
       "      <td>21517</td>\n",
       "      <td>0</td>\n",
       "      <td>404</td>\n",
       "      <td>42</td>\n",
       "      <td>высшее</td>\n",
       "      <td>0</td>\n",
       "      <td>гражданский брак</td>\n",
       "      <td>1</td>\n",
       "      <td>F</td>\n",
       "      <td>компаньон</td>\n",
       "      <td>0</td>\n",
       "      <td>178059</td>\n",
       "      <td>на покупку своего автомобиля</td>\n",
       "      <td>автомобиль</td>\n",
       "      <td>выше среднего</td>\n",
       "    </tr>\n",
       "    <tr>\n",
       "      <td>21518</td>\n",
       "      <td>0</td>\n",
       "      <td>15583</td>\n",
       "      <td>59</td>\n",
       "      <td>среднее</td>\n",
       "      <td>1</td>\n",
       "      <td>женат / замужем</td>\n",
       "      <td>0</td>\n",
       "      <td>F</td>\n",
       "      <td>пенсионер</td>\n",
       "      <td>0</td>\n",
       "      <td>153864</td>\n",
       "      <td>сделка с автомобилем</td>\n",
       "      <td>автомобиль</td>\n",
       "      <td>выше среднего</td>\n",
       "    </tr>\n",
       "    <tr>\n",
       "      <td>21519</td>\n",
       "      <td>1</td>\n",
       "      <td>2351</td>\n",
       "      <td>37</td>\n",
       "      <td>ученая степень</td>\n",
       "      <td>4</td>\n",
       "      <td>в разводе</td>\n",
       "      <td>3</td>\n",
       "      <td>M</td>\n",
       "      <td>сотрудник</td>\n",
       "      <td>0</td>\n",
       "      <td>115949</td>\n",
       "      <td>покупка коммерческой недвижимости</td>\n",
       "      <td>недвижимость</td>\n",
       "      <td>выше среднего</td>\n",
       "    </tr>\n",
       "    <tr>\n",
       "      <td>21520</td>\n",
       "      <td>1</td>\n",
       "      <td>4529</td>\n",
       "      <td>43</td>\n",
       "      <td>среднее</td>\n",
       "      <td>1</td>\n",
       "      <td>гражданский брак</td>\n",
       "      <td>1</td>\n",
       "      <td>F</td>\n",
       "      <td>компаньон</td>\n",
       "      <td>0</td>\n",
       "      <td>224791</td>\n",
       "      <td>операции с жильем</td>\n",
       "      <td>недвижимость</td>\n",
       "      <td>высокий</td>\n",
       "    </tr>\n",
       "    <tr>\n",
       "      <td>21521</td>\n",
       "      <td>0</td>\n",
       "      <td>14330</td>\n",
       "      <td>67</td>\n",
       "      <td>среднее</td>\n",
       "      <td>1</td>\n",
       "      <td>женат / замужем</td>\n",
       "      <td>0</td>\n",
       "      <td>F</td>\n",
       "      <td>пенсионер</td>\n",
       "      <td>0</td>\n",
       "      <td>155999</td>\n",
       "      <td>сделка с автомобилем</td>\n",
       "      <td>автомобиль</td>\n",
       "      <td>выше среднего</td>\n",
       "    </tr>\n",
       "    <tr>\n",
       "      <td>21522</td>\n",
       "      <td>1</td>\n",
       "      <td>2113</td>\n",
       "      <td>38</td>\n",
       "      <td>среднее</td>\n",
       "      <td>1</td>\n",
       "      <td>гражданский брак</td>\n",
       "      <td>1</td>\n",
       "      <td>M</td>\n",
       "      <td>сотрудник</td>\n",
       "      <td>1</td>\n",
       "      <td>89672</td>\n",
       "      <td>недвижимость</td>\n",
       "      <td>недвижимость</td>\n",
       "      <td>средний</td>\n",
       "    </tr>\n",
       "    <tr>\n",
       "      <td>21523</td>\n",
       "      <td>3</td>\n",
       "      <td>3112</td>\n",
       "      <td>38</td>\n",
       "      <td>среднее</td>\n",
       "      <td>1</td>\n",
       "      <td>женат / замужем</td>\n",
       "      <td>0</td>\n",
       "      <td>M</td>\n",
       "      <td>сотрудник</td>\n",
       "      <td>1</td>\n",
       "      <td>244093</td>\n",
       "      <td>на покупку своего автомобиля</td>\n",
       "      <td>автомобиль</td>\n",
       "      <td>высокий</td>\n",
       "    </tr>\n",
       "    <tr>\n",
       "      <td>21524</td>\n",
       "      <td>2</td>\n",
       "      <td>1984</td>\n",
       "      <td>40</td>\n",
       "      <td>среднее</td>\n",
       "      <td>1</td>\n",
       "      <td>женат / замужем</td>\n",
       "      <td>0</td>\n",
       "      <td>F</td>\n",
       "      <td>сотрудник</td>\n",
       "      <td>0</td>\n",
       "      <td>82047</td>\n",
       "      <td>на покупку автомобиля</td>\n",
       "      <td>автомобиль</td>\n",
       "      <td>средний</td>\n",
       "    </tr>\n",
       "  </tbody>\n",
       "</table>\n",
       "</div>"
      ],
      "text/plain": [
       "       children  days_employed  dob_years       education  education_id  \\\n",
       "21515         1            467         28         среднее             1   \n",
       "21516         0            914         42          высшее             0   \n",
       "21517         0            404         42          высшее             0   \n",
       "21518         0          15583         59         среднее             1   \n",
       "21519         1           2351         37  ученая степень             4   \n",
       "21520         1           4529         43         среднее             1   \n",
       "21521         0          14330         67         среднее             1   \n",
       "21522         1           2113         38         среднее             1   \n",
       "21523         3           3112         38         среднее             1   \n",
       "21524         2           1984         40         среднее             1   \n",
       "\n",
       "          family_status  family_status_id gender income_type  debt  \\\n",
       "21515   женат / замужем                 0      F   сотрудник     1   \n",
       "21516   женат / замужем                 0      F   компаньон     0   \n",
       "21517  гражданский брак                 1      F   компаньон     0   \n",
       "21518   женат / замужем                 0      F   пенсионер     0   \n",
       "21519         в разводе                 3      M   сотрудник     0   \n",
       "21520  гражданский брак                 1      F   компаньон     0   \n",
       "21521   женат / замужем                 0      F   пенсионер     0   \n",
       "21522  гражданский брак                 1      M   сотрудник     1   \n",
       "21523   женат / замужем                 0      M   сотрудник     1   \n",
       "21524   женат / замужем                 0      F   сотрудник     0   \n",
       "\n",
       "       total_income                            purpose   purpose_def  \\\n",
       "21515        109486              заняться образованием   образование   \n",
       "21516        322807               покупка своего жилья  недвижимость   \n",
       "21517        178059       на покупку своего автомобиля    автомобиль   \n",
       "21518        153864               сделка с автомобилем    автомобиль   \n",
       "21519        115949  покупка коммерческой недвижимости  недвижимость   \n",
       "21520        224791                  операции с жильем  недвижимость   \n",
       "21521        155999               сделка с автомобилем    автомобиль   \n",
       "21522         89672                       недвижимость  недвижимость   \n",
       "21523        244093       на покупку своего автомобиля    автомобиль   \n",
       "21524         82047              на покупку автомобиля    автомобиль   \n",
       "\n",
       "        income_group  \n",
       "21515  выше среднего  \n",
       "21516        высокий  \n",
       "21517  выше среднего  \n",
       "21518  выше среднего  \n",
       "21519  выше среднего  \n",
       "21520        высокий  \n",
       "21521  выше среднего  \n",
       "21522        средний  \n",
       "21523        высокий  \n",
       "21524        средний  "
      ]
     },
     "execution_count": 30,
     "metadata": {},
     "output_type": "execute_result"
    }
   ],
   "source": [
    "def income_group(x):\n",
    "    \"\"\"\n",
    "    Возвращает категорию дохода\n",
    "    \"\"\"\n",
    "    if x <= 40000:\n",
    "        return 'низкий'\n",
    "    if 40000 < x <= 100000:\n",
    "        return 'средний'\n",
    "    if 100000 < x <= 200000:\n",
    "        return 'выше среднего'\n",
    "    if 200000 < x <= 900000:\n",
    "        return 'высокий'\n",
    "    if x > 900000:\n",
    "        return 'сверхдоход'\n",
    "\n",
    "df['income_group'] = df['total_income'].apply(income_group)\n",
    "df.tail(10)  "
   ]
  },
  {
   "cell_type": "code",
   "execution_count": 31,
   "metadata": {},
   "outputs": [
    {
     "data": {
      "text/plain": [
       "'высокий'"
      ]
     },
     "execution_count": 31,
     "metadata": {},
     "output_type": "execute_result"
    }
   ],
   "source": [
    "income_group(450000) #проверили, функция работает"
   ]
  },
  {
   "cell_type": "markdown",
   "metadata": {},
   "source": [
    "Добавим еще одну колонку, по которой узнаем кредитный статус клиентов."
   ]
  },
  {
   "cell_type": "code",
   "execution_count": 32,
   "metadata": {},
   "outputs": [
    {
     "data": {
      "text/html": [
       "<div>\n",
       "<style scoped>\n",
       "    .dataframe tbody tr th:only-of-type {\n",
       "        vertical-align: middle;\n",
       "    }\n",
       "\n",
       "    .dataframe tbody tr th {\n",
       "        vertical-align: top;\n",
       "    }\n",
       "\n",
       "    .dataframe thead th {\n",
       "        text-align: right;\n",
       "    }\n",
       "</style>\n",
       "<table border=\"1\" class=\"dataframe\">\n",
       "  <thead>\n",
       "    <tr style=\"text-align: right;\">\n",
       "      <th></th>\n",
       "      <th>children</th>\n",
       "      <th>days_employed</th>\n",
       "      <th>dob_years</th>\n",
       "      <th>education</th>\n",
       "      <th>education_id</th>\n",
       "      <th>family_status</th>\n",
       "      <th>family_status_id</th>\n",
       "      <th>gender</th>\n",
       "      <th>income_type</th>\n",
       "      <th>debt</th>\n",
       "      <th>total_income</th>\n",
       "      <th>purpose</th>\n",
       "      <th>purpose_def</th>\n",
       "      <th>income_group</th>\n",
       "      <th>credit_status</th>\n",
       "    </tr>\n",
       "  </thead>\n",
       "  <tbody>\n",
       "    <tr>\n",
       "      <td>0</td>\n",
       "      <td>1</td>\n",
       "      <td>8437</td>\n",
       "      <td>42</td>\n",
       "      <td>высшее</td>\n",
       "      <td>0</td>\n",
       "      <td>женат / замужем</td>\n",
       "      <td>0</td>\n",
       "      <td>F</td>\n",
       "      <td>сотрудник</td>\n",
       "      <td>0</td>\n",
       "      <td>253875</td>\n",
       "      <td>покупка жилья</td>\n",
       "      <td>недвижимость</td>\n",
       "      <td>высокий</td>\n",
       "      <td>надёжный заёмщик</td>\n",
       "    </tr>\n",
       "    <tr>\n",
       "      <td>1</td>\n",
       "      <td>1</td>\n",
       "      <td>4024</td>\n",
       "      <td>36</td>\n",
       "      <td>среднее</td>\n",
       "      <td>1</td>\n",
       "      <td>женат / замужем</td>\n",
       "      <td>0</td>\n",
       "      <td>F</td>\n",
       "      <td>сотрудник</td>\n",
       "      <td>0</td>\n",
       "      <td>112080</td>\n",
       "      <td>приобретение автомобиля</td>\n",
       "      <td>автомобиль</td>\n",
       "      <td>выше среднего</td>\n",
       "      <td>надёжный заёмщик</td>\n",
       "    </tr>\n",
       "    <tr>\n",
       "      <td>2</td>\n",
       "      <td>0</td>\n",
       "      <td>5623</td>\n",
       "      <td>33</td>\n",
       "      <td>среднее</td>\n",
       "      <td>1</td>\n",
       "      <td>женат / замужем</td>\n",
       "      <td>0</td>\n",
       "      <td>M</td>\n",
       "      <td>сотрудник</td>\n",
       "      <td>0</td>\n",
       "      <td>145885</td>\n",
       "      <td>покупка жилья</td>\n",
       "      <td>недвижимость</td>\n",
       "      <td>выше среднего</td>\n",
       "      <td>надёжный заёмщик</td>\n",
       "    </tr>\n",
       "    <tr>\n",
       "      <td>3</td>\n",
       "      <td>3</td>\n",
       "      <td>4124</td>\n",
       "      <td>32</td>\n",
       "      <td>среднее</td>\n",
       "      <td>1</td>\n",
       "      <td>женат / замужем</td>\n",
       "      <td>0</td>\n",
       "      <td>M</td>\n",
       "      <td>сотрудник</td>\n",
       "      <td>0</td>\n",
       "      <td>267628</td>\n",
       "      <td>дополнительное образование</td>\n",
       "      <td>образование</td>\n",
       "      <td>высокий</td>\n",
       "      <td>надёжный заёмщик</td>\n",
       "    </tr>\n",
       "    <tr>\n",
       "      <td>4</td>\n",
       "      <td>0</td>\n",
       "      <td>14177</td>\n",
       "      <td>53</td>\n",
       "      <td>среднее</td>\n",
       "      <td>1</td>\n",
       "      <td>гражданский брак</td>\n",
       "      <td>1</td>\n",
       "      <td>F</td>\n",
       "      <td>пенсионер</td>\n",
       "      <td>0</td>\n",
       "      <td>158616</td>\n",
       "      <td>сыграть свадьбу</td>\n",
       "      <td>свадьба</td>\n",
       "      <td>выше среднего</td>\n",
       "      <td>надёжный заёмщик</td>\n",
       "    </tr>\n",
       "  </tbody>\n",
       "</table>\n",
       "</div>"
      ],
      "text/plain": [
       "   children  days_employed  dob_years education  education_id  \\\n",
       "0         1           8437         42    высшее             0   \n",
       "1         1           4024         36   среднее             1   \n",
       "2         0           5623         33   среднее             1   \n",
       "3         3           4124         32   среднее             1   \n",
       "4         0          14177         53   среднее             1   \n",
       "\n",
       "      family_status  family_status_id gender income_type  debt  total_income  \\\n",
       "0   женат / замужем                 0      F   сотрудник     0        253875   \n",
       "1   женат / замужем                 0      F   сотрудник     0        112080   \n",
       "2   женат / замужем                 0      M   сотрудник     0        145885   \n",
       "3   женат / замужем                 0      M   сотрудник     0        267628   \n",
       "4  гражданский брак                 1      F   пенсионер     0        158616   \n",
       "\n",
       "                      purpose   purpose_def   income_group     credit_status  \n",
       "0               покупка жилья  недвижимость        высокий  надёжный заёмщик  \n",
       "1     приобретение автомобиля    автомобиль  выше среднего  надёжный заёмщик  \n",
       "2               покупка жилья  недвижимость  выше среднего  надёжный заёмщик  \n",
       "3  дополнительное образование   образование        высокий  надёжный заёмщик  \n",
       "4             сыграть свадьбу       свадьба  выше среднего  надёжный заёмщик  "
      ]
     },
     "execution_count": 32,
     "metadata": {},
     "output_type": "execute_result"
    }
   ],
   "source": [
    "def solvency_debt(elem): # функция возвращает категорию кредитного статуса в зависимости от дохода и задолженности\n",
    "    if elem['debt'] == 1:\n",
    "        if elem['income_group'] == 'низкий':\n",
    "            return 'отказать в кредите'\n",
    "        elif elem['income_group'] == 'средний':\n",
    "            return 'запросить подтверждение источника дохода'\n",
    "        elif elem['income_group'] =='выше среднего':\n",
    "            return 'запросить подтверждение источника дохода'\n",
    "        elif elem['income_group'] =='высокий':\n",
    "            return 'предварительно одобрен'\n",
    "        elif elem['income_group'] =='сверхдоход':\n",
    "            return 'одобрен'\n",
    "    return 'надёжный заёмщик'\n",
    "\n",
    "df['credit_status'] = df.apply(solvency_debt, axis=1)\n",
    "df.head()\n",
    "        "
   ]
  },
  {
   "cell_type": "markdown",
   "metadata": {},
   "source": [
    "**Вывод**"
   ]
  },
  {
   "cell_type": "markdown",
   "metadata": {},
   "source": [
    "Путём категоризации мы добавили две колонки с уровнем дохода и кредитным статусом."
   ]
  },
  {
   "cell_type": "markdown",
   "metadata": {},
   "source": [
    "## Шаг 3. Ответьте на вопросы"
   ]
  },
  {
   "cell_type": "markdown",
   "metadata": {},
   "source": [
    "- Есть ли зависимость между наличием детей и возвратом кредита в срок?"
   ]
  },
  {
   "cell_type": "code",
   "execution_count": 33,
   "metadata": {
    "scrolled": false
   },
   "outputs": [
    {
     "data": {
      "text/html": [
       "<div>\n",
       "<style scoped>\n",
       "    .dataframe tbody tr th:only-of-type {\n",
       "        vertical-align: middle;\n",
       "    }\n",
       "\n",
       "    .dataframe tbody tr th {\n",
       "        vertical-align: top;\n",
       "    }\n",
       "\n",
       "    .dataframe thead th {\n",
       "        text-align: right;\n",
       "    }\n",
       "</style>\n",
       "<table border=\"1\" class=\"dataframe\">\n",
       "  <thead>\n",
       "    <tr style=\"text-align: right;\">\n",
       "      <th>children</th>\n",
       "      <th>0</th>\n",
       "      <th>1</th>\n",
       "      <th>2</th>\n",
       "      <th>3</th>\n",
       "      <th>4</th>\n",
       "      <th>5</th>\n",
       "    </tr>\n",
       "    <tr>\n",
       "      <th>debt</th>\n",
       "      <th></th>\n",
       "      <th></th>\n",
       "      <th></th>\n",
       "      <th></th>\n",
       "      <th></th>\n",
       "      <th></th>\n",
       "    </tr>\n",
       "  </thead>\n",
       "  <tbody>\n",
       "    <tr>\n",
       "      <td>0</td>\n",
       "      <td>13086.0</td>\n",
       "      <td>4420.0</td>\n",
       "      <td>1929.0</td>\n",
       "      <td>303.0</td>\n",
       "      <td>37.0</td>\n",
       "      <td>9.0</td>\n",
       "    </tr>\n",
       "    <tr>\n",
       "      <td>1</td>\n",
       "      <td>1063.0</td>\n",
       "      <td>445.0</td>\n",
       "      <td>202.0</td>\n",
       "      <td>27.0</td>\n",
       "      <td>4.0</td>\n",
       "      <td>NaN</td>\n",
       "    </tr>\n",
       "  </tbody>\n",
       "</table>\n",
       "</div>"
      ],
      "text/plain": [
       "children        0       1       2      3     4    5\n",
       "debt                                               \n",
       "0         13086.0  4420.0  1929.0  303.0  37.0  9.0\n",
       "1          1063.0   445.0   202.0   27.0   4.0  NaN"
      ]
     },
     "execution_count": 33,
     "metadata": {},
     "output_type": "execute_result"
    }
   ],
   "source": [
    "dependence_children = df.pivot_table(index='debt', columns='children', values='days_employed', aggfunc='count')\n",
    "dependence_children"
   ]
  },
  {
   "cell_type": "code",
   "execution_count": 34,
   "metadata": {
    "scrolled": true
   },
   "outputs": [
    {
     "name": "stdout",
     "output_type": "stream",
     "text": [
      "Нет детей 7.5%\n"
     ]
    }
   ],
   "source": [
    "no_children = dependence_children[0][1] / (dependence_children[0][0]+ dependence_children[0][1]) * 100\n",
    "print('Нет детей {0:.1f}%'.format(no_children))"
   ]
  },
  {
   "cell_type": "code",
   "execution_count": 35,
   "metadata": {},
   "outputs": [
    {
     "name": "stdout",
     "output_type": "stream",
     "text": [
      "Один ребенок 9.1%\n"
     ]
    }
   ],
   "source": [
    "one_children = dependence_children[1][1] / (dependence_children[1][0] + dependence_children[1][1]) * 100\n",
    "print('Один ребенок {0:.1f}%'.format(one_children))"
   ]
  },
  {
   "cell_type": "code",
   "execution_count": 36,
   "metadata": {},
   "outputs": [
    {
     "name": "stdout",
     "output_type": "stream",
     "text": [
      "Два ребёнка 9.5%\n"
     ]
    }
   ],
   "source": [
    "two_children = dependence_children[2][1] / (dependence_children[2][0] + dependence_children[2][1]) * 100\n",
    "print('Два ребёнка {0:.1f}%'.format(two_children))"
   ]
  },
  {
   "cell_type": "code",
   "execution_count": 37,
   "metadata": {},
   "outputs": [
    {
     "name": "stdout",
     "output_type": "stream",
     "text": [
      "Три ребёнка 8.2%\n"
     ]
    }
   ],
   "source": [
    "three_children = dependence_children[3][1] / (dependence_children[3][0] + dependence_children[3][1]) * 100\n",
    "print('Три ребёнка {0:.1f}%'.format(three_children))"
   ]
  },
  {
   "cell_type": "code",
   "execution_count": 38,
   "metadata": {
    "scrolled": false
   },
   "outputs": [
    {
     "name": "stdout",
     "output_type": "stream",
     "text": [
      "Четыре ребёнка 9.8%\n"
     ]
    }
   ],
   "source": [
    "four_children = dependence_children[4][1] / (dependence_children[4][0] + dependence_children[4][1]) * 100\n",
    "print('Четыре ребёнка {0:.1f}%'.format(four_children))"
   ]
  },
  {
   "cell_type": "markdown",
   "metadata": {},
   "source": [
    "Так как перед нами стоит задача: проверить, есть ли зависимость между наличием детей (а не их количеством) и возвратом кредита в срок. Поэтому мы можем категоризировать клиентов на две группы: 1 - дети есть, 0 - детей нет."
   ]
  },
  {
   "cell_type": "code",
   "execution_count": 65,
   "metadata": {},
   "outputs": [],
   "source": [
    "def determine_children(children): #функция вернёт 1 если дети есть, 0 - детей нет.\n",
    "    if children > 0: \n",
    "        return 1\n",
    "    else: \n",
    "        return 0\n",
    "\n",
    "df['child_exist'] = df['children'].apply(determine_children)"
   ]
  },
  {
   "cell_type": "code",
   "execution_count": 40,
   "metadata": {},
   "outputs": [
    {
     "data": {
      "text/html": [
       "<div>\n",
       "<style scoped>\n",
       "    .dataframe tbody tr th:only-of-type {\n",
       "        vertical-align: middle;\n",
       "    }\n",
       "\n",
       "    .dataframe tbody tr th {\n",
       "        vertical-align: top;\n",
       "    }\n",
       "\n",
       "    .dataframe thead th {\n",
       "        text-align: right;\n",
       "    }\n",
       "</style>\n",
       "<table border=\"1\" class=\"dataframe\">\n",
       "  <thead>\n",
       "    <tr style=\"text-align: right;\">\n",
       "      <th></th>\n",
       "      <th>debt</th>\n",
       "    </tr>\n",
       "    <tr>\n",
       "      <th>child_exist</th>\n",
       "      <th></th>\n",
       "    </tr>\n",
       "  </thead>\n",
       "  <tbody>\n",
       "    <tr>\n",
       "      <td>0</td>\n",
       "      <td>7.51</td>\n",
       "    </tr>\n",
       "    <tr>\n",
       "      <td>1</td>\n",
       "      <td>9.19</td>\n",
       "    </tr>\n",
       "  </tbody>\n",
       "</table>\n",
       "</div>"
      ],
      "text/plain": [
       "             debt\n",
       "child_exist      \n",
       "0            7.51\n",
       "1            9.19"
      ]
     },
     "execution_count": 40,
     "metadata": {},
     "output_type": "execute_result"
    }
   ],
   "source": [
    "round(df.pivot_table(\n",
    "    index='child_exist',\n",
    "    values='debt'\n",
    ") * 100, 2)"
   ]
  },
  {
   "cell_type": "markdown",
   "metadata": {},
   "source": [
    "**Вывод**"
   ]
  },
  {
   "cell_type": "markdown",
   "metadata": {},
   "source": [
    "Наличие детей увеличивает возможность просрочки по кредиту."
   ]
  },
  {
   "cell_type": "markdown",
   "metadata": {},
   "source": [
    "- Есть ли зависимость между семейным положением и возвратом кредита в срок?"
   ]
  },
  {
   "cell_type": "code",
   "execution_count": 41,
   "metadata": {},
   "outputs": [
    {
     "data": {
      "text/html": [
       "<div>\n",
       "<style scoped>\n",
       "    .dataframe tbody tr th:only-of-type {\n",
       "        vertical-align: middle;\n",
       "    }\n",
       "\n",
       "    .dataframe tbody tr th {\n",
       "        vertical-align: top;\n",
       "    }\n",
       "\n",
       "    .dataframe thead th {\n",
       "        text-align: right;\n",
       "    }\n",
       "</style>\n",
       "<table border=\"1\" class=\"dataframe\">\n",
       "  <thead>\n",
       "    <tr style=\"text-align: right;\">\n",
       "      <th>family_status</th>\n",
       "      <th>в разводе</th>\n",
       "      <th>вдовец / вдова</th>\n",
       "      <th>гражданский брак</th>\n",
       "      <th>женат / замужем</th>\n",
       "      <th>не женат / не замужем</th>\n",
       "    </tr>\n",
       "    <tr>\n",
       "      <th>debt</th>\n",
       "      <th></th>\n",
       "      <th></th>\n",
       "      <th></th>\n",
       "      <th></th>\n",
       "      <th></th>\n",
       "    </tr>\n",
       "  </thead>\n",
       "  <tbody>\n",
       "    <tr>\n",
       "      <td>0</td>\n",
       "      <td>1110</td>\n",
       "      <td>897</td>\n",
       "      <td>3789</td>\n",
       "      <td>11449</td>\n",
       "      <td>2539</td>\n",
       "    </tr>\n",
       "    <tr>\n",
       "      <td>1</td>\n",
       "      <td>85</td>\n",
       "      <td>63</td>\n",
       "      <td>388</td>\n",
       "      <td>931</td>\n",
       "      <td>274</td>\n",
       "    </tr>\n",
       "  </tbody>\n",
       "</table>\n",
       "</div>"
      ],
      "text/plain": [
       "family_status  в разводе  вдовец / вдова  гражданский брак  женат / замужем  \\\n",
       "debt                                                                          \n",
       "0                   1110             897              3789            11449   \n",
       "1                     85              63               388              931   \n",
       "\n",
       "family_status  не женат / не замужем  \n",
       "debt                                  \n",
       "0                               2539  \n",
       "1                                274  "
      ]
     },
     "execution_count": 41,
     "metadata": {},
     "output_type": "execute_result"
    }
   ],
   "source": [
    "dependence_family = df.pivot_table(index=['debt'], columns='family_status', values='dob_years', aggfunc='count')\n",
    "dependence_family"
   ]
  },
  {
   "cell_type": "code",
   "execution_count": 42,
   "metadata": {},
   "outputs": [
    {
     "name": "stdout",
     "output_type": "stream",
     "text": [
      "В разводе 7.1%\n"
     ]
    }
   ],
   "source": [
    "fam1 = dependence_family['в разводе'][1] / (dependence_family['в разводе'][0] + dependence_family['в разводе'][1]) * 100\n",
    "print('В разводе {0:.1f}%'.format(fam1))"
   ]
  },
  {
   "cell_type": "code",
   "execution_count": 43,
   "metadata": {},
   "outputs": [
    {
     "name": "stdout",
     "output_type": "stream",
     "text": [
      "Вдовец / вдова 6.6%\n"
     ]
    }
   ],
   "source": [
    "fam2= dependence_family['вдовец / вдова'][1] / (dependence_family['вдовец / вдова'][0] + dependence_family['вдовец / вдова'][1]) * 100\n",
    "print('Вдовец / вдова {0:.1f}%'.format(fam2))"
   ]
  },
  {
   "cell_type": "code",
   "execution_count": 44,
   "metadata": {},
   "outputs": [
    {
     "name": "stdout",
     "output_type": "stream",
     "text": [
      "Гражданский брак 9.3%\n"
     ]
    }
   ],
   "source": [
    "fam3= dependence_family['гражданский брак'][1] / (dependence_family['гражданский брак'][0] + dependence_family['гражданский брак'][1]) * 100\n",
    "print('Гражданский брак {0:.1f}%'.format(fam3))"
   ]
  },
  {
   "cell_type": "code",
   "execution_count": 45,
   "metadata": {},
   "outputs": [
    {
     "name": "stdout",
     "output_type": "stream",
     "text": [
      "Женат / замужем 7.5%\n"
     ]
    }
   ],
   "source": [
    "fam4= dependence_family['женат / замужем'][1] / (dependence_family['женат / замужем'][0] + dependence_family['женат / замужем'][1]) * 100\n",
    "print('Женат / замужем {0:.1f}%'.format(fam4))"
   ]
  },
  {
   "cell_type": "code",
   "execution_count": 46,
   "metadata": {
    "scrolled": true
   },
   "outputs": [
    {
     "name": "stdout",
     "output_type": "stream",
     "text": [
      "Не женат / не замужем 9.7%\n"
     ]
    }
   ],
   "source": [
    "fam5= dependence_family['не женат / не замужем'][1] / (dependence_family['не женат / не замужем'][0] + dependence_family['не женат / не замужем'][1]) * 100\n",
    "print('Не женат / не замужем {0:.1f}%'.format(fam5))"
   ]
  },
  {
   "cell_type": "markdown",
   "metadata": {},
   "source": [
    "Второй вариант сведения:"
   ]
  },
  {
   "cell_type": "code",
   "execution_count": 47,
   "metadata": {},
   "outputs": [
    {
     "data": {
      "text/html": [
       "<div>\n",
       "<style scoped>\n",
       "    .dataframe tbody tr th:only-of-type {\n",
       "        vertical-align: middle;\n",
       "    }\n",
       "\n",
       "    .dataframe tbody tr th {\n",
       "        vertical-align: top;\n",
       "    }\n",
       "\n",
       "    .dataframe thead th {\n",
       "        text-align: right;\n",
       "    }\n",
       "</style>\n",
       "<table border=\"1\" class=\"dataframe\">\n",
       "  <thead>\n",
       "    <tr style=\"text-align: right;\">\n",
       "      <th></th>\n",
       "      <th>debt</th>\n",
       "    </tr>\n",
       "    <tr>\n",
       "      <th>family_status</th>\n",
       "      <th></th>\n",
       "    </tr>\n",
       "  </thead>\n",
       "  <tbody>\n",
       "    <tr>\n",
       "      <td>в разводе</td>\n",
       "      <td>7.11</td>\n",
       "    </tr>\n",
       "    <tr>\n",
       "      <td>вдовец / вдова</td>\n",
       "      <td>6.56</td>\n",
       "    </tr>\n",
       "    <tr>\n",
       "      <td>гражданский брак</td>\n",
       "      <td>9.29</td>\n",
       "    </tr>\n",
       "    <tr>\n",
       "      <td>женат / замужем</td>\n",
       "      <td>7.52</td>\n",
       "    </tr>\n",
       "    <tr>\n",
       "      <td>не женат / не замужем</td>\n",
       "      <td>9.74</td>\n",
       "    </tr>\n",
       "  </tbody>\n",
       "</table>\n",
       "</div>"
      ],
      "text/plain": [
       "                       debt\n",
       "family_status              \n",
       "в разводе              7.11\n",
       "вдовец / вдова         6.56\n",
       "гражданский брак       9.29\n",
       "женат / замужем        7.52\n",
       "не женат / не замужем  9.74"
      ]
     },
     "execution_count": 47,
     "metadata": {},
     "output_type": "execute_result"
    }
   ],
   "source": [
    "round(df.pivot_table(\n",
    "    index='family_status',\n",
    "    values='debt'\n",
    ") * 100, 2)"
   ]
  },
  {
   "cell_type": "markdown",
   "metadata": {},
   "source": [
    "**Вывод**"
   ]
  },
  {
   "cell_type": "markdown",
   "metadata": {},
   "source": [
    "Клиенты банка, находящиеся в статусе \"не женат/не замужем\" и \"гражданский брак\" реже выплачивают кредит в срок."
   ]
  },
  {
   "cell_type": "markdown",
   "metadata": {},
   "source": [
    "- Есть ли зависимость между уровнем дохода и возвратом кредита в срок?"
   ]
  },
  {
   "cell_type": "code",
   "execution_count": 48,
   "metadata": {
    "scrolled": true
   },
   "outputs": [
    {
     "data": {
      "text/html": [
       "<div>\n",
       "<style scoped>\n",
       "    .dataframe tbody tr th:only-of-type {\n",
       "        vertical-align: middle;\n",
       "    }\n",
       "\n",
       "    .dataframe tbody tr th {\n",
       "        vertical-align: top;\n",
       "    }\n",
       "\n",
       "    .dataframe thead th {\n",
       "        text-align: right;\n",
       "    }\n",
       "</style>\n",
       "<table border=\"1\" class=\"dataframe\">\n",
       "  <thead>\n",
       "    <tr style=\"text-align: right;\">\n",
       "      <th>income_group</th>\n",
       "      <th>высокий</th>\n",
       "      <th>выше среднего</th>\n",
       "      <th>низкий</th>\n",
       "      <th>сверхдоход</th>\n",
       "      <th>средний</th>\n",
       "    </tr>\n",
       "    <tr>\n",
       "      <th>debt</th>\n",
       "      <th></th>\n",
       "      <th></th>\n",
       "      <th></th>\n",
       "      <th></th>\n",
       "      <th></th>\n",
       "    </tr>\n",
       "  </thead>\n",
       "  <tbody>\n",
       "    <tr>\n",
       "      <td>0</td>\n",
       "      <td>5084</td>\n",
       "      <td>10558</td>\n",
       "      <td>115</td>\n",
       "      <td>29</td>\n",
       "      <td>3998</td>\n",
       "    </tr>\n",
       "    <tr>\n",
       "      <td>1</td>\n",
       "      <td>380</td>\n",
       "      <td>1005</td>\n",
       "      <td>10</td>\n",
       "      <td>2</td>\n",
       "      <td>344</td>\n",
       "    </tr>\n",
       "  </tbody>\n",
       "</table>\n",
       "</div>"
      ],
      "text/plain": [
       "income_group  высокий  выше среднего  низкий  сверхдоход  средний\n",
       "debt                                                             \n",
       "0                5084          10558     115          29     3998\n",
       "1                 380           1005      10           2      344"
      ]
     },
     "execution_count": 48,
     "metadata": {},
     "output_type": "execute_result"
    }
   ],
   "source": [
    "dependence_income = df.pivot_table(index=['debt'], columns='income_group', values='dob_years', aggfunc='count')\n",
    "dependence_income"
   ]
  },
  {
   "cell_type": "code",
   "execution_count": 54,
   "metadata": {},
   "outputs": [
    {
     "data": {
      "text/html": [
       "<div>\n",
       "<style scoped>\n",
       "    .dataframe tbody tr th:only-of-type {\n",
       "        vertical-align: middle;\n",
       "    }\n",
       "\n",
       "    .dataframe tbody tr th {\n",
       "        vertical-align: top;\n",
       "    }\n",
       "\n",
       "    .dataframe thead th {\n",
       "        text-align: right;\n",
       "    }\n",
       "</style>\n",
       "<table border=\"1\" class=\"dataframe\">\n",
       "  <thead>\n",
       "    <tr style=\"text-align: right;\">\n",
       "      <th></th>\n",
       "      <th>debt</th>\n",
       "    </tr>\n",
       "    <tr>\n",
       "      <th>income_group</th>\n",
       "      <th></th>\n",
       "    </tr>\n",
       "  </thead>\n",
       "  <tbody>\n",
       "    <tr>\n",
       "      <td>высокий</td>\n",
       "      <td>6.95</td>\n",
       "    </tr>\n",
       "    <tr>\n",
       "      <td>выше среднего</td>\n",
       "      <td>8.69</td>\n",
       "    </tr>\n",
       "    <tr>\n",
       "      <td>низкий</td>\n",
       "      <td>8.00</td>\n",
       "    </tr>\n",
       "    <tr>\n",
       "      <td>сверхдоход</td>\n",
       "      <td>6.45</td>\n",
       "    </tr>\n",
       "    <tr>\n",
       "      <td>средний</td>\n",
       "      <td>7.92</td>\n",
       "    </tr>\n",
       "  </tbody>\n",
       "</table>\n",
       "</div>"
      ],
      "text/plain": [
       "               debt\n",
       "income_group       \n",
       "высокий        6.95\n",
       "выше среднего  8.69\n",
       "низкий         8.00\n",
       "сверхдоход     6.45\n",
       "средний        7.92"
      ]
     },
     "execution_count": 54,
     "metadata": {},
     "output_type": "execute_result"
    }
   ],
   "source": [
    "round(df.pivot_table(\n",
    "    index='income_group',\n",
    "    values='debt'\n",
    ") * 100, 2)"
   ]
  },
  {
   "cell_type": "markdown",
   "metadata": {},
   "source": [
    "**Вывод**"
   ]
  },
  {
   "cell_type": "markdown",
   "metadata": {},
   "source": [
    "Клиенты с высоким и сверхдоходом чаще выплачивают кредиты в срок."
   ]
  },
  {
   "cell_type": "markdown",
   "metadata": {},
   "source": [
    "- Как разные цели кредита влияют на его возврат в срок?"
   ]
  },
  {
   "cell_type": "code",
   "execution_count": 55,
   "metadata": {
    "scrolled": true
   },
   "outputs": [
    {
     "data": {
      "text/html": [
       "<div>\n",
       "<style scoped>\n",
       "    .dataframe tbody tr th:only-of-type {\n",
       "        vertical-align: middle;\n",
       "    }\n",
       "\n",
       "    .dataframe tbody tr th {\n",
       "        vertical-align: top;\n",
       "    }\n",
       "\n",
       "    .dataframe thead th {\n",
       "        text-align: right;\n",
       "    }\n",
       "</style>\n",
       "<table border=\"1\" class=\"dataframe\">\n",
       "  <thead>\n",
       "    <tr style=\"text-align: right;\">\n",
       "      <th>purpose_def</th>\n",
       "      <th>автомобиль</th>\n",
       "      <th>недвижимость</th>\n",
       "      <th>образование</th>\n",
       "      <th>свадьба</th>\n",
       "    </tr>\n",
       "    <tr>\n",
       "      <th>debt</th>\n",
       "      <th></th>\n",
       "      <th></th>\n",
       "      <th></th>\n",
       "      <th></th>\n",
       "    </tr>\n",
       "  </thead>\n",
       "  <tbody>\n",
       "    <tr>\n",
       "      <td>0</td>\n",
       "      <td>3912</td>\n",
       "      <td>10058</td>\n",
       "      <td>3652</td>\n",
       "      <td>2162</td>\n",
       "    </tr>\n",
       "    <tr>\n",
       "      <td>1</td>\n",
       "      <td>403</td>\n",
       "      <td>782</td>\n",
       "      <td>370</td>\n",
       "      <td>186</td>\n",
       "    </tr>\n",
       "  </tbody>\n",
       "</table>\n",
       "</div>"
      ],
      "text/plain": [
       "purpose_def  автомобиль  недвижимость  образование  свадьба\n",
       "debt                                                       \n",
       "0                  3912         10058         3652     2162\n",
       "1                   403           782          370      186"
      ]
     },
     "execution_count": 55,
     "metadata": {},
     "output_type": "execute_result"
    }
   ],
   "source": [
    "dependence_purpose = df.pivot_table(index=['debt'], columns='purpose_def', values='dob_years', aggfunc='count')\n",
    "dependence_purpose"
   ]
  },
  {
   "cell_type": "code",
   "execution_count": 60,
   "metadata": {},
   "outputs": [
    {
     "data": {
      "text/html": [
       "<div>\n",
       "<style scoped>\n",
       "    .dataframe tbody tr th:only-of-type {\n",
       "        vertical-align: middle;\n",
       "    }\n",
       "\n",
       "    .dataframe tbody tr th {\n",
       "        vertical-align: top;\n",
       "    }\n",
       "\n",
       "    .dataframe thead th {\n",
       "        text-align: right;\n",
       "    }\n",
       "</style>\n",
       "<table border=\"1\" class=\"dataframe\">\n",
       "  <thead>\n",
       "    <tr style=\"text-align: right;\">\n",
       "      <th></th>\n",
       "      <th>debt</th>\n",
       "    </tr>\n",
       "    <tr>\n",
       "      <th>purpose_def</th>\n",
       "      <th></th>\n",
       "    </tr>\n",
       "  </thead>\n",
       "  <tbody>\n",
       "    <tr>\n",
       "      <td>автомобиль</td>\n",
       "      <td>9.34</td>\n",
       "    </tr>\n",
       "    <tr>\n",
       "      <td>недвижимость</td>\n",
       "      <td>7.21</td>\n",
       "    </tr>\n",
       "    <tr>\n",
       "      <td>образование</td>\n",
       "      <td>9.20</td>\n",
       "    </tr>\n",
       "    <tr>\n",
       "      <td>свадьба</td>\n",
       "      <td>7.92</td>\n",
       "    </tr>\n",
       "  </tbody>\n",
       "</table>\n",
       "</div>"
      ],
      "text/plain": [
       "              debt\n",
       "purpose_def       \n",
       "автомобиль    9.34\n",
       "недвижимость  7.21\n",
       "образование   9.20\n",
       "свадьба       7.92"
      ]
     },
     "execution_count": 60,
     "metadata": {},
     "output_type": "execute_result"
    }
   ],
   "source": [
    "round(df.pivot_table(\n",
    "    index='purpose_def',\n",
    "    values='debt'\n",
    ") * 100, 2)"
   ]
  },
  {
   "cell_type": "markdown",
   "metadata": {},
   "source": [
    "**Вывод**"
   ]
  },
  {
   "cell_type": "markdown",
   "metadata": {},
   "source": [
    "Клиенты, взявшие кредит на автомобиль и образование реже выплачивают кредит в срок"
   ]
  },
  {
   "cell_type": "markdown",
   "metadata": {},
   "source": [
    "<div class=\"alert alert-success\">\n",
    "<b>Комментарий ревьюера (2):</b>\n",
    "\n",
    "Классный график получился 👍\n",
    "    \n",
    "В целом в следующих спринтах у тебя будет возможность потренироваться в визуализации, бины обычно 25 или 50, или ничего не ставят.\n",
    "    \n",
    "</div>"
   ]
  },
  {
   "cell_type": "code",
   "execution_count": 61,
   "metadata": {},
   "outputs": [],
   "source": [
    "import matplotlib.pyplot as plt\n",
    "from matplotlib import colors"
   ]
  },
  {
   "cell_type": "code",
   "execution_count": 62,
   "metadata": {},
   "outputs": [
    {
     "data": {
      "image/png": "[encoded data removed]",
      "text/plain": [
       "<Figure size 432x288 with 1 Axes>"
      ]
     },
     "metadata": {
      "needs_background": "light"
     },
     "output_type": "display_data"
    }
   ],
   "source": [
    "plt.hist(df['dob_years'], color = 'blue', edgecolor = 'black',\n",
    "         bins = int(80/3))\n",
    "plt.xlabel('$Возраст, лет$')\n",
    "plt.ylabel('$Клиенты, чел.$')\n",
    "plt.title('Гистограмма возраста клиентов')\n",
    "plt.show()"
   ]
  },
  {
   "cell_type": "markdown",
   "metadata": {},
   "source": [
    "## Шаг 4. Общий вывод"
   ]
  },
  {
   "cell_type": "markdown",
   "metadata": {},
   "source": [
    "Датафрейм показывает информацию о 21525 клиентах, каждый описывается 12 признаками.\n",
    "Имеются пропущенные значения по общему трудовому стажу ('days_employed') и ежемесячному доходу ('total_income') у 2174 клиентов, там же содержатся данные вещественного типа. Значения уровня образования и семейного статуса указаны и прописными буквами, и строчными. Обнаружены некоректные данные в виде отрицательных и нулевых значений.  \n",
    "  \n",
    "Для исправления пропущенных значений в столбце трудовом стаже мы использовали средний трудовой стаж, так как это значение при дальнейшей работе маловажен, о доходе - среднее значение по котегориям: пол, образование, тип дохода. Исправили некорректные давнные о количестве детей в семьях и возрасте клиентов, привели к нижнему регистру данные об образовании ('education') и семейном статусе ('family_status'), преобразоали вещественный тип данных в целый. Так же обнаружили 54 полных дубликата и удалили их. \n",
    "  \n",
    "Для работы с колонкой о целях получения кредита использовали лемматизацию, выявили множество различных формулировок, описывающих одинаковые цели.\n",
    "С помощью лемматизации нам удалось категоризировать данные на на 4 основные цели: \"недвижимость\", \"автомобтль\", \"образование\", \"свадьба\". Для удобства работы с датафреймом так же категоризировали данные об уровне дохода на 5 категорий: низкий(до 40000р.), средний(40000-100000р.), выше среднего(100000-200000р.), высокий(200000-900000р.), сверхдоход(от 900000р.) и определили кредитный статус клиента, где \"надёжный заёмщик\" - клиенты, не имеющие просрочек по кредитам, \"отказать в кредите\" - клиенты, имеющие просрочки по кредитам и низкий доход, \"запросить подтверждение источника доходов\" - клиенты, имеющие просрочки по кредитам и средний и выше среднего уровень дохода, \"предварительно одобрен\" - клиенты, имеющие просрочки по кредитам и высокий уровень дохода, \"одобрен\" - клиенты, имеющие просрочки по кредитам и сверхдоход.\n",
    "  \n",
    "Применив сводные таблицы, мы вычислили долю клиентов имеющих задолженность по кредиту в зависимости от налиция детей, семейного положения, уровня дохода и целей получения кредита и выяснили, что:\n",
    "1. Наличие детей увеличивает вероятность задолженности по сравнению с отсутствием детей у клиента: 9,2% против 7,5% соответственно.\n",
    "2. Семейное положение так же влияет на вероятность задолженности. Клиенты, находящиеся не в браке или в гражданском браке являются менее надёжными заёмщиками: 9,8% и 9,3% соответственно. Самые надежные заёмщики - клиенты из категории \"вдовец/вдова\" (6,6%).\n",
    "3. Клиенты со сверх и высоким уровнем дохода с меньшей вероятностью попадают в список ненадёжных заёмщиков: 6,5% и 7% соответственно. Как ни странно, менее охотно своевременные выплаты производят клиенты с уровнем дохода выше среднего - 8,7%.\n",
    "4. Низкая вероятность задолженности у клиентов, которые берут кредит для операций с недвижимостью (7,2%) и свадьбу (8%). Самая высокая вероятность задолженности у клиентов, взявших кредит на автомобиль (9,3%)."
   ]
  }
 ],
 "metadata": {
  "ExecuteTimeLog": [
   {
    "duration": 896,
    "start_time": "2021-11-14T13:22:52.757Z"
   },
   {
    "duration": 294,
    "start_time": "2021-11-14T13:23:22.110Z"
   },
   {
    "duration": 1546,
    "start_time": "2021-11-14T13:24:42.240Z"
   },
   {
    "duration": 70,
    "start_time": "2021-11-14T13:24:54.592Z"
   },
   {
    "duration": 62,
    "start_time": "2021-11-14T13:25:35.797Z"
   },
   {
    "duration": 66,
    "start_time": "2021-11-14T13:30:03.599Z"
   },
   {
    "duration": 63,
    "start_time": "2021-11-14T13:31:04.696Z"
   },
   {
    "duration": 64,
    "start_time": "2021-11-14T13:31:25.368Z"
   },
   {
    "duration": 68,
    "start_time": "2021-11-14T13:31:40.981Z"
   },
   {
    "duration": 71,
    "start_time": "2021-11-14T13:32:49.837Z"
   },
   {
    "duration": 62,
    "start_time": "2021-11-14T13:34:09.704Z"
   },
   {
    "duration": 51,
    "start_time": "2021-11-14T13:50:12.382Z"
   },
   {
    "duration": 65,
    "start_time": "2021-11-14T13:52:15.821Z"
   },
   {
    "duration": 57,
    "start_time": "2021-11-14T13:52:26.563Z"
   },
   {
    "duration": 596,
    "start_time": "2021-11-14T13:52:43.495Z"
   },
   {
    "duration": 61,
    "start_time": "2021-11-14T13:52:58.097Z"
   },
   {
    "duration": 57,
    "start_time": "2021-11-14T13:53:14.050Z"
   },
   {
    "duration": 62,
    "start_time": "2021-11-14T13:53:38.505Z"
   },
   {
    "duration": 51,
    "start_time": "2021-11-14T13:54:15.066Z"
   },
   {
    "duration": 389,
    "start_time": "2021-11-14T13:58:56.685Z"
   },
   {
    "duration": 59,
    "start_time": "2021-11-14T13:59:18.821Z"
   },
   {
    "duration": 323,
    "start_time": "2021-11-14T13:59:35.629Z"
   },
   {
    "duration": 350,
    "start_time": "2021-11-14T13:59:45.431Z"
   },
   {
    "duration": 348,
    "start_time": "2021-11-14T14:00:08.363Z"
   },
   {
    "duration": 63,
    "start_time": "2021-11-14T14:00:29.869Z"
   },
   {
    "duration": 58,
    "start_time": "2021-11-14T14:01:17.678Z"
   },
   {
    "duration": 65,
    "start_time": "2021-11-14T14:01:25.109Z"
   },
   {
    "duration": 8,
    "start_time": "2021-11-14T14:02:21.715Z"
   },
   {
    "duration": 7428,
    "start_time": "2021-11-14T14:02:26.952Z"
   },
   {
    "duration": 7123,
    "start_time": "2021-11-14T14:02:35.857Z"
   },
   {
    "duration": 58,
    "start_time": "2021-11-14T14:02:53.957Z"
   },
   {
    "duration": 51,
    "start_time": "2021-11-14T14:03:48.860Z"
   },
   {
    "duration": 60,
    "start_time": "2021-11-14T14:04:06.002Z"
   },
   {
    "duration": 59,
    "start_time": "2021-11-14T14:04:18.872Z"
   },
   {
    "duration": 63,
    "start_time": "2021-11-14T14:05:38.827Z"
   },
   {
    "duration": 905,
    "start_time": "2021-11-16T11:37:15.983Z"
   },
   {
    "duration": 97,
    "start_time": "2021-11-16T11:46:33.442Z"
   },
   {
    "duration": 16,
    "start_time": "2021-11-16T11:49:48.423Z"
   },
   {
    "duration": 89,
    "start_time": "2021-11-16T11:57:53.265Z"
   },
   {
    "duration": 16,
    "start_time": "2021-11-16T11:58:00.488Z"
   },
   {
    "duration": 77,
    "start_time": "2021-11-16T11:58:12.674Z"
   },
   {
    "duration": 15,
    "start_time": "2021-11-16T11:58:17.452Z"
   },
   {
    "duration": 22,
    "start_time": "2021-11-16T12:04:40.328Z"
   },
   {
    "duration": 42,
    "start_time": "2021-11-16T12:05:12.925Z"
   },
   {
    "duration": 22,
    "start_time": "2021-11-16T12:05:29.579Z"
   },
   {
    "duration": 13,
    "start_time": "2021-11-16T12:12:17.272Z"
   },
   {
    "duration": 31,
    "start_time": "2021-11-16T12:28:14.581Z"
   },
   {
    "duration": 13,
    "start_time": "2021-11-16T12:28:25.065Z"
   },
   {
    "duration": 489,
    "start_time": "2021-11-16T12:34:05.022Z"
   },
   {
    "duration": 6,
    "start_time": "2021-11-16T12:39:49.682Z"
   },
   {
    "duration": 22,
    "start_time": "2021-11-16T12:40:01.030Z"
   },
   {
    "duration": 8,
    "start_time": "2021-11-16T12:41:30.227Z"
   },
   {
    "duration": 27,
    "start_time": "2021-11-16T12:41:43.546Z"
   },
   {
    "duration": 24,
    "start_time": "2021-11-16T12:46:48.565Z"
   },
   {
    "duration": 50,
    "start_time": "2021-11-16T12:46:54.327Z"
   },
   {
    "duration": 89,
    "start_time": "2021-11-16T12:47:03.384Z"
   },
   {
    "duration": 85,
    "start_time": "2021-11-16T12:48:02.932Z"
   },
   {
    "duration": 1143,
    "start_time": "2021-11-16T12:48:14.584Z"
   },
   {
    "duration": 21,
    "start_time": "2021-11-16T12:48:15.730Z"
   },
   {
    "duration": 17,
    "start_time": "2021-11-16T12:48:15.755Z"
   },
   {
    "duration": 24,
    "start_time": "2021-11-16T12:48:15.800Z"
   },
   {
    "duration": 7,
    "start_time": "2021-11-16T12:56:57.384Z"
   },
   {
    "duration": 24,
    "start_time": "2021-11-16T13:01:29.801Z"
   },
   {
    "duration": 496,
    "start_time": "2021-11-16T13:14:08.734Z"
   },
   {
    "duration": 882,
    "start_time": "2021-11-16T13:14:16.866Z"
   },
   {
    "duration": 22,
    "start_time": "2021-11-16T13:14:17.751Z"
   },
   {
    "duration": 43,
    "start_time": "2021-11-16T13:14:17.777Z"
   },
   {
    "duration": 46,
    "start_time": "2021-11-16T13:14:17.823Z"
   },
   {
    "duration": 40,
    "start_time": "2021-11-16T13:14:17.872Z"
   },
   {
    "duration": 16,
    "start_time": "2021-11-16T13:20:22.618Z"
   },
   {
    "duration": 845,
    "start_time": "2021-11-16T15:00:48.117Z"
   },
   {
    "duration": 20,
    "start_time": "2021-11-16T15:01:55.982Z"
   },
   {
    "duration": 26,
    "start_time": "2021-11-16T15:02:10.401Z"
   },
   {
    "duration": 19,
    "start_time": "2021-11-16T15:02:39.974Z"
   },
   {
    "duration": 7,
    "start_time": "2021-11-16T15:07:23.656Z"
   },
   {
    "duration": 35,
    "start_time": "2021-11-16T15:10:35.470Z"
   },
   {
    "duration": 2565,
    "start_time": "2021-11-16T15:11:12.594Z"
   },
   {
    "duration": 2469,
    "start_time": "2021-11-16T15:11:27.689Z"
   },
   {
    "duration": 9,
    "start_time": "2021-11-16T15:12:11.883Z"
   },
   {
    "duration": 405,
    "start_time": "2021-11-16T15:32:03.036Z"
   },
   {
    "duration": 950,
    "start_time": "2021-11-16T15:32:17.619Z"
   },
   {
    "duration": 29,
    "start_time": "2021-11-16T15:32:18.573Z"
   },
   {
    "duration": 19,
    "start_time": "2021-11-16T15:32:18.606Z"
   },
   {
    "duration": 30,
    "start_time": "2021-11-16T15:32:18.629Z"
   },
   {
    "duration": 540,
    "start_time": "2021-11-16T15:32:18.661Z"
   },
   {
    "duration": 29,
    "start_time": "2021-11-16T15:32:19.174Z"
   },
   {
    "duration": 24,
    "start_time": "2021-11-16T15:32:19.180Z"
   },
   {
    "duration": 23,
    "start_time": "2021-11-16T15:32:19.184Z"
   },
   {
    "duration": 20,
    "start_time": "2021-11-16T15:32:19.188Z"
   },
   {
    "duration": 21,
    "start_time": "2021-11-16T15:33:29.522Z"
   },
   {
    "duration": 21,
    "start_time": "2021-11-16T15:34:04.752Z"
   },
   {
    "duration": 9815,
    "start_time": "2021-11-16T15:36:37.520Z"
   },
   {
    "duration": 21,
    "start_time": "2021-11-16T15:36:54.615Z"
   },
   {
    "duration": 411,
    "start_time": "2021-11-16T15:37:24.879Z"
   },
   {
    "duration": 20,
    "start_time": "2021-11-16T15:37:36.661Z"
   },
   {
    "duration": 131,
    "start_time": "2021-11-16T15:39:09.133Z"
   },
   {
    "duration": 15,
    "start_time": "2021-11-16T15:39:13.684Z"
   },
   {
    "duration": 10,
    "start_time": "2021-11-16T15:39:35.524Z"
   },
   {
    "duration": 7,
    "start_time": "2021-11-16T15:48:21.803Z"
   },
   {
    "duration": 11,
    "start_time": "2021-11-16T16:04:52.947Z"
   },
   {
    "duration": 400,
    "start_time": "2021-11-16T16:14:24.034Z"
   },
   {
    "duration": 389,
    "start_time": "2021-11-16T16:14:42.338Z"
   },
   {
    "duration": 423,
    "start_time": "2021-11-17T09:21:58.017Z"
   },
   {
    "duration": 856,
    "start_time": "2021-11-17T09:22:22.975Z"
   },
   {
    "duration": 14,
    "start_time": "2021-11-17T09:23:36.366Z"
   },
   {
    "duration": 23,
    "start_time": "2021-11-17T10:30:05.941Z"
   },
   {
    "duration": 21,
    "start_time": "2021-11-17T10:30:15.135Z"
   },
   {
    "duration": 9,
    "start_time": "2021-11-17T10:33:14.057Z"
   },
   {
    "duration": 9,
    "start_time": "2021-11-17T10:33:23.267Z"
   },
   {
    "duration": 8,
    "start_time": "2021-11-17T10:33:43.440Z"
   },
   {
    "duration": 12,
    "start_time": "2021-11-17T10:33:54.891Z"
   },
   {
    "duration": 10,
    "start_time": "2021-11-17T10:43:47.739Z"
   },
   {
    "duration": 421,
    "start_time": "2021-11-17T10:55:43.008Z"
   },
   {
    "duration": 10,
    "start_time": "2021-11-17T10:56:27.382Z"
   },
   {
    "duration": 7,
    "start_time": "2021-11-17T11:03:00.098Z"
   },
   {
    "duration": 30,
    "start_time": "2021-11-17T11:03:21.860Z"
   },
   {
    "duration": 162,
    "start_time": "2021-11-17T11:03:52.600Z"
   },
   {
    "duration": 50,
    "start_time": "2021-11-17T11:04:12.899Z"
   },
   {
    "duration": 494,
    "start_time": "2021-11-17T11:04:59.924Z"
   },
   {
    "duration": 108,
    "start_time": "2021-11-17T11:05:05.629Z"
   },
   {
    "duration": 305,
    "start_time": "2021-11-17T11:05:18.171Z"
   },
   {
    "duration": 346,
    "start_time": "2021-11-17T11:05:49.206Z"
   },
   {
    "duration": 329,
    "start_time": "2021-11-17T11:06:02.551Z"
   },
   {
    "duration": 33,
    "start_time": "2021-11-17T11:06:18.613Z"
   },
   {
    "duration": 345,
    "start_time": "2021-11-17T11:10:05.977Z"
   },
   {
    "duration": 351,
    "start_time": "2021-11-17T11:10:14.041Z"
   },
   {
    "duration": 332,
    "start_time": "2021-11-17T11:10:35.552Z"
   },
   {
    "duration": 319,
    "start_time": "2021-11-17T11:12:36.325Z"
   },
   {
    "duration": 327,
    "start_time": "2021-11-17T11:20:53.065Z"
   },
   {
    "duration": 1291,
    "start_time": "2021-11-17T11:21:03.305Z"
   },
   {
    "duration": 16,
    "start_time": "2021-11-17T11:21:04.599Z"
   },
   {
    "duration": 13,
    "start_time": "2021-11-17T11:21:04.618Z"
   },
   {
    "duration": 14,
    "start_time": "2021-11-17T11:21:04.633Z"
   },
   {
    "duration": 20,
    "start_time": "2021-11-17T11:21:04.681Z"
   },
   {
    "duration": 14,
    "start_time": "2021-11-17T11:21:04.705Z"
   },
   {
    "duration": 6,
    "start_time": "2021-11-17T11:21:04.722Z"
   },
   {
    "duration": 10,
    "start_time": "2021-11-17T11:21:04.731Z"
   },
   {
    "duration": 32,
    "start_time": "2021-11-17T11:21:04.783Z"
   },
   {
    "duration": 10,
    "start_time": "2021-11-17T11:21:04.818Z"
   },
   {
    "duration": 133,
    "start_time": "2021-11-17T11:21:04.831Z"
   },
   {
    "duration": -337,
    "start_time": "2021-11-17T11:21:05.303Z"
   },
   {
    "duration": 13,
    "start_time": "2021-11-17T11:21:42.877Z"
   },
   {
    "duration": 7,
    "start_time": "2021-11-17T11:22:00.763Z"
   },
   {
    "duration": 33,
    "start_time": "2021-11-17T11:22:21.939Z"
   },
   {
    "duration": 84,
    "start_time": "2021-11-17T11:25:05.034Z"
   },
   {
    "duration": 83,
    "start_time": "2021-11-17T11:25:12.997Z"
   },
   {
    "duration": 38,
    "start_time": "2021-11-17T11:25:28.001Z"
   },
   {
    "duration": 13,
    "start_time": "2021-11-17T11:28:46.520Z"
   },
   {
    "duration": 13,
    "start_time": "2021-11-17T11:29:45.629Z"
   },
   {
    "duration": 31,
    "start_time": "2021-11-17T11:29:58.263Z"
   },
   {
    "duration": 851,
    "start_time": "2021-11-17T11:35:51.216Z"
   },
   {
    "duration": 18,
    "start_time": "2021-11-17T11:35:52.070Z"
   },
   {
    "duration": 13,
    "start_time": "2021-11-17T11:35:52.092Z"
   },
   {
    "duration": 13,
    "start_time": "2021-11-17T11:35:52.109Z"
   },
   {
    "duration": 71,
    "start_time": "2021-11-17T11:35:52.125Z"
   },
   {
    "duration": 17,
    "start_time": "2021-11-17T11:35:52.200Z"
   },
   {
    "duration": 13,
    "start_time": "2021-11-17T11:35:52.219Z"
   },
   {
    "duration": 7,
    "start_time": "2021-11-17T11:35:52.235Z"
   },
   {
    "duration": 45,
    "start_time": "2021-11-17T11:35:52.244Z"
   },
   {
    "duration": 37,
    "start_time": "2021-11-17T11:35:52.291Z"
   },
   {
    "duration": 10,
    "start_time": "2021-11-17T11:35:52.330Z"
   },
   {
    "duration": 46,
    "start_time": "2021-11-17T11:35:52.343Z"
   },
   {
    "duration": 139,
    "start_time": "2021-11-17T11:35:52.391Z"
   },
   {
    "duration": -441,
    "start_time": "2021-11-17T11:35:52.974Z"
   },
   {
    "duration": 102,
    "start_time": "2021-11-17T11:47:13.153Z"
   },
   {
    "duration": 31,
    "start_time": "2021-11-17T11:48:51.515Z"
   },
   {
    "duration": 1226,
    "start_time": "2021-11-17T11:56:22.158Z"
   },
   {
    "duration": 17,
    "start_time": "2021-11-17T11:56:23.387Z"
   },
   {
    "duration": 13,
    "start_time": "2021-11-17T11:56:23.408Z"
   },
   {
    "duration": 71,
    "start_time": "2021-11-17T11:56:23.425Z"
   },
   {
    "duration": 14,
    "start_time": "2021-11-17T11:56:23.499Z"
   },
   {
    "duration": 15,
    "start_time": "2021-11-17T11:56:23.516Z"
   },
   {
    "duration": 11,
    "start_time": "2021-11-17T11:56:23.533Z"
   },
   {
    "duration": 15,
    "start_time": "2021-11-17T11:56:23.585Z"
   },
   {
    "duration": 31,
    "start_time": "2021-11-17T11:56:23.603Z"
   },
   {
    "duration": 122,
    "start_time": "2021-11-17T11:56:23.637Z"
   },
   {
    "duration": 21,
    "start_time": "2021-11-17T11:56:23.762Z"
   },
   {
    "duration": 1130,
    "start_time": "2021-11-17T11:56:23.786Z"
   },
   {
    "duration": 87,
    "start_time": "2021-11-17T11:56:31.040Z"
   },
   {
    "duration": 22,
    "start_time": "2021-11-17T11:58:18.850Z"
   },
   {
    "duration": 32,
    "start_time": "2021-11-17T11:58:56.577Z"
   },
   {
    "duration": 13,
    "start_time": "2021-11-17T11:59:13.492Z"
   },
   {
    "duration": 27,
    "start_time": "2021-11-17T11:59:30.063Z"
   },
   {
    "duration": 12,
    "start_time": "2021-11-17T11:59:33.158Z"
   },
   {
    "duration": 10,
    "start_time": "2021-11-17T12:00:00.485Z"
   },
   {
    "duration": 1129,
    "start_time": "2021-11-17T12:00:31.102Z"
   },
   {
    "duration": 21,
    "start_time": "2021-11-17T12:00:32.234Z"
   },
   {
    "duration": 34,
    "start_time": "2021-11-17T12:00:32.258Z"
   },
   {
    "duration": 29,
    "start_time": "2021-11-17T12:00:32.296Z"
   },
   {
    "duration": 14,
    "start_time": "2021-11-17T12:00:32.328Z"
   },
   {
    "duration": 55,
    "start_time": "2021-11-17T12:00:32.344Z"
   },
   {
    "duration": 8,
    "start_time": "2021-11-17T12:00:32.402Z"
   },
   {
    "duration": 72,
    "start_time": "2021-11-17T12:00:32.413Z"
   },
   {
    "duration": 13,
    "start_time": "2021-11-17T12:00:32.489Z"
   },
   {
    "duration": 27,
    "start_time": "2021-11-17T12:00:32.505Z"
   },
   {
    "duration": 638,
    "start_time": "2021-11-17T12:00:32.550Z"
   },
   {
    "duration": 6,
    "start_time": "2021-11-17T12:03:15.527Z"
   },
   {
    "duration": 8,
    "start_time": "2021-11-17T12:03:20.512Z"
   },
   {
    "duration": 30,
    "start_time": "2021-11-17T12:11:39.377Z"
   },
   {
    "duration": 33,
    "start_time": "2021-11-17T12:13:53.454Z"
   },
   {
    "duration": 34,
    "start_time": "2021-11-17T12:14:31.286Z"
   },
   {
    "duration": 26,
    "start_time": "2021-11-17T12:14:40.514Z"
   },
   {
    "duration": 30,
    "start_time": "2021-11-17T12:14:58.284Z"
   },
   {
    "duration": 1026,
    "start_time": "2021-11-17T12:16:02.992Z"
   },
   {
    "duration": 17,
    "start_time": "2021-11-17T12:16:04.020Z"
   },
   {
    "duration": 13,
    "start_time": "2021-11-17T12:16:04.040Z"
   },
   {
    "duration": 57,
    "start_time": "2021-11-17T12:16:04.056Z"
   },
   {
    "duration": 13,
    "start_time": "2021-11-17T12:16:04.116Z"
   },
   {
    "duration": 57,
    "start_time": "2021-11-17T12:16:04.131Z"
   },
   {
    "duration": 13,
    "start_time": "2021-11-17T12:16:04.190Z"
   },
   {
    "duration": 8,
    "start_time": "2021-11-17T12:16:04.207Z"
   },
   {
    "duration": 13,
    "start_time": "2021-11-17T12:16:04.217Z"
   },
   {
    "duration": 31,
    "start_time": "2021-11-17T12:18:10.373Z"
   },
   {
    "duration": 1104,
    "start_time": "2021-11-17T12:24:38.345Z"
   },
   {
    "duration": 30,
    "start_time": "2021-11-17T12:24:39.452Z"
   },
   {
    "duration": 12,
    "start_time": "2021-11-17T12:24:39.485Z"
   },
   {
    "duration": 32,
    "start_time": "2021-11-17T12:24:39.500Z"
   },
   {
    "duration": 47,
    "start_time": "2021-11-17T12:24:39.535Z"
   },
   {
    "duration": 29,
    "start_time": "2021-11-17T12:24:39.585Z"
   },
   {
    "duration": 12,
    "start_time": "2021-11-17T12:24:39.617Z"
   },
   {
    "duration": 7,
    "start_time": "2021-11-17T12:24:39.632Z"
   },
   {
    "duration": 43,
    "start_time": "2021-11-17T12:24:39.642Z"
   },
   {
    "duration": 33,
    "start_time": "2021-11-17T12:29:53.827Z"
   },
   {
    "duration": 8,
    "start_time": "2021-11-17T12:45:04.030Z"
   },
   {
    "duration": 28,
    "start_time": "2021-11-17T12:47:45.108Z"
   },
   {
    "duration": 477,
    "start_time": "2021-11-17T12:48:20.532Z"
   },
   {
    "duration": 98,
    "start_time": "2021-11-17T12:48:31.169Z"
   },
   {
    "duration": 318,
    "start_time": "2021-11-17T12:49:30.019Z"
   },
   {
    "duration": 6,
    "start_time": "2021-11-17T12:49:46.414Z"
   },
   {
    "duration": 30,
    "start_time": "2021-11-17T12:50:17.146Z"
   },
   {
    "duration": 5,
    "start_time": "2021-11-17T12:51:26.846Z"
   },
   {
    "duration": 9,
    "start_time": "2021-11-17T12:53:11.602Z"
   },
   {
    "duration": 8,
    "start_time": "2021-11-17T12:55:07.183Z"
   },
   {
    "duration": 10,
    "start_time": "2021-11-17T12:55:21.973Z"
   },
   {
    "duration": 105,
    "start_time": "2021-11-17T12:55:42.836Z"
   },
   {
    "duration": 103,
    "start_time": "2021-11-17T12:55:47.491Z"
   },
   {
    "duration": 4,
    "start_time": "2021-11-17T12:57:44.856Z"
   },
   {
    "duration": 9,
    "start_time": "2021-11-17T13:01:51.940Z"
   },
   {
    "duration": 8,
    "start_time": "2021-11-17T13:02:11.370Z"
   },
   {
    "duration": 317,
    "start_time": "2021-11-17T13:03:30.699Z"
   },
   {
    "duration": 312,
    "start_time": "2021-11-17T13:04:01.515Z"
   },
   {
    "duration": 8,
    "start_time": "2021-11-17T13:04:07.763Z"
   },
   {
    "duration": 318,
    "start_time": "2021-11-17T13:06:17.528Z"
   },
   {
    "duration": 315,
    "start_time": "2021-11-17T13:06:23.976Z"
   },
   {
    "duration": 7,
    "start_time": "2021-11-17T13:06:29.169Z"
   },
   {
    "duration": 823,
    "start_time": "2021-11-17T13:08:17.316Z"
   },
   {
    "duration": 15,
    "start_time": "2021-11-17T13:08:18.141Z"
   },
   {
    "duration": 28,
    "start_time": "2021-11-17T13:08:18.159Z"
   },
   {
    "duration": 36,
    "start_time": "2021-11-17T13:08:18.190Z"
   },
   {
    "duration": 56,
    "start_time": "2021-11-17T13:08:18.228Z"
   },
   {
    "duration": 6,
    "start_time": "2021-11-17T13:08:18.286Z"
   },
   {
    "duration": 10,
    "start_time": "2021-11-17T13:08:18.294Z"
   },
   {
    "duration": 10,
    "start_time": "2021-11-17T13:08:18.306Z"
   },
   {
    "duration": 11,
    "start_time": "2021-11-17T13:08:18.320Z"
   },
   {
    "duration": 9,
    "start_time": "2021-11-17T13:08:18.333Z"
   },
   {
    "duration": 47,
    "start_time": "2021-11-17T13:08:18.344Z"
   },
   {
    "duration": 442,
    "start_time": "2021-11-17T13:08:18.394Z"
   },
   {
    "duration": -96,
    "start_time": "2021-11-17T13:08:18.935Z"
   },
   {
    "duration": -115,
    "start_time": "2021-11-17T13:08:18.955Z"
   },
   {
    "duration": -130,
    "start_time": "2021-11-17T13:08:18.972Z"
   },
   {
    "duration": 337,
    "start_time": "2021-11-17T13:08:51.862Z"
   },
   {
    "duration": 13,
    "start_time": "2021-11-17T13:09:17.014Z"
   },
   {
    "duration": 44,
    "start_time": "2021-11-17T13:09:34.485Z"
   },
   {
    "duration": 41,
    "start_time": "2021-11-17T13:09:40.297Z"
   },
   {
    "duration": 36,
    "start_time": "2021-11-17T13:10:04.009Z"
   },
   {
    "duration": 30,
    "start_time": "2021-11-17T13:10:07.459Z"
   },
   {
    "duration": 7,
    "start_time": "2021-11-17T13:10:11.267Z"
   },
   {
    "duration": 6,
    "start_time": "2021-11-17T13:10:21.412Z"
   },
   {
    "duration": 8,
    "start_time": "2021-11-17T13:10:22.121Z"
   },
   {
    "duration": 9,
    "start_time": "2021-11-17T13:10:24.523Z"
   },
   {
    "duration": 9,
    "start_time": "2021-11-17T13:10:25.881Z"
   },
   {
    "duration": 7,
    "start_time": "2021-11-17T13:10:29.909Z"
   },
   {
    "duration": 9,
    "start_time": "2021-11-17T13:10:45.083Z"
   },
   {
    "duration": 14,
    "start_time": "2021-11-17T13:10:46.317Z"
   },
   {
    "duration": 18,
    "start_time": "2021-11-17T13:13:01.320Z"
   },
   {
    "duration": 42,
    "start_time": "2021-11-17T13:14:02.230Z"
   },
   {
    "duration": 84,
    "start_time": "2021-11-17T13:17:32.714Z"
   },
   {
    "duration": 14,
    "start_time": "2021-11-17T13:17:36.577Z"
   },
   {
    "duration": 14,
    "start_time": "2021-11-17T13:17:46.618Z"
   },
   {
    "duration": 29,
    "start_time": "2021-11-17T13:17:48.907Z"
   },
   {
    "duration": 30,
    "start_time": "2021-11-17T13:17:53.201Z"
   },
   {
    "duration": 13,
    "start_time": "2021-11-17T13:18:02.788Z"
   },
   {
    "duration": 8,
    "start_time": "2021-11-17T13:19:35.131Z"
   },
   {
    "duration": 11,
    "start_time": "2021-11-17T13:19:56.297Z"
   },
   {
    "duration": 10,
    "start_time": "2021-11-17T13:22:47.187Z"
   },
   {
    "duration": 11,
    "start_time": "2021-11-17T13:24:02.564Z"
   },
   {
    "duration": 7,
    "start_time": "2021-11-17T13:24:31.897Z"
   },
   {
    "duration": 13,
    "start_time": "2021-11-17T13:24:50.196Z"
   },
   {
    "duration": 38,
    "start_time": "2021-11-17T13:25:08.315Z"
   },
   {
    "duration": 8,
    "start_time": "2021-11-17T13:25:36.538Z"
   },
   {
    "duration": 10,
    "start_time": "2021-11-17T13:27:15.122Z"
   },
   {
    "duration": 11,
    "start_time": "2021-11-17T13:30:05.322Z"
   },
   {
    "duration": 18,
    "start_time": "2021-11-17T13:32:54.532Z"
   },
   {
    "duration": 820,
    "start_time": "2021-11-17T13:36:29.928Z"
   },
   {
    "duration": 32,
    "start_time": "2021-11-17T13:36:30.750Z"
   },
   {
    "duration": 18,
    "start_time": "2021-11-17T13:36:30.786Z"
   },
   {
    "duration": 54,
    "start_time": "2021-11-17T13:36:30.807Z"
   },
   {
    "duration": 58,
    "start_time": "2021-11-17T13:36:30.864Z"
   },
   {
    "duration": 19,
    "start_time": "2021-11-17T13:36:30.924Z"
   },
   {
    "duration": 6,
    "start_time": "2021-11-17T13:36:30.945Z"
   },
   {
    "duration": 9,
    "start_time": "2021-11-17T13:36:30.983Z"
   },
   {
    "duration": 36,
    "start_time": "2021-11-17T13:36:30.995Z"
   },
   {
    "duration": 19,
    "start_time": "2021-11-17T13:36:31.034Z"
   },
   {
    "duration": 15,
    "start_time": "2021-11-17T13:36:31.056Z"
   },
   {
    "duration": 11,
    "start_time": "2021-11-17T13:36:31.074Z"
   },
   {
    "duration": 15,
    "start_time": "2021-11-17T13:36:31.088Z"
   },
   {
    "duration": 406,
    "start_time": "2021-11-17T13:36:31.105Z"
   },
   {
    "duration": -83,
    "start_time": "2021-11-17T13:36:31.597Z"
   },
   {
    "duration": -131,
    "start_time": "2021-11-17T13:36:31.647Z"
   },
   {
    "duration": -135,
    "start_time": "2021-11-17T13:36:31.652Z"
   },
   {
    "duration": 31,
    "start_time": "2021-11-17T13:40:48.853Z"
   },
   {
    "duration": 30,
    "start_time": "2021-11-17T13:44:55.219Z"
   },
   {
    "duration": 15,
    "start_time": "2021-11-17T13:45:15.829Z"
   },
   {
    "duration": 7,
    "start_time": "2021-11-17T13:48:04.982Z"
   },
   {
    "duration": 29,
    "start_time": "2021-11-17T13:48:29.861Z"
   },
   {
    "duration": 14,
    "start_time": "2021-11-17T13:48:56.207Z"
   },
   {
    "duration": 8,
    "start_time": "2021-11-17T13:50:32.958Z"
   },
   {
    "duration": 7,
    "start_time": "2021-11-17T13:50:41.682Z"
   },
   {
    "duration": 10,
    "start_time": "2021-11-17T13:51:04.045Z"
   },
   {
    "duration": 117,
    "start_time": "2021-11-17T13:51:26.206Z"
   },
   {
    "duration": 22,
    "start_time": "2021-11-17T13:51:42.238Z"
   },
   {
    "duration": 18,
    "start_time": "2021-11-17T13:51:50.748Z"
   },
   {
    "duration": 41,
    "start_time": "2021-11-17T13:51:55.212Z"
   },
   {
    "duration": 30,
    "start_time": "2021-11-17T13:52:07.393Z"
   },
   {
    "duration": 12,
    "start_time": "2021-11-17T13:52:11.353Z"
   },
   {
    "duration": 16,
    "start_time": "2021-11-17T13:52:39.152Z"
   },
   {
    "duration": 10132,
    "start_time": "2021-11-17T13:58:32.917Z"
   },
   {
    "duration": 7401,
    "start_time": "2021-11-17T13:58:51.856Z"
   },
   {
    "duration": 8437,
    "start_time": "2021-11-17T13:59:04.103Z"
   },
   {
    "duration": 7382,
    "start_time": "2021-11-17T13:59:33.873Z"
   },
   {
    "duration": 10140,
    "start_time": "2021-11-17T13:59:52.533Z"
   },
   {
    "duration": 10,
    "start_time": "2021-11-17T14:00:10.722Z"
   },
   {
    "duration": 9,
    "start_time": "2021-11-17T14:01:08.699Z"
   },
   {
    "duration": 28,
    "start_time": "2021-11-17T14:01:34.417Z"
   },
   {
    "duration": 24,
    "start_time": "2021-11-17T14:08:17.992Z"
   },
   {
    "duration": 14,
    "start_time": "2021-11-17T14:09:39.805Z"
   },
   {
    "duration": 7,
    "start_time": "2021-11-17T14:10:04.719Z"
   },
   {
    "duration": 24,
    "start_time": "2021-11-17T14:10:57.092Z"
   },
   {
    "duration": 8,
    "start_time": "2021-11-17T14:12:59.749Z"
   },
   {
    "duration": 12,
    "start_time": "2021-11-17T14:13:11.733Z"
   },
   {
    "duration": 12,
    "start_time": "2021-11-17T14:13:39.291Z"
   },
   {
    "duration": 13,
    "start_time": "2021-11-17T14:13:45.239Z"
   },
   {
    "duration": 24,
    "start_time": "2021-11-17T14:14:19.051Z"
   },
   {
    "duration": 26,
    "start_time": "2021-11-17T14:14:36.698Z"
   },
   {
    "duration": 19,
    "start_time": "2021-11-17T14:14:37.750Z"
   },
   {
    "duration": 19,
    "start_time": "2021-11-17T14:14:46.870Z"
   },
   {
    "duration": 19,
    "start_time": "2021-11-17T14:17:16.492Z"
   },
   {
    "duration": 29,
    "start_time": "2021-11-17T14:17:35.950Z"
   },
   {
    "duration": 18,
    "start_time": "2021-11-17T14:18:49.143Z"
   },
   {
    "duration": 350,
    "start_time": "2021-11-17T14:19:41.416Z"
   },
   {
    "duration": 124,
    "start_time": "2021-11-17T14:21:01.039Z"
   },
   {
    "duration": 103,
    "start_time": "2021-11-17T14:21:46.078Z"
   },
   {
    "duration": 106,
    "start_time": "2021-11-17T14:22:08.196Z"
   },
   {
    "duration": 13,
    "start_time": "2021-11-17T14:22:50.025Z"
   },
   {
    "duration": 22,
    "start_time": "2021-11-17T14:22:51.175Z"
   },
   {
    "duration": 25,
    "start_time": "2021-11-17T14:23:02.788Z"
   },
   {
    "duration": 15,
    "start_time": "2021-11-17T14:23:29.644Z"
   },
   {
    "duration": 865,
    "start_time": "2021-11-17T14:24:17.782Z"
   },
   {
    "duration": 15,
    "start_time": "2021-11-17T14:24:18.649Z"
   },
   {
    "duration": 16,
    "start_time": "2021-11-17T14:24:18.686Z"
   },
   {
    "duration": 36,
    "start_time": "2021-11-17T14:24:18.707Z"
   },
   {
    "duration": 54,
    "start_time": "2021-11-17T14:24:18.746Z"
   },
   {
    "duration": 19,
    "start_time": "2021-11-17T14:24:18.802Z"
   },
   {
    "duration": 26,
    "start_time": "2021-11-17T14:24:18.824Z"
   },
   {
    "duration": 25,
    "start_time": "2021-11-17T14:24:18.884Z"
   },
   {
    "duration": 28,
    "start_time": "2021-11-17T14:24:18.913Z"
   },
   {
    "duration": 49,
    "start_time": "2021-11-17T14:24:18.944Z"
   },
   {
    "duration": 11,
    "start_time": "2021-11-17T14:24:18.998Z"
   },
   {
    "duration": 9,
    "start_time": "2021-11-17T14:24:19.011Z"
   },
   {
    "duration": 15,
    "start_time": "2021-11-17T14:24:19.023Z"
   },
   {
    "duration": 12,
    "start_time": "2021-11-17T14:24:19.041Z"
   },
   {
    "duration": 42,
    "start_time": "2021-11-17T14:24:19.056Z"
   },
   {
    "duration": 19,
    "start_time": "2021-11-17T14:24:19.101Z"
   },
   {
    "duration": 396,
    "start_time": "2021-11-17T14:24:19.123Z"
   },
   {
    "duration": -48,
    "start_time": "2021-11-17T14:24:19.570Z"
   },
   {
    "duration": -105,
    "start_time": "2021-11-17T14:24:19.628Z"
   },
   {
    "duration": 16,
    "start_time": "2021-11-17T14:28:24.641Z"
   },
   {
    "duration": 7,
    "start_time": "2021-11-17T14:28:51.673Z"
   },
   {
    "duration": 8,
    "start_time": "2021-11-17T14:29:01.253Z"
   },
   {
    "duration": 6,
    "start_time": "2021-11-17T14:29:07.686Z"
   },
   {
    "duration": 5,
    "start_time": "2021-11-17T14:29:09.870Z"
   },
   {
    "duration": 7,
    "start_time": "2021-11-17T14:29:10.649Z"
   },
   {
    "duration": 13,
    "start_time": "2021-11-17T14:29:46.984Z"
   },
   {
    "duration": 10,
    "start_time": "2021-11-17T14:30:03.028Z"
   },
   {
    "duration": 7,
    "start_time": "2021-11-17T14:30:24.862Z"
   },
   {
    "duration": 7,
    "start_time": "2021-11-17T14:30:54.498Z"
   },
   {
    "duration": 9,
    "start_time": "2021-11-17T14:31:14.648Z"
   },
   {
    "duration": 1055,
    "start_time": "2021-11-17T14:31:23.669Z"
   },
   {
    "duration": 16,
    "start_time": "2021-11-17T14:31:24.727Z"
   },
   {
    "duration": 36,
    "start_time": "2021-11-17T14:31:24.746Z"
   },
   {
    "duration": 37,
    "start_time": "2021-11-17T14:31:24.786Z"
   },
   {
    "duration": 30,
    "start_time": "2021-11-17T14:31:24.825Z"
   },
   {
    "duration": 43,
    "start_time": "2021-11-17T14:31:24.857Z"
   },
   {
    "duration": 18,
    "start_time": "2021-11-17T14:31:24.902Z"
   },
   {
    "duration": 24,
    "start_time": "2021-11-17T14:31:24.923Z"
   },
   {
    "duration": 61,
    "start_time": "2021-11-17T14:31:24.952Z"
   },
   {
    "duration": 13,
    "start_time": "2021-11-17T14:31:25.017Z"
   },
   {
    "duration": 8,
    "start_time": "2021-11-17T14:31:25.033Z"
   },
   {
    "duration": 18,
    "start_time": "2021-11-17T14:31:25.044Z"
   },
   {
    "duration": 26,
    "start_time": "2021-11-17T14:31:25.065Z"
   },
   {
    "duration": 16,
    "start_time": "2021-11-17T14:31:25.093Z"
   },
   {
    "duration": 11,
    "start_time": "2021-11-17T14:31:25.111Z"
   },
   {
    "duration": 66,
    "start_time": "2021-11-17T14:31:25.125Z"
   },
   {
    "duration": 403,
    "start_time": "2021-11-17T14:31:25.194Z"
   },
   {
    "duration": -65,
    "start_time": "2021-11-17T14:31:25.665Z"
   },
   {
    "duration": -66,
    "start_time": "2021-11-17T14:31:25.669Z"
   },
   {
    "duration": 24,
    "start_time": "2021-11-17T14:35:19.291Z"
   },
   {
    "duration": 7,
    "start_time": "2021-11-17T14:37:58.010Z"
   },
   {
    "duration": 16,
    "start_time": "2021-11-17T14:38:13.743Z"
   },
   {
    "duration": 14,
    "start_time": "2021-11-17T14:40:37.619Z"
   },
   {
    "duration": 843,
    "start_time": "2021-11-17T14:41:07.338Z"
   },
   {
    "duration": 15,
    "start_time": "2021-11-17T14:41:08.184Z"
   },
   {
    "duration": 15,
    "start_time": "2021-11-17T14:41:08.202Z"
   },
   {
    "duration": 64,
    "start_time": "2021-11-17T14:41:08.220Z"
   },
   {
    "duration": 31,
    "start_time": "2021-11-17T14:41:08.287Z"
   },
   {
    "duration": 18,
    "start_time": "2021-11-17T14:41:08.321Z"
   },
   {
    "duration": 52,
    "start_time": "2021-11-17T14:41:08.342Z"
   },
   {
    "duration": 14,
    "start_time": "2021-11-17T14:41:08.398Z"
   },
   {
    "duration": 19,
    "start_time": "2021-11-17T14:41:08.414Z"
   },
   {
    "duration": 45,
    "start_time": "2021-11-17T14:41:08.436Z"
   },
   {
    "duration": 7,
    "start_time": "2021-11-17T14:41:08.483Z"
   },
   {
    "duration": 6,
    "start_time": "2021-11-17T14:41:08.492Z"
   },
   {
    "duration": 25,
    "start_time": "2021-11-17T14:41:08.500Z"
   },
   {
    "duration": 12,
    "start_time": "2021-11-17T14:41:08.527Z"
   },
   {
    "duration": 43,
    "start_time": "2021-11-17T14:41:08.542Z"
   },
   {
    "duration": 18,
    "start_time": "2021-11-17T14:41:08.588Z"
   },
   {
    "duration": 403,
    "start_time": "2021-11-17T14:41:08.609Z"
   },
   {
    "duration": 37,
    "start_time": "2021-11-17T14:41:08.979Z"
   },
   {
    "duration": 34,
    "start_time": "2021-11-17T14:41:08.984Z"
   },
   {
    "duration": 101,
    "start_time": "2021-11-17T14:47:54.263Z"
   },
   {
    "duration": 23,
    "start_time": "2021-11-17T14:48:01.779Z"
   },
   {
    "duration": 315,
    "start_time": "2021-11-17T14:50:24.760Z"
   },
   {
    "duration": 25,
    "start_time": "2021-11-17T14:50:36.597Z"
   },
   {
    "duration": 7885,
    "start_time": "2021-11-17T14:51:31.495Z"
   },
   {
    "duration": 7,
    "start_time": "2021-11-17T14:53:12.907Z"
   },
   {
    "duration": 7,
    "start_time": "2021-11-17T14:53:19.446Z"
   },
   {
    "duration": 1014,
    "start_time": "2021-11-17T14:54:11.616Z"
   },
   {
    "duration": 15,
    "start_time": "2021-11-17T14:54:12.633Z"
   },
   {
    "duration": 34,
    "start_time": "2021-11-17T14:54:12.651Z"
   },
   {
    "duration": 29,
    "start_time": "2021-11-17T14:54:12.687Z"
   },
   {
    "duration": 30,
    "start_time": "2021-11-17T14:54:12.719Z"
   },
   {
    "duration": 44,
    "start_time": "2021-11-17T14:54:12.751Z"
   },
   {
    "duration": 18,
    "start_time": "2021-11-17T14:54:12.797Z"
   },
   {
    "duration": 18,
    "start_time": "2021-11-17T14:54:12.818Z"
   },
   {
    "duration": 49,
    "start_time": "2021-11-17T14:54:12.840Z"
   },
   {
    "duration": 14,
    "start_time": "2021-11-17T14:54:12.892Z"
   },
   {
    "duration": 7,
    "start_time": "2021-11-17T14:54:12.910Z"
   },
   {
    "duration": 5,
    "start_time": "2021-11-17T14:54:12.919Z"
   },
   {
    "duration": 12,
    "start_time": "2021-11-17T14:54:12.927Z"
   },
   {
    "duration": 10,
    "start_time": "2021-11-17T14:54:12.982Z"
   },
   {
    "duration": 13,
    "start_time": "2021-11-17T14:54:12.994Z"
   },
   {
    "duration": 9,
    "start_time": "2021-11-17T14:54:13.012Z"
   },
   {
    "duration": 8,
    "start_time": "2021-11-17T14:54:13.024Z"
   },
   {
    "duration": 48,
    "start_time": "2021-11-17T14:54:13.036Z"
   },
   {
    "duration": 25,
    "start_time": "2021-11-17T14:54:13.088Z"
   },
   {
    "duration": 34,
    "start_time": "2021-11-17T14:54:13.116Z"
   },
   {
    "duration": 12,
    "start_time": "2021-11-17T14:55:37.381Z"
   },
   {
    "duration": 14,
    "start_time": "2021-11-17T14:55:40.672Z"
   },
   {
    "duration": 12,
    "start_time": "2021-11-17T14:55:44.038Z"
   },
   {
    "duration": 18,
    "start_time": "2021-11-17T14:55:48.474Z"
   },
   {
    "duration": 16,
    "start_time": "2021-11-17T14:56:03.877Z"
   },
   {
    "duration": 21,
    "start_time": "2021-11-17T14:56:08.511Z"
   },
   {
    "duration": 24,
    "start_time": "2021-11-17T15:01:45.302Z"
   },
   {
    "duration": 22,
    "start_time": "2021-11-17T15:01:54.779Z"
   },
   {
    "duration": 8056,
    "start_time": "2021-11-17T15:03:26.452Z"
   },
   {
    "duration": 32,
    "start_time": "2021-11-17T15:03:44.406Z"
   },
   {
    "duration": 183,
    "start_time": "2021-11-17T15:18:17.440Z"
   },
   {
    "duration": 117,
    "start_time": "2021-11-17T15:18:41.810Z"
   },
   {
    "duration": 95,
    "start_time": "2021-11-17T15:18:57.680Z"
   },
   {
    "duration": 96,
    "start_time": "2021-11-17T15:30:00.745Z"
   },
   {
    "duration": 98,
    "start_time": "2021-11-17T15:30:26.410Z"
   },
   {
    "duration": 105,
    "start_time": "2021-11-17T15:30:32.249Z"
   },
   {
    "duration": 101,
    "start_time": "2021-11-17T15:30:49.417Z"
   },
   {
    "duration": 105,
    "start_time": "2021-11-17T15:42:14.646Z"
   },
   {
    "duration": 337,
    "start_time": "2021-11-17T15:48:07.801Z"
   },
   {
    "duration": 605,
    "start_time": "2021-11-17T15:49:36.706Z"
   },
   {
    "duration": 1105,
    "start_time": "2021-11-17T15:49:57.593Z"
   },
   {
    "duration": 15,
    "start_time": "2021-11-17T15:49:58.701Z"
   },
   {
    "duration": 14,
    "start_time": "2021-11-17T15:49:58.719Z"
   },
   {
    "duration": 54,
    "start_time": "2021-11-17T15:49:58.736Z"
   },
   {
    "duration": 15,
    "start_time": "2021-11-17T15:49:58.792Z"
   },
   {
    "duration": 16,
    "start_time": "2021-11-17T15:49:58.809Z"
   },
   {
    "duration": 21,
    "start_time": "2021-11-17T15:49:58.829Z"
   },
   {
    "duration": 14,
    "start_time": "2021-11-17T15:49:58.884Z"
   },
   {
    "duration": 20,
    "start_time": "2021-11-17T15:49:58.901Z"
   },
   {
    "duration": 15,
    "start_time": "2021-11-17T15:49:58.923Z"
   },
   {
    "duration": 41,
    "start_time": "2021-11-17T15:49:58.941Z"
   },
   {
    "duration": 5,
    "start_time": "2021-11-17T15:49:58.984Z"
   },
   {
    "duration": 12,
    "start_time": "2021-11-17T15:49:58.992Z"
   },
   {
    "duration": 10,
    "start_time": "2021-11-17T15:49:59.006Z"
   },
   {
    "duration": 11,
    "start_time": "2021-11-17T15:49:59.019Z"
   },
   {
    "duration": 55,
    "start_time": "2021-11-17T15:49:59.032Z"
   },
   {
    "duration": 11,
    "start_time": "2021-11-17T15:49:59.090Z"
   },
   {
    "duration": 8,
    "start_time": "2021-11-17T15:49:59.104Z"
   },
   {
    "duration": 14,
    "start_time": "2021-11-17T15:49:59.115Z"
   },
   {
    "duration": 62,
    "start_time": "2021-11-17T15:49:59.132Z"
   },
   {
    "duration": 21,
    "start_time": "2021-11-17T15:49:59.196Z"
   },
   {
    "duration": 758,
    "start_time": "2021-11-17T15:49:59.219Z"
   },
   {
    "duration": -58,
    "start_time": "2021-11-17T15:50:00.038Z"
   },
   {
    "duration": -59,
    "start_time": "2021-11-17T15:50:00.042Z"
   },
   {
    "duration": -61,
    "start_time": "2021-11-17T15:50:00.046Z"
   },
   {
    "duration": 105,
    "start_time": "2021-11-17T15:58:41.935Z"
   },
   {
    "duration": 317,
    "start_time": "2021-11-17T15:59:41.968Z"
   },
   {
    "duration": 98,
    "start_time": "2021-11-17T16:01:17.795Z"
   },
   {
    "duration": 298,
    "start_time": "2021-11-17T16:04:09.832Z"
   },
   {
    "duration": 18,
    "start_time": "2021-11-17T16:29:02.956Z"
   },
   {
    "duration": 20,
    "start_time": "2021-11-17T16:29:21.561Z"
   },
   {
    "duration": 17,
    "start_time": "2021-11-17T16:30:02.349Z"
   },
   {
    "duration": 19,
    "start_time": "2021-11-17T16:30:04.215Z"
   },
   {
    "duration": 7,
    "start_time": "2021-11-17T16:30:57.963Z"
   },
   {
    "duration": 8,
    "start_time": "2021-11-17T16:31:38.658Z"
   },
   {
    "duration": 27,
    "start_time": "2021-11-17T16:31:56.209Z"
   },
   {
    "duration": 74,
    "start_time": "2021-11-17T16:35:23.613Z"
   },
   {
    "duration": 80,
    "start_time": "2021-11-17T16:38:01.259Z"
   },
   {
    "duration": 48,
    "start_time": "2021-11-17T16:38:09.136Z"
   },
   {
    "duration": 29,
    "start_time": "2021-11-17T16:40:00.598Z"
   },
   {
    "duration": 26,
    "start_time": "2021-11-17T16:40:03.956Z"
   },
   {
    "duration": 20,
    "start_time": "2021-11-17T16:41:11.503Z"
   },
   {
    "duration": 17,
    "start_time": "2021-11-17T16:41:12.120Z"
   },
   {
    "duration": 998,
    "start_time": "2021-11-17T16:46:00.631Z"
   },
   {
    "duration": 17,
    "start_time": "2021-11-17T16:46:01.632Z"
   },
   {
    "duration": 35,
    "start_time": "2021-11-17T16:46:01.652Z"
   },
   {
    "duration": 15,
    "start_time": "2021-11-17T16:46:01.690Z"
   },
   {
    "duration": 31,
    "start_time": "2021-11-17T16:46:01.707Z"
   },
   {
    "duration": 42,
    "start_time": "2021-11-17T16:46:01.742Z"
   },
   {
    "duration": 25,
    "start_time": "2021-11-17T16:46:01.786Z"
   },
   {
    "duration": 20,
    "start_time": "2021-11-17T16:46:01.816Z"
   },
   {
    "duration": 55,
    "start_time": "2021-11-17T16:46:01.840Z"
   },
   {
    "duration": 22,
    "start_time": "2021-11-17T16:46:01.898Z"
   },
   {
    "duration": 13,
    "start_time": "2021-11-17T16:46:01.923Z"
   },
   {
    "duration": 9,
    "start_time": "2021-11-17T16:46:01.938Z"
   },
   {
    "duration": 36,
    "start_time": "2021-11-17T16:46:01.949Z"
   },
   {
    "duration": 28,
    "start_time": "2021-11-17T16:46:01.989Z"
   },
   {
    "duration": 14,
    "start_time": "2021-11-17T16:46:02.020Z"
   },
   {
    "duration": 9,
    "start_time": "2021-11-17T16:46:02.037Z"
   },
   {
    "duration": 8,
    "start_time": "2021-11-17T16:46:02.049Z"
   },
   {
    "duration": 18,
    "start_time": "2021-11-17T16:46:02.083Z"
   },
   {
    "duration": 19,
    "start_time": "2021-11-17T16:46:02.104Z"
   },
   {
    "duration": 62,
    "start_time": "2021-11-17T16:46:02.125Z"
   },
   {
    "duration": 36,
    "start_time": "2021-11-17T16:46:02.190Z"
   },
   {
    "duration": 67,
    "start_time": "2021-11-17T16:46:02.230Z"
   },
   {
    "duration": 87,
    "start_time": "2021-11-17T16:46:02.302Z"
   },
   {
    "duration": 313,
    "start_time": "2021-11-18T08:39:17.166Z"
   },
   {
    "duration": 270,
    "start_time": "2021-11-18T08:39:28.204Z"
   },
   {
    "duration": 850,
    "start_time": "2021-11-18T08:40:02.511Z"
   },
   {
    "duration": 14,
    "start_time": "2021-11-18T08:40:03.364Z"
   },
   {
    "duration": 34,
    "start_time": "2021-11-18T08:40:03.381Z"
   },
   {
    "duration": 32,
    "start_time": "2021-11-18T08:40:03.418Z"
   },
   {
    "duration": 14,
    "start_time": "2021-11-18T08:40:03.452Z"
   },
   {
    "duration": 28,
    "start_time": "2021-11-18T08:40:03.469Z"
   },
   {
    "duration": 18,
    "start_time": "2021-11-18T08:40:03.500Z"
   },
   {
    "duration": 30,
    "start_time": "2021-11-18T08:40:03.522Z"
   },
   {
    "duration": 32,
    "start_time": "2021-11-18T08:40:03.555Z"
   },
   {
    "duration": 33,
    "start_time": "2021-11-18T08:40:03.590Z"
   },
   {
    "duration": 6,
    "start_time": "2021-11-18T08:40:03.626Z"
   },
   {
    "duration": 7,
    "start_time": "2021-11-18T08:40:03.634Z"
   },
   {
    "duration": 10,
    "start_time": "2021-11-18T08:40:03.643Z"
   },
   {
    "duration": 31,
    "start_time": "2021-11-18T08:40:03.655Z"
   },
   {
    "duration": 10,
    "start_time": "2021-11-18T08:40:03.688Z"
   },
   {
    "duration": 13,
    "start_time": "2021-11-18T08:40:03.701Z"
   },
   {
    "duration": 6,
    "start_time": "2021-11-18T08:40:03.730Z"
   },
   {
    "duration": 17,
    "start_time": "2021-11-18T08:40:03.739Z"
   },
   {
    "duration": 18,
    "start_time": "2021-11-18T08:40:03.759Z"
   },
   {
    "duration": 55,
    "start_time": "2021-11-18T08:40:03.779Z"
   },
   {
    "duration": 24,
    "start_time": "2021-11-18T08:40:03.837Z"
   },
   {
    "duration": 28,
    "start_time": "2021-11-18T08:40:03.863Z"
   },
   {
    "duration": 82,
    "start_time": "2021-11-18T08:40:03.895Z"
   },
   {
    "duration": 7,
    "start_time": "2021-11-18T08:40:03.981Z"
   },
   {
    "duration": 42,
    "start_time": "2021-11-18T08:40:03.990Z"
   },
   {
    "duration": 3,
    "start_time": "2021-11-18T08:41:05.673Z"
   },
   {
    "duration": 6,
    "start_time": "2021-11-18T08:41:06.671Z"
   },
   {
    "duration": 8,
    "start_time": "2021-11-18T08:41:41.825Z"
   },
   {
    "duration": 1250,
    "start_time": "2021-11-18T08:58:30.787Z"
   },
   {
    "duration": 261,
    "start_time": "2021-11-18T08:58:44.403Z"
   },
   {
    "duration": 13,
    "start_time": "2021-11-18T09:00:03.754Z"
   },
   {
    "duration": 280,
    "start_time": "2021-11-18T09:04:25.950Z"
   },
   {
    "duration": 276,
    "start_time": "2021-11-18T09:07:05.197Z"
   },
   {
    "duration": 13,
    "start_time": "2021-11-18T09:08:14.529Z"
   },
   {
    "duration": 9,
    "start_time": "2021-11-18T09:10:48.300Z"
   },
   {
    "duration": 12,
    "start_time": "2021-11-18T09:13:04.485Z"
   },
   {
    "duration": 268,
    "start_time": "2021-11-18T09:13:06.385Z"
   },
   {
    "duration": 92,
    "start_time": "2021-11-18T09:13:45.480Z"
   },
   {
    "duration": 13,
    "start_time": "2021-11-18T09:13:52.240Z"
   },
   {
    "duration": 7,
    "start_time": "2021-11-18T09:13:53.946Z"
   },
   {
    "duration": 290,
    "start_time": "2021-11-18T09:18:40.835Z"
   },
   {
    "duration": 272,
    "start_time": "2021-11-18T09:19:35.755Z"
   },
   {
    "duration": 15,
    "start_time": "2021-11-18T09:19:46.236Z"
   },
   {
    "duration": 4,
    "start_time": "2021-11-18T09:22:53.342Z"
   },
   {
    "duration": 3,
    "start_time": "2021-11-18T09:22:59.724Z"
   },
   {
    "duration": 4,
    "start_time": "2021-11-18T09:23:21.582Z"
   },
   {
    "duration": 12,
    "start_time": "2021-11-18T09:24:05.294Z"
   },
   {
    "duration": 4,
    "start_time": "2021-11-18T09:24:07.930Z"
   },
   {
    "duration": 262,
    "start_time": "2021-11-18T09:24:18.001Z"
   },
   {
    "duration": 270,
    "start_time": "2021-11-18T09:24:24.841Z"
   },
   {
    "duration": 13,
    "start_time": "2021-11-18T09:24:31.455Z"
   },
   {
    "duration": 7,
    "start_time": "2021-11-18T09:24:33.082Z"
   },
   {
    "duration": 12,
    "start_time": "2021-11-18T09:25:41.175Z"
   },
   {
    "duration": 370,
    "start_time": "2021-11-18T09:25:44.100Z"
   },
   {
    "duration": 13,
    "start_time": "2021-11-18T09:26:50.833Z"
   },
   {
    "duration": 7,
    "start_time": "2021-11-18T09:26:52.318Z"
   },
   {
    "duration": 280,
    "start_time": "2021-11-18T09:41:49.168Z"
   },
   {
    "duration": 276,
    "start_time": "2021-11-18T09:41:55.570Z"
   },
   {
    "duration": 3965,
    "start_time": "2021-11-18T09:42:02.954Z"
   },
   {
    "duration": 3545,
    "start_time": "2021-11-18T09:43:29.549Z"
   },
   {
    "duration": 3535,
    "start_time": "2021-11-18T09:46:55.532Z"
   },
   {
    "duration": 14,
    "start_time": "2021-11-18T09:47:41.559Z"
   },
   {
    "duration": 568,
    "start_time": "2021-11-18T09:47:45.212Z"
   },
   {
    "duration": 3762,
    "start_time": "2021-11-18T09:48:01.782Z"
   },
   {
    "duration": 3708,
    "start_time": "2021-11-18T09:48:14.640Z"
   },
   {
    "duration": 90,
    "start_time": "2021-11-18T09:52:17.657Z"
   },
   {
    "duration": 3952,
    "start_time": "2021-11-18T09:52:30.911Z"
   },
   {
    "duration": 3775,
    "start_time": "2021-11-18T09:54:42.741Z"
   },
   {
    "duration": 3869,
    "start_time": "2021-11-18T09:56:20.993Z"
   },
   {
    "duration": 9,
    "start_time": "2021-11-18T10:06:02.439Z"
   },
   {
    "duration": 7,
    "start_time": "2021-11-18T10:08:17.542Z"
   },
   {
    "duration": 16,
    "start_time": "2021-11-18T10:10:51.260Z"
   },
   {
    "duration": 10,
    "start_time": "2021-11-18T10:11:00.233Z"
   },
   {
    "duration": 15,
    "start_time": "2021-11-18T10:21:58.624Z"
   },
   {
    "duration": 10,
    "start_time": "2021-11-18T10:22:17.369Z"
   },
   {
    "duration": 879,
    "start_time": "2021-11-18T10:22:49.101Z"
   },
   {
    "duration": 15,
    "start_time": "2021-11-18T10:22:49.983Z"
   },
   {
    "duration": 24,
    "start_time": "2021-11-18T10:22:50.001Z"
   },
   {
    "duration": 17,
    "start_time": "2021-11-18T10:22:50.029Z"
   },
   {
    "duration": 14,
    "start_time": "2021-11-18T10:22:50.048Z"
   },
   {
    "duration": 17,
    "start_time": "2021-11-18T10:22:50.065Z"
   },
   {
    "duration": 46,
    "start_time": "2021-11-18T10:22:50.084Z"
   },
   {
    "duration": 16,
    "start_time": "2021-11-18T10:22:50.134Z"
   },
   {
    "duration": 18,
    "start_time": "2021-11-18T10:22:50.153Z"
   },
   {
    "duration": 18,
    "start_time": "2021-11-18T10:22:50.174Z"
   },
   {
    "duration": 36,
    "start_time": "2021-11-18T10:22:50.194Z"
   },
   {
    "duration": 4,
    "start_time": "2021-11-18T10:22:50.232Z"
   },
   {
    "duration": 12,
    "start_time": "2021-11-18T10:22:50.238Z"
   },
   {
    "duration": 21,
    "start_time": "2021-11-18T10:22:50.252Z"
   },
   {
    "duration": 6,
    "start_time": "2021-11-18T10:22:50.275Z"
   },
   {
    "duration": 47,
    "start_time": "2021-11-18T10:22:50.283Z"
   },
   {
    "duration": 9,
    "start_time": "2021-11-18T10:22:50.333Z"
   },
   {
    "duration": 12,
    "start_time": "2021-11-18T10:22:50.345Z"
   },
   {
    "duration": 19,
    "start_time": "2021-11-18T10:22:50.359Z"
   },
   {
    "duration": 50,
    "start_time": "2021-11-18T10:22:50.380Z"
   },
   {
    "duration": 21,
    "start_time": "2021-11-18T10:22:50.433Z"
   },
   {
    "duration": 24,
    "start_time": "2021-11-18T10:22:50.457Z"
   },
   {
    "duration": 59,
    "start_time": "2021-11-18T10:22:50.487Z"
   },
   {
    "duration": 52,
    "start_time": "2021-11-18T10:22:50.549Z"
   },
   {
    "duration": 25,
    "start_time": "2021-11-18T10:22:50.604Z"
   },
   {
    "duration": 10,
    "start_time": "2021-11-18T10:22:50.632Z"
   },
   {
    "duration": 1073,
    "start_time": "2021-11-18T10:22:50.644Z"
   },
   {
    "duration": 14,
    "start_time": "2021-11-18T10:22:51.721Z"
   },
   {
    "duration": 3517,
    "start_time": "2021-11-18T10:22:51.737Z"
   },
   {
    "duration": 10,
    "start_time": "2021-11-18T10:22:55.257Z"
   },
   {
    "duration": 3543,
    "start_time": "2021-11-18T10:22:55.270Z"
   },
   {
    "duration": 31,
    "start_time": "2021-11-18T10:23:40.585Z"
   },
   {
    "duration": 367,
    "start_time": "2021-11-18T10:28:18.824Z"
   },
   {
    "duration": 3595,
    "start_time": "2021-11-18T10:28:37.055Z"
   },
   {
    "duration": 3570,
    "start_time": "2021-11-18T10:28:47.921Z"
   },
   {
    "duration": 3545,
    "start_time": "2021-11-18T10:29:06.292Z"
   },
   {
    "duration": 16,
    "start_time": "2021-11-18T10:29:24.222Z"
   },
   {
    "duration": 20,
    "start_time": "2021-11-18T10:29:31.424Z"
   },
   {
    "duration": 12,
    "start_time": "2021-11-18T10:29:41.087Z"
   },
   {
    "duration": 3516,
    "start_time": "2021-11-18T10:29:51.579Z"
   },
   {
    "duration": 1045,
    "start_time": "2021-11-18T10:30:48.546Z"
   },
   {
    "duration": 14,
    "start_time": "2021-11-18T10:30:49.594Z"
   },
   {
    "duration": 29,
    "start_time": "2021-11-18T10:30:49.611Z"
   },
   {
    "duration": 40,
    "start_time": "2021-11-18T10:30:49.642Z"
   },
   {
    "duration": 18,
    "start_time": "2021-11-18T10:30:49.684Z"
   },
   {
    "duration": 33,
    "start_time": "2021-11-18T10:30:49.704Z"
   },
   {
    "duration": 36,
    "start_time": "2021-11-18T10:30:49.739Z"
   },
   {
    "duration": 36,
    "start_time": "2021-11-18T10:30:49.779Z"
   },
   {
    "duration": 45,
    "start_time": "2021-11-18T10:30:49.819Z"
   },
   {
    "duration": 38,
    "start_time": "2021-11-18T10:30:49.866Z"
   },
   {
    "duration": 19,
    "start_time": "2021-11-18T10:30:49.906Z"
   },
   {
    "duration": 29,
    "start_time": "2021-11-18T10:30:49.927Z"
   },
   {
    "duration": 26,
    "start_time": "2021-11-18T10:30:49.959Z"
   },
   {
    "duration": 50,
    "start_time": "2021-11-18T10:30:49.987Z"
   },
   {
    "duration": 16,
    "start_time": "2021-11-18T10:30:50.039Z"
   },
   {
    "duration": 39,
    "start_time": "2021-11-18T10:30:50.058Z"
   },
   {
    "duration": 23,
    "start_time": "2021-11-18T10:30:50.100Z"
   },
   {
    "duration": 25,
    "start_time": "2021-11-18T10:30:50.126Z"
   },
   {
    "duration": 38,
    "start_time": "2021-11-18T10:30:50.153Z"
   },
   {
    "duration": 32,
    "start_time": "2021-11-18T10:30:50.194Z"
   },
   {
    "duration": 37,
    "start_time": "2021-11-18T10:30:50.229Z"
   },
   {
    "duration": 46,
    "start_time": "2021-11-18T10:30:50.269Z"
   },
   {
    "duration": 29,
    "start_time": "2021-11-18T10:30:50.319Z"
   },
   {
    "duration": 50,
    "start_time": "2021-11-18T10:30:50.351Z"
   },
   {
    "duration": 6,
    "start_time": "2021-11-18T10:30:50.404Z"
   },
   {
    "duration": 31,
    "start_time": "2021-11-18T10:30:50.412Z"
   },
   {
    "duration": 956,
    "start_time": "2021-11-18T10:30:50.445Z"
   },
   {
    "duration": 3604,
    "start_time": "2021-11-18T10:30:51.403Z"
   },
   {
    "duration": 33,
    "start_time": "2021-11-18T10:34:31.729Z"
   },
   {
    "duration": 411,
    "start_time": "2021-11-18T10:58:59.469Z"
   },
   {
    "duration": 3762,
    "start_time": "2021-11-18T10:59:12.045Z"
   },
   {
    "duration": 267,
    "start_time": "2021-11-18T11:08:16.247Z"
   },
   {
    "duration": 8,
    "start_time": "2021-11-18T11:14:44.491Z"
   },
   {
    "duration": 3780,
    "start_time": "2021-11-18T11:15:06.676Z"
   },
   {
    "duration": 3791,
    "start_time": "2021-11-18T11:15:39.438Z"
   },
   {
    "duration": 3583,
    "start_time": "2021-11-18T11:16:21.305Z"
   },
   {
    "duration": 27,
    "start_time": "2021-11-18T11:17:00.150Z"
   },
   {
    "duration": 9,
    "start_time": "2021-11-18T11:17:00.785Z"
   },
   {
    "duration": 4514,
    "start_time": "2021-11-18T11:17:02.418Z"
   },
   {
    "duration": 851,
    "start_time": "2021-11-18T11:17:21.189Z"
   },
   {
    "duration": 15,
    "start_time": "2021-11-18T11:17:22.042Z"
   },
   {
    "duration": 30,
    "start_time": "2021-11-18T11:17:22.060Z"
   },
   {
    "duration": 25,
    "start_time": "2021-11-18T11:17:22.093Z"
   },
   {
    "duration": 29,
    "start_time": "2021-11-18T11:17:22.121Z"
   },
   {
    "duration": 17,
    "start_time": "2021-11-18T11:17:22.152Z"
   },
   {
    "duration": 45,
    "start_time": "2021-11-18T11:17:22.172Z"
   },
   {
    "duration": 36,
    "start_time": "2021-11-18T11:17:22.221Z"
   },
   {
    "duration": 18,
    "start_time": "2021-11-18T11:17:22.260Z"
   },
   {
    "duration": 36,
    "start_time": "2021-11-18T11:17:22.281Z"
   },
   {
    "duration": 19,
    "start_time": "2021-11-18T11:17:22.319Z"
   },
   {
    "duration": 38,
    "start_time": "2021-11-18T11:17:22.340Z"
   },
   {
    "duration": 25,
    "start_time": "2021-11-18T11:17:22.381Z"
   },
   {
    "duration": 20,
    "start_time": "2021-11-18T11:17:22.408Z"
   },
   {
    "duration": 5,
    "start_time": "2021-11-18T11:17:22.430Z"
   },
   {
    "duration": 24,
    "start_time": "2021-11-18T11:17:22.437Z"
   },
   {
    "duration": 11,
    "start_time": "2021-11-18T11:17:22.463Z"
   },
   {
    "duration": 8,
    "start_time": "2021-11-18T11:17:22.477Z"
   },
   {
    "duration": 44,
    "start_time": "2021-11-18T11:17:22.487Z"
   },
   {
    "duration": 17,
    "start_time": "2021-11-18T11:17:22.533Z"
   },
   {
    "duration": 26,
    "start_time": "2021-11-18T11:17:22.553Z"
   },
   {
    "duration": 24,
    "start_time": "2021-11-18T11:17:22.581Z"
   },
   {
    "duration": 29,
    "start_time": "2021-11-18T11:17:22.629Z"
   },
   {
    "duration": 75,
    "start_time": "2021-11-18T11:17:22.661Z"
   },
   {
    "duration": 7,
    "start_time": "2021-11-18T11:17:22.740Z"
   },
   {
    "duration": 9,
    "start_time": "2021-11-18T11:17:22.750Z"
   },
   {
    "duration": 4742,
    "start_time": "2021-11-18T11:17:22.761Z"
   },
   {
    "duration": 460,
    "start_time": "2021-11-18T11:18:23.617Z"
   },
   {
    "duration": 3661,
    "start_time": "2021-11-18T11:18:38.697Z"
   },
   {
    "duration": 3756,
    "start_time": "2021-11-18T11:18:54.796Z"
   },
   {
    "duration": 1757,
    "start_time": "2021-11-18T11:19:34.196Z"
   },
   {
    "duration": 339,
    "start_time": "2021-11-18T11:22:35.856Z"
   },
   {
    "duration": 12,
    "start_time": "2021-11-18T11:23:11.042Z"
   },
   {
    "duration": 280,
    "start_time": "2021-11-18T11:24:19.683Z"
   },
   {
    "duration": 3646,
    "start_time": "2021-11-18T11:24:45.421Z"
   },
   {
    "duration": 4120,
    "start_time": "2021-11-18T11:25:58.378Z"
   },
   {
    "duration": 823,
    "start_time": "2021-11-18T11:27:50.544Z"
   },
   {
    "duration": 18,
    "start_time": "2021-11-18T11:27:51.370Z"
   },
   {
    "duration": 13,
    "start_time": "2021-11-18T11:27:51.391Z"
   },
   {
    "duration": 19,
    "start_time": "2021-11-18T11:27:51.430Z"
   },
   {
    "duration": 14,
    "start_time": "2021-11-18T11:27:51.451Z"
   },
   {
    "duration": 16,
    "start_time": "2021-11-18T11:27:51.468Z"
   },
   {
    "duration": 49,
    "start_time": "2021-11-18T11:27:51.487Z"
   },
   {
    "duration": 13,
    "start_time": "2021-11-18T11:27:51.540Z"
   },
   {
    "duration": 18,
    "start_time": "2021-11-18T11:27:51.556Z"
   },
   {
    "duration": 12,
    "start_time": "2021-11-18T11:27:51.577Z"
   },
   {
    "duration": 41,
    "start_time": "2021-11-18T11:27:51.593Z"
   },
   {
    "duration": 9,
    "start_time": "2021-11-18T11:27:51.636Z"
   },
   {
    "duration": 10,
    "start_time": "2021-11-18T11:27:51.647Z"
   },
   {
    "duration": 13,
    "start_time": "2021-11-18T11:27:51.660Z"
   },
   {
    "duration": 7,
    "start_time": "2021-11-18T11:27:51.675Z"
   },
   {
    "duration": 53,
    "start_time": "2021-11-18T11:27:51.684Z"
   },
   {
    "duration": 7,
    "start_time": "2021-11-18T11:27:51.740Z"
   },
   {
    "duration": 8,
    "start_time": "2021-11-18T11:27:51.749Z"
   },
   {
    "duration": 18,
    "start_time": "2021-11-18T11:27:51.759Z"
   },
   {
    "duration": 62,
    "start_time": "2021-11-18T11:27:51.779Z"
   },
   {
    "duration": 16,
    "start_time": "2021-11-18T11:27:51.843Z"
   },
   {
    "duration": 23,
    "start_time": "2021-11-18T11:27:51.862Z"
   },
   {
    "duration": 60,
    "start_time": "2021-11-18T11:27:51.890Z"
   },
   {
    "duration": 50,
    "start_time": "2021-11-18T11:27:51.952Z"
   },
   {
    "duration": 27,
    "start_time": "2021-11-18T11:27:52.004Z"
   },
   {
    "duration": 11,
    "start_time": "2021-11-18T11:27:52.034Z"
   },
   {
    "duration": 931,
    "start_time": "2021-11-18T11:27:52.048Z"
   },
   {
    "duration": 3935,
    "start_time": "2021-11-18T11:27:52.982Z"
   },
   {
    "duration": 12,
    "start_time": "2021-11-18T11:47:55.907Z"
   },
   {
    "duration": 3592,
    "start_time": "2021-11-18T11:47:57.015Z"
   },
   {
    "duration": 14,
    "start_time": "2021-11-18T11:53:00.246Z"
   },
   {
    "duration": 13,
    "start_time": "2021-11-18T11:53:02.599Z"
   },
   {
    "duration": 3547,
    "start_time": "2021-11-18T11:53:03.692Z"
   },
   {
    "duration": 1391,
    "start_time": "2021-11-18T11:55:53.825Z"
   },
   {
    "duration": 3630,
    "start_time": "2021-11-18T11:56:24.447Z"
   },
   {
    "duration": 13,
    "start_time": "2021-11-18T11:59:48.334Z"
   },
   {
    "duration": 1888,
    "start_time": "2021-11-18T12:00:38.227Z"
   },
   {
    "duration": 1593,
    "start_time": "2021-11-18T12:02:19.754Z"
   },
   {
    "duration": 1715,
    "start_time": "2021-11-18T12:04:38.022Z"
   },
   {
    "duration": 16,
    "start_time": "2021-11-18T12:05:38.436Z"
   },
   {
    "duration": 1627,
    "start_time": "2021-11-18T12:05:47.211Z"
   },
   {
    "duration": 3646,
    "start_time": "2021-11-18T12:05:59.472Z"
   },
   {
    "duration": 96,
    "start_time": "2021-11-18T12:31:50.288Z"
   },
   {
    "duration": 86,
    "start_time": "2021-11-18T12:32:12.155Z"
   },
   {
    "duration": 77,
    "start_time": "2021-11-18T12:32:33.530Z"
   },
   {
    "duration": 9,
    "start_time": "2021-11-18T12:43:37.907Z"
   },
   {
    "duration": 2141,
    "start_time": "2021-11-18T12:49:24.477Z"
   },
   {
    "duration": 2031,
    "start_time": "2021-11-18T12:49:43.437Z"
   },
   {
    "duration": 923,
    "start_time": "2021-11-18T12:51:46.617Z"
   },
   {
    "duration": 15,
    "start_time": "2021-11-18T12:51:47.543Z"
   },
   {
    "duration": 12,
    "start_time": "2021-11-18T12:51:47.561Z"
   },
   {
    "duration": 18,
    "start_time": "2021-11-18T12:51:47.575Z"
   },
   {
    "duration": 44,
    "start_time": "2021-11-18T12:51:47.597Z"
   },
   {
    "duration": 17,
    "start_time": "2021-11-18T12:51:47.644Z"
   },
   {
    "duration": 19,
    "start_time": "2021-11-18T12:51:47.664Z"
   },
   {
    "duration": 46,
    "start_time": "2021-11-18T12:51:47.688Z"
   },
   {
    "duration": 20,
    "start_time": "2021-11-18T12:51:47.737Z"
   },
   {
    "duration": 14,
    "start_time": "2021-11-18T12:51:47.759Z"
   },
   {
    "duration": 7,
    "start_time": "2021-11-18T12:51:47.775Z"
   },
   {
    "duration": 45,
    "start_time": "2021-11-18T12:51:47.785Z"
   },
   {
    "duration": 12,
    "start_time": "2021-11-18T12:51:47.832Z"
   },
   {
    "duration": 17,
    "start_time": "2021-11-18T12:51:47.847Z"
   },
   {
    "duration": 7,
    "start_time": "2021-11-18T12:51:47.866Z"
   },
   {
    "duration": 55,
    "start_time": "2021-11-18T12:51:47.875Z"
   },
   {
    "duration": 7,
    "start_time": "2021-11-18T12:51:47.933Z"
   },
   {
    "duration": 14,
    "start_time": "2021-11-18T12:51:47.942Z"
   },
   {
    "duration": 19,
    "start_time": "2021-11-18T12:51:47.959Z"
   },
   {
    "duration": 18,
    "start_time": "2021-11-18T12:51:47.981Z"
   },
   {
    "duration": 21,
    "start_time": "2021-11-18T12:51:48.029Z"
   },
   {
    "duration": 24,
    "start_time": "2021-11-18T12:51:48.052Z"
   },
   {
    "duration": 57,
    "start_time": "2021-11-18T12:51:48.081Z"
   },
   {
    "duration": 50,
    "start_time": "2021-11-18T12:51:48.141Z"
   },
   {
    "duration": 5,
    "start_time": "2021-11-18T12:51:48.194Z"
   },
   {
    "duration": 37,
    "start_time": "2021-11-18T12:51:48.202Z"
   },
   {
    "duration": 945,
    "start_time": "2021-11-18T12:51:48.241Z"
   },
   {
    "duration": 3606,
    "start_time": "2021-11-18T12:51:49.189Z"
   },
   {
    "duration": 860,
    "start_time": "2021-11-18T14:24:49.620Z"
   },
   {
    "duration": 15,
    "start_time": "2021-11-18T14:24:50.483Z"
   },
   {
    "duration": 46,
    "start_time": "2021-11-18T14:24:50.501Z"
   },
   {
    "duration": 31,
    "start_time": "2021-11-18T14:24:50.550Z"
   },
   {
    "duration": 20,
    "start_time": "2021-11-18T14:24:50.583Z"
   },
   {
    "duration": 18,
    "start_time": "2021-11-18T14:24:50.605Z"
   },
   {
    "duration": 47,
    "start_time": "2021-11-18T14:24:50.626Z"
   },
   {
    "duration": 30,
    "start_time": "2021-11-18T14:24:50.676Z"
   },
   {
    "duration": 37,
    "start_time": "2021-11-18T14:24:50.709Z"
   },
   {
    "duration": 25,
    "start_time": "2021-11-18T14:24:50.748Z"
   },
   {
    "duration": 14,
    "start_time": "2021-11-18T14:24:50.776Z"
   },
   {
    "duration": 21,
    "start_time": "2021-11-18T14:24:50.792Z"
   },
   {
    "duration": 23,
    "start_time": "2021-11-18T14:24:50.816Z"
   },
   {
    "duration": 26,
    "start_time": "2021-11-18T14:24:50.843Z"
   },
   {
    "duration": 27,
    "start_time": "2021-11-18T14:24:50.872Z"
   },
   {
    "duration": 33,
    "start_time": "2021-11-18T14:24:50.902Z"
   },
   {
    "duration": 19,
    "start_time": "2021-11-18T14:24:50.938Z"
   },
   {
    "duration": 25,
    "start_time": "2021-11-18T14:24:50.959Z"
   },
   {
    "duration": 47,
    "start_time": "2021-11-18T14:24:50.987Z"
   },
   {
    "duration": 33,
    "start_time": "2021-11-18T14:24:51.037Z"
   },
   {
    "duration": 40,
    "start_time": "2021-11-18T14:24:51.072Z"
   },
   {
    "duration": 25,
    "start_time": "2021-11-18T14:24:51.115Z"
   },
   {
    "duration": 42,
    "start_time": "2021-11-18T14:24:51.144Z"
   },
   {
    "duration": 59,
    "start_time": "2021-11-18T14:24:51.189Z"
   },
   {
    "duration": 6,
    "start_time": "2021-11-18T14:24:51.251Z"
   },
   {
    "duration": 26,
    "start_time": "2021-11-18T14:24:51.259Z"
   },
   {
    "duration": 951,
    "start_time": "2021-11-18T14:24:51.288Z"
   },
   {
    "duration": 3820,
    "start_time": "2021-11-18T14:24:52.242Z"
   },
   {
    "duration": 11,
    "start_time": "2021-11-18T14:26:36.516Z"
   },
   {
    "duration": 21,
    "start_time": "2021-11-18T14:27:13.581Z"
   },
   {
    "duration": 794,
    "start_time": "2021-11-18T14:27:21.275Z"
   },
   {
    "duration": 16,
    "start_time": "2021-11-18T14:27:22.071Z"
   },
   {
    "duration": 12,
    "start_time": "2021-11-18T14:27:22.090Z"
   },
   {
    "duration": 33,
    "start_time": "2021-11-18T14:27:22.105Z"
   },
   {
    "duration": 14,
    "start_time": "2021-11-18T14:27:22.141Z"
   },
   {
    "duration": 17,
    "start_time": "2021-11-18T14:27:22.157Z"
   },
   {
    "duration": 52,
    "start_time": "2021-11-18T14:27:22.177Z"
   },
   {
    "duration": 13,
    "start_time": "2021-11-18T14:27:22.233Z"
   },
   {
    "duration": 18,
    "start_time": "2021-11-18T14:27:22.249Z"
   },
   {
    "duration": 14,
    "start_time": "2021-11-18T14:27:22.269Z"
   },
   {
    "duration": 47,
    "start_time": "2021-11-18T14:27:22.285Z"
   },
   {
    "duration": 10,
    "start_time": "2021-11-18T14:27:22.335Z"
   },
   {
    "duration": 13,
    "start_time": "2021-11-18T14:27:22.347Z"
   },
   {
    "duration": 21,
    "start_time": "2021-11-18T14:27:22.362Z"
   },
   {
    "duration": 16,
    "start_time": "2021-11-18T14:27:22.385Z"
   },
   {
    "duration": 45,
    "start_time": "2021-11-18T14:27:22.404Z"
   },
   {
    "duration": 6,
    "start_time": "2021-11-18T14:27:22.451Z"
   },
   {
    "duration": 8,
    "start_time": "2021-11-18T14:27:22.459Z"
   },
   {
    "duration": 18,
    "start_time": "2021-11-18T14:27:22.469Z"
   },
   {
    "duration": 51,
    "start_time": "2021-11-18T14:27:22.489Z"
   },
   {
    "duration": 25,
    "start_time": "2021-11-18T14:27:22.543Z"
   },
   {
    "duration": 25,
    "start_time": "2021-11-18T14:27:22.570Z"
   },
   {
    "duration": 53,
    "start_time": "2021-11-18T14:27:22.599Z"
   },
   {
    "duration": 49,
    "start_time": "2021-11-18T14:27:22.655Z"
   },
   {
    "duration": 30,
    "start_time": "2021-11-18T14:27:22.707Z"
   },
   {
    "duration": 18,
    "start_time": "2021-11-18T14:27:22.739Z"
   },
   {
    "duration": 990,
    "start_time": "2021-11-18T14:27:22.759Z"
   },
   {
    "duration": 3700,
    "start_time": "2021-11-18T14:27:23.752Z"
   },
   {
    "duration": 3763,
    "start_time": "2021-11-18T14:32:12.394Z"
   },
   {
    "duration": 420,
    "start_time": "2021-11-18T14:57:36.400Z"
   },
   {
    "duration": 265,
    "start_time": "2021-11-18T14:57:47.764Z"
   },
   {
    "duration": 48,
    "start_time": "2021-11-18T14:58:09.784Z"
   },
   {
    "duration": 6,
    "start_time": "2021-11-18T14:58:38.536Z"
   },
   {
    "duration": 41,
    "start_time": "2021-11-18T14:59:14.773Z"
   },
   {
    "duration": 47911,
    "start_time": "2021-11-18T15:00:07.171Z"
   },
   {
    "duration": 38,
    "start_time": "2021-11-18T15:05:41.286Z"
   },
   {
    "duration": 26,
    "start_time": "2021-11-18T15:07:14.971Z"
   },
   {
    "duration": 25,
    "start_time": "2021-11-18T15:23:42.584Z"
   },
   {
    "duration": 37,
    "start_time": "2021-11-18T15:23:53.631Z"
   },
   {
    "duration": 5,
    "start_time": "2021-11-18T15:34:46.986Z"
   },
   {
    "duration": 6763,
    "start_time": "2021-11-18T15:41:57.288Z"
   },
   {
    "duration": 28,
    "start_time": "2021-11-18T15:44:19.876Z"
   },
   {
    "duration": 22,
    "start_time": "2021-11-18T15:44:34.138Z"
   },
   {
    "duration": 26,
    "start_time": "2021-11-18T15:45:05.644Z"
   },
   {
    "duration": 20,
    "start_time": "2021-11-18T15:45:07.315Z"
   },
   {
    "duration": 29,
    "start_time": "2021-11-18T15:46:00.693Z"
   },
   {
    "duration": 21,
    "start_time": "2021-11-18T15:46:06.180Z"
   },
   {
    "duration": 7,
    "start_time": "2021-11-18T15:47:10.451Z"
   },
   {
    "duration": 339,
    "start_time": "2021-11-18T15:47:30.670Z"
   },
   {
    "duration": 156,
    "start_time": "2021-11-18T15:47:46.730Z"
   },
   {
    "duration": 36,
    "start_time": "2021-11-18T15:47:55.876Z"
   },
   {
    "duration": 5,
    "start_time": "2021-11-18T15:48:49.080Z"
   },
   {
    "duration": 5,
    "start_time": "2021-11-18T15:48:55.023Z"
   },
   {
    "duration": 5,
    "start_time": "2021-11-18T15:49:13.041Z"
   },
   {
    "duration": 4,
    "start_time": "2021-11-18T15:50:06.785Z"
   },
   {
    "duration": 270,
    "start_time": "2021-11-18T15:50:30.030Z"
   },
   {
    "duration": 354,
    "start_time": "2021-11-18T15:50:44.356Z"
   },
   {
    "duration": 5,
    "start_time": "2021-11-18T15:53:39.967Z"
   },
   {
    "duration": 27,
    "start_time": "2021-11-18T15:55:02.527Z"
   },
   {
    "duration": 7,
    "start_time": "2021-11-18T16:01:02.813Z"
   },
   {
    "duration": 15,
    "start_time": "2021-11-18T16:01:33.567Z"
   },
   {
    "duration": 7,
    "start_time": "2021-11-18T16:01:46.150Z"
   },
   {
    "duration": 9,
    "start_time": "2021-11-18T16:03:44.640Z"
   },
   {
    "duration": 10,
    "start_time": "2021-11-18T16:03:55.733Z"
   },
   {
    "duration": 280,
    "start_time": "2021-11-18T16:12:05.591Z"
   },
   {
    "duration": 27,
    "start_time": "2021-11-18T16:12:15.897Z"
   },
   {
    "duration": 34,
    "start_time": "2021-11-18T16:12:51.475Z"
   },
   {
    "duration": 23,
    "start_time": "2021-11-18T16:13:10.617Z"
   },
   {
    "duration": 273,
    "start_time": "2021-11-18T16:14:24.400Z"
   },
   {
    "duration": 33,
    "start_time": "2021-11-18T16:16:32.864Z"
   },
   {
    "duration": 299,
    "start_time": "2021-11-18T16:16:44.220Z"
   },
   {
    "duration": 30,
    "start_time": "2021-11-18T16:16:55.330Z"
   },
   {
    "duration": 19,
    "start_time": "2021-11-18T16:17:05.843Z"
   },
   {
    "duration": 9768,
    "start_time": "2021-11-18T16:18:20.705Z"
   },
   {
    "duration": 6757,
    "start_time": "2021-11-18T16:18:50.200Z"
   },
   {
    "duration": 294,
    "start_time": "2021-11-18T16:23:23.795Z"
   },
   {
    "duration": 29,
    "start_time": "2021-11-18T16:23:37.865Z"
   },
   {
    "duration": 21,
    "start_time": "2021-11-18T16:23:43.064Z"
   },
   {
    "duration": 20,
    "start_time": "2021-11-18T16:24:05.254Z"
   },
   {
    "duration": 35,
    "start_time": "2021-11-18T16:24:26.171Z"
   },
   {
    "duration": 32,
    "start_time": "2021-11-18T16:24:30.617Z"
   },
   {
    "duration": 32,
    "start_time": "2021-11-18T16:24:49.088Z"
   },
   {
    "duration": 39,
    "start_time": "2021-11-18T16:25:41.510Z"
   },
   {
    "duration": 7157,
    "start_time": "2021-11-18T16:25:42.833Z"
   },
   {
    "duration": -2,
    "start_time": "2021-11-18T16:25:49.994Z"
   },
   {
    "duration": 35,
    "start_time": "2021-11-18T16:32:20.046Z"
   },
   {
    "duration": 28,
    "start_time": "2021-11-18T16:32:42.555Z"
   },
   {
    "duration": 22,
    "start_time": "2021-11-18T16:32:52.854Z"
   },
   {
    "duration": 363,
    "start_time": "2021-11-18T16:41:20.468Z"
   },
   {
    "duration": 328,
    "start_time": "2021-11-18T16:51:27.019Z"
   },
   {
    "duration": 321,
    "start_time": "2021-11-18T16:51:34.851Z"
   },
   {
    "duration": 276,
    "start_time": "2021-11-18T16:51:48.566Z"
   },
   {
    "duration": 11,
    "start_time": "2021-11-18T16:52:03.910Z"
   },
   {
    "duration": 844,
    "start_time": "2021-11-18T16:52:17.227Z"
   },
   {
    "duration": 17,
    "start_time": "2021-11-18T16:52:18.074Z"
   },
   {
    "duration": 12,
    "start_time": "2021-11-18T16:52:18.094Z"
   },
   {
    "duration": 17,
    "start_time": "2021-11-18T16:52:18.130Z"
   },
   {
    "duration": 14,
    "start_time": "2021-11-18T16:52:18.149Z"
   },
   {
    "duration": 17,
    "start_time": "2021-11-18T16:52:18.165Z"
   },
   {
    "duration": 46,
    "start_time": "2021-11-18T16:52:18.184Z"
   },
   {
    "duration": 13,
    "start_time": "2021-11-18T16:52:18.234Z"
   },
   {
    "duration": 18,
    "start_time": "2021-11-18T16:52:18.250Z"
   },
   {
    "duration": 20,
    "start_time": "2021-11-18T16:52:18.271Z"
   },
   {
    "duration": 7,
    "start_time": "2021-11-18T16:52:18.293Z"
   },
   {
    "duration": 9,
    "start_time": "2021-11-18T16:52:18.330Z"
   },
   {
    "duration": 14,
    "start_time": "2021-11-18T16:52:18.342Z"
   },
   {
    "duration": 9,
    "start_time": "2021-11-18T16:52:18.358Z"
   },
   {
    "duration": 9,
    "start_time": "2021-11-18T16:52:18.370Z"
   },
   {
    "duration": 12,
    "start_time": "2021-11-18T16:52:18.381Z"
   },
   {
    "duration": 48,
    "start_time": "2021-11-18T16:52:18.396Z"
   },
   {
    "duration": 10,
    "start_time": "2021-11-18T16:52:18.446Z"
   },
   {
    "duration": 15,
    "start_time": "2021-11-18T16:52:18.459Z"
   },
   {
    "duration": 6,
    "start_time": "2021-11-18T16:52:18.476Z"
   },
   {
    "duration": 46,
    "start_time": "2021-11-18T16:52:18.484Z"
   },
   {
    "duration": 18,
    "start_time": "2021-11-18T16:52:18.533Z"
   },
   {
    "duration": 20,
    "start_time": "2021-11-18T16:52:18.556Z"
   },
   {
    "duration": 25,
    "start_time": "2021-11-18T16:52:18.579Z"
   },
   {
    "duration": 43,
    "start_time": "2021-11-18T16:52:18.607Z"
   },
   {
    "duration": 31,
    "start_time": "2021-11-18T16:52:18.653Z"
   },
   {
    "duration": 86,
    "start_time": "2021-11-18T16:52:18.687Z"
   },
   {
    "duration": 5,
    "start_time": "2021-11-18T16:52:18.775Z"
   },
   {
    "duration": 36,
    "start_time": "2021-11-18T16:52:18.783Z"
   },
   {
    "duration": 943,
    "start_time": "2021-11-18T16:52:18.821Z"
   },
   {
    "duration": 3864,
    "start_time": "2021-11-18T16:52:19.767Z"
   },
   {
    "duration": 33,
    "start_time": "2021-11-18T16:52:23.634Z"
   },
   {
    "duration": 20,
    "start_time": "2021-11-18T16:52:23.669Z"
   },
   {
    "duration": 38,
    "start_time": "2021-11-18T16:52:23.691Z"
   },
   {
    "duration": 375,
    "start_time": "2021-11-18T16:52:23.732Z"
   },
   {
    "duration": 8,
    "start_time": "2021-11-18T16:54:05.170Z"
   },
   {
    "duration": 315,
    "start_time": "2021-11-18T16:55:37.061Z"
   },
   {
    "duration": 6,
    "start_time": "2021-11-18T16:59:45.843Z"
   },
   {
    "duration": 7,
    "start_time": "2021-11-18T17:00:04.491Z"
   },
   {
    "duration": 419,
    "start_time": "2021-11-18T17:09:16.897Z"
   },
   {
    "duration": 22,
    "start_time": "2021-11-18T17:15:37.943Z"
   },
   {
    "duration": 820,
    "start_time": "2021-11-18T17:15:49.350Z"
   },
   {
    "duration": 14,
    "start_time": "2021-11-18T17:15:50.173Z"
   },
   {
    "duration": 12,
    "start_time": "2021-11-18T17:15:50.191Z"
   },
   {
    "duration": 34,
    "start_time": "2021-11-18T17:15:50.206Z"
   },
   {
    "duration": 20,
    "start_time": "2021-11-18T17:15:50.242Z"
   },
   {
    "duration": 17,
    "start_time": "2021-11-18T17:15:50.265Z"
   },
   {
    "duration": 48,
    "start_time": "2021-11-18T17:15:50.285Z"
   },
   {
    "duration": 40,
    "start_time": "2021-11-18T17:15:50.337Z"
   },
   {
    "duration": 23,
    "start_time": "2021-11-18T17:15:50.380Z"
   },
   {
    "duration": 17,
    "start_time": "2021-11-18T17:15:50.406Z"
   },
   {
    "duration": 14,
    "start_time": "2021-11-18T17:15:50.426Z"
   },
   {
    "duration": 10,
    "start_time": "2021-11-18T17:15:50.442Z"
   },
   {
    "duration": 17,
    "start_time": "2021-11-18T17:15:50.454Z"
   },
   {
    "duration": 13,
    "start_time": "2021-11-18T17:15:50.474Z"
   },
   {
    "duration": 14,
    "start_time": "2021-11-18T17:15:50.489Z"
   },
   {
    "duration": 34,
    "start_time": "2021-11-18T17:15:50.505Z"
   },
   {
    "duration": 9,
    "start_time": "2021-11-18T17:15:50.542Z"
   },
   {
    "duration": 15,
    "start_time": "2021-11-18T17:15:50.553Z"
   },
   {
    "duration": 29,
    "start_time": "2021-11-18T17:15:50.570Z"
   },
   {
    "duration": 49,
    "start_time": "2021-11-18T17:15:50.602Z"
   },
   {
    "duration": 21,
    "start_time": "2021-11-18T17:15:50.654Z"
   },
   {
    "duration": 58,
    "start_time": "2021-11-18T17:15:50.678Z"
   },
   {
    "duration": 38,
    "start_time": "2021-11-18T17:15:50.742Z"
   },
   {
    "duration": 95,
    "start_time": "2021-11-18T17:15:50.783Z"
   },
   {
    "duration": 9,
    "start_time": "2021-11-18T17:15:50.881Z"
   },
   {
    "duration": 11,
    "start_time": "2021-11-18T17:15:50.893Z"
   },
   {
    "duration": 969,
    "start_time": "2021-11-18T17:15:50.906Z"
   },
   {
    "duration": 3921,
    "start_time": "2021-11-18T17:15:51.879Z"
   },
   {
    "duration": 438,
    "start_time": "2021-11-18T17:15:55.803Z"
   },
   {
    "duration": 33,
    "start_time": "2021-11-18T17:15:56.211Z"
   },
   {
    "duration": 30,
    "start_time": "2021-11-18T17:15:56.216Z"
   },
   {
    "duration": 267,
    "start_time": "2021-11-18T17:16:23.487Z"
   },
   {
    "duration": 272,
    "start_time": "2021-11-18T17:16:40.864Z"
   },
   {
    "duration": 262,
    "start_time": "2021-11-18T17:17:44.496Z"
   },
   {
    "duration": 286,
    "start_time": "2021-11-18T17:18:10.163Z"
   },
   {
    "duration": 335,
    "start_time": "2021-11-18T17:23:34.077Z"
   },
   {
    "duration": 275,
    "start_time": "2021-11-18T17:27:06.235Z"
   },
   {
    "duration": 276,
    "start_time": "2021-11-18T17:27:16.323Z"
   },
   {
    "duration": 280,
    "start_time": "2021-11-18T17:27:31.875Z"
   },
   {
    "duration": 270,
    "start_time": "2021-11-18T17:27:37.590Z"
   },
   {
    "duration": 271,
    "start_time": "2021-11-18T17:28:08.139Z"
   },
   {
    "duration": 5,
    "start_time": "2021-11-18T17:28:21.892Z"
   },
   {
    "duration": 30,
    "start_time": "2021-11-18T17:28:28.434Z"
   },
   {
    "duration": 19,
    "start_time": "2021-11-18T17:29:36.090Z"
   },
   {
    "duration": 5,
    "start_time": "2021-11-18T17:29:39.625Z"
   },
   {
    "duration": 20,
    "start_time": "2021-11-18T17:30:00.853Z"
   },
   {
    "duration": 21,
    "start_time": "2021-11-18T17:30:26.029Z"
   },
   {
    "duration": 56,
    "start_time": "2021-11-18T17:30:50.790Z"
   },
   {
    "duration": 51,
    "start_time": "2021-11-18T17:30:55.102Z"
   },
   {
    "duration": 34,
    "start_time": "2021-11-18T17:32:44.654Z"
   },
   {
    "duration": 24,
    "start_time": "2021-11-18T18:09:18.100Z"
   },
   {
    "duration": 29,
    "start_time": "2021-11-18T18:09:46.485Z"
   },
   {
    "duration": 13,
    "start_time": "2021-11-18T18:10:26.241Z"
   },
   {
    "duration": 30,
    "start_time": "2021-11-18T18:10:33.910Z"
   },
   {
    "duration": 11,
    "start_time": "2021-11-18T18:11:16.523Z"
   },
   {
    "duration": 825,
    "start_time": "2021-11-18T18:12:24.940Z"
   },
   {
    "duration": 15,
    "start_time": "2021-11-18T18:12:25.768Z"
   },
   {
    "duration": 13,
    "start_time": "2021-11-18T18:12:25.786Z"
   },
   {
    "duration": 41,
    "start_time": "2021-11-18T18:12:25.802Z"
   },
   {
    "duration": 15,
    "start_time": "2021-11-18T18:12:25.845Z"
   },
   {
    "duration": 16,
    "start_time": "2021-11-18T18:12:25.862Z"
   },
   {
    "duration": 52,
    "start_time": "2021-11-18T18:12:25.880Z"
   },
   {
    "duration": 15,
    "start_time": "2021-11-18T18:12:25.936Z"
   },
   {
    "duration": 18,
    "start_time": "2021-11-18T18:12:25.953Z"
   },
   {
    "duration": 14,
    "start_time": "2021-11-18T18:12:25.973Z"
   },
   {
    "duration": 42,
    "start_time": "2021-11-18T18:12:25.990Z"
   },
   {
    "duration": 5,
    "start_time": "2021-11-18T18:12:26.035Z"
   },
   {
    "duration": 10,
    "start_time": "2021-11-18T18:12:26.042Z"
   },
   {
    "duration": 13,
    "start_time": "2021-11-18T18:12:26.054Z"
   },
   {
    "duration": 7,
    "start_time": "2021-11-18T18:12:26.070Z"
   },
   {
    "duration": 14,
    "start_time": "2021-11-18T18:12:26.130Z"
   },
   {
    "duration": 6,
    "start_time": "2021-11-18T18:12:26.147Z"
   },
   {
    "duration": 7,
    "start_time": "2021-11-18T18:12:26.156Z"
   },
   {
    "duration": 20,
    "start_time": "2021-11-18T18:12:26.165Z"
   },
   {
    "duration": 53,
    "start_time": "2021-11-18T18:12:26.188Z"
   },
   {
    "duration": 17,
    "start_time": "2021-11-18T18:12:26.244Z"
   },
   {
    "duration": 23,
    "start_time": "2021-11-18T18:12:26.263Z"
   },
   {
    "duration": 55,
    "start_time": "2021-11-18T18:12:26.291Z"
   },
   {
    "duration": 50,
    "start_time": "2021-11-18T18:12:26.348Z"
   },
   {
    "duration": 28,
    "start_time": "2021-11-18T18:12:26.401Z"
   },
   {
    "duration": 13,
    "start_time": "2021-11-18T18:12:26.431Z"
   },
   {
    "duration": 960,
    "start_time": "2021-11-18T18:12:26.447Z"
   },
   {
    "duration": 3703,
    "start_time": "2021-11-18T18:12:27.411Z"
   },
   {
    "duration": 51,
    "start_time": "2021-11-18T18:12:31.117Z"
   },
   {
    "duration": 32,
    "start_time": "2021-11-18T18:12:31.170Z"
   },
   {
    "duration": 11,
    "start_time": "2021-11-18T18:12:31.228Z"
   },
   {
    "duration": 40,
    "start_time": "2021-11-18T18:12:31.241Z"
   },
   {
    "duration": 5,
    "start_time": "2021-11-18T18:12:31.283Z"
   },
   {
    "duration": 385,
    "start_time": "2021-11-18T18:12:31.291Z"
   },
   {
    "duration": 30,
    "start_time": "2021-11-18T18:21:35.235Z"
   },
   {
    "duration": 835,
    "start_time": "2021-11-18T18:25:29.442Z"
   },
   {
    "duration": 21,
    "start_time": "2021-11-18T18:25:30.281Z"
   },
   {
    "duration": 29,
    "start_time": "2021-11-18T18:25:30.305Z"
   },
   {
    "duration": 15,
    "start_time": "2021-11-18T18:25:30.336Z"
   },
   {
    "duration": 26,
    "start_time": "2021-11-18T18:25:30.353Z"
   },
   {
    "duration": 39,
    "start_time": "2021-11-18T18:25:30.382Z"
   },
   {
    "duration": 26,
    "start_time": "2021-11-18T18:25:30.424Z"
   },
   {
    "duration": 26,
    "start_time": "2021-11-18T18:25:30.454Z"
   },
   {
    "duration": 33,
    "start_time": "2021-11-18T18:25:30.483Z"
   },
   {
    "duration": 43,
    "start_time": "2021-11-18T18:25:30.519Z"
   },
   {
    "duration": 39,
    "start_time": "2021-11-18T18:25:30.564Z"
   },
   {
    "duration": 23,
    "start_time": "2021-11-18T18:25:30.606Z"
   },
   {
    "duration": 33,
    "start_time": "2021-11-18T18:25:30.631Z"
   },
   {
    "duration": 28,
    "start_time": "2021-11-18T18:25:30.667Z"
   },
   {
    "duration": 12,
    "start_time": "2021-11-18T18:25:30.698Z"
   },
   {
    "duration": 34,
    "start_time": "2021-11-18T18:25:30.713Z"
   },
   {
    "duration": 14,
    "start_time": "2021-11-18T18:25:30.750Z"
   },
   {
    "duration": 41,
    "start_time": "2021-11-18T18:25:30.767Z"
   },
   {
    "duration": 39,
    "start_time": "2021-11-18T18:25:30.810Z"
   },
   {
    "duration": 46,
    "start_time": "2021-11-18T18:25:30.852Z"
   },
   {
    "duration": 39,
    "start_time": "2021-11-18T18:25:30.901Z"
   },
   {
    "duration": 34,
    "start_time": "2021-11-18T18:25:30.943Z"
   },
   {
    "duration": 28,
    "start_time": "2021-11-18T18:25:30.982Z"
   },
   {
    "duration": 64,
    "start_time": "2021-11-18T18:25:31.013Z"
   },
   {
    "duration": 9,
    "start_time": "2021-11-18T18:25:31.079Z"
   },
   {
    "duration": 22,
    "start_time": "2021-11-18T18:25:31.091Z"
   },
   {
    "duration": 972,
    "start_time": "2021-11-18T18:25:31.116Z"
   },
   {
    "duration": 3611,
    "start_time": "2021-11-18T18:25:32.092Z"
   },
   {
    "duration": 384,
    "start_time": "2021-11-18T18:25:35.706Z"
   },
   {
    "duration": -95,
    "start_time": "2021-11-18T18:25:36.188Z"
   },
   {
    "duration": -98,
    "start_time": "2021-11-18T18:25:36.192Z"
   },
   {
    "duration": 70,
    "start_time": "2021-11-18T18:26:23.482Z"
   },
   {
    "duration": 274,
    "start_time": "2021-11-18T18:26:29.444Z"
   },
   {
    "duration": 33,
    "start_time": "2021-11-18T18:27:10.961Z"
   },
   {
    "duration": 104309,
    "start_time": "2021-11-18T18:27:17.407Z"
   },
   {
    "duration": 33,
    "start_time": "2021-11-18T18:39:04.789Z"
   },
   {
    "duration": 853,
    "start_time": "2021-11-18T18:39:12.590Z"
   },
   {
    "duration": 14,
    "start_time": "2021-11-18T18:39:13.446Z"
   },
   {
    "duration": 16,
    "start_time": "2021-11-18T18:39:13.463Z"
   },
   {
    "duration": 16,
    "start_time": "2021-11-18T18:39:13.482Z"
   },
   {
    "duration": 38,
    "start_time": "2021-11-18T18:39:13.501Z"
   },
   {
    "duration": 16,
    "start_time": "2021-11-18T18:39:13.542Z"
   },
   {
    "duration": 31,
    "start_time": "2021-11-18T18:39:13.561Z"
   },
   {
    "duration": 35,
    "start_time": "2021-11-18T18:39:13.596Z"
   },
   {
    "duration": 19,
    "start_time": "2021-11-18T18:39:13.634Z"
   },
   {
    "duration": 15,
    "start_time": "2021-11-18T18:39:13.656Z"
   },
   {
    "duration": 8,
    "start_time": "2021-11-18T18:39:13.673Z"
   },
   {
    "duration": 7,
    "start_time": "2021-11-18T18:39:13.683Z"
   },
   {
    "duration": 10,
    "start_time": "2021-11-18T18:39:13.730Z"
   },
   {
    "duration": 17,
    "start_time": "2021-11-18T18:39:13.742Z"
   },
   {
    "duration": 13,
    "start_time": "2021-11-18T18:39:13.762Z"
   },
   {
    "duration": 16,
    "start_time": "2021-11-18T18:39:13.778Z"
   },
   {
    "duration": 36,
    "start_time": "2021-11-18T18:39:13.796Z"
   },
   {
    "duration": 6,
    "start_time": "2021-11-18T18:39:13.835Z"
   },
   {
    "duration": 24,
    "start_time": "2021-11-18T18:39:13.843Z"
   },
   {
    "duration": 20,
    "start_time": "2021-11-18T18:39:13.869Z"
   },
   {
    "duration": 43,
    "start_time": "2021-11-18T18:39:13.891Z"
   },
   {
    "duration": 23,
    "start_time": "2021-11-18T18:39:13.936Z"
   },
   {
    "duration": 29,
    "start_time": "2021-11-18T18:39:13.963Z"
   },
   {
    "duration": 80,
    "start_time": "2021-11-18T18:39:13.995Z"
   },
   {
    "duration": 5,
    "start_time": "2021-11-18T18:39:14.077Z"
   },
   {
    "duration": 20,
    "start_time": "2021-11-18T18:39:14.085Z"
   },
   {
    "duration": 959,
    "start_time": "2021-11-18T18:39:14.107Z"
   },
   {
    "duration": 3723,
    "start_time": "2021-11-18T18:39:15.069Z"
   },
   {
    "duration": 656,
    "start_time": "2021-11-18T18:39:18.794Z"
   },
   {
    "duration": -628,
    "start_time": "2021-11-18T18:39:20.080Z"
   },
   {
    "duration": -631,
    "start_time": "2021-11-18T18:39:20.085Z"
   },
   {
    "duration": 279,
    "start_time": "2021-11-18T18:40:06.324Z"
   },
   {
    "duration": 47,
    "start_time": "2021-11-18T18:40:30.363Z"
   },
   {
    "duration": 73,
    "start_time": "2021-11-18T18:42:23.508Z"
   },
   {
    "duration": 13,
    "start_time": "2021-11-18T18:43:26.624Z"
   },
   {
    "duration": 6,
    "start_time": "2021-11-18T18:44:22.998Z"
   },
   {
    "duration": 96,
    "start_time": "2021-11-18T19:11:43.765Z"
   },
   {
    "duration": 508,
    "start_time": "2021-11-18T19:11:56.200Z"
   },
   {
    "duration": 496,
    "start_time": "2021-11-18T19:12:43.629Z"
   },
   {
    "duration": 3815,
    "start_time": "2021-11-18T19:13:39.367Z"
   },
   {
    "duration": 61,
    "start_time": "2021-11-18T19:13:47.687Z"
   },
   {
    "duration": 488,
    "start_time": "2021-11-18T19:15:41.555Z"
   },
   {
    "duration": 468,
    "start_time": "2021-11-18T19:16:37.453Z"
   },
   {
    "duration": 52,
    "start_time": "2021-11-18T19:36:43.842Z"
   },
   {
    "duration": 49,
    "start_time": "2021-11-18T19:37:53.183Z"
   },
   {
    "duration": 7622,
    "start_time": "2021-11-18T19:48:23.739Z"
   },
   {
    "duration": 26,
    "start_time": "2021-11-18T19:48:46.616Z"
   },
   {
    "duration": 28,
    "start_time": "2021-11-18T20:03:56.559Z"
   },
   {
    "duration": 20,
    "start_time": "2021-11-18T20:05:10.036Z"
   },
   {
    "duration": 29,
    "start_time": "2021-11-18T20:05:30.839Z"
   },
   {
    "duration": 6777,
    "start_time": "2021-11-18T20:07:05.689Z"
   },
   {
    "duration": 4,
    "start_time": "2021-11-18T20:09:16.643Z"
   },
   {
    "duration": 7,
    "start_time": "2021-11-18T20:09:30.225Z"
   },
   {
    "duration": 264,
    "start_time": "2021-11-18T20:10:12.408Z"
   },
   {
    "duration": 6,
    "start_time": "2021-11-18T20:10:32.024Z"
   },
   {
    "duration": 102,
    "start_time": "2021-11-18T20:11:12.683Z"
   },
   {
    "duration": 93,
    "start_time": "2021-11-18T20:11:23.700Z"
   },
   {
    "duration": 5,
    "start_time": "2021-11-18T20:12:21.832Z"
   },
   {
    "duration": 375,
    "start_time": "2021-11-18T20:14:00.991Z"
   },
   {
    "duration": 5,
    "start_time": "2021-11-18T20:14:50.607Z"
   },
   {
    "duration": 5,
    "start_time": "2021-11-18T20:14:55.672Z"
   },
   {
    "duration": 6,
    "start_time": "2021-11-18T20:18:36.900Z"
   },
   {
    "duration": 6,
    "start_time": "2021-11-18T20:21:15.380Z"
   },
   {
    "duration": 5,
    "start_time": "2021-11-18T20:21:22.667Z"
   },
   {
    "duration": 5,
    "start_time": "2021-11-18T20:21:29.818Z"
   },
   {
    "duration": 6,
    "start_time": "2021-11-18T20:21:35.668Z"
   },
   {
    "duration": 5,
    "start_time": "2021-11-18T20:27:24.154Z"
   },
   {
    "duration": 6,
    "start_time": "2021-11-18T20:28:02.323Z"
   },
   {
    "duration": 7,
    "start_time": "2021-11-18T20:28:03.027Z"
   },
   {
    "duration": 6,
    "start_time": "2021-11-18T20:28:03.710Z"
   },
   {
    "duration": 5,
    "start_time": "2021-11-18T20:28:04.490Z"
   },
   {
    "duration": 5,
    "start_time": "2021-11-18T20:28:05.290Z"
   },
   {
    "duration": 5,
    "start_time": "2021-11-18T20:28:05.971Z"
   },
   {
    "duration": 284,
    "start_time": "2021-11-18T20:34:00.441Z"
   },
   {
    "duration": 29,
    "start_time": "2021-11-18T20:34:36.778Z"
   },
   {
    "duration": 6835,
    "start_time": "2021-11-18T20:38:34.185Z"
   },
   {
    "duration": 7475,
    "start_time": "2021-11-18T20:39:12.872Z"
   },
   {
    "duration": 279,
    "start_time": "2021-11-18T20:39:53.680Z"
   },
   {
    "duration": 5,
    "start_time": "2021-11-18T20:40:51.704Z"
   },
   {
    "duration": 5,
    "start_time": "2021-11-18T20:44:47.239Z"
   },
   {
    "duration": 6,
    "start_time": "2021-11-18T20:44:48.445Z"
   },
   {
    "duration": 5,
    "start_time": "2021-11-18T20:44:49.216Z"
   },
   {
    "duration": 6,
    "start_time": "2021-11-18T20:44:49.961Z"
   },
   {
    "duration": 278,
    "start_time": "2021-11-18T20:49:24.627Z"
   },
   {
    "duration": 21,
    "start_time": "2021-11-18T20:50:23.693Z"
   },
   {
    "duration": 27,
    "start_time": "2021-11-18T20:50:32.786Z"
   },
   {
    "duration": 5,
    "start_time": "2021-11-18T20:55:50.552Z"
   },
   {
    "duration": 5,
    "start_time": "2021-11-18T20:55:51.378Z"
   },
   {
    "duration": 6,
    "start_time": "2021-11-18T20:55:51.978Z"
   },
   {
    "duration": 5,
    "start_time": "2021-11-18T20:55:52.568Z"
   },
   {
    "duration": 5,
    "start_time": "2021-11-18T20:55:53.186Z"
   },
   {
    "duration": 27,
    "start_time": "2021-11-18T21:00:00.935Z"
   },
   {
    "duration": 304,
    "start_time": "2021-11-18T21:04:12.353Z"
   },
   {
    "duration": 5,
    "start_time": "2021-11-18T21:04:28.471Z"
   },
   {
    "duration": 6,
    "start_time": "2021-11-18T21:04:31.341Z"
   },
   {
    "duration": 4,
    "start_time": "2021-11-18T21:04:33.797Z"
   },
   {
    "duration": 5,
    "start_time": "2021-11-18T21:04:36.022Z"
   },
   {
    "duration": 920,
    "start_time": "2021-11-18T21:13:03.898Z"
   },
   {
    "duration": 18,
    "start_time": "2021-11-18T21:13:04.821Z"
   },
   {
    "duration": 14,
    "start_time": "2021-11-18T21:13:04.842Z"
   },
   {
    "duration": 15,
    "start_time": "2021-11-18T21:13:04.859Z"
   },
   {
    "duration": 15,
    "start_time": "2021-11-18T21:13:04.877Z"
   },
   {
    "duration": 47,
    "start_time": "2021-11-18T21:13:04.894Z"
   },
   {
    "duration": 24,
    "start_time": "2021-11-18T21:13:04.944Z"
   },
   {
    "duration": 14,
    "start_time": "2021-11-18T21:13:04.971Z"
   },
   {
    "duration": 52,
    "start_time": "2021-11-18T21:13:04.988Z"
   },
   {
    "duration": 16,
    "start_time": "2021-11-18T21:13:05.042Z"
   },
   {
    "duration": 6,
    "start_time": "2021-11-18T21:13:05.061Z"
   },
   {
    "duration": 14,
    "start_time": "2021-11-18T21:13:05.069Z"
   },
   {
    "duration": 19,
    "start_time": "2021-11-18T21:13:05.086Z"
   },
   {
    "duration": 14,
    "start_time": "2021-11-18T21:13:05.128Z"
   },
   {
    "duration": 12,
    "start_time": "2021-11-18T21:13:05.145Z"
   },
   {
    "duration": 17,
    "start_time": "2021-11-18T21:13:05.160Z"
   },
   {
    "duration": 9,
    "start_time": "2021-11-18T21:13:05.180Z"
   },
   {
    "duration": 52,
    "start_time": "2021-11-18T21:13:05.191Z"
   },
   {
    "duration": 20,
    "start_time": "2021-11-18T21:13:05.247Z"
   },
   {
    "duration": 25,
    "start_time": "2021-11-18T21:13:05.270Z"
   },
   {
    "duration": 51,
    "start_time": "2021-11-18T21:13:05.297Z"
   },
   {
    "duration": 22,
    "start_time": "2021-11-18T21:13:05.351Z"
   },
   {
    "duration": 52,
    "start_time": "2021-11-18T21:13:05.378Z"
   },
   {
    "duration": 54,
    "start_time": "2021-11-18T21:13:05.433Z"
   },
   {
    "duration": 6,
    "start_time": "2021-11-18T21:13:05.490Z"
   },
   {
    "duration": 12,
    "start_time": "2021-11-18T21:13:05.530Z"
   },
   {
    "duration": 1135,
    "start_time": "2021-11-18T21:13:05.545Z"
   },
   {
    "duration": 4026,
    "start_time": "2021-11-18T21:13:06.683Z"
   },
   {
    "duration": 65,
    "start_time": "2021-11-18T21:13:10.711Z"
   },
   {
    "duration": 8,
    "start_time": "2021-11-18T21:13:10.779Z"
   },
   {
    "duration": 507,
    "start_time": "2021-11-18T21:13:10.789Z"
   },
   {
    "duration": 56,
    "start_time": "2021-11-18T21:13:11.298Z"
   },
   {
    "duration": 5,
    "start_time": "2021-11-18T21:13:11.357Z"
   },
   {
    "duration": 8,
    "start_time": "2021-11-18T21:13:11.364Z"
   },
   {
    "duration": 17,
    "start_time": "2021-11-18T21:13:11.375Z"
   },
   {
    "duration": 38,
    "start_time": "2021-11-18T21:13:11.395Z"
   },
   {
    "duration": 7,
    "start_time": "2021-11-18T21:13:11.436Z"
   },
   {
    "duration": 32,
    "start_time": "2021-11-18T21:13:11.446Z"
   },
   {
    "duration": 7,
    "start_time": "2021-11-18T21:13:11.481Z"
   },
   {
    "duration": 8,
    "start_time": "2021-11-18T21:13:11.530Z"
   },
   {
    "duration": 7,
    "start_time": "2021-11-18T21:13:11.541Z"
   },
   {
    "duration": 7,
    "start_time": "2021-11-18T21:13:11.552Z"
   },
   {
    "duration": 8,
    "start_time": "2021-11-18T21:13:11.562Z"
   },
   {
    "duration": 81,
    "start_time": "2021-11-18T21:13:11.572Z"
   },
   {
    "duration": 5,
    "start_time": "2021-11-18T21:13:11.655Z"
   },
   {
    "duration": 8,
    "start_time": "2021-11-18T21:13:11.662Z"
   },
   {
    "duration": 7,
    "start_time": "2021-11-18T21:13:11.672Z"
   },
   {
    "duration": 47,
    "start_time": "2021-11-18T21:13:11.682Z"
   },
   {
    "duration": 11,
    "start_time": "2021-11-18T21:13:11.731Z"
   },
   {
    "duration": 31,
    "start_time": "2021-11-18T21:13:11.744Z"
   },
   {
    "duration": 5,
    "start_time": "2021-11-18T21:13:11.777Z"
   },
   {
    "duration": 7,
    "start_time": "2021-11-18T21:13:11.784Z"
   },
   {
    "duration": 37,
    "start_time": "2021-11-18T21:13:11.794Z"
   },
   {
    "duration": 6,
    "start_time": "2021-11-18T21:13:11.833Z"
   },
   {
    "duration": 4676,
    "start_time": "2021-11-18T21:18:11.678Z"
   },
   {
    "duration": 36,
    "start_time": "2021-11-18T21:18:41.778Z"
   },
   {
    "duration": 5,
    "start_time": "2021-11-18T21:18:53.267Z"
   },
   {
    "duration": 471,
    "start_time": "2021-11-18T21:19:46.881Z"
   },
   {
    "duration": 623,
    "start_time": "2021-11-18T21:19:56.344Z"
   },
   {
    "duration": 810,
    "start_time": "2021-11-18T21:21:47.274Z"
   },
   {
    "duration": 16,
    "start_time": "2021-11-18T21:21:48.087Z"
   },
   {
    "duration": 24,
    "start_time": "2021-11-18T21:21:48.106Z"
   },
   {
    "duration": 17,
    "start_time": "2021-11-18T21:21:48.133Z"
   },
   {
    "duration": 15,
    "start_time": "2021-11-18T21:21:48.152Z"
   },
   {
    "duration": 17,
    "start_time": "2021-11-18T21:21:48.169Z"
   },
   {
    "duration": 48,
    "start_time": "2021-11-18T21:21:48.188Z"
   },
   {
    "duration": 12,
    "start_time": "2021-11-18T21:21:48.240Z"
   },
   {
    "duration": 19,
    "start_time": "2021-11-18T21:21:48.256Z"
   },
   {
    "duration": 23,
    "start_time": "2021-11-18T21:21:48.277Z"
   },
   {
    "duration": 30,
    "start_time": "2021-11-18T21:21:48.303Z"
   },
   {
    "duration": 5,
    "start_time": "2021-11-18T21:21:48.336Z"
   },
   {
    "duration": 10,
    "start_time": "2021-11-18T21:21:48.344Z"
   },
   {
    "duration": 15,
    "start_time": "2021-11-18T21:21:48.356Z"
   },
   {
    "duration": 8,
    "start_time": "2021-11-18T21:21:48.373Z"
   },
   {
    "duration": 58,
    "start_time": "2021-11-18T21:21:48.384Z"
   },
   {
    "duration": 7,
    "start_time": "2021-11-18T21:21:48.444Z"
   },
   {
    "duration": 8,
    "start_time": "2021-11-18T21:21:48.454Z"
   },
   {
    "duration": 24,
    "start_time": "2021-11-18T21:21:48.464Z"
   },
   {
    "duration": 49,
    "start_time": "2021-11-18T21:21:48.491Z"
   },
   {
    "duration": 24,
    "start_time": "2021-11-18T21:21:48.543Z"
   },
   {
    "duration": 22,
    "start_time": "2021-11-18T21:21:48.570Z"
   },
   {
    "duration": 47,
    "start_time": "2021-11-18T21:21:48.598Z"
   },
   {
    "duration": 50,
    "start_time": "2021-11-18T21:21:48.648Z"
   },
   {
    "duration": 6,
    "start_time": "2021-11-18T21:21:48.700Z"
   },
   {
    "duration": 11,
    "start_time": "2021-11-18T21:21:48.729Z"
   },
   {
    "duration": 1039,
    "start_time": "2021-11-18T21:21:48.742Z"
   },
   {
    "duration": 3560,
    "start_time": "2021-11-18T21:21:49.783Z"
   },
   {
    "duration": 34,
    "start_time": "2021-11-18T21:21:53.345Z"
   },
   {
    "duration": 10,
    "start_time": "2021-11-18T21:21:53.381Z"
   },
   {
    "duration": 506,
    "start_time": "2021-11-18T21:21:53.393Z"
   },
   {
    "duration": 48,
    "start_time": "2021-11-18T21:21:53.902Z"
   },
   {
    "duration": 5,
    "start_time": "2021-11-18T21:21:53.952Z"
   },
   {
    "duration": 11,
    "start_time": "2021-11-18T21:21:53.959Z"
   },
   {
    "duration": 9,
    "start_time": "2021-11-18T21:21:53.973Z"
   },
   {
    "duration": 6,
    "start_time": "2021-11-18T21:21:53.985Z"
   },
   {
    "duration": 37,
    "start_time": "2021-11-18T21:21:53.994Z"
   },
   {
    "duration": 32,
    "start_time": "2021-11-18T21:21:54.033Z"
   },
   {
    "duration": 5,
    "start_time": "2021-11-18T21:21:54.067Z"
   },
   {
    "duration": 11,
    "start_time": "2021-11-18T21:21:54.074Z"
   },
   {
    "duration": 14,
    "start_time": "2021-11-18T21:21:54.088Z"
   },
   {
    "duration": 5,
    "start_time": "2021-11-18T21:21:54.131Z"
   },
   {
    "duration": 8,
    "start_time": "2021-11-18T21:21:54.139Z"
   },
   {
    "duration": 30,
    "start_time": "2021-11-18T21:21:54.150Z"
   },
   {
    "duration": 4,
    "start_time": "2021-11-18T21:21:54.182Z"
   },
   {
    "duration": 44,
    "start_time": "2021-11-18T21:21:54.189Z"
   },
   {
    "duration": 7,
    "start_time": "2021-11-18T21:21:54.236Z"
   },
   {
    "duration": 9,
    "start_time": "2021-11-18T21:21:54.245Z"
   },
   {
    "duration": 10,
    "start_time": "2021-11-18T21:21:54.256Z"
   },
   {
    "duration": 67,
    "start_time": "2021-11-18T21:21:54.269Z"
   },
   {
    "duration": 4,
    "start_time": "2021-11-18T21:21:54.338Z"
   },
   {
    "duration": 13,
    "start_time": "2021-11-18T21:21:54.344Z"
   },
   {
    "duration": 7,
    "start_time": "2021-11-18T21:21:54.359Z"
   },
   {
    "duration": 8,
    "start_time": "2021-11-18T21:21:54.368Z"
   },
   {
    "duration": 584,
    "start_time": "2021-11-19T05:55:36.516Z"
   },
   {
    "duration": 10,
    "start_time": "2021-11-19T05:55:37.101Z"
   },
   {
    "duration": 7,
    "start_time": "2021-11-19T05:55:37.113Z"
   },
   {
    "duration": 7,
    "start_time": "2021-11-19T05:55:37.122Z"
   },
   {
    "duration": 9,
    "start_time": "2021-11-19T05:55:37.130Z"
   },
   {
    "duration": 9,
    "start_time": "2021-11-19T05:55:37.140Z"
   },
   {
    "duration": 10,
    "start_time": "2021-11-19T05:55:37.151Z"
   },
   {
    "duration": 8,
    "start_time": "2021-11-19T05:55:37.187Z"
   },
   {
    "duration": 13,
    "start_time": "2021-11-19T05:55:37.197Z"
   },
   {
    "duration": 10,
    "start_time": "2021-11-19T05:55:37.212Z"
   },
   {
    "duration": 6,
    "start_time": "2021-11-19T05:55:37.223Z"
   },
   {
    "duration": 4,
    "start_time": "2021-11-19T05:55:37.231Z"
   },
   {
    "duration": 6,
    "start_time": "2021-11-19T05:55:37.236Z"
   },
   {
    "duration": 9,
    "start_time": "2021-11-19T05:55:37.243Z"
   },
   {
    "duration": 35,
    "start_time": "2021-11-19T05:55:37.253Z"
   },
   {
    "duration": 8,
    "start_time": "2021-11-19T05:55:37.290Z"
   },
   {
    "duration": 4,
    "start_time": "2021-11-19T05:55:37.299Z"
   },
   {
    "duration": 6,
    "start_time": "2021-11-19T05:55:37.305Z"
   },
   {
    "duration": 11,
    "start_time": "2021-11-19T05:55:37.312Z"
   },
   {
    "duration": 10,
    "start_time": "2021-11-19T05:55:37.324Z"
   },
   {
    "duration": 11,
    "start_time": "2021-11-19T05:55:37.336Z"
   },
   {
    "duration": 42,
    "start_time": "2021-11-19T05:55:37.349Z"
   },
   {
    "duration": 15,
    "start_time": "2021-11-19T05:55:37.393Z"
   },
   {
    "duration": 27,
    "start_time": "2021-11-19T05:55:37.409Z"
   },
   {
    "duration": 4,
    "start_time": "2021-11-19T05:55:37.438Z"
   },
   {
    "duration": 8,
    "start_time": "2021-11-19T05:55:37.443Z"
   },
   {
    "duration": 620,
    "start_time": "2021-11-19T05:55:37.454Z"
   },
   {
    "duration": 2468,
    "start_time": "2021-11-19T05:55:38.076Z"
   },
   {
    "duration": 19,
    "start_time": "2021-11-19T05:55:40.545Z"
   },
   {
    "duration": 3,
    "start_time": "2021-11-19T05:55:40.566Z"
   },
   {
    "duration": 243,
    "start_time": "2021-11-19T05:55:40.587Z"
   },
   {
    "duration": 20,
    "start_time": "2021-11-19T05:55:40.832Z"
   },
   {
    "duration": 3,
    "start_time": "2021-11-19T05:55:40.854Z"
   },
   {
    "duration": 5,
    "start_time": "2021-11-19T05:55:40.858Z"
   },
   {
    "duration": 24,
    "start_time": "2021-11-19T05:55:40.864Z"
   },
   {
    "duration": 4,
    "start_time": "2021-11-19T05:55:40.889Z"
   },
   {
    "duration": 4,
    "start_time": "2021-11-19T05:55:40.894Z"
   },
   {
    "duration": 17,
    "start_time": "2021-11-19T05:55:40.900Z"
   },
   {
    "duration": 3,
    "start_time": "2021-11-19T05:55:40.919Z"
   },
   {
    "duration": 7,
    "start_time": "2021-11-19T05:55:40.923Z"
   },
   {
    "duration": 5,
    "start_time": "2021-11-19T05:55:40.931Z"
   },
   {
    "duration": 5,
    "start_time": "2021-11-19T05:55:40.937Z"
   },
   {
    "duration": 5,
    "start_time": "2021-11-19T05:55:40.943Z"
   },
   {
    "duration": 49,
    "start_time": "2021-11-19T05:55:40.949Z"
   },
   {
    "duration": 3,
    "start_time": "2021-11-19T05:55:41.000Z"
   },
   {
    "duration": 5,
    "start_time": "2021-11-19T05:55:41.004Z"
   },
   {
    "duration": 5,
    "start_time": "2021-11-19T05:55:41.010Z"
   },
   {
    "duration": 5,
    "start_time": "2021-11-19T05:55:41.016Z"
   },
   {
    "duration": 5,
    "start_time": "2021-11-19T05:55:41.023Z"
   },
   {
    "duration": 17,
    "start_time": "2021-11-19T05:55:41.029Z"
   },
   {
    "duration": 3,
    "start_time": "2021-11-19T05:55:41.047Z"
   },
   {
    "duration": 37,
    "start_time": "2021-11-19T05:55:41.051Z"
   },
   {
    "duration": 3,
    "start_time": "2021-11-19T05:55:41.089Z"
   },
   {
    "duration": 6,
    "start_time": "2021-11-19T05:55:41.093Z"
   },
   {
    "duration": 18,
    "start_time": "2021-11-19T06:00:57.518Z"
   },
   {
    "duration": 13,
    "start_time": "2021-11-19T06:01:25.821Z"
   },
   {
    "duration": 13,
    "start_time": "2021-11-19T06:01:47.846Z"
   },
   {
    "duration": 473,
    "start_time": "2021-11-19T09:12:00.039Z"
   },
   {
    "duration": 861,
    "start_time": "2021-11-19T09:12:19.950Z"
   },
   {
    "duration": 15,
    "start_time": "2021-11-19T09:12:21.354Z"
   },
   {
    "duration": 15,
    "start_time": "2021-11-19T09:12:26.656Z"
   },
   {
    "duration": 18,
    "start_time": "2021-11-19T09:12:29.497Z"
   },
   {
    "duration": 26,
    "start_time": "2021-11-19T09:12:31.257Z"
   },
   {
    "duration": 17,
    "start_time": "2021-11-19T09:12:33.037Z"
   },
   {
    "duration": 19,
    "start_time": "2021-11-19T09:12:34.327Z"
   },
   {
    "duration": 14,
    "start_time": "2021-11-19T09:12:38.091Z"
   },
   {
    "duration": 19,
    "start_time": "2021-11-19T09:12:38.811Z"
   },
   {
    "duration": 12,
    "start_time": "2021-11-19T09:12:39.863Z"
   },
   {
    "duration": 6,
    "start_time": "2021-11-19T09:12:43.324Z"
   },
   {
    "duration": 5,
    "start_time": "2021-11-19T09:12:50.716Z"
   },
   {
    "duration": 8,
    "start_time": "2021-11-19T09:12:52.268Z"
   },
   {
    "duration": 9,
    "start_time": "2021-11-19T09:12:53.485Z"
   },
   {
    "duration": 8,
    "start_time": "2021-11-19T09:13:16.710Z"
   },
   {
    "duration": 9549,
    "start_time": "2021-11-19T09:24:34.152Z"
   },
   {
    "duration": 8,
    "start_time": "2021-11-19T09:24:53.979Z"
   },
   {
    "duration": 8,
    "start_time": "2021-11-19T09:27:28.452Z"
   },
   {
    "duration": 141,
    "start_time": "2021-11-19T09:29:00.642Z"
   },
   {
    "duration": 8,
    "start_time": "2021-11-19T09:33:30.286Z"
   },
   {
    "duration": 9,
    "start_time": "2021-11-19T09:48:57.668Z"
   },
   {
    "duration": 153,
    "start_time": "2021-11-19T09:59:50.522Z"
   },
   {
    "duration": 916,
    "start_time": "2021-11-19T10:01:41.885Z"
   },
   {
    "duration": 16,
    "start_time": "2021-11-19T10:01:42.803Z"
   },
   {
    "duration": 17,
    "start_time": "2021-11-19T10:01:42.822Z"
   },
   {
    "duration": 15,
    "start_time": "2021-11-19T10:01:42.859Z"
   },
   {
    "duration": 16,
    "start_time": "2021-11-19T10:01:42.877Z"
   },
   {
    "duration": 30,
    "start_time": "2021-11-19T10:01:42.897Z"
   },
   {
    "duration": 55,
    "start_time": "2021-11-19T10:01:42.930Z"
   },
   {
    "duration": 20,
    "start_time": "2021-11-19T10:01:42.989Z"
   },
   {
    "duration": 45,
    "start_time": "2021-11-19T10:01:43.014Z"
   },
   {
    "duration": 14,
    "start_time": "2021-11-19T10:01:43.063Z"
   },
   {
    "duration": 6,
    "start_time": "2021-11-19T10:01:43.080Z"
   },
   {
    "duration": 10,
    "start_time": "2021-11-19T10:01:43.089Z"
   },
   {
    "duration": 19,
    "start_time": "2021-11-19T10:01:43.101Z"
   },
   {
    "duration": 47,
    "start_time": "2021-11-19T10:01:43.123Z"
   },
   {
    "duration": 9,
    "start_time": "2021-11-19T10:01:43.173Z"
   },
   {
    "duration": 16,
    "start_time": "2021-11-19T10:01:43.184Z"
   },
   {
    "duration": 15,
    "start_time": "2021-11-19T10:01:43.203Z"
   },
   {
    "duration": 44,
    "start_time": "2021-11-19T10:01:43.221Z"
   },
   {
    "duration": 14,
    "start_time": "2021-11-19T10:01:43.267Z"
   },
   {
    "duration": 20,
    "start_time": "2021-11-19T10:01:43.283Z"
   },
   {
    "duration": 17,
    "start_time": "2021-11-19T10:01:43.306Z"
   },
   {
    "duration": 45,
    "start_time": "2021-11-19T10:01:43.326Z"
   },
   {
    "duration": 25,
    "start_time": "2021-11-19T10:01:43.377Z"
   },
   {
    "duration": 64,
    "start_time": "2021-11-19T10:01:43.406Z"
   },
   {
    "duration": 52,
    "start_time": "2021-11-19T10:01:43.473Z"
   },
   {
    "duration": 32,
    "start_time": "2021-11-19T10:01:43.528Z"
   },
   {
    "duration": 15,
    "start_time": "2021-11-19T10:01:43.563Z"
   },
   {
    "duration": 1002,
    "start_time": "2021-11-19T10:01:43.580Z"
   },
   {
    "duration": 4365,
    "start_time": "2021-11-19T10:01:44.586Z"
   },
   {
    "duration": 45,
    "start_time": "2021-11-19T10:01:48.961Z"
   },
   {
    "duration": 11,
    "start_time": "2021-11-19T10:01:49.008Z"
   },
   {
    "duration": 504,
    "start_time": "2021-11-19T10:01:49.022Z"
   },
   {
    "duration": 48,
    "start_time": "2021-11-19T10:01:49.528Z"
   },
   {
    "duration": 6,
    "start_time": "2021-11-19T10:01:49.579Z"
   },
   {
    "duration": 10,
    "start_time": "2021-11-19T10:01:49.589Z"
   },
   {
    "duration": 13,
    "start_time": "2021-11-19T10:01:49.602Z"
   },
   {
    "duration": 24,
    "start_time": "2021-11-19T10:01:49.617Z"
   },
   {
    "duration": 24,
    "start_time": "2021-11-19T10:01:49.643Z"
   },
   {
    "duration": 48,
    "start_time": "2021-11-19T10:01:49.669Z"
   },
   {
    "duration": 5,
    "start_time": "2021-11-19T10:01:49.719Z"
   },
   {
    "duration": 25,
    "start_time": "2021-11-19T10:01:49.726Z"
   },
   {
    "duration": 14,
    "start_time": "2021-11-19T10:01:49.754Z"
   },
   {
    "duration": 8,
    "start_time": "2021-11-19T10:01:49.771Z"
   },
   {
    "duration": 8,
    "start_time": "2021-11-19T10:01:49.781Z"
   },
   {
    "duration": 31,
    "start_time": "2021-11-19T10:01:49.792Z"
   },
   {
    "duration": 5,
    "start_time": "2021-11-19T10:01:49.826Z"
   },
   {
    "duration": 28,
    "start_time": "2021-11-19T10:01:49.833Z"
   },
   {
    "duration": 8,
    "start_time": "2021-11-19T10:01:49.863Z"
   },
   {
    "duration": 11,
    "start_time": "2021-11-19T10:01:49.873Z"
   },
   {
    "duration": 9,
    "start_time": "2021-11-19T10:01:49.887Z"
   },
   {
    "duration": 28,
    "start_time": "2021-11-19T10:01:49.898Z"
   },
   {
    "duration": 33,
    "start_time": "2021-11-19T10:01:49.928Z"
   },
   {
    "duration": 7,
    "start_time": "2021-11-19T10:01:49.964Z"
   },
   {
    "duration": 6,
    "start_time": "2021-11-19T10:01:49.974Z"
   },
   {
    "duration": 6,
    "start_time": "2021-11-19T10:01:49.982Z"
   },
   {
    "duration": 78,
    "start_time": "2021-11-19T10:01:49.991Z"
   },
   {
    "duration": 25,
    "start_time": "2021-11-19T10:05:29.926Z"
   },
   {
    "duration": 181,
    "start_time": "2021-11-19T10:07:57.177Z"
   },
   {
    "duration": 24,
    "start_time": "2021-11-19T10:09:03.708Z"
   },
   {
    "duration": 931,
    "start_time": "2021-11-19T10:09:14.399Z"
   },
   {
    "duration": 16,
    "start_time": "2021-11-19T10:09:26.469Z"
   },
   {
    "duration": 9339,
    "start_time": "2021-11-19T10:10:33.291Z"
   },
   {
    "duration": 15,
    "start_time": "2021-11-19T10:10:54.712Z"
   },
   {
    "duration": 11,
    "start_time": "2021-11-19T10:11:05.067Z"
   },
   {
    "duration": 8,
    "start_time": "2021-11-19T10:11:25.564Z"
   },
   {
    "duration": 625,
    "start_time": "2021-11-19T10:11:50.631Z"
   },
   {
    "duration": 24,
    "start_time": "2021-11-19T10:12:09.550Z"
   },
   {
    "duration": 24,
    "start_time": "2021-11-19T10:13:49.344Z"
   },
   {
    "duration": 21,
    "start_time": "2021-11-19T10:13:52.194Z"
   },
   {
    "duration": 6,
    "start_time": "2021-11-19T10:16:48.846Z"
   },
   {
    "duration": 5,
    "start_time": "2021-11-19T10:17:10.872Z"
   },
   {
    "duration": 9734,
    "start_time": "2021-11-19T10:18:23.789Z"
   },
   {
    "duration": 9946,
    "start_time": "2021-11-19T10:19:16.213Z"
   },
   {
    "duration": 855,
    "start_time": "2021-11-19T10:19:39.497Z"
   },
   {
    "duration": 16,
    "start_time": "2021-11-19T10:19:40.356Z"
   },
   {
    "duration": 14,
    "start_time": "2021-11-19T10:19:40.381Z"
   },
   {
    "duration": 19,
    "start_time": "2021-11-19T10:19:40.398Z"
   },
   {
    "duration": 52,
    "start_time": "2021-11-19T10:19:40.419Z"
   },
   {
    "duration": 17,
    "start_time": "2021-11-19T10:19:40.474Z"
   },
   {
    "duration": 24,
    "start_time": "2021-11-19T10:19:40.495Z"
   },
   {
    "duration": 49,
    "start_time": "2021-11-19T10:19:40.522Z"
   },
   {
    "duration": 25,
    "start_time": "2021-11-19T10:19:40.575Z"
   },
   {
    "duration": 16,
    "start_time": "2021-11-19T10:19:40.602Z"
   },
   {
    "duration": 17,
    "start_time": "2021-11-19T10:19:40.620Z"
   },
   {
    "duration": 20,
    "start_time": "2021-11-19T10:19:40.639Z"
   },
   {
    "duration": 26,
    "start_time": "2021-11-19T10:19:40.661Z"
   },
   {
    "duration": 18,
    "start_time": "2021-11-19T10:19:40.689Z"
   },
   {
    "duration": 28,
    "start_time": "2021-11-19T10:19:40.709Z"
   },
   {
    "duration": 16,
    "start_time": "2021-11-19T10:19:40.739Z"
   },
   {
    "duration": 17,
    "start_time": "2021-11-19T10:19:40.757Z"
   },
   {
    "duration": 17,
    "start_time": "2021-11-19T10:19:40.776Z"
   },
   {
    "duration": 26,
    "start_time": "2021-11-19T10:19:40.796Z"
   },
   {
    "duration": 18,
    "start_time": "2021-11-19T10:19:40.824Z"
   },
   {
    "duration": 29,
    "start_time": "2021-11-19T10:19:40.845Z"
   },
   {
    "duration": 17,
    "start_time": "2021-11-19T10:19:40.883Z"
   },
   {
    "duration": 24,
    "start_time": "2021-11-19T10:19:40.904Z"
   },
   {
    "duration": 50,
    "start_time": "2021-11-19T10:19:40.930Z"
   },
   {
    "duration": 54,
    "start_time": "2021-11-19T10:19:40.984Z"
   },
   {
    "duration": 8,
    "start_time": "2021-11-19T10:19:41.059Z"
   },
   {
    "duration": 21,
    "start_time": "2021-11-19T10:19:41.069Z"
   },
   {
    "duration": 1060,
    "start_time": "2021-11-19T10:19:41.093Z"
   },
   {
    "duration": 3806,
    "start_time": "2021-11-19T10:19:42.160Z"
   },
   {
    "duration": 34,
    "start_time": "2021-11-19T10:19:45.969Z"
   },
   {
    "duration": 8,
    "start_time": "2021-11-19T10:19:46.006Z"
   },
   {
    "duration": 493,
    "start_time": "2021-11-19T10:19:46.016Z"
   },
   {
    "duration": 34,
    "start_time": "2021-11-19T10:19:46.512Z"
   },
   {
    "duration": 5,
    "start_time": "2021-11-19T10:19:46.560Z"
   },
   {
    "duration": 6,
    "start_time": "2021-11-19T10:19:46.568Z"
   },
   {
    "duration": 9,
    "start_time": "2021-11-19T10:19:46.576Z"
   },
   {
    "duration": 6,
    "start_time": "2021-11-19T10:19:46.587Z"
   },
   {
    "duration": 6,
    "start_time": "2021-11-19T10:19:46.596Z"
   },
   {
    "duration": 76,
    "start_time": "2021-11-19T10:19:46.604Z"
   },
   {
    "duration": 16,
    "start_time": "2021-11-19T10:19:46.683Z"
   },
   {
    "duration": 33,
    "start_time": "2021-11-19T10:19:46.701Z"
   },
   {
    "duration": 48,
    "start_time": "2021-11-19T10:19:46.737Z"
   },
   {
    "duration": 5,
    "start_time": "2021-11-19T10:19:46.787Z"
   },
   {
    "duration": 7,
    "start_time": "2021-11-19T10:19:46.794Z"
   },
   {
    "duration": 6,
    "start_time": "2021-11-19T10:19:46.803Z"
   },
   {
    "duration": 48,
    "start_time": "2021-11-19T10:19:46.812Z"
   },
   {
    "duration": 5,
    "start_time": "2021-11-19T10:19:46.862Z"
   },
   {
    "duration": 28,
    "start_time": "2021-11-19T10:19:46.869Z"
   },
   {
    "duration": 5,
    "start_time": "2021-11-19T10:19:46.899Z"
   },
   {
    "duration": 7,
    "start_time": "2021-11-19T10:19:46.906Z"
   },
   {
    "duration": 44,
    "start_time": "2021-11-19T10:19:46.916Z"
   },
   {
    "duration": 13,
    "start_time": "2021-11-19T10:19:46.963Z"
   },
   {
    "duration": 10,
    "start_time": "2021-11-19T10:19:46.978Z"
   },
   {
    "duration": 28,
    "start_time": "2021-11-19T10:19:46.991Z"
   },
   {
    "duration": 37,
    "start_time": "2021-11-19T10:19:47.022Z"
   },
   {
    "duration": 5,
    "start_time": "2021-11-19T10:19:47.062Z"
   },
   {
    "duration": 7,
    "start_time": "2021-11-19T10:19:47.069Z"
   },
   {
    "duration": 6,
    "start_time": "2021-11-19T10:19:47.078Z"
   },
   {
    "duration": 25,
    "start_time": "2021-11-19T10:19:47.086Z"
   },
   {
    "duration": 6,
    "start_time": "2021-11-19T10:20:06.184Z"
   },
   {
    "duration": 5,
    "start_time": "2021-11-19T10:20:13.454Z"
   },
   {
    "duration": 10280,
    "start_time": "2021-11-19T10:21:14.832Z"
   },
   {
    "duration": 11296,
    "start_time": "2021-11-19T10:22:10.940Z"
   },
   {
    "duration": 3,
    "start_time": "2021-11-19T10:22:47.087Z"
   },
   {
    "duration": 10339,
    "start_time": "2021-11-19T10:22:56.935Z"
   },
   {
    "duration": 900,
    "start_time": "2021-11-19T10:23:22.349Z"
   },
   {
    "duration": 16,
    "start_time": "2021-11-19T10:23:23.251Z"
   },
   {
    "duration": 12,
    "start_time": "2021-11-19T10:23:23.270Z"
   },
   {
    "duration": 17,
    "start_time": "2021-11-19T10:23:23.284Z"
   },
   {
    "duration": 17,
    "start_time": "2021-11-19T10:23:23.303Z"
   },
   {
    "duration": 43,
    "start_time": "2021-11-19T10:23:23.322Z"
   },
   {
    "duration": 25,
    "start_time": "2021-11-19T10:23:23.368Z"
   },
   {
    "duration": 20,
    "start_time": "2021-11-19T10:23:23.396Z"
   },
   {
    "duration": 23,
    "start_time": "2021-11-19T10:23:23.419Z"
   },
   {
    "duration": 23,
    "start_time": "2021-11-19T10:23:23.445Z"
   },
   {
    "duration": 5,
    "start_time": "2021-11-19T10:23:23.471Z"
   },
   {
    "duration": 10,
    "start_time": "2021-11-19T10:23:23.478Z"
   },
   {
    "duration": 15,
    "start_time": "2021-11-19T10:23:23.490Z"
   },
   {
    "duration": 26,
    "start_time": "2021-11-19T10:23:23.507Z"
   },
   {
    "duration": 8,
    "start_time": "2021-11-19T10:23:23.559Z"
   },
   {
    "duration": 20,
    "start_time": "2021-11-19T10:23:23.569Z"
   },
   {
    "duration": 20,
    "start_time": "2021-11-19T10:23:23.591Z"
   },
   {
    "duration": 7,
    "start_time": "2021-11-19T10:23:23.613Z"
   },
   {
    "duration": 19,
    "start_time": "2021-11-19T10:23:23.622Z"
   },
   {
    "duration": 37,
    "start_time": "2021-11-19T10:23:23.643Z"
   },
   {
    "duration": 32,
    "start_time": "2021-11-19T10:23:23.683Z"
   },
   {
    "duration": 17,
    "start_time": "2021-11-19T10:23:23.718Z"
   },
   {
    "duration": 35,
    "start_time": "2021-11-19T10:23:23.741Z"
   },
   {
    "duration": 26,
    "start_time": "2021-11-19T10:23:23.779Z"
   },
   {
    "duration": 66,
    "start_time": "2021-11-19T10:23:23.807Z"
   },
   {
    "duration": 5,
    "start_time": "2021-11-19T10:23:23.876Z"
   },
   {
    "duration": 14,
    "start_time": "2021-11-19T10:23:23.883Z"
   },
   {
    "duration": 965,
    "start_time": "2021-11-19T10:23:23.900Z"
   },
   {
    "duration": 3891,
    "start_time": "2021-11-19T10:23:24.868Z"
   },
   {
    "duration": 35,
    "start_time": "2021-11-19T10:23:28.762Z"
   },
   {
    "duration": 4,
    "start_time": "2021-11-19T10:23:28.800Z"
   },
   {
    "duration": 500,
    "start_time": "2021-11-19T10:23:28.807Z"
   },
   {
    "duration": 50,
    "start_time": "2021-11-19T10:23:29.310Z"
   },
   {
    "duration": 4,
    "start_time": "2021-11-19T10:23:29.363Z"
   },
   {
    "duration": 8,
    "start_time": "2021-11-19T10:23:29.369Z"
   },
   {
    "duration": 6,
    "start_time": "2021-11-19T10:23:29.379Z"
   },
   {
    "duration": 7,
    "start_time": "2021-11-19T10:23:29.388Z"
   },
   {
    "duration": 6,
    "start_time": "2021-11-19T10:23:29.397Z"
   },
   {
    "duration": 6,
    "start_time": "2021-11-19T10:23:29.405Z"
   },
   {
    "duration": 58,
    "start_time": "2021-11-19T10:23:29.414Z"
   },
   {
    "duration": 22,
    "start_time": "2021-11-19T10:23:29.475Z"
   },
   {
    "duration": 28,
    "start_time": "2021-11-19T10:23:29.500Z"
   },
   {
    "duration": 6,
    "start_time": "2021-11-19T10:23:29.559Z"
   },
   {
    "duration": 7,
    "start_time": "2021-11-19T10:23:29.567Z"
   },
   {
    "duration": 9,
    "start_time": "2021-11-19T10:23:29.577Z"
   },
   {
    "duration": 12,
    "start_time": "2021-11-19T10:23:29.588Z"
   },
   {
    "duration": 8,
    "start_time": "2021-11-19T10:23:29.603Z"
   },
   {
    "duration": 66,
    "start_time": "2021-11-19T10:23:29.613Z"
   },
   {
    "duration": 5,
    "start_time": "2021-11-19T10:23:29.681Z"
   },
   {
    "duration": 8,
    "start_time": "2021-11-19T10:23:29.688Z"
   },
   {
    "duration": 7,
    "start_time": "2021-11-19T10:23:29.698Z"
   },
   {
    "duration": 7,
    "start_time": "2021-11-19T10:23:29.707Z"
   },
   {
    "duration": 44,
    "start_time": "2021-11-19T10:23:29.716Z"
   },
   {
    "duration": 34,
    "start_time": "2021-11-19T10:23:29.763Z"
   },
   {
    "duration": 5,
    "start_time": "2021-11-19T10:23:29.799Z"
   },
   {
    "duration": 7,
    "start_time": "2021-11-19T10:23:29.806Z"
   },
   {
    "duration": 7,
    "start_time": "2021-11-19T10:23:29.815Z"
   },
   {
    "duration": 35,
    "start_time": "2021-11-19T10:23:29.825Z"
   },
   {
    "duration": 24,
    "start_time": "2021-11-19T10:23:29.863Z"
   },
   {
    "duration": 5,
    "start_time": "2021-11-19T10:23:45.465Z"
   },
   {
    "duration": 5,
    "start_time": "2021-11-19T10:23:49.776Z"
   },
   {
    "duration": 5,
    "start_time": "2021-11-19T10:23:51.946Z"
   },
   {
    "duration": 5,
    "start_time": "2021-11-19T10:23:55.651Z"
   },
   {
    "duration": 5,
    "start_time": "2021-11-19T10:24:11.668Z"
   },
   {
    "duration": 27,
    "start_time": "2021-11-19T10:24:50.995Z"
   },
   {
    "duration": 14,
    "start_time": "2021-11-19T10:25:07.196Z"
   },
   {
    "duration": 20,
    "start_time": "2021-11-19T10:25:18.587Z"
   },
   {
    "duration": 514,
    "start_time": "2021-11-19T10:26:00.359Z"
   },
   {
    "duration": 20,
    "start_time": "2021-11-19T10:26:36.556Z"
   },
   {
    "duration": 406,
    "start_time": "2021-11-19T10:26:53.282Z"
   },
   {
    "duration": 390,
    "start_time": "2021-11-19T10:27:00.638Z"
   },
   {
    "duration": 9692,
    "start_time": "2021-11-19T10:27:11.824Z"
   },
   {
    "duration": 10379,
    "start_time": "2021-11-19T10:29:24.256Z"
   },
   {
    "duration": 939,
    "start_time": "2021-11-19T10:30:15.973Z"
   },
   {
    "duration": 14,
    "start_time": "2021-11-19T10:30:16.915Z"
   },
   {
    "duration": 28,
    "start_time": "2021-11-19T10:30:16.932Z"
   },
   {
    "duration": 18,
    "start_time": "2021-11-19T10:30:16.962Z"
   },
   {
    "duration": 13,
    "start_time": "2021-11-19T10:30:16.982Z"
   },
   {
    "duration": 16,
    "start_time": "2021-11-19T10:30:16.997Z"
   },
   {
    "duration": 52,
    "start_time": "2021-11-19T10:30:17.015Z"
   },
   {
    "duration": 12,
    "start_time": "2021-11-19T10:30:17.071Z"
   },
   {
    "duration": 18,
    "start_time": "2021-11-19T10:30:17.086Z"
   },
   {
    "duration": 12,
    "start_time": "2021-11-19T10:30:17.106Z"
   },
   {
    "duration": 41,
    "start_time": "2021-11-19T10:30:17.120Z"
   },
   {
    "duration": 4,
    "start_time": "2021-11-19T10:30:17.163Z"
   },
   {
    "duration": 14,
    "start_time": "2021-11-19T10:30:17.169Z"
   },
   {
    "duration": 16,
    "start_time": "2021-11-19T10:30:17.185Z"
   },
   {
    "duration": 7,
    "start_time": "2021-11-19T10:30:17.204Z"
   },
   {
    "duration": 48,
    "start_time": "2021-11-19T10:30:17.214Z"
   },
   {
    "duration": 14,
    "start_time": "2021-11-19T10:30:17.264Z"
   },
   {
    "duration": 6,
    "start_time": "2021-11-19T10:30:17.280Z"
   },
   {
    "duration": 8,
    "start_time": "2021-11-19T10:30:17.288Z"
   },
   {
    "duration": 61,
    "start_time": "2021-11-19T10:30:17.298Z"
   },
   {
    "duration": 17,
    "start_time": "2021-11-19T10:30:17.362Z"
   },
   {
    "duration": 20,
    "start_time": "2021-11-19T10:30:17.381Z"
   },
   {
    "duration": 22,
    "start_time": "2021-11-19T10:30:17.407Z"
   },
   {
    "duration": 51,
    "start_time": "2021-11-19T10:30:17.432Z"
   },
   {
    "duration": 51,
    "start_time": "2021-11-19T10:30:17.486Z"
   },
   {
    "duration": 6,
    "start_time": "2021-11-19T10:30:17.560Z"
   },
   {
    "duration": 15,
    "start_time": "2021-11-19T10:30:17.568Z"
   },
   {
    "duration": 985,
    "start_time": "2021-11-19T10:30:17.586Z"
   },
   {
    "duration": 4024,
    "start_time": "2021-11-19T10:30:18.574Z"
   },
   {
    "duration": 35,
    "start_time": "2021-11-19T10:30:22.600Z"
   },
   {
    "duration": 26,
    "start_time": "2021-11-19T10:30:22.637Z"
   },
   {
    "duration": 454,
    "start_time": "2021-11-19T10:30:22.665Z"
   },
   {
    "duration": 49,
    "start_time": "2021-11-19T10:30:23.121Z"
   },
   {
    "duration": 5,
    "start_time": "2021-11-19T10:30:23.172Z"
   },
   {
    "duration": 11,
    "start_time": "2021-11-19T10:30:23.179Z"
   },
   {
    "duration": 21,
    "start_time": "2021-11-19T10:30:23.192Z"
   },
   {
    "duration": 15,
    "start_time": "2021-11-19T10:30:23.215Z"
   },
   {
    "duration": 20,
    "start_time": "2021-11-19T10:30:23.232Z"
   },
   {
    "duration": 37,
    "start_time": "2021-11-19T10:30:23.255Z"
   },
   {
    "duration": 15,
    "start_time": "2021-11-19T10:30:23.294Z"
   },
   {
    "duration": 9509,
    "start_time": "2021-11-19T10:30:23.311Z"
   },
   {
    "duration": -118,
    "start_time": "2021-11-19T10:30:32.942Z"
   },
   {
    "duration": -125,
    "start_time": "2021-11-19T10:30:32.951Z"
   },
   {
    "duration": -128,
    "start_time": "2021-11-19T10:30:32.956Z"
   },
   {
    "duration": -137,
    "start_time": "2021-11-19T10:30:32.967Z"
   },
   {
    "duration": -140,
    "start_time": "2021-11-19T10:30:32.972Z"
   },
   {
    "duration": -143,
    "start_time": "2021-11-19T10:30:32.978Z"
   },
   {
    "duration": -145,
    "start_time": "2021-11-19T10:30:32.983Z"
   },
   {
    "duration": -149,
    "start_time": "2021-11-19T10:30:32.989Z"
   },
   {
    "duration": -152,
    "start_time": "2021-11-19T10:30:32.994Z"
   },
   {
    "duration": -155,
    "start_time": "2021-11-19T10:30:33.000Z"
   },
   {
    "duration": -159,
    "start_time": "2021-11-19T10:30:33.006Z"
   },
   {
    "duration": -161,
    "start_time": "2021-11-19T10:30:33.011Z"
   },
   {
    "duration": -163,
    "start_time": "2021-11-19T10:30:33.016Z"
   },
   {
    "duration": -167,
    "start_time": "2021-11-19T10:30:33.022Z"
   },
   {
    "duration": -170,
    "start_time": "2021-11-19T10:30:33.027Z"
   },
   {
    "duration": -188,
    "start_time": "2021-11-19T10:30:33.048Z"
   },
   {
    "duration": -191,
    "start_time": "2021-11-19T10:30:33.053Z"
   },
   {
    "duration": -195,
    "start_time": "2021-11-19T10:30:33.059Z"
   },
   {
    "duration": 404,
    "start_time": "2021-11-19T10:34:22.820Z"
   },
   {
    "duration": 23,
    "start_time": "2021-11-19T10:34:42.853Z"
   },
   {
    "duration": 426,
    "start_time": "2021-11-19T10:34:51.216Z"
   },
   {
    "duration": 23,
    "start_time": "2021-11-19T10:34:59.833Z"
   },
   {
    "duration": 397,
    "start_time": "2021-11-19T10:35:15.052Z"
   },
   {
    "duration": 23,
    "start_time": "2021-11-19T10:35:24.942Z"
   },
   {
    "duration": 391,
    "start_time": "2021-11-19T10:36:54.008Z"
   },
   {
    "duration": 20,
    "start_time": "2021-11-19T10:38:04.065Z"
   },
   {
    "duration": 15,
    "start_time": "2021-11-19T10:38:30.997Z"
   },
   {
    "duration": 20,
    "start_time": "2021-11-19T10:38:36.947Z"
   },
   {
    "duration": 21,
    "start_time": "2021-11-19T10:38:55.447Z"
   },
   {
    "duration": 21,
    "start_time": "2021-11-19T10:39:55.493Z"
   },
   {
    "duration": 22,
    "start_time": "2021-11-19T10:40:31.099Z"
   },
   {
    "duration": 21,
    "start_time": "2021-11-19T10:41:01.328Z"
   },
   {
    "duration": 6,
    "start_time": "2021-11-19T10:43:50.555Z"
   },
   {
    "duration": 5,
    "start_time": "2021-11-19T10:43:52.005Z"
   },
   {
    "duration": 6,
    "start_time": "2021-11-19T10:43:53.583Z"
   },
   {
    "duration": 30,
    "start_time": "2021-11-19T10:46:18.222Z"
   },
   {
    "duration": 5,
    "start_time": "2021-11-19T10:49:05.279Z"
   },
   {
    "duration": 5,
    "start_time": "2021-11-19T10:49:16.498Z"
   },
   {
    "duration": 5,
    "start_time": "2021-11-19T10:49:32.306Z"
   },
   {
    "duration": 6,
    "start_time": "2021-11-19T10:49:47.989Z"
   },
   {
    "duration": 5,
    "start_time": "2021-11-19T10:50:17.677Z"
   },
   {
    "duration": 5,
    "start_time": "2021-11-19T10:50:38.716Z"
   },
   {
    "duration": 391,
    "start_time": "2021-11-19T10:52:08.964Z"
   },
   {
    "duration": 453,
    "start_time": "2021-11-19T10:52:39.027Z"
   },
   {
    "duration": 34,
    "start_time": "2021-11-19T10:52:53.896Z"
   },
   {
    "duration": 32,
    "start_time": "2021-11-19T10:54:02.870Z"
   },
   {
    "duration": 36,
    "start_time": "2021-11-19T10:54:07.495Z"
   },
   {
    "duration": 35,
    "start_time": "2021-11-19T10:55:47.574Z"
   },
   {
    "duration": 35,
    "start_time": "2021-11-19T10:57:02.796Z"
   },
   {
    "duration": 33,
    "start_time": "2021-11-19T10:57:19.325Z"
   },
   {
    "duration": 28,
    "start_time": "2021-11-19T11:04:43.056Z"
   },
   {
    "duration": 5,
    "start_time": "2021-11-19T11:04:59.084Z"
   },
   {
    "duration": 5,
    "start_time": "2021-11-19T11:05:10.885Z"
   },
   {
    "duration": 5,
    "start_time": "2021-11-19T11:05:23.052Z"
   },
   {
    "duration": 5,
    "start_time": "2021-11-19T11:05:40.264Z"
   },
   {
    "duration": 6,
    "start_time": "2021-11-19T11:05:54.639Z"
   },
   {
    "duration": 363,
    "start_time": "2021-11-19T11:07:53.666Z"
   },
   {
    "duration": 437,
    "start_time": "2021-11-19T11:08:35.530Z"
   },
   {
    "duration": 34,
    "start_time": "2021-11-19T11:08:41.520Z"
   },
   {
    "duration": 33,
    "start_time": "2021-11-19T11:10:15.899Z"
   },
   {
    "duration": 35,
    "start_time": "2021-11-19T11:10:24.128Z"
   },
   {
    "duration": 32,
    "start_time": "2021-11-19T11:10:29.760Z"
   },
   {
    "duration": 29,
    "start_time": "2021-11-19T11:10:38.552Z"
   },
   {
    "duration": 6,
    "start_time": "2021-11-19T11:10:45.226Z"
   },
   {
    "duration": 5,
    "start_time": "2021-11-19T11:11:03.205Z"
   },
   {
    "duration": 5,
    "start_time": "2021-11-19T11:11:20.940Z"
   },
   {
    "duration": 5,
    "start_time": "2021-11-19T11:11:23.802Z"
   },
   {
    "duration": 5,
    "start_time": "2021-11-19T11:11:38.180Z"
   },
   {
    "duration": 6,
    "start_time": "2021-11-19T11:12:02.248Z"
   },
   {
    "duration": 430,
    "start_time": "2021-11-19T11:19:08.303Z"
   },
   {
    "duration": 418,
    "start_time": "2021-11-19T11:19:30.507Z"
   },
   {
    "duration": 32,
    "start_time": "2021-11-19T11:20:03.432Z"
   },
   {
    "duration": 22,
    "start_time": "2021-11-19T11:20:38.298Z"
   },
   {
    "duration": 134,
    "start_time": "2021-11-19T11:21:10.804Z"
   },
   {
    "duration": 557,
    "start_time": "2021-11-19T11:21:16.568Z"
   },
   {
    "duration": 127,
    "start_time": "2021-11-19T11:21:36.468Z"
   },
   {
    "duration": 35,
    "start_time": "2021-11-19T11:22:33.173Z"
   },
   {
    "duration": 21,
    "start_time": "2021-11-19T11:30:38.182Z"
   },
   {
    "duration": 23,
    "start_time": "2021-11-19T11:31:04.493Z"
   },
   {
    "duration": 21,
    "start_time": "2021-11-19T11:31:21.106Z"
   },
   {
    "duration": 21,
    "start_time": "2021-11-19T11:31:49.827Z"
   },
   {
    "duration": 24,
    "start_time": "2021-11-19T11:34:55.124Z"
   },
   {
    "duration": 23,
    "start_time": "2021-11-19T11:35:49.307Z"
   },
   {
    "duration": 899,
    "start_time": "2021-11-19T11:37:58.905Z"
   },
   {
    "duration": 17,
    "start_time": "2021-11-19T11:37:59.808Z"
   },
   {
    "duration": 13,
    "start_time": "2021-11-19T11:37:59.827Z"
   },
   {
    "duration": 20,
    "start_time": "2021-11-19T11:37:59.859Z"
   },
   {
    "duration": 15,
    "start_time": "2021-11-19T11:37:59.881Z"
   },
   {
    "duration": 17,
    "start_time": "2021-11-19T11:37:59.899Z"
   },
   {
    "duration": 49,
    "start_time": "2021-11-19T11:37:59.919Z"
   },
   {
    "duration": 14,
    "start_time": "2021-11-19T11:37:59.972Z"
   },
   {
    "duration": 19,
    "start_time": "2021-11-19T11:37:59.988Z"
   },
   {
    "duration": 25,
    "start_time": "2021-11-19T11:38:00.009Z"
   },
   {
    "duration": 7,
    "start_time": "2021-11-19T11:38:00.059Z"
   },
   {
    "duration": 17,
    "start_time": "2021-11-19T11:38:00.070Z"
   },
   {
    "duration": 24,
    "start_time": "2021-11-19T11:38:00.090Z"
   },
   {
    "duration": 41,
    "start_time": "2021-11-19T11:38:00.118Z"
   },
   {
    "duration": 9,
    "start_time": "2021-11-19T11:38:00.162Z"
   },
   {
    "duration": 12,
    "start_time": "2021-11-19T11:38:00.173Z"
   },
   {
    "duration": 18,
    "start_time": "2021-11-19T11:38:00.187Z"
   },
   {
    "duration": 7,
    "start_time": "2021-11-19T11:38:00.208Z"
   },
   {
    "duration": 55,
    "start_time": "2021-11-19T11:38:00.217Z"
   },
   {
    "duration": 23,
    "start_time": "2021-11-19T11:38:00.275Z"
   },
   {
    "duration": 27,
    "start_time": "2021-11-19T11:38:00.301Z"
   },
   {
    "duration": 21,
    "start_time": "2021-11-19T11:38:00.330Z"
   },
   {
    "duration": 25,
    "start_time": "2021-11-19T11:38:00.363Z"
   },
   {
    "duration": 28,
    "start_time": "2021-11-19T11:38:00.391Z"
   },
   {
    "duration": 82,
    "start_time": "2021-11-19T11:38:00.421Z"
   },
   {
    "duration": 5,
    "start_time": "2021-11-19T11:38:00.505Z"
   },
   {
    "duration": 17,
    "start_time": "2021-11-19T11:38:00.513Z"
   },
   {
    "duration": 996,
    "start_time": "2021-11-19T11:38:00.533Z"
   },
   {
    "duration": 4543,
    "start_time": "2021-11-19T11:38:01.533Z"
   },
   {
    "duration": 50,
    "start_time": "2021-11-19T11:38:06.079Z"
   },
   {
    "duration": 30,
    "start_time": "2021-11-19T11:38:06.132Z"
   },
   {
    "duration": 869,
    "start_time": "2021-11-19T11:38:06.165Z"
   },
   {
    "duration": 68,
    "start_time": "2021-11-19T11:38:07.037Z"
   },
   {
    "duration": 7,
    "start_time": "2021-11-19T11:38:07.109Z"
   },
   {
    "duration": 8,
    "start_time": "2021-11-19T11:38:07.119Z"
   },
   {
    "duration": 7,
    "start_time": "2021-11-19T11:38:07.159Z"
   },
   {
    "duration": 10,
    "start_time": "2021-11-19T11:38:07.170Z"
   },
   {
    "duration": 7,
    "start_time": "2021-11-19T11:38:07.183Z"
   },
   {
    "duration": 18,
    "start_time": "2021-11-19T11:38:07.192Z"
   },
   {
    "duration": 59,
    "start_time": "2021-11-19T11:38:07.212Z"
   },
   {
    "duration": 30,
    "start_time": "2021-11-19T11:38:07.274Z"
   },
   {
    "duration": 5,
    "start_time": "2021-11-19T11:38:07.306Z"
   },
   {
    "duration": 8,
    "start_time": "2021-11-19T11:38:07.313Z"
   },
   {
    "duration": 6,
    "start_time": "2021-11-19T11:38:07.360Z"
   },
   {
    "duration": 7,
    "start_time": "2021-11-19T11:38:07.368Z"
   },
   {
    "duration": 8,
    "start_time": "2021-11-19T11:38:07.378Z"
   },
   {
    "duration": 33,
    "start_time": "2021-11-19T11:38:07.388Z"
   },
   {
    "duration": 58,
    "start_time": "2021-11-19T11:38:07.424Z"
   },
   {
    "duration": 6,
    "start_time": "2021-11-19T11:38:07.485Z"
   },
   {
    "duration": 6,
    "start_time": "2021-11-19T11:38:07.493Z"
   },
   {
    "duration": 8,
    "start_time": "2021-11-19T11:38:07.502Z"
   },
   {
    "duration": 49,
    "start_time": "2021-11-19T11:38:07.513Z"
   },
   {
    "duration": 8,
    "start_time": "2021-11-19T11:38:07.566Z"
   },
   {
    "duration": 26,
    "start_time": "2021-11-19T11:38:07.578Z"
   },
   {
    "duration": 63,
    "start_time": "2021-11-19T11:38:07.607Z"
   },
   {
    "duration": 5,
    "start_time": "2021-11-19T11:38:07.672Z"
   },
   {
    "duration": 11,
    "start_time": "2021-11-19T11:38:07.679Z"
   },
   {
    "duration": 15,
    "start_time": "2021-11-19T11:38:07.692Z"
   },
   {
    "duration": 9,
    "start_time": "2021-11-19T11:38:07.709Z"
   },
   {
    "duration": 51,
    "start_time": "2021-11-19T11:38:07.721Z"
   },
   {
    "duration": 21,
    "start_time": "2021-11-19T11:38:07.774Z"
   },
   {
    "duration": 3,
    "start_time": "2021-11-19T11:38:07.797Z"
   },
   {
    "duration": 122,
    "start_time": "2021-11-19T11:48:01.844Z"
   },
   {
    "duration": 495,
    "start_time": "2021-11-19T11:48:05.124Z"
   },
   {
    "duration": 4,
    "start_time": "2021-11-19T11:48:19.607Z"
   },
   {
    "duration": 378,
    "start_time": "2021-11-19T11:48:20.762Z"
   },
   {
    "duration": 390,
    "start_time": "2021-11-19T11:48:46.990Z"
   },
   {
    "duration": 632,
    "start_time": "2021-11-19T11:49:05.473Z"
   },
   {
    "duration": 635,
    "start_time": "2021-11-19T11:54:27.427Z"
   },
   {
    "duration": 387,
    "start_time": "2021-11-19T11:54:36.641Z"
   },
   {
    "duration": 398,
    "start_time": "2021-11-19T12:01:04.571Z"
   },
   {
    "duration": 400,
    "start_time": "2021-11-19T12:01:12.395Z"
   },
   {
    "duration": 403,
    "start_time": "2021-11-19T12:01:21.757Z"
   },
   {
    "duration": 534,
    "start_time": "2021-11-19T12:01:28.879Z"
   },
   {
    "duration": 391,
    "start_time": "2021-11-19T12:01:54.706Z"
   },
   {
    "duration": 379,
    "start_time": "2021-11-19T12:02:06.467Z"
   },
   {
    "duration": 419,
    "start_time": "2021-11-19T12:03:07.906Z"
   },
   {
    "duration": 404,
    "start_time": "2021-11-19T12:03:13.538Z"
   },
   {
    "duration": 410,
    "start_time": "2021-11-19T12:05:36.431Z"
   },
   {
    "duration": 9680,
    "start_time": "2021-11-19T12:05:47.814Z"
   },
   {
    "duration": 499,
    "start_time": "2021-11-19T12:06:20.161Z"
   },
   {
    "duration": 387,
    "start_time": "2021-11-19T12:06:34.020Z"
   },
   {
    "duration": 322,
    "start_time": "2021-11-19T12:06:40.031Z"
   },
   {
    "duration": 506,
    "start_time": "2021-11-19T12:06:48.277Z"
   },
   {
    "duration": 373,
    "start_time": "2021-11-19T12:06:54.780Z"
   },
   {
    "duration": 868,
    "start_time": "2021-11-19T12:07:04.963Z"
   },
   {
    "duration": 349,
    "start_time": "2021-11-19T12:07:08.870Z"
   },
   {
    "duration": 418,
    "start_time": "2021-11-19T12:07:12.964Z"
   },
   {
    "duration": 418,
    "start_time": "2021-11-19T12:07:39.823Z"
   },
   {
    "duration": 436,
    "start_time": "2021-11-19T12:08:03.543Z"
   },
   {
    "duration": 621,
    "start_time": "2021-11-19T12:13:07.782Z"
   },
   {
    "duration": 574,
    "start_time": "2021-11-19T12:13:17.765Z"
   },
   {
    "duration": 5,
    "start_time": "2021-11-19T12:13:51.333Z"
   },
   {
    "duration": 408,
    "start_time": "2021-11-19T12:13:52.181Z"
   },
   {
    "duration": 928,
    "start_time": "2021-11-19T13:33:24.753Z"
   },
   {
    "duration": 15,
    "start_time": "2021-11-19T13:33:25.684Z"
   },
   {
    "duration": 15,
    "start_time": "2021-11-19T13:33:25.703Z"
   },
   {
    "duration": 44,
    "start_time": "2021-11-19T13:33:25.721Z"
   },
   {
    "duration": 17,
    "start_time": "2021-11-19T13:33:25.768Z"
   },
   {
    "duration": 18,
    "start_time": "2021-11-19T13:33:25.787Z"
   },
   {
    "duration": 26,
    "start_time": "2021-11-19T13:33:25.807Z"
   },
   {
    "duration": 38,
    "start_time": "2021-11-19T13:33:25.836Z"
   },
   {
    "duration": 25,
    "start_time": "2021-11-19T13:33:25.877Z"
   },
   {
    "duration": 12,
    "start_time": "2021-11-19T13:33:25.904Z"
   },
   {
    "duration": 5,
    "start_time": "2021-11-19T13:33:25.919Z"
   },
   {
    "duration": 5,
    "start_time": "2021-11-19T13:33:25.968Z"
   },
   {
    "duration": 12,
    "start_time": "2021-11-19T13:33:25.975Z"
   },
   {
    "duration": 17,
    "start_time": "2021-11-19T13:33:25.990Z"
   },
   {
    "duration": 11,
    "start_time": "2021-11-19T13:33:26.011Z"
   },
   {
    "duration": 16,
    "start_time": "2021-11-19T13:33:26.063Z"
   },
   {
    "duration": 18,
    "start_time": "2021-11-19T13:33:26.082Z"
   },
   {
    "duration": 7,
    "start_time": "2021-11-19T13:33:26.102Z"
   },
   {
    "duration": 13,
    "start_time": "2021-11-19T13:33:26.112Z"
   },
   {
    "duration": 44,
    "start_time": "2021-11-19T13:33:26.128Z"
   },
   {
    "duration": 27,
    "start_time": "2021-11-19T13:33:26.175Z"
   },
   {
    "duration": 18,
    "start_time": "2021-11-19T13:33:26.204Z"
   },
   {
    "duration": 52,
    "start_time": "2021-11-19T13:33:26.229Z"
   },
   {
    "duration": 27,
    "start_time": "2021-11-19T13:33:26.285Z"
   },
   {
    "duration": 73,
    "start_time": "2021-11-19T13:33:26.314Z"
   },
   {
    "duration": 5,
    "start_time": "2021-11-19T13:33:26.390Z"
   },
   {
    "duration": 13,
    "start_time": "2021-11-19T13:33:26.398Z"
   },
   {
    "duration": 1021,
    "start_time": "2021-11-19T13:33:26.414Z"
   },
   {
    "duration": 4182,
    "start_time": "2021-11-19T13:33:27.438Z"
   },
   {
    "duration": 40,
    "start_time": "2021-11-19T13:33:31.622Z"
   },
   {
    "duration": 15,
    "start_time": "2021-11-19T13:33:31.664Z"
   },
   {
    "duration": 488,
    "start_time": "2021-11-19T13:33:31.682Z"
   },
   {
    "duration": 37,
    "start_time": "2021-11-19T13:33:32.172Z"
   },
   {
    "duration": 5,
    "start_time": "2021-11-19T13:33:32.211Z"
   },
   {
    "duration": 8,
    "start_time": "2021-11-19T13:33:32.218Z"
   },
   {
    "duration": 40,
    "start_time": "2021-11-19T13:33:32.229Z"
   },
   {
    "duration": 14,
    "start_time": "2021-11-19T13:33:32.272Z"
   },
   {
    "duration": 12,
    "start_time": "2021-11-19T13:33:32.289Z"
   },
   {
    "duration": 19,
    "start_time": "2021-11-19T13:33:32.304Z"
   },
   {
    "duration": 57,
    "start_time": "2021-11-19T13:33:32.326Z"
   },
   {
    "duration": 29,
    "start_time": "2021-11-19T13:33:32.386Z"
   },
   {
    "duration": 5,
    "start_time": "2021-11-19T13:33:32.417Z"
   },
   {
    "duration": 7,
    "start_time": "2021-11-19T13:33:32.425Z"
   },
   {
    "duration": 34,
    "start_time": "2021-11-19T13:33:32.435Z"
   },
   {
    "duration": 13,
    "start_time": "2021-11-19T13:33:32.472Z"
   },
   {
    "duration": 11,
    "start_time": "2021-11-19T13:33:32.487Z"
   },
   {
    "duration": 33,
    "start_time": "2021-11-19T13:33:32.500Z"
   },
   {
    "duration": 53,
    "start_time": "2021-11-19T13:33:32.536Z"
   },
   {
    "duration": 5,
    "start_time": "2021-11-19T13:33:32.592Z"
   },
   {
    "duration": 5,
    "start_time": "2021-11-19T13:33:32.600Z"
   },
   {
    "duration": 12,
    "start_time": "2021-11-19T13:33:32.607Z"
   },
   {
    "duration": 7,
    "start_time": "2021-11-19T13:33:32.621Z"
   },
   {
    "duration": 39,
    "start_time": "2021-11-19T13:33:32.630Z"
   },
   {
    "duration": 29,
    "start_time": "2021-11-19T13:33:32.676Z"
   },
   {
    "duration": 27,
    "start_time": "2021-11-19T13:33:32.707Z"
   },
   {
    "duration": 30,
    "start_time": "2021-11-19T13:33:32.737Z"
   },
   {
    "duration": 10,
    "start_time": "2021-11-19T13:33:32.770Z"
   },
   {
    "duration": 9,
    "start_time": "2021-11-19T13:33:32.783Z"
   },
   {
    "duration": 8,
    "start_time": "2021-11-19T13:33:32.794Z"
   },
   {
    "duration": 69,
    "start_time": "2021-11-19T13:33:32.804Z"
   },
   {
    "duration": 114,
    "start_time": "2021-11-19T13:33:32.875Z"
   },
   {
    "duration": 579,
    "start_time": "2021-11-19T13:33:32.992Z"
   },
   {
    "duration": 25,
    "start_time": "2021-11-19T13:33:33.574Z"
   },
   {
    "duration": 4,
    "start_time": "2021-11-19T13:33:33.602Z"
   },
   {
    "duration": 912,
    "start_time": "2021-11-23T16:54:33.198Z"
   },
   {
    "duration": 15,
    "start_time": "2021-11-23T16:54:34.113Z"
   },
   {
    "duration": 13,
    "start_time": "2021-11-23T16:54:34.131Z"
   },
   {
    "duration": 16,
    "start_time": "2021-11-23T16:54:34.147Z"
   },
   {
    "duration": 48,
    "start_time": "2021-11-23T16:54:34.165Z"
   },
   {
    "duration": 18,
    "start_time": "2021-11-23T16:54:34.215Z"
   },
   {
    "duration": 23,
    "start_time": "2021-11-23T16:54:34.235Z"
   },
   {
    "duration": 45,
    "start_time": "2021-11-23T16:54:34.262Z"
   },
   {
    "duration": 18,
    "start_time": "2021-11-23T16:54:34.310Z"
   },
   {
    "duration": 16,
    "start_time": "2021-11-23T16:54:34.330Z"
   },
   {
    "duration": 6,
    "start_time": "2021-11-23T16:54:34.348Z"
   },
   {
    "duration": 44,
    "start_time": "2021-11-23T16:54:34.357Z"
   },
   {
    "duration": 10,
    "start_time": "2021-11-23T16:54:34.403Z"
   },
   {
    "duration": 18,
    "start_time": "2021-11-23T16:54:34.416Z"
   },
   {
    "duration": 11,
    "start_time": "2021-11-23T16:54:34.437Z"
   },
   {
    "duration": 8,
    "start_time": "2021-11-23T16:54:34.450Z"
   },
   {
    "duration": 53,
    "start_time": "2021-11-23T16:54:34.460Z"
   },
   {
    "duration": 7,
    "start_time": "2021-11-23T16:54:34.515Z"
   },
   {
    "duration": 11,
    "start_time": "2021-11-23T16:54:34.525Z"
   },
   {
    "duration": 19,
    "start_time": "2021-11-23T16:54:34.538Z"
   },
   {
    "duration": 53,
    "start_time": "2021-11-23T16:54:34.559Z"
   },
   {
    "duration": 18,
    "start_time": "2021-11-23T16:54:34.615Z"
   },
   {
    "duration": 24,
    "start_time": "2021-11-23T16:54:34.638Z"
   },
   {
    "duration": 55,
    "start_time": "2021-11-23T16:54:34.666Z"
   },
   {
    "duration": 53,
    "start_time": "2021-11-23T16:54:34.723Z"
   },
   {
    "duration": 27,
    "start_time": "2021-11-23T16:54:34.778Z"
   },
   {
    "duration": 13,
    "start_time": "2021-11-23T16:54:34.807Z"
   },
   {
    "duration": 987,
    "start_time": "2021-11-23T16:54:34.823Z"
   },
   {
    "duration": 3551,
    "start_time": "2021-11-23T16:54:35.813Z"
   },
   {
    "duration": 54,
    "start_time": "2021-11-23T16:54:39.366Z"
   },
   {
    "duration": 5,
    "start_time": "2021-11-23T16:54:39.423Z"
   },
   {
    "duration": 490,
    "start_time": "2021-11-23T16:54:39.431Z"
   },
   {
    "duration": 36,
    "start_time": "2021-11-23T16:54:39.923Z"
   },
   {
    "duration": 5,
    "start_time": "2021-11-23T16:54:39.961Z"
   },
   {
    "duration": 33,
    "start_time": "2021-11-23T16:54:39.969Z"
   },
   {
    "duration": 6,
    "start_time": "2021-11-23T16:54:40.005Z"
   },
   {
    "duration": 7,
    "start_time": "2021-11-23T16:54:40.014Z"
   },
   {
    "duration": 9,
    "start_time": "2021-11-23T16:54:40.024Z"
   },
   {
    "duration": 17,
    "start_time": "2021-11-23T16:54:40.035Z"
   },
   {
    "duration": 59,
    "start_time": "2021-11-23T16:54:40.054Z"
   },
   {
    "duration": 28,
    "start_time": "2021-11-23T16:54:40.115Z"
   },
   {
    "duration": 5,
    "start_time": "2021-11-23T16:54:40.145Z"
   },
   {
    "duration": 9,
    "start_time": "2021-11-23T16:54:40.152Z"
   },
   {
    "duration": 5,
    "start_time": "2021-11-23T16:54:40.201Z"
   },
   {
    "duration": 10,
    "start_time": "2021-11-23T16:54:40.208Z"
   },
   {
    "duration": 6,
    "start_time": "2021-11-23T16:54:40.221Z"
   },
   {
    "duration": 26,
    "start_time": "2021-11-23T16:54:40.229Z"
   },
   {
    "duration": 63,
    "start_time": "2021-11-23T16:54:40.258Z"
   },
   {
    "duration": 5,
    "start_time": "2021-11-23T16:54:40.324Z"
   },
   {
    "duration": 8,
    "start_time": "2021-11-23T16:54:40.332Z"
   },
   {
    "duration": 10,
    "start_time": "2021-11-23T16:54:40.343Z"
   },
   {
    "duration": 14,
    "start_time": "2021-11-23T16:54:40.356Z"
   },
   {
    "duration": 6,
    "start_time": "2021-11-23T16:54:40.401Z"
   },
   {
    "duration": 29,
    "start_time": "2021-11-23T16:54:40.409Z"
   },
   {
    "duration": 25,
    "start_time": "2021-11-23T16:54:40.440Z"
   },
   {
    "duration": 34,
    "start_time": "2021-11-23T16:54:40.468Z"
   },
   {
    "duration": 7,
    "start_time": "2021-11-23T16:54:40.504Z"
   },
   {
    "duration": 5,
    "start_time": "2021-11-23T16:54:40.514Z"
   },
   {
    "duration": 8,
    "start_time": "2021-11-23T16:54:40.521Z"
   },
   {
    "duration": 26,
    "start_time": "2021-11-23T16:54:40.532Z"
   },
   {
    "duration": 168,
    "start_time": "2021-11-23T16:54:40.561Z"
   },
   {
    "duration": 590,
    "start_time": "2021-11-23T16:54:40.732Z"
   },
   {
    "duration": 23,
    "start_time": "2021-11-23T16:54:41.324Z"
   },
   {
    "duration": 2,
    "start_time": "2021-11-23T16:54:41.349Z"
   },
   {
    "duration": 15,
    "start_time": "2021-11-23T16:55:58.845Z"
   }
  ],
  "kernelspec": {
   "display_name": "Python 3 (ipykernel)",
   "language": "python",
   "name": "python3"
  },
  "language_info": {
   "codemirror_mode": {
    "name": "ipython",
    "version": 3
   },
   "file_extension": ".py",
   "mimetype": "text/x-python",
   "name": "python",
   "nbconvert_exporter": "python",
   "pygments_lexer": "ipython3",
   "version": "3.9.5"
  },
  "toc": {
   "base_numbering": 1,
   "nav_menu": {},
   "number_sections": true,
   "sideBar": true,
   "skip_h1_title": true,
   "title_cell": "Table of Contents",
   "title_sidebar": "Contents",
   "toc_cell": false,
   "toc_position": {},
   "toc_section_display": true,
   "toc_window_display": false
  }
 },
 "nbformat": 4,
 "nbformat_minor": 2
}
