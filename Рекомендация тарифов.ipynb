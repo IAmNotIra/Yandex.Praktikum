{
 "cells": [
  {
   "cell_type": "markdown",
   "metadata": {},
   "source": [
    "# Рекомендация тарифов"
   ]
  },
  {
   "cell_type": "markdown",
   "metadata": {},
   "source": [
    "В вашем распоряжении данные о поведении клиентов, которые уже перешли на эти тарифы (из проекта курса «Статистический анализ данных»). Нужно построить модель для задачи классификации, которая выберет подходящий тариф. Предобработка данных не понадобится — вы её уже сделали.\n",
    "\n",
    "Постройте модель с максимально большим значением *accuracy*. Чтобы сдать проект успешно, нужно довести долю правильных ответов по крайней мере до 0.75. Проверьте *accuracy* на тестовой выборке самостоятельно.\n",
    "\n",
    "***Инструкция по выполнению проекта***\n",
    "\n",
    "* Разделите исходные данные на обучающую, валидационную и тестовую выборки.\n",
    "* Исследуйте качество разных моделей, меняя гиперпараметры. Кратко напишите выводы исследования.\n",
    "* Проверьте качество модели на тестовой выборке.\n",
    "* Дополнительное задание: проверьте модели на вменяемость. Ничего страшного, если не получится: эти данные сложнее тех, с которыми вы работали раньше. В следующем курсе подробнее об этом расскажем.  \n",
    "\n",
    "***Описание данных***  \n",
    "Каждый объект в наборе данных — это информация о поведении одного пользователя за месяц. Известно:\n",
    "- сalls — количество звонков,\n",
    "- minutes — суммарная длительность звонков в минутах,\n",
    "- messages — количество sms-сообщений,\n",
    "- mb_used — израсходованный интернет-трафик в Мб,\n",
    "- is_ultra — каким тарифом пользовался в течение месяца («Ультра» — 1, «Смарт» — 0)."
   ]
  },
  {
   "cell_type": "markdown",
   "metadata": {},
   "source": [
    "## Откройте и изучите файл"
   ]
  },
  {
   "cell_type": "code",
   "execution_count": 1,
   "metadata": {
    "scrolled": false
   },
   "outputs": [
    {
     "data": {
      "text/html": [
       "<div>\n",
       "<style scoped>\n",
       "    .dataframe tbody tr th:only-of-type {\n",
       "        vertical-align: middle;\n",
       "    }\n",
       "\n",
       "    .dataframe tbody tr th {\n",
       "        vertical-align: top;\n",
       "    }\n",
       "\n",
       "    .dataframe thead th {\n",
       "        text-align: right;\n",
       "    }\n",
       "</style>\n",
       "<table border=\"1\" class=\"dataframe\">\n",
       "  <thead>\n",
       "    <tr style=\"text-align: right;\">\n",
       "      <th></th>\n",
       "      <th>calls</th>\n",
       "      <th>minutes</th>\n",
       "      <th>messages</th>\n",
       "      <th>mb_used</th>\n",
       "      <th>is_ultra</th>\n",
       "    </tr>\n",
       "  </thead>\n",
       "  <tbody>\n",
       "    <tr>\n",
       "      <td>0</td>\n",
       "      <td>40.0</td>\n",
       "      <td>311.90</td>\n",
       "      <td>83.0</td>\n",
       "      <td>19915.42</td>\n",
       "      <td>0</td>\n",
       "    </tr>\n",
       "    <tr>\n",
       "      <td>1</td>\n",
       "      <td>85.0</td>\n",
       "      <td>516.75</td>\n",
       "      <td>56.0</td>\n",
       "      <td>22696.96</td>\n",
       "      <td>0</td>\n",
       "    </tr>\n",
       "    <tr>\n",
       "      <td>2</td>\n",
       "      <td>77.0</td>\n",
       "      <td>467.66</td>\n",
       "      <td>86.0</td>\n",
       "      <td>21060.45</td>\n",
       "      <td>0</td>\n",
       "    </tr>\n",
       "    <tr>\n",
       "      <td>3</td>\n",
       "      <td>106.0</td>\n",
       "      <td>745.53</td>\n",
       "      <td>81.0</td>\n",
       "      <td>8437.39</td>\n",
       "      <td>1</td>\n",
       "    </tr>\n",
       "    <tr>\n",
       "      <td>4</td>\n",
       "      <td>66.0</td>\n",
       "      <td>418.74</td>\n",
       "      <td>1.0</td>\n",
       "      <td>14502.75</td>\n",
       "      <td>0</td>\n",
       "    </tr>\n",
       "  </tbody>\n",
       "</table>\n",
       "</div>"
      ],
      "text/plain": [
       "   calls  minutes  messages   mb_used  is_ultra\n",
       "0   40.0   311.90      83.0  19915.42         0\n",
       "1   85.0   516.75      56.0  22696.96         0\n",
       "2   77.0   467.66      86.0  21060.45         0\n",
       "3  106.0   745.53      81.0   8437.39         1\n",
       "4   66.0   418.74       1.0  14502.75         0"
      ]
     },
     "execution_count": 1,
     "metadata": {},
     "output_type": "execute_result"
    }
   ],
   "source": [
    "import pandas as pd\n",
    "from sklearn.model_selection import train_test_split\n",
    "from sklearn.linear_model import LogisticRegression\n",
    "from sklearn.ensemble import RandomForestClassifier\n",
    "from sklearn.tree import DecisionTreeClassifier\n",
    "from sklearn.metrics import accuracy_score\n",
    "from sklearn.metrics import precision_score\n",
    "from sklearn.metrics import recall_score\n",
    "from sklearn.metrics import f1_score\n",
    "import numpy as np\n",
    "from sklearn.dummy import DummyClassifier\n",
    "\n",
    "df = pd.read_csv('/datasets/users_behavior.csv')\n",
    "df.head()"
   ]
  },
  {
   "cell_type": "code",
   "execution_count": 2,
   "metadata": {},
   "outputs": [
    {
     "name": "stdout",
     "output_type": "stream",
     "text": [
      "<class 'pandas.core.frame.DataFrame'>\n",
      "RangeIndex: 3214 entries, 0 to 3213\n",
      "Data columns (total 5 columns):\n",
      "calls       3214 non-null float64\n",
      "minutes     3214 non-null float64\n",
      "messages    3214 non-null float64\n",
      "mb_used     3214 non-null float64\n",
      "is_ultra    3214 non-null int64\n",
      "dtypes: float64(4), int64(1)\n",
      "memory usage: 125.7 KB\n"
     ]
    }
   ],
   "source": [
    "df.info()"
   ]
  },
  {
   "cell_type": "markdown",
   "metadata": {},
   "source": [
    "Перед нами уже готовые данные, поэтому нет смысла смотреть подробную информацию о датафрейме."
   ]
  },
  {
   "cell_type": "markdown",
   "metadata": {},
   "source": [
    "## Разбейте данные на выборки"
   ]
  },
  {
   "cell_type": "markdown",
   "metadata": {},
   "source": [
    "За целевой признак возьмём столбец 'is_ultra' и разобьём выборку по принципу 60% train (данные для обучения), 20% valid (для валидации модели), 20% test (для применения модели)."
   ]
  },
  {
   "cell_type": "code",
   "execution_count": 3,
   "metadata": {},
   "outputs": [],
   "source": [
    "df_train, df_valid = train_test_split(df, test_size=0.4, random_state=12345)\n",
    "df_valid,df_test = train_test_split(df_valid, test_size=0.5, random_state=12345)"
   ]
  },
  {
   "cell_type": "code",
   "execution_count": 4,
   "metadata": {},
   "outputs": [
    {
     "name": "stdout",
     "output_type": "stream",
     "text": [
      "Размер тренериующей выборки 1928\n",
      "Размер валидационной выборки 643\n",
      "Размер тестовой выборки 643\n"
     ]
    }
   ],
   "source": [
    "# Тренировочные данные\n",
    "features_train = df_train.drop('is_ultra', axis=1)\n",
    "target_train = df_train['is_ultra']\n",
    "# Валидационные данные\n",
    "features_valid = df_valid.drop('is_ultra', axis=1)\n",
    "target_valid = df_valid['is_ultra']\n",
    "# Тестовые данные\n",
    "features_test = df_test.drop('is_ultra', axis=1)\n",
    "target_test = df_test['is_ultra']\n",
    "\n",
    "print('Размер тренериующей выборки', df_train.shape[0])\n",
    "print('Размер валидационной выборки', df_valid.shape[0])\n",
    "print('Размер тестовой выборки', df_test.shape[0])"
   ]
  },
  {
   "cell_type": "markdown",
   "metadata": {},
   "source": [
    "## Исследуйте модели"
   ]
  },
  {
   "cell_type": "markdown",
   "metadata": {},
   "source": [
    "### Исследуем модель Дерево принятия решения (с глубиной до 20 деревьев)"
   ]
  },
  {
   "cell_type": "code",
   "execution_count": 5,
   "metadata": {
    "scrolled": true
   },
   "outputs": [
    {
     "name": "stdout",
     "output_type": "stream",
     "text": [
      "max_depth = 1; accuracy = 0.7542768273716952\n",
      "max_depth = 2; accuracy = 0.7822706065318819\n",
      "max_depth = 3; accuracy = 0.7853810264385692\n",
      "max_depth = 4; accuracy = 0.7791601866251944\n",
      "max_depth = 5; accuracy = 0.7791601866251944\n",
      "max_depth = 6; accuracy = 0.7838258164852255\n",
      "max_depth = 7; accuracy = 0.7822706065318819\n",
      "max_depth = 8; accuracy = 0.7791601866251944\n",
      "max_depth = 9; accuracy = 0.7822706065318819\n",
      "max_depth = 10; accuracy = 0.7744945567651633\n",
      "max_depth = 11; accuracy = 0.7620528771384136\n",
      "max_depth = 12; accuracy = 0.7620528771384136\n",
      "max_depth = 13; accuracy = 0.7558320373250389\n",
      "max_depth = 14; accuracy = 0.7589424572317263\n",
      "max_depth = 15; accuracy = 0.7465007776049767\n",
      "max_depth = 16; accuracy = 0.7340590979782271\n",
      "max_depth = 17; accuracy = 0.7356143079315708\n",
      "max_depth = 18; accuracy = 0.7309486780715396\n",
      "max_depth = 19; accuracy = 0.7278382581648523\n",
      "max_depth = 20; accuracy = 0.7216174183514774\n",
      "Kоличество деревьев 3 Лучшая точность 0.7853810264385692\n"
     ]
    }
   ],
   "source": [
    "best_depth = 0\n",
    "best_accuracy = 0\n",
    "for depth in range(1, 21):\n",
    "    dtc_model = DecisionTreeClassifier(random_state=12345, max_depth=depth)\n",
    "    dtc_model.fit(features_train, target_train)\n",
    "    \n",
    "    dtc_valid_predictions = dtc_model.predict(features_valid)\n",
    "    accuracy = accuracy_score(target_valid, dtc_valid_predictions)\n",
    "    print(f'max_depth = {depth}; accuracy = {accuracy}')\n",
    "    if accuracy > best_accuracy:\n",
    "        best_depth = depth\n",
    "        best_accuracy = accuracy\n",
    "print('Kоличество деревьев', best_depth,'Лучшая точность', best_accuracy) "
   ]
  },
  {
   "cell_type": "markdown",
   "metadata": {},
   "source": [
    "Лучше всего модель себя проявляет при глубине дерева 3."
   ]
  },
  {
   "cell_type": "markdown",
   "metadata": {},
   "source": [
    "### Исследуем модель Случайный лес с количеством estimators от 1 до 20"
   ]
  },
  {
   "cell_type": "code",
   "execution_count": 6,
   "metadata": {
    "scrolled": true
   },
   "outputs": [
    {
     "name": "stdout",
     "output_type": "stream",
     "text": [
      "Количество деревьев 1 Точность 0.7107309486780715\n",
      "Количество деревьев 2 Точность 0.7636080870917574\n",
      "Количество деревьев 3 Точность 0.7387247278382582\n",
      "Количество деревьев 4 Точность 0.7713841368584758\n",
      "Количество деревьев 5 Точность 0.749611197511664\n",
      "Количество деревьев 6 Точность 0.7807153965785381\n",
      "Количество деревьев 7 Точность 0.7682737169517885\n",
      "Количество деревьев 8 Точность 0.7822706065318819\n",
      "Количество деревьев 9 Точность 0.7729393468118196\n",
      "Количество деревьев 10 Точность 0.7853810264385692\n",
      "Количество деревьев 11 Точность 0.7838258164852255\n",
      "Количество деревьев 12 Точность 0.7869362363919129\n",
      "Количество деревьев 13 Точность 0.7822706065318819\n",
      "Количество деревьев 14 Точность 0.7838258164852255\n",
      "Количество деревьев 15 Точность 0.7838258164852255\n",
      "Количество деревьев 16 Точность 0.7869362363919129\n",
      "Количество деревьев 17 Точность 0.7869362363919129\n",
      "Количество деревьев 18 Точность 0.7931570762052877\n",
      "Количество деревьев 19 Точность 0.7884914463452566\n",
      "Количество деревьев 20 Точность 0.7869362363919129\n",
      "Kоличество деревьев 18 Лучшая точность 0.7931570762052877\n"
     ]
    }
   ],
   "source": [
    "best_estim = 0\n",
    "best_accuracy = 0\n",
    "\n",
    "for estim in range(1,21):\n",
    "    model = RandomForestClassifier(random_state=12345, n_estimators=estim)\n",
    "    model.fit(features_train, target_train)\n",
    "    valid_predictions = model.predict(features_valid)\n",
    "    accuracy = accuracy_score(target_valid, valid_predictions)\n",
    "    print('Количество деревьев', estim,'Точность',accuracy)\n",
    "    if accuracy > best_accuracy:\n",
    "        best_estim = estim\n",
    "        best_accuracy = accuracy\n",
    "\n",
    "print('Kоличество деревьев', best_estim,'Лучшая точность', best_accuracy)        "
   ]
  },
  {
   "cell_type": "markdown",
   "metadata": {},
   "source": [
    "Посмотрим, как поведёт себя модель при настройке гиперпараметров."
   ]
  },
  {
   "cell_type": "code",
   "execution_count": 7,
   "metadata": {
    "scrolled": true
   },
   "outputs": [
    {
     "name": "stdout",
     "output_type": "stream",
     "text": [
      "Количество деревьев 1 Точность 0.7776049766718507\n",
      "Количество деревьев 2 Точность 0.7776049766718507\n",
      "Количество деревьев 3 Точность 0.7776049766718507\n",
      "Количество деревьев 4 Точность 0.7776049766718507\n",
      "Количество деревьев 5 Точность 0.7776049766718507\n",
      "Количество деревьев 6 Точность 0.7776049766718507\n",
      "Количество деревьев 7 Точность 0.7776049766718507\n",
      "Количество деревьев 8 Точность 0.7776049766718507\n",
      "Количество деревьев 9 Точность 0.7776049766718507\n",
      "Количество деревьев 10 Точность 0.7776049766718507\n",
      "Количество деревьев 11 Точность 0.7776049766718507\n",
      "Количество деревьев 12 Точность 0.7776049766718507\n",
      "Количество деревьев 13 Точность 0.7776049766718507\n",
      "Количество деревьев 14 Точность 0.7776049766718507\n",
      "Количество деревьев 15 Точность 0.7776049766718507\n",
      "Количество деревьев 16 Точность 0.7776049766718507\n",
      "Количество деревьев 17 Точность 0.7776049766718507\n",
      "Количество деревьев 18 Точность 0.7776049766718507\n",
      "Количество деревьев 19 Точность 0.7776049766718507\n",
      "Количество деревьев 20 Точность 0.7776049766718507\n",
      "Kоличество деревьев 1 Лучшая точность 0.7776049766718507\n"
     ]
    }
   ],
   "source": [
    "best_estim = 0\n",
    "best_accuracy = 0\n",
    "\n",
    "for estim in range(1,21):\n",
    "    model = RandomForestClassifier(random_state=12345, n_estimators=18, criterion='entropy') # изменим criterion с gini на entropy\n",
    "    model.fit(features_train, target_train)\n",
    "    valid_predictions = model.predict(features_valid)\n",
    "    accuracy = accuracy_score(target_valid, valid_predictions)\n",
    "    print('Количество деревьев', estim,'Точность',accuracy)\n",
    "    if accuracy > best_accuracy:\n",
    "        best_estim = estim\n",
    "        best_accuracy = accuracy\n",
    "\n",
    "print('Kоличество деревьев', best_estim,'Лучшая точность', best_accuracy)        "
   ]
  },
  {
   "cell_type": "code",
   "execution_count": 8,
   "metadata": {},
   "outputs": [
    {
     "name": "stdout",
     "output_type": "stream",
     "text": [
      "Количество деревьев 1 Точность 0.7636080870917574\n",
      "Количество деревьев 2 Точность 0.7636080870917574\n",
      "Количество деревьев 3 Точность 0.7636080870917574\n",
      "Количество деревьев 4 Точность 0.7636080870917574\n",
      "Количество деревьев 5 Точность 0.7636080870917574\n",
      "Количество деревьев 6 Точность 0.7636080870917574\n",
      "Количество деревьев 7 Точность 0.7636080870917574\n",
      "Количество деревьев 8 Точность 0.7636080870917574\n",
      "Количество деревьев 9 Точность 0.7636080870917574\n",
      "Количество деревьев 10 Точность 0.7636080870917574\n",
      "Количество деревьев 11 Точность 0.7636080870917574\n",
      "Количество деревьев 12 Точность 0.7636080870917574\n",
      "Количество деревьев 13 Точность 0.7636080870917574\n",
      "Количество деревьев 14 Точность 0.7636080870917574\n",
      "Количество деревьев 15 Точность 0.7636080870917574\n",
      "Количество деревьев 16 Точность 0.7636080870917574\n",
      "Количество деревьев 17 Точность 0.7636080870917574\n",
      "Количество деревьев 18 Точность 0.7636080870917574\n",
      "Количество деревьев 19 Точность 0.7636080870917574\n",
      "Количество деревьев 20 Точность 0.7636080870917574\n",
      "Kоличество деревьев 1 Лучшая точность 0.7636080870917574\n"
     ]
    }
   ],
   "source": [
    "best_estim = 0\n",
    "best_accuracy = 0\n",
    "\n",
    "for estim in range(1,21):\n",
    "    model = RandomForestClassifier(random_state=12345, n_estimators=18, bootstrap=False) # изменим bootstrap с True на Flase\n",
    "    model.fit(features_train, target_train)\n",
    "    valid_predictions = model.predict(features_valid)\n",
    "    accuracy = accuracy_score(target_valid, valid_predictions)\n",
    "    print('Количество деревьев', estim,'Точность',accuracy)\n",
    "    if accuracy > best_accuracy:\n",
    "        best_estim = estim\n",
    "        best_accuracy = accuracy\n",
    "\n",
    "print('Kоличество деревьев', best_estim,'Лучшая точность', best_accuracy)        "
   ]
  },
  {
   "cell_type": "code",
   "execution_count": 9,
   "metadata": {
    "scrolled": false
   },
   "outputs": [
    {
     "name": "stdout",
     "output_type": "stream",
     "text": [
      "Количество деревьев 1 Точность 0.7931570762052877\n",
      "Количество деревьев 2 Точность 0.7931570762052877\n",
      "Количество деревьев 3 Точность 0.7931570762052877\n",
      "Количество деревьев 4 Точность 0.7931570762052877\n",
      "Количество деревьев 5 Точность 0.7931570762052877\n",
      "Количество деревьев 6 Точность 0.7931570762052877\n",
      "Количество деревьев 7 Точность 0.7931570762052877\n",
      "Количество деревьев 8 Точность 0.7931570762052877\n",
      "Количество деревьев 9 Точность 0.7931570762052877\n",
      "Количество деревьев 10 Точность 0.7931570762052877\n",
      "Количество деревьев 11 Точность 0.7931570762052877\n",
      "Количество деревьев 12 Точность 0.7931570762052877\n",
      "Количество деревьев 13 Точность 0.7931570762052877\n",
      "Количество деревьев 14 Точность 0.7931570762052877\n",
      "Количество деревьев 15 Точность 0.7931570762052877\n",
      "Количество деревьев 16 Точность 0.7931570762052877\n",
      "Количество деревьев 17 Точность 0.7931570762052877\n",
      "Количество деревьев 18 Точность 0.7931570762052877\n",
      "Количество деревьев 19 Точность 0.7931570762052877\n",
      "Количество деревьев 20 Точность 0.7931570762052877\n",
      "Kоличество деревьев 1 Лучшая точность 0.7931570762052877\n"
     ]
    }
   ],
   "source": [
    "best_estim = 0\n",
    "best_accuracy = 0\n",
    "\n",
    "for estim in range(1,21):\n",
    "    model = RandomForestClassifier(random_state=12345, n_estimators=18, warm_start=True) # изменим warm_start с False на True\n",
    "    model.fit(features_train, target_train)\n",
    "    valid_predictions = model.predict(features_valid)\n",
    "    accuracy = accuracy_score(target_valid, valid_predictions)\n",
    "    print('Количество деревьев', estim,'Точность',accuracy)\n",
    "    if accuracy > best_accuracy:\n",
    "        best_estim = estim\n",
    "        best_accuracy = accuracy\n",
    "\n",
    "print('Kоличество деревьев', best_estim,'Лучшая точность', best_accuracy)        "
   ]
  },
  {
   "cell_type": "markdown",
   "metadata": {},
   "source": [
    "### Логистическая регрессия"
   ]
  },
  {
   "cell_type": "code",
   "execution_count": 10,
   "metadata": {},
   "outputs": [
    {
     "name": "stdout",
     "output_type": "stream",
     "text": [
      "Точность модели логистической регрессии: 0.7107309486780715\n"
     ]
    }
   ],
   "source": [
    "model_reg = LogisticRegression(random_state=12345,solver='lbfgs')\n",
    "model_reg.fit(features_train,target_train ) \n",
    "result_reg = model_reg.score(features_valid,target_valid ) \n",
    " \n",
    "print(\"Точность модели логистической регрессии:\", result_reg)"
   ]
  },
  {
   "cell_type": "markdown",
   "metadata": {},
   "source": [
    "### Вывод"
   ]
  },
  {
   "cell_type": "markdown",
   "metadata": {},
   "source": [
    "Результаты по выборке:  \n",
    "\n",
    "* DecisionTreeClassifier = max_depth = 3; accuracy = 0.7853810264385692  \n",
    "* RandomForestClassifier = Kоличество деревьев 18 Лучшая точность 0.7931570762052877  \n",
    "* LogisticRegression = Точность модели логистической регрессии: 0.7107309486780715  \n",
    "\n",
    "Наиболее высокий результат на валидационной выборке показали:  \n",
    "\n",
    "* RandomForestClassifier = Kоличество деревьев 18 Лучшая точность 0.7931570762052877   \n",
    "\n",
    "При настройке гиперпараметров entropy и bootstrap=False результаты стали хуже, при изменении warm_start с False на True результат не изменился."
   ]
  },
  {
   "cell_type": "markdown",
   "metadata": {},
   "source": [
    "## Проверьте модель на тестовой выборке"
   ]
  },
  {
   "cell_type": "code",
   "execution_count": 11,
   "metadata": {},
   "outputs": [
    {
     "name": "stdout",
     "output_type": "stream",
     "text": [
      "RandomForestClassifier. n_estimators = 18; accuracy = 0.7853810264385692\n"
     ]
    }
   ],
   "source": [
    "model = RandomForestClassifier(random_state=12345, n_estimators=18, warm_start=True)\n",
    "model.fit(features_train, target_train)\n",
    "predictions = model.predict(features_test)\n",
    "\n",
    "print(f\"RandomForestClassifier. n_estimators = 18; accuracy = {accuracy_score(target_test, predictions)}\")"
   ]
  },
  {
   "cell_type": "code",
   "execution_count": 12,
   "metadata": {
    "scrolled": true
   },
   "outputs": [
    {
     "name": "stdout",
     "output_type": "stream",
     "text": [
      "Точность модели решающего леса на тестовой выборке 0.7325038880248833\n",
      "Точность модели случайного леса на тестовой выборке 0.7853810264385692\n",
      "Точность модели логистической регресиии на тестовой выборке 0.6842923794712286\n"
     ]
    }
   ],
   "source": [
    "test_predictions = dtc_model.predict(features_test)\n",
    "accuracy = accuracy_score(target_test, test_predictions)\n",
    "print('Точность модели решающего леса на тестовой выборке',accuracy)\n",
    "\n",
    "test_predictions = model.predict(features_test)\n",
    "accuracy = accuracy_score(target_test, test_predictions)\n",
    "print('Точность модели случайного леса на тестовой выборке',accuracy)\n",
    "\n",
    "test_predictions = model_reg.predict(features_test)\n",
    "accuracy = accuracy_score(target_test, test_predictions)\n",
    "print('Точность модели логистической регресиии на тестовой выборке',accuracy)"
   ]
  },
  {
   "cell_type": "markdown",
   "metadata": {},
   "source": [
    "Для построения модели для задачи классификации, которая выберет подходящий тариф, будем использовать модель случайного леса с точностью на тестовой выборке 78.5%."
   ]
  },
  {
   "cell_type": "markdown",
   "metadata": {},
   "source": [
    "## (бонус) Проверьте модели на адекватность"
   ]
  },
  {
   "cell_type": "code",
   "execution_count": 13,
   "metadata": {
    "scrolled": true
   },
   "outputs": [
    {
     "name": "stdout",
     "output_type": "stream",
     "text": [
      "Accuracy = 0.7853810264385692 Precision = 0.7018633540372671 Recall = 0.5566502463054187\n"
     ]
    }
   ],
   "source": [
    "test_predictions = model.predict(features_test)\n",
    "accuracy = accuracy_score(target_test, test_predictions)\n",
    "precision = precision_score(target_test, test_predictions)\n",
    "recall = recall_score(target_test, test_predictions)\n",
    "print('Accuracy =', accuracy, 'Precision =', precision, 'Recall =', recall)"
   ]
  },
  {
   "cell_type": "markdown",
   "metadata": {},
   "source": [
    "Для оценки адеватности используется F-мера - среднее гармоническое между precision и recall. "
   ]
  },
  {
   "cell_type": "code",
   "execution_count": 14,
   "metadata": {
    "scrolled": false
   },
   "outputs": [
    {
     "name": "stdout",
     "output_type": "stream",
     "text": [
      "F-мера = 0.6208791208791209\n"
     ]
    }
   ],
   "source": [
    "f_score = f1_score(target_test, test_predictions)\n",
    "print('F-мера =', f_score)"
   ]
  },
  {
   "cell_type": "code",
   "execution_count": 15,
   "metadata": {
    "scrolled": true
   },
   "outputs": [
    {
     "data": {
      "text/plain": [
       "0    0.693528\n",
       "1    0.306472\n",
       "Name: is_ultra, dtype: float64"
      ]
     },
     "execution_count": 15,
     "metadata": {},
     "output_type": "execute_result"
    }
   ],
   "source": [
    "df['is_ultra'].value_counts(normalize=True)"
   ]
  },
  {
   "cell_type": "code",
   "execution_count": 16,
   "metadata": {},
   "outputs": [
    {
     "data": {
      "text/plain": [
       "0.6842923794712286"
      ]
     },
     "execution_count": 16,
     "metadata": {},
     "output_type": "execute_result"
    }
   ],
   "source": [
    "dummy_clf = DummyClassifier(strategy=\"most_frequent\")\n",
    "dummy_clf.fit(features_test, target_test)\n",
    "DummyClassifier(strategy='most_frequent')\n",
    "dummy_clf.predict(features_test)\n",
    "dummy_clf.score(features_test, target_test)"
   ]
  },
  {
   "cell_type": "markdown",
   "metadata": {},
   "source": [
    "## Вывод"
   ]
  },
  {
   "cell_type": "markdown",
   "metadata": {},
   "source": [
    "Учитывая небольшую выборку модель получилась неплохая. Нам удалось добиться accuracy 78.5%. С увеличением количества данных будет расти и обучаемость. Для построения модели для задачи классификации, которая выберет подходящий тариф, мы использовали модель случайного леса с точностью на тестовой выборке 78.5%.  \n",
    "Для проверки модели на адекватность мы взяли несколько методов: F-меру (62%), константу - относительную частоту уникальных значений (69%) и классификатор (68%). Наша модель в трёх проверках оказалась лучше, что говорит о её предсказательных способностях."
   ]
  }
 ],
 "metadata": {
  "ExecuteTimeLog": [
   {
    "duration": 68,
    "start_time": "2022-01-26T16:12:24.756Z"
   },
   {
    "duration": 660,
    "start_time": "2022-01-26T16:12:34.839Z"
   },
   {
    "duration": 30,
    "start_time": "2022-01-26T16:12:43.767Z"
   },
   {
    "duration": 598,
    "start_time": "2022-01-26T16:43:55.758Z"
   },
   {
    "duration": 1034,
    "start_time": "2022-01-27T09:50:52.331Z"
   },
   {
    "duration": 366,
    "start_time": "2022-01-27T09:50:53.366Z"
   },
   {
    "duration": 81,
    "start_time": "2022-01-27T09:50:53.653Z"
   },
   {
    "duration": 8,
    "start_time": "2022-01-27T09:51:55.084Z"
   },
   {
    "duration": 6,
    "start_time": "2022-01-27T09:52:01.852Z"
   },
   {
    "duration": 361,
    "start_time": "2022-01-27T10:00:20.870Z"
   },
   {
    "duration": 377,
    "start_time": "2022-01-27T10:09:42.625Z"
   },
   {
    "duration": 392,
    "start_time": "2022-01-27T10:09:56.270Z"
   },
   {
    "duration": 99,
    "start_time": "2022-01-27T10:10:15.342Z"
   },
   {
    "duration": 311,
    "start_time": "2022-01-27T11:19:18.940Z"
   },
   {
    "duration": 292,
    "start_time": "2022-01-27T11:21:34.776Z"
   },
   {
    "duration": 6,
    "start_time": "2022-01-27T11:22:03.690Z"
   },
   {
    "duration": 103,
    "start_time": "2022-01-27T11:22:06.163Z"
   },
   {
    "duration": 19738,
    "start_time": "2022-01-27T11:22:09.816Z"
   },
   {
    "duration": 19874,
    "start_time": "2022-01-27T11:22:49.319Z"
   },
   {
    "duration": 211,
    "start_time": "2022-01-27T11:24:40.596Z"
   },
   {
    "duration": 1796,
    "start_time": "2022-01-27T11:24:55.092Z"
   },
   {
    "duration": 1939,
    "start_time": "2022-01-27T11:24:59.761Z"
   },
   {
    "duration": 2323,
    "start_time": "2022-01-27T11:25:45.662Z"
   },
   {
    "duration": 1920,
    "start_time": "2022-01-27T11:26:20.740Z"
   },
   {
    "duration": 1933,
    "start_time": "2022-01-27T11:26:55.818Z"
   },
   {
    "duration": 1928,
    "start_time": "2022-01-27T11:27:50.886Z"
   },
   {
    "duration": 878,
    "start_time": "2022-01-27T11:28:14.622Z"
   },
   {
    "duration": 1152,
    "start_time": "2022-01-27T11:29:00.990Z"
   },
   {
    "duration": 943,
    "start_time": "2022-01-27T11:30:07.287Z"
   },
   {
    "duration": 1058,
    "start_time": "2022-01-27T11:32:14.364Z"
   },
   {
    "duration": 1152,
    "start_time": "2022-01-27T11:33:39.326Z"
   },
   {
    "duration": 1154,
    "start_time": "2022-01-27T11:34:43.953Z"
   },
   {
    "duration": 927,
    "start_time": "2022-01-27T11:35:07.595Z"
   },
   {
    "duration": 23,
    "start_time": "2022-01-27T11:40:53.566Z"
   },
   {
    "duration": 101,
    "start_time": "2022-01-27T11:43:08.974Z"
   },
   {
    "duration": 104,
    "start_time": "2022-01-27T11:43:34.275Z"
   },
   {
    "duration": 16,
    "start_time": "2022-01-27T11:47:13.035Z"
   },
   {
    "duration": 23,
    "start_time": "2022-01-27T11:47:20.889Z"
   },
   {
    "duration": 1924,
    "start_time": "2022-01-27T11:48:01.051Z"
   },
   {
    "duration": 1915,
    "start_time": "2022-01-27T11:48:16.856Z"
   },
   {
    "duration": 1458,
    "start_time": "2022-01-27T12:03:28.834Z"
   },
   {
    "duration": 1467,
    "start_time": "2022-01-27T12:06:33.025Z"
   },
   {
    "duration": 1168,
    "start_time": "2022-01-27T12:18:42.697Z"
   },
   {
    "duration": 7,
    "start_time": "2022-01-27T12:18:43.867Z"
   },
   {
    "duration": 17,
    "start_time": "2022-01-27T12:18:43.876Z"
   },
   {
    "duration": 366,
    "start_time": "2022-01-27T12:18:43.895Z"
   },
   {
    "duration": -29,
    "start_time": "2022-01-27T12:18:44.292Z"
   },
   {
    "duration": -32,
    "start_time": "2022-01-27T12:18:44.296Z"
   },
   {
    "duration": -46,
    "start_time": "2022-01-27T12:18:44.311Z"
   },
   {
    "duration": -47,
    "start_time": "2022-01-27T12:18:44.313Z"
   },
   {
    "duration": -49,
    "start_time": "2022-01-27T12:18:44.316Z"
   },
   {
    "duration": -51,
    "start_time": "2022-01-27T12:18:44.319Z"
   },
   {
    "duration": 273,
    "start_time": "2022-01-27T12:20:30.915Z"
   },
   {
    "duration": 112,
    "start_time": "2022-01-27T12:20:42.362Z"
   },
   {
    "duration": 1167,
    "start_time": "2022-01-27T12:20:54.507Z"
   },
   {
    "duration": 7,
    "start_time": "2022-01-27T12:20:55.676Z"
   },
   {
    "duration": 16,
    "start_time": "2022-01-27T12:20:55.685Z"
   },
   {
    "duration": 120,
    "start_time": "2022-01-27T12:20:55.703Z"
   },
   {
    "duration": 909,
    "start_time": "2022-01-27T12:20:55.825Z"
   },
   {
    "duration": 1827,
    "start_time": "2022-01-27T12:20:56.736Z"
   },
   {
    "duration": 1973,
    "start_time": "2022-01-27T12:20:58.564Z"
   },
   {
    "duration": 1552,
    "start_time": "2022-01-27T12:21:00.540Z"
   },
   {
    "duration": 94,
    "start_time": "2022-01-27T12:21:02.098Z"
   },
   {
    "duration": 15,
    "start_time": "2022-01-27T12:21:02.179Z"
   },
   {
    "duration": 1090,
    "start_time": "2022-01-27T12:32:56.604Z"
   },
   {
    "duration": 6,
    "start_time": "2022-01-27T12:32:57.696Z"
   },
   {
    "duration": 6,
    "start_time": "2022-01-27T12:32:57.704Z"
   },
   {
    "duration": 116,
    "start_time": "2022-01-27T12:32:57.712Z"
   },
   {
    "duration": 913,
    "start_time": "2022-01-27T12:32:57.829Z"
   },
   {
    "duration": 1825,
    "start_time": "2022-01-27T12:32:58.744Z"
   },
   {
    "duration": 2072,
    "start_time": "2022-01-27T12:33:00.570Z"
   },
   {
    "duration": 1487,
    "start_time": "2022-01-27T12:33:02.644Z"
   },
   {
    "duration": 22,
    "start_time": "2022-01-27T12:33:04.133Z"
   },
   {
    "duration": 76,
    "start_time": "2022-01-27T12:43:40.217Z"
   },
   {
    "duration": 1146,
    "start_time": "2022-01-27T12:44:03.507Z"
   },
   {
    "duration": 8,
    "start_time": "2022-01-27T12:44:04.655Z"
   },
   {
    "duration": 8,
    "start_time": "2022-01-27T12:44:04.666Z"
   },
   {
    "duration": 118,
    "start_time": "2022-01-27T12:44:04.676Z"
   },
   {
    "duration": 965,
    "start_time": "2022-01-27T12:44:04.799Z"
   },
   {
    "duration": 1895,
    "start_time": "2022-01-27T12:44:05.765Z"
   },
   {
    "duration": 1992,
    "start_time": "2022-01-27T12:44:07.662Z"
   },
   {
    "duration": 1511,
    "start_time": "2022-01-27T12:44:09.656Z"
   },
   {
    "duration": 35,
    "start_time": "2022-01-27T12:44:11.169Z"
   },
   {
    "duration": 93,
    "start_time": "2022-01-27T12:44:11.206Z"
   },
   {
    "duration": 84,
    "start_time": "2022-01-27T12:48:14.247Z"
   },
   {
    "duration": 83,
    "start_time": "2022-01-27T12:48:43.496Z"
   },
   {
    "duration": 79,
    "start_time": "2022-01-27T12:51:35.441Z"
   },
   {
    "duration": 1079,
    "start_time": "2022-01-27T12:51:42.414Z"
   },
   {
    "duration": 7,
    "start_time": "2022-01-27T12:51:43.495Z"
   },
   {
    "duration": 28,
    "start_time": "2022-01-27T12:51:43.504Z"
   },
   {
    "duration": 117,
    "start_time": "2022-01-27T12:51:43.534Z"
   },
   {
    "duration": 905,
    "start_time": "2022-01-27T12:51:43.653Z"
   },
   {
    "duration": 1830,
    "start_time": "2022-01-27T12:51:44.560Z"
   },
   {
    "duration": 1931,
    "start_time": "2022-01-27T12:51:46.392Z"
   },
   {
    "duration": 1519,
    "start_time": "2022-01-27T12:51:48.326Z"
   },
   {
    "duration": 20,
    "start_time": "2022-01-27T12:51:49.846Z"
   },
   {
    "duration": 95,
    "start_time": "2022-01-27T12:51:49.868Z"
   },
   {
    "duration": 367,
    "start_time": "2022-01-27T12:51:49.964Z"
   },
   {
    "duration": 78,
    "start_time": "2022-01-27T12:52:18.871Z"
   },
   {
    "duration": 262,
    "start_time": "2022-01-27T12:56:18.309Z"
   },
   {
    "duration": 13,
    "start_time": "2022-01-27T12:56:24.381Z"
   },
   {
    "duration": 395,
    "start_time": "2022-01-27T13:10:38.042Z"
   },
   {
    "duration": 26,
    "start_time": "2022-01-27T13:13:05.958Z"
   },
   {
    "duration": 282,
    "start_time": "2022-01-27T13:13:10.978Z"
   },
   {
    "duration": 26,
    "start_time": "2022-01-27T13:13:27.590Z"
   },
   {
    "duration": 19,
    "start_time": "2022-01-27T13:13:32.528Z"
   },
   {
    "duration": 27,
    "start_time": "2022-01-27T13:21:32.017Z"
   },
   {
    "duration": 7,
    "start_time": "2022-01-27T13:21:45.356Z"
   },
   {
    "duration": 1075,
    "start_time": "2022-01-28T10:17:31.945Z"
   },
   {
    "duration": 6,
    "start_time": "2022-01-28T10:17:33.021Z"
   },
   {
    "duration": 8,
    "start_time": "2022-01-28T10:17:33.028Z"
   },
   {
    "duration": 94,
    "start_time": "2022-01-28T10:17:33.038Z"
   },
   {
    "duration": 755,
    "start_time": "2022-01-28T10:17:33.134Z"
   },
   {
    "duration": 1518,
    "start_time": "2022-01-28T10:17:33.890Z"
   },
   {
    "duration": 1672,
    "start_time": "2022-01-28T10:17:35.410Z"
   },
   {
    "duration": 1250,
    "start_time": "2022-01-28T10:17:37.083Z"
   },
   {
    "duration": 16,
    "start_time": "2022-01-28T10:17:38.335Z"
   },
   {
    "duration": 79,
    "start_time": "2022-01-28T10:17:38.352Z"
   },
   {
    "duration": 10,
    "start_time": "2022-01-28T10:17:38.432Z"
   },
   {
    "duration": 15,
    "start_time": "2022-01-28T10:17:38.443Z"
   },
   {
    "duration": 19,
    "start_time": "2022-01-28T10:17:38.459Z"
   },
   {
    "duration": 23,
    "start_time": "2022-01-28T10:18:10.211Z"
   },
   {
    "duration": 24,
    "start_time": "2022-01-28T10:18:15.921Z"
   },
   {
    "duration": 5,
    "start_time": "2022-01-28T10:18:20.949Z"
   },
   {
    "duration": 90,
    "start_time": "2022-01-28T10:21:36.640Z"
   },
   {
    "duration": 129,
    "start_time": "2022-01-28T10:22:06.733Z"
   },
   {
    "duration": 1042,
    "start_time": "2022-01-28T10:22:25.263Z"
   },
   {
    "duration": 5,
    "start_time": "2022-01-28T10:22:26.307Z"
   },
   {
    "duration": 6,
    "start_time": "2022-01-28T10:22:26.316Z"
   },
   {
    "duration": 6,
    "start_time": "2022-01-28T10:22:26.323Z"
   },
   {
    "duration": 387,
    "start_time": "2022-01-28T10:22:26.331Z"
   },
   {
    "duration": 67,
    "start_time": "2022-01-28T10:22:26.653Z"
   },
   {
    "duration": 43,
    "start_time": "2022-01-28T10:22:26.678Z"
   },
   {
    "duration": 41,
    "start_time": "2022-01-28T10:22:26.681Z"
   },
   {
    "duration": 34,
    "start_time": "2022-01-28T10:22:26.688Z"
   },
   {
    "duration": 10,
    "start_time": "2022-01-28T10:22:26.713Z"
   },
   {
    "duration": 6,
    "start_time": "2022-01-28T10:22:26.718Z"
   },
   {
    "duration": 1,
    "start_time": "2022-01-28T10:22:26.724Z"
   },
   {
    "duration": -1,
    "start_time": "2022-01-28T10:22:26.727Z"
   },
   {
    "duration": -16,
    "start_time": "2022-01-28T10:22:26.742Z"
   },
   {
    "duration": 131,
    "start_time": "2022-01-28T10:23:27.829Z"
   },
   {
    "duration": 15,
    "start_time": "2022-01-28T10:48:29.872Z"
   },
   {
    "duration": 25,
    "start_time": "2022-01-28T10:57:58.338Z"
   },
   {
    "duration": 7,
    "start_time": "2022-01-28T11:43:27.583Z"
   },
   {
    "duration": 6,
    "start_time": "2022-01-28T11:47:50.690Z"
   },
   {
    "duration": 311,
    "start_time": "2022-01-28T11:48:41.391Z"
   },
   {
    "duration": 1050,
    "start_time": "2022-01-28T11:48:48.749Z"
   },
   {
    "duration": 5,
    "start_time": "2022-01-28T11:48:49.801Z"
   },
   {
    "duration": 6,
    "start_time": "2022-01-28T11:48:49.808Z"
   },
   {
    "duration": 6,
    "start_time": "2022-01-28T11:48:49.816Z"
   },
   {
    "duration": 140,
    "start_time": "2022-01-28T11:48:49.823Z"
   },
   {
    "duration": 777,
    "start_time": "2022-01-28T11:48:49.964Z"
   },
   {
    "duration": 1555,
    "start_time": "2022-01-28T11:48:50.743Z"
   },
   {
    "duration": 1636,
    "start_time": "2022-01-28T11:48:52.300Z"
   },
   {
    "duration": 1244,
    "start_time": "2022-01-28T11:48:53.937Z"
   },
   {
    "duration": 20,
    "start_time": "2022-01-28T11:48:55.183Z"
   },
   {
    "duration": 83,
    "start_time": "2022-01-28T11:48:55.204Z"
   },
   {
    "duration": 11,
    "start_time": "2022-01-28T11:48:55.288Z"
   },
   {
    "duration": 30,
    "start_time": "2022-01-28T11:48:55.300Z"
   },
   {
    "duration": 11,
    "start_time": "2022-01-28T11:48:55.332Z"
   },
   {
    "duration": 24,
    "start_time": "2022-01-28T11:48:55.344Z"
   },
   {
    "duration": 11,
    "start_time": "2022-01-28T11:48:55.369Z"
   },
   {
    "duration": 972,
    "start_time": "2022-01-28T11:56:54.526Z"
   },
   {
    "duration": 5,
    "start_time": "2022-01-28T11:56:55.500Z"
   },
   {
    "duration": 18,
    "start_time": "2022-01-28T11:56:55.507Z"
   },
   {
    "duration": 23,
    "start_time": "2022-01-28T11:56:55.526Z"
   },
   {
    "duration": 152,
    "start_time": "2022-01-28T11:56:55.551Z"
   },
   {
    "duration": 768,
    "start_time": "2022-01-28T11:56:55.704Z"
   },
   {
    "duration": 1576,
    "start_time": "2022-01-28T11:56:56.473Z"
   },
   {
    "duration": 1665,
    "start_time": "2022-01-28T11:56:58.051Z"
   },
   {
    "duration": 1291,
    "start_time": "2022-01-28T11:56:59.718Z"
   },
   {
    "duration": 18,
    "start_time": "2022-01-28T11:57:01.011Z"
   },
   {
    "duration": 84,
    "start_time": "2022-01-28T11:57:01.031Z"
   },
   {
    "duration": 10,
    "start_time": "2022-01-28T11:57:01.117Z"
   },
   {
    "duration": 23,
    "start_time": "2022-01-28T11:57:01.129Z"
   },
   {
    "duration": 28,
    "start_time": "2022-01-28T11:57:01.154Z"
   },
   {
    "duration": 17,
    "start_time": "2022-01-28T11:57:01.184Z"
   },
   {
    "duration": 5,
    "start_time": "2022-01-28T11:57:01.203Z"
   },
   {
    "duration": 1141,
    "start_time": "2022-01-28T12:02:28.970Z"
   },
   {
    "duration": 7,
    "start_time": "2022-01-28T12:02:30.113Z"
   },
   {
    "duration": 7,
    "start_time": "2022-01-28T12:02:30.124Z"
   },
   {
    "duration": 9,
    "start_time": "2022-01-28T12:02:30.132Z"
   },
   {
    "duration": 155,
    "start_time": "2022-01-28T12:02:30.143Z"
   },
   {
    "duration": 822,
    "start_time": "2022-01-28T12:02:30.300Z"
   },
   {
    "duration": 1568,
    "start_time": "2022-01-28T12:02:31.125Z"
   },
   {
    "duration": 1876,
    "start_time": "2022-01-28T12:02:32.695Z"
   },
   {
    "duration": 1316,
    "start_time": "2022-01-28T12:02:34.573Z"
   },
   {
    "duration": 17,
    "start_time": "2022-01-28T12:02:35.891Z"
   },
   {
    "duration": 86,
    "start_time": "2022-01-28T12:02:35.910Z"
   },
   {
    "duration": 14,
    "start_time": "2022-01-28T12:02:35.998Z"
   },
   {
    "duration": 11,
    "start_time": "2022-01-28T12:02:36.014Z"
   },
   {
    "duration": 5,
    "start_time": "2022-01-28T12:02:36.026Z"
   },
   {
    "duration": 9,
    "start_time": "2022-01-28T12:02:36.032Z"
   },
   {
    "duration": 30,
    "start_time": "2022-01-28T12:02:36.043Z"
   }
  ],
  "kernelspec": {
   "display_name": "Python 3 (ipykernel)",
   "language": "python",
   "name": "python3"
  },
  "language_info": {
   "codemirror_mode": {
    "name": "ipython",
    "version": 3
   },
   "file_extension": ".py",
   "mimetype": "text/x-python",
   "name": "python",
   "nbconvert_exporter": "python",
   "pygments_lexer": "ipython3",
   "version": "3.9.5"
  },
  "toc": {
   "base_numbering": 1,
   "nav_menu": {},
   "number_sections": true,
   "sideBar": true,
   "skip_h1_title": true,
   "title_cell": "Table of Contents",
   "title_sidebar": "Contents",
   "toc_cell": false,
   "toc_position": {},
   "toc_section_display": true,
   "toc_window_display": false
  }
 },
 "nbformat": 4,
 "nbformat_minor": 2
}
